{
 "cells": [
  {
   "cell_type": "markdown",
   "id": "8e9f1e1e-4e84-4003-ab22-19a8cd173d0f",
   "metadata": {},
   "source": [
    "# Pattern exploration\n",
    "---"
   ]
  },
  {
   "cell_type": "code",
   "execution_count": 1,
   "id": "b1c5a6ec-436c-4944-845d-4ba551523c2e",
   "metadata": {},
   "outputs": [],
   "source": [
    "from IPython.display import SVG\n",
    "import numpy as np\n",
    "import pickle\n",
    "from scipy import sparse\n",
    "\n",
    "from sknetwork.data import load_netset\n",
    "from sknetwork.topology import get_connected_components\n",
    "from sknetwork.utils import get_degrees\n",
    "from sknetwork.visualization import svg_graph"
   ]
  },
  {
   "cell_type": "code",
   "execution_count": 2,
   "id": "e936460e-edd7-43d6-99b4-6bce1cd077bc",
   "metadata": {},
   "outputs": [],
   "source": [
    "def preprocess_data(biadjacency, names_col, s):\n",
    "    # Frequent attributes\n",
    "    freq_attribute = get_degrees(biadjacency.astype(bool), transpose=True)\n",
    "    index = np.flatnonzero((freq_attribute <= 1000) & (freq_attribute >= s))\n",
    "\n",
    "    # Filter data with index\n",
    "    biadjacency = biadjacency[:, index]\n",
    "    words = names_col[index]\n",
    "    freq_attribute = freq_attribute[index]\n",
    "    \n",
    "    # Sort data\n",
    "    sort_index = np.argsort(freq_attribute)\n",
    "    sorted_biadjacency = biadjacency[:, sort_index]\n",
    "    words = words[sort_index]\n",
    "    return sorted_biadjacency, words\n",
    "\n",
    "def get_pattern(patterns, i):\n",
    "    return patterns[i][0], patterns[i][1]\n",
    "\n",
    "def display_pattern(adjacency, nodes, names, labels):\n",
    "    return SVG(svg_graph(adjacency[nodes, :][:, nodes] + sparse.identity(len(nodes)), names=names[nodes], labels=labels[nodes]))"
   ]
  },
  {
   "cell_type": "markdown",
   "id": "031c8a05-bad2-4759-ad8d-90dfd2207873",
   "metadata": {},
   "source": [
    "## Parameters  \n",
    "\n",
    "Select:\n",
    "- dataset: either `wikivitals`, `wikivitals-fr` or `wikischools`\n",
    "- $s$ and $\\beta$: support parameters (here 5)\n",
    "- order_attributes: initial ordering of attributes (here True)"
   ]
  },
  {
   "cell_type": "code",
   "execution_count": 124,
   "id": "f3b12b0b-b24b-4ba3-bf98-a04dfc20e683",
   "metadata": {},
   "outputs": [],
   "source": [
    "# Parameters for UnexPatterns\n",
    "dataset = 'wikischools'\n",
    "s = 5\n",
    "beta = 5\n",
    "order_attributes = True"
   ]
  },
  {
   "cell_type": "markdown",
   "id": "92df90f2-31ce-48ff-8edc-2e3c21b0b11b",
   "metadata": {},
   "source": [
    "**Load graph data and preprocess it (e.g attribute ordering)**"
   ]
  },
  {
   "cell_type": "code",
   "execution_count": 125,
   "id": "48df9182-fb48-45ed-8242-6cbe7b47f3a7",
   "metadata": {},
   "outputs": [
    {
     "name": "stdout",
     "output_type": "stream",
     "text": [
      "Parsing files...\n",
      "Done.\n"
     ]
    }
   ],
   "source": [
    "graph = load_netset(dataset)\n",
    "adjacency = graph.adjacency\n",
    "biadjacency = graph.biadjacency\n",
    "names = graph.names\n",
    "names_col = graph.names_col\n",
    "labels = graph.labels\n",
    "\n",
    "# Preprocess data (get same attribute order as in UnexPattern)\n",
    "new_biadjacency, words = preprocess_data(biadjacency, names_col, s)"
   ]
  },
  {
   "cell_type": "markdown",
   "id": "6cd606a4-e44e-4800-9615-dfcfcbfb5904",
   "metadata": {},
   "source": [
    "**Load `UnexPatterns` output**"
   ]
  },
  {
   "cell_type": "markdown",
   "id": "900d75a5-8eb5-4d68-a0b7-0b4a19ce37c0",
   "metadata": {},
   "source": [
    "Output of algorithm is a list of patterns, i.e. a list of tuples (nodes, attributes)."
   ]
  },
  {
   "cell_type": "code",
   "execution_count": 126,
   "id": "01b62fba-7d8e-420c-b06d-ccf0dcc10132",
   "metadata": {},
   "outputs": [],
   "source": [
    "with open(f'result_{dataset}_{beta}_{s}_order{str(order_attributes)}.bin', 'rb') as data:\n",
    "    res = pickle.load(data)"
   ]
  },
  {
   "cell_type": "code",
   "execution_count": 127,
   "id": "a67cd1c3-ac37-47c8-9286-641a6750b801",
   "metadata": {},
   "outputs": [
    {
     "name": "stdout",
     "output_type": "stream",
     "text": [
      "Number of patterns found: 2914\n"
     ]
    }
   ],
   "source": [
    "print(f'Number of patterns found: {len(res)}')"
   ]
  },
  {
   "cell_type": "code",
   "execution_count": 128,
   "id": "768a9f53-8252-4bad-ad6a-41a6f19db9ce",
   "metadata": {},
   "outputs": [
    {
     "name": "stdout",
     "output_type": "stream",
     "text": [
      "([933, 935, 1984, 1987, 1995], [2, 6740, 7363, 7839, 8014, 8457, 8640])\n",
      "['Bluegrass music' 'Guitar' 'American popular music' 'Double bass'\n",
      " 'Music of the United States'] ['bluegrass' 'jazz' 'folk' 'genr' 'blue' 'rock' 'music']\n"
     ]
    }
   ],
   "source": [
    "# First pattern (pattern of index 0 is the starting point of lattice)\n",
    "idx = 1 #np.random.choice(len(res))\n",
    "print(res[idx])\n",
    "\n",
    "nodes = res[idx][0]\n",
    "attributes = res[idx][1]\n",
    "print(names[nodes], words[attributes])"
   ]
  },
  {
   "cell_type": "markdown",
   "id": "45a05a72-3a44-4be7-ba46-d0fdb8376371",
   "metadata": {},
   "source": [
    "**Display pattern**"
   ]
  },
  {
   "cell_type": "code",
   "execution_count": 129,
   "id": "2d0f3b1e-efe2-4de8-8750-57402511fcf3",
   "metadata": {},
   "outputs": [
    {
     "name": "stdout",
     "output_type": "stream",
     "text": [
      "Pattern index: 430\n",
      "Attributes: ['iss' 'crew' 'mission' 'flight' 'orbit' 'station' 'launch' 'program'\n",
      " 'space' 'earth' 'intern']\n"
     ]
    },
    {
     "data": {
      "image/svg+xml": [
       "<svg xmlns=\"http://www.w3.org/2000/svg\" width=\"692.0\" height=\"340\">\n",
       "<defs><marker id=\"arrow-gray\" markerWidth=\"10\" markerHeight=\"10\" refX=\"9\" refY=\"3\" orient=\"auto\">\n",
       "<path d=\"M0,0 L0,6 L9,3 z\" fill=\"gray\"/></marker></defs>\n",
       "<path stroke-width=\"1.0\" stroke=\"gray\" d=\"M 289 20 74 42\" marker-end=\"url(#arrow-gray)\"/>\n",
       "<path stroke-width=\"1.0\" stroke=\"gray\" d=\"M 289 20 414 93\" marker-end=\"url(#arrow-gray)\"/>\n",
       "<path stroke-width=\"1.0\" stroke=\"gray\" d=\"M 68 42 283 20\" marker-end=\"url(#arrow-gray)\"/>\n",
       "<path stroke-width=\"1.0\" stroke=\"gray\" d=\"M 139 183 285 25\" marker-end=\"url(#arrow-gray)\"/>\n",
       "<path stroke-width=\"1.0\" stroke=\"gray\" d=\"M 139 183 71 48\" marker-end=\"url(#arrow-gray)\"/>\n",
       "<path stroke-width=\"1.0\" stroke=\"gray\" d=\"M 139 183 24 315\" marker-end=\"url(#arrow-gray)\"/>\n",
       "<path stroke-width=\"1.0\" stroke=\"gray\" d=\"M 139 183 414 98\" marker-end=\"url(#arrow-gray)\"/>\n",
       "<path stroke-width=\"1.0\" stroke=\"gray\" d=\"M 20 320 135 188\" marker-end=\"url(#arrow-gray)\"/>\n",
       "<path stroke-width=\"1.0\" stroke=\"gray\" d=\"M 420 96 295 23\" marker-end=\"url(#arrow-gray)\"/>\n",
       "<path stroke-width=\"1.0\" stroke=\"gray\" d=\"M 420 96 74 43\" marker-end=\"url(#arrow-gray)\"/>\n",
       "<circle cx=\"289\" cy=\"20\" r=\"7.0\" style=\"fill:purple;stroke:black;stroke-width:1.0\"/>\n",
       "<circle cx=\"68\" cy=\"42\" r=\"7.0\" style=\"fill:orange;stroke:black;stroke-width:1.0\"/>\n",
       "<circle cx=\"139\" cy=\"183\" r=\"7.0\" style=\"fill:purple;stroke:black;stroke-width:1.0\"/>\n",
       "<circle cx=\"20\" cy=\"320\" r=\"7.0\" style=\"fill:olive;stroke:black;stroke-width:1.0\"/>\n",
       "<circle cx=\"420\" cy=\"96\" r=\"7.0\" style=\"fill:orange;stroke:black;stroke-width:1.0\"/>\n",
       "<text text-anchor=\"start\" x=\"299\" y=\"20\" font-size=\"12\">Space Shuttle Columbia disaster</text><text text-anchor=\"start\" x=\"78\" y=\"42\" font-size=\"12\">Space Shuttle Columbia</text><text text-anchor=\"start\" x=\"149\" y=\"183\" font-size=\"12\">Space exploration</text><text text-anchor=\"start\" x=\"30\" y=\"320\" font-size=\"12\">Space Race</text><text text-anchor=\"start\" x=\"430\" y=\"96\" font-size=\"12\">Space Shuttle program</text></svg>"
      ],
      "text/plain": [
       "<IPython.core.display.SVG object>"
      ]
     },
     "execution_count": 129,
     "metadata": {},
     "output_type": "execute_result"
    }
   ],
   "source": [
    "# Random pattern\n",
    "idx = np.random.choice(len(res))\n",
    "nodes, attributes = get_pattern(res, idx)\n",
    "\n",
    "print(f'Pattern index: {idx}')\n",
    "print(f'Attributes: {words[attributes]}')\n",
    "\n",
    "# Display pattern\n",
    "display_pattern(adjacency, nodes, names, labels)"
   ]
  },
  {
   "cell_type": "markdown",
   "id": "bfa4ac47-64f4-4db9-bcaa-eb1b0487471a",
   "metadata": {},
   "source": [
    "## Patterns from keywords"
   ]
  },
  {
   "cell_type": "markdown",
   "id": "0fc848c3-d032-43b3-bc5f-71cd7a93f8ee",
   "metadata": {},
   "source": [
    "Select pattern related to specific keywords, i.e. patterns that contain **at least one** keyword in list."
   ]
  },
  {
   "cell_type": "code",
   "execution_count": 130,
   "id": "76663895-d16e-41d3-858c-edaf0e241e87",
   "metadata": {},
   "outputs": [],
   "source": [
    "def get_patterns(patterns, keyword, words):\n",
    "    res = []\n",
    "    for p in patterns:\n",
    "        for w in keywords:\n",
    "            index = np.argwhere(words==w)\n",
    "            if len(index) > 0:\n",
    "                if int(index) in p[1]:\n",
    "                    res.append(p)\n",
    "                    break\n",
    "            else:\n",
    "                raise Exception(f'keyword: {w} is not found.')\n",
    "    return res"
   ]
  },
  {
   "cell_type": "code",
   "execution_count": 131,
   "id": "4a3948ed-b96c-43f9-a640-9d36b194fdbe",
   "metadata": {},
   "outputs": [
    {
     "name": "stdout",
     "output_type": "stream",
     "text": [
      "866\n"
     ]
    }
   ],
   "source": [
    "valid_words = np.unique(np.asarray([words[w] for p in res for w in p[1]]))\n",
    "print(len(valid_words))"
   ]
  },
  {
   "cell_type": "code",
   "execution_count": 132,
   "id": "2871d268-fce8-4720-8322-4432cd56567c",
   "metadata": {},
   "outputs": [
    {
     "name": "stdout",
     "output_type": "stream",
     "text": [
      "Some random words to get inspiration: ['day' 'civil' 'fish' 'tunisia' 'particl' 'nest' 'ciudad' 'gulf'\n",
      " 'american' 'europ' 'show' 'particl' 'king' 'ice' 'separ']\n"
     ]
    }
   ],
   "source": [
    "# Select keywords\n",
    "#print(f'Some random words to get inspiration: {np.random.choice(words, 15)}')\n",
    "print(f'Some random words to get inspiration: {np.random.choice(valid_words, 15)}')"
   ]
  },
  {
   "cell_type": "code",
   "execution_count": 133,
   "id": "4d5f4fb6-2423-4834-be64-6be6b90c41f0",
   "metadata": {},
   "outputs": [],
   "source": [
    "# Chose keywords\n",
    "keywords = ['constellation', 'Oxford']"
   ]
  },
  {
   "cell_type": "code",
   "execution_count": 134,
   "id": "0795f240-0938-44ee-87fb-8b7e6151f7e5",
   "metadata": {},
   "outputs": [
    {
     "ename": "Exception",
     "evalue": "keyword: constellation is not found.",
     "output_type": "error",
     "traceback": [
      "\u001b[0;31m---------------------------------------------------------------------------\u001b[0m",
      "\u001b[0;31mException\u001b[0m                                 Traceback (most recent call last)",
      "Input \u001b[0;32mIn [134]\u001b[0m, in \u001b[0;36m<cell line: 1>\u001b[0;34m()\u001b[0m\n\u001b[0;32m----> 1\u001b[0m kw_patterns \u001b[38;5;241m=\u001b[39m \u001b[43mget_patterns\u001b[49m\u001b[43m(\u001b[49m\u001b[43mres\u001b[49m\u001b[43m,\u001b[49m\u001b[43m \u001b[49m\u001b[43mkeywords\u001b[49m\u001b[43m,\u001b[49m\u001b[43m \u001b[49m\u001b[43mwords\u001b[49m\u001b[43m)\u001b[49m\n\u001b[1;32m      2\u001b[0m \u001b[38;5;28mprint\u001b[39m(\u001b[38;5;124mf\u001b[39m\u001b[38;5;124m'\u001b[39m\u001b[38;5;124mNumber of patterns related to \u001b[39m\u001b[38;5;132;01m{\u001b[39;00mkeywords\u001b[38;5;132;01m}\u001b[39;00m\u001b[38;5;124m: \u001b[39m\u001b[38;5;132;01m{\u001b[39;00m\u001b[38;5;28mlen\u001b[39m(kw_patterns)\u001b[38;5;132;01m}\u001b[39;00m\u001b[38;5;124m'\u001b[39m)\n",
      "Input \u001b[0;32mIn [130]\u001b[0m, in \u001b[0;36mget_patterns\u001b[0;34m(patterns, keyword, words)\u001b[0m\n\u001b[1;32m      9\u001b[0m                 \u001b[38;5;28;01mbreak\u001b[39;00m\n\u001b[1;32m     10\u001b[0m         \u001b[38;5;28;01melse\u001b[39;00m:\n\u001b[0;32m---> 11\u001b[0m             \u001b[38;5;28;01mraise\u001b[39;00m \u001b[38;5;167;01mException\u001b[39;00m(\u001b[38;5;124mf\u001b[39m\u001b[38;5;124m'\u001b[39m\u001b[38;5;124mkeyword: \u001b[39m\u001b[38;5;132;01m{\u001b[39;00mw\u001b[38;5;132;01m}\u001b[39;00m\u001b[38;5;124m is not found.\u001b[39m\u001b[38;5;124m'\u001b[39m)\n\u001b[1;32m     12\u001b[0m \u001b[38;5;28;01mreturn\u001b[39;00m res\n",
      "\u001b[0;31mException\u001b[0m: keyword: constellation is not found."
     ]
    }
   ],
   "source": [
    "kw_patterns = get_patterns(res, keywords, words)\n",
    "print(f'Number of patterns related to {keywords}: {len(kw_patterns)}')"
   ]
  },
  {
   "cell_type": "code",
   "execution_count": null,
   "id": "b1e66938-2f55-487d-8d46-23ab249ccb0d",
   "metadata": {},
   "outputs": [],
   "source": [
    "first_pattern = get_pattern(kw_patterns, 0)\n",
    "\n",
    "print(f'Attributes of patter: {words[first_pattern[1]]}')\n",
    "display_pattern(adjacency, first_pattern[0], names, labels)"
   ]
  },
  {
   "cell_type": "code",
   "execution_count": 135,
   "id": "8c8730e2-a912-412d-8b50-cae5a8d9795a",
   "metadata": {},
   "outputs": [
    {
     "ename": "IndexError",
     "evalue": "index 15017 is out of bounds for axis 0 with size 8942",
     "output_type": "error",
     "traceback": [
      "\u001b[0;31m---------------------------------------------------------------------------\u001b[0m",
      "\u001b[0;31mIndexError\u001b[0m                                Traceback (most recent call last)",
      "Input \u001b[0;32mIn [135]\u001b[0m, in \u001b[0;36m<cell line: 4>\u001b[0;34m()\u001b[0m\n\u001b[1;32m      1\u001b[0m idx \u001b[38;5;241m=\u001b[39m np\u001b[38;5;241m.\u001b[39mrandom\u001b[38;5;241m.\u001b[39mchoice(\u001b[38;5;28mlen\u001b[39m(kw_patterns))\n\u001b[1;32m      2\u001b[0m rand_pattern \u001b[38;5;241m=\u001b[39m get_pattern(kw_patterns, idx)\n\u001b[0;32m----> 4\u001b[0m \u001b[38;5;28mprint\u001b[39m(\u001b[38;5;124mf\u001b[39m\u001b[38;5;124m'\u001b[39m\u001b[38;5;124mAttributes of pattern \u001b[39m\u001b[38;5;132;01m{\u001b[39;00midx\u001b[38;5;132;01m}\u001b[39;00m\u001b[38;5;124m/\u001b[39m\u001b[38;5;132;01m{\u001b[39;00m\u001b[38;5;28mlen\u001b[39m(kw_patterns)\u001b[38;5;241m-\u001b[39m\u001b[38;5;241m1\u001b[39m\u001b[38;5;132;01m}\u001b[39;00m\u001b[38;5;124m: \u001b[39m\u001b[38;5;132;01m{\u001b[39;00mwords[rand_pattern[\u001b[38;5;241m1\u001b[39m]]\u001b[38;5;132;01m}\u001b[39;00m\u001b[38;5;124m'\u001b[39m)\n\u001b[1;32m      5\u001b[0m display_pattern(adjacency, rand_pattern[\u001b[38;5;241m0\u001b[39m], names, labels)\n",
      "\u001b[0;31mIndexError\u001b[0m: index 15017 is out of bounds for axis 0 with size 8942"
     ]
    }
   ],
   "source": [
    "idx = np.random.choice(len(kw_patterns))\n",
    "rand_pattern = get_pattern(kw_patterns, idx)\n",
    "\n",
    "print(f'Attributes of pattern {idx}/{len(kw_patterns)-1}: {words[rand_pattern[1]]}')\n",
    "display_pattern(adjacency, rand_pattern[0], names, labels)"
   ]
  },
  {
   "cell_type": "markdown",
   "id": "54b6426f-fd36-46a2-93bb-e780cffd102b",
   "metadata": {},
   "source": [
    "## Pattern summaries from keywords "
   ]
  },
  {
   "cell_type": "code",
   "execution_count": 136,
   "id": "2e674bae-a1e8-4e0d-ac98-542dab05cf8d",
   "metadata": {},
   "outputs": [],
   "source": [
    "def get_summarized_graph(adjacency, patterns):\n",
    "    \"\"\"Get summarized graph given patterns and original adjacency matrix.\"\"\"\n",
    "    \n",
    "    rows, cols = [], []\n",
    "\n",
    "    for p in patterns:\n",
    "\n",
    "        # exclude first element of lattice \n",
    "        if len(p[1]) > 0:\n",
    "            nodes = sorted(p[0])\n",
    "            idx = 0\n",
    "            idx_nodes = np.array([-1] * len(nodes)) # number of unique nodes from concepts\n",
    "            # reindex nodes\n",
    "            for n in nodes:\n",
    "                if n not in idx_nodes:\n",
    "                    idx_nodes[idx] = n\n",
    "                    idx += 1\n",
    "            \n",
    "            # Record edges from subgraph related to concept\n",
    "            adj_pattern = adjacency[nodes, :][:, nodes].tocoo()\n",
    "            reindex_rows = [int(idx_nodes[src]) for src in adj_pattern.row]\n",
    "            reindex_cols = [int(idx_nodes[dst]) for dst in adj_pattern.col]\n",
    "            rows += reindex_rows\n",
    "            cols += reindex_cols\n",
    "            \n",
    "    return sparse.coo_matrix((np.ones(len(rows)), (rows, cols)), shape=adjacency.shape).tocsr()\n",
    "\n",
    "def get_summarized_biadjacency(adjacency, biadjacency, patterns):\n",
    "    summarized_biadj = np.zeros((adjacency.shape[0], biadjacency.shape[1]))\n",
    "    for p in patterns:\n",
    "        if len(p[1]) > 0:\n",
    "            for node in p[0]:\n",
    "                summarized_biadj[node, p[1]] += 1\n",
    "\n",
    "    summarized_biadj = sparse.csr_matrix(summarized_biadj.astype(bool), shape=summarized_biadj.shape)\n",
    "    return summarized_biadj"
   ]
  },
  {
   "cell_type": "code",
   "execution_count": 137,
   "id": "49beacdb-0742-40b3-a15f-2d866e380946",
   "metadata": {},
   "outputs": [],
   "source": [
    "def display_pattern_summary(summarized_adjacency, summarized_biadjacency, mask, labels_cc, idx, names, names_col, labels):\n",
    "    mask_cc = labels_cc == idx\n",
    "    g = summarized_adjacency[mask, :][:, mask]\n",
    "    g_cc = g[mask_cc, :][:, mask_cc]\n",
    "    \n",
    "    attributes = np.unique(summarized_biadj[mask, :][mask_cc, :].indices)\n",
    "    print(f'Attributes: {names_col[attributes]}')\n",
    "    \n",
    "    return SVG(svg_graph(g_cc + sparse.identity(g_cc.shape[0]), names=names[mask][mask_cc], \n",
    "              edge_width_min=0.5, edge_width_max=0.5, width=500, height=500, labels=labels[mask][mask_cc]))"
   ]
  },
  {
   "cell_type": "markdown",
   "id": "05ebf77a-fe2a-42f8-8405-abcc829a604b",
   "metadata": {},
   "source": [
    "**Summarized graph**"
   ]
  },
  {
   "cell_type": "code",
   "execution_count": 138,
   "id": "2c828dd8-6896-4a31-8633-0ffe2706cbf3",
   "metadata": {},
   "outputs": [
    {
     "data": {
      "text/plain": [
       "<4403x4403 sparse matrix of type '<class 'numpy.float64'>'\n",
       "\twith 1665 stored elements in Compressed Sparse Row format>"
      ]
     },
     "execution_count": 138,
     "metadata": {},
     "output_type": "execute_result"
    }
   ],
   "source": [
    "# Build summarized adjacency matrix, i.e. adjacency matrix of the union of all patterns found with UnexPatterns\n",
    "summarized_adj = get_summarized_graph(adjacency, res)\n",
    "summarized_adj"
   ]
  },
  {
   "cell_type": "code",
   "execution_count": 139,
   "id": "3240fa69-84bd-4855-9238-3f9e5e186cb0",
   "metadata": {},
   "outputs": [
    {
     "data": {
      "text/plain": [
       "<4403x20527 sparse matrix of type '<class 'numpy.bool_'>'\n",
       "\twith 10813 stored elements in Compressed Sparse Row format>"
      ]
     },
     "execution_count": 139,
     "metadata": {},
     "output_type": "execute_result"
    }
   ],
   "source": [
    "# Build summarized biadjacency matrix\n",
    "summarized_biadj = get_summarized_biadjacency(adjacency, biadjacency, res)\n",
    "summarized_biadj"
   ]
  },
  {
   "cell_type": "markdown",
   "id": "f5b2d1d7-fab6-4e3f-8d1c-09eaa61795b5",
   "metadata": {},
   "source": [
    "**Pattern summaries**"
   ]
  },
  {
   "cell_type": "code",
   "execution_count": 140,
   "id": "7599517d-9579-4876-b1a3-b39ddae33035",
   "metadata": {},
   "outputs": [
    {
     "name": "stdout",
     "output_type": "stream",
     "text": [
      "Number of pattern summaries: 73\n"
     ]
    }
   ],
   "source": [
    "# Summarized graph filtered on used nodes\n",
    "mask = np.flatnonzero(summarized_adj.dot(np.ones(summarized_adj.shape[1])))\n",
    "\n",
    "# Number of connected components (NOT considering isolated nodes)\n",
    "labels_cc_summarized = get_connected_components(summarized_adj[mask, :][:, mask])\n",
    "nb_cc = len(np.unique(labels_cc_summarized)) \n",
    "\n",
    "print(f'Number of pattern summaries: {nb_cc}')"
   ]
  },
  {
   "cell_type": "code",
   "execution_count": 183,
   "id": "0dd34d80-8272-401f-8d6d-29dcff920afa",
   "metadata": {},
   "outputs": [
    {
     "name": "stdout",
     "output_type": "stream",
     "text": [
      "Pattern summary: 9\n",
      "Attributes: ['triumvir' 'eleanor' 'pare' 'diocletian' 'becket' 'plantagenet' 'actium'\n",
      " 'primu' 'cleopatra' 'nicen' 'octavian' 'justinian' 'anjou' 'barbarian'\n",
      " 'ptolema' 'marcu' 'creed' 'antoni' 'geoffrey' 'inter' 'archbishop'\n",
      " 'canterburi' 'caesar' 'normandi' 'augustu' 'juliu' 'dictat' 'jesu'\n",
      " 'assassin' 'duke' 'rebellion' 'heir' 'inherit' 'alexand' 'senat' 'antiqu'\n",
      " 'wife' 'agre' 'throne' 'richard' 'rome' 'thoma' 'iii' 'emperor'\n",
      " 'mediterranean' 'egypt' 'brother' 'equal' 'itali' 'henri' 'reign' 'young'\n",
      " 'victori' 'provinc' 'father' 'peac' 'bc' 'surviv' 'church' 'son' 'whose'\n",
      " 'william' 'claim' 'defeat' 'battl' 'final' 'christian' 'ad' 'mark'\n",
      " 'franc' 'die' 'latin' 'art' 'middl' 'king' 'greek' 'author' 'roman'\n",
      " 'england' 'civil' 'eastern' 'ii' 'republ' 'control' 'ancient' 'five'\n",
      " 'militari' 'support' 'empir' 'africa' 'forc' 'tradit' 'death' 'land'\n",
      " 'success' 'last' 'late' 'began' 'age' 'base' 'kingdom' 'english' 'great'\n",
      " 'europ' 'western' 'west' 'led' 'among' 'east' 'end' 'polit' 'second'\n",
      " 'power' 'term' 'period' 'modern' 'war' 'follow' 'becam']\n"
     ]
    },
    {
     "data": {
      "image/svg+xml": [
       "<svg xmlns=\"http://www.w3.org/2000/svg\" width=\"936.0\" height=\"540\">\n",
       "<defs><marker id=\"arrow-gray\" markerWidth=\"10\" markerHeight=\"10\" refX=\"9\" refY=\"3\" orient=\"auto\">\n",
       "<path d=\"M0,0 L0,6 L9,3 z\" fill=\"gray\"/></marker></defs>\n",
       "<path stroke-width=\"0.5\" stroke=\"gray\" d=\"M 114 362 67 354\" marker-end=\"url(#arrow-gray)\"/>\n",
       "<path stroke-width=\"0.5\" stroke=\"gray\" d=\"M 120 520 207 490\" marker-end=\"url(#arrow-gray)\"/>\n",
       "<path stroke-width=\"0.5\" stroke=\"gray\" d=\"M 61 353 61 345\" marker-end=\"url(#arrow-gray)\"/>\n",
       "<path stroke-width=\"0.5\" stroke=\"gray\" d=\"M 61 353 108 361\" marker-end=\"url(#arrow-gray)\"/>\n",
       "<path stroke-width=\"0.5\" stroke=\"gray\" d=\"M 429 248 372 321\" marker-end=\"url(#arrow-gray)\"/>\n",
       "<path stroke-width=\"0.5\" stroke=\"gray\" d=\"M 20 359 55 342\" marker-end=\"url(#arrow-gray)\"/>\n",
       "<path stroke-width=\"0.5\" stroke=\"gray\" d=\"M 20 359 108 362\" marker-end=\"url(#arrow-gray)\"/>\n",
       "<path stroke-width=\"0.5\" stroke=\"gray\" d=\"M 20 359 55 353\" marker-end=\"url(#arrow-gray)\"/>\n",
       "<path stroke-width=\"0.5\" stroke=\"gray\" d=\"M 414 380 340 399\" marker-end=\"url(#arrow-gray)\"/>\n",
       "<path stroke-width=\"0.5\" stroke=\"gray\" d=\"M 519 20 487 72\" marker-end=\"url(#arrow-gray)\"/>\n",
       "<path stroke-width=\"0.5\" stroke=\"gray\" d=\"M 114 362 328 399\" marker-end=\"url(#arrow-gray)\"/>\n",
       "<path stroke-width=\"0.5\" stroke=\"gray\" d=\"M 114 362 206 388\" marker-end=\"url(#arrow-gray)\"/>\n",
       "<path stroke-width=\"0.5\" stroke=\"gray\" d=\"M 368 402 366 405\" marker-end=\"url(#arrow-gray)\"/>\n",
       "<path stroke-width=\"0.5\" stroke=\"gray\" d=\"M 368 402 408 383\" marker-end=\"url(#arrow-gray)\"/>\n",
       "<path stroke-width=\"0.5\" stroke=\"gray\" d=\"M 380 419 340 402\" marker-end=\"url(#arrow-gray)\"/>\n",
       "<path stroke-width=\"0.5\" stroke=\"gray\" d=\"M 380 419 385 415\" marker-end=\"url(#arrow-gray)\"/>\n",
       "<path stroke-width=\"0.5\" stroke=\"gray\" d=\"M 380 419 372 407\" marker-end=\"url(#arrow-gray)\"/>\n",
       "<path stroke-width=\"0.5\" stroke=\"gray\" d=\"M 114 362 59 328\" marker-end=\"url(#arrow-gray)\"/>\n",
       "<path stroke-width=\"0.5\" stroke=\"gray\" d=\"M 380 419 370 414\" marker-end=\"url(#arrow-gray)\"/>\n",
       "<path stroke-width=\"0.5\" stroke=\"gray\" d=\"M 364 411 366 408\" marker-end=\"url(#arrow-gray)\"/>\n",
       "<path stroke-width=\"0.5\" stroke=\"gray\" d=\"M 364 411 374 416\" marker-end=\"url(#arrow-gray)\"/>\n",
       "<path stroke-width=\"0.5\" stroke=\"gray\" d=\"M 284 496 244 456\" marker-end=\"url(#arrow-gray)\"/>\n",
       "<path stroke-width=\"0.5\" stroke=\"gray\" d=\"M 114 362 67 341\" marker-end=\"url(#arrow-gray)\"/>\n",
       "<path stroke-width=\"0.5\" stroke=\"gray\" d=\"M 364 411 383 410\" marker-end=\"url(#arrow-gray)\"/>\n",
       "<path stroke-width=\"0.5\" stroke=\"gray\" d=\"M 519 20 478 60\" marker-end=\"url(#arrow-gray)\"/>\n",
       "<path stroke-width=\"0.5\" stroke=\"gray\" d=\"M 381 363 339 396\" marker-end=\"url(#arrow-gray)\"/>\n",
       "<path stroke-width=\"0.5\" stroke=\"gray\" d=\"M 240 452 280 492\" marker-end=\"url(#arrow-gray)\"/>\n",
       "<path stroke-width=\"0.5\" stroke=\"gray\" d=\"M 240 452 119 366\" marker-end=\"url(#arrow-gray)\"/>\n",
       "<path stroke-width=\"0.5\" stroke=\"gray\" d=\"M 394 399 340 400\" marker-end=\"url(#arrow-gray)\"/>\n",
       "<path stroke-width=\"0.5\" stroke=\"gray\" d=\"M 394 399 391 404\" marker-end=\"url(#arrow-gray)\"/>\n",
       "<path stroke-width=\"0.5\" stroke=\"gray\" d=\"M 394 399 374 402\" marker-end=\"url(#arrow-gray)\"/>\n",
       "<path stroke-width=\"0.5\" stroke=\"gray\" d=\"M 240 452 328 403\" marker-end=\"url(#arrow-gray)\"/>\n",
       "<path stroke-width=\"0.5\" stroke=\"gray\" d=\"M 394 399 383 414\" marker-end=\"url(#arrow-gray)\"/>\n",
       "<path stroke-width=\"0.5\" stroke=\"gray\" d=\"M 394 399 409 384\" marker-end=\"url(#arrow-gray)\"/>\n",
       "<path stroke-width=\"0.5\" stroke=\"gray\" d=\"M 32 307 57 334\" marker-end=\"url(#arrow-gray)\"/>\n",
       "<path stroke-width=\"0.5\" stroke=\"gray\" d=\"M 520 134 487 82\" marker-end=\"url(#arrow-gray)\"/>\n",
       "<path stroke-width=\"0.5\" stroke=\"gray\" d=\"M 520 134 433 243\" marker-end=\"url(#arrow-gray)\"/>\n",
       "<path stroke-width=\"0.5\" stroke=\"gray\" d=\"M 394 399 370 409\" marker-end=\"url(#arrow-gray)\"/>\n",
       "<path stroke-width=\"0.5\" stroke=\"gray\" d=\"M 355 133 356 137\" marker-end=\"url(#arrow-gray)\"/>\n",
       "<path stroke-width=\"0.5\" stroke=\"gray\" d=\"M 355 133 340 138\" marker-end=\"url(#arrow-gray)\"/>\n",
       "<path stroke-width=\"0.5\" stroke=\"gray\" d=\"M 473 64 480 72\" marker-end=\"url(#arrow-gray)\"/>\n",
       "<path stroke-width=\"0.5\" stroke=\"gray\" d=\"M 501 177 418 144\" marker-end=\"url(#arrow-gray)\"/>\n",
       "<path stroke-width=\"0.5\" stroke=\"gray\" d=\"M 281 112 314 119\" marker-end=\"url(#arrow-gray)\"/>\n",
       "<path stroke-width=\"0.5\" stroke=\"gray\" d=\"M 356 143 381 138\" marker-end=\"url(#arrow-gray)\"/>\n",
       "<path stroke-width=\"0.5\" stroke=\"gray\" d=\"M 356 143 340 140\" marker-end=\"url(#arrow-gray)\"/>\n",
       "<path stroke-width=\"0.5\" stroke=\"gray\" d=\"M 356 143 355 139\" marker-end=\"url(#arrow-gray)\"/>\n",
       "<path stroke-width=\"0.5\" stroke=\"gray\" d=\"M 320 120 381 136\" marker-end=\"url(#arrow-gray)\"/>\n",
       "<path stroke-width=\"0.5\" stroke=\"gray\" d=\"M 320 120 287 113\" marker-end=\"url(#arrow-gray)\"/>\n",
       "<path stroke-width=\"0.5\" stroke=\"gray\" d=\"M 355 133 381 137\" marker-end=\"url(#arrow-gray)\"/>\n",
       "<path stroke-width=\"0.5\" stroke=\"gray\" d=\"M 368 402 376 414\" marker-end=\"url(#arrow-gray)\"/>\n",
       "<path stroke-width=\"0.5\" stroke=\"gray\" d=\"M 520 134 476 69\" marker-end=\"url(#arrow-gray)\"/>\n",
       "<path stroke-width=\"0.5\" stroke=\"gray\" d=\"M 368 402 340 400\" marker-end=\"url(#arrow-gray)\"/>\n",
       "<path stroke-width=\"0.5\" stroke=\"gray\" d=\"M 387 137 479 80\" marker-end=\"url(#arrow-gray)\"/>\n",
       "<path stroke-width=\"0.5\" stroke=\"gray\" d=\"M 387 137 406 141\" marker-end=\"url(#arrow-gray)\"/>\n",
       "<path stroke-width=\"0.5\" stroke=\"gray\" d=\"M 387 137 468 68\" marker-end=\"url(#arrow-gray)\"/>\n",
       "<path stroke-width=\"0.5\" stroke=\"gray\" d=\"M 387 137 495 175\" marker-end=\"url(#arrow-gray)\"/>\n",
       "<path stroke-width=\"0.5\" stroke=\"gray\" d=\"M 387 137 362 142\" marker-end=\"url(#arrow-gray)\"/>\n",
       "<path stroke-width=\"0.5\" stroke=\"gray\" d=\"M 387 137 361 133\" marker-end=\"url(#arrow-gray)\"/>\n",
       "<path stroke-width=\"0.5\" stroke=\"gray\" d=\"M 387 137 400 147\" marker-end=\"url(#arrow-gray)\"/>\n",
       "<path stroke-width=\"0.5\" stroke=\"gray\" d=\"M 405 151 392 141\" marker-end=\"url(#arrow-gray)\"/>\n",
       "<path stroke-width=\"0.5\" stroke=\"gray\" d=\"M 405 151 408 147\" marker-end=\"url(#arrow-gray)\"/>\n",
       "<path stroke-width=\"0.5\" stroke=\"gray\" d=\"M 405 151 495 176\" marker-end=\"url(#arrow-gray)\"/>\n",
       "<path stroke-width=\"0.5\" stroke=\"gray\" d=\"M 334 139 381 137\" marker-end=\"url(#arrow-gray)\"/>\n",
       "<path stroke-width=\"0.5\" stroke=\"gray\" d=\"M 334 139 350 142\" marker-end=\"url(#arrow-gray)\"/>\n",
       "<path stroke-width=\"0.5\" stroke=\"gray\" d=\"M 334 139 349 134\" marker-end=\"url(#arrow-gray)\"/>\n",
       "<path stroke-width=\"0.5\" stroke=\"gray\" d=\"M 484 77 392 134\" marker-end=\"url(#arrow-gray)\"/>\n",
       "<path stroke-width=\"0.5\" stroke=\"gray\" d=\"M 54 325 58 333\" marker-end=\"url(#arrow-gray)\"/>\n",
       "<path stroke-width=\"0.5\" stroke=\"gray\" d=\"M 61 339 108 360\" marker-end=\"url(#arrow-gray)\"/>\n",
       "<path stroke-width=\"0.5\" stroke=\"gray\" d=\"M 61 339 61 347\" marker-end=\"url(#arrow-gray)\"/>\n",
       "<path stroke-width=\"0.5\" stroke=\"gray\" d=\"M 335 422 334 406\" marker-end=\"url(#arrow-gray)\"/>\n",
       "<path stroke-width=\"0.5\" stroke=\"gray\" d=\"M 335 422 383 411\" marker-end=\"url(#arrow-gray)\"/>\n",
       "<path stroke-width=\"0.5\" stroke=\"gray\" d=\"M 335 422 362 405\" marker-end=\"url(#arrow-gray)\"/>\n",
       "<path stroke-width=\"0.5\" stroke=\"gray\" d=\"M 335 422 374 419\" marker-end=\"url(#arrow-gray)\"/>\n",
       "<path stroke-width=\"0.5\" stroke=\"gray\" d=\"M 212 389 207 418\" marker-end=\"url(#arrow-gray)\"/>\n",
       "<path stroke-width=\"0.5\" stroke=\"gray\" d=\"M 212 389 328 400\" marker-end=\"url(#arrow-gray)\"/>\n",
       "<path stroke-width=\"0.5\" stroke=\"gray\" d=\"M 206 424 211 395\" marker-end=\"url(#arrow-gray)\"/>\n",
       "<path stroke-width=\"0.5\" stroke=\"gray\" d=\"M 206 424 328 401\" marker-end=\"url(#arrow-gray)\"/>\n",
       "<path stroke-width=\"0.5\" stroke=\"gray\" d=\"M 335 422 358 413\" marker-end=\"url(#arrow-gray)\"/>\n",
       "<path stroke-width=\"0.5\" stroke=\"gray\" d=\"M 484 77 516 25\" marker-end=\"url(#arrow-gray)\"/>\n",
       "<path stroke-width=\"0.5\" stroke=\"gray\" d=\"M 484 77 477 69\" marker-end=\"url(#arrow-gray)\"/>\n",
       "<path stroke-width=\"0.5\" stroke=\"gray\" d=\"M 286 457 284 490\" marker-end=\"url(#arrow-gray)\"/>\n",
       "<path stroke-width=\"0.5\" stroke=\"gray\" d=\"M 334 400 218 389\" marker-end=\"url(#arrow-gray)\"/>\n",
       "<path stroke-width=\"0.5\" stroke=\"gray\" d=\"M 334 400 383 409\" marker-end=\"url(#arrow-gray)\"/>\n",
       "<path stroke-width=\"0.5\" stroke=\"gray\" d=\"M 334 400 362 402\" marker-end=\"url(#arrow-gray)\"/>\n",
       "<path stroke-width=\"0.5\" stroke=\"gray\" d=\"M 334 400 374 417\" marker-end=\"url(#arrow-gray)\"/>\n",
       "<path stroke-width=\"0.5\" stroke=\"gray\" d=\"M 334 400 358 409\" marker-end=\"url(#arrow-gray)\"/>\n",
       "<path stroke-width=\"0.5\" stroke=\"gray\" d=\"M 334 400 246 449\" marker-end=\"url(#arrow-gray)\"/>\n",
       "<path stroke-width=\"0.5\" stroke=\"gray\" d=\"M 389 410 340 401\" marker-end=\"url(#arrow-gray)\"/>\n",
       "<path stroke-width=\"0.5\" stroke=\"gray\" d=\"M 389 410 374 404\" marker-end=\"url(#arrow-gray)\"/>\n",
       "<path stroke-width=\"0.5\" stroke=\"gray\" d=\"M 389 410 384 414\" marker-end=\"url(#arrow-gray)\"/>\n",
       "<path stroke-width=\"0.5\" stroke=\"gray\" d=\"M 389 410 370 411\" marker-end=\"url(#arrow-gray)\"/>\n",
       "<path stroke-width=\"0.5\" stroke=\"gray\" d=\"M 334 400 120 363\" marker-end=\"url(#arrow-gray)\"/>\n",
       "<path stroke-width=\"0.5\" stroke=\"gray\" d=\"M 286 457 219 486\" marker-end=\"url(#arrow-gray)\"/>\n",
       "<path stroke-width=\"0.5\" stroke=\"gray\" d=\"M 213 488 280 459\" marker-end=\"url(#arrow-gray)\"/>\n",
       "<path stroke-width=\"0.5\" stroke=\"gray\" d=\"M 412 142 393 138\" marker-end=\"url(#arrow-gray)\"/>\n",
       "<path stroke-width=\"0.5\" stroke=\"gray\" d=\"M 412 142 409 146\" marker-end=\"url(#arrow-gray)\"/>\n",
       "<path stroke-width=\"0.5\" stroke=\"gray\" d=\"M 412 142 495 175\" marker-end=\"url(#arrow-gray)\"/>\n",
       "<path stroke-width=\"0.5\" stroke=\"gray\" d=\"M 384 189 387 143\" marker-end=\"url(#arrow-gray)\"/>\n",
       "<path stroke-width=\"0.5\" stroke=\"gray\" d=\"M 462 173 393 139\" marker-end=\"url(#arrow-gray)\"/>\n",
       "<path stroke-width=\"0.5\" stroke=\"gray\" d=\"M 462 173 456 191\" marker-end=\"url(#arrow-gray)\"/>\n",
       "<path stroke-width=\"0.5\" stroke=\"gray\" d=\"M 455 197 390 189\" marker-end=\"url(#arrow-gray)\"/>\n",
       "<path stroke-width=\"0.5\" stroke=\"gray\" d=\"M 455 197 461 179\" marker-end=\"url(#arrow-gray)\"/>\n",
       "<path stroke-width=\"0.5\" stroke=\"gray\" d=\"M 368 326 289 452\" marker-end=\"url(#arrow-gray)\"/>\n",
       "<path stroke-width=\"0.5\" stroke=\"gray\" d=\"M 368 326 425 253\" marker-end=\"url(#arrow-gray)\"/>\n",
       "<path stroke-width=\"0.5\" stroke=\"gray\" d=\"M 368 402 383 408\" marker-end=\"url(#arrow-gray)\"/>\n",
       "<circle cx=\"61\" cy=\"339\" r=\"7.0\" style=\"fill:olive;stroke:black;stroke-width:1.0\"/>\n",
       "<circle cx=\"335\" cy=\"422\" r=\"7.0\" style=\"fill:olive;stroke:black;stroke-width:1.0\"/>\n",
       "<circle cx=\"212\" cy=\"389\" r=\"7.0\" style=\"fill:olive;stroke:black;stroke-width:1.0\"/>\n",
       "<circle cx=\"206\" cy=\"424\" r=\"7.0\" style=\"fill:olive;stroke:black;stroke-width:1.0\"/>\n",
       "<circle cx=\"54\" cy=\"325\" r=\"7.0\" style=\"fill:olive;stroke:black;stroke-width:1.0\"/>\n",
       "<circle cx=\"387\" cy=\"137\" r=\"7.0\" style=\"fill:olive;stroke:black;stroke-width:1.0\"/>\n",
       "<circle cx=\"405\" cy=\"151\" r=\"7.0\" style=\"fill:olive;stroke:black;stroke-width:1.0\"/>\n",
       "<circle cx=\"334\" cy=\"139\" r=\"7.0\" style=\"fill:olive;stroke:black;stroke-width:1.0\"/>\n",
       "<circle cx=\"484\" cy=\"77\" r=\"7.0\" style=\"fill:yellow;stroke:black;stroke-width:1.0\"/>\n",
       "<circle cx=\"412\" cy=\"142\" r=\"7.0\" style=\"fill:olive;stroke:black;stroke-width:1.0\"/>\n",
       "<circle cx=\"384\" cy=\"189\" r=\"7.0\" style=\"fill:olive;stroke:black;stroke-width:1.0\"/>\n",
       "<circle cx=\"462\" cy=\"173\" r=\"7.0\" style=\"fill:olive;stroke:black;stroke-width:1.0\"/>\n",
       "<circle cx=\"455\" cy=\"197\" r=\"7.0\" style=\"fill:olive;stroke:black;stroke-width:1.0\"/>\n",
       "<circle cx=\"368\" cy=\"326\" r=\"7.0\" style=\"fill:yellow;stroke:black;stroke-width:1.0\"/>\n",
       "<circle cx=\"213\" cy=\"488\" r=\"7.0\" style=\"fill:yellow;stroke:black;stroke-width:1.0\"/>\n",
       "<circle cx=\"286\" cy=\"457\" r=\"7.0\" style=\"fill:yellow;stroke:black;stroke-width:1.0\"/>\n",
       "<circle cx=\"334\" cy=\"400\" r=\"7.0\" style=\"fill:olive;stroke:black;stroke-width:1.0\"/>\n",
       "<circle cx=\"389\" cy=\"410\" r=\"7.0\" style=\"fill:olive;stroke:black;stroke-width:1.0\"/>\n",
       "<circle cx=\"368\" cy=\"402\" r=\"7.0\" style=\"fill:olive;stroke:black;stroke-width:1.0\"/>\n",
       "<circle cx=\"380\" cy=\"419\" r=\"7.0\" style=\"fill:olive;stroke:black;stroke-width:1.0\"/>\n",
       "<circle cx=\"364\" cy=\"411\" r=\"7.0\" style=\"fill:olive;stroke:black;stroke-width:1.0\"/>\n",
       "<circle cx=\"284\" cy=\"496\" r=\"7.0\" style=\"fill:yellow;stroke:black;stroke-width:1.0\"/>\n",
       "<circle cx=\"114\" cy=\"362\" r=\"7.0\" style=\"fill:olive;stroke:black;stroke-width:1.0\"/>\n",
       "<circle cx=\"120\" cy=\"520\" r=\"7.0\" style=\"fill:yellow;stroke:black;stroke-width:1.0\"/>\n",
       "<circle cx=\"61\" cy=\"353\" r=\"7.0\" style=\"fill:olive;stroke:black;stroke-width:1.0\"/>\n",
       "<circle cx=\"429\" cy=\"248\" r=\"7.0\" style=\"fill:yellow;stroke:black;stroke-width:1.0\"/>\n",
       "<circle cx=\"20\" cy=\"359\" r=\"7.0\" style=\"fill:olive;stroke:black;stroke-width:1.0\"/>\n",
       "<circle cx=\"414\" cy=\"380\" r=\"7.0\" style=\"fill:olive;stroke:black;stroke-width:1.0\"/>\n",
       "<circle cx=\"519\" cy=\"20\" r=\"7.0\" style=\"fill:fuchsia;stroke:black;stroke-width:1.0\"/>\n",
       "<circle cx=\"381\" cy=\"363\" r=\"7.0\" style=\"fill:olive;stroke:black;stroke-width:1.0\"/>\n",
       "<circle cx=\"473\" cy=\"64\" r=\"7.0\" style=\"fill:purple;stroke:black;stroke-width:1.0\"/>\n",
       "<circle cx=\"501\" cy=\"177\" r=\"7.0\" style=\"fill:olive;stroke:black;stroke-width:1.0\"/>\n",
       "<circle cx=\"281\" cy=\"112\" r=\"7.0\" style=\"fill:olive;stroke:black;stroke-width:1.0\"/>\n",
       "<circle cx=\"356\" cy=\"143\" r=\"7.0\" style=\"fill:olive;stroke:black;stroke-width:1.0\"/>\n",
       "<circle cx=\"320\" cy=\"120\" r=\"7.0\" style=\"fill:olive;stroke:black;stroke-width:1.0\"/>\n",
       "<circle cx=\"355\" cy=\"133\" r=\"7.0\" style=\"fill:olive;stroke:black;stroke-width:1.0\"/>\n",
       "<circle cx=\"240\" cy=\"452\" r=\"7.0\" style=\"fill:olive;stroke:black;stroke-width:1.0\"/>\n",
       "<circle cx=\"394\" cy=\"399\" r=\"7.0\" style=\"fill:olive;stroke:black;stroke-width:1.0\"/>\n",
       "<circle cx=\"32\" cy=\"307\" r=\"7.0\" style=\"fill:olive;stroke:black;stroke-width:1.0\"/>\n",
       "<circle cx=\"520\" cy=\"134\" r=\"7.0\" style=\"fill:yellow;stroke:black;stroke-width:1.0\"/>\n",
       "<text text-anchor=\"start\" x=\"71\" y=\"339\" font-size=\"12\">Byzantine Empire</text><text text-anchor=\"start\" x=\"345\" y=\"422\" font-size=\"12\">1st century BC</text><text text-anchor=\"start\" x=\"222\" y=\"389\" font-size=\"12\">3rd century</text><text text-anchor=\"start\" x=\"216\" y=\"424\" font-size=\"12\">4th century</text><text text-anchor=\"start\" x=\"64\" y=\"325\" font-size=\"12\">6th century</text><text text-anchor=\"start\" x=\"397\" y=\"137\" font-size=\"12\">Henry II of England</text><text text-anchor=\"start\" x=\"415\" y=\"151\" font-size=\"12\">Richard I of England</text><text text-anchor=\"start\" x=\"344\" y=\"139\" font-size=\"12\">The Anarchy</text><text text-anchor=\"start\" x=\"494\" y=\"77\" font-size=\"12\">Thomas Becket</text><text text-anchor=\"start\" x=\"422\" y=\"142\" font-size=\"12\">John of England</text><text text-anchor=\"start\" x=\"394\" y=\"189\" font-size=\"12\">Hundred Years' War</text><text text-anchor=\"start\" x=\"472\" y=\"173\" font-size=\"12\">Richard III of England</text><text text-anchor=\"start\" x=\"465\" y=\"197\" font-size=\"12\">Wars of the Roses</text><text text-anchor=\"start\" x=\"378\" y=\"326\" font-size=\"12\">Anglicanism</text><text text-anchor=\"start\" x=\"223\" y=\"488\" font-size=\"12\">Roman Catholic Church</text><text text-anchor=\"start\" x=\"296\" y=\"457\" font-size=\"12\">Eastern Orthodox Church</text><text text-anchor=\"start\" x=\"344\" y=\"400\" font-size=\"12\">Roman Empire</text><text text-anchor=\"start\" x=\"399\" y=\"410\" font-size=\"12\">Augustus</text><text text-anchor=\"start\" x=\"378\" y=\"402\" font-size=\"12\">Cleopatra VII</text><text text-anchor=\"start\" x=\"390\" y=\"419\" font-size=\"12\">Julius Caesar</text><text text-anchor=\"start\" x=\"374\" y=\"411\" font-size=\"12\">Mark Antony</text><text text-anchor=\"start\" x=\"294\" y=\"496\" font-size=\"12\">First Council of Nicaea</text><text text-anchor=\"start\" x=\"124\" y=\"362\" font-size=\"12\">Western Roman Empire</text><text text-anchor=\"start\" x=\"130\" y=\"520\" font-size=\"12\">Church of England</text><text text-anchor=\"start\" x=\"71\" y=\"353\" font-size=\"12\">Middle Ages</text><text text-anchor=\"start\" x=\"439\" y=\"248\" font-size=\"12\">Anglican Communion</text><text text-anchor=\"start\" x=\"30\" y=\"359\" font-size=\"12\">Ancient history</text><text text-anchor=\"start\" x=\"424\" y=\"380\" font-size=\"12\">Ancient Egypt</text><text text-anchor=\"start\" x=\"529\" y=\"20\" font-size=\"12\">Canterbury</text><text text-anchor=\"start\" x=\"391\" y=\"363\" font-size=\"12\">Hellenistic Greece</text><text text-anchor=\"start\" x=\"483\" y=\"64\" font-size=\"12\">Canterbury Cathedral</text><text text-anchor=\"start\" x=\"511\" y=\"177\" font-size=\"12\">Henry III of England</text><text text-anchor=\"start\" x=\"291\" y=\"112\" font-size=\"12\">Edward IV of England</text><text text-anchor=\"start\" x=\"366\" y=\"143\" font-size=\"12\">Henry I of England</text><text text-anchor=\"start\" x=\"330\" y=\"120\" font-size=\"12\">Henry VI of England</text><text text-anchor=\"start\" x=\"365\" y=\"133\" font-size=\"12\">Stephen of England</text><text text-anchor=\"start\" x=\"250\" y=\"452\" font-size=\"12\">Constantine I</text><text text-anchor=\"start\" x=\"404\" y=\"399\" font-size=\"12\">Cleopatra VII of Egypt</text><text text-anchor=\"start\" x=\"42\" y=\"307\" font-size=\"12\">Eastern Roman Empire</text><text text-anchor=\"start\" x=\"530\" y=\"134\" font-size=\"12\">List of Archbishops of Canterbury</text></svg>"
      ],
      "text/plain": [
       "<IPython.core.display.SVG object>"
      ]
     },
     "execution_count": 183,
     "metadata": {},
     "output_type": "execute_result"
    }
   ],
   "source": [
    "# Display random pattern summary\n",
    "idx = np.random.choice(nb_cc)\n",
    "print(f'Pattern summary: {idx}')\n",
    "display_pattern_summary(summarized_adj, summarized_biadj, mask, labels_cc_summarized, idx, names, words, labels)"
   ]
  },
  {
   "cell_type": "code",
   "execution_count": null,
   "id": "0bc270c4-c3af-4628-8439-f0b08b7e83db",
   "metadata": {},
   "outputs": [],
   "source": []
  }
 ],
 "metadata": {
  "kernelspec": {
   "display_name": "COMEG",
   "language": "python",
   "name": "comeg"
  },
  "language_info": {
   "codemirror_mode": {
    "name": "ipython",
    "version": 3
   },
   "file_extension": ".py",
   "mimetype": "text/x-python",
   "name": "python",
   "nbconvert_exporter": "python",
   "pygments_lexer": "ipython3",
   "version": "3.9.16"
  }
 },
 "nbformat": 4,
 "nbformat_minor": 5
}
