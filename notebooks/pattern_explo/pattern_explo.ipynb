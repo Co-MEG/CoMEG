{
 "cells": [
  {
   "cell_type": "markdown",
   "id": "8e9f1e1e-4e84-4003-ab22-19a8cd173d0f",
   "metadata": {},
   "source": [
    "# Pattern exploration\n",
    "---"
   ]
  },
  {
   "cell_type": "code",
   "execution_count": 211,
   "id": "b1c5a6ec-436c-4944-845d-4ba551523c2e",
   "metadata": {},
   "outputs": [],
   "source": [
    "from IPython.display import SVG\n",
    "import numpy as np\n",
    "import pickle\n",
    "from scipy import sparse\n",
    "\n",
    "from sknetwork.data import load_netset\n",
    "from sknetwork.topology import get_connected_components\n",
    "from sknetwork.utils import get_degrees\n",
    "from sknetwork.visualization import svg_graph"
   ]
  },
  {
   "cell_type": "code",
   "execution_count": 212,
   "id": "e936460e-edd7-43d6-99b4-6bce1cd077bc",
   "metadata": {},
   "outputs": [],
   "source": [
    "def preprocess_data(biadjacency, names_col, s):\n",
    "    # Frequent attributes\n",
    "    freq_attribute = get_degrees(biadjacency.astype(bool), transpose=True)\n",
    "    index = np.flatnonzero((freq_attribute <= 1000) & (freq_attribute >= s))\n",
    "\n",
    "    # Filter data with index\n",
    "    biadjacency = biadjacency[:, index]\n",
    "    words = names_col[index]\n",
    "    freq_attribute = freq_attribute[index]\n",
    "    \n",
    "    # Sort data\n",
    "    sort_index = np.argsort(freq_attribute)\n",
    "    sorted_biadjacency = biadjacency[:, sort_index]\n",
    "    words = words[sort_index]\n",
    "    return sorted_biadjacency, words\n",
    "\n",
    "def get_pattern(patterns, i):\n",
    "    return patterns[i][0], patterns[i][1]\n",
    "\n",
    "def display_pattern(adjacency, nodes, names, labels):\n",
    "    return SVG(svg_graph(adjacency[nodes, :][:, nodes] + sparse.identity(len(nodes)), names=names[nodes], labels=labels[nodes]))"
   ]
  },
  {
   "cell_type": "markdown",
   "id": "031c8a05-bad2-4759-ad8d-90dfd2207873",
   "metadata": {},
   "source": [
    "## Parameters  \n",
    "\n",
    "Select:\n",
    "- dataset: either `wikivitals`, `wikivitals-fr` or `wikischools`\n",
    "- $s$ and $\\beta$: support parameters (here 5)\n",
    "- order_attributes: initial ordering of attributes (here True)"
   ]
  },
  {
   "cell_type": "code",
   "execution_count": 213,
   "id": "f3b12b0b-b24b-4ba3-bf98-a04dfc20e683",
   "metadata": {},
   "outputs": [],
   "source": [
    "# Parameters for UnexPatterns\n",
    "dataset = 'wikivitals'\n",
    "s = 5\n",
    "beta = 5\n",
    "order_attributes = True"
   ]
  },
  {
   "cell_type": "markdown",
   "id": "92df90f2-31ce-48ff-8edc-2e3c21b0b11b",
   "metadata": {},
   "source": [
    "**Load graph data and preprocess it (e.g attribute ordering)**"
   ]
  },
  {
   "cell_type": "code",
   "execution_count": 214,
   "id": "48df9182-fb48-45ed-8242-6cbe7b47f3a7",
   "metadata": {},
   "outputs": [
    {
     "name": "stdout",
     "output_type": "stream",
     "text": [
      "Parsing files...\n",
      "Done.\n"
     ]
    }
   ],
   "source": [
    "graph = load_netset(dataset)\n",
    "adjacency = graph.adjacency\n",
    "biadjacency = graph.biadjacency\n",
    "names = graph.names\n",
    "names_col = graph.names_col\n",
    "labels = graph.labels\n",
    "\n",
    "# Preprocess data (get same attribute order as in UnexPattern)\n",
    "new_biadjacency, words = preprocess_data(biadjacency, names_col, s)"
   ]
  },
  {
   "cell_type": "markdown",
   "id": "6cd606a4-e44e-4800-9615-dfcfcbfb5904",
   "metadata": {},
   "source": [
    "**Load `UnexPatterns` output**"
   ]
  },
  {
   "cell_type": "markdown",
   "id": "900d75a5-8eb5-4d68-a0b7-0b4a19ce37c0",
   "metadata": {},
   "source": [
    "Output of algorithm is a list of patterns, i.e. a list of tuples (nodes, attributes)."
   ]
  },
  {
   "cell_type": "code",
   "execution_count": 215,
   "id": "01b62fba-7d8e-420c-b06d-ccf0dcc10132",
   "metadata": {},
   "outputs": [],
   "source": [
    "with open(f'result_{dataset}_{beta}_{s}_order{str(order_attributes)}.bin', 'rb') as data:\n",
    "    res = pickle.load(data)"
   ]
  },
  {
   "cell_type": "code",
   "execution_count": 216,
   "id": "a67cd1c3-ac37-47c8-9286-641a6750b801",
   "metadata": {},
   "outputs": [
    {
     "name": "stdout",
     "output_type": "stream",
     "text": [
      "Number of patterns found: 1116\n"
     ]
    }
   ],
   "source": [
    "print(f'Number of patterns found: {len(res)}')"
   ]
  },
  {
   "cell_type": "code",
   "execution_count": 217,
   "id": "768a9f53-8252-4bad-ad6a-41a6f19db9ce",
   "metadata": {},
   "outputs": [
    {
     "name": "stdout",
     "output_type": "stream",
     "text": [
      "([1263, 1322, 1895, 7471, 7571], [45, 7520, 17492, 17608, 17973])\n",
      "['Brown' 'CMYK color model' 'Color' 'RGB color model' 'Red'] ['cmyk' 'RGB' 'red' 'color' 'model']\n"
     ]
    }
   ],
   "source": [
    "# First pattern (pattern of index 0 is the starting point of lattice)\n",
    "idx = 1 #np.random.choice(len(res))\n",
    "print(res[idx])\n",
    "\n",
    "nodes = res[idx][0]\n",
    "attributes = res[idx][1]\n",
    "print(names[nodes], words[attributes])"
   ]
  },
  {
   "cell_type": "markdown",
   "id": "45a05a72-3a44-4be7-ba46-d0fdb8376371",
   "metadata": {},
   "source": [
    "**Display pattern**"
   ]
  },
  {
   "cell_type": "code",
   "execution_count": 193,
   "id": "2d0f3b1e-efe2-4de8-8750-57402511fcf3",
   "metadata": {},
   "outputs": [
    {
     "name": "stdout",
     "output_type": "stream",
     "text": [
      "Pattern index: 452\n",
      "Attributes: ['Presley' 'Elvis' 'singer' 'song' 'artist' 'music' 'record' 'popular']\n"
     ]
    },
    {
     "data": {
      "image/svg+xml": [
       "<svg xmlns=\"http://www.w3.org/2000/svg\" width=\"632.0\" height=\"340\">\n",
       "<defs><marker id=\"arrow-gray\" markerWidth=\"10\" markerHeight=\"10\" refX=\"9\" refY=\"3\" orient=\"auto\">\n",
       "<path d=\"M0,0 L0,6 L9,3 z\" fill=\"gray\"/></marker></defs>\n",
       "<path stroke-width=\"0.5\" stroke=\"gray\" d=\"M 69 20 21 299\" marker-end=\"url(#arrow-gray)\"/>\n",
       "<path stroke-width=\"0.5\" stroke=\"gray\" d=\"M 69 20 223 52\" marker-end=\"url(#arrow-gray)\"/>\n",
       "<path stroke-width=\"0.5\" stroke=\"gray\" d=\"M 183 320 71 26\" marker-end=\"url(#arrow-gray)\"/>\n",
       "<path stroke-width=\"0.5\" stroke=\"gray\" d=\"M 183 320 26 305\" marker-end=\"url(#arrow-gray)\"/>\n",
       "<path stroke-width=\"0.5\" stroke=\"gray\" d=\"M 183 320 228 59\" marker-end=\"url(#arrow-gray)\"/>\n",
       "<path stroke-width=\"0.5\" stroke=\"gray\" d=\"M 420 298 189 320\" marker-end=\"url(#arrow-gray)\"/>\n",
       "<path stroke-width=\"0.5\" stroke=\"gray\" d=\"M 420 298 233 58\" marker-end=\"url(#arrow-gray)\"/>\n",
       "<path stroke-width=\"0.5\" stroke=\"gray\" d=\"M 20 305 68 26\" marker-end=\"url(#arrow-gray)\"/>\n",
       "<path stroke-width=\"0.5\" stroke=\"gray\" d=\"M 20 305 177 320\" marker-end=\"url(#arrow-gray)\"/>\n",
       "<path stroke-width=\"0.5\" stroke=\"gray\" d=\"M 229 53 75 21\" marker-end=\"url(#arrow-gray)\"/>\n",
       "<path stroke-width=\"0.5\" stroke=\"gray\" d=\"M 229 53 184 314\" marker-end=\"url(#arrow-gray)\"/>\n",
       "<path stroke-width=\"0.5\" stroke=\"gray\" d=\"M 229 53 24 300\" marker-end=\"url(#arrow-gray)\"/>\n",
       "<path stroke-width=\"0.5\" stroke=\"gray\" d=\"M 69 20 181 314\" marker-end=\"url(#arrow-gray)\"/>\n",
       "<circle cx=\"229\" cy=\"53\" r=\"7.0\" style=\"fill:fuchsia;stroke:black;stroke-width:1.0\"/>\n",
       "<circle cx=\"20\" cy=\"305\" r=\"7.0\" style=\"fill:fuchsia;stroke:black;stroke-width:1.0\"/>\n",
       "<circle cx=\"420\" cy=\"298\" r=\"7.0\" style=\"fill:fuchsia;stroke:black;stroke-width:1.0\"/>\n",
       "<circle cx=\"183\" cy=\"320\" r=\"7.0\" style=\"fill:fuchsia;stroke:black;stroke-width:1.0\"/>\n",
       "<circle cx=\"69\" cy=\"20\" r=\"7.0\" style=\"fill:fuchsia;stroke:black;stroke-width:1.0\"/>\n",
       "<text text-anchor=\"start\" x=\"239\" y=\"53\" font-size=\"12\">Bing Crosby</text><text text-anchor=\"start\" x=\"30\" y=\"305\" font-size=\"12\">Buddy Holly</text><text text-anchor=\"start\" x=\"430\" y=\"298\" font-size=\"12\">Charles Aznavour</text><text text-anchor=\"start\" x=\"193\" y=\"320\" font-size=\"12\">Elvis Presley</text><text text-anchor=\"start\" x=\"79\" y=\"20\" font-size=\"12\">Little Richard</text></svg>"
      ],
      "text/plain": [
       "<IPython.core.display.SVG object>"
      ]
     },
     "execution_count": 193,
     "metadata": {},
     "output_type": "execute_result"
    }
   ],
   "source": [
    "# Random pattern\n",
    "idx = np.random.choice(len(res))\n",
    "nodes, attributes = get_pattern(res, idx)\n",
    "\n",
    "print(f'Pattern index: {idx}')\n",
    "print(f'Attributes: {words[attributes]}')\n",
    "\n",
    "# Display pattern\n",
    "display_pattern(adjacency, nodes, names, labels)"
   ]
  },
  {
   "cell_type": "markdown",
   "id": "bfa4ac47-64f4-4db9-bcaa-eb1b0487471a",
   "metadata": {},
   "source": [
    "## Patterns from keywords"
   ]
  },
  {
   "cell_type": "markdown",
   "id": "0fc848c3-d032-43b3-bc5f-71cd7a93f8ee",
   "metadata": {},
   "source": [
    "Select pattern related to specific keywords, i.e. patterns that contain **at least one** keyword in list."
   ]
  },
  {
   "cell_type": "code",
   "execution_count": 194,
   "id": "76663895-d16e-41d3-858c-edaf0e241e87",
   "metadata": {},
   "outputs": [],
   "source": [
    "def get_patterns(patterns, keyword, words):\n",
    "    res = []\n",
    "    for p in patterns:\n",
    "        for w in keywords:\n",
    "            index = np.argwhere(words==w)\n",
    "            if len(index) > 0:\n",
    "                if int(index) in p[1]:\n",
    "                    res.append(p)\n",
    "                    break\n",
    "            else:\n",
    "                raise Exception(f'keyword: {w} is not found.')\n",
    "    return res"
   ]
  },
  {
   "cell_type": "code",
   "execution_count": 195,
   "id": "4a3948ed-b96c-43f9-a640-9d36b194fdbe",
   "metadata": {},
   "outputs": [
    {
     "name": "stdout",
     "output_type": "stream",
     "text": [
      "1074\n"
     ]
    }
   ],
   "source": [
    "valid_words = np.unique(np.asarray([words[w] for p in res for w in p[1]]))\n",
    "print(len(valid_words))"
   ]
  },
  {
   "cell_type": "code",
   "execution_count": 196,
   "id": "2871d268-fce8-4720-8322-4432cd56567c",
   "metadata": {},
   "outputs": [
    {
     "name": "stdout",
     "output_type": "stream",
     "text": [
      "Some random words to get inspiration: ['partner' 'genocide' 'Franks' 'God' 'Series' 'House' 'Hubble' 'white'\n",
      " 'nonsocial' 'STI' 'coach' 'day' 'superalloy' 'biological' 'gold']\n"
     ]
    }
   ],
   "source": [
    "# Select keywords\n",
    "#print(f'Some random words to get inspiration: {np.random.choice(words, 15)}')\n",
    "print(f'Some random words to get inspiration: {np.random.choice(valid_words, 15)}')"
   ]
  },
  {
   "cell_type": "code",
   "execution_count": 197,
   "id": "4d5f4fb6-2423-4834-be64-6be6b90c41f0",
   "metadata": {},
   "outputs": [],
   "source": [
    "# Chose keywords\n",
    "keywords = ['constellation', 'Oxford']"
   ]
  },
  {
   "cell_type": "code",
   "execution_count": 198,
   "id": "0795f240-0938-44ee-87fb-8b7e6151f7e5",
   "metadata": {},
   "outputs": [
    {
     "name": "stdout",
     "output_type": "stream",
     "text": [
      "Number of patterns related to ['constellation', 'Oxford']: 2\n"
     ]
    }
   ],
   "source": [
    "kw_patterns = get_patterns(res, keywords, words)\n",
    "print(f'Number of patterns related to {keywords}: {len(kw_patterns)}')"
   ]
  },
  {
   "cell_type": "code",
   "execution_count": 199,
   "id": "b1e66938-2f55-487d-8d46-23ab249ccb0d",
   "metadata": {},
   "outputs": [
    {
     "name": "stdout",
     "output_type": "stream",
     "text": [
      "Attributes of patter: ['kiloparsec' 'constellation' 'Milky' 'Way' 'galaxy' 'star' 'Earth']\n"
     ]
    },
    {
     "data": {
      "image/svg+xml": [
       "<svg xmlns=\"http://www.w3.org/2000/svg\" width=\"572.0\" height=\"340\">\n",
       "<defs><marker id=\"arrow-gray\" markerWidth=\"10\" markerHeight=\"10\" refX=\"9\" refY=\"3\" orient=\"auto\">\n",
       "<path d=\"M0,0 L0,6 L9,3 z\" fill=\"gray\"/></marker></defs>\n",
       "<path stroke-width=\"0.5\" stroke=\"gray\" d=\"M 236 189 414 233\" marker-end=\"url(#arrow-gray)\"/>\n",
       "<path stroke-width=\"0.5\" stroke=\"gray\" d=\"M 236 189 322 315\" marker-end=\"url(#arrow-gray)\"/>\n",
       "<path stroke-width=\"0.5\" stroke=\"gray\" d=\"M 420 234 242 190\" marker-end=\"url(#arrow-gray)\"/>\n",
       "<path stroke-width=\"0.5\" stroke=\"gray\" d=\"M 420 234 330 316\" marker-end=\"url(#arrow-gray)\"/>\n",
       "<path stroke-width=\"0.5\" stroke=\"gray\" d=\"M 20 99 230 187\" marker-end=\"url(#arrow-gray)\"/>\n",
       "<path stroke-width=\"0.5\" stroke=\"gray\" d=\"M 20 99 118 24\" marker-end=\"url(#arrow-gray)\"/>\n",
       "<path stroke-width=\"0.5\" stroke=\"gray\" d=\"M 123 20 233 184\" marker-end=\"url(#arrow-gray)\"/>\n",
       "<path stroke-width=\"0.5\" stroke=\"gray\" d=\"M 123 20 25 95\" marker-end=\"url(#arrow-gray)\"/>\n",
       "<path stroke-width=\"0.5\" stroke=\"gray\" d=\"M 325 320 239 194\" marker-end=\"url(#arrow-gray)\"/>\n",
       "<path stroke-width=\"0.5\" stroke=\"gray\" d=\"M 325 320 415 238\" marker-end=\"url(#arrow-gray)\"/>\n",
       "<circle cx=\"236\" cy=\"189\" r=\"7.0\" style=\"fill:aqua;stroke:black;stroke-width:1.0\"/>\n",
       "<circle cx=\"420\" cy=\"234\" r=\"7.0\" style=\"fill:aqua;stroke:black;stroke-width:1.0\"/>\n",
       "<circle cx=\"20\" cy=\"99\" r=\"7.0\" style=\"fill:aqua;stroke:black;stroke-width:1.0\"/>\n",
       "<circle cx=\"123\" cy=\"20\" r=\"7.0\" style=\"fill:aqua;stroke:black;stroke-width:1.0\"/>\n",
       "<circle cx=\"325\" cy=\"320\" r=\"7.0\" style=\"fill:aqua;stroke:black;stroke-width:1.0\"/>\n",
       "<text text-anchor=\"start\" x=\"246\" y=\"189\" font-size=\"12\">Andromeda Galaxy</text><text text-anchor=\"start\" x=\"430\" y=\"234\" font-size=\"12\">Crab Nebula</text><text text-anchor=\"start\" x=\"30\" y=\"99\" font-size=\"12\">Galactic Center</text><text text-anchor=\"start\" x=\"133\" y=\"20\" font-size=\"12\">Large Magellanic Cloud</text><text text-anchor=\"start\" x=\"335\" y=\"320\" font-size=\"12\">Messier 87</text></svg>"
      ],
      "text/plain": [
       "<IPython.core.display.SVG object>"
      ]
     },
     "execution_count": 199,
     "metadata": {},
     "output_type": "execute_result"
    }
   ],
   "source": [
    "first_pattern = get_pattern(kw_patterns, 0)\n",
    "\n",
    "print(f'Attributes of patter: {words[first_pattern[1]]}')\n",
    "display_pattern(adjacency, first_pattern[0], names, labels)"
   ]
  },
  {
   "cell_type": "code",
   "execution_count": 200,
   "id": "8c8730e2-a912-412d-8b50-cae5a8d9795a",
   "metadata": {},
   "outputs": [
    {
     "name": "stdout",
     "output_type": "stream",
     "text": [
      "Attributes of pattern 0/1: ['kiloparsec' 'constellation' 'Milky' 'Way' 'galaxy' 'star' 'Earth']\n"
     ]
    },
    {
     "data": {
      "image/svg+xml": [
       "<svg xmlns=\"http://www.w3.org/2000/svg\" width=\"704.0\" height=\"340\">\n",
       "<defs><marker id=\"arrow-gray\" markerWidth=\"10\" markerHeight=\"10\" refX=\"9\" refY=\"3\" orient=\"auto\">\n",
       "<path d=\"M0,0 L0,6 L9,3 z\" fill=\"gray\"/></marker></defs>\n",
       "<path stroke-width=\"0.5\" stroke=\"gray\" d=\"M 195 159 26 183\" marker-end=\"url(#arrow-gray)\"/>\n",
       "<path stroke-width=\"0.5\" stroke=\"gray\" d=\"M 195 159 61 24\" marker-end=\"url(#arrow-gray)\"/>\n",
       "<path stroke-width=\"0.5\" stroke=\"gray\" d=\"M 20 183 189 159\" marker-end=\"url(#arrow-gray)\"/>\n",
       "<path stroke-width=\"0.5\" stroke=\"gray\" d=\"M 20 183 56 26\" marker-end=\"url(#arrow-gray)\"/>\n",
       "<path stroke-width=\"0.5\" stroke=\"gray\" d=\"M 380 320 200 163\" marker-end=\"url(#arrow-gray)\"/>\n",
       "<path stroke-width=\"0.5\" stroke=\"gray\" d=\"M 380 320 419 166\" marker-end=\"url(#arrow-gray)\"/>\n",
       "<path stroke-width=\"0.5\" stroke=\"gray\" d=\"M 420 160 201 159\" marker-end=\"url(#arrow-gray)\"/>\n",
       "<path stroke-width=\"0.5\" stroke=\"gray\" d=\"M 420 160 381 314\" marker-end=\"url(#arrow-gray)\"/>\n",
       "<path stroke-width=\"0.5\" stroke=\"gray\" d=\"M 57 20 191 155\" marker-end=\"url(#arrow-gray)\"/>\n",
       "<path stroke-width=\"0.5\" stroke=\"gray\" d=\"M 57 20 21 177\" marker-end=\"url(#arrow-gray)\"/>\n",
       "<circle cx=\"195\" cy=\"159\" r=\"7.0\" style=\"fill:aqua;stroke:black;stroke-width:1.0\"/>\n",
       "<circle cx=\"20\" cy=\"183\" r=\"7.0\" style=\"fill:aqua;stroke:black;stroke-width:1.0\"/>\n",
       "<circle cx=\"380\" cy=\"320\" r=\"7.0\" style=\"fill:aqua;stroke:black;stroke-width:1.0\"/>\n",
       "<circle cx=\"420\" cy=\"160\" r=\"7.0\" style=\"fill:aqua;stroke:black;stroke-width:1.0\"/>\n",
       "<circle cx=\"57\" cy=\"20\" r=\"7.0\" style=\"fill:aqua;stroke:black;stroke-width:1.0\"/>\n",
       "<text text-anchor=\"start\" x=\"205\" y=\"159\" font-size=\"12\">Andromeda Galaxy</text><text text-anchor=\"start\" x=\"30\" y=\"183\" font-size=\"12\">Crab Nebula</text><text text-anchor=\"start\" x=\"390\" y=\"320\" font-size=\"12\">Galactic Center</text><text text-anchor=\"start\" x=\"430\" y=\"160\" font-size=\"12\">Large Magellanic Cloud</text><text text-anchor=\"start\" x=\"67\" y=\"20\" font-size=\"12\">Messier 87</text></svg>"
      ],
      "text/plain": [
       "<IPython.core.display.SVG object>"
      ]
     },
     "execution_count": 200,
     "metadata": {},
     "output_type": "execute_result"
    }
   ],
   "source": [
    "idx = np.random.choice(len(kw_patterns))\n",
    "rand_pattern = get_pattern(kw_patterns, idx)\n",
    "\n",
    "print(f'Attributes of pattern {idx}/{len(kw_patterns)-1}: {words[rand_pattern[1]]}')\n",
    "display_pattern(adjacency, rand_pattern[0], names, labels)"
   ]
  },
  {
   "cell_type": "markdown",
   "id": "54b6426f-fd36-46a2-93bb-e780cffd102b",
   "metadata": {},
   "source": [
    "## Pattern summaries from keywords "
   ]
  },
  {
   "cell_type": "code",
   "execution_count": 201,
   "id": "2e674bae-a1e8-4e0d-ac98-542dab05cf8d",
   "metadata": {},
   "outputs": [],
   "source": [
    "def get_summarized_graph(adjacency, patterns):\n",
    "    \"\"\"Get summarized graph given patterns and original adjacency matrix.\"\"\"\n",
    "    \n",
    "    rows, cols = [], []\n",
    "\n",
    "    for p in patterns:\n",
    "\n",
    "        # exclude first element of lattice \n",
    "        if len(p[1]) > 0:\n",
    "            nodes = sorted(p[0])\n",
    "            idx = 0\n",
    "            idx_nodes = np.array([-1] * len(nodes)) # number of unique nodes from concepts\n",
    "            # reindex nodes\n",
    "            for n in nodes:\n",
    "                if n not in idx_nodes:\n",
    "                    idx_nodes[idx] = n\n",
    "                    idx += 1\n",
    "            \n",
    "            # Record edges from subgraph related to concept\n",
    "            adj_pattern = adjacency[nodes, :][:, nodes].tocoo()\n",
    "            reindex_rows = [int(idx_nodes[src]) for src in adj_pattern.row]\n",
    "            reindex_cols = [int(idx_nodes[dst]) for dst in adj_pattern.col]\n",
    "            rows += reindex_rows\n",
    "            cols += reindex_cols\n",
    "            \n",
    "    return sparse.coo_matrix((np.ones(len(rows)), (rows, cols)), shape=adjacency.shape).tocsr()\n",
    "\n",
    "def get_summarized_biadjacency(adjacency, biadjacency, patterns):\n",
    "    summarized_biadj = np.zeros((adjacency.shape[0], biadjacency.shape[1]))\n",
    "    for p in patterns:\n",
    "        if len(p[1]) > 0:\n",
    "            for node in p[0]:\n",
    "                summarized_biadj[node, p[1]] += 1\n",
    "\n",
    "    summarized_biadj = sparse.csr_matrix(summarized_biadj.astype(bool), shape=summarized_biadj.shape)\n",
    "    return summarized_biadj"
   ]
  },
  {
   "cell_type": "code",
   "execution_count": 202,
   "id": "49beacdb-0742-40b3-a15f-2d866e380946",
   "metadata": {},
   "outputs": [],
   "source": [
    "def display_pattern_summary(summarized_adjacency, summarized_biadjacency, mask, labels_cc, idx, names, names_col, labels):\n",
    "    mask_cc = labels_cc == idx\n",
    "    g = summarized_adjacency[mask, :][:, mask]\n",
    "    g_cc = g[mask_cc, :][:, mask_cc]\n",
    "    \n",
    "    attributes = np.unique(summarized_biadj[mask, :][mask_cc, :].indices)\n",
    "    print(f'Attributes: {names_col[attributes]}')\n",
    "    \n",
    "    return SVG(svg_graph(g_cc + sparse.identity(g_cc.shape[0]), names=names[mask][mask_cc], \n",
    "              edge_width_min=0.5, edge_width_max=0.5, width=500, height=500, labels=labels[mask][mask_cc]))"
   ]
  },
  {
   "cell_type": "markdown",
   "id": "05ebf77a-fe2a-42f8-8405-abcc829a604b",
   "metadata": {},
   "source": [
    "**Summarized graph**"
   ]
  },
  {
   "cell_type": "code",
   "execution_count": 218,
   "id": "2c828dd8-6896-4a31-8633-0ffe2706cbf3",
   "metadata": {},
   "outputs": [
    {
     "data": {
      "text/plain": [
       "<10011x10011 sparse matrix of type '<class 'numpy.float64'>'\n",
       "\twith 3465 stored elements in Compressed Sparse Row format>"
      ]
     },
     "execution_count": 218,
     "metadata": {},
     "output_type": "execute_result"
    }
   ],
   "source": [
    "# Build summarized adjacency matrix, i.e. adjacency matrix of the union of all patterns found with UnexPatterns\n",
    "summarized_adj = get_summarized_graph(adjacency, res)\n",
    "summarized_adj"
   ]
  },
  {
   "cell_type": "code",
   "execution_count": 219,
   "id": "3240fa69-84bd-4855-9238-3f9e5e186cb0",
   "metadata": {},
   "outputs": [
    {
     "data": {
      "text/plain": [
       "<10011x18338 sparse matrix of type '<class 'numpy.bool_'>'\n",
       "\twith 9480 stored elements in Compressed Sparse Row format>"
      ]
     },
     "execution_count": 219,
     "metadata": {},
     "output_type": "execute_result"
    }
   ],
   "source": [
    "# Build summarized biadjacency matrix\n",
    "summarized_biadj = get_summarized_biadjacency(adjacency, new_biadjacency, res)\n",
    "summarized_biadj"
   ]
  },
  {
   "cell_type": "markdown",
   "id": "f5b2d1d7-fab6-4e3f-8d1c-09eaa61795b5",
   "metadata": {},
   "source": [
    "**Pattern summaries**"
   ]
  },
  {
   "cell_type": "code",
   "execution_count": 220,
   "id": "7599517d-9579-4876-b1a3-b39ddae33035",
   "metadata": {},
   "outputs": [
    {
     "name": "stdout",
     "output_type": "stream",
     "text": [
      "Number of pattern summaries: 101\n"
     ]
    }
   ],
   "source": [
    "# Summarized graph filtered on used nodes\n",
    "mask = np.flatnonzero(summarized_adj.dot(np.ones(summarized_adj.shape[1])))\n",
    "\n",
    "# Number of connected components (NOT considering isolated nodes)\n",
    "labels_cc_summarized = get_connected_components(summarized_adj[mask, :][:, mask])\n",
    "nb_cc = len(np.unique(labels_cc_summarized)) \n",
    "\n",
    "print(f'Number of pattern summaries: {nb_cc}')"
   ]
  },
  {
   "cell_type": "code",
   "execution_count": 227,
   "id": "0dd34d80-8272-401f-8d6d-29dcff920afa",
   "metadata": {},
   "outputs": [
    {
     "name": "stdout",
     "output_type": "stream",
     "text": [
      "Pattern summary: 67\n",
      "Attributes: ['chordophone' 'stringed' 'Hornbostel' 'Sachs' 'pluck' 'finger' 'string'\n",
      " 'classification' 'player' 'instrument' 'musical' 'sound' 'music'\n",
      " 'classical' 'play']\n"
     ]
    },
    {
     "data": {
      "image/svg+xml": [
       "<svg xmlns=\"http://www.w3.org/2000/svg\" width=\"648.4199899925181\" height=\"540\">\n",
       "<defs><marker id=\"arrow-gray\" markerWidth=\"10\" markerHeight=\"10\" refX=\"9\" refY=\"3\" orient=\"auto\">\n",
       "<path d=\"M0,0 L0,6 L9,3 z\" fill=\"gray\"/></marker></defs>\n",
       "<path stroke-width=\"0.5\" stroke=\"gray\" d=\"M 265 238 26 146\" marker-end=\"url(#arrow-gray)\"/>\n",
       "<path stroke-width=\"0.5\" stroke=\"gray\" d=\"M 265 238 514 232\" marker-end=\"url(#arrow-gray)\"/>\n",
       "<path stroke-width=\"0.5\" stroke=\"gray\" d=\"M 265 238 164 26\" marker-end=\"url(#arrow-gray)\"/>\n",
       "<path stroke-width=\"0.5\" stroke=\"gray\" d=\"M 265 238 406 189\" marker-end=\"url(#arrow-gray)\"/>\n",
       "<path stroke-width=\"0.5\" stroke=\"gray\" d=\"M 265 238 298 283\" marker-end=\"url(#arrow-gray)\"/>\n",
       "<path stroke-width=\"0.5\" stroke=\"gray\" d=\"M 265 238 122 324\" marker-end=\"url(#arrow-gray)\"/>\n",
       "<path stroke-width=\"0.5\" stroke=\"gray\" d=\"M 302 288 184 514\" marker-end=\"url(#arrow-gray)\"/>\n",
       "<path stroke-width=\"0.5\" stroke=\"gray\" d=\"M 302 288 436 302\" marker-end=\"url(#arrow-gray)\"/>\n",
       "<path stroke-width=\"0.5\" stroke=\"gray\" d=\"M 302 288 39 463\" marker-end=\"url(#arrow-gray)\"/>\n",
       "<path stroke-width=\"0.5\" stroke=\"gray\" d=\"M 302 288 26 147\" marker-end=\"url(#arrow-gray)\"/>\n",
       "<path stroke-width=\"0.5\" stroke=\"gray\" d=\"M 302 288 514 233\" marker-end=\"url(#arrow-gray)\"/>\n",
       "<path stroke-width=\"0.5\" stroke=\"gray\" d=\"M 302 288 165 26\" marker-end=\"url(#arrow-gray)\"/>\n",
       "<path stroke-width=\"0.5\" stroke=\"gray\" d=\"M 302 288 407 191\" marker-end=\"url(#arrow-gray)\"/>\n",
       "<path stroke-width=\"0.5\" stroke=\"gray\" d=\"M 302 288 269 243\" marker-end=\"url(#arrow-gray)\"/>\n",
       "<path stroke-width=\"0.5\" stroke=\"gray\" d=\"M 302 288 123 326\" marker-end=\"url(#arrow-gray)\"/>\n",
       "<path stroke-width=\"0.5\" stroke=\"gray\" d=\"M 117 327 179 514\" marker-end=\"url(#arrow-gray)\"/>\n",
       "<path stroke-width=\"0.5\" stroke=\"gray\" d=\"M 117 327 37 460\" marker-end=\"url(#arrow-gray)\"/>\n",
       "<path stroke-width=\"0.5\" stroke=\"gray\" d=\"M 265 238 38 462\" marker-end=\"url(#arrow-gray)\"/>\n",
       "<path stroke-width=\"0.5\" stroke=\"gray\" d=\"M 265 238 436 300\" marker-end=\"url(#arrow-gray)\"/>\n",
       "<path stroke-width=\"0.5\" stroke=\"gray\" d=\"M 265 238 182 514\" marker-end=\"url(#arrow-gray)\"/>\n",
       "<path stroke-width=\"0.5\" stroke=\"gray\" d=\"M 412 187 307 284\" marker-end=\"url(#arrow-gray)\"/>\n",
       "<path stroke-width=\"0.5\" stroke=\"gray\" d=\"M 181 520 40 468\" marker-end=\"url(#arrow-gray)\"/>\n",
       "<path stroke-width=\"0.5\" stroke=\"gray\" d=\"M 181 520 119 333\" marker-end=\"url(#arrow-gray)\"/>\n",
       "<path stroke-width=\"0.5\" stroke=\"gray\" d=\"M 442 302 515 236\" marker-end=\"url(#arrow-gray)\"/>\n",
       "<path stroke-width=\"0.5\" stroke=\"gray\" d=\"M 442 302 413 193\" marker-end=\"url(#arrow-gray)\"/>\n",
       "<path stroke-width=\"0.5\" stroke=\"gray\" d=\"M 442 302 308 288\" marker-end=\"url(#arrow-gray)\"/>\n",
       "<path stroke-width=\"0.5\" stroke=\"gray\" d=\"M 34 466 175 518\" marker-end=\"url(#arrow-gray)\"/>\n",
       "<path stroke-width=\"0.5\" stroke=\"gray\" d=\"M 34 466 114 333\" marker-end=\"url(#arrow-gray)\"/>\n",
       "<path stroke-width=\"0.5\" stroke=\"gray\" d=\"M 117 327 260 241\" marker-end=\"url(#arrow-gray)\"/>\n",
       "<path stroke-width=\"0.5\" stroke=\"gray\" d=\"M 520 232 447 298\" marker-end=\"url(#arrow-gray)\"/>\n",
       "<path stroke-width=\"0.5\" stroke=\"gray\" d=\"M 520 232 418 189\" marker-end=\"url(#arrow-gray)\"/>\n",
       "<path stroke-width=\"0.5\" stroke=\"gray\" d=\"M 162 20 118 321\" marker-end=\"url(#arrow-gray)\"/>\n",
       "<path stroke-width=\"0.5\" stroke=\"gray\" d=\"M 412 187 441 296\" marker-end=\"url(#arrow-gray)\"/>\n",
       "<path stroke-width=\"0.5\" stroke=\"gray\" d=\"M 412 187 514 230\" marker-end=\"url(#arrow-gray)\"/>\n",
       "<path stroke-width=\"0.5\" stroke=\"gray\" d=\"M 412 187 271 236\" marker-end=\"url(#arrow-gray)\"/>\n",
       "<path stroke-width=\"0.5\" stroke=\"gray\" d=\"M 20 144 296 285\" marker-end=\"url(#arrow-gray)\"/>\n",
       "<circle cx=\"181\" cy=\"520\" r=\"7.0\" style=\"fill:blue;stroke:black;stroke-width:1.0\"/>\n",
       "<circle cx=\"442\" cy=\"302\" r=\"7.0\" style=\"fill:blue;stroke:black;stroke-width:1.0\"/>\n",
       "<circle cx=\"34\" cy=\"466\" r=\"7.0\" style=\"fill:blue;stroke:black;stroke-width:1.0\"/>\n",
       "<circle cx=\"20\" cy=\"144\" r=\"7.0\" style=\"fill:blue;stroke:black;stroke-width:1.0\"/>\n",
       "<circle cx=\"520\" cy=\"232\" r=\"7.0\" style=\"fill:blue;stroke:black;stroke-width:1.0\"/>\n",
       "<circle cx=\"162\" cy=\"20\" r=\"7.0\" style=\"fill:blue;stroke:black;stroke-width:1.0\"/>\n",
       "<circle cx=\"412\" cy=\"187\" r=\"7.0\" style=\"fill:blue;stroke:black;stroke-width:1.0\"/>\n",
       "<circle cx=\"265\" cy=\"238\" r=\"7.0\" style=\"fill:blue;stroke:black;stroke-width:1.0\"/>\n",
       "<circle cx=\"302\" cy=\"288\" r=\"7.0\" style=\"fill:blue;stroke:black;stroke-width:1.0\"/>\n",
       "<circle cx=\"117\" cy=\"327\" r=\"7.0\" style=\"fill:blue;stroke:black;stroke-width:1.0\"/>\n",
       "<text text-anchor=\"start\" x=\"191\" y=\"520\" font-size=\"12\">Double bass</text><text text-anchor=\"start\" x=\"452\" y=\"302\" font-size=\"12\">Flute</text><text text-anchor=\"start\" x=\"44\" y=\"466\" font-size=\"12\">Guitar</text><text text-anchor=\"start\" x=\"30\" y=\"144\" font-size=\"12\">Harp</text><text text-anchor=\"start\" x=\"530\" y=\"232\" font-size=\"12\">Lute</text><text text-anchor=\"start\" x=\"172\" y=\"20\" font-size=\"12\">Mandolin</text><text text-anchor=\"start\" x=\"422\" y=\"187\" font-size=\"12\">Musical instrument</text><text text-anchor=\"start\" x=\"275\" y=\"238\" font-size=\"12\">Piano</text><text text-anchor=\"start\" x=\"312\" y=\"288\" font-size=\"12\">String instrument</text><text text-anchor=\"start\" x=\"127\" y=\"327\" font-size=\"12\">Violin</text></svg>"
      ],
      "text/plain": [
       "<IPython.core.display.SVG object>"
      ]
     },
     "execution_count": 227,
     "metadata": {},
     "output_type": "execute_result"
    }
   ],
   "source": [
    "# Display random pattern summary\n",
    "idx = np.random.choice(nb_cc)\n",
    "print(f'Pattern summary: {idx}')\n",
    "display_pattern_summary(summarized_adj, summarized_biadj, mask, labels_cc_summarized, idx, names, words, labels)"
   ]
  },
  {
   "cell_type": "code",
   "execution_count": null,
   "id": "0bc270c4-c3af-4628-8439-f0b08b7e83db",
   "metadata": {},
   "outputs": [],
   "source": []
  }
 ],
 "metadata": {
  "kernelspec": {
   "display_name": "COMEG",
   "language": "python",
   "name": "comeg"
  },
  "language_info": {
   "codemirror_mode": {
    "name": "ipython",
    "version": 3
   },
   "file_extension": ".py",
   "mimetype": "text/x-python",
   "name": "python",
   "nbconvert_exporter": "python",
   "pygments_lexer": "ipython3",
   "version": "3.9.16"
  }
 },
 "nbformat": 4,
 "nbformat_minor": 5
}
