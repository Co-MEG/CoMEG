{
 "cells": [
  {
   "cell_type": "markdown",
   "id": "8e9f1e1e-4e84-4003-ab22-19a8cd173d0f",
   "metadata": {},
   "source": [
    "# Pattern exploration\n",
    "---"
   ]
  },
  {
   "cell_type": "code",
   "execution_count": 40,
   "id": "b1c5a6ec-436c-4944-845d-4ba551523c2e",
   "metadata": {},
   "outputs": [],
   "source": [
    "from IPython.display import SVG\n",
    "import numpy as np\n",
    "import pickle\n",
    "from scipy import sparse\n",
    "\n",
    "from sknetwork.data import load_netset\n",
    "from sknetwork.utils import get_degrees\n",
    "from sknetwork.visualization import svg_graph"
   ]
  },
  {
   "cell_type": "code",
   "execution_count": 141,
   "id": "e936460e-edd7-43d6-99b4-6bce1cd077bc",
   "metadata": {},
   "outputs": [],
   "source": [
    "def preprocess_data(biadjacency, names_col, s):\n",
    "    # Frequent attributes\n",
    "    freq_attribute = get_degrees(biadjacency.astype(bool), transpose=True)\n",
    "    index = np.flatnonzero((freq_attribute <= 1000) & (freq_attribute >= s))\n",
    "\n",
    "    # Filter data with index\n",
    "    biadjacency = biadjacency[:, index]\n",
    "    words = names_col[index]\n",
    "    freq_attribute = freq_attribute[index]\n",
    "    \n",
    "    # Sort data\n",
    "    sort_index = np.argsort(freq_attribute)\n",
    "    sorted_biadjacency = biadjacency[:, sort_index]\n",
    "    words = words[sort_index]\n",
    "    return sorted_biadjacency, words\n",
    "\n",
    "def get_pattern(patterns, i):\n",
    "    return patterns[i][0], patterns[i][1]\n",
    "\n",
    "def display_pattern(adjacency, nodes, names, labels):\n",
    "    return SVG(svg_graph(adjacency[nodes, :][:, nodes] + sparse.identity(len(nodes)), names=names[nodes], labels=labels[nodes]))"
   ]
  },
  {
   "cell_type": "markdown",
   "id": "031c8a05-bad2-4759-ad8d-90dfd2207873",
   "metadata": {},
   "source": [
    "## Parameters  \n",
    "\n",
    "Select:\n",
    "- dataset: either `wikivitals`, `wikivitals-fr` or `wikischools`\n",
    "- $s$ and $\\beta$: support parameters (here 5)\n",
    "- order_attributes: initial ordering of attributes (here True)"
   ]
  },
  {
   "cell_type": "code",
   "execution_count": 150,
   "id": "f3b12b0b-b24b-4ba3-bf98-a04dfc20e683",
   "metadata": {},
   "outputs": [],
   "source": [
    "# Parameters for UnexPatterns\n",
    "dataset = 'wikivitals'\n",
    "s = 5\n",
    "beta = 5\n",
    "order_attributes = True"
   ]
  },
  {
   "cell_type": "markdown",
   "id": "92df90f2-31ce-48ff-8edc-2e3c21b0b11b",
   "metadata": {},
   "source": [
    "**Load graph data and preprocess it (e.g attribute ordering)**"
   ]
  },
  {
   "cell_type": "code",
   "execution_count": 151,
   "id": "48df9182-fb48-45ed-8242-6cbe7b47f3a7",
   "metadata": {},
   "outputs": [
    {
     "name": "stdout",
     "output_type": "stream",
     "text": [
      "Parsing files...\n",
      "Done.\n"
     ]
    }
   ],
   "source": [
    "graph = load_netset(dataset)\n",
    "adjacency = graph.adjacency\n",
    "biadjacency = graph.biadjacency\n",
    "names = graph.names\n",
    "names_col = graph.names_col\n",
    "labels = graph.labels\n",
    "\n",
    "# Preprocess data (get same attribute order as in UnexPattern)\n",
    "new_biadjacency, words = preprocess_data(biadjacency, names_col, s)"
   ]
  },
  {
   "cell_type": "markdown",
   "id": "6cd606a4-e44e-4800-9615-dfcfcbfb5904",
   "metadata": {},
   "source": [
    "**Load `UnexPatterns` output**"
   ]
  },
  {
   "cell_type": "markdown",
   "id": "900d75a5-8eb5-4d68-a0b7-0b4a19ce37c0",
   "metadata": {},
   "source": [
    "Output of algorithm is a list of patterns, i.e. a list of tuples (nodes, attributes)."
   ]
  },
  {
   "cell_type": "code",
   "execution_count": 152,
   "id": "01b62fba-7d8e-420c-b06d-ccf0dcc10132",
   "metadata": {},
   "outputs": [],
   "source": [
    "with open(f'result_{dataset}_{beta}_{s}_order{str(order_attributes)}.bin', 'rb') as data:\n",
    "    res = pickle.load(data)"
   ]
  },
  {
   "cell_type": "code",
   "execution_count": 153,
   "id": "a67cd1c3-ac37-47c8-9286-641a6750b801",
   "metadata": {},
   "outputs": [
    {
     "name": "stdout",
     "output_type": "stream",
     "text": [
      "Number of patterns found: 1116\n"
     ]
    }
   ],
   "source": [
    "print(f'Number of patterns found: {len(res)}')"
   ]
  },
  {
   "cell_type": "code",
   "execution_count": 154,
   "id": "768a9f53-8252-4bad-ad6a-41a6f19db9ce",
   "metadata": {},
   "outputs": [
    {
     "name": "stdout",
     "output_type": "stream",
     "text": [
      "([1263, 1322, 1895, 7471, 7571], [45, 7520, 17492, 17608, 17973])\n",
      "['Brown' 'CMYK color model' 'Color' 'RGB color model' 'Red'] ['cmyk' 'RGB' 'red' 'color' 'model']\n"
     ]
    }
   ],
   "source": [
    "# First pattern (pattern of index 0 is the starting point of lattice)\n",
    "idx = 1 #np.random.choice(len(res))\n",
    "print(res[idx])\n",
    "\n",
    "nodes = res[idx][0]\n",
    "attributes = res[idx][1]\n",
    "print(names[nodes], words[attributes])"
   ]
  },
  {
   "cell_type": "markdown",
   "id": "45a05a72-3a44-4be7-ba46-d0fdb8376371",
   "metadata": {},
   "source": [
    "**Display pattern**"
   ]
  },
  {
   "cell_type": "code",
   "execution_count": 155,
   "id": "2d0f3b1e-efe2-4de8-8750-57402511fcf3",
   "metadata": {},
   "outputs": [
    {
     "name": "stdout",
     "output_type": "stream",
     "text": [
      "Pattern index: 157\n",
      "Attributes: ['perestroika' 'Gorbachev' 'Mikhail' 'Communist' 'soviet' 'Party' 'Soviet'\n",
      " 'reform' 'leader' 'Union']\n"
     ]
    },
    {
     "data": {
      "image/svg+xml": [
       "<svg xmlns=\"http://www.w3.org/2000/svg\" width=\"596.0\" height=\"340\">\n",
       "<defs><marker id=\"arrow-gray\" markerWidth=\"10\" markerHeight=\"10\" refX=\"9\" refY=\"3\" orient=\"auto\">\n",
       "<path d=\"M0,0 L0,6 L9,3 z\" fill=\"gray\"/></marker></defs>\n",
       "<path stroke-width=\"1.0\" stroke=\"gray\" d=\"M 376 256 191 25\" marker-end=\"url(#arrow-gray)\"/>\n",
       "<path stroke-width=\"1.0\" stroke=\"gray\" d=\"M 376 256 217 182\" marker-end=\"url(#arrow-gray)\"/>\n",
       "<path stroke-width=\"1.0\" stroke=\"gray\" d=\"M 376 256 419 61\" marker-end=\"url(#arrow-gray)\"/>\n",
       "<path stroke-width=\"1.0\" stroke=\"gray\" d=\"M 144 320 370 257\" marker-end=\"url(#arrow-gray)\"/>\n",
       "<path stroke-width=\"1.0\" stroke=\"gray\" d=\"M 144 320 23 138\" marker-end=\"url(#arrow-gray)\"/>\n",
       "<path stroke-width=\"1.0\" stroke=\"gray\" d=\"M 144 320 187 26\" marker-end=\"url(#arrow-gray)\"/>\n",
       "<path stroke-width=\"1.0\" stroke=\"gray\" d=\"M 144 320 208 186\" marker-end=\"url(#arrow-gray)\"/>\n",
       "<path stroke-width=\"1.0\" stroke=\"gray\" d=\"M 20 133 370 254\" marker-end=\"url(#arrow-gray)\"/>\n",
       "<path stroke-width=\"1.0\" stroke=\"gray\" d=\"M 20 133 141 315\" marker-end=\"url(#arrow-gray)\"/>\n",
       "<path stroke-width=\"1.0\" stroke=\"gray\" d=\"M 20 133 182 23\" marker-end=\"url(#arrow-gray)\"/>\n",
       "<path stroke-width=\"1.0\" stroke=\"gray\" d=\"M 20 133 205 179\" marker-end=\"url(#arrow-gray)\"/>\n",
       "<path stroke-width=\"1.0\" stroke=\"gray\" d=\"M 376 256 150 319\" marker-end=\"url(#arrow-gray)\"/>\n",
       "<path stroke-width=\"1.0\" stroke=\"gray\" d=\"M 187 20 372 251\" marker-end=\"url(#arrow-gray)\"/>\n",
       "<path stroke-width=\"1.0\" stroke=\"gray\" d=\"M 187 20 25 130\" marker-end=\"url(#arrow-gray)\"/>\n",
       "<path stroke-width=\"1.0\" stroke=\"gray\" d=\"M 187 20 210 174\" marker-end=\"url(#arrow-gray)\"/>\n",
       "<path stroke-width=\"1.0\" stroke=\"gray\" d=\"M 211 180 370 254\" marker-end=\"url(#arrow-gray)\"/>\n",
       "<path stroke-width=\"1.0\" stroke=\"gray\" d=\"M 211 180 147 314\" marker-end=\"url(#arrow-gray)\"/>\n",
       "<path stroke-width=\"1.0\" stroke=\"gray\" d=\"M 211 180 26 134\" marker-end=\"url(#arrow-gray)\"/>\n",
       "<path stroke-width=\"1.0\" stroke=\"gray\" d=\"M 211 180 188 26\" marker-end=\"url(#arrow-gray)\"/>\n",
       "<path stroke-width=\"1.0\" stroke=\"gray\" d=\"M 420 55 377 250\" marker-end=\"url(#arrow-gray)\"/>\n",
       "<path stroke-width=\"1.0\" stroke=\"gray\" d=\"M 420 55 149 316\" marker-end=\"url(#arrow-gray)\"/>\n",
       "<path stroke-width=\"1.0\" stroke=\"gray\" d=\"M 420 55 26 132\" marker-end=\"url(#arrow-gray)\"/>\n",
       "<path stroke-width=\"1.0\" stroke=\"gray\" d=\"M 420 55 193 21\" marker-end=\"url(#arrow-gray)\"/>\n",
       "<path stroke-width=\"1.0\" stroke=\"gray\" d=\"M 420 55 217 177\" marker-end=\"url(#arrow-gray)\"/>\n",
       "<path stroke-width=\"1.0\" stroke=\"gray\" d=\"M 187 20 144 314\" marker-end=\"url(#arrow-gray)\"/>\n",
       "<circle cx=\"420\" cy=\"55\" r=\"7.0\" style=\"fill:fuchsia;stroke:black;stroke-width:1.0\"/>\n",
       "<circle cx=\"211\" cy=\"180\" r=\"7.0\" style=\"fill:purple;stroke:black;stroke-width:1.0\"/>\n",
       "<circle cx=\"187\" cy=\"20\" r=\"7.0\" style=\"fill:purple;stroke:black;stroke-width:1.0\"/>\n",
       "<circle cx=\"20\" cy=\"133\" r=\"7.0\" style=\"fill:fuchsia;stroke:black;stroke-width:1.0\"/>\n",
       "<circle cx=\"144\" cy=\"320\" r=\"7.0\" style=\"fill:fuchsia;stroke:black;stroke-width:1.0\"/>\n",
       "<circle cx=\"376\" cy=\"256\" r=\"7.0\" style=\"fill:purple;stroke:black;stroke-width:1.0\"/>\n",
       "<text text-anchor=\"start\" x=\"430\" y=\"55\" font-size=\"12\">Boris Yeltsin</text><text text-anchor=\"start\" x=\"221\" y=\"180\" font-size=\"12\">Cold War</text><text text-anchor=\"start\" x=\"197\" y=\"20\" font-size=\"12\">Eastern Bloc</text><text text-anchor=\"start\" x=\"30\" y=\"133\" font-size=\"12\">Erich Honecker</text><text text-anchor=\"start\" x=\"154\" y=\"320\" font-size=\"12\">Mikhail Gorbachev</text><text text-anchor=\"start\" x=\"386\" y=\"256\" font-size=\"12\">Soviet Union</text></svg>"
      ],
      "text/plain": [
       "<IPython.core.display.SVG object>"
      ]
     },
     "execution_count": 155,
     "metadata": {},
     "output_type": "execute_result"
    }
   ],
   "source": [
    "# Random pattern\n",
    "idx = np.random.choice(len(res))\n",
    "nodes, attributes = get_pattern(res, idx)\n",
    "\n",
    "print(f'Pattern index: {idx}')\n",
    "print(f'Attributes: {words[attributes]}')\n",
    "\n",
    "# Display pattern\n",
    "display_pattern(adjacency, nodes, names, labels)"
   ]
  },
  {
   "cell_type": "markdown",
   "id": "bfa4ac47-64f4-4db9-bcaa-eb1b0487471a",
   "metadata": {},
   "source": [
    "## Pattern from keywords"
   ]
  },
  {
   "cell_type": "markdown",
   "id": "0fc848c3-d032-43b3-bc5f-71cd7a93f8ee",
   "metadata": {},
   "source": [
    "Select pattern related to specific keywords, i.e. patterns that contain **at least one** keyword in list."
   ]
  },
  {
   "cell_type": "code",
   "execution_count": 175,
   "id": "76663895-d16e-41d3-858c-edaf0e241e87",
   "metadata": {},
   "outputs": [],
   "source": [
    "def get_patterns(patterns, keyword, words):\n",
    "    res = []\n",
    "    for p in patterns:\n",
    "        for w in keywords:\n",
    "            index = np.argwhere(words==w)\n",
    "            if len(index) > 0:\n",
    "                if int(index) in p[1]:\n",
    "                    res.append(p)\n",
    "                    break\n",
    "            else:\n",
    "                raise Exception(f'keyword: {w} is not found.')\n",
    "    return res"
   ]
  },
  {
   "cell_type": "code",
   "execution_count": 176,
   "id": "2871d268-fce8-4720-8322-4432cd56567c",
   "metadata": {},
   "outputs": [
    {
     "name": "stdout",
     "output_type": "stream",
     "text": [
      "Some random words to get inspiration: ['Albert' 'December' 'Municipal' 'Duke' 'sometime' 'reflect' 'clutch'\n",
      " 'Bhakti' 'unintentionally' 'train' 'gloss' 'honest' 'Modi' 'Ebola'\n",
      " 'hegemony']\n"
     ]
    }
   ],
   "source": [
    "# Select keywords\n",
    "print(f'Some random words to get inspiration: {np.random.choice(words, 15)}')"
   ]
  },
  {
   "cell_type": "code",
   "execution_count": 179,
   "id": "4d5f4fb6-2423-4834-be64-6be6b90c41f0",
   "metadata": {},
   "outputs": [],
   "source": [
    "# Chose keywords\n",
    "keywords = ['piracy', 'music']"
   ]
  },
  {
   "cell_type": "code",
   "execution_count": 180,
   "id": "0795f240-0938-44ee-87fb-8b7e6151f7e5",
   "metadata": {},
   "outputs": [
    {
     "name": "stdout",
     "output_type": "stream",
     "text": [
      "Number of patterns related to ['piracy', 'music']: 39\n"
     ]
    }
   ],
   "source": [
    "kw_patterns = get_patterns(res, keywords, words)\n",
    "print(f'Number of patterns related to {keywords}: {len(kw_patterns)}')"
   ]
  },
  {
   "cell_type": "code",
   "execution_count": 170,
   "id": "b1e66938-2f55-487d-8d46-23ab249ccb0d",
   "metadata": {},
   "outputs": [
    {
     "name": "stdout",
     "output_type": "stream",
     "text": [
      "Attributes of patter: ['Ravel' 'Maurice' 'repertoire' 'composer' 'music']\n"
     ]
    },
    {
     "data": {
      "image/svg+xml": [
       "<svg xmlns=\"http://www.w3.org/2000/svg\" width=\"536.0\" height=\"340\">\n",
       "<defs><marker id=\"arrow-gray\" markerWidth=\"10\" markerHeight=\"10\" refX=\"9\" refY=\"3\" orient=\"auto\">\n",
       "<path d=\"M0,0 L0,6 L9,3 z\" fill=\"gray\"/></marker></defs>\n",
       "<path stroke-width=\"1.0\" stroke=\"gray\" d=\"M 420 286 176 209\" marker-end=\"url(#arrow-gray)\"/>\n",
       "<path stroke-width=\"1.0\" stroke=\"gray\" d=\"M 420 286 197 319\" marker-end=\"url(#arrow-gray)\"/>\n",
       "<path stroke-width=\"1.0\" stroke=\"gray\" d=\"M 170 207 26 288\" marker-end=\"url(#arrow-gray)\"/>\n",
       "<path stroke-width=\"1.0\" stroke=\"gray\" d=\"M 170 207 190 314\" marker-end=\"url(#arrow-gray)\"/>\n",
       "<path stroke-width=\"1.0\" stroke=\"gray\" d=\"M 20 291 164 210\" marker-end=\"url(#arrow-gray)\"/>\n",
       "<path stroke-width=\"1.0\" stroke=\"gray\" d=\"M 20 291 185 319\" marker-end=\"url(#arrow-gray)\"/>\n",
       "<path stroke-width=\"1.0\" stroke=\"gray\" d=\"M 191 320 171 213\" marker-end=\"url(#arrow-gray)\"/>\n",
       "<path stroke-width=\"1.0\" stroke=\"gray\" d=\"M 191 320 26 292\" marker-end=\"url(#arrow-gray)\"/>\n",
       "<path stroke-width=\"1.0\" stroke=\"gray\" d=\"M 117 20 169 201\" marker-end=\"url(#arrow-gray)\"/>\n",
       "<circle cx=\"420\" cy=\"286\" r=\"7.0\" style=\"fill:blue;stroke:black;stroke-width:1.0\"/>\n",
       "<circle cx=\"170\" cy=\"207\" r=\"7.0\" style=\"fill:fuchsia;stroke:black;stroke-width:1.0\"/>\n",
       "<circle cx=\"20\" cy=\"291\" r=\"7.0\" style=\"fill:fuchsia;stroke:black;stroke-width:1.0\"/>\n",
       "<circle cx=\"191\" cy=\"320\" r=\"7.0\" style=\"fill:fuchsia;stroke:black;stroke-width:1.0\"/>\n",
       "<circle cx=\"117\" cy=\"20\" r=\"7.0\" style=\"fill:blue;stroke:black;stroke-width:1.0\"/>\n",
       "<text text-anchor=\"start\" x=\"430\" y=\"286\" font-size=\"12\">Concerto</text><text text-anchor=\"start\" x=\"180\" y=\"207\" font-size=\"12\">Maurice Ravel</text><text text-anchor=\"start\" x=\"30\" y=\"291\" font-size=\"12\">Nikolai Rimsky-Korsakov</text><text text-anchor=\"start\" x=\"201\" y=\"320\" font-size=\"12\">Ralph Vaughan Williams</text><text text-anchor=\"start\" x=\"127\" y=\"20\" font-size=\"12\">Tristan und Isolde</text></svg>"
      ],
      "text/plain": [
       "<IPython.core.display.SVG object>"
      ]
     },
     "execution_count": 170,
     "metadata": {},
     "output_type": "execute_result"
    }
   ],
   "source": [
    "first_pattern = get_pattern(kw_patterns, 0)\n",
    "\n",
    "print(f'Attributes of patter: {words[first_pattern[1]]}')\n",
    "display_pattern(adjacency, first_pattern[0], names, labels)"
   ]
  },
  {
   "cell_type": "code",
   "execution_count": 171,
   "id": "1e9ddb37-b682-4178-b224-a4dd78a8627c",
   "metadata": {},
   "outputs": [
    {
     "name": "stdout",
     "output_type": "stream",
     "text": [
      "Attributes of patter: ['Chart' 'Roll' 'chart' 'Rock' 'album' 'induct' 'recording' 'rock'\n",
      " 'artist' 'UK' 'top' 'music' 'single' 'record']\n"
     ]
    },
    {
     "data": {
      "image/svg+xml": [
       "<svg xmlns=\"http://www.w3.org/2000/svg\" width=\"596.0\" height=\"340\">\n",
       "<defs><marker id=\"arrow-gray\" markerWidth=\"10\" markerHeight=\"10\" refX=\"9\" refY=\"3\" orient=\"auto\">\n",
       "<path d=\"M0,0 L0,6 L9,3 z\" fill=\"gray\"/></marker></defs>\n",
       "<path stroke-width=\"0.5\" stroke=\"gray\" d=\"M 63 202 264 130\" marker-end=\"url(#arrow-gray)\"/>\n",
       "<path stroke-width=\"0.5\" stroke=\"gray\" d=\"M 63 202 169 315\" marker-end=\"url(#arrow-gray)\"/>\n",
       "<path stroke-width=\"0.5\" stroke=\"gray\" d=\"M 20 20 62 196\" marker-end=\"url(#arrow-gray)\"/>\n",
       "<path stroke-width=\"0.5\" stroke=\"gray\" d=\"M 20 20 264 126\" marker-end=\"url(#arrow-gray)\"/>\n",
       "<path stroke-width=\"0.5\" stroke=\"gray\" d=\"M 420 248 69 202\" marker-end=\"url(#arrow-gray)\"/>\n",
       "<path stroke-width=\"0.5\" stroke=\"gray\" d=\"M 63 202 414 248\" marker-end=\"url(#arrow-gray)\"/>\n",
       "<path stroke-width=\"0.5\" stroke=\"gray\" d=\"M 420 248 275 132\" marker-end=\"url(#arrow-gray)\"/>\n",
       "<path stroke-width=\"0.5\" stroke=\"gray\" d=\"M 270 128 69 200\" marker-end=\"url(#arrow-gray)\"/>\n",
       "<path stroke-width=\"0.5\" stroke=\"gray\" d=\"M 270 128 26 22\" marker-end=\"url(#arrow-gray)\"/>\n",
       "<path stroke-width=\"0.5\" stroke=\"gray\" d=\"M 270 128 415 244\" marker-end=\"url(#arrow-gray)\"/>\n",
       "<path stroke-width=\"0.5\" stroke=\"gray\" d=\"M 270 128 176 314\" marker-end=\"url(#arrow-gray)\"/>\n",
       "<path stroke-width=\"0.5\" stroke=\"gray\" d=\"M 173 320 67 207\" marker-end=\"url(#arrow-gray)\"/>\n",
       "<path stroke-width=\"0.5\" stroke=\"gray\" d=\"M 173 320 414 249\" marker-end=\"url(#arrow-gray)\"/>\n",
       "<path stroke-width=\"0.5\" stroke=\"gray\" d=\"M 420 248 179 319\" marker-end=\"url(#arrow-gray)\"/>\n",
       "<circle cx=\"173\" cy=\"320\" r=\"7.0\" style=\"fill:fuchsia;stroke:black;stroke-width:1.0\"/>\n",
       "<circle cx=\"270\" cy=\"128\" r=\"7.0\" style=\"fill:fuchsia;stroke:black;stroke-width:1.0\"/>\n",
       "<circle cx=\"420\" cy=\"248\" r=\"7.0\" style=\"fill:fuchsia;stroke:black;stroke-width:1.0\"/>\n",
       "<circle cx=\"20\" cy=\"20\" r=\"7.0\" style=\"fill:fuchsia;stroke:black;stroke-width:1.0\"/>\n",
       "<circle cx=\"63\" cy=\"202\" r=\"7.0\" style=\"fill:fuchsia;stroke:black;stroke-width:1.0\"/>\n",
       "<text text-anchor=\"start\" x=\"183\" y=\"320\" font-size=\"12\">Buddy Holly</text><text text-anchor=\"start\" x=\"280\" y=\"128\" font-size=\"12\">David Bowie</text><text text-anchor=\"start\" x=\"430\" y=\"248\" font-size=\"12\">Elvis Presley</text><text text-anchor=\"start\" x=\"30\" y=\"20\" font-size=\"12\">Pink Floyd</text><text text-anchor=\"start\" x=\"73\" y=\"202\" font-size=\"12\">The Beatles</text></svg>"
      ],
      "text/plain": [
       "<IPython.core.display.SVG object>"
      ]
     },
     "execution_count": 171,
     "metadata": {},
     "output_type": "execute_result"
    }
   ],
   "source": [
    "second_pattern = get_pattern(kw_patterns, 1)\n",
    "\n",
    "print(f'Attributes of patter: {words[second_pattern[1]]}')\n",
    "display_pattern(adjacency, second_pattern[0], names, labels)"
   ]
  },
  {
   "cell_type": "code",
   "execution_count": null,
   "id": "8c8730e2-a912-412d-8b50-cae5a8d9795a",
   "metadata": {},
   "outputs": [],
   "source": []
  }
 ],
 "metadata": {
  "kernelspec": {
   "display_name": "COMEG",
   "language": "python",
   "name": "comeg"
  },
  "language_info": {
   "codemirror_mode": {
    "name": "ipython",
    "version": 3
   },
   "file_extension": ".py",
   "mimetype": "text/x-python",
   "name": "python",
   "nbconvert_exporter": "python",
   "pygments_lexer": "ipython3",
   "version": "3.9.16"
  }
 },
 "nbformat": 4,
 "nbformat_minor": 5
}
