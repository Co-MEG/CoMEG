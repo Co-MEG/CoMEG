{
 "cells": [
  {
   "cell_type": "markdown",
   "id": "dc0db48c-b7c9-4eab-933e-9b6cd93faa07",
   "metadata": {},
   "source": [
    "# Sandbox\n",
    "---"
   ]
  },
  {
   "cell_type": "markdown",
   "id": "664f9071-58d6-4c46-8131-03b1f627ffda",
   "metadata": {},
   "source": [
    "**Libraries**"
   ]
  },
  {
   "cell_type": "code",
   "execution_count": 1,
   "id": "a17813e4-5a23-4652-8728-6776c4eeb11d",
   "metadata": {},
   "outputs": [],
   "source": [
    "import numpy as np\n",
    "import pandas as pd"
   ]
  },
  {
   "cell_type": "code",
   "execution_count": 6,
   "id": "34308d04-3744-486c-a0e1-dceb41cc68f3",
   "metadata": {},
   "outputs": [
    {
     "data": {
      "text/plain": [
       "array([['u', '1', '0', '1'],\n",
       "       ['v', '1', '1', '1'],\n",
       "       ['w', '1', '0', '0']], dtype='<U21')"
      ]
     },
     "execution_count": 6,
     "metadata": {},
     "output_type": "execute_result"
    }
   ],
   "source": [
    "A = np.array([[1, 0, 1], [1, 1, 1], [1, 0, 0]])\n",
    "B = np.array([['u', 'v', 'w']]).T\n",
    "C = np.hstack((B, A))\n",
    "df = pd.DataFrame(C, columns=['name', 'a', 'b', 'c'])\n",
    "df.to_csv('mytest.csv', index=False)"
   ]
  },
  {
   "cell_type": "code",
   "execution_count": 21,
   "id": "d9cbbab0-9bc9-4633-93cf-88c7bb537b71",
   "metadata": {},
   "outputs": [
    {
     "name": "stdout",
     "output_type": "stream",
     "text": [
      "[[0]\n",
      " [1]\n",
      " [2]] (3, 1)\n"
     ]
    }
   ],
   "source": [
    "a = np.array([0, 1, 2]).T.reshape(-1, 1)\n",
    "print(a, a.shape)"
   ]
  },
  {
   "cell_type": "code",
   "execution_count": 28,
   "id": "76497992-f3af-4ff2-aeb1-f6599918a5d1",
   "metadata": {},
   "outputs": [
    {
     "data": {
      "text/plain": [
       "array(['name', 'a', 'b', 'c'], dtype='<U32')"
      ]
     },
     "execution_count": 28,
     "metadata": {},
     "output_type": "execute_result"
    }
   ],
   "source": [
    "a = np.array(['name', 'a', 'b', 'c'])\n",
    "b = np.concatenate([[], a])\n",
    "b"
   ]
  },
  {
   "cell_type": "code",
   "execution_count": 30,
   "id": "f4f0ac8f-f12f-4156-973d-66d1991dbe94",
   "metadata": {},
   "outputs": [],
   "source": [
    "import os\n",
    "\n",
    "os.makedirs('test/val/sid.txt')"
   ]
  },
  {
   "cell_type": "code",
   "execution_count": 34,
   "id": "0edad6bd-e7f4-453a-90c2-3cdcb54736bf",
   "metadata": {},
   "outputs": [
    {
     "data": {
      "text/plain": [
       "[1, 2, 3, 1, 2, 5]"
      ]
     },
     "execution_count": 34,
     "metadata": {},
     "output_type": "execute_result"
    }
   ],
   "source": [
    "a = [1, 2, 3]\n",
    "b = [1, 2, 5]\n",
    "c = a + b\n",
    "c"
   ]
  },
  {
   "cell_type": "code",
   "execution_count": 49,
   "id": "def622d1-634d-470a-bae1-4b0a18a99979",
   "metadata": {},
   "outputs": [
    {
     "name": "stdout",
     "output_type": "stream",
     "text": [
      ",X,X,X\n"
     ]
    }
   ],
   "source": [
    "A = np.array([[1, 0, 1], [1, 1, 1], [1, 0, 0]]).astype(str)\n",
    "A[A == '1'] = 'X'\n",
    "A[A == '0'] = ''\n",
    "\n",
    "B = np.array([['u', 'v', 'w']]).T\n",
    "mat = np.hstack((B, A))\n",
    "cols = np.concatenate([np.array(['names']), np.array(['a', 'b', 'c'])])\n",
    "df = pd.DataFrame(mat, columns=cols)\n",
    "df.to_csv('test.csv', index=False)\n",
    "separators = ',X' * (len(cols) - 1)\n",
    "print(separators)\n",
    "with open('test.csv', 'a') as f:\n",
    "    f.write(\"R = X = {}\" + separators)"
   ]
  },
  {
   "cell_type": "code",
   "execution_count": 60,
   "id": "bdfc0446-745d-45b0-8781-1edcb1f72e1b",
   "metadata": {},
   "outputs": [
    {
     "name": "stdout",
     "output_type": "stream",
     "text": [
      "[[1 0 1]\n",
      " [1 1 1]\n",
      " [1 0 0]]\n"
     ]
    },
    {
     "data": {
      "text/plain": [
       "0"
      ]
     },
     "execution_count": 60,
     "metadata": {},
     "output_type": "execute_result"
    }
   ],
   "source": [
    "from scipy import sparse\n",
    "A = np.array([[1, 0, 1], [1, 1, 1], [1, 0, 0]])\n",
    "sp = sparse.csr_matrix(A)\n",
    "print(A)\n",
    "sp[0,1]"
   ]
  },
  {
   "cell_type": "code",
   "execution_count": 62,
   "id": "58cfa485-5614-4803-a5e3-fad0569b4f4e",
   "metadata": {},
   "outputs": [
    {
     "data": {
      "text/plain": [
       "[1, 2, 3]"
      ]
     },
     "execution_count": 62,
     "metadata": {},
     "output_type": "execute_result"
    }
   ],
   "source": [
    "a = set([3, 2, 1])\n",
    "sorted(a)"
   ]
  },
  {
   "cell_type": "code",
   "execution_count": 86,
   "id": "8200cccd-ee1b-466e-8182-cb0ca6ee0fff",
   "metadata": {},
   "outputs": [
    {
     "data": {
      "text/plain": [
       "[4, 3, 2, 1]"
      ]
     },
     "execution_count": 86,
     "metadata": {},
     "output_type": "execute_result"
    }
   ],
   "source": [
    "a = [0, 1, 2, 3, 4, 5, 6, 7]\n",
    "a[4:0:-1]"
   ]
  },
  {
   "cell_type": "code",
   "execution_count": 67,
   "id": "2c0428ba-95be-459a-b3a0-e9fdbd0c9553",
   "metadata": {},
   "outputs": [
    {
     "name": "stdout",
     "output_type": "stream",
     "text": [
      "9\n",
      "8\n",
      "7\n",
      "6\n",
      "5\n",
      "4\n",
      "3\n",
      "2\n",
      "1\n"
     ]
    }
   ],
   "source": [
    "for k in range(10-1, 0, -1):\n",
    "    print(k)"
   ]
  },
  {
   "cell_type": "code",
   "execution_count": 88,
   "id": "e29c7a93-e8a2-4a1b-a59a-ecc2b733c57d",
   "metadata": {},
   "outputs": [
    {
     "data": {
      "text/plain": [
       "[([1, 2, 3], [2, 2, 2]), ([2, 3, 4], [5, 6, 4])]"
      ]
     },
     "execution_count": 88,
     "metadata": {},
     "output_type": "execute_result"
    }
   ],
   "source": [
    "a = [[1, 2, 3], [2, 3, 4]]\n",
    "b = [[2, 2, 2], [5, 6, 4]]\n",
    "    c = [*zip(a, b)]\n",
    "c"
   ]
  },
  {
   "cell_type": "code",
   "execution_count": 90,
   "id": "8db08d68-d5fd-46f2-9ce8-0b7c57c86b58",
   "metadata": {},
   "outputs": [
    {
     "ename": "IndexError",
     "evalue": "list index out of range",
     "output_type": "error",
     "traceback": [
      "\u001b[0;31m---------------------------------------------------------------------------\u001b[0m",
      "\u001b[0;31mIndexError\u001b[0m                                Traceback (most recent call last)",
      "Input \u001b[0;32mIn [90]\u001b[0m, in \u001b[0;36m<cell line: 2>\u001b[0;34m()\u001b[0m\n\u001b[1;32m      1\u001b[0m a \u001b[38;5;241m=\u001b[39m [\u001b[38;5;241m1\u001b[39m, \u001b[38;5;241m2\u001b[39m, \u001b[38;5;241m3\u001b[39m]\n\u001b[0;32m----> 2\u001b[0m x \u001b[38;5;241m=\u001b[39m \u001b[43ma\u001b[49m\u001b[43m[\u001b[49m\u001b[38;5;241;43m3\u001b[39;49m\u001b[43m]\u001b[49m\n",
      "\u001b[0;31mIndexError\u001b[0m: list index out of range"
     ]
    }
   ],
   "source": [
    "a = [1, 2, 3]\n",
    "x = a[3]"
   ]
  },
  {
   "cell_type": "code",
   "execution_count": 96,
   "id": "176f7acb-d2d3-46bc-82b9-6e8486fbcada",
   "metadata": {},
   "outputs": [
    {
     "name": "stdout",
     "output_type": "stream",
     "text": [
      "9\n",
      "8\n",
      "7\n",
      "6\n",
      "5\n",
      "4\n",
      "3\n",
      "2\n",
      "1\n"
     ]
    }
   ],
   "source": [
    "for k in range(10-1, 0, -1): print(k)"
   ]
  },
  {
   "cell_type": "code",
   "execution_count": 119,
   "id": "1674c745-87be-4278-be50-18827bcc54ab",
   "metadata": {},
   "outputs": [
    {
     "name": "stdout",
     "output_type": "stream",
     "text": [
      "2\n",
      "1\n"
     ]
    }
   ],
   "source": [
    "for i in [1, 2, 3, 4, 5, 6, 6, 7, 8][1:None:-1]:\n",
    "    print(i)"
   ]
  },
  {
   "cell_type": "code",
   "execution_count": 118,
   "id": "c4106dad-d3be-4d54-aae8-e7749c498149",
   "metadata": {},
   "outputs": [
    {
     "data": {
      "text/plain": [
       "[4, 3, 2, 1]"
      ]
     },
     "execution_count": 118,
     "metadata": {},
     "output_type": "execute_result"
    }
   ],
   "source": [
    "a = [1, 2, 3, 4, 5, 6, 7]\n",
    "slicer = slice(3, None, -1)\n",
    "a[slicer]"
   ]
  },
  {
   "cell_type": "code",
   "execution_count": 127,
   "id": "82af3c29-3a8c-4487-8adf-f085a0946966",
   "metadata": {},
   "outputs": [
    {
     "name": "stdout",
     "output_type": "stream",
     "text": [
      "0\n"
     ]
    }
   ],
   "source": [
    "for k in range(len([1])-1, -1, -1):\n",
    "    print(k)"
   ]
  },
  {
   "cell_type": "code",
   "execution_count": 129,
   "id": "77f1a755-569f-41cd-9495-fabb2a8dc8b9",
   "metadata": {},
   "outputs": [
    {
     "name": "stdout",
     "output_type": "stream",
     "text": [
      "0\n"
     ]
    }
   ],
   "source": [
    "for k in range(len([1])-1, -1, -1):\n",
    "    print(k)"
   ]
  },
  {
   "cell_type": "code",
   "execution_count": 136,
   "id": "15e9083e-9b3b-47bd-b0c4-62a784858dd8",
   "metadata": {},
   "outputs": [
    {
     "name": "stdout",
     "output_type": "stream",
     "text": [
      "[]\n"
     ]
    }
   ],
   "source": [
    "intents = [['a', 'u', 'c'], ['d']]\n",
    "r = 0\n",
    "y = 1\n",
    "k = 1\n",
    "print(intents[r][y:k+1:-1])\n",
    "for j in intents[r][y:k+1:-1]:\n",
    "    print(j)"
   ]
  },
  {
   "cell_type": "code",
   "execution_count": 141,
   "id": "2895a4e0-e6a5-4160-8c5f-d3fa2aec13bc",
   "metadata": {},
   "outputs": [
    {
     "data": {
      "text/plain": [
       "['c', 'u', 'a']"
      ]
     },
     "execution_count": 141,
     "metadata": {},
     "output_type": "execute_result"
    }
   ],
   "source": [
    "intents[r][2:None:-1]"
   ]
  },
  {
   "cell_type": "code",
   "execution_count": 144,
   "id": "6f21bb86-3144-4fa3-9492-c088d462e365",
   "metadata": {},
   "outputs": [
    {
     "name": "stdout",
     "output_type": "stream",
     "text": [
      "1\n"
     ]
    }
   ],
   "source": [
    "for j in range(1, 3 -1):\n",
    "    print(j)"
   ]
  },
  {
   "cell_type": "code",
   "execution_count": 155,
   "id": "db59b052-b825-4db7-8631-cd360bb6a988",
   "metadata": {},
   "outputs": [
    {
     "name": "stdout",
     "output_type": "stream",
     "text": [
      "Concept(extent=['a', 'b', 'c'], intent=['x', 'y'])\n",
      "['a', 'b', 'c'] ['a', 'b', 'c']\n",
      "Concept(extent=['a', 'b'], intent=['x', 'y'])\n"
     ]
    }
   ],
   "source": [
    "from collections.abc import Sequence\n",
    "\n",
    "class NamedMutableSequence(Sequence):\n",
    "    __slots__ = ()\n",
    "\n",
    "    def __init__(self, *a, **kw):\n",
    "        slots = self.__slots__\n",
    "        for k in slots:\n",
    "            setattr(self, k, kw.get(k))\n",
    "\n",
    "        if a:\n",
    "            for k, v in zip(slots, a):\n",
    "                setattr(self, k, v)\n",
    "\n",
    "    def __str__(self):\n",
    "        clsname = self.__class__.__name__\n",
    "        values = ', '.join('%s=%r' % (k, getattr(self, k))\n",
    "                           for k in self.__slots__)\n",
    "        return '%s(%s)' % (clsname, values)\n",
    "\n",
    "    __repr__ = __str__\n",
    "\n",
    "    def __getitem__(self, item):\n",
    "        return getattr(self, self.__slots__[item])\n",
    "\n",
    "    def __setitem__(self, item, value):\n",
    "        return setattr(self, self.__slots__[item], value)\n",
    "\n",
    "    def __len__(self):\n",
    "        return len(self.__slots__)\n",
    "\n",
    "class Concept(NamedMutableSequence):\n",
    "    __slots__ = ('extent', 'intent')\n",
    "    \n",
    "c = Concept(['a', 'b', 'c'], ['x', 'y'])\n",
    "print(c)\n",
    "print(c[0], c.extent)\n",
    "c.extent = ['a', 'b']\n",
    "print(c)"
   ]
  },
  {
   "cell_type": "code",
   "execution_count": 159,
   "id": "0795dc9f-a226-4e77-bf0d-a40ec6e4ca34",
   "metadata": {},
   "outputs": [
    {
     "data": {
      "text/plain": [
       "-2200168203086410552"
      ]
     },
     "execution_count": 159,
     "metadata": {},
     "output_type": "execute_result"
    }
   ],
   "source": [
    "hash(tuple(sorted(set(['a', 'b', 'c']).union(set(['x', 'y'])))))"
   ]
  },
  {
   "cell_type": "code",
   "execution_count": 160,
   "id": "8da5f81b-2bae-4143-8827-1a53d3838c8d",
   "metadata": {},
   "outputs": [
    {
     "data": {
      "text/plain": [
       "('a', 'b', 'c', 'x', 'y')"
      ]
     },
     "execution_count": 160,
     "metadata": {},
     "output_type": "execute_result"
    }
   ],
   "source": [
    "tuple(sorted(set(['a', 'b', 'c']).union(set(['x', 'y']))))"
   ]
  },
  {
   "cell_type": "code",
   "execution_count": 172,
   "id": "430dd368-1830-46ed-96c1-2de7d60c84e2",
   "metadata": {},
   "outputs": [],
   "source": [
    "import shutil\n",
    "import matplotlib.pyplot as plt\n",
    "import numpy as np\n",
    "import pandas as pd\n",
    "import pyomo.environ as pyomo"
   ]
  },
  {
   "cell_type": "code",
   "execution_count": 173,
   "id": "7e7f6725-e0f5-4453-be41-905bc502df53",
   "metadata": {},
   "outputs": [],
   "source": [
    "data = {\n",
    "    'A': {'abv': 0.045, 'cost': 0.32},\n",
    "    'B': {'abv': 0.037, 'cost': 0.25},\n",
    "    'W': {'abv': 0.000, 'cost': 0.05},\n",
    "}\n",
    "\n",
    "vol = 100\n",
    "abv = 0.040"
   ]
  },
  {
   "cell_type": "code",
   "execution_count": 176,
   "id": "6897876a-a9c1-4f6e-88c2-4a7aa4dc18b6",
   "metadata": {},
   "outputs": [
    {
     "name": "stdout",
     "output_type": "stream",
     "text": [
      "WARNING: Could not locate the 'glpsol' executable, which is required for\n",
      "    solver 'glpk'\n"
     ]
    },
    {
     "ename": "ApplicationError",
     "evalue": "No executable found for solver 'glpk'",
     "output_type": "error",
     "traceback": [
      "\u001b[0;31m---------------------------------------------------------------------------\u001b[0m",
      "\u001b[0;31mApplicationError\u001b[0m                          Traceback (most recent call last)",
      "Input \u001b[0;32mIn [176]\u001b[0m, in \u001b[0;36m<cell line: 19>\u001b[0;34m()\u001b[0m\n\u001b[1;32m     16\u001b[0m     \u001b[38;5;28mprint\u001b[39m(\u001b[38;5;124m'\u001b[39m\u001b[38;5;124mVolume = \u001b[39m\u001b[38;5;124m'\u001b[39m, model\u001b[38;5;241m.\u001b[39mvol(), \u001b[38;5;124m'\u001b[39m\u001b[38;5;124mgallons\u001b[39m\u001b[38;5;124m'\u001b[39m)\n\u001b[1;32m     17\u001b[0m     \u001b[38;5;28mprint\u001b[39m(\u001b[38;5;124m'\u001b[39m\u001b[38;5;124mCost = $\u001b[39m\u001b[38;5;124m'\u001b[39m, model\u001b[38;5;241m.\u001b[39mcost())\n\u001b[0;32m---> 19\u001b[0m \u001b[43mbeer_blend\u001b[49m\u001b[43m(\u001b[49m\u001b[43mvol\u001b[49m\u001b[43m,\u001b[49m\u001b[43m \u001b[49m\u001b[43mabv\u001b[49m\u001b[43m,\u001b[49m\u001b[43m \u001b[49m\u001b[43mdata\u001b[49m\u001b[43m)\u001b[49m\n",
      "Input \u001b[0;32mIn [176]\u001b[0m, in \u001b[0;36mbeer_blend\u001b[0;34m(vol, abv, data)\u001b[0m\n\u001b[1;32m      7\u001b[0m model\u001b[38;5;241m.\u001b[39mabv \u001b[38;5;241m=\u001b[39m pyomo\u001b[38;5;241m.\u001b[39mConstraint(expr \u001b[38;5;241m=\u001b[39m \u001b[38;5;241m0\u001b[39m \u001b[38;5;241m==\u001b[39m \u001b[38;5;28msum\u001b[39m(model\u001b[38;5;241m.\u001b[39mx[c]\u001b[38;5;241m*\u001b[39m(data[c][\u001b[38;5;124m'\u001b[39m\u001b[38;5;124mabv\u001b[39m\u001b[38;5;124m'\u001b[39m] \u001b[38;5;241m-\u001b[39m abv) \u001b[38;5;28;01mfor\u001b[39;00m c \u001b[38;5;129;01min\u001b[39;00m C))\n\u001b[1;32m      9\u001b[0m solver \u001b[38;5;241m=\u001b[39m pyomo\u001b[38;5;241m.\u001b[39mSolverFactory(\u001b[38;5;124m'\u001b[39m\u001b[38;5;124mglpk\u001b[39m\u001b[38;5;124m'\u001b[39m)\n\u001b[0;32m---> 10\u001b[0m \u001b[43msolver\u001b[49m\u001b[38;5;241;43m.\u001b[39;49m\u001b[43msolve\u001b[49m\u001b[43m(\u001b[49m\u001b[43mmodel\u001b[49m\u001b[43m)\u001b[49m\n\u001b[1;32m     12\u001b[0m \u001b[38;5;28mprint\u001b[39m(\u001b[38;5;124m'\u001b[39m\u001b[38;5;124mOptimal Blend\u001b[39m\u001b[38;5;124m'\u001b[39m)\n\u001b[1;32m     13\u001b[0m \u001b[38;5;28;01mfor\u001b[39;00m c \u001b[38;5;129;01min\u001b[39;00m data\u001b[38;5;241m.\u001b[39mkeys():\n",
      "File \u001b[0;32m~/Documents/PhD/Research/Envs/COMEG/lib/python3.9/site-packages/pyomo/opt/base/solvers.py:513\u001b[0m, in \u001b[0;36mOptSolver.solve\u001b[0;34m(self, *args, **kwds)\u001b[0m\n\u001b[1;32m    510\u001b[0m \u001b[38;5;28;01mdef\u001b[39;00m \u001b[38;5;21msolve\u001b[39m(\u001b[38;5;28mself\u001b[39m, \u001b[38;5;241m*\u001b[39margs, \u001b[38;5;241m*\u001b[39m\u001b[38;5;241m*\u001b[39mkwds):\n\u001b[1;32m    511\u001b[0m     \u001b[38;5;124;03m\"\"\" Solve the problem \"\"\"\u001b[39;00m\n\u001b[0;32m--> 513\u001b[0m     \u001b[38;5;28;43mself\u001b[39;49m\u001b[38;5;241;43m.\u001b[39;49m\u001b[43mavailable\u001b[49m\u001b[43m(\u001b[49m\u001b[43mexception_flag\u001b[49m\u001b[38;5;241;43m=\u001b[39;49m\u001b[38;5;28;43;01mTrue\u001b[39;49;00m\u001b[43m)\u001b[49m\n\u001b[1;32m    514\u001b[0m     \u001b[38;5;66;03m#\u001b[39;00m\n\u001b[1;32m    515\u001b[0m     \u001b[38;5;66;03m# If the inputs are models, then validate that they have been\u001b[39;00m\n\u001b[1;32m    516\u001b[0m     \u001b[38;5;66;03m# constructed! Collect suffix names to try and import from solution.\u001b[39;00m\n\u001b[1;32m    517\u001b[0m     \u001b[38;5;66;03m#\u001b[39;00m\n\u001b[1;32m    518\u001b[0m     \u001b[38;5;28;01mfrom\u001b[39;00m \u001b[38;5;21;01mpyomo\u001b[39;00m\u001b[38;5;21;01m.\u001b[39;00m\u001b[38;5;21;01mcore\u001b[39;00m\u001b[38;5;21;01m.\u001b[39;00m\u001b[38;5;21;01mbase\u001b[39;00m\u001b[38;5;21;01m.\u001b[39;00m\u001b[38;5;21;01mblock\u001b[39;00m \u001b[38;5;28;01mimport\u001b[39;00m _BlockData\n",
      "File \u001b[0;32m~/Documents/PhD/Research/Envs/COMEG/lib/python3.9/site-packages/pyomo/opt/solver/shellcmd.py:129\u001b[0m, in \u001b[0;36mSystemCallSolver.available\u001b[0;34m(self, exception_flag)\u001b[0m\n\u001b[1;32m    127\u001b[0m     \u001b[38;5;28;01mif\u001b[39;00m exception_flag:\n\u001b[1;32m    128\u001b[0m         msg \u001b[38;5;241m=\u001b[39m \u001b[38;5;124m\"\u001b[39m\u001b[38;5;124mNo executable found for solver \u001b[39m\u001b[38;5;124m'\u001b[39m\u001b[38;5;132;01m%s\u001b[39;00m\u001b[38;5;124m'\u001b[39m\u001b[38;5;124m\"\u001b[39m\n\u001b[0;32m--> 129\u001b[0m         \u001b[38;5;28;01mraise\u001b[39;00m ApplicationError(msg \u001b[38;5;241m%\u001b[39m \u001b[38;5;28mself\u001b[39m\u001b[38;5;241m.\u001b[39mname)\n\u001b[1;32m    130\u001b[0m     \u001b[38;5;28;01mreturn\u001b[39;00m \u001b[38;5;28;01mFalse\u001b[39;00m\n\u001b[1;32m    131\u001b[0m \u001b[38;5;28;01mreturn\u001b[39;00m \u001b[38;5;28;01mTrue\u001b[39;00m\n",
      "\u001b[0;31mApplicationError\u001b[0m: No executable found for solver 'glpk'"
     ]
    }
   ],
   "source": [
    "def beer_blend(vol, abv, data):\n",
    "    C = data.keys()\n",
    "    model = pyomo.ConcreteModel()\n",
    "    model.x = pyomo.Var(C, domain=pyomo.NonNegativeReals)\n",
    "    model.cost = pyomo.Objective(expr = sum(model.x[c]*data[c]['cost'] for c in C))\n",
    "    model.vol = pyomo.Constraint(expr = vol == sum(model.x[c] for c in C))\n",
    "    model.abv = pyomo.Constraint(expr = 0 == sum(model.x[c]*(data[c]['abv'] - abv) for c in C))\n",
    "\n",
    "    solver = pyomo.SolverFactory('glpk')\n",
    "    solver.solve(model)\n",
    "\n",
    "    print('Optimal Blend')\n",
    "    for c in data.keys():\n",
    "        print('  ', c, ':', model.x[c](), 'gallons')\n",
    "    print()\n",
    "    print('Volume = ', model.vol(), 'gallons')\n",
    "    print('Cost = $', model.cost())\n",
    "    \n",
    "beer_blend(vol, abv, data)"
   ]
  },
  {
   "cell_type": "code",
   "execution_count": 177,
   "id": "f6020a94-4e2c-481d-9fcc-0f1d057c60c4",
   "metadata": {},
   "outputs": [],
   "source": [
    "from scipy.optimize import linprog"
   ]
  },
  {
   "cell_type": "markdown",
   "id": "99ce5b16-626e-4230-9306-3aaa42fd4d17",
   "metadata": {},
   "source": [
    "min $z=x_1 + x_2 + x_3$, with $x_1=|g|$ and $x_2=|a|$ for a concept $C=(g, a)$  \n",
    "s.t.  \n",
    "$x_3 = k$"
   ]
  },
  {
   "cell_type": "code",
   "execution_count": 178,
   "id": "7abde299-c3be-4cff-8a14-69a7f8af4b04",
   "metadata": {},
   "outputs": [],
   "source": [
    "A = np.array([[-1, -1, -1], [-1, 2, 0], [0, 0, -1], [-1, 0, 0], [0, -1, 0], [0, 0, -1]])"
   ]
  },
  {
   "cell_type": "code",
   "execution_count": null,
   "id": "e7b41dbf-0d3b-42b5-b7e4-3f59791d3717",
   "metadata": {},
   "outputs": [],
   "source": []
  },
  {
   "cell_type": "code",
   "execution_count": null,
   "id": "b62f2f83-2a25-4029-9930-1c0a6093471d",
   "metadata": {},
   "outputs": [],
   "source": []
  },
  {
   "cell_type": "code",
   "execution_count": 12,
   "id": "0ffac0cf-f041-4137-90d1-9b618b0ee33a",
   "metadata": {},
   "outputs": [],
   "source": [
    "from pulp import *\n",
    "from itertools import combinations\n",
    "import time\n",
    "import numpy as np\n",
    "import pandas as pd"
   ]
  },
  {
   "cell_type": "code",
   "execution_count": 13,
   "id": "43c3add9-d634-46c4-b941-6c85c2d04051",
   "metadata": {},
   "outputs": [],
   "source": [
    "concepts = [ (['248193', '27822', '440025', '766882', '978914'], ['country_code_US', 'format_Paperback', 'is_ebook_false', 'publication_year_1998'])\n",
    " ,(['16241810', '203310'], ['country_code_US', 'format_Paperback', 'is_ebook_false', 'publication_year_2013'])\n",
    " ,(['1015201', '106251', '11425131', '1151331', '11853480', '1201579', '1201580', '12030685', '12173471', '127684', '12914', '13124956', '13237099', '1373', '1383945', '139374', '1420', '1450284', '146429', '146462', '147924', '150253', '154387', '16241149', '16241810', '171547', '17465598', '175626', '17675075', '179631', '1800460', '18528223', '203310', '20613761', '20702490', '20786859', '20949640', '211515', '22543936', '23129930', '239236', '2459339', '24611522', '248193', '25004284', '25330115', '25334576', '25362908', '2547', '2549', '25572095', '25937948', '27209355', '27409510', '27494', '27822', '27837534', '279769', '28818688', '28818718', '29358559', '29363291', '304485', '313972', '333706', '3612415', '364141', '40795', '440025', '45974', '508149', '539477', '5932', '606104', '63114', '6585085', '6612726', '6798263', '70189', '7090309', '7427866', '766882', '8122927', '853153', '85745', '93405', '9583799', '97553', '978914'], ['country_code_US', 'is_ebook_false'])\n",
    " ,(['127684', '1373', '171547', '179631', '211515', '333706', '539477'], ['country_code_US', 'is_ebook_false', 'language_code_en-US'])\n",
    " ,(['127684', '179631', '333706'], ['country_code_US', 'is_ebook_false', 'language_code_en-US', 'publication_month_11'])\n",
    " ,(['179631', '333706'], ['country_code_US', 'is_ebook_false', 'language_code_en-US', 'publication_month_11', 'publisher_Penguin Classics'])\n",
    " ,(['1373', '333706'], ['country_code_US', 'is_ebook_false', 'language_code_en-US', 'publication_year_1997'])\n",
    " ,(['12914', '13124956', '13237099', '139374', '1420', '146429', '150253', '175626', '203310', '20613761', '239236', '248193', '25004284', '25334576', '2547', '25572095', '27494', '27822', '28818688', '304485', '313972', '3612415', '364141', '40795', '45974', '5932', '6798263', '766882', '85745', '97553'], ['country_code_US', 'is_ebook_false', 'language_code_eng'])\n",
    " ,(['17465598', '20613761', '20949640', '211515', '24611522', '25937948', '27822', '279769', '29363291', '539477', '6798263', '7427866'], ['country_code_US', 'is_ebook_false', 'publication_month_10'])\n",
    " ,(['11425131', '127684', '179631', '333706', '85745', '9583799'], ['country_code_US', 'is_ebook_false', 'publication_month_11'])\n",
    " ,(['1151331', '12173471', '203310', '25362908', '45974', '5932'], ['country_code_US', 'is_ebook_false', 'publication_month_12'])\n",
    " ,(['606104', '97553'], ['country_code_US', 'is_ebook_false', 'publication_month_2'])\n",
    " ,(['1373', '146462', '333706'], ['country_code_US', 'is_ebook_false', 'publication_year_1997'])\n",
    " ,(['16241149', '16241810', '17465598', '203310'], ['country_code_US', 'is_ebook_false', 'publication_year_2013'])\n",
    " ,(['175626', '179631', '333706', '45974', '5932'], ['country_code_US', 'is_ebook_false', 'publisher_Penguin Classics'])\n",
    " ,(['12914', '13124956', '13237099', '139374', '1420', '146429', '150253', '175626', '17910294', '203310', '20613761', '239236', '248193', '25004284', '25334576', '2547', '25572095', '27494', '27822', '28818688', '304485', '313972', '3612415', '364141', '40795', '45974', '5932', '6798263', '766882', '85745', '97553'], ['country_code_US', 'language_code_eng'])\n",
    " ,(['17910294', '20613761', '27822', '6798263'], ['country_code_US', 'language_code_eng', 'publication_month_10'])\n",
    " ,(['17910294', '203310'], ['country_code_US', 'language_code_eng', 'publication_year_2013'])\n",
    " ,(['17465598', '17910294', '20613761', '20949640', '211515', '24611522', '25937948', '27822', '279769', '29363291', '539477', '6798263', '7427866'], ['country_code_US', 'publication_month_10'])\n",
    " ,(['1151331', '12173471', '203310', '23568532', '25362908', '45974', '5932'], ['country_code_US', 'publication_month_12'])\n",
    " ,(['16241149', '16241810', '17465598', '17910294', '203310'], ['country_code_US', 'publication_year_2013'])\n",
    "           ]            "
   ]
  },
  {
   "cell_type": "code",
   "execution_count": 14,
   "id": "52340a83-f091-421a-8701-3ea94f9e8fec",
   "metadata": {},
   "outputs": [
    {
     "name": "stdout",
     "output_type": "stream",
     "text": [
      "159\n"
     ]
    }
   ],
   "source": [
    "concepts2 = [(['304485'], ['country_code_US', 'edition_information_', 'format_Paperback', 'is_ebook_false', 'language_code_eng', 'publication_month_4', 'publication_year_1995', 'publisher_W. W. Norton  Company', 'title_On Lies, Secrets, and Silence: Selected Prose, 1966-1978', 'title_without_series_On Lies, Secrets, and Silence: Selected Prose, 1966-1978'])\n",
    ",(['13124956', '248193', '766882'], ['country_code_US', 'edition_information_', 'format_Paperback', 'is_ebook_false', 'language_code_eng', 'publication_month_5'])\n",
    ",(['248193', '766882'], ['country_code_US', 'edition_information_', 'format_Paperback', 'is_ebook_false', 'language_code_eng', 'publication_month_5', 'publication_year_1998'])\n",
    ",(['248193'], ['country_code_US', 'edition_information_', 'format_Paperback', 'is_ebook_false', 'language_code_eng', 'publication_month_5', 'publication_year_1998', 'publisher_Basic Books', 'title_Le Ton beau de Marot: In Praise of the Music of Language', 'title_without_series_Le Ton beau de Marot: In Praise of the Music of Language'])\n",
    ",(['766882'], ['country_code_US', 'edition_information_', 'format_Paperback', 'is_ebook_false', 'language_code_eng', 'publication_month_5', 'publication_year_1998', 'publisher_Oxford University Press', 'title_Metamorphoses', 'title_without_series_Metamorphoses'])\n",
    ",(['13124956'], ['country_code_US', 'edition_information_', 'format_Paperback', 'is_ebook_false', 'language_code_eng', 'publication_month_5', 'publication_year_2012', 'publisher_Copper Canyon Press', 'title_When My Brother Was an Aztec', 'title_without_series_When My Brother Was an Aztec'])\n",
    ",(['12914', '25572095'], ['country_code_US', 'edition_information_', 'format_Paperback', 'is_ebook_false', 'language_code_eng', 'publication_month_6'])\n",
    ",(['12914'], ['country_code_US', 'edition_information_', 'format_Paperback', 'is_ebook_false', 'language_code_eng', 'publication_month_6', 'publication_year_1990', 'publisher_Vintage', 'title_The Aeneid', 'title_without_series_The Aeneid'])\n",
    ",(['25572095'], ['country_code_US', 'edition_information_', 'format_Paperback', 'is_ebook_false', 'language_code_eng', 'publication_month_6', 'publication_year_2015', 'publisher_Timeless, Infinite Light', 'title_Tender Points', 'title_without_series_Tender Points'])\n",
    ",(['13237099', '1420', '25004284', '27494'], ['country_code_US', 'edition_information_', 'format_Paperback', 'is_ebook_false', 'language_code_eng', 'publication_month_8'])\n",
    ",(['1420'], ['country_code_US', 'edition_information_', 'format_Paperback', 'is_ebook_false', 'language_code_eng', 'publication_month_8', 'publication_year_2005', 'publisher_Cambridge University Press', 'title_Hamlet', 'title_without_series_Hamlet'])\n",
    ",(['27494'], ['country_code_US', 'edition_information_', 'format_Paperback', 'is_ebook_false', 'language_code_eng', 'publication_month_8', 'publication_year_2006', 'publisher_Simon & Schuster', 'title_Leaves of Grass', 'title_without_series_Leaves of Grass'])\n",
    ",(['13237099'], ['country_code_US', 'edition_information_', 'format_Paperback', 'is_ebook_false', 'language_code_eng', 'publication_month_8', 'publication_year_2012', 'publisher_Wave Books', 'title_Madness, Rack, and Honey: Collected Lectures', 'title_without_series_Madness, Rack, and Honey: Collected Lectures'])\n",
    ",(['25004284'], ['country_code_US', 'edition_information_', 'format_Paperback', 'is_ebook_false', 'language_code_eng', 'publication_month_8', 'publication_year_2015', 'publisher_Anhinga Press', 'title_Shipbreaking', 'title_without_series_Shipbreaking'])\n",
    ",(['139374', '1420'], ['country_code_US', 'edition_information_', 'format_Paperback', 'is_ebook_false', 'language_code_eng', 'publication_year_2005'])\n",
    ",(['27494', '5932', '85745'], ['country_code_US', 'edition_information_', 'format_Paperback', 'is_ebook_false', 'language_code_eng', 'publication_year_2006'])\n",
    ",(['3612415', '6798263'], ['country_code_US', 'edition_information_', 'format_Paperback', 'is_ebook_false', 'language_code_eng', 'publication_year_2009'])\n",
    ",(['13124956', '13237099'], ['country_code_US', 'edition_information_', 'format_Paperback', 'is_ebook_false', 'language_code_eng', 'publication_year_2012'])\n",
    ",(['25004284', '25572095'], ['country_code_US', 'edition_information_', 'format_Paperback', 'is_ebook_false', 'language_code_eng', 'publication_year_2015'])\n",
    ",(['3612415', '85745'], ['country_code_US', 'edition_information_', 'format_Paperback', 'is_ebook_false', 'language_code_eng', 'publisher_City Lights Publishers'])\n",
    ",(['175626', '45974', '5932'], ['country_code_US', 'edition_information_', 'format_Paperback', 'is_ebook_false', 'language_code_eng', 'publisher_Penguin Classics'])\n",
    ",(['13237099', '6798263'], ['country_code_US', 'edition_information_', 'format_Paperback', 'is_ebook_false', 'language_code_eng', 'publisher_Wave Books'])\n",
    ",(['146429', '146462', '171547', '25330115', '2547', '3612415', '40795', '63114'], ['country_code_US', 'edition_information_', 'format_Paperback', 'is_ebook_false', 'publication_month_1'])\n",
    ",(['3612415', '63114'], ['country_code_US', 'edition_information_', 'format_Paperback', 'is_ebook_false', 'publication_month_1', 'publisher_City Lights Publishers'])\n",
    ",(['20613761', '20949640', '211515', '279769', '539477', '6798263'], ['country_code_US', 'edition_information_', 'format_Paperback', 'is_ebook_false', 'publication_month_10'])\n",
    ",(['20613761', '20949640'], ['country_code_US', 'edition_information_', 'format_Paperback', 'is_ebook_false', 'publication_month_10', 'publication_year_2014'])\n",
    ",(['11425131', '127684', '179631', '85745', '9583799'], ['country_code_US', 'edition_information_', 'format_Paperback', 'is_ebook_false', 'publication_month_11'])\n",
    ",(['1151331', '12173471', '45974', '5932'], ['country_code_US', 'edition_information_', 'format_Paperback', 'is_ebook_false', 'publication_month_12'])\n",
    ",(['1151331', '45974'], ['country_code_US', 'edition_information_', 'format_Paperback', 'is_ebook_false', 'publication_month_12', 'publication_year_2002'])\n",
    ",(['1373', '139374', '1450284', '20786859'], ['country_code_US', 'edition_information_', 'format_Paperback', 'is_ebook_false', 'publication_month_3'])\n",
    ",(['106251', '23129930', '27409510', '27837534', '304485', '364141', '6612726', '93405'], ['country_code_US', 'edition_information_', 'format_Paperback', 'is_ebook_false', 'publication_month_4'])\n",
    ",(['106251', '304485', '364141', '93405'], ['country_code_US', 'edition_information_', 'format_Paperback', 'is_ebook_false', 'publication_month_4', 'publisher_W. W. Norton  Company'])\n",
    ",(['11853480', '13124956', '147924', '1800460', '248193', '508149', '766882', '978914'], ['country_code_US', 'edition_information_', 'format_Paperback', 'is_ebook_false', 'publication_month_5'])\n",
    ",(['248193', '766882', '978914'], ['country_code_US', 'edition_information_', 'format_Paperback', 'is_ebook_false', 'publication_month_5', 'publication_year_1998'])\n",
    ",(['13124956', '978914'], ['country_code_US', 'edition_information_', 'format_Paperback', 'is_ebook_false', 'publication_month_5', 'publisher_Copper Canyon Press'])\n",
    ",(['1201580', '12914', '2459339', '25572095', '27209355', '6585085'], ['country_code_US', 'edition_information_', 'format_Paperback', 'is_ebook_false', 'publication_month_6'])\n",
    ",(['13237099', '1420', '25004284', '27494', '440025'], ['country_code_US', 'edition_information_', 'format_Paperback', 'is_ebook_false', 'publication_month_8'])\n",
    ",(['1373', '146462'], ['country_code_US', 'edition_information_', 'format_Paperback', 'is_ebook_false', 'publication_year_1997'])\n",
    ",(['248193', '440025', '766882', '978914'], ['country_code_US', 'edition_information_', 'format_Paperback', 'is_ebook_false', 'publication_year_1998'])\n",
    ",(['1201580', '127684', '147924', '279769', '63114'], ['country_code_US', 'edition_information_', 'format_Paperback', 'is_ebook_false', 'publication_year_2001'])\n",
    ",(['1151331', '1450284', '211515', '45974'], ['country_code_US', 'edition_information_', 'format_Paperback', 'is_ebook_false', 'publication_year_2002'])\n",
    ",(['150253', '853153'], ['country_code_US', 'edition_information_', 'format_Paperback', 'is_ebook_false', 'publication_year_2003'])\n",
    ",(['1201579', '139374', '1420', '171547'], ['country_code_US', 'edition_information_', 'format_Paperback', 'is_ebook_false', 'publication_year_2005'])\n",
    ",(['27494', '508149', '5932', '85745'], ['country_code_US', 'edition_information_', 'format_Paperback', 'is_ebook_false', 'publication_year_2006'])\n",
    ",(['3612415', '6585085', '6798263'], ['country_code_US', 'edition_information_', 'format_Paperback', 'is_ebook_false', 'publication_year_2009'])\n",
    ",(['2547', '6612726', '9583799'], ['country_code_US', 'edition_information_', 'format_Paperback', 'is_ebook_false', 'publication_year_2010'])\n",
    ",(['18528223', '20613761', '20702490', '20786859', '20949640'], ['country_code_US', 'edition_information_', 'format_Paperback', 'is_ebook_false', 'publication_year_2014'])\n",
    ",(['23129930', '25004284', '25572095'], ['country_code_US', 'edition_information_', 'format_Paperback', 'is_ebook_false', 'publication_year_2015'])\n",
    ",(['12173471', '23129930', '3612415', '63114', '85745'], ['country_code_US', 'edition_information_', 'format_Paperback', 'is_ebook_false', 'publisher_City Lights Publishers'])\n",
    ",(['1201579', '1201580', '13124956', '18528223', '25330115', '6585085', '978914'], ['country_code_US', 'edition_information_', 'format_Paperback', 'is_ebook_false', 'publisher_Copper Canyon Press'])\n",
    ",(['139374', '279769'], ['country_code_US', 'edition_information_', 'format_Paperback', 'is_ebook_false', 'publisher_Da Capo Press'])\n",
    ",(['147924', '16241810', '40795'], ['country_code_US', 'edition_information_', 'format_Paperback', 'is_ebook_false', 'publisher_New Directions'])\n",
    ",(['175626', '179631', '45974', '5932'], ['country_code_US', 'edition_information_', 'format_Paperback', 'is_ebook_false', 'publisher_Penguin Classics'])\n",
    ",(['12914', '539477'], ['country_code_US', 'edition_information_', 'format_Paperback', 'is_ebook_false', 'publisher_Vintage'])\n",
    ",(['106251', '146462', '304485', '364141', '93405'], ['country_code_US', 'edition_information_', 'format_Paperback', 'is_ebook_false', 'publisher_W. W. Norton  Company'])\n",
    ",(['13237099', '20702490', '2459339', '28818718', '508149', '6798263'], ['country_code_US', 'edition_information_', 'format_Paperback', 'is_ebook_false', 'publisher_Wave Books'])\n",
    ",(['10898243', '17910294', '23568532'], ['country_code_US', 'edition_information_', 'format_ebook', 'is_ebook_true'])\n",
    ",(['10898243', '23568532'], ['country_code_US', 'edition_information_', 'format_ebook', 'is_ebook_true', 'language_code_'])\n",
    ",(['23568532'], ['country_code_US', 'edition_information_', 'format_ebook', 'is_ebook_true', 'language_code_', 'publication_month_12', 'publication_year_2014', 'publisher_Farrar, Straus and Giroux', 'title_Breathturn into Timestead: The Collected Later Poetry', 'title_without_series_Breathturn into Timestead: The Collected Later Poetry'])\n",
    ",(['10898243'], ['country_code_US', 'edition_information_', 'format_ebook', 'is_ebook_true', 'language_code_', 'publication_month_7', 'publication_year_2011', 'publisher_Smashwords Edition', 'title_Night of Pure Breathing', 'title_without_series_Night of Pure Breathing'])\n",
    ",(['17910294'], ['country_code_US', 'edition_information_', 'format_ebook', 'is_ebook_true', 'language_code_eng', 'publication_month_10', 'publication_year_2013', 'publisher_Farrar, Straus and Giroux', 'title_Holding On Upside Down: The Life and Work of Marianne Moore', 'title_without_series_Holding On Upside Down: The Life and Work of Marianne Moore'])\n",
    ",(['17910294', '23568532'], ['country_code_US', 'edition_information_', 'format_ebook', 'is_ebook_true', 'publisher_Farrar, Straus and Giroux'])\n",
    ",(['1015201', '106251', '11425131', '1151331', '11853480', '1201579', '1201580', '12030685', '12173471', '127684', '12914', '13124956', '13237099', '1373', '1383945', '139374', '1420', '1450284', '146429', '146462', '147924', '150253', '154387', '16241149', '16241810', '171547', '17465598', '175626', '17675075', '179631', '1800460', '18528223', '20613761', '20702490', '20786859', '20949640', '211515', '22543936', '23129930', '239236', '2459339', '24611522', '248193', '25004284', '25330115', '25334576', '25362908', '2547', '2549', '25572095', '25937948', '27209355', '27409510', '27494', '27837534', '279769', '28818688', '28818718', '29358559', '29363291', '304485', '313972', '3612415', '364141', '40795', '440025', '45974', '508149', '539477', '5932', '606104', '63114', '6585085', '6612726', '6798263', '70189', '7090309', '766882', '8122927', '853153', '85745', '93405', '9583799', '978914'], ['country_code_US', 'edition_information_', 'is_ebook_false'])\n",
    ",(['1015201', '106251', '11425131', '1151331', '11853480', '1201579', '1201580', '12030685', '12173471', '1383945', '1450284', '146462', '154387', '16241149', '16241810', '17465598', '17675075', '1800460', '18528223', '20702490', '20786859', '20949640', '22543936', '23129930', '2459339', '25330115', '25362908', '2549', '25937948', '27209355', '27409510', '27837534', '279769', '28818718', '29358559', '29363291', '440025', '508149', '606104', '63114', '6585085', '6612726', '70189', '7090309', '8122927', '853153', '93405', '978914'], ['country_code_US', 'edition_information_', 'is_ebook_false', 'language_code_'])\n",
    ",(['1015201', '1383945', '154387', '22543936', '29358559', '8122927'], ['country_code_US', 'edition_information_', 'is_ebook_false', 'language_code_', 'publication_month_'])\n",
    ",(['146462', '25330115', '63114', '7090309'], ['country_code_US', 'edition_information_', 'is_ebook_false', 'language_code_', 'publication_month_1'])\n",
    ",(['17465598', '20949640', '25937948', '279769', '29363291'], ['country_code_US', 'edition_information_', 'is_ebook_false', 'language_code_', 'publication_month_10'])\n",
    ",(['1151331', '12173471', '25362908'], ['country_code_US', 'edition_information_', 'is_ebook_false', 'language_code_', 'publication_month_12'])\n",
    ",(['106251', '17675075', '23129930', '27409510', '27837534', '6612726', '93405'], ['country_code_US', 'edition_information_', 'is_ebook_false', 'language_code_', 'publication_month_4'])\n",
    ",(['1201580', '2459339', '2549', '27209355', '6585085', '70189'], ['country_code_US', 'edition_information_', 'is_ebook_false', 'language_code_', 'publication_month_6'])\n",
    ",(['12030685', '16241149', '440025'], ['country_code_US', 'edition_information_', 'is_ebook_false', 'language_code_', 'publication_month_8'])\n",
    ",(['508149', '70189'], ['country_code_US', 'edition_information_', 'is_ebook_false', 'language_code_', 'publication_year_2006'])\n",
    ",(['6612726', '7090309'], ['country_code_US', 'edition_information_', 'is_ebook_false', 'language_code_', 'publication_year_2010'])\n",
    ",(['16241149', '16241810', '17465598'], ['country_code_US', 'edition_information_', 'is_ebook_false', 'language_code_', 'publication_year_2013'])\n",
    ",(['17675075', '18528223', '20702490', '20786859', '20949640'], ['country_code_US', 'edition_information_', 'is_ebook_false', 'language_code_', 'publication_year_2014'])\n",
    ",(['23129930', '25362908'], ['country_code_US', 'edition_information_', 'is_ebook_false', 'language_code_', 'publication_year_2015'])\n",
    ",(['25330115', '25937948', '27209355', '27409510', '27837534', '28818718', '29363291'], ['country_code_US', 'edition_information_', 'is_ebook_false', 'language_code_', 'publication_year_2016'])\n",
    ",(['28818718', '29363291'], ['country_code_US', 'edition_information_', 'is_ebook_false', 'language_code_', 'publication_year_2016', 'publisher_Wave Books'])\n",
    ",(['106251', '146462', '16241149', '70189', '93405'], ['country_code_US', 'edition_information_', 'is_ebook_false', 'language_code_', 'publisher_W. W. Norton  Company'])\n",
    ",(['17465598', '20702490', '2459339', '28818718', '29363291', '508149'], ['country_code_US', 'edition_information_', 'is_ebook_false', 'language_code_', 'publisher_Wave Books'])\n",
    ",(['147924', '24611522', '9583799'], ['country_code_US', 'edition_information_', 'is_ebook_false', 'language_code_en-GB'])\n",
    ",(['12914', '13124956', '13237099', '139374', '1420', '146429', '150253', '175626', '20613761', '239236', '248193', '25004284', '25334576', '2547', '25572095', '27494', '28818688', '304485', '313972', '3612415', '364141', '40795', '45974', '5932', '6798263', '766882', '85745'], ['country_code_US', 'edition_information_', 'is_ebook_false', 'language_code_eng'])\n",
    ",(['150253', '175626', '28818688', '313972'], ['country_code_US', 'edition_information_', 'is_ebook_false', 'language_code_eng', 'publication_month_'])\n",
    ",(['150253', '239236'], ['country_code_US', 'edition_information_', 'is_ebook_false', 'language_code_eng', 'publication_year_2003'])\n",
    ",(['25004284', '25334576', '25572095'], ['country_code_US', 'edition_information_', 'is_ebook_false', 'language_code_eng', 'publication_year_2015'])\n",
    ",(['13124956', '239236'], ['country_code_US', 'edition_information_', 'is_ebook_false', 'language_code_eng', 'publisher_Copper Canyon Press'])\n",
    ",(['1015201', '1383945', '150253', '154387', '175626', '22543936', '28818688', '29358559', '313972', '8122927'], ['country_code_US', 'edition_information_', 'is_ebook_false', 'publication_month_'])\n",
    ",(['146429', '146462', '171547', '25330115', '2547', '3612415', '40795', '63114', '7090309'], ['country_code_US', 'edition_information_', 'is_ebook_false', 'publication_month_1'])\n",
    ",(['2547', '7090309'], ['country_code_US', 'edition_information_', 'is_ebook_false', 'publication_month_1', 'publication_year_2010'])\n",
    ",(['17465598', '20613761', '20949640', '211515', '24611522', '25937948', '279769', '29363291', '539477', '6798263'], ['country_code_US', 'edition_information_', 'is_ebook_false', 'publication_month_10'])\n",
    ",(['17465598', '29363291', '6798263'], ['country_code_US', 'edition_information_', 'is_ebook_false', 'publication_month_10', 'publisher_Wave Books'])\n",
    ",(['1151331', '12173471', '25362908', '45974', '5932'], ['country_code_US', 'edition_information_', 'is_ebook_false', 'publication_month_12'])\n",
    ",(['106251', '17675075', '23129930', '27409510', '27837534', '304485', '364141', '6612726', '93405'], ['country_code_US', 'edition_information_', 'is_ebook_false', 'publication_month_4'])\n",
    ",(['1201580', '12914', '2459339', '2549', '25572095', '27209355', '6585085', '70189'], ['country_code_US', 'edition_information_', 'is_ebook_false', 'publication_month_6'])\n",
    ",(['16241810', '18528223', '239236'], ['country_code_US', 'edition_information_', 'is_ebook_false', 'publication_month_7'])\n",
    ",(['18528223', '239236'], ['country_code_US', 'edition_information_', 'is_ebook_false', 'publication_month_7', 'publisher_Copper Canyon Press'])\n",
    ",(['12030685', '13237099', '1420', '16241149', '25004284', '27494', '440025'], ['country_code_US', 'edition_information_', 'is_ebook_false', 'publication_month_8'])\n",
    ",(['12030685', '13237099'], ['country_code_US', 'edition_information_', 'is_ebook_false', 'publication_month_8', 'publication_year_2012'])\n",
    ",(['1201579', '20702490', '25334576', '28818718', '853153'], ['country_code_US', 'edition_information_', 'is_ebook_false', 'publication_month_9'])\n",
    ",(['150253', '239236', '853153'], ['country_code_US', 'edition_information_', 'is_ebook_false', 'publication_year_2003'])\n",
    ",(['27494', '508149', '5932', '70189', '85745'], ['country_code_US', 'edition_information_', 'is_ebook_false', 'publication_year_2006'])\n",
    ",(['2547', '6612726', '7090309', '9583799'], ['country_code_US', 'edition_information_', 'is_ebook_false', 'publication_year_2010'])\n",
    ",(['12030685', '13124956', '13237099'], ['country_code_US', 'edition_information_', 'is_ebook_false', 'publication_year_2012'])\n",
    ",(['17675075', '18528223', '20613761', '20702490', '20786859', '20949640'], ['country_code_US', 'edition_information_', 'is_ebook_false', 'publication_year_2014'])\n",
    ",(['23129930', '24611522', '25004284', '25334576', '25362908', '25572095'], ['country_code_US', 'edition_information_', 'is_ebook_false', 'publication_year_2015'])\n",
    ",(['25330115', '25937948', '27209355', '27409510', '27837534', '28818688', '28818718', '29363291'], ['country_code_US', 'edition_information_', 'is_ebook_false', 'publication_year_2016'])\n",
    ",(['1201579', '1201580', '13124956', '18528223', '239236', '25330115', '6585085', '978914'], ['country_code_US', 'edition_information_', 'is_ebook_false', 'publisher_Copper Canyon Press'])\n",
    ",(['106251', '146462', '16241149', '304485', '364141', '70189', '93405'], ['country_code_US', 'edition_information_', 'is_ebook_false', 'publisher_W. W. Norton  Company'])\n",
    ",(['13237099', '17465598', '20702490', '2459339', '28818718', '29363291', '508149', '6798263'], ['country_code_US', 'edition_information_', 'is_ebook_false', 'publisher_Wave Books'])\n",
    ",(['1015201', '106251', '10898243', '11425131', '1151331', '11853480', '1201579', '1201580', '12030685', '12173471', '1383945', '1450284', '146462', '154387', '16241149', '16241810', '17465598', '17675075', '1800460', '18528223', '20702490', '20786859', '20949640', '22543936', '23129930', '23568532', '2459339', '25330115', '25362908', '2549', '25937948', '27209355', '27409510', '27837534', '279769', '28818718', '29358559', '29363291', '440025', '508149', '606104', '63114', '6585085', '6612726', '70189', '7090309', '8122927', '853153', '93405', '978914'], ['country_code_US', 'edition_information_', 'language_code_'])\n",
    ",(['1151331', '12173471', '23568532', '25362908'], ['country_code_US', 'edition_information_', 'language_code_', 'publication_month_12'])\n",
    ",(['10898243', '16241810', '18528223'], ['country_code_US', 'edition_information_', 'language_code_', 'publication_month_7'])\n",
    ",(['10898243', '11425131', '11853480', '12173471'], ['country_code_US', 'edition_information_', 'language_code_', 'publication_year_2011'])\n",
    ",(['17675075', '18528223', '20702490', '20786859', '20949640', '23568532'], ['country_code_US', 'edition_information_', 'language_code_', 'publication_year_2014'])\n",
    ",(['12914', '13124956', '13237099', '139374', '1420', '146429', '150253', '175626', '17910294', '20613761', '239236', '248193', '25004284', '25334576', '2547', '25572095', '27494', '28818688', '304485', '313972', '3612415', '364141', '40795', '45974', '5932', '6798263', '766882', '85745'], ['country_code_US', 'edition_information_', 'language_code_eng'])\n",
    ",(['17910294', '20613761', '6798263'], ['country_code_US', 'edition_information_', 'language_code_eng', 'publication_month_10'])\n",
    ",(['17465598', '17910294', '20613761', '20949640', '211515', '24611522', '25937948', '279769', '29363291', '539477', '6798263'], ['country_code_US', 'edition_information_', 'publication_month_10'])\n",
    ",(['17465598', '17910294'], ['country_code_US', 'edition_information_', 'publication_month_10', 'publication_year_2013'])\n",
    ",(['1151331', '12173471', '23568532', '25362908', '45974', '5932'], ['country_code_US', 'edition_information_', 'publication_month_12'])\n",
    ",(['10898243', '16241810', '18528223', '239236'], ['country_code_US', 'edition_information_', 'publication_month_7'])\n",
    ",(['16241149', '16241810', '17465598', '17910294'], ['country_code_US', 'edition_information_', 'publication_year_2013'])\n",
    ",(['17675075', '18528223', '20613761', '20702490', '20786859', '20949640', '23568532'], ['country_code_US', 'edition_information_', 'publication_year_2014'])\n",
    ",(['7427866'], ['country_code_US', 'edition_information_Clasicos Universales Planeta', 'format_Paperback', 'is_ebook_false', 'language_code_spa', 'publication_month_10', 'publication_year_1981', 'publisher_Editorial Planeta', 'title_La vida es sueño: drama y auto sacramental', 'title_without_series_La vida es sueño: drama y auto sacramental'])\n",
    ",(['97553'], ['country_code_US', 'edition_information_Faber Library Edition', 'format_Hardcover', 'is_ebook_false', 'language_code_eng', 'publication_month_2', 'publication_year_1996', 'publisher_Faber and Faber', 'title_Crow: From the Life and Songs of the Crow', 'title_without_series_Crow: From the Life and Songs of the Crow'])\n",
    ",(['203310'], ['country_code_US', 'edition_information_HarperPerennial Modern Classics', 'format_Paperback', 'is_ebook_false', 'language_code_eng', 'publication_month_12', 'publication_year_2013', 'publisher_Harper Perennial Modern Classics', 'title_Poetry, Language, Thought', 'title_without_series_Poetry, Language, Thought'])\n",
    ",(['27822'], ['country_code_US', \"edition_information_Oxford World's Classics\", 'format_Paperback', 'is_ebook_false', 'language_code_eng', 'publication_month_10', 'publication_year_1998', 'publisher_Oxford University Press', 'title_Eugene Onegin', 'title_without_series_Eugene Onegin'])\n",
    ",(['333706'], ['country_code_US', 'edition_information_Penguin Classics Deluxe Edition', 'format_', 'is_ebook_false', 'language_code_en-US', 'publication_month_11', 'publication_year_1997', 'publisher_Penguin Classics', 'title_The Odyssey', 'title_without_series_The Odyssey'])\n",
    ",(['1015201', '154387', '22543936', '29358559', '313972', '333706', '8122927'], ['country_code_US', 'format_', 'is_ebook_false'])\n",
    ",(['12030685', '1383945', '16241149', '17465598', '17675075', '239236', '24611522', '25334576', '25362908', '2549', '25937948', '28818688', '29363291', '70189', '7090309', '97553'], ['country_code_US', 'format_Hardcover', 'is_ebook_false'])\n",
    ",(['239236', '25334576', '28818688', '97553'], ['country_code_US', 'format_Hardcover', 'is_ebook_false', 'language_code_eng'])\n",
    ",(['106251', '11425131', '1151331', '11853480', '1201579', '1201580', '12173471', '127684', '12914', '13124956', '13237099', '1373', '139374', '1420', '1450284', '146429', '146462', '147924', '150253', '16241810', '171547', '175626', '179631', '1800460', '18528223', '203310', '20613761', '20702490', '20786859', '20949640', '211515', '23129930', '2459339', '248193', '25004284', '25330115', '2547', '25572095', '27209355', '27409510', '27494', '27822', '27837534', '279769', '28818718', '304485', '3612415', '364141', '40795', '440025', '45974', '508149', '539477', '5932', '606104', '63114', '6585085', '6612726', '6798263', '7427866', '766882', '853153', '85745', '93405', '9583799', '978914'], ['country_code_US', 'format_Paperback', 'is_ebook_false'])\n",
    ",(['12914', '13124956', '13237099', '139374', '1420', '146429', '150253', '175626', '203310', '20613761', '248193', '25004284', '2547', '25572095', '27494', '27822', '304485', '3612415', '364141', '40795', '45974', '5932', '6798263', '766882', '85745'], ['country_code_US', 'format_Paperback', 'is_ebook_false', 'language_code_eng'])\n",
    ",(['20613761', '27822', '6798263'], ['country_code_US', 'format_Paperback', 'is_ebook_false', 'language_code_eng', 'publication_month_10'])\n",
    ",(['203310', '45974', '5932'], ['country_code_US', 'format_Paperback', 'is_ebook_false', 'language_code_eng', 'publication_month_12'])\n",
    ",(['248193', '27822', '766882'], ['country_code_US', 'format_Paperback', 'is_ebook_false', 'language_code_eng', 'publication_year_1998'])\n",
    ",(['27822', '766882'], ['country_code_US', 'format_Paperback', 'is_ebook_false', 'language_code_eng', 'publication_year_1998', 'publisher_Oxford University Press'])\n",
    ",(['20613761', '20949640', '211515', '27822', '279769', '539477', '6798263', '7427866'], ['country_code_US', 'format_Paperback', 'is_ebook_false', 'publication_month_10'])\n",
    ",(['1151331', '12173471', '203310', '45974', '5932'], ['country_code_US', 'format_Paperback', 'is_ebook_false', 'publication_month_12'])\n",
    ",(['248193', '27822', '440025', '766882', '978914'], ['country_code_US', 'format_Paperback', 'is_ebook_false', 'publication_year_1998'])\n",
    ",(['16241810', '203310'], ['country_code_US', 'format_Paperback', 'is_ebook_false', 'publication_year_2013'])\n",
    ",(['1015201', '106251', '11425131', '1151331', '11853480', '1201579', '1201580', '12030685', '12173471', '127684', '12914', '13124956', '13237099', '1373', '1383945', '139374', '1420', '1450284', '146429', '146462', '147924', '150253', '154387', '16241149', '16241810', '171547', '17465598', '175626', '17675075', '179631', '1800460', '18528223', '203310', '20613761', '20702490', '20786859', '20949640', '211515', '22543936', '23129930', '239236', '2459339', '24611522', '248193', '25004284', '25330115', '25334576', '25362908', '2547', '2549', '25572095', '25937948', '27209355', '27409510', '27494', '27822', '27837534', '279769', '28818688', '28818718', '29358559', '29363291', '304485', '313972', '333706', '3612415', '364141', '40795', '440025', '45974', '508149', '539477', '5932', '606104', '63114', '6585085', '6612726', '6798263', '70189', '7090309', '7427866', '766882', '8122927', '853153', '85745', '93405', '9583799', '97553', '978914'], ['country_code_US', 'is_ebook_false'])\n",
    ",(['127684', '1373', '171547', '179631', '211515', '333706', '539477'], ['country_code_US', 'is_ebook_false', 'language_code_en-US'])\n",
    ",(['127684', '179631', '333706'], ['country_code_US', 'is_ebook_false', 'language_code_en-US', 'publication_month_11'])\n",
    ",(['179631', '333706'], ['country_code_US', 'is_ebook_false', 'language_code_en-US', 'publication_month_11', 'publisher_Penguin Classics'])\n",
    ",(['1373', '333706'], ['country_code_US', 'is_ebook_false', 'language_code_en-US', 'publication_year_1997'])\n",
    ",(['12914', '13124956', '13237099', '139374', '1420', '146429', '150253', '175626', '203310', '20613761', '239236', '248193', '25004284', '25334576', '2547', '25572095', '27494', '27822', '28818688', '304485', '313972', '3612415', '364141', '40795', '45974', '5932', '6798263', '766882', '85745', '97553'], ['country_code_US', 'is_ebook_false', 'language_code_eng'])\n",
    ",(['17465598', '20613761', '20949640', '211515', '24611522', '25937948', '27822', '279769', '29363291', '539477', '6798263', '7427866'], ['country_code_US', 'is_ebook_false', 'publication_month_10'])\n",
    ",(['11425131', '127684', '179631', '333706', '85745', '9583799'], ['country_code_US', 'is_ebook_false', 'publication_month_11'])\n",
    ",(['1151331', '12173471', '203310', '25362908', '45974', '5932'], ['country_code_US', 'is_ebook_false', 'publication_month_12'])\n",
    ",(['606104', '97553'], ['country_code_US', 'is_ebook_false', 'publication_month_2'])\n",
    ",(['1373', '146462', '333706'], ['country_code_US', 'is_ebook_false', 'publication_year_1997'])\n",
    ",(['16241149', '16241810', '17465598', '203310'], ['country_code_US', 'is_ebook_false', 'publication_year_2013'])\n",
    ",(['175626', '179631', '333706', '45974', '5932'], ['country_code_US', 'is_ebook_false', 'publisher_Penguin Classics'])\n",
    ",(['12914', '13124956', '13237099', '139374', '1420', '146429', '150253', '175626', '17910294', '203310', '20613761', '239236', '248193', '25004284', '25334576', '2547', '25572095', '27494', '27822', '28818688', '304485', '313972', '3612415', '364141', '40795', '45974', '5932', '6798263', '766882', '85745', '97553'], ['country_code_US', 'language_code_eng'])\n",
    ",(['17910294', '20613761', '27822', '6798263'], ['country_code_US', 'language_code_eng', 'publication_month_10'])\n",
    ",(['17910294', '203310'], ['country_code_US', 'language_code_eng', 'publication_year_2013'])\n",
    ",(['17465598', '17910294', '20613761', '20949640', '211515', '24611522', '25937948', '27822', '279769', '29363291', '539477', '6798263', '7427866'], ['country_code_US', 'publication_month_10'])\n",
    ",(['1151331', '12173471', '203310', '23568532', '25362908', '45974', '5932'], ['country_code_US', 'publication_month_12'])\n",
    ",(['16241149', '16241810', '17465598', '17910294', '203310'], ['country_code_US', 'publication_year_2013'])]\n",
    "print(len(concepts2))"
   ]
  },
  {
   "cell_type": "code",
   "execution_count": null,
   "id": "cd944ea1-395f-4e22-a9a8-67f6142b9ccf",
   "metadata": {},
   "outputs": [],
   "source": [
    "start = time.time()\n",
    "\n",
    "list_combinations = list(combinations(concepts2, 5))\n",
    "print(f'# of combinations of length 5: {len(list_combinations)}')\n",
    "\n",
    "scores = np.zeros(len(list_combinations))\n",
    "for i, comb in enumerate(list_combinations):\n",
    "    for elem in comb:\n",
    "        scores[i] += len(elem[0]) + len(elem[1])\n",
    "\n",
    "indexes = np.argsort(-scores)\n",
    "\n",
    "for c in list_combinations[indexes[0]]:\n",
    "    print(f'{c} - Total length: {len(c[0])} - {len(c[1])}')\n",
    "    \n",
    "print(scores[indexes[0]])\n",
    "print(f'Elapsed: {time.time()-start}')"
   ]
  },
  {
   "cell_type": "code",
   "execution_count": 15,
   "id": "1ab9deff-3809-41b3-8041-417158d1062c",
   "metadata": {},
   "outputs": [],
   "source": [
    "graphs_len = []\n",
    "attr_len = []\n",
    "for i, c in enumerate(concepts2):\n",
    "    graphs_len.append(len(c[0]))\n",
    "    attr_len.append(len(c[1]))\n",
    "    \n",
    "constraints = {'g': 2, 'a': 2}"
   ]
  },
  {
   "cell_type": "code",
   "execution_count": 32,
   "id": "d6660443-57d9-4f4b-ae0b-a731e8b89d92",
   "metadata": {},
   "outputs": [
    {
     "name": "stdout",
     "output_type": "stream",
     "text": [
      "Welcome to the CBC MILP Solver \n",
      "Version: 2.10.3 \n",
      "Build Date: Dec 15 2019 \n",
      "\n",
      "command line - /Users/simondelarue/Documents/PhD/Research/Envs/COMEG/lib/python3.9/site-packages/pulp/apis/../solverdir/cbc/osx/64/cbc /var/folders/hb/p2nvp7cj1dg6y96zlm9vqb2c0000gn/T/eba94c3525924eba80b86ff90896947e-pulp.mps max timeMode elapsed branch printingOptions all solution /var/folders/hb/p2nvp7cj1dg6y96zlm9vqb2c0000gn/T/eba94c3525924eba80b86ff90896947e-pulp.sol (default strategy 1)\n",
      "At line 2 NAME          MODEL\n",
      "At line 3 ROWS\n",
      "At line 6 COLUMNS\n",
      "At line 643 RHS\n",
      "At line 645 BOUNDS\n",
      "At line 805 ENDATA\n",
      "Problem MODEL has 1 rows, 159 columns and 159 elements\n",
      "Coin0008I MODEL read with 0 errors\n",
      "Option for timeMode changed from cpu to elapsed\n",
      "Continuous objective value is 509 - 0.00 seconds\n",
      "Cgl0004I processed model has 1 rows, 135 columns (135 integer (118 of which binary)) and 135 elements\n",
      "Cutoff increment increased from 1e-05 to 0.9999\n",
      "Cbc0038I Initial state - 0 integers unsatisfied sum - 0\n",
      "Cbc0038I Solution found of -509\n",
      "Cbc0038I Cleaned solution of -509\n",
      "Cbc0038I Before mini branch and bound, 135 integers at bound fixed and 0 continuous\n",
      "Cbc0038I Mini branch and bound did not improve solution (0.00 seconds)\n",
      "Cbc0038I After 0.00 seconds - Feasibility pump exiting with objective of -509 - took 0.00 seconds\n",
      "Cbc0012I Integer solution of -509 found by feasibility pump after 0 iterations and 0 nodes (0.00 seconds)\n",
      "Cbc0001I Search completed - best objective -509, took 0 iterations and 0 nodes (0.00 seconds)\n",
      "Cbc0035I Maximum depth 0, 0 variables fixed on reduced cost\n",
      "Cuts at root node changed objective from -509 to -509\n",
      "Probing was tried 0 times and created 0 cuts of which 0 were active after adding rounds of cuts (0.000 seconds)\n",
      "Gomory was tried 0 times and created 0 cuts of which 0 were active after adding rounds of cuts (0.000 seconds)\n",
      "Knapsack was tried 0 times and created 0 cuts of which 0 were active after adding rounds of cuts (0.000 seconds)\n",
      "Clique was tried 0 times and created 0 cuts of which 0 were active after adding rounds of cuts (0.000 seconds)\n",
      "MixedIntegerRounding2 was tried 0 times and created 0 cuts of which 0 were active after adding rounds of cuts (0.000 seconds)\n",
      "FlowCover was tried 0 times and created 0 cuts of which 0 were active after adding rounds of cuts (0.000 seconds)\n",
      "TwoMirCuts was tried 0 times and created 0 cuts of which 0 were active after adding rounds of cuts (0.000 seconds)\n",
      "ZeroHalf was tried 0 times and created 0 cuts of which 0 were active after adding rounds of cuts (0.000 seconds)\n",
      "\n",
      "Result - Optimal solution found\n",
      "\n",
      "Objective value:                509.00000000\n",
      "Enumerated nodes:               0\n",
      "Total iterations:               0\n",
      "Time (CPU seconds):             0.00\n",
      "Time (Wallclock seconds):       0.00\n",
      "\n",
      "Option for printingOptions changed from normal to all\n",
      "Total time (CPU seconds):       0.00   (Wallclock seconds):       0.00\n",
      "\n",
      "Elapsed: 0.02884697914123535\n"
     ]
    }
   ],
   "source": [
    "# Binary Linear Optimization\n",
    "\n",
    "start = time.time()\n",
    "concepts_index = np.arange(0, len(concepts2))\n",
    "x = pulp.LpVariable.dicts(\"x\", \n",
    "                          indices = concepts_index, \n",
    "                          lowBound=0, upBound=1, \n",
    "                          cat='Integer', indexStart=[])\n",
    "                          \n",
    "def model():\n",
    "    prob  = pulp.LpProblem(\"Best_concepts\", LpMaximize)\n",
    "    prob += pulp.lpSum([x[i] * (graphs_len[i] + attr_len[i]) for i in concepts_index])\n",
    "    #prob += pulp.lpSum([x[i] * graphs_len[i] for i in concepts_index]) >= 1\n",
    "    #prob += pulp.lpSum([x[i] * attr_len[i] for i in concepts_index]) >= 1\n",
    "    prob += pulp.lpSum([x[i] for i in concepts_index]) == 10\n",
    "    return prob\n",
    "\n",
    "prob = model()\n",
    "prob.solve()\n",
    "print(f'Elapsed: {time.time() - start}')"
   ]
  },
  {
   "cell_type": "code",
   "execution_count": 36,
   "id": "5acc7797-674a-4dec-b6e1-7f5cf4e0a739",
   "metadata": {},
   "outputs": [
    {
     "data": {
      "text/plain": [
       "pulp.pulp.LpProblem"
      ]
     },
     "execution_count": 36,
     "metadata": {},
     "output_type": "execute_result"
    }
   ],
   "source": [
    "type(prob)"
   ]
  },
  {
   "cell_type": "code",
   "execution_count": 33,
   "id": "8248f681-c17f-4215-825e-6c2ebfcc87be",
   "metadata": {},
   "outputs": [
    {
     "data": {
      "text/html": [
       "<div>\n",
       "<style scoped>\n",
       "    .dataframe tbody tr th:only-of-type {\n",
       "        vertical-align: middle;\n",
       "    }\n",
       "\n",
       "    .dataframe tbody tr th {\n",
       "        vertical-align: top;\n",
       "    }\n",
       "\n",
       "    .dataframe thead th {\n",
       "        text-align: right;\n",
       "    }\n",
       "</style>\n",
       "<table border=\"1\" class=\"dataframe\">\n",
       "  <thead>\n",
       "    <tr style=\"text-align: right;\">\n",
       "      <th></th>\n",
       "      <th>Variable</th>\n",
       "      <th>C</th>\n",
       "      <th>Optimal Value</th>\n",
       "    </tr>\n",
       "  </thead>\n",
       "  <tbody>\n",
       "    <tr>\n",
       "      <th>12</th>\n",
       "      <td>[1015201, 106251, 10898243, 11425131, 1151331,...</td>\n",
       "      <td>x_109</td>\n",
       "      <td>1</td>\n",
       "    </tr>\n",
       "    <tr>\n",
       "      <th>18</th>\n",
       "      <td>[12914, 13124956, 13237099, 139374, 1420, 1464...</td>\n",
       "      <td>x_114</td>\n",
       "      <td>1</td>\n",
       "    </tr>\n",
       "    <tr>\n",
       "      <th>36</th>\n",
       "      <td>[106251, 11425131, 1151331, 11853480, 1201579,...</td>\n",
       "      <td>x_130</td>\n",
       "      <td>1</td>\n",
       "    </tr>\n",
       "    <tr>\n",
       "      <th>37</th>\n",
       "      <td>[12914, 13124956, 13237099, 139374, 1420, 1464...</td>\n",
       "      <td>x_131</td>\n",
       "      <td>1</td>\n",
       "    </tr>\n",
       "    <tr>\n",
       "      <th>47</th>\n",
       "      <td>[1015201, 106251, 11425131, 1151331, 11853480,...</td>\n",
       "      <td>x_140</td>\n",
       "      <td>1</td>\n",
       "    </tr>\n",
       "    <tr>\n",
       "      <th>52</th>\n",
       "      <td>[12914, 13124956, 13237099, 139374, 1420, 1464...</td>\n",
       "      <td>x_145</td>\n",
       "      <td>1</td>\n",
       "    </tr>\n",
       "    <tr>\n",
       "      <th>61</th>\n",
       "      <td>[12914, 13124956, 13237099, 139374, 1420, 1464...</td>\n",
       "      <td>x_153</td>\n",
       "      <td>1</td>\n",
       "    </tr>\n",
       "    <tr>\n",
       "      <th>118</th>\n",
       "      <td>[1015201, 106251, 11425131, 1151331, 11853480,...</td>\n",
       "      <td>x_62</td>\n",
       "      <td>1</td>\n",
       "    </tr>\n",
       "    <tr>\n",
       "      <th>119</th>\n",
       "      <td>[1015201, 106251, 11425131, 1151331, 11853480,...</td>\n",
       "      <td>x_63</td>\n",
       "      <td>1</td>\n",
       "    </tr>\n",
       "    <tr>\n",
       "      <th>139</th>\n",
       "      <td>[12914, 13124956, 13237099, 139374, 1420, 1464...</td>\n",
       "      <td>x_81</td>\n",
       "      <td>1</td>\n",
       "    </tr>\n",
       "  </tbody>\n",
       "</table>\n",
       "</div>"
      ],
      "text/plain": [
       "                                              Variable      C  Optimal Value\n",
       "12   [1015201, 106251, 10898243, 11425131, 1151331,...  x_109              1\n",
       "18   [12914, 13124956, 13237099, 139374, 1420, 1464...  x_114              1\n",
       "36   [106251, 11425131, 1151331, 11853480, 1201579,...  x_130              1\n",
       "37   [12914, 13124956, 13237099, 139374, 1420, 1464...  x_131              1\n",
       "47   [1015201, 106251, 11425131, 1151331, 11853480,...  x_140              1\n",
       "52   [12914, 13124956, 13237099, 139374, 1420, 1464...  x_145              1\n",
       "61   [12914, 13124956, 13237099, 139374, 1420, 1464...  x_153              1\n",
       "118  [1015201, 106251, 11425131, 1151331, 11853480,...   x_62              1\n",
       "119  [1015201, 106251, 11425131, 1151331, 11853480,...   x_63              1\n",
       "139  [12914, 13124956, 13237099, 139374, 1420, 1464...   x_81              1"
      ]
     },
     "execution_count": 33,
     "metadata": {},
     "output_type": "execute_result"
    }
   ],
   "source": [
    "variables = []\n",
    "values = []\n",
    "vs = []\n",
    "\n",
    "for v in prob.variables():\n",
    "    variables.append(v.name)\n",
    "    values.append(int(v.varValue))\n",
    "    vs.append(v.name)\n",
    "\n",
    "names_idx = np.array([int(x.split('_')[1]) for x in variables])\n",
    "names = [c[0] for c in np.array(concepts2, dtype='object')[names_idx]]\n",
    "\n",
    "df = pd.DataFrame(np.array([names, vs, values], dtype='object').T,\n",
    "                  columns = ['Variable', 'C', 'Optimal Value'])\n",
    "\n",
    "df['Optimal Value'] = df['Optimal Value'].astype(int)\n",
    "sub = df[df['Optimal Value'] != 0]\n",
    "sub"
   ]
  },
  {
   "cell_type": "code",
   "execution_count": 34,
   "id": "5fe89fb2-bd52-4995-af64-8c3bd950016a",
   "metadata": {},
   "outputs": [
    {
     "data": {
      "text/plain": [
       "array([109, 114, 130, 131, 140, 145, 153,  62,  63,  81])"
      ]
     },
     "execution_count": 34,
     "metadata": {},
     "output_type": "execute_result"
    }
   ],
   "source": [
    "np.array([int(v.name.split('_')[1]) for v in prob.variables() if v.varValue == 1])"
   ]
  },
  {
   "cell_type": "code",
   "execution_count": 35,
   "id": "6f2602f6-c143-4c51-902c-f33f0702289e",
   "metadata": {},
   "outputs": [
    {
     "name": "stdout",
     "output_type": "stream",
     "text": [
      "(['1015201', '106251', '11425131', '1151331', '11853480', '1201579', '1201580', '12030685', '12173471', '127684', '12914', '13124956', '13237099', '1373', '1383945', '139374', '1420', '1450284', '146429', '146462', '147924', '150253', '154387', '16241149', '16241810', '171547', '17465598', '175626', '17675075', '179631', '1800460', '18528223', '20613761', '20702490', '20786859', '20949640', '211515', '22543936', '23129930', '239236', '2459339', '24611522', '248193', '25004284', '25330115', '25334576', '25362908', '2547', '2549', '25572095', '25937948', '27209355', '27409510', '27494', '27837534', '279769', '28818688', '28818718', '29358559', '29363291', '304485', '313972', '3612415', '364141', '40795', '440025', '45974', '508149', '539477', '5932', '606104', '63114', '6585085', '6612726', '6798263', '70189', '7090309', '766882', '8122927', '853153', '85745', '93405', '9583799', '978914'], ['country_code_US', 'edition_information_', 'is_ebook_false']) - total length: 84 + 3\n",
      "\n",
      "(['1015201', '106251', '11425131', '1151331', '11853480', '1201579', '1201580', '12030685', '12173471', '1383945', '1450284', '146462', '154387', '16241149', '16241810', '17465598', '17675075', '1800460', '18528223', '20702490', '20786859', '20949640', '22543936', '23129930', '2459339', '25330115', '25362908', '2549', '25937948', '27209355', '27409510', '27837534', '279769', '28818718', '29358559', '29363291', '440025', '508149', '606104', '63114', '6585085', '6612726', '70189', '7090309', '8122927', '853153', '93405', '978914'], ['country_code_US', 'edition_information_', 'is_ebook_false', 'language_code_']) - total length: 48 + 4\n",
      "\n",
      "(['12914', '13124956', '13237099', '139374', '1420', '146429', '150253', '175626', '20613761', '239236', '248193', '25004284', '25334576', '2547', '25572095', '27494', '28818688', '304485', '313972', '3612415', '364141', '40795', '45974', '5932', '6798263', '766882', '85745'], ['country_code_US', 'edition_information_', 'is_ebook_false', 'language_code_eng']) - total length: 27 + 4\n",
      "\n",
      "(['1015201', '106251', '10898243', '11425131', '1151331', '11853480', '1201579', '1201580', '12030685', '12173471', '1383945', '1450284', '146462', '154387', '16241149', '16241810', '17465598', '17675075', '1800460', '18528223', '20702490', '20786859', '20949640', '22543936', '23129930', '23568532', '2459339', '25330115', '25362908', '2549', '25937948', '27209355', '27409510', '27837534', '279769', '28818718', '29358559', '29363291', '440025', '508149', '606104', '63114', '6585085', '6612726', '70189', '7090309', '8122927', '853153', '93405', '978914'], ['country_code_US', 'edition_information_', 'language_code_']) - total length: 50 + 3\n",
      "\n",
      "(['12914', '13124956', '13237099', '139374', '1420', '146429', '150253', '175626', '17910294', '20613761', '239236', '248193', '25004284', '25334576', '2547', '25572095', '27494', '28818688', '304485', '313972', '3612415', '364141', '40795', '45974', '5932', '6798263', '766882', '85745'], ['country_code_US', 'edition_information_', 'language_code_eng']) - total length: 28 + 3\n",
      "\n",
      "(['106251', '11425131', '1151331', '11853480', '1201579', '1201580', '12173471', '127684', '12914', '13124956', '13237099', '1373', '139374', '1420', '1450284', '146429', '146462', '147924', '150253', '16241810', '171547', '175626', '179631', '1800460', '18528223', '203310', '20613761', '20702490', '20786859', '20949640', '211515', '23129930', '2459339', '248193', '25004284', '25330115', '2547', '25572095', '27209355', '27409510', '27494', '27822', '27837534', '279769', '28818718', '304485', '3612415', '364141', '40795', '440025', '45974', '508149', '539477', '5932', '606104', '63114', '6585085', '6612726', '6798263', '7427866', '766882', '853153', '85745', '93405', '9583799', '978914'], ['country_code_US', 'format_Paperback', 'is_ebook_false']) - total length: 66 + 3\n",
      "\n",
      "(['12914', '13124956', '13237099', '139374', '1420', '146429', '150253', '175626', '203310', '20613761', '248193', '25004284', '2547', '25572095', '27494', '27822', '304485', '3612415', '364141', '40795', '45974', '5932', '6798263', '766882', '85745'], ['country_code_US', 'format_Paperback', 'is_ebook_false', 'language_code_eng']) - total length: 25 + 4\n",
      "\n",
      "(['1015201', '106251', '11425131', '1151331', '11853480', '1201579', '1201580', '12030685', '12173471', '127684', '12914', '13124956', '13237099', '1373', '1383945', '139374', '1420', '1450284', '146429', '146462', '147924', '150253', '154387', '16241149', '16241810', '171547', '17465598', '175626', '17675075', '179631', '1800460', '18528223', '203310', '20613761', '20702490', '20786859', '20949640', '211515', '22543936', '23129930', '239236', '2459339', '24611522', '248193', '25004284', '25330115', '25334576', '25362908', '2547', '2549', '25572095', '25937948', '27209355', '27409510', '27494', '27822', '27837534', '279769', '28818688', '28818718', '29358559', '29363291', '304485', '313972', '333706', '3612415', '364141', '40795', '440025', '45974', '508149', '539477', '5932', '606104', '63114', '6585085', '6612726', '6798263', '70189', '7090309', '7427866', '766882', '8122927', '853153', '85745', '93405', '9583799', '97553', '978914'], ['country_code_US', 'is_ebook_false']) - total length: 89 + 2\n",
      "\n",
      "(['12914', '13124956', '13237099', '139374', '1420', '146429', '150253', '175626', '203310', '20613761', '239236', '248193', '25004284', '25334576', '2547', '25572095', '27494', '27822', '28818688', '304485', '313972', '3612415', '364141', '40795', '45974', '5932', '6798263', '766882', '85745', '97553'], ['country_code_US', 'is_ebook_false', 'language_code_eng']) - total length: 30 + 3\n",
      "\n",
      "(['12914', '13124956', '13237099', '139374', '1420', '146429', '150253', '175626', '17910294', '203310', '20613761', '239236', '248193', '25004284', '25334576', '2547', '25572095', '27494', '27822', '28818688', '304485', '313972', '3612415', '364141', '40795', '45974', '5932', '6798263', '766882', '85745', '97553'], ['country_code_US', 'language_code_eng']) - total length: 31 + 2\n",
      "\n",
      "509\n"
     ]
    }
   ],
   "source": [
    "objs = [sub.iloc[i].Variable for i in range(len(sub))]\n",
    "tot = 0\n",
    "for c in concepts2:\n",
    "    if c[0] in objs:\n",
    "        print(f'{c} - total length: {len(c[0])} + {len(c[1])}')\n",
    "        print()\n",
    "        tot += len(c[0]) + len(c[1])\n",
    "print(tot)"
   ]
  },
  {
   "cell_type": "code",
   "execution_count": 59,
   "id": "ea34e059-2171-41ad-8331-528e304a62da",
   "metadata": {},
   "outputs": [
    {
     "name": "stdout",
     "output_type": "stream",
     "text": [
      "0.0\n",
      "0.1\n",
      "0.2\n",
      "0.30000000000000004\n",
      "0.4\n",
      "0.5\n",
      "0.6000000000000001\n",
      "0.7000000000000001\n",
      "0.8\n",
      "0.9\n",
      "1.0\n"
     ]
    }
   ],
   "source": [
    "step_size = 0.1\n",
    "for i in np.arange(0, 1 + step_size, step_size):\n",
    "    print(i)"
   ]
  },
  {
   "cell_type": "code",
   "execution_count": 64,
   "id": "144dc119-4cc7-4490-8592-a8cf94b0bb81",
   "metadata": {},
   "outputs": [
    {
     "name": "stdout",
     "output_type": "stream",
     "text": [
      "[[0.0018255  0.00608501 0.01217002 0.00851902 0.48680095 0.30425059\n",
      "  0.54765106 0.60850118]]\n"
     ]
    }
   ],
   "source": [
    "from sklearn import preprocessing\n",
    "import numpy as np\n",
    "x_array = np.array([0.003, 0.01, 0.02, 0.014, 0.8, 0.5, 0.9, 1])\n",
    "normalized_arr = preprocessing.normalize([x_array])\n",
    "print(normalized_arr)"
   ]
  },
  {
   "cell_type": "code",
   "execution_count": 67,
   "id": "eff4aea6-af3f-4e55-9264-5b891421266c",
   "metadata": {},
   "outputs": [
    {
     "data": {
      "text/plain": [
       "2"
      ]
     },
     "execution_count": 67,
     "metadata": {},
     "output_type": "execute_result"
    }
   ],
   "source": [
    "a = np.array(['bonjour_1', 'bonjour_2', 'allez_le losc'])\n",
    "    len(np.unique([x.split('_')[:-1] for x in a]))"
   ]
  },
  {
   "cell_type": "code",
   "execution_count": 69,
   "id": "e7c624b3-f7da-4803-8d51-cffed647e201",
   "metadata": {},
   "outputs": [
    {
     "data": {
      "text/plain": [
       "True"
      ]
     },
     "execution_count": 69,
     "metadata": {},
     "output_type": "execute_result"
    }
   ],
   "source": [
    "ext_len = [0.8, 0.9, 0.2]\n",
    "np.all(([c <= 0.95 for c in ext_len]))"
   ]
  },
  {
   "cell_type": "code",
   "execution_count": 116,
   "id": "790835da-05c8-4de3-af24-5bb1a609f44a",
   "metadata": {},
   "outputs": [],
   "source": [
    "from sknetwork.data import karate_club, painters, movie_actor\n",
    "from sknetwork.topology import CoreDecomposition\n",
    "from sknetwork.visualization import svg_graph, svg_bigraph\n",
    "from sknetwork.utils import directed2undirected, get_neighbors, get_degrees\n",
    "from IPython.display import SVG"
   ]
  },
  {
   "cell_type": "code",
   "execution_count": 76,
   "id": "03921308-e66a-404a-a98e-d05ef48252b2",
   "metadata": {},
   "outputs": [],
   "source": [
    "graph = karate_club(metadata=True)\n",
    "adjacency = graph.adjacency\n",
    "position = graph.position"
   ]
  },
  {
   "cell_type": "code",
   "execution_count": 77,
   "id": "e0bfc9c5-c96c-46b8-b0b8-8c488f998e36",
   "metadata": {},
   "outputs": [],
   "source": [
    "core = CoreDecomposition()\n",
    "labels = core.fit_transform(adjacency)"
   ]
  },
  {
   "cell_type": "code",
   "execution_count": 78,
   "id": "ef53018c-330e-43c2-ac89-6f8703b7fb97",
   "metadata": {},
   "outputs": [
    {
     "data": {
      "text/plain": [
       "array([4, 4, 4, 4, 3, 3, 3, 4, 4, 2, 3, 1, 2, 4, 2, 2, 2, 2, 2, 3, 2, 2,\n",
       "       2, 3, 3, 3, 2, 3, 3, 3, 4, 3, 4, 4], dtype=int32)"
      ]
     },
     "execution_count": 78,
     "metadata": {},
     "output_type": "execute_result"
    }
   ],
   "source": [
    "labels"
   ]
  },
  {
   "cell_type": "code",
   "execution_count": 79,
   "id": "2f18a2a2-1110-404b-b2ac-c0f5965b5a33",
   "metadata": {},
   "outputs": [],
   "source": [
    "graph = movie_actor(metadata=True)\n",
    "biadjacency = graph.biadjacency\n",
    "names_row = graph.names_row\n",
    "names_col = graph.names_col"
   ]
  },
  {
   "cell_type": "code",
   "execution_count": 80,
   "id": "2f0945c3-062c-49ce-952e-a606331d6d1f",
   "metadata": {},
   "outputs": [],
   "source": [
    "core = CoreDecomposition()\n",
    "labels = core.fit_transform(biadjacency)"
   ]
  },
  {
   "cell_type": "code",
   "execution_count": 81,
   "id": "3de139c2-b644-4e6d-91cd-e9297ea69915",
   "metadata": {},
   "outputs": [
    {
     "data": {
      "text/plain": [
       "array([2, 2, 2, 2, 2, 2, 2, 2, 2, 2, 2, 2, 2, 2, 2], dtype=int32)"
      ]
     },
     "execution_count": 81,
     "metadata": {},
     "output_type": "execute_result"
    }
   ],
   "source": [
    "labels"
   ]
  },
  {
   "cell_type": "code",
   "execution_count": 87,
   "id": "deb9fe14-6d9d-46df-ae1f-bf26bf193743",
   "metadata": {},
   "outputs": [
    {
     "data": {
      "image/svg+xml": [
       "<svg xmlns=\"http://www.w3.org/2000/svg\" width=\"728.0\" height=\"340\">\n",
       "<path stroke-width=\"1\" stroke=\"black\" d=\"M 188 89 588 140\"/>\n",
       "<path stroke-width=\"1\" stroke=\"black\" d=\"M 188 310 588 120\"/>\n",
       "<path stroke-width=\"1\" stroke=\"black\" d=\"M 188 310 588 100\"/>\n",
       "<path stroke-width=\"1\" stroke=\"black\" d=\"M 188 310 588 240\"/>\n",
       "<path stroke-width=\"1\" stroke=\"black\" d=\"M 188 150 588 140\"/>\n",
       "<path stroke-width=\"1\" stroke=\"black\" d=\"M 188 150 588 120\"/>\n",
       "<path stroke-width=\"1\" stroke=\"black\" d=\"M 188 150 588 100\"/>\n",
       "<path stroke-width=\"1\" stroke=\"black\" d=\"M 188 290 588 300\"/>\n",
       "<path stroke-width=\"1\" stroke=\"black\" d=\"M 188 290 588 280\"/>\n",
       "<path stroke-width=\"1\" stroke=\"black\" d=\"M 188 290 588 260\"/>\n",
       "<path stroke-width=\"1\" stroke=\"black\" d=\"M 188 270 588 320\"/>\n",
       "<path stroke-width=\"1\" stroke=\"black\" d=\"M 188 270 588 300\"/>\n",
       "<path stroke-width=\"1\" stroke=\"black\" d=\"M 188 270 588 260\"/>\n",
       "<path stroke-width=\"1\" stroke=\"black\" d=\"M 188 249 588 59\"/>\n",
       "<path stroke-width=\"1\" stroke=\"black\" d=\"M 188 249 588 300\"/>\n",
       "<path stroke-width=\"1\" stroke=\"black\" d=\"M 188 249 588 240\"/>\n",
       "<path stroke-width=\"1\" stroke=\"black\" d=\"M 188 130 588 100\"/>\n",
       "<path stroke-width=\"1\" stroke=\"black\" d=\"M 188 130 588 79\"/>\n",
       "<path stroke-width=\"1\" stroke=\"black\" d=\"M 188 310 588 280\"/>\n",
       "<path stroke-width=\"1\" stroke=\"black\" d=\"M 188 310 588 300\"/>\n",
       "<path stroke-width=\"1\" stroke=\"black\" d=\"M 188 170 588 160\"/>\n",
       "<path stroke-width=\"1\" stroke=\"black\" d=\"M 188 170 588 220\"/>\n",
       "<path stroke-width=\"1\" stroke=\"black\" d=\"M 188 89 588 59\"/>\n",
       "<path stroke-width=\"1\" stroke=\"black\" d=\"M 188 89 588 40\"/>\n",
       "<path stroke-width=\"1\" stroke=\"black\" d=\"M 188 69 588 59\"/>\n",
       "<path stroke-width=\"1\" stroke=\"black\" d=\"M 188 69 588 40\"/>\n",
       "<path stroke-width=\"1\" stroke=\"black\" d=\"M 188 69 588 220\"/>\n",
       "<path stroke-width=\"1\" stroke=\"black\" d=\"M 188 230 588 220\"/>\n",
       "<path stroke-width=\"1\" stroke=\"black\" d=\"M 188 230 588 200\"/>\n",
       "<path stroke-width=\"1\" stroke=\"black\" d=\"M 188 230 588 320\"/>\n",
       "<path stroke-width=\"1\" stroke=\"black\" d=\"M 188 110 588 120\"/>\n",
       "<path stroke-width=\"1\" stroke=\"black\" d=\"M 188 230 588 160\"/>\n",
       "<path stroke-width=\"1\" stroke=\"black\" d=\"M 188 49 588 20\"/>\n",
       "<path stroke-width=\"1\" stroke=\"black\" d=\"M 188 30 588 140\"/>\n",
       "<path stroke-width=\"1\" stroke=\"black\" d=\"M 188 30 588 20\"/>\n",
       "<path stroke-width=\"1\" stroke=\"black\" d=\"M 188 210 588 200\"/>\n",
       "<path stroke-width=\"1\" stroke=\"black\" d=\"M 188 210 588 180\"/>\n",
       "<path stroke-width=\"1\" stroke=\"black\" d=\"M 188 190 588 200\"/>\n",
       "<path stroke-width=\"1\" stroke=\"black\" d=\"M 188 190 588 180\"/>\n",
       "<path stroke-width=\"1\" stroke=\"black\" d=\"M 188 190 588 160\"/>\n",
       "<path stroke-width=\"1\" stroke=\"black\" d=\"M 188 49 588 200\"/>\n",
       "<path stroke-width=\"1\" stroke=\"black\" d=\"M 188 110 588 79\"/>\n",
       "<circle cx=\"188\" cy=\"89\" r=\"7.0\" style=\"fill:gray;stroke:black;stroke-width:1.0\"/>\n",
       "<circle cx=\"188\" cy=\"69\" r=\"7.0\" style=\"fill:gray;stroke:black;stroke-width:1.0\"/>\n",
       "<circle cx=\"188\" cy=\"230\" r=\"7.0\" style=\"fill:gray;stroke:black;stroke-width:1.0\"/>\n",
       "<circle cx=\"188\" cy=\"49\" r=\"7.0\" style=\"fill:gray;stroke:black;stroke-width:1.0\"/>\n",
       "<circle cx=\"188\" cy=\"30\" r=\"7.0\" style=\"fill:gray;stroke:black;stroke-width:1.0\"/>\n",
       "<circle cx=\"188\" cy=\"210\" r=\"7.0\" style=\"fill:gray;stroke:black;stroke-width:1.0\"/>\n",
       "<circle cx=\"188\" cy=\"190\" r=\"7.0\" style=\"fill:gray;stroke:black;stroke-width:1.0\"/>\n",
       "<circle cx=\"188\" cy=\"170\" r=\"7.0\" style=\"fill:gray;stroke:black;stroke-width:1.0\"/>\n",
       "<circle cx=\"188\" cy=\"310\" r=\"7.0\" style=\"fill:gray;stroke:black;stroke-width:1.0\"/>\n",
       "<circle cx=\"188\" cy=\"150\" r=\"7.0\" style=\"fill:gray;stroke:black;stroke-width:1.0\"/>\n",
       "<circle cx=\"188\" cy=\"290\" r=\"7.0\" style=\"fill:gray;stroke:black;stroke-width:1.0\"/>\n",
       "<circle cx=\"188\" cy=\"270\" r=\"7.0\" style=\"fill:gray;stroke:black;stroke-width:1.0\"/>\n",
       "<circle cx=\"188\" cy=\"249\" r=\"7.0\" style=\"fill:gray;stroke:black;stroke-width:1.0\"/>\n",
       "<circle cx=\"188\" cy=\"130\" r=\"7.0\" style=\"fill:gray;stroke:black;stroke-width:1.0\"/>\n",
       "<circle cx=\"188\" cy=\"110\" r=\"7.0\" style=\"fill:gray;stroke:black;stroke-width:1.0\"/>\n",
       "<circle cx=\"588\" cy=\"140\" r=\"7.0\" style=\"fill:gray;stroke:black;stroke-width:1.0\"/>\n",
       "<circle cx=\"588\" cy=\"59\" r=\"7.0\" style=\"fill:gray;stroke:black;stroke-width:1.0\"/>\n",
       "<circle cx=\"588\" cy=\"40\" r=\"7.0\" style=\"fill:gray;stroke:black;stroke-width:1.0\"/>\n",
       "<circle cx=\"588\" cy=\"220\" r=\"7.0\" style=\"fill:gray;stroke:black;stroke-width:1.0\"/>\n",
       "<circle cx=\"588\" cy=\"200\" r=\"7.0\" style=\"fill:gray;stroke:black;stroke-width:1.0\"/>\n",
       "<circle cx=\"588\" cy=\"320\" r=\"7.0\" style=\"fill:gray;stroke:black;stroke-width:1.0\"/>\n",
       "<circle cx=\"588\" cy=\"20\" r=\"7.0\" style=\"fill:gray;stroke:black;stroke-width:1.0\"/>\n",
       "<circle cx=\"588\" cy=\"180\" r=\"7.0\" style=\"fill:gray;stroke:black;stroke-width:1.0\"/>\n",
       "<circle cx=\"588\" cy=\"160\" r=\"7.0\" style=\"fill:gray;stroke:black;stroke-width:1.0\"/>\n",
       "<circle cx=\"588\" cy=\"300\" r=\"7.0\" style=\"fill:gray;stroke:black;stroke-width:1.0\"/>\n",
       "<circle cx=\"588\" cy=\"280\" r=\"7.0\" style=\"fill:gray;stroke:black;stroke-width:1.0\"/>\n",
       "<circle cx=\"588\" cy=\"120\" r=\"7.0\" style=\"fill:gray;stroke:black;stroke-width:1.0\"/>\n",
       "<circle cx=\"588\" cy=\"100\" r=\"7.0\" style=\"fill:gray;stroke:black;stroke-width:1.0\"/>\n",
       "<circle cx=\"588\" cy=\"260\" r=\"7.0\" style=\"fill:gray;stroke:black;stroke-width:1.0\"/>\n",
       "<circle cx=\"588\" cy=\"79\" r=\"7.0\" style=\"fill:gray;stroke:black;stroke-width:1.0\"/>\n",
       "<circle cx=\"588\" cy=\"240\" r=\"7.0\" style=\"fill:gray;stroke:black;stroke-width:1.0\"/>\n",
       "<text text-anchor=\"end\" x=\"178\" y=\"89\" font-size=\"12\">Inception</text><text text-anchor=\"end\" x=\"178\" y=\"69\" font-size=\"12\">The Dark Knight Rises</text><text text-anchor=\"end\" x=\"178\" y=\"230\" font-size=\"12\">The Big Short</text><text text-anchor=\"end\" x=\"178\" y=\"49\" font-size=\"12\">Drive</text><text text-anchor=\"end\" x=\"178\" y=\"30\" font-size=\"12\">The Great Gatsby</text><text text-anchor=\"end\" x=\"178\" y=\"210\" font-size=\"12\">La La Land</text><text text-anchor=\"end\" x=\"178\" y=\"190\" font-size=\"12\">Crazy Stupid Love</text><text text-anchor=\"end\" x=\"178\" y=\"170\" font-size=\"12\">Vice</text><text text-anchor=\"end\" x=\"178\" y=\"310\" font-size=\"12\">The Grand Budapest Hotel</text><text text-anchor=\"end\" x=\"178\" y=\"150\" font-size=\"12\">Aviator</text><text text-anchor=\"end\" x=\"178\" y=\"290\" font-size=\"12\">007 Spectre</text><text text-anchor=\"end\" x=\"178\" y=\"270\" font-size=\"12\">Inglourious Basterds</text><text text-anchor=\"end\" x=\"178\" y=\"249\" font-size=\"12\">Midnight In Paris</text><text text-anchor=\"end\" x=\"178\" y=\"130\" font-size=\"12\">Murder on the Orient Express</text><text text-anchor=\"end\" x=\"178\" y=\"110\" font-size=\"12\">Fantastic Beasts 2</text><text text-anchor=\"start\" x=\"598\" y=\"140\" font-size=\"12\">Leonardo DiCaprio</text><text text-anchor=\"start\" x=\"598\" y=\"59\" font-size=\"12\">Marion Cotillard</text><text text-anchor=\"start\" x=\"598\" y=\"40\" font-size=\"12\">Joseph Gordon Lewitt</text><text text-anchor=\"start\" x=\"598\" y=\"220\" font-size=\"12\">Christian Bale</text><text text-anchor=\"start\" x=\"598\" y=\"200\" font-size=\"12\">Ryan Gosling</text><text text-anchor=\"start\" x=\"598\" y=\"320\" font-size=\"12\">Brad Pitt</text><text text-anchor=\"start\" x=\"598\" y=\"20\" font-size=\"12\">Carey Mulligan</text><text text-anchor=\"start\" x=\"598\" y=\"180\" font-size=\"12\">Emma Stone</text><text text-anchor=\"start\" x=\"598\" y=\"160\" font-size=\"12\">Steve Carell</text><text text-anchor=\"start\" x=\"598\" y=\"300\" font-size=\"12\">Lea Seydoux</text><text text-anchor=\"start\" x=\"598\" y=\"280\" font-size=\"12\">Ralph Fiennes</text><text text-anchor=\"start\" x=\"598\" y=\"120\" font-size=\"12\">Jude Law</text><text text-anchor=\"start\" x=\"598\" y=\"100\" font-size=\"12\">Willem Dafoe</text><text text-anchor=\"start\" x=\"598\" y=\"260\" font-size=\"12\">Christophe Waltz</text><text text-anchor=\"start\" x=\"598\" y=\"79\" font-size=\"12\">Johnny Depp</text><text text-anchor=\"start\" x=\"598\" y=\"240\" font-size=\"12\">Owen Wilson</text></svg>"
      ],
      "text/plain": [
       "<IPython.core.display.SVG object>"
      ]
     },
     "execution_count": 87,
     "metadata": {},
     "output_type": "execute_result"
    }
   ],
   "source": [
    "image = svg_bigraph(biadjacency, names_row, names_col)\n",
    "SVG(image)"
   ]
  },
  {
   "cell_type": "code",
   "execution_count": 181,
   "id": "9b4e9906-88f5-4419-9b04-da52b50f876d",
   "metadata": {},
   "outputs": [],
   "source": [
    "a = np.array([[0, 0, 0]]).ravel()\n"
   ]
  },
  {
   "cell_type": "code",
   "execution_count": 214,
   "id": "37a64e3e-677f-405d-8b9a-1340e087f611",
   "metadata": {},
   "outputs": [
    {
     "name": "stdout",
     "output_type": "stream",
     "text": [
      "[[0 1 1]\n",
      " [2 1 1]\n",
      " [0 1 0]]\n",
      "[1 1 2 1 1 1] 6\n",
      "[[0 0 1]\n",
      " [2 1 1]\n",
      " [0 1 0]]\n",
      "[0 1 2 1 1 1] 6\n",
      "[[0 0 1]\n",
      " [2 1 1]\n",
      " [0 1 0]]\n",
      "[1 2 1 1 1] 5\n"
     ]
    }
   ],
   "source": [
    "a = np.array([[0, 1, 1], [2, 1, 1], [0, 1, 0]])\n",
    "A = sparse.csr_matrix(a)\n",
    "print(A.todense())\n",
    "print(A.data, A.nnz)\n",
    "\n",
    "# remove edges\n",
    "A.data[0] = 0\n",
    "print(A.todense())\n",
    "print(A.data, A.nnz)\n",
    "A.eliminate_zeros()\n",
    "print(A.todense())\n",
    "print(A.data, A.nnz)"
   ]
  },
  {
   "cell_type": "code",
   "execution_count": 8,
   "id": "eb607aff-f4c4-40da-b1c5-f039d7ede0ee",
   "metadata": {},
   "outputs": [
    {
     "data": {
      "text/plain": [
       "matrix([[0, 1, 1, 1]])"
      ]
     },
     "execution_count": 8,
     "metadata": {},
     "output_type": "execute_result"
    }
   ],
   "source": [
    "from scipy import sparse\n",
    "a = np.array([[0, 1, 1], [2, 1, 1], [0, 1, 0]])\n",
    "A = sparse.csr_matrix(a)\n",
    "A[[0, 1]][:, [0, 1]].todense().ravel().astype(bool).astype(int)"
   ]
  },
  {
   "cell_type": "code",
   "execution_count": 19,
   "id": "5896629c-a4b3-4afc-a2c9-7b41a0396f87",
   "metadata": {},
   "outputs": [
    {
     "name": "stdout",
     "output_type": "stream",
     "text": [
      "[[0 1 1]\n",
      " [2 1 1]\n",
      " [0 1 0]]\n",
      "[[0 1 1]\n",
      " [2 1 1]\n",
      " [0 1 0]]\n",
      "[[0 1 1]\n",
      " [4 1 1]\n",
      " [0 1 0]]\n"
     ]
    },
    {
     "data": {
      "text/plain": [
       "array([2, 6, 1, 1, 2, 3])"
      ]
     },
     "execution_count": 19,
     "metadata": {},
     "output_type": "execute_result"
    }
   ],
   "source": [
    "print(a)\n",
    "print(b)\n",
    "b = np.array([[0, 1, 1], [2, 1, 1], [0, 1, 0]])\n",
    "print(a*b)\n",
    "np.hstack(((a * b).sum(axis=1), np.array([1, 2, 3])))"
   ]
  },
  {
   "cell_type": "code",
   "execution_count": 215,
   "id": "13b83923-868a-4b34-8968-347a18e54c29",
   "metadata": {},
   "outputs": [
    {
     "data": {
      "text/plain": [
       "5329000000"
      ]
     },
     "execution_count": 215,
     "metadata": {},
     "output_type": "execute_result"
    }
   ],
   "source": [
    "73000 * 73000"
   ]
  },
  {
   "cell_type": "code",
   "execution_count": 194,
   "id": "d8e26ed3-26f3-4189-896e-5902756864e0",
   "metadata": {},
   "outputs": [
    {
     "name": "stdout",
     "output_type": "stream",
     "text": [
      "1\n",
      "2\n"
     ]
    }
   ],
   "source": [
    "a = (1, 2)\n",
    "b, c = a\n",
    "print(b)\n",
    "print(c)"
   ]
  },
  {
   "cell_type": "code",
   "execution_count": 5,
   "id": "b36a0712-2e05-476f-be2e-e102ef90e5ee",
   "metadata": {},
   "outputs": [
    {
     "data": {
      "text/plain": [
       "array([1, 4, 2])"
      ]
     },
     "execution_count": 5,
     "metadata": {},
     "output_type": "execute_result"
    }
   ],
   "source": [
    "np.random.randint(10, size=3)"
   ]
  },
  {
   "cell_type": "code",
   "execution_count": 6,
   "id": "28422307-a7f7-420f-923c-eed56cbe1296",
   "metadata": {},
   "outputs": [
    {
     "ename": "NameError",
     "evalue": "name 'a' is not defined",
     "output_type": "error",
     "traceback": [
      "\u001b[0;31m---------------------------------------------------------------------------\u001b[0m",
      "\u001b[0;31mNameError\u001b[0m                                 Traceback (most recent call last)",
      "Input \u001b[0;32mIn [6]\u001b[0m, in \u001b[0;36m<cell line: 1>\u001b[0;34m()\u001b[0m\n\u001b[0;32m----> 1\u001b[0m \u001b[43ma\u001b[49m\n",
      "\u001b[0;31mNameError\u001b[0m: name 'a' is not defined"
     ]
    }
   ],
   "source": [
    "a "
   ]
  },
  {
   "cell_type": "code",
   "execution_count": 22,
   "id": "a5cd152b-e455-4f63-b9a6-13fb43378608",
   "metadata": {},
   "outputs": [
    {
     "data": {
      "text/plain": [
       "<AxesSubplot:>"
      ]
     },
     "execution_count": 22,
     "metadata": {},
     "output_type": "execute_result"
    },
    {
     "data": {
      "image/png": "[encoded data removed]",
      "text/plain": [
       "<Figure size 432x288 with 1 Axes>"
      ]
     },
     "metadata": {
      "needs_background": "light"
     },
     "output_type": "display_data"
    }
   ],
   "source": [
    "import matplotlib.pyplot as plt\n",
    "fig, ax = plt.subplots(1, 1)\n",
    "ax"
   ]
  },
  {
   "cell_type": "code",
   "execution_count": 25,
   "id": "1f558fcc-078b-41a6-945a-5677a53c4de4",
   "metadata": {},
   "outputs": [
    {
     "data": {
      "text/plain": [
       "networkx.classes.graph.Graph"
      ]
     },
     "execution_count": 25,
     "metadata": {},
     "output_type": "execute_result"
    }
   ],
   "source": [
    "import networkx as nx\n",
    "type(nx.Graph())"
   ]
  },
  {
   "cell_type": "code",
   "execution_count": 27,
   "id": "1f22d787-8010-4b61-8afe-172864a72dc0",
   "metadata": {},
   "outputs": [
    {
     "data": {
      "text/plain": [
       "matplotlib.colors.LinearSegmentedColormap"
      ]
     },
     "execution_count": 27,
     "metadata": {},
     "output_type": "execute_result"
    }
   ],
   "source": [
    "type(plt.cm.Blues)"
   ]
  },
  {
   "cell_type": "code",
   "execution_count": 31,
   "id": "b1160c89-fb5a-4ccf-afa0-f7af2fea1eb0",
   "metadata": {},
   "outputs": [
    {
     "name": "stdout",
     "output_type": "stream",
     "text": [
      "<__main__.myClass object at 0x157b8bc70>\n",
      "['bonjour', 'Simon']\n",
      "  (0, 0)\t0\n",
      "  (0, 1)\t1\n",
      "  (0, 2)\t1\n",
      "  (1, 1)\t1\n",
      "  (1, 2)\t1\n",
      "  (2, 1)\t1\n"
     ]
    }
   ],
   "source": [
    "import copy\n",
    "from scipy import sparse\n",
    "\n",
    "class myClass():\n",
    "    \n",
    "    def __init__(self, attr, adj_csr):\n",
    "        self.attr = attr\n",
    "        self.adj_csr = adj_csr\n",
    "        \n",
    "    def copy(self):\n",
    "        return copy.deepcopy(self)\n",
    "    \n",
    "    def split(self):\n",
    "        train = self.copy()\n",
    "        train.attr[0] = 'bonjour'\n",
    "        train.adj_csr.data[0] = 0\n",
    "        return train\n",
    "    \n",
    "A = sparse.csr_matrix(np.array([[1, 1, 1], [0, 1 ,1], [0, 1, 0]]))\n",
    "attrs = ['aurevoir', 'Simon']\n",
    "\n",
    "sid = myClass(attrs, A)\n",
    "train_sid = sid.split()\n",
    "\n",
    "print(train_sid)\n",
    "print(train_sid.attr)\n",
    "print(train_sid.adj_csr)"
   ]
  },
  {
   "cell_type": "code",
   "execution_count": 33,
   "id": "6f433800-cf36-4d33-8450-39cc7b360efe",
   "metadata": {},
   "outputs": [
    {
     "name": "stderr",
     "output_type": "stream",
     "text": [
      "/var/folders/hb/p2nvp7cj1dg6y96zlm9vqb2c0000gn/T/ipykernel_1980/3878516664.py:2: RuntimeWarning: divide by zero encountered in log2\n",
      "  plt.plot(range(100), np.log2([x for x in range(100)]))\n"
     ]
    },
    {
     "data": {
      "text/plain": [
       "[<matplotlib.lines.Line2D at 0x157b8dcd0>]"
      ]
     },
     "execution_count": 33,
     "metadata": {},
     "output_type": "execute_result"
    },
    {
     "data": {
      "image/png": "[encoded data removed]",
      "text/plain": [
       "<Figure size 432x288 with 1 Axes>"
      ]
     },
     "metadata": {
      "needs_background": "light"
     },
     "output_type": "display_data"
    }
   ],
   "source": [
    "fig, ax = plt.subplots(1, 1)\n",
    "plt.plot(range(100), np.log2([x for x in range(100)]))"
   ]
  },
  {
   "cell_type": "code",
   "execution_count": 35,
   "id": "ac87ece3-3351-4b6c-8d2e-eaf618e7eca1",
   "metadata": {},
   "outputs": [
    {
     "data": {
      "text/plain": [
       "1"
      ]
     },
     "execution_count": 35,
     "metadata": {},
     "output_type": "execute_result"
    }
   ],
   "source": [
    "max(0, 1)"
   ]
  },
  {
   "cell_type": "code",
   "execution_count": 36,
   "id": "ca8a5a62-8158-4702-b75d-e472f2d9b1d9",
   "metadata": {},
   "outputs": [
    {
     "data": {
      "text/plain": [
       "[('a', 'b'), ('c', 'd'), ('d', 'f')]"
      ]
     },
     "execution_count": 36,
     "metadata": {},
     "output_type": "execute_result"
    }
   ],
   "source": [
    "a = [('a', 'b'), ('c', 'd')]\n",
    "b = [('d', 'f')]\n",
    "a + b"
   ]
  },
  {
   "cell_type": "code",
   "execution_count": 38,
   "id": "cb2b1ddd-12be-4b5a-9af1-ce8b5ec40e44",
   "metadata": {},
   "outputs": [
    {
     "data": {
      "text/plain": [
       "array([False,  True,  True])"
      ]
     },
     "execution_count": 38,
     "metadata": {},
     "output_type": "execute_result"
    }
   ],
   "source": [
    "a = np.array([0, 1, 2])\n",
    "a >= 1"
   ]
  },
  {
   "cell_type": "code",
   "execution_count": 50,
   "id": "b2d8491a-0241-4664-b2e5-614a574838d7",
   "metadata": {},
   "outputs": [
    {
     "name": "stdout",
     "output_type": "stream",
     "text": [
      "[[0 1 0 1]\n",
      " [1 0 1 1]\n",
      " [0 1 0 1]]\n"
     ]
    }
   ],
   "source": [
    "A = sparse.csr_matrix(np.array([[0, 1, 0, 1], [1, 0 ,1, 1], [0, 1, 0, 1]]))\n",
    "print(A.todense())"
   ]
  },
  {
   "cell_type": "code",
   "execution_count": 70,
   "id": "80eda133-0e63-4958-b5ce-36031dc5cf06",
   "metadata": {},
   "outputs": [
    {
     "data": {
      "text/plain": [
       "matrix([[2, 1, 2, 0, 0, 0, 0],\n",
       "        [1, 3, 1, 0, 0, 0, 0],\n",
       "        [2, 1, 2, 0, 0, 0, 0],\n",
       "        [0, 0, 0, 1, 0, 1, 1],\n",
       "        [0, 0, 0, 0, 2, 0, 2],\n",
       "        [0, 0, 0, 1, 0, 1, 1],\n",
       "        [0, 0, 0, 1, 2, 1, 3]])"
      ]
     },
     "execution_count": 70,
     "metadata": {},
     "output_type": "execute_result"
    }
   ],
   "source": [
    "adjacency = sparse.bmat([[None, A], [A.T, None]], format='csr')\n",
    "adjacency.sort_indices()\n",
    "D = (adjacency ** 2)\n",
    "D.todense()"
   ]
  },
  {
   "cell_type": "code",
   "execution_count": 72,
   "id": "a26dab97-63dc-4aeb-bcc3-834174a38070",
   "metadata": {},
   "outputs": [
    {
     "name": "stdout",
     "output_type": "stream",
     "text": [
      "[0 0 0 1 1 1 2 2 2]\n",
      "[1 2 0 2 0 1 1 2 0]\n"
     ]
    }
   ],
   "source": [
    "F = D[:3].tocoo()\n",
    "print(F.row)\n",
    "print(F.col)"
   ]
  },
  {
   "cell_type": "code",
   "execution_count": 62,
   "id": "217e5647-9777-4dab-9a16-aead6bf0d872",
   "metadata": {},
   "outputs": [
    {
     "data": {
      "text/plain": [
       "matrix([[0., 0., 0., 0., 1., 0., 1.],\n",
       "        [0., 0., 0., 1., 0., 1., 1.],\n",
       "        [0., 0., 0., 0., 1., 0., 1.],\n",
       "        [0., 1., 0., 0., 0., 0., 0.],\n",
       "        [1., 0., 1., 0., 0., 0., 0.],\n",
       "        [0., 1., 0., 0., 0., 0., 0.],\n",
       "        [1., 1., 1., 0., 0., 0., 0.]])"
      ]
     },
     "execution_count": 62,
     "metadata": {},
     "output_type": "execute_result"
    }
   ],
   "source": [
    "c = np.hstack((np.zeros((3, 3)), A.todense()))\n",
    "d = np.hstack((A.todense().T, np.zeros((4, 4))))\n",
    "f = np.vstack((c, d))\n",
    "f"
   ]
  },
  {
   "cell_type": "code",
   "execution_count": 63,
   "id": "100a208c-1fa7-4795-ad00-dccd318d73a2",
   "metadata": {},
   "outputs": [
    {
     "data": {
      "text/plain": [
       "matrix([[2., 1., 2., 0., 0., 0., 0.],\n",
       "        [1., 3., 1., 0., 0., 0., 0.],\n",
       "        [2., 1., 2., 0., 0., 0., 0.],\n",
       "        [0., 0., 0., 1., 0., 1., 1.],\n",
       "        [0., 0., 0., 0., 2., 0., 2.],\n",
       "        [0., 0., 0., 1., 0., 1., 1.],\n",
       "        [0., 0., 0., 1., 2., 1., 3.]])"
      ]
     },
     "execution_count": 63,
     "metadata": {},
     "output_type": "execute_result"
    }
   ],
   "source": [
    "f**2"
   ]
  },
  {
   "cell_type": "code",
   "execution_count": 79,
   "id": "d2748fbb-ddc6-477c-ad97-98f19efdf83c",
   "metadata": {},
   "outputs": [
    {
     "data": {
      "text/plain": [
       "[(1, 2), (3, 4), (1, 4), (5, 4)]"
      ]
     },
     "execution_count": 79,
     "metadata": {},
     "output_type": "execute_result"
    }
   ],
   "source": [
    "a = [[(1, 2), (3, 4)], [(1, 4), (5, 4)]]\n",
    "[x for e in a for x in e]"
   ]
  },
  {
   "cell_type": "code",
   "execution_count": 82,
   "id": "2857a491-48d0-4e72-91b7-b7520b383c0b",
   "metadata": {},
   "outputs": [
    {
     "name": "stdout",
     "output_type": "stream",
     "text": [
      "False\n"
     ]
    },
    {
     "data": {
      "image/png": "[encoded data removed]",
      "text/plain": [
       "<Figure size 432x288 with 1 Axes>"
      ]
     },
     "metadata": {},
     "output_type": "display_data"
    }
   ],
   "source": [
    "import networkx as nx\n",
    "from networkx.algorithms import bipartite\n",
    "\n",
    "G = nx.Graph()\n",
    "G.add_nodes_from(['A1','A2','A3','A4'], bipartite=0)\n",
    "G.add_nodes_from(['B1','B2','B3'],bipartite=1)\n",
    "\n",
    "G.add_edges_from([('A1', \"B3\"),('A4', \"B1\"),('A2', \"B2\"),('A2', \"B3\"),('A3', \"B1\")])\n",
    "\n",
    "bipartite.is_bipartite(G)\n",
    "print(nx.is_connected(G))\n",
    "nx.draw_networkx(G, pos = nx.drawing.layout.bipartite_layout(G, ['A1','A2','A3','A4']), width = 2)"
   ]
  },
  {
   "cell_type": "code",
   "execution_count": 85,
   "id": "4fdd4fed-831b-4b41-a836-987975fa889b",
   "metadata": {},
   "outputs": [
    {
     "data": {
      "text/plain": [
       "NodeView(('A1', 'A2', 'A3', 'A4', 'B1', 'B2', 'B3'))"
      ]
     },
     "execution_count": 85,
     "metadata": {},
     "output_type": "execute_result"
    }
   ],
   "source": [
    "G.nodes()"
   ]
  },
  {
   "cell_type": "code",
   "execution_count": 93,
   "id": "f090a2ec-3724-474f-8adb-e000f7d3ea08",
   "metadata": {},
   "outputs": [
    {
     "name": "stdout",
     "output_type": "stream",
     "text": [
      "d 3\n"
     ]
    }
   ],
   "source": [
    "def run(a, b, c=1, **kwargs):\n",
    "    res = a + b + c\n",
    "    multi(res, **kwargs)\n",
    "    \n",
    "def multi(a, **kwargs):\n",
    "    for k, v in kwargs.items():\n",
    "        print(k, v)\n",
    "    return a\n",
    "\n",
    "run(1, 2, c=1, d=3)"
   ]
  },
  {
   "cell_type": "code",
   "execution_count": 96,
   "id": "6545c46a-9c90-475c-b167-4104142287cf",
   "metadata": {},
   "outputs": [
    {
     "name": "stdout",
     "output_type": "stream",
     "text": [
      "bonjour 2\n",
      "the 1\n"
     ]
    }
   ],
   "source": [
    "words, cnt = np.unique(np.array(['bonjour', 'bonjour', 'the']), return_counts=True)\n",
    "for idx in np.argsort(-cnt):\n",
    "    print(words[idx], cnt[idx])"
   ]
  },
  {
   "cell_type": "code",
   "execution_count": 102,
   "id": "bd4a4289-99b5-4c0e-8735-7e887ce669bf",
   "metadata": {},
   "outputs": [
    {
     "name": "stdout",
     "output_type": "stream",
     "text": [
      "ok  1\n",
      "3\n",
      "ok  1\n"
     ]
    }
   ],
   "source": [
    "def func1():\n",
    "    global x\n",
    "    x = 1\n",
    "    print('ok ', x)\n",
    "def func2():\n",
    "    global x\n",
    "    x += 2\n",
    "    print(x)\n",
    "\n",
    "func1()\n",
    "func2()\n",
    "func1()"
   ]
  },
  {
   "cell_type": "code",
   "execution_count": 114,
   "id": "2c57dad3-0dbb-49fb-bda3-10cecfac7c6d",
   "metadata": {},
   "outputs": [
    {
     "data": {
      "text/plain": [
       "matrix([[2, 0],\n",
       "        [0, 1],\n",
       "        [1, 0]])"
      ]
     },
     "execution_count": 114,
     "metadata": {},
     "output_type": "execute_result"
    }
   ],
   "source": [
    "from sknetwork.data import from_edge_list\n",
    "\n",
    "edges = [('Alice', 'a'), ('Bob', 'b'), ('Carol', 'a'), ('Alice', 'a')]\n",
    "graph = from_edge_list(edges, bipartite=True)\n",
    "biadjacency = graph.biadjacency\n",
    "biadjacency.todense()"
   ]
  },
  {
   "cell_type": "code",
   "execution_count": 152,
   "id": "d66eebdd-2734-4c64-adf2-18f990bad989",
   "metadata": {},
   "outputs": [],
   "source": [
    "words = ['and', 'document', 'first', 'this', 'third', 'second', 'one', 'the']"
   ]
  },
  {
   "cell_type": "code",
   "execution_count": 163,
   "id": "9db812c0-1c9e-4d34-b76d-16078644c6c2",
   "metadata": {},
   "outputs": [],
   "source": [
    "corpus = [\n",
    "      'this is the first document',\n",
    "      'this document is the second document',\n",
    "      'and this is the third one',\n",
    "      'is this the first document',\n",
    " ] \n",
    "def IDF(corpus, unique_words):\n",
    "    idf_dict={}\n",
    "    N=len(corpus)\n",
    "    for i in unique_words:\n",
    "        count=0\n",
    "        for sen in corpus:\n",
    "            if i in sen.split():\n",
    "                count=count+1\n",
    "            idf_dict[i]=(math.log((1+N)/(count+1)))+1\n",
    "    return idf_dict \n",
    "\n",
    "corpus_adj = sparse.csr_matrix(np.array([[0, 1, 1, 1, 0, 0, 1, 0, 1],\n",
    "                                         [0, 2, 0, 1, 0, 1, 1, 0, 1],\n",
    "                                         [1, 0, 0, 1, 1, 0, 1, 1, 1],\n",
    "                                         [0, 1, 1, 1, 0, 0, 1, 0, 1]]))\n",
    "n, m = corpus_adj.shape\n",
    "def idf(corpus):\n",
    "    n, m = corpus.shape\n",
    "    count = corpus.T.astype(bool).dot(np.ones(n))\n",
    "    return 1 + np.log((n+1) / (count+1))"
   ]
  },
  {
   "cell_type": "code",
   "execution_count": 164,
   "id": "2d56cbea-7617-41b0-9114-3f448b85cfbf",
   "metadata": {},
   "outputs": [
    {
     "name": "stdout",
     "output_type": "stream",
     "text": [
      "[1.91629073 1.22314355 1.51082562 1.         1.91629073 1.91629073\n",
      " 1.         1.91629073 1.        ]\n",
      "{'first': 1.5108256237659907, 'document': 1.2231435513142097, 'second': 1.916290731874155, 'this': 1.0, 'is': 1.0, 'and': 1.916290731874155, 'the': 1.0, 'third': 1.916290731874155, 'one': 1.916290731874155}\n"
     ]
    }
   ],
   "source": [
    "print(idf(corpus_adj))\n",
    "print(IDF(corpus, res))"
   ]
  },
  {
   "cell_type": "code",
   "execution_count": 145,
   "id": "008e5229-602c-408c-99c7-771a2469a881",
   "metadata": {},
   "outputs": [],
   "source": [
    "res = set()\n",
    "for sen in corpus:\n",
    "    for elem in sen.split(' '):\n",
    "        res.add(elem)\n",
    "res = list(res)"
   ]
  },
  {
   "cell_type": "code",
   "execution_count": 183,
   "id": "b094faf8-046b-4652-a42e-8bcc4346e1aa",
   "metadata": {},
   "outputs": [
    {
     "name": "stdout",
     "output_type": "stream",
     "text": [
      "  (0, 0)\t0.2\n",
      "  (1, 1)\t0.16666666666666666\n",
      "  (2, 2)\t0.16666666666666666\n",
      "  (3, 3)\t0.2\n"
     ]
    },
    {
     "data": {
      "text/plain": [
       "matrix([[0.        , 0.2       , 0.2       , 0.2       , 0.        ,\n",
       "         0.        , 0.2       , 0.        , 0.2       ],\n",
       "        [0.        , 0.33333333, 0.        , 0.16666667, 0.        ,\n",
       "         0.16666667, 0.16666667, 0.        , 0.16666667],\n",
       "        [0.16666667, 0.        , 0.        , 0.16666667, 0.16666667,\n",
       "         0.        , 0.16666667, 0.16666667, 0.16666667],\n",
       "        [0.        , 0.2       , 0.2       , 0.2       , 0.        ,\n",
       "         0.        , 0.2       , 0.        , 0.2       ]])"
      ]
     },
     "execution_count": 183,
     "metadata": {},
     "output_type": "execute_result"
    }
   ],
   "source": [
    "diag = sparse.diags(corpus_adj.dot(np.ones(m)))\n",
    "diag.data = 1 / diag.data\n",
    "diag.dot(corpus_adj).todense()"
   ]
  },
  {
   "cell_type": "code",
   "execution_count": 194,
   "id": "cdfa53d9-a91e-4d30-9cf4-9977a7a7e7c0",
   "metadata": {},
   "outputs": [
    {
     "data": {
      "text/plain": [
       "matrix([[0.        , 0.4       , 0.4       , 0.4       , 0.        ,\n",
       "         0.        , 0.4       , 0.        , 0.4       ],\n",
       "        [0.        , 0.66666667, 0.        , 0.33333333, 0.        ,\n",
       "         0.33333333, 0.33333333, 0.        , 0.33333333],\n",
       "        [0.33333333, 0.        , 0.        , 0.33333333, 0.33333333,\n",
       "         0.        , 0.33333333, 0.33333333, 0.33333333]])"
      ]
     },
     "execution_count": 194,
     "metadata": {},
     "output_type": "execute_result"
    }
   ],
   "source": [
    "diag2 = sparse.diags(np.ones(n)*2)\n",
    "\n",
    "diag2.dot(diag.dot(corpus_adj)).todense()[[0, 1, 2]]"
   ]
  },
  {
   "cell_type": "code",
   "execution_count": 196,
   "id": "59d7b27e-d243-4082-865e-013548273c4a",
   "metadata": {},
   "outputs": [
    {
     "data": {
      "text/plain": [
       "matrix([[0.        , 0.4       , 0.4       , 0.4       , 0.        ,\n",
       "         0.        , 0.4       , 0.        , 0.4       ],\n",
       "        [0.        , 0.66666667, 0.        , 0.33333333, 0.        ,\n",
       "         0.33333333, 0.33333333, 0.        , 0.33333333],\n",
       "        [0.33333333, 0.        , 0.        , 0.33333333, 0.33333333,\n",
       "         0.        , 0.33333333, 0.33333333, 0.33333333]])"
      ]
     },
     "execution_count": 196,
     "metadata": {},
     "output_type": "execute_result"
    }
   ],
   "source": [
    "c = diag2.dot(diag.dot(corpus_adj)).todense()[[0, 1, 2]]\n",
    "c"
   ]
  },
  {
   "cell_type": "code",
   "execution_count": 201,
   "id": "c3d6b7b4-3cb2-4595-8d53-065edf8a12e6",
   "metadata": {},
   "outputs": [
    {
     "data": {
      "text/plain": [
       "array(['and', 'document', 'first', 'is', 'one', 'second', 'the', 'third',\n",
       "       'this'], dtype=object)"
      ]
     },
     "execution_count": 201,
     "metadata": {},
     "output_type": "execute_result"
    }
   ],
   "source": [
    "from sklearn.feature_extraction.text import TfidfVectorizer\n",
    "\n",
    "corpus = [\n",
    "     'This is the first document.',\n",
    "     'This document is the second document.',\n",
    "     'And this is the third one.',\n",
    "     'Is this the first document?',\n",
    " ]\n",
    "vectorizer = TfidfVectorizer()\n",
    "X = vectorizer.fit_transform(corpus)\n",
    "vectorizer.get_feature_names_out()\n",
    "\n",
    "#print(X.shape)\n"
   ]
  },
  {
   "cell_type": "code",
   "execution_count": 206,
   "id": "9157438b-2dee-40b0-917f-84f4849df9dd",
   "metadata": {},
   "outputs": [
    {
     "data": {
      "text/plain": [
       "2.3368569010480114"
      ]
     },
     "execution_count": 206,
     "metadata": {},
     "output_type": "execute_result"
    }
   ],
   "source": [
    "X[2, :].sum()"
   ]
  },
  {
   "cell_type": "code",
   "execution_count": 207,
   "id": "afe345a6-02db-46b6-8eba-d55d6c379510",
   "metadata": {},
   "outputs": [
    {
     "data": {
      "text/plain": [
       "2.0"
      ]
     },
     "execution_count": 207,
     "metadata": {},
     "output_type": "execute_result"
    }
   ],
   "source": [
    "np.mean([1, 2, 3])"
   ]
  },
  {
   "cell_type": "code",
   "execution_count": 225,
   "id": "27d8ca60-0fe2-4a5d-b622-947ef3fa22f0",
   "metadata": {},
   "outputs": [
    {
     "name": "stdout",
     "output_type": "stream",
     "text": [
      "[[0 1]\n",
      " [1 1]] <class 'scipy.sparse._csr.csr_matrix'>\n"
     ]
    },
    {
     "data": {
      "text/plain": [
       "matrix([[0.5],\n",
       "        [1. ]])"
      ]
     },
     "execution_count": 225,
     "metadata": {},
     "output_type": "execute_result"
    }
   ],
   "source": [
    "c = corpus_adj[[2, 3], :][:, [2, 6]]\n",
    "print(c.todense(), type(c))\n",
    "c.mean(axis=1)"
   ]
  },
  {
   "cell_type": "code",
   "execution_count": 228,
   "id": "6bb1f6b0-09ec-4fd1-b612-add6dafe94a9",
   "metadata": {},
   "outputs": [
    {
     "data": {
      "text/plain": [
       "array([0, 5, 6, 5], dtype=int32)"
      ]
     },
     "execution_count": 228,
     "metadata": {},
     "output_type": "execute_result"
    }
   ],
   "source": [
    "A = sparse.csr_matrix(np.array([[0, 0, 0, 0, 0, 0, 0, 0, 0],\n",
    "                                 [0, 2, 0, 1, 0, 1, 1, 0, 1],\n",
    "                                 [1, 0, 0, 1, 1, 0, 1, 1, 1],\n",
    "                                 [0, 1, 1, 1, 0, 0, 1, 0, 1]]))\n",
    "A.getnnz(axis=1)"
   ]
  },
  {
   "cell_type": "code",
   "execution_count": 261,
   "id": "b29cae77-a455-4157-8bc1-b62c3b76a754",
   "metadata": {},
   "outputs": [
    {
     "name": "stdout",
     "output_type": "stream",
     "text": [
      "0.513417119032592\n",
      "0.3333333333333333\n"
     ]
    }
   ],
   "source": [
    "print(np.exp(-2/3))\n",
    "print(1/(1+2))"
   ]
  },
  {
   "cell_type": "code",
   "execution_count": 399,
   "id": "63ea6bc2-5c57-4018-a40c-8b3cb84376b2",
   "metadata": {},
   "outputs": [
    {
     "data": {
      "text/plain": [
       "<matplotlib.legend.Legend at 0x2a1f06eb0>"
      ]
     },
     "execution_count": 399,
     "metadata": {},
     "output_type": "execute_result"
    },
    {
     "data": {
      "image/png": "[encoded data removed]",
      "text/plain": [
       "<Figure size 432x288 with 1 Axes>"
      ]
     },
     "metadata": {
      "needs_background": "light"
     },
     "output_type": "display_data"
    }
   ],
   "source": [
    "n = 15\n",
    "plt.plot(range(n), [1/(1+x) for x in range(n)], label='$1/(1+x)$', color='r')\n",
    "plt.plot(range(n), [1/(1+np.sqrt(x)) for x in range(n)], label='$1/(1+\\sqrt{x})$')\n",
    "plt.plot(range(n), [np.exp(-x/4) for x in range(n)], label='$e^{-x}$')\n",
    "plt.plot(range(n), [np.exp(-x/4) for x in range(n)], label='$e^{-x}$')\n",
    "plt.plot(range(n), [np.log(1+x) for x in range(n)], label='$e^{-x}$')\n",
    "plt.legend()"
   ]
  },
  {
   "cell_type": "code",
   "execution_count": 402,
   "id": "1e467859-38e5-44e7-8c37-e4a484b1f95d",
   "metadata": {},
   "outputs": [
    {
     "name": "stdout",
     "output_type": "stream",
     "text": [
      "0.6931471805599453\n",
      "1.0986122886681098\n"
     ]
    }
   ],
   "source": [
    "print(np.log(1+1))\n",
    "print(np.log(1+2))"
   ]
  },
  {
   "cell_type": "code",
   "execution_count": 406,
   "id": "92a95c2a-f677-44bd-8c3f-c3a1cc4ba05b",
   "metadata": {},
   "outputs": [
    {
     "name": "stdout",
     "output_type": "stream",
     "text": [
      "0.6\n",
      "1.0\n"
     ]
    }
   ],
   "source": [
    "print(0.5 + 0.5 * (1/5))\n",
    "print(0.5 + 0.5 * (5/5))"
   ]
  },
  {
   "cell_type": "code",
   "execution_count": 311,
   "id": "c6dbc1b3-fdc6-46e3-881d-c1f5f9a641a9",
   "metadata": {},
   "outputs": [
    {
     "name": "stdout",
     "output_type": "stream",
     "text": [
      "Top u : ['Inception' 'The Dark Knight Rises' 'The Big Short' 'Drive'\n",
      " 'The Great Gatsby' 'La La Land' 'Crazy Stupid Love' 'Aviator'\n",
      " 'Midnight In Paris']\n",
      "Top v : ['Leonardo DiCaprio' 'Marion Cotillard' 'Joseph Gordon Lewitt'\n",
      " 'Christian Bale' 'Ryan Gosling' 'Brad Pitt' 'Carey Mulligan'\n",
      " 'Lea Seydoux' 'Willem Dafoe']\n",
      "Closest neighbors from same set    : ['Inception' 'The Dark Knight Rises' 'Midnight In Paris' 'The Big Short']\n",
      "Closest neighbors from opposite set: ['Joseph Gordon Lewitt' 'Marion Cotillard' 'Leonardo DiCaprio'\n",
      " 'Christian Bale']\n"
     ]
    },
    {
     "data": {
      "image/svg+xml": [
       "<svg xmlns=\"http://www.w3.org/2000/svg\" width=\"728.0\" height=\"340\">\n",
       "<path stroke-width=\"1\" stroke=\"black\" d=\"M 188 89 588 140\"/>\n",
       "<path stroke-width=\"1\" stroke=\"black\" d=\"M 188 310 588 120\"/>\n",
       "<path stroke-width=\"1\" stroke=\"black\" d=\"M 188 310 588 100\"/>\n",
       "<path stroke-width=\"1\" stroke=\"black\" d=\"M 188 310 588 240\"/>\n",
       "<path stroke-width=\"1\" stroke=\"black\" d=\"M 188 150 588 140\"/>\n",
       "<path stroke-width=\"1\" stroke=\"black\" d=\"M 188 150 588 120\"/>\n",
       "<path stroke-width=\"1\" stroke=\"black\" d=\"M 188 150 588 100\"/>\n",
       "<path stroke-width=\"1\" stroke=\"black\" d=\"M 188 290 588 300\"/>\n",
       "<path stroke-width=\"1\" stroke=\"black\" d=\"M 188 290 588 280\"/>\n",
       "<path stroke-width=\"1\" stroke=\"black\" d=\"M 188 290 588 260\"/>\n",
       "<path stroke-width=\"1\" stroke=\"black\" d=\"M 188 270 588 320\"/>\n",
       "<path stroke-width=\"1\" stroke=\"black\" d=\"M 188 270 588 300\"/>\n",
       "<path stroke-width=\"1\" stroke=\"black\" d=\"M 188 270 588 260\"/>\n",
       "<path stroke-width=\"1\" stroke=\"black\" d=\"M 188 249 588 59\"/>\n",
       "<path stroke-width=\"1\" stroke=\"black\" d=\"M 188 249 588 300\"/>\n",
       "<path stroke-width=\"1\" stroke=\"black\" d=\"M 188 249 588 240\"/>\n",
       "<path stroke-width=\"1\" stroke=\"black\" d=\"M 188 130 588 100\"/>\n",
       "<path stroke-width=\"1\" stroke=\"black\" d=\"M 188 130 588 79\"/>\n",
       "<path stroke-width=\"1\" stroke=\"black\" d=\"M 188 310 588 280\"/>\n",
       "<path stroke-width=\"1\" stroke=\"black\" d=\"M 188 310 588 300\"/>\n",
       "<path stroke-width=\"1\" stroke=\"black\" d=\"M 188 170 588 160\"/>\n",
       "<path stroke-width=\"1\" stroke=\"black\" d=\"M 188 170 588 220\"/>\n",
       "<path stroke-width=\"1\" stroke=\"black\" d=\"M 188 89 588 59\"/>\n",
       "<path stroke-width=\"1\" stroke=\"black\" d=\"M 188 89 588 40\"/>\n",
       "<path stroke-width=\"1\" stroke=\"black\" d=\"M 188 69 588 59\"/>\n",
       "<path stroke-width=\"1\" stroke=\"black\" d=\"M 188 69 588 40\"/>\n",
       "<path stroke-width=\"1\" stroke=\"black\" d=\"M 188 69 588 220\"/>\n",
       "<path stroke-width=\"1\" stroke=\"black\" d=\"M 188 230 588 220\"/>\n",
       "<path stroke-width=\"1\" stroke=\"black\" d=\"M 188 230 588 200\"/>\n",
       "<path stroke-width=\"1\" stroke=\"black\" d=\"M 188 230 588 320\"/>\n",
       "<path stroke-width=\"1\" stroke=\"black\" d=\"M 188 110 588 120\"/>\n",
       "<path stroke-width=\"1\" stroke=\"black\" d=\"M 188 230 588 160\"/>\n",
       "<path stroke-width=\"1\" stroke=\"black\" d=\"M 188 49 588 20\"/>\n",
       "<path stroke-width=\"1\" stroke=\"black\" d=\"M 188 30 588 140\"/>\n",
       "<path stroke-width=\"1\" stroke=\"black\" d=\"M 188 30 588 20\"/>\n",
       "<path stroke-width=\"1\" stroke=\"black\" d=\"M 188 210 588 200\"/>\n",
       "<path stroke-width=\"1\" stroke=\"black\" d=\"M 188 210 588 180\"/>\n",
       "<path stroke-width=\"1\" stroke=\"black\" d=\"M 188 190 588 200\"/>\n",
       "<path stroke-width=\"1\" stroke=\"black\" d=\"M 188 190 588 180\"/>\n",
       "<path stroke-width=\"1\" stroke=\"black\" d=\"M 188 190 588 160\"/>\n",
       "<path stroke-width=\"1\" stroke=\"black\" d=\"M 188 49 588 200\"/>\n",
       "<path stroke-width=\"1\" stroke=\"black\" d=\"M 188 110 588 79\"/>\n",
       "<circle cx=\"188\" cy=\"89\" r=\"7.0\" style=\"fill:rgb(222, 98, 78);stroke:black;stroke-width:1.0\"/>\n",
       "<circle cx=\"188\" cy=\"69\" r=\"7.0\" style=\"fill:rgb(222, 98, 78);stroke:black;stroke-width:1.0\"/>\n",
       "<circle cx=\"188\" cy=\"230\" r=\"7.0\" style=\"fill:rgb(214, 219, 228);stroke:black;stroke-width:1.0\"/>\n",
       "<circle cx=\"188\" cy=\"49\" r=\"7.0\" style=\"fill:rgb(112, 147, 243);stroke:black;stroke-width:1.0\"/>\n",
       "<circle cx=\"188\" cy=\"30\" r=\"7.0\" style=\"fill:rgb(205, 217, 236);stroke:black;stroke-width:1.0\"/>\n",
       "<circle cx=\"188\" cy=\"210\" r=\"7.0\" style=\"fill:rgb(58, 76, 192);stroke:black;stroke-width:1.0\"/>\n",
       "<circle cx=\"188\" cy=\"190\" r=\"7.0\" style=\"fill:rgb(120, 155, 247);stroke:black;stroke-width:1.0\"/>\n",
       "<circle cx=\"188\" cy=\"170\" r=\"7.0\" style=\"fill:rgb(202, 216, 238);stroke:black;stroke-width:1.0\"/>\n",
       "<circle cx=\"188\" cy=\"310\" r=\"7.0\" style=\"fill:rgb(170, 198, 253);stroke:black;stroke-width:1.0\"/>\n",
       "<circle cx=\"188\" cy=\"150\" r=\"7.0\" style=\"fill:rgb(205, 217, 236);stroke:black;stroke-width:1.0\"/>\n",
       "<circle cx=\"188\" cy=\"290\" r=\"7.0\" style=\"fill:rgb(96, 128, 232);stroke:black;stroke-width:1.0\"/>\n",
       "<circle cx=\"188\" cy=\"270\" r=\"7.0\" style=\"fill:rgb(112, 147, 243);stroke:black;stroke-width:1.0\"/>\n",
       "<circle cx=\"188\" cy=\"249\" r=\"7.0\" style=\"fill:rgb(234, 211, 199);stroke:black;stroke-width:1.0\"/>\n",
       "<circle cx=\"188\" cy=\"130\" r=\"7.0\" style=\"fill:rgb(64, 84, 199);stroke:black;stroke-width:1.0\"/>\n",
       "<circle cx=\"188\" cy=\"110\" r=\"7.0\" style=\"fill:rgb(64, 84, 199);stroke:black;stroke-width:1.0\"/>\n",
       "<circle cx=\"588\" cy=\"140\" r=\"7.0\" style=\"fill:rgb(245, 158, 127);stroke:black;stroke-width:1.0\"/>\n",
       "<circle cx=\"588\" cy=\"59\" r=\"7.0\" style=\"fill:rgb(231, 117, 92);stroke:black;stroke-width:1.0\"/>\n",
       "<circle cx=\"588\" cy=\"40\" r=\"7.0\" style=\"fill:rgb(179, 3, 38);stroke:black;stroke-width:3.0\"/>\n",
       "<circle cx=\"588\" cy=\"220\" r=\"7.0\" style=\"fill:rgb(245, 161, 130);stroke:black;stroke-width:1.0\"/>\n",
       "<circle cx=\"588\" cy=\"200\" r=\"7.0\" style=\"fill:rgb(217, 220, 224);stroke:black;stroke-width:1.0\"/>\n",
       "<circle cx=\"588\" cy=\"320\" r=\"7.0\" style=\"fill:rgb(183, 207, 249);stroke:black;stroke-width:1.0\"/>\n",
       "<circle cx=\"588\" cy=\"20\" r=\"7.0\" style=\"fill:rgb(210, 218, 231);stroke:black;stroke-width:1.0\"/>\n",
       "<circle cx=\"588\" cy=\"180\" r=\"7.0\" style=\"fill:rgb(145, 179, 254);stroke:black;stroke-width:1.0\"/>\n",
       "<circle cx=\"588\" cy=\"160\" r=\"7.0\" style=\"fill:rgb(227, 217, 211);stroke:black;stroke-width:1.0\"/>\n",
       "<circle cx=\"588\" cy=\"300\" r=\"7.0\" style=\"fill:rgb(227, 217, 211);stroke:black;stroke-width:1.0\"/>\n",
       "<circle cx=\"588\" cy=\"280\" r=\"7.0\" style=\"fill:rgb(155, 187, 254);stroke:black;stroke-width:1.0\"/>\n",
       "<circle cx=\"588\" cy=\"120\" r=\"7.0\" style=\"fill:rgb(205, 217, 236);stroke:black;stroke-width:1.0\"/>\n",
       "<circle cx=\"588\" cy=\"100\" r=\"7.0\" style=\"fill:rgb(205, 217, 236);stroke:black;stroke-width:1.0\"/>\n",
       "<circle cx=\"588\" cy=\"260\" r=\"7.0\" style=\"fill:rgb(148, 181, 254);stroke:black;stroke-width:1.0\"/>\n",
       "<circle cx=\"588\" cy=\"79\" r=\"7.0\" style=\"fill:rgb(134, 169, 252);stroke:black;stroke-width:1.0\"/>\n",
       "<circle cx=\"588\" cy=\"240\" r=\"7.0\" style=\"fill:rgb(210, 218, 231);stroke:black;stroke-width:1.0\"/>\n",
       "<text text-anchor=\"end\" x=\"178\" y=\"89\" font-size=\"12\">Inception</text><text text-anchor=\"end\" x=\"178\" y=\"69\" font-size=\"12\">The Dark Knight Rises</text><text text-anchor=\"end\" x=\"178\" y=\"230\" font-size=\"12\">The Big Short</text><text text-anchor=\"end\" x=\"178\" y=\"49\" font-size=\"12\">Drive</text><text text-anchor=\"end\" x=\"178\" y=\"30\" font-size=\"12\">The Great Gatsby</text><text text-anchor=\"end\" x=\"178\" y=\"210\" font-size=\"12\">La La Land</text><text text-anchor=\"end\" x=\"178\" y=\"190\" font-size=\"12\">Crazy Stupid Love</text><text text-anchor=\"end\" x=\"178\" y=\"170\" font-size=\"12\">Vice</text><text text-anchor=\"end\" x=\"178\" y=\"310\" font-size=\"12\">The Grand Budapest Hotel</text><text text-anchor=\"end\" x=\"178\" y=\"150\" font-size=\"12\">Aviator</text><text text-anchor=\"end\" x=\"178\" y=\"290\" font-size=\"12\">007 Spectre</text><text text-anchor=\"end\" x=\"178\" y=\"270\" font-size=\"12\">Inglourious Basterds</text><text text-anchor=\"end\" x=\"178\" y=\"249\" font-size=\"12\">Midnight In Paris</text><text text-anchor=\"end\" x=\"178\" y=\"130\" font-size=\"12\">Murder on the Orient Express</text><text text-anchor=\"end\" x=\"178\" y=\"110\" font-size=\"12\">Fantastic Beasts 2</text><text text-anchor=\"start\" x=\"598\" y=\"140\" font-size=\"12\">Leonardo DiCaprio</text><text text-anchor=\"start\" x=\"598\" y=\"59\" font-size=\"12\">Marion Cotillard</text><text text-anchor=\"start\" x=\"598\" y=\"40\" font-size=\"12\">Joseph Gordon Lewitt</text><text text-anchor=\"start\" x=\"598\" y=\"220\" font-size=\"12\">Christian Bale</text><text text-anchor=\"start\" x=\"598\" y=\"200\" font-size=\"12\">Ryan Gosling</text><text text-anchor=\"start\" x=\"598\" y=\"320\" font-size=\"12\">Brad Pitt</text><text text-anchor=\"start\" x=\"598\" y=\"20\" font-size=\"12\">Carey Mulligan</text><text text-anchor=\"start\" x=\"598\" y=\"180\" font-size=\"12\">Emma Stone</text><text text-anchor=\"start\" x=\"598\" y=\"160\" font-size=\"12\">Steve Carell</text><text text-anchor=\"start\" x=\"598\" y=\"300\" font-size=\"12\">Lea Seydoux</text><text text-anchor=\"start\" x=\"598\" y=\"280\" font-size=\"12\">Ralph Fiennes</text><text text-anchor=\"start\" x=\"598\" y=\"120\" font-size=\"12\">Jude Law</text><text text-anchor=\"start\" x=\"598\" y=\"100\" font-size=\"12\">Willem Dafoe</text><text text-anchor=\"start\" x=\"598\" y=\"260\" font-size=\"12\">Christophe Waltz</text><text text-anchor=\"start\" x=\"598\" y=\"79\" font-size=\"12\">Johnny Depp</text><text text-anchor=\"start\" x=\"598\" y=\"240\" font-size=\"12\">Owen Wilson</text></svg>"
      ],
      "text/plain": [
       "<IPython.core.display.SVG object>"
      ]
     },
     "execution_count": 311,
     "metadata": {},
     "output_type": "execute_result"
    }
   ],
   "source": [
    "from IPython.display import SVG\n",
    "from sknetwork.data import movie_actor\n",
    "from sknetwork.ranking import PageRank, top_k\n",
    "from sknetwork.visualization import svg_bigraph\n",
    "\n",
    "graph = movie_actor(metadata=True)\n",
    "biadjacency = graph.biadjacency\n",
    "names_row = graph.names_row\n",
    "names_col = graph.names_col\n",
    "\n",
    "pagerank = PageRank()\n",
    "seeds_row = {3: 1}\n",
    "seeds_col = {2: 1}\n",
    "pagerank.fit_transform(biadjacency, seeds_row=seeds_row)\n",
    "scores_row = pagerank.scores_row_\n",
    "scores_col = pagerank.scores_col_\n",
    "\n",
    "top_u_row = top_k(scores_row, 5)\n",
    "top_u_col = top_k(scores_row, 5)\n",
    "\n",
    "pagerank.fit_transform(biadjacency, seeds_col=seeds_col)\n",
    "scores_row = pagerank.scores_row_\n",
    "scores_col = pagerank.scores_col_\n",
    "top_v_row = top_k(scores_row, 5)\n",
    "top_v_col = top_k(scores_row, 5)\n",
    "\n",
    "top_u = set(top_u_row).union(set(top_v_row))\n",
    "top_v = set(top_u_col).union(set(top_v_col))\n",
    "\n",
    "print(f'Top u : {names_row[np.asarray(list(top_u))]}')\n",
    "print(f'Top v : {names_col[np.asarray(list(top_v))]}')\n",
    "\n",
    "\n",
    "print(f'Closest neighbors from same set    : {names_row[np.argsort(-scores_row)[:4]]}')\n",
    "print(f'Closest neighbors from opposite set: {names_col[np.argsort(-scores_col)[:4]]}')\n",
    "\n",
    "image = svg_bigraph(biadjacency, names_row, names_col,\n",
    "                    scores_row=np.log(scores_row), scores_col=np.log(scores_col), seeds_col=seeds_col)\n",
    "SVG(image)"
   ]
  },
  {
   "cell_type": "code",
   "execution_count": 302,
   "id": "d9544254-d26c-440e-86d8-1b063073ea28",
   "metadata": {},
   "outputs": [
    {
     "data": {
      "image/svg+xml": [
       "<svg xmlns=\"http://www.w3.org/2000/svg\" width=\"728.0\" height=\"340\">\n",
       "<path stroke-width=\"1\" stroke=\"black\" d=\"M 188 89 588 140\"/>\n",
       "<path stroke-width=\"1\" stroke=\"black\" d=\"M 188 310 588 120\"/>\n",
       "<path stroke-width=\"1\" stroke=\"black\" d=\"M 188 310 588 100\"/>\n",
       "<path stroke-width=\"1\" stroke=\"black\" d=\"M 188 310 588 240\"/>\n",
       "<path stroke-width=\"1\" stroke=\"black\" d=\"M 188 150 588 140\"/>\n",
       "<path stroke-width=\"1\" stroke=\"black\" d=\"M 188 150 588 120\"/>\n",
       "<path stroke-width=\"1\" stroke=\"black\" d=\"M 188 150 588 100\"/>\n",
       "<path stroke-width=\"1\" stroke=\"black\" d=\"M 188 290 588 300\"/>\n",
       "<path stroke-width=\"1\" stroke=\"black\" d=\"M 188 290 588 280\"/>\n",
       "<path stroke-width=\"1\" stroke=\"black\" d=\"M 188 290 588 260\"/>\n",
       "<path stroke-width=\"1\" stroke=\"black\" d=\"M 188 270 588 320\"/>\n",
       "<path stroke-width=\"1\" stroke=\"black\" d=\"M 188 270 588 300\"/>\n",
       "<path stroke-width=\"1\" stroke=\"black\" d=\"M 188 270 588 260\"/>\n",
       "<path stroke-width=\"1\" stroke=\"black\" d=\"M 188 249 588 59\"/>\n",
       "<path stroke-width=\"1\" stroke=\"black\" d=\"M 188 249 588 300\"/>\n",
       "<path stroke-width=\"1\" stroke=\"black\" d=\"M 188 249 588 240\"/>\n",
       "<path stroke-width=\"1\" stroke=\"black\" d=\"M 188 130 588 100\"/>\n",
       "<path stroke-width=\"1\" stroke=\"black\" d=\"M 188 130 588 79\"/>\n",
       "<path stroke-width=\"1\" stroke=\"black\" d=\"M 188 310 588 280\"/>\n",
       "<path stroke-width=\"1\" stroke=\"black\" d=\"M 188 310 588 300\"/>\n",
       "<path stroke-width=\"1\" stroke=\"black\" d=\"M 188 170 588 160\"/>\n",
       "<path stroke-width=\"1\" stroke=\"black\" d=\"M 188 170 588 220\"/>\n",
       "<path stroke-width=\"1\" stroke=\"black\" d=\"M 188 89 588 59\"/>\n",
       "<path stroke-width=\"1\" stroke=\"black\" d=\"M 188 89 588 40\"/>\n",
       "<path stroke-width=\"1\" stroke=\"black\" d=\"M 188 69 588 59\"/>\n",
       "<path stroke-width=\"1\" stroke=\"black\" d=\"M 188 69 588 40\"/>\n",
       "<path stroke-width=\"1\" stroke=\"black\" d=\"M 188 69 588 220\"/>\n",
       "<path stroke-width=\"1\" stroke=\"black\" d=\"M 188 230 588 220\"/>\n",
       "<path stroke-width=\"1\" stroke=\"black\" d=\"M 188 230 588 200\"/>\n",
       "<path stroke-width=\"1\" stroke=\"black\" d=\"M 188 230 588 320\"/>\n",
       "<path stroke-width=\"1\" stroke=\"black\" d=\"M 188 110 588 120\"/>\n",
       "<path stroke-width=\"1\" stroke=\"black\" d=\"M 188 230 588 160\"/>\n",
       "<path stroke-width=\"1\" stroke=\"black\" d=\"M 188 49 588 20\"/>\n",
       "<path stroke-width=\"1\" stroke=\"black\" d=\"M 188 30 588 140\"/>\n",
       "<path stroke-width=\"1\" stroke=\"black\" d=\"M 188 30 588 20\"/>\n",
       "<path stroke-width=\"1\" stroke=\"black\" d=\"M 188 210 588 200\"/>\n",
       "<path stroke-width=\"1\" stroke=\"black\" d=\"M 188 210 588 180\"/>\n",
       "<path stroke-width=\"1\" stroke=\"black\" d=\"M 188 190 588 200\"/>\n",
       "<path stroke-width=\"1\" stroke=\"black\" d=\"M 188 190 588 180\"/>\n",
       "<path stroke-width=\"1\" stroke=\"black\" d=\"M 188 190 588 160\"/>\n",
       "<path stroke-width=\"1\" stroke=\"black\" d=\"M 188 49 588 200\"/>\n",
       "<path stroke-width=\"1\" stroke=\"black\" d=\"M 188 110 588 79\"/>\n",
       "<circle cx=\"188\" cy=\"89\" r=\"7.0\" style=\"fill:rgb(243, 198, 176);stroke:black;stroke-width:1.0\"/>\n",
       "<circle cx=\"188\" cy=\"69\" r=\"7.0\" style=\"fill:rgb(236, 210, 196);stroke:black;stroke-width:1.0\"/>\n",
       "<circle cx=\"188\" cy=\"230\" r=\"7.0\" style=\"fill:rgb(239, 137, 108);stroke:black;stroke-width:1.0\"/>\n",
       "<circle cx=\"188\" cy=\"49\" r=\"7.0\" style=\"fill:rgb(179, 3, 38);stroke:black;stroke-width:3.0\"/>\n",
       "<circle cx=\"188\" cy=\"30\" r=\"7.0\" style=\"fill:rgb(236, 128, 100);stroke:black;stroke-width:1.0\"/>\n",
       "<circle cx=\"188\" cy=\"210\" r=\"7.0\" style=\"fill:rgb(242, 145, 115);stroke:black;stroke-width:1.0\"/>\n",
       "<circle cx=\"188\" cy=\"190\" r=\"7.0\" style=\"fill:rgb(237, 132, 103);stroke:black;stroke-width:1.0\"/>\n",
       "<circle cx=\"188\" cy=\"170\" r=\"7.0\" style=\"fill:rgb(242, 200, 179);stroke:black;stroke-width:1.0\"/>\n",
       "<circle cx=\"188\" cy=\"310\" r=\"7.0\" style=\"fill:rgb(208, 218, 233);stroke:black;stroke-width:1.0\"/>\n",
       "<circle cx=\"188\" cy=\"150\" r=\"7.0\" style=\"fill:rgb(239, 206, 188);stroke:black;stroke-width:1.0\"/>\n",
       "<circle cx=\"188\" cy=\"290\" r=\"7.0\" style=\"fill:rgb(170, 198, 253);stroke:black;stroke-width:1.0\"/>\n",
       "<circle cx=\"188\" cy=\"270\" r=\"7.0\" style=\"fill:rgb(219, 220, 222);stroke:black;stroke-width:1.0\"/>\n",
       "<circle cx=\"188\" cy=\"249\" r=\"7.0\" style=\"fill:rgb(193, 212, 244);stroke:black;stroke-width:1.0\"/>\n",
       "<circle cx=\"188\" cy=\"130\" r=\"7.0\" style=\"fill:rgb(163, 193, 254);stroke:black;stroke-width:1.0\"/>\n",
       "<circle cx=\"188\" cy=\"110\" r=\"7.0\" style=\"fill:rgb(163, 193, 254);stroke:black;stroke-width:1.0\"/>\n",
       "<circle cx=\"588\" cy=\"140\" r=\"7.0\" style=\"fill:rgb(246, 186, 159);stroke:black;stroke-width:1.0\"/>\n",
       "<circle cx=\"588\" cy=\"59\" r=\"7.0\" style=\"fill:rgb(176, 203, 251);stroke:black;stroke-width:1.0\"/>\n",
       "<circle cx=\"588\" cy=\"40\" r=\"7.0\" style=\"fill:rgb(172, 200, 252);stroke:black;stroke-width:1.0\"/>\n",
       "<circle cx=\"588\" cy=\"220\" r=\"7.0\" style=\"fill:rgb(227, 217, 211);stroke:black;stroke-width:1.0\"/>\n",
       "<circle cx=\"588\" cy=\"200\" r=\"7.0\" style=\"fill:rgb(217, 88, 71);stroke:black;stroke-width:1.0\"/>\n",
       "<circle cx=\"588\" cy=\"320\" r=\"7.0\" style=\"fill:rgb(214, 219, 228);stroke:black;stroke-width:1.0\"/>\n",
       "<circle cx=\"588\" cy=\"20\" r=\"7.0\" style=\"fill:rgb(220, 94, 75);stroke:black;stroke-width:1.0\"/>\n",
       "<circle cx=\"588\" cy=\"180\" r=\"7.0\" style=\"fill:rgb(246, 189, 164);stroke:black;stroke-width:1.0\"/>\n",
       "<circle cx=\"588\" cy=\"160\" r=\"7.0\" style=\"fill:rgb(244, 195, 171);stroke:black;stroke-width:1.0\"/>\n",
       "<circle cx=\"588\" cy=\"300\" r=\"7.0\" style=\"fill:rgb(130, 165, 251);stroke:black;stroke-width:1.0\"/>\n",
       "<circle cx=\"588\" cy=\"280\" r=\"7.0\" style=\"fill:rgb(58, 76, 192);stroke:black;stroke-width:1.0\"/>\n",
       "<circle cx=\"588\" cy=\"120\" r=\"7.0\" style=\"fill:rgb(155, 187, 254);stroke:black;stroke-width:1.0\"/>\n",
       "<circle cx=\"588\" cy=\"100\" r=\"7.0\" style=\"fill:rgb(155, 187, 254);stroke:black;stroke-width:1.0\"/>\n",
       "<circle cx=\"588\" cy=\"260\" r=\"7.0\" style=\"fill:rgb(109, 144, 241);stroke:black;stroke-width:1.0\"/>\n",
       "<circle cx=\"588\" cy=\"79\" r=\"7.0\" style=\"fill:rgb(70, 93, 207);stroke:black;stroke-width:1.0\"/>\n",
       "<circle cx=\"588\" cy=\"240\" r=\"7.0\" style=\"fill:rgb(70, 93, 207);stroke:black;stroke-width:1.0\"/>\n",
       "<text text-anchor=\"end\" x=\"178\" y=\"89\" font-size=\"12\">Inception</text><text text-anchor=\"end\" x=\"178\" y=\"69\" font-size=\"12\">The Dark Knight Rises</text><text text-anchor=\"end\" x=\"178\" y=\"230\" font-size=\"12\">The Big Short</text><text text-anchor=\"end\" x=\"178\" y=\"49\" font-size=\"12\">Drive</text><text text-anchor=\"end\" x=\"178\" y=\"30\" font-size=\"12\">The Great Gatsby</text><text text-anchor=\"end\" x=\"178\" y=\"210\" font-size=\"12\">La La Land</text><text text-anchor=\"end\" x=\"178\" y=\"190\" font-size=\"12\">Crazy Stupid Love</text><text text-anchor=\"end\" x=\"178\" y=\"170\" font-size=\"12\">Vice</text><text text-anchor=\"end\" x=\"178\" y=\"310\" font-size=\"12\">The Grand Budapest Hotel</text><text text-anchor=\"end\" x=\"178\" y=\"150\" font-size=\"12\">Aviator</text><text text-anchor=\"end\" x=\"178\" y=\"290\" font-size=\"12\">007 Spectre</text><text text-anchor=\"end\" x=\"178\" y=\"270\" font-size=\"12\">Inglourious Basterds</text><text text-anchor=\"end\" x=\"178\" y=\"249\" font-size=\"12\">Midnight In Paris</text><text text-anchor=\"end\" x=\"178\" y=\"130\" font-size=\"12\">Murder on the Orient Express</text><text text-anchor=\"end\" x=\"178\" y=\"110\" font-size=\"12\">Fantastic Beasts 2</text><text text-anchor=\"start\" x=\"598\" y=\"140\" font-size=\"12\">Leonardo DiCaprio</text><text text-anchor=\"start\" x=\"598\" y=\"59\" font-size=\"12\">Marion Cotillard</text><text text-anchor=\"start\" x=\"598\" y=\"40\" font-size=\"12\">Joseph Gordon Lewitt</text><text text-anchor=\"start\" x=\"598\" y=\"220\" font-size=\"12\">Christian Bale</text><text text-anchor=\"start\" x=\"598\" y=\"200\" font-size=\"12\">Ryan Gosling</text><text text-anchor=\"start\" x=\"598\" y=\"320\" font-size=\"12\">Brad Pitt</text><text text-anchor=\"start\" x=\"598\" y=\"20\" font-size=\"12\">Carey Mulligan</text><text text-anchor=\"start\" x=\"598\" y=\"180\" font-size=\"12\">Emma Stone</text><text text-anchor=\"start\" x=\"598\" y=\"160\" font-size=\"12\">Steve Carell</text><text text-anchor=\"start\" x=\"598\" y=\"300\" font-size=\"12\">Lea Seydoux</text><text text-anchor=\"start\" x=\"598\" y=\"280\" font-size=\"12\">Ralph Fiennes</text><text text-anchor=\"start\" x=\"598\" y=\"120\" font-size=\"12\">Jude Law</text><text text-anchor=\"start\" x=\"598\" y=\"100\" font-size=\"12\">Willem Dafoe</text><text text-anchor=\"start\" x=\"598\" y=\"260\" font-size=\"12\">Christophe Waltz</text><text text-anchor=\"start\" x=\"598\" y=\"79\" font-size=\"12\">Johnny Depp</text><text text-anchor=\"start\" x=\"598\" y=\"240\" font-size=\"12\">Owen Wilson</text></svg>"
      ],
      "text/plain": [
       "<IPython.core.display.SVG object>"
      ]
     },
     "execution_count": 302,
     "metadata": {},
     "output_type": "execute_result"
    }
   ],
   "source": [
    "image = svg_bigraph(biadjacency, names_row, names_col,\n",
    "                    scores_row=np.log(scores_row), scores_col=np.log(scores_col), seeds_row=seeds_row)\n",
    "SVG(image)"
   ]
  },
  {
   "cell_type": "code",
   "execution_count": 286,
   "id": "9fc966a7-69a3-450f-91e1-f96df863718a",
   "metadata": {},
   "outputs": [
    {
     "name": "stdout",
     "output_type": "stream",
     "text": [
      "[(0, 0), (0, 2), (1, 0), (1, 3), (1, 4), (2, 1), (2, 2), (3, 0), (3, 4), (4, 0), (4, 3)]\n"
     ]
    }
   ],
   "source": [
    "edges_u = top_k(scores_row, 5)\n",
    "edges_v = top_k(scores_col, 5)\n",
    "coo = biadjacency[edges_u, :][:, edges_v].tocoo()\n",
    "edges = [*zip(coo.row, coo.col)]\n",
    "print(edges)"
   ]
  },
  {
   "cell_type": "code",
   "execution_count": 317,
   "id": "b577a68b-a953-41d1-9d3d-4621d7c5fd4e",
   "metadata": {},
   "outputs": [],
   "source": [
    "a = [('a', 'b'), ('c', 'd'), ('a', 'c')]\n",
    "c, d = zip(*a)"
   ]
  },
  {
   "cell_type": "code",
   "execution_count": 321,
   "id": "0bb7a293-d177-4bd9-a83d-82dced759818",
   "metadata": {},
   "outputs": [
    {
     "data": {
      "text/plain": [
       "['c', 'a']"
      ]
     },
     "execution_count": 321,
     "metadata": {},
     "output_type": "execute_result"
    }
   ],
   "source": [
    "list(set(c))"
   ]
  },
  {
   "cell_type": "code",
   "execution_count": 503,
   "id": "8157debf-10ea-4502-880b-b8858ddbbb6d",
   "metadata": {},
   "outputs": [],
   "source": [
    "class TfIdf():\n",
    "    def __init__(self):\n",
    "        self.n = None\n",
    "        self.m = None\n",
    "\n",
    "    def _idf(self, biadjacency: sparse.csr_matrix) -> np.ndarray:\n",
    "        \"\"\"Compute inverse document frequency for each word columns of `biadjacency`.\n",
    "\n",
    "        Parameters\n",
    "        ----------\n",
    "        biadjacency : sparse.csr_matrix\n",
    "            Rows are documents, words are columns\n",
    "\n",
    "        Returns\n",
    "        -------\n",
    "        Array of inverse document frequency value for each word in biadjacency.\n",
    "        \"\"\"        \n",
    "        count = biadjacency.T.astype(bool).dot(np.ones(self.n))\n",
    "        \n",
    "        return np.log((self.n) / (count+1))\n",
    "\n",
    "    def _tf(self, biadjacency: sparse.csr_matrix) -> np.ndarray:\n",
    "        \"\"\"Compute term frequency for each word in each row of `biadjacency`.\n",
    "\n",
    "        Parameters\n",
    "        ----------\n",
    "        biadjacency : sparse.csr_matrix\n",
    "            Rows are documents, words are columns\n",
    "\n",
    "        Returns\n",
    "        -------\n",
    "        Array of term frequencies with same size as `biadjacency`\n",
    "        \"\"\"        \n",
    "        diag = sparse.diags(biadjacency.dot(np.ones(self.m)))\n",
    "        diag.data = 1 / diag.data\n",
    "\n",
    "        return diag.dot(biadjacency)\n",
    "        #res = biadjacency.copy()\n",
    "        #res.data = np.log(1 + res.data)\n",
    "        #return res\n",
    "\n",
    "    def fit_transform(self, biadjacency: sparse.csr_matrix) -> np.ndarray:\n",
    "        \"\"\"Compute tf-idf.\n",
    "\n",
    "        Parameters\n",
    "        ----------\n",
    "        biadjacency : sparse.csr_matrix\n",
    "            Rows are documents, words are columns\n",
    "\n",
    "        Returns\n",
    "        -------\n",
    "        Array of tf-idf values for each word in each document.\n",
    "        \"\"\"        \n",
    "        self.n, self.m = biadjacency.shape\n",
    "        diag_idf = sparse.diags(self._idf(biadjacency))\n",
    "\n",
    "        return self._tf(biadjacency).dot(diag_idf)"
   ]
  },
  {
   "cell_type": "code",
   "execution_count": 504,
   "id": "66199e54-9028-4770-8a01-a9c23db87eb5",
   "metadata": {},
   "outputs": [],
   "source": [
    "from sknetwork.data.parse import from_edge_list\n",
    "\n",
    "edges = [('21455124', 'Kamala'), ('21455124', 'Khan'), ('21455124', 'very'), ('21455124', 'ordinary'), ('21455124', 'life'), ('21455124', 'has'), ('21455124', 'suddenly'), ('21455124', 'become'), ('21455124', 'extraordinary'), ('21455124', 'she'), ('21455124', 'ready'), ('21455124', 'wield'), ('21455124', 'these'), ('21455124', 'strange'), ('21455124', 'and'), ('21455124', 'immense'), ('21455124', 'new'), ('21455124', 'gifts'), ('21455124', 'will'), ('21455124', 'the'), ('21455124', 'weight'), ('21455124', 'the'), ('21455124', 'legacy'), ('21455124', 'before'), ('21455124', 'her'), ('21455124', 'too'), ('21455124', 'much'), ('21455124', 'handle'), ('96358', 'For'), ('96358', 'the'), ('96358', 'first'), ('96358', 'time'), ('96358', 'the'), ('96358', 'Joker'), ('96358', 'origin'), ('96358', 'revealed'), ('96358', 'this'), ('96358', 'tale'), ('96358', 'insanity'), ('96358', 'and'), ('96358', 'human'), ('96358', 'perseverance'), ('96358', 'Looking'), ('96358', 'prove'), ('96358', 'that'), ('96358', 'any'), ('96358', 'man'), ('96358', 'can'), ('96358', 'pushed'), ('96358', 'past'), ('96358', 'his'), ('96358', 'breaking'), ('96358', 'point'), ('96358', 'and'), ('96358', 'mad'), ('96358', 'the'), ('96358', 'Joker'), ('96358', 'attempts'), ('96358', 'drive'), ('96358', 'Commissioner'), ('96358', 'Gordon'), ('96358', 'insane'), ('96358', 'After'), ('96358', 'shooting'), ('96358', 'and'), ('96358', 'permanently'), ('96358', 'paralyzing'), ('96358', 'his'), ('96358', 'daughter'), ('96358', 'Barbara'), ('96358', 'a.k.a'), ('96358', 'Batgirl'), ('96358', 'the'), ('96358', 'Joker'), ('96358', 'kidnaps'), ('96358', 'the'), ('96358', 'commissioner'), ('96358', 'and'), ('96358', 'attacks'), ('96358', 'his'), ('96358', 'mind'), ('96358', 'hopes'), ('96358', 'breaking'), ('96358', 'the'), ('96358', 'man'), ('96358', 'But'), ('96358', 'refusing'), ('96358', 'give'), ('96358', 'Gordon'), ('96358', 'maintains'), ('96358', 'his'), ('96358', 'sanity'), ('96358', 'with'), ('96358', 'the'), ('96358', 'help'), ('96358', 'Batman'), ('96358', 'effort'), ('96358', 'beset'), ('96358', 'the'), ('96358', 'madman'), ('23356133', 'Peer'), ('23356133', 'over'), ('23356133', 'the'), ('23356133', 'EDGE'), ('23356133', 'SPIDER-VERSE'), ('23356133', 'Spidey'), ('23356133', 'teams'), ('23356133', 'with'), ('23356133', 'Ms.'), ('23356133', 'Marvel'), ('23356133', 'high-flying'), ('23356133', 'stepping'), ('23356133', 'Kamala'), ('23356133', 'case'), ('23356133', 'adventure'), ('23356133', 'Who'), ('23356133', 'Spider-UK'), ('23356133', 'and'), ('23356133', 'what'), ('23356133', 'does'), ('23356133', 'have'), ('23356133', 'with'), ('23356133', 'SPIDER-VERSE'), ('15195', 'Combined'), ('15195', 'for'), ('15195', 'the'), ('15195', 'first'), ('15195', 'time'), ('15195', 'here'), ('15195', 'are'), ('15195', 'Maus'), ('15195', 'Survivor'), ('15195', 'Tale'), ('15195', 'and'), ('15195', 'Maus'), ('15195', 'the'), ('15195', 'complete'), ('15195', 'story'), ('15195', 'Vladek'), ('15195', 'Spiegelman'), ('15195', 'and'), ('15195', 'his'), ('15195', 'wife'), ('15195', 'living'), ('15195', 'and'), ('15195', 'surviving'), ('15195', 'Hitler'), ('15195', 'Europe'), ('15195', 'addressing'), ('15195', 'the'), ('15195', 'horror'), ('15195', 'the'), ('15195', 'Holocaust'), ('15195', 'through'), ('15195', 'cartoons'), ('15195', 'the'), ('15195', 'author'), ('15195', 'captures'), ('15195', 'the'), ('15195', 'everyday'), ('15195', 'reality'), ('15195', 'fear'), ('15195', 'and'), ('15195', 'able'), ('15195', 'explore'), ('15195', 'the'), ('15195', 'guilt'), ('15195', 'relief'), ('15195', 'and'), ('15195', 'extraordinary'), ('15195', 'sensation'), ('15195', 'survival'), ('15195', 'and'), ('15195', 'how'), ('15195', 'the'), ('15195', 'children'), ('15195', 'survivors'), ('15195', 'are'), ('15195', 'their'), ('15195', 'own'), ('15195', 'way'), ('15195', 'affected'), ('15195', 'the'), ('15195', 'trials'), ('15195', 'their'), ('15195', 'parents'), ('15195', 'contemporary'), ('15195', 'classic'), ('15195', 'immeasurable'), ('15195', 'significance'), ('19539419', 'Home'), ('19539419', 'where'), ('19539419', 'the'), ('19539419', 'hurt'), ('19539419', 'And'), ('19539419', 'the'), ('19539419', 'Black'), ('19539419', 'Widow'), ('19539419', 'has'), ('19539419', 'plenty'), ('19539419', 'that'), ('19539419', 'She'), ('19539419', 'may'), ('19539419', 'Avenger'), ('19539419', 'and'), ('19539419', 'agent'), ('19539419', 'S.H.I.E.L.D.'), ('19539419', 'but'), ('19539419', 'the'), ('19539419', 'Widow'), ('19539419', 'has'), ('19539419', 'her'), ('19539419', 'own'), ('19539419', 'mission'), ('19539419', 'atone'), ('19539419', 'for'), ('19539419', 'her'), ('19539419', 'past'), ('19539419', 'KGB'), ('19539419', 'assassin'), ('19539419', 'Her'), ('19539419', 'methods'), ('19539419', 'are'), ('19539419', 'dirty'), ('19539419', 'Her'), ('19539419', 'heart'), ('19539419', 'cold'), ('19539419', 'But'), ('19539419', 'her'), ('19539419', 'work'), ('19539419', 'flawless'), ('19539419', 'undercover'), ('19539419', 'assignment'), ('19539419', 'Russia'), ('19539419', 'she'), ('19539419', 'finds'), ('19539419', 'that'), ('19539419', 'the'), ('19539419', 'Hand'), ('19539419', 'God'), ('19539419', 'reaching'), ('19539419', 'for'), ('19539419', 'her'), ('19539419', 'and'), ('19539419', 'merciless'), ('19539419', 'its'), ('19539419', 'name'), ('19539419', 'Outmatched'), ('19539419', 'the'), ('19539419', 'brute'), ('19539419', 'force'), ('19539419', 'this'), ('19539419', 'powerful'), ('19539419', 'new'), ('19539419', 'villain'), ('19539419', 'Natasha'), ('19539419', 'discovers'), ('19539419', 'deadly'), ('19539419', 'globe-spanning'), ('19539419', 'plot'), ('19539419', 'race'), ('19539419', 'against'), ('19539419', 'time'), ('19539419', 'and'), ('19539419', 'the'), ('19539419', 'Widow'), ('19539419', 'has'), ('19539419', 'nowhere'), ('19539419', 'turn'), ('19539419', 'for'), ('19539419', 'answers'), ('19539419', 'The'), ('19539419', 'trail'), ('19539419', 'blood'), ('19539419', 'and'), ('19539419', 'destruction'), ('19539419', 'will'), ('19539419', 'test'), ('19539419', 'her'), ('19539419', 'strength'), ('19539419', 'and'), ('19539419', 'cunning'), ('19539419', 'but'), ('19539419', 'may'), ('19539419', 'also'), ('19539419', 'test'), ('19539419', 'her'), ('19539419', 'faith'), ('19539419', 'Collecting'), ('19539419', 'Black'), ('19539419', 'Widow1-6'), ('19539419', 'material'), ('19539419', 'from'), ('19539419', 'All-New'), ('19539419', 'Marvel'), ('19539419', 'Now'), ('19539419', '.Point'), ('19539419', 'One'), ('472331', 'This'), ('472331', 'Hugo'), ('472331', 'Award-winning'), ('472331', 'graphic'), ('472331', 'novel'), ('472331', 'chronicles'), ('472331', 'the'), ('472331', 'fall'), ('472331', 'from'), ('472331', 'grace'), ('472331', 'group'), ('472331', 'super-heroes'), ('472331', 'plagued'), ('472331', 'all-too-human'), ('472331', 'failings'), ('472331', 'Along'), ('472331', 'the'), ('472331', 'way'), ('472331', 'the'), ('472331', 'concept'), ('472331', 'the'), ('472331', 'super-hero'), ('472331', 'dissected'), ('472331', 'the'), ('472331', 'heroes'), ('472331', 'are'), ('472331', 'stalked'), ('472331', 'unknown'), ('472331', 'assassin'), ('472331', 'One'), ('472331', 'the'), ('472331', 'most'), ('472331', 'influential'), ('472331', 'graphic'), ('472331', 'novels'), ('472331', 'all'), ('472331', 'time'), ('472331', 'and'), ('472331', 'perennial'), ('472331', 'best-seller'), ('472331', 'Watchmenhas'), ('472331', 'been'), ('472331', 'studied'), ('472331', 'college'), ('472331', 'campuses'), ('472331', 'across'), ('472331', 'the'), ('472331', 'nation'), ('472331', 'and'), ('472331', 'considered'), ('472331', 'gateway'), ('472331', 'title'), ('472331', 'leading'), ('472331', 'readers'), ('472331', 'other'), ('472331', 'graphic'), ('472331', 'novels'), ('472331', 'such'), ('472331', 'for'), ('472331', 'Vendetta'), ('472331', 'Batman'), ('472331', 'The'), ('472331', 'Dark'), ('472331', 'Knight'), ('472331', 'Returnsand'), ('472331', 'The'), ('472331', 'Sandmanseries'), ('22554204', 'FRIENDSHIP'), ('22554204', 'THE'), ('22554204', 'MAX'), ('22554204', 'Miss'), ('22554204', 'Qiunzilla'), ('22554204', 'Thiskwin'), ('22554204', 'Penniquiqul'), ('22554204', 'Thistle'), ('22554204', 'Crumpet'), ('22554204', 'camp'), ('22554204', 'for'), ('22554204', 'hard-core'), ('22554204', 'lady-types'), ('22554204', 'things'), ('22554204', 'are'), ('22554204', 'not'), ('22554204', 'what'), ('22554204', 'they'), ('22554204', 'seem'), ('22554204', 'Three-eyed'), ('22554204', 'foxes'), ('22554204', 'Secret'), ('22554204', 'caves'), ('22554204', 'Anagrams'), ('22554204', 'Luckily'), ('22554204', 'April'), ('22554204', 'Mal'), ('22554204', 'Molly'), ('22554204', 'and'), ('22554204', 'Ripley'), ('22554204', 'are'), ('22554204', 'five'), ('22554204', 'rad'), ('22554204', 'butt-kicking'), ('22554204', 'best'), ('22554204', 'pals'), ('22554204', 'determined'), ('22554204', 'have'), ('22554204', 'awesome'), ('22554204', 'summer'), ('22554204', 'together'), ('22554204', '...'), ('22554204', 'And'), ('22554204', 'they'), ('22554204', \"'re\"), ('22554204', 'not'), ('22554204', 'gon'), ('22554204', 'let'), ('22554204', 'magical'), ('22554204', 'quest'), ('22554204', 'array'), ('22554204', 'supernatural'), ('22554204', 'critters'), ('22554204', 'get'), ('22554204', 'their'), ('22554204', 'way'), ('22554204', 'The'), ('22554204', 'mystery'), ('22554204', 'keeps'), ('22554204', 'getting'), ('22554204', 'bigger'), ('22554204', 'and'), ('22554204', 'all'), ('22554204', 'begins'), ('22554204', 'here'), ('22554204', 'Collects'), ('22554204', 'Lumberjanes'), ('22554204', '1-4'), ('20898019', 'Marvel'), ('20898019', 'Comics'), ('20898019', 'presents'), ('20898019', 'the'), ('20898019', 'new'), ('20898019', 'Ms.'), ('20898019', 'Marvel'), ('20898019', 'the'), ('20898019', 'groundbreaking'), ('20898019', 'heroine'), ('20898019', 'that'), ('20898019', 'has'), ('20898019', 'become'), ('20898019', 'international'), ('20898019', 'sensation'), ('20898019', 'Kamala'), ('20898019', 'Khan'), ('20898019', 'ordinary'), ('20898019', 'girl'), ('20898019', 'from'), ('20898019', 'Jersey'), ('20898019', 'City'), ('20898019', 'until'), ('20898019', 'she'), ('20898019', 'suddenly'), ('20898019', 'empowered'), ('20898019', 'with'), ('20898019', 'extraordinary'), ('20898019', 'gifts'), ('20898019', 'But'), ('20898019', 'who'), ('20898019', 'truly'), ('20898019', 'the'), ('20898019', 'new'), ('20898019', 'Ms.'), ('20898019', 'Marvel'), ('20898019', 'Teenager'), ('20898019', 'Muslim'), ('20898019', 'Inhuman'), ('20898019', 'Find'), ('20898019', 'out'), ('20898019', 'she'), ('20898019', 'takes'), ('20898019', 'the'), ('20898019', 'Marvel'), ('20898019', 'Universe'), ('20898019', 'storm'), ('20898019', 'When'), ('20898019', 'Kamala'), ('20898019', 'discovers'), ('20898019', 'the'), ('20898019', 'dangers'), ('20898019', 'her'), ('20898019', 'newfound'), ('20898019', 'powers'), ('20898019', 'she'), ('20898019', 'unlocks'), ('20898019', 'secret'), ('20898019', 'behind'), ('20898019', 'them'), ('20898019', 'well'), ('20898019', 'Kamala'), ('20898019', 'ready'), ('20898019', 'wield'), ('20898019', 'these'), ('20898019', 'immense'), ('20898019', 'new'), ('20898019', 'gifts'), ('20898019', 'will'), ('20898019', 'the'), ('20898019', 'weight'), ('20898019', 'the'), ('20898019', 'legacy'), ('20898019', 'before'), ('20898019', 'her'), ('20898019', 'too'), ('20898019', 'much'), ('20898019', 'bear'), ('20898019', 'Kamala'), ('20898019', 'has'), ('20898019', 'idea'), ('20898019', 'either'), ('20898019', 'But'), ('20898019', 'she'), ('20898019', 'comin'), ('20898019', 'for'), ('20898019', 'you'), ('20898019', 'Jersey'), ('20898019', 'history'), ('20898019', 'the'), ('20898019', 'making'), ('20898019', 'from'), ('20898019', 'acclaimed'), ('20898019', 'writer'), ('20898019', 'Willow'), ('20898019', 'Wilson'), ('20898019', 'Air'), ('20898019', 'Cairo'), ('20898019', 'and'), ('20898019', 'beloved'), ('20898019', 'artist'), ('20898019', 'Adrian'), ('20898019', 'Alphona'), ('20898019', 'RUNAWAYS'), ('20898019', 'Collecting'), ('20898019', 'MS.'), ('20898019', 'MARVEL'), ('20898019', '2014'), ('20898019', '1-5'), ('20898019', 'and'), ('20898019', 'material'), ('20898019', 'from'), ('20898019', 'ALL-NEW'), ('20898019', 'MARVEL'), ('20898019', 'NOW'), ('20898019', 'POINT'), ('20898019', 'ONE'), ('23754', 'New'), ('23754', 'York'), ('23754', 'Times'), ('23754', 'best-selling'), ('23754', 'author'), ('23754', 'Neil'), ('23754', 'Gaiman'), ('23754', 'transcendent'), ('23754', 'series'), ('23754', 'SANDMAN'), ('23754', 'often'), ('23754', 'hailed'), ('23754', 'the'), ('23754', 'definitive'), ('23754', 'Vertigo'), ('23754', 'title'), ('23754', 'and'), ('23754', 'one'), ('23754', 'the'), ('23754', 'finest'), ('23754', 'achievements'), ('23754', 'graphic'), ('23754', 'storytelling'), ('23754', 'Gaiman'), ('23754', 'created'), ('23754', 'unforgettable'), ('23754', 'tale'), ('23754', 'the'), ('23754', 'forces'), ('23754', 'that'), ('23754', 'exist'), ('23754', 'beyond'), ('23754', 'life'), ('23754', 'and'), ('23754', 'death'), ('23754', 'weaving'), ('23754', 'ancient'), ('23754', 'mythology'), ('23754', 'folklore'), ('23754', 'and'), ('23754', 'fairy'), ('23754', 'tales'), ('23754', 'with'), ('23754', 'his'), ('23754', 'own'), ('23754', 'distinct'), ('23754', 'narrative'), ('23754', 'vision'), ('23754', 'PRELUDES'), ('23754', 'NOCTURNES'), ('23754', 'occultist'), ('23754', 'attempting'), ('23754', 'capture'), ('23754', 'Death'), ('23754', 'bargain'), ('23754', 'for'), ('23754', 'eternal'), ('23754', 'life'), ('23754', 'traps'), ('23754', 'her'), ('23754', 'younger'), ('23754', 'brother'), ('23754', 'Dream'), ('23754', 'instead'), ('23754', 'After'), ('23754', 'his'), ('23754', 'year'), ('23754', 'imprisonment'), ('23754', 'and'), ('23754', 'eventual'), ('23754', 'escape'), ('23754', 'Dream'), ('23754', 'also'), ('23754', 'known'), ('23754', 'Morpheus'), ('23754', 'goes'), ('23754', 'quest'), ('23754', 'for'), ('23754', 'his'), ('23754', 'lost'), ('23754', 'objects'), ('23754', 'power'), ('23754', 'his'), ('23754', 'arduous'), ('23754', 'journey'), ('23754', 'Morpheus'), ('23754', 'encounters'), ('23754', 'Lucifer'), ('23754', 'John'), ('23754', 'Constantine'), ('23754', 'and'), ('23754', 'all-powerful'), ('23754', 'madman'), ('23754', 'This'), ('23754', 'book'), ('23754', 'also'), ('23754', 'includes'), ('23754', 'the'), ('23754', 'story'), ('23754', 'The'), ('23754', 'Sound'), ('23754', 'Her'), ('23754', 'Wings'), ('23754', 'which'), ('23754', 'introduces'), ('23754', 'the'), ('23754', 'pragmatic'), ('23754', 'and'), ('23754', 'perky'), ('23754', 'goth'), ('23754', 'girl'), ('23754', 'Death'), ('23754', 'Includes'), ('23754', 'issues'), ('23754', '1-8'), ('23754', 'the'), ('23754', 'original'), ('23754', 'series'), ('15196', 'story'), ('15196', 'Jewish'), ('15196', 'survivor'), ('15196', 'Hitler'), ('15196', 'Europe'), ('15196', 'and'), ('15196', 'his'), ('15196', 'son'), ('15196', 'cartoonist'), ('15196', 'who'), ('15196', 'tries'), ('15196', 'come'), ('15196', 'terms'), ('15196', 'with'), ('15196', 'his'), ('15196', 'father'), ('15196', 'story'), ('15196', 'and'), ('15196', 'history'), ('15196', 'itself'), ('9516', 'New'), ('9516', 'York'), ('9516', 'TimesNotable'), ('9516', 'Book'), ('9516', 'Time'), ('9516', 'Magazine'), ('9516', 'Best'), ('9516', 'Comix'), ('9516', 'the'), ('9516', 'Year'), ('9516', 'San'), ('9516', 'Francisco'), ('9516', 'Chronicle'), ('9516', 'and'), ('9516', 'Los'), ('9516', 'Angeles'), ('9516', 'TimesBest-seller'), ('9516', 'Wise'), ('9516', 'funny'), ('9516', 'and'), ('9516', 'heartbreaking'), ('9516', 'Persepolisis'), ('9516', 'Marjane'), ('9516', 'Satrapi'), ('9516', 'memoir'), ('9516', 'growing'), ('9516', 'Iran'), ('9516', 'during'), ('9516', 'the'), ('9516', 'Islamic'), ('9516', 'Revolution'), ('9516', 'powerful'), ('9516', 'black-and-white'), ('9516', 'comic'), ('9516', 'strip'), ('9516', 'images'), ('9516', 'Satrapi'), ('9516', 'tells'), ('9516', 'the'), ('9516', 'story'), ('9516', 'her'), ('9516', 'life'), ('9516', 'Tehran'), ('9516', 'from'), ('9516', 'ages'), ('9516', 'six'), ('9516', 'fourteen'), ('9516', 'years'), ('9516', 'that'), ('9516', 'saw'), ('9516', 'the'), ('9516', 'overthrow'), ('9516', 'the'), ('9516', 'Shah'), ('9516', 'regime'), ('9516', 'the'), ('9516', 'triumph'), ('9516', 'the'), ('9516', 'Islamic'), ('9516', 'Revolution'), ('9516', 'and'), ('9516', 'the'), ('9516', 'devastating'), ('9516', 'effects'), ('9516', 'war'), ('9516', 'with'), ('9516', 'Iraq'), ('9516', 'The'), ('9516', 'intelligent'), ('9516', 'and'), ('9516', 'outspoken'), ('9516', 'only'), ('9516', 'child'), ('9516', 'committed'), ('9516', 'Marxists'), ('9516', 'and'), ('9516', 'the'), ('9516', 'great-granddaughter'), ('9516', 'one'), ('9516', 'Iran'), ('9516', 'last'), ('9516', 'emperors'), ('9516', 'Marjane'), ('9516', 'bears'), ('9516', 'witness'), ('9516', 'childhood'), ('9516', 'uniquely'), ('9516', 'entwined'), ('9516', 'with'), ('9516', 'the'), ('9516', 'history'), ('9516', 'her'), ('9516', 'country'), ('9516', 'Persepolispaints'), ('9516', 'unforgettable'), ('9516', 'portrait'), ('9516', 'daily'), ('9516', 'life'), ('9516', 'Iran'), ('9516', 'and'), ('9516', 'the'), ('9516', 'bewildering'), ('9516', 'contradictions'), ('9516', 'between'), ('9516', 'home'), ('9516', 'life'), ('9516', 'and'), ('9516', 'public'), ('9516', 'life'), ('9516', 'Marjane'), ('9516', \"child's-eye\"), ('9516', 'view'), ('9516', 'dethroned'), ('9516', 'emperors'), ('9516', 'state-sanctioned'), ('9516', 'whippings'), ('9516', 'and'), ('9516', 'heroes'), ('9516', 'the'), ('9516', 'revolution'), ('9516', 'allows'), ('9516', 'learn'), ('9516', 'she'), ('9516', 'does'), ('9516', 'the'), ('9516', 'history'), ('9516', 'this'), ('9516', 'fascinating'), ('9516', 'country'), ('9516', 'and'), ('9516', 'her'), ('9516', 'own'), ('9516', 'extraordinary'), ('9516', 'family'), ('9516', 'Intensely'), ('9516', 'personal'), ('9516', 'profoundly'), ('9516', 'political'), ('9516', 'and'), ('9516', 'wholly'), ('9516', 'original'), ('9516', 'Persepolisis'), ('9516', 'once'), ('9516', 'story'), ('9516', 'growing'), ('9516', 'and'), ('9516', 'reminder'), ('9516', 'the'), ('9516', 'human'), ('9516', 'cost'), ('9516', 'war'), ('9516', 'and'), ('9516', 'political'), ('9516', 'repression'), ('9516', 'shows'), ('9516', 'how'), ('9516', 'carry'), ('9516', 'with'), ('9516', 'laughter'), ('9516', 'and'), ('9516', 'tears'), ('9516', 'the'), ('9516', 'face'), ('9516', 'absurdity'), ('9516', 'And'), ('9516', 'finally'), ('9516', 'introduces'), ('9516', 'irresistible'), ('9516', 'little'), ('9516', 'girl'), ('9516', 'with'), ('9516', 'whom'), ('9516', 'can'), ('9516', 'not'), ('9516', 'help'), ('9516', 'but'), ('9516', 'fall'), ('9516', 'love'), ('19351043', 'The'), ('19351043', 'graphic'), ('19351043', 'novel'), ('19351043', 'debut'), ('19351043', 'from'), ('19351043', 'rising'), ('19351043', 'star'), ('19351043', 'Noelle'), ('19351043', 'Stevenson'), ('19351043', 'based'), ('19351043', 'her'), ('19351043', 'beloved'), ('19351043', 'and'), ('19351043', 'critically'), ('19351043', 'acclaimed'), ('19351043', 'web'), ('19351043', 'comic'), ('19351043', 'which'), ('19351043', 'Slate'), ('19351043', 'awarded'), ('19351043', 'its'), ('19351043', 'Cartoonist'), ('19351043', 'Studio'), ('19351043', 'Prize'), ('19351043', 'calling'), ('19351043', 'deadpan'), ('19351043', 'epic'), ('19351043', 'Nemeses'), ('19351043', 'Dragons'), ('19351043', 'Science'), ('19351043', 'Symbolism'), ('19351043', 'All'), ('19351043', 'these'), ('19351043', 'and'), ('19351043', 'more'), ('19351043', 'await'), ('19351043', 'this'), ('19351043', 'brilliantly'), ('19351043', 'subversive'), ('19351043', 'sharply'), ('19351043', 'irreverent'), ('19351043', 'epic'), ('19351043', 'from'), ('19351043', 'Noelle'), ('19351043', 'Stevenson'), ('19351043', 'Featuring'), ('19351043', 'exclusive'), ('19351043', 'epilogue'), ('19351043', 'not'), ('19351043', 'seen'), ('19351043', 'the'), ('19351043', 'web'), ('19351043', 'comic'), ('19351043', 'along'), ('19351043', 'with'), ('19351043', 'bonus'), ('19351043', 'conceptual'), ('19351043', 'sketches'), ('19351043', 'and'), ('19351043', 'revised'), ('19351043', 'pages'), ('19351043', 'throughout'), ('19351043', 'this'), ('19351043', 'gorgeous'), ('19351043', 'full-color'), ('19351043', 'graphic'), ('19351043', 'novel'), ('19351043', 'perfect'), ('19351043', 'for'), ('19351043', 'the'), ('19351043', 'legions'), ('19351043', 'fans'), ('19351043', 'the'), ('19351043', 'web'), ('19351043', 'comic'), ('19351043', 'and'), ('19351043', 'sure'), ('19351043', 'win'), ('19351043', 'Noelle'), ('19351043', 'many'), ('19351043', 'new'), ('19351043', 'ones'), ('19351043', 'Nimona'), ('19351043', 'impulsive'), ('19351043', 'young'), ('19351043', 'shapeshifter'), ('19351043', 'with'), ('19351043', 'knack'), ('19351043', 'for'), ('19351043', 'villainy'), ('19351043', 'Lord'), ('19351043', 'Ballister'), ('19351043', 'Blackheart'), ('19351043', 'villain'), ('19351043', 'with'), ('19351043', 'vendetta'), ('19351043', 'sidekick'), ('19351043', 'and'), ('19351043', 'supervillain'), ('19351043', 'Nimona'), ('19351043', 'and'), ('19351043', 'Lord'), ('19351043', 'Blackheart'), ('19351043', 'are'), ('19351043', 'about'), ('19351043', 'wreak'), ('19351043', 'some'), ('19351043', 'serious'), ('19351043', 'havoc'), ('19351043', 'Their'), ('19351043', 'mission'), ('19351043', 'prove'), ('19351043', 'the'), ('19351043', 'kingdom'), ('19351043', 'that'), ('19351043', 'Sir'), ('19351043', 'Ambrosius'), ('19351043', 'Goldenloin'), ('19351043', 'and'), ('19351043', 'his'), ('19351043', 'buddies'), ('19351043', 'the'), ('19351043', 'Institution'), ('19351043', 'Law'), ('19351043', 'Enforcement'), ('19351043', 'and'), ('19351043', 'Heroics'), ('19351043', 'are'), ('19351043', \"n't\"), ('19351043', 'the'), ('19351043', 'heroes'), ('19351043', 'everyone'), ('19351043', 'thinks'), ('19351043', 'they'), ('19351043', 'are'), ('19351043', 'But'), ('19351043', 'small'), ('19351043', 'acts'), ('19351043', 'mischief'), ('19351043', 'escalate'), ('19351043', 'into'), ('19351043', 'vicious'), ('19351043', 'battle'), ('19351043', 'Lord'), ('19351043', 'Blackheart'), ('19351043', 'realizes'), ('19351043', 'that'), ('19351043', 'Nimona'), ('19351043', 'powers'), ('19351043', 'are'), ('19351043', 'murky'), ('19351043', 'and'), ('19351043', 'mysterious'), ('19351043', 'her'), ('19351043', 'past'), ('19351043', 'And'), ('19351043', 'her'), ('19351043', 'unpredictable'), ('19351043', 'wild'), ('19351043', 'side'), ('19351043', 'might'), ('19351043', 'more'), ('19351043', 'dangerous'), ('19351043', 'than'), ('19351043', 'willing'), ('19351043', 'admit'), ('23017947', 'Who'), ('23017947', 'the'), ('23017947', 'Inventor'), ('23017947', 'and'), ('23017947', 'what'), ('23017947', 'does'), ('23017947', 'want'), ('23017947', 'with'), ('23017947', 'the'), ('23017947', 'all-new'), ('23017947', 'Ms.'), ('23017947', 'Marvel'), ('23017947', 'and'), ('23017947', 'all'), ('23017947', 'her'), ('23017947', 'friends'), ('23017947', 'Maybe'), ('23017947', 'Wolverine'), ('23017947', 'can'), ('23017947', 'help'), ('23017947', 'Kamala'), ('23017947', 'can'), ('23017947', 'stop'), ('23017947', 'fan-girling'), ('23017947', 'out'), ('23017947', 'about'), ('23017947', 'meeting'), ('23017947', 'her'), ('23017947', 'favorite'), ('23017947', 'super'), ('23017947', 'hero'), ('23017947', 'that'), ('23017947', 'Then'), ('23017947', 'Kamala'), ('23017947', 'crosses'), ('23017947', 'paths'), ('23017947', 'with'), ('23017947', 'Inhumanity'), ('23017947', 'meeting'), ('23017947', 'the'), ('23017947', 'royal'), ('23017947', 'dog'), ('23017947', 'Lockjaw'), ('23017947', 'But'), ('23017947', 'why'), ('23017947', 'Lockjaw'), ('23017947', 'really'), ('23017947', 'with'), ('23017947', 'Kamala'), ('23017947', 'Ms.'), ('23017947', 'Marvel'), ('23017947', 'discovers'), ('23017947', 'more'), ('23017947', 'about'), ('23017947', 'her'), ('23017947', 'past'), ('23017947', 'the'), ('23017947', 'Inventor'), ('23017947', 'continues'), ('23017947', 'threaten'), ('23017947', 'her'), ('23017947', 'future'), ('23017947', 'Kamala'), ('23017947', 'bands'), ('23017947', 'together'), ('23017947', 'with'), ('23017947', 'some'), ('23017947', 'unlikely'), ('23017947', 'heroes'), ('23017947', 'stop'), ('23017947', 'the'), ('23017947', 'maniacal'), ('23017947', 'villain'), ('23017947', 'before'), ('23017947', 'does'), ('23017947', 'real'), ('23017947', 'damage'), ('23017947', 'but'), ('23017947', 'has'), ('23017947', 'she'), ('23017947', 'taken'), ('23017947', 'more'), ('23017947', 'than'), ('23017947', 'she'), ('23017947', 'can'), ('23017947', 'handle'), ('23017947', 'And'), ('23017947', 'how'), ('23017947', 'much'), ('23017947', 'longer'), ('23017947', 'can'), ('23017947', 'Ms.'), ('23017947', 'Marvel'), ('23017947', 'life'), ('23017947', 'take'), ('23017947', 'over'), ('23017947', 'Kamala'), ('23017947', 'Khan'), ('23017947', 'Kamala'), ('23017947', 'Khan'), ('23017947', 'continues'), ('23017947', 'prove'), ('23017947', 'why'), ('23017947', 'she'), ('23017947', 'the'), ('23017947', 'best'), ('23017947', 'and'), ('23017947', 'most'), ('23017947', 'adorable'), ('23017947', 'new'), ('23017947', 'super'), ('23017947', 'hero'), ('23017947', 'there'), ('23017947', 'Collecting'), ('23017947', 'Ms.'), ('23017947', 'Marvel'), ('23017947', '2014'), ('23017947', '6-11'), ('5805', 'Remember'), ('5805', 'remember'), ('5805', 'the'), ('5805', 'fifth'), ('5805', 'November'), ('5805', '...'), ('5805', 'frightening'), ('5805', 'and'), ('5805', 'powerful'), ('5805', 'tale'), ('5805', 'the'), ('5805', 'loss'), ('5805', 'freedom'), ('5805', 'and'), ('5805', 'identity'), ('5805', 'chillingly'), ('5805', 'believable'), ('5805', 'totalitarian'), ('5805', 'world'), ('5805', 'for'), ('5805', 'Vendettastands'), ('5805', 'one'), ('5805', 'the'), ('5805', 'highest'), ('5805', 'achievements'), ('5805', 'the'), ('5805', 'comics'), ('5805', 'medium'), ('5805', 'and'), ('5805', 'defining'), ('5805', 'work'), ('5805', 'for'), ('5805', 'creators'), ('5805', 'Alan'), ('5805', 'Moore'), ('5805', 'and'), ('5805', 'David'), ('5805', 'Lloyd'), ('5805', 'Set'), ('5805', 'imagined'), ('5805', 'future'), ('5805', 'England'), ('5805', 'that'), ('5805', 'has'), ('5805', 'given'), ('5805', 'itself'), ('5805', 'over'), ('5805', 'fascism'), ('5805', 'this'), ('5805', 'groundbreaking'), ('5805', 'story'), ('5805', 'captures'), ('5805', 'both'), ('5805', 'the'), ('5805', 'suffocating'), ('5805', 'nature'), ('5805', 'life'), ('5805', 'authoritarian'), ('5805', 'police'), ('5805', 'state'), ('5805', 'and'), ('5805', 'the'), ('5805', 'redemptive'), ('5805', 'power'), ('5805', 'the'), ('5805', 'human'), ('5805', 'spirit'), ('5805', 'which'), ('5805', 'rebels'), ('5805', 'against'), ('5805', 'Crafted'), ('5805', 'with'), ('5805', 'sterling'), ('5805', 'clarity'), ('5805', 'and'), ('5805', 'intelligence'), ('5805', 'for'), ('5805', 'Vendettabrings'), ('5805', 'unequaled'), ('5805', 'depth'), ('5805', 'characterization'), ('5805', 'and'), ('5805', 'verisimilitude'), ('5805', 'its'), ('5805', 'unflinching'), ('5805', 'account'), ('5805', 'oppression'), ('5805', 'and'), ('5805', 'resistance'), ('18659623', \"'It\"), ('18659623', 'came'), ('18659623', 'from'), ('18659623', 'the'), ('18659623', 'woods'), ('18659623', 'Most'), ('18659623', 'strange'), ('18659623', 'things'), ('18659623', 'Five'), ('18659623', 'mysterious'), ('18659623', 'spine-tingling'), ('18659623', 'stories'), ('18659623', 'follow'), ('18659623', 'journeys'), ('18659623', 'into'), ('18659623', 'and'), ('18659623', 'out'), ('18659623', 'the'), ('18659623', 'eerie'), ('18659623', 'abyss'), ('18659623', 'These'), ('18659623', 'chilling'), ('18659623', 'tales'), ('18659623', 'spring'), ('18659623', 'from'), ('18659623', 'the'), ('18659623', 'macabre'), ('18659623', 'imagination'), ('18659623', 'acclaimed'), ('18659623', 'and'), ('18659623', 'award-winning'), ('18659623', 'comic'), ('18659623', 'creator'), ('18659623', 'Emily'), ('18659623', 'Carroll'), ('18659623', 'Come'), ('18659623', 'take'), ('18659623', 'walk'), ('18659623', 'the'), ('18659623', 'woods'), ('18659623', 'and'), ('18659623', 'see'), ('18659623', 'what'), ('18659623', 'awaits'), ('18659623', 'you'), ('18659623', 'there'), ('18659623', '...'), ('29772863', 'When'), ('29772863', 'rogue'), ('29772863', 'packs'), ('29772863', 'wolf-hybrid'), ('29772863', 'soldiers'), ('29772863', 'threaten'), ('29772863', 'the'), ('29772863', 'tenuous'), ('29772863', 'peace'), ('29772863', 'alliance'), ('29772863', 'between'), ('29772863', 'Earth'), ('29772863', 'and'), ('29772863', 'Luna'), ('29772863', 'Iko'), ('29772863', 'takes'), ('29772863', 'upon'), ('29772863', 'herself'), ('29772863', 'hunt'), ('29772863', 'down'), ('29772863', 'the'), ('29772863', 'soldiers'), ('29772863', 'leader'), ('29772863', 'She'), ('29772863', 'soon'), ('29772863', 'working'), ('29772863', 'with'), ('29772863', 'handsome'), ('29772863', 'royal'), ('29772863', 'guard'), ('29772863', 'who'), ('29772863', 'forces'), ('29772863', 'her'), ('29772863', 'question'), ('29772863', 'everything'), ('29772863', 'she'), ('29772863', 'knows'), ('29772863', 'about'), ('29772863', 'love'), ('29772863', 'loyalty'), ('29772863', 'and'), ('29772863', 'her'), ('29772863', 'own'), ('29772863', 'humanity'), ('29772863', 'With'), ('29772863', 'appearances'), ('29772863', 'Cinder'), ('29772863', 'and'), ('29772863', 'the'), ('29772863', 'rest'), ('29772863', 'the'), ('29772863', 'Rampion'), ('29772863', 'crew'), ('29772863', 'this'), ('29772863', 'must-have'), ('29772863', 'for'), ('29772863', 'fans'), ('29772863', 'the'), ('29772863', 'series'), ('15704307', 'When'), ('15704307', 'two'), ('15704307', 'soldiers'), ('15704307', 'from'), ('15704307', 'opposite'), ('15704307', 'sides'), ('15704307', 'never-ending'), ('15704307', 'galactic'), ('15704307', 'war'), ('15704307', 'fall'), ('15704307', 'love'), ('15704307', 'they'), ('15704307', 'risk'), ('15704307', 'everything'), ('15704307', 'bring'), ('15704307', 'fragile'), ('15704307', 'new'), ('15704307', 'life'), ('15704307', 'into'), ('15704307', 'dangerous'), ('15704307', 'old'), ('15704307', 'universe'), ('15704307', 'From'), ('15704307', 'bestselling'), ('15704307', 'writer'), ('15704307', 'Brian'), ('15704307', 'Vaughan'), ('15704307', 'Sagais'), ('15704307', 'the'), ('15704307', 'sweeping'), ('15704307', 'tale'), ('15704307', 'one'), ('15704307', 'young'), ('15704307', 'family'), ('15704307', 'fighting'), ('15704307', 'find'), ('15704307', 'their'), ('15704307', 'place'), ('15704307', 'the'), ('15704307', 'worlds'), ('15704307', 'Fantasy'), ('15704307', 'and'), ('15704307', 'science'), ('15704307', 'fiction'), ('15704307', 'are'), ('15704307', 'wed'), ('15704307', 'like'), ('15704307', 'never'), ('15704307', 'before'), ('15704307', 'this'), ('15704307', 'sexy'), ('15704307', 'subversive'), ('15704307', 'drama'), ('15704307', 'for'), ('15704307', 'adults'), ('15704307', 'Collecting'), ('15704307', 'Saga1-6')]\n",
    "bunch = from_edge_list(edges, bipartite=True, reindex=True)\n",
    "biadj = bunch.biadjacency\n",
    "n, m = biadj.shape"
   ]
  },
  {
   "cell_type": "code",
   "execution_count": 527,
   "id": "7dfa109c-f8ed-4fb7-a016-886e29b11c2e",
   "metadata": {},
   "outputs": [
    {
     "name": "stdout",
     "output_type": "stream",
     "text": [
      "468\n",
      "[[1.18804527]]\n"
     ]
    },
    {
     "data": {
      "text/plain": [
       "matrix([[0.72188082],\n",
       "        [1.14415402],\n",
       "        [0.        ],\n",
       "        [0.        ],\n",
       "        [0.72188082],\n",
       "        [0.        ],\n",
       "        [0.        ],\n",
       "        [0.        ],\n",
       "        [0.        ],\n",
       "        [0.        ],\n",
       "        [0.        ],\n",
       "        [1.67615535],\n",
       "        [0.        ],\n",
       "        [0.        ],\n",
       "        [0.        ],\n",
       "        [0.        ],\n",
       "        [1.67615535]])"
      ]
     },
     "execution_count": 527,
     "metadata": {},
     "output_type": "execute_result"
    }
   ],
   "source": [
    "idx_col = np.where(bunch.names_col=='his')[0][0]\n",
    "print(idx_col)\n",
    "\n",
    "tfidf = TfIdf()\n",
    "res = tfidf.fit_transform(biadj)\n",
    "print(mat[np.flatnonzero(mat)].mean(axis=0))\n",
    "mat = res[:, idx_col].todense()\n",
    "mat"
   ]
  },
  {
   "cell_type": "code",
   "execution_count": 532,
   "id": "7595e1f4-3c72-4e86-90b4-25dc05e1aeaa",
   "metadata": {},
   "outputs": [
    {
     "name": "stdout",
     "output_type": "stream",
     "text": [
      "61\n",
      "[[1.20233383]]\n"
     ]
    },
    {
     "data": {
      "text/plain": [
       "matrix([[1.20233383],\n",
       "        [1.20233383],\n",
       "        [0.        ],\n",
       "        [0.        ],\n",
       "        [0.        ],\n",
       "        [0.        ],\n",
       "        [0.        ],\n",
       "        [0.        ],\n",
       "        [0.        ],\n",
       "        [0.        ],\n",
       "        [0.        ],\n",
       "        [0.        ],\n",
       "        [0.        ],\n",
       "        [0.        ],\n",
       "        [0.        ],\n",
       "        [0.        ],\n",
       "        [0.        ]])"
      ]
     },
     "execution_count": 532,
     "metadata": {},
     "output_type": "execute_result"
    }
   ],
   "source": [
    "idx_col = np.where(bunch.names_col=='Europe')[0][0]\n",
    "print(idx_col)\n",
    "\n",
    "tfidf = TfIdf()\n",
    "res = tfidf.fit_transform(biadj)\n",
    "print(mat[np.flatnonzero(mat)].mean(axis=0))\n",
    "mat = res[:, idx_col].todense()\n",
    "mat"
   ]
  },
  {
   "cell_type": "code",
   "execution_count": null,
   "id": "fb46ac60-edc7-469e-a8cf-f71834585544",
   "metadata": {},
   "outputs": [],
   "source": []
  },
  {
   "cell_type": "code",
   "execution_count": null,
   "id": "33a8ce3a-4780-440c-b9a1-e2807dc55e7f",
   "metadata": {},
   "outputs": [],
   "source": []
  },
  {
   "cell_type": "code",
   "execution_count": 394,
   "id": "8df4d9e4-9beb-413d-a55d-50ea091ef6de",
   "metadata": {},
   "outputs": [
    {
     "data": {
      "text/plain": [
       "1.0414538748281612"
      ]
     },
     "execution_count": 394,
     "metadata": {},
     "output_type": "execute_result"
    }
   ],
   "source": [
    "count = biadj.T.astype(bool).dot(np.ones(n))\n",
    "np.log((n) / (count+1))[idx_col]"
   ]
  },
  {
   "cell_type": "code",
   "execution_count": 382,
   "id": "5c519e65-7323-40af-841a-de607dbd3103",
   "metadata": {},
   "outputs": [
    {
     "name": "stdout",
     "output_type": "stream",
     "text": [
      "468\n"
     ]
    },
    {
     "data": {
      "text/plain": [
       "matrix([[0.01554409],\n",
       "        [0.10414539],\n",
       "        [0.        ],\n",
       "        [0.        ],\n",
       "        [0.00627382],\n",
       "        [0.        ],\n",
       "        [0.        ],\n",
       "        [0.        ],\n",
       "        [0.        ],\n",
       "        [0.        ],\n",
       "        [0.        ],\n",
       "        [0.03530352],\n",
       "        [0.        ],\n",
       "        [0.        ],\n",
       "        [0.        ],\n",
       "        [0.        ],\n",
       "        [0.05785855]])"
      ]
     },
     "execution_count": 382,
     "metadata": {},
     "output_type": "execute_result"
    }
   ],
   "source": [
    "tfidf = TfIdf().fit_transform(biadj)\n",
    "\n",
    "idx_col = np.where(bunch.names_col=='his')[0][0]\n",
    "print(idx_col)\n",
    "tfidf[:, idx_col].todense()"
   ]
  },
  {
   "cell_type": "code",
   "execution_count": 398,
   "id": "fd575452-43bb-4731-83ca-0ee058fbd741",
   "metadata": {},
   "outputs": [
    {
     "name": "stdout",
     "output_type": "stream",
     "text": [
      "61\n",
      "[[0.02588957]\n",
      " [0.08673005]\n",
      " [0.        ]\n",
      " [0.        ]\n",
      " [0.        ]\n",
      " [0.        ]\n",
      " [0.        ]\n",
      " [0.        ]\n",
      " [0.        ]\n",
      " [0.        ]\n",
      " [0.        ]\n",
      " [0.        ]\n",
      " [0.        ]\n",
      " [0.        ]\n",
      " [0.        ]\n",
      " [0.        ]\n",
      " [0.        ]]\n",
      "1.7346010553881064\n",
      "[[0.01492537]\n",
      " [0.05      ]\n",
      " [0.        ]\n",
      " [0.        ]\n",
      " [0.        ]\n",
      " [0.        ]\n",
      " [0.        ]\n",
      " [0.        ]\n",
      " [0.        ]\n",
      " [0.        ]\n",
      " [0.        ]\n",
      " [0.        ]\n",
      " [0.        ]\n",
      " [0.        ]\n",
      " [0.        ]\n",
      " [0.        ]\n",
      " [0.        ]]\n"
     ]
    }
   ],
   "source": [
    "idx_col = np.where(bunch.names_col=='Europe')[0][0]\n",
    "print(idx_col)\n",
    "print(tfidf[:, idx_col].todense())\n",
    "\n",
    "# idf\n",
    "count = biadj.T.astype(bool).dot(np.ones(n))\n",
    "print(np.log((n) / (count+1))[idx_col])\n",
    "# tf\n",
    "diag = sparse.diags(biadj.dot(np.ones(m)))\n",
    "diag.data = 1 / diag.data\n",
    "print(diag.dot(biadj)[:, idx_col].todense())"
   ]
  },
  {
   "cell_type": "code",
   "execution_count": null,
   "id": "78e95abb-9fb8-4f02-8d5e-48cf1dee9c68",
   "metadata": {},
   "outputs": [],
   "source": []
  }
 ],
 "metadata": {
  "kernelspec": {
   "display_name": "COMEG",
   "language": "python",
   "name": "comeg"
  },
  "language_info": {
   "codemirror_mode": {
    "name": "ipython",
    "version": 3
   },
   "file_extension": ".py",
   "mimetype": "text/x-python",
   "name": "python",
   "nbconvert_exporter": "python",
   "pygments_lexer": "ipython3",
   "version": "3.9.13"
  }
 },
 "nbformat": 4,
 "nbformat_minor": 5
}
