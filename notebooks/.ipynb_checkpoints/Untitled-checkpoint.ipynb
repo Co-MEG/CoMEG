{
 "cells": [
  {
   "cell_type": "markdown",
   "id": "7aabb35b-ef21-432e-a920-bde05c576ef4",
   "metadata": {},
   "source": [
    "# Baboon's interactions dataset\n",
    "---"
   ]
  },
  {
   "cell_type": "markdown",
   "id": "f22da443-31f5-4b40-83e8-4d6e42578e4f",
   "metadata": {},
   "source": [
    "*Source: http://www.sociopatterns.org/datasets/baboons-interactions/*  \n",
    "\n",
    "We build the graph of interactions between baboons for the day 13/06/2019. For this purpose, we do not take into account the dynamicity of the interactions, an edge exists between two nodes as soon as an interaction exists between two baboons during this specific day.  \n",
    "We add attributes to each node as the counts of different behaviors each baboon has during the day. We get 14 different behaviors (e.g 'resting', 'playing with'). Each baboon is described with a vector of integers corresponding to the kind of interactions it did."
   ]
  },
  {
   "cell_type": "markdown",
   "id": "7ce3b55a-e095-4d64-9653-60168e439d3b",
   "metadata": {},
   "source": [
    "**Libraries**"
   ]
  },
  {
   "cell_type": "code",
   "execution_count": 1,
   "id": "e7e75f47-36e5-440c-aab5-69eda8b5519b",
   "metadata": {},
   "outputs": [],
   "source": [
    "from IPython.display import SVG\n",
    "\n",
    "from collections import defaultdict\n",
    "import numpy as np\n",
    "from scipy import sparse\n",
    "\n",
    "from sknetwork.data import from_edge_list\n",
    "from sknetwork.visualization import svg_graph"
   ]
  },
  {
   "cell_type": "markdown",
   "id": "887ef5e3-1dc9-4e5c-9bfb-4f6cce32dba4",
   "metadata": {},
   "source": [
    "## 1. Load data"
   ]
  },
  {
   "cell_type": "code",
   "execution_count": 2,
   "id": "1fd07f83-e0a3-4c1a-b78e-9069e8ddecae",
   "metadata": {},
   "outputs": [],
   "source": [
    "res = []\n",
    "with open('data/OBS_data') as f:\n",
    "    lines = f.readlines()\n",
    "    for line in lines:\n",
    "        res.append(line.split('\\t'))"
   ]
  },
  {
   "cell_type": "code",
   "execution_count": 3,
   "id": "ae7043e2-6e61-46f3-a12d-9ebd675c0db0",
   "metadata": {},
   "outputs": [],
   "source": [
    "# Import data for day 13/06/2019\n",
    "names = []\n",
    "dict_behaviors = defaultdict(list)\n",
    "for r in res[1:]:\n",
    "    if r[0].split('/')[0] in ['13']:\n",
    "        if len(r[1]) > 0:\n",
    "            names.append(r[1].strip())\n",
    "            dict_behaviors[r[1].strip()].append(r[3].strip())\n",
    "        if len(r[2]) > 0:\n",
    "            names.append(r[2].strip())\n",
    "            dict_behaviors[r[2].strip()].append(r[3].strip())\n",
    "names = np.unique(names)\n",
    "baboons = np.arange(0, len(names))\n",
    "\n",
    "# Number of behaviors\n",
    "names_col = set()\n",
    "for k, v in dict_behaviors.items():\n",
    "    for b in v:\n",
    "        names_col.add(b)\n",
    "names_col = np.array(list(names_col))\n",
    "behaviors = np.arange(0, len(names_col))\n",
    "\n",
    "# Behavior matrix: count of different behavior for each baboon\n",
    "biadjacency = np.zeros((len(baboons), len(behaviors)))\n",
    "for k, v in dict_behaviors.items():\n",
    "    behav, cnt = np.unique(v, return_counts=True)\n",
    "    for b, c in zip(behav, cnt):\n",
    "        idx_baboon = np.where(names == k)[0][0]\n",
    "        biadjacency[idx_baboon][np.where(names_col == b)[0][0]] = c\n",
    "        \n",
    "biadjacency = sparse.csr_matrix(biadjacency)"
   ]
  },
  {
   "cell_type": "code",
   "execution_count": 4,
   "id": "1cc0b883-3ae3-4b2e-82ce-d853a415fa56",
   "metadata": {},
   "outputs": [
    {
     "data": {
      "text/plain": [
       "array(['Resting', 'Playing with', 'Grooming', 'Other', 'Invisible',\n",
       "       'Presenting', 'Touching', 'Grunting-Lipsmacking', 'Supplanting',\n",
       "       'Submission', 'Threatening', 'Carrying', 'Avoiding', 'Attacking'],\n",
       "      dtype='<U20')"
      ]
     },
     "execution_count": 4,
     "metadata": {},
     "output_type": "execute_result"
    }
   ],
   "source": [
    "# Most frequent behaviors\n",
    "names_col[np.argsort(-biadjacency.T.dot(np.ones((biadjacency.shape[0]))))]"
   ]
  },
  {
   "cell_type": "code",
   "execution_count": 5,
   "id": "58b9b859-1c1a-40f8-a072-88fc15ce6f73",
   "metadata": {},
   "outputs": [
    {
     "name": "stdout",
     "output_type": "stream",
     "text": [
      "19\n"
     ]
    }
   ],
   "source": [
    "# number of baboons\n",
    "print(len(names))"
   ]
  },
  {
   "cell_type": "code",
   "execution_count": 6,
   "id": "7bd3d632-1fb0-45c3-aef9-d8a5abb9bb78",
   "metadata": {},
   "outputs": [],
   "source": [
    "dict_babs = {n: i for i, n in zip(baboons, names)}"
   ]
  },
  {
   "cell_type": "code",
   "execution_count": 8,
   "id": "2241197b-843c-4758-a4c8-ad2e4b17b724",
   "metadata": {},
   "outputs": [],
   "source": [
    "# Add edges to graph\n",
    "edges = set()\n",
    "for r in res[1:]:\n",
    "    if r[0].split('/')[0] in ['13']:\n",
    "        if r[1] != '' and r[2] != '':\n",
    "            edges.add((dict_babs.get(r[1].strip()), dict_babs.get(r[2].strip())))\n",
    "            \n",
    "edges = [x for x in edges]"
   ]
  },
  {
   "cell_type": "code",
   "execution_count": 9,
   "id": "148a591d-c81e-41c9-8366-49a2ac1313f5",
   "metadata": {},
   "outputs": [
    {
     "name": "stdout",
     "output_type": "stream",
     "text": [
      "77\n"
     ]
    }
   ],
   "source": [
    "print(len(edges))"
   ]
  },
  {
   "cell_type": "code",
   "execution_count": 10,
   "id": "e602f924-9fe8-4b13-a012-d42eacb137b3",
   "metadata": {},
   "outputs": [],
   "source": [
    "adjacency = from_edge_list(edges).astype(bool)"
   ]
  },
  {
   "cell_type": "code",
   "execution_count": 11,
   "id": "3b15bdec-df23-4397-a3ed-186754e526e7",
   "metadata": {},
   "outputs": [
    {
     "data": {
      "image/svg+xml": [
       "<svg xmlns=\"http://www.w3.org/2000/svg\" width=\"524.0\" height=\"340\">\n",
       "<path stroke-width=\"1\" stroke=\"gray\" d=\"M 140 80 247 67\"/>\n",
       "<path stroke-width=\"1\" stroke=\"gray\" d=\"M 118 168 182 158\"/>\n",
       "<path stroke-width=\"1\" stroke=\"gray\" d=\"M 118 168 240 139\"/>\n",
       "<path stroke-width=\"1\" stroke=\"gray\" d=\"M 290 103 333 141\"/>\n",
       "<path stroke-width=\"1\" stroke=\"gray\" d=\"M 290 103 199 131\"/>\n",
       "<path stroke-width=\"1\" stroke=\"gray\" d=\"M 290 103 182 158\"/>\n",
       "<path stroke-width=\"1\" stroke=\"gray\" d=\"M 290 103 364 88\"/>\n",
       "<path stroke-width=\"1\" stroke=\"gray\" d=\"M 290 103 230 110\"/>\n",
       "<path stroke-width=\"1\" stroke=\"gray\" d=\"M 134 123 199 131\"/>\n",
       "<path stroke-width=\"1\" stroke=\"gray\" d=\"M 134 123 118 168\"/>\n",
       "<path stroke-width=\"1\" stroke=\"gray\" d=\"M 134 123 182 158\"/>\n",
       "<path stroke-width=\"1\" stroke=\"gray\" d=\"M 134 123 240 139\"/>\n",
       "<path stroke-width=\"1\" stroke=\"gray\" d=\"M 134 123 230 110\"/>\n",
       "<path stroke-width=\"1\" stroke=\"gray\" d=\"M 134 123 180 87\"/>\n",
       "<path stroke-width=\"1\" stroke=\"gray\" d=\"M 134 123 140 80\"/>\n",
       "<path stroke-width=\"1\" stroke=\"gray\" d=\"M 182 158 199 131\"/>\n",
       "<path stroke-width=\"1\" stroke=\"gray\" d=\"M 182 158 118 168\"/>\n",
       "<path stroke-width=\"1\" stroke=\"gray\" d=\"M 182 158 290 103\"/>\n",
       "<path stroke-width=\"1\" stroke=\"gray\" d=\"M 182 158 134 123\"/>\n",
       "<path stroke-width=\"1\" stroke=\"gray\" d=\"M 182 158 240 139\"/>\n",
       "<path stroke-width=\"1\" stroke=\"gray\" d=\"M 182 158 221 266\"/>\n",
       "<path stroke-width=\"1\" stroke=\"gray\" d=\"M 182 158 230 110\"/>\n",
       "<path stroke-width=\"1\" stroke=\"gray\" d=\"M 182 158 180 87\"/>\n",
       "<path stroke-width=\"1\" stroke=\"gray\" d=\"M 182 158 140 80\"/>\n",
       "<path stroke-width=\"1\" stroke=\"gray\" d=\"M 118 168 134 123\"/>\n",
       "<path stroke-width=\"1\" stroke=\"gray\" d=\"M 240 139 333 141\"/>\n",
       "<path stroke-width=\"1\" stroke=\"gray\" d=\"M 118 168 199 131\"/>\n",
       "<path stroke-width=\"1\" stroke=\"gray\" d=\"M 199 131 180 87\"/>\n",
       "<path stroke-width=\"1\" stroke=\"gray\" d=\"M 333 141 240 139\"/>\n",
       "<path stroke-width=\"1\" stroke=\"gray\" d=\"M 333 141 336 175\"/>\n",
       "<path stroke-width=\"1\" stroke=\"gray\" d=\"M 333 141 364 88\"/>\n",
       "<path stroke-width=\"1\" stroke=\"gray\" d=\"M 333 141 230 110\"/>\n",
       "<path stroke-width=\"1\" stroke=\"gray\" d=\"M 333 141 247 67\"/>\n",
       "<path stroke-width=\"1\" stroke=\"gray\" d=\"M 333 141 420 215\"/>\n",
       "<path stroke-width=\"1\" stroke=\"gray\" d=\"M 279 189 310 232\"/>\n",
       "<path stroke-width=\"1\" stroke=\"gray\" d=\"M 279 189 240 139\"/>\n",
       "<path stroke-width=\"1\" stroke=\"gray\" d=\"M 279 189 336 175\"/>\n",
       "<path stroke-width=\"1\" stroke=\"gray\" d=\"M 279 189 230 110\"/>\n",
       "<path stroke-width=\"1\" stroke=\"gray\" d=\"M 310 232 333 141\"/>\n",
       "<path stroke-width=\"1\" stroke=\"gray\" d=\"M 310 232 279 189\"/>\n",
       "<path stroke-width=\"1\" stroke=\"gray\" d=\"M 310 232 240 139\"/>\n",
       "<path stroke-width=\"1\" stroke=\"gray\" d=\"M 310 232 221 266\"/>\n",
       "<path stroke-width=\"1\" stroke=\"gray\" d=\"M 310 232 280 320\"/>\n",
       "<path stroke-width=\"1\" stroke=\"gray\" d=\"M 310 232 420 215\"/>\n",
       "<path stroke-width=\"1\" stroke=\"gray\" d=\"M 199 131 118 168\"/>\n",
       "<path stroke-width=\"1\" stroke=\"gray\" d=\"M 199 131 290 103\"/>\n",
       "<path stroke-width=\"1\" stroke=\"gray\" d=\"M 199 131 134 123\"/>\n",
       "<path stroke-width=\"1\" stroke=\"gray\" d=\"M 199 131 182 158\"/>\n",
       "<path stroke-width=\"1\" stroke=\"gray\" d=\"M 199 131 240 139\"/>\n",
       "<path stroke-width=\"1\" stroke=\"gray\" d=\"M 199 131 336 175\"/>\n",
       "<path stroke-width=\"1\" stroke=\"gray\" d=\"M 199 131 230 110\"/>\n",
       "<path stroke-width=\"1\" stroke=\"gray\" d=\"M 199 131 140 80\"/>\n",
       "<path stroke-width=\"1\" stroke=\"gray\" d=\"M 240 139 279 189\"/>\n",
       "<path stroke-width=\"1\" stroke=\"gray\" d=\"M 240 139 310 232\"/>\n",
       "<path stroke-width=\"1\" stroke=\"gray\" d=\"M 240 139 199 131\"/>\n",
       "<path stroke-width=\"1\" stroke=\"gray\" d=\"M 280 320 221 266\"/>\n",
       "<path stroke-width=\"1\" stroke=\"gray\" d=\"M 20 20 140 80\"/>\n",
       "<path stroke-width=\"1\" stroke=\"gray\" d=\"M 180 87 199 131\"/>\n",
       "<path stroke-width=\"1\" stroke=\"gray\" d=\"M 180 87 134 123\"/>\n",
       "<path stroke-width=\"1\" stroke=\"gray\" d=\"M 180 87 182 158\"/>\n",
       "<path stroke-width=\"1\" stroke=\"gray\" d=\"M 180 87 240 139\"/>\n",
       "<path stroke-width=\"1\" stroke=\"gray\" d=\"M 180 87 230 110\"/>\n",
       "<path stroke-width=\"1\" stroke=\"gray\" d=\"M 180 87 247 67\"/>\n",
       "<path stroke-width=\"1\" stroke=\"gray\" d=\"M 180 87 140 80\"/>\n",
       "<path stroke-width=\"1\" stroke=\"gray\" d=\"M 247 67 333 141\"/>\n",
       "<path stroke-width=\"1\" stroke=\"gray\" d=\"M 247 67 240 139\"/>\n",
       "<path stroke-width=\"1\" stroke=\"gray\" d=\"M 247 67 230 110\"/>\n",
       "<path stroke-width=\"1\" stroke=\"gray\" d=\"M 247 67 180 87\"/>\n",
       "<path stroke-width=\"1\" stroke=\"gray\" d=\"M 247 67 140 80\"/>\n",
       "<path stroke-width=\"1\" stroke=\"gray\" d=\"M 420 215 333 141\"/>\n",
       "<path stroke-width=\"1\" stroke=\"gray\" d=\"M 420 215 310 232\"/>\n",
       "<path stroke-width=\"1\" stroke=\"gray\" d=\"M 140 80 199 131\"/>\n",
       "<path stroke-width=\"1\" stroke=\"gray\" d=\"M 140 80 134 123\"/>\n",
       "<path stroke-width=\"1\" stroke=\"gray\" d=\"M 140 80 182 158\"/>\n",
       "<path stroke-width=\"1\" stroke=\"gray\" d=\"M 140 80 240 139\"/>\n",
       "<path stroke-width=\"1\" stroke=\"gray\" d=\"M 140 80 230 110\"/>\n",
       "<path stroke-width=\"1\" stroke=\"gray\" d=\"M 140 80 20 20\"/>\n",
       "<path stroke-width=\"1\" stroke=\"gray\" d=\"M 140 80 180 87\"/>\n",
       "<path stroke-width=\"1\" stroke=\"gray\" d=\"M 280 320 310 232\"/>\n",
       "<path stroke-width=\"1\" stroke=\"gray\" d=\"M 230 110 140 80\"/>\n",
       "<path stroke-width=\"1\" stroke=\"gray\" d=\"M 230 110 247 67\"/>\n",
       "<path stroke-width=\"1\" stroke=\"gray\" d=\"M 230 110 180 87\"/>\n",
       "<path stroke-width=\"1\" stroke=\"gray\" d=\"M 240 139 118 168\"/>\n",
       "<path stroke-width=\"1\" stroke=\"gray\" d=\"M 240 139 134 123\"/>\n",
       "<path stroke-width=\"1\" stroke=\"gray\" d=\"M 240 139 182 158\"/>\n",
       "<path stroke-width=\"1\" stroke=\"gray\" d=\"M 240 139 364 88\"/>\n",
       "<path stroke-width=\"1\" stroke=\"gray\" d=\"M 240 139 230 110\"/>\n",
       "<path stroke-width=\"1\" stroke=\"gray\" d=\"M 240 139 180 87\"/>\n",
       "<path stroke-width=\"1\" stroke=\"gray\" d=\"M 240 139 247 67\"/>\n",
       "<path stroke-width=\"1\" stroke=\"gray\" d=\"M 240 139 140 80\"/>\n",
       "<path stroke-width=\"1\" stroke=\"gray\" d=\"M 336 175 333 141\"/>\n",
       "<path stroke-width=\"1\" stroke=\"gray\" d=\"M 336 175 279 189\"/>\n",
       "<path stroke-width=\"1\" stroke=\"gray\" d=\"M 336 175 199 131\"/>\n",
       "<path stroke-width=\"1\" stroke=\"gray\" d=\"M 333 141 290 103\"/>\n",
       "<path stroke-width=\"1\" stroke=\"gray\" d=\"M 364 88 333 141\"/>\n",
       "<path stroke-width=\"1\" stroke=\"gray\" d=\"M 364 88 240 139\"/>\n",
       "<path stroke-width=\"1\" stroke=\"gray\" d=\"M 221 266 310 232\"/>\n",
       "<path stroke-width=\"1\" stroke=\"gray\" d=\"M 221 266 182 158\"/>\n",
       "<path stroke-width=\"1\" stroke=\"gray\" d=\"M 221 266 280 320\"/>\n",
       "<path stroke-width=\"1\" stroke=\"gray\" d=\"M 230 110 333 141\"/>\n",
       "<path stroke-width=\"1\" stroke=\"gray\" d=\"M 230 110 279 189\"/>\n",
       "<path stroke-width=\"1\" stroke=\"gray\" d=\"M 230 110 199 131\"/>\n",
       "<path stroke-width=\"1\" stroke=\"gray\" d=\"M 230 110 290 103\"/>\n",
       "<path stroke-width=\"1\" stroke=\"gray\" d=\"M 230 110 134 123\"/>\n",
       "<path stroke-width=\"1\" stroke=\"gray\" d=\"M 230 110 182 158\"/>\n",
       "<path stroke-width=\"1\" stroke=\"gray\" d=\"M 230 110 240 139\"/>\n",
       "<path stroke-width=\"1\" stroke=\"gray\" d=\"M 364 88 290 103\"/>\n",
       "<path stroke-width=\"1\" stroke=\"gray\" d=\"M 333 141 310 232\"/>\n",
       "<circle cx=\"140\" cy=\"80\" r=\"7.0\" style=\"fill:gray;stroke:black;stroke-width:1.0\"/>\n",
       "<circle cx=\"420\" cy=\"215\" r=\"7.0\" style=\"fill:gray;stroke:black;stroke-width:1.0\"/>\n",
       "<circle cx=\"247\" cy=\"67\" r=\"7.0\" style=\"fill:gray;stroke:black;stroke-width:1.0\"/>\n",
       "<circle cx=\"180\" cy=\"87\" r=\"7.0\" style=\"fill:gray;stroke:black;stroke-width:1.0\"/>\n",
       "<circle cx=\"20\" cy=\"20\" r=\"7.0\" style=\"fill:gray;stroke:black;stroke-width:1.0\"/>\n",
       "<circle cx=\"280\" cy=\"320\" r=\"7.0\" style=\"fill:gray;stroke:black;stroke-width:1.0\"/>\n",
       "<circle cx=\"230\" cy=\"110\" r=\"7.0\" style=\"fill:gray;stroke:black;stroke-width:1.0\"/>\n",
       "<circle cx=\"221\" cy=\"266\" r=\"7.0\" style=\"fill:gray;stroke:black;stroke-width:1.0\"/>\n",
       "<circle cx=\"364\" cy=\"88\" r=\"7.0\" style=\"fill:gray;stroke:black;stroke-width:1.0\"/>\n",
       "<circle cx=\"336\" cy=\"175\" r=\"7.0\" style=\"fill:gray;stroke:black;stroke-width:1.0\"/>\n",
       "<circle cx=\"240\" cy=\"139\" r=\"7.0\" style=\"fill:gray;stroke:black;stroke-width:1.0\"/>\n",
       "<circle cx=\"182\" cy=\"158\" r=\"7.0\" style=\"fill:gray;stroke:black;stroke-width:1.0\"/>\n",
       "<circle cx=\"134\" cy=\"123\" r=\"7.0\" style=\"fill:gray;stroke:black;stroke-width:1.0\"/>\n",
       "<circle cx=\"290\" cy=\"103\" r=\"7.0\" style=\"fill:gray;stroke:black;stroke-width:1.0\"/>\n",
       "<circle cx=\"118\" cy=\"168\" r=\"7.0\" style=\"fill:gray;stroke:black;stroke-width:1.0\"/>\n",
       "<circle cx=\"199\" cy=\"131\" r=\"7.0\" style=\"fill:gray;stroke:black;stroke-width:1.0\"/>\n",
       "<circle cx=\"310\" cy=\"232\" r=\"7.0\" style=\"fill:gray;stroke:black;stroke-width:1.0\"/>\n",
       "<circle cx=\"279\" cy=\"189\" r=\"7.0\" style=\"fill:gray;stroke:black;stroke-width:1.0\"/>\n",
       "<circle cx=\"333\" cy=\"141\" r=\"7.0\" style=\"fill:gray;stroke:black;stroke-width:1.0\"/>\n",
       "<text text-anchor=\"start\" x=\"150\" y=\"80\" font-size=\"12\">ANGELE</text><text text-anchor=\"start\" x=\"430\" y=\"215\" font-size=\"12\">ARIELLE</text><text text-anchor=\"start\" x=\"257\" y=\"67\" font-size=\"12\">ATMOSPHERE</text><text text-anchor=\"start\" x=\"190\" y=\"87\" font-size=\"12\">BOBO</text><text text-anchor=\"start\" x=\"30\" y=\"20\" font-size=\"12\">EWINE</text><text text-anchor=\"start\" x=\"290\" y=\"320\" font-size=\"12\">FANA</text><text text-anchor=\"start\" x=\"240\" y=\"110\" font-size=\"12\">FELIPE</text><text text-anchor=\"start\" x=\"231\" y=\"266\" font-size=\"12\">FEYA</text><text text-anchor=\"start\" x=\"374\" y=\"88\" font-size=\"12\">HARLEM</text><text text-anchor=\"start\" x=\"346\" y=\"175\" font-size=\"12\">KALI</text><text text-anchor=\"start\" x=\"250\" y=\"139\" font-size=\"12\">LIPS</text><text text-anchor=\"start\" x=\"192\" y=\"158\" font-size=\"12\">LOME</text><text text-anchor=\"start\" x=\"144\" y=\"123\" font-size=\"12\">MAKO</text><text text-anchor=\"start\" x=\"300\" y=\"103\" font-size=\"12\">MALI</text><text text-anchor=\"start\" x=\"128\" y=\"168\" font-size=\"12\">MUSE</text><text text-anchor=\"start\" x=\"209\" y=\"131\" font-size=\"12\">NEKKE</text><text text-anchor=\"start\" x=\"320\" y=\"232\" font-size=\"12\">PETOULETTE</text><text text-anchor=\"start\" x=\"289\" y=\"189\" font-size=\"12\">PIPO</text><text text-anchor=\"start\" x=\"343\" y=\"141\" font-size=\"12\">VIOLETTE</text></svg>"
      ],
      "text/plain": [
       "<IPython.core.display.SVG object>"
      ]
     },
     "execution_count": 11,
     "metadata": {},
     "output_type": "execute_result"
    }
   ],
   "source": [
    "image = svg_graph(adjacency, names=names)\n",
    "SVG(image)"
   ]
  },
  {
   "cell_type": "code",
   "execution_count": 13,
   "id": "ee8f35c0-276a-425c-8acc-49928f3adbb6",
   "metadata": {},
   "outputs": [
    {
     "name": "stdout",
     "output_type": "stream",
     "text": [
      "(19, 19)\n",
      "(19, 14)\n"
     ]
    }
   ],
   "source": [
    "print(adjacency.shape)\n",
    "print(biadjacency.shape)"
   ]
  },
  {
   "cell_type": "code",
   "execution_count": null,
   "id": "e3852b9b-69de-427a-8569-517106e6a5bd",
   "metadata": {},
   "outputs": [],
   "source": []
  }
 ],
 "metadata": {
  "kernelspec": {
   "display_name": "COMEG",
   "language": "python",
   "name": "comeg"
  },
  "language_info": {
   "codemirror_mode": {
    "name": "ipython",
    "version": 3
   },
   "file_extension": ".py",
   "mimetype": "text/x-python",
   "name": "python",
   "nbconvert_exporter": "python",
   "pygments_lexer": "ipython3",
   "version": "3.9.13"
  }
 },
 "nbformat": 4,
 "nbformat_minor": 5
}
