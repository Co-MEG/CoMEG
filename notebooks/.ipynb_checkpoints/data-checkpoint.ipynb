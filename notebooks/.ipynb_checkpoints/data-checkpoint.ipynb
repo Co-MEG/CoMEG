{
 "cells": [
  {
   "cell_type": "markdown",
   "metadata": {},
   "source": [
    "# GoodReads data\n",
    "--- \n",
    "\n",
    "*Source*: https://sites.google.com/eng.ucsd.edu/ucsdbookgraph/home"
   ]
  },
  {
   "cell_type": "code",
   "execution_count": 2,
   "metadata": {},
   "outputs": [],
   "source": [
    "import json\n",
    "from collections import Counter\n",
    "import matplotlib.pyplot as plt\n",
    "\n",
    "import networkx as nx\n",
    "from networkx.algorithms import bipartite"
   ]
  },
  {
   "cell_type": "code",
   "execution_count": 105,
   "metadata": {},
   "outputs": [],
   "source": [
    "# Plot degree distribution\n",
    "def plot_distrib(dict_values, ax, xlabel='degree', log=True, title=None, color='blue', alpha=1, label='Degree distribution'):\n",
    "    values = [v for k, v in dict_values.items()]\n",
    "    counter = Counter(values)\n",
    "    x, y = zip(*counter.items())\n",
    "    ax.scatter(x, y, marker='+', color=color, alpha=alpha, label=label)\n",
    "    ax.legend()\n",
    "    ax.set_title(title)\n",
    "    if log and len(y) > 100:\n",
    "        ax.set_xscale('log')\n",
    "        ax.set_xlabel(xlabel + ' (log)')\n",
    "    else:\n",
    "        ax.set_xlabel(xlabel)\n",
    "    ax.set_ylabel('Frequency' + ' (log)')\n",
    "    ax.set_yscale('log')"
   ]
  },
  {
   "cell_type": "markdown",
   "metadata": {},
   "source": [
    "## Books"
   ]
  },
  {
   "cell_type": "markdown",
   "metadata": {},
   "source": [
    "### Book attributes"
   ]
  },
  {
   "cell_type": "markdown",
   "metadata": {},
   "source": [
    "Some attributes are excluded to reduce the size of information kept."
   ]
  },
  {
   "cell_type": "code",
   "execution_count": 10,
   "metadata": {},
   "outputs": [
    {
     "name": "stdout",
     "output_type": "stream",
     "text": [
      "36514\n",
      "CPU times: user 971 ms, sys: 44.8 ms, total: 1.02 s\n",
      "Wall time: 1.01 s\n"
     ]
    }
   ],
   "source": [
    "%%time\n",
    "\n",
    "books = {}\n",
    "excluded_attributes = ['popular_shelves', 'description', 'link', 'url', 'image_url']\n",
    "books_data = open(\"../data/goodreads_poetry/raw/goodreads_books_poetry.json\")\n",
    "for i, book in enumerate(books_data):\n",
    "    data = json.loads(book)\n",
    "    books[data['book_id']] = {attr: val for attr, val in data.items() if attr not in excluded_attributes}\n",
    "\n",
    "# Should be 36 514\n",
    "print(len(books))"
   ]
  },
  {
   "cell_type": "markdown",
   "metadata": {},
   "source": [
    "**Bookshelves information**  \n",
    "\n",
    "We count the most frequent bookshelve information in order to know if this is a good criteria to keep in the process."
   ]
  },
  {
   "cell_type": "code",
   "execution_count": 71,
   "metadata": {},
   "outputs": [
    {
     "name": "stdout",
     "output_type": "stream",
     "text": [
      "CPU times: user 651 ms, sys: 19.6 ms, total: 670 ms\n",
      "Wall time: 670 ms\n"
     ]
    }
   ],
   "source": [
    "%%time\n",
    "\n",
    "bookshelves = {}\n",
    "\n",
    "books_data = open(\"../data/goodreads_poetry/raw/goodreads_books_poetry.json\")\n",
    "for i, book in enumerate(books_data):\n",
    "    data = json.loads(book)\n",
    "    for shelf in data['popular_shelves']:\n",
    "        if 'read' not in shelf['name']:\n",
    "            bookshelves[shelf['name']] = bookshelves.get(shelf['name'], 0) + 1\n",
    "            break"
   ]
  },
  {
   "cell_type": "code",
   "execution_count": 72,
   "metadata": {},
   "outputs": [
    {
     "data": {
      "image/png": "[encoded data removed]",
      "text/plain": [
       "<Figure size 1080x504 with 1 Axes>"
      ]
     },
     "metadata": {
      "needs_background": "light"
     },
     "output_type": "display_data"
    }
   ],
   "source": [
    "k = 20\n",
    "fig, ax = plt.subplots(1, 1, figsize=(15, 7))\n",
    "sorted_bookshelves = dict(sorted(bookshelves.items(), key=lambda x: x[1], reverse=True))\n",
    "plt.bar(list(sorted_bookshelves.keys())[:k], list(sorted_bookshelves.values())[:k], color='g');"
   ]
  },
  {
   "cell_type": "markdown",
   "metadata": {},
   "source": [
    "**Description of book**  \n",
    "Let's verify how often is the book description available."
   ]
  },
  {
   "cell_type": "code",
   "execution_count": 12,
   "metadata": {},
   "outputs": [
    {
     "name": "stdout",
     "output_type": "stream",
     "text": [
      "Total number of available descriptions: 28932 / 36514 (79.24%).\n",
      "CPU times: user 634 ms, sys: 24.2 ms, total: 658 ms\n",
      "Wall time: 655 ms\n"
     ]
    }
   ],
   "source": [
    "%%time\n",
    "\n",
    "cnt_desc = 0\n",
    "books_data = open(\"../data/goodreads_poetry/raw/goodreads_books_poetry.json\")\n",
    "for i, book in enumerate(books_data):\n",
    "    data = json.loads(book)\n",
    "    if len(data['description']) > 5:\n",
    "        cnt_desc += 1\n",
    "print(f'Total number of available descriptions: {cnt_desc} / {len(books)} ({100*cnt_desc/len(books):.2f}%).')"
   ]
  },
  {
   "cell_type": "markdown",
   "metadata": {},
   "source": [
    "### User-book interactions"
   ]
  },
  {
   "cell_type": "code",
   "execution_count": 96,
   "metadata": {},
   "outputs": [
    {
     "name": "stdout",
     "output_type": "stream",
     "text": [
      "CPU times: user 10.8 s, sys: 18.3 s, total: 29 s\n",
      "Wall time: 39.1 s\n"
     ]
    }
   ],
   "source": [
    "%%time\n",
    "\n",
    "links = []\n",
    "user_ids = set()\n",
    "book_ids = set()\n",
    "\n",
    "user_book_data = open(\"../data/goodreads_poetry/raw/goodreads_interactions_poetry.json\")\n",
    "for review in user_book_data:\n",
    "    data = json.loads(review)\n",
    "\n",
    "    u = data.get('user_id')\n",
    "    user_ids.add(u)\n",
    "    v = data.get('book_id')\n",
    "    book_ids.add(v)\n",
    "    attr = {'is_read': data.get('is_read'),\n",
    "            'rating': data.get('rating')}\n",
    "    link = {'u': u, 'v': v, 'attr': attr}\n",
    "    links.append(link)"
   ]
  },
  {
   "cell_type": "code",
   "execution_count": 97,
   "metadata": {},
   "outputs": [
    {
     "name": "stdout",
     "output_type": "stream",
     "text": [
      "2734350\n",
      "{'u': '8842281e1d1347389f2ab93d60773d4d', 'v': '1384', 'attr': {'is_read': True, 'rating': 4}}\n"
     ]
    }
   ],
   "source": [
    "# Should be 2 734 350\n",
    "print(len(links))\n",
    "print(links[0])"
   ]
  },
  {
   "cell_type": "markdown",
   "metadata": {},
   "source": [
    "### Attributed Bipartite Graph "
   ]
  },
  {
   "cell_type": "code",
   "execution_count": 98,
   "metadata": {},
   "outputs": [],
   "source": [
    "g_book = {}\n",
    "g_book['V'] = {'left': list(user_ids), 'right': list(book_ids)}\n",
    "g_book['E'] = links\n",
    "g_book['A'] = {'left': None, 'right': books}"
   ]
  },
  {
   "cell_type": "code",
   "execution_count": 99,
   "metadata": {},
   "outputs": [
    {
     "name": "stdout",
     "output_type": "stream",
     "text": [
      "Number of users: 377799\n",
      "Number of books: 36514\n",
      "Number of reviews: 2734350\n"
     ]
    }
   ],
   "source": [
    "print(f\"Number of users: {len(g_book['V']['left'])}\")\n",
    "print(f\"Number of books: {len(g_book['V']['right'])}\")\n",
    "print(f\"Number of reviews: {len(g_book['E'])}\")"
   ]
  },
  {
   "cell_type": "code",
   "execution_count": 100,
   "metadata": {},
   "outputs": [],
   "source": [
    "edges = [(elem.get('u'), elem.get('v')) for elem in g_book['E']]\n",
    "\n",
    "G_book = nx.Graph()\n",
    "# Add nodes\n",
    "G_book.add_nodes_from(list(user_ids), bipartite=0)\n",
    "G_book.add_nodes_from(list(book_ids), bipartite=1)\n",
    "# Add edges\n",
    "G_book.add_edges_from(edges)"
   ]
  },
  {
   "cell_type": "code",
   "execution_count": 101,
   "metadata": {},
   "outputs": [
    {
     "name": "stdout",
     "output_type": "stream",
     "text": [
      "36514\n"
     ]
    }
   ],
   "source": [
    "print(len(books))"
   ]
  },
  {
   "cell_type": "markdown",
   "metadata": {},
   "source": [
    "### Degree distribution"
   ]
  },
  {
   "cell_type": "code",
   "execution_count": 102,
   "metadata": {},
   "outputs": [
    {
     "name": "stderr",
     "output_type": "stream",
     "text": [
      "No artists with labels found to put in legend.  Note that artists whose label start with an underscore are ignored when legend() is called with no argument.\n",
      "No artists with labels found to put in legend.  Note that artists whose label start with an underscore are ignored when legend() is called with no argument.\n"
     ]
    },
    {
     "data": {
      "image/png": "[encoded data removed]",
      "text/plain": [
       "<Figure size 1080x504 with 2 Axes>"
      ]
     },
     "metadata": {
      "needs_background": "light"
     },
     "output_type": "display_data"
    }
   ],
   "source": [
    "fig, ax = plt.subplots(1, 2, figsize=(15, 7))\n",
    "plot_distrib(dict(G_book.degree(user_ids)), ax=ax[0], title='User degree distribution')\n",
    "plot_distrib(dict(G_book.degree(book_ids)), ax=ax[1], title='Book degree distribution');"
   ]
  },
  {
   "cell_type": "markdown",
   "metadata": {},
   "source": [
    "### Connected components"
   ]
  },
  {
   "cell_type": "code",
   "execution_count": 42,
   "metadata": {},
   "outputs": [
    {
     "name": "stdout",
     "output_type": "stream",
     "text": [
      "Graph is connected: False\n",
      "Number of connected components: 105\n",
      "Size of connected components: [414093, 2, 2, 2, 2, 2, 2, 3, 2, 2, 2, 2, 3, 2, 2, 3, 3, 3, 3, 2, 2, 2, 2, 2, 2, 2, 2, 2, 2, 2, 2, 3, 2, 2, 2, 3, 2, 2, 2, 2, 2, 2, 2, 2, 2, 2, 2, 2, 2, 2, 2, 2, 2, 2, 2, 2, 4, 2, 2, 2, 2, 2, 2, 2, 2, 2, 2, 2, 2, 2, 2, 2, 2, 2, 2, 2, 2, 3, 3, 2, 2, 2, 2, 2, 2, 2, 2, 2, 2, 2, 2, 2, 2, 2, 2, 2, 2, 2, 2, 2, 2, 2, 2, 2, 2]\n"
     ]
    }
   ],
   "source": [
    "print(f'Graph is connected: {nx.is_connected(G)}')\n",
    "print(f'Number of connected components: {nx.number_connected_components(G)}')\n",
    "print(f'Size of connected components: {[len(i) for i in nx.connected_components(G)]}')"
   ]
  },
  {
   "cell_type": "code",
   "execution_count": 48,
   "metadata": {},
   "outputs": [
    {
     "name": "stdout",
     "output_type": "stream",
     "text": [
      "Density for users: 0.0001982\n",
      "Density for books: 0.0001982\n"
     ]
    }
   ],
   "source": [
    "print(f'Density for users: {bipartite.density(G, user_ids):.7f}')\n",
    "print(f'Density for books: {bipartite.density(G, book_ids):.7f}')"
   ]
  },
  {
   "cell_type": "code",
   "execution_count": 43,
   "metadata": {},
   "outputs": [
    {
     "data": {
      "text/plain": [
       "{'u': '8842281e1d1347389f2ab93d60773d4d',\n",
       " 'v': '1384',\n",
       " 'attr': {'is_read': True, 'rating': 4}}"
      ]
     },
     "execution_count": 43,
     "metadata": {},
     "output_type": "execute_result"
    }
   ],
   "source": [
    "g['E'][0]"
   ]
  },
  {
   "cell_type": "markdown",
   "metadata": {},
   "source": [
    "## Comics \n",
    "---\n",
    "\n"
   ]
  },
  {
   "cell_type": "code",
   "execution_count": 3,
   "metadata": {},
   "outputs": [
    {
     "name": "stdout",
     "output_type": "stream",
     "text": [
      "Number of comics: 89411\n",
      "CPU times: user 2.42 s, sys: 120 ms, total: 2.54 s\n",
      "Wall time: 2.54 s\n"
     ]
    }
   ],
   "source": [
    "%%time\n",
    "\n",
    "comics = {}\n",
    "excluded_attributes = ['popular_shelves', 'description', 'link', 'url', 'image_url']\n",
    "comics_data = open(\"../data/goodreads_comics/raw/goodreads_books_comics_graphic.json\")\n",
    "for i, comic in enumerate(comics_data):\n",
    "    data = json.loads(comic)\n",
    "    comics[data['book_id']] = {attr: val for attr, val in data.items() if attr not in excluded_attributes}\n",
    "\n",
    "print(f'Number of comics: {len(comics)}')"
   ]
  },
  {
   "cell_type": "code",
   "execution_count": 83,
   "metadata": {},
   "outputs": [
    {
     "name": "stdout",
     "output_type": "stream",
     "text": [
      "CPU times: user 1.89 s, sys: 66.4 ms, total: 1.95 s\n",
      "Wall time: 1.95 s\n"
     ]
    },
    {
     "data": {
      "text/plain": [
       "<BarContainer object of 20 artists>"
      ]
     },
     "execution_count": 83,
     "metadata": {},
     "output_type": "execute_result"
    },
    {
     "data": {
      "image/png": "[encoded data removed]",
      "text/plain": [
       "<Figure size 1080x504 with 1 Axes>"
      ]
     },
     "metadata": {
      "needs_background": "light"
     },
     "output_type": "display_data"
    }
   ],
   "source": [
    "%%time\n",
    "\n",
    "bookshelves = {}\n",
    "\n",
    "comics_data = open(\"../data/goodreads_comics/raw/goodreads_books_comics_graphic.json\")\n",
    "for i, comic in enumerate(comics_data):\n",
    "    data = json.loads(comic)\n",
    "    for shelf in data['popular_shelves']:\n",
    "        if 'read' not in shelf['name']:\n",
    "            bookshelves[shelf['name']] = bookshelves.get(shelf['name'], 0) + 1\n",
    "            break\n",
    "\n",
    "k = 20\n",
    "fig, ax = plt.subplots(1, 1, figsize=(15, 7))\n",
    "sorted_bookshelves = dict(sorted(bookshelves.items(), key=lambda x: x[1], reverse=True))\n",
    "plt.bar(list(sorted_bookshelves.keys())[:k], list(sorted_bookshelves.values())[:k], color='g');"
   ]
  },
  {
   "cell_type": "code",
   "execution_count": 8,
   "metadata": {},
   "outputs": [
    {
     "name": "stdout",
     "output_type": "stream",
     "text": [
      "Total number of available descriptions: 74101 / 89411 (82.88%).\n",
      "CPU times: user 1.77 s, sys: 56.8 ms, total: 1.82 s\n",
      "Wall time: 1.82 s\n"
     ]
    }
   ],
   "source": [
    "%%time\n",
    "\n",
    "cnt_desc = 0\n",
    "comics_data = open(\"../data/goodreads_comics/raw/goodreads_books_comics_graphic.json\")\n",
    "for i, comic in enumerate(comics_data):\n",
    "    data = json.loads(comic)\n",
    "    if len(data['description']) > 5:\n",
    "        cnt_desc += 1\n",
    "print(f'Total number of available descriptions: {cnt_desc} / {len(comics)} ({100*cnt_desc/len(comics):.2f}%).')"
   ]
  },
  {
   "cell_type": "markdown",
   "metadata": {},
   "source": [
    "### Language code"
   ]
  },
  {
   "cell_type": "code",
   "execution_count": 13,
   "metadata": {},
   "outputs": [
    {
     "data": {
      "image/png": "[encoded data removed]",
      "text/plain": [
       "<Figure size 1080x504 with 1 Axes>"
      ]
     },
     "metadata": {
      "needs_background": "light"
     },
     "output_type": "display_data"
    }
   ],
   "source": [
    "languages = {}\n",
    "\n",
    "comics_data = open(\"../data/goodreads_comics/raw/goodreads_books_comics_graphic.json\")\n",
    "for i, comic in enumerate(comics_data):\n",
    "    data = json.loads(comic)\n",
    "    languages[data['language_code']] = languages.get(data['language_code'], 0) + 1\n",
    "\n",
    "k = 20\n",
    "fig, ax = plt.subplots(1, 1, figsize=(15, 7))\n",
    "sorted_languages = dict(sorted(languages.items(), key=lambda x: x[1], reverse=True))\n",
    "plt.bar(list(sorted_languages.keys())[:k], list(sorted_languages.values())[:k], color='g');"
   ]
  },
  {
   "cell_type": "code",
   "execution_count": 103,
   "metadata": {},
   "outputs": [
    {
     "name": "stdout",
     "output_type": "stream",
     "text": [
      "CPU times: user 2.2 s, sys: 451 ms, total: 2.65 s\n",
      "Wall time: 2.94 s\n"
     ]
    }
   ],
   "source": [
    "%%time\n",
    "\n",
    "comics = {}\n",
    "excluded_attributes = ['popular_shelves', 'description', 'link', 'url', 'image_url']\n",
    "\n",
    "comics_data = open(\"../data/goodreads_comics/raw/goodreads_books_comics_graphic.json\")\n",
    "for i, comic in enumerate(comics_data):\n",
    "    data = json.loads(comic)\n",
    "    comics[data['book_id']] = {attr: val for attr, val in data.items() if attr not in excluded_attributes}"
   ]
  },
  {
   "cell_type": "code",
   "execution_count": 104,
   "metadata": {},
   "outputs": [
    {
     "name": "stdout",
     "output_type": "stream",
     "text": [
      "CPU times: user 29 s, sys: 44.8 s, total: 1min 13s\n",
      "Wall time: 1min 38s\n"
     ]
    }
   ],
   "source": [
    "%%time\n",
    "\n",
    "user_comic_data = open(\"../data/goodreads_comics/raw/goodreads_interactions_comics_graphic.json\")\n",
    "\n",
    "links = []\n",
    "user_ids = set()\n",
    "comic_ids = set()\n",
    "\n",
    "for review in user_comic_data:\n",
    "    data = json.loads(review)\n",
    "\n",
    "    u = data.get('user_id')\n",
    "    user_ids.add(u)\n",
    "    v = data.get('book_id')\n",
    "    comic_ids.add(v)\n",
    "    attr = {'is_read': data.get('is_read'),\n",
    "            'rating': data.get('rating')}\n",
    "    link = {'u': u, 'v': v, 'attr': attr}\n",
    "    links.append(link)"
   ]
  },
  {
   "cell_type": "code",
   "execution_count": 106,
   "metadata": {},
   "outputs": [
    {
     "name": "stdout",
     "output_type": "stream",
     "text": [
      "Number of users: 342415\n",
      "Number of books: 89411\n",
      "Number of reviews: 7347630\n"
     ]
    },
    {
     "data": {
      "image/png": "[encoded data removed]",
      "text/plain": [
       "<Figure size 1080x504 with 2 Axes>"
      ]
     },
     "metadata": {
      "needs_background": "light"
     },
     "output_type": "display_data"
    }
   ],
   "source": [
    "# Bipartite Graph\n",
    "g_comic = {}\n",
    "g_comic['V'] = {'left': list(user_ids), 'right': list(comic_ids)}\n",
    "g_comic['E'] = links\n",
    "g_comic['A'] = {'left': None, 'right': books}\n",
    "\n",
    "print(f\"Number of users: {len(g_comic['V']['left'])}\")\n",
    "print(f\"Number of books: {len(g_comic['V']['right'])}\")\n",
    "print(f\"Number of reviews: {len(g_comic['E'])}\")\n",
    "\n",
    "edges = [(elem.get('u'), elem.get('v')) for elem in g_comic['E']]\n",
    "\n",
    "G_comic = nx.Graph()\n",
    "# Add nodes\n",
    "G_comic.add_nodes_from(list(user_ids), bipartite=0)\n",
    "G_comic.add_nodes_from(list(comic_ids), bipartite=1)\n",
    "# Add edges\n",
    "G_comic.add_edges_from(edges)\n",
    "\n",
    "fig, ax = plt.subplots(1, 2, figsize=(15, 7))\n",
    "plot_distrib(dict(G_comic.degree(user_ids)), ax=ax[0], title='User degree distribution')\n",
    "plot_distrib(dict(G_book.degree(book_ids)), ax=ax[1], title='Goodread degree distribution', alpha=0.5, label='book')\n",
    "plot_distrib(dict(G_comic.degree(comic_ids)), ax=ax[1], color='g', alpha=0.5, label='comic');"
   ]
  },
  {
   "cell_type": "code",
   "execution_count": null,
   "metadata": {},
   "outputs": [],
   "source": [
    "# Build graph\n",
    "g = BipartiteGraph()\n",
    "g.load_data(IN_PATH, use_cache=USE_CACHE)\n",
    "m = g.number_of_edges()\n",
    "\n",
    "# Verif\n",
    "print(type(g))\n",
    "print(f\"Number of users: {len(g.V.get('left'))}\")\n",
    "print(f\"Number of books: {len(g.V.get('right'))}\")\n",
    "print(f\"Number of reviews: {len(g.E)}\")\n",
    "    "
   ]
  },
  {
   "cell_type": "code",
   "execution_count": null,
   "metadata": {},
   "outputs": [],
   "source": [
    "def adar_adamic(adj_mat):    \n",
    "    \"\"\"Computes Adar-Adamic similarity matrix for an adjacency matrix\"\"\"\n",
    "\n",
    "    Adar_Adamic = np.zeros(adj_mat.shape)\n",
    "    \n",
    "    for i in adj_mat:\n",
    "        AdjList = i.nonzero()[0] #column indices with nonzero values\n",
    "        k_deg = len(AdjList)\n",
    "        d = np.log(1.0/k_deg) # row i's AA score\n",
    "\n",
    "        #add i's score to the neighbor's entry\n",
    "        for i in xrange(len(AdjList)):\n",
    "            for j in xrange(len(AdjList)):\n",
    "                if AdjList[i] != AdjList[j]:\n",
    "                    cell = (AdjList[i],AdjList[j])\n",
    "                    Adar_Adamic[cell] = Adar_Adamic[cell] + d\n",
    "\n",
    "    return Adar_Adamic"
   ]
  },
  {
   "cell_type": "code",
   "execution_count": 108,
   "metadata": {},
   "outputs": [
    {
     "data": {
      "text/plain": [
       "array([0])"
      ]
     },
     "execution_count": 108,
     "metadata": {},
     "output_type": "execute_result"
    }
   ],
   "source": [
    "import numpy as np\n",
    "a=  np.array([0, 1, 1])\n",
    "a[a==0]"
   ]
  },
  {
   "cell_type": "code",
   "execution_count": null,
   "metadata": {},
   "outputs": [],
   "source": []
  }
 ],
 "metadata": {
  "kernelspec": {
   "display_name": "Python 3.9.12 ('COMEG')",
   "language": "python",
   "name": "python3"
  },
  "language_info": {
   "codemirror_mode": {
    "name": "ipython",
    "version": 3
   },
   "file_extension": ".py",
   "mimetype": "text/x-python",
   "name": "python",
   "nbconvert_exporter": "python",
   "pygments_lexer": "ipython3",
   "version": "3.9.13"
  },
  "orig_nbformat": 4,
  "vscode": {
   "interpreter": {
    "hash": "dcdfb8c5837fd233c20aa71b627ed810898cb6eea01e1926ca9a85c60e664a2a"
   }
  }
 },
 "nbformat": 4,
 "nbformat_minor": 2
}
