{
 "cells": [
  {
   "cell_type": "markdown",
   "id": "7aabb35b-ef21-432e-a920-bde05c576ef4",
   "metadata": {},
   "source": [
    "# Baboon's interactions dataset\n",
    "---"
   ]
  },
  {
   "cell_type": "markdown",
   "id": "f22da443-31f5-4b40-83e8-4d6e42578e4f",
   "metadata": {},
   "source": [
    "*Source: http://www.sociopatterns.org/datasets/baboons-interactions/*  \n",
    "\n",
    "We build the graph of interactions between baboons for the day 13/06/2019. For this purpose, we do not take into account the dynamicity of the interactions, an edge exists between two nodes as soon as an interaction exists between two baboons during this specific day.  \n",
    "We add attributes to each node as the counts of different behaviors each baboon has during the day. We get 14 different behaviors (e.g 'resting', 'playing with'). Each baboon is described with a vector of integers corresponding to the kind of interactions it did."
   ]
  },
  {
   "cell_type": "markdown",
   "id": "7ce3b55a-e095-4d64-9653-60168e439d3b",
   "metadata": {},
   "source": [
    "**Libraries**"
   ]
  },
  {
   "cell_type": "code",
   "execution_count": 47,
   "id": "e7e75f47-36e5-440c-aab5-69eda8b5519b",
   "metadata": {},
   "outputs": [],
   "source": [
    "from IPython.display import SVG\n",
    "\n",
    "from collections import defaultdict\n",
    "import numpy as np\n",
    "import pickle\n",
    "from scipy import sparse\n",
    "\n",
    "from sknetwork.data import from_edge_list, Bunch, save\n",
    "from sknetwork.visualization import svg_graph"
   ]
  },
  {
   "cell_type": "markdown",
   "id": "887ef5e3-1dc9-4e5c-9bfb-4f6cce32dba4",
   "metadata": {},
   "source": [
    "## 1. Load data"
   ]
  },
  {
   "cell_type": "code",
   "execution_count": 2,
   "id": "1fd07f83-e0a3-4c1a-b78e-9069e8ddecae",
   "metadata": {},
   "outputs": [],
   "source": [
    "res = []\n",
    "with open('data/OBS_data') as f:\n",
    "    lines = f.readlines()\n",
    "    for line in lines:\n",
    "        res.append(line.split('\\t'))"
   ]
  },
  {
   "cell_type": "code",
   "execution_count": 3,
   "id": "ae7043e2-6e61-46f3-a12d-9ebd675c0db0",
   "metadata": {},
   "outputs": [],
   "source": [
    "# Import data for day 13/06/2019\n",
    "names = []\n",
    "dict_behaviors = defaultdict(list)\n",
    "for r in res[1:]:\n",
    "    if r[0].split('/')[0] in ['13']:\n",
    "        if len(r[1]) > 0:\n",
    "            names.append(r[1].strip())\n",
    "            dict_behaviors[r[1].strip()].append(r[3].strip())\n",
    "        if len(r[2]) > 0:\n",
    "            names.append(r[2].strip())\n",
    "            dict_behaviors[r[2].strip()].append(r[3].strip())\n",
    "names = np.unique(names)\n",
    "baboons = np.arange(0, len(names))\n",
    "\n",
    "# Number of behaviors\n",
    "names_col = set()\n",
    "for k, v in dict_behaviors.items():\n",
    "    for b in v:\n",
    "        names_col.add(b)\n",
    "names_col = np.array(list(names_col))\n",
    "behaviors = np.arange(0, len(names_col))\n",
    "\n",
    "# Behavior matrix: count of different behavior for each baboon\n",
    "biadjacency = np.zeros((len(baboons), len(behaviors)))\n",
    "for k, v in dict_behaviors.items():\n",
    "    behav, cnt = np.unique(v, return_counts=True)\n",
    "    for b, c in zip(behav, cnt):\n",
    "        idx_baboon = np.where(names == k)[0][0]\n",
    "        biadjacency[idx_baboon][np.where(names_col == b)[0][0]] = c\n",
    "        \n",
    "biadjacency = sparse.csr_matrix(biadjacency)"
   ]
  },
  {
   "cell_type": "code",
   "execution_count": 4,
   "id": "1cc0b883-3ae3-4b2e-82ce-d853a415fa56",
   "metadata": {},
   "outputs": [
    {
     "data": {
      "text/plain": [
       "array(['Resting', 'Playing with', 'Grooming', 'Other', 'Invisible',\n",
       "       'Presenting', 'Touching', 'Grunting-Lipsmacking', 'Supplanting',\n",
       "       'Submission', 'Threatening', 'Carrying', 'Avoiding', 'Attacking'],\n",
       "      dtype='<U20')"
      ]
     },
     "execution_count": 4,
     "metadata": {},
     "output_type": "execute_result"
    }
   ],
   "source": [
    "# Most frequent behaviors\n",
    "names_col[np.argsort(-biadjacency.T.dot(np.ones((biadjacency.shape[0]))))]"
   ]
  },
  {
   "cell_type": "code",
   "execution_count": 5,
   "id": "58b9b859-1c1a-40f8-a072-88fc15ce6f73",
   "metadata": {},
   "outputs": [
    {
     "name": "stdout",
     "output_type": "stream",
     "text": [
      "19\n"
     ]
    }
   ],
   "source": [
    "# number of baboons\n",
    "print(len(names))"
   ]
  },
  {
   "cell_type": "code",
   "execution_count": 6,
   "id": "7bd3d632-1fb0-45c3-aef9-d8a5abb9bb78",
   "metadata": {},
   "outputs": [],
   "source": [
    "dict_babs = {n: i for i, n in zip(baboons, names)}"
   ]
  },
  {
   "cell_type": "code",
   "execution_count": 8,
   "id": "2241197b-843c-4758-a4c8-ad2e4b17b724",
   "metadata": {},
   "outputs": [],
   "source": [
    "# Add edges to graph\n",
    "edges = set()\n",
    "for r in res[1:]:\n",
    "    if r[0].split('/')[0] in ['13']:\n",
    "        if r[1] != '' and r[2] != '':\n",
    "            edges.add((dict_babs.get(r[1].strip()), dict_babs.get(r[2].strip())))\n",
    "            \n",
    "edges = [x for x in edges]"
   ]
  },
  {
   "cell_type": "code",
   "execution_count": 9,
   "id": "148a591d-c81e-41c9-8366-49a2ac1313f5",
   "metadata": {},
   "outputs": [
    {
     "name": "stdout",
     "output_type": "stream",
     "text": [
      "77\n"
     ]
    }
   ],
   "source": [
    "print(len(edges))"
   ]
  },
  {
   "cell_type": "code",
   "execution_count": 10,
   "id": "e602f924-9fe8-4b13-a012-d42eacb137b3",
   "metadata": {},
   "outputs": [],
   "source": [
    "adjacency = from_edge_list(edges).astype(bool)"
   ]
  },
  {
   "cell_type": "code",
   "execution_count": 39,
   "id": "3b15bdec-df23-4397-a3ed-186754e526e7",
   "metadata": {},
   "outputs": [
    {
     "data": {
      "image/svg+xml": [
       "<svg xmlns=\"http://www.w3.org/2000/svg\" width=\"500.0\" height=\"340\">\n",
       "<path stroke-width=\"1\" stroke=\"gray\" d=\"M 315 105 318 180\"/>\n",
       "<path stroke-width=\"1\" stroke=\"gray\" d=\"M 151 95 272 154\"/>\n",
       "<path stroke-width=\"1\" stroke=\"gray\" d=\"M 151 95 205 176\"/>\n",
       "<path stroke-width=\"1\" stroke=\"gray\" d=\"M 91 170 139 228\"/>\n",
       "<path stroke-width=\"1\" stroke=\"gray\" d=\"M 91 170 160 131\"/>\n",
       "<path stroke-width=\"1\" stroke=\"gray\" d=\"M 91 170 272 154\"/>\n",
       "<path stroke-width=\"1\" stroke=\"gray\" d=\"M 91 170 20 223\"/>\n",
       "<path stroke-width=\"1\" stroke=\"gray\" d=\"M 91 170 210 159\"/>\n",
       "<path stroke-width=\"1\" stroke=\"gray\" d=\"M 234 105 160 131\"/>\n",
       "<path stroke-width=\"1\" stroke=\"gray\" d=\"M 234 105 151 95\"/>\n",
       "<path stroke-width=\"1\" stroke=\"gray\" d=\"M 234 105 272 154\"/>\n",
       "<path stroke-width=\"1\" stroke=\"gray\" d=\"M 234 105 205 176\"/>\n",
       "<path stroke-width=\"1\" stroke=\"gray\" d=\"M 234 105 210 159\"/>\n",
       "<path stroke-width=\"1\" stroke=\"gray\" d=\"M 234 105 318 133\"/>\n",
       "<path stroke-width=\"1\" stroke=\"gray\" d=\"M 234 105 315 105\"/>\n",
       "<path stroke-width=\"1\" stroke=\"gray\" d=\"M 272 154 160 131\"/>\n",
       "<path stroke-width=\"1\" stroke=\"gray\" d=\"M 272 154 151 95\"/>\n",
       "<path stroke-width=\"1\" stroke=\"gray\" d=\"M 272 154 91 170\"/>\n",
       "<path stroke-width=\"1\" stroke=\"gray\" d=\"M 272 154 234 105\"/>\n",
       "<path stroke-width=\"1\" stroke=\"gray\" d=\"M 272 154 205 176\"/>\n",
       "<path stroke-width=\"1\" stroke=\"gray\" d=\"M 272 154 394 252\"/>\n",
       "<path stroke-width=\"1\" stroke=\"gray\" d=\"M 272 154 210 159\"/>\n",
       "<path stroke-width=\"1\" stroke=\"gray\" d=\"M 272 154 318 133\"/>\n",
       "<path stroke-width=\"1\" stroke=\"gray\" d=\"M 272 154 315 105\"/>\n",
       "<path stroke-width=\"1\" stroke=\"gray\" d=\"M 151 95 234 105\"/>\n",
       "<path stroke-width=\"1\" stroke=\"gray\" d=\"M 205 176 139 228\"/>\n",
       "<path stroke-width=\"1\" stroke=\"gray\" d=\"M 151 95 160 131\"/>\n",
       "<path stroke-width=\"1\" stroke=\"gray\" d=\"M 160 131 318 133\"/>\n",
       "<path stroke-width=\"1\" stroke=\"gray\" d=\"M 139 228 205 176\"/>\n",
       "<path stroke-width=\"1\" stroke=\"gray\" d=\"M 139 228 24 189\"/>\n",
       "<path stroke-width=\"1\" stroke=\"gray\" d=\"M 139 228 20 223\"/>\n",
       "<path stroke-width=\"1\" stroke=\"gray\" d=\"M 139 228 210 159\"/>\n",
       "<path stroke-width=\"1\" stroke=\"gray\" d=\"M 139 228 318 180\"/>\n",
       "<path stroke-width=\"1\" stroke=\"gray\" d=\"M 139 228 137 314\"/>\n",
       "<path stroke-width=\"1\" stroke=\"gray\" d=\"M 188 227 261 273\"/>\n",
       "<path stroke-width=\"1\" stroke=\"gray\" d=\"M 188 227 205 176\"/>\n",
       "<path stroke-width=\"1\" stroke=\"gray\" d=\"M 188 227 24 189\"/>\n",
       "<path stroke-width=\"1\" stroke=\"gray\" d=\"M 188 227 210 159\"/>\n",
       "<path stroke-width=\"1\" stroke=\"gray\" d=\"M 261 273 139 228\"/>\n",
       "<path stroke-width=\"1\" stroke=\"gray\" d=\"M 261 273 188 227\"/>\n",
       "<path stroke-width=\"1\" stroke=\"gray\" d=\"M 261 273 205 176\"/>\n",
       "<path stroke-width=\"1\" stroke=\"gray\" d=\"M 261 273 394 252\"/>\n",
       "<path stroke-width=\"1\" stroke=\"gray\" d=\"M 261 273 412 320\"/>\n",
       "<path stroke-width=\"1\" stroke=\"gray\" d=\"M 261 273 137 314\"/>\n",
       "<path stroke-width=\"1\" stroke=\"gray\" d=\"M 160 131 151 95\"/>\n",
       "<path stroke-width=\"1\" stroke=\"gray\" d=\"M 160 131 91 170\"/>\n",
       "<path stroke-width=\"1\" stroke=\"gray\" d=\"M 160 131 234 105\"/>\n",
       "<path stroke-width=\"1\" stroke=\"gray\" d=\"M 160 131 272 154\"/>\n",
       "<path stroke-width=\"1\" stroke=\"gray\" d=\"M 160 131 205 176\"/>\n",
       "<path stroke-width=\"1\" stroke=\"gray\" d=\"M 160 131 24 189\"/>\n",
       "<path stroke-width=\"1\" stroke=\"gray\" d=\"M 160 131 210 159\"/>\n",
       "<path stroke-width=\"1\" stroke=\"gray\" d=\"M 160 131 315 105\"/>\n",
       "<path stroke-width=\"1\" stroke=\"gray\" d=\"M 205 176 188 227\"/>\n",
       "<path stroke-width=\"1\" stroke=\"gray\" d=\"M 205 176 261 273\"/>\n",
       "<path stroke-width=\"1\" stroke=\"gray\" d=\"M 205 176 160 131\"/>\n",
       "<path stroke-width=\"1\" stroke=\"gray\" d=\"M 412 320 394 252\"/>\n",
       "<path stroke-width=\"1\" stroke=\"gray\" d=\"M 420 20 315 105\"/>\n",
       "<path stroke-width=\"1\" stroke=\"gray\" d=\"M 318 133 160 131\"/>\n",
       "<path stroke-width=\"1\" stroke=\"gray\" d=\"M 318 133 234 105\"/>\n",
       "<path stroke-width=\"1\" stroke=\"gray\" d=\"M 318 133 272 154\"/>\n",
       "<path stroke-width=\"1\" stroke=\"gray\" d=\"M 318 133 205 176\"/>\n",
       "<path stroke-width=\"1\" stroke=\"gray\" d=\"M 318 133 210 159\"/>\n",
       "<path stroke-width=\"1\" stroke=\"gray\" d=\"M 318 133 318 180\"/>\n",
       "<path stroke-width=\"1\" stroke=\"gray\" d=\"M 318 133 315 105\"/>\n",
       "<path stroke-width=\"1\" stroke=\"gray\" d=\"M 318 180 139 228\"/>\n",
       "<path stroke-width=\"1\" stroke=\"gray\" d=\"M 318 180 205 176\"/>\n",
       "<path stroke-width=\"1\" stroke=\"gray\" d=\"M 318 180 210 159\"/>\n",
       "<path stroke-width=\"1\" stroke=\"gray\" d=\"M 318 180 318 133\"/>\n",
       "<path stroke-width=\"1\" stroke=\"gray\" d=\"M 318 180 315 105\"/>\n",
       "<path stroke-width=\"1\" stroke=\"gray\" d=\"M 137 314 139 228\"/>\n",
       "<path stroke-width=\"1\" stroke=\"gray\" d=\"M 137 314 261 273\"/>\n",
       "<path stroke-width=\"1\" stroke=\"gray\" d=\"M 315 105 160 131\"/>\n",
       "<path stroke-width=\"1\" stroke=\"gray\" d=\"M 315 105 234 105\"/>\n",
       "<path stroke-width=\"1\" stroke=\"gray\" d=\"M 315 105 272 154\"/>\n",
       "<path stroke-width=\"1\" stroke=\"gray\" d=\"M 315 105 205 176\"/>\n",
       "<path stroke-width=\"1\" stroke=\"gray\" d=\"M 315 105 210 159\"/>\n",
       "<path stroke-width=\"1\" stroke=\"gray\" d=\"M 315 105 420 20\"/>\n",
       "<path stroke-width=\"1\" stroke=\"gray\" d=\"M 315 105 318 133\"/>\n",
       "<path stroke-width=\"1\" stroke=\"gray\" d=\"M 412 320 261 273\"/>\n",
       "<path stroke-width=\"1\" stroke=\"gray\" d=\"M 210 159 315 105\"/>\n",
       "<path stroke-width=\"1\" stroke=\"gray\" d=\"M 210 159 318 180\"/>\n",
       "<path stroke-width=\"1\" stroke=\"gray\" d=\"M 210 159 318 133\"/>\n",
       "<path stroke-width=\"1\" stroke=\"gray\" d=\"M 205 176 151 95\"/>\n",
       "<path stroke-width=\"1\" stroke=\"gray\" d=\"M 205 176 234 105\"/>\n",
       "<path stroke-width=\"1\" stroke=\"gray\" d=\"M 205 176 272 154\"/>\n",
       "<path stroke-width=\"1\" stroke=\"gray\" d=\"M 205 176 20 223\"/>\n",
       "<path stroke-width=\"1\" stroke=\"gray\" d=\"M 205 176 210 159\"/>\n",
       "<path stroke-width=\"1\" stroke=\"gray\" d=\"M 205 176 318 133\"/>\n",
       "<path stroke-width=\"1\" stroke=\"gray\" d=\"M 205 176 318 180\"/>\n",
       "<path stroke-width=\"1\" stroke=\"gray\" d=\"M 205 176 315 105\"/>\n",
       "<path stroke-width=\"1\" stroke=\"gray\" d=\"M 24 189 139 228\"/>\n",
       "<path stroke-width=\"1\" stroke=\"gray\" d=\"M 24 189 188 227\"/>\n",
       "<path stroke-width=\"1\" stroke=\"gray\" d=\"M 24 189 160 131\"/>\n",
       "<path stroke-width=\"1\" stroke=\"gray\" d=\"M 139 228 91 170\"/>\n",
       "<path stroke-width=\"1\" stroke=\"gray\" d=\"M 20 223 139 228\"/>\n",
       "<path stroke-width=\"1\" stroke=\"gray\" d=\"M 20 223 205 176\"/>\n",
       "<path stroke-width=\"1\" stroke=\"gray\" d=\"M 394 252 261 273\"/>\n",
       "<path stroke-width=\"1\" stroke=\"gray\" d=\"M 394 252 272 154\"/>\n",
       "<path stroke-width=\"1\" stroke=\"gray\" d=\"M 394 252 412 320\"/>\n",
       "<path stroke-width=\"1\" stroke=\"gray\" d=\"M 210 159 139 228\"/>\n",
       "<path stroke-width=\"1\" stroke=\"gray\" d=\"M 210 159 188 227\"/>\n",
       "<path stroke-width=\"1\" stroke=\"gray\" d=\"M 210 159 160 131\"/>\n",
       "<path stroke-width=\"1\" stroke=\"gray\" d=\"M 210 159 91 170\"/>\n",
       "<path stroke-width=\"1\" stroke=\"gray\" d=\"M 210 159 234 105\"/>\n",
       "<path stroke-width=\"1\" stroke=\"gray\" d=\"M 210 159 272 154\"/>\n",
       "<path stroke-width=\"1\" stroke=\"gray\" d=\"M 210 159 205 176\"/>\n",
       "<path stroke-width=\"1\" stroke=\"gray\" d=\"M 20 223 91 170\"/>\n",
       "<path stroke-width=\"1\" stroke=\"gray\" d=\"M 139 228 261 273\"/>\n",
       "<circle cx=\"315\" cy=\"105\" r=\"7.0\" style=\"fill:gray;stroke:black;stroke-width:1.0\"/>\n",
       "<circle cx=\"137\" cy=\"314\" r=\"7.0\" style=\"fill:gray;stroke:black;stroke-width:1.0\"/>\n",
       "<circle cx=\"318\" cy=\"180\" r=\"7.0\" style=\"fill:gray;stroke:black;stroke-width:1.0\"/>\n",
       "<circle cx=\"318\" cy=\"133\" r=\"7.0\" style=\"fill:gray;stroke:black;stroke-width:1.0\"/>\n",
       "<circle cx=\"420\" cy=\"20\" r=\"7.0\" style=\"fill:gray;stroke:black;stroke-width:1.0\"/>\n",
       "<circle cx=\"412\" cy=\"320\" r=\"7.0\" style=\"fill:gray;stroke:black;stroke-width:1.0\"/>\n",
       "<circle cx=\"210\" cy=\"159\" r=\"7.0\" style=\"fill:gray;stroke:black;stroke-width:1.0\"/>\n",
       "<circle cx=\"394\" cy=\"252\" r=\"7.0\" style=\"fill:gray;stroke:black;stroke-width:1.0\"/>\n",
       "<circle cx=\"20\" cy=\"223\" r=\"7.0\" style=\"fill:gray;stroke:black;stroke-width:1.0\"/>\n",
       "<circle cx=\"24\" cy=\"189\" r=\"7.0\" style=\"fill:gray;stroke:black;stroke-width:1.0\"/>\n",
       "<circle cx=\"205\" cy=\"176\" r=\"7.0\" style=\"fill:gray;stroke:black;stroke-width:1.0\"/>\n",
       "<circle cx=\"272\" cy=\"154\" r=\"7.0\" style=\"fill:gray;stroke:black;stroke-width:1.0\"/>\n",
       "<circle cx=\"234\" cy=\"105\" r=\"7.0\" style=\"fill:gray;stroke:black;stroke-width:1.0\"/>\n",
       "<circle cx=\"91\" cy=\"170\" r=\"7.0\" style=\"fill:gray;stroke:black;stroke-width:1.0\"/>\n",
       "<circle cx=\"151\" cy=\"95\" r=\"7.0\" style=\"fill:gray;stroke:black;stroke-width:1.0\"/>\n",
       "<circle cx=\"160\" cy=\"131\" r=\"7.0\" style=\"fill:gray;stroke:black;stroke-width:1.0\"/>\n",
       "<circle cx=\"261\" cy=\"273\" r=\"7.0\" style=\"fill:gray;stroke:black;stroke-width:1.0\"/>\n",
       "<circle cx=\"188\" cy=\"227\" r=\"7.0\" style=\"fill:gray;stroke:black;stroke-width:1.0\"/>\n",
       "<circle cx=\"139\" cy=\"228\" r=\"7.0\" style=\"fill:gray;stroke:black;stroke-width:1.0\"/>\n",
       "<text text-anchor=\"start\" x=\"325\" y=\"105\" font-size=\"12\">ANGELE</text><text text-anchor=\"start\" x=\"147\" y=\"314\" font-size=\"12\">ARIELLE</text><text text-anchor=\"start\" x=\"328\" y=\"180\" font-size=\"12\">ATMOSPHERE</text><text text-anchor=\"start\" x=\"328\" y=\"133\" font-size=\"12\">BOBO</text><text text-anchor=\"start\" x=\"430\" y=\"20\" font-size=\"12\">EWINE</text><text text-anchor=\"start\" x=\"422\" y=\"320\" font-size=\"12\">FANA</text><text text-anchor=\"start\" x=\"220\" y=\"159\" font-size=\"12\">FELIPE</text><text text-anchor=\"start\" x=\"404\" y=\"252\" font-size=\"12\">FEYA</text><text text-anchor=\"start\" x=\"30\" y=\"223\" font-size=\"12\">HARLEM</text><text text-anchor=\"start\" x=\"34\" y=\"189\" font-size=\"12\">KALI</text><text text-anchor=\"start\" x=\"215\" y=\"176\" font-size=\"12\">LIPS</text><text text-anchor=\"start\" x=\"282\" y=\"154\" font-size=\"12\">LOME</text><text text-anchor=\"start\" x=\"244\" y=\"105\" font-size=\"12\">MAKO</text><text text-anchor=\"start\" x=\"101\" y=\"170\" font-size=\"12\">MALI</text><text text-anchor=\"start\" x=\"161\" y=\"95\" font-size=\"12\">MUSE</text><text text-anchor=\"start\" x=\"170\" y=\"131\" font-size=\"12\">NEKKE</text><text text-anchor=\"start\" x=\"271\" y=\"273\" font-size=\"12\">PETOULETTE</text><text text-anchor=\"start\" x=\"198\" y=\"227\" font-size=\"12\">PIPO</text><text text-anchor=\"start\" x=\"149\" y=\"228\" font-size=\"12\">VIOLETTE</text></svg>"
      ],
      "text/plain": [
       "<IPython.core.display.SVG object>"
      ]
     },
     "execution_count": 39,
     "metadata": {},
     "output_type": "execute_result"
    }
   ],
   "source": [
    "image = svg_graph(adjacency, names=names)\n",
    "SVG(image)"
   ]
  },
  {
   "cell_type": "code",
   "execution_count": 13,
   "id": "ee8f35c0-276a-425c-8acc-49928f3adbb6",
   "metadata": {},
   "outputs": [
    {
     "name": "stdout",
     "output_type": "stream",
     "text": [
      "(19, 19)\n",
      "(19, 14)\n"
     ]
    }
   ],
   "source": [
    "print(adjacency.shape)\n",
    "print(biadjacency.shape)"
   ]
  },
  {
   "cell_type": "code",
   "execution_count": 16,
   "id": "e3852b9b-69de-427a-8569-517106e6a5bd",
   "metadata": {},
   "outputs": [
    {
     "data": {
      "text/plain": [
       "{4: 'EWINE'}"
      ]
     },
     "execution_count": 16,
     "metadata": {},
     "output_type": "execute_result"
    }
   ],
   "source": [
    "{i: n for i, n in enumerate(names) if n == 'EWINE'}"
   ]
  },
  {
   "cell_type": "code",
   "execution_count": 19,
   "id": "452e14d7-5f9c-4c27-8a08-57bea57b2a77",
   "metadata": {},
   "outputs": [
    {
     "data": {
      "text/plain": [
       "array(['Supplanting', 'Invisible', 'Other', 'Resting'], dtype='<U20')"
      ]
     },
     "execution_count": 19,
     "metadata": {},
     "output_type": "execute_result"
    }
   ],
   "source": [
    "names_col[biadjacency[4, :].indices]"
   ]
  },
  {
   "cell_type": "code",
   "execution_count": 20,
   "id": "b4ab7260-282f-4152-93ad-ae0c717a29ed",
   "metadata": {},
   "outputs": [
    {
     "data": {
      "text/plain": [
       "{15: 'NEKKE'}"
      ]
     },
     "execution_count": 20,
     "metadata": {},
     "output_type": "execute_result"
    }
   ],
   "source": [
    "{i: n for i, n in enumerate(names) if n == 'NEKKE'}"
   ]
  },
  {
   "cell_type": "code",
   "execution_count": 21,
   "id": "c411c5d1-c589-4bcc-bef8-e2d1f2e7ae95",
   "metadata": {},
   "outputs": [
    {
     "data": {
      "text/plain": [
       "array(['Touching', 'Carrying', 'Invisible', 'Playing with', 'Other',\n",
       "       'Resting'], dtype='<U20')"
      ]
     },
     "execution_count": 21,
     "metadata": {},
     "output_type": "execute_result"
    }
   ],
   "source": [
    "names_col[biadjacency[15, :].indices]"
   ]
  },
  {
   "cell_type": "code",
   "execution_count": 22,
   "id": "798dbe35-c505-4fcd-810b-8c77d6a98c6e",
   "metadata": {},
   "outputs": [
    {
     "data": {
      "text/plain": [
       "{11: 'LOME'}"
      ]
     },
     "execution_count": 22,
     "metadata": {},
     "output_type": "execute_result"
    }
   ],
   "source": [
    "{i: n for i, n in enumerate(names) if n == 'LOME'}"
   ]
  },
  {
   "cell_type": "code",
   "execution_count": 23,
   "id": "c276c227-dfff-4bc9-9861-3a28a2912e28",
   "metadata": {},
   "outputs": [
    {
     "data": {
      "text/plain": [
       "array(['Submission', 'Grooming', 'Supplanting', 'Invisible',\n",
       "       'Playing with', 'Other', 'Resting', 'Attacking'], dtype='<U20')"
      ]
     },
     "execution_count": 23,
     "metadata": {},
     "output_type": "execute_result"
    }
   ],
   "source": [
    "names_col[biadjacency[11, :].indices]"
   ]
  },
  {
   "cell_type": "code",
   "execution_count": 27,
   "id": "ddc4f4ab-a151-42d5-9364-c2e4a9f62492",
   "metadata": {},
   "outputs": [
    {
     "data": {
      "text/plain": [
       "{16: 'PETOULETTE'}"
      ]
     },
     "execution_count": 27,
     "metadata": {},
     "output_type": "execute_result"
    }
   ],
   "source": [
    "{i: n for i, n in enumerate(names) if n == 'PETOULETTE'}"
   ]
  },
  {
   "cell_type": "code",
   "execution_count": 28,
   "id": "08422578-03a4-464f-9d64-dafb286dcb08",
   "metadata": {},
   "outputs": [
    {
     "data": {
      "text/plain": [
       "array(['Touching', 'Grooming', 'Grunting-Lipsmacking', 'Presenting',\n",
       "       'Other', 'Resting'], dtype='<U20')"
      ]
     },
     "execution_count": 28,
     "metadata": {},
     "output_type": "execute_result"
    }
   ],
   "source": [
    "names_col[biadjacency[16, :].indices]"
   ]
  },
  {
   "cell_type": "code",
   "execution_count": 30,
   "id": "78152595-f561-4f93-9e00-3efac7c3e6ed",
   "metadata": {},
   "outputs": [
    {
     "name": "stdout",
     "output_type": "stream",
     "text": [
      "[[ 0.  0.  3.  1.  0.  0.  0.  0.  0.  0.  0.  3. 21.  0.]\n",
      " [ 0.  0.  1.  0.  0.  1.  0.  1.  0.  0.  0.  1.  1.  0.]\n",
      " [ 0.  0.  6.  0.  0.  0.  0.  0.  0.  0.  1.  1.  5.  0.]\n",
      " [ 0.  0.  6.  2.  0.  2.  0.  0.  2.  0.  0.  4. 10.  0.]\n",
      " [ 0.  0.  0.  1.  0.  0.  0.  5.  0.  0.  0.  5.  2.  0.]\n",
      " [ 1.  0.  2.  0.  0.  0.  0.  2.  1.  0.  0.  5.  3.  0.]\n",
      " [ 1.  0.  7.  1.  0.  3.  1.  3.  3.  0.  1.  6. 28.  0.]\n",
      " [ 1.  0.  3.  0.  0.  0.  0.  1.  1.  0.  1.  3.  5.  0.]\n",
      " [ 0.  0.  4.  0.  0.  0.  0.  1.  0.  1.  0.  1.  3.  0.]\n",
      " [ 0.  0.  1.  1.  0.  1.  0.  1.  0.  0.  0.  1.  4.  0.]\n",
      " [ 1.  1.  6.  0.  2.  0.  0.  5.  0.  0. 20.  3. 13.  0.]\n",
      " [ 0.  1.  2.  1.  0.  0.  0.  2.  0.  0. 20.  3. 15.  1.]\n",
      " [ 0.  0.  2.  0.  0.  0.  0.  1.  0.  0. 19.  2. 11.  0.]\n",
      " [ 1.  1.  3.  0.  0.  0.  0.  2.  0.  0.  5.  2.  2.  1.]\n",
      " [ 0.  0.  0.  0.  0.  0.  0.  0.  0.  0. 33.  0. 13.  0.]\n",
      " [ 3.  0.  0.  0.  0.  0.  1.  1.  0.  0. 48.  4. 15.  0.]\n",
      " [ 2.  0.  4.  0.  0.  2.  0.  0.  3.  0.  0.  1.  4.  0.]\n",
      " [ 2.  0.  1.  0.  0.  3.  0.  2.  3.  0.  0.  5.  4.  0.]\n",
      " [ 0.  1.  5.  1.  2.  0.  0.  2.  2.  1.  0.  4.  7.  0.]]\n"
     ]
    }
   ],
   "source": [
    "print(biadjacency.todense())"
   ]
  },
  {
   "cell_type": "code",
   "execution_count": 43,
   "id": "57c92f61-94c5-4199-b826-32d2a5d12d3b",
   "metadata": {},
   "outputs": [
    {
     "data": {
      "text/plain": [
       "{5: 'FANA', 7: 'FEYA', 16: 'PETOULETTE'}"
      ]
     },
     "execution_count": 43,
     "metadata": {},
     "output_type": "execute_result"
    }
   ],
   "source": [
    "{i: n for i, n in enumerate(names) if n in ['PETOULETTE', 'FEYA', 'FANA']}"
   ]
  },
  {
   "cell_type": "code",
   "execution_count": 44,
   "id": "2e97b951-7dad-4813-b7cd-0e658affc6ae",
   "metadata": {},
   "outputs": [
    {
     "name": "stdout",
     "output_type": "stream",
     "text": [
      "[[1. 0. 2. 0. 0. 0. 0. 2. 1. 0. 0. 5. 3. 0.]\n",
      " [1. 0. 3. 0. 0. 0. 0. 1. 1. 0. 1. 3. 5. 0.]\n",
      " [2. 0. 4. 0. 0. 2. 0. 0. 3. 0. 0. 1. 4. 0.]]\n"
     ]
    }
   ],
   "source": [
    "print(biadjacency[[5, 7, 16], :].todense())"
   ]
  },
  {
   "cell_type": "markdown",
   "id": "4344bdaf-dada-4b8e-99bd-a4c8b339e4a4",
   "metadata": {},
   "source": [
    "## 2. Save dataset"
   ]
  },
  {
   "cell_type": "code",
   "execution_count": 52,
   "id": "ddbc789a-adfc-43ac-9fd3-86a32b177bcf",
   "metadata": {},
   "outputs": [],
   "source": [
    "dataset = Bunch()\n",
    "dataset.adjacency = adjacency\n",
    "dataset.biadjacency = biadjacency\n",
    "dataset.names = names\n",
    "dataset.names_col = names_col\n",
    "\n",
    "meta = Bunch()\n",
    "meta.name = \"Baboon\\'s interactions on 13/06/2019.\"\n",
    "meta.description = 'Links connecting baboons between each other if they interacted at least once on 13/06/2019.'\n",
    "meta.source = 'http://www.sociopatterns.org/datasets/baboons-interactions/'\n",
    "meta.date = 'October 2022'\n",
    "dataset.meta = meta"
   ]
  },
  {
   "cell_type": "code",
   "execution_count": 53,
   "id": "1a0960d0-4969-4449-9371-355857df52fd",
   "metadata": {},
   "outputs": [],
   "source": [
    "with open('data/baboons', 'bw') as f:\n",
    "    pickle.dump(dataset, f)"
   ]
  },
  {
   "cell_type": "code",
   "execution_count": 54,
   "id": "03940303-8e70-4d90-ba3e-f434f44dc1a0",
   "metadata": {},
   "outputs": [],
   "source": [
    "with open('data/baboons', 'br') as f:\n",
    "    dataset = pickle.load(f)"
   ]
  },
  {
   "cell_type": "code",
   "execution_count": 55,
   "id": "2c4a77f4-badc-4f53-8afa-6a1803214575",
   "metadata": {},
   "outputs": [
    {
     "data": {
      "text/plain": [
       "<19x19 sparse matrix of type '<class 'numpy.bool_'>'\n",
       "\twith 108 stored elements in Compressed Sparse Row format>"
      ]
     },
     "execution_count": 55,
     "metadata": {},
     "output_type": "execute_result"
    }
   ],
   "source": [
    "graph = dataset\n",
    "graph.adjacency"
   ]
  },
  {
   "cell_type": "code",
   "execution_count": null,
   "id": "6ee66d7b-3c0f-48af-954c-17b8056c265a",
   "metadata": {},
   "outputs": [],
   "source": []
  }
 ],
 "metadata": {
  "kernelspec": {
   "display_name": "COMEG",
   "language": "python",
   "name": "comeg"
  },
  "language_info": {
   "codemirror_mode": {
    "name": "ipython",
    "version": 3
   },
   "file_extension": ".py",
   "mimetype": "text/x-python",
   "name": "python",
   "nbconvert_exporter": "python",
   "pygments_lexer": "ipython3",
   "version": "3.9.13"
  }
 },
 "nbformat": 4,
 "nbformat_minor": 5
}
