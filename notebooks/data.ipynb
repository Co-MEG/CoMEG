{
 "cells": [
  {
   "cell_type": "code",
   "execution_count": 43,
   "metadata": {},
   "outputs": [],
   "source": [
    "import json\n",
    "from collections import Counter\n",
    "import matplotlib.pyplot as plt\n",
    "\n",
    "import networkx as nx\n",
    "from networkx.algorithms import bipartite"
   ]
  },
  {
   "cell_type": "markdown",
   "metadata": {},
   "source": [
    "## Book attributes"
   ]
  },
  {
   "cell_type": "code",
   "execution_count": 2,
   "metadata": {},
   "outputs": [],
   "source": [
    "books_data = open(\"data/goodreads_books_poetry.json\")"
   ]
  },
  {
   "cell_type": "markdown",
   "metadata": {},
   "source": [
    "Some attributes are excluded to reduce the size of information kept."
   ]
  },
  {
   "cell_type": "code",
   "execution_count": 3,
   "metadata": {},
   "outputs": [
    {
     "name": "stdout",
     "output_type": "stream",
     "text": [
      "CPU times: user 893 ms, sys: 34.3 ms, total: 928 ms\n",
      "Wall time: 928 ms\n"
     ]
    }
   ],
   "source": [
    "%%time\n",
    "\n",
    "books = {}\n",
    "excluded_attributes = ['popular_shelves', 'description', 'link', 'url', 'image_url']\n",
    "\n",
    "for i, book in enumerate(books_data):\n",
    "    data = json.loads(book)\n",
    "    books[data['book_id']] = {attr: val for attr, val in data.items() if attr not in excluded_attributes}"
   ]
  },
  {
   "cell_type": "code",
   "execution_count": 4,
   "metadata": {},
   "outputs": [
    {
     "name": "stdout",
     "output_type": "stream",
     "text": [
      "36514\n"
     ]
    }
   ],
   "source": [
    "# Should be 36 514\n",
    "print(len(books))"
   ]
  },
  {
   "cell_type": "markdown",
   "metadata": {},
   "source": [
    "## User-book interactions"
   ]
  },
  {
   "cell_type": "code",
   "execution_count": 5,
   "metadata": {},
   "outputs": [],
   "source": [
    "user_book_data = open(\"data/goodreads_interactions_poetry.json\")"
   ]
  },
  {
   "cell_type": "code",
   "execution_count": 6,
   "metadata": {},
   "outputs": [
    {
     "name": "stdout",
     "output_type": "stream",
     "text": [
      "CPU times: user 9.73 s, sys: 290 ms, total: 10 s\n",
      "Wall time: 10 s\n"
     ]
    }
   ],
   "source": [
    "%%time\n",
    "\n",
    "links = []\n",
    "user_ids = set()\n",
    "book_ids = set()\n",
    "\n",
    "for review in user_book_data:\n",
    "    data = json.loads(review)\n",
    "\n",
    "    u = data.get('user_id')\n",
    "    user_ids.add(u)\n",
    "    v = data.get('book_id')\n",
    "    book_ids.add(v)\n",
    "    attr = {'is_read': data.get('is_read'),\n",
    "            'rating': data.get('rating')}\n",
    "    link = {'u': u, 'v': v, 'attr': attr}\n",
    "    links.append(link)"
   ]
  },
  {
   "cell_type": "code",
   "execution_count": 7,
   "metadata": {},
   "outputs": [
    {
     "name": "stdout",
     "output_type": "stream",
     "text": [
      "2734350\n"
     ]
    }
   ],
   "source": [
    "# Should be 2 734 350\n",
    "print(len(links))"
   ]
  },
  {
   "cell_type": "code",
   "execution_count": 8,
   "metadata": {},
   "outputs": [
    {
     "name": "stdout",
     "output_type": "stream",
     "text": [
      "{'u': '8842281e1d1347389f2ab93d60773d4d', 'v': '1384', 'attr': {'is_read': True, 'rating': 4}}\n"
     ]
    }
   ],
   "source": [
    "print(links[0])"
   ]
  },
  {
   "cell_type": "markdown",
   "metadata": {},
   "source": [
    "## Bipartite Graph "
   ]
  },
  {
   "cell_type": "code",
   "execution_count": 9,
   "metadata": {},
   "outputs": [],
   "source": [
    "g = {}\n",
    "g['V'] = {'left': list(user_ids), 'right': list(book_ids)}\n",
    "g['E'] = links"
   ]
  },
  {
   "cell_type": "code",
   "execution_count": 10,
   "metadata": {},
   "outputs": [
    {
     "name": "stdout",
     "output_type": "stream",
     "text": [
      "Number of users: 377799\n",
      "Number of books: 36514\n",
      "Number of reviews: 2734350\n"
     ]
    }
   ],
   "source": [
    "print(f\"Number of users: {len(g['V']['left'])}\")\n",
    "print(f\"Number of books: {len(g['V']['right'])}\")\n",
    "print(f\"Number of reviews: {len(g['E'])}\")"
   ]
  },
  {
   "cell_type": "code",
   "execution_count": 15,
   "metadata": {},
   "outputs": [],
   "source": [
    "edges = [(elem.get('u'), elem.get('v')) for elem in g['E']]\n",
    "\n",
    "G = nx.Graph()\n",
    "# Add nodes\n",
    "G.add_nodes_from(list(user_ids), bipartite=0)\n",
    "G.add_nodes_from(list(book_ids), bipartite=1)\n",
    "# Add edges\n",
    "G.add_edges_from(edges)"
   ]
  },
  {
   "cell_type": "markdown",
   "metadata": {},
   "source": [
    "### Degree distribution"
   ]
  },
  {
   "cell_type": "code",
   "execution_count": 34,
   "metadata": {},
   "outputs": [],
   "source": [
    "def plot_distrib(dict_values, ax, xlabel='degree', log=True, title=None):\n",
    "    values = [v for k, v in dict_values.items()]\n",
    "    counter = Counter(values)\n",
    "    x, y = zip(*counter.items())\n",
    "    ax.scatter(x, y, marker='+')\n",
    "    ax.legend()\n",
    "    ax.set_title(title)\n",
    "    if log and len(y) > 100:\n",
    "        ax.set_xscale('log')\n",
    "        ax.set_xlabel(xlabel + ' (log)')\n",
    "    else:\n",
    "        ax.set_xlabel(xlabel)\n",
    "    ax.set_ylabel('Frequency' + ' (log)')\n",
    "    ax.set_yscale('log')"
   ]
  },
  {
   "cell_type": "code",
   "execution_count": 35,
   "metadata": {},
   "outputs": [
    {
     "name": "stderr",
     "output_type": "stream",
     "text": [
      "No artists with labels found to put in legend.  Note that artists whose label start with an underscore are ignored when legend() is called with no argument.\n",
      "No artists with labels found to put in legend.  Note that artists whose label start with an underscore are ignored when legend() is called with no argument.\n"
     ]
    },
    {
     "data": {
      "image/png": "[encoded data removed]",
      "text/plain": [
       "<Figure size 1080x504 with 2 Axes>"
      ]
     },
     "metadata": {
      "needs_background": "light"
     },
     "output_type": "display_data"
    }
   ],
   "source": [
    "fig, ax = plt.subplots(1, 2, figsize=(15, 7))\n",
    "plot_distrib(dict(G.degree(user_ids)), ax=ax[0], title='User degree distribution')\n",
    "plot_distrib(dict(G.degree(book_ids)), ax=ax[1], title='Book degree distribution');"
   ]
  },
  {
   "cell_type": "markdown",
   "metadata": {},
   "source": [
    "### Connected components"
   ]
  },
  {
   "cell_type": "code",
   "execution_count": 42,
   "metadata": {},
   "outputs": [
    {
     "name": "stdout",
     "output_type": "stream",
     "text": [
      "Graph is connected: False\n",
      "Number of connected components: 105\n",
      "Size of connected components: [414093, 2, 2, 2, 2, 2, 2, 3, 2, 2, 2, 2, 3, 2, 2, 3, 3, 3, 3, 2, 2, 2, 2, 2, 2, 2, 2, 2, 2, 2, 2, 3, 2, 2, 2, 3, 2, 2, 2, 2, 2, 2, 2, 2, 2, 2, 2, 2, 2, 2, 2, 2, 2, 2, 2, 2, 4, 2, 2, 2, 2, 2, 2, 2, 2, 2, 2, 2, 2, 2, 2, 2, 2, 2, 2, 2, 2, 3, 3, 2, 2, 2, 2, 2, 2, 2, 2, 2, 2, 2, 2, 2, 2, 2, 2, 2, 2, 2, 2, 2, 2, 2, 2, 2, 2]\n"
     ]
    }
   ],
   "source": [
    "print(f'Graph is connected: {nx.is_connected(G)}')\n",
    "print(f'Number of connected components: {nx.number_connected_components(G)}')\n",
    "print(f'Size of connected components: {[len(i) for i in nx.connected_components(G)]}')"
   ]
  },
  {
   "cell_type": "code",
   "execution_count": 48,
   "metadata": {},
   "outputs": [
    {
     "name": "stdout",
     "output_type": "stream",
     "text": [
      "Density for users: 0.0001982\n",
      "Density for books: 0.0001982\n"
     ]
    }
   ],
   "source": [
    "print(f'Density for users: {bipartite.density(G, user_ids):.7f}')\n",
    "print(f'Density for books: {bipartite.density(G, book_ids):.7f}')"
   ]
  },
  {
   "cell_type": "code",
   "execution_count": null,
   "metadata": {},
   "outputs": [],
   "source": []
  }
 ],
 "metadata": {
  "kernelspec": {
   "display_name": "Python 3.9.12 ('COMEG')",
   "language": "python",
   "name": "python3"
  },
  "language_info": {
   "codemirror_mode": {
    "name": "ipython",
    "version": 3
   },
   "file_extension": ".py",
   "mimetype": "text/x-python",
   "name": "python",
   "nbconvert_exporter": "python",
   "pygments_lexer": "ipython3",
   "version": "3.9.12"
  },
  "orig_nbformat": 4,
  "vscode": {
   "interpreter": {
    "hash": "dcdfb8c5837fd233c20aa71b627ed810898cb6eea01e1926ca9a85c60e664a2a"
   }
  }
 },
 "nbformat": 4,
 "nbformat_minor": 2
}
