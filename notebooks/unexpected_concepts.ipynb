{
 "cells": [
  {
   "cell_type": "markdown",
   "id": "4f5a67d5-345c-4082-a5b3-0b83ad8ca410",
   "metadata": {},
   "source": [
    "# Mining Unexpected Concepts\n",
    "---"
   ]
  },
  {
   "cell_type": "markdown",
   "id": "2cd8194a-e301-4515-ad6d-42c07d453b7a",
   "metadata": {},
   "source": [
    "**Libraries**"
   ]
  },
  {
   "cell_type": "code",
   "execution_count": 1,
   "id": "04789468-7dd5-4b95-ac2b-3b980acd152c",
   "metadata": {},
   "outputs": [],
   "source": [
    "from collections import defaultdict\n",
    "from contextlib import redirect_stdout\n",
    "from IPython.display import SVG\n",
    "import matplotlib.pyplot as plt\n",
    "import numpy as np\n",
    "import pickle\n",
    "from random import random\n",
    "import seaborn as sns\n",
    "from scipy import sparse, special\n",
    "\n",
    "from sknetwork.data import load_netset, from_edge_list\n",
    "from sknetwork.utils import get_degrees, get_membership, get_neighbors\n",
    "from sknetwork.ranking import top_k\n",
    "from sknetwork.topology import Triangles, Cliques\n",
    "from sknetwork.visualization import svg_graph"
   ]
  },
  {
   "cell_type": "markdown",
   "id": "9a1eb4ec-9ac8-4507-9bcb-fdecf2ab4953",
   "metadata": {},
   "source": [
    "## Data"
   ]
  },
  {
   "cell_type": "code",
   "execution_count": 2,
   "id": "ab41cb9f-cf67-4790-aa58-ffead219ca4a",
   "metadata": {},
   "outputs": [],
   "source": [
    "# Load dataset\n",
    "with open('data/baboons', 'br') as f:\n",
    "    dataset = pickle.load(f)\n",
    "    \n",
    "adjacency = dataset.adjacency\n",
    "biadjacency = dataset.biadjacency\n",
    "names = dataset.names\n",
    "names_col = dataset.names_col"
   ]
  },
  {
   "cell_type": "code",
   "execution_count": 3,
   "id": "ae4b1d2e-8f73-4233-b1e4-3f1770c157fc",
   "metadata": {},
   "outputs": [
    {
     "data": {
      "text/plain": [
       "array(['ANGELE', 'ARIELLE', 'ATMOSPHERE', 'BOBO', 'EWINE', 'FANA',\n",
       "       'FELIPE', 'FEYA', 'HARLEM', 'KALI', 'LIPS', 'LOME', 'MAKO', 'MALI',\n",
       "       'MUSE', 'NEKKE', 'PETOULETTE', 'PIPO', 'VIOLETTE'], dtype='<U10')"
      ]
     },
     "execution_count": 3,
     "metadata": {},
     "output_type": "execute_result"
    }
   ],
   "source": [
    "names"
   ]
  },
  {
   "cell_type": "code",
   "execution_count": 4,
   "id": "b0285187-17fd-4d9a-9791-42e44a94958f",
   "metadata": {},
   "outputs": [
    {
     "data": {
      "text/plain": [
       "array(['Touching', 'Submission', 'Embracing', 'Grooming', 'Supplanting',\n",
       "       'Grunting-Lipsmacking', 'Mounting', 'Threatening', 'Carrying',\n",
       "       'Invisible', 'Chasing', 'Presenting', 'Avoiding', 'Playing with',\n",
       "       'Other', 'Copulating', 'Resting', 'Attacking'], dtype='<U20')"
      ]
     },
     "execution_count": 4,
     "metadata": {},
     "output_type": "execute_result"
    }
   ],
   "source": [
    "names_col"
   ]
  },
  {
   "cell_type": "markdown",
   "id": "306c944b-b7b8-4844-ae25-2e87972d05d2",
   "metadata": {
    "tags": []
   },
   "source": [
    "## Algorithm"
   ]
  },
  {
   "cell_type": "code",
   "execution_count": 5,
   "id": "c3010d53-b071-41f5-a0a3-e042a6b7c651",
   "metadata": {},
   "outputs": [],
   "source": [
    "def mdl_graph(adjacency):\n",
    "    n = adjacency.shape[0]\n",
    "\n",
    "    # density\n",
    "    d = np.sum(adjacency) / (n * (n - 1))\n",
    "    \n",
    "    # nodes\n",
    "    nodes_mdl = np.log2(n)\n",
    "    \n",
    "    # edges\n",
    "    degrees = adjacency.dot(np.ones(n))\n",
    "    max_degree = np.max(degrees)\n",
    "    edges_mdl = (n + 1) * np.log2(max_degree + 1) + np.sum([np.log2(special.comb(n, deg)) for deg in degrees])\n",
    "\n",
    "    return (nodes_mdl + edges_mdl)\n",
    "\n",
    "def build_random_graph(n, p):\n",
    "    edges = []\n",
    "    lp = np.log(1 - p)\n",
    "    v = 1\n",
    "    w = -1\n",
    "    while v < n:\n",
    "        lr = np.log(1 - random())\n",
    "        w = w + 1 + int(lr / lp)\n",
    "        while w >= v and v < n:\n",
    "            w = w - v\n",
    "            v = v + 1\n",
    "        if v < n:\n",
    "            edges.append((w, v))\n",
    "    \n",
    "    v = 1\n",
    "    w = -1   \n",
    "    while v < n:\n",
    "        lr = np.log(1 - random())\n",
    "        w = w + 1 + int(lr / lp)\n",
    "        while w >= v and v < n:\n",
    "            w = w - v\n",
    "            v = v + 1\n",
    "        if v < n:\n",
    "            edges.append((v, w))\n",
    "    try:\n",
    "        g = from_edge_list(edges, directed=True, matrix_only=True)\n",
    "    except ValueError:\n",
    "        return None\n",
    "\n",
    "    return g\n",
    "\n",
    "def entropy(prob):\n",
    "    return prob * -np.log2(prob)\n",
    "\n",
    "def desc_complexity(attrs):\n",
    "    if isinstance(attrs, int):\n",
    "        attrs = [attrs]\n",
    "    prob = 1\n",
    "    for attr in attrs:\n",
    "        prob *= degrees[attr] / np.sum(degrees)\n",
    "    entr = entropy(prob)\n",
    "    return generation_complexity(biadjacency.shape[1], len(attrs)) * entr"
   ]
  },
  {
   "cell_type": "code",
   "execution_count": 221,
   "id": "b0c0cb64-4997-466a-88dd-4be23a18eb2e",
   "metadata": {},
   "outputs": [],
   "source": [
    "def in_close(adjacency, context, extents, intents, unexs, unexs_g, r, y, depth, degs, gain, verbose):\n",
    "    \n",
    "    support_obj = 3\n",
    "    support_attr = 10\n",
    "    delta = 0.5\n",
    "    \n",
    "    global gain_unex\n",
    "    # --------------------\n",
    "    \n",
    "    global r_new\n",
    "    r_new = r_new + 1\n",
    "    attributes = np.arange(0, context.shape[1])\n",
    "    \n",
    "    for n_iter, j in enumerate(attributes[y:]):\n",
    "        \n",
    "        try:\n",
    "            extents[r_new] = []\n",
    "            unexs[r_new] = 0\n",
    "            unexs_g[r_new] = 0\n",
    "        except IndexError:\n",
    "            extents.append([])\n",
    "            unexs.append(0)\n",
    "            unexs_g.append(0)\n",
    "          \n",
    "        # Form a new extent by adding extension of attribute j to current concept extent\n",
    "        extension_j = get_neighbors(context, node=j, transpose=True)\n",
    "        new_extent = np.array(list(set(extents[r]).intersection(set(extension_j))))\n",
    "        extents[r_new] = new_extent\n",
    "        new_extent_size = len(new_extent)\n",
    "        \n",
    "        if new_extent_size >= support_obj:\n",
    "            if verbose:\n",
    "                print(f'n_iter:{n_iter} - extents: {extents[r]} - intents: {intents[r]}')\n",
    "                print(f'  Candidate attr: {j} {sorted_names_col[j]}')\n",
    "                print(f'  new extent: {new_extent}')\n",
    "                \n",
    "            #if new_extent_size < len(extents[r]):\n",
    "            # Graph unexpectedness\n",
    "            g_r_new = adjacency[new_extent][:, new_extent]\n",
    "            complexity_desc_g = mdl_graph(g_r_new)\n",
    "            complexity_gen_g = np.mean(complexity_gen_graphs.get(new_extent_size))\n",
    "            unex_g = complexity_gen_g - complexity_desc_g\n",
    "            unexs_g.append(unex_g)\n",
    "            if verbose:\n",
    "                print(f'  U(G)={unex_g} (cw={complexity_gen_g} - c={complexity_desc_g})')\n",
    "            \n",
    "            new_intent = np.array(list(sorted(set(intents[r]).union(set([j])))))\n",
    "            new_intent_size = len(new_intent)            \n",
    "                \n",
    "            if new_intent_size <= support_attr:\n",
    "            \n",
    "                # Attributes unexpectedness\n",
    "                complexity_gen_a = np.log2(special.comb(context.shape[1], new_intent_size))\n",
    "                complexity_desc_a = 0\n",
    "                for a in new_intent:\n",
    "                    complexity_desc_a += np.log2(degs[a])\n",
    "                unex_a = complexity_gen_a - complexity_desc_a\n",
    "                if verbose:\n",
    "                    print(f'  U(A)={unex_a} (cw={complexity_gen_a} - c={complexity_desc_a})')\n",
    "\n",
    "                # Total Unexpectedness\n",
    "                unex = unex_g + unex_a\n",
    "                if verbose:\n",
    "                    print(f'  U: {unex}')\n",
    "                unexs[r_new] = unex\n",
    "\n",
    "                if verbose:\n",
    "                    print(f'  U[r_new]={unex} - U[r]={unexs[r]}  = {unex - unexs[r]}')\n",
    "\n",
    "                gain_unex.append(unex - unexs[r])\n",
    "                if verbose:\n",
    "                    print(f'  gain unex: {gain_unex}')\n",
    "                    print(f'  Gain unex diff: {np.abs(gain_unex[-2]-gain_unex[-1])}')\n",
    "                    \n",
    "                if new_extent_size == len(extents[r]):\n",
    "                    \n",
    "                    #if unex - unexs[r] > 4 and r >=0 and np.abs(gain_unex[-2]-gain_unex[-1])>1:\n",
    "                    if ((unex - unexs[r] > 0) and (gain_unex[-2] - gain_unex[-1]) > delta) or (r == 0):\n",
    "                        intents[r] = np.array(list(sorted(set(intents[r]).union(set([j])))))\n",
    "                        extents[r] = extents[r_new]\n",
    "                        unexs_g[r] = unex_g\n",
    "                        unexs[r] = unex\n",
    "                        if verbose:\n",
    "                            print(f'  Attribute {j}-{sorted_names_col[j]} added')\n",
    "                    else:\n",
    "                        \"\"\"if verbose:\n",
    "                            print(f'  r_new: {r_new} - r: {r}')\n",
    "                            print(f'  gain_unex[(r_new-r):]: {gain_unex[(r_new - r):]}')\n",
    "                            print(f'   gain_unex[-len(intents[r])+1]= {gain_unex[-len(intents[r])+1]} - {len(intents[r])+1}')\n",
    "                            print(f'  --> Stop branch recursion because unexpectedness gain is too low abs({(gain_unex[-2])}-{gain_unex[-1]})={np.abs(gain_unex[-2]-gain_unex[-1])}')\n",
    "                            print('\\n')\n",
    "                        \n",
    "                        del gain_unex[(r_new-r):]\n",
    "                        #del gain_unex[(len(intents[r]+1)):]\n",
    "                        return [*zip(extents, intents)]\"\"\"\n",
    "\n",
    "                else:\n",
    "                    #if unex - unexs[r] > 4 and r >=0 and np.abs(gain_unex[-2]-gain_unex[-1])>1:\n",
    "                    if (unex - unexs[r] > 0) or (r == 0):\n",
    "\n",
    "                        try:\n",
    "                            intents[r_new] = []\n",
    "                        except IndexError:\n",
    "                            intents.append([])\n",
    "\n",
    "                        intents[r_new] = np.array(list(sorted(set(intents[r]).union(set([j])))))\n",
    "                        if verbose:\n",
    "                            print('  recursive call')\n",
    "                        in_close(adjacency, context, extents, intents, unexs, unexs_g, r=r_new, y=j+1, depth=5, degs=degs, gain=gain_unex, verbose=verbose)\n",
    "                    else:\n",
    "                        if verbose:\n",
    "                            print(f'  Do not go into recursion. Try next candidate attribute. ')\n",
    "                            print()\n",
    "                        gain_unex.pop(-1)\n",
    "            else:\n",
    "                if verbose:\n",
    "                    print(f'Max number of attributes reached.')\n",
    "                    print('\\n')\n",
    "                return [*zip(extents, intents)]\n",
    "\n",
    "    if verbose:\n",
    "        print('\\n')\n",
    "    del gain_unex[-(len(intents[r])+1):]\n",
    "    \n",
    "    return [*zip(extents, intents)]"
   ]
  },
  {
   "cell_type": "markdown",
   "id": "b32d8a33-c86e-439c-a0c1-f548c890d27a",
   "metadata": {},
   "source": [
    "## Application"
   ]
  },
  {
   "cell_type": "markdown",
   "id": "92a62a5b-c364-435b-bca0-3955d3801244",
   "metadata": {},
   "source": [
    "### Minimum Description Lengths of random graphs  \n",
    "\n",
    "Build a dictionary of MDL for random graphs with varying number of nodes and density."
   ]
  },
  {
   "cell_type": "code",
   "execution_count": 183,
   "id": "b6958c56-1376-42ec-a54e-23803b3b7890",
   "metadata": {},
   "outputs": [
    {
     "data": {
      "text/plain": [
       "0.3157894736842105"
      ]
     },
     "execution_count": 183,
     "metadata": {},
     "output_type": "execute_result"
    }
   ],
   "source": [
    "# Density of initial graph\n",
    "n, m = adjacency.shape[0], adjacency.nnz\n",
    "density = (m) / (n * (n - 1))\n",
    "density"
   ]
  },
  {
   "cell_type": "code",
   "execution_count": 184,
   "id": "a36fdd1b-39c6-4aa3-acc9-8f9a34187a7e",
   "metadata": {},
   "outputs": [],
   "source": [
    "complexity_gen_graphs = defaultdict(list)\n",
    "\n",
    "for num_n in range(adjacency.shape[0] + 1)[3:]:\n",
    "    cpt = 0\n",
    "    while cpt < 30:\n",
    "        random_g = build_random_graph(num_n, density)\n",
    "        if random_g is not None and random_g.shape[0] == num_n:\n",
    "            mdl = mdl_graph(random_g)\n",
    "            complexity_gen_graphs[num_n].append(mdl)\n",
    "            cpt += 1"
   ]
  },
  {
   "cell_type": "code",
   "execution_count": 222,
   "id": "95719840-882b-4c4a-847b-07731b8894b1",
   "metadata": {},
   "outputs": [],
   "source": [
    "# In-close initialization\n",
    "V = np.arange(0, biadjacency.shape[0])\n",
    "extents, intents, unexs, unexs_g = [], [], [], []\n",
    "extents_init = V\n",
    "intents_init = []\n",
    "unexs.append(0)\n",
    "unexs_g.append(0)\n",
    "extents.append(extents_init)\n",
    "intents.append(intents_init)"
   ]
  },
  {
   "cell_type": "code",
   "execution_count": 205,
   "id": "1d76d938-048e-4900-b96b-3909f3584bba",
   "metadata": {},
   "outputs": [
    {
     "name": "stdout",
     "output_type": "stream",
     "text": [
      "CPU times: user 55 ms, sys: 4.28 ms, total: 59.3 ms\n",
      "Wall time: 61.6 ms\n"
     ]
    }
   ],
   "source": [
    "%%time\n",
    "\n",
    "global r_new\n",
    "r_new = 0\n",
    "global gain_unex\n",
    "gain_unex = []\n",
    "gain_unex.append(0)\n",
    "\n",
    "# Degree of attribute = # articles in which it appears\n",
    "degrees = get_degrees(biadjacency.astype(bool), transpose=True)\n",
    "\n",
    "# Order attributes according to their ascending degree\n",
    "# This allows to add first attributes that will generate bigger subgraphs\n",
    "indexes = np.argsort(degrees)\n",
    "sorted_degs = degrees[indexes]\n",
    "filt_biadjacency = biadjacency[:, indexes]\n",
    "sorted_names_col = names_col[indexes]\n",
    "\n",
    "with open('logs/log_baboon.txt', 'w') as f:\n",
    "    with redirect_stdout(f):\n",
    "        result = in_close(adjacency, filt_biadjacency, extents, intents, unexs, unexs_g, r=0, y=0, depth=5, degs=sorted_degs, gain=gain_unex, verbose=True)\n",
    "        print()"
   ]
  },
  {
   "cell_type": "code",
   "execution_count": 206,
   "id": "ea65d10a-a524-452c-b854-343757dcc2b2",
   "metadata": {},
   "outputs": [
    {
     "name": "stdout",
     "output_type": "stream",
     "text": [
      "[]\n",
      "[0]\n",
      "[0 7]\n",
      "[2]\n",
      "[3]\n",
      "[4]\n",
      "[4 8]\n",
      "[7]\n",
      "[8]\n",
      "[9]\n",
      "[10]\n"
     ]
    }
   ],
   "source": [
    "for r in result:\n",
    "    print(r[1])"
   ]
  },
  {
   "cell_type": "code",
   "execution_count": 208,
   "id": "7fab14be-a2ff-4310-9772-9cb858659ff5",
   "metadata": {},
   "outputs": [
    {
     "name": "stdout",
     "output_type": "stream",
     "text": [
      "Carrying\n"
     ]
    },
    {
     "data": {
      "image/svg+xml": [
       "<svg xmlns=\"http://www.w3.org/2000/svg\" width=\"488.0\" height=\"340\">\n",
       "<path stroke-width=\"1\" stroke=\"gray\" d=\"M 257 320 420 274\"/>\n",
       "<path stroke-width=\"1\" stroke=\"gray\" d=\"M 217 256 170 178\"/>\n",
       "<path stroke-width=\"1\" stroke=\"gray\" d=\"M 217 256 420 274\"/>\n",
       "<path stroke-width=\"1\" stroke=\"gray\" d=\"M 217 256 257 320\"/>\n",
       "<path stroke-width=\"1\" stroke=\"gray\" d=\"M 20 299 217 256\"/>\n",
       "<path stroke-width=\"1\" stroke=\"gray\" d=\"M 20 299 170 178\"/>\n",
       "<path stroke-width=\"1\" stroke=\"gray\" d=\"M 20 299 257 320\"/>\n",
       "<path stroke-width=\"1\" stroke=\"gray\" d=\"M 387 193 217 256\"/>\n",
       "<path stroke-width=\"1\" stroke=\"gray\" d=\"M 387 193 170 178\"/>\n",
       "<path stroke-width=\"1\" stroke=\"gray\" d=\"M 387 193 420 274\"/>\n",
       "<path stroke-width=\"1\" stroke=\"gray\" d=\"M 387 193 257 320\"/>\n",
       "<path stroke-width=\"1\" stroke=\"gray\" d=\"M 170 178 217 256\"/>\n",
       "<path stroke-width=\"1\" stroke=\"gray\" d=\"M 170 178 20 299\"/>\n",
       "<path stroke-width=\"1\" stroke=\"gray\" d=\"M 170 178 387 193\"/>\n",
       "<path stroke-width=\"1\" stroke=\"gray\" d=\"M 170 178 420 274\"/>\n",
       "<path stroke-width=\"1\" stroke=\"gray\" d=\"M 170 178 25 20\"/>\n",
       "<path stroke-width=\"1\" stroke=\"gray\" d=\"M 170 178 257 320\"/>\n",
       "<path stroke-width=\"1\" stroke=\"gray\" d=\"M 420 274 217 256\"/>\n",
       "<path stroke-width=\"1\" stroke=\"gray\" d=\"M 420 274 387 193\"/>\n",
       "<path stroke-width=\"1\" stroke=\"gray\" d=\"M 420 274 170 178\"/>\n",
       "<path stroke-width=\"1\" stroke=\"gray\" d=\"M 420 274 257 320\"/>\n",
       "<path stroke-width=\"1\" stroke=\"gray\" d=\"M 25 20 170 178\"/>\n",
       "<path stroke-width=\"1\" stroke=\"gray\" d=\"M 257 320 217 256\"/>\n",
       "<path stroke-width=\"1\" stroke=\"gray\" d=\"M 257 320 20 299\"/>\n",
       "<path stroke-width=\"1\" stroke=\"gray\" d=\"M 257 320 387 193\"/>\n",
       "<path stroke-width=\"1\" stroke=\"gray\" d=\"M 257 320 170 178\"/>\n",
       "<path stroke-width=\"1\" stroke=\"gray\" d=\"M 217 256 387 193\"/>\n",
       "<path stroke-width=\"1\" stroke=\"gray\" d=\"M 217 256 20 299\"/>\n",
       "<circle cx=\"257\" cy=\"320\" r=\"7.0\" style=\"fill:gray;stroke:black;stroke-width:1.0\"/>\n",
       "<circle cx=\"25\" cy=\"20\" r=\"7.0\" style=\"fill:gray;stroke:black;stroke-width:1.0\"/>\n",
       "<circle cx=\"420\" cy=\"274\" r=\"7.0\" style=\"fill:gray;stroke:black;stroke-width:1.0\"/>\n",
       "<circle cx=\"170\" cy=\"178\" r=\"7.0\" style=\"fill:gray;stroke:black;stroke-width:1.0\"/>\n",
       "<circle cx=\"387\" cy=\"193\" r=\"7.0\" style=\"fill:gray;stroke:black;stroke-width:1.0\"/>\n",
       "<circle cx=\"20\" cy=\"299\" r=\"7.0\" style=\"fill:gray;stroke:black;stroke-width:1.0\"/>\n",
       "<circle cx=\"217\" cy=\"256\" r=\"7.0\" style=\"fill:gray;stroke:black;stroke-width:1.0\"/>\n",
       "<text text-anchor=\"start\" x=\"267\" y=\"320\" font-size=\"12\">FELIPE</text><text text-anchor=\"start\" x=\"35\" y=\"20\" font-size=\"12\">FEYA</text><text text-anchor=\"start\" x=\"430\" y=\"274\" font-size=\"12\">LIPS</text><text text-anchor=\"start\" x=\"180\" y=\"178\" font-size=\"12\">LOME</text><text text-anchor=\"start\" x=\"397\" y=\"193\" font-size=\"12\">MAKO</text><text text-anchor=\"start\" x=\"30\" y=\"299\" font-size=\"12\">MALI</text><text text-anchor=\"start\" x=\"227\" y=\"256\" font-size=\"12\">NEKKE</text></svg>"
      ],
      "text/plain": [
       "<IPython.core.display.SVG object>"
      ]
     },
     "execution_count": 208,
     "metadata": {},
     "output_type": "execute_result"
    }
   ],
   "source": [
    "# First graph\n",
    "objs = np.array([6, 7, 10, 11, 12, 13, 15])\n",
    "attrs = 1\n",
    "print(sorted_names_col[attrs])\n",
    "image = svg_graph(adjacency[objs, :][:, objs], names=names[objs])\n",
    "SVG(image)"
   ]
  },
  {
   "cell_type": "code",
   "execution_count": 220,
   "id": "ca27923c-9845-4975-8230-5eaa8268064a",
   "metadata": {},
   "outputs": [
    {
     "name": "stdout",
     "output_type": "stream",
     "text": [
      "48.84804532677678\n"
     ]
    },
    {
     "data": {
      "image/svg+xml": [
       "<svg xmlns=\"http://www.w3.org/2000/svg\" width=\"440\" height=\"340\">\n",
       "<defs><marker id=\"arrow-black\" markerWidth=\"10\" markerHeight=\"10\" refX=\"9\" refY=\"3\" orient=\"auto\">\n",
       "<path d=\"M0,0 L0,6 L9,3 z\" fill=\"black\"/></marker></defs>\n",
       "<path stroke-width=\"1\" stroke=\"black\" d=\"M 384 320 279 185\" marker-end=\"url(#arrow-black)\"/>\n",
       "<path stroke-width=\"1\" stroke=\"black\" d=\"M 197 100 414 135\" marker-end=\"url(#arrow-black)\"/>\n",
       "<path stroke-width=\"1\" stroke=\"black\" d=\"M 197 100 185 273\" marker-end=\"url(#arrow-black)\"/>\n",
       "<path stroke-width=\"1\" stroke=\"black\" d=\"M 275 180 201 104\" marker-end=\"url(#arrow-black)\"/>\n",
       "<path stroke-width=\"1\" stroke=\"black\" d=\"M 275 180 94 24\" marker-end=\"url(#arrow-black)\"/>\n",
       "<path stroke-width=\"1\" stroke=\"black\" d=\"M 275 180 414 138\" marker-end=\"url(#arrow-black)\"/>\n",
       "<path stroke-width=\"1\" stroke=\"black\" d=\"M 275 180 189 274\" marker-end=\"url(#arrow-black)\"/>\n",
       "<path stroke-width=\"1\" stroke=\"black\" d=\"M 89 20 192 96\" marker-end=\"url(#arrow-black)\"/>\n",
       "<path stroke-width=\"1\" stroke=\"black\" d=\"M 89 20 22 161\" marker-end=\"url(#arrow-black)\"/>\n",
       "<path stroke-width=\"1\" stroke=\"black\" d=\"M 420 136 385 314\" marker-end=\"url(#arrow-black)\"/>\n",
       "<path stroke-width=\"1\" stroke=\"black\" d=\"M 20 167 191 102\" marker-end=\"url(#arrow-black)\"/>\n",
       "<path stroke-width=\"1\" stroke=\"black\" d=\"M 185 279 378 319\" marker-end=\"url(#arrow-black)\"/>\n",
       "<path stroke-width=\"1\" stroke=\"black\" d=\"M 185 279 271 185\" marker-end=\"url(#arrow-black)\"/>\n",
       "<path stroke-width=\"1\" stroke=\"black\" d=\"M 185 279 25 170\" marker-end=\"url(#arrow-black)\"/>\n",
       "<circle cx=\"384\" cy=\"320\" r=\"7.0\" style=\"fill:gray;stroke:black;stroke-width:1.0\"/>\n",
       "<circle cx=\"197\" cy=\"100\" r=\"7.0\" style=\"fill:gray;stroke:black;stroke-width:1.0\"/>\n",
       "<circle cx=\"275\" cy=\"180\" r=\"7.0\" style=\"fill:gray;stroke:black;stroke-width:1.0\"/>\n",
       "<circle cx=\"89\" cy=\"20\" r=\"7.0\" style=\"fill:gray;stroke:black;stroke-width:1.0\"/>\n",
       "<circle cx=\"420\" cy=\"136\" r=\"7.0\" style=\"fill:gray;stroke:black;stroke-width:1.0\"/>\n",
       "<circle cx=\"20\" cy=\"167\" r=\"7.0\" style=\"fill:gray;stroke:black;stroke-width:1.0\"/>\n",
       "<circle cx=\"185\" cy=\"279\" r=\"7.0\" style=\"fill:gray;stroke:black;stroke-width:1.0\"/>\n",
       "</svg>"
      ],
      "text/plain": [
       "<IPython.core.display.SVG object>"
      ]
     },
     "execution_count": 220,
     "metadata": {},
     "output_type": "execute_result"
    }
   ],
   "source": [
    "myg = build_random_graph(7, density)\n",
    "print(mdl_graph(myg))\n",
    "SVG(svg_graph(myg))"
   ]
  },
  {
   "cell_type": "code",
   "execution_count": 202,
   "id": "2237a50d-f597-4b87-8fec-60e78cbd5eee",
   "metadata": {},
   "outputs": [
    {
     "name": "stdout",
     "output_type": "stream",
     "text": [
      "['Avoiding' 'Embracing']\n"
     ]
    },
    {
     "data": {
      "image/svg+xml": [
       "<svg xmlns=\"http://www.w3.org/2000/svg\" width=\"512.0\" height=\"340\">\n",
       "<path stroke-width=\"1.0\" stroke=\"gray\" d=\"M 20 244 20 244\"/>\n",
       "<path stroke-width=\"1.0\" stroke=\"gray\" d=\"M 304 20 304 20\"/>\n",
       "<path stroke-width=\"1.0\" stroke=\"gray\" d=\"M 420 320 420 320\"/>\n",
       "<circle cx=\"20\" cy=\"244\" r=\"7.0\" style=\"fill:gray;stroke:black;stroke-width:1.0\"/>\n",
       "<circle cx=\"304\" cy=\"20\" r=\"7.0\" style=\"fill:gray;stroke:black;stroke-width:1.0\"/>\n",
       "<circle cx=\"420\" cy=\"320\" r=\"7.0\" style=\"fill:gray;stroke:black;stroke-width:1.0\"/>\n",
       "<text text-anchor=\"start\" x=\"30\" y=\"244\" font-size=\"12\">HARLEM</text><text text-anchor=\"start\" x=\"314\" y=\"20\" font-size=\"12\">EWINE</text><text text-anchor=\"start\" x=\"430\" y=\"320\" font-size=\"12\">FELIPE</text></svg>"
      ],
      "text/plain": [
       "<IPython.core.display.SVG object>"
      ]
     },
     "execution_count": 202,
     "metadata": {},
     "output_type": "execute_result"
    }
   ],
   "source": [
    "# First graph\n",
    "objs = np.array([8, 4, 6])\n",
    "attrs = np.array([0, 7])\n",
    "print(sorted_names_col[attrs])\n",
    "image_adj = adjacency[objs, :][:, objs]\n",
    "if image_adj.nnz == 0:\n",
    "    image_adj += sparse.diags(np.ones(len(objs)))\n",
    "image = svg_graph(image_adj, names=names[objs])\n",
    "SVG(image)"
   ]
  },
  {
   "cell_type": "code",
   "execution_count": 233,
   "id": "fbcf9c04-9076-4124-aec2-b95a5c427dbd",
   "metadata": {},
   "outputs": [
    {
     "name": "stdout",
     "output_type": "stream",
     "text": [
      "['Touching' 'Invisible']\n"
     ]
    },
    {
     "data": {
      "image/svg+xml": [
       "<svg xmlns=\"http://www.w3.org/2000/svg\" width=\"488.0\" height=\"340\">\n",
       "<path stroke-width=\"1\" stroke=\"gray\" d=\"M 420 144 391 20\"/>\n",
       "<path stroke-width=\"1\" stroke=\"gray\" d=\"M 226 282 123 279\"/>\n",
       "<path stroke-width=\"1\" stroke=\"gray\" d=\"M 316 159 226 282\"/>\n",
       "<path stroke-width=\"1\" stroke=\"gray\" d=\"M 316 159 208 171\"/>\n",
       "<path stroke-width=\"1\" stroke=\"gray\" d=\"M 316 159 391 20\"/>\n",
       "<path stroke-width=\"1\" stroke=\"gray\" d=\"M 316 159 420 144\"/>\n",
       "<path stroke-width=\"1\" stroke=\"gray\" d=\"M 20 320 123 279\"/>\n",
       "<path stroke-width=\"1\" stroke=\"gray\" d=\"M 208 171 226 282\"/>\n",
       "<path stroke-width=\"1\" stroke=\"gray\" d=\"M 208 171 316 159\"/>\n",
       "<path stroke-width=\"1\" stroke=\"gray\" d=\"M 208 171 123 279\"/>\n",
       "<path stroke-width=\"1\" stroke=\"gray\" d=\"M 391 20 316 159\"/>\n",
       "<path stroke-width=\"1\" stroke=\"gray\" d=\"M 391 20 420 144\"/>\n",
       "<path stroke-width=\"1\" stroke=\"gray\" d=\"M 123 279 226 282\"/>\n",
       "<path stroke-width=\"1\" stroke=\"gray\" d=\"M 123 279 20 320\"/>\n",
       "<path stroke-width=\"1\" stroke=\"gray\" d=\"M 123 279 208 171\"/>\n",
       "<path stroke-width=\"1\" stroke=\"gray\" d=\"M 420 144 316 159\"/>\n",
       "<path stroke-width=\"1\" stroke=\"gray\" d=\"M 226 282 208 171\"/>\n",
       "<path stroke-width=\"1\" stroke=\"gray\" d=\"M 226 282 316 159\"/>\n",
       "<circle cx=\"420\" cy=\"144\" r=\"7.0\" style=\"fill:gray;stroke:black;stroke-width:1.0\"/>\n",
       "<circle cx=\"123\" cy=\"279\" r=\"7.0\" style=\"fill:gray;stroke:black;stroke-width:1.0\"/>\n",
       "<circle cx=\"391\" cy=\"20\" r=\"7.0\" style=\"fill:gray;stroke:black;stroke-width:1.0\"/>\n",
       "<circle cx=\"208\" cy=\"171\" r=\"7.0\" style=\"fill:gray;stroke:black;stroke-width:1.0\"/>\n",
       "<circle cx=\"20\" cy=\"320\" r=\"7.0\" style=\"fill:gray;stroke:black;stroke-width:1.0\"/>\n",
       "<circle cx=\"316\" cy=\"159\" r=\"7.0\" style=\"fill:gray;stroke:black;stroke-width:1.0\"/>\n",
       "<circle cx=\"226\" cy=\"282\" r=\"7.0\" style=\"fill:gray;stroke:black;stroke-width:1.0\"/>\n",
       "<text text-anchor=\"start\" x=\"430\" y=\"144\" font-size=\"12\">FANA</text><text text-anchor=\"start\" x=\"133\" y=\"279\" font-size=\"12\">FELIPE</text><text text-anchor=\"start\" x=\"401\" y=\"20\" font-size=\"12\">FEYA</text><text text-anchor=\"start\" x=\"218\" y=\"171\" font-size=\"12\">LIPS</text><text text-anchor=\"start\" x=\"30\" y=\"320\" font-size=\"12\">MALI</text><text text-anchor=\"start\" x=\"326\" y=\"159\" font-size=\"12\">PETOULETTE</text><text text-anchor=\"start\" x=\"236\" y=\"282\" font-size=\"12\">PIPO</text></svg>"
      ],
      "text/plain": [
       "<IPython.core.display.SVG object>"
      ]
     },
     "execution_count": 233,
     "metadata": {},
     "output_type": "execute_result"
    }
   ],
   "source": [
    "# First graph\n",
    "objs = np.array([5, 6, 7, 10, 13, 16, 17])\n",
    "attrs = np.array([8, 10])\n",
    "print(sorted_names_col[attrs])\n",
    "image = svg_graph(adjacency[objs, :][:, objs], names=names[objs])\n",
    "SVG(image)"
   ]
  },
  {
   "cell_type": "code",
   "execution_count": 227,
   "id": "01bc83b4-497f-45a2-87cf-197fe2d74938",
   "metadata": {},
   "outputs": [
    {
     "name": "stdout",
     "output_type": "stream",
     "text": [
      "2.584962500721156\n",
      "39.61802464081182\n",
      "42.20298714153297\n"
     ]
    }
   ],
   "source": [
    "g_r_new = adjacency[objs, :][:, objs]\n",
    "n = g_r_new.shape[0]\n",
    "nodes_mdl = np.log2(n)\n",
    "print(nodes_mdl)\n",
    "    \n",
    "# edges\n",
    "newdegs = g_r_new.dot(np.ones(n))\n",
    "max_degree = np.max(newdegs)\n",
    "edges_mdl = (n + 1) * np.log2(max_degree + 1) + np.sum([np.log2(special.comb(n, deg)) for deg in newdegs])\n",
    "print(edges_mdl)\n",
    "print(nodes_mdl + edges_mdl)"
   ]
  },
  {
   "cell_type": "code",
   "execution_count": 224,
   "id": "f2e39117-0765-486d-97a5-ead30eee238b",
   "metadata": {},
   "outputs": [
    {
     "name": "stdout",
     "output_type": "stream",
     "text": [
      "[4. 3. 1. 4. 1. 3. 2.]\n"
     ]
    },
    {
     "data": {
      "text/plain": [
       "5.129283016944966"
      ]
     },
     "execution_count": 224,
     "metadata": {},
     "output_type": "execute_result"
    }
   ],
   "source": [
    "print(newdegs)\n",
    "np.log2(special.comb(n, 4))"
   ]
  },
  {
   "cell_type": "code",
   "execution_count": 188,
   "id": "a0f8d351-3a36-48fe-abda-216f2af0004c",
   "metadata": {},
   "outputs": [
    {
     "name": "stdout",
     "output_type": "stream",
     "text": [
      "['Supplanting' 'Grooming']\n"
     ]
    },
    {
     "data": {
      "image/svg+xml": [
       "<svg xmlns=\"http://www.w3.org/2000/svg\" width=\"488.0\" height=\"340\">\n",
       "<path stroke-width=\"1\" stroke=\"gray\" d=\"M 20 51 243 20\"/>\n",
       "<path stroke-width=\"1\" stroke=\"gray\" d=\"M 20 51 181 117\"/>\n",
       "<path stroke-width=\"1\" stroke=\"gray\" d=\"M 20 51 420 61\"/>\n",
       "<path stroke-width=\"1\" stroke=\"gray\" d=\"M 243 20 20 51\"/>\n",
       "<path stroke-width=\"1\" stroke=\"gray\" d=\"M 243 20 181 117\"/>\n",
       "<path stroke-width=\"1\" stroke=\"gray\" d=\"M 243 20 420 61\"/>\n",
       "<path stroke-width=\"1\" stroke=\"gray\" d=\"M 181 117 20 51\"/>\n",
       "<path stroke-width=\"1\" stroke=\"gray\" d=\"M 181 117 243 20\"/>\n",
       "<path stroke-width=\"1\" stroke=\"gray\" d=\"M 181 117 420 61\"/>\n",
       "<path stroke-width=\"1\" stroke=\"gray\" d=\"M 181 117 114 229\"/>\n",
       "<path stroke-width=\"1\" stroke=\"gray\" d=\"M 60 320 114 229\"/>\n",
       "<path stroke-width=\"1\" stroke=\"gray\" d=\"M 420 61 20 51\"/>\n",
       "<path stroke-width=\"1\" stroke=\"gray\" d=\"M 420 61 243 20\"/>\n",
       "<path stroke-width=\"1\" stroke=\"gray\" d=\"M 420 61 181 117\"/>\n",
       "<path stroke-width=\"1\" stroke=\"gray\" d=\"M 114 229 181 117\"/>\n",
       "<path stroke-width=\"1\" stroke=\"gray\" d=\"M 114 229 60 320\"/>\n",
       "<circle cx=\"20\" cy=\"51\" r=\"7.0\" style=\"fill:gray;stroke:black;stroke-width:1.0\"/>\n",
       "<circle cx=\"243\" cy=\"20\" r=\"7.0\" style=\"fill:gray;stroke:black;stroke-width:1.0\"/>\n",
       "<circle cx=\"181\" cy=\"117\" r=\"7.0\" style=\"fill:gray;stroke:black;stroke-width:1.0\"/>\n",
       "<circle cx=\"60\" cy=\"320\" r=\"7.0\" style=\"fill:gray;stroke:black;stroke-width:1.0\"/>\n",
       "<circle cx=\"420\" cy=\"61\" r=\"7.0\" style=\"fill:gray;stroke:black;stroke-width:1.0\"/>\n",
       "<circle cx=\"114\" cy=\"229\" r=\"7.0\" style=\"fill:gray;stroke:black;stroke-width:1.0\"/>\n",
       "<text text-anchor=\"start\" x=\"30\" y=\"51\" font-size=\"12\">ANGELE</text><text text-anchor=\"start\" x=\"253\" y=\"20\" font-size=\"12\">BOBO</text><text text-anchor=\"start\" x=\"191\" y=\"117\" font-size=\"12\">FELIPE</text><text text-anchor=\"start\" x=\"70\" y=\"320\" font-size=\"12\">KALI</text><text text-anchor=\"start\" x=\"430\" y=\"61\" font-size=\"12\">LOME</text><text text-anchor=\"start\" x=\"124\" y=\"229\" font-size=\"12\">VIOLETTE</text></svg>"
      ],
      "text/plain": [
       "<IPython.core.display.SVG object>"
      ]
     },
     "execution_count": 188,
     "metadata": {},
     "output_type": "execute_result"
    }
   ],
   "source": [
    "# First graph\n",
    "objs = np.array([0, 3, 6, 9, 11, 18])\n",
    "attrs = np.array([6, 11])\n",
    "print(sorted_names_col[attrs])\n",
    "image = svg_graph(adjacency[objs, :][:, objs], names=names[objs])\n",
    "SVG(image)"
   ]
  },
  {
   "cell_type": "code",
   "execution_count": 156,
   "id": "66bd18b6-2c0c-442c-be6f-a2c4081f4d59",
   "metadata": {},
   "outputs": [
    {
     "name": "stdout",
     "output_type": "stream",
     "text": [
      "['Supplanting' 'Invisible']\n"
     ]
    },
    {
     "data": {
      "image/svg+xml": [
       "<svg xmlns=\"http://www.w3.org/2000/svg\" width=\"500.0\" height=\"340\">\n",
       "<path stroke-width=\"1\" stroke=\"gray\" d=\"M 61 290 20 277\"/>\n",
       "<path stroke-width=\"1\" stroke=\"gray\" d=\"M 61 290 107 306\"/>\n",
       "<path stroke-width=\"1\" stroke=\"gray\" d=\"M 149 320 107 306\"/>\n",
       "<path stroke-width=\"1\" stroke=\"gray\" d=\"M 20 277 61 290\"/>\n",
       "<path stroke-width=\"1\" stroke=\"gray\" d=\"M 107 306 61 290\"/>\n",
       "<path stroke-width=\"1\" stroke=\"gray\" d=\"M 107 306 149 320\"/>\n",
       "<circle cx=\"420\" cy=\"20\" r=\"7.0\" style=\"fill:gray;stroke:black;stroke-width:1.0\"/>\n",
       "<circle cx=\"61\" cy=\"290\" r=\"7.0\" style=\"fill:gray;stroke:black;stroke-width:1.0\"/>\n",
       "<circle cx=\"149\" cy=\"320\" r=\"7.0\" style=\"fill:gray;stroke:black;stroke-width:1.0\"/>\n",
       "<circle cx=\"20\" cy=\"277\" r=\"7.0\" style=\"fill:gray;stroke:black;stroke-width:1.0\"/>\n",
       "<circle cx=\"107\" cy=\"306\" r=\"7.0\" style=\"fill:gray;stroke:black;stroke-width:1.0\"/>\n",
       "<text text-anchor=\"start\" x=\"430\" y=\"20\" font-size=\"12\">EWINE</text><text text-anchor=\"start\" x=\"71\" y=\"290\" font-size=\"12\">FELIPE</text><text text-anchor=\"start\" x=\"159\" y=\"320\" font-size=\"12\">KALI</text><text text-anchor=\"start\" x=\"30\" y=\"277\" font-size=\"12\">LOME</text><text text-anchor=\"start\" x=\"117\" y=\"306\" font-size=\"12\">VIOLETTE</text></svg>"
      ],
      "text/plain": [
       "<IPython.core.display.SVG object>"
      ]
     },
     "execution_count": 156,
     "metadata": {},
     "output_type": "execute_result"
    }
   ],
   "source": [
    "# First graph\n",
    "objs = np.array([4, 6, 9, 11, 18])\n",
    "attrs = np.array([6, 10])\n",
    "print(sorted_names_col[attrs])\n",
    "image = svg_graph(adjacency[objs, :][:, objs], names=names[objs])\n",
    "SVG(image)"
   ]
  },
  {
   "cell_type": "code",
   "execution_count": 207,
   "id": "fdbac388-5a30-462e-bd0c-51f6d2717bb1",
   "metadata": {},
   "outputs": [
    {
     "data": {
      "image/png": "[encoded data removed]",
      "text/plain": [
       "<Figure size 432x288 with 1 Axes>"
      ]
     },
     "metadata": {
      "needs_background": "light"
     },
     "output_type": "display_data"
    }
   ],
   "source": [
    "for i in range(10):\n",
    "    plt.plot(complexity_gen_graphs.get(5)[i*9:i*9 + 9], label='')"
   ]
  },
  {
   "cell_type": "code",
   "execution_count": 200,
   "id": "a740ea9f-6695-4488-9841-c10f34b83bef",
   "metadata": {},
   "outputs": [
    {
     "data": {
      "image/png": "[encoded data removed]",
      "text/plain": [
       "<Figure size 432x288 with 1 Axes>"
      ]
     },
     "metadata": {
      "needs_background": "light"
     },
     "output_type": "display_data"
    }
   ],
   "source": [
    "for i in np.array(complexity_gen_graphs.get(5))[:252].reshape(28, 9):\n",
    "    plt.plot(i)"
   ]
  },
  {
   "cell_type": "code",
   "execution_count": 157,
   "id": "d391e770-cdd9-43f3-a5e9-cf8914328e9a",
   "metadata": {},
   "outputs": [
    {
     "data": {
      "text/plain": [
       "[(array([ 0,  1,  2,  3,  4,  5,  6,  7,  8,  9, 10, 11, 12, 13, 14, 15, 16,\n",
       "         17, 18], dtype=int32),\n",
       "  array([13])),\n",
       " (array([11, 18, 10, 13], dtype=int32), array([4])),\n",
       " (array([ 1,  3,  6,  9, 16, 17], dtype=int32), array([5])),\n",
       " (array([ 0,  3,  4,  6,  9, 11, 18], dtype=int32), array([6])),\n",
       " (array([ 3,  5,  6,  7, 16, 17, 18], dtype=int32), array([7])),\n",
       " (array([ 5,  6,  7, 10, 13, 15, 16, 17], dtype=int32), array([8])),\n",
       " (array([ 2,  6,  7, 10, 11, 12, 13, 14, 15], dtype=int32), array([9])),\n",
       " (array([ 1,  4,  5,  6,  7,  8,  9, 10, 11, 12, 13, 15, 17, 18],\n",
       "        dtype=int32),\n",
       "  array([10])),\n",
       " (array([ 0,  1,  2,  3,  4,  5,  6,  7,  8,  9, 10, 11, 12, 13, 15, 16, 17,\n",
       "         18], dtype=int32),\n",
       "  array([12]))]"
      ]
     },
     "execution_count": 157,
     "metadata": {},
     "output_type": "execute_result"
    }
   ],
   "source": [
    "result"
   ]
  },
  {
   "cell_type": "code",
   "execution_count": null,
   "id": "243268d5-f00c-4c49-8580-6ba1ab2f3b9d",
   "metadata": {},
   "outputs": [],
   "source": []
  }
 ],
 "metadata": {
  "kernelspec": {
   "display_name": "COMEG",
   "language": "python",
   "name": "comeg"
  },
  "language_info": {
   "codemirror_mode": {
    "name": "ipython",
    "version": 3
   },
   "file_extension": ".py",
   "mimetype": "text/x-python",
   "name": "python",
   "nbconvert_exporter": "python",
   "pygments_lexer": "ipython3",
   "version": "3.9.13"
  }
 },
 "nbformat": 4,
 "nbformat_minor": 5
}
