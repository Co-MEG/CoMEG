{
 "cells": [
  {
   "cell_type": "markdown",
   "id": "4f5a67d5-345c-4082-a5b3-0b83ad8ca410",
   "metadata": {},
   "source": [
    "# Mining Unexpected Concepts\n",
    "---"
   ]
  },
  {
   "cell_type": "markdown",
   "id": "2cd8194a-e301-4515-ad6d-42c07d453b7a",
   "metadata": {},
   "source": [
    "**Libraries**"
   ]
  },
  {
   "cell_type": "code",
   "execution_count": 42,
   "id": "04789468-7dd5-4b95-ac2b-3b980acd152c",
   "metadata": {},
   "outputs": [],
   "source": [
    "from collections import defaultdict\n",
    "from contextlib import redirect_stdout\n",
    "from IPython.display import SVG\n",
    "import matplotlib.pyplot as plt\n",
    "import numpy as np\n",
    "import pickle\n",
    "from random import random\n",
    "import seaborn as sns\n",
    "from scipy import sparse, special\n",
    "\n",
    "from sknetwork.data import load_netset, from_edge_list\n",
    "from sknetwork.utils import get_degrees, get_membership, get_neighbors\n",
    "from sknetwork.ranking import top_k\n",
    "from sknetwork.topology import Triangles, Cliques\n",
    "from sknetwork.visualization import svg_graph"
   ]
  },
  {
   "cell_type": "markdown",
   "id": "9a1eb4ec-9ac8-4507-9bcb-fdecf2ab4953",
   "metadata": {},
   "source": [
    "## Data"
   ]
  },
  {
   "cell_type": "code",
   "execution_count": 43,
   "id": "ab41cb9f-cf67-4790-aa58-ffead219ca4a",
   "metadata": {},
   "outputs": [],
   "source": [
    "# Load dataset\n",
    "with open('data/baboons', 'br') as f:\n",
    "    dataset = pickle.load(f)\n",
    "    \n",
    "adjacency = dataset.adjacency\n",
    "biadjacency = dataset.biadjacency\n",
    "names = dataset.names\n",
    "names_col = dataset.names_col"
   ]
  },
  {
   "cell_type": "code",
   "execution_count": 44,
   "id": "ae4b1d2e-8f73-4233-b1e4-3f1770c157fc",
   "metadata": {},
   "outputs": [
    {
     "data": {
      "text/plain": [
       "array(['ANGELE', 'ARIELLE', 'ATMOSPHERE', 'BOBO', 'EWINE', 'FANA',\n",
       "       'FELIPE', 'FEYA', 'HARLEM', 'KALI', 'LIPS', 'LOME', 'MAKO', 'MALI',\n",
       "       'MUSE', 'NEKKE', 'PETOULETTE', 'PIPO', 'VIOLETTE'], dtype='<U10')"
      ]
     },
     "execution_count": 44,
     "metadata": {},
     "output_type": "execute_result"
    }
   ],
   "source": [
    "names"
   ]
  },
  {
   "cell_type": "code",
   "execution_count": 45,
   "id": "b0285187-17fd-4d9a-9791-42e44a94958f",
   "metadata": {},
   "outputs": [
    {
     "data": {
      "text/plain": [
       "array(['Touching', 'Submission', 'Grooming', 'Supplanting', 'Threatening',\n",
       "       'Grunting-Lipsmacking', 'Carrying', 'Invisible', 'Presenting',\n",
       "       'Avoiding', 'Playing with', 'Other', 'Resting', 'Attacking'],\n",
       "      dtype='<U20')"
      ]
     },
     "execution_count": 45,
     "metadata": {},
     "output_type": "execute_result"
    }
   ],
   "source": [
    "names_col"
   ]
  },
  {
   "cell_type": "markdown",
   "id": "306c944b-b7b8-4844-ae25-2e87972d05d2",
   "metadata": {
    "tags": []
   },
   "source": [
    "## Algorithm"
   ]
  },
  {
   "cell_type": "code",
   "execution_count": 46,
   "id": "c3010d53-b071-41f5-a0a3-e042a6b7c651",
   "metadata": {},
   "outputs": [],
   "source": [
    "def mdl_graph(adjacency):\n",
    "    n = adjacency.shape[0]\n",
    "\n",
    "    # density\n",
    "    d = np.sum(adjacency) / (n * (n - 1))\n",
    "    \n",
    "    # nodes\n",
    "    nodes_mdl = np.log2(n)\n",
    "    \n",
    "    # edges\n",
    "    degrees = adjacency.dot(np.ones(n))\n",
    "    max_degree = np.max(degrees)\n",
    "    edges_mdl = (n + 1) * np.log2(max_degree + 1) + np.sum([np.log2(special.comb(n, deg)) for deg in degrees])\n",
    "\n",
    "    return (nodes_mdl + edges_mdl)\n",
    "\n",
    "def build_random_graph(n, p):\n",
    "    edges = []\n",
    "    lp = np.log(1 - p)\n",
    "    v = 1\n",
    "    w = -1\n",
    "    while v < n:\n",
    "        lr = np.log(1 - random())\n",
    "        w = w + 1 + int(lr / lp)\n",
    "        while w >= v and v < n:\n",
    "            w = w - v\n",
    "            v = v + 1\n",
    "        if v < n:\n",
    "            edges.append((w, v))\n",
    "    \n",
    "    v = 1\n",
    "    w = -1   \n",
    "    while v < n:\n",
    "        lr = np.log(1 - random())\n",
    "        w = w + 1 + int(lr / lp)\n",
    "        while w >= v and v < n:\n",
    "            w = w - v\n",
    "            v = v + 1\n",
    "        if v < n:\n",
    "            edges.append((v, w))\n",
    "    try:\n",
    "        g = from_edge_list(edges, directed=True, matrix_only=True)\n",
    "    except ValueError:\n",
    "        return None\n",
    "\n",
    "    return g\n",
    "\n",
    "def entropy(prob):\n",
    "    return prob * -np.log2(prob)\n",
    "\n",
    "def desc_complexity(attrs):\n",
    "    if isinstance(attrs, int):\n",
    "        attrs = [attrs]\n",
    "    prob = 1\n",
    "    for attr in attrs:\n",
    "        prob *= degrees[attr] / np.sum(degrees)\n",
    "    entr = entropy(prob)\n",
    "    return generation_complexity(biadjacency.shape[1], len(attrs)) * entr"
   ]
  },
  {
   "cell_type": "code",
   "execution_count": 173,
   "id": "b0c0cb64-4997-466a-88dd-4be23a18eb2e",
   "metadata": {},
   "outputs": [],
   "source": [
    "def in_close(adjacency, context, extents, intents, unexs, unexs_g, r, y, depth, degs, gain, verbose):\n",
    "    \n",
    "    support_obj = 3\n",
    "    support_attr = 10\n",
    "    delta = 0.5\n",
    "    \n",
    "    global gain_unex\n",
    "    # --------------------\n",
    "    \n",
    "    global r_new\n",
    "    r_new = r_new + 1\n",
    "    attributes = np.arange(0, context.shape[1])\n",
    "    \n",
    "    for n_iter, j in enumerate(attributes[y:]):\n",
    "        \n",
    "        try:\n",
    "            extents[r_new] = []\n",
    "            unexs[r_new] = 0\n",
    "            unexs_g[r_new] = 0\n",
    "        except IndexError:\n",
    "            extents.append([])\n",
    "            unexs.append(0)\n",
    "            unexs_g.append(0)\n",
    "          \n",
    "        # Form a new extent by adding extension of attribute j to current concept extent\n",
    "        extension_j = get_neighbors(context, node=j, transpose=True)\n",
    "        new_extent = np.array(list(set(extents[r]).intersection(set(extension_j))))\n",
    "        extents[r_new] = new_extent\n",
    "        new_extent_size = len(new_extent)\n",
    "        \n",
    "        if new_extent_size >= support_obj:\n",
    "            if verbose:\n",
    "                print(f'n_iter:{n_iter} - extents: {extents[r]} - intents: {intents[r]}')\n",
    "                print(f'  Candidate attr: {j} {sorted_names_col[j]}')\n",
    "                print(f'  new extent: {new_extent}')\n",
    "                \n",
    "            #if new_extent_size < len(extents[r]):\n",
    "            # Graph unexpectedness\n",
    "            g_r_new = adjacency[new_extent][:, new_extent]\n",
    "            complexity_desc_g = mdl_graph(g_r_new)\n",
    "            complexity_gen_g = np.max(complexity_gen_graphs.get(new_extent_size))\n",
    "            unex_g = complexity_gen_g - complexity_desc_g\n",
    "            unexs_g.append(unex_g)\n",
    "            if verbose:\n",
    "                print(f'  U(G)={unex_g} (cw={complexity_gen_g} - c={complexity_desc_g})')\n",
    "            \n",
    "            new_intent = np.array(list(sorted(set(intents[r]).union(set([j])))))\n",
    "            new_intent_size = len(new_intent)            \n",
    "                \n",
    "            if new_intent_size <= support_attr:\n",
    "            \n",
    "                # Attributes unexpectedness\n",
    "                complexity_gen_a = np.log2(special.comb(context.shape[1], new_intent_size))\n",
    "                complexity_desc_a = 0\n",
    "                for a in new_intent:\n",
    "                    complexity_desc_a += np.log2(degs[a])\n",
    "                unex_a = complexity_gen_a - complexity_desc_a\n",
    "                if verbose:\n",
    "                    print(f'  U(A)={unex_a} (cw={complexity_gen_a} - c={complexity_desc_a})')\n",
    "\n",
    "                # Total Unexpectedness\n",
    "                unex = unex_g + unex_a\n",
    "                if verbose:\n",
    "                    print(f'  U: {unex}')\n",
    "                unexs[r_new] = unex\n",
    "\n",
    "                if verbose:\n",
    "                    print(f'  U[r_new]={unex} - U[r]={unexs[r]}  = {unex - unexs[r]}')\n",
    "\n",
    "                gain_unex.append(unex - unexs[r])\n",
    "                if verbose:\n",
    "                    print(f'  gain unex: {gain_unex}')\n",
    "                    print(f'  Gain unex diff: {np.abs(gain_unex[-2]-gain_unex[-1])}')\n",
    "                    \n",
    "                if new_extent_size == len(extents[r]):\n",
    "                    \n",
    "                    #if unex - unexs[r] > 4 and r >=0 and np.abs(gain_unex[-2]-gain_unex[-1])>1:\n",
    "                    if (unex - unexs[r] > 0) and r >=0 and (gain_unex[-2] - gain_unex[-1]) > delta:\n",
    "                        intents[r] = np.array(list(sorted(set(intents[r]).union(set([j])))))\n",
    "                        extents[r] = extents[r_new]\n",
    "                        unexs_g[r] = unex_g\n",
    "                        unexs[r] = unex\n",
    "                        if verbose:\n",
    "                            print(f'  Attribute {j}-{sorted_names_col[j]} added')\n",
    "                    else:\n",
    "                        if verbose:\n",
    "                            print(f'  r_new: {r_new} - r: {r}')\n",
    "                            print(f'  gain_unex[(r_new-r):]: {gain_unex[(r_new - r):]}')\n",
    "                            print(f'   gain_unex[-len(intents[r])+1]= {gain_unex[-len(intents[r])+1]} - {len(intents[r])+1}')\n",
    "                            print(f'  --> Stop branch recursion because unexpectedness gain is too low abs({(gain_unex[-2])}-{gain_unex[-1]})={np.abs(gain_unex[-2]-gain_unex[-1])}')\n",
    "                            print('\\n')\n",
    "                        \n",
    "                        del gain_unex[(r_new-r):]\n",
    "                        #del gain_unex[(len(intents[r]+1)):]\n",
    "                        return [*zip(extents, intents)]\n",
    "\n",
    "                else:\n",
    "                    print(f'{unex-unexs[r]} - {r} - {gain_unex[-2]} {gain_unex[-1]}')\n",
    "                    #if unex - unexs[r] > 4 and r >=0 and np.abs(gain_unex[-2]-gain_unex[-1])>1:\n",
    "                    if (unex - unexs[r] > 0):\n",
    "\n",
    "                        try:\n",
    "                            intents[r_new] = []\n",
    "                        except IndexError:\n",
    "                            intents.append([])\n",
    "\n",
    "                        intents[r_new] = np.array(list(sorted(set(intents[r]).union(set([j])))))\n",
    "                        if verbose:\n",
    "                            print('  recursive call')\n",
    "                        in_close(adjacency, context, extents, intents, unexs, unexs_g, r=r_new, y=j+1, depth=5, degs=degs, gain=gain_unex, verbose=verbose)\n",
    "                    else:\n",
    "                        if verbose:\n",
    "                            print(f'  Stop recursion.')\n",
    "                            print()\n",
    "                        gain_unex.pop(-1)\n",
    "            else:\n",
    "                if verbose:\n",
    "                    print(f'Max number of attributes reached.')\n",
    "                    print('\\n')\n",
    "                return [*zip(extents, intents)]\n",
    "\n",
    "    if verbose:\n",
    "        print('\\n')\n",
    "    del gain_unex[-(len(intents[r])+1):]\n",
    "    \n",
    "    return [*zip(extents, intents)]"
   ]
  },
  {
   "cell_type": "markdown",
   "id": "b32d8a33-c86e-439c-a0c1-f548c890d27a",
   "metadata": {},
   "source": [
    "## Application"
   ]
  },
  {
   "cell_type": "markdown",
   "id": "92a62a5b-c364-435b-bca0-3955d3801244",
   "metadata": {},
   "source": [
    "### Minimum Description Lengths of random graphs  \n",
    "\n",
    "Build a dictionary of MDL for random graphs with varying number of nodes and density."
   ]
  },
  {
   "cell_type": "code",
   "execution_count": 107,
   "id": "a36fdd1b-39c6-4aa3-acc9-8f9a34187a7e",
   "metadata": {},
   "outputs": [],
   "source": [
    "complexity_gen_graphs = defaultdict(list)\n",
    "\n",
    "for num_n in range(adjacency.shape[0] + 1)[3:100]:\n",
    "    for j in range(30):\n",
    "        for p in [0.1, 0.2, 0.3, 0.4, 0.5, 0.6, 0.7, 0.8, 0.9]:\n",
    "            random_g = build_random_graph(num_n, p)\n",
    "            if random_g is not None:\n",
    "                mdl = mdl_graph(random_g)\n",
    "                complexity_gen_graphs[num_n].append(mdl)"
   ]
  },
  {
   "cell_type": "code",
   "execution_count": 174,
   "id": "95719840-882b-4c4a-847b-07731b8894b1",
   "metadata": {},
   "outputs": [],
   "source": [
    "# In-close initialization\n",
    "V = np.arange(0, biadjacency.shape[0])\n",
    "extents, intents, unexs, unexs_g = [], [], [], []\n",
    "extents_init = V\n",
    "intents_init = []\n",
    "unexs.append(0)\n",
    "unexs_g.append(0)\n",
    "extents.append(extents_init)\n",
    "intents.append(intents_init)"
   ]
  },
  {
   "cell_type": "code",
   "execution_count": 175,
   "id": "1d76d938-048e-4900-b96b-3909f3584bba",
   "metadata": {},
   "outputs": [
    {
     "ename": "TypeError",
     "evalue": "can only concatenate list (not \"int\") to list",
     "output_type": "error",
     "traceback": [
      "\u001b[0;31m---------------------------------------------------------------------------\u001b[0m",
      "\u001b[0;31mTypeError\u001b[0m                                 Traceback (most recent call last)",
      "File \u001b[0;32m<timed exec>:19\u001b[0m, in \u001b[0;36m<module>\u001b[0;34m\u001b[0m\n",
      "Input \u001b[0;32mIn [173]\u001b[0m, in \u001b[0;36min_close\u001b[0;34m(adjacency, context, extents, intents, unexs, unexs_g, r, y, depth, degs, gain, verbose)\u001b[0m\n\u001b[1;32m     91\u001b[0m             \u001b[38;5;28mprint\u001b[39m(\u001b[38;5;124m'\u001b[39m\u001b[38;5;130;01m\\n\u001b[39;00m\u001b[38;5;124m'\u001b[39m)\n\u001b[1;32m     93\u001b[0m         \u001b[38;5;66;03m#del gain_unex[(r_new-r):]\u001b[39;00m\n\u001b[0;32m---> 94\u001b[0m         \u001b[38;5;28;01mdel\u001b[39;00m gain_unex[(\u001b[38;5;28mlen\u001b[39m(\u001b[43mintents\u001b[49m\u001b[43m[\u001b[49m\u001b[43mr\u001b[49m\u001b[43m]\u001b[49m\u001b[38;5;241;43m+\u001b[39;49m\u001b[38;5;241;43m1\u001b[39;49m)):]\n\u001b[1;32m     95\u001b[0m         \u001b[38;5;28;01mreturn\u001b[39;00m [\u001b[38;5;241m*\u001b[39m\u001b[38;5;28mzip\u001b[39m(extents, intents)]\n\u001b[1;32m     97\u001b[0m \u001b[38;5;28;01melse\u001b[39;00m:\n",
      "\u001b[0;31mTypeError\u001b[0m: can only concatenate list (not \"int\") to list"
     ]
    }
   ],
   "source": [
    "%%time\n",
    "\n",
    "global r_new\n",
    "r_new = 0\n",
    "global gain_unex\n",
    "gain_unex = []\n",
    "gain_unex.append(0)\n",
    "\n",
    "# Degree of attribute = # articles in which it appears\n",
    "degrees = get_degrees(biadjacency.astype(bool), transpose=True)\n",
    "\n",
    "# Order attributes according to their ascending degree\n",
    "# This allows to add first attributes that will generate bigger subgraphs\n",
    "indexes = np.argsort(degrees)\n",
    "sorted_degs = degrees[indexes]\n",
    "filt_biadjacency = biadjacency[:, indexes]\n",
    "sorted_names_col = names_col[indexes]\n",
    "\n",
    "with open('logs/log_baboon.txt', 'w') as f:\n",
    "    with redirect_stdout(f):\n",
    "        result = in_close(adjacency, filt_biadjacency, extents, intents, unexs, unexs_g, r=0, y=0, depth=5, degs=sorted_degs, gain=gain_unex, verbose=True)\n",
    "        print()"
   ]
  },
  {
   "cell_type": "code",
   "execution_count": 172,
   "id": "ea65d10a-a524-452c-b854-343757dcc2b2",
   "metadata": {},
   "outputs": [
    {
     "name": "stdout",
     "output_type": "stream",
     "text": [
      "[]\n",
      "[4]\n",
      "[5]\n",
      "[6]\n",
      "[ 6 10]\n",
      "[7]\n",
      "[8]\n",
      "[9]\n",
      "[10]\n",
      "[11]\n",
      "[12]\n"
     ]
    }
   ],
   "source": [
    "for r in result:\n",
    "    print(r[1])"
   ]
  },
  {
   "cell_type": "code",
   "execution_count": 154,
   "id": "7fab14be-a2ff-4310-9772-9cb858659ff5",
   "metadata": {},
   "outputs": [
    {
     "name": "stdout",
     "output_type": "stream",
     "text": [
      "Supplanting\n"
     ]
    },
    {
     "data": {
      "image/svg+xml": [
       "<svg xmlns=\"http://www.w3.org/2000/svg\" width=\"488.0\" height=\"340\">\n",
       "<path stroke-width=\"1\" stroke=\"gray\" d=\"M 161 92 23 107\"/>\n",
       "<path stroke-width=\"1\" stroke=\"gray\" d=\"M 20 147 163 170\"/>\n",
       "<path stroke-width=\"1\" stroke=\"gray\" d=\"M 20 147 23 107\"/>\n",
       "<path stroke-width=\"1\" stroke=\"gray\" d=\"M 20 147 161 92\"/>\n",
       "<path stroke-width=\"1\" stroke=\"gray\" d=\"M 420 320 304 254\"/>\n",
       "<path stroke-width=\"1\" stroke=\"gray\" d=\"M 163 170 304 254\"/>\n",
       "<path stroke-width=\"1\" stroke=\"gray\" d=\"M 163 170 20 147\"/>\n",
       "<path stroke-width=\"1\" stroke=\"gray\" d=\"M 163 170 23 107\"/>\n",
       "<path stroke-width=\"1\" stroke=\"gray\" d=\"M 163 170 161 92\"/>\n",
       "<path stroke-width=\"1\" stroke=\"gray\" d=\"M 272 20 161 92\"/>\n",
       "<path stroke-width=\"1\" stroke=\"gray\" d=\"M 23 107 20 147\"/>\n",
       "<path stroke-width=\"1\" stroke=\"gray\" d=\"M 23 107 163 170\"/>\n",
       "<path stroke-width=\"1\" stroke=\"gray\" d=\"M 23 107 161 92\"/>\n",
       "<path stroke-width=\"1\" stroke=\"gray\" d=\"M 161 92 20 147\"/>\n",
       "<path stroke-width=\"1\" stroke=\"gray\" d=\"M 161 92 163 170\"/>\n",
       "<path stroke-width=\"1\" stroke=\"gray\" d=\"M 161 92 272 20\"/>\n",
       "<path stroke-width=\"1\" stroke=\"gray\" d=\"M 304 254 163 170\"/>\n",
       "<path stroke-width=\"1\" stroke=\"gray\" d=\"M 304 254 420 320\"/>\n",
       "<circle cx=\"161\" cy=\"92\" r=\"7.0\" style=\"fill:gray;stroke:black;stroke-width:1.0\"/>\n",
       "<circle cx=\"23\" cy=\"107\" r=\"7.0\" style=\"fill:gray;stroke:black;stroke-width:1.0\"/>\n",
       "<circle cx=\"272\" cy=\"20\" r=\"7.0\" style=\"fill:gray;stroke:black;stroke-width:1.0\"/>\n",
       "<circle cx=\"163\" cy=\"170\" r=\"7.0\" style=\"fill:gray;stroke:black;stroke-width:1.0\"/>\n",
       "<circle cx=\"420\" cy=\"320\" r=\"7.0\" style=\"fill:gray;stroke:black;stroke-width:1.0\"/>\n",
       "<circle cx=\"20\" cy=\"147\" r=\"7.0\" style=\"fill:gray;stroke:black;stroke-width:1.0\"/>\n",
       "<circle cx=\"304\" cy=\"254\" r=\"7.0\" style=\"fill:gray;stroke:black;stroke-width:1.0\"/>\n",
       "<text text-anchor=\"start\" x=\"171\" y=\"92\" font-size=\"12\">ANGELE</text><text text-anchor=\"start\" x=\"33\" y=\"107\" font-size=\"12\">BOBO</text><text text-anchor=\"start\" x=\"282\" y=\"20\" font-size=\"12\">EWINE</text><text text-anchor=\"start\" x=\"173\" y=\"170\" font-size=\"12\">FELIPE</text><text text-anchor=\"start\" x=\"430\" y=\"320\" font-size=\"12\">KALI</text><text text-anchor=\"start\" x=\"30\" y=\"147\" font-size=\"12\">LOME</text><text text-anchor=\"start\" x=\"314\" y=\"254\" font-size=\"12\">VIOLETTE</text></svg>"
      ],
      "text/plain": [
       "<IPython.core.display.SVG object>"
      ]
     },
     "execution_count": 154,
     "metadata": {},
     "output_type": "execute_result"
    }
   ],
   "source": [
    "# First graph\n",
    "objs = np.array([0, 3, 4, 6, 9, 11, 18])\n",
    "attrs = 6\n",
    "print(sorted_names_col[attrs])\n",
    "image = svg_graph(adjacency[objs, :][:, objs], names=names[objs])\n",
    "SVG(image)"
   ]
  },
  {
   "cell_type": "code",
   "execution_count": 156,
   "id": "66bd18b6-2c0c-442c-be6f-a2c4081f4d59",
   "metadata": {},
   "outputs": [
    {
     "name": "stdout",
     "output_type": "stream",
     "text": [
      "['Supplanting' 'Invisible']\n"
     ]
    },
    {
     "data": {
      "image/svg+xml": [
       "<svg xmlns=\"http://www.w3.org/2000/svg\" width=\"500.0\" height=\"340\">\n",
       "<path stroke-width=\"1\" stroke=\"gray\" d=\"M 61 290 20 277\"/>\n",
       "<path stroke-width=\"1\" stroke=\"gray\" d=\"M 61 290 107 306\"/>\n",
       "<path stroke-width=\"1\" stroke=\"gray\" d=\"M 149 320 107 306\"/>\n",
       "<path stroke-width=\"1\" stroke=\"gray\" d=\"M 20 277 61 290\"/>\n",
       "<path stroke-width=\"1\" stroke=\"gray\" d=\"M 107 306 61 290\"/>\n",
       "<path stroke-width=\"1\" stroke=\"gray\" d=\"M 107 306 149 320\"/>\n",
       "<circle cx=\"420\" cy=\"20\" r=\"7.0\" style=\"fill:gray;stroke:black;stroke-width:1.0\"/>\n",
       "<circle cx=\"61\" cy=\"290\" r=\"7.0\" style=\"fill:gray;stroke:black;stroke-width:1.0\"/>\n",
       "<circle cx=\"149\" cy=\"320\" r=\"7.0\" style=\"fill:gray;stroke:black;stroke-width:1.0\"/>\n",
       "<circle cx=\"20\" cy=\"277\" r=\"7.0\" style=\"fill:gray;stroke:black;stroke-width:1.0\"/>\n",
       "<circle cx=\"107\" cy=\"306\" r=\"7.0\" style=\"fill:gray;stroke:black;stroke-width:1.0\"/>\n",
       "<text text-anchor=\"start\" x=\"430\" y=\"20\" font-size=\"12\">EWINE</text><text text-anchor=\"start\" x=\"71\" y=\"290\" font-size=\"12\">FELIPE</text><text text-anchor=\"start\" x=\"159\" y=\"320\" font-size=\"12\">KALI</text><text text-anchor=\"start\" x=\"30\" y=\"277\" font-size=\"12\">LOME</text><text text-anchor=\"start\" x=\"117\" y=\"306\" font-size=\"12\">VIOLETTE</text></svg>"
      ],
      "text/plain": [
       "<IPython.core.display.SVG object>"
      ]
     },
     "execution_count": 156,
     "metadata": {},
     "output_type": "execute_result"
    }
   ],
   "source": [
    "# First graph\n",
    "objs = np.array([4, 6, 9, 11, 18])\n",
    "attrs = np.array([6, 10])\n",
    "print(sorted_names_col[attrs])\n",
    "image = svg_graph(adjacency[objs, :][:, objs], names=names[objs])\n",
    "SVG(image)"
   ]
  },
  {
   "cell_type": "code",
   "execution_count": 157,
   "id": "d391e770-cdd9-43f3-a5e9-cf8914328e9a",
   "metadata": {},
   "outputs": [
    {
     "data": {
      "text/plain": [
       "[(array([ 0,  1,  2,  3,  4,  5,  6,  7,  8,  9, 10, 11, 12, 13, 14, 15, 16,\n",
       "         17, 18], dtype=int32),\n",
       "  array([13])),\n",
       " (array([11, 18, 10, 13], dtype=int32), array([4])),\n",
       " (array([ 1,  3,  6,  9, 16, 17], dtype=int32), array([5])),\n",
       " (array([ 0,  3,  4,  6,  9, 11, 18], dtype=int32), array([6])),\n",
       " (array([ 3,  5,  6,  7, 16, 17, 18], dtype=int32), array([7])),\n",
       " (array([ 5,  6,  7, 10, 13, 15, 16, 17], dtype=int32), array([8])),\n",
       " (array([ 2,  6,  7, 10, 11, 12, 13, 14, 15], dtype=int32), array([9])),\n",
       " (array([ 1,  4,  5,  6,  7,  8,  9, 10, 11, 12, 13, 15, 17, 18],\n",
       "        dtype=int32),\n",
       "  array([10])),\n",
       " (array([ 0,  1,  2,  3,  4,  5,  6,  7,  8,  9, 10, 11, 12, 13, 15, 16, 17,\n",
       "         18], dtype=int32),\n",
       "  array([12]))]"
      ]
     },
     "execution_count": 157,
     "metadata": {},
     "output_type": "execute_result"
    }
   ],
   "source": [
    "result"
   ]
  },
  {
   "cell_type": "code",
   "execution_count": null,
   "id": "243268d5-f00c-4c49-8580-6ba1ab2f3b9d",
   "metadata": {},
   "outputs": [],
   "source": []
  }
 ],
 "metadata": {
  "kernelspec": {
   "display_name": "COMEG",
   "language": "python",
   "name": "comeg"
  },
  "language_info": {
   "codemirror_mode": {
    "name": "ipython",
    "version": 3
   },
   "file_extension": ".py",
   "mimetype": "text/x-python",
   "name": "python",
   "nbconvert_exporter": "python",
   "pygments_lexer": "ipython3",
   "version": "3.9.13"
  }
 },
 "nbformat": 4,
 "nbformat_minor": 5
}
