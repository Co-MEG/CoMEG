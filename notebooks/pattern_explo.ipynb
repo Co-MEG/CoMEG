{
 "cells": [
  {
   "cell_type": "markdown",
   "id": "8e9f1e1e-4e84-4003-ab22-19a8cd173d0f",
   "metadata": {},
   "source": [
    "# Pattern exploration\n",
    "---"
   ]
  },
  {
   "cell_type": "code",
   "execution_count": 656,
   "id": "b1c5a6ec-436c-4944-845d-4ba551523c2e",
   "metadata": {},
   "outputs": [],
   "source": [
    "from IPython.display import SVG\n",
    "import numpy as np\n",
    "import pickle\n",
    "from scipy import sparse\n",
    "\n",
    "from sknetwork.data import load_netset\n",
    "from sknetwork.topology import get_connected_components\n",
    "from sknetwork.utils import get_degrees\n",
    "from sknetwork.visualization import svg_graph"
   ]
  },
  {
   "cell_type": "code",
   "execution_count": 658,
   "id": "2e1c06e0-67e1-491c-bcce-9d154cd89332",
   "metadata": {},
   "outputs": [],
   "source": [
    "def load_data(dataset: str):\n",
    "    \"\"\"Load data and return loaded elements as a tuple.\n",
    "    \n",
    "    Parameters\n",
    "    ----------\n",
    "    dataset: str\n",
    "        Name of dataset (on netset or local).\n",
    "    \"\"\"\n",
    "    netset = ['wikivitals-fr', 'wikischools', 'wikivitals', 'wikihumans']\n",
    "    labels = ''\n",
    "\n",
    "    if dataset in netset:\n",
    "        graph = load_netset(dataset)\n",
    "        if dataset != 'wikihumans':\n",
    "            labels = graph.labels\n",
    "\n",
    "    elif dataset == 'lastfm':\n",
    "        with open(f'/Users/simondelarue/Documents/PhD/Research/Co-Meg/CoMEG/notebooks/data/{dataset}', 'br') as f:\n",
    "            graph = pickle.load(f)\n",
    "\n",
    "    adjacency = graph.adjacency\n",
    "    biadjacency = graph.biadjacency\n",
    "    names = graph.names\n",
    "    names_col = graph.names_col\n",
    "    \n",
    "    return adjacency, biadjacency, names, names_col, labels"
   ]
  },
  {
   "cell_type": "code",
   "execution_count": 659,
   "id": "e936460e-edd7-43d6-99b4-6bce1cd077bc",
   "metadata": {},
   "outputs": [],
   "source": [
    "def preprocess_data(biadjacency, names_col, s):\n",
    "    # Frequent attributes\n",
    "    freq_attribute = get_degrees(biadjacency.astype(bool), transpose=True)\n",
    "    index = np.flatnonzero((freq_attribute <= 1000) & (freq_attribute >= s))\n",
    "\n",
    "    # Filter data with index\n",
    "    biadjacency = biadjacency[:, index]\n",
    "    words = names_col[index]\n",
    "    freq_attribute = freq_attribute[index]\n",
    "    \n",
    "    # Sort data\n",
    "    sort_index = np.argsort(freq_attribute)\n",
    "    sorted_biadjacency = biadjacency[:, sort_index]\n",
    "    words = words[sort_index]\n",
    "    return sorted_biadjacency, words\n",
    "\n",
    "def get_pattern(patterns, i):\n",
    "    return patterns[i][0], patterns[i][1]\n",
    "\n",
    "def display_pattern(adjacency, nodes, names, labels):\n",
    "    if labels=='':\n",
    "        return SVG(svg_graph(adjacency[nodes, :][:, nodes] + sparse.identity(len(nodes)), names=names[nodes], edge_width_max=1))\n",
    "    else:\n",
    "        return SVG(svg_graph(adjacency[nodes, :][:, nodes] + sparse.identity(len(nodes)), names=names[nodes], labels=labels[nodes], edge_width_max=1))"
   ]
  },
  {
   "cell_type": "markdown",
   "id": "031c8a05-bad2-4759-ad8d-90dfd2207873",
   "metadata": {},
   "source": [
    "## Parameters  \n",
    "\n",
    "Select:\n",
    "- dataset: either `wikivitals`, `wikivitals-fr` or `wikischools`\n",
    "- $s$ and $\\beta$: support parameters (here 5)\n",
    "- order_attributes: initial ordering of attributes (here True)"
   ]
  },
  {
   "cell_type": "code",
   "execution_count": 1091,
   "id": "f3b12b0b-b24b-4ba3-bf98-a04dfc20e683",
   "metadata": {},
   "outputs": [],
   "source": [
    "# Parameters for UnexPatterns\n",
    "dataset = 'wikischools'\n",
    "s = 4\n",
    "beta = 4\n",
    "order_attributes = True"
   ]
  },
  {
   "cell_type": "markdown",
   "id": "92df90f2-31ce-48ff-8edc-2e3c21b0b11b",
   "metadata": {},
   "source": [
    "**Load graph data and preprocess it (e.g attribute ordering)**"
   ]
  },
  {
   "cell_type": "code",
   "execution_count": 1092,
   "id": "48df9182-fb48-45ed-8242-6cbe7b47f3a7",
   "metadata": {},
   "outputs": [
    {
     "name": "stdout",
     "output_type": "stream",
     "text": [
      "Parsing files...\n",
      "Done.\n"
     ]
    }
   ],
   "source": [
    "# Load data\n",
    "adjacency, biadjacency, names, names_col, labels = load_data(dataset)\n",
    "\n",
    "# Preprocess data (get same attribute order as in UnexPattern)\n",
    "new_biadjacency, words = preprocess_data(biadjacency, names_col, s)"
   ]
  },
  {
   "cell_type": "markdown",
   "id": "6cd606a4-e44e-4800-9615-dfcfcbfb5904",
   "metadata": {},
   "source": [
    "**Load `UnexPatterns` output**"
   ]
  },
  {
   "cell_type": "markdown",
   "id": "900d75a5-8eb5-4d68-a0b7-0b4a19ce37c0",
   "metadata": {},
   "source": [
    "Output of algorithm is a list of patterns, i.e. a list of tuples (nodes, attributes)."
   ]
  },
  {
   "cell_type": "code",
   "execution_count": 1093,
   "id": "01b62fba-7d8e-420c-b06d-ccf0dcc10132",
   "metadata": {},
   "outputs": [],
   "source": [
    "inpath = '/Users/simondelarue/Documents/PhD/Research/Co-Meg/CoMEG'\n",
    "\n",
    "with open(f'{inpath}/result_{dataset}_{beta}_{s}_order{str(order_attributes)}_prob.bin', 'rb') as data:\n",
    "    res = pickle.load(data)"
   ]
  },
  {
   "cell_type": "code",
   "execution_count": 1094,
   "id": "a67cd1c3-ac37-47c8-9286-641a6750b801",
   "metadata": {},
   "outputs": [
    {
     "name": "stdout",
     "output_type": "stream",
     "text": [
      "Number of patterns found: 2463\n"
     ]
    }
   ],
   "source": [
    "print(f'Number of patterns found: {len(res)}')"
   ]
  },
  {
   "cell_type": "code",
   "execution_count": 1095,
   "id": "768a9f53-8252-4bad-ad6a-41a6f19db9ce",
   "metadata": {},
   "outputs": [
    {
     "name": "stdout",
     "output_type": "stream",
     "text": [
      "([518, 567, 2354, 2865], [1, 1992, 7496, 9907, 10123, 10125, 10168, 10203, 10238, 10256, 10261, 10288, 10329])\n",
      "['Bolivia' 'Peru' 'Bogotá' 'Simón Bolívar'] ['simón' 'bolívar' 'colombia' 'spanish' 'presid' 'latin' 'de' 'listen'\n",
      " 'territori' 'empir' 'america' 'independ' 'polit']\n"
     ]
    }
   ],
   "source": [
    "# First pattern (pattern of index 0 is the starting point of lattice)\n",
    "idx = 1 #np.random.choice(len(res))\n",
    "print(res[idx])\n",
    "\n",
    "nodes = res[idx][0]\n",
    "attributes = res[idx][1]\n",
    "print(names[nodes], words[attributes])"
   ]
  },
  {
   "cell_type": "markdown",
   "id": "45a05a72-3a44-4be7-ba46-d0fdb8376371",
   "metadata": {},
   "source": [
    "**Display pattern**"
   ]
  },
  {
   "cell_type": "code",
   "execution_count": 1104,
   "id": "2d0f3b1e-efe2-4de8-8750-57402511fcf3",
   "metadata": {},
   "outputs": [
    {
     "name": "stdout",
     "output_type": "stream",
     "text": [
      "Pattern index: 1173\n",
      "Attributes: ['chester' 'german' 'ii' 'war' 'becam']\n"
     ]
    },
    {
     "name": "stderr",
     "output_type": "stream",
     "text": [
      "/var/folders/hb/p2nvp7cj1dg6y96zlm9vqb2c0000gn/T/ipykernel_22700/3453224079.py:21: FutureWarning: elementwise comparison failed; returning scalar instead, but in the future will perform elementwise comparison\n",
      "  if labels=='':\n"
     ]
    },
    {
     "data": {
      "image/svg+xml": [
       "<svg xmlns=\"http://www.w3.org/2000/svg\" width=\"673.7487746317347\" height=\"340\">\n",
       "<defs><marker id=\"arrow-gray\" markerWidth=\"10\" markerHeight=\"10\" refX=\"9\" refY=\"3\" orient=\"auto\">\n",
       "<path d=\"M0,0 L0,6 L9,3 z\" fill=\"gray\"/></marker></defs>\n",
       "<path stroke-width=\"1.0\" stroke=\"gray\" d=\"M 420 176 380 105\" marker-end=\"url(#arrow-gray)\"/>\n",
       "<path stroke-width=\"1.0\" stroke=\"gray\" d=\"M 420 176 392 250\" marker-end=\"url(#arrow-gray)\"/>\n",
       "<path stroke-width=\"1.0\" stroke=\"gray\" d=\"M 407 20 420 170\" marker-end=\"url(#arrow-gray)\"/>\n",
       "<path stroke-width=\"1.0\" stroke=\"gray\" d=\"M 407 20 379 93\" marker-end=\"url(#arrow-gray)\"/>\n",
       "<path stroke-width=\"1.0\" stroke=\"gray\" d=\"M 407 20 390 250\" marker-end=\"url(#arrow-gray)\"/>\n",
       "<path stroke-width=\"1.0\" stroke=\"gray\" d=\"M 377 99 417 170\" marker-end=\"url(#arrow-gray)\"/>\n",
       "<path stroke-width=\"1.0\" stroke=\"gray\" d=\"M 377 99 405 26\" marker-end=\"url(#arrow-gray)\"/>\n",
       "<path stroke-width=\"1.0\" stroke=\"gray\" d=\"M 377 99 390 250\" marker-end=\"url(#arrow-gray)\"/>\n",
       "<path stroke-width=\"1.0\" stroke=\"gray\" d=\"M 390 256 418 182\" marker-end=\"url(#arrow-gray)\"/>\n",
       "<circle cx=\"420\" cy=\"176\" r=\"7.0\" style=\"fill:fuchsia;stroke:black;stroke-width:1.0\"/>\n",
       "<circle cx=\"407\" cy=\"20\" r=\"7.0\" style=\"fill:purple;stroke:black;stroke-width:1.0\"/>\n",
       "<circle cx=\"377\" cy=\"99\" r=\"7.0\" style=\"fill:olive;stroke:black;stroke-width:1.0\"/>\n",
       "<circle cx=\"390\" cy=\"256\" r=\"7.0\" style=\"fill:olive;stroke:black;stroke-width:1.0\"/>\n",
       "<circle cx=\"20\" cy=\"320\" r=\"7.0\" style=\"fill:olive;stroke:black;stroke-width:1.0\"/>\n",
       "<text text-anchor=\"start\" x=\"430\" y=\"176\" font-size=\"12\">Berlin</text><text text-anchor=\"start\" x=\"417\" y=\"20\" font-size=\"12\">Sanssouci</text><text text-anchor=\"start\" x=\"387\" y=\"99\" font-size=\"12\">Frederick II of Prussia</text><text text-anchor=\"start\" x=\"400\" y=\"256\" font-size=\"12\">German reunification</text><text text-anchor=\"start\" x=\"30\" y=\"320\" font-size=\"12\">History of Poland (1945–1989)</text></svg>"
      ],
      "text/plain": [
       "<IPython.core.display.SVG object>"
      ]
     },
     "execution_count": 1104,
     "metadata": {},
     "output_type": "execute_result"
    }
   ],
   "source": [
    "# Random pattern\n",
    "idx = np.random.choice(len(res))\n",
    "nodes, attributes = get_pattern(res, idx)\n",
    "\n",
    "print(f'Pattern index: {idx}')\n",
    "print(f'Attributes: {words[attributes]}')\n",
    "\n",
    "# Display pattern\n",
    "display_pattern(adjacency, nodes, names, labels)"
   ]
  },
  {
   "cell_type": "markdown",
   "id": "bfa4ac47-64f4-4db9-bcaa-eb1b0487471a",
   "metadata": {},
   "source": [
    "## Patterns from keywords"
   ]
  },
  {
   "cell_type": "markdown",
   "id": "0fc848c3-d032-43b3-bc5f-71cd7a93f8ee",
   "metadata": {},
   "source": [
    "Select pattern related to specific keywords, i.e. patterns that contain **at least one** keyword in list."
   ]
  },
  {
   "cell_type": "code",
   "execution_count": 1105,
   "id": "76663895-d16e-41d3-858c-edaf0e241e87",
   "metadata": {},
   "outputs": [],
   "source": [
    "def get_patterns(patterns, keyword, words):\n",
    "    res = []\n",
    "    for p in patterns:\n",
    "        for w in keywords:\n",
    "            index = np.argwhere(words==w)\n",
    "            if len(index) > 0:\n",
    "                if int(index) in p[1]:\n",
    "                    res.append(p)\n",
    "                    break\n",
    "            else:\n",
    "                raise Exception(f'keyword: {w} is not found.')\n",
    "    return res"
   ]
  },
  {
   "cell_type": "code",
   "execution_count": 1106,
   "id": "4a3948ed-b96c-43f9-a640-9d36b194fdbe",
   "metadata": {},
   "outputs": [
    {
     "name": "stdout",
     "output_type": "stream",
     "text": [
      "2471\n"
     ]
    }
   ],
   "source": [
    "valid_words = np.unique(np.asarray([words[w] for p in res for w in p[1]]))\n",
    "print(len(valid_words))"
   ]
  },
  {
   "cell_type": "code",
   "execution_count": 1107,
   "id": "2871d268-fce8-4720-8322-4432cd56567c",
   "metadata": {},
   "outputs": [
    {
     "name": "stdout",
     "output_type": "stream",
     "text": [
      "Some random words to get inspiration: ['gottlieb' 'snow' 'inland' 'compani' 'becom' 'commonwealth' 'older'\n",
      " 'inact' 'zone' 'mudflat' 'plan' 'extend' 'cataract' 'geolog' 'often']\n"
     ]
    }
   ],
   "source": [
    "# Select keywords\n",
    "#print(f'Some random words to get inspiration: {np.random.choice(words, 15)}')\n",
    "print(f'Some random words to get inspiration: {np.random.choice(valid_words, 15)}')"
   ]
  },
  {
   "cell_type": "code",
   "execution_count": 1108,
   "id": "4d5f4fb6-2423-4834-be64-6be6b90c41f0",
   "metadata": {},
   "outputs": [],
   "source": [
    "# Chose keywords\n",
    "keywords = ['snow', 'commonwealth']"
   ]
  },
  {
   "cell_type": "code",
   "execution_count": 1109,
   "id": "0795f240-0938-44ee-87fb-8b7e6151f7e5",
   "metadata": {},
   "outputs": [
    {
     "name": "stdout",
     "output_type": "stream",
     "text": [
      "Number of patterns related to ['snow', 'commonwealth']: 5\n"
     ]
    }
   ],
   "source": [
    "kw_patterns = get_patterns(res, keywords, words)\n",
    "print(f'Number of patterns related to {keywords}: {len(kw_patterns)}')"
   ]
  },
  {
   "cell_type": "code",
   "execution_count": 1110,
   "id": "b1e66938-2f55-487d-8d46-23ab249ccb0d",
   "metadata": {},
   "outputs": [
    {
     "name": "stdout",
     "output_type": "stream",
     "text": [
      "Attributes of patter: ['toughest' 'snow' 'retir' 'asia' 'empir' 'central' 'europ' 'led'\n",
      " 'histori' 'power']\n"
     ]
    },
    {
     "name": "stderr",
     "output_type": "stream",
     "text": [
      "/var/folders/hb/p2nvp7cj1dg6y96zlm9vqb2c0000gn/T/ipykernel_22700/3453224079.py:21: FutureWarning: elementwise comparison failed; returning scalar instead, but in the future will perform elementwise comparison\n",
      "  if labels=='':\n"
     ]
    },
    {
     "data": {
      "image/svg+xml": [
       "<svg xmlns=\"http://www.w3.org/2000/svg\" width=\"517.194254202507\" height=\"340\">\n",
       "<defs><marker id=\"arrow-gray\" markerWidth=\"10\" markerHeight=\"10\" refX=\"9\" refY=\"3\" orient=\"auto\">\n",
       "<path d=\"M0,0 L0,6 L9,3 z\" fill=\"gray\"/></marker></defs>\n",
       "<path stroke-width=\"1.0\" stroke=\"gray\" d=\"M 353 20 283 177\" marker-end=\"url(#arrow-gray)\"/>\n",
       "<path stroke-width=\"1.0\" stroke=\"gray\" d=\"M 20 303 414 320\" marker-end=\"url(#arrow-gray)\"/>\n",
       "<path stroke-width=\"1.0\" stroke=\"gray\" d=\"M 20 303 275 185\" marker-end=\"url(#arrow-gray)\"/>\n",
       "<path stroke-width=\"1.0\" stroke=\"gray\" d=\"M 281 183 416 316\" marker-end=\"url(#arrow-gray)\"/>\n",
       "<circle cx=\"353\" cy=\"20\" r=\"7.0\" style=\"fill:olive;stroke:black;stroke-width:1.0\"/>\n",
       "<circle cx=\"420\" cy=\"320\" r=\"7.0\" style=\"fill:fuchsia;stroke:black;stroke-width:1.0\"/>\n",
       "<circle cx=\"20\" cy=\"303\" r=\"7.0\" style=\"fill:olive;stroke:black;stroke-width:1.0\"/>\n",
       "<circle cx=\"281\" cy=\"183\" r=\"7.0\" style=\"fill:olive;stroke:black;stroke-width:1.0\"/>\n",
       "<text text-anchor=\"start\" x=\"363\" y=\"20\" font-size=\"12\">14th century</text><text text-anchor=\"start\" x=\"430\" y=\"320\" font-size=\"12\">Iran</text><text text-anchor=\"start\" x=\"30\" y=\"303\" font-size=\"12\">Mongol Empire</text><text text-anchor=\"start\" x=\"291\" y=\"183\" font-size=\"12\">Timur</text></svg>"
      ],
      "text/plain": [
       "<IPython.core.display.SVG object>"
      ]
     },
     "execution_count": 1110,
     "metadata": {},
     "output_type": "execute_result"
    }
   ],
   "source": [
    "first_pattern = get_pattern(kw_patterns, 0)\n",
    "\n",
    "print(f'Attributes of patter: {words[first_pattern[1]]}')\n",
    "display_pattern(adjacency, first_pattern[0], names, labels)"
   ]
  },
  {
   "cell_type": "code",
   "execution_count": 1111,
   "id": "8c8730e2-a912-412d-8b50-cae5a8d9795a",
   "metadata": {},
   "outputs": [
    {
     "name": "stdout",
     "output_type": "stream",
     "text": [
      "Attributes of pattern 3/4: ['hindustani' 'sun' 'commonwealth' 'tropic' 'rank']\n"
     ]
    },
    {
     "name": "stderr",
     "output_type": "stream",
     "text": [
      "/var/folders/hb/p2nvp7cj1dg6y96zlm9vqb2c0000gn/T/ipykernel_22700/3453224079.py:21: FutureWarning: elementwise comparison failed; returning scalar instead, but in the future will perform elementwise comparison\n",
      "  if labels=='':\n"
     ]
    },
    {
     "data": {
      "image/svg+xml": [
       "<svg xmlns=\"http://www.w3.org/2000/svg\" width=\"545.3032640716153\" height=\"340\">\n",
       "<path stroke-width=\"1.0\" stroke=\"gray\" d=\"M 420 88 420 88\"/>\n",
       "<path stroke-width=\"1.0\" stroke=\"gray\" d=\"M 420 88 417 119\"/>\n",
       "<path stroke-width=\"1.0\" stroke=\"gray\" d=\"M 20 320 20 320\"/>\n",
       "<path stroke-width=\"1.0\" stroke=\"gray\" d=\"M 417 119 420 88\"/>\n",
       "<path stroke-width=\"1.0\" stroke=\"gray\" d=\"M 417 119 417 119\"/>\n",
       "<path stroke-width=\"1.0\" stroke=\"gray\" d=\"M 69 20 69 20\"/>\n",
       "<circle cx=\"420\" cy=\"88\" r=\"7.0\" style=\"fill:orange;stroke:black;stroke-width:1.0\"/>\n",
       "<circle cx=\"20\" cy=\"320\" r=\"7.0\" style=\"fill:orange;stroke:black;stroke-width:1.0\"/>\n",
       "<circle cx=\"417\" cy=\"119\" r=\"7.0\" style=\"fill:orange;stroke:black;stroke-width:1.0\"/>\n",
       "<circle cx=\"69\" cy=\"20\" r=\"7.0\" style=\"fill:orange;stroke:black;stroke-width:1.0\"/>\n",
       "<text text-anchor=\"start\" x=\"430\" y=\"88\" font-size=\"12\">Galaxy</text><text text-anchor=\"start\" x=\"30\" y=\"320\" font-size=\"12\">Sirius</text><text text-anchor=\"start\" x=\"427\" y=\"119\" font-size=\"12\">Milky Way</text><text text-anchor=\"start\" x=\"79\" y=\"20\" font-size=\"12\">Crab Nebula</text></svg>"
      ],
      "text/plain": [
       "<IPython.core.display.SVG object>"
      ]
     },
     "execution_count": 1111,
     "metadata": {},
     "output_type": "execute_result"
    }
   ],
   "source": [
    "idx = np.random.choice(len(kw_patterns))\n",
    "rand_pattern = get_pattern(kw_patterns, idx)\n",
    "\n",
    "print(f'Attributes of pattern {idx}/{len(kw_patterns)-1}: {words[rand_pattern[1]]}')\n",
    "display_pattern(adjacency, rand_pattern[0], names, labels)"
   ]
  },
  {
   "cell_type": "markdown",
   "id": "54b6426f-fd36-46a2-93bb-e780cffd102b",
   "metadata": {},
   "source": [
    "## Pattern summaries from keywords "
   ]
  },
  {
   "cell_type": "code",
   "execution_count": 1112,
   "id": "2e674bae-a1e8-4e0d-ac98-542dab05cf8d",
   "metadata": {},
   "outputs": [],
   "source": [
    "def get_summarized_graph(adjacency, patterns):\n",
    "    \"\"\"Get summarized graph given patterns and original adjacency matrix.\"\"\"\n",
    "    \n",
    "    rows, cols = [], []\n",
    "\n",
    "    for p in patterns:\n",
    "\n",
    "        # exclude first element of lattice \n",
    "        if len(p[1]) > 0:\n",
    "            nodes = sorted(p[0])\n",
    "            idx = 0\n",
    "            idx_nodes = np.array([-1] * len(nodes)) # number of unique nodes from concepts\n",
    "            # reindex nodes\n",
    "            for n in nodes:\n",
    "                if n not in idx_nodes:\n",
    "                    idx_nodes[idx] = n\n",
    "                    idx += 1\n",
    "            \n",
    "            # Record edges from subgraph related to concept\n",
    "            adj_pattern = adjacency[nodes, :][:, nodes].tocoo()\n",
    "            reindex_rows = [int(idx_nodes[src]) for src in adj_pattern.row]\n",
    "            reindex_cols = [int(idx_nodes[dst]) for dst in adj_pattern.col]\n",
    "            rows += reindex_rows\n",
    "            cols += reindex_cols\n",
    "            \n",
    "    return sparse.coo_matrix((np.ones(len(rows)), (rows, cols)), shape=adjacency.shape).tocsr()\n",
    "\n",
    "def get_summarized_biadjacency(adjacency, biadjacency, patterns):\n",
    "    summarized_biadj = np.zeros((adjacency.shape[0], biadjacency.shape[1]))\n",
    "    for p in patterns:\n",
    "        if len(p[1]) > 0:\n",
    "            for node in p[0]:\n",
    "                summarized_biadj[node, p[1]] += 1\n",
    "\n",
    "    summarized_biadj = sparse.csr_matrix(summarized_biadj.astype(bool), shape=summarized_biadj.shape)\n",
    "    return summarized_biadj"
   ]
  },
  {
   "cell_type": "code",
   "execution_count": 1220,
   "id": "49beacdb-0742-40b3-a15f-2d866e380946",
   "metadata": {},
   "outputs": [],
   "source": [
    "def display_pattern_summary(summarized_adjacency, summarized_biadjacency, mask, labels_cc, idx, names, names_col, labels, width=500, height=500):\n",
    "    mask_cc = labels_cc == idx\n",
    "    g = summarized_adjacency[mask, :][:, mask]\n",
    "    g_cc = g[mask_cc, :][:, mask_cc]\n",
    "    \n",
    "    attributes = np.unique(summarized_biadj[mask, :][mask_cc, :].indices)\n",
    "    print(f'Attributes: {names_col[attributes]}')\n",
    "    \n",
    "    if labels=='':\n",
    "        return SVG(svg_graph(g_cc + sparse.identity(g_cc.shape[0]), names=names[mask][mask_cc], \n",
    "              edge_width_min=0.5, edge_width_max=0.5, width=width, height=height))\n",
    "    else:\n",
    "        return SVG(svg_graph(g_cc + sparse.identity(g_cc.shape[0]), names=names[mask][mask_cc], \n",
    "              edge_width_min=0.5, edge_width_max=0.5, width=width, height=height, labels=labels[mask][mask_cc]))"
   ]
  },
  {
   "cell_type": "markdown",
   "id": "05ebf77a-fe2a-42f8-8405-abcc829a604b",
   "metadata": {},
   "source": [
    "**Summarized graph**"
   ]
  },
  {
   "cell_type": "code",
   "execution_count": 1114,
   "id": "2c828dd8-6896-4a31-8633-0ffe2706cbf3",
   "metadata": {},
   "outputs": [
    {
     "data": {
      "text/plain": [
       "<4403x4403 sparse matrix of type '<class 'numpy.float64'>'\n",
       "\twith 2390 stored elements in Compressed Sparse Row format>"
      ]
     },
     "execution_count": 1114,
     "metadata": {},
     "output_type": "execute_result"
    }
   ],
   "source": [
    "# Build summarized adjacency matrix, i.e. adjacency matrix of the union of all patterns found with UnexPatterns\n",
    "summarized_adj = get_summarized_graph(adjacency, res)\n",
    "summarized_adj"
   ]
  },
  {
   "cell_type": "code",
   "execution_count": 1115,
   "id": "3240fa69-84bd-4855-9238-3f9e5e186cb0",
   "metadata": {},
   "outputs": [
    {
     "data": {
      "text/plain": [
       "<4403x10383 sparse matrix of type '<class 'numpy.bool_'>'\n",
       "\twith 26182 stored elements in Compressed Sparse Row format>"
      ]
     },
     "execution_count": 1115,
     "metadata": {},
     "output_type": "execute_result"
    }
   ],
   "source": [
    "# Build summarized biadjacency matrix\n",
    "summarized_biadj = get_summarized_biadjacency(adjacency, new_biadjacency, res)\n",
    "summarized_biadj"
   ]
  },
  {
   "cell_type": "markdown",
   "id": "f5b2d1d7-fab6-4e3f-8d1c-09eaa61795b5",
   "metadata": {},
   "source": [
    "**Pattern summaries**"
   ]
  },
  {
   "cell_type": "code",
   "execution_count": 1116,
   "id": "7599517d-9579-4876-b1a3-b39ddae33035",
   "metadata": {},
   "outputs": [
    {
     "name": "stdout",
     "output_type": "stream",
     "text": [
      "Number of pattern summaries: 135\n"
     ]
    }
   ],
   "source": [
    "# Summarized graph filtered on used nodes\n",
    "mask = np.flatnonzero(summarized_adj.astype(bool).dot(np.ones(summarized_adj.shape[1])))\n",
    "\n",
    "# Number of connected components (NOT considering isolated nodes)\n",
    "labels_cc_summarized = get_connected_components(summarized_adj[mask, :][:, mask])\n",
    "nb_cc = len(np.unique(labels_cc_summarized)) \n",
    "\n",
    "print(f'Number of pattern summaries: {nb_cc}')"
   ]
  },
  {
   "cell_type": "code",
   "execution_count": 1225,
   "id": "62dc573f-33b0-4a50-879a-22d3b9ba3c1d",
   "metadata": {},
   "outputs": [
    {
     "data": {
      "text/plain": [
       "[(2, 228),\n",
       " (11, 111),\n",
       " (1, 58),\n",
       " (75, 33),\n",
       " (15, 25),\n",
       " (17, 25),\n",
       " (30, 20),\n",
       " (35, 17),\n",
       " (55, 17),\n",
       " (0, 15)]"
      ]
     },
     "execution_count": 1225,
     "metadata": {},
     "output_type": "execute_result"
    }
   ],
   "source": [
    "# Biggest pattern summaries (index of pattern, nb nodes)\n",
    "sorted(dict(Counter(labels_cc_summarized)).items(), key=lambda x: x[1], reverse=True)[:10]"
   ]
  },
  {
   "cell_type": "code",
   "execution_count": 1236,
   "id": "de3a2f50-fab9-4b1d-b419-ebaa5bd2496a",
   "metadata": {},
   "outputs": [
    {
     "name": "stdout",
     "output_type": "stream",
     "text": [
      "Pattern summary: 1\n",
      "Attributes: ['succumb' 'romulu' 'lepidu' 'soter' 'fife' 'corvu' 'barrist' 'horac'\n",
      " 'sewn' 'reconquest' 'theoriz' 'brexit' 'existenti' 'irrepar' 'cadillac'\n",
      " 'distinctli' 'unparallel' 'delight' 'her' 'hernán' 'brambl' 'hemoglobin'\n",
      " 'phenotyp' 'eland' 'sevastopol' 'eratosthen' 'welbi' 'repositori'\n",
      " 'escarp' 'heath' 'triumvir' 'paramagnet' 'fédération' 'untreat' 'akin'\n",
      " 'محمد' 'thicken' 'yugoslav' 'mlb' 'władysław' 'palat' 'grung' 'germania'\n",
      " 'gravel' 'fixtur' 'octavia' 'actium' 'ra' 'allah' 'sunda' 'transvaal'\n",
      " 'ftse' 'harem' 'electrifi' 'octavian' 'quadruped' 'leftist' 'wrong' 'fa'\n",
      " 'inact' 'isabella' 'stalk' 'shrine' 'titular' 'reveng' 'marcu' 'unix'\n",
      " 'devil' 'gnu' 'transactinid' 'replic' 'burrow' 'antoni' 'fluoresc' 'noth'\n",
      " 'northward' 'tribal' 'thinker' 'berber' 'ancestri' 'caesar' 'slavic'\n",
      " 'suspect' 'client' 'disintegr' 'iberian' 'normandi' 'imagin' 'shark'\n",
      " 'buddhist' 'beneath' 'feudal' 'juliu' 'frontier' 'lanka' 'suicid' 'boom'\n",
      " 'chairman' 'physiolog' 'eldest' 'wire' 'adher' 'alcohol' 'procedur'\n",
      " 'enact' 'manuscript' 'debt' 'citizenship' 'graduat' 'drawn' 'vi' 'portug'\n",
      " 'ray' 'mixtur' 'drink' 'violenc' 'egyptian' 'variant' 'kg' 'commit'\n",
      " 'audienc' 'corrupt' 'byzantin' 'dinosaur' 'justic' 'guid' 'tri' 'senat'\n",
      " 'formula' 'weapon' 'mari' 'sought' 'stretch' 'clear' 'deposit' 'spring'\n",
      " 'street' 'sole' 'ottoman' 'assist' 'break' 'flood' 'poet' 'leadership'\n",
      " 'shortli' 'twice' 'ice' 'rome' 'aid' 'agreement' 'david' 'split'\n",
      " 'scottish' 'cost' 'caribbean' 'director' 'data' 'fail' 'continent'\n",
      " 'substanti' 'crisi' 'emperor' 'museum' 'consum' 'exhibit' 'mediterranean'\n",
      " 'habitat' 'vast' 'egypt' 'pronunci' 'index' 'chines' 'access' 'pressur'\n",
      " 'recognis' 'belong' 'philosophi' 'port' 'win' 'seat' 'divis' 'saw'\n",
      " 'occupi' 'reign' 'fall' 'adapt' 'secur' 'metropolitan' 'busi' 'council'\n",
      " 'financi' 'provinc' 'australia' 'hold' 'model' 'peac' 'urban' 'bc'\n",
      " 'month' 'polici' 'church' 'foreign' 'side' 'son' 'light' 'pacif' 'decad'\n",
      " 'titl' 'came' 'parti' 'defeat' 'come' 'rate' 'london' 'battl' 'mainli'\n",
      " 'final' 'christian' 'either' 'armi' 'figur' 'eventu' 'extens' 'billion'\n",
      " 'subsequ' 'film' 'emerg' 'scientif' 'head' 'particularli' 'togeth' 'mark'\n",
      " 'inhabit' 'august' 'plant' 'januari' 'begin' 'act' 'field' 'art' 'involv'\n",
      " 'event' 'us' 'king' 'border' 'reach' 'greek' 'author' 'typic' 'economi'\n",
      " 'roman' 'accord' 'asia' 'seri' 'civil' 'role' 'eastern' 'ii' 'close'\n",
      " 'republ' 'exist' 'throughout' 'signific' 'ancient' 'appear' 'though'\n",
      " 'militari' 'territori' 'influenc' 'rule' 'island' 'empir' 'union'\n",
      " 'commun' 'africa' 'econom' 'forc' 'tradit' 'death' 'last' 'variou' 'late'\n",
      " 'began' 'age' 'speci' 'due' 'european' 'mean' 'capit' 'kingdom' 'locat'\n",
      " 'english' 'great' 'europ' 'western' 'west' 'continu' 'led' 'east' 'end'\n",
      " 'result' 'polit' 'import' 'second' 'histori' 'intern' 'live' 'power'\n",
      " 'consid' 'govern' 'human' 'period' 'cultur' 'work' 'modern' 'largest'\n",
      " 'system' 'citi' 'popul' 'war' 'north' 'later' 'often' 'follow' 'earli'\n",
      " 'peopl' 'countri' 'becam' 'sever' 'gener' 'sinc' 'new' 'nation']\n"
     ]
    },
    {
     "name": "stderr",
     "output_type": "stream",
     "text": [
      "/var/folders/hb/p2nvp7cj1dg6y96zlm9vqb2c0000gn/T/ipykernel_22700/706547866.py:9: FutureWarning: elementwise comparison failed; returning scalar instead, but in the future will perform elementwise comparison\n",
      "  if labels=='':\n"
     ]
    },
    {
     "data": {
      "image/svg+xml": [
       "<svg xmlns=\"http://www.w3.org/2000/svg\" width=\"956.0\" height=\"740\">\n",
       "<defs><marker id=\"arrow-gray\" markerWidth=\"10\" markerHeight=\"10\" refX=\"9\" refY=\"3\" orient=\"auto\">\n",
       "<path d=\"M0,0 L0,6 L9,3 z\" fill=\"gray\"/></marker></defs>\n",
       "<path stroke-width=\"0.5\" stroke=\"gray\" d=\"M 527 315 508 360\" marker-end=\"url(#arrow-gray)\"/>\n",
       "<path stroke-width=\"0.5\" stroke=\"gray\" d=\"M 567 324 567 343\" marker-end=\"url(#arrow-gray)\"/>\n",
       "<path stroke-width=\"0.5\" stroke=\"gray\" d=\"M 567 324 543 336\" marker-end=\"url(#arrow-gray)\"/>\n",
       "<path stroke-width=\"0.5\" stroke=\"gray\" d=\"M 383 538 362 475\" marker-end=\"url(#arrow-gray)\"/>\n",
       "<path stroke-width=\"0.5\" stroke=\"gray\" d=\"M 383 538 406 466\" marker-end=\"url(#arrow-gray)\"/>\n",
       "<path stroke-width=\"0.5\" stroke=\"gray\" d=\"M 383 538 340 537\" marker-end=\"url(#arrow-gray)\"/>\n",
       "<path stroke-width=\"0.5\" stroke=\"gray\" d=\"M 406 309 450 399\" marker-end=\"url(#arrow-gray)\"/>\n",
       "<path stroke-width=\"0.5\" stroke=\"gray\" d=\"M 406 309 405 225\" marker-end=\"url(#arrow-gray)\"/>\n",
       "<path stroke-width=\"0.5\" stroke=\"gray\" d=\"M 537 339 561 347\" marker-end=\"url(#arrow-gray)\"/>\n",
       "<path stroke-width=\"0.5\" stroke=\"gray\" d=\"M 537 339 457 401\" marker-end=\"url(#arrow-gray)\"/>\n",
       "<path stroke-width=\"0.5\" stroke=\"gray\" d=\"M 537 339 561 327\" marker-end=\"url(#arrow-gray)\"/>\n",
       "<path stroke-width=\"0.5\" stroke=\"gray\" d=\"M 537 339 591 174\" marker-end=\"url(#arrow-gray)\"/>\n",
       "<path stroke-width=\"0.5\" stroke=\"gray\" d=\"M 365 264 402 304\" marker-end=\"url(#arrow-gray)\"/>\n",
       "<path stroke-width=\"0.5\" stroke=\"gray\" d=\"M 453 261 410 305\" marker-end=\"url(#arrow-gray)\"/>\n",
       "<path stroke-width=\"0.5\" stroke=\"gray\" d=\"M 406 309 369 269\" marker-end=\"url(#arrow-gray)\"/>\n",
       "<path stroke-width=\"0.5\" stroke=\"gray\" d=\"M 211 657 329 541\" marker-end=\"url(#arrow-gray)\"/>\n",
       "<path stroke-width=\"0.5\" stroke=\"gray\" d=\"M 211 657 165 672\" marker-end=\"url(#arrow-gray)\"/>\n",
       "<path stroke-width=\"0.5\" stroke=\"gray\" d=\"M 20 720 205 659\" marker-end=\"url(#arrow-gray)\"/>\n",
       "<path stroke-width=\"0.5\" stroke=\"gray\" d=\"M 307 477 251 547\" marker-end=\"url(#arrow-gray)\"/>\n",
       "<path stroke-width=\"0.5\" stroke=\"gray\" d=\"M 307 477 387 437\" marker-end=\"url(#arrow-gray)\"/>\n",
       "<path stroke-width=\"0.5\" stroke=\"gray\" d=\"M 282 403 417 370\" marker-end=\"url(#arrow-gray)\"/>\n",
       "<path stroke-width=\"0.5\" stroke=\"gray\" d=\"M 408 460 366 468\" marker-end=\"url(#arrow-gray)\"/>\n",
       "<path stroke-width=\"0.5\" stroke=\"gray\" d=\"M 408 460 468 452\" marker-end=\"url(#arrow-gray)\"/>\n",
       "<path stroke-width=\"0.5\" stroke=\"gray\" d=\"M 408 460 234 502\" marker-end=\"url(#arrow-gray)\"/>\n",
       "<path stroke-width=\"0.5\" stroke=\"gray\" d=\"M 211 657 294 680\" marker-end=\"url(#arrow-gray)\"/>\n",
       "<path stroke-width=\"0.5\" stroke=\"gray\" d=\"M 408 460 448 410\" marker-end=\"url(#arrow-gray)\"/>\n",
       "<path stroke-width=\"0.5\" stroke=\"gray\" d=\"M 408 460 338 532\" marker-end=\"url(#arrow-gray)\"/>\n",
       "<path stroke-width=\"0.5\" stroke=\"gray\" d=\"M 356 622 299 583\" marker-end=\"url(#arrow-gray)\"/>\n",
       "<path stroke-width=\"0.5\" stroke=\"gray\" d=\"M 530 389 556 379\" marker-end=\"url(#arrow-gray)\"/>\n",
       "<path stroke-width=\"0.5\" stroke=\"gray\" d=\"M 530 389 458 404\" marker-end=\"url(#arrow-gray)\"/>\n",
       "<path stroke-width=\"0.5\" stroke=\"gray\" d=\"M 334 537 358 475\" marker-end=\"url(#arrow-gray)\"/>\n",
       "<path stroke-width=\"0.5\" stroke=\"gray\" d=\"M 334 537 404 465\" marker-end=\"url(#arrow-gray)\"/>\n",
       "<path stroke-width=\"0.5\" stroke=\"gray\" d=\"M 334 537 216 653\" marker-end=\"url(#arrow-gray)\"/>\n",
       "<path stroke-width=\"0.5\" stroke=\"gray\" d=\"M 594 97 593 162\" marker-end=\"url(#arrow-gray)\"/>\n",
       "<path stroke-width=\"0.5\" stroke=\"gray\" d=\"M 620 81 587 38\" marker-end=\"url(#arrow-gray)\"/>\n",
       "<path stroke-width=\"0.5\" stroke=\"gray\" d=\"M 620 81 599 94\" marker-end=\"url(#arrow-gray)\"/>\n",
       "<path stroke-width=\"0.5\" stroke=\"gray\" d=\"M 393 434 313 474\" marker-end=\"url(#arrow-gray)\"/>\n",
       "<path stroke-width=\"0.5\" stroke=\"gray\" d=\"M 393 434 405 454\" marker-end=\"url(#arrow-gray)\"/>\n",
       "<path stroke-width=\"0.5\" stroke=\"gray\" d=\"M 146 525 159 668\" marker-end=\"url(#arrow-gray)\"/>\n",
       "<path stroke-width=\"0.5\" stroke=\"gray\" d=\"M 427 356 449 399\" marker-end=\"url(#arrow-gray)\"/>\n",
       "<path stroke-width=\"0.5\" stroke=\"gray\" d=\"M 427 356 440 376\" marker-end=\"url(#arrow-gray)\"/>\n",
       "<path stroke-width=\"0.5\" stroke=\"gray\" d=\"M 427 356 425 363\" marker-end=\"url(#arrow-gray)\"/>\n",
       "<path stroke-width=\"0.5\" stroke=\"gray\" d=\"M 427 356 437 357\" marker-end=\"url(#arrow-gray)\"/>\n",
       "<path stroke-width=\"0.5\" stroke=\"gray\" d=\"M 427 356 434 368\" marker-end=\"url(#arrow-gray)\"/>\n",
       "<path stroke-width=\"0.5\" stroke=\"gray\" d=\"M 393 434 446 408\" marker-end=\"url(#arrow-gray)\"/>\n",
       "<path stroke-width=\"0.5\" stroke=\"gray\" d=\"M 427 356 408 315\" marker-end=\"url(#arrow-gray)\"/>\n",
       "<path stroke-width=\"0.5\" stroke=\"gray\" d=\"M 348 420 359 463\" marker-end=\"url(#arrow-gray)\"/>\n",
       "<path stroke-width=\"0.5\" stroke=\"gray\" d=\"M 348 420 446 406\" marker-end=\"url(#arrow-gray)\"/>\n",
       "<path stroke-width=\"0.5\" stroke=\"gray\" d=\"M 275 306 400 309\" marker-end=\"url(#arrow-gray)\"/>\n",
       "<path stroke-width=\"0.5\" stroke=\"gray\" d=\"M 530 282 507 360\" marker-end=\"url(#arrow-gray)\"/>\n",
       "<path stroke-width=\"0.5\" stroke=\"gray\" d=\"M 530 282 527 309\" marker-end=\"url(#arrow-gray)\"/>\n",
       "<path stroke-width=\"0.5\" stroke=\"gray\" d=\"M 438 265 443 351\" marker-end=\"url(#arrow-gray)\"/>\n",
       "<path stroke-width=\"0.5\" stroke=\"gray\" d=\"M 403 246 406 303\" marker-end=\"url(#arrow-gray)\"/>\n",
       "<path stroke-width=\"0.5\" stroke=\"gray\" d=\"M 620 81 595 162\" marker-end=\"url(#arrow-gray)\"/>\n",
       "<path stroke-width=\"0.5\" stroke=\"gray\" d=\"M 593 168 567 343\" marker-end=\"url(#arrow-gray)\"/>\n",
       "<path stroke-width=\"0.5\" stroke=\"gray\" d=\"M 593 168 568 318\" marker-end=\"url(#arrow-gray)\"/>\n",
       "<path stroke-width=\"0.5\" stroke=\"gray\" d=\"M 593 168 539 333\" marker-end=\"url(#arrow-gray)\"/>\n",
       "<path stroke-width=\"0.5\" stroke=\"gray\" d=\"M 593 168 594 103\" marker-end=\"url(#arrow-gray)\"/>\n",
       "<path stroke-width=\"0.5\" stroke=\"gray\" d=\"M 593 168 618 87\" marker-end=\"url(#arrow-gray)\"/>\n",
       "<path stroke-width=\"0.5\" stroke=\"gray\" d=\"M 405 219 406 303\" marker-end=\"url(#arrow-gray)\"/>\n",
       "<path stroke-width=\"0.5\" stroke=\"gray\" d=\"M 405 219 403 240\" marker-end=\"url(#arrow-gray)\"/>\n",
       "<path stroke-width=\"0.5\" stroke=\"gray\" d=\"M 513 431 458 407\" marker-end=\"url(#arrow-gray)\"/>\n",
       "<path stroke-width=\"0.5\" stroke=\"gray\" d=\"M 363 570 355 523\" marker-end=\"url(#arrow-gray)\"/>\n",
       "<path stroke-width=\"0.5\" stroke=\"gray\" d=\"M 363 570 364 506\" marker-end=\"url(#arrow-gray)\"/>\n",
       "<path stroke-width=\"0.5\" stroke=\"gray\" d=\"M 354 517 466 431\" marker-end=\"url(#arrow-gray)\"/>\n",
       "<path stroke-width=\"0.5\" stroke=\"gray\" d=\"M 354 517 362 564\" marker-end=\"url(#arrow-gray)\"/>\n",
       "<path stroke-width=\"0.5\" stroke=\"gray\" d=\"M 354 517 361 506\" marker-end=\"url(#arrow-gray)\"/>\n",
       "<path stroke-width=\"0.5\" stroke=\"gray\" d=\"M 364 500 466 430\" marker-end=\"url(#arrow-gray)\"/>\n",
       "<path stroke-width=\"0.5\" stroke=\"gray\" d=\"M 364 500 363 564\" marker-end=\"url(#arrow-gray)\"/>\n",
       "<path stroke-width=\"0.5\" stroke=\"gray\" d=\"M 364 500 357 511\" marker-end=\"url(#arrow-gray)\"/>\n",
       "<path stroke-width=\"0.5\" stroke=\"gray\" d=\"M 523 395 525 393\" marker-end=\"url(#arrow-gray)\"/>\n",
       "<path stroke-width=\"0.5\" stroke=\"gray\" d=\"M 720 387 529 395\" marker-end=\"url(#arrow-gray)\"/>\n",
       "<path stroke-width=\"0.5\" stroke=\"gray\" d=\"M 523 395 366 467\" marker-end=\"url(#arrow-gray)\"/>\n",
       "<path stroke-width=\"0.5\" stroke=\"gray\" d=\"M 360 469 447 409\" marker-end=\"url(#arrow-gray)\"/>\n",
       "<path stroke-width=\"0.5\" stroke=\"gray\" d=\"M 360 469 402 461\" marker-end=\"url(#arrow-gray)\"/>\n",
       "<path stroke-width=\"0.5\" stroke=\"gray\" d=\"M 360 469 336 531\" marker-end=\"url(#arrow-gray)\"/>\n",
       "<path stroke-width=\"0.5\" stroke=\"gray\" d=\"M 424 399 446 404\" marker-end=\"url(#arrow-gray)\"/>\n",
       "<path stroke-width=\"0.5\" stroke=\"gray\" d=\"M 424 399 438 386\" marker-end=\"url(#arrow-gray)\"/>\n",
       "<path stroke-width=\"0.5\" stroke=\"gray\" d=\"M 424 399 423 375\" marker-end=\"url(#arrow-gray)\"/>\n",
       "<path stroke-width=\"0.5\" stroke=\"gray\" d=\"M 424 399 441 363\" marker-end=\"url(#arrow-gray)\"/>\n",
       "<path stroke-width=\"0.5\" stroke=\"gray\" d=\"M 424 399 434 380\" marker-end=\"url(#arrow-gray)\"/>\n",
       "<path stroke-width=\"0.5\" stroke=\"gray\" d=\"M 360 469 305 380\" marker-end=\"url(#arrow-gray)\"/>\n",
       "<path stroke-width=\"0.5\" stroke=\"gray\" d=\"M 474 452 518 455\" marker-end=\"url(#arrow-gray)\"/>\n",
       "<path stroke-width=\"0.5\" stroke=\"gray\" d=\"M 524 455 480 452\" marker-end=\"url(#arrow-gray)\"/>\n",
       "<path stroke-width=\"0.5\" stroke=\"gray\" d=\"M 524 455 584 469\" marker-end=\"url(#arrow-gray)\"/>\n",
       "<path stroke-width=\"0.5\" stroke=\"gray\" d=\"M 524 455 457 408\" marker-end=\"url(#arrow-gray)\"/>\n",
       "<path stroke-width=\"0.5\" stroke=\"gray\" d=\"M 228 503 354 470\" marker-end=\"url(#arrow-gray)\"/>\n",
       "<path stroke-width=\"0.5\" stroke=\"gray\" d=\"M 590 470 530 456\" marker-end=\"url(#arrow-gray)\"/>\n",
       "<path stroke-width=\"0.5\" stroke=\"gray\" d=\"M 302 375 357 464\" marker-end=\"url(#arrow-gray)\"/>\n",
       "<path stroke-width=\"0.5\" stroke=\"gray\" d=\"M 474 452 455 411\" marker-end=\"url(#arrow-gray)\"/>\n",
       "<path stroke-width=\"0.5\" stroke=\"gray\" d=\"M 506 366 474 421\" marker-end=\"url(#arrow-gray)\"/>\n",
       "<path stroke-width=\"0.5\" stroke=\"gray\" d=\"M 506 366 499 400\" marker-end=\"url(#arrow-gray)\"/>\n",
       "<path stroke-width=\"0.5\" stroke=\"gray\" d=\"M 506 366 520 389\" marker-end=\"url(#arrow-gray)\"/>\n",
       "<path stroke-width=\"0.5\" stroke=\"gray\" d=\"M 506 366 525 321\" marker-end=\"url(#arrow-gray)\"/>\n",
       "<path stroke-width=\"0.5\" stroke=\"gray\" d=\"M 471 427 503 372\" marker-end=\"url(#arrow-gray)\"/>\n",
       "<path stroke-width=\"0.5\" stroke=\"gray\" d=\"M 471 427 493 410\" marker-end=\"url(#arrow-gray)\"/>\n",
       "<path stroke-width=\"0.5\" stroke=\"gray\" d=\"M 471 427 367 565\" marker-end=\"url(#arrow-gray)\"/>\n",
       "<path stroke-width=\"0.5\" stroke=\"gray\" d=\"M 471 427 359 513\" marker-end=\"url(#arrow-gray)\"/>\n",
       "<path stroke-width=\"0.5\" stroke=\"gray\" d=\"M 471 427 369 497\" marker-end=\"url(#arrow-gray)\"/>\n",
       "<path stroke-width=\"0.5\" stroke=\"gray\" d=\"M 583 33 593 91\" marker-end=\"url(#arrow-gray)\"/>\n",
       "<path stroke-width=\"0.5\" stroke=\"gray\" d=\"M 498 406 505 372\" marker-end=\"url(#arrow-gray)\"/>\n",
       "<path stroke-width=\"0.5\" stroke=\"gray\" d=\"M 567 349 563 371\" marker-end=\"url(#arrow-gray)\"/>\n",
       "<path stroke-width=\"0.5\" stroke=\"gray\" d=\"M 567 349 527 390\" marker-end=\"url(#arrow-gray)\"/>\n",
       "<path stroke-width=\"0.5\" stroke=\"gray\" d=\"M 567 349 567 330\" marker-end=\"url(#arrow-gray)\"/>\n",
       "<path stroke-width=\"0.5\" stroke=\"gray\" d=\"M 567 349 543 341\" marker-end=\"url(#arrow-gray)\"/>\n",
       "<path stroke-width=\"0.5\" stroke=\"gray\" d=\"M 562 377 566 355\" marker-end=\"url(#arrow-gray)\"/>\n",
       "<path stroke-width=\"0.5\" stroke=\"gray\" d=\"M 562 377 529 393\" marker-end=\"url(#arrow-gray)\"/>\n",
       "<path stroke-width=\"0.5\" stroke=\"gray\" d=\"M 562 377 540 344\" marker-end=\"url(#arrow-gray)\"/>\n",
       "<path stroke-width=\"0.5\" stroke=\"gray\" d=\"M 498 406 476 423\" marker-end=\"url(#arrow-gray)\"/>\n",
       "<path stroke-width=\"0.5\" stroke=\"gray\" d=\"M 159 674 205 659\" marker-end=\"url(#arrow-gray)\"/>\n",
       "<path stroke-width=\"0.5\" stroke=\"gray\" d=\"M 247 552 288 577\" marker-end=\"url(#arrow-gray)\"/>\n",
       "<path stroke-width=\"0.5\" stroke=\"gray\" d=\"M 443 382 441 379\" marker-end=\"url(#arrow-gray)\"/>\n",
       "<path stroke-width=\"0.5\" stroke=\"gray\" d=\"M 423 369 448 400\" marker-end=\"url(#arrow-gray)\"/>\n",
       "<path stroke-width=\"0.5\" stroke=\"gray\" d=\"M 423 369 438 379\" marker-end=\"url(#arrow-gray)\"/>\n",
       "<path stroke-width=\"0.5\" stroke=\"gray\" d=\"M 423 369 437 360\" marker-end=\"url(#arrow-gray)\"/>\n",
       "<path stroke-width=\"0.5\" stroke=\"gray\" d=\"M 423 369 431 372\" marker-end=\"url(#arrow-gray)\"/>\n",
       "<path stroke-width=\"0.5\" stroke=\"gray\" d=\"M 423 369 407 315\" marker-end=\"url(#arrow-gray)\"/>\n",
       "<path stroke-width=\"0.5\" stroke=\"gray\" d=\"M 443 357 451 399\" marker-end=\"url(#arrow-gray)\"/>\n",
       "<path stroke-width=\"0.5\" stroke=\"gray\" d=\"M 443 357 443 376\" marker-end=\"url(#arrow-gray)\"/>\n",
       "<path stroke-width=\"0.5\" stroke=\"gray\" d=\"M 443 357 429 366\" marker-end=\"url(#arrow-gray)\"/>\n",
       "<path stroke-width=\"0.5\" stroke=\"gray\" d=\"M 443 382 443 363\" marker-end=\"url(#arrow-gray)\"/>\n",
       "<path stroke-width=\"0.5\" stroke=\"gray\" d=\"M 437 374 439 377\" marker-end=\"url(#arrow-gray)\"/>\n",
       "<path stroke-width=\"0.5\" stroke=\"gray\" d=\"M 437 374 429 371\" marker-end=\"url(#arrow-gray)\"/>\n",
       "<path stroke-width=\"0.5\" stroke=\"gray\" d=\"M 437 374 441 363\" marker-end=\"url(#arrow-gray)\"/>\n",
       "<path stroke-width=\"0.5\" stroke=\"gray\" d=\"M 416 650 451 411\" marker-end=\"url(#arrow-gray)\"/>\n",
       "<path stroke-width=\"0.5\" stroke=\"gray\" d=\"M 523 395 509 372\" marker-end=\"url(#arrow-gray)\"/>\n",
       "<path stroke-width=\"0.5\" stroke=\"gray\" d=\"M 523 395 476 424\" marker-end=\"url(#arrow-gray)\"/>\n",
       "<path stroke-width=\"0.5\" stroke=\"gray\" d=\"M 523 395 504 404\" marker-end=\"url(#arrow-gray)\"/>\n",
       "<path stroke-width=\"0.5\" stroke=\"gray\" d=\"M 523 395 556 379\" marker-end=\"url(#arrow-gray)\"/>\n",
       "<path stroke-width=\"0.5\" stroke=\"gray\" d=\"M 443 357 439 368\" marker-end=\"url(#arrow-gray)\"/>\n",
       "<path stroke-width=\"0.5\" stroke=\"gray\" d=\"M 443 382 428 372\" marker-end=\"url(#arrow-gray)\"/>\n",
       "<path stroke-width=\"0.5\" stroke=\"gray\" d=\"M 443 382 450 399\" marker-end=\"url(#arrow-gray)\"/>\n",
       "<path stroke-width=\"0.5\" stroke=\"gray\" d=\"M 247 552 272 545\" marker-end=\"url(#arrow-gray)\"/>\n",
       "<path stroke-width=\"0.5\" stroke=\"gray\" d=\"M 247 552 303 482\" marker-end=\"url(#arrow-gray)\"/>\n",
       "<path stroke-width=\"0.5\" stroke=\"gray\" d=\"M 300 681 217 658\" marker-end=\"url(#arrow-gray)\"/>\n",
       "<path stroke-width=\"0.5\" stroke=\"gray\" d=\"M 294 580 253 555\" marker-end=\"url(#arrow-gray)\"/>\n",
       "<path stroke-width=\"0.5\" stroke=\"gray\" d=\"M 294 580 280 549\" marker-end=\"url(#arrow-gray)\"/>\n",
       "<path stroke-width=\"0.5\" stroke=\"gray\" d=\"M 664 20 624 76\" marker-end=\"url(#arrow-gray)\"/>\n",
       "<path stroke-width=\"0.5\" stroke=\"gray\" d=\"M 278 543 253 550\" marker-end=\"url(#arrow-gray)\"/>\n",
       "<path stroke-width=\"0.5\" stroke=\"gray\" d=\"M 278 543 292 574\" marker-end=\"url(#arrow-gray)\"/>\n",
       "<path stroke-width=\"0.5\" stroke=\"gray\" d=\"M 278 543 305 483\" marker-end=\"url(#arrow-gray)\"/>\n",
       "<path stroke-width=\"0.5\" stroke=\"gray\" d=\"M 452 405 365 465\" marker-end=\"url(#arrow-gray)\"/>\n",
       "<path stroke-width=\"0.5\" stroke=\"gray\" d=\"M 452 405 471 446\" marker-end=\"url(#arrow-gray)\"/>\n",
       "<path stroke-width=\"0.5\" stroke=\"gray\" d=\"M 452 405 308 376\" marker-end=\"url(#arrow-gray)\"/>\n",
       "<path stroke-width=\"0.5\" stroke=\"gray\" d=\"M 452 405 445 388\" marker-end=\"url(#arrow-gray)\"/>\n",
       "<path stroke-width=\"0.5\" stroke=\"gray\" d=\"M 452 405 427 374\" marker-end=\"url(#arrow-gray)\"/>\n",
       "<path stroke-width=\"0.5\" stroke=\"gray\" d=\"M 452 405 444 363\" marker-end=\"url(#arrow-gray)\"/>\n",
       "<path stroke-width=\"0.5\" stroke=\"gray\" d=\"M 452 405 440 380\" marker-end=\"url(#arrow-gray)\"/>\n",
       "<path stroke-width=\"0.5\" stroke=\"gray\" d=\"M 452 405 412 455\" marker-end=\"url(#arrow-gray)\"/>\n",
       "<path stroke-width=\"0.5\" stroke=\"gray\" d=\"M 452 405 399 431\" marker-end=\"url(#arrow-gray)\"/>\n",
       "<path stroke-width=\"0.5\" stroke=\"gray\" d=\"M 523 395 458 405\" marker-end=\"url(#arrow-gray)\"/>\n",
       "<circle cx=\"506\" cy=\"366\" r=\"7.0\" style=\"fill:purple;stroke:black;stroke-width:1.0\"/>\n",
       "<circle cx=\"471\" cy=\"427\" r=\"7.0\" style=\"fill:fuchsia;stroke:black;stroke-width:1.0\"/>\n",
       "<circle cx=\"498\" cy=\"406\" r=\"7.0\" style=\"fill:fuchsia;stroke:black;stroke-width:1.0\"/>\n",
       "<circle cx=\"567\" cy=\"349\" r=\"7.0\" style=\"fill:fuchsia;stroke:black;stroke-width:1.0\"/>\n",
       "<circle cx=\"562\" cy=\"377\" r=\"7.0\" style=\"fill:fuchsia;stroke:black;stroke-width:1.0\"/>\n",
       "<circle cx=\"583\" cy=\"33\" r=\"7.0\" style=\"fill:olive;stroke:black;stroke-width:1.0\"/>\n",
       "<circle cx=\"360\" cy=\"469\" r=\"7.0\" style=\"fill:olive;stroke:black;stroke-width:1.0\"/>\n",
       "<circle cx=\"424\" cy=\"399\" r=\"7.0\" style=\"fill:olive;stroke:black;stroke-width:1.0\"/>\n",
       "<circle cx=\"474\" cy=\"452\" r=\"7.0\" style=\"fill:olive;stroke:black;stroke-width:1.0\"/>\n",
       "<circle cx=\"524\" cy=\"455\" r=\"7.0\" style=\"fill:olive;stroke:black;stroke-width:1.0\"/>\n",
       "<circle cx=\"228\" cy=\"503\" r=\"7.0\" style=\"fill:olive;stroke:black;stroke-width:1.0\"/>\n",
       "<circle cx=\"590\" cy=\"470\" r=\"7.0\" style=\"fill:olive;stroke:black;stroke-width:1.0\"/>\n",
       "<circle cx=\"302\" cy=\"375\" r=\"7.0\" style=\"fill:olive;stroke:black;stroke-width:1.0\"/>\n",
       "<circle cx=\"159\" cy=\"674\" r=\"7.0\" style=\"fill:yellow;stroke:black;stroke-width:1.0\"/>\n",
       "<circle cx=\"247\" cy=\"552\" r=\"7.0\" style=\"fill:yellow;stroke:black;stroke-width:1.0\"/>\n",
       "<circle cx=\"300\" cy=\"681\" r=\"7.0\" style=\"fill:green;stroke:black;stroke-width:1.0\"/>\n",
       "<circle cx=\"294\" cy=\"580\" r=\"7.0\" style=\"fill:yellow;stroke:black;stroke-width:1.0\"/>\n",
       "<circle cx=\"664\" cy=\"20\" r=\"7.0\" style=\"fill:fuchsia;stroke:black;stroke-width:1.0\"/>\n",
       "<circle cx=\"278\" cy=\"543\" r=\"7.0\" style=\"fill:yellow;stroke:black;stroke-width:1.0\"/>\n",
       "<circle cx=\"452\" cy=\"405\" r=\"7.0\" style=\"fill:olive;stroke:black;stroke-width:1.0\"/>\n",
       "<circle cx=\"443\" cy=\"382\" r=\"7.0\" style=\"fill:olive;stroke:black;stroke-width:1.0\"/>\n",
       "<circle cx=\"423\" cy=\"369\" r=\"7.0\" style=\"fill:olive;stroke:black;stroke-width:1.0\"/>\n",
       "<circle cx=\"443\" cy=\"357\" r=\"7.0\" style=\"fill:olive;stroke:black;stroke-width:1.0\"/>\n",
       "<circle cx=\"437\" cy=\"374\" r=\"7.0\" style=\"fill:olive;stroke:black;stroke-width:1.0\"/>\n",
       "<circle cx=\"416\" cy=\"650\" r=\"7.0\" style=\"fill:brown;stroke:black;stroke-width:1.0\"/>\n",
       "<circle cx=\"523\" cy=\"395\" r=\"7.0\" style=\"fill:fuchsia;stroke:black;stroke-width:1.0\"/>\n",
       "<circle cx=\"20\" cy=\"720\" r=\"7.0\" style=\"fill:yellow;stroke:black;stroke-width:1.0\"/>\n",
       "<circle cx=\"307\" cy=\"477\" r=\"7.0\" style=\"fill:yellow;stroke:black;stroke-width:1.0\"/>\n",
       "<circle cx=\"282\" cy=\"403\" r=\"7.0\" style=\"fill:olive;stroke:black;stroke-width:1.0\"/>\n",
       "<circle cx=\"408\" cy=\"460\" r=\"7.0\" style=\"fill:olive;stroke:black;stroke-width:1.0\"/>\n",
       "<circle cx=\"356\" cy=\"622\" r=\"7.0\" style=\"fill:yellow;stroke:black;stroke-width:1.0\"/>\n",
       "<circle cx=\"530\" cy=\"389\" r=\"7.0\" style=\"fill:yellow;stroke:black;stroke-width:1.0\"/>\n",
       "<circle cx=\"334\" cy=\"537\" r=\"7.0\" style=\"fill:olive;stroke:black;stroke-width:1.0\"/>\n",
       "<circle cx=\"211\" cy=\"657\" r=\"7.0\" style=\"fill:green;stroke:black;stroke-width:1.0\"/>\n",
       "<circle cx=\"527\" cy=\"315\" r=\"7.0\" style=\"fill:fuchsia;stroke:black;stroke-width:1.0\"/>\n",
       "<circle cx=\"567\" cy=\"324\" r=\"7.0\" style=\"fill:yellow;stroke:black;stroke-width:1.0\"/>\n",
       "<circle cx=\"383\" cy=\"538\" r=\"7.0\" style=\"fill:olive;stroke:black;stroke-width:1.0\"/>\n",
       "<circle cx=\"406\" cy=\"309\" r=\"7.0\" style=\"fill:olive;stroke:black;stroke-width:1.0\"/>\n",
       "<circle cx=\"537\" cy=\"339\" r=\"7.0\" style=\"fill:purple;stroke:black;stroke-width:1.0\"/>\n",
       "<circle cx=\"365\" cy=\"264\" r=\"7.0\" style=\"fill:olive;stroke:black;stroke-width:1.0\"/>\n",
       "<circle cx=\"453\" cy=\"261\" r=\"7.0\" style=\"fill:olive;stroke:black;stroke-width:1.0\"/>\n",
       "<circle cx=\"594\" cy=\"97\" r=\"7.0\" style=\"fill:olive;stroke:black;stroke-width:1.0\"/>\n",
       "<circle cx=\"620\" cy=\"81\" r=\"7.0\" style=\"fill:olive;stroke:black;stroke-width:1.0\"/>\n",
       "<circle cx=\"593\" cy=\"168\" r=\"7.0\" style=\"fill:olive;stroke:black;stroke-width:1.0\"/>\n",
       "<circle cx=\"405\" cy=\"219\" r=\"7.0\" style=\"fill:olive;stroke:black;stroke-width:1.0\"/>\n",
       "<circle cx=\"513\" cy=\"431\" r=\"7.0\" style=\"fill:olive;stroke:black;stroke-width:1.0\"/>\n",
       "<circle cx=\"363\" cy=\"570\" r=\"7.0\" style=\"fill:fuchsia;stroke:black;stroke-width:1.0\"/>\n",
       "<circle cx=\"354\" cy=\"517\" r=\"7.0\" style=\"fill:fuchsia;stroke:black;stroke-width:1.0\"/>\n",
       "<circle cx=\"364\" cy=\"500\" r=\"7.0\" style=\"fill:fuchsia;stroke:black;stroke-width:1.0\"/>\n",
       "<circle cx=\"403\" cy=\"246\" r=\"7.0\" style=\"fill:olive;stroke:black;stroke-width:1.0\"/>\n",
       "<circle cx=\"393\" cy=\"434\" r=\"7.0\" style=\"fill:olive;stroke:black;stroke-width:1.0\"/>\n",
       "<circle cx=\"146\" cy=\"525\" r=\"7.0\" style=\"fill:yellow;stroke:black;stroke-width:1.0\"/>\n",
       "<circle cx=\"427\" cy=\"356\" r=\"7.0\" style=\"fill:olive;stroke:black;stroke-width:1.0\"/>\n",
       "<circle cx=\"348\" cy=\"420\" r=\"7.0\" style=\"fill:olive;stroke:black;stroke-width:1.0\"/>\n",
       "<circle cx=\"275\" cy=\"306\" r=\"7.0\" style=\"fill:olive;stroke:black;stroke-width:1.0\"/>\n",
       "<circle cx=\"530\" cy=\"282\" r=\"7.0\" style=\"fill:olive;stroke:black;stroke-width:1.0\"/>\n",
       "<circle cx=\"438\" cy=\"265\" r=\"7.0\" style=\"fill:olive;stroke:black;stroke-width:1.0\"/>\n",
       "<circle cx=\"720\" cy=\"387\" r=\"7.0\" style=\"fill:brown;stroke:black;stroke-width:1.0\"/>\n",
       "<text text-anchor=\"start\" x=\"516\" y=\"366\" font-size=\"12\">European Union</text><text text-anchor=\"start\" x=\"481\" y=\"427\" font-size=\"12\">United Kingdom</text><text text-anchor=\"start\" x=\"508\" y=\"406\" font-size=\"12\">Republic of Ireland</text><text text-anchor=\"start\" x=\"577\" y=\"349\" font-size=\"12\">Athens</text><text text-anchor=\"start\" x=\"572\" y=\"377\" font-size=\"12\">Greece</text><text text-anchor=\"start\" x=\"593\" y=\"33\" font-size=\"12\">History</text><text text-anchor=\"start\" x=\"370\" y=\"469\" font-size=\"12\">Byzantine Empire</text><text text-anchor=\"start\" x=\"434\" y=\"399\" font-size=\"12\">1st century BC</text><text text-anchor=\"start\" x=\"484\" y=\"452\" font-size=\"12\">3rd century</text><text text-anchor=\"start\" x=\"534\" y=\"455\" font-size=\"12\">4th century</text><text text-anchor=\"start\" x=\"238\" y=\"503\" font-size=\"12\">6th century</text><text text-anchor=\"start\" x=\"600\" y=\"470\" font-size=\"12\">7th century</text><text text-anchor=\"start\" x=\"312\" y=\"375\" font-size=\"12\">Holy Roman Empire</text><text text-anchor=\"start\" x=\"169\" y=\"674\" font-size=\"12\">Thomas Aquinas</text><text text-anchor=\"start\" x=\"257\" y=\"552\" font-size=\"12\">Christianity</text><text text-anchor=\"start\" x=\"310\" y=\"681\" font-size=\"12\">Plato</text><text text-anchor=\"start\" x=\"304\" y=\"580\" font-size=\"12\">Roman Catholic Church</text><text text-anchor=\"start\" x=\"674\" y=\"20\" font-size=\"12\">Tsunami</text><text text-anchor=\"start\" x=\"288\" y=\"543\" font-size=\"12\">Eastern Orthodox Church</text><text text-anchor=\"start\" x=\"462\" y=\"405\" font-size=\"12\">Roman Empire</text><text text-anchor=\"start\" x=\"453\" y=\"382\" font-size=\"12\">Augustus</text><text text-anchor=\"start\" x=\"433\" y=\"369\" font-size=\"12\">Cleopatra VII</text><text text-anchor=\"start\" x=\"453\" y=\"357\" font-size=\"12\">Julius Caesar</text><text text-anchor=\"start\" x=\"447\" y=\"374\" font-size=\"12\">Mark Antony</text><text text-anchor=\"start\" x=\"426\" y=\"650\" font-size=\"12\">Virgil</text><text text-anchor=\"start\" x=\"533\" y=\"395\" font-size=\"12\">Turkey</text><text text-anchor=\"start\" x=\"30\" y=\"720\" font-size=\"12\">Augustine of Hippo</text><text text-anchor=\"start\" x=\"317\" y=\"477\" font-size=\"12\">First Council of Nicaea</text><text text-anchor=\"start\" x=\"292\" y=\"403\" font-size=\"12\">Library of Alexandria</text><text text-anchor=\"start\" x=\"418\" y=\"460\" font-size=\"12\">Western Roman Empire</text><text text-anchor=\"start\" x=\"366\" y=\"622\" font-size=\"12\">Church of England</text><text text-anchor=\"start\" x=\"540\" y=\"389\" font-size=\"12\">Judaism</text><text text-anchor=\"start\" x=\"344\" y=\"537\" font-size=\"12\">Middle Ages</text><text text-anchor=\"start\" x=\"221\" y=\"657\" font-size=\"12\">Aristotle</text><text text-anchor=\"start\" x=\"537\" y=\"315\" font-size=\"12\">Greenland</text><text text-anchor=\"start\" x=\"577\" y=\"324\" font-size=\"12\">Athena</text><text text-anchor=\"start\" x=\"393\" y=\"538\" font-size=\"12\">Ancient history</text><text text-anchor=\"start\" x=\"416\" y=\"309\" font-size=\"12\">Ancient Egypt</text><text text-anchor=\"start\" x=\"547\" y=\"339\" font-size=\"12\">Parthenon</text><text text-anchor=\"start\" x=\"375\" y=\"264\" font-size=\"12\">Great Pyramid of Giza</text><text text-anchor=\"start\" x=\"463\" y=\"261\" font-size=\"12\">Akhenaten</text><text text-anchor=\"start\" x=\"604\" y=\"97\" font-size=\"12\">Herodotus</text><text text-anchor=\"start\" x=\"630\" y=\"81\" font-size=\"12\">Thucydides</text><text text-anchor=\"start\" x=\"603\" y=\"168\" font-size=\"12\">Pericles</text><text text-anchor=\"start\" x=\"415\" y=\"219\" font-size=\"12\">Egyptian pyramids</text><text text-anchor=\"start\" x=\"523\" y=\"431\" font-size=\"12\">Hellenistic Greece</text><text text-anchor=\"start\" x=\"373\" y=\"570\" font-size=\"12\">Guernsey</text><text text-anchor=\"start\" x=\"364\" y=\"517\" font-size=\"12\">Jersey</text><text text-anchor=\"start\" x=\"374\" y=\"500\" font-size=\"12\">Channel Islands</text><text text-anchor=\"start\" x=\"413\" y=\"246\" font-size=\"12\">Ramesses II</text><text text-anchor=\"start\" x=\"403\" y=\"434\" font-size=\"12\">Constantine I</text><text text-anchor=\"start\" x=\"156\" y=\"525\" font-size=\"12\">Catholic social teaching</text><text text-anchor=\"start\" x=\"437\" y=\"356\" font-size=\"12\">Cleopatra VII of Egypt</text><text text-anchor=\"start\" x=\"358\" y=\"420\" font-size=\"12\">Eastern Roman Empire</text><text text-anchor=\"start\" x=\"285\" y=\"306\" font-size=\"12\">Hatshepsut</text><text text-anchor=\"start\" x=\"540\" y=\"282\" font-size=\"12\">History of Greenland</text><text text-anchor=\"start\" x=\"448\" y=\"265\" font-size=\"12\">Third Servile War</text><text text-anchor=\"start\" x=\"730\" y=\"387\" font-size=\"12\">Turkish literature</text></svg>"
      ],
      "text/plain": [
       "<IPython.core.display.SVG object>"
      ]
     },
     "execution_count": 1236,
     "metadata": {},
     "output_type": "execute_result"
    }
   ],
   "source": [
    "# Display random pattern summary\n",
    "idx = 1\n",
    "print(f'Pattern summary: {idx}')\n",
    "display_pattern_summary(summarized_adj, summarized_biadj, mask, labels_cc_summarized, idx, names, words, labels, width=700, height=700)"
   ]
  },
  {
   "cell_type": "code",
   "execution_count": 1047,
   "id": "0bc270c4-c3af-4628-8439-f0b08b7e83db",
   "metadata": {},
   "outputs": [
    {
     "name": "stdout",
     "output_type": "stream",
     "text": [
      "Pattern summary: 95\n",
      "Attributes: ['suðreyjar' 'tycoon' 'regia' 'jurisprud' 'sure' 'decolon' 'croft' 'osama'\n",
      " 'decod' 'steril' 'southampton' 'coldest' 'quartz' 'hebrid' 'maker'\n",
      " 'papua' 'fring' 'azerbaijan' 'logic' 'nors' 'smith' 'lincoln' 'toler'\n",
      " 'gaelic' 'want' 'similarli' 'prehistor' 'adjac' 'guinea' 'inner' 'rival'\n",
      " 'stretch' 'outer' 'prepar' 'archipelago' 'tour' 'poet' 'scottish'\n",
      " 'parliamentari' 'tourism' 'speed' 'basin' 'mainland' 'hard' 'rapidli'\n",
      " 'ga' 'test' 'scotland' 'face' 'fish' 'declin' 'varieti' 'coast' 'other'\n",
      " 'servic' 'island' 'languag' 'kingdom' 'western' 'west' 'east' 'refer'\n",
      " 'major']\n"
     ]
    },
    {
     "name": "stderr",
     "output_type": "stream",
     "text": [
      "/var/folders/hb/p2nvp7cj1dg6y96zlm9vqb2c0000gn/T/ipykernel_22700/4041998973.py:9: FutureWarning: elementwise comparison failed; returning scalar instead, but in the future will perform elementwise comparison\n",
      "  if labels=='':\n"
     ]
    },
    {
     "data": {
      "image/svg+xml": [
       "<svg xmlns=\"http://www.w3.org/2000/svg\" width=\"636.0\" height=\"540\">\n",
       "<defs><marker id=\"arrow-gray\" markerWidth=\"10\" markerHeight=\"10\" refX=\"9\" refY=\"3\" orient=\"auto\">\n",
       "<path d=\"M0,0 L0,6 L9,3 z\" fill=\"gray\"/></marker></defs>\n",
       "<path stroke-width=\"0.5\" stroke=\"gray\" d=\"M 520 246 360 229\" marker-end=\"url(#arrow-gray)\"/>\n",
       "<path stroke-width=\"0.5\" stroke=\"gray\" d=\"M 520 246 449 26\" marker-end=\"url(#arrow-gray)\"/>\n",
       "<path stroke-width=\"0.5\" stroke=\"gray\" d=\"M 354 229 514 246\" marker-end=\"url(#arrow-gray)\"/>\n",
       "<path stroke-width=\"0.5\" stroke=\"gray\" d=\"M 354 229 445 26\" marker-end=\"url(#arrow-gray)\"/>\n",
       "<path stroke-width=\"0.5\" stroke=\"gray\" d=\"M 447 20 518 240\" marker-end=\"url(#arrow-gray)\"/>\n",
       "<path stroke-width=\"0.5\" stroke=\"gray\" d=\"M 447 20 356 223\" marker-end=\"url(#arrow-gray)\"/>\n",
       "<path stroke-width=\"0.5\" stroke=\"gray\" d=\"M 20 520 349 233\" marker-end=\"url(#arrow-gray)\"/>\n",
       "<circle cx=\"520\" cy=\"246\" r=\"7.0\" style=\"fill:fuchsia;stroke:black;stroke-width:1.0\"/>\n",
       "<circle cx=\"354\" cy=\"229\" r=\"7.0\" style=\"fill:fuchsia;stroke:black;stroke-width:1.0\"/>\n",
       "<circle cx=\"447\" cy=\"20\" r=\"7.0\" style=\"fill:fuchsia;stroke:black;stroke-width:1.0\"/>\n",
       "<circle cx=\"20\" cy=\"520\" r=\"7.0\" style=\"fill:fuchsia;stroke:black;stroke-width:1.0\"/>\n",
       "<text text-anchor=\"start\" x=\"530\" y=\"246\" font-size=\"12\">Hebrides</text><text text-anchor=\"start\" x=\"364\" y=\"229\" font-size=\"12\">Outer Hebrides</text><text text-anchor=\"start\" x=\"457\" y=\"20\" font-size=\"12\">Inner Hebrides</text><text text-anchor=\"start\" x=\"30\" y=\"520\" font-size=\"12\">Stornoway</text></svg>"
      ],
      "text/plain": [
       "<IPython.core.display.SVG object>"
      ]
     },
     "execution_count": 1047,
     "metadata": {},
     "output_type": "execute_result"
    }
   ],
   "source": [
    "# Display random pattern summary\n",
    "idx = np.random.choice(nb_cc)\n",
    "print(f'Pattern summary: {idx}')\n",
    "display_pattern_summary(summarized_adj, summarized_biadj, mask, labels_cc_summarized, idx, names, words, labels)"
   ]
  },
  {
   "cell_type": "code",
   "execution_count": 527,
   "id": "38fbc69c-c7f0-48b8-91dd-4733e431860b",
   "metadata": {},
   "outputs": [],
   "source": [
    "inpath = '/Users/simondelarue/Documents/PhD/Research/Co-Meg/CoMEG'\n",
    "\n",
    "with open(f'{inpath}/output/result/wasserstein_distances_{dataset}_{beta}_{s}_summaries.pkl', 'rb') as data:\n",
    "    pw_distances = np.load(data)"
   ]
  },
  {
   "cell_type": "code",
   "execution_count": 530,
   "id": "fa1fd879-9698-44fa-b208-33f9248e7488",
   "metadata": {},
   "outputs": [
    {
     "data": {
      "text/plain": [
       "1668"
      ]
     },
     "execution_count": 530,
     "metadata": {},
     "output_type": "execute_result"
    }
   ],
   "source": [
    "pw_distances[pw_distances > 0.02]"
   ]
  },
  {
   "cell_type": "code",
   "execution_count": 534,
   "id": "1bc6334d-efaf-49f4-9f8b-33e530c57c5d",
   "metadata": {},
   "outputs": [
    {
     "data": {
      "text/plain": [
       "0.0"
      ]
     },
     "execution_count": 534,
     "metadata": {},
     "output_type": "execute_result"
    }
   ],
   "source": [
    "diversity(pw_distances, delta=0.2)"
   ]
  },
  {
   "cell_type": "code",
   "execution_count": 536,
   "id": "899965dd-0f47-45e6-acd2-85cb7204ebf8",
   "metadata": {},
   "outputs": [
    {
     "data": {
      "text/plain": [
       "0.17378258472657765"
      ]
     },
     "execution_count": 536,
     "metadata": {},
     "output_type": "execute_result"
    }
   ],
   "source": [
    "np.max(pw_distances)"
   ]
  },
  {
   "cell_type": "markdown",
   "id": "98dae2df-73dd-4e08-ab4e-1d94264134fd",
   "metadata": {},
   "source": [
    "## Sias-Miner exploration"
   ]
  },
  {
   "cell_type": "code",
   "execution_count": 259,
   "id": "49d69a41-64fe-4870-ab40-ff6c70a3e800",
   "metadata": {},
   "outputs": [],
   "source": [
    "import json\n",
    "\n",
    "inpath = '/Users/simondelarue/Downloads/Mining_Subjectively_Interesting_Attributed_Subgraphs/siasminer/Executable'\n",
    "\n",
    "with open(f'{inpath}/resultsLastfm/results.json', 'rb') as f:\n",
    "    data = json.load(f)"
   ]
  },
  {
   "cell_type": "code",
   "execution_count": 261,
   "id": "833e3a29-9e46-46c6-a73a-1f1f8486a060",
   "metadata": {},
   "outputs": [
    {
     "data": {
      "text/plain": [
       "dict_keys(['numberOfPatterns', 'patterns'])"
      ]
     },
     "execution_count": 261,
     "metadata": {},
     "output_type": "execute_result"
    }
   ],
   "source": [
    "data.keys()"
   ]
  },
  {
   "cell_type": "code",
   "execution_count": 265,
   "id": "8c7ea6c3-bd3f-4748-ba8b-76b14403de32",
   "metadata": {},
   "outputs": [
    {
     "data": {
      "text/plain": [
       "1184"
      ]
     },
     "execution_count": 265,
     "metadata": {},
     "output_type": "execute_result"
    }
   ],
   "source": [
    "# Number of patterns with SIAS Miner (minVertices=100, maxDistance=1)\n",
    "len(data.get('patterns'))"
   ]
  },
  {
   "cell_type": "code",
   "execution_count": 457,
   "id": "8141d621-0c2a-44a3-a4e9-24c95d0fc35b",
   "metadata": {},
   "outputs": [],
   "source": [
    "def get_sias_pattern(pattern: dict):\n",
    "    \n",
    "    # get subgraph\n",
    "    subgraph_nodes = np.asarray(list(map(int, pattern.get('subgraph'))))\n",
    "    \n",
    "    # get attributes\n",
    "    pos_attrs = set(pattern.get('characteristic').get('positiveAttributes'))\n",
    "    neg_attrs = set(pattern.get('characteristic').get('negativeAttributes'))\n",
    "    attrs = np.asarray([int(x.split('>=')[0]) for x in pos_attrs.union(neg_attrs)])\n",
    "    \n",
    "    return subgraph_nodes, attrs"
   ]
  },
  {
   "cell_type": "code",
   "execution_count": 458,
   "id": "4d984b41-6521-4f50-b00a-3b481fca93f5",
   "metadata": {},
   "outputs": [],
   "source": [
    "# List of all sias patterns\n",
    "nb_sias_patterns = len(data.get('patterns'))\n",
    "\n",
    "sias_patterns = [get_sias_pattern(data.get('patterns')[idx]) for idx in range(nb_sias_patterns)]"
   ]
  },
  {
   "cell_type": "code",
   "execution_count": 463,
   "id": "2027282b-e715-4943-a202-cbecbdff85eb",
   "metadata": {},
   "outputs": [
    {
     "data": {
      "text/plain": [
       "(array([ 796, 1466, 1059, 1157,  237, 1121,  772, 1502, 1688, 1772, 1702,\n",
       "         514,  625,  708, 1032, 1394,  394, 1139, 1089,  793,  279, 1087,\n",
       "         417, 1777,  371, 1365,  607, 1540,  693, 1019, 1605,  205,  703,\n",
       "         296,  278,  741,   67,  615,  752,  220, 1058, 1100, 1122, 1712,\n",
       "          36,  114,  459,  778, 1178, 1242, 1263, 1735, 1128,  103,  671,\n",
       "         676,  572,  761, 1120, 1230,  822, 1154, 1622, 1803,  340,  396,\n",
       "        1151,   19,  813,  428,  743,  422,  151, 1054,  200, 1653, 1685,\n",
       "         343, 1260,  287, 1324, 1381,  288, 1699, 1576, 1736,  122, 1841,\n",
       "         596, 1543, 1816, 1164,   56, 1696, 1443, 1000,  236,  857,  970,\n",
       "         505,  936, 1249,  846]),\n",
       " array([45, 41, 13, 24]))"
      ]
     },
     "execution_count": 463,
     "metadata": {},
     "output_type": "execute_result"
    }
   ],
   "source": [
    "sias_patterns[5]"
   ]
  },
  {
   "cell_type": "code",
   "execution_count": 472,
   "id": "7a852f4f-6843-4bb3-8489-8e7a2b2dedee",
   "metadata": {},
   "outputs": [
    {
     "name": "stdout",
     "output_type": "stream",
     "text": [
      "Attributes: ['jim morrison' 'amy winehouse' 'tags']\n"
     ]
    },
    {
     "data": {
      "image/svg+xml": [
       "<svg xmlns=\"http://www.w3.org/2000/svg\" width=\"476.0\" height=\"340\">\n",
       "<path stroke-width=\"0.5\" stroke=\"gray\" d=\"M 420 220 420 220\"/>\n",
       "<path stroke-width=\"1.0\" stroke=\"gray\" d=\"M 199 192 272 169\"/>\n",
       "<path stroke-width=\"1.0\" stroke=\"gray\" d=\"M 199 192 152 153\"/>\n",
       "<path stroke-width=\"1.0\" stroke=\"gray\" d=\"M 199 192 195 228\"/>\n",
       "<path stroke-width=\"1.0\" stroke=\"gray\" d=\"M 199 192 176 162\"/>\n",
       "<path stroke-width=\"1.0\" stroke=\"gray\" d=\"M 199 192 142 136\"/>\n",
       "<path stroke-width=\"0.5\" stroke=\"gray\" d=\"M 164 170 164 170\"/>\n",
       "<path stroke-width=\"1.0\" stroke=\"gray\" d=\"M 199 192 245 229\"/>\n",
       "<path stroke-width=\"1.0\" stroke=\"gray\" d=\"M 164 170 168 234\"/>\n",
       "<path stroke-width=\"1.0\" stroke=\"gray\" d=\"M 164 170 168 212\"/>\n",
       "<path stroke-width=\"1.0\" stroke=\"gray\" d=\"M 164 170 204 182\"/>\n",
       "<path stroke-width=\"1.0\" stroke=\"gray\" d=\"M 164 170 164 193\"/>\n",
       "<path stroke-width=\"1.0\" stroke=\"gray\" d=\"M 164 170 213 201\"/>\n",
       "<path stroke-width=\"1.0\" stroke=\"gray\" d=\"M 164 170 154 185\"/>\n",
       "<path stroke-width=\"1.0\" stroke=\"gray\" d=\"M 164 170 154 85\"/>\n",
       "<path stroke-width=\"1.0\" stroke=\"gray\" d=\"M 164 170 147 211\"/>\n",
       "<path stroke-width=\"1.0\" stroke=\"gray\" d=\"M 164 170 152 153\"/>\n",
       "<path stroke-width=\"1.0\" stroke=\"gray\" d=\"M 199 192 164 170\"/>\n",
       "<path stroke-width=\"1.0\" stroke=\"gray\" d=\"M 199 192 237 239\"/>\n",
       "<path stroke-width=\"1.0\" stroke=\"gray\" d=\"M 204 182 176 147\"/>\n",
       "<path stroke-width=\"1.0\" stroke=\"gray\" d=\"M 204 182 139 49\"/>\n",
       "<path stroke-width=\"1.0\" stroke=\"gray\" d=\"M 204 182 108 160\"/>\n",
       "<path stroke-width=\"0.5\" stroke=\"gray\" d=\"M 246 203 246 203\"/>\n",
       "<path stroke-width=\"1.0\" stroke=\"gray\" d=\"M 246 203 199 217\"/>\n",
       "<path stroke-width=\"1.0\" stroke=\"gray\" d=\"M 246 203 204 182\"/>\n",
       "<path stroke-width=\"1.0\" stroke=\"gray\" d=\"M 199 192 197 210\"/>\n",
       "<path stroke-width=\"1.0\" stroke=\"gray\" d=\"M 246 203 154 185\"/>\n",
       "<path stroke-width=\"1.0\" stroke=\"gray\" d=\"M 199 192 147 233\"/>\n",
       "<path stroke-width=\"1.0\" stroke=\"gray\" d=\"M 199 192 218 190\"/>\n",
       "<path stroke-width=\"1.0\" stroke=\"gray\" d=\"M 199 192 130 185\"/>\n",
       "<path stroke-width=\"1.0\" stroke=\"gray\" d=\"M 199 192 199 217\"/>\n",
       "<path stroke-width=\"1.0\" stroke=\"gray\" d=\"M 199 192 204 182\"/>\n",
       "<path stroke-width=\"1.0\" stroke=\"gray\" d=\"M 199 192 277 219\"/>\n",
       "<path stroke-width=\"0.5\" stroke=\"gray\" d=\"M 199 192 199 192\"/>\n",
       "<path stroke-width=\"1.0\" stroke=\"gray\" d=\"M 204 182 244 98\"/>\n",
       "<path stroke-width=\"1.0\" stroke=\"gray\" d=\"M 164 170 234 209\"/>\n",
       "<path stroke-width=\"1.0\" stroke=\"gray\" d=\"M 164 170 199 192\"/>\n",
       "<path stroke-width=\"0.5\" stroke=\"gray\" d=\"M 139 49 139 49\"/>\n",
       "<path stroke-width=\"1.0\" stroke=\"gray\" d=\"M 139 49 204 182\"/>\n",
       "<path stroke-width=\"0.5\" stroke=\"gray\" d=\"M 333 271 333 271\"/>\n",
       "<path stroke-width=\"1.0\" stroke=\"gray\" d=\"M 333 271 204 182\"/>\n",
       "<path stroke-width=\"0.5\" stroke=\"gray\" d=\"M 346 205 346 205\"/>\n",
       "<path stroke-width=\"1.0\" stroke=\"gray\" d=\"M 346 205 204 182\"/>\n",
       "<path stroke-width=\"1.0\" stroke=\"gray\" d=\"M 370 196 204 182\"/>\n",
       "<path stroke-width=\"0.5\" stroke=\"gray\" d=\"M 153 103 153 103\"/>\n",
       "<path stroke-width=\"1.0\" stroke=\"gray\" d=\"M 153 103 164 193\"/>\n",
       "<path stroke-width=\"1.0\" stroke=\"gray\" d=\"M 153 103 190 54\"/>\n",
       "<path stroke-width=\"0.5\" stroke=\"gray\" d=\"M 126 141 126 141\"/>\n",
       "<path stroke-width=\"1.0\" stroke=\"gray\" d=\"M 126 141 204 182\"/>\n",
       "<path stroke-width=\"1.0\" stroke=\"gray\" d=\"M 126 141 154 185\"/>\n",
       "<path stroke-width=\"1.0\" stroke=\"gray\" d=\"M 126 141 177 182\"/>\n",
       "<path stroke-width=\"1.0\" stroke=\"gray\" d=\"M 153 103 204 182\"/>\n",
       "<path stroke-width=\"1.0\" stroke=\"gray\" d=\"M 164 170 134 210\"/>\n",
       "<path stroke-width=\"0.5\" stroke=\"gray\" d=\"M 370 196 370 196\"/>\n",
       "<path stroke-width=\"0.5\" stroke=\"gray\" d=\"M 235 125 235 125\"/>\n",
       "<path stroke-width=\"1.0\" stroke=\"gray\" d=\"M 164 170 186 132\"/>\n",
       "<path stroke-width=\"1.0\" stroke=\"gray\" d=\"M 164 170 176 147\"/>\n",
       "<path stroke-width=\"1.0\" stroke=\"gray\" d=\"M 164 170 108 160\"/>\n",
       "<path stroke-width=\"0.5\" stroke=\"gray\" d=\"M 249 174 249 174\"/>\n",
       "<path stroke-width=\"1.0\" stroke=\"gray\" d=\"M 249 174 204 182\"/>\n",
       "<path stroke-width=\"1.0\" stroke=\"gray\" d=\"M 249 174 195 228\"/>\n",
       "<path stroke-width=\"1.0\" stroke=\"gray\" d=\"M 235 125 204 182\"/>\n",
       "<path stroke-width=\"0.5\" stroke=\"gray\" d=\"M 155 302 155 302\"/>\n",
       "<path stroke-width=\"0.5\" stroke=\"gray\" d=\"M 87 228 87 228\"/>\n",
       "<path stroke-width=\"1.0\" stroke=\"gray\" d=\"M 87 228 204 182\"/>\n",
       "<path stroke-width=\"1.0\" stroke=\"gray\" d=\"M 87 228 164 193\"/>\n",
       "<path stroke-width=\"0.5\" stroke=\"gray\" d=\"M 244 98 244 98\"/>\n",
       "<path stroke-width=\"1.0\" stroke=\"gray\" d=\"M 244 98 204 182\"/>\n",
       "<path stroke-width=\"1.0\" stroke=\"gray\" d=\"M 244 98 186 132\"/>\n",
       "<path stroke-width=\"1.0\" stroke=\"gray\" d=\"M 155 302 204 182\"/>\n",
       "<path stroke-width=\"0.5\" stroke=\"gray\" d=\"M 191 279 191 279\"/>\n",
       "<path stroke-width=\"1.0\" stroke=\"gray\" d=\"M 204 182 195 69\"/>\n",
       "<path stroke-width=\"1.0\" stroke=\"gray\" d=\"M 204 182 177 182\"/>\n",
       "<path stroke-width=\"1.0\" stroke=\"gray\" d=\"M 204 182 99 64\"/>\n",
       "<path stroke-width=\"1.0\" stroke=\"gray\" d=\"M 204 182 213 201\"/>\n",
       "<path stroke-width=\"1.0\" stroke=\"gray\" d=\"M 204 182 154 185\"/>\n",
       "<path stroke-width=\"1.0\" stroke=\"gray\" d=\"M 204 182 201 20\"/>\n",
       "<path stroke-width=\"1.0\" stroke=\"gray\" d=\"M 204 182 333 271\"/>\n",
       "<path stroke-width=\"1.0\" stroke=\"gray\" d=\"M 204 182 154 85\"/>\n",
       "<path stroke-width=\"1.0\" stroke=\"gray\" d=\"M 204 182 117 167\"/>\n",
       "<path stroke-width=\"1.0\" stroke=\"gray\" d=\"M 204 182 155 302\"/>\n",
       "<path stroke-width=\"1.0\" stroke=\"gray\" d=\"M 204 182 190 54\"/>\n",
       "<path stroke-width=\"1.0\" stroke=\"gray\" d=\"M 204 182 161 226\"/>\n",
       "<path stroke-width=\"1.0\" stroke=\"gray\" d=\"M 204 182 420 220\"/>\n",
       "<path stroke-width=\"1.0\" stroke=\"gray\" d=\"M 204 182 333 169\"/>\n",
       "<path stroke-width=\"1.0\" stroke=\"gray\" d=\"M 204 182 74 124\"/>\n",
       "<path stroke-width=\"1.0\" stroke=\"gray\" d=\"M 204 182 164 170\"/>\n",
       "<path stroke-width=\"1.0\" stroke=\"gray\" d=\"M 204 182 197 210\"/>\n",
       "<path stroke-width=\"1.0\" stroke=\"gray\" d=\"M 204 182 262 292\"/>\n",
       "<path stroke-width=\"1.0\" stroke=\"gray\" d=\"M 204 182 354 99\"/>\n",
       "<path stroke-width=\"1.0\" stroke=\"gray\" d=\"M 204 182 296 302\"/>\n",
       "<path stroke-width=\"1.0\" stroke=\"gray\" d=\"M 204 182 237 239\"/>\n",
       "<path stroke-width=\"1.0\" stroke=\"gray\" d=\"M 204 182 143 262\"/>\n",
       "<path stroke-width=\"1.0\" stroke=\"gray\" d=\"M 204 182 123 254\"/>\n",
       "<path stroke-width=\"1.0\" stroke=\"gray\" d=\"M 204 182 63 234\"/>\n",
       "<path stroke-width=\"1.0\" stroke=\"gray\" d=\"M 204 182 346 205\"/>\n",
       "<path stroke-width=\"1.0\" stroke=\"gray\" d=\"M 204 182 256 100\"/>\n",
       "<path stroke-width=\"1.0\" stroke=\"gray\" d=\"M 204 182 158 53\"/>\n",
       "<path stroke-width=\"1.0\" stroke=\"gray\" d=\"M 204 182 304 290\"/>\n",
       "<path stroke-width=\"1.0\" stroke=\"gray\" d=\"M 204 182 273 198\"/>\n",
       "<path stroke-width=\"1.0\" stroke=\"gray\" d=\"M 204 182 238 252\"/>\n",
       "<path stroke-width=\"1.0\" stroke=\"gray\" d=\"M 204 182 193 114\"/>\n",
       "<path stroke-width=\"1.0\" stroke=\"gray\" d=\"M 204 182 120 151\"/>\n",
       "<path stroke-width=\"1.0\" stroke=\"gray\" d=\"M 204 182 370 196\"/>\n",
       "<path stroke-width=\"1.0\" stroke=\"gray\" d=\"M 204 182 164 193\"/>\n",
       "<path stroke-width=\"1.0\" stroke=\"gray\" d=\"M 204 182 139 216\"/>\n",
       "<path stroke-width=\"1.0\" stroke=\"gray\" d=\"M 204 182 198 60\"/>\n",
       "<path stroke-width=\"1.0\" stroke=\"gray\" d=\"M 204 182 333 63\"/>\n",
       "<path stroke-width=\"1.0\" stroke=\"gray\" d=\"M 204 182 267 95\"/>\n",
       "<path stroke-width=\"1.0\" stroke=\"gray\" d=\"M 204 182 195 228\"/>\n",
       "<path stroke-width=\"1.0\" stroke=\"gray\" d=\"M 204 182 134 210\"/>\n",
       "<path stroke-width=\"1.0\" stroke=\"gray\" d=\"M 204 182 201 255\"/>\n",
       "<path stroke-width=\"1.0\" stroke=\"gray\" d=\"M 204 182 176 162\"/>\n",
       "<path stroke-width=\"1.0\" stroke=\"gray\" d=\"M 204 182 86 232\"/>\n",
       "<path stroke-width=\"1.0\" stroke=\"gray\" d=\"M 204 182 353 252\"/>\n",
       "<path stroke-width=\"1.0\" stroke=\"gray\" d=\"M 204 182 180 158\"/>\n",
       "<path stroke-width=\"1.0\" stroke=\"gray\" d=\"M 204 182 199 192\"/>\n",
       "<path stroke-width=\"1.0\" stroke=\"gray\" d=\"M 204 182 249 174\"/>\n",
       "<path stroke-width=\"1.0\" stroke=\"gray\" d=\"M 204 182 99 111\"/>\n",
       "<path stroke-width=\"1.0\" stroke=\"gray\" d=\"M 204 182 191 279\"/>\n",
       "<path stroke-width=\"1.0\" stroke=\"gray\" d=\"M 204 182 186 132\"/>\n",
       "<path stroke-width=\"1.0\" stroke=\"gray\" d=\"M 204 182 187 244\"/>\n",
       "<path stroke-width=\"1.0\" stroke=\"gray\" d=\"M 204 182 147 240\"/>\n",
       "<path stroke-width=\"1.0\" stroke=\"gray\" d=\"M 204 182 142 136\"/>\n",
       "<path stroke-width=\"1.0\" stroke=\"gray\" d=\"M 204 182 201 156\"/>\n",
       "<path stroke-width=\"1.0\" stroke=\"gray\" d=\"M 204 182 87 228\"/>\n",
       "<path stroke-width=\"1.0\" stroke=\"gray\" d=\"M 204 182 130 196\"/>\n",
       "<path stroke-width=\"1.0\" stroke=\"gray\" d=\"M 204 182 260 198\"/>\n",
       "<path stroke-width=\"1.0\" stroke=\"gray\" d=\"M 204 182 245 229\"/>\n",
       "<path stroke-width=\"1.0\" stroke=\"gray\" d=\"M 204 182 153 103\"/>\n",
       "<path stroke-width=\"1.0\" stroke=\"gray\" d=\"M 204 182 400 221\"/>\n",
       "<path stroke-width=\"1.0\" stroke=\"gray\" d=\"M 204 182 272 169\"/>\n",
       "<path stroke-width=\"1.0\" stroke=\"gray\" d=\"M 204 182 401 184\"/>\n",
       "<path stroke-width=\"1.0\" stroke=\"gray\" d=\"M 204 182 289 320\"/>\n",
       "<path stroke-width=\"1.0\" stroke=\"gray\" d=\"M 204 182 152 153\"/>\n",
       "<path stroke-width=\"1.0\" stroke=\"gray\" d=\"M 204 182 240 159\"/>\n",
       "<path stroke-width=\"1.0\" stroke=\"gray\" d=\"M 204 182 85 220\"/>\n",
       "<path stroke-width=\"1.0\" stroke=\"gray\" d=\"M 204 182 46 235\"/>\n",
       "<path stroke-width=\"1.0\" stroke=\"gray\" d=\"M 204 182 170 184\"/>\n",
       "<path stroke-width=\"1.0\" stroke=\"gray\" d=\"M 204 182 90 165\"/>\n",
       "<path stroke-width=\"1.0\" stroke=\"gray\" d=\"M 204 182 235 125\"/>\n",
       "<path stroke-width=\"1.0\" stroke=\"gray\" d=\"M 204 182 234 209\"/>\n",
       "<path stroke-width=\"1.0\" stroke=\"gray\" d=\"M 191 279 204 182\"/>\n",
       "<path stroke-width=\"1.0\" stroke=\"gray\" d=\"M 191 279 164 193\"/>\n",
       "<path stroke-width=\"0.5\" stroke=\"gray\" d=\"M 240 159 240 159\"/>\n",
       "<path stroke-width=\"1.0\" stroke=\"gray\" d=\"M 354 99 204 182\"/>\n",
       "<path stroke-width=\"0.5\" stroke=\"gray\" d=\"M 325 131 325 131\"/>\n",
       "<path stroke-width=\"1.0\" stroke=\"gray\" d=\"M 325 131 204 182\"/>\n",
       "<path stroke-width=\"0.5\" stroke=\"gray\" d=\"M 90 165 90 165\"/>\n",
       "<path stroke-width=\"1.0\" stroke=\"gray\" d=\"M 90 165 114 236\"/>\n",
       "<path stroke-width=\"1.0\" stroke=\"gray\" d=\"M 90 165 204 182\"/>\n",
       "<path stroke-width=\"0.5\" stroke=\"gray\" d=\"M 354 99 354 99\"/>\n",
       "<path stroke-width=\"0.5\" stroke=\"gray\" d=\"M 170 184 170 184\"/>\n",
       "<path stroke-width=\"1.0\" stroke=\"gray\" d=\"M 170 184 199 217\"/>\n",
       "<path stroke-width=\"1.0\" stroke=\"gray\" d=\"M 170 184 204 182\"/>\n",
       "<path stroke-width=\"1.0\" stroke=\"gray\" d=\"M 170 184 164 193\"/>\n",
       "<path stroke-width=\"1.0\" stroke=\"gray\" d=\"M 170 184 201 156\"/>\n",
       "<path stroke-width=\"0.5\" stroke=\"gray\" d=\"M 154 85 154 85\"/>\n",
       "<path stroke-width=\"1.0\" stroke=\"gray\" d=\"M 154 85 204 182\"/>\n",
       "<path stroke-width=\"1.0\" stroke=\"gray\" d=\"M 170 184 147 211\"/>\n",
       "<path stroke-width=\"1.0\" stroke=\"gray\" d=\"M 154 85 164 170\"/>\n",
       "<path stroke-width=\"1.0\" stroke=\"gray\" d=\"M 176 147 108 160\"/>\n",
       "<path stroke-width=\"1.0\" stroke=\"gray\" d=\"M 176 147 152 153\"/>\n",
       "<path stroke-width=\"1.0\" stroke=\"gray\" d=\"M 139 216 46 235\"/>\n",
       "<path stroke-width=\"1.0\" stroke=\"gray\" d=\"M 139 216 130 196\"/>\n",
       "<path stroke-width=\"1.0\" stroke=\"gray\" d=\"M 139 216 180 158\"/>\n",
       "<path stroke-width=\"1.0\" stroke=\"gray\" d=\"M 139 216 195 228\"/>\n",
       "<path stroke-width=\"1.0\" stroke=\"gray\" d=\"M 139 216 201 255\"/>\n",
       "<path stroke-width=\"1.0\" stroke=\"gray\" d=\"M 139 216 187 244\"/>\n",
       "<path stroke-width=\"1.0\" stroke=\"gray\" d=\"M 176 147 180 158\"/>\n",
       "<path stroke-width=\"1.0\" stroke=\"gray\" d=\"M 139 216 177 182\"/>\n",
       "<path stroke-width=\"0.5\" stroke=\"gray\" d=\"M 176 147 176 147\"/>\n",
       "<path stroke-width=\"1.0\" stroke=\"gray\" d=\"M 176 147 171 173\"/>\n",
       "<path stroke-width=\"1.0\" stroke=\"gray\" d=\"M 176 147 204 182\"/>\n",
       "<path stroke-width=\"1.0\" stroke=\"gray\" d=\"M 176 147 256 100\"/>\n",
       "<path stroke-width=\"1.0\" stroke=\"gray\" d=\"M 176 147 139 216\"/>\n",
       "<path stroke-width=\"1.0\" stroke=\"gray\" d=\"M 176 147 164 170\"/>\n",
       "<path stroke-width=\"1.0\" stroke=\"gray\" d=\"M 139 216 176 147\"/>\n",
       "<path stroke-width=\"1.0\" stroke=\"gray\" d=\"M 139 216 85 220\"/>\n",
       "<path stroke-width=\"0.5\" stroke=\"gray\" d=\"M 20 182 20 182\"/>\n",
       "<path stroke-width=\"0.5\" stroke=\"gray\" d=\"M 46 235 46 235\"/>\n",
       "<path stroke-width=\"1.0\" stroke=\"gray\" d=\"M 218 221 177 182\"/>\n",
       "<path stroke-width=\"0.5\" stroke=\"gray\" d=\"M 199 217 199 217\"/>\n",
       "<path stroke-width=\"1.0\" stroke=\"gray\" d=\"M 199 217 131 235\"/>\n",
       "<path stroke-width=\"1.0\" stroke=\"gray\" d=\"M 199 217 246 203\"/>\n",
       "<path stroke-width=\"1.0\" stroke=\"gray\" d=\"M 199 217 204 182\"/>\n",
       "<path stroke-width=\"1.0\" stroke=\"gray\" d=\"M 199 217 197 210\"/>\n",
       "<path stroke-width=\"1.0\" stroke=\"gray\" d=\"M 218 221 147 240\"/>\n",
       "<path stroke-width=\"1.0\" stroke=\"gray\" d=\"M 199 217 170 184\"/>\n",
       "<path stroke-width=\"1.0\" stroke=\"gray\" d=\"M 199 217 199 192\"/>\n",
       "<path stroke-width=\"0.5\" stroke=\"gray\" d=\"M 195 228 195 228\"/>\n",
       "<path stroke-width=\"1.0\" stroke=\"gray\" d=\"M 195 228 168 212\"/>\n",
       "<path stroke-width=\"1.0\" stroke=\"gray\" d=\"M 195 228 199 217\"/>\n",
       "<path stroke-width=\"1.0\" stroke=\"gray\" d=\"M 195 228 204 182\"/>\n",
       "<path stroke-width=\"1.0\" stroke=\"gray\" d=\"M 195 228 139 216\"/>\n",
       "<path stroke-width=\"1.0\" stroke=\"gray\" d=\"M 199 217 195 228\"/>\n",
       "<path stroke-width=\"1.0\" stroke=\"gray\" d=\"M 20 182 204 182\"/>\n",
       "<path stroke-width=\"1.0\" stroke=\"gray\" d=\"M 218 221 260 198\"/>\n",
       "<path stroke-width=\"0.5\" stroke=\"gray\" d=\"M 218 221 218 221\"/>\n",
       "<path stroke-width=\"1.0\" stroke=\"gray\" d=\"M 46 235 204 182\"/>\n",
       "<path stroke-width=\"1.0\" stroke=\"gray\" d=\"M 46 235 139 216\"/>\n",
       "<path stroke-width=\"0.5\" stroke=\"gray\" d=\"M 218 190 218 190\"/>\n",
       "<path stroke-width=\"1.0\" stroke=\"gray\" d=\"M 218 190 204 182\"/>\n",
       "<path stroke-width=\"1.0\" stroke=\"gray\" d=\"M 218 190 272 169\"/>\n",
       "<path stroke-width=\"1.0\" stroke=\"gray\" d=\"M 218 190 176 162\"/>\n",
       "<path stroke-width=\"1.0\" stroke=\"gray\" d=\"M 218 221 204 182\"/>\n",
       "<path stroke-width=\"1.0\" stroke=\"gray\" d=\"M 218 190 199 192\"/>\n",
       "<path stroke-width=\"1.0\" stroke=\"gray\" d=\"M 147 211 168 212\"/>\n",
       "<path stroke-width=\"1.0\" stroke=\"gray\" d=\"M 147 211 204 182\"/>\n",
       "<path stroke-width=\"1.0\" stroke=\"gray\" d=\"M 147 211 164 193\"/>\n",
       "<path stroke-width=\"1.0\" stroke=\"gray\" d=\"M 147 211 164 170\"/>\n",
       "<path stroke-width=\"1.0\" stroke=\"gray\" d=\"M 147 211 170 184\"/>\n",
       "<path stroke-width=\"1.0\" stroke=\"gray\" d=\"M 147 211 134 210\"/>\n",
       "<path stroke-width=\"0.5\" stroke=\"gray\" d=\"M 147 211 147 211\"/>\n",
       "<path stroke-width=\"1.0\" stroke=\"gray\" d=\"M 139 216 154 185\"/>\n",
       "<path stroke-width=\"1.0\" stroke=\"gray\" d=\"M 139 216 63 234\"/>\n",
       "<path stroke-width=\"1.0\" stroke=\"gray\" d=\"M 139 216 204 182\"/>\n",
       "<path stroke-width=\"0.5\" stroke=\"gray\" d=\"M 201 255 201 255\"/>\n",
       "<path stroke-width=\"1.0\" stroke=\"gray\" d=\"M 201 255 204 182\"/>\n",
       "<path stroke-width=\"1.0\" stroke=\"gray\" d=\"M 201 255 139 216\"/>\n",
       "<path stroke-width=\"1.0\" stroke=\"gray\" d=\"M 201 255 147 240\"/>\n",
       "<path stroke-width=\"0.5\" stroke=\"gray\" d=\"M 213 201 213 201\"/>\n",
       "<path stroke-width=\"1.0\" stroke=\"gray\" d=\"M 213 201 204 182\"/>\n",
       "<path stroke-width=\"1.0\" stroke=\"gray\" d=\"M 238 252 234 209\"/>\n",
       "<path stroke-width=\"1.0\" stroke=\"gray\" d=\"M 213 201 164 170\"/>\n",
       "<path stroke-width=\"0.5\" stroke=\"gray\" d=\"M 272 169 272 169\"/>\n",
       "<path stroke-width=\"1.0\" stroke=\"gray\" d=\"M 272 169 218 190\"/>\n",
       "<path stroke-width=\"1.0\" stroke=\"gray\" d=\"M 272 169 204 182\"/>\n",
       "<path stroke-width=\"1.0\" stroke=\"gray\" d=\"M 272 169 260 198\"/>\n",
       "<path stroke-width=\"1.0\" stroke=\"gray\" d=\"M 272 169 199 192\"/>\n",
       "<path stroke-width=\"0.5\" stroke=\"gray\" d=\"M 147 233 147 233\"/>\n",
       "<path stroke-width=\"1.0\" stroke=\"gray\" d=\"M 213 201 134 210\"/>\n",
       "<path stroke-width=\"1.0\" stroke=\"gray\" d=\"M 147 233 185 216\"/>\n",
       "<path stroke-width=\"1.0\" stroke=\"gray\" d=\"M 238 252 245 229\"/>\n",
       "<path stroke-width=\"1.0\" stroke=\"gray\" d=\"M 238 252 164 193\"/>\n",
       "<path stroke-width=\"1.0\" stroke=\"gray\" d=\"M 240 159 229 135\"/>\n",
       "<path stroke-width=\"1.0\" stroke=\"gray\" d=\"M 240 159 204 182\"/>\n",
       "<path stroke-width=\"1.0\" stroke=\"gray\" d=\"M 240 159 161 226\"/>\n",
       "<path stroke-width=\"1.0\" stroke=\"gray\" d=\"M 240 159 201 156\"/>\n",
       "<path stroke-width=\"1.0\" stroke=\"gray\" d=\"M 240 159 267 95\"/>\n",
       "<path stroke-width=\"0.5\" stroke=\"gray\" d=\"M 256 100 256 100\"/>\n",
       "<path stroke-width=\"1.0\" stroke=\"gray\" d=\"M 238 252 262 292\"/>\n",
       "<path stroke-width=\"1.0\" stroke=\"gray\" d=\"M 256 100 204 182\"/>\n",
       "<path stroke-width=\"0.5\" stroke=\"gray\" d=\"M 190 54 190 54\"/>\n",
       "<path stroke-width=\"1.0\" stroke=\"gray\" d=\"M 190 54 204 182\"/>\n",
       "<path stroke-width=\"1.0\" stroke=\"gray\" d=\"M 190 54 153 103\"/>\n",
       "<path stroke-width=\"0.5\" stroke=\"gray\" d=\"M 238 252 238 252\"/>\n",
       "<path stroke-width=\"1.0\" stroke=\"gray\" d=\"M 238 252 220 254\"/>\n",
       "<path stroke-width=\"1.0\" stroke=\"gray\" d=\"M 238 252 204 182\"/>\n",
       "<path stroke-width=\"1.0\" stroke=\"gray\" d=\"M 256 100 176 147\"/>\n",
       "<path stroke-width=\"1.0\" stroke=\"gray\" d=\"M 147 233 204 182\"/>\n",
       "<path stroke-width=\"1.0\" stroke=\"gray\" d=\"M 147 233 199 192\"/>\n",
       "<path stroke-width=\"0.5\" stroke=\"gray\" d=\"M 134 210 134 210\"/>\n",
       "<path stroke-width=\"1.0\" stroke=\"gray\" d=\"M 164 193 87 228\"/>\n",
       "<path stroke-width=\"1.0\" stroke=\"gray\" d=\"M 164 193 86 232\"/>\n",
       "<path stroke-width=\"1.0\" stroke=\"gray\" d=\"M 164 193 191 279\"/>\n",
       "<path stroke-width=\"1.0\" stroke=\"gray\" d=\"M 164 193 186 132\"/>\n",
       "<path stroke-width=\"0.5\" stroke=\"gray\" d=\"M 130 185 130 185\"/>\n",
       "<path stroke-width=\"1.0\" stroke=\"gray\" d=\"M 130 185 185 216\"/>\n",
       "<path stroke-width=\"1.0\" stroke=\"gray\" d=\"M 164 193 170 184\"/>\n",
       "<path stroke-width=\"1.0\" stroke=\"gray\" d=\"M 130 185 204 182\"/>\n",
       "<path stroke-width=\"1.0\" stroke=\"gray\" d=\"M 130 185 154 185\"/>\n",
       "<path stroke-width=\"1.0\" stroke=\"gray\" d=\"M 130 185 199 192\"/>\n",
       "<path stroke-width=\"1.0\" stroke=\"gray\" d=\"M 130 185 142 136\"/>\n",
       "<path stroke-width=\"0.5\" stroke=\"gray\" d=\"M 139 216 139 216\"/>\n",
       "<path stroke-width=\"1.0\" stroke=\"gray\" d=\"M 139 216 220 254\"/>\n",
       "<path stroke-width=\"1.0\" stroke=\"gray\" d=\"M 139 216 130 185\"/>\n",
       "<path stroke-width=\"1.0\" stroke=\"gray\" d=\"M 130 185 139 216\"/>\n",
       "<path stroke-width=\"1.0\" stroke=\"gray\" d=\"M 164 193 234 209\"/>\n",
       "<path stroke-width=\"1.0\" stroke=\"gray\" d=\"M 164 193 152 153\"/>\n",
       "<path stroke-width=\"1.0\" stroke=\"gray\" d=\"M 164 193 153 103\"/>\n",
       "<path stroke-width=\"1.0\" stroke=\"gray\" d=\"M 134 210 168 234\"/>\n",
       "<path stroke-width=\"1.0\" stroke=\"gray\" d=\"M 134 210 147 211\"/>\n",
       "<path stroke-width=\"1.0\" stroke=\"gray\" d=\"M 134 210 204 182\"/>\n",
       "<path stroke-width=\"1.0\" stroke=\"gray\" d=\"M 134 210 213 201\"/>\n",
       "<path stroke-width=\"1.0\" stroke=\"gray\" d=\"M 134 210 164 170\"/>\n",
       "<path stroke-width=\"1.0\" stroke=\"gray\" d=\"M 134 210 86 232\"/>\n",
       "<path stroke-width=\"0.5\" stroke=\"gray\" d=\"M 164 193 164 193\"/>\n",
       "<path stroke-width=\"1.0\" stroke=\"gray\" d=\"M 164 193 171 173\"/>\n",
       "<path stroke-width=\"1.0\" stroke=\"gray\" d=\"M 164 193 147 211\"/>\n",
       "<path stroke-width=\"1.0\" stroke=\"gray\" d=\"M 164 193 168 212\"/>\n",
       "<path stroke-width=\"1.0\" stroke=\"gray\" d=\"M 164 193 204 182\"/>\n",
       "<path stroke-width=\"1.0\" stroke=\"gray\" d=\"M 164 193 238 252\"/>\n",
       "<path stroke-width=\"1.0\" stroke=\"gray\" d=\"M 164 193 193 114\"/>\n",
       "<path stroke-width=\"1.0\" stroke=\"gray\" d=\"M 164 193 154 185\"/>\n",
       "<path stroke-width=\"1.0\" stroke=\"gray\" d=\"M 164 193 164 170\"/>\n",
       "<path stroke-width=\"1.0\" stroke=\"gray\" d=\"M 204 182 277 219\"/>\n",
       "<path stroke-width=\"1.0\" stroke=\"gray\" d=\"M 195 228 199 192\"/>\n",
       "<path stroke-width=\"1.0\" stroke=\"gray\" d=\"M 204 182 20 182\"/>\n",
       "<path stroke-width=\"1.0\" stroke=\"gray\" d=\"M 204 182 218 221\"/>\n",
       "<path stroke-width=\"1.0\" stroke=\"gray\" d=\"M 180 158 176 147\"/>\n",
       "<path stroke-width=\"0.5\" stroke=\"gray\" d=\"M 193 114 193 114\"/>\n",
       "<path stroke-width=\"1.0\" stroke=\"gray\" d=\"M 193 114 204 182\"/>\n",
       "<path stroke-width=\"1.0\" stroke=\"gray\" d=\"M 193 114 164 193\"/>\n",
       "<path stroke-width=\"0.5\" stroke=\"gray\" d=\"M 85 220 85 220\"/>\n",
       "<path stroke-width=\"1.0\" stroke=\"gray\" d=\"M 85 220 204 182\"/>\n",
       "<path stroke-width=\"1.0\" stroke=\"gray\" d=\"M 180 158 186 132\"/>\n",
       "<path stroke-width=\"1.0\" stroke=\"gray\" d=\"M 85 220 139 216\"/>\n",
       "<path stroke-width=\"0.5\" stroke=\"gray\" d=\"M 108 160 108 160\"/>\n",
       "<path stroke-width=\"1.0\" stroke=\"gray\" d=\"M 108 160 74 200\"/>\n",
       "<path stroke-width=\"1.0\" stroke=\"gray\" d=\"M 108 160 204 182\"/>\n",
       "<path stroke-width=\"1.0\" stroke=\"gray\" d=\"M 108 160 164 170\"/>\n",
       "<path stroke-width=\"1.0\" stroke=\"gray\" d=\"M 108 160 152 153\"/>\n",
       "<path stroke-width=\"1.0\" stroke=\"gray\" d=\"M 108 160 176 147\"/>\n",
       "<path stroke-width=\"1.0\" stroke=\"gray\" d=\"M 85 220 161 226\"/>\n",
       "<path stroke-width=\"0.5\" stroke=\"gray\" d=\"M 161 226 161 226\"/>\n",
       "<path stroke-width=\"1.0\" stroke=\"gray\" d=\"M 180 158 139 216\"/>\n",
       "<path stroke-width=\"1.0\" stroke=\"gray\" d=\"M 180 158 168 212\"/>\n",
       "<path stroke-width=\"1.0\" stroke=\"gray\" d=\"M 131 235 204 182\"/>\n",
       "<path stroke-width=\"0.5\" stroke=\"gray\" d=\"M 262 292 262 292\"/>\n",
       "<path stroke-width=\"1.0\" stroke=\"gray\" d=\"M 262 292 220 254\"/>\n",
       "<path stroke-width=\"1.0\" stroke=\"gray\" d=\"M 262 292 204 182\"/>\n",
       "<path stroke-width=\"1.0\" stroke=\"gray\" d=\"M 262 292 238 252\"/>\n",
       "<path stroke-width=\"0.5\" stroke=\"gray\" d=\"M 296 302 296 302\"/>\n",
       "<path stroke-width=\"1.0\" stroke=\"gray\" d=\"M 180 158 204 182\"/>\n",
       "<path stroke-width=\"1.0\" stroke=\"gray\" d=\"M 296 302 204 182\"/>\n",
       "<path stroke-width=\"1.0\" stroke=\"gray\" d=\"M 353 109 204 182\"/>\n",
       "<path stroke-width=\"0.5\" stroke=\"gray\" d=\"M 229 135 229 135\"/>\n",
       "<path stroke-width=\"1.0\" stroke=\"gray\" d=\"M 229 135 204 182\"/>\n",
       "<path stroke-width=\"1.0\" stroke=\"gray\" d=\"M 229 135 240 159\"/>\n",
       "<path stroke-width=\"1.0\" stroke=\"gray\" d=\"M 229 135 186 132\"/>\n",
       "<path stroke-width=\"0.5\" stroke=\"gray\" d=\"M 180 158 180 158\"/>\n",
       "<path stroke-width=\"0.5\" stroke=\"gray\" d=\"M 353 109 353 109\"/>\n",
       "<path stroke-width=\"1.0\" stroke=\"gray\" d=\"M 131 235 199 217\"/>\n",
       "<path stroke-width=\"1.0\" stroke=\"gray\" d=\"M 161 226 204 182\"/>\n",
       "<path stroke-width=\"1.0\" stroke=\"gray\" d=\"M 161 226 85 220\"/>\n",
       "<path stroke-width=\"1.0\" stroke=\"gray\" d=\"M 201 156 240 159\"/>\n",
       "<path stroke-width=\"1.0\" stroke=\"gray\" d=\"M 201 156 170 184\"/>\n",
       "<path stroke-width=\"1.0\" stroke=\"gray\" d=\"M 201 156 130 196\"/>\n",
       "<path stroke-width=\"1.0\" stroke=\"gray\" d=\"M 201 156 176 162\"/>\n",
       "<path stroke-width=\"1.0\" stroke=\"gray\" d=\"M 201 156 186 132\"/>\n",
       "<path stroke-width=\"0.5\" stroke=\"gray\" d=\"M 289 320 289 320\"/>\n",
       "<path stroke-width=\"1.0\" stroke=\"gray\" d=\"M 201 156 260 198\"/>\n",
       "<path stroke-width=\"1.0\" stroke=\"gray\" d=\"M 289 320 204 182\"/>\n",
       "<path stroke-width=\"1.0\" stroke=\"gray\" d=\"M 187 244 168 212\"/>\n",
       "<path stroke-width=\"1.0\" stroke=\"gray\" d=\"M 187 244 204 182\"/>\n",
       "<path stroke-width=\"1.0\" stroke=\"gray\" d=\"M 187 244 123 254\"/>\n",
       "<path stroke-width=\"1.0\" stroke=\"gray\" d=\"M 187 244 139 216\"/>\n",
       "<path stroke-width=\"1.0\" stroke=\"gray\" d=\"M 187 244 273 198\"/>\n",
       "<path stroke-width=\"1.0\" stroke=\"gray\" d=\"M 187 244 161 226\"/>\n",
       "<path stroke-width=\"0.5\" stroke=\"gray\" d=\"M 187 244 187 244\"/>\n",
       "<path stroke-width=\"1.0\" stroke=\"gray\" d=\"M 161 226 240 159\"/>\n",
       "<path stroke-width=\"1.0\" stroke=\"gray\" d=\"M 201 156 204 182\"/>\n",
       "<path stroke-width=\"1.0\" stroke=\"gray\" d=\"M 245 229 199 192\"/>\n",
       "<path stroke-width=\"1.0\" stroke=\"gray\" d=\"M 161 226 130 196\"/>\n",
       "<path stroke-width=\"1.0\" stroke=\"gray\" d=\"M 161 226 187 244\"/>\n",
       "<path stroke-width=\"0.5\" stroke=\"gray\" d=\"M 130 196 130 196\"/>\n",
       "<path stroke-width=\"1.0\" stroke=\"gray\" d=\"M 130 196 185 216\"/>\n",
       "<path stroke-width=\"1.0\" stroke=\"gray\" d=\"M 130 196 204 182\"/>\n",
       "<path stroke-width=\"1.0\" stroke=\"gray\" d=\"M 130 196 139 216\"/>\n",
       "<path stroke-width=\"0.5\" stroke=\"gray\" d=\"M 201 156 201 156\"/>\n",
       "<path stroke-width=\"1.0\" stroke=\"gray\" d=\"M 130 196 117 167\"/>\n",
       "<path stroke-width=\"1.0\" stroke=\"gray\" d=\"M 130 196 201 156\"/>\n",
       "<path stroke-width=\"0.5\" stroke=\"gray\" d=\"M 245 229 245 229\"/>\n",
       "<path stroke-width=\"1.0\" stroke=\"gray\" d=\"M 245 229 220 254\"/>\n",
       "<path stroke-width=\"1.0\" stroke=\"gray\" d=\"M 245 229 204 182\"/>\n",
       "<path stroke-width=\"1.0\" stroke=\"gray\" d=\"M 245 229 238 252\"/>\n",
       "<path stroke-width=\"1.0\" stroke=\"gray\" d=\"M 245 229 234 209\"/>\n",
       "<path stroke-width=\"1.0\" stroke=\"gray\" d=\"M 130 196 161 226\"/>\n",
       "<path stroke-width=\"0.5\" stroke=\"gray\" d=\"M 273 198 273 198\"/>\n",
       "<path stroke-width=\"0.5\" stroke=\"gray\" d=\"M 131 235 131 235\"/>\n",
       "<path stroke-width=\"0.5\" stroke=\"gray\" d=\"M 64 106 64 106\"/>\n",
       "<path stroke-width=\"1.0\" stroke=\"gray\" d=\"M 168 212 187 244\"/>\n",
       "<path stroke-width=\"0.5\" stroke=\"gray\" d=\"M 197 210 197 210\"/>\n",
       "<path stroke-width=\"1.0\" stroke=\"gray\" d=\"M 197 210 199 217\"/>\n",
       "<path stroke-width=\"1.0\" stroke=\"gray\" d=\"M 197 210 204 182\"/>\n",
       "<path stroke-width=\"1.0\" stroke=\"gray\" d=\"M 197 210 260 198\"/>\n",
       "<path stroke-width=\"1.0\" stroke=\"gray\" d=\"M 197 210 199 192\"/>\n",
       "<path stroke-width=\"1.0\" stroke=\"gray\" d=\"M 168 212 195 228\"/>\n",
       "<path stroke-width=\"0.5\" stroke=\"gray\" d=\"M 401 184 401 184\"/>\n",
       "<path stroke-width=\"0.5\" stroke=\"gray\" d=\"M 333 63 333 63\"/>\n",
       "<path stroke-width=\"1.0\" stroke=\"gray\" d=\"M 333 63 204 182\"/>\n",
       "<path stroke-width=\"0.5\" stroke=\"gray\" d=\"M 99 111 99 111\"/>\n",
       "<path stroke-width=\"1.0\" stroke=\"gray\" d=\"M 99 111 204 182\"/>\n",
       "<path stroke-width=\"0.5\" stroke=\"gray\" d=\"M 267 95 267 95\"/>\n",
       "<path stroke-width=\"1.0\" stroke=\"gray\" d=\"M 267 95 204 182\"/>\n",
       "<path stroke-width=\"1.0\" stroke=\"gray\" d=\"M 401 184 204 182\"/>\n",
       "<path stroke-width=\"1.0\" stroke=\"gray\" d=\"M 267 95 240 159\"/>\n",
       "<path stroke-width=\"1.0\" stroke=\"gray\" d=\"M 168 212 180 158\"/>\n",
       "<path stroke-width=\"1.0\" stroke=\"gray\" d=\"M 168 212 154 185\"/>\n",
       "<path stroke-width=\"1.0\" stroke=\"gray\" d=\"M 420 220 204 182\"/>\n",
       "<path stroke-width=\"0.5\" stroke=\"gray\" d=\"M 147 240 147 240\"/>\n",
       "<path stroke-width=\"1.0\" stroke=\"gray\" d=\"M 147 240 185 216\"/>\n",
       "<path stroke-width=\"1.0\" stroke=\"gray\" d=\"M 147 240 74 200\"/>\n",
       "<path stroke-width=\"1.0\" stroke=\"gray\" d=\"M 147 240 218 221\"/>\n",
       "<path stroke-width=\"1.0\" stroke=\"gray\" d=\"M 147 240 204 182\"/>\n",
       "<path stroke-width=\"1.0\" stroke=\"gray\" d=\"M 168 212 164 170\"/>\n",
       "<path stroke-width=\"1.0\" stroke=\"gray\" d=\"M 147 240 201 255\"/>\n",
       "<path stroke-width=\"1.0\" stroke=\"gray\" d=\"M 168 212 171 173\"/>\n",
       "<path stroke-width=\"1.0\" stroke=\"gray\" d=\"M 168 212 168 234\"/>\n",
       "<path stroke-width=\"1.0\" stroke=\"gray\" d=\"M 168 212 147 211\"/>\n",
       "<path stroke-width=\"1.0\" stroke=\"gray\" d=\"M 168 212 204 182\"/>\n",
       "<path stroke-width=\"1.0\" stroke=\"gray\" d=\"M 168 212 143 262\"/>\n",
       "<path stroke-width=\"1.0\" stroke=\"gray\" d=\"M 168 212 164 193\"/>\n",
       "<path stroke-width=\"0.5\" stroke=\"gray\" d=\"M 168 212 168 212\"/>\n",
       "<path stroke-width=\"1.0\" stroke=\"gray\" d=\"M 64 106 204 182\"/>\n",
       "<path stroke-width=\"0.5\" stroke=\"gray\" d=\"M 333 169 333 169\"/>\n",
       "<path stroke-width=\"0.5\" stroke=\"gray\" d=\"M 99 64 99 64\"/>\n",
       "<path stroke-width=\"1.0\" stroke=\"gray\" d=\"M 230 314 204 182\"/>\n",
       "<path stroke-width=\"0.5\" stroke=\"gray\" d=\"M 120 151 120 151\"/>\n",
       "<path stroke-width=\"1.0\" stroke=\"gray\" d=\"M 120 151 204 182\"/>\n",
       "<path stroke-width=\"0.5\" stroke=\"gray\" d=\"M 114 236 114 236\"/>\n",
       "<path stroke-width=\"1.0\" stroke=\"gray\" d=\"M 114 236 204 182\"/>\n",
       "<path stroke-width=\"1.0\" stroke=\"gray\" d=\"M 114 236 90 165\"/>\n",
       "<path stroke-width=\"0.5\" stroke=\"gray\" d=\"M 230 314 230 314\"/>\n",
       "<path stroke-width=\"0.5\" stroke=\"gray\" d=\"M 353 252 353 252\"/>\n",
       "<path stroke-width=\"0.5\" stroke=\"gray\" d=\"M 195 69 195 69\"/>\n",
       "<path stroke-width=\"1.0\" stroke=\"gray\" d=\"M 195 69 204 182\"/>\n",
       "<path stroke-width=\"0.5\" stroke=\"gray\" d=\"M 400 221 400 221\"/>\n",
       "<path stroke-width=\"1.0\" stroke=\"gray\" d=\"M 400 221 204 182\"/>\n",
       "<path stroke-width=\"0.5\" stroke=\"gray\" d=\"M 201 20 201 20\"/>\n",
       "<path stroke-width=\"1.0\" stroke=\"gray\" d=\"M 201 20 204 182\"/>\n",
       "<path stroke-width=\"1.0\" stroke=\"gray\" d=\"M 353 252 204 182\"/>\n",
       "<path stroke-width=\"1.0\" stroke=\"gray\" d=\"M 333 169 204 182\"/>\n",
       "<path stroke-width=\"1.0\" stroke=\"gray\" d=\"M 123 254 187 244\"/>\n",
       "<path stroke-width=\"0.5\" stroke=\"gray\" d=\"M 123 254 123 254\"/>\n",
       "<path stroke-width=\"1.0\" stroke=\"gray\" d=\"M 99 64 204 182\"/>\n",
       "<path stroke-width=\"0.5\" stroke=\"gray\" d=\"M 158 53 158 53\"/>\n",
       "<path stroke-width=\"1.0\" stroke=\"gray\" d=\"M 158 53 204 182\"/>\n",
       "<path stroke-width=\"0.5\" stroke=\"gray\" d=\"M 45 144 45 144\"/>\n",
       "<path stroke-width=\"1.0\" stroke=\"gray\" d=\"M 45 144 204 182\"/>\n",
       "<path stroke-width=\"0.5\" stroke=\"gray\" d=\"M 198 60 198 60\"/>\n",
       "<path stroke-width=\"1.0\" stroke=\"gray\" d=\"M 123 254 204 182\"/>\n",
       "<path stroke-width=\"1.0\" stroke=\"gray\" d=\"M 198 60 204 182\"/>\n",
       "<path stroke-width=\"1.0\" stroke=\"gray\" d=\"M 74 124 204 182\"/>\n",
       "<path stroke-width=\"0.5\" stroke=\"gray\" d=\"M 117 167 117 167\"/>\n",
       "<path stroke-width=\"1.0\" stroke=\"gray\" d=\"M 117 167 204 182\"/>\n",
       "<path stroke-width=\"1.0\" stroke=\"gray\" d=\"M 117 167 130 196\"/>\n",
       "<path stroke-width=\"0.5\" stroke=\"gray\" d=\"M 304 290 304 290\"/>\n",
       "<path stroke-width=\"1.0\" stroke=\"gray\" d=\"M 304 290 204 182\"/>\n",
       "<path stroke-width=\"0.5\" stroke=\"gray\" d=\"M 74 124 74 124\"/>\n",
       "<path stroke-width=\"1.0\" stroke=\"gray\" d=\"M 273 198 204 182\"/>\n",
       "<path stroke-width=\"1.0\" stroke=\"gray\" d=\"M 273 198 234 209\"/>\n",
       "<path stroke-width=\"1.0\" stroke=\"gray\" d=\"M 273 198 187 244\"/>\n",
       "<path stroke-width=\"1.0\" stroke=\"gray\" d=\"M 220 254 245 229\"/>\n",
       "<path stroke-width=\"1.0\" stroke=\"gray\" d=\"M 220 254 234 209\"/>\n",
       "<path stroke-width=\"0.5\" stroke=\"gray\" d=\"M 171 173 171 173\"/>\n",
       "<path stroke-width=\"1.0\" stroke=\"gray\" d=\"M 171 173 168 212\"/>\n",
       "<path stroke-width=\"1.0\" stroke=\"gray\" d=\"M 171 173 204 182\"/>\n",
       "<path stroke-width=\"1.0\" stroke=\"gray\" d=\"M 171 173 164 193\"/>\n",
       "<path stroke-width=\"1.0\" stroke=\"gray\" d=\"M 220 254 262 292\"/>\n",
       "<path stroke-width=\"1.0\" stroke=\"gray\" d=\"M 171 173 154 185\"/>\n",
       "<path stroke-width=\"0.5\" stroke=\"gray\" d=\"M 152 153 152 153\"/>\n",
       "<path stroke-width=\"1.0\" stroke=\"gray\" d=\"M 152 153 204 182\"/>\n",
       "<path stroke-width=\"1.0\" stroke=\"gray\" d=\"M 152 153 164 193\"/>\n",
       "<path stroke-width=\"1.0\" stroke=\"gray\" d=\"M 152 153 154 185\"/>\n",
       "<path stroke-width=\"1.0\" stroke=\"gray\" d=\"M 152 153 164 170\"/>\n",
       "<path stroke-width=\"1.0\" stroke=\"gray\" d=\"M 152 153 199 192\"/>\n",
       "<path stroke-width=\"1.0\" stroke=\"gray\" d=\"M 171 173 176 147\"/>\n",
       "<path stroke-width=\"1.0\" stroke=\"gray\" d=\"M 152 153 186 132\"/>\n",
       "<path stroke-width=\"1.0\" stroke=\"gray\" d=\"M 220 254 238 252\"/>\n",
       "<path stroke-width=\"1.0\" stroke=\"gray\" d=\"M 220 254 204 182\"/>\n",
       "<path stroke-width=\"1.0\" stroke=\"gray\" d=\"M 185 216 130 196\"/>\n",
       "<path stroke-width=\"1.0\" stroke=\"gray\" d=\"M 185 216 176 162\"/>\n",
       "<path stroke-width=\"1.0\" stroke=\"gray\" d=\"M 185 216 147 240\"/>\n",
       "<path stroke-width=\"1.0\" stroke=\"gray\" d=\"M 185 216 177 182\"/>\n",
       "<path stroke-width=\"0.5\" stroke=\"gray\" d=\"M 234 209 234 209\"/>\n",
       "<path stroke-width=\"1.0\" stroke=\"gray\" d=\"M 234 209 220 254\"/>\n",
       "<path stroke-width=\"1.0\" stroke=\"gray\" d=\"M 220 254 139 216\"/>\n",
       "<path stroke-width=\"1.0\" stroke=\"gray\" d=\"M 234 209 204 182\"/>\n",
       "<path stroke-width=\"1.0\" stroke=\"gray\" d=\"M 234 209 238 252\"/>\n",
       "<path stroke-width=\"1.0\" stroke=\"gray\" d=\"M 234 209 164 193\"/>\n",
       "<path stroke-width=\"1.0\" stroke=\"gray\" d=\"M 234 209 164 170\"/>\n",
       "<path stroke-width=\"1.0\" stroke=\"gray\" d=\"M 234 209 245 229\"/>\n",
       "<path stroke-width=\"0.5\" stroke=\"gray\" d=\"M 220 254 220 254\"/>\n",
       "<path stroke-width=\"1.0\" stroke=\"gray\" d=\"M 220 254 185 216\"/>\n",
       "<path stroke-width=\"1.0\" stroke=\"gray\" d=\"M 234 209 273 198\"/>\n",
       "<path stroke-width=\"1.0\" stroke=\"gray\" d=\"M 185 216 277 219\"/>\n",
       "<path stroke-width=\"1.0\" stroke=\"gray\" d=\"M 152 153 176 147\"/>\n",
       "<path stroke-width=\"0.5\" stroke=\"gray\" d=\"M 154 185 154 185\"/>\n",
       "<path stroke-width=\"1.0\" stroke=\"gray\" d=\"M 204 182 45 144\"/>\n",
       "<path stroke-width=\"1.0\" stroke=\"gray\" d=\"M 204 182 126 141\"/>\n",
       "<path stroke-width=\"1.0\" stroke=\"gray\" d=\"M 204 182 147 211\"/>\n",
       "<path stroke-width=\"1.0\" stroke=\"gray\" d=\"M 204 182 168 212\"/>\n",
       "<path stroke-width=\"1.0\" stroke=\"gray\" d=\"M 204 182 325 131\"/>\n",
       "<path stroke-width=\"1.0\" stroke=\"gray\" d=\"M 204 182 74 200\"/>\n",
       "<path stroke-width=\"1.0\" stroke=\"gray\" d=\"M 204 182 230 314\"/>\n",
       "<path stroke-width=\"1.0\" stroke=\"gray\" d=\"M 204 182 147 233\"/>\n",
       "<path stroke-width=\"1.0\" stroke=\"gray\" d=\"M 204 182 353 109\"/>\n",
       "<path stroke-width=\"1.0\" stroke=\"gray\" d=\"M 204 182 64 106\"/>\n",
       "<path stroke-width=\"1.0\" stroke=\"gray\" d=\"M 204 182 124 299\"/>\n",
       "<path stroke-width=\"1.0\" stroke=\"gray\" d=\"M 204 182 220 254\"/>\n",
       "<path stroke-width=\"1.0\" stroke=\"gray\" d=\"M 204 182 246 203\"/>\n",
       "<path stroke-width=\"1.0\" stroke=\"gray\" d=\"M 204 182 130 185\"/>\n",
       "<path stroke-width=\"1.0\" stroke=\"gray\" d=\"M 204 182 218 190\"/>\n",
       "<path stroke-width=\"1.0\" stroke=\"gray\" d=\"M 152 153 108 160\"/>\n",
       "<path stroke-width=\"1.0\" stroke=\"gray\" d=\"M 204 182 168 234\"/>\n",
       "<path stroke-width=\"1.0\" stroke=\"gray\" d=\"M 204 182 114 236\"/>\n",
       "<path stroke-width=\"1.0\" stroke=\"gray\" d=\"M 154 185 171 173\"/>\n",
       "<path stroke-width=\"1.0\" stroke=\"gray\" d=\"M 154 185 126 141\"/>\n",
       "<path stroke-width=\"1.0\" stroke=\"gray\" d=\"M 154 185 168 212\"/>\n",
       "<path stroke-width=\"1.0\" stroke=\"gray\" d=\"M 154 185 246 203\"/>\n",
       "<path stroke-width=\"1.0\" stroke=\"gray\" d=\"M 154 185 130 185\"/>\n",
       "<path stroke-width=\"1.0\" stroke=\"gray\" d=\"M 154 185 204 182\"/>\n",
       "<path stroke-width=\"1.0\" stroke=\"gray\" d=\"M 204 182 131 235\"/>\n",
       "<path stroke-width=\"1.0\" stroke=\"gray\" d=\"M 154 185 139 216\"/>\n",
       "<path stroke-width=\"1.0\" stroke=\"gray\" d=\"M 154 185 164 170\"/>\n",
       "<path stroke-width=\"1.0\" stroke=\"gray\" d=\"M 154 185 152 153\"/>\n",
       "<path stroke-width=\"0.5\" stroke=\"gray\" d=\"M 204 182 204 182\"/>\n",
       "<path stroke-width=\"1.0\" stroke=\"gray\" d=\"M 204 182 185 216\"/>\n",
       "<path stroke-width=\"1.0\" stroke=\"gray\" d=\"M 204 182 171 173\"/>\n",
       "<path stroke-width=\"1.0\" stroke=\"gray\" d=\"M 204 182 229 135\"/>\n",
       "<path stroke-width=\"1.0\" stroke=\"gray\" d=\"M 154 185 164 193\"/>\n",
       "<path stroke-width=\"1.0\" stroke=\"gray\" d=\"M 185 216 204 182\"/>\n",
       "<path stroke-width=\"1.0\" stroke=\"gray\" d=\"M 185 216 130 185\"/>\n",
       "<path stroke-width=\"1.0\" stroke=\"gray\" d=\"M 185 216 220 254\"/>\n",
       "<path stroke-width=\"1.0\" stroke=\"gray\" d=\"M 74 200 204 182\"/>\n",
       "<path stroke-width=\"1.0\" stroke=\"gray\" d=\"M 74 200 63 234\"/>\n",
       "<path stroke-width=\"1.0\" stroke=\"gray\" d=\"M 74 200 147 240\"/>\n",
       "<path stroke-width=\"1.0\" stroke=\"gray\" d=\"M 74 200 108 160\"/>\n",
       "<path stroke-width=\"0.5\" stroke=\"gray\" d=\"M 63 234 63 234\"/>\n",
       "<path stroke-width=\"1.0\" stroke=\"gray\" d=\"M 63 234 74 200\"/>\n",
       "<path stroke-width=\"0.5\" stroke=\"gray\" d=\"M 74 200 74 200\"/>\n",
       "<path stroke-width=\"1.0\" stroke=\"gray\" d=\"M 63 234 204 182\"/>\n",
       "<path stroke-width=\"0.5\" stroke=\"gray\" d=\"M 237 239 237 239\"/>\n",
       "<path stroke-width=\"1.0\" stroke=\"gray\" d=\"M 237 239 204 182\"/>\n",
       "<path stroke-width=\"1.0\" stroke=\"gray\" d=\"M 237 239 199 192\"/>\n",
       "<path stroke-width=\"0.5\" stroke=\"gray\" d=\"M 142 136 142 136\"/>\n",
       "<path stroke-width=\"1.0\" stroke=\"gray\" d=\"M 142 136 130 185\"/>\n",
       "<path stroke-width=\"1.0\" stroke=\"gray\" d=\"M 142 136 204 182\"/>\n",
       "<path stroke-width=\"1.0\" stroke=\"gray\" d=\"M 63 234 139 216\"/>\n",
       "<path stroke-width=\"1.0\" stroke=\"gray\" d=\"M 142 136 199 192\"/>\n",
       "<path stroke-width=\"1.0\" stroke=\"gray\" d=\"M 260 198 272 169\"/>\n",
       "<path stroke-width=\"1.0\" stroke=\"gray\" d=\"M 260 198 197 210\"/>\n",
       "<path stroke-width=\"0.5\" stroke=\"gray\" d=\"M 186 132 186 132\"/>\n",
       "<path stroke-width=\"1.0\" stroke=\"gray\" d=\"M 186 132 229 135\"/>\n",
       "<path stroke-width=\"1.0\" stroke=\"gray\" d=\"M 186 132 204 182\"/>\n",
       "<path stroke-width=\"1.0\" stroke=\"gray\" d=\"M 186 132 164 193\"/>\n",
       "<path stroke-width=\"1.0\" stroke=\"gray\" d=\"M 186 132 164 170\"/>\n",
       "<path stroke-width=\"1.0\" stroke=\"gray\" d=\"M 186 132 201 156\"/>\n",
       "<path stroke-width=\"1.0\" stroke=\"gray\" d=\"M 260 198 201 156\"/>\n",
       "<path stroke-width=\"1.0\" stroke=\"gray\" d=\"M 186 132 152 153\"/>\n",
       "<path stroke-width=\"1.0\" stroke=\"gray\" d=\"M 186 132 176 162\"/>\n",
       "<path stroke-width=\"1.0\" stroke=\"gray\" d=\"M 186 132 244 98\"/>\n",
       "<path stroke-width=\"0.5\" stroke=\"gray\" d=\"M 260 198 260 198\"/>\n",
       "<path stroke-width=\"1.0\" stroke=\"gray\" d=\"M 260 198 218 221\"/>\n",
       "<path stroke-width=\"1.0\" stroke=\"gray\" d=\"M 260 198 204 182\"/>\n",
       "<path stroke-width=\"1.0\" stroke=\"gray\" d=\"M 260 198 277 219\"/>\n",
       "<path stroke-width=\"1.0\" stroke=\"gray\" d=\"M 186 132 180 158\"/>\n",
       "<path stroke-width=\"0.5\" stroke=\"gray\" d=\"M 86 232 86 232\"/>\n",
       "<path stroke-width=\"1.0\" stroke=\"gray\" d=\"M 86 232 204 182\"/>\n",
       "<path stroke-width=\"1.0\" stroke=\"gray\" d=\"M 86 232 164 193\"/>\n",
       "<path stroke-width=\"0.5\" stroke=\"gray\" d=\"M 168 234 168 234\"/>\n",
       "<path stroke-width=\"1.0\" stroke=\"gray\" d=\"M 168 234 168 212\"/>\n",
       "<path stroke-width=\"1.0\" stroke=\"gray\" d=\"M 168 234 204 182\"/>\n",
       "<path stroke-width=\"1.0\" stroke=\"gray\" d=\"M 168 234 164 170\"/>\n",
       "<path stroke-width=\"1.0\" stroke=\"gray\" d=\"M 168 234 134 210\"/>\n",
       "<path stroke-width=\"0.5\" stroke=\"gray\" d=\"M 177 182 177 182\"/>\n",
       "<path stroke-width=\"1.0\" stroke=\"gray\" d=\"M 124 299 204 182\"/>\n",
       "<path stroke-width=\"1.0\" stroke=\"gray\" d=\"M 177 182 185 216\"/>\n",
       "<path stroke-width=\"1.0\" stroke=\"gray\" d=\"M 177 182 218 221\"/>\n",
       "<path stroke-width=\"1.0\" stroke=\"gray\" d=\"M 177 182 204 182\"/>\n",
       "<path stroke-width=\"1.0\" stroke=\"gray\" d=\"M 177 182 139 216\"/>\n",
       "<path stroke-width=\"1.0\" stroke=\"gray\" d=\"M 177 182 176 162\"/>\n",
       "<path stroke-width=\"0.5\" stroke=\"gray\" d=\"M 185 216 185 216\"/>\n",
       "<path stroke-width=\"1.0\" stroke=\"gray\" d=\"M 185 216 147 233\"/>\n",
       "<path stroke-width=\"1.0\" stroke=\"gray\" d=\"M 177 182 126 141\"/>\n",
       "<path stroke-width=\"0.5\" stroke=\"gray\" d=\"M 124 299 124 299\"/>\n",
       "<path stroke-width=\"1.0\" stroke=\"gray\" d=\"M 176 162 177 182\"/>\n",
       "<path stroke-width=\"1.0\" stroke=\"gray\" d=\"M 176 162 186 132\"/>\n",
       "<path stroke-width=\"1.0\" stroke=\"gray\" d=\"M 86 232 134 210\"/>\n",
       "<path stroke-width=\"0.5\" stroke=\"gray\" d=\"M 143 262 143 262\"/>\n",
       "<path stroke-width=\"1.0\" stroke=\"gray\" d=\"M 143 262 168 212\"/>\n",
       "<path stroke-width=\"1.0\" stroke=\"gray\" d=\"M 143 262 204 182\"/>\n",
       "<path stroke-width=\"0.5\" stroke=\"gray\" d=\"M 277 219 277 219\"/>\n",
       "<path stroke-width=\"1.0\" stroke=\"gray\" d=\"M 277 219 185 216\"/>\n",
       "<path stroke-width=\"1.0\" stroke=\"gray\" d=\"M 277 219 204 182\"/>\n",
       "<path stroke-width=\"1.0\" stroke=\"gray\" d=\"M 277 219 260 198\"/>\n",
       "<path stroke-width=\"1.0\" stroke=\"gray\" d=\"M 277 219 199 192\"/>\n",
       "<path stroke-width=\"0.5\" stroke=\"gray\" d=\"M 176 162 176 162\"/>\n",
       "<path stroke-width=\"1.0\" stroke=\"gray\" d=\"M 176 162 185 216\"/>\n",
       "<path stroke-width=\"1.0\" stroke=\"gray\" d=\"M 176 162 218 190\"/>\n",
       "<path stroke-width=\"1.0\" stroke=\"gray\" d=\"M 176 162 204 182\"/>\n",
       "<path stroke-width=\"1.0\" stroke=\"gray\" d=\"M 176 162 201 156\"/>\n",
       "<path stroke-width=\"1.0\" stroke=\"gray\" d=\"M 176 162 199 192\"/>\n",
       "<path stroke-width=\"1.0\" stroke=\"gray\" d=\"M 204 182 199 217\"/>\n",
       "<path stroke-width=\"1.0\" stroke=\"gray\" d=\"M 195 228 249 174\"/>\n",
       "<circle cx=\"420\" cy=\"220\" r=\"7.0\" style=\"fill:gray;stroke:black;stroke-width:1.0\"/>\n",
       "<circle cx=\"147\" cy=\"240\" r=\"7.0\" style=\"fill:gray;stroke:black;stroke-width:1.0\"/>\n",
       "<circle cx=\"168\" cy=\"212\" r=\"7.0\" style=\"fill:gray;stroke:black;stroke-width:1.0\"/>\n",
       "<circle cx=\"197\" cy=\"210\" r=\"7.0\" style=\"fill:gray;stroke:black;stroke-width:1.0\"/>\n",
       "<circle cx=\"401\" cy=\"184\" r=\"7.0\" style=\"fill:gray;stroke:black;stroke-width:1.0\"/>\n",
       "<circle cx=\"333\" cy=\"63\" r=\"7.0\" style=\"fill:gray;stroke:black;stroke-width:1.0\"/>\n",
       "<circle cx=\"99\" cy=\"111\" r=\"7.0\" style=\"fill:gray;stroke:black;stroke-width:1.0\"/>\n",
       "<circle cx=\"267\" cy=\"95\" r=\"7.0\" style=\"fill:gray;stroke:black;stroke-width:1.0\"/>\n",
       "<circle cx=\"333\" cy=\"169\" r=\"7.0\" style=\"fill:gray;stroke:black;stroke-width:1.0\"/>\n",
       "<circle cx=\"99\" cy=\"64\" r=\"7.0\" style=\"fill:gray;stroke:black;stroke-width:1.0\"/>\n",
       "<circle cx=\"158\" cy=\"53\" r=\"7.0\" style=\"fill:gray;stroke:black;stroke-width:1.0\"/>\n",
       "<circle cx=\"45\" cy=\"144\" r=\"7.0\" style=\"fill:gray;stroke:black;stroke-width:1.0\"/>\n",
       "<circle cx=\"198\" cy=\"60\" r=\"7.0\" style=\"fill:gray;stroke:black;stroke-width:1.0\"/>\n",
       "<circle cx=\"74\" cy=\"124\" r=\"7.0\" style=\"fill:gray;stroke:black;stroke-width:1.0\"/>\n",
       "<circle cx=\"117\" cy=\"167\" r=\"7.0\" style=\"fill:gray;stroke:black;stroke-width:1.0\"/>\n",
       "<circle cx=\"304\" cy=\"290\" r=\"7.0\" style=\"fill:gray;stroke:black;stroke-width:1.0\"/>\n",
       "<circle cx=\"123\" cy=\"254\" r=\"7.0\" style=\"fill:gray;stroke:black;stroke-width:1.0\"/>\n",
       "<circle cx=\"230\" cy=\"314\" r=\"7.0\" style=\"fill:gray;stroke:black;stroke-width:1.0\"/>\n",
       "<circle cx=\"120\" cy=\"151\" r=\"7.0\" style=\"fill:gray;stroke:black;stroke-width:1.0\"/>\n",
       "<circle cx=\"114\" cy=\"236\" r=\"7.0\" style=\"fill:gray;stroke:black;stroke-width:1.0\"/>\n",
       "<circle cx=\"353\" cy=\"252\" r=\"7.0\" style=\"fill:gray;stroke:black;stroke-width:1.0\"/>\n",
       "<circle cx=\"195\" cy=\"69\" r=\"7.0\" style=\"fill:gray;stroke:black;stroke-width:1.0\"/>\n",
       "<circle cx=\"400\" cy=\"221\" r=\"7.0\" style=\"fill:gray;stroke:black;stroke-width:1.0\"/>\n",
       "<circle cx=\"201\" cy=\"20\" r=\"7.0\" style=\"fill:gray;stroke:black;stroke-width:1.0\"/>\n",
       "<circle cx=\"64\" cy=\"106\" r=\"7.0\" style=\"fill:gray;stroke:black;stroke-width:1.0\"/>\n",
       "<circle cx=\"131\" cy=\"235\" r=\"7.0\" style=\"fill:gray;stroke:black;stroke-width:1.0\"/>\n",
       "<circle cx=\"262\" cy=\"292\" r=\"7.0\" style=\"fill:gray;stroke:black;stroke-width:1.0\"/>\n",
       "<circle cx=\"296\" cy=\"302\" r=\"7.0\" style=\"fill:gray;stroke:black;stroke-width:1.0\"/>\n",
       "<circle cx=\"353\" cy=\"109\" r=\"7.0\" style=\"fill:gray;stroke:black;stroke-width:1.0\"/>\n",
       "<circle cx=\"229\" cy=\"135\" r=\"7.0\" style=\"fill:gray;stroke:black;stroke-width:1.0\"/>\n",
       "<circle cx=\"180\" cy=\"158\" r=\"7.0\" style=\"fill:gray;stroke:black;stroke-width:1.0\"/>\n",
       "<circle cx=\"193\" cy=\"114\" r=\"7.0\" style=\"fill:gray;stroke:black;stroke-width:1.0\"/>\n",
       "<circle cx=\"85\" cy=\"220\" r=\"7.0\" style=\"fill:gray;stroke:black;stroke-width:1.0\"/>\n",
       "<circle cx=\"108\" cy=\"160\" r=\"7.0\" style=\"fill:gray;stroke:black;stroke-width:1.0\"/>\n",
       "<circle cx=\"161\" cy=\"226\" r=\"7.0\" style=\"fill:gray;stroke:black;stroke-width:1.0\"/>\n",
       "<circle cx=\"130\" cy=\"196\" r=\"7.0\" style=\"fill:gray;stroke:black;stroke-width:1.0\"/>\n",
       "<circle cx=\"245\" cy=\"229\" r=\"7.0\" style=\"fill:gray;stroke:black;stroke-width:1.0\"/>\n",
       "<circle cx=\"201\" cy=\"156\" r=\"7.0\" style=\"fill:gray;stroke:black;stroke-width:1.0\"/>\n",
       "<circle cx=\"289\" cy=\"320\" r=\"7.0\" style=\"fill:gray;stroke:black;stroke-width:1.0\"/>\n",
       "<circle cx=\"187\" cy=\"244\" r=\"7.0\" style=\"fill:gray;stroke:black;stroke-width:1.0\"/>\n",
       "<circle cx=\"273\" cy=\"198\" r=\"7.0\" style=\"fill:gray;stroke:black;stroke-width:1.0\"/>\n",
       "<circle cx=\"186\" cy=\"132\" r=\"7.0\" style=\"fill:gray;stroke:black;stroke-width:1.0\"/>\n",
       "<circle cx=\"260\" cy=\"198\" r=\"7.0\" style=\"fill:gray;stroke:black;stroke-width:1.0\"/>\n",
       "<circle cx=\"74\" cy=\"200\" r=\"7.0\" style=\"fill:gray;stroke:black;stroke-width:1.0\"/>\n",
       "<circle cx=\"63\" cy=\"234\" r=\"7.0\" style=\"fill:gray;stroke:black;stroke-width:1.0\"/>\n",
       "<circle cx=\"237\" cy=\"239\" r=\"7.0\" style=\"fill:gray;stroke:black;stroke-width:1.0\"/>\n",
       "<circle cx=\"142\" cy=\"136\" r=\"7.0\" style=\"fill:gray;stroke:black;stroke-width:1.0\"/>\n",
       "<circle cx=\"86\" cy=\"232\" r=\"7.0\" style=\"fill:gray;stroke:black;stroke-width:1.0\"/>\n",
       "<circle cx=\"143\" cy=\"262\" r=\"7.0\" style=\"fill:gray;stroke:black;stroke-width:1.0\"/>\n",
       "<circle cx=\"277\" cy=\"219\" r=\"7.0\" style=\"fill:gray;stroke:black;stroke-width:1.0\"/>\n",
       "<circle cx=\"176\" cy=\"162\" r=\"7.0\" style=\"fill:gray;stroke:black;stroke-width:1.0\"/>\n",
       "<circle cx=\"124\" cy=\"299\" r=\"7.0\" style=\"fill:gray;stroke:black;stroke-width:1.0\"/>\n",
       "<circle cx=\"168\" cy=\"234\" r=\"7.0\" style=\"fill:gray;stroke:black;stroke-width:1.0\"/>\n",
       "<circle cx=\"177\" cy=\"182\" r=\"7.0\" style=\"fill:gray;stroke:black;stroke-width:1.0\"/>\n",
       "<circle cx=\"185\" cy=\"216\" r=\"7.0\" style=\"fill:gray;stroke:black;stroke-width:1.0\"/>\n",
       "<circle cx=\"234\" cy=\"209\" r=\"7.0\" style=\"fill:gray;stroke:black;stroke-width:1.0\"/>\n",
       "<circle cx=\"220\" cy=\"254\" r=\"7.0\" style=\"fill:gray;stroke:black;stroke-width:1.0\"/>\n",
       "<circle cx=\"171\" cy=\"173\" r=\"7.0\" style=\"fill:gray;stroke:black;stroke-width:1.0\"/>\n",
       "<circle cx=\"152\" cy=\"153\" r=\"7.0\" style=\"fill:gray;stroke:black;stroke-width:1.0\"/>\n",
       "<circle cx=\"154\" cy=\"185\" r=\"7.0\" style=\"fill:gray;stroke:black;stroke-width:1.0\"/>\n",
       "<circle cx=\"204\" cy=\"182\" r=\"7.0\" style=\"fill:gray;stroke:black;stroke-width:1.0\"/>\n",
       "<circle cx=\"246\" cy=\"203\" r=\"7.0\" style=\"fill:gray;stroke:black;stroke-width:1.0\"/>\n",
       "<circle cx=\"199\" cy=\"192\" r=\"7.0\" style=\"fill:gray;stroke:black;stroke-width:1.0\"/>\n",
       "<circle cx=\"164\" cy=\"170\" r=\"7.0\" style=\"fill:gray;stroke:black;stroke-width:1.0\"/>\n",
       "<circle cx=\"249\" cy=\"174\" r=\"7.0\" style=\"fill:gray;stroke:black;stroke-width:1.0\"/>\n",
       "<circle cx=\"155\" cy=\"302\" r=\"7.0\" style=\"fill:gray;stroke:black;stroke-width:1.0\"/>\n",
       "<circle cx=\"87\" cy=\"228\" r=\"7.0\" style=\"fill:gray;stroke:black;stroke-width:1.0\"/>\n",
       "<circle cx=\"244\" cy=\"98\" r=\"7.0\" style=\"fill:gray;stroke:black;stroke-width:1.0\"/>\n",
       "<circle cx=\"235\" cy=\"125\" r=\"7.0\" style=\"fill:gray;stroke:black;stroke-width:1.0\"/>\n",
       "<circle cx=\"370\" cy=\"196\" r=\"7.0\" style=\"fill:gray;stroke:black;stroke-width:1.0\"/>\n",
       "<circle cx=\"139\" cy=\"49\" r=\"7.0\" style=\"fill:gray;stroke:black;stroke-width:1.0\"/>\n",
       "<circle cx=\"333\" cy=\"271\" r=\"7.0\" style=\"fill:gray;stroke:black;stroke-width:1.0\"/>\n",
       "<circle cx=\"346\" cy=\"205\" r=\"7.0\" style=\"fill:gray;stroke:black;stroke-width:1.0\"/>\n",
       "<circle cx=\"153\" cy=\"103\" r=\"7.0\" style=\"fill:gray;stroke:black;stroke-width:1.0\"/>\n",
       "<circle cx=\"126\" cy=\"141\" r=\"7.0\" style=\"fill:gray;stroke:black;stroke-width:1.0\"/>\n",
       "<circle cx=\"191\" cy=\"279\" r=\"7.0\" style=\"fill:gray;stroke:black;stroke-width:1.0\"/>\n",
       "<circle cx=\"240\" cy=\"159\" r=\"7.0\" style=\"fill:gray;stroke:black;stroke-width:1.0\"/>\n",
       "<circle cx=\"256\" cy=\"100\" r=\"7.0\" style=\"fill:gray;stroke:black;stroke-width:1.0\"/>\n",
       "<circle cx=\"190\" cy=\"54\" r=\"7.0\" style=\"fill:gray;stroke:black;stroke-width:1.0\"/>\n",
       "<circle cx=\"238\" cy=\"252\" r=\"7.0\" style=\"fill:gray;stroke:black;stroke-width:1.0\"/>\n",
       "<circle cx=\"201\" cy=\"255\" r=\"7.0\" style=\"fill:gray;stroke:black;stroke-width:1.0\"/>\n",
       "<circle cx=\"213\" cy=\"201\" r=\"7.0\" style=\"fill:gray;stroke:black;stroke-width:1.0\"/>\n",
       "<circle cx=\"272\" cy=\"169\" r=\"7.0\" style=\"fill:gray;stroke:black;stroke-width:1.0\"/>\n",
       "<circle cx=\"147\" cy=\"233\" r=\"7.0\" style=\"fill:gray;stroke:black;stroke-width:1.0\"/>\n",
       "<circle cx=\"134\" cy=\"210\" r=\"7.0\" style=\"fill:gray;stroke:black;stroke-width:1.0\"/>\n",
       "<circle cx=\"164\" cy=\"193\" r=\"7.0\" style=\"fill:gray;stroke:black;stroke-width:1.0\"/>\n",
       "<circle cx=\"130\" cy=\"185\" r=\"7.0\" style=\"fill:gray;stroke:black;stroke-width:1.0\"/>\n",
       "<circle cx=\"139\" cy=\"216\" r=\"7.0\" style=\"fill:gray;stroke:black;stroke-width:1.0\"/>\n",
       "<circle cx=\"176\" cy=\"147\" r=\"7.0\" style=\"fill:gray;stroke:black;stroke-width:1.0\"/>\n",
       "<circle cx=\"354\" cy=\"99\" r=\"7.0\" style=\"fill:gray;stroke:black;stroke-width:1.0\"/>\n",
       "<circle cx=\"325\" cy=\"131\" r=\"7.0\" style=\"fill:gray;stroke:black;stroke-width:1.0\"/>\n",
       "<circle cx=\"90\" cy=\"165\" r=\"7.0\" style=\"fill:gray;stroke:black;stroke-width:1.0\"/>\n",
       "<circle cx=\"170\" cy=\"184\" r=\"7.0\" style=\"fill:gray;stroke:black;stroke-width:1.0\"/>\n",
       "<circle cx=\"154\" cy=\"85\" r=\"7.0\" style=\"fill:gray;stroke:black;stroke-width:1.0\"/>\n",
       "<circle cx=\"20\" cy=\"182\" r=\"7.0\" style=\"fill:gray;stroke:black;stroke-width:1.0\"/>\n",
       "<circle cx=\"46\" cy=\"235\" r=\"7.0\" style=\"fill:gray;stroke:black;stroke-width:1.0\"/>\n",
       "<circle cx=\"218\" cy=\"190\" r=\"7.0\" style=\"fill:gray;stroke:black;stroke-width:1.0\"/>\n",
       "<circle cx=\"147\" cy=\"211\" r=\"7.0\" style=\"fill:gray;stroke:black;stroke-width:1.0\"/>\n",
       "<circle cx=\"218\" cy=\"221\" r=\"7.0\" style=\"fill:gray;stroke:black;stroke-width:1.0\"/>\n",
       "<circle cx=\"199\" cy=\"217\" r=\"7.0\" style=\"fill:gray;stroke:black;stroke-width:1.0\"/>\n",
       "<circle cx=\"195\" cy=\"228\" r=\"7.0\" style=\"fill:gray;stroke:black;stroke-width:1.0\"/>\n",
       "<text text-anchor=\"start\" x=\"430\" y=\"220\" font-size=\"12\">856</text><text text-anchor=\"start\" x=\"157\" y=\"240\" font-size=\"12\">149</text><text text-anchor=\"start\" x=\"178\" y=\"212\" font-size=\"12\">1879</text><text text-anchor=\"start\" x=\"207\" y=\"210\" font-size=\"12\">917</text><text text-anchor=\"start\" x=\"411\" y=\"184\" font-size=\"12\">663</text><text text-anchor=\"start\" x=\"343\" y=\"63\" font-size=\"12\">810</text><text text-anchor=\"start\" x=\"109\" y=\"111\" font-size=\"12\">234</text><text text-anchor=\"start\" x=\"277\" y=\"95\" font-size=\"12\">798</text><text text-anchor=\"start\" x=\"343\" y=\"169\" font-size=\"12\">853</text><text text-anchor=\"start\" x=\"109\" y=\"64\" font-size=\"12\">1158</text><text text-anchor=\"start\" x=\"168\" y=\"53\" font-size=\"12\">1206</text><text text-anchor=\"start\" x=\"55\" y=\"144\" font-size=\"12\">1897</text><text text-anchor=\"start\" x=\"208\" y=\"60\" font-size=\"12\">119</text><text text-anchor=\"start\" x=\"84\" y=\"124\" font-size=\"12\">838</text><text text-anchor=\"start\" x=\"127\" y=\"167\" font-size=\"12\">1159</text><text text-anchor=\"start\" x=\"314\" y=\"290\" font-size=\"12\">1296</text><text text-anchor=\"start\" x=\"133\" y=\"254\" font-size=\"12\">1396</text><text text-anchor=\"start\" x=\"240\" y=\"314\" font-size=\"12\">1923</text><text text-anchor=\"start\" x=\"130\" y=\"151\" font-size=\"12\">1237</text><text text-anchor=\"start\" x=\"124\" y=\"236\" font-size=\"12\">1968</text><text text-anchor=\"start\" x=\"363\" y=\"252\" font-size=\"12\">299</text><text text-anchor=\"start\" x=\"205\" y=\"69\" font-size=\"12\">108</text><text text-anchor=\"start\" x=\"410\" y=\"221\" font-size=\"12\">719</text><text text-anchor=\"start\" x=\"211\" y=\"20\" font-size=\"12\">1114</text><text text-anchor=\"start\" x=\"74\" y=\"106\" font-size=\"12\">1781</text><text text-anchor=\"start\" x=\"141\" y=\"235\" font-size=\"12\">1941</text><text text-anchor=\"start\" x=\"272\" y=\"292\" font-size=\"12\">820</text><text text-anchor=\"start\" x=\"306\" y=\"302\" font-size=\"12\">1229</text><text text-anchor=\"start\" x=\"363\" y=\"109\" font-size=\"12\">1798</text><text text-anchor=\"start\" x=\"239\" y=\"135\" font-size=\"12\">2001</text><text text-anchor=\"start\" x=\"190\" y=\"158\" font-size=\"12\">424</text><text text-anchor=\"start\" x=\"203\" y=\"114\" font-size=\"12\">1266</text><text text-anchor=\"start\" x=\"95\" y=\"220\" font-size=\"12\">550</text><text text-anchor=\"start\" x=\"118\" y=\"160\" font-size=\"12\">22</text><text text-anchor=\"start\" x=\"171\" y=\"226\" font-size=\"12\">877</text><text text-anchor=\"start\" x=\"140\" y=\"196\" font-size=\"12\">459</text><text text-anchor=\"start\" x=\"255\" y=\"229\" font-size=\"12\">754</text><text text-anchor=\"start\" x=\"211\" y=\"156\" font-size=\"12\">800</text><text text-anchor=\"start\" x=\"299\" y=\"320\" font-size=\"12\">453</text><text text-anchor=\"start\" x=\"197\" y=\"244\" font-size=\"12\">157</text><text text-anchor=\"start\" x=\"283\" y=\"198\" font-size=\"12\">1274</text><text text-anchor=\"start\" x=\"196\" y=\"132\" font-size=\"12\">212</text><text text-anchor=\"start\" x=\"270\" y=\"198\" font-size=\"12\">760</text><text text-anchor=\"start\" x=\"84\" y=\"200\" font-size=\"12\">1865</text><text text-anchor=\"start\" x=\"73\" y=\"234\" font-size=\"12\">1393</text><text text-anchor=\"start\" x=\"247\" y=\"239\" font-size=\"12\">1509</text><text text-anchor=\"start\" x=\"152\" y=\"136\" font-size=\"12\">254</text><text text-anchor=\"start\" x=\"96\" y=\"232\" font-size=\"12\">307</text><text text-anchor=\"start\" x=\"153\" y=\"262\" font-size=\"12\">1465</text><text text-anchor=\"start\" x=\"287\" y=\"219\" font-size=\"12\">1530</text><text text-anchor=\"start\" x=\"186\" y=\"162\" font-size=\"12\">308</text><text text-anchor=\"start\" x=\"134\" y=\"299\" font-size=\"12\">1748</text><text text-anchor=\"start\" x=\"178\" y=\"234\" font-size=\"12\">1924</text><text text-anchor=\"start\" x=\"187\" y=\"182\" font-size=\"12\">127</text><text text-anchor=\"start\" x=\"195\" y=\"216\" font-size=\"12\">2042</text><text text-anchor=\"start\" x=\"244\" y=\"209\" font-size=\"12\">642</text><text text-anchor=\"start\" x=\"230\" y=\"254\" font-size=\"12\">1709</text><text text-anchor=\"start\" x=\"181\" y=\"173\" font-size=\"12\">2016</text><text text-anchor=\"start\" x=\"162\" y=\"153\" font-size=\"12\">655</text><text text-anchor=\"start\" x=\"164\" y=\"185\" font-size=\"12\">1130</text><text text-anchor=\"start\" x=\"214\" y=\"182\" font-size=\"12\">1543</text><text text-anchor=\"start\" x=\"256\" y=\"203\" font-size=\"12\">1706</text><text text-anchor=\"start\" x=\"209\" y=\"192\" font-size=\"12\">298</text><text text-anchor=\"start\" x=\"174\" y=\"170\" font-size=\"12\">831</text><text text-anchor=\"start\" x=\"259\" y=\"174\" font-size=\"12\">253</text><text text-anchor=\"start\" x=\"165\" y=\"302\" font-size=\"12\">930</text><text text-anchor=\"start\" x=\"97\" y=\"228\" font-size=\"12\">447</text><text text-anchor=\"start\" x=\"254\" y=\"98\" font-size=\"12\">71</text><text text-anchor=\"start\" x=\"245\" y=\"125\" font-size=\"12\">462</text><text text-anchor=\"start\" x=\"380\" y=\"196\" font-size=\"12\">1231</text><text text-anchor=\"start\" x=\"149\" y=\"49\" font-size=\"12\">39</text><text text-anchor=\"start\" x=\"343\" y=\"271\" font-size=\"12\">1060</text><text text-anchor=\"start\" x=\"356\" y=\"205\" font-size=\"12\">1373</text><text text-anchor=\"start\" x=\"163\" y=\"103\" font-size=\"12\">725</text><text text-anchor=\"start\" x=\"136\" y=\"141\" font-size=\"12\">1887</text><text text-anchor=\"start\" x=\"201\" y=\"279\" font-size=\"12\">217</text><text text-anchor=\"start\" x=\"250\" y=\"159\" font-size=\"12\">616</text><text text-anchor=\"start\" x=\"266\" y=\"100\" font-size=\"12\">1358</text><text text-anchor=\"start\" x=\"200\" y=\"54\" font-size=\"12\">889</text><text text-anchor=\"start\" x=\"248\" y=\"252\" font-size=\"12\">1271</text><text text-anchor=\"start\" x=\"211\" y=\"255\" font-size=\"12\">362</text><text text-anchor=\"start\" x=\"223\" y=\"201\" font-size=\"12\">1154</text><text text-anchor=\"start\" x=\"282\" y=\"169\" font-size=\"12\">673</text><text text-anchor=\"start\" x=\"157\" y=\"233\" font-size=\"12\">1830</text><text text-anchor=\"start\" x=\"144\" y=\"210\" font-size=\"12\">365</text><text text-anchor=\"start\" x=\"174\" y=\"193\" font-size=\"12\">1230</text><text text-anchor=\"start\" x=\"140\" y=\"185\" font-size=\"12\">1682</text><text text-anchor=\"start\" x=\"149\" y=\"216\" font-size=\"12\">1281</text><text text-anchor=\"start\" x=\"186\" y=\"147\" font-size=\"12\">59</text><text text-anchor=\"start\" x=\"364\" y=\"99\" font-size=\"12\">1193</text><text text-anchor=\"start\" x=\"335\" y=\"131\" font-size=\"12\">1868</text><text text-anchor=\"start\" x=\"100\" y=\"165\" font-size=\"12\">491</text><text text-anchor=\"start\" x=\"180\" y=\"184\" font-size=\"12\">541</text><text text-anchor=\"start\" x=\"164\" y=\"85\" font-size=\"12\">1021</text><text text-anchor=\"start\" x=\"30\" y=\"182\" font-size=\"12\">1534</text><text text-anchor=\"start\" x=\"56\" y=\"235\" font-size=\"12\">548</text><text text-anchor=\"start\" x=\"228\" y=\"190\" font-size=\"12\">1804</text><text text-anchor=\"start\" x=\"157\" y=\"211\" font-size=\"12\">1882</text><text text-anchor=\"start\" x=\"228\" y=\"221\" font-size=\"12\">1664</text><text text-anchor=\"start\" x=\"209\" y=\"217\" font-size=\"12\">1597</text><text text-anchor=\"start\" x=\"205\" y=\"228\" font-size=\"12\">421</text></svg>"
      ],
      "text/plain": [
       "<IPython.core.display.SVG object>"
      ]
     },
     "execution_count": 472,
     "metadata": {},
     "output_type": "execute_result"
    }
   ],
   "source": [
    "# Display pattern\n",
    "idx = np.random.choice(len(data.get('patterns')))\n",
    "\n",
    "node_idx, attr_idx = get_sias_pattern(data.get('patterns')[idx])\n",
    "\n",
    "print(f'Attributes: {words[attr_idx]}')\n",
    "\n",
    "display_pattern(adjacency, node_idx, names, labels)"
   ]
  },
  {
   "cell_type": "markdown",
   "id": "e7479c0b-7f2f-44b4-9b3d-40c12b4c6a06",
   "metadata": {},
   "source": [
    "**Patterns x attributes matrix**"
   ]
  },
  {
   "cell_type": "code",
   "execution_count": 473,
   "id": "c2bf9d8a-1f99-4456-b3a2-4e64f7d80eb0",
   "metadata": {},
   "outputs": [],
   "source": [
    "nb_sias_patterns = len(data.get('patterns'))\n",
    "\n",
    "sias_patterns_attributes = np.zeros((nb_sias_patterns, biadjacency.shape[1]))\n",
    "for i, p in enumerate(sias_patterns):\n",
    "    sias_patterns_attributes[i, p[1]] = 1"
   ]
  },
  {
   "cell_type": "code",
   "execution_count": 474,
   "id": "bccbadac-443e-4eff-8c65-970deeee314b",
   "metadata": {},
   "outputs": [
    {
     "data": {
      "text/plain": [
       "(1184, 9749)"
      ]
     },
     "execution_count": 474,
     "metadata": {},
     "output_type": "execute_result"
    }
   ],
   "source": [
    "sias_patterns_attributes.shape"
   ]
  },
  {
   "cell_type": "markdown",
   "id": "8cfe9bfa-7730-422b-b45f-27d76fde348f",
   "metadata": {},
   "source": [
    "**Doc2Vec model**"
   ]
  },
  {
   "cell_type": "code",
   "execution_count": 480,
   "id": "3e8bb7a2-56ad-478d-94fc-8a24e32f3546",
   "metadata": {},
   "outputs": [],
   "source": [
    "import gensim\n",
    "\n",
    "class MyCorpus():\n",
    "    \"\"\"A memory-friendly iterator that yields documents as TaggedDocument objects, i.e tokens associated with index of document.\"\"\"\n",
    "    \n",
    "    def __init__(self, data, vocab, tokens_only=False):\n",
    "        self.data = data\n",
    "        self.vocab = vocab\n",
    "        self.tokens_only = tokens_only\n",
    "    \n",
    "    def __iter__(self):\n",
    "        if isinstance(self.data, sparse.csr_matrix):\n",
    "            for i, x in enumerate(self.data):\n",
    "                tokens = list(self.vocab[x.indices])\n",
    "                yield gensim.models.doc2vec.TaggedDocument(tokens, [i])\n",
    "        else:\n",
    "            if not self.tokens_only:\n",
    "                for i, x in enumerate(self.data):\n",
    "                    tokens = list(self.vocab[np.flatnonzero(x)])\n",
    "                    yield gensim.models.doc2vec.TaggedDocument(tokens, [i])\n",
    "            else:\n",
    "                for i, x in enumerate(self.data):\n",
    "                    tokens = list(self.vocab[np.flatnonzero(x)])\n",
    "                    yield tokens"
   ]
  },
  {
   "cell_type": "code",
   "execution_count": 481,
   "id": "6387dc0a-5382-4f87-aaf7-e7fe7f5b0ada",
   "metadata": {},
   "outputs": [],
   "source": [
    "import numpy as np\n",
    "from scipy.stats import wasserstein_distance\n",
    "from tqdm import tqdm\n",
    "\n",
    "\n",
    "def d2v_embedding(model, doc):\n",
    "    \"\"\"Use pre-trained model to embed document.\"\"\"\n",
    "    return model.infer_vector(doc)\n",
    "\n",
    "def pairwise_wd_distance(matrix, n, model, names):\n",
    "    \"\"\"Doc2Vec embedding + pairwise Wasserstein distances between elements in matrix.\"\"\"\n",
    "\n",
    "    wd_matrix = np.zeros((n, n))\n",
    "    \n",
    "    for i in tqdm(range(n)):\n",
    "        w1 = d2v_embedding(model, names[np.flatnonzero(matrix[i, :])])\n",
    "        for j in range(n):\n",
    "            w2 = d2v_embedding(model, names[np.flatnonzero(matrix[j, :])])\n",
    "            wd_matrix[i, j] = wasserstein_distance(w1, w2)\n",
    "            \n",
    "    return wd_matrix"
   ]
  },
  {
   "cell_type": "code",
   "execution_count": 492,
   "id": "9d8ee860-8ad6-4056-94f9-2f00c98fdb2a",
   "metadata": {},
   "outputs": [],
   "source": [
    "corpus = list(MyCorpus(biadjacency, names_col))\n",
    "model = gensim.models.doc2vec.Doc2Vec(vector_size=15, min_count=5, epochs=300)\n",
    "model.build_vocab(corpus)\n",
    "\n",
    "# Training model\n",
    "model.train(corpus, total_examples=model.corpus_count, epochs=model.epochs)"
   ]
  },
  {
   "cell_type": "code",
   "execution_count": 497,
   "id": "f5dff134-3434-493b-aefc-9e7762881535",
   "metadata": {},
   "outputs": [
    {
     "name": "stdout",
     "output_type": "stream",
     "text": [
      "['pop' '80s' 'synth-pop' 'field recording']\n",
      "['ambient' '80s']\n"
     ]
    }
   ],
   "source": [
    "w1 = model.infer_vector(names_col[np.flatnonzero(sias_patterns_attributes[10, :])])\n",
    "w2 = model.infer_vector(names_col[np.flatnonzero(sias_patterns_attributes[12, :])])\n",
    "print(names_col[np.flatnonzero(sias_patterns_attributes[10, :])])\n",
    "print(names_col[np.flatnonzero(sias_patterns_attributes[12, :])])"
   ]
  },
  {
   "cell_type": "code",
   "execution_count": 498,
   "id": "e945d09a-bbc9-451c-94cb-017925ac684c",
   "metadata": {},
   "outputs": [
    {
     "data": {
      "text/plain": [
       "0.25575899295508864"
      ]
     },
     "execution_count": 498,
     "metadata": {},
     "output_type": "execute_result"
    }
   ],
   "source": [
    "wasserstein_distance(w1, w2)"
   ]
  },
  {
   "cell_type": "markdown",
   "id": "53984078-80d5-41dc-ae03-f89d33be04fb",
   "metadata": {},
   "source": [
    "**Pairwise distances**"
   ]
  },
  {
   "cell_type": "code",
   "execution_count": 499,
   "id": "fdadfb0a-244b-409b-9c80-a6bbea4148c0",
   "metadata": {},
   "outputs": [
    {
     "name": "stderr",
     "output_type": "stream",
     "text": [
      "100%|████████████████████████████████████████████████████████████████| 1184/1184 [19:35:14<00:00, 59.56s/it]\n"
     ]
    }
   ],
   "source": [
    "d2v_wd_matrix_sias = pairwise_wd_distance(sias_patterns_attributes, nb_sias_patterns, model, names_col)"
   ]
  },
  {
   "cell_type": "code",
   "execution_count": 500,
   "id": "10561284-ddc0-4400-96f2-57b927d6ae37",
   "metadata": {},
   "outputs": [],
   "source": [
    "# Save result\n",
    "inpath = '/Users/simondelarue/Documents/PhD/Research/Co-Meg/CoMEG/output/result'\n",
    "\n",
    "with open(f'{inpath}/wasserstein_distances_{dataset}_{beta}_{s}_sias_patterns.pkl', 'wb') as f:\n",
    "    np.save(f, d2v_wd_matrix_sias)"
   ]
  },
  {
   "cell_type": "code",
   "execution_count": 501,
   "id": "4db36e73-decf-4bf5-9d25-a64bb5aa29e7",
   "metadata": {},
   "outputs": [],
   "source": [
    "def diversity(pw_distances: np.ndarray, delta: float=0.2) -> float:\n",
    "    \"\"\"Diversity, i.e. ratio between number of pairwise distances above threshold and total number of distances. \n",
    "    \n",
    "    Parameters\n",
    "    ----------\n",
    "    pw_distances: np.ndarray\n",
    "        Pairwise distances.\n",
    "    delta: float (default=0.2)\n",
    "        Minimumm pairwise distance threshold.\n",
    "        \n",
    "    Outputs\n",
    "    -------\n",
    "        Diversity. \n",
    "    \"\"\"\n",
    "    n = pw_distances.shape[0]\n",
    "    upper = pw_distances[np.triu_indices(n)]\n",
    "    nb_ps = np.sum(upper > delta)\n",
    "    \n",
    "    return nb_ps / len(upper)"
   ]
  },
  {
   "cell_type": "code",
   "execution_count": 503,
   "id": "8eca061f-d41f-495a-adda-eed4b861bc37",
   "metadata": {},
   "outputs": [
    {
     "name": "stdout",
     "output_type": "stream",
     "text": [
      "Sias-patterns diversity: 0.8986258410309044\n"
     ]
    }
   ],
   "source": [
    "div = diversity(d2v_wd_matrix_sias, delta=0.2)\n",
    "print(f'Sias-patterns diversity: {div}')"
   ]
  },
  {
   "cell_type": "code",
   "execution_count": 505,
   "id": "6eff9e72-43a3-4314-808c-9c20f104c4b0",
   "metadata": {},
   "outputs": [],
   "source": [
    "def get_community_graph(adjacency: sparse.csr_matrix, labels_communities: np.ndarray) -> sparse.csr_matrix:\n",
    "    \"\"\"Equivalent of summarized graph but for community-based methods. Returns the adjacency matrix of the graph made of the union of all communities. \n",
    "    \n",
    "    Parameters\n",
    "    ----------\n",
    "    adjacency: sparse.csr_matrix\n",
    "        Adjacency matrix of the graph\n",
    "    labels_communities: np.ndarray\n",
    "        Array of node community labels \n",
    "\n",
    "    Output\n",
    "    ------\n",
    "        Sparse matrix of the community graph.\n",
    "    \"\"\"\n",
    "    n_com = len(np.unique(labels_communities))\n",
    "    rows, cols = [], []\n",
    "    for n in range(n_com):\n",
    "        nodes = np.flatnonzero(labels_communities == n)\n",
    "        idx = 0\n",
    "        idx_nodes = np.array([-1] * len(nodes)) # number of unique nodes from communities\n",
    "        # reindex nodes\n",
    "        for n in nodes:\n",
    "            if n not in idx_nodes:\n",
    "                idx_nodes[idx] = n\n",
    "                idx += 1\n",
    "\n",
    "        # Record edges from subgraph related to community\n",
    "        adj_com = adjacency[nodes, :][:, nodes].tocoo()\n",
    "        reindex_rows = [int(idx_nodes[src]) for src in adj_com.row]\n",
    "        reindex_cols = [int(idx_nodes[dst]) for dst in adj_com.col]\n",
    "        rows += reindex_rows\n",
    "        cols += reindex_cols\n",
    "        \n",
    "    return sparse.coo_matrix((np.ones(len(rows)), (rows, cols)), shape=adjacency.shape).tocsr()\n",
    "\n",
    "def coverage(summarized_adjacency: sparse.csr_matrix) -> float:\n",
    "    \"\"\"Node coverage of summarized graph, i.e. ratio between number of nodes in summarized graph and number of nodes in original graph.\n",
    "    \n",
    "    Parameters\n",
    "    ----------\n",
    "    summarized_adjacency: sparse.csr_matrix\n",
    "        Adjacency matrix of the summarized graph\n",
    "    \n",
    "    Outputs\n",
    "    -------\n",
    "        Node coverage. \n",
    "    \"\"\"\n",
    "    # number of nodes in summarized graph\n",
    "    n_nodes = len(np.flatnonzero(summarized_adjacency.dot(np.ones(summarized_adjacency.shape[1]))))\n",
    "    \n",
    "    # Coverage\n",
    "    cov = n_nodes / summarized_adjacency.shape[0]\n",
    "    \n",
    "    return cov"
   ]
  },
  {
   "cell_type": "code",
   "execution_count": 506,
   "id": "07d7d3a4-a38b-492c-989d-de5963022ce8",
   "metadata": {},
   "outputs": [
    {
     "name": "stdout",
     "output_type": "stream",
     "text": [
      "Sias-pattern coverage: 0.1559196617336152\n"
     ]
    }
   ],
   "source": [
    "# Coverage\n",
    "all_nodes_sias = set()\n",
    "for i in range(nb_sias_patterns):\n",
    "    nodes_idx, _ = get_sias_pattern(data.get('patterns')[i])\n",
    "    all_nodes_sias |= set(nodes_idx)\n",
    "    \n",
    "cov = len(all_nodes_sias) / adjacency.shape[0]\n",
    "print(f'Sias-pattern coverage: {cov}')"
   ]
  },
  {
   "cell_type": "code",
   "execution_count": 507,
   "id": "9a257e64-b718-4688-95b0-7970ad27dc7e",
   "metadata": {},
   "outputs": [
    {
     "name": "stdout",
     "output_type": "stream",
     "text": [
      "Sias-pattern conciseness: 104.0\n"
     ]
    }
   ],
   "source": [
    "# Conciseness\n",
    "\n",
    "n_nodes, n_attrs = [], []\n",
    "for i in range(nb_sias_patterns):\n",
    "    nodes_idxs, attr_idxs = get_sias_pattern(data.get('patterns')[i])\n",
    "    n_nodes.append(len(set(nodes_idxs)))\n",
    "    n_attrs.append(len(set(attr_idxs)))\n",
    "    \n",
    "conc = np.median(n_nodes) + np.median(n_attrs)\n",
    "print(f'Sias-pattern conciseness: {conc}')"
   ]
  },
  {
   "cell_type": "code",
   "execution_count": 508,
   "id": "787e3e8c-1bc0-4162-a493-7b9272500c61",
   "metadata": {},
   "outputs": [
    {
     "name": "stdout",
     "output_type": "stream",
     "text": [
      "Sias-pattern information: 1.3739252888238092\n"
     ]
    }
   ],
   "source": [
    "# Information\n",
    "information = (div * cov) / np.sqrt(conc)\n",
    "print(f'Sias-pattern information: {information*100}')"
   ]
  },
  {
   "cell_type": "code",
   "execution_count": 1255,
   "id": "4021901c-84f2-4288-8e01-03260c2a0260",
   "metadata": {},
   "outputs": [
    {
     "name": "stdout",
     "output_type": "stream",
     "text": [
      "Parsing files...\n",
      "Done.\n",
      "79\n"
     ]
    }
   ],
   "source": [
    "from sknetwork.clustering import Louvain\n",
    "\n",
    "# Looking for resolutions\n",
    "dataset = 'wikischools'\n",
    "adjacency, biadjacency, names, names_col, labels = load_data(dataset)\n",
    "inpath = '/Users/simondelarue/Documents/PhD/Research/Co-Meg/CoMEG/output/result/with_prob/'\n",
    "filename = f'{inpath}/result_{dataset}_4_5_orderTrue_prob'\n",
    "\n",
    "with open(f\"{filename}.bin\", \"rb\") as data:\n",
    "    myres = pickle.load(data)\n",
    "    \n",
    "sumadj = get_summarized_graph(adjacency, myres)\n",
    "mask = np.flatnonzero(sumadj.dot(np.ones(sumadj.shape[1])))\n",
    "labels_cc_summarized = get_connected_components(sumadj[mask, :][:, mask])\n",
    "print(len(np.unique(labels_cc_summarized)))"
   ]
  },
  {
   "cell_type": "code",
   "execution_count": 1262,
   "id": "5010f2c5-2715-4a91-b33e-b8171a832066",
   "metadata": {},
   "outputs": [
    {
     "name": "stdout",
     "output_type": "stream",
     "text": [
      "79\n"
     ]
    }
   ],
   "source": [
    "labels_pred = Louvain(4.59).fit_transform(adjacency)\n",
    "print(len(np.unique(labels_pred)))"
   ]
  },
  {
   "cell_type": "code",
   "execution_count": null,
   "id": "9d7422b5-e749-46b7-aeca-349851a30ed9",
   "metadata": {},
   "outputs": [],
   "source": []
  }
 ],
 "metadata": {
  "kernelspec": {
   "display_name": "COMEG",
   "language": "python",
   "name": "comeg"
  },
  "language_info": {
   "codemirror_mode": {
    "name": "ipython",
    "version": 3
   },
   "file_extension": ".py",
   "mimetype": "text/x-python",
   "name": "python",
   "nbconvert_exporter": "python",
   "pygments_lexer": "ipython3",
   "version": "3.9.16"
  }
 },
 "nbformat": 4,
 "nbformat_minor": 5
}
