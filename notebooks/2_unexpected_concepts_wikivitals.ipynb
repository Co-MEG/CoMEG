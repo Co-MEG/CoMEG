{
 "cells": [
  {
   "cell_type": "markdown",
   "id": "4f5a67d5-345c-4082-a5b3-0b83ad8ca410",
   "metadata": {},
   "source": [
    "# Mining Unexpected Concepts\n",
    "---\n",
    "Wikivitals"
   ]
  },
  {
   "cell_type": "markdown",
   "id": "2cd8194a-e301-4515-ad6d-42c07d453b7a",
   "metadata": {},
   "source": [
    "**Libraries**"
   ]
  },
  {
   "cell_type": "code",
   "execution_count": 317,
   "id": "04789468-7dd5-4b95-ac2b-3b980acd152c",
   "metadata": {},
   "outputs": [],
   "source": [
    "from collections import defaultdict, Counter\n",
    "from contextlib import redirect_stdout\n",
    "from IPython.display import SVG\n",
    "import matplotlib.pyplot as plt\n",
    "import numpy as np\n",
    "import pickle\n",
    "from random import random\n",
    "import seaborn as sns\n",
    "from scipy import sparse, special\n",
    "\n",
    "from sknetwork.data import load_netset, from_edge_list\n",
    "from sknetwork.utils import get_degrees, get_membership, get_neighbors\n",
    "from sknetwork.ranking import top_k\n",
    "from sknetwork.topology import Triangles, Cliques\n",
    "from sknetwork.visualization import svg_graph"
   ]
  },
  {
   "cell_type": "markdown",
   "id": "9a1eb4ec-9ac8-4507-9bcb-fdecf2ab4953",
   "metadata": {},
   "source": [
    "## Data"
   ]
  },
  {
   "cell_type": "code",
   "execution_count": 2,
   "id": "9b24942c-8435-44a5-9403-290d044647b8",
   "metadata": {},
   "outputs": [
    {
     "name": "stdout",
     "output_type": "stream",
     "text": [
      "Parsing files...\n",
      "Done.\n"
     ]
    }
   ],
   "source": [
    "wikivitals = load_netset('wikivitals')"
   ]
  },
  {
   "cell_type": "code",
   "execution_count": 3,
   "id": "18d643b4-85e9-47ee-acfc-4789f1a623af",
   "metadata": {},
   "outputs": [],
   "source": [
    "adjacency = wikivitals.adjacency\n",
    "biadjacency = wikivitals.biadjacency\n",
    "names = wikivitals.names\n",
    "words = wikivitals.names_col\n",
    "labels = wikivitals.labels"
   ]
  },
  {
   "cell_type": "code",
   "execution_count": 4,
   "id": "ae4b1d2e-8f73-4233-b1e4-3f1770c157fc",
   "metadata": {},
   "outputs": [
    {
     "data": {
      "text/plain": [
       "array(['0', '1', '100 metres', ..., 'Łódź', 'Śāriputra', '−1'],\n",
       "      dtype='<U62')"
      ]
     },
     "execution_count": 4,
     "metadata": {},
     "output_type": "execute_result"
    }
   ],
   "source": [
    "names"
   ]
  },
  {
   "cell_type": "code",
   "execution_count": 5,
   "id": "b0285187-17fd-4d9a-9791-42e44a94958f",
   "metadata": {},
   "outputs": [
    {
     "data": {
      "text/plain": [
       "array(['Alexis', 'Cairo', 'subordinate', 'marching', 'bengali', 'Adal',\n",
       "       'pulvinus', 'Gallia', 'Harris', 'Toshiro'], dtype='<U26')"
      ]
     },
     "execution_count": 5,
     "metadata": {},
     "output_type": "execute_result"
    }
   ],
   "source": [
    "words[:10]"
   ]
  },
  {
   "cell_type": "markdown",
   "id": "306c944b-b7b8-4844-ae25-2e87972d05d2",
   "metadata": {
    "tags": []
   },
   "source": [
    "## Algorithm"
   ]
  },
  {
   "cell_type": "code",
   "execution_count": 324,
   "id": "c3010d53-b071-41f5-a0a3-e042a6b7c651",
   "metadata": {},
   "outputs": [],
   "source": [
    "def plot_distrib(values, ax, xlabel='degree', log=True, title=None, color='blue', alpha=1, label='Degree distribution'):\n",
    "    counter = Counter(values)\n",
    "    x, y = zip(*counter.items())\n",
    "    ax.scatter(x, y, marker='+', color=color, alpha=alpha, label=label)\n",
    "    ax.legend()\n",
    "    ax.set_title(title)\n",
    "    if log:\n",
    "        ax.set_xscale('log')\n",
    "        ax.set_xlabel(xlabel + ' (log)')\n",
    "    else:\n",
    "        ax.set_xlabel(xlabel)\n",
    "    ax.set_ylabel('Frequency' + ' (log)')\n",
    "    ax.set_yscale('log')\n",
    "    \n",
    "def mdl_graph(adjacency):\n",
    "    n = adjacency.shape[0]\n",
    "\n",
    "    # density\n",
    "    #d = np.sum(adjacency) / (n * (n - 1))\n",
    "    \n",
    "    # nodes\n",
    "    nodes_mdl = np.log2(n)\n",
    "    \n",
    "    # edges\n",
    "    degrees = adjacency.dot(np.ones(n))\n",
    "    max_degree = np.max(degrees)\n",
    "    edges_mdl = (n + 1) * np.log2(max_degree + 1) + np.sum([np.log2(special.comb(n, deg)) for deg in degrees])\n",
    "\n",
    "    return (nodes_mdl + edges_mdl)\n",
    "\n",
    "def entropy(prob):\n",
    "    return prob * -np.log2(prob)\n",
    "\n",
    "def desc_complexity(attrs):\n",
    "    if isinstance(attrs, int):\n",
    "        attrs = [attrs]\n",
    "    prob = 1\n",
    "    for attr in attrs:\n",
    "        prob *= degrees[attr] / np.sum(degrees)\n",
    "    entr = entropy(prob)\n",
    "    return generation_complexity(biadjacency.shape[1], len(attrs)) * entr"
   ]
  },
  {
   "cell_type": "code",
   "execution_count": 282,
   "id": "b0c0cb64-4997-466a-88dd-4be23a18eb2e",
   "metadata": {},
   "outputs": [],
   "source": [
    "def in_close(adjacency, context, extents, intents, unexs, unexs_g, r, y, degs, gain, verbose):\n",
    "    \n",
    "    support_obj = 5\n",
    "    support_attr = 15\n",
    "    delta = 5\n",
    "    \n",
    "    global gain_unex\n",
    "    # --------------------\n",
    "    \n",
    "    global r_new\n",
    "    r_new = r_new + 1\n",
    "    attributes = np.arange(0, context.shape[1])\n",
    "    \n",
    "    for n_iter, j in enumerate(attributes[y:]):\n",
    "        \n",
    "        try:\n",
    "            extents[r_new] = []\n",
    "            unexs[r_new] = 0\n",
    "            unexs_g[r_new] = 0\n",
    "        except IndexError:\n",
    "            extents.append([])\n",
    "            unexs.append(0)\n",
    "            unexs_g.append(0)\n",
    "\n",
    "        # Form a new extent by adding extension of attribute j to current concept extent\n",
    "        extension_j = get_neighbors(context, node=j, transpose=True)\n",
    "        new_extent = np.array(list(set(extents[r]).intersection(set(extension_j))))\n",
    "        extents[r_new] = new_extent\n",
    "        new_extent_size = len(new_extent)\n",
    "        \n",
    "        # Verify that intention\n",
    "        len_closure = 0\n",
    "        if len(new_extent > 0):\n",
    "            all_neighbs = set(get_neighbors(context, node=new_extent[0]))\n",
    "            for o in new_extent[1:]:\n",
    "                neighbs = get_neighbors(context, node=o)\n",
    "                all_neighbs &= set(neighbs)\n",
    "            len_closure = len(all_neighbs)\n",
    "        \n",
    "            \n",
    "        if len_closure >= support_obj:\n",
    "            #if verbose:\n",
    "            #    print(f'closure of {new_extent} --> size of closure = {len_closure}>{support_obj}')\n",
    "            \n",
    "            \n",
    "            if new_extent_size >= support_obj:\n",
    "                if verbose:\n",
    "                    print(f'n_iter:{n_iter} - extents: {extents[r]} - intents: {intents[r]}')\n",
    "                    print(f'  Candidate attr: {j} {sorted_names_col[j]}')\n",
    "                    print(f'  new extent: {new_extent}')\n",
    "\n",
    "                #if new_extent_size < len(extents[r]):\n",
    "                # Graph unexpectedness\n",
    "                g_r_new = adjacency[new_extent][:, new_extent]\n",
    "                complexity_desc_g = mdl_graph(g_r_new)\n",
    "                complexity_gen_g = np.mean(complexity_gen_graphs.get(new_extent_size))\n",
    "                unex_g = complexity_gen_g - complexity_desc_g\n",
    "                unexs_g.append(unex_g)\n",
    "                if verbose:\n",
    "                    print(f'  U(G)={unex_g} (cw={complexity_gen_g} - c={complexity_desc_g})')\n",
    "\n",
    "                new_intent = np.array(list(sorted(set(intents[r]).union(set([j])))))\n",
    "                new_intent_size = len(new_intent)            \n",
    "\n",
    "                if new_intent_size <= support_attr:\n",
    "\n",
    "                    # Attributes unexpectedness\n",
    "                    complexity_gen_a = np.log2(special.comb(context.shape[1], new_intent_size))\n",
    "                    complexity_desc_a = 0\n",
    "                    for a in new_intent:\n",
    "                        complexity_desc_a += np.log2(degs[a])\n",
    "                    unex_a = complexity_gen_a - complexity_desc_a\n",
    "                    if verbose:\n",
    "                        print(f'  U(A)={unex_a} (cw={complexity_gen_a} - c={complexity_desc_a})')\n",
    "\n",
    "                    # Total Unexpectedness\n",
    "                    unex = unex_g + unex_a\n",
    "                    if verbose:\n",
    "                        print(f'  U: {unex}')\n",
    "                    unexs[r_new] = unex\n",
    "\n",
    "                    if verbose:\n",
    "                        print(f'  U[r_new]={unex} - U[r]={unexs[r]}  = {unex - unexs[r]}')\n",
    "\n",
    "                    gain_unex.append(unex - unexs[r])\n",
    "                    if verbose:\n",
    "                        print(f'  gain unex: {gain_unex}')\n",
    "                        print(f'  Gain unex diff: {np.abs(gain_unex[-2]-gain_unex[-1])}')\n",
    "\n",
    "                    if new_extent_size == len(extents[r]):\n",
    "\n",
    "                        #if unex - unexs[r] > 4 and r >=0 and np.abs(gain_unex[-2]-gain_unex[-1])>1:\n",
    "                        if (len(intents[r]) == 0) or ((unex - unexs[r] > 0) and (np.abs(gain_unex[-2] - gain_unex[-1])) > delta):\n",
    "                            intents[r] = np.array(list(sorted(set(intents[r]).union(set([j])))))\n",
    "                            extents[r] = extents[r_new]\n",
    "                            unexs_g[r] = unex_g\n",
    "                            unexs[r] = unex\n",
    "                            if verbose:\n",
    "                                print(f'  Attribute {j}-{sorted_names_col[j]} added')\n",
    "                        else:\n",
    "                            if verbose:\n",
    "                                print(f'  unex - unexs[r] > 0 : {(unex - unexs[r] > 0)}')\n",
    "                                print(f'  (gain_unex[-2] - gain_unex[-1]) > delta : {(gain_unex[-2] - gain_unex[-1]) > delta}')\n",
    "                                print(f'  len(intents[r]) == 0 : {len(intents[r]) == 0}')\n",
    "                                print(f'  --> Stop branch recursion. ')\n",
    "                                print('\\n')\n",
    "\n",
    "                            #del gain_unex[(r_new-r):]\n",
    "                                if len(intents[r]) > 1:\n",
    "                                    del gain_unex[-(len(intents[r]))+1:]\n",
    "                                else:\n",
    "                                    del gain_unex[-(len(intents[r])):]\n",
    "\n",
    "                            return [*zip(extents, intents)]\n",
    "\n",
    "                    else:\n",
    "                        #if unex - unexs[r] > 4 and r >=0 and np.abs(gain_unex[-2]-gain_unex[-1])>1:\n",
    "                        if (len(intents[r]) == 0) or (unex - unexs[r] > 0):\n",
    "\n",
    "                            try:\n",
    "                                intents[r_new] = []\n",
    "                            except IndexError:\n",
    "                                intents.append([])\n",
    "\n",
    "                            intents[r_new] = np.array(list(sorted(set(intents[r]).union(set([j])))))\n",
    "                            if verbose:\n",
    "                                print('  recursive call')\n",
    "                            in_close(adjacency, context, extents, intents, unexs, unexs_g, r=r_new, y=j+1, degs=degs, gain=gain_unex, verbose=verbose)\n",
    "                        else:\n",
    "                            if verbose:\n",
    "                                print(f'  Do not go into recursion. Try next candidate attribute. ')\n",
    "                                print()\n",
    "                            gain_unex.pop(-1)\n",
    "                else:\n",
    "                    if verbose:\n",
    "                        print(f'Max number of attributes reached.')\n",
    "                        print('\\n')\n",
    "                    return [*zip(extents, intents)]\n",
    "\n",
    "            #else:\n",
    "            #    if verbose:\n",
    "            #        print(f'  New extent size >= support? : {new_extent_size >= support_obj}')\n",
    "            \n",
    "        #else:\n",
    "            #if verbose:\n",
    "                #    print(f'closure of {new_extent} --> no need to verify all attributes')\n",
    "    if verbose:\n",
    "        print('\\n')\n",
    "        \n",
    "\n",
    "    if len(intents[r]) > 1:\n",
    "        del gain_unex[-(len(intents[r]))+1:]\n",
    "    else:\n",
    "        del gain_unex[-(len(intents[r])):]\n",
    "    return [*zip(extents, intents)]"
   ]
  },
  {
   "cell_type": "markdown",
   "id": "b32d8a33-c86e-439c-a0c1-f548c890d27a",
   "metadata": {},
   "source": [
    "## Application"
   ]
  },
  {
   "cell_type": "markdown",
   "id": "92a62a5b-c364-435b-bca0-3955d3801244",
   "metadata": {},
   "source": [
    "### Minimum Description Lengths of random graphs  \n",
    "\n",
    "Build a dictionary of MDL for random graphs with varying number of nodes and density."
   ]
  },
  {
   "cell_type": "code",
   "execution_count": 8,
   "id": "b6958c56-1376-42ec-a54e-23803b3b7890",
   "metadata": {},
   "outputs": [
    {
     "data": {
      "text/plain": [
       "0.008232692290229"
      ]
     },
     "execution_count": 8,
     "metadata": {},
     "output_type": "execute_result"
    }
   ],
   "source": [
    "# Density of initial graph\n",
    "n, m = adjacency.shape[0], adjacency.nnz\n",
    "density = (m) / (n * (n - 1))\n",
    "density"
   ]
  },
  {
   "cell_type": "code",
   "execution_count": 162,
   "id": "a36fdd1b-39c6-4aa3-acc9-8f9a34187a7e",
   "metadata": {},
   "outputs": [
    {
     "name": "stdout",
     "output_type": "stream",
     "text": [
      "CPU times: user 1min 39s, sys: 2.73 s, total: 1min 42s\n",
      "Wall time: 1min 42s\n"
     ]
    }
   ],
   "source": [
    "%%time\n",
    "complexity_gen_graphs = defaultdict(list)\n",
    "\n",
    "for num_n in range(adjacency.shape[0] + 1)[3:1000]:\n",
    "    cpt = 0\n",
    "    while cpt < 3:\n",
    "        random_g = sparse.random(num_n, num_n, density=0.5).astype(bool).tocsr()\n",
    "        if random_g is not None and random_g.shape[0] == num_n:\n",
    "            mdl = mdl_graph(random_g)\n",
    "            complexity_gen_graphs[num_n].append(mdl)\n",
    "            cpt += 1"
   ]
  },
  {
   "cell_type": "code",
   "execution_count": 163,
   "id": "a4621f37-58c6-4b3e-9630-9522ee59e77f",
   "metadata": {},
   "outputs": [],
   "source": [
    "#import pickle\n",
    "#f = open(\"complexity_gen_graphs.pkl\", \"wb\")\n",
    "#pickle.dump(complexity_gen_graphs, f)\n",
    "#f.close()"
   ]
  },
  {
   "cell_type": "code",
   "execution_count": 283,
   "id": "ea3bf97f-c3a9-43c6-bc78-37914863bb1a",
   "metadata": {},
   "outputs": [],
   "source": [
    "# In-close initialization\n",
    "V = np.arange(0, biadjacency.shape[0])\n",
    "extents, intents, unexs, unexs_g = [], [], [], []\n",
    "extents_init = V\n",
    "intents_init = []\n",
    "unexs.append(0)\n",
    "unexs_g.append(0)\n",
    "extents.append(extents_init)\n",
    "intents.append(intents_init)"
   ]
  },
  {
   "cell_type": "code",
   "execution_count": 284,
   "id": "300a6b08-14e0-416b-b057-4d3a3dcf9e1f",
   "metadata": {},
   "outputs": [],
   "source": [
    "global r_new\n",
    "r_new = 0\n",
    "global gain_unex\n",
    "gain_unex = []\n",
    "gain_unex.append(0)\n",
    "\n",
    "n_objects_min = 5\n",
    "n_objects_max = 999\n",
    "\n",
    "# Degree of attribute = # articles in which it appears\n",
    "freq_attribute = get_degrees(biadjacency.astype(bool), transpose=True)\n",
    "index = np.flatnonzero((freq_attribute <= n_objects_max) & (freq_attribute >= n_objects_min))\n",
    "\n",
    "# Filter data with index\n",
    "biadjacency = biadjacency[:, index]\n",
    "words = words[index]\n",
    "freq_attribute = freq_attribute[index]\n",
    "\n",
    "# Order attributes according to their ascending degree\n",
    "# This allows to add first attributes that will generate bigger subgraphs\n",
    "sort_index = np.argsort(freq_attribute)\n",
    "sorted_degs = freq_attribute[sort_index]\n",
    "filt_biadjacency = biadjacency[:, sort_index]\n",
    "sorted_names_col = words[sort_index]"
   ]
  },
  {
   "cell_type": "code",
   "execution_count": 285,
   "id": "1d76d938-048e-4900-b96b-3909f3584bba",
   "metadata": {},
   "outputs": [
    {
     "name": "stdout",
     "output_type": "stream",
     "text": [
      "CPU times: user 1h 19min 35s, sys: 13min 45s, total: 1h 33min 20s\n",
      "Wall time: 1h 50min 18s\n"
     ]
    }
   ],
   "source": [
    "%%time\n",
    "\n",
    "with open('logs/log_wikivitals.txt', 'w') as f:\n",
    "    with redirect_stdout(f):\n",
    "        result = in_close(adjacency, filt_biadjacency, extents, intents, unexs, unexs_g, r=0, y=0, degs=sorted_degs, gain=gain_unex, verbose=True)\n",
    "        print()"
   ]
  },
  {
   "cell_type": "code",
   "execution_count": 306,
   "id": "44e56629-a42c-403e-8cc1-4d61be203b6e",
   "metadata": {},
   "outputs": [],
   "source": [
    "# Save result\n",
    "with open(\"result/result.bin\", \"wb\") as output:\n",
    "    pickle.dump(result, output)"
   ]
  },
  {
   "cell_type": "code",
   "execution_count": 307,
   "id": "68492850-192c-4108-b150-c3d4bc423651",
   "metadata": {},
   "outputs": [],
   "source": [
    "# Load result\n",
    "#with open(\"result/result.bin\", \"rb\") as data:\n",
    "#    myList = pickle.load(data)"
   ]
  },
  {
   "cell_type": "code",
   "execution_count": 288,
   "id": "11462ac1-e4f3-414a-b034-eb3eed1d218f",
   "metadata": {},
   "outputs": [
    {
     "name": "stdout",
     "output_type": "stream",
     "text": [
      "350\n",
      "<class 'list'>\n"
     ]
    }
   ],
   "source": [
    "print(len(result))\n",
    "print(type(result))"
   ]
  },
  {
   "cell_type": "code",
   "execution_count": 297,
   "id": "aa9f88db-62e3-442e-a7fe-2329f1b1847a",
   "metadata": {},
   "outputs": [
    {
     "name": "stdout",
     "output_type": "stream",
     "text": [
      "Attributes | Nodes\n",
      "[ 3232  4409 16476]       [2471 5418 3436 3543  893]\n",
      "[ 5153 11599 14900]       [3397 2950 1357 4536 9150]\n",
      "[ 5327 15777]             [5893 7847 5360 4948 2964 9685]\n",
      "[3983 7224 8801]          [7745 8578 8740 7500 8914 5652]\n",
      "[ 2306 14951]             [5448  877 4081 6196 9720]\n",
      "[3539 5486]               [9572 7847 3403 2486 8155]\n",
      "[ 5429 17017]             [9094 4166 1576 6317 9938 8921 7900 5183]\n",
      "[ 6054 12660]             [5889 5538 9804 5233 4948]\n",
      "[1605]                    [1793 4905 3276 2065 5913]\n",
      "[3820 7486]               [9965  557  432 3985  722]\n"
     ]
    }
   ],
   "source": [
    "print(f'Attributes | Nodes')\n",
    "rand_idx = np.random.choice(len(result), 10)\n",
    "for i in rand_idx:\n",
    "    concepts = result[i]\n",
    "    print(f'{str(concepts[1]):<25} {concepts[0]}')"
   ]
  },
  {
   "cell_type": "markdown",
   "id": "1dd71019-b245-40da-85c4-f9a543b4b581",
   "metadata": {},
   "source": [
    "**Nodes and attributes size distributions in concepts**"
   ]
  },
  {
   "cell_type": "code",
   "execution_count": 334,
   "id": "b4995ef7-c6f0-418f-b0b9-60c148828fa6",
   "metadata": {},
   "outputs": [
    {
     "data": {
      "image/png": "[encoded data removed]",
      "text/plain": [
       "<Figure size 864x360 with 2 Axes>"
      ]
     },
     "metadata": {
      "needs_background": "light"
     },
     "output_type": "display_data"
    }
   ],
   "source": [
    "nodes_list, attrs_list = zip(*result)\n",
    "\n",
    "len_n = map(len, nodes_list)\n",
    "len_a = map(len, attrs_list)\n",
    "\n",
    "fig, ax = plt.subplots(1, 2, figsize=(12, 5),)\n",
    "plot_distrib(Counter(len_n), ax[0], label='Extent size', xlabel='# nodes')\n",
    "plot_distrib(Counter(len_a), ax[1], label='Intent size', xlabel='# attributes')"
   ]
  },
  {
   "cell_type": "code",
   "execution_count": 298,
   "id": "6f0e0a97-934f-4159-8dd7-6607bfa9f924",
   "metadata": {},
   "outputs": [
    {
     "name": "stdout",
     "output_type": "stream",
     "text": [
      "['Dolly' 'hello' 'singer']\n"
     ]
    },
    {
     "data": {
      "image/svg+xml": [
       "<svg xmlns=\"http://www.w3.org/2000/svg\" width=\"560.0\" height=\"340\">\n",
       "<path stroke-width=\"1\" stroke=\"gray\" d=\"M 20 146 219 141\"/>\n",
       "<path stroke-width=\"1\" stroke=\"gray\" d=\"M 20 146 72 20\"/>\n",
       "<path stroke-width=\"1\" stroke=\"gray\" d=\"M 72 20 219 141\"/>\n",
       "<path stroke-width=\"1\" stroke=\"gray\" d=\"M 72 20 20 146\"/>\n",
       "<path stroke-width=\"1\" stroke=\"gray\" d=\"M 420 49 219 141\"/>\n",
       "<path stroke-width=\"1\" stroke=\"gray\" d=\"M 317 320 219 141\"/>\n",
       "<path stroke-width=\"1\" stroke=\"gray\" d=\"M 219 141 20 146\"/>\n",
       "<path stroke-width=\"1\" stroke=\"gray\" d=\"M 219 141 420 49\"/>\n",
       "<path stroke-width=\"1\" stroke=\"gray\" d=\"M 219 141 317 320\"/>\n",
       "<path stroke-width=\"1\" stroke=\"gray\" d=\"M 219 141 72 20\"/>\n",
       "<circle cx=\"20\" cy=\"146\" r=\"7.0\" style=\"fill:gray;stroke:black;stroke-width:1.0\"/>\n",
       "<circle cx=\"72\" cy=\"20\" r=\"7.0\" style=\"fill:gray;stroke:black;stroke-width:1.0\"/>\n",
       "<circle cx=\"420\" cy=\"49\" r=\"7.0\" style=\"fill:gray;stroke:black;stroke-width:1.0\"/>\n",
       "<circle cx=\"317\" cy=\"320\" r=\"7.0\" style=\"fill:gray;stroke:black;stroke-width:1.0\"/>\n",
       "<circle cx=\"219\" cy=\"141\" r=\"7.0\" style=\"fill:gray;stroke:black;stroke-width:1.0\"/>\n",
       "<text text-anchor=\"start\" x=\"30\" y=\"146\" font-size=\"12\">Dolly Parton</text><text text-anchor=\"start\" x=\"82\" y=\"20\" font-size=\"12\">Louis Armstrong</text><text text-anchor=\"start\" x=\"430\" y=\"49\" font-size=\"12\">Gene Kelly</text><text text-anchor=\"start\" x=\"327\" y=\"320\" font-size=\"12\">Ginger Rogers</text><text text-anchor=\"start\" x=\"229\" y=\"141\" font-size=\"12\">Barbra Streisand</text></svg>"
      ],
      "text/plain": [
       "<IPython.core.display.SVG object>"
      ]
     },
     "execution_count": 298,
     "metadata": {},
     "output_type": "execute_result"
    }
   ],
   "source": [
    "# First graph\n",
    "objs = np.array([2471, 5418, 3436, 3543,  893])\n",
    "attrs = np.array([3232, 4409, 16476])\n",
    "\n",
    "print(sorted_names_col[attrs])\n",
    "\n",
    "image_adj = adjacency[objs, :][:, objs]\n",
    "if image_adj.nnz == 0:\n",
    "    image_adj += sparse.diags(np.ones(len(objs)))\n",
    "image = svg_graph(image_adj, names=names[objs])\n",
    "\n",
    "SVG(image)"
   ]
  },
  {
   "cell_type": "code",
   "execution_count": 299,
   "id": "d9bd6a9f-4a94-49e7-9bb8-c8598e947092",
   "metadata": {},
   "outputs": [
    {
     "name": "stdout",
     "output_type": "stream",
     "text": [
      "['monazite' 'earth']\n"
     ]
    },
    {
     "data": {
      "image/svg+xml": [
       "<svg xmlns=\"http://www.w3.org/2000/svg\" width=\"536.0\" height=\"340\">\n",
       "<path stroke-width=\"1\" stroke=\"gray\" d=\"M 315 25 218 163\"/>\n",
       "<path stroke-width=\"1\" stroke=\"gray\" d=\"M 209 320 52 255\"/>\n",
       "<path stroke-width=\"1\" stroke=\"gray\" d=\"M 209 320 373 265\"/>\n",
       "<path stroke-width=\"1\" stroke=\"gray\" d=\"M 209 320 420 135\"/>\n",
       "<path stroke-width=\"1\" stroke=\"gray\" d=\"M 209 320 20 122\"/>\n",
       "<path stroke-width=\"1\" stroke=\"gray\" d=\"M 209 320 315 25\"/>\n",
       "<path stroke-width=\"1\" stroke=\"gray\" d=\"M 20 122 218 163\"/>\n",
       "<path stroke-width=\"1\" stroke=\"gray\" d=\"M 20 122 136 20\"/>\n",
       "<path stroke-width=\"1\" stroke=\"gray\" d=\"M 20 122 52 255\"/>\n",
       "<path stroke-width=\"1\" stroke=\"gray\" d=\"M 20 122 373 265\"/>\n",
       "<path stroke-width=\"1\" stroke=\"gray\" d=\"M 20 122 420 135\"/>\n",
       "<path stroke-width=\"1\" stroke=\"gray\" d=\"M 20 122 315 25\"/>\n",
       "<path stroke-width=\"1\" stroke=\"gray\" d=\"M 209 320 136 20\"/>\n",
       "<path stroke-width=\"1\" stroke=\"gray\" d=\"M 20 122 209 320\"/>\n",
       "<path stroke-width=\"1\" stroke=\"gray\" d=\"M 420 135 136 20\"/>\n",
       "<path stroke-width=\"1\" stroke=\"gray\" d=\"M 420 135 52 255\"/>\n",
       "<path stroke-width=\"1\" stroke=\"gray\" d=\"M 420 135 373 265\"/>\n",
       "<path stroke-width=\"1\" stroke=\"gray\" d=\"M 420 135 20 122\"/>\n",
       "<path stroke-width=\"1\" stroke=\"gray\" d=\"M 420 135 315 25\"/>\n",
       "<path stroke-width=\"1\" stroke=\"gray\" d=\"M 420 135 209 320\"/>\n",
       "<path stroke-width=\"1\" stroke=\"gray\" d=\"M 52 255 218 163\"/>\n",
       "<path stroke-width=\"1\" stroke=\"gray\" d=\"M 52 255 136 20\"/>\n",
       "<path stroke-width=\"1\" stroke=\"gray\" d=\"M 52 255 373 265\"/>\n",
       "<path stroke-width=\"1\" stroke=\"gray\" d=\"M 52 255 420 135\"/>\n",
       "<path stroke-width=\"1\" stroke=\"gray\" d=\"M 52 255 20 122\"/>\n",
       "<path stroke-width=\"1\" stroke=\"gray\" d=\"M 420 135 218 163\"/>\n",
       "<path stroke-width=\"1\" stroke=\"gray\" d=\"M 209 320 218 163\"/>\n",
       "<path stroke-width=\"1\" stroke=\"gray\" d=\"M 373 265 209 320\"/>\n",
       "<path stroke-width=\"1\" stroke=\"gray\" d=\"M 373 265 315 25\"/>\n",
       "<path stroke-width=\"1\" stroke=\"gray\" d=\"M 315 25 136 20\"/>\n",
       "<path stroke-width=\"1\" stroke=\"gray\" d=\"M 315 25 52 255\"/>\n",
       "<path stroke-width=\"1\" stroke=\"gray\" d=\"M 315 25 373 265\"/>\n",
       "<path stroke-width=\"1\" stroke=\"gray\" d=\"M 315 25 420 135\"/>\n",
       "<path stroke-width=\"1\" stroke=\"gray\" d=\"M 315 25 20 122\"/>\n",
       "<path stroke-width=\"1\" stroke=\"gray\" d=\"M 315 25 209 320\"/>\n",
       "<path stroke-width=\"1\" stroke=\"gray\" d=\"M 136 20 218 163\"/>\n",
       "<path stroke-width=\"1\" stroke=\"gray\" d=\"M 136 20 52 255\"/>\n",
       "<path stroke-width=\"1\" stroke=\"gray\" d=\"M 136 20 373 265\"/>\n",
       "<path stroke-width=\"1\" stroke=\"gray\" d=\"M 136 20 420 135\"/>\n",
       "<path stroke-width=\"1\" stroke=\"gray\" d=\"M 136 20 20 122\"/>\n",
       "<path stroke-width=\"1\" stroke=\"gray\" d=\"M 136 20 315 25\"/>\n",
       "<path stroke-width=\"1\" stroke=\"gray\" d=\"M 136 20 209 320\"/>\n",
       "<path stroke-width=\"1\" stroke=\"gray\" d=\"M 218 163 136 20\"/>\n",
       "<path stroke-width=\"1\" stroke=\"gray\" d=\"M 218 163 52 255\"/>\n",
       "<path stroke-width=\"1\" stroke=\"gray\" d=\"M 218 163 373 265\"/>\n",
       "<path stroke-width=\"1\" stroke=\"gray\" d=\"M 218 163 420 135\"/>\n",
       "<path stroke-width=\"1\" stroke=\"gray\" d=\"M 218 163 20 122\"/>\n",
       "<path stroke-width=\"1\" stroke=\"gray\" d=\"M 218 163 315 25\"/>\n",
       "<path stroke-width=\"1\" stroke=\"gray\" d=\"M 218 163 209 320\"/>\n",
       "<path stroke-width=\"1\" stroke=\"gray\" d=\"M 373 265 218 163\"/>\n",
       "<path stroke-width=\"1\" stroke=\"gray\" d=\"M 373 265 136 20\"/>\n",
       "<path stroke-width=\"1\" stroke=\"gray\" d=\"M 373 265 52 255\"/>\n",
       "<path stroke-width=\"1\" stroke=\"gray\" d=\"M 373 265 420 135\"/>\n",
       "<path stroke-width=\"1\" stroke=\"gray\" d=\"M 373 265 20 122\"/>\n",
       "<path stroke-width=\"1\" stroke=\"gray\" d=\"M 52 255 315 25\"/>\n",
       "<path stroke-width=\"1\" stroke=\"gray\" d=\"M 52 255 209 320\"/>\n",
       "<circle cx=\"315\" cy=\"25\" r=\"7.0\" style=\"fill:gray;stroke:black;stroke-width:1.0\"/>\n",
       "<circle cx=\"136\" cy=\"20\" r=\"7.0\" style=\"fill:gray;stroke:black;stroke-width:1.0\"/>\n",
       "<circle cx=\"218\" cy=\"163\" r=\"7.0\" style=\"fill:gray;stroke:black;stroke-width:1.0\"/>\n",
       "<circle cx=\"373\" cy=\"265\" r=\"7.0\" style=\"fill:gray;stroke:black;stroke-width:1.0\"/>\n",
       "<circle cx=\"209\" cy=\"320\" r=\"7.0\" style=\"fill:gray;stroke:black;stroke-width:1.0\"/>\n",
       "<circle cx=\"20\" cy=\"122\" r=\"7.0\" style=\"fill:gray;stroke:black;stroke-width:1.0\"/>\n",
       "<circle cx=\"420\" cy=\"135\" r=\"7.0\" style=\"fill:gray;stroke:black;stroke-width:1.0\"/>\n",
       "<circle cx=\"52\" cy=\"255\" r=\"7.0\" style=\"fill:gray;stroke:black;stroke-width:1.0\"/>\n",
       "<text text-anchor=\"start\" x=\"325\" y=\"25\" font-size=\"12\">Thorium</text><text text-anchor=\"start\" x=\"146\" y=\"20\" font-size=\"12\">Holmium</text><text text-anchor=\"start\" x=\"228\" y=\"163\" font-size=\"12\">Cerium</text><text text-anchor=\"start\" x=\"383\" y=\"265\" font-size=\"12\">Neodymium</text><text text-anchor=\"start\" x=\"219\" y=\"320\" font-size=\"12\">Ytterbium</text><text text-anchor=\"start\" x=\"30\" y=\"122\" font-size=\"12\">Terbium</text><text text-anchor=\"start\" x=\"430\" y=\"135\" font-size=\"12\">Samarium</text><text text-anchor=\"start\" x=\"62\" y=\"255\" font-size=\"12\">Lanthanum</text></svg>"
      ],
      "text/plain": [
       "<IPython.core.display.SVG object>"
      ]
     },
     "execution_count": 299,
     "metadata": {},
     "output_type": "execute_result"
    }
   ],
   "source": [
    "# First graph\n",
    "objs = np.array([9094, 4166, 1576, 6317, 9938, 8921, 7900, 5183])\n",
    "attrs = np.array([5429, 17017])\n",
    "\n",
    "print(sorted_names_col[attrs])\n",
    "\n",
    "image_adj = adjacency[objs, :][:, objs]\n",
    "if image_adj.nnz == 0:\n",
    "    image_adj += sparse.diags(np.ones(len(objs)))\n",
    "image = svg_graph(image_adj, names=names[objs])\n",
    "\n",
    "SVG(image)"
   ]
  },
  {
   "cell_type": "code",
   "execution_count": 347,
   "id": "7fab14be-a2ff-4310-9772-9cb858659ff5",
   "metadata": {},
   "outputs": [
    {
     "name": "stdout",
     "output_type": "stream",
     "text": [
      "['Anschluss' 'Hitler']\n"
     ]
    },
    {
     "data": {
      "image/svg+xml": [
       "<svg xmlns=\"http://www.w3.org/2000/svg\" width=\"656.0\" height=\"340\">\n",
       "<defs><marker id=\"arrow-gray\" markerWidth=\"10\" markerHeight=\"10\" refX=\"9\" refY=\"3\" orient=\"auto\">\n",
       "<path d=\"M0,0 L0,6 L9,3 z\" fill=\"gray\"/></marker></defs>\n",
       "<path stroke-width=\"1\" stroke=\"gray\" d=\"M 420 78 262 315\" marker-end=\"url(#arrow-gray)\"/>\n",
       "<path stroke-width=\"1\" stroke=\"gray\" d=\"M 420 78 375 180\" marker-end=\"url(#arrow-gray)\"/>\n",
       "<path stroke-width=\"1\" stroke=\"gray\" d=\"M 420 78 80 21\" marker-end=\"url(#arrow-gray)\"/>\n",
       "<path stroke-width=\"1\" stroke=\"gray\" d=\"M 20 181 253 317\" marker-end=\"url(#arrow-gray)\"/>\n",
       "<path stroke-width=\"1\" stroke=\"gray\" d=\"M 20 181 367 186\" marker-end=\"url(#arrow-gray)\"/>\n",
       "<path stroke-width=\"1\" stroke=\"gray\" d=\"M 20 181 72 26\" marker-end=\"url(#arrow-gray)\"/>\n",
       "<path stroke-width=\"1\" stroke=\"gray\" d=\"M 259 320 26 184\" marker-end=\"url(#arrow-gray)\"/>\n",
       "<path stroke-width=\"1\" stroke=\"gray\" d=\"M 373 186 418 84\" marker-end=\"url(#arrow-gray)\"/>\n",
       "<path stroke-width=\"1\" stroke=\"gray\" d=\"M 373 186 26 181\" marker-end=\"url(#arrow-gray)\"/>\n",
       "<path stroke-width=\"1\" stroke=\"gray\" d=\"M 373 186 263 315\" marker-end=\"url(#arrow-gray)\"/>\n",
       "<path stroke-width=\"1\" stroke=\"gray\" d=\"M 373 186 80 23\" marker-end=\"url(#arrow-gray)\"/>\n",
       "<path stroke-width=\"1\" stroke=\"gray\" d=\"M 74 20 414 77\" marker-end=\"url(#arrow-gray)\"/>\n",
       "<path stroke-width=\"1\" stroke=\"gray\" d=\"M 74 20 22 175\" marker-end=\"url(#arrow-gray)\"/>\n",
       "<path stroke-width=\"1\" stroke=\"gray\" d=\"M 420 78 26 180\" marker-end=\"url(#arrow-gray)\"/>\n",
       "<circle cx=\"74\" cy=\"20\" r=\"7.0\" style=\"fill:gray;stroke:black;stroke-width:1.0\"/>\n",
       "<circle cx=\"373\" cy=\"186\" r=\"7.0\" style=\"fill:gray;stroke:black;stroke-width:1.0\"/>\n",
       "<circle cx=\"259\" cy=\"320\" r=\"7.0\" style=\"fill:gray;stroke:black;stroke-width:1.0\"/>\n",
       "<circle cx=\"20\" cy=\"181\" r=\"7.0\" style=\"fill:gray;stroke:black;stroke-width:1.0\"/>\n",
       "<circle cx=\"420\" cy=\"78\" r=\"7.0\" style=\"fill:gray;stroke:black;stroke-width:1.0\"/>\n",
       "<text text-anchor=\"start\" x=\"84\" y=\"20\" font-size=\"12\">Austria</text><text text-anchor=\"start\" x=\"383\" y=\"186\" font-size=\"12\">History of Germany</text><text text-anchor=\"start\" x=\"269\" y=\"320\" font-size=\"12\">Benito Mussolini</text><text text-anchor=\"start\" x=\"30\" y=\"181\" font-size=\"12\">Nazi Germany</text><text text-anchor=\"start\" x=\"430\" y=\"78\" font-size=\"12\">History of Austria</text></svg>"
      ],
      "text/plain": [
       "<IPython.core.display.SVG object>"
      ]
     },
     "execution_count": 347,
     "metadata": {},
     "output_type": "execute_result"
    }
   ],
   "source": [
    "# First graph\n",
    "objs = np.array([777, 4078, 1010, 6298, 4063])\n",
    "attrs = np.array([103, 14319])\n",
    "\n",
    "print(sorted_names_col[attrs])\n",
    "\n",
    "image_adj = adjacency[objs, :][:, objs]\n",
    "if image_adj.nnz == 0:\n",
    "    image_adj += sparse.diags(np.ones(len(objs)))\n",
    "image = svg_graph(image_adj, names=names[objs])\n",
    "\n",
    "SVG(image)"
   ]
  },
  {
   "cell_type": "markdown",
   "id": "b424e57a-56a8-44e0-ab2a-6f8251f4e94b",
   "metadata": {},
   "source": [
    "**Random result**"
   ]
  },
  {
   "cell_type": "code",
   "execution_count": 387,
   "id": "2694bd7d-c814-4b56-944f-453bc0100131",
   "metadata": {},
   "outputs": [
    {
     "name": "stdout",
     "output_type": "stream",
     "text": [
      "[7745 8098 7500 5360 9427] [ 4458 15323 17130 17803 18016]\n",
      "['Laureus' 'medal' 'gold' 'final' 'title']\n"
     ]
    },
    {
     "data": {
      "image/svg+xml": [
       "<svg xmlns=\"http://www.w3.org/2000/svg\" width=\"620.0\" height=\"340\">\n",
       "<defs><marker id=\"arrow-gray\" markerWidth=\"10\" markerHeight=\"10\" refX=\"9\" refY=\"3\" orient=\"auto\">\n",
       "<path d=\"M0,0 L0,6 L9,3 z\" fill=\"gray\"/></marker></defs>\n",
       "<path stroke-width=\"1\" stroke=\"gray\" d=\"M 152 246 414 319\" marker-end=\"url(#arrow-gray)\"/>\n",
       "<path stroke-width=\"1\" stroke=\"gray\" d=\"M 20 65 148 241\" marker-end=\"url(#arrow-gray)\"/>\n",
       "<path stroke-width=\"1\" stroke=\"gray\" d=\"M 240 20 26 64\" marker-end=\"url(#arrow-gray)\"/>\n",
       "<path stroke-width=\"1\" stroke=\"gray\" d=\"M 240 20 330 137\" marker-end=\"url(#arrow-gray)\"/>\n",
       "<path stroke-width=\"1\" stroke=\"gray\" d=\"M 240 20 154 240\" marker-end=\"url(#arrow-gray)\"/>\n",
       "<path stroke-width=\"1\" stroke=\"gray\" d=\"M 334 142 26 66\" marker-end=\"url(#arrow-gray)\"/>\n",
       "<path stroke-width=\"1\" stroke=\"gray\" d=\"M 334 142 244 25\" marker-end=\"url(#arrow-gray)\"/>\n",
       "<path stroke-width=\"1\" stroke=\"gray\" d=\"M 20 65 328 141\" marker-end=\"url(#arrow-gray)\"/>\n",
       "<path stroke-width=\"1\" stroke=\"gray\" d=\"M 334 142 417 314\" marker-end=\"url(#arrow-gray)\"/>\n",
       "<path stroke-width=\"1\" stroke=\"gray\" d=\"M 420 320 243 26\" marker-end=\"url(#arrow-gray)\"/>\n",
       "<path stroke-width=\"1\" stroke=\"gray\" d=\"M 420 320 337 148\" marker-end=\"url(#arrow-gray)\"/>\n",
       "<path stroke-width=\"1\" stroke=\"gray\" d=\"M 420 320 158 247\" marker-end=\"url(#arrow-gray)\"/>\n",
       "<path stroke-width=\"1\" stroke=\"gray\" d=\"M 152 246 24 70\" marker-end=\"url(#arrow-gray)\"/>\n",
       "<path stroke-width=\"1\" stroke=\"gray\" d=\"M 152 246 238 26\" marker-end=\"url(#arrow-gray)\"/>\n",
       "<path stroke-width=\"1\" stroke=\"gray\" d=\"M 152 246 328 145\" marker-end=\"url(#arrow-gray)\"/>\n",
       "<path stroke-width=\"1\" stroke=\"gray\" d=\"M 334 142 158 243\" marker-end=\"url(#arrow-gray)\"/>\n",
       "<path stroke-width=\"1\" stroke=\"gray\" d=\"M 20 65 234 21\" marker-end=\"url(#arrow-gray)\"/>\n",
       "<circle cx=\"152\" cy=\"246\" r=\"7.0\" style=\"fill:gray;stroke:black;stroke-width:1.0\"/>\n",
       "<circle cx=\"420\" cy=\"320\" r=\"7.0\" style=\"fill:gray;stroke:black;stroke-width:1.0\"/>\n",
       "<circle cx=\"334\" cy=\"142\" r=\"7.0\" style=\"fill:gray;stroke:black;stroke-width:1.0\"/>\n",
       "<circle cx=\"240\" cy=\"20\" r=\"7.0\" style=\"fill:gray;stroke:black;stroke-width:1.0\"/>\n",
       "<circle cx=\"20\" cy=\"65\" r=\"7.0\" style=\"fill:gray;stroke:black;stroke-width:1.0\"/>\n",
       "<text text-anchor=\"start\" x=\"162\" y=\"246\" font-size=\"12\">Roger Federer</text><text text-anchor=\"start\" x=\"430\" y=\"320\" font-size=\"12\">Serena Williams</text><text text-anchor=\"start\" x=\"344\" y=\"142\" font-size=\"12\">Rafael Nadal</text><text text-anchor=\"start\" x=\"250\" y=\"20\" font-size=\"12\">Lionel Messi</text><text text-anchor=\"start\" x=\"30\" y=\"65\" font-size=\"12\">Usain Bolt</text></svg>"
      ],
      "text/plain": [
       "<IPython.core.display.SVG object>"
      ]
     },
     "execution_count": 387,
     "metadata": {},
     "output_type": "execute_result"
    }
   ],
   "source": [
    "rand_idx = np.random.choice(len(result), 1)\n",
    "concept = result[rand_idx[0]]\n",
    "objs, attrs = concept\n",
    "\n",
    "print(objs, attrs)\n",
    "print(sorted_names_col[attrs])\n",
    "\n",
    "image_adj = adjacency[objs, :][:, objs]\n",
    "if image_adj.nnz == 0:\n",
    "    image_adj += sparse.diags(np.ones(len(objs)))\n",
    "image = svg_graph(image_adj, names=names[objs])\n",
    "\n",
    "SVG(image)"
   ]
  },
  {
   "cell_type": "code",
   "execution_count": 388,
   "id": "b8a7a419-2e78-4226-b5d3-c2dcb676c697",
   "metadata": {},
   "outputs": [
    {
     "data": {
      "text/plain": [
       "{7500: 'Rafael Nadal'}"
      ]
     },
     "execution_count": 388,
     "metadata": {},
     "output_type": "execute_result"
    }
   ],
   "source": [
    "{i: n for i, n in enumerate(names) if 'Rafael Nadal' in n}"
   ]
  },
  {
   "cell_type": "code",
   "execution_count": 401,
   "id": "4f9477b2-a66c-44c9-a642-61489a5606f4",
   "metadata": {},
   "outputs": [
    {
     "name": "stdout",
     "output_type": "stream",
     "text": [
      "                                 [] - [    0     1     2 ... 10008 10009 10010]\n",
      "                        [3983 8801] - [7745 8578 5700 8740 7500 8914 5652]\n",
      "                   [3983 7224 8801] - [7745 8578 8740 7500 8914 5652]\n",
      "          [ 4458 15323 17130 18107] - [7745 8098 7500 5360 6224 2675 9427]\n",
      "                [ 4458 15323 15536] - [8098 7500 5360 6224 2675 9427]\n",
      "          [ 4458 15323 15536 15796] - [8098 7500 5360 2675 9427]\n",
      "          [ 4458 15323 15796 17130] - [7745 8098 7500 5360 2675 9427]\n",
      "          [ 4458 15323 15796 16007] - [7745 8098 7500 5360 9427]\n",
      "                [ 4458 15323 16007] - [7745 8098 7500 5360 9427]\n",
      "    [ 4458 15323 17130 17803 18107] - [7745 8098 7500 5360 2675 9427]\n",
      "    [ 4458 15323 17130 17803 18016] - [7745 8098 7500 5360 9427]\n",
      "          [ 4458 15323 17130 18004] - [7745 8098 7500 5360 6224]\n"
     ]
    }
   ],
   "source": [
    "for c in result:\n",
    "    if 7500 in c[0]:\n",
    "        print(f'{str(c[1]):>35} - {str(c[0])}')"
   ]
  },
  {
   "cell_type": "code",
   "execution_count": 409,
   "id": "10f85a4e-8836-483d-8f5f-e0f2da8373ae",
   "metadata": {},
   "outputs": [
    {
     "name": "stdout",
     "output_type": "stream",
     "text": [
      "[]                                      \n",
      "['Wimbledon' 'Slam']                    \n",
      "['Wimbledon' 'Tennis' 'Slam']           \n",
      "['Laureus' 'medal' 'gold' 'win']        \n",
      "['Laureus' 'medal' 'olympic']           \n",
      "['Laureus' 'medal' 'olympic' 'consecutive']\n",
      "['Laureus' 'medal' 'consecutive' 'gold']\n",
      "['Laureus' 'medal' 'consecutive' 'Year']\n",
      "['Laureus' 'medal' 'Year']              \n",
      "['Laureus' 'medal' 'gold' 'final' 'win']\n",
      "['Laureus' 'medal' 'gold' 'final' 'title']\n",
      "['Laureus' 'medal' 'gold' 'career']     \n"
     ]
    }
   ],
   "source": [
    "for c in result:\n",
    "    if 7500 in c[0]:\n",
    "        print(f'{str(sorted_names_col[c[1]]):<40}')#' - {names[c[0]]}')"
   ]
  },
  {
   "cell_type": "code",
   "execution_count": 414,
   "id": "c6828849-cd21-4d60-af25-314121607bf5",
   "metadata": {},
   "outputs": [
    {
     "name": "stdout",
     "output_type": "stream",
     "text": [
      "['Laureus' 'medal' 'Year']\n"
     ]
    },
    {
     "data": {
      "image/svg+xml": [
       "<svg xmlns=\"http://www.w3.org/2000/svg\" width=\"560.0\" height=\"340\">\n",
       "<defs><marker id=\"arrow-gray\" markerWidth=\"10\" markerHeight=\"10\" refX=\"9\" refY=\"3\" orient=\"auto\">\n",
       "<path d=\"M0,0 L0,6 L9,3 z\" fill=\"gray\"/></marker></defs>\n",
       "<path stroke-width=\"1\" stroke=\"gray\" d=\"M 114 130 23 314\" marker-end=\"url(#arrow-gray)\"/>\n",
       "<path stroke-width=\"1\" stroke=\"gray\" d=\"M 420 98 120 130\" marker-end=\"url(#arrow-gray)\"/>\n",
       "<path stroke-width=\"1\" stroke=\"gray\" d=\"M 234 20 414 96\" marker-end=\"url(#arrow-gray)\"/>\n",
       "<path stroke-width=\"1\" stroke=\"gray\" d=\"M 234 20 268 259\" marker-end=\"url(#arrow-gray)\"/>\n",
       "<path stroke-width=\"1\" stroke=\"gray\" d=\"M 234 20 119 126\" marker-end=\"url(#arrow-gray)\"/>\n",
       "<path stroke-width=\"1\" stroke=\"gray\" d=\"M 268 265 416 103\" marker-end=\"url(#arrow-gray)\"/>\n",
       "<path stroke-width=\"1\" stroke=\"gray\" d=\"M 268 265 234 26\" marker-end=\"url(#arrow-gray)\"/>\n",
       "<path stroke-width=\"1\" stroke=\"gray\" d=\"M 420 98 272 260\" marker-end=\"url(#arrow-gray)\"/>\n",
       "<path stroke-width=\"1\" stroke=\"gray\" d=\"M 268 265 26 319\" marker-end=\"url(#arrow-gray)\"/>\n",
       "<path stroke-width=\"1\" stroke=\"gray\" d=\"M 20 320 230 25\" marker-end=\"url(#arrow-gray)\"/>\n",
       "<path stroke-width=\"1\" stroke=\"gray\" d=\"M 20 320 262 266\" marker-end=\"url(#arrow-gray)\"/>\n",
       "<path stroke-width=\"1\" stroke=\"gray\" d=\"M 20 320 111 136\" marker-end=\"url(#arrow-gray)\"/>\n",
       "<path stroke-width=\"1\" stroke=\"gray\" d=\"M 114 130 414 98\" marker-end=\"url(#arrow-gray)\"/>\n",
       "<path stroke-width=\"1\" stroke=\"gray\" d=\"M 114 130 229 24\" marker-end=\"url(#arrow-gray)\"/>\n",
       "<path stroke-width=\"1\" stroke=\"gray\" d=\"M 114 130 263 261\" marker-end=\"url(#arrow-gray)\"/>\n",
       "<path stroke-width=\"1\" stroke=\"gray\" d=\"M 268 265 119 134\" marker-end=\"url(#arrow-gray)\"/>\n",
       "<path stroke-width=\"1\" stroke=\"gray\" d=\"M 420 98 240 22\" marker-end=\"url(#arrow-gray)\"/>\n",
       "<circle cx=\"114\" cy=\"130\" r=\"7.0\" style=\"fill:gray;stroke:black;stroke-width:1.0\"/>\n",
       "<circle cx=\"20\" cy=\"320\" r=\"7.0\" style=\"fill:gray;stroke:black;stroke-width:1.0\"/>\n",
       "<circle cx=\"268\" cy=\"265\" r=\"7.0\" style=\"fill:gray;stroke:black;stroke-width:1.0\"/>\n",
       "<circle cx=\"234\" cy=\"20\" r=\"7.0\" style=\"fill:gray;stroke:black;stroke-width:1.0\"/>\n",
       "<circle cx=\"420\" cy=\"98\" r=\"7.0\" style=\"fill:gray;stroke:black;stroke-width:1.0\"/>\n",
       "<text text-anchor=\"start\" x=\"124\" y=\"130\" font-size=\"12\">Roger Federer</text><text text-anchor=\"start\" x=\"30\" y=\"320\" font-size=\"12\">Serena Williams</text><text text-anchor=\"start\" x=\"278\" y=\"265\" font-size=\"12\">Rafael Nadal</text><text text-anchor=\"start\" x=\"244\" y=\"20\" font-size=\"12\">Lionel Messi</text><text text-anchor=\"start\" x=\"430\" y=\"98\" font-size=\"12\">Usain Bolt</text></svg>"
      ],
      "text/plain": [
       "<IPython.core.display.SVG object>"
      ]
     },
     "execution_count": 414,
     "metadata": {},
     "output_type": "execute_result"
    }
   ],
   "source": [
    "objs = np.array([7745, 8098, 7500, 5360, 9427])\n",
    "attrs = np.array([4458, 15323, 16007])\n",
    "\n",
    "print(sorted_names_col[attrs])\n",
    "\n",
    "image_adj = adjacency[objs, :][:, objs]\n",
    "if image_adj.nnz == 0:\n",
    "    image_adj += sparse.diags(np.ones(len(objs)))\n",
    "image = svg_graph(image_adj, names=names[objs])\n",
    "\n",
    "SVG(image)"
   ]
  },
  {
   "cell_type": "code",
   "execution_count": 411,
   "id": "0110df60-1638-4461-bb31-c16cc2fb5edf",
   "metadata": {},
   "outputs": [
    {
     "name": "stdout",
     "output_type": "stream",
     "text": [
      "['Wimbledon' 'Slam']\n"
     ]
    },
    {
     "data": {
      "image/svg+xml": [
       "<svg xmlns=\"http://www.w3.org/2000/svg\" width=\"620.0\" height=\"340\">\n",
       "<defs><marker id=\"arrow-gray\" markerWidth=\"10\" markerHeight=\"10\" refX=\"9\" refY=\"3\" orient=\"auto\">\n",
       "<path d=\"M0,0 L0,6 L9,3 z\" fill=\"gray\"/></marker></defs>\n",
       "<path stroke-width=\"1\" stroke=\"gray\" d=\"M 140 20 321 89\" marker-end=\"url(#arrow-gray)\"/>\n",
       "<path stroke-width=\"1\" stroke=\"gray\" d=\"M 420 320 252 174\" marker-end=\"url(#arrow-gray)\"/>\n",
       "<path stroke-width=\"1\" stroke=\"gray\" d=\"M 20 125 135 24\" marker-end=\"url(#arrow-gray)\"/>\n",
       "<path stroke-width=\"1\" stroke=\"gray\" d=\"M 20 125 321 91\" marker-end=\"url(#arrow-gray)\"/>\n",
       "<path stroke-width=\"1\" stroke=\"gray\" d=\"M 20 125 105 250\" marker-end=\"url(#arrow-gray)\"/>\n",
       "<path stroke-width=\"1\" stroke=\"gray\" d=\"M 20 125 219 300\" marker-end=\"url(#arrow-gray)\"/>\n",
       "<path stroke-width=\"1\" stroke=\"gray\" d=\"M 20 125 241 169\" marker-end=\"url(#arrow-gray)\"/>\n",
       "<path stroke-width=\"1\" stroke=\"gray\" d=\"M 224 304 141 26\" marker-end=\"url(#arrow-gray)\"/>\n",
       "<path stroke-width=\"1\" stroke=\"gray\" d=\"M 224 304 324 97\" marker-end=\"url(#arrow-gray)\"/>\n",
       "<path stroke-width=\"1\" stroke=\"gray\" d=\"M 224 304 114 257\" marker-end=\"url(#arrow-gray)\"/>\n",
       "<path stroke-width=\"1\" stroke=\"gray\" d=\"M 224 304 414 320\" marker-end=\"url(#arrow-gray)\"/>\n",
       "<path stroke-width=\"1\" stroke=\"gray\" d=\"M 224 304 25 129\" marker-end=\"url(#arrow-gray)\"/>\n",
       "<path stroke-width=\"1\" stroke=\"gray\" d=\"M 224 304 246 176\" marker-end=\"url(#arrow-gray)\"/>\n",
       "<path stroke-width=\"1\" stroke=\"gray\" d=\"M 247 170 144 25\" marker-end=\"url(#arrow-gray)\"/>\n",
       "<path stroke-width=\"1\" stroke=\"gray\" d=\"M 247 170 323 95\" marker-end=\"url(#arrow-gray)\"/>\n",
       "<path stroke-width=\"1\" stroke=\"gray\" d=\"M 247 170 113 252\" marker-end=\"url(#arrow-gray)\"/>\n",
       "<path stroke-width=\"1\" stroke=\"gray\" d=\"M 420 320 230 304\" marker-end=\"url(#arrow-gray)\"/>\n",
       "<path stroke-width=\"1\" stroke=\"gray\" d=\"M 247 170 415 316\" marker-end=\"url(#arrow-gray)\"/>\n",
       "<path stroke-width=\"1\" stroke=\"gray\" d=\"M 420 320 114 256\" marker-end=\"url(#arrow-gray)\"/>\n",
       "<path stroke-width=\"1\" stroke=\"gray\" d=\"M 108 255 242 173\" marker-end=\"url(#arrow-gray)\"/>\n",
       "<path stroke-width=\"1\" stroke=\"gray\" d=\"M 140 20 108 249\" marker-end=\"url(#arrow-gray)\"/>\n",
       "<path stroke-width=\"1\" stroke=\"gray\" d=\"M 140 20 25 121\" marker-end=\"url(#arrow-gray)\"/>\n",
       "<path stroke-width=\"1\" stroke=\"gray\" d=\"M 140 20 223 298\" marker-end=\"url(#arrow-gray)\"/>\n",
       "<path stroke-width=\"1\" stroke=\"gray\" d=\"M 140 20 243 165\" marker-end=\"url(#arrow-gray)\"/>\n",
       "<path stroke-width=\"1\" stroke=\"gray\" d=\"M 327 91 146 22\" marker-end=\"url(#arrow-gray)\"/>\n",
       "<path stroke-width=\"1\" stroke=\"gray\" d=\"M 327 91 113 251\" marker-end=\"url(#arrow-gray)\"/>\n",
       "<path stroke-width=\"1\" stroke=\"gray\" d=\"M 327 91 418 314\" marker-end=\"url(#arrow-gray)\"/>\n",
       "<path stroke-width=\"1\" stroke=\"gray\" d=\"M 327 91 26 125\" marker-end=\"url(#arrow-gray)\"/>\n",
       "<path stroke-width=\"1\" stroke=\"gray\" d=\"M 327 91 227 298\" marker-end=\"url(#arrow-gray)\"/>\n",
       "<path stroke-width=\"1\" stroke=\"gray\" d=\"M 327 91 251 166\" marker-end=\"url(#arrow-gray)\"/>\n",
       "<path stroke-width=\"1\" stroke=\"gray\" d=\"M 108 255 140 26\" marker-end=\"url(#arrow-gray)\"/>\n",
       "<path stroke-width=\"1\" stroke=\"gray\" d=\"M 108 255 322 95\" marker-end=\"url(#arrow-gray)\"/>\n",
       "<path stroke-width=\"1\" stroke=\"gray\" d=\"M 108 255 414 319\" marker-end=\"url(#arrow-gray)\"/>\n",
       "<path stroke-width=\"1\" stroke=\"gray\" d=\"M 108 255 23 130\" marker-end=\"url(#arrow-gray)\"/>\n",
       "<path stroke-width=\"1\" stroke=\"gray\" d=\"M 108 255 218 302\" marker-end=\"url(#arrow-gray)\"/>\n",
       "<path stroke-width=\"1\" stroke=\"gray\" d=\"M 420 320 329 97\" marker-end=\"url(#arrow-gray)\"/>\n",
       "<path stroke-width=\"1\" stroke=\"gray\" d=\"M 247 170 26 126\" marker-end=\"url(#arrow-gray)\"/>\n",
       "<circle cx=\"140\" cy=\"20\" r=\"7.0\" style=\"fill:gray;stroke:black;stroke-width:1.0\"/>\n",
       "<circle cx=\"327\" cy=\"91\" r=\"7.0\" style=\"fill:gray;stroke:black;stroke-width:1.0\"/>\n",
       "<circle cx=\"108\" cy=\"255\" r=\"7.0\" style=\"fill:gray;stroke:black;stroke-width:1.0\"/>\n",
       "<circle cx=\"420\" cy=\"320\" r=\"7.0\" style=\"fill:gray;stroke:black;stroke-width:1.0\"/>\n",
       "<circle cx=\"20\" cy=\"125\" r=\"7.0\" style=\"fill:gray;stroke:black;stroke-width:1.0\"/>\n",
       "<circle cx=\"224\" cy=\"304\" r=\"7.0\" style=\"fill:gray;stroke:black;stroke-width:1.0\"/>\n",
       "<circle cx=\"247\" cy=\"170\" r=\"7.0\" style=\"fill:gray;stroke:black;stroke-width:1.0\"/>\n",
       "<text text-anchor=\"start\" x=\"150\" y=\"20\" font-size=\"12\">Roger Federer</text><text text-anchor=\"start\" x=\"337\" y=\"91\" font-size=\"12\">Steffi Graf</text><text text-anchor=\"start\" x=\"118\" y=\"255\" font-size=\"12\">Martina Navratilova</text><text text-anchor=\"start\" x=\"430\" y=\"320\" font-size=\"12\">Suzanne Lenglen</text><text text-anchor=\"start\" x=\"30\" y=\"125\" font-size=\"12\">Rafael Nadal</text><text text-anchor=\"start\" x=\"234\" y=\"304\" font-size=\"12\">Tennis</text><text text-anchor=\"start\" x=\"257\" y=\"170\" font-size=\"12\">Margaret Court</text></svg>"
      ],
      "text/plain": [
       "<IPython.core.display.SVG object>"
      ]
     },
     "execution_count": 411,
     "metadata": {},
     "output_type": "execute_result"
    }
   ],
   "source": [
    "objs = np.array([7745, 8578, 5700, 8740, 7500, 8914, 5652])\n",
    "attrs = np.array([3983, 8801])\n",
    "\n",
    "print(sorted_names_col[attrs])\n",
    "\n",
    "image_adj = adjacency[objs, :][:, objs]\n",
    "if image_adj.nnz == 0:\n",
    "    image_adj += sparse.diags(np.ones(len(objs)))\n",
    "image = svg_graph(image_adj, names=names[objs])\n",
    "\n",
    "SVG(image)"
   ]
  },
  {
   "cell_type": "markdown",
   "id": "2b36a148-eb54-4775-92ba-65b0ba145062",
   "metadata": {},
   "source": [
    "## Quantitative analysis"
   ]
  },
  {
   "cell_type": "markdown",
   "id": "d6104955-a661-47e8-bb7a-f167673e7fcf",
   "metadata": {},
   "source": [
    "### Number of concepts per object"
   ]
  },
  {
   "cell_type": "code",
   "execution_count": 418,
   "id": "a68de4aa-d612-46b0-ba97-e0a50149fe11",
   "metadata": {},
   "outputs": [
    {
     "data": {
      "image/png": "[encoded data removed]",
      "text/plain": [
       "<Figure size 864x504 with 1 Axes>"
      ]
     },
     "metadata": {
      "needs_background": "light"
     },
     "output_type": "display_data"
    }
   ],
   "source": [
    "object_concepts = np.zeros(adjacency.shape[0])\n",
    "\n",
    "for i in range(adjacency.shape[0]):\n",
    "    for c in result:\n",
    "        if i in c[0]:\n",
    "            object_concepts[i] += 1\n",
    "            \n",
    "fig, ax = plt.subplots(1, 1, figsize=(12, 7))\n",
    "plot_distrib(object_concepts, ax=ax, label='# concepts/object', xlabel='# concepts')"
   ]
  },
  {
   "cell_type": "markdown",
   "id": "e30ffe27-8a6d-4f23-acbd-929b1c5631e8",
   "metadata": {},
   "source": [
    "The majority of objects appear in only 1 concept, but a few objects appear in more than 10 concepts."
   ]
  },
  {
   "cell_type": "code",
   "execution_count": 432,
   "id": "0e7379eb-420c-48e6-aec6-85aaed7b95da",
   "metadata": {},
   "outputs": [
    {
     "name": "stdout",
     "output_type": "stream",
     "text": [
      "Article:  Kareem Abdul-Jabbar - # of related concepts: 28.0\n",
      "Article:         Lionel Messi - # of related concepts: 26.0\n",
      "Article:        Magic Johnson - # of related concepts: 25.0\n",
      "Article:     Wilt Chamberlain - # of related concepts: 24.0\n",
      "Article:       Michael Jordan - # of related concepts: 23.0\n",
      "Article:              Eusébio - # of related concepts: 18.0\n",
      "Article:         LeBron James - # of related concepts: 17.0\n",
      "Article:    Cristiano Ronaldo - # of related concepts: 17.0\n",
      "Article:   Alfredo Di Stéfano - # of related concepts: 17.0\n",
      "Article:        Elvis Presley - # of related concepts: 16.0\n"
     ]
    }
   ],
   "source": [
    "# Objects that appear in lots of concepts\n",
    "for i in np.argsort(-object_concepts)[:10]:\n",
    "    print(f'Article: {(names[i]):>20} - # of related concepts: {object_concepts[i]}')"
   ]
  },
  {
   "cell_type": "markdown",
   "id": "4508f83c-dbd8-4b21-8707-71af109657d7",
   "metadata": {},
   "source": [
    "##### Annexes\n",
    "---"
   ]
  },
  {
   "cell_type": "code",
   "execution_count": null,
   "id": "17b1b9a4-6994-48db-9cd6-c73fd10d715f",
   "metadata": {},
   "outputs": [],
   "source": [
    "def build_random_graph(n, p):\n",
    "    edges = []\n",
    "    lp = np.log(1 - p)\n",
    "    v = 1\n",
    "    w = -1\n",
    "    while v < n:\n",
    "        lr = np.log(1 - random())\n",
    "        w = w + 1 + int(lr / lp)\n",
    "        while w >= v and v < n:\n",
    "            w = w - v\n",
    "            v = v + 1\n",
    "        if v < n:\n",
    "            edges.append((w, v))\n",
    "    \n",
    "    v = 1\n",
    "    w = -1   \n",
    "    while v < n:\n",
    "        lr = np.log(1 - random())\n",
    "        w = w + 1 + int(lr / lp)\n",
    "        while w >= v and v < n:\n",
    "            w = w - v\n",
    "            v = v + 1\n",
    "        if v < n:\n",
    "            edges.append((v, w))\n",
    "    try:\n",
    "        g = from_edge_list(edges, directed=True, matrix_only=True)\n",
    "    except ValueError:\n",
    "        return None\n",
    "\n",
    "    return g"
   ]
  }
 ],
 "metadata": {
  "kernelspec": {
   "display_name": "COMEG",
   "language": "python",
   "name": "comeg"
  },
  "language_info": {
   "codemirror_mode": {
    "name": "ipython",
    "version": 3
   },
   "file_extension": ".py",
   "mimetype": "text/x-python",
   "name": "python",
   "nbconvert_exporter": "python",
   "pygments_lexer": "ipython3",
   "version": "3.9.13"
  }
 },
 "nbformat": 4,
 "nbformat_minor": 5
}
