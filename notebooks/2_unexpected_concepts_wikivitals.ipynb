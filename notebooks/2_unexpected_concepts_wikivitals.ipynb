{
 "cells": [
  {
   "cell_type": "markdown",
   "id": "4f5a67d5-345c-4082-a5b3-0b83ad8ca410",
   "metadata": {},
   "source": [
    "# Mining Unexpected Concepts\n",
    "---\n",
    "Wikivitals"
   ]
  },
  {
   "cell_type": "markdown",
   "id": "2cd8194a-e301-4515-ad6d-42c07d453b7a",
   "metadata": {},
   "source": [
    "**Libraries**"
   ]
  },
  {
   "cell_type": "code",
   "execution_count": 1,
   "id": "04789468-7dd5-4b95-ac2b-3b980acd152c",
   "metadata": {},
   "outputs": [],
   "source": [
    "from collections import defaultdict\n",
    "from contextlib import redirect_stdout\n",
    "from IPython.display import SVG\n",
    "import matplotlib.pyplot as plt\n",
    "import numpy as np\n",
    "import pickle\n",
    "from random import random\n",
    "import seaborn as sns\n",
    "from scipy import sparse, special\n",
    "\n",
    "from sknetwork.data import load_netset, from_edge_list\n",
    "from sknetwork.utils import get_degrees, get_membership, get_neighbors\n",
    "from sknetwork.ranking import top_k\n",
    "from sknetwork.topology import Triangles, Cliques\n",
    "from sknetwork.visualization import svg_graph"
   ]
  },
  {
   "cell_type": "markdown",
   "id": "9a1eb4ec-9ac8-4507-9bcb-fdecf2ab4953",
   "metadata": {},
   "source": [
    "## Data"
   ]
  },
  {
   "cell_type": "code",
   "execution_count": 2,
   "id": "9b24942c-8435-44a5-9403-290d044647b8",
   "metadata": {},
   "outputs": [
    {
     "name": "stdout",
     "output_type": "stream",
     "text": [
      "Parsing files...\n",
      "Done.\n"
     ]
    }
   ],
   "source": [
    "wikivitals = load_netset('wikivitals')"
   ]
  },
  {
   "cell_type": "code",
   "execution_count": 3,
   "id": "18d643b4-85e9-47ee-acfc-4789f1a623af",
   "metadata": {},
   "outputs": [],
   "source": [
    "adjacency = wikivitals.adjacency\n",
    "biadjacency = wikivitals.biadjacency\n",
    "names = wikivitals.names\n",
    "words = wikivitals.names_col\n",
    "labels = wikivitals.labels"
   ]
  },
  {
   "cell_type": "code",
   "execution_count": 4,
   "id": "ae4b1d2e-8f73-4233-b1e4-3f1770c157fc",
   "metadata": {},
   "outputs": [
    {
     "data": {
      "text/plain": [
       "array(['0', '1', '100 metres', ..., 'Łódź', 'Śāriputra', '−1'],\n",
       "      dtype='<U62')"
      ]
     },
     "execution_count": 4,
     "metadata": {},
     "output_type": "execute_result"
    }
   ],
   "source": [
    "names"
   ]
  },
  {
   "cell_type": "code",
   "execution_count": 5,
   "id": "b0285187-17fd-4d9a-9791-42e44a94958f",
   "metadata": {},
   "outputs": [
    {
     "data": {
      "text/plain": [
       "array(['Alexis', 'Cairo', 'subordinate', 'marching', 'bengali', 'Adal',\n",
       "       'pulvinus', 'Gallia', 'Harris', 'Toshiro'], dtype='<U26')"
      ]
     },
     "execution_count": 5,
     "metadata": {},
     "output_type": "execute_result"
    }
   ],
   "source": [
    "words[:10]"
   ]
  },
  {
   "cell_type": "markdown",
   "id": "306c944b-b7b8-4844-ae25-2e87972d05d2",
   "metadata": {
    "tags": []
   },
   "source": [
    "## Algorithm"
   ]
  },
  {
   "cell_type": "code",
   "execution_count": 160,
   "id": "c3010d53-b071-41f5-a0a3-e042a6b7c651",
   "metadata": {},
   "outputs": [],
   "source": [
    "def mdl_graph(adjacency):\n",
    "    n = adjacency.shape[0]\n",
    "\n",
    "    # density\n",
    "    #d = np.sum(adjacency) / (n * (n - 1))\n",
    "    \n",
    "    # nodes\n",
    "    nodes_mdl = np.log2(n)\n",
    "    \n",
    "    # edges\n",
    "    degrees = adjacency.dot(np.ones(n))\n",
    "    max_degree = np.max(degrees)\n",
    "    edges_mdl = (n + 1) * np.log2(max_degree + 1) + np.sum([np.log2(special.comb(n, deg)) for deg in degrees])\n",
    "\n",
    "    return (nodes_mdl + edges_mdl)\n",
    "\n",
    "def entropy(prob):\n",
    "    return prob * -np.log2(prob)\n",
    "\n",
    "def desc_complexity(attrs):\n",
    "    if isinstance(attrs, int):\n",
    "        attrs = [attrs]\n",
    "    prob = 1\n",
    "    for attr in attrs:\n",
    "        prob *= degrees[attr] / np.sum(degrees)\n",
    "    entr = entropy(prob)\n",
    "    return generation_complexity(biadjacency.shape[1], len(attrs)) * entr"
   ]
  },
  {
   "cell_type": "code",
   "execution_count": 173,
   "id": "b0c0cb64-4997-466a-88dd-4be23a18eb2e",
   "metadata": {},
   "outputs": [],
   "source": [
    "def in_close(adjacency, context, extents, intents, unexs, unexs_g, r, y, degs, gain, verbose):\n",
    "    \n",
    "    support_obj = 10\n",
    "    support_attr = 15\n",
    "    delta = 10\n",
    "    \n",
    "    global gain_unex\n",
    "    # --------------------\n",
    "    \n",
    "    global r_new\n",
    "    r_new = r_new + 1\n",
    "    attributes = np.arange(0, context.shape[1])\n",
    "    \n",
    "    for n_iter, j in enumerate(attributes[y:]):\n",
    "        \n",
    "        try:\n",
    "            extents[r_new] = []\n",
    "            unexs[r_new] = 0\n",
    "            unexs_g[r_new] = 0\n",
    "        except IndexError:\n",
    "            extents.append([])\n",
    "            unexs.append(0)\n",
    "            unexs_g.append(0)\n",
    "          \n",
    "        # Form a new extent by adding extension of attribute j to current concept extent\n",
    "        extension_j = get_neighbors(context, node=j, transpose=True)\n",
    "        new_extent = np.array(list(set(extents[r]).intersection(set(extension_j))))\n",
    "        extents[r_new] = new_extent\n",
    "        new_extent_size = len(new_extent)\n",
    "        \n",
    "        if new_extent_size >= support_obj:\n",
    "            if verbose:\n",
    "                print(f'n_iter:{n_iter} - extents: {extents[r]} - intents: {intents[r]}')\n",
    "                print(f'  Candidate attr: {j} {sorted_names_col[j]}')\n",
    "                print(f'  new extent: {new_extent}')\n",
    "                \n",
    "            #if new_extent_size < len(extents[r]):\n",
    "            # Graph unexpectedness\n",
    "            g_r_new = adjacency[new_extent][:, new_extent]\n",
    "            complexity_desc_g = mdl_graph(g_r_new)\n",
    "            complexity_gen_g = np.mean(complexity_gen_graphs.get(new_extent_size))\n",
    "            unex_g = complexity_gen_g - complexity_desc_g\n",
    "            unexs_g.append(unex_g)\n",
    "            if verbose:\n",
    "                print(f'  U(G)={unex_g} (cw={complexity_gen_g} - c={complexity_desc_g})')\n",
    "            \n",
    "            new_intent = np.array(list(sorted(set(intents[r]).union(set([j])))))\n",
    "            new_intent_size = len(new_intent)            \n",
    "                \n",
    "            if new_intent_size <= support_attr:\n",
    "            \n",
    "                # Attributes unexpectedness\n",
    "                complexity_gen_a = np.log2(special.comb(context.shape[1], new_intent_size))\n",
    "                complexity_desc_a = 0\n",
    "                for a in new_intent:\n",
    "                    complexity_desc_a += np.log2(degs[a])\n",
    "                unex_a = complexity_gen_a - complexity_desc_a\n",
    "                if verbose:\n",
    "                    print(f'  U(A)={unex_a} (cw={complexity_gen_a} - c={complexity_desc_a})')\n",
    "\n",
    "                # Total Unexpectedness\n",
    "                unex = unex_g + unex_a\n",
    "                if verbose:\n",
    "                    print(f'  U: {unex}')\n",
    "                unexs[r_new] = unex\n",
    "\n",
    "                if verbose:\n",
    "                    print(f'  U[r_new]={unex} - U[r]={unexs[r]}  = {unex - unexs[r]}')\n",
    "\n",
    "                gain_unex.append(unex - unexs[r])\n",
    "                if verbose:\n",
    "                    print(f'  gain unex: {gain_unex}')\n",
    "                    print(f'  Gain unex diff: {np.abs(gain_unex[-2]-gain_unex[-1])}')\n",
    "                    \n",
    "                if new_extent_size == len(extents[r]):\n",
    "                    \n",
    "                    #if unex - unexs[r] > 4 and r >=0 and np.abs(gain_unex[-2]-gain_unex[-1])>1:\n",
    "                    if (len(intents[r]) == 0) or ((unex - unexs[r] > 0) and (np.abs(gain_unex[-2] - gain_unex[-1])) > delta):\n",
    "                        intents[r] = np.array(list(sorted(set(intents[r]).union(set([j])))))\n",
    "                        extents[r] = extents[r_new]\n",
    "                        unexs_g[r] = unex_g\n",
    "                        unexs[r] = unex\n",
    "                        if verbose:\n",
    "                            print(f'  Attribute {j}-{sorted_names_col[j]} added')\n",
    "                    else:\n",
    "                        if verbose:\n",
    "                            print(f'  unex - unexs[r] > 0 : {(unex - unexs[r] > 0)}')\n",
    "                            print(f'  (gain_unex[-2] - gain_unex[-1]) > delta : {(gain_unex[-2] - gain_unex[-1]) > delta}')\n",
    "                            print(f'  len(intents[r]) == 0 : {len(intents[r]) == 0}')\n",
    "                            print(f'  --> Stop branch recursion. ')\n",
    "                            print('\\n')\n",
    "                        \n",
    "                        #del gain_unex[(r_new-r):]\n",
    "                        del gain_unex[-(len(intents[r])):]\n",
    "                        \n",
    "                        return [*zip(extents, intents)]\n",
    "\n",
    "                else:\n",
    "                    #if unex - unexs[r] > 4 and r >=0 and np.abs(gain_unex[-2]-gain_unex[-1])>1:\n",
    "                    if (len(intents[r]) == 0) or (unex - unexs[r] > 0):\n",
    "\n",
    "                        try:\n",
    "                            intents[r_new] = []\n",
    "                        except IndexError:\n",
    "                            intents.append([])\n",
    "\n",
    "                        intents[r_new] = np.array(list(sorted(set(intents[r]).union(set([j])))))\n",
    "                        if verbose:\n",
    "                            print('  recursive call')\n",
    "                        in_close(adjacency, context, extents, intents, unexs, unexs_g, r=r_new, y=j+1, degs=degs, gain=gain_unex, verbose=verbose)\n",
    "                    else:\n",
    "                        if verbose:\n",
    "                            print(f'  Do not go into recursion. Try next candidate attribute. ')\n",
    "                            print()\n",
    "                        gain_unex.pop(-1)\n",
    "            else:\n",
    "                if verbose:\n",
    "                    print(f'Max number of attributes reached.')\n",
    "                    print('\\n')\n",
    "                return [*zip(extents, intents)]\n",
    "\n",
    "    if verbose:\n",
    "        print('\\n')\n",
    "        \n",
    "    del gain_unex[-(len(intents[r])):]\n",
    "    \n",
    "    return [*zip(extents, intents)]"
   ]
  },
  {
   "cell_type": "markdown",
   "id": "b32d8a33-c86e-439c-a0c1-f548c890d27a",
   "metadata": {},
   "source": [
    "## Application"
   ]
  },
  {
   "cell_type": "markdown",
   "id": "92a62a5b-c364-435b-bca0-3955d3801244",
   "metadata": {},
   "source": [
    "### Minimum Description Lengths of random graphs  \n",
    "\n",
    "Build a dictionary of MDL for random graphs with varying number of nodes and density."
   ]
  },
  {
   "cell_type": "code",
   "execution_count": 8,
   "id": "b6958c56-1376-42ec-a54e-23803b3b7890",
   "metadata": {},
   "outputs": [
    {
     "data": {
      "text/plain": [
       "0.008232692290229"
      ]
     },
     "execution_count": 8,
     "metadata": {},
     "output_type": "execute_result"
    }
   ],
   "source": [
    "# Density of initial graph\n",
    "n, m = adjacency.shape[0], adjacency.nnz\n",
    "density = (m) / (n * (n - 1))\n",
    "density"
   ]
  },
  {
   "cell_type": "code",
   "execution_count": 162,
   "id": "a36fdd1b-39c6-4aa3-acc9-8f9a34187a7e",
   "metadata": {},
   "outputs": [
    {
     "name": "stdout",
     "output_type": "stream",
     "text": [
      "CPU times: user 1min 39s, sys: 2.73 s, total: 1min 42s\n",
      "Wall time: 1min 42s\n"
     ]
    }
   ],
   "source": [
    "%%time\n",
    "complexity_gen_graphs = defaultdict(list)\n",
    "\n",
    "for num_n in range(adjacency.shape[0] + 1)[3:1000]:\n",
    "    cpt = 0\n",
    "    while cpt < 3:\n",
    "        random_g = sparse.random(num_n, num_n, density=0.5).astype(bool).tocsr()\n",
    "        if random_g is not None and random_g.shape[0] == num_n:\n",
    "            mdl = mdl_graph(random_g)\n",
    "            complexity_gen_graphs[num_n].append(mdl)\n",
    "            cpt += 1"
   ]
  },
  {
   "cell_type": "code",
   "execution_count": 163,
   "id": "a4621f37-58c6-4b3e-9630-9522ee59e77f",
   "metadata": {},
   "outputs": [],
   "source": [
    "#import pickle\n",
    "#f = open(\"complexity_gen_graphs.pkl\", \"wb\")\n",
    "#pickle.dump(complexity_gen_graphs, f)\n",
    "#f.close()"
   ]
  },
  {
   "cell_type": "code",
   "execution_count": 179,
   "id": "95719840-882b-4c4a-847b-07731b8894b1",
   "metadata": {},
   "outputs": [],
   "source": [
    "# In-close initialization\n",
    "V = np.arange(0, biadjacency.shape[0])\n",
    "extents, intents, unexs, unexs_g = [], [], [], []\n",
    "extents_init = V\n",
    "intents_init = []\n",
    "unexs.append(0)\n",
    "unexs_g.append(0)\n",
    "extents.append(extents_init)\n",
    "intents.append(intents_init)"
   ]
  },
  {
   "cell_type": "code",
   "execution_count": 180,
   "id": "7e59b0df-46d3-4234-ae79-0d81f00895fa",
   "metadata": {},
   "outputs": [],
   "source": [
    "global r_new\n",
    "r_new = 0\n",
    "global gain_unex\n",
    "gain_unex = []\n",
    "gain_unex.append(0)\n",
    "\n",
    "n_objects_min = 3\n",
    "n_objects_max = 999\n",
    "\n",
    "# Degree of attribute = # articles in which it appears\n",
    "freq_attribute = get_degrees(biadjacency.astype(bool), transpose=True)\n",
    "index = np.flatnonzero((freq_attribute <= n_objects_max) & (freq_attribute >= n_objects_min))\n",
    "\n",
    "# Filter data with index\n",
    "biadjacency = biadjacency[:, index]\n",
    "words = words[index]\n",
    "freq_attribute = freq_attribute[index]\n",
    "\n",
    "# Order attributes according to their ascending degree\n",
    "# This allows to add first attributes that will generate bigger subgraphs\n",
    "sort_index = np.argsort(freq_attribute)\n",
    "sorted_degs = freq_attribute[sort_index]\n",
    "filt_biadjacency = biadjacency[:, sort_index]\n",
    "sorted_names_col = words[sort_index]"
   ]
  },
  {
   "cell_type": "code",
   "execution_count": null,
   "id": "1d76d938-048e-4900-b96b-3909f3584bba",
   "metadata": {},
   "outputs": [],
   "source": [
    "%%time\n",
    "\n",
    "with open('logs/log_wikivitals.txt', 'w') as f:\n",
    "    with redirect_stdout(f):\n",
    "        result = in_close(adjacency, filt_biadjacency, extents, intents, unexs, unexs_g, r=0, y=0, degs=sorted_degs, gain=gain_unex, verbose=True)\n",
    "        print()"
   ]
  },
  {
   "cell_type": "code",
   "execution_count": 41,
   "id": "1c1281aa-f403-4f25-83ec-f44cb473124b",
   "metadata": {},
   "outputs": [
    {
     "name": "stdout",
     "output_type": "stream",
     "text": [
      "24\n"
     ]
    }
   ],
   "source": [
    "print(len(result))"
   ]
  },
  {
   "cell_type": "code",
   "execution_count": 42,
   "id": "ea65d10a-a524-452c-b854-343757dcc2b2",
   "metadata": {},
   "outputs": [
    {
     "name": "stdout",
     "output_type": "stream",
     "text": [
      "Attributes | Nodes\n",
      "[11]        [ 0  1  2  3  4  5  6  7  8  9 10 11 12 13 14 15 16 17 18]\n",
      "[0]         [ 3  4  6  8 17 18]\n",
      "[0 7]       [8 4 6]\n",
      "[1]         [ 6  7 10 11 12 13 15]\n",
      "[1 3]       [ 7 10 11 12 13 15]\n",
      "[1 3 5]     [11 12 13]\n",
      "[1 3 6]     [10 11 13  7]\n",
      "[1 4]       [10 11  6]\n",
      "[1 5]       [11 12 13  6]\n",
      "[1 5 6]     [11 13  6]\n",
      "[1 6]       [ 6  7 10 11 13]\n",
      "[2]         [ 0  1  2  5  6  8  9 11 17 18]\n",
      "[3]         [ 0  1  2  4  7 10 11 12 13 14 15]\n",
      "[4]         [ 0  3  4  5  6  8  9 10 11 14 16 18]\n",
      "[4 8]       [ 0  4  6  8  9 11 14 16 18]\n",
      "[5]         [ 0  1  2  6  8  9 11 12 13 14 17 18]\n",
      "[6]         [ 0  2  5  6  7  8 10 11 13 14 16 17 18]\n",
      "[6 7]       [ 0  2  6  7  8 10 11 13 14]\n",
      "[6 7 8]     [ 0  2  6  7  8 11 13 14]\n",
      "[6 8]       [ 0  2  6  7  8 11 13 14 16 17 18]\n",
      "[7]         [ 0  1  2  4  6  7  8 10 11 12 13 14 15]\n",
      "[8]         [ 0  2  4  6  7  8  9 11 12 13 14 15 16 17 18]\n",
      "[9]         [ 0  1  4  5  6  8  9 10 11 12 13 14 15 16 17 18]\n",
      "[10]        [ 0  1  2  3  4  5  6  7  8 10 11 12 13 14 15 16 17 18]\n"
     ]
    }
   ],
   "source": [
    "print(f'Attributes | Nodes')\n",
    "for r in result:\n",
    "    print(f'{str(r[1]):<11} {r[0]}')"
   ]
  },
  {
   "cell_type": "code",
   "execution_count": 47,
   "id": "d9bd6a9f-4a94-49e7-9bb8-c8598e947092",
   "metadata": {},
   "outputs": [
    {
     "name": "stdout",
     "output_type": "stream",
     "text": [
      "['Avoiding' 'Embracing' 'Mounting']\n"
     ]
    },
    {
     "data": {
      "image/svg+xml": [
       "<svg xmlns=\"http://www.w3.org/2000/svg\" width=\"512.0\" height=\"340\">\n",
       "<path stroke-width=\"1.0\" stroke=\"gray\" d=\"M 20 155 20 155\"/>\n",
       "<path stroke-width=\"1.0\" stroke=\"gray\" d=\"M 418 320 418 320\"/>\n",
       "<path stroke-width=\"1.0\" stroke=\"gray\" d=\"M 420 20 420 20\"/>\n",
       "<circle cx=\"20\" cy=\"155\" r=\"7.0\" style=\"fill:gray;stroke:black;stroke-width:1.0\"/>\n",
       "<circle cx=\"418\" cy=\"320\" r=\"7.0\" style=\"fill:gray;stroke:black;stroke-width:1.0\"/>\n",
       "<circle cx=\"420\" cy=\"20\" r=\"7.0\" style=\"fill:gray;stroke:black;stroke-width:1.0\"/>\n",
       "<text text-anchor=\"start\" x=\"30\" y=\"155\" font-size=\"12\">HARLEM</text><text text-anchor=\"start\" x=\"428\" y=\"320\" font-size=\"12\">EWINE</text><text text-anchor=\"start\" x=\"430\" y=\"20\" font-size=\"12\">FELIPE</text></svg>"
      ],
      "text/plain": [
       "<IPython.core.display.SVG object>"
      ]
     },
     "execution_count": 47,
     "metadata": {},
     "output_type": "execute_result"
    }
   ],
   "source": [
    "# First graph\n",
    "objs = np.array([8, 4, 6])\n",
    "attrs = np.array([0, 7, 8])\n",
    "\n",
    "print(sorted_names_col[attrs])\n",
    "\n",
    "image_adj = adjacency[objs, :][:, objs]\n",
    "if image_adj.nnz == 0:\n",
    "    image_adj += sparse.diags(np.ones(len(objs)))\n",
    "image = svg_graph(image_adj, names=names[objs])\n",
    "\n",
    "SVG(image)"
   ]
  },
  {
   "cell_type": "code",
   "execution_count": 13,
   "id": "7fab14be-a2ff-4310-9772-9cb858659ff5",
   "metadata": {},
   "outputs": [
    {
     "name": "stdout",
     "output_type": "stream",
     "text": [
      "['Carrying' 'Submission']\n"
     ]
    },
    {
     "data": {
      "image/svg+xml": [
       "<svg xmlns=\"http://www.w3.org/2000/svg\" width=\"488.0\" height=\"340\">\n",
       "<path stroke-width=\"1\" stroke=\"gray\" d=\"M 27 125 211 20\"/>\n",
       "<path stroke-width=\"1\" stroke=\"gray\" d=\"M 337 214 162 188\"/>\n",
       "<path stroke-width=\"1\" stroke=\"gray\" d=\"M 337 214 211 20\"/>\n",
       "<path stroke-width=\"1\" stroke=\"gray\" d=\"M 337 214 27 125\"/>\n",
       "<path stroke-width=\"1\" stroke=\"gray\" d=\"M 20 320 337 214\"/>\n",
       "<path stroke-width=\"1\" stroke=\"gray\" d=\"M 20 320 162 188\"/>\n",
       "<path stroke-width=\"1\" stroke=\"gray\" d=\"M 20 320 27 125\"/>\n",
       "<path stroke-width=\"1\" stroke=\"gray\" d=\"M 420 79 337 214\"/>\n",
       "<path stroke-width=\"1\" stroke=\"gray\" d=\"M 420 79 162 188\"/>\n",
       "<path stroke-width=\"1\" stroke=\"gray\" d=\"M 420 79 211 20\"/>\n",
       "<path stroke-width=\"1\" stroke=\"gray\" d=\"M 420 79 27 125\"/>\n",
       "<path stroke-width=\"1\" stroke=\"gray\" d=\"M 162 188 337 214\"/>\n",
       "<path stroke-width=\"1\" stroke=\"gray\" d=\"M 162 188 20 320\"/>\n",
       "<path stroke-width=\"1\" stroke=\"gray\" d=\"M 162 188 420 79\"/>\n",
       "<path stroke-width=\"1\" stroke=\"gray\" d=\"M 162 188 211 20\"/>\n",
       "<path stroke-width=\"1\" stroke=\"gray\" d=\"M 162 188 27 125\"/>\n",
       "<path stroke-width=\"1\" stroke=\"gray\" d=\"M 211 20 337 214\"/>\n",
       "<path stroke-width=\"1\" stroke=\"gray\" d=\"M 211 20 420 79\"/>\n",
       "<path stroke-width=\"1\" stroke=\"gray\" d=\"M 211 20 162 188\"/>\n",
       "<path stroke-width=\"1\" stroke=\"gray\" d=\"M 211 20 27 125\"/>\n",
       "<path stroke-width=\"1\" stroke=\"gray\" d=\"M 27 125 337 214\"/>\n",
       "<path stroke-width=\"1\" stroke=\"gray\" d=\"M 27 125 20 320\"/>\n",
       "<path stroke-width=\"1\" stroke=\"gray\" d=\"M 27 125 420 79\"/>\n",
       "<path stroke-width=\"1\" stroke=\"gray\" d=\"M 27 125 162 188\"/>\n",
       "<path stroke-width=\"1\" stroke=\"gray\" d=\"M 337 214 420 79\"/>\n",
       "<path stroke-width=\"1\" stroke=\"gray\" d=\"M 337 214 20 320\"/>\n",
       "<circle cx=\"27\" cy=\"125\" r=\"7.0\" style=\"fill:gray;stroke:black;stroke-width:1.0\"/>\n",
       "<circle cx=\"211\" cy=\"20\" r=\"7.0\" style=\"fill:gray;stroke:black;stroke-width:1.0\"/>\n",
       "<circle cx=\"162\" cy=\"188\" r=\"7.0\" style=\"fill:gray;stroke:black;stroke-width:1.0\"/>\n",
       "<circle cx=\"420\" cy=\"79\" r=\"7.0\" style=\"fill:gray;stroke:black;stroke-width:1.0\"/>\n",
       "<circle cx=\"20\" cy=\"320\" r=\"7.0\" style=\"fill:gray;stroke:black;stroke-width:1.0\"/>\n",
       "<circle cx=\"337\" cy=\"214\" r=\"7.0\" style=\"fill:gray;stroke:black;stroke-width:1.0\"/>\n",
       "<text text-anchor=\"start\" x=\"37\" y=\"125\" font-size=\"12\">FELIPE</text><text text-anchor=\"start\" x=\"221\" y=\"20\" font-size=\"12\">LIPS</text><text text-anchor=\"start\" x=\"172\" y=\"188\" font-size=\"12\">LOME</text><text text-anchor=\"start\" x=\"430\" y=\"79\" font-size=\"12\">MAKO</text><text text-anchor=\"start\" x=\"30\" y=\"320\" font-size=\"12\">MALI</text><text text-anchor=\"start\" x=\"347\" y=\"214\" font-size=\"12\">NEKKE</text></svg>"
      ],
      "text/plain": [
       "<IPython.core.display.SVG object>"
      ]
     },
     "execution_count": 13,
     "metadata": {},
     "output_type": "execute_result"
    }
   ],
   "source": [
    "# First graph\n",
    "objs = np.array([6, 10, 11, 12, 13, 15])\n",
    "attrs = np.array([1, 9])\n",
    "\n",
    "print(sorted_names_col[attrs])\n",
    "\n",
    "image_adj = adjacency[objs, :][:, objs]\n",
    "if image_adj.nnz == 0:\n",
    "    image_adj += sparse.diags(np.ones(len(objs)))\n",
    "image = svg_graph(image_adj, names=names[objs])\n",
    "\n",
    "SVG(image)"
   ]
  },
  {
   "cell_type": "code",
   "execution_count": 248,
   "id": "ca27923c-9845-4975-8230-5eaa8268064a",
   "metadata": {},
   "outputs": [
    {
     "name": "stdout",
     "output_type": "stream",
     "text": [
      "['Carrying' 'Attacking' 'Threatening']\n"
     ]
    },
    {
     "data": {
      "image/svg+xml": [
       "<svg xmlns=\"http://www.w3.org/2000/svg\" width=\"488.0\" height=\"340\">\n",
       "<path stroke-width=\"1\" stroke=\"gray\" d=\"M 420 320 246 194\"/>\n",
       "<path stroke-width=\"1\" stroke=\"gray\" d=\"M 246 194 301 20\"/>\n",
       "<path stroke-width=\"1\" stroke=\"gray\" d=\"M 246 194 420 320\"/>\n",
       "<path stroke-width=\"1\" stroke=\"gray\" d=\"M 246 194 20 247\"/>\n",
       "<path stroke-width=\"1\" stroke=\"gray\" d=\"M 301 20 246 194\"/>\n",
       "<path stroke-width=\"1\" stroke=\"gray\" d=\"M 20 247 246 194\"/>\n",
       "<circle cx=\"420\" cy=\"320\" r=\"7.0\" style=\"fill:gray;stroke:black;stroke-width:1.0\"/>\n",
       "<circle cx=\"246\" cy=\"194\" r=\"7.0\" style=\"fill:gray;stroke:black;stroke-width:1.0\"/>\n",
       "<circle cx=\"301\" cy=\"20\" r=\"7.0\" style=\"fill:gray;stroke:black;stroke-width:1.0\"/>\n",
       "<circle cx=\"20\" cy=\"247\" r=\"7.0\" style=\"fill:gray;stroke:black;stroke-width:1.0\"/>\n",
       "<text text-anchor=\"start\" x=\"430\" y=\"320\" font-size=\"12\">LIPS</text><text text-anchor=\"start\" x=\"256\" y=\"194\" font-size=\"12\">LOME</text><text text-anchor=\"start\" x=\"311\" y=\"20\" font-size=\"12\">FEYA</text><text text-anchor=\"start\" x=\"30\" y=\"247\" font-size=\"12\">MALI</text></svg>"
      ],
      "text/plain": [
       "<IPython.core.display.SVG object>"
      ]
     },
     "execution_count": 248,
     "metadata": {},
     "output_type": "execute_result"
    }
   ],
   "source": [
    "# First graph\n",
    "objs = np.array([10, 11, 7, 13])\n",
    "attrs = np.array([1, 3, 6])\n",
    "print(sorted_names_col[attrs])\n",
    "image = svg_graph(adjacency[objs, :][:, objs], names=names[objs])\n",
    "SVG(image)"
   ]
  },
  {
   "cell_type": "code",
   "execution_count": 227,
   "id": "462470a4-1e99-41cd-a9a0-4b0d63a04ccb",
   "metadata": {},
   "outputs": [
    {
     "name": "stdout",
     "output_type": "stream",
     "text": [
      "['Carrying' 'Attacking' 'Mounting']\n"
     ]
    },
    {
     "data": {
      "image/svg+xml": [
       "<svg xmlns=\"http://www.w3.org/2000/svg\" width=\"488.0\" height=\"340\">\n",
       "<path stroke-width=\"1\" stroke=\"gray\" d=\"M 155 65 20 320\"/>\n",
       "<path stroke-width=\"1\" stroke=\"gray\" d=\"M 155 65 420 20\"/>\n",
       "<path stroke-width=\"1\" stroke=\"gray\" d=\"M 155 65 278 275\"/>\n",
       "<path stroke-width=\"1\" stroke=\"gray\" d=\"M 20 320 155 65\"/>\n",
       "<path stroke-width=\"1\" stroke=\"gray\" d=\"M 20 320 278 275\"/>\n",
       "<path stroke-width=\"1\" stroke=\"gray\" d=\"M 420 20 155 65\"/>\n",
       "<path stroke-width=\"1\" stroke=\"gray\" d=\"M 420 20 278 275\"/>\n",
       "<path stroke-width=\"1\" stroke=\"gray\" d=\"M 278 275 155 65\"/>\n",
       "<path stroke-width=\"1\" stroke=\"gray\" d=\"M 278 275 20 320\"/>\n",
       "<path stroke-width=\"1\" stroke=\"gray\" d=\"M 278 275 420 20\"/>\n",
       "<circle cx=\"155\" cy=\"65\" r=\"7.0\" style=\"fill:gray;stroke:black;stroke-width:1.0\"/>\n",
       "<circle cx=\"20\" cy=\"320\" r=\"7.0\" style=\"fill:gray;stroke:black;stroke-width:1.0\"/>\n",
       "<circle cx=\"420\" cy=\"20\" r=\"7.0\" style=\"fill:gray;stroke:black;stroke-width:1.0\"/>\n",
       "<circle cx=\"278\" cy=\"275\" r=\"7.0\" style=\"fill:gray;stroke:black;stroke-width:1.0\"/>\n",
       "<text text-anchor=\"start\" x=\"165\" y=\"65\" font-size=\"12\">LOME</text><text text-anchor=\"start\" x=\"30\" y=\"320\" font-size=\"12\">MAKO</text><text text-anchor=\"start\" x=\"430\" y=\"20\" font-size=\"12\">MALI</text><text text-anchor=\"start\" x=\"288\" y=\"275\" font-size=\"12\">NEKKE</text></svg>"
      ],
      "text/plain": [
       "<IPython.core.display.SVG object>"
      ]
     },
     "execution_count": 227,
     "metadata": {},
     "output_type": "execute_result"
    }
   ],
   "source": [
    "# First graph\n",
    "objs = np.array([11, 12, 13, 15])\n",
    "attrs = np.array([1, 3, 8])\n",
    "print(sorted_names_col[attrs])\n",
    "image = svg_graph(adjacency[objs, :][:, objs], names=names[objs])\n",
    "SVG(image)"
   ]
  },
  {
   "cell_type": "code",
   "execution_count": 228,
   "id": "767b148f-4213-4a4e-b817-09a3c3c4cac2",
   "metadata": {},
   "outputs": [
    {
     "name": "stdout",
     "output_type": "stream",
     "text": [
      "['Carrying' 'Attacking' 'Submission']\n"
     ]
    },
    {
     "data": {
      "image/svg+xml": [
       "<svg xmlns=\"http://www.w3.org/2000/svg\" width=\"488.0\" height=\"340\">\n",
       "<path stroke-width=\"1\" stroke=\"gray\" d=\"M 350 320 186 216\"/>\n",
       "<path stroke-width=\"1\" stroke=\"gray\" d=\"M 350 320 420 132\"/>\n",
       "<path stroke-width=\"1\" stroke=\"gray\" d=\"M 350 320 249 47\"/>\n",
       "<path stroke-width=\"1\" stroke=\"gray\" d=\"M 186 216 350 320\"/>\n",
       "<path stroke-width=\"1\" stroke=\"gray\" d=\"M 186 216 420 132\"/>\n",
       "<path stroke-width=\"1\" stroke=\"gray\" d=\"M 186 216 20 20\"/>\n",
       "<path stroke-width=\"1\" stroke=\"gray\" d=\"M 186 216 249 47\"/>\n",
       "<path stroke-width=\"1\" stroke=\"gray\" d=\"M 420 132 350 320\"/>\n",
       "<path stroke-width=\"1\" stroke=\"gray\" d=\"M 420 132 186 216\"/>\n",
       "<path stroke-width=\"1\" stroke=\"gray\" d=\"M 420 132 249 47\"/>\n",
       "<path stroke-width=\"1\" stroke=\"gray\" d=\"M 20 20 186 216\"/>\n",
       "<path stroke-width=\"1\" stroke=\"gray\" d=\"M 20 20 249 47\"/>\n",
       "<path stroke-width=\"1\" stroke=\"gray\" d=\"M 249 47 350 320\"/>\n",
       "<path stroke-width=\"1\" stroke=\"gray\" d=\"M 249 47 186 216\"/>\n",
       "<path stroke-width=\"1\" stroke=\"gray\" d=\"M 249 47 420 132\"/>\n",
       "<path stroke-width=\"1\" stroke=\"gray\" d=\"M 249 47 20 20\"/>\n",
       "<circle cx=\"350\" cy=\"320\" r=\"7.0\" style=\"fill:gray;stroke:black;stroke-width:1.0\"/>\n",
       "<circle cx=\"186\" cy=\"216\" r=\"7.0\" style=\"fill:gray;stroke:black;stroke-width:1.0\"/>\n",
       "<circle cx=\"420\" cy=\"132\" r=\"7.0\" style=\"fill:gray;stroke:black;stroke-width:1.0\"/>\n",
       "<circle cx=\"20\" cy=\"20\" r=\"7.0\" style=\"fill:gray;stroke:black;stroke-width:1.0\"/>\n",
       "<circle cx=\"249\" cy=\"47\" r=\"7.0\" style=\"fill:gray;stroke:black;stroke-width:1.0\"/>\n",
       "<text text-anchor=\"start\" x=\"360\" y=\"320\" font-size=\"12\">LIPS</text><text text-anchor=\"start\" x=\"196\" y=\"216\" font-size=\"12\">LOME</text><text text-anchor=\"start\" x=\"430\" y=\"132\" font-size=\"12\">MAKO</text><text text-anchor=\"start\" x=\"30\" y=\"20\" font-size=\"12\">MALI</text><text text-anchor=\"start\" x=\"259\" y=\"47\" font-size=\"12\">NEKKE</text></svg>"
      ],
      "text/plain": [
       "<IPython.core.display.SVG object>"
      ]
     },
     "execution_count": 228,
     "metadata": {},
     "output_type": "execute_result"
    }
   ],
   "source": [
    "# First graph\n",
    "objs = np.array([10, 11, 12, 13, 15])\n",
    "attrs = np.array([1, 3, 9])\n",
    "print(sorted_names_col[attrs])\n",
    "image = svg_graph(adjacency[objs, :][:, objs], names=names[objs])\n",
    "SVG(image)"
   ]
  },
  {
   "cell_type": "code",
   "execution_count": 202,
   "id": "2237a50d-f597-4b87-8fec-60e78cbd5eee",
   "metadata": {},
   "outputs": [
    {
     "name": "stdout",
     "output_type": "stream",
     "text": [
      "['Avoiding' 'Embracing']\n"
     ]
    },
    {
     "data": {
      "image/svg+xml": [
       "<svg xmlns=\"http://www.w3.org/2000/svg\" width=\"512.0\" height=\"340\">\n",
       "<path stroke-width=\"1.0\" stroke=\"gray\" d=\"M 20 244 20 244\"/>\n",
       "<path stroke-width=\"1.0\" stroke=\"gray\" d=\"M 304 20 304 20\"/>\n",
       "<path stroke-width=\"1.0\" stroke=\"gray\" d=\"M 420 320 420 320\"/>\n",
       "<circle cx=\"20\" cy=\"244\" r=\"7.0\" style=\"fill:gray;stroke:black;stroke-width:1.0\"/>\n",
       "<circle cx=\"304\" cy=\"20\" r=\"7.0\" style=\"fill:gray;stroke:black;stroke-width:1.0\"/>\n",
       "<circle cx=\"420\" cy=\"320\" r=\"7.0\" style=\"fill:gray;stroke:black;stroke-width:1.0\"/>\n",
       "<text text-anchor=\"start\" x=\"30\" y=\"244\" font-size=\"12\">HARLEM</text><text text-anchor=\"start\" x=\"314\" y=\"20\" font-size=\"12\">EWINE</text><text text-anchor=\"start\" x=\"430\" y=\"320\" font-size=\"12\">FELIPE</text></svg>"
      ],
      "text/plain": [
       "<IPython.core.display.SVG object>"
      ]
     },
     "execution_count": 202,
     "metadata": {},
     "output_type": "execute_result"
    }
   ],
   "source": [
    "# First graph\n",
    "objs = np.array([8, 4, 6])\n",
    "attrs = np.array([0, 7])\n",
    "print(sorted_names_col[attrs])\n",
    "image_adj = adjacency[objs, :][:, objs]\n",
    "if image_adj.nnz == 0:\n",
    "    image_adj += sparse.diags(np.ones(len(objs)))\n",
    "image = svg_graph(image_adj, names=names[objs])\n",
    "SVG(image)"
   ]
  },
  {
   "cell_type": "code",
   "execution_count": 233,
   "id": "fbcf9c04-9076-4124-aec2-b95a5c427dbd",
   "metadata": {},
   "outputs": [
    {
     "name": "stdout",
     "output_type": "stream",
     "text": [
      "['Touching' 'Invisible']\n"
     ]
    },
    {
     "data": {
      "image/svg+xml": [
       "<svg xmlns=\"http://www.w3.org/2000/svg\" width=\"488.0\" height=\"340\">\n",
       "<path stroke-width=\"1\" stroke=\"gray\" d=\"M 420 144 391 20\"/>\n",
       "<path stroke-width=\"1\" stroke=\"gray\" d=\"M 226 282 123 279\"/>\n",
       "<path stroke-width=\"1\" stroke=\"gray\" d=\"M 316 159 226 282\"/>\n",
       "<path stroke-width=\"1\" stroke=\"gray\" d=\"M 316 159 208 171\"/>\n",
       "<path stroke-width=\"1\" stroke=\"gray\" d=\"M 316 159 391 20\"/>\n",
       "<path stroke-width=\"1\" stroke=\"gray\" d=\"M 316 159 420 144\"/>\n",
       "<path stroke-width=\"1\" stroke=\"gray\" d=\"M 20 320 123 279\"/>\n",
       "<path stroke-width=\"1\" stroke=\"gray\" d=\"M 208 171 226 282\"/>\n",
       "<path stroke-width=\"1\" stroke=\"gray\" d=\"M 208 171 316 159\"/>\n",
       "<path stroke-width=\"1\" stroke=\"gray\" d=\"M 208 171 123 279\"/>\n",
       "<path stroke-width=\"1\" stroke=\"gray\" d=\"M 391 20 316 159\"/>\n",
       "<path stroke-width=\"1\" stroke=\"gray\" d=\"M 391 20 420 144\"/>\n",
       "<path stroke-width=\"1\" stroke=\"gray\" d=\"M 123 279 226 282\"/>\n",
       "<path stroke-width=\"1\" stroke=\"gray\" d=\"M 123 279 20 320\"/>\n",
       "<path stroke-width=\"1\" stroke=\"gray\" d=\"M 123 279 208 171\"/>\n",
       "<path stroke-width=\"1\" stroke=\"gray\" d=\"M 420 144 316 159\"/>\n",
       "<path stroke-width=\"1\" stroke=\"gray\" d=\"M 226 282 208 171\"/>\n",
       "<path stroke-width=\"1\" stroke=\"gray\" d=\"M 226 282 316 159\"/>\n",
       "<circle cx=\"420\" cy=\"144\" r=\"7.0\" style=\"fill:gray;stroke:black;stroke-width:1.0\"/>\n",
       "<circle cx=\"123\" cy=\"279\" r=\"7.0\" style=\"fill:gray;stroke:black;stroke-width:1.0\"/>\n",
       "<circle cx=\"391\" cy=\"20\" r=\"7.0\" style=\"fill:gray;stroke:black;stroke-width:1.0\"/>\n",
       "<circle cx=\"208\" cy=\"171\" r=\"7.0\" style=\"fill:gray;stroke:black;stroke-width:1.0\"/>\n",
       "<circle cx=\"20\" cy=\"320\" r=\"7.0\" style=\"fill:gray;stroke:black;stroke-width:1.0\"/>\n",
       "<circle cx=\"316\" cy=\"159\" r=\"7.0\" style=\"fill:gray;stroke:black;stroke-width:1.0\"/>\n",
       "<circle cx=\"226\" cy=\"282\" r=\"7.0\" style=\"fill:gray;stroke:black;stroke-width:1.0\"/>\n",
       "<text text-anchor=\"start\" x=\"430\" y=\"144\" font-size=\"12\">FANA</text><text text-anchor=\"start\" x=\"133\" y=\"279\" font-size=\"12\">FELIPE</text><text text-anchor=\"start\" x=\"401\" y=\"20\" font-size=\"12\">FEYA</text><text text-anchor=\"start\" x=\"218\" y=\"171\" font-size=\"12\">LIPS</text><text text-anchor=\"start\" x=\"30\" y=\"320\" font-size=\"12\">MALI</text><text text-anchor=\"start\" x=\"326\" y=\"159\" font-size=\"12\">PETOULETTE</text><text text-anchor=\"start\" x=\"236\" y=\"282\" font-size=\"12\">PIPO</text></svg>"
      ],
      "text/plain": [
       "<IPython.core.display.SVG object>"
      ]
     },
     "execution_count": 233,
     "metadata": {},
     "output_type": "execute_result"
    }
   ],
   "source": [
    "# First graph\n",
    "objs = np.array([5, 6, 7, 10, 13, 16, 17])\n",
    "attrs = np.array([8, 10])\n",
    "print(sorted_names_col[attrs])\n",
    "image = svg_graph(adjacency[objs, :][:, objs], names=names[objs])\n",
    "SVG(image)"
   ]
  },
  {
   "cell_type": "code",
   "execution_count": 227,
   "id": "01bc83b4-497f-45a2-87cf-197fe2d74938",
   "metadata": {},
   "outputs": [
    {
     "name": "stdout",
     "output_type": "stream",
     "text": [
      "2.584962500721156\n",
      "39.61802464081182\n",
      "42.20298714153297\n"
     ]
    }
   ],
   "source": [
    "g_r_new = adjacency[objs, :][:, objs]\n",
    "n = g_r_new.shape[0]\n",
    "nodes_mdl = np.log2(n)\n",
    "print(nodes_mdl)\n",
    "    \n",
    "# edges\n",
    "newdegs = g_r_new.dot(np.ones(n))\n",
    "max_degree = np.max(newdegs)\n",
    "edges_mdl = (n + 1) * np.log2(max_degree + 1) + np.sum([np.log2(special.comb(n, deg)) for deg in newdegs])\n",
    "print(edges_mdl)\n",
    "print(nodes_mdl + edges_mdl)"
   ]
  },
  {
   "cell_type": "code",
   "execution_count": 224,
   "id": "f2e39117-0765-486d-97a5-ead30eee238b",
   "metadata": {},
   "outputs": [
    {
     "name": "stdout",
     "output_type": "stream",
     "text": [
      "[4. 3. 1. 4. 1. 3. 2.]\n"
     ]
    },
    {
     "data": {
      "text/plain": [
       "5.129283016944966"
      ]
     },
     "execution_count": 224,
     "metadata": {},
     "output_type": "execute_result"
    }
   ],
   "source": [
    "print(newdegs)\n",
    "np.log2(special.comb(n, 4))"
   ]
  },
  {
   "cell_type": "code",
   "execution_count": 188,
   "id": "a0f8d351-3a36-48fe-abda-216f2af0004c",
   "metadata": {},
   "outputs": [
    {
     "name": "stdout",
     "output_type": "stream",
     "text": [
      "['Supplanting' 'Grooming']\n"
     ]
    },
    {
     "data": {
      "image/svg+xml": [
       "<svg xmlns=\"http://www.w3.org/2000/svg\" width=\"488.0\" height=\"340\">\n",
       "<path stroke-width=\"1\" stroke=\"gray\" d=\"M 20 51 243 20\"/>\n",
       "<path stroke-width=\"1\" stroke=\"gray\" d=\"M 20 51 181 117\"/>\n",
       "<path stroke-width=\"1\" stroke=\"gray\" d=\"M 20 51 420 61\"/>\n",
       "<path stroke-width=\"1\" stroke=\"gray\" d=\"M 243 20 20 51\"/>\n",
       "<path stroke-width=\"1\" stroke=\"gray\" d=\"M 243 20 181 117\"/>\n",
       "<path stroke-width=\"1\" stroke=\"gray\" d=\"M 243 20 420 61\"/>\n",
       "<path stroke-width=\"1\" stroke=\"gray\" d=\"M 181 117 20 51\"/>\n",
       "<path stroke-width=\"1\" stroke=\"gray\" d=\"M 181 117 243 20\"/>\n",
       "<path stroke-width=\"1\" stroke=\"gray\" d=\"M 181 117 420 61\"/>\n",
       "<path stroke-width=\"1\" stroke=\"gray\" d=\"M 181 117 114 229\"/>\n",
       "<path stroke-width=\"1\" stroke=\"gray\" d=\"M 60 320 114 229\"/>\n",
       "<path stroke-width=\"1\" stroke=\"gray\" d=\"M 420 61 20 51\"/>\n",
       "<path stroke-width=\"1\" stroke=\"gray\" d=\"M 420 61 243 20\"/>\n",
       "<path stroke-width=\"1\" stroke=\"gray\" d=\"M 420 61 181 117\"/>\n",
       "<path stroke-width=\"1\" stroke=\"gray\" d=\"M 114 229 181 117\"/>\n",
       "<path stroke-width=\"1\" stroke=\"gray\" d=\"M 114 229 60 320\"/>\n",
       "<circle cx=\"20\" cy=\"51\" r=\"7.0\" style=\"fill:gray;stroke:black;stroke-width:1.0\"/>\n",
       "<circle cx=\"243\" cy=\"20\" r=\"7.0\" style=\"fill:gray;stroke:black;stroke-width:1.0\"/>\n",
       "<circle cx=\"181\" cy=\"117\" r=\"7.0\" style=\"fill:gray;stroke:black;stroke-width:1.0\"/>\n",
       "<circle cx=\"60\" cy=\"320\" r=\"7.0\" style=\"fill:gray;stroke:black;stroke-width:1.0\"/>\n",
       "<circle cx=\"420\" cy=\"61\" r=\"7.0\" style=\"fill:gray;stroke:black;stroke-width:1.0\"/>\n",
       "<circle cx=\"114\" cy=\"229\" r=\"7.0\" style=\"fill:gray;stroke:black;stroke-width:1.0\"/>\n",
       "<text text-anchor=\"start\" x=\"30\" y=\"51\" font-size=\"12\">ANGELE</text><text text-anchor=\"start\" x=\"253\" y=\"20\" font-size=\"12\">BOBO</text><text text-anchor=\"start\" x=\"191\" y=\"117\" font-size=\"12\">FELIPE</text><text text-anchor=\"start\" x=\"70\" y=\"320\" font-size=\"12\">KALI</text><text text-anchor=\"start\" x=\"430\" y=\"61\" font-size=\"12\">LOME</text><text text-anchor=\"start\" x=\"124\" y=\"229\" font-size=\"12\">VIOLETTE</text></svg>"
      ],
      "text/plain": [
       "<IPython.core.display.SVG object>"
      ]
     },
     "execution_count": 188,
     "metadata": {},
     "output_type": "execute_result"
    }
   ],
   "source": [
    "# First graph\n",
    "objs = np.array([0, 3, 6, 9, 11, 18])\n",
    "attrs = np.array([6, 11])\n",
    "print(sorted_names_col[attrs])\n",
    "image = svg_graph(adjacency[objs, :][:, objs], names=names[objs])\n",
    "SVG(image)"
   ]
  },
  {
   "cell_type": "code",
   "execution_count": 156,
   "id": "66bd18b6-2c0c-442c-be6f-a2c4081f4d59",
   "metadata": {},
   "outputs": [
    {
     "name": "stdout",
     "output_type": "stream",
     "text": [
      "['Supplanting' 'Invisible']\n"
     ]
    },
    {
     "data": {
      "image/svg+xml": [
       "<svg xmlns=\"http://www.w3.org/2000/svg\" width=\"500.0\" height=\"340\">\n",
       "<path stroke-width=\"1\" stroke=\"gray\" d=\"M 61 290 20 277\"/>\n",
       "<path stroke-width=\"1\" stroke=\"gray\" d=\"M 61 290 107 306\"/>\n",
       "<path stroke-width=\"1\" stroke=\"gray\" d=\"M 149 320 107 306\"/>\n",
       "<path stroke-width=\"1\" stroke=\"gray\" d=\"M 20 277 61 290\"/>\n",
       "<path stroke-width=\"1\" stroke=\"gray\" d=\"M 107 306 61 290\"/>\n",
       "<path stroke-width=\"1\" stroke=\"gray\" d=\"M 107 306 149 320\"/>\n",
       "<circle cx=\"420\" cy=\"20\" r=\"7.0\" style=\"fill:gray;stroke:black;stroke-width:1.0\"/>\n",
       "<circle cx=\"61\" cy=\"290\" r=\"7.0\" style=\"fill:gray;stroke:black;stroke-width:1.0\"/>\n",
       "<circle cx=\"149\" cy=\"320\" r=\"7.0\" style=\"fill:gray;stroke:black;stroke-width:1.0\"/>\n",
       "<circle cx=\"20\" cy=\"277\" r=\"7.0\" style=\"fill:gray;stroke:black;stroke-width:1.0\"/>\n",
       "<circle cx=\"107\" cy=\"306\" r=\"7.0\" style=\"fill:gray;stroke:black;stroke-width:1.0\"/>\n",
       "<text text-anchor=\"start\" x=\"430\" y=\"20\" font-size=\"12\">EWINE</text><text text-anchor=\"start\" x=\"71\" y=\"290\" font-size=\"12\">FELIPE</text><text text-anchor=\"start\" x=\"159\" y=\"320\" font-size=\"12\">KALI</text><text text-anchor=\"start\" x=\"30\" y=\"277\" font-size=\"12\">LOME</text><text text-anchor=\"start\" x=\"117\" y=\"306\" font-size=\"12\">VIOLETTE</text></svg>"
      ],
      "text/plain": [
       "<IPython.core.display.SVG object>"
      ]
     },
     "execution_count": 156,
     "metadata": {},
     "output_type": "execute_result"
    }
   ],
   "source": [
    "# First graph\n",
    "objs = np.array([4, 6, 9, 11, 18])\n",
    "attrs = np.array([6, 10])\n",
    "print(sorted_names_col[attrs])\n",
    "image = svg_graph(adjacency[objs, :][:, objs], names=names[objs])\n",
    "SVG(image)"
   ]
  },
  {
   "cell_type": "markdown",
   "id": "4508f83c-dbd8-4b21-8707-71af109657d7",
   "metadata": {},
   "source": [
    "## Annexes\n",
    "---"
   ]
  },
  {
   "cell_type": "code",
   "execution_count": null,
   "id": "17b1b9a4-6994-48db-9cd6-c73fd10d715f",
   "metadata": {},
   "outputs": [],
   "source": [
    "def build_random_graph(n, p):\n",
    "    edges = []\n",
    "    lp = np.log(1 - p)\n",
    "    v = 1\n",
    "    w = -1\n",
    "    while v < n:\n",
    "        lr = np.log(1 - random())\n",
    "        w = w + 1 + int(lr / lp)\n",
    "        while w >= v and v < n:\n",
    "            w = w - v\n",
    "            v = v + 1\n",
    "        if v < n:\n",
    "            edges.append((w, v))\n",
    "    \n",
    "    v = 1\n",
    "    w = -1   \n",
    "    while v < n:\n",
    "        lr = np.log(1 - random())\n",
    "        w = w + 1 + int(lr / lp)\n",
    "        while w >= v and v < n:\n",
    "            w = w - v\n",
    "            v = v + 1\n",
    "        if v < n:\n",
    "            edges.append((v, w))\n",
    "    try:\n",
    "        g = from_edge_list(edges, directed=True, matrix_only=True)\n",
    "    except ValueError:\n",
    "        return None\n",
    "\n",
    "    return g"
   ]
  }
 ],
 "metadata": {
  "kernelspec": {
   "display_name": "COMEG",
   "language": "python",
   "name": "comeg"
  },
  "language_info": {
   "codemirror_mode": {
    "name": "ipython",
    "version": 3
   },
   "file_extension": ".py",
   "mimetype": "text/x-python",
   "name": "python",
   "nbconvert_exporter": "python",
   "pygments_lexer": "ipython3",
   "version": "3.9.13"
  }
 },
 "nbformat": 4,
 "nbformat_minor": 5
}
