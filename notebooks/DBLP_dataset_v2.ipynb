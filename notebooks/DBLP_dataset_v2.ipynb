{
 "cells": [
  {
   "cell_type": "markdown",
   "id": "c61ea0df-52e3-485c-9872-bfb98eb3f2cc",
   "metadata": {},
   "source": [
    "# DBLP dataset\n",
    "---\n",
    "\n",
    "*Source: https://www.aminer.org/citation*\n",
    "\n",
    "We use the `V13` dataset. \n",
    "> The citation data is extracted from DBLP, ACM, MAG (Microsoft Academic Graph), and other sources.\n",
    "\n",
    "We build the graph of citations, where each node represents a paper, a directed link between nodes represents a citation between papers. Moreover, we use words in the abstract of each paper as a vector of binary attributes for the corresponding nodes."
   ]
  },
  {
   "cell_type": "markdown",
   "id": "b5eeaf92-24c1-4310-9dc2-a5e656c98376",
   "metadata": {},
   "source": [
    "**Libraries**"
   ]
  },
  {
   "cell_type": "code",
   "execution_count": 1,
   "id": "d0d34359-b325-4fdd-9b86-671db29df00c",
   "metadata": {},
   "outputs": [],
   "source": [
    "from IPython.display import SVG\n",
    "\n",
    "from collections import defaultdict, Counter\n",
    "import ijson\n",
    "import json\n",
    "import numpy as np\n",
    "import pickle\n",
    "from scipy import sparse\n",
    "from tqdm import tqdm\n",
    "\n",
    "import nltk\n",
    "\n",
    "from sknetwork.data import from_edge_list, Bunch, save\n",
    "from sknetwork.topology import get_connected_components\n",
    "from sknetwork.visualization import svg_graph"
   ]
  },
  {
   "cell_type": "markdown",
   "id": "4205cd02-d557-439c-8b47-2c8d1ef08455",
   "metadata": {},
   "source": [
    "## 1. Load data"
   ]
  },
  {
   "cell_type": "markdown",
   "id": "cdef7cf1-d0c2-4618-ae53-9023565d025f",
   "metadata": {},
   "source": [
    "* `dblpv13.json` needs treatment before getting parsed. We use `sed s/NumberInt([0-9]*)/\"ok\"/g dblpv13.json >> dblpv14.json` in order to replace badly parsed Integers."
   ]
  },
  {
   "cell_type": "code",
   "execution_count": 2,
   "id": "54db19f6-3ca3-49c9-b65d-492b7a2f2b66",
   "metadata": {},
   "outputs": [],
   "source": [
    "path = '/Users/simondelarue/Downloads/dblpv14.json'"
   ]
  },
  {
   "cell_type": "code",
   "execution_count": 5,
   "id": "8195fa2e-d312-4ef8-94c0-6c550ce17183",
   "metadata": {},
   "outputs": [
    {
     "name": "stderr",
     "output_type": "stream",
     "text": [
      "5354309it [20:39, 4318.03it/s] "
     ]
    },
    {
     "name": "stdout",
     "output_type": "stream",
     "text": [
      "CPU times: user 20min 11s, sys: 25 s, total: 20min 36s\n",
      "Wall time: 20min 40s\n"
     ]
    },
    {
     "name": "stderr",
     "output_type": "stream",
     "text": [
      "\n"
     ]
    }
   ],
   "source": [
    "%%time\n",
    "\n",
    "categories = ['computer science']#, 'pattern recognition']\n",
    "articles = {}\n",
    "cpt = 0\n",
    "\n",
    "with open(path, 'rb') as f:\n",
    "    for record in tqdm(ijson.items(f, 'item')):\n",
    "        # Add articles only if they have abstract + title + belong to defined category\n",
    "        if 'fos' in record.keys() and 'abstract' in record.keys() and 'title' in record.keys() and 'references' in record.keys() and len(record.get('title')) > 0 and len(record.get('abstract')) > 0:\n",
    "            for cat in record['fos']:\n",
    "                if cat.lower() in categories:\n",
    "                    articles[record['_id']] = {'name': record['title'],\n",
    "                                      'abstract': record['abstract'],\n",
    "                                      'categories': record['fos'],\n",
    "                                      'references': record['references']}\n",
    "                    cpt += 1\n",
    "                    break"
   ]
  },
  {
   "cell_type": "code",
   "execution_count": 6,
   "id": "6754151d-6d1c-41d6-bdd5-359a40bfdf38",
   "metadata": {},
   "outputs": [
    {
     "name": "stdout",
     "output_type": "stream",
     "text": [
      "CPU times: user 26.8 s, sys: 4.28 s, total: 31.1 s\n",
      "Wall time: 32.2 s\n"
     ]
    }
   ],
   "source": [
    "%%time\n",
    "with open('data/dblpv13_raw.json', 'w') as f:\n",
    "    json.dump(articles, f)"
   ]
  },
  {
   "cell_type": "code",
   "execution_count": 7,
   "id": "af665e4a-8218-44c5-b573-dce6948a19cc",
   "metadata": {},
   "outputs": [
    {
     "name": "stdout",
     "output_type": "stream",
     "text": [
      "Number of raw articles: 2121958\n"
     ]
    }
   ],
   "source": [
    "print(f'Number of raw articles: {len(articles)}')"
   ]
  },
  {
   "cell_type": "markdown",
   "id": "06bd62d1-38f8-4449-b6dd-8242fa2fc5c8",
   "metadata": {},
   "source": [
    "For each article, we go through its references and verify the validity of each of them, i.e if they belongs to the registered articles. If some references are not valid (meaning they do not belong to 'Computer Science' field, or their title and abstract are empty), we delete them from the list of references. We end with a dictionary of articles with:\n",
    "* belong to `Computer Science` field\n",
    "* non empty title\n",
    "* non empty abstract\n",
    "* references respecting the three previous criteria"
   ]
  },
  {
   "cell_type": "code",
   "execution_count": 67,
   "id": "14ba94a1-adc1-4fd9-a817-c418d2152936",
   "metadata": {},
   "outputs": [
    {
     "name": "stderr",
     "output_type": "stream",
     "text": [
      "100%|███████████████████████████████████████████████████████| 2121958/2121958 [00:13<00:00, 152128.46it/s]"
     ]
    },
    {
     "name": "stdout",
     "output_type": "stream",
     "text": [
      "CPU times: user 10.9 s, sys: 2.39 s, total: 13.3 s\n",
      "Wall time: 14 s\n"
     ]
    },
    {
     "name": "stderr",
     "output_type": "stream",
     "text": [
      "\n"
     ]
    }
   ],
   "source": [
    "%%time\n",
    "\n",
    "# Remove non-valid articles from references\n",
    "for article, values in tqdm(articles.items()):\n",
    "    new_references = values.get('references').copy()\n",
    "    for ref in values.get('references'):\n",
    "        if ref not in articles:\n",
    "            new_references.remove(ref)\n",
    "    articles[article]['references'] = new_references"
   ]
  },
  {
   "cell_type": "code",
   "execution_count": 73,
   "id": "a287ca13-7015-4a82-bf7d-1681ee472feb",
   "metadata": {},
   "outputs": [
    {
     "name": "stdout",
     "output_type": "stream",
     "text": [
      "CPU times: user 24.4 s, sys: 4.11 s, total: 28.5 s\n",
      "Wall time: 30 s\n"
     ]
    }
   ],
   "source": [
    "%%time\n",
    "with open('data/dblpv13.json', 'w') as f:\n",
    "    json.dump(articles, f)"
   ]
  },
  {
   "cell_type": "code",
   "execution_count": 2,
   "id": "78fe399d-968b-4c74-b3e6-ff73292aeec0",
   "metadata": {},
   "outputs": [
    {
     "name": "stdout",
     "output_type": "stream",
     "text": [
      "CPU times: user 13.2 s, sys: 23.4 s, total: 36.6 s\n",
      "Wall time: 51.2 s\n"
     ]
    }
   ],
   "source": [
    "%%time\n",
    "with open('data/dblpv13.json', 'r') as f:\n",
    "    articles = json.load(f)"
   ]
  },
  {
   "cell_type": "markdown",
   "id": "ee8650ff-755e-4441-a2f8-654356dc6e3f",
   "metadata": {},
   "source": [
    "## Build graph dataset  "
   ]
  },
  {
   "cell_type": "markdown",
   "id": "9966024d-0519-42df-a835-bf3965a426d7",
   "metadata": {},
   "source": [
    "### Adjacency matrix "
   ]
  },
  {
   "cell_type": "markdown",
   "id": "21004a6b-e490-4550-b277-e2db04a0df63",
   "metadata": {},
   "source": [
    "Build edge list and use it as input to `from_edge_list` method in Scikit-network."
   ]
  },
  {
   "cell_type": "code",
   "execution_count": 88,
   "id": "2db11a06-60c2-46aa-b09a-00e6943627d2",
   "metadata": {},
   "outputs": [
    {
     "name": "stdout",
     "output_type": "stream",
     "text": [
      "CPU times: user 3.06 s, sys: 2.91 s, total: 5.97 s\n",
      "Wall time: 9.52 s\n"
     ]
    }
   ],
   "source": [
    "%%time\n",
    "edges = []\n",
    "for article, values in articles.items():\n",
    "    for ref in values.get('references'):\n",
    "        edges.append((article, ref))"
   ]
  },
  {
   "cell_type": "code",
   "execution_count": 89,
   "id": "914abc42-0167-46da-8a3b-c5a48951403a",
   "metadata": {},
   "outputs": [
    {
     "name": "stdout",
     "output_type": "stream",
     "text": [
      "CPU times: user 32.4 s, sys: 28.1 s, total: 1min\n",
      "Wall time: 1min 16s\n"
     ]
    }
   ],
   "source": [
    "%%time\n",
    "adjacency = from_edge_list(edges)"
   ]
  },
  {
   "cell_type": "code",
   "execution_count": 90,
   "id": "526d79d3-1db6-450c-a1dd-4a5f6a1a8986",
   "metadata": {},
   "outputs": [
    {
     "data": {
      "text/plain": [
       "{'names': array(['53e99784b7602d9701f3e15d', '53e99784b7602d9701f3f411',\n",
       "        '53e99784b7602d9701f3f5fe', ..., '60754485e4510cd7c836e05d',\n",
       "        '60754495e4510cd7c83703fa', '607544aae4510cd7c8371f24'],\n",
       "       dtype='<U24'),\n",
       " 'adjacency': <2058901x2058901 sparse matrix of type '<class 'numpy.int64'>'\n",
       " \twith 39034212 stored elements in Compressed Sparse Row format>}"
      ]
     },
     "execution_count": 90,
     "metadata": {},
     "output_type": "execute_result"
    }
   ],
   "source": [
    "adjacency"
   ]
  },
  {
   "cell_type": "code",
   "execution_count": 91,
   "id": "870150f5-5f88-4d12-a9a8-8417086d5fad",
   "metadata": {},
   "outputs": [],
   "source": [
    "# Save adjacency matrix\n",
    "dataset = Bunch()\n",
    "dataset.adjacency = adjacency.adjacency\n",
    "dataset.names = adjacency.names\n",
    "\n",
    "meta = Bunch()\n",
    "meta.name = \"DBLP articles V13\"\n",
    "meta.description = 'Links connecting DBLP articles in `Computer Science` if one article cites the other (directed)'\n",
    "meta.source = 'https://www.aminer.org/citation'\n",
    "meta.date = 'November 2022'\n",
    "dataset.meta = meta"
   ]
  },
  {
   "cell_type": "code",
   "execution_count": 92,
   "id": "0aab1393-e6dc-4f7d-981a-b929ec0e8eea",
   "metadata": {},
   "outputs": [],
   "source": [
    "with open('data/DBLP', 'bw') as f:\n",
    "    pickle.dump(dataset, f)"
   ]
  },
  {
   "cell_type": "code",
   "execution_count": 3,
   "id": "cebd7dc2-40c8-4dc2-900e-87c8d9c95d02",
   "metadata": {},
   "outputs": [
    {
     "name": "stdout",
     "output_type": "stream",
     "text": [
      "CPU times: user 637 µs, sys: 126 ms, total: 127 ms\n",
      "Wall time: 129 ms\n"
     ]
    }
   ],
   "source": [
    "%%time\n",
    "# Load dataset\n",
    "with open('data/DBLP', 'br') as f:\n",
    "    dataset = pickle.load(f)"
   ]
  },
  {
   "cell_type": "code",
   "execution_count": 4,
   "id": "20ba725f-1313-47b0-a9e0-de5046c3b8bf",
   "metadata": {},
   "outputs": [
    {
     "name": "stdout",
     "output_type": "stream",
     "text": [
      "Number of nodes: 2058901\n",
      "Number of edges: 39034212\n"
     ]
    }
   ],
   "source": [
    "print(f'Number of nodes: {dataset.adjacency.shape[0]}')\n",
    "print(f'Number of edges: {dataset.adjacency.nnz}')"
   ]
  },
  {
   "cell_type": "code",
   "execution_count": 5,
   "id": "e34b4597-effc-4fbb-bd61-5b94a2bf8152",
   "metadata": {},
   "outputs": [
    {
     "data": {
      "text/plain": [
       "(2058901, 2058901)"
      ]
     },
     "execution_count": 5,
     "metadata": {},
     "output_type": "execute_result"
    }
   ],
   "source": [
    "dataset.adjacency.shape"
   ]
  },
  {
   "cell_type": "code",
   "execution_count": 6,
   "id": "d18985d2-edc6-485c-8e81-f21fcc5bd9fb",
   "metadata": {},
   "outputs": [
    {
     "data": {
      "text/plain": [
       "2058901"
      ]
     },
     "execution_count": 6,
     "metadata": {},
     "output_type": "execute_result"
    }
   ],
   "source": [
    "len(dataset.names)"
   ]
  },
  {
   "cell_type": "markdown",
   "id": "f37e8a45-16eb-481f-b92a-dfe4700cde8d",
   "metadata": {},
   "source": [
    "### Biadjacency matrix"
   ]
  },
  {
   "cell_type": "code",
   "execution_count": 7,
   "id": "f7df38e9-b990-47e8-8a82-c886607fae13",
   "metadata": {},
   "outputs": [],
   "source": [
    "import re"
   ]
  },
  {
   "cell_type": "code",
   "execution_count": 8,
   "id": "6f09d808-51db-42da-b586-4abfce4f1dc9",
   "metadata": {},
   "outputs": [
    {
     "data": {
      "text/plain": [
       "'We describe a new approach to the visual recognition of cursive handwriting. An effort is made to attain human- like performance by using a method based on pictorial alignment and on a model of the process of handwriting. The alignment approach permits recognition of character instances that appear embedded in connected strings. A system embodying this approach has been implemented and tested on five different word sets. The performance was stable both across words and across writers. The system exhibited a substantial ability to interpret cursive connected strings without recourse to lexical knowledge. The interpretation of cursive connected handwriting is considerably more difficult than the reading of printed text. This difficulty may be the reason for the relative lack of attention to the problem of reading cursive script within the field of computational vision. The present article describes progress made toward understanding and solving this problem. We identify and discuss two main causes of the diffi- culties associated with handwriting recognition: uncer- tainty of segmentation of words into characters and var- iability of character shapes. We then extend a method that has been recently proposed for general object rec- ognition, the alignment of pictorial descriptions, to handwriting recognition. A system based on the align- ment of letter prototypes has been implemented and tested. Our results may indicate that the achievement of human-like performance in reading cursive hand- writing is within the reach of the state of the art in com- puter vision.'"
      ]
     },
     "execution_count": 8,
     "metadata": {},
     "output_type": "execute_result"
    }
   ],
   "source": [
    "articles.get('53e99cf5b7602d97025ace63').get('abstract')"
   ]
  },
  {
   "cell_type": "code",
   "execution_count": 9,
   "id": "4c3f6207-5fd1-431a-9078-ee3e73932b34",
   "metadata": {},
   "outputs": [],
   "source": [
    "def tokenize_text(text):\n",
    "    \"\"\" Merge words that have been cut + remove punctuation + tokenize \"\"\"\n",
    "    res = re.sub(r'- ', '', text)\n",
    "    res_without_punc = re.sub(r'[^\\w\\s]', '', res)\n",
    "    tokens = nltk.word_tokenize(res_without_punc)\n",
    "    return tokens"
   ]
  },
  {
   "cell_type": "code",
   "execution_count": 24,
   "id": "2436fd1f-96dc-4c4c-9a02-b77f29dbadf7",
   "metadata": {},
   "outputs": [
    {
     "name": "stdout",
     "output_type": "stream",
     "text": [
      "CPU times: user 10min 24s, sys: 15.7 s, total: 10min 40s\n",
      "Wall time: 10min 49s\n"
     ]
    }
   ],
   "source": [
    "%%time\n",
    "\n",
    "# Create indexed list of words from abstracts\n",
    "# Result is a list of list containing word indexes for each abstract\n",
    "words2idx = {}\n",
    "idx = 0\n",
    "abstracts_tokens = []\n",
    "n = dataset.adjacency.shape[0]\n",
    "\n",
    "for i in range(n):\n",
    "    article_id = dataset.names[i]\n",
    "    abstract = articles.get(article_id).get('abstract')\n",
    "    tokens = tokenize_text(abstract)\n",
    "    abstract_tokens = []\n",
    "    for tk in tokens:\n",
    "        if tk not in words2idx:\n",
    "            words2idx[tk] = idx\n",
    "            idx += 1\n",
    "        abstract_tokens.append(words2idx.get(tk))\n",
    "    abstracts_tokens.append(abstract_tokens)"
   ]
  },
  {
   "cell_type": "code",
   "execution_count": 25,
   "id": "0566475d-067b-4b93-8292-06dced3a7078",
   "metadata": {},
   "outputs": [
    {
     "name": "stdout",
     "output_type": "stream",
     "text": [
      "1821694\n",
      "2058901\n",
      "(2058901, 2058901)\n"
     ]
    }
   ],
   "source": [
    "print(len(words2idx))\n",
    "print(len(abstracts_tokens))\n",
    "print(dataset.adjacency.shape)"
   ]
  },
  {
   "cell_type": "code",
   "execution_count": 26,
   "id": "84d2a5f6-5e20-4c8b-b28e-4bcb187902f6",
   "metadata": {},
   "outputs": [
    {
     "name": "stdout",
     "output_type": "stream",
     "text": [
      "CPU times: user 89.3 ms, sys: 151 ms, total: 241 ms\n",
      "Wall time: 313 ms\n"
     ]
    }
   ],
   "source": [
    "%%time\n",
    "idx2words = {v: k for k, v in words2idx.items()}"
   ]
  },
  {
   "cell_type": "code",
   "execution_count": 39,
   "id": "628bee7d-0eb8-4da9-8083-d8a0c4f76814",
   "metadata": {},
   "outputs": [
    {
     "name": "stdout",
     "output_type": "stream",
     "text": [
      "CPU times: user 7.35 s, sys: 29.6 s, total: 37 s\n",
      "Wall time: 1min 1s\n"
     ]
    },
    {
     "data": {
      "text/plain": [
       "(2058901, 1821694)"
      ]
     },
     "execution_count": 39,
     "metadata": {},
     "output_type": "execute_result"
    }
   ],
   "source": [
    "%%time\n",
    "\n",
    "# initialize biadajcency matrix\n",
    "x, y = dataset.adjacency.shape\n",
    "biadjacency = sparse.lil_matrix((x, len(words2idx)), dtype=np.int16)\n",
    "biadjacency.shape"
   ]
  },
  {
   "cell_type": "code",
   "execution_count": 29,
   "id": "024d84ad-89f9-4b6f-a258-3910e72aff51",
   "metadata": {},
   "outputs": [
    {
     "name": "stdout",
     "output_type": "stream",
     "text": [
      "CPU times: user 4.5 s, sys: 18.8 s, total: 23.3 s\n",
      "Wall time: 37.7 s\n"
     ]
    }
   ],
   "source": [
    "%%time\n",
    "biadjacency_cp = biadjacency.copy()"
   ]
  },
  {
   "cell_type": "markdown",
   "id": "ccdf9aa3-7261-42aa-84e1-f1888ed69822",
   "metadata": {},
   "source": [
    "**Fill biadjacency matrix**"
   ]
  },
  {
   "cell_type": "code",
   "execution_count": 40,
   "id": "31f290c7-866c-44fd-adb4-17ac8b54f6f4",
   "metadata": {},
   "outputs": [
    {
     "name": "stderr",
     "output_type": "stream",
     "text": [
      "100%|████████████████████████████████████████████████████████| 2058901/2058901 [01:42<00:00, 20171.46it/s]"
     ]
    },
    {
     "name": "stdout",
     "output_type": "stream",
     "text": [
      "CPU times: user 1min 36s, sys: 2.69 s, total: 1min 39s\n",
      "Wall time: 1min 42s\n"
     ]
    },
    {
     "name": "stderr",
     "output_type": "stream",
     "text": [
      "\n"
     ]
    }
   ],
   "source": [
    "%%time\n",
    "\n",
    "for r in tqdm(range(dataset.adjacency.shape[0])):\n",
    "    \n",
    "    # Extract word counts for each abstract\n",
    "    abst = abstracts_tokens[r]\n",
    "    if len(abst) > 0:\n",
    "        cnt_abstract_tokens = Counter(abstracts_tokens[r])\n",
    "        dst, cnt = zip(*cnt_abstract_tokens.items())\n",
    "        l_dst, l_cnt = list(dst), list(cnt)\n",
    "\n",
    "        # Fill node features with word counts (BoW)\n",
    "        biadjacency[r, l_dst] = l_cnt"
   ]
  },
  {
   "cell_type": "code",
   "execution_count": 41,
   "id": "255d0223-f2ee-4200-8ff7-090fccced91d",
   "metadata": {},
   "outputs": [
    {
     "data": {
      "text/plain": [
       "(2058901, 1821694)"
      ]
     },
     "execution_count": 41,
     "metadata": {},
     "output_type": "execute_result"
    }
   ],
   "source": [
    "biadjacency.shape"
   ]
  },
  {
   "cell_type": "code",
   "execution_count": 27,
   "id": "93d21e86-018a-44a1-ae3b-efd838024fa1",
   "metadata": {},
   "outputs": [
    {
     "data": {
      "text/plain": [
       "113"
      ]
     },
     "execution_count": 27,
     "metadata": {},
     "output_type": "execute_result"
    }
   ],
   "source": [
    "biadjacency3 nodes without abstract ...\n",
    "res = 0\n",
    "for val in abstracts_tokens:\n",
    "    if len(val) == 0:\n",
    "        res += 1\n",
    "res"
   ]
  },
  {
   "cell_type": "code",
   "execution_count": 32,
   "id": "65a95020-9c5e-479f-b1ba-08701fab1b0f",
   "metadata": {},
   "outputs": [],
   "source": [
    "biadjacency = biadjacency_cp.tocsr()"
   ]
  },
  {
   "cell_type": "code",
   "execution_count": 42,
   "id": "602d9b88-3251-4e52-b8ef-457b345c6a06",
   "metadata": {},
   "outputs": [
    {
     "data": {
      "text/plain": [
       "<1x1821694 sparse matrix of type '<class 'numpy.int16'>'\n",
       "\twith 96 stored elements in List of Lists format>"
      ]
     },
     "execution_count": 42,
     "metadata": {},
     "output_type": "execute_result"
    }
   ],
   "source": [
    "biadjacency[0, :]"
   ]
  },
  {
   "cell_type": "code",
   "execution_count": 44,
   "id": "3fba747f-52f9-4052-97c6-243e202213ea",
   "metadata": {},
   "outputs": [
    {
     "data": {
      "text/plain": [
       "190753627"
      ]
     },
     "execution_count": 44,
     "metadata": {},
     "output_type": "execute_result"
    }
   ],
   "source": [
    "biadjacency_cp.nnz"
   ]
  },
  {
   "cell_type": "code",
   "execution_count": 37,
   "id": "02b06363-4ebd-49d8-a2bf-95478ae12671",
   "metadata": {},
   "outputs": [
    {
     "data": {
      "text/plain": [
       "96"
      ]
     },
     "execution_count": 37,
     "metadata": {},
     "output_type": "execute_result"
    }
   ],
   "source": [
    "len(Counter(abstracts_tokens[0]))"
   ]
  },
  {
   "cell_type": "code",
   "execution_count": 40,
   "id": "6d21604b-af51-4686-a3f9-855d969b2221",
   "metadata": {},
   "outputs": [
    {
     "name": "stdout",
     "output_type": "stream",
     "text": [
      "0 As\n"
     ]
    }
   ],
   "source": [
    "for k, v in idx2words.items():\n",
    "    print(k, v)\n",
    "    break"
   ]
  },
  {
   "cell_type": "code",
   "execution_count": 49,
   "id": "ade1be78-28a7-4dc0-8bc6-317fff5b7681",
   "metadata": {},
   "outputs": [
    {
     "data": {
      "text/plain": [
       "1821694"
      ]
     },
     "execution_count": 49,
     "metadata": {},
     "output_type": "execute_result"
    }
   ],
   "source": [
    "len(dblp_cs.get('names_col'))"
   ]
  },
  {
   "cell_type": "code",
   "execution_count": 46,
   "id": "e81292a9-6d63-4f3d-9d5e-ca2975f3d74a",
   "metadata": {},
   "outputs": [],
   "source": [
    "dblp_cs['biadjacency'] = biadjacency"
   ]
  },
  {
   "cell_type": "code",
   "execution_count": 47,
   "id": "6db73ba4-bf0c-4651-a76c-e3fe872b9bfb",
   "metadata": {},
   "outputs": [
    {
     "data": {
      "text/plain": [
       "{'adjacency': <2058901x2058901 sparse matrix of type '<class 'numpy.int64'>'\n",
       " \twith 39034212 stored elements in Compressed Sparse Row format>,\n",
       " 'names': array(['53e99784b7602d9701f3e15d', '53e99784b7602d9701f3f411',\n",
       "        '53e99784b7602d9701f3f5fe', ..., '60754485e4510cd7c836e05d',\n",
       "        '60754495e4510cd7c83703fa', '607544aae4510cd7c8371f24'],\n",
       "       dtype='<U24'),\n",
       " 'meta': {'name': 'DBLP articles V13',\n",
       "  'description': 'Links connecting DBLP articles in `Computer Science` if one article cites the other (directed)',\n",
       "  'source': 'https://www.aminer.org/citation',\n",
       "  'date': 'November 2022'},\n",
       " 'biadjacency': <2058901x1821694 sparse matrix of type '<class 'numpy.int16'>'\n",
       " \twith 190753627 stored elements in List of Lists format>,\n",
       " 'names_col': array(['As', 'process', 'variations', ..., 'preconditionerrnfor',\n",
       "        'partitioningrnand', 'SIMPLEtype'], dtype='<U506')}"
      ]
     },
     "execution_count": 47,
     "metadata": {},
     "output_type": "execute_result"
    }
   ],
   "source": [
    "dblp_cs"
   ]
  },
  {
   "cell_type": "code",
   "execution_count": 31,
   "id": "97fb630f-0eea-4c23-8fa6-0a9125eb2576",
   "metadata": {},
   "outputs": [],
   "source": [
    "dataset.names_col = words"
   ]
  },
  {
   "cell_type": "code",
   "execution_count": 32,
   "id": "5f2f8309-13fb-4dc2-bde8-3fdf7ad3d0c3",
   "metadata": {},
   "outputs": [
    {
     "data": {
      "text/plain": [
       "{'adjacency': <2058901x2058901 sparse matrix of type '<class 'numpy.int64'>'\n",
       " \twith 39034212 stored elements in Compressed Sparse Row format>,\n",
       " 'names': array(['53e99784b7602d9701f3e15d', '53e99784b7602d9701f3f411',\n",
       "        '53e99784b7602d9701f3f5fe', ..., '60754485e4510cd7c836e05d',\n",
       "        '60754495e4510cd7c83703fa', '607544aae4510cd7c8371f24'],\n",
       "       dtype='<U24'),\n",
       " 'meta': {'name': 'DBLP articles V13',\n",
       "  'description': 'Links connecting DBLP articles in `Computer Science` if one article cites the other (directed)',\n",
       "  'source': 'https://www.aminer.org/citation',\n",
       "  'date': 'November 2022'},\n",
       " 'names_col': array(['As', 'process', 'variations', ..., 'preconditionerrnfor',\n",
       "        'partitioningrnand', 'SIMPLEtype'], dtype='<U506')}"
      ]
     },
     "execution_count": 32,
     "metadata": {},
     "output_type": "execute_result"
    }
   ],
   "source": [
    "dataset"
   ]
  },
  {
   "cell_type": "code",
   "execution_count": 29,
   "id": "e02eda42-c5d9-4af7-bd91-5e14663c2842",
   "metadata": {},
   "outputs": [
    {
     "name": "stdout",
     "output_type": "stream",
     "text": [
      "CPU times: user 392 ms, sys: 326 ms, total: 717 ms\n",
      "Wall time: 797 ms\n"
     ]
    }
   ],
   "source": [
    "%%time\n",
    "# Words\n",
    "words = np.array(list(idx2words.values()))"
   ]
  },
  {
   "cell_type": "code",
   "execution_count": 23,
   "id": "7c8d3d5f-9b3a-4432-b68a-ea4d911bc52b",
   "metadata": {},
   "outputs": [
    {
     "ename": "NameError",
     "evalue": "name 'words' is not defined",
     "output_type": "error",
     "traceback": [
      "\u001b[0;31m---------------------------------------------------------------------------\u001b[0m",
      "\u001b[0;31mNameError\u001b[0m                                 Traceback (most recent call last)",
      "Input \u001b[0;32mIn [23]\u001b[0m, in \u001b[0;36m<cell line: 1>\u001b[0;34m()\u001b[0m\n\u001b[0;32m----> 1\u001b[0m \u001b[43mwords\u001b[49m[dblp\u001b[38;5;241m.\u001b[39mbiadjacency[\u001b[38;5;241m0\u001b[39m, :]\u001b[38;5;241m.\u001b[39mindices]\n",
      "\u001b[0;31mNameError\u001b[0m: name 'words' is not defined"
     ]
    }
   ],
   "source": [
    "words[dblp.biadjacency[0, :].indices]"
   ]
  },
  {
   "cell_type": "code",
   "execution_count": 45,
   "id": "07aa6c9f-8ba8-44ff-8853-9fde9943f65a",
   "metadata": {},
   "outputs": [],
   "source": [
    "dataset.biadjacency = biadjacency"
   ]
  },
  {
   "cell_type": "code",
   "execution_count": 46,
   "id": "cac11f4c-799e-4fd0-b2d8-a7253ae560a3",
   "metadata": {},
   "outputs": [
    {
     "data": {
      "text/plain": [
       "dict_keys(['adjacency', 'names', 'meta', 'biadjacency'])"
      ]
     },
     "execution_count": 46,
     "metadata": {},
     "output_type": "execute_result"
    }
   ],
   "source": [
    "dataset.keys()"
   ]
  },
  {
   "cell_type": "code",
   "execution_count": 15,
   "id": "ef864b09-972b-458f-9bf4-3ea65015e623",
   "metadata": {},
   "outputs": [
    {
     "name": "stdout",
     "output_type": "stream",
     "text": [
      "CPU times: user 1.87 ms, sys: 425 ms, total: 427 ms\n",
      "Wall time: 614 ms\n"
     ]
    }
   ],
   "source": [
    "%%time\n",
    "# Load dataset\n",
    "with open('data/DBLP_biadj', 'br') as f:\n",
    "    dblp = pickle.load(f)"
   ]
  },
  {
   "cell_type": "code",
   "execution_count": 33,
   "id": "5cd4ed5e-609d-4560-aacb-039cb8b01ba4",
   "metadata": {},
   "outputs": [
    {
     "data": {
      "text/plain": [
       "dict_keys(['adjacency', 'names', 'meta', 'biadjacency'])"
      ]
     },
     "execution_count": 33,
     "metadata": {},
     "output_type": "execute_result"
    }
   ],
   "source": [
    "dblp.keys()"
   ]
  },
  {
   "cell_type": "code",
   "execution_count": 34,
   "id": "d6a58c70-fe20-43b6-ab97-23bf8ddc9cdb",
   "metadata": {},
   "outputs": [],
   "source": [
    "dblp_cs = dblp.copy()"
   ]
  },
  {
   "cell_type": "code",
   "execution_count": 36,
   "id": "7aac7651-7513-47b5-b82a-09f504df7c23",
   "metadata": {},
   "outputs": [
    {
     "ename": "AttributeError",
     "evalue": "'dict' object has no attribute 'names_col'",
     "output_type": "error",
     "traceback": [
      "\u001b[0;31m---------------------------------------------------------------------------\u001b[0m",
      "\u001b[0;31mAttributeError\u001b[0m                            Traceback (most recent call last)",
      "Input \u001b[0;32mIn [36]\u001b[0m, in \u001b[0;36m<cell line: 1>\u001b[0;34m()\u001b[0m\n\u001b[0;32m----> 1\u001b[0m \u001b[43mdblp_cs\u001b[49m\u001b[38;5;241;43m.\u001b[39;49m\u001b[43mnames_col\u001b[49m \u001b[38;5;241m=\u001b[39m words\n",
      "\u001b[0;31mAttributeError\u001b[0m: 'dict' object has no attribute 'names_col'"
     ]
    }
   ],
   "source": [
    "dblp_cs.names_col = words"
   ]
  },
  {
   "cell_type": "code",
   "execution_count": 37,
   "id": "6f4e1df7-68c9-4c08-9c49-13ed379e9270",
   "metadata": {},
   "outputs": [],
   "source": [
    "dblp_cs['names_col'] = words"
   ]
  },
  {
   "cell_type": "code",
   "execution_count": 38,
   "id": "c3d55886-6b7d-400d-9954-68b3c741c9e4",
   "metadata": {},
   "outputs": [
    {
     "data": {
      "text/plain": [
       "{'adjacency': <2058901x2058901 sparse matrix of type '<class 'numpy.int64'>'\n",
       " \twith 39034212 stored elements in Compressed Sparse Row format>,\n",
       " 'names': array(['53e99784b7602d9701f3e15d', '53e99784b7602d9701f3f411',\n",
       "        '53e99784b7602d9701f3f5fe', ..., '60754485e4510cd7c836e05d',\n",
       "        '60754495e4510cd7c83703fa', '607544aae4510cd7c8371f24'],\n",
       "       dtype='<U24'),\n",
       " 'meta': {'name': 'DBLP articles V13',\n",
       "  'description': 'Links connecting DBLP articles in `Computer Science` if one article cites the other (directed)',\n",
       "  'source': 'https://www.aminer.org/citation',\n",
       "  'date': 'November 2022'},\n",
       " 'biadjacency': <2058901x2058901 sparse matrix of type '<class 'numpy.int16'>'\n",
       " \twith 190753627 stored elements in Compressed Sparse Row format>,\n",
       " 'names_col': array(['As', 'process', 'variations', ..., 'preconditionerrnfor',\n",
       "        'partitioningrnand', 'SIMPLEtype'], dtype='<U506')}"
      ]
     },
     "execution_count": 38,
     "metadata": {},
     "output_type": "execute_result"
    }
   ],
   "source": [
    "dblp_cs"
   ]
  },
  {
   "cell_type": "markdown",
   "id": "53356c30-c90c-474b-9578-c1c1c07b5aa3",
   "metadata": {},
   "source": [
    "## Save data"
   ]
  },
  {
   "cell_type": "code",
   "execution_count": null,
   "id": "c49eaf4b-4781-429c-b8a5-1df380d0b28e",
   "metadata": {},
   "outputs": [],
   "source": [
    "dataset = Bunch()\n",
    "dataset.adjacency = adjacency\n",
    "dataset.biadjacency = biadjacency\n",
    "dataset.names = names\n",
    "dataset.names_col = names_col\n",
    "\n",
    "meta = Bunch()\n",
    "meta.name = \"DBLP_cs articles V13\"\n",
    "meta.description = 'Links connecting DBLP articles in `Computer Science` if one article cites the other (directed)'\n",
    "meta.source = 'https://www.aminer.org/citation'\n",
    "meta.date = 'November 2022'\n",
    "dataset.meta = meta"
   ]
  },
  {
   "cell_type": "code",
   "execution_count": 47,
   "id": "283bcaa7-1032-4423-be21-e06b366abf7c",
   "metadata": {},
   "outputs": [
    {
     "name": "stdout",
     "output_type": "stream",
     "text": [
      "CPU times: user 98.7 ms, sys: 1.49 s, total: 1.59 s\n",
      "Wall time: 3.89 s\n"
     ]
    }
   ],
   "source": [
    "%%time\n",
    "with open('data/DBLP_cs', 'bw') as f:\n",
    "    pickle.dump(dataset, f)"
   ]
  },
  {
   "cell_type": "code",
   "execution_count": 50,
   "id": "4f029686-5c5d-4dbc-9249-d37ef3f91dc3",
   "metadata": {},
   "outputs": [
    {
     "name": "stdout",
     "output_type": "stream",
     "text": [
      "CPU times: user 4.19 s, sys: 5.37 s, total: 9.56 s\n",
      "Wall time: 13.8 s\n"
     ]
    }
   ],
   "source": [
    "%%time\n",
    "with open('data/DBLP_cs', 'bw') as f:\n",
    "    pickle.dump(dblp_cs, f)"
   ]
  },
  {
   "cell_type": "code",
   "execution_count": null,
   "id": "044cb6ea-d861-4a91-a20a-cd7216ed7d3e",
   "metadata": {},
   "outputs": [],
   "source": []
  }
 ],
 "metadata": {
  "kernelspec": {
   "display_name": "COMEG",
   "language": "python",
   "name": "comeg"
  },
  "language_info": {
   "codemirror_mode": {
    "name": "ipython",
    "version": 3
   },
   "file_extension": ".py",
   "mimetype": "text/x-python",
   "name": "python",
   "nbconvert_exporter": "python",
   "pygments_lexer": "ipython3",
   "version": "3.9.15"
  }
 },
 "nbformat": 4,
 "nbformat_minor": 5
}
