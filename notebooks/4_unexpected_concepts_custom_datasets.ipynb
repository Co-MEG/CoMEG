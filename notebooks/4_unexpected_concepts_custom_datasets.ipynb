{
 "cells": [
  {
   "cell_type": "markdown",
   "id": "3e466124-a6fe-4976-8244-77ce0685a853",
   "metadata": {},
   "source": [
    "# Unexpected subgraphs\n",
    "---"
   ]
  },
  {
   "cell_type": "markdown",
   "id": "bdc71b89-6221-4528-8dd8-eea366fd2276",
   "metadata": {},
   "source": [
    "Given an attributed graph $\\mathcal{G}=(\\mathcal{V, E, A})$, use **unexpectedness** $U=C_w - C$ to filter out attributed subgraphs $G_i=(V_i, E_i, A_i)$.\n",
    "\n",
    "The unexpectedness of an attributed subgraph $G = (V, E, A)$ is defined as the sum of the unexpectedness of its structure $g$ and the unexpectedness of the set of attributes its nodes are sharing $A$\n",
    "$$\n",
    "U(G) = U(g) + U(A)\n",
    "$$\n",
    "\n",
    "**Subgraph structure** $g$   \n",
    "* $U(g)=C_w(g) - C(g)$\n",
    "* description complexity $C(g)$ is the number of bits to describe vertices and edges in graph  \n",
    "$C(g) = \\log(|V|) + \\sum_{v \\in V}\\log{(b+1)} + \\log(\\binom{|V|}{k_v})$, with $b=\\max_{v \\in V}(\\text{deg}(v))$ and $k$ is the number of non zero elements in a row  \n",
    "* generation complexity $C_w(g)$ is the number of bits to describe a random graph sampled in original graph $\\mathcal{G}$, with a given number of nodes and density\n",
    "\n",
    "**Attributes** $A$\n",
    "* $U(A)=C_w(A)-C(A)$\n",
    "* description complexity $C(A)$ is the minimum description length for identifying the subgraph sharing characteristics $A \\in \\mathcal{A}$. It is defined using the number of occurences of each attribute $a \\in A$, $\\#a$. With this approach, a very common attribute such as '$\\texttt{the}$' will yield a large complexity, whereas a non-common attribute will be considered as less complex.  \n",
    "$C(A)=\\sum_{a \\in A}\\log(\\#a)$ \n",
    "* generation complexity $C_w(A)$ is the minimum description length to describe a set of $|A|$ elements from a vocabulary of size $\\mathcal{A}$  \n",
    "$C_w(A)=\\log(\\binom{|\\mathcal{A}|}{|A|})$"
   ]
  },
  {
   "cell_type": "code",
   "execution_count": 2,
   "id": "c527bf61-6499-46dc-8745-2c9472a85e27",
   "metadata": {},
   "outputs": [],
   "source": [
    "from collections import defaultdict, Counter\n",
    "from contextlib import redirect_stdout\n",
    "from IPython.display import SVG\n",
    "import matplotlib.pyplot as plt\n",
    "import numpy as np\n",
    "import pickle\n",
    "from random import random\n",
    "import seaborn as sns\n",
    "from scipy import sparse, special\n",
    "\n",
    "from sknetwork.clustering import get_modularity, KMeans, Louvain\n",
    "from sknetwork.data import load_netset, from_edge_list\n",
    "from sknetwork.embedding import Spectral, SVD\n",
    "from sknetwork.gnn import GNNClassifier\n",
    "from sknetwork.ranking import top_k\n",
    "from sknetwork.topology import Triangles, Cliques, get_connected_components\n",
    "from sknetwork.utils import get_degrees, get_membership, get_neighbors\n",
    "from sknetwork.utils.kmeans import KMeansDense\n",
    "from sknetwork.utils.check import get_probs\n",
    "from sknetwork.visualization import svg_graph\n",
    "\n",
    "from tfidf import TfIdf"
   ]
  },
  {
   "cell_type": "code",
   "execution_count": 3,
   "id": "cf69c5b9-460c-4cd1-a030-844d5dc7deb0",
   "metadata": {},
   "outputs": [
    {
     "name": "stdout",
     "output_type": "stream",
     "text": [
      "Parsing files...\n",
      "Done.\n"
     ]
    }
   ],
   "source": [
    "wikivitals = load_netset('wikischools')"
   ]
  },
  {
   "cell_type": "code",
   "execution_count": 4,
   "id": "bc754a98-7042-41a9-be73-94fc7291d8d3",
   "metadata": {},
   "outputs": [],
   "source": [
    "adjacency = wikivitals.adjacency\n",
    "biadjacency = wikivitals.biadjacency\n",
    "names = wikivitals.names\n",
    "words = wikivitals.names_col\n",
    "labels = wikivitals.labels"
   ]
  },
  {
   "cell_type": "code",
   "execution_count": 5,
   "id": "d0a2d1f4-c786-4366-80a2-a14af59ad3a8",
   "metadata": {},
   "outputs": [
    {
     "name": "stdout",
     "output_type": "stream",
     "text": [
      "(4403, 4403) 112834\n",
      "(4403, 20527) 474138\n"
     ]
    }
   ],
   "source": [
    "print(adjacency.shape, adjacency.nnz)\n",
    "print(biadjacency.shape, biadjacency.nnz)"
   ]
  },
  {
   "cell_type": "code",
   "execution_count": 6,
   "id": "a2caee12-d8e5-4fcd-ab37-0c27c57b0623",
   "metadata": {},
   "outputs": [],
   "source": [
    "def plot_distrib(values, ax, xlabel='degree', log=True, title=None, color='blue', alpha=1, label='Degree distribution'):\n",
    "    counter = Counter(values)\n",
    "    x, y = zip(*counter.items())\n",
    "    ax.scatter(x, y, marker='+', color=color, alpha=alpha, label=label)\n",
    "    ax.legend()\n",
    "    ax.set_title(title)\n",
    "    if log:\n",
    "        ax.set_xscale('log')\n",
    "        ax.set_xlabel(xlabel + ' (log)')\n",
    "    else:\n",
    "        ax.set_xlabel(xlabel)\n",
    "    ax.set_ylabel('Frequency' + ' (log)')\n",
    "    ax.set_yscale('log')\n",
    "    \n",
    "def mdl_graph(adjacency):\n",
    "    n = adjacency.shape[0]\n",
    "\n",
    "    # density\n",
    "    #d = np.sum(adjacency) / (n * (n - 1))\n",
    "    \n",
    "    # nodes\n",
    "    nodes_mdl = np.log2(n)\n",
    "    \n",
    "    # edges\n",
    "    degrees = adjacency.dot(np.ones(n))\n",
    "    max_degree = np.max(degrees)\n",
    "    edges_mdl = (n + 1) * np.log2(max_degree + 1) + np.sum([np.log2(special.comb(n, deg)) for deg in degrees])\n",
    "\n",
    "    if n == 1:\n",
    "        return 1\n",
    "    else:\n",
    "        return (nodes_mdl + edges_mdl)\n",
    "\n",
    "def entropy(prob):\n",
    "    return prob * -np.log2(prob)\n",
    "\n",
    "def desc_complexity(attrs):\n",
    "    if isinstance(attrs, int):\n",
    "        attrs = [attrs]\n",
    "    prob = 1\n",
    "    for attr in attrs:\n",
    "        prob *= degrees[attr] / np.sum(degrees)\n",
    "    entr = entropy(prob)\n",
    "    return generation_complexity(biadjacency.shape[1], len(attrs)) * entr\n",
    "\n",
    "def expand_list(l, idx, item):\n",
    "    \"\"\"If l[idx] does not exists, expand l with item.\"\"\"\n",
    "    try:\n",
    "        l[idx] = item\n",
    "    except IndexError:\n",
    "        extents.append(item)    "
   ]
  },
  {
   "cell_type": "code",
   "execution_count": 13,
   "id": "4d5928da-de2d-4d00-a1de-c087d9d70719",
   "metadata": {},
   "outputs": [
    {
     "name": "stdout",
     "output_type": "stream",
     "text": [
      "CPU times: user 22.1 ms, sys: 4.69 ms, total: 26.8 ms\n",
      "Wall time: 26.3 ms\n"
     ]
    }
   ],
   "source": [
    "%%time\n",
    "complexity_gen_graphs = defaultdict(list)\n",
    "\n",
    "for num_n in range(10 + 1)[1:15]:\n",
    "    cpt = 0\n",
    "    while cpt < 10:\n",
    "        random_g = sparse.random(num_n, num_n, density=0.5).astype(bool).tocsr()\n",
    "        if random_g is not None and random_g.shape[0] == num_n:\n",
    "            mdl = mdl_graph(random_g)\n",
    "            if num_n != 1:\n",
    "                complexity_gen_graphs[num_n].append(mdl)\n",
    "            else:\n",
    "                # MDL of a graph of 1 node, is the MDL to describe this node\n",
    "                complexity_gen_graphs[num_n].append(1)\n",
    "            cpt += 1"
   ]
  },
  {
   "cell_type": "code",
   "execution_count": null,
   "id": "c4dc0719-476e-4dab-a3ec-19e87fe2171c",
   "metadata": {},
   "outputs": [],
   "source": []
  },
  {
   "cell_type": "code",
   "execution_count": 8,
   "id": "a06bd6ec-05b1-44dc-a561-c54b2963f214",
   "metadata": {},
   "outputs": [],
   "source": [
    "G9 = sparse.csr_matrix(np.array([\n",
    "    [0, 1, 1, 1, 1, 1, 0, 0],\n",
    "    [1, 0, 1, 1, 1, 1, 0, 0],\n",
    "    [1, 1, 0, 1, 1, 1, 0, 0],\n",
    "    [1, 1, 1, 0, 1, 1, 0, 0],\n",
    "    [1, 1, 1, 1, 0, 1, 1, 0],\n",
    "    [1, 1, 1, 1, 1, 0, 1, 0],\n",
    "    [0, 0, 0, 0, 1, 1, 0, 1],\n",
    "    [0, 0, 0, 0, 0, 0, 1, 0]\n",
    "]))\n",
    "X9 = sparse.csr_matrix(np.array([\n",
    "    [1, 1, 1, 1, 0, 0, 0],\n",
    "    [1, 1, 1, 1, 0, 0, 0],\n",
    "    [1, 1, 1, 1, 0, 0, 0],\n",
    "    [1, 1, 1, 1, 0, 0, 0],\n",
    "    [1, 1, 1, 1, 0, 0, 0],\n",
    "    [1, 1, 1, 1, 0, 0, 0],\n",
    "    [1, 1, 0, 0, 1, 1, 1],\n",
    "    [0, 0, 0, 0, 0, 0, 1],\n",
    "]))\n",
    "names9 = np.array(range(G9.shape[0])).astype(str)\n",
    "names_col9 = np.array(['a', 'b', 'c', 'd', 'e', 'f', 'g'])"
   ]
  },
  {
   "cell_type": "code",
   "execution_count": 9,
   "id": "4591a279-bfdf-42b3-b136-a160b70eccec",
   "metadata": {},
   "outputs": [
    {
     "data": {
      "image/svg+xml": [
       "<svg xmlns=\"http://www.w3.org/2000/svg\" width=\"668.0\" height=\"340\">\n",
       "<path stroke-width=\"1\" stroke=\"gray\" d=\"M 396 307 337 320\"/>\n",
       "<path stroke-width=\"1\" stroke=\"gray\" d=\"M 282 236 396 307\"/>\n",
       "<path stroke-width=\"1\" stroke=\"gray\" d=\"M 282 236 337 320\"/>\n",
       "<path stroke-width=\"1\" stroke=\"gray\" d=\"M 282 236 420 218\"/>\n",
       "<path stroke-width=\"1\" stroke=\"gray\" d=\"M 282 236 380 149\"/>\n",
       "<path stroke-width=\"1\" stroke=\"gray\" d=\"M 282 236 303 153\"/>\n",
       "<path stroke-width=\"1\" stroke=\"gray\" d=\"M 282 236 159 106\"/>\n",
       "<path stroke-width=\"1\" stroke=\"gray\" d=\"M 380 149 303 153\"/>\n",
       "<path stroke-width=\"1\" stroke=\"gray\" d=\"M 303 153 396 307\"/>\n",
       "<path stroke-width=\"1\" stroke=\"gray\" d=\"M 303 153 420 218\"/>\n",
       "<path stroke-width=\"1\" stroke=\"gray\" d=\"M 303 153 380 149\"/>\n",
       "<path stroke-width=\"1\" stroke=\"gray\" d=\"M 303 153 282 236\"/>\n",
       "<path stroke-width=\"1\" stroke=\"gray\" d=\"M 303 153 159 106\"/>\n",
       "<path stroke-width=\"1\" stroke=\"gray\" d=\"M 159 106 282 236\"/>\n",
       "<path stroke-width=\"1\" stroke=\"gray\" d=\"M 159 106 303 153\"/>\n",
       "<path stroke-width=\"1\" stroke=\"gray\" d=\"M 303 153 337 320\"/>\n",
       "<path stroke-width=\"1\" stroke=\"gray\" d=\"M 380 149 282 236\"/>\n",
       "<path stroke-width=\"1\" stroke=\"gray\" d=\"M 380 149 420 218\"/>\n",
       "<path stroke-width=\"1\" stroke=\"gray\" d=\"M 380 149 337 320\"/>\n",
       "<path stroke-width=\"1\" stroke=\"gray\" d=\"M 396 307 420 218\"/>\n",
       "<path stroke-width=\"1\" stroke=\"gray\" d=\"M 396 307 380 149\"/>\n",
       "<path stroke-width=\"1\" stroke=\"gray\" d=\"M 396 307 282 236\"/>\n",
       "<path stroke-width=\"1\" stroke=\"gray\" d=\"M 396 307 303 153\"/>\n",
       "<path stroke-width=\"1\" stroke=\"gray\" d=\"M 337 320 396 307\"/>\n",
       "<path stroke-width=\"1\" stroke=\"gray\" d=\"M 337 320 420 218\"/>\n",
       "<path stroke-width=\"1\" stroke=\"gray\" d=\"M 337 320 380 149\"/>\n",
       "<path stroke-width=\"1\" stroke=\"gray\" d=\"M 337 320 282 236\"/>\n",
       "<path stroke-width=\"1\" stroke=\"gray\" d=\"M 337 320 303 153\"/>\n",
       "<path stroke-width=\"1\" stroke=\"gray\" d=\"M 420 218 396 307\"/>\n",
       "<path stroke-width=\"1\" stroke=\"gray\" d=\"M 420 218 337 320\"/>\n",
       "<path stroke-width=\"1\" stroke=\"gray\" d=\"M 420 218 380 149\"/>\n",
       "<path stroke-width=\"1\" stroke=\"gray\" d=\"M 420 218 282 236\"/>\n",
       "<path stroke-width=\"1\" stroke=\"gray\" d=\"M 420 218 303 153\"/>\n",
       "<path stroke-width=\"1\" stroke=\"gray\" d=\"M 380 149 396 307\"/>\n",
       "<path stroke-width=\"1\" stroke=\"gray\" d=\"M 159 106 20 20\"/>\n",
       "<path stroke-width=\"1\" stroke=\"gray\" d=\"M 20 20 159 106\"/>\n",
       "<circle cx=\"396\" cy=\"307\" r=\"7.0\" style=\"fill:gray;stroke:black;stroke-width:1.0\"/>\n",
       "<circle cx=\"337\" cy=\"320\" r=\"7.0\" style=\"fill:gray;stroke:black;stroke-width:1.0\"/>\n",
       "<circle cx=\"420\" cy=\"218\" r=\"7.0\" style=\"fill:gray;stroke:black;stroke-width:1.0\"/>\n",
       "<circle cx=\"380\" cy=\"149\" r=\"7.0\" style=\"fill:gray;stroke:black;stroke-width:1.0\"/>\n",
       "<circle cx=\"282\" cy=\"236\" r=\"7.0\" style=\"fill:gray;stroke:black;stroke-width:1.0\"/>\n",
       "<circle cx=\"303\" cy=\"153\" r=\"7.0\" style=\"fill:gray;stroke:black;stroke-width:1.0\"/>\n",
       "<circle cx=\"159\" cy=\"106\" r=\"7.0\" style=\"fill:gray;stroke:black;stroke-width:1.0\"/>\n",
       "<circle cx=\"20\" cy=\"20\" r=\"7.0\" style=\"fill:gray;stroke:black;stroke-width:1.0\"/>\n",
       "<text text-anchor=\"start\" x=\"406\" y=\"307\" font-size=\"12\">0-['a' 'b' 'c' 'd']</text><text text-anchor=\"start\" x=\"347\" y=\"320\" font-size=\"12\">1-['a' 'b' 'c' 'd']</text><text text-anchor=\"start\" x=\"430\" y=\"218\" font-size=\"12\">2-['a' 'b' 'c' 'd']</text><text text-anchor=\"start\" x=\"390\" y=\"149\" font-size=\"12\">3-['a' 'b' 'c' 'd']</text><text text-anchor=\"start\" x=\"292\" y=\"236\" font-size=\"12\">4-['a' 'b' 'c' 'd']</text><text text-anchor=\"start\" x=\"313\" y=\"153\" font-size=\"12\">5-['a' 'b' 'c' 'd']</text><text text-anchor=\"start\" x=\"169\" y=\"106\" font-size=\"12\">6-['a' 'b' 'e' 'f' 'g']</text><text text-anchor=\"start\" x=\"30\" y=\"20\" font-size=\"12\">7-['g']</text></svg>"
      ],
      "text/plain": [
       "<IPython.core.display.SVG object>"
      ]
     },
     "execution_count": 9,
     "metadata": {},
     "output_type": "execute_result"
    }
   ],
   "source": [
    "SVG(svg_graph(G9, names=[n + '-' + str(names_col9[x.indices]) for n, x in zip(names9, X9)]))"
   ]
  },
  {
   "cell_type": "code",
   "execution_count": 7,
   "id": "9d55ec6c-f8d1-4129-aafb-2db602a57cb1",
   "metadata": {},
   "outputs": [],
   "source": [
    "def is_cannonical(context, extents, intents, r, y):\n",
    "    global r_new\n",
    "\n",
    "    for k in range(len(intents[r])-1, -1, -1):\n",
    "        for j in range(y, intents[r][k], -1):            \n",
    "            for h in range(len(extents[r_new])):\n",
    "                if context[extents[r_new][h], j] == 0:\n",
    "                    h -= 1 # Necessary for next test in case last interaction of h for-loop returns False\n",
    "                    break\n",
    "            if h == len(extents[r_new]) - 1:\n",
    "                return False\n",
    "        y = intents[r][k] - 1\n",
    "\n",
    "    for j in reversed(range(y, -1, -1)):\n",
    "        for h in range(len(extents[r_new])):\n",
    "            if context[extents[r_new][h], j] == 0:\n",
    "                h -= 1 # Necessary for next test in case last interaction of h for-loop returns False\n",
    "                break\n",
    "        if h == len(extents[r_new]) - 1:\n",
    "            return False\n",
    "    \n",
    "    return True\n",
    "\n",
    "def extension(attrs, context):\n",
    "    ext = set()\n",
    "    if len(attrs) == 0:\n",
    "        return np.arange(0, context.shape[0])\n",
    "    for a in attrs:\n",
    "        nodes = set(get_neighbors(context, node=a, transpose=True))\n",
    "        if len(ext) == 0:\n",
    "            ext.update(nodes)\n",
    "        else:\n",
    "            ext &= nodes\n",
    "        if len(ext) == 0:\n",
    "            break\n",
    "    return np.asarray(list(ext))\n",
    "\n",
    "def intention(nodes, context):\n",
    "    intent = set()\n",
    "    if len(nodes) == 0:\n",
    "        return np.arange(0, context.shape[1])\n",
    "    for n in nodes:\n",
    "        attrs = set(get_neighbors(context, node=n))\n",
    "        if len(intent) == 0:\n",
    "            intent.update(attrs)\n",
    "        else:\n",
    "            intent &= attrs\n",
    "        if len(attrs) == 0:\n",
    "            break\n",
    "    return np.asarray(list(intent))\n",
    "\n",
    "def graph_unexpectedness(adjacency, gen_complexities):\n",
    "    n = adjacency.shape[0]\n",
    "    complexity_desc_g = mdl_graph(adjacency)\n",
    "    complexity_gen_g = np.mean(gen_complexities.get(n))\n",
    "    return complexity_gen_g - complexity_desc_g\n",
    "\n",
    "def attr_unexpectedness(biadjacency, attributes, degrees):\n",
    "    complexity_gen_a = np.log2(special.comb(biadjacency.shape[1], len(attributes)))\n",
    "    complexity_desc_a = 0\n",
    "    for a in attributes:\n",
    "        complexity_desc_a += np.log2(degrees[a])\n",
    "    return complexity_gen_a - complexity_desc_a\n",
    "\n",
    "def pattern_unexpectedness(adjacency, biadjacency, gen_complexities, attributes, degrees):\n",
    "    u_g = graph_unexpectedness(adjacency, gen_complexities)\n",
    "    u_a = attr_unexpectedness(biadjacency, attributes, degrees)\n",
    "    return u_g + u_a"
   ]
  },
  {
   "cell_type": "code",
   "execution_count": 8,
   "id": "4763a2b1-7e6c-41ed-8eed-ead340760825",
   "metadata": {},
   "outputs": [],
   "source": [
    "class Pattern:\n",
    "    def __init__(self, nodes, attrs):\n",
    "        self.nodes = set(nodes)\n",
    "        self.attrs = attrs\n",
    "        \n",
    "    def intent(self, nodes, context):\n",
    "        intent = set()\n",
    "        if len(self.nodes) == 0:\n",
    "            return np.arange(0, context.shape[1])\n",
    "        for n in self.nodes:\n",
    "            attrs = set(get_neighbors(context, node=n))\n",
    "            if len(intent) == 0:\n",
    "                intent.update(attrs)\n",
    "            else:\n",
    "                intent &= attrs\n",
    "            if len(intent) == 0:\n",
    "                break\n",
    "        return np.asarray(list(intent))\n",
    "    \n",
    "    def extent(self, attributes, context, adjacency):\n",
    "        ext = set()\n",
    "        if len(attributes) == 0:\n",
    "            return np.arange(0, context.shape[0])\n",
    "        for a in attributes:\n",
    "            nodes = set(get_neighbors(context, node=a, transpose=True))\n",
    "            if len(ext) == 0:\n",
    "                ext.update(nodes)\n",
    "            else:\n",
    "                ext &= nodes\n",
    "            if len(ext) == 0:\n",
    "                break\n",
    "        return np.asarray(list(ext))\n",
    "\n",
    "    def minus(self, I):\n",
    "        return list(set(I).difference(self.attrs))\n",
    "    \n",
    "    def copy(self):\n",
    "        return Pattern(self.nodes.copy(), self.attrs.copy())\n",
    "    \n",
    "    def add(self, x):\n",
    "        self.attrs.add(x)"
   ]
  },
  {
   "cell_type": "code",
   "execution_count": 116,
   "id": "c53c708e-307f-47a4-b6e9-843e032405f6",
   "metadata": {},
   "outputs": [],
   "source": [
    "import copy\n",
    "\n",
    "def graph_enum(graph, context, pattern, s=5, EL=set(), pattern_list=[], unexs=[]):\n",
    "    global depth\n",
    "    \n",
    "    print(f'EL: {EL}, depth: {depth}')\n",
    "    q = pattern.attrs\n",
    "    \n",
    "    if len(pattern.attrs) == 0:\n",
    "        unex = 0\n",
    "        unexs.append(0)\n",
    "    else:\n",
    "        unex_g = graph_unexpectedness(adjacency[np.array(list(pattern.nodes)), :][:, np.array(list(pattern.nodes))], complexity_gen_graphs)\n",
    "        unex_a = attr_unexpectedness(context, np.array(list(pattern.attrs)), degs)\n",
    "        unex = unex_g + unex_a\n",
    "        unexs.append(unex)\n",
    "    \n",
    "    print(f'Candidate pattern: ({pattern.nodes, pattern.attrs})')\n",
    "    if unex - unexs[depth-1] > 0:\n",
    "        print(f'  --> Pattern added to list')\n",
    "        pattern_list.append(pattern)\n",
    "    print(f'Patterns: {[(x.nodes, x.attrs) for x in pattern_list]} - unexs: {unexs} - depth: {depth}')\n",
    "    \n",
    "    candidates = [x for x in pattern.minus(list(range(context.shape[1]))) if not x in EL]\n",
    "    \n",
    "    pattern_bak = pattern.copy()\n",
    "    for x in candidates:\n",
    "        print(f'Candidate: {x}')\n",
    "        \n",
    "        pattern_x = Pattern(pattern_bak.nodes.copy(), copy.deepcopy(pattern_bak.attrs))\n",
    "        S = pattern_x.nodes.copy()\n",
    "        \n",
    "        # Add candidate to pattern\n",
    "        pattern_x.add(x)\n",
    "        \n",
    "        # Support set (extent) of q_x\n",
    "        subs = pattern_x.extent(pattern_x.attrs, context, adjacency)\n",
    "        \n",
    "        p_x = Pattern(subs, pattern_x.attrs)\n",
    "        \n",
    "        if len(p_x.nodes) >= s:\n",
    "            \n",
    "            # Get new intent\n",
    "            p_x.attrs = set(p_x.intent(p_x.nodes, context))\n",
    "            langs = p_x.attrs.intersection(EL)\n",
    "            \n",
    "            \n",
    "            unex_g = graph_unexpectedness(adjacency[np.array(list(p_x.nodes)), :][:, np.array(list(p_x.nodes))], complexity_gen_graphs)\n",
    "            unex_a = attr_unexpectedness(context, np.array(list(p_x.attrs)), degs)\n",
    "            unex = unex_g + unex_a\n",
    "            #print(f'new pattern: ({p_x.nodes}, {p_x.attrs}) -- Unex: {unex}')\n",
    "            \n",
    "            if len(langs) == 0 and p_x.attrs != q:\n",
    "                depth += 1\n",
    "                graph_enum(subs, context, p_x, s, EL.copy(), pattern_list, unexs)\n",
    "                EL.add(x) \n",
    "\n",
    "    depth -= 1       \n",
    "    if depth >= 1:        \n",
    "        del unexs[-(depth):]\n",
    "    \n",
    "    print(f'END FUNCTION')        \n",
    "    return pattern_list"
   ]
  },
  {
   "cell_type": "code",
   "execution_count": 97,
   "id": "74d18c25-745d-4f4d-8f86-41d34b2f8356",
   "metadata": {},
   "outputs": [
    {
     "name": "stdout",
     "output_type": "stream",
     "text": [
      "EL: set(), depth: 0\n",
      "Patterns: [({0, 1, 2, 3, 4, 5, 6, 7}, set())] - unexs: [0] - depth: 0\n",
      "END FUNCTION\n"
     ]
    }
   ],
   "source": [
    "# Initialization\n",
    "degs = get_degrees(biadjacency, transpose=True)\n",
    "\n",
    "# Degree of attribute = # articles in which it appears\n",
    "freq_attribute = get_degrees(biadjacency.astype(bool), transpose=True)\n",
    "index = np.flatnonzero((freq_attribute <= 1000) & (freq_attribute >= 10))\n",
    "\n",
    "# Filter data with index\n",
    "biadjacency = biadjacency[:, index]\n",
    "words = words[index]\n",
    "freq_attribute = freq_attribute[index]\n",
    "\n",
    "g = list(range(adjacency.shape[0]))\n",
    "p = Pattern(g, set())\n",
    "p.attrs = set(p.intent(p.nodes, biadjacency))\n",
    "pattern_list = graph_enum(g, biadjacency, p, s=5, EL=set(), pattern_list=[], unexs=[])"
   ]
  },
  {
   "cell_type": "code",
   "execution_count": null,
   "id": "a23bc02e-2582-403e-92ce-974caba8c745",
   "metadata": {},
   "outputs": [],
   "source": [
    "for c in pattern_list:\n",
    "    print(len(c.nodes), c.attrs)"
   ]
  },
  {
   "cell_type": "code",
   "execution_count": 117,
   "id": "85241517-1dd8-47b6-8207-046c38174464",
   "metadata": {},
   "outputs": [],
   "source": [
    "G9 = sparse.csr_matrix(np.array([\n",
    "    [0, 1, 1, 1, 1, 1, 0, 0],\n",
    "    [1, 0, 1, 1, 1, 1, 0, 0],\n",
    "    [1, 1, 0, 1, 1, 1, 0, 0],\n",
    "    [1, 1, 1, 0, 1, 1, 0, 0],\n",
    "    [1, 1, 1, 1, 0, 1, 1, 0],\n",
    "    [1, 1, 1, 1, 1, 0, 1, 0],\n",
    "    [0, 0, 0, 0, 1, 1, 0, 1],\n",
    "    [0, 0, 0, 0, 0, 0, 1, 0]\n",
    "]))\n",
    "X9 = sparse.csr_matrix(np.array([\n",
    "    [1, 1, 1, 1, 0, 0, 0],\n",
    "    [1, 1, 1, 1, 0, 0, 0],\n",
    "    [1, 1, 1, 1, 0, 0, 0],\n",
    "    [1, 1, 1, 1, 0, 0, 0],\n",
    "    [1, 1, 1, 1, 0, 0, 0],\n",
    "    [1, 1, 1, 1, 0, 0, 0],\n",
    "    [1, 1, 0, 0, 1, 1, 1],\n",
    "    [0, 0, 0, 0, 0, 0, 1],\n",
    "]))\n",
    "names9 = np.array(range(G9.shape[0])).astype(str)\n",
    "names_col9 = np.array(['a', 'b', 'c', 'd', 'e', 'f', 'g'])"
   ]
  },
  {
   "cell_type": "code",
   "execution_count": 118,
   "id": "c3c60912-8988-4d27-bf71-3072c74e5584",
   "metadata": {},
   "outputs": [
    {
     "name": "stdout",
     "output_type": "stream",
     "text": [
      "EL: set(), depth: 0\n",
      "Candidate pattern: (({0, 1, 2, 3, 4, 5, 6, 7}, set()))\n",
      "Patterns: [] - unexs: [0] - depth: 0\n",
      "Candidate: 0\n",
      "EL: set(), depth: 1\n",
      "Candidate pattern: (({0, 1, 2, 3, 4, 5, 6}, {0, 1}))\n",
      "  --> Pattern added to list\n",
      "Patterns: [({0, 1, 2, 3, 4, 5, 6}, {0, 1})] - unexs: [0, 2.059613918931671] - depth: 1\n",
      "Candidate: 2\n",
      "EL: set(), depth: 2\n",
      "Candidate pattern: (({0, 1, 2, 3, 4, 5}, {0, 1, 2, 3}))\n",
      "Patterns: [({0, 1, 2, 3, 4, 5, 6}, {0, 1})] - unexs: [0, 2.059613918931671, 1.1301750455172668] - depth: 2\n",
      "Candidate: 4\n",
      "Candidate: 5\n",
      "Candidate: 6\n",
      "END FUNCTION\n",
      "Candidate: 3\n",
      "Candidate: 4\n",
      "EL: {2}, depth: 2\n",
      "Candidate pattern: (({6}, {0, 1, 4, 5, 6}))\n",
      "Patterns: [({0, 1, 2, 3, 4, 5, 6}, {0, 1})] - unexs: [0, 2.059613918931671, -2.2223924213364477] - depth: 2\n",
      "Candidate: 3\n",
      "END FUNCTION\n",
      "Candidate: 5\n",
      "Candidate: 6\n",
      "END FUNCTION\n",
      "Candidate: 1\n",
      "Candidate: 2\n",
      "Candidate: 3\n",
      "Candidate: 4\n",
      "Candidate: 5\n",
      "Candidate: 6\n",
      "EL: {0}, depth: 1\n",
      "Candidate pattern: (({6, 7}, {6}))\n",
      "  --> Pattern added to list\n",
      "Patterns: [({0, 1, 2, 3, 4, 5, 6}, {0, 1}), ({6, 7}, {6})] - unexs: [0, 2.059613918931671, 1.7256507561120942] - depth: 1\n",
      "Candidate: 1\n",
      "Candidate: 2\n",
      "Candidate: 3\n",
      "Candidate: 4\n",
      "Candidate: 5\n",
      "END FUNCTION\n",
      "END FUNCTION\n"
     ]
    }
   ],
   "source": [
    "global depth\n",
    "depth = 0\n",
    "\n",
    "# Initialization\n",
    "adjacency = G9\n",
    "biadjacency = X9 \n",
    "degs = get_degrees(X9, transpose=True)\n",
    "\n",
    "# Degree of attribute = # articles in which it appears\n",
    "freq_attribute = get_degrees(X9.astype(bool), transpose=True)\n",
    "index = np.flatnonzero((freq_attribute <= 1000) & (freq_attribute >= 0))\n",
    "\n",
    "# Filter data with index\n",
    "biadjacency = X9[:, index]\n",
    "words = names_col9[index]\n",
    "freq_attribute = freq_attribute[index]\n",
    "\n",
    "g = list(range(G9.shape[0]))\n",
    "p = Pattern(g, set())\n",
    "p.attrs = set(p.intent(p.nodes, X9))\n",
    "pattern_list = graph_enum(g, X9, p, s=1, EL=set(), pattern_list=[])"
   ]
  },
  {
   "cell_type": "code",
   "execution_count": 119,
   "id": "21f4ad14-7409-420b-9e1a-ea3d74c0ebfc",
   "metadata": {},
   "outputs": [
    {
     "name": "stdout",
     "output_type": "stream",
     "text": [
      "{0, 1, 2, 3, 4, 5, 6} ['a' 'b']\n",
      "{6, 7} ['g']\n"
     ]
    }
   ],
   "source": [
    "for c in pattern_list:\n",
    "    print((c.nodes), names_col9[list(c.attrs)])"
   ]
  },
  {
   "cell_type": "code",
   "execution_count": null,
   "id": "e8b78da1-3b1e-493d-92dc-bcfc7c4bcaff",
   "metadata": {},
   "outputs": [],
   "source": []
  },
  {
   "cell_type": "code",
   "execution_count": null,
   "id": "ccffc750-77b9-4d5b-a2fb-7f0c92e78350",
   "metadata": {},
   "outputs": [],
   "source": []
  },
  {
   "cell_type": "code",
   "execution_count": null,
   "id": "00fbe523-499f-410b-9609-6a51babfcc7f",
   "metadata": {},
   "outputs": [],
   "source": []
  },
  {
   "cell_type": "code",
   "execution_count": 9,
   "id": "9a73e9ba-05e7-41bd-b8e7-f00de78a4243",
   "metadata": {},
   "outputs": [
    {
     "name": "stdout",
     "output_type": "stream",
     "text": [
      "CPU times: user 1min 40s, sys: 3.87 s, total: 1min 44s\n",
      "Wall time: 1min 44s\n"
     ]
    }
   ],
   "source": [
    "%%time\n",
    "complexity_gen_graphs = defaultdict(list)\n",
    "\n",
    "for num_n in range(adjacency.shape[0] + 1)[1:1000]:\n",
    "    cpt = 0\n",
    "    while cpt < 3:\n",
    "        random_g = sparse.random(num_n, num_n, density=0.5).astype(bool).tocsr()\n",
    "        if random_g is not None and random_g.shape[0] == num_n:\n",
    "            mdl = mdl_graph(random_g)\n",
    "            complexity_gen_graphs[num_n].append(mdl)\n",
    "            cpt += 1"
   ]
  },
  {
   "cell_type": "code",
   "execution_count": 150,
   "id": "38df3b89-273b-4bbe-88fd-e1babaeee9b1",
   "metadata": {},
   "outputs": [
    {
     "name": "stdout",
     "output_type": "stream",
     "text": [
      "simpl\n"
     ]
    },
    {
     "data": {
      "image/svg+xml": [
       "<svg xmlns=\"http://www.w3.org/2000/svg\" width=\"880.0\" height=\"640\">\n",
       "<defs><marker id=\"arrow-gray\" markerWidth=\"10\" markerHeight=\"10\" refX=\"9\" refY=\"3\" orient=\"auto\">\n",
       "<path d=\"M0,0 L0,6 L9,3 z\" fill=\"gray\"/></marker></defs>\n",
       "<path stroke-width=\"1\" stroke=\"gray\" d=\"M 389 320 397 324\" marker-end=\"url(#arrow-gray)\"/>\n",
       "<path stroke-width=\"1\" stroke=\"gray\" d=\"M 233 349 238 346\" marker-end=\"url(#arrow-gray)\"/>\n",
       "<path stroke-width=\"1\" stroke=\"gray\" d=\"M 233 349 262 353\" marker-end=\"url(#arrow-gray)\"/>\n",
       "<path stroke-width=\"1\" stroke=\"gray\" d=\"M 233 349 210 350\" marker-end=\"url(#arrow-gray)\"/>\n",
       "<path stroke-width=\"1\" stroke=\"gray\" d=\"M 228 397 230 388\" marker-end=\"url(#arrow-gray)\"/>\n",
       "<path stroke-width=\"1\" stroke=\"gray\" d=\"M 400 308 394 330\" marker-end=\"url(#arrow-gray)\"/>\n",
       "<path stroke-width=\"1\" stroke=\"gray\" d=\"M 400 308 401 295\" marker-end=\"url(#arrow-gray)\"/>\n",
       "<path stroke-width=\"1\" stroke=\"gray\" d=\"M 230 382 235 368\" marker-end=\"url(#arrow-gray)\"/>\n",
       "<path stroke-width=\"1\" stroke=\"gray\" d=\"M 400 308 402 322\" marker-end=\"url(#arrow-gray)\"/>\n",
       "<path stroke-width=\"1\" stroke=\"gray\" d=\"M 435 341 443 332\" marker-end=\"url(#arrow-gray)\"/>\n",
       "<path stroke-width=\"1\" stroke=\"gray\" d=\"M 435 341 408 330\" marker-end=\"url(#arrow-gray)\"/>\n",
       "<path stroke-width=\"1\" stroke=\"gray\" d=\"M 401 289 400 302\" marker-end=\"url(#arrow-gray)\"/>\n",
       "<path stroke-width=\"1\" stroke=\"gray\" d=\"M 478 221 482 224\" marker-end=\"url(#arrow-gray)\"/>\n",
       "<path stroke-width=\"1\" stroke=\"gray\" d=\"M 441 226 437 221\" marker-end=\"url(#arrow-gray)\"/>\n",
       "<path stroke-width=\"1\" stroke=\"gray\" d=\"M 244 343 239 346\" marker-end=\"url(#arrow-gray)\"/>\n",
       "<path stroke-width=\"1\" stroke=\"gray\" d=\"M 263 178 262 184\" marker-end=\"url(#arrow-gray)\"/>\n",
       "<path stroke-width=\"1\" stroke=\"gray\" d=\"M 230 382 228 391\" marker-end=\"url(#arrow-gray)\"/>\n",
       "<path stroke-width=\"1\" stroke=\"gray\" d=\"M 218 345 232 358\" marker-end=\"url(#arrow-gray)\"/>\n",
       "<path stroke-width=\"1\" stroke=\"gray\" d=\"M 295 341 292 358\" marker-end=\"url(#arrow-gray)\"/>\n",
       "<path stroke-width=\"1\" stroke=\"gray\" d=\"M 295 341 293 342\" marker-end=\"url(#arrow-gray)\"/>\n",
       "<path stroke-width=\"1\" stroke=\"gray\" d=\"M 295 341 279 339\" marker-end=\"url(#arrow-gray)\"/>\n",
       "<path stroke-width=\"1\" stroke=\"gray\" d=\"M 387 305 399 323\" marker-end=\"url(#arrow-gray)\"/>\n",
       "<path stroke-width=\"1\" stroke=\"gray\" d=\"M 275 482 280 466\" marker-end=\"url(#arrow-gray)\"/>\n",
       "<path stroke-width=\"1\" stroke=\"gray\" d=\"M 118 204 114 210\" marker-end=\"url(#arrow-gray)\"/>\n",
       "<path stroke-width=\"1\" stroke=\"gray\" d=\"M 459 317 452 323\" marker-end=\"url(#arrow-gray)\"/>\n",
       "<path stroke-width=\"1\" stroke=\"gray\" d=\"M 291 364 288 351\" marker-end=\"url(#arrow-gray)\"/>\n",
       "<path stroke-width=\"1\" stroke=\"gray\" d=\"M 291 364 284 356\" marker-end=\"url(#arrow-gray)\"/>\n",
       "<path stroke-width=\"1\" stroke=\"gray\" d=\"M 291 364 287 342\" marker-end=\"url(#arrow-gray)\"/>\n",
       "<path stroke-width=\"1\" stroke=\"gray\" d=\"M 291 364 291 401\" marker-end=\"url(#arrow-gray)\"/>\n",
       "<path stroke-width=\"1\" stroke=\"gray\" d=\"M 412 316 406 323\" marker-end=\"url(#arrow-gray)\"/>\n",
       "<path stroke-width=\"1\" stroke=\"gray\" d=\"M 421 380 415 364\" marker-end=\"url(#arrow-gray)\"/>\n",
       "<path stroke-width=\"1\" stroke=\"gray\" d=\"M 447 363 438 347\" marker-end=\"url(#arrow-gray)\"/>\n",
       "<path stroke-width=\"1\" stroke=\"gray\" d=\"M 486 228 482 225\" marker-end=\"url(#arrow-gray)\"/>\n",
       "<path stroke-width=\"1\" stroke=\"gray\" d=\"M 244 343 239 356\" marker-end=\"url(#arrow-gray)\"/>\n",
       "<path stroke-width=\"1\" stroke=\"gray\" d=\"M 391 359 393 342\" marker-end=\"url(#arrow-gray)\"/>\n",
       "<path stroke-width=\"1\" stroke=\"gray\" d=\"M 287 431 282 454\" marker-end=\"url(#arrow-gray)\"/>\n",
       "<path stroke-width=\"1\" stroke=\"gray\" d=\"M 287 431 290 430\" marker-end=\"url(#arrow-gray)\"/>\n",
       "<path stroke-width=\"1\" stroke=\"gray\" d=\"M 402 328 408 321\" marker-end=\"url(#arrow-gray)\"/>\n",
       "<path stroke-width=\"1\" stroke=\"gray\" d=\"M 402 328 425 323\" marker-end=\"url(#arrow-gray)\"/>\n",
       "<path stroke-width=\"1\" stroke=\"gray\" d=\"M 402 328 372 334\" marker-end=\"url(#arrow-gray)\"/>\n",
       "<path stroke-width=\"1\" stroke=\"gray\" d=\"M 402 328 411 352\" marker-end=\"url(#arrow-gray)\"/>\n",
       "<path stroke-width=\"1\" stroke=\"gray\" d=\"M 402 328 416 333\" marker-end=\"url(#arrow-gray)\"/>\n",
       "<path stroke-width=\"1\" stroke=\"gray\" d=\"M 402 328 394 324\" marker-end=\"url(#arrow-gray)\"/>\n",
       "<path stroke-width=\"1\" stroke=\"gray\" d=\"M 237 362 232 376\" marker-end=\"url(#arrow-gray)\"/>\n",
       "<path stroke-width=\"1\" stroke=\"gray\" d=\"M 291 407 288 425\" marker-end=\"url(#arrow-gray)\"/>\n",
       "<path stroke-width=\"1\" stroke=\"gray\" d=\"M 296 427 292 413\" marker-end=\"url(#arrow-gray)\"/>\n",
       "<path stroke-width=\"1\" stroke=\"gray\" d=\"M 268 354 263 347\" marker-end=\"url(#arrow-gray)\"/>\n",
       "<path stroke-width=\"1\" stroke=\"gray\" d=\"M 268 354 273 353\" marker-end=\"url(#arrow-gray)\"/>\n",
       "<path stroke-width=\"1\" stroke=\"gray\" d=\"M 268 354 271 370\" marker-end=\"url(#arrow-gray)\"/>\n",
       "<path stroke-width=\"1\" stroke=\"gray\" d=\"M 268 354 243 361\" marker-end=\"url(#arrow-gray)\"/>\n",
       "<path stroke-width=\"1\" stroke=\"gray\" d=\"M 268 354 313 345\" marker-end=\"url(#arrow-gray)\"/>\n",
       "<path stroke-width=\"1\" stroke=\"gray\" d=\"M 296 427 293 428\" marker-end=\"url(#arrow-gray)\"/>\n",
       "<path stroke-width=\"1\" stroke=\"gray\" d=\"M 287 336 287 339\" marker-end=\"url(#arrow-gray)\"/>\n",
       "<path stroke-width=\"1\" stroke=\"gray\" d=\"M 273 338 281 336\" marker-end=\"url(#arrow-gray)\"/>\n",
       "<path stroke-width=\"1\" stroke=\"gray\" d=\"M 273 338 277 346\" marker-end=\"url(#arrow-gray)\"/>\n",
       "<path stroke-width=\"1\" stroke=\"gray\" d=\"M 431 322 441 326\" marker-end=\"url(#arrow-gray)\"/>\n",
       "<path stroke-width=\"1\" stroke=\"gray\" d=\"M 447 327 454 321\" marker-end=\"url(#arrow-gray)\"/>\n",
       "<path stroke-width=\"1\" stroke=\"gray\" d=\"M 447 327 439 336\" marker-end=\"url(#arrow-gray)\"/>\n",
       "<path stroke-width=\"1\" stroke=\"gray\" d=\"M 447 327 437 323\" marker-end=\"url(#arrow-gray)\"/>\n",
       "<path stroke-width=\"1\" stroke=\"gray\" d=\"M 366 335 396 329\" marker-end=\"url(#arrow-gray)\"/>\n",
       "<path stroke-width=\"1\" stroke=\"gray\" d=\"M 366 335 325 343\" marker-end=\"url(#arrow-gray)\"/>\n",
       "<path stroke-width=\"1\" stroke=\"gray\" d=\"M 260 342 265 349\" marker-end=\"url(#arrow-gray)\"/>\n",
       "<path stroke-width=\"1\" stroke=\"gray\" d=\"M 287 345 289 344\" marker-end=\"url(#arrow-gray)\"/>\n",
       "<path stroke-width=\"1\" stroke=\"gray\" d=\"M 287 345 290 358\" marker-end=\"url(#arrow-gray)\"/>\n",
       "<path stroke-width=\"1\" stroke=\"gray\" d=\"M 287 345 279 341\" marker-end=\"url(#arrow-gray)\"/>\n",
       "<path stroke-width=\"1\" stroke=\"gray\" d=\"M 287 345 287 342\" marker-end=\"url(#arrow-gray)\"/>\n",
       "<path stroke-width=\"1\" stroke=\"gray\" d=\"M 273 338 250 342\" marker-end=\"url(#arrow-gray)\"/>\n",
       "<path stroke-width=\"1\" stroke=\"gray\" d=\"M 273 338 266 340\" marker-end=\"url(#arrow-gray)\"/>\n",
       "<path stroke-width=\"1\" stroke=\"gray\" d=\"M 273 338 281 342\" marker-end=\"url(#arrow-gray)\"/>\n",
       "<path stroke-width=\"1\" stroke=\"gray\" d=\"M 287 431 290 413\" marker-end=\"url(#arrow-gray)\"/>\n",
       "<circle cx=\"204\" cy=\"350\" r=\"7.0\" style=\"fill:yellow;stroke:black;stroke-width:1.0\"/>\n",
       "<circle cx=\"389\" cy=\"320\" r=\"7.0\" style=\"fill:purple;stroke:black;stroke-width:1.0\"/>\n",
       "<circle cx=\"369\" cy=\"503\" r=\"7.0\" style=\"fill:green;stroke:black;stroke-width:1.0\"/>\n",
       "<circle cx=\"268\" cy=\"354\" r=\"7.0\" style=\"fill:orange;stroke:black;stroke-width:1.0\"/>\n",
       "<circle cx=\"296\" cy=\"427\" r=\"7.0\" style=\"fill:orange;stroke:black;stroke-width:1.0\"/>\n",
       "<circle cx=\"620\" cy=\"266\" r=\"7.0\" style=\"fill:olive;stroke:black;stroke-width:1.0\"/>\n",
       "<circle cx=\"319\" cy=\"344\" r=\"7.0\" style=\"fill:orange;stroke:black;stroke-width:1.0\"/>\n",
       "<circle cx=\"422\" cy=\"334\" r=\"7.0\" style=\"fill:purple;stroke:black;stroke-width:1.0\"/>\n",
       "<circle cx=\"291\" cy=\"407\" r=\"7.0\" style=\"fill:orange;stroke:black;stroke-width:1.0\"/>\n",
       "<circle cx=\"402\" cy=\"328\" r=\"7.0\" style=\"fill:aqua;stroke:black;stroke-width:1.0\"/>\n",
       "<circle cx=\"398\" cy=\"620\" r=\"7.0\" style=\"fill:yellow;stroke:black;stroke-width:1.0\"/>\n",
       "<circle cx=\"237\" cy=\"362\" r=\"7.0\" style=\"fill:red;stroke:black;stroke-width:1.0\"/>\n",
       "<circle cx=\"20\" cy=\"221\" r=\"7.0\" style=\"fill:yellow;stroke:black;stroke-width:1.0\"/>\n",
       "<circle cx=\"433\" cy=\"216\" r=\"7.0\" style=\"fill:olive;stroke:black;stroke-width:1.0\"/>\n",
       "<circle cx=\"203\" cy=\"246\" r=\"7.0\" style=\"fill:fuchsia;stroke:black;stroke-width:1.0\"/>\n",
       "<circle cx=\"112\" cy=\"216\" r=\"7.0\" style=\"fill:red;stroke:black;stroke-width:1.0\"/>\n",
       "<circle cx=\"271\" cy=\"376\" r=\"7.0\" style=\"fill:yellow;stroke:black;stroke-width:1.0\"/>\n",
       "<circle cx=\"281\" cy=\"460\" r=\"7.0\" style=\"fill:orange;stroke:black;stroke-width:1.0\"/>\n",
       "<circle cx=\"287\" cy=\"336\" r=\"7.0\" style=\"fill:orange;stroke:black;stroke-width:1.0\"/>\n",
       "<circle cx=\"279\" cy=\"352\" r=\"7.0\" style=\"fill:orange;stroke:black;stroke-width:1.0\"/>\n",
       "<circle cx=\"273\" cy=\"338\" r=\"7.0\" style=\"fill:orange;stroke:black;stroke-width:1.0\"/>\n",
       "<circle cx=\"413\" cy=\"358\" r=\"7.0\" style=\"fill:aqua;stroke:black;stroke-width:1.0\"/>\n",
       "<circle cx=\"287\" cy=\"345\" r=\"7.0\" style=\"fill:orange;stroke:black;stroke-width:1.0\"/>\n",
       "<circle cx=\"260\" cy=\"342\" r=\"7.0\" style=\"fill:orange;stroke:black;stroke-width:1.0\"/>\n",
       "<circle cx=\"310\" cy=\"74\" r=\"7.0\" style=\"fill:aqua;stroke:black;stroke-width:1.0\"/>\n",
       "<circle cx=\"261\" cy=\"190\" r=\"7.0\" style=\"fill:purple;stroke:black;stroke-width:1.0\"/>\n",
       "<circle cx=\"366\" cy=\"335\" r=\"7.0\" style=\"fill:purple;stroke:black;stroke-width:1.0\"/>\n",
       "<circle cx=\"117\" cy=\"464\" r=\"7.0\" style=\"fill:red;stroke:black;stroke-width:1.0\"/>\n",
       "<circle cx=\"447\" cy=\"327\" r=\"7.0\" style=\"fill:blue;stroke:black;stroke-width:1.0\"/>\n",
       "<circle cx=\"431\" cy=\"322\" r=\"7.0\" style=\"fill:blue;stroke:black;stroke-width:1.0\"/>\n",
       "<circle cx=\"287\" cy=\"431\" r=\"7.0\" style=\"fill:orange;stroke:black;stroke-width:1.0\"/>\n",
       "<circle cx=\"352\" cy=\"403\" r=\"7.0\" style=\"fill:red;stroke:black;stroke-width:1.0\"/>\n",
       "<circle cx=\"244\" cy=\"343\" r=\"7.0\" style=\"fill:yellow;stroke:black;stroke-width:1.0\"/>\n",
       "<circle cx=\"191\" cy=\"441\" r=\"7.0\" style=\"fill:yellow;stroke:black;stroke-width:1.0\"/>\n",
       "<circle cx=\"441\" cy=\"226\" r=\"7.0\" style=\"fill:green;stroke:black;stroke-width:1.0\"/>\n",
       "<circle cx=\"478\" cy=\"221\" r=\"7.0\" style=\"fill:yellow;stroke:black;stroke-width:1.0\"/>\n",
       "<circle cx=\"176\" cy=\"513\" r=\"7.0\" style=\"fill:aqua;stroke:black;stroke-width:1.0\"/>\n",
       "<circle cx=\"401\" cy=\"289\" r=\"7.0\" style=\"fill:purple;stroke:black;stroke-width:1.0\"/>\n",
       "<circle cx=\"279\" cy=\"258\" r=\"7.0\" style=\"fill:red;stroke:black;stroke-width:1.0\"/>\n",
       "<circle cx=\"435\" cy=\"341\" r=\"7.0\" style=\"fill:blue;stroke:black;stroke-width:1.0\"/>\n",
       "<circle cx=\"171\" cy=\"283\" r=\"7.0\" style=\"fill:blue;stroke:black;stroke-width:1.0\"/>\n",
       "<circle cx=\"263\" cy=\"178\" r=\"7.0\" style=\"fill:brown;stroke:black;stroke-width:1.0\"/>\n",
       "<circle cx=\"516\" cy=\"433\" r=\"7.0\" style=\"fill:red;stroke:black;stroke-width:1.0\"/>\n",
       "<circle cx=\"400\" cy=\"308\" r=\"7.0\" style=\"fill:purple;stroke:black;stroke-width:1.0\"/>\n",
       "<circle cx=\"493\" cy=\"488\" r=\"7.0\" style=\"fill:fuchsia;stroke:black;stroke-width:1.0\"/>\n",
       "<circle cx=\"228\" cy=\"397\" r=\"7.0\" style=\"fill:fuchsia;stroke:black;stroke-width:1.0\"/>\n",
       "<circle cx=\"233\" cy=\"349\" r=\"7.0\" style=\"fill:purple;stroke:black;stroke-width:1.0\"/>\n",
       "<circle cx=\"230\" cy=\"382\" r=\"7.0\" style=\"fill:red;stroke:black;stroke-width:1.0\"/>\n",
       "<circle cx=\"218\" cy=\"345\" r=\"7.0\" style=\"fill:red;stroke:black;stroke-width:1.0\"/>\n",
       "<circle cx=\"486\" cy=\"228\" r=\"7.0\" style=\"fill:yellow;stroke:black;stroke-width:1.0\"/>\n",
       "<circle cx=\"447\" cy=\"363\" r=\"7.0\" style=\"fill:blue;stroke:black;stroke-width:1.0\"/>\n",
       "<circle cx=\"393\" cy=\"336\" r=\"7.0\" style=\"fill:orange;stroke:black;stroke-width:1.0\"/>\n",
       "<circle cx=\"236\" cy=\"141\" r=\"7.0\" style=\"fill:red;stroke:black;stroke-width:1.0\"/>\n",
       "<circle cx=\"421\" cy=\"380\" r=\"7.0\" style=\"fill:aqua;stroke:black;stroke-width:1.0\"/>\n",
       "<circle cx=\"251\" cy=\"20\" r=\"7.0\" style=\"fill:purple;stroke:black;stroke-width:1.0\"/>\n",
       "<circle cx=\"412\" cy=\"316\" r=\"7.0\" style=\"fill:aqua;stroke:black;stroke-width:1.0\"/>\n",
       "<circle cx=\"211\" cy=\"205\" r=\"7.0\" style=\"fill:yellow;stroke:black;stroke-width:1.0\"/>\n",
       "<circle cx=\"355\" cy=\"537\" r=\"7.0\" style=\"fill:red;stroke:black;stroke-width:1.0\"/>\n",
       "<circle cx=\"515\" cy=\"383\" r=\"7.0\" style=\"fill:brown;stroke:black;stroke-width:1.0\"/>\n",
       "<circle cx=\"291\" cy=\"364\" r=\"7.0\" style=\"fill:orange;stroke:black;stroke-width:1.0\"/>\n",
       "<circle cx=\"459\" cy=\"317\" r=\"7.0\" style=\"fill:blue;stroke:black;stroke-width:1.0\"/>\n",
       "<circle cx=\"147\" cy=\"225\" r=\"7.0\" style=\"fill:red;stroke:black;stroke-width:1.0\"/>\n",
       "<circle cx=\"118\" cy=\"204\" r=\"7.0\" style=\"fill:red;stroke:black;stroke-width:1.0\"/>\n",
       "<circle cx=\"527\" cy=\"282\" r=\"7.0\" style=\"fill:purple;stroke:black;stroke-width:1.0\"/>\n",
       "<circle cx=\"275\" cy=\"482\" r=\"7.0\" style=\"fill:orange;stroke:black;stroke-width:1.0\"/>\n",
       "<circle cx=\"387\" cy=\"305\" r=\"7.0\" style=\"fill:yellow;stroke:black;stroke-width:1.0\"/>\n",
       "<circle cx=\"136\" cy=\"90\" r=\"7.0\" style=\"fill:purple;stroke:black;stroke-width:1.0\"/>\n",
       "<circle cx=\"295\" cy=\"341\" r=\"7.0\" style=\"fill:orange;stroke:black;stroke-width:1.0\"/>\n",
       "<circle cx=\"391\" cy=\"359\" r=\"7.0\" style=\"fill:orange;stroke:black;stroke-width:1.0\"/>\n",
       "<circle cx=\"105\" cy=\"391\" r=\"7.0\" style=\"fill:brown;stroke:black;stroke-width:1.0\"/>\n",
       "<text text-anchor=\"start\" x=\"214\" y=\"350\" font-size=\"12\">Rice</text><text text-anchor=\"start\" x=\"399\" y=\"320\" font-size=\"12\">Watch</text><text text-anchor=\"start\" x=\"379\" y=\"503\" font-size=\"12\">Baruch Spinoza</text><text text-anchor=\"start\" x=\"278\" y=\"354\" font-size=\"12\">Ethanol</text><text text-anchor=\"start\" x=\"306\" y=\"427\" font-size=\"12\">Wave</text><text text-anchor=\"start\" x=\"630\" y=\"266\" font-size=\"12\">Florence Nightingale</text><text text-anchor=\"start\" x=\"329\" y=\"344\" font-size=\"12\">Michael Faraday</text><text text-anchor=\"start\" x=\"432\" y=\"334\" font-size=\"12\">Telephone</text><text text-anchor=\"start\" x=\"301\" y=\"407\" font-size=\"12\">Ultraviolet</text><text text-anchor=\"start\" x=\"412\" y=\"328\" font-size=\"12\">Computer</text><text text-anchor=\"start\" x=\"408\" y=\"620\" font-size=\"12\">Jaws (film)</text><text text-anchor=\"start\" x=\"247\" y=\"362\" font-size=\"12\">Virus</text><text text-anchor=\"start\" x=\"30\" y=\"221\" font-size=\"12\">Animation</text><text text-anchor=\"start\" x=\"443\" y=\"216\" font-size=\"12\">Mahatma Gandhi</text><text text-anchor=\"start\" x=\"213\" y=\"246\" font-size=\"12\">Amish</text><text text-anchor=\"start\" x=\"122\" y=\"216\" font-size=\"12\">Musical instrument</text><text text-anchor=\"start\" x=\"281\" y=\"376\" font-size=\"12\">Sugar</text><text text-anchor=\"start\" x=\"291\" y=\"460\" font-size=\"12\">Special relativity</text><text text-anchor=\"start\" x=\"297\" y=\"336\" font-size=\"12\">Chemical element</text><text text-anchor=\"start\" x=\"289\" y=\"352\" font-size=\"12\">Phase (matter)</text><text text-anchor=\"start\" x=\"283\" y=\"338\" font-size=\"12\">Bromine</text><text text-anchor=\"start\" x=\"423\" y=\"358\" font-size=\"12\">Unix</text><text text-anchor=\"start\" x=\"297\" y=\"345\" font-size=\"12\">Periodic table</text><text text-anchor=\"start\" x=\"270\" y=\"342\" font-size=\"12\">Alcohol</text><text text-anchor=\"start\" x=\"320\" y=\"74\" font-size=\"12\">RSS (file format)</text><text text-anchor=\"start\" x=\"271\" y=\"190\" font-size=\"12\">Crime</text><text text-anchor=\"start\" x=\"376\" y=\"335\" font-size=\"12\">Electrical engineering</text><text text-anchor=\"start\" x=\"127\" y=\"464\" font-size=\"12\">Color blindness</text><text text-anchor=\"start\" x=\"457\" y=\"327\" font-size=\"12\">Group (mathematics)</text><text text-anchor=\"start\" x=\"441\" y=\"322\" font-size=\"12\">Matrix (mathematics)</text><text text-anchor=\"start\" x=\"297\" y=\"431\" font-size=\"12\">Electromagnetic radiation</text><text text-anchor=\"start\" x=\"362\" y=\"403\" font-size=\"12\">Moss</text><text text-anchor=\"start\" x=\"254\" y=\"343\" font-size=\"12\">Water purification</text><text text-anchor=\"start\" x=\"201\" y=\"441\" font-size=\"12\">Ice hockey</text><text text-anchor=\"start\" x=\"451\" y=\"226\" font-size=\"12\">Henry David Thoreau</text><text text-anchor=\"start\" x=\"488\" y=\"221\" font-size=\"12\">Board game</text><text text-anchor=\"start\" x=\"186\" y=\"513\" font-size=\"12\">Architecture of Windows NT</text><text text-anchor=\"start\" x=\"411\" y=\"289\" font-size=\"12\">Axe</text><text text-anchor=\"start\" x=\"289\" y=\"258\" font-size=\"12\">Tern</text><text text-anchor=\"start\" x=\"445\" y=\"341\" font-size=\"12\">Prime number</text><text text-anchor=\"start\" x=\"181\" y=\"283\" font-size=\"12\">Arts and crafts</text><text text-anchor=\"start\" x=\"273\" y=\"178\" font-size=\"12\">Robinson Crusoe</text><text text-anchor=\"start\" x=\"526\" y=\"433\" font-size=\"12\">Jackdaw</text><text text-anchor=\"start\" x=\"410\" y=\"308\" font-size=\"12\">Weapon</text><text text-anchor=\"start\" x=\"503\" y=\"488\" font-size=\"12\">Azerbaijani people</text><text text-anchor=\"start\" x=\"238\" y=\"397\" font-size=\"12\">Biosphere</text><text text-anchor=\"start\" x=\"243\" y=\"349\" font-size=\"12\">Biofuel</text><text text-anchor=\"start\" x=\"240\" y=\"382\" font-size=\"12\">Life</text><text text-anchor=\"start\" x=\"228\" y=\"345\" font-size=\"12\">Genetic code</text><text text-anchor=\"start\" x=\"496\" y=\"228\" font-size=\"12\">Go (board game)</text><text text-anchor=\"start\" x=\"457\" y=\"363\" font-size=\"12\">Venn diagram</text><text text-anchor=\"start\" x=\"403\" y=\"336\" font-size=\"12\">Force</text><text text-anchor=\"start\" x=\"246\" y=\"141\" font-size=\"12\">Nuthatch</text><text text-anchor=\"start\" x=\"431\" y=\"380\" font-size=\"12\">ROT13</text><text text-anchor=\"start\" x=\"261\" y=\"20\" font-size=\"12\">Canadian House of Commons</text><text text-anchor=\"start\" x=\"422\" y=\"316\" font-size=\"12\">History of computing hardware</text><text text-anchor=\"start\" x=\"221\" y=\"205\" font-size=\"12\">PONG</text><text text-anchor=\"start\" x=\"365\" y=\"537\" font-size=\"12\">Rook (bird)</text><text text-anchor=\"start\" x=\"525\" y=\"383\" font-size=\"12\">Matsuo Bashō</text><text text-anchor=\"start\" x=\"301\" y=\"364\" font-size=\"12\">Erbium</text><text text-anchor=\"start\" x=\"469\" y=\"317\" font-size=\"12\">Elementary group theory</text><text text-anchor=\"start\" x=\"157\" y=\"225\" font-size=\"12\">Fieldfare</text><text text-anchor=\"start\" x=\"128\" y=\"204\" font-size=\"12\">Tin whistle</text><text text-anchor=\"start\" x=\"537\" y=\"282\" font-size=\"12\">Refrigerator car</text><text text-anchor=\"start\" x=\"285\" y=\"482\" font-size=\"12\">Introduction to special relativity</text><text text-anchor=\"start\" x=\"397\" y=\"305\" font-size=\"12\">Mahjong</text><text text-anchor=\"start\" x=\"146\" y=\"90\" font-size=\"12\">Optical microscope</text><text text-anchor=\"start\" x=\"305\" y=\"341\" font-size=\"12\">Periodic table (large version)</text><text text-anchor=\"start\" x=\"401\" y=\"359\" font-size=\"12\">Spacecraft propulsion</text><text text-anchor=\"start\" x=\"115\" y=\"391\" font-size=\"12\">The Famous Five (characters)</text></svg>"
      ],
      "text/plain": [
       "<IPython.core.display.SVG object>"
      ]
     },
     "execution_count": 150,
     "metadata": {},
     "output_type": "execute_result"
    }
   ],
   "source": [
    "nodes = np.array([93, 301, 323, 440, 495, 532, 559, 586, 617, 750, 807, 952, 990, 1007, 1010, 1014, 1182, 1214, 1224, 1236, 1245, 1275, 1285, 1353, 1574, 1629, 1706, 1740, 1820, 1823, 1894, 1900, 1927, 2037, 2067, 2076, 2192, 2197, 2215, 2246, 2295, 2394, 2460, 2466, 2477, 2752, 2756, 2761, 2769, 2852, 2885, 2956, 3007, 3038, 3046, 3282, 3305, 3348, 3484, 3494, 3555, 3660, 3684, 3809, 3954, 4088, 4115, 4207, 4243, 4336])\n",
    "print(words[0])\n",
    "SVG(svg_graph(adjacency[nodes, :][:, nodes], labels=labels[nodes], names=names[nodes], width=600, height=600))"
   ]
  },
  {
   "cell_type": "code",
   "execution_count": 156,
   "id": "ae7dc9ea-499e-45f3-bccc-1e0b8f73f635",
   "metadata": {},
   "outputs": [],
   "source": [
    "# Initialization\n",
    "extents, intents = init_inclose(biadjacency)\n",
    "degs = get_degrees(biadjacency, transpose=True)\n",
    "global r_new\n",
    "r_new = 0\n",
    "\n",
    "# Degree of attribute = # articles in which it appears\n",
    "freq_attribute = get_degrees(biadjacency.astype(bool), transpose=True)\n",
    "index = np.flatnonzero((freq_attribute <= 1000) & (freq_attribute >= 10))\n",
    "\n",
    "# Filter data with index\n",
    "biadjacency = biadjacency[:, index]\n",
    "words = words[index]\n",
    "freq_attribute = freq_attribute[index]\n",
    "\n",
    "# Order attributes according to their ascending degree\n",
    "# This allows to add first attributes that will generate bigger subgraphs\n",
    "sort_index = np.argsort(freq_attribute)\n",
    "sorted_degs = freq_attribute[sort_index]\n",
    "filt_biadjacency = biadjacency[:, sort_index]\n",
    "sorted_names_col = words[sort_index]"
   ]
  },
  {
   "cell_type": "code",
   "execution_count": 157,
   "id": "cd310d9e-5d25-4631-b265-081fda57bddc",
   "metadata": {},
   "outputs": [
    {
     "ename": "KeyboardInterrupt",
     "evalue": "",
     "output_type": "error",
     "traceback": [
      "\u001b[0;31m---------------------------------------------------------------------------\u001b[0m",
      "\u001b[0;31mKeyboardInterrupt\u001b[0m                         Traceback (most recent call last)",
      "Input \u001b[0;32mIn [157]\u001b[0m, in \u001b[0;36m<cell line: 2>\u001b[0;34m()\u001b[0m\n\u001b[1;32m      2\u001b[0m \u001b[38;5;28;01mwith\u001b[39;00m \u001b[38;5;28mopen\u001b[39m(\u001b[38;5;124m'\u001b[39m\u001b[38;5;124mlogs/log_wikivitals_closed_concepts_test.txt\u001b[39m\u001b[38;5;124m'\u001b[39m, \u001b[38;5;124m'\u001b[39m\u001b[38;5;124mw\u001b[39m\u001b[38;5;124m'\u001b[39m) \u001b[38;5;28;01mas\u001b[39;00m f:\n\u001b[1;32m      3\u001b[0m     \u001b[38;5;28;01mwith\u001b[39;00m redirect_stdout(f):\n\u001b[0;32m----> 4\u001b[0m         concepts \u001b[38;5;241m=\u001b[39m \u001b[43min_close_new\u001b[49m\u001b[43m(\u001b[49m\u001b[43madjacency\u001b[49m\u001b[43m,\u001b[49m\u001b[43m \u001b[49m\u001b[43mfilt_biadjacency\u001b[49m\u001b[43m,\u001b[49m\u001b[43m \u001b[49m\u001b[43mextents\u001b[49m\u001b[43m,\u001b[49m\u001b[43m \u001b[49m\u001b[43mintents\u001b[49m\u001b[43m,\u001b[49m\u001b[43m \u001b[49m\u001b[43mr\u001b[49m\u001b[38;5;241;43m=\u001b[39;49m\u001b[38;5;241;43m0\u001b[39;49m\u001b[43m,\u001b[49m\u001b[43m \u001b[49m\u001b[43my\u001b[49m\u001b[38;5;241;43m=\u001b[39;49m\u001b[38;5;241;43m0\u001b[39;49m\u001b[43m,\u001b[49m\u001b[43m \u001b[49m\n\u001b[1;32m      5\u001b[0m \u001b[43m                                \u001b[49m\u001b[43mmin_support\u001b[49m\u001b[38;5;241;43m=\u001b[39;49m\u001b[38;5;241;43m5\u001b[39;49m\u001b[43m,\u001b[49m\u001b[43m \u001b[49m\u001b[43mmax_support\u001b[49m\u001b[38;5;241;43m=\u001b[39;49m\u001b[38;5;241;43m1000\u001b[39;49m\u001b[43m,\u001b[49m\n\u001b[1;32m      6\u001b[0m \u001b[43m                                \u001b[49m\u001b[43mdegs\u001b[49m\u001b[38;5;241;43m=\u001b[39;49m\u001b[43msorted_degs\u001b[49m\u001b[43m,\u001b[49m\u001b[43m \u001b[49m\u001b[43munexs_g\u001b[49m\u001b[38;5;241;43m=\u001b[39;49m\u001b[43m[\u001b[49m\u001b[38;5;241;43m0\u001b[39;49m\u001b[43m]\u001b[49m\u001b[43m,\u001b[49m\u001b[43m \u001b[49m\u001b[43munexs_a\u001b[49m\u001b[38;5;241;43m=\u001b[39;49m\u001b[43m[\u001b[49m\u001b[38;5;241;43m0\u001b[39;49m\u001b[43m]\u001b[49m\u001b[43m,\u001b[49m\u001b[43m \u001b[49m\u001b[43munexs\u001b[49m\u001b[38;5;241;43m=\u001b[39;49m\u001b[43m[\u001b[49m\u001b[38;5;241;43m0\u001b[39;49m\u001b[43m]\u001b[49m\u001b[43m,\u001b[49m\u001b[43m \u001b[49m\u001b[43mnames_col\u001b[49m\u001b[38;5;241;43m=\u001b[39;49m\u001b[43msorted_names_col\u001b[49m\u001b[43m)\u001b[49m\n\u001b[1;32m      7\u001b[0m         \u001b[38;5;28mprint\u001b[39m()\n\u001b[1;32m      9\u001b[0m \u001b[38;5;28mprint\u001b[39m(\u001b[38;5;28mlen\u001b[39m(concepts))\n",
      "Input \u001b[0;32mIn [155]\u001b[0m, in \u001b[0;36min_close_new\u001b[0;34m(adjacency, context, extents, intents, r, y, min_support, max_support, degs, unexs_g, unexs_a, unexs, names_col)\u001b[0m\n\u001b[1;32m     82\u001b[0m                     len_new_intent \u001b[38;5;241m=\u001b[39m \u001b[38;5;28mlen\u001b[39m(intents[r_new])\n\u001b[1;32m     83\u001b[0m                     \u001b[38;5;28mprint\u001b[39m(\u001b[38;5;124mf\u001b[39m\u001b[38;5;124m'\u001b[39m\u001b[38;5;124m  --> Enter recursion with Intent: \u001b[39m\u001b[38;5;132;01m{\u001b[39;00mnames_col[intents[r_new]]\u001b[38;5;132;01m}\u001b[39;00m\u001b[38;5;124m...\u001b[39m\u001b[38;5;124m'\u001b[39m)\n\u001b[0;32m---> 84\u001b[0m                     \u001b[43min_close_new\u001b[49m\u001b[43m(\u001b[49m\u001b[43madjacency\u001b[49m\u001b[43m,\u001b[49m\u001b[43m \u001b[49m\u001b[43mcontext\u001b[49m\u001b[43m,\u001b[49m\u001b[43m \u001b[49m\u001b[43mextents\u001b[49m\u001b[43m,\u001b[49m\u001b[43m \u001b[49m\u001b[43mintents\u001b[49m\u001b[43m,\u001b[49m\u001b[43m \u001b[49m\u001b[43mr\u001b[49m\u001b[38;5;241;43m=\u001b[39;49m\u001b[43mr_new\u001b[49m\u001b[43m,\u001b[49m\u001b[43m \u001b[49m\u001b[43my\u001b[49m\u001b[38;5;241;43m=\u001b[39;49m\u001b[43mj\u001b[49m\u001b[38;5;241;43m+\u001b[39;49m\u001b[38;5;241;43m1\u001b[39;49m\u001b[43m,\u001b[49m\u001b[43m \u001b[49m\u001b[43mmin_support\u001b[49m\u001b[38;5;241;43m=\u001b[39;49m\u001b[43mmin_support\u001b[49m\u001b[43m,\u001b[49m\u001b[43m \u001b[49m\u001b[43mmax_support\u001b[49m\u001b[38;5;241;43m=\u001b[39;49m\u001b[43mmax_support\u001b[49m\u001b[43m,\u001b[49m\u001b[43m \u001b[49m\n\u001b[1;32m     85\u001b[0m \u001b[43m                                 \u001b[49m\u001b[43mdegs\u001b[49m\u001b[38;5;241;43m=\u001b[39;49m\u001b[43mdegs\u001b[49m\u001b[43m,\u001b[49m\u001b[43m \u001b[49m\u001b[43munexs_g\u001b[49m\u001b[38;5;241;43m=\u001b[39;49m\u001b[43munexs_g\u001b[49m\u001b[43m,\u001b[49m\u001b[43m \u001b[49m\u001b[43munexs_a\u001b[49m\u001b[38;5;241;43m=\u001b[39;49m\u001b[43munexs_a\u001b[49m\u001b[43m,\u001b[49m\u001b[43m \u001b[49m\u001b[43munexs\u001b[49m\u001b[38;5;241;43m=\u001b[39;49m\u001b[43munexs\u001b[49m\u001b[43m,\u001b[49m\u001b[43m \u001b[49m\u001b[43mnames_col\u001b[49m\u001b[38;5;241;43m=\u001b[39;49m\u001b[43mnames_col\u001b[49m\u001b[43m)\u001b[49m\n\u001b[1;32m     87\u001b[0m \u001b[38;5;28mprint\u001b[39m(\u001b[38;5;124mf\u001b[39m\u001b[38;5;124m'\u001b[39m\u001b[38;5;124m**END FUNCTION\u001b[39m\u001b[38;5;124m'\u001b[39m)\n\u001b[1;32m     88\u001b[0m \u001b[38;5;28mprint\u001b[39m(\u001b[38;5;124mf\u001b[39m\u001b[38;5;124m'\u001b[39m\u001b[38;5;124m**concept: (\u001b[39m\u001b[38;5;132;01m{\u001b[39;00m[\u001b[38;5;241m*\u001b[39m\u001b[38;5;28mzip\u001b[39m(extents, intents)]\u001b[38;5;132;01m}\u001b[39;00m\u001b[38;5;124m)\u001b[39m\u001b[38;5;124m'\u001b[39m)\n",
      "Input \u001b[0;32mIn [155]\u001b[0m, in \u001b[0;36min_close_new\u001b[0;34m(adjacency, context, extents, intents, r, y, min_support, max_support, degs, unexs_g, unexs_a, unexs, names_col)\u001b[0m\n\u001b[1;32m     43\u001b[0m     unexs\u001b[38;5;241m.\u001b[39mappend(\u001b[38;5;241m0\u001b[39m)\n\u001b[1;32m     45\u001b[0m \u001b[38;5;66;03m# Form a new extent by adding extension of attribute j to current concept extent\u001b[39;00m\n\u001b[0;32m---> 46\u001b[0m ext_j \u001b[38;5;241m=\u001b[39m \u001b[38;5;28mset\u001b[39m(\u001b[43mextension\u001b[49m\u001b[43m(\u001b[49m\u001b[43m[\u001b[49m\u001b[43mj\u001b[49m\u001b[43m]\u001b[49m\u001b[43m,\u001b[49m\u001b[43m \u001b[49m\u001b[43mcontext\u001b[49m\u001b[43m)\u001b[49m)\n\u001b[1;32m     47\u001b[0m extents[r_new] \u001b[38;5;241m=\u001b[39m \u001b[38;5;28mlist\u001b[39m(\u001b[38;5;28msorted\u001b[39m(\u001b[38;5;28mset\u001b[39m(extents[r])\u001b[38;5;241m.\u001b[39mintersection(ext_j)))\n\u001b[1;32m     48\u001b[0m len_new_extent \u001b[38;5;241m=\u001b[39m \u001b[38;5;28mlen\u001b[39m(extents[r_new])\n",
      "Input \u001b[0;32mIn [114]\u001b[0m, in \u001b[0;36mextension\u001b[0;34m(attrs, context)\u001b[0m\n\u001b[1;32m     27\u001b[0m     \u001b[38;5;28;01mreturn\u001b[39;00m np\u001b[38;5;241m.\u001b[39marange(\u001b[38;5;241m0\u001b[39m, context\u001b[38;5;241m.\u001b[39mshape[\u001b[38;5;241m0\u001b[39m])\n\u001b[1;32m     28\u001b[0m \u001b[38;5;28;01mfor\u001b[39;00m a \u001b[38;5;129;01min\u001b[39;00m attrs:\n\u001b[0;32m---> 29\u001b[0m     nodes \u001b[38;5;241m=\u001b[39m \u001b[38;5;28;43mset\u001b[39;49m\u001b[43m(\u001b[49m\u001b[43mget_neighbors\u001b[49m\u001b[43m(\u001b[49m\u001b[43mcontext\u001b[49m\u001b[43m,\u001b[49m\u001b[43m \u001b[49m\u001b[43mnode\u001b[49m\u001b[38;5;241;43m=\u001b[39;49m\u001b[43ma\u001b[49m\u001b[43m,\u001b[49m\u001b[43m \u001b[49m\u001b[43mtranspose\u001b[49m\u001b[38;5;241;43m=\u001b[39;49m\u001b[38;5;28;43;01mTrue\u001b[39;49;00m\u001b[43m)\u001b[49m\u001b[43m)\u001b[49m\n\u001b[1;32m     30\u001b[0m     \u001b[38;5;28;01mif\u001b[39;00m \u001b[38;5;28mlen\u001b[39m(ext) \u001b[38;5;241m==\u001b[39m \u001b[38;5;241m0\u001b[39m:\n\u001b[1;32m     31\u001b[0m         ext\u001b[38;5;241m.\u001b[39mupdate(nodes)\n",
      "\u001b[0;31mKeyboardInterrupt\u001b[0m: "
     ]
    }
   ],
   "source": [
    "# Algorithm\n",
    "with open('logs/log_wikivitals_closed_concepts_test.txt', 'w') as f:\n",
    "    with redirect_stdout(f):\n",
    "        concepts = in_close_new(adjacency, filt_biadjacency, extents, intents, r=0, y=0, \n",
    "                                min_support=5, max_support=1000,\n",
    "                                degs=sorted_degs, unexs_g=[0], unexs_a=[0], unexs=[0], names_col=sorted_names_col)\n",
    "        print()\n",
    "\n",
    "print(len(concepts))"
   ]
  },
  {
   "cell_type": "code",
   "execution_count": 80,
   "id": "0a298870-edf9-4f54-82f3-4bd8a1729d98",
   "metadata": {},
   "outputs": [
    {
     "name": "stdout",
     "output_type": "stream",
     "text": [
      "[0 1 2 3 4 5 6 7] []\n",
      "[0, 1, 2, 3, 4, 5, 6] ['a' 'b']\n",
      "[] []\n",
      "[6, 7] ['g']\n"
     ]
    }
   ],
   "source": [
    "for c in concepts:\n",
    "    print(c[0], words[c[1]])"
   ]
  },
  {
   "cell_type": "code",
   "execution_count": null,
   "id": "1c912f31-d574-4baf-90fe-83ceaa94ee84",
   "metadata": {},
   "outputs": [],
   "source": []
  },
  {
   "cell_type": "code",
   "execution_count": null,
   "id": "6892d0ad-3c56-47f0-b77e-b6f2a6e3dea5",
   "metadata": {},
   "outputs": [],
   "source": []
  },
  {
   "cell_type": "code",
   "execution_count": null,
   "id": "25a1ad96-38a9-4190-af74-7d97a942e920",
   "metadata": {},
   "outputs": [],
   "source": []
  },
  {
   "cell_type": "code",
   "execution_count": 77,
   "id": "b78e5a28-fbae-4ed3-805a-2b744c68774d",
   "metadata": {},
   "outputs": [
    {
     "name": "stdout",
     "output_type": "stream",
     "text": [
      "NEW ITERATION \n",
      " --------\n",
      "extents: [0 1 2 3 4 5 6 7] - intents: []\n",
      "  Candidate attr: a\n",
      "  new extent: [0, 1, 2, 3, 4, 5, 6]\n",
      "  Extent size DID change. IsCannonical: True\n",
      "   New branch will be created, compute U of current concept.\n",
      "  Intent: ['a']\n",
      "  --> Enter recursion...\n",
      "  U difference; 0\n",
      "      **Unexpectedness: [0, 0]\n",
      "NEW ITERATION \n",
      " --------\n",
      "extents: [0, 1, 2, 3, 4, 5, 6] - intents: ['a']\n",
      "  Candidate attr: b\n",
      "  new extent: [0, 1, 2, 3, 4, 5, 6]\n",
      "  Extent size did not change -> attribute b is added to intent.\n",
      "ELSE r: 1 - r_new: 2\n",
      "Unexs: [0, 0, 0]\n",
      "[array([0, 1, 2, 3, 4, 5, 6, 7]), [0, 1, 2, 3, 4, 5, 6], [0, 1, 2, 3, 4, 5, 6]] [[], [0, 1]]\n",
      "extents[r_new]: [0, 1, 2, 3, 4, 5, 6] - intents[r]: ['a' 'b']\n",
      "  U(G): 3.754601512360047\n",
      "  U(A): -1.2223924213364477\n",
      "  U: 2.5322090910235993\n",
      "Unexs: [0, 2.5322090910235993, 0]\n",
      "r: 1 - r_new: 2\n",
      "  U difference; 2.5322090910235993\n",
      "extents: [0, 1, 2, 3, 4, 5, 6] - intents: ['a' 'b']\n",
      "  Candidate attr: c\n",
      "  new extent: [0, 1, 2, 3, 4, 5]\n",
      "  Extent size DID change. IsCannonical: True\n",
      "   New branch will be created, compute U of current concept.\n",
      "  Intent: ['a' 'b' 'c']\n",
      "  --> Enter recursion...\n",
      "  U difference; 2.5322090910235993\n",
      "      **Unexpectedness: [0, 2.5322090910235993, 0]\n",
      "NEW ITERATION \n",
      " --------\n",
      "extents: [0, 1, 2, 3, 4, 5] - intents: ['a' 'b' 'c']\n",
      "  Candidate attr: d\n",
      "  new extent: [0, 1, 2, 3, 4, 5]\n",
      "  Extent size did not change -> attribute d is added to intent.\n",
      "ELSE r: 2 - r_new: 3\n",
      "Unexs: [0, 2.5322090910235993, 0, 0]\n",
      "[array([0, 1, 2, 3, 4, 5, 6, 7]), [0, 1, 2, 3, 4, 5, 6], [0, 1, 2, 3, 4, 5], [0, 1, 2, 3, 4, 5]] [[], [0, 1], [0, 1, 2, 3]]\n",
      "extents[r_new]: [0, 1, 2, 3, 4, 5] - intents[r]: ['a' 'b' 'c' 'd']\n",
      "  U(G): 5.758571982788595\n",
      "  U(A): -5.655351828612555\n",
      "  U: 0.10322015417604025\n",
      "Unexs: [0, 2.5322090910235993, 0.10322015417604025, 0]\n",
      "r: 2 - r_new: 3\n",
      "  U difference; -2.428988936847559\n",
      "**END FUNCTION\n",
      "**concept: ([(array([0, 1, 2, 3, 4, 5, 6, 7]), []), ([0, 1, 2, 3, 4, 5, 6], [0, 1]), ([], [])])\n",
      "r: 1 - r_new: 3\n",
      "  U difference; 2.5322090910235993\n",
      "extents: [0, 1, 2, 3, 4, 5, 6] - intents: ['a' 'b']\n",
      "  Candidate attr: d\n",
      "  new extent: [0, 1, 2, 3, 4, 5]\n",
      "  Extent size DID change. IsCannonical: False\n",
      "r: 1 - r_new: 3\n",
      "  U difference; 2.5322090910235993\n",
      "extents: [0, 1, 2, 3, 4, 5, 6] - intents: ['a' 'b']\n",
      "  Candidate attr: e\n",
      "  new extent: [6]\n",
      "  Extent size DID change. IsCannonical: True\n",
      "   New branch will be created, compute U of current concept.\n",
      "  Intent: ['a' 'b' 'e']\n",
      "  --> Enter recursion...\n",
      "  U difference; 0.10322015417604025\n",
      "      **Unexpectedness: [0, 2.5322090910235993, 0.10322015417604025, 0]\n",
      "NEW ITERATION \n",
      " --------\n",
      "extents: [6] - intents: ['a' 'b' 'e']\n",
      "  Candidate attr: f\n",
      "  new extent: [6]\n",
      "  Extent size did not change -> attribute f is added to intent.\n",
      "ELSE r: 3 - r_new: 4\n",
      "Unexs: [0, 2.5322090910235993, 0.10322015417604025, 0, 0]\n",
      "[array([0, 1, 2, 3, 4, 5, 6, 7]), [0, 1, 2, 3, 4, 5, 6], [], [6], [6]] [[], [0, 1], [], [0, 1, 4, 5]]\n",
      "extents[r_new]: [6] - intents[r]: ['a' 'b' 'e' 'f']\n",
      "  U(G): 0.0\n",
      "  U(A): -0.485426827170242\n",
      "  U: -0.485426827170242\n",
      "Unexs: [0, 2.5322090910235993, 0.10322015417604025, -0.485426827170242, 0]\n",
      "r: 3 - r_new: 4\n",
      "  U difference; -0.5886469813462822\n",
      "**END FUNCTION\n",
      "**concept: ([(array([0, 1, 2, 3, 4, 5, 6, 7]), []), ([0, 1, 2, 3, 4, 5, 6], [0, 1]), ([], []), ([], [])])\n",
      "r: 1 - r_new: 4\n",
      "  U difference; 2.5322090910235993\n",
      "extents: [0, 1, 2, 3, 4, 5, 6] - intents: ['a' 'b']\n",
      "  Candidate attr: f\n",
      "  new extent: [6]\n",
      "  Extent size DID change. IsCannonical: False\n",
      "r: 1 - r_new: 4\n",
      "  U difference; 2.5322090910235993\n",
      "extents: [0, 1, 2, 3, 4, 5, 6] - intents: ['a' 'b']\n",
      "  Candidate attr: g\n",
      "  new extent: [6]\n",
      "  Extent size DID change. IsCannonical: False\n",
      "r: 1 - r_new: 4\n",
      "  U difference; 2.5322090910235993\n",
      "**END FUNCTION\n",
      "**concept: ([(array([0, 1, 2, 3, 4, 5, 6, 7]), []), ([0, 1, 2, 3, 4, 5, 6], [0, 1]), ([], []), ([], [])])\n",
      "r: 0 - r_new: 4\n",
      "  U difference; 0\n",
      "extents: [0 1 2 3 4 5 6 7] - intents: []\n",
      "  Candidate attr: b\n",
      "  new extent: [0, 1, 2, 3, 4, 5, 6]\n",
      "  Extent size DID change. IsCannonical: False\n",
      "r: 0 - r_new: 4\n",
      "  U difference; 0\n",
      "extents: [0 1 2 3 4 5 6 7] - intents: []\n",
      "  Candidate attr: c\n",
      "  new extent: [0, 1, 2, 3, 4, 5]\n",
      "  Extent size DID change. IsCannonical: False\n",
      "r: 0 - r_new: 4\n",
      "  U difference; 0\n",
      "extents: [0 1 2 3 4 5 6 7] - intents: []\n",
      "  Candidate attr: d\n",
      "  new extent: [0, 1, 2, 3, 4, 5]\n",
      "  Extent size DID change. IsCannonical: False\n",
      "r: 0 - r_new: 4\n",
      "  U difference; 0\n",
      "extents: [0 1 2 3 4 5 6 7] - intents: []\n",
      "  Candidate attr: e\n",
      "  new extent: [6]\n",
      "  Extent size DID change. IsCannonical: False\n",
      "r: 0 - r_new: 4\n",
      "  U difference; 0\n",
      "extents: [0 1 2 3 4 5 6 7] - intents: []\n",
      "  Candidate attr: f\n",
      "  new extent: [6]\n",
      "  Extent size DID change. IsCannonical: False\n",
      "r: 0 - r_new: 4\n",
      "  U difference; 0\n",
      "extents: [0 1 2 3 4 5 6 7] - intents: []\n",
      "  Candidate attr: g\n",
      "  new extent: [6, 7]\n",
      "  Extent size DID change. IsCannonical: True\n",
      "   New branch will be created, compute U of current concept.\n",
      "  Intent: ['g']\n",
      "  --> Enter recursion...\n",
      "  U difference; -0.485426827170242\n",
      "      **Unexpectedness: [0, 2.5322090910235993, 0.10322015417604025, -0.485426827170242, 0]\n",
      "NEW ITERATION \n",
      " --------\n",
      "ELSE r: 4 - r_new: 5\n",
      "Unexs: [0, 2.5322090910235993, 0.10322015417604025, -0.485426827170242, 0]\n",
      "[array([0, 1, 2, 3, 4, 5, 6, 7]), [0, 1, 2, 3, 4, 5, 6], [], [], [6, 7]] [[], [0, 1], [], [], [6]]\n",
      "extents[r_new]: [6, 7] - intents[r]: ['g']\n",
      "  U(G): -0.049022499567305644\n",
      "  U(A): 1.8073549220576042\n",
      "  U: 1.7583324224902985\n",
      "Unexs: [0, 2.5322090910235993, 0.10322015417604025, -0.485426827170242, 1.7583324224902985]\n",
      "**END FUNCTION\n",
      "**concept: ([(array([0, 1, 2, 3, 4, 5, 6, 7]), []), ([0, 1, 2, 3, 4, 5, 6], [0, 1]), ([], []), ([], []), ([6, 7], [6])])\n",
      "r: 0 - r_new: 5\n",
      "  U difference; -1.7583324224902985\n",
      "**END FUNCTION\n",
      "**concept: ([(array([0, 1, 2, 3, 4, 5, 6, 7]), []), ([0, 1, 2, 3, 4, 5, 6], [0, 1]), ([], []), ([], []), ([6, 7], [6])])\n",
      "[0 1 2 3 4 5 6 7] []\n",
      "[0, 1, 2, 3, 4, 5, 6] ['a' 'b']\n",
      "[] []\n",
      "[] []\n",
      "[6, 7] ['g']\n"
     ]
    }
   ],
   "source": [
    "# Initialization\n",
    "extents, intents = init_inclose(X9)\n",
    "degs = get_degrees(X9, transpose=True)\n",
    "global r_new\n",
    "r_new = 0\n",
    "\n",
    "# Degree of attribute = # articles in which it appears\n",
    "freq_attribute = get_degrees(X9.astype(bool), transpose=True)\n",
    "index = np.flatnonzero((freq_attribute <= 1000) & (freq_attribute >= 0))\n",
    "\n",
    "# Filter data with index\n",
    "biadjacency = X9[:, index]\n",
    "words = names_col9[index]\n",
    "freq_attribute = freq_attribute[index]\n",
    "\n",
    "# Order attributes according to their ascending degree\n",
    "# This allows to add first attributes that will generate bigger subgraphs\n",
    "sort_index = np.argsort(freq_attribute)\n",
    "sorted_degs = freq_attribute[sort_index]\n",
    "filt_biadjacency = X9[:, sort_index]\n",
    "sorted_names_col = words[sort_index]\n",
    "\n",
    "# Algorithm\n",
    "#concepts = in_close_new(G9, filt_biadjacency, extents, intents, r=0, y=0, degs=sorted_degs, unexs_g=[0], unexs_a=[0], unexs=[0], names_col=sorted_names_col)\n",
    "concepts = in_close_new(G9, biadjacency, extents, intents, r=0, y=0, degs=degs, unexs_g=[0], unexs_a=[0], unexs=[0], names_col=names_col9)\n",
    "for c in concepts:\n",
    "    print(c[0], names_col9[c[1]])"
   ]
  },
  {
   "cell_type": "code",
   "execution_count": 37,
   "id": "4e52e220-5540-438b-a733-b078ef4fee14",
   "metadata": {},
   "outputs": [
    {
     "name": "stdout",
     "output_type": "stream",
     "text": [
      "[0 1 2 3 4 5 6 7] []\n",
      "[0, 1, 2, 3, 4, 5, 6] ['e' 'f']\n",
      "[0, 1, 2, 3, 4, 5] ['e' 'f' 'g' 'c']\n",
      "[6] ['e' 'f' 'd' 'a' 'b']\n",
      "[6, 7] ['b']\n"
     ]
    }
   ],
   "source": [
    "for c in concepts:\n",
    "    print(c[0], sorted_names_col[c[1]])"
   ]
  },
  {
   "cell_type": "code",
   "execution_count": 36,
   "id": "16113d77-f2a6-40cc-ada0-bcae75929b35",
   "metadata": {},
   "outputs": [
    {
     "name": "stdout",
     "output_type": "stream",
     "text": [
      "[0 1 2 3 4 5 6 7] []\n",
      "[0, 1, 2, 3, 4, 5, 6] ['a' 'b']\n",
      "[0, 1, 2, 3, 4, 5] ['a' 'b' 'c' 'd']\n",
      "[6] ['a' 'b' 'e' 'f' 'g']\n",
      "[6, 7] ['g']\n"
     ]
    }
   ],
   "source": [
    "for c in concepts:\n",
    "    print(c[0], names_col9[c[1]])"
   ]
  },
  {
   "cell_type": "code",
   "execution_count": null,
   "id": "7b0799a7-3438-47ae-a836-e782894a74cf",
   "metadata": {},
   "outputs": [],
   "source": []
  },
  {
   "cell_type": "code",
   "execution_count": null,
   "id": "e675f2f0-1383-4104-843f-a358ffe9ea55",
   "metadata": {},
   "outputs": [],
   "source": []
  },
  {
   "cell_type": "code",
   "execution_count": 183,
   "id": "6ffff420-8fbd-4022-a1ec-5a23845d9757",
   "metadata": {},
   "outputs": [],
   "source": [
    "def in_close(adjacency, context, extents, intents, unexs, unexs_g, r, y, degs, gain, support_obj, names_col, verbose):\n",
    "    \n",
    "    #support_obj = support_obj\n",
    "\n",
    "    support_attr = 15\n",
    "    support_common_remaining_attr = 1\n",
    "    delta = 0\n",
    "    \n",
    "    global gain_unex\n",
    "    # --------------------\n",
    "    \n",
    "    global r_new\n",
    "    r_new = r_new + 1\n",
    "    attributes = np.arange(0, context.shape[1])\n",
    "    \n",
    "    for n_iter, j in enumerate(attributes[y:]):\n",
    "        \n",
    "        try:\n",
    "            extents[r_new] = []\n",
    "            unexs[r_new] = 0\n",
    "            unexs_g[r_new] = 0\n",
    "        except IndexError:\n",
    "            extents.append([])\n",
    "            unexs.append(0)\n",
    "            unexs_g.append(0)\n",
    "\n",
    "        # Form a new extent by adding extension of attribute j to current concept extent\n",
    "        extension_j = get_neighbors(context, node=j, transpose=True)\n",
    "        new_extent = np.array(list(set(extents[r]).intersection(set(extension_j))))\n",
    "        extents[r_new] = new_extent\n",
    "        new_extent_size = len(new_extent)\n",
    "        \n",
    "        # Verify that intention: prune recursion if the current none of the current extent neighbor have common attribute anymore\n",
    "        len_closure = 0\n",
    "        if len(new_extent > 0):\n",
    "            all_neighbs = set(get_neighbors(context, node=new_extent[0]))\n",
    "            for o in new_extent[1:]:\n",
    "                neighbs = get_neighbors(context, node=o)\n",
    "                all_neighbs &= set(neighbs)\n",
    "            len_closure = len(all_neighbs)\n",
    "        \n",
    "        if len_closure >= support_common_remaining_attr:\n",
    "            #if verbose:\n",
    "            #    print(f'closure of {new_extent} --> size of closure = {len_closure}>{support_obj}')\n",
    "            \n",
    "            \n",
    "            if new_extent_size >= support_obj:\n",
    "                if verbose:\n",
    "                    print(f'n_iter:{n_iter} - extents: {extents[r]} - intents: {intents[r]}')\n",
    "                    print(f'  Candidate attr: {j} {names_col[j]}')\n",
    "                    print(f'  new extent: {new_extent}')\n",
    "\n",
    "                #if new_extent_size < len(extents[r]):\n",
    "                # Graph unexpectedness\n",
    "                g_r_new = adjacency[new_extent][:, new_extent]\n",
    "                complexity_desc_g = mdl_graph(g_r_new)\n",
    "                complexity_gen_g = np.mean(complexity_gen_graphs.get(new_extent_size))\n",
    "                unex_g = complexity_gen_g - complexity_desc_g\n",
    "                unexs_g.append(unex_g)\n",
    "                if verbose:\n",
    "                    print(f'  U(G)={unex_g} (cw={complexity_gen_g} - c={complexity_desc_g})')\n",
    "\n",
    "                new_intent = np.array(list(sorted(set(intents[r]).union(set([j])))))\n",
    "                new_intent_size = len(new_intent)            \n",
    "\n",
    "                if new_intent_size <= support_attr:\n",
    "\n",
    "                    # Attributes unexpectedness\n",
    "                    complexity_gen_a = np.log2(special.comb(context.shape[1], new_intent_size))\n",
    "                    complexity_desc_a = 0\n",
    "                    for a in new_intent:\n",
    "                        complexity_desc_a += np.log2(degs[a])\n",
    "                    unex_a = complexity_gen_a - complexity_desc_a\n",
    "                    if verbose:\n",
    "                        print(f'  U(A)={unex_a} (cw={complexity_gen_a} - c={complexity_desc_a})')\n",
    "\n",
    "                    # Total Unexpectedness\n",
    "                    unex = unex_g + unex_a\n",
    "                    if verbose:\n",
    "                        print(f'  U: {unex}')\n",
    "                    unexs[r_new] = unex\n",
    "\n",
    "                    if verbose:\n",
    "                        print(f'  U[r_new]={unex} - U[r]={unexs[r]}  = {unex - unexs[r]}')\n",
    "\n",
    "                    gain_unex.append(unex - unexs[r])\n",
    "                    if verbose:\n",
    "                        print(f'  gain unex: {gain_unex}')\n",
    "                        print(f'  Gain unex diff: {np.abs(gain_unex[-2]-gain_unex[-1])}')\n",
    "\n",
    "                    if new_extent_size == len(extents[r]):\n",
    "\n",
    "                        #if unex - unexs[r] > 4 and r >=0 and np.abs(gain_unex[-2]-gain_unex[-1])>1:\n",
    "                        #if (len(intents[r]) == 0) or ((unex - unexs[r] > 0) and (np.abs(gain_unex[-2] - gain_unex[-1])) > delta):\n",
    "                        intents[r] = np.array(list(sorted(set(intents[r]).union(set([j])))))\n",
    "                        extents[r] = extents[r_new]\n",
    "                        unexs_g[r] = unex_g\n",
    "                        unexs[r] = unex\n",
    "                        if verbose:\n",
    "                            print(f'  Attribute {j}-{sorted_names_col[j]} added')\n",
    "                        #else:\n",
    "                        #    if verbose:\n",
    "                        #        print(f'  unex - unexs[r] > 0 : {(unex - unexs[r] > 0)}')\n",
    "                        #        print(f'  (gain_unex[-2] - gain_unex[-1]) > delta : {(gain_unex[-2] - gain_unex[-1]) > delta}')\n",
    "                        #        print(f'  len(intents[r]) == 0 : {len(intents[r]) == 0}')\n",
    "                        #        print(f'  --> Stop branch recursion. ')\n",
    "                        #       print('\\n')\n",
    "\n",
    "                            #del gain_unex[(r_new-r):]\n",
    "                        #        if len(intents[r]) > 1:\n",
    "                        #            del gain_unex[-(len(intents[r]))+1:]\n",
    "                        #        else:\n",
    "                        #            del gain_unex[-(len(intents[r])):]\n",
    "\n",
    "                        #    return [*zip(extents, intents)]\n",
    "\n",
    "                    else:\n",
    "                        #if unex - unexs[r] > 4 and r >=0 and np.abs(gain_unex[-2]-gain_unex[-1])>1:\n",
    "                        if (len(intents[r]) == 0) or (unex - unexs[r] > 0):\n",
    "\n",
    "                            try:\n",
    "                                intents[r_new] = []\n",
    "                            except IndexError:\n",
    "                                intents.append([])\n",
    "\n",
    "                            intents[r_new] = np.array(list(sorted(set(intents[r]).union(set([j])))))\n",
    "                            if verbose:\n",
    "                                print('  recursive call')\n",
    "                            in_close(adjacency, context, extents, intents, unexs, unexs_g, r=r_new, y=j+1, degs=degs, gain=gain_unex, \n",
    "                                     support_obj=support_obj, names_col=names_col, verbose=verbose)\n",
    "                        else:\n",
    "                            if verbose:\n",
    "                                print(f'  Do not go into recursion. Try next candidate attribute. ')\n",
    "                                print()\n",
    "                            gain_unex.pop(-1)\n",
    "                else:\n",
    "                    if verbose:\n",
    "                        print(f'Max number of attributes reached.')\n",
    "                        print('\\n')\n",
    "                    return [*zip(extents, intents)]\n",
    "\n",
    "            #else:\n",
    "            #    if verbose:\n",
    "            #        print(f'  New extent size >= support? : {new_extent_size >= support_obj}')\n",
    "            \n",
    "        #else:\n",
    "            #if verbose:\n",
    "                #    print(f'closure of {new_extent} --> no need to verify all attributes')\n",
    "    if verbose:\n",
    "        print('\\n')\n",
    "        \n",
    "\n",
    "    if len(intents[r]) > 1:\n",
    "        del gain_unex[-(len(intents[r]))+1:]\n",
    "    else:\n",
    "        del gain_unex[-(len(intents[r])):]\n",
    "    return [*zip(extents, intents)]"
   ]
  },
  {
   "cell_type": "code",
   "execution_count": 184,
   "id": "0a79f9a7-6001-4293-b7c6-b2f74e22f658",
   "metadata": {},
   "outputs": [],
   "source": [
    "def run_algorithm(G, X, names_col, n_objects_min, n_objects_max, out_name):\n",
    "    # In-close initialization\n",
    "    V = np.arange(0, X.shape[0])\n",
    "\n",
    "    extents, intents, unexs, unexs_g = [], [], [], []\n",
    "    extents_init = V\n",
    "    intents_init = []\n",
    "    unexs.append(0)\n",
    "    unexs_g.append(0)\n",
    "    extents.append(extents_init)\n",
    "    intents.append(intents_init)\n",
    "    \n",
    "    global r_new\n",
    "    r_new = 0\n",
    "    global gain_unex\n",
    "    gain_unex = []\n",
    "    gain_unex.append(0)\n",
    "    \n",
    "    # Degree of attribute = # articles in which it appears\n",
    "    freq_attribute = get_degrees(X.astype(bool), transpose=True)\n",
    "    index = np.flatnonzero((freq_attribute <= n_objects_max) & (freq_attribute >= n_objects_min))\n",
    "    \n",
    "    # Filter data with index\n",
    "    biadjacency = X[:, index]\n",
    "    words = names_col[index]\n",
    "    freq_attribute = freq_attribute[index]\n",
    "    \n",
    "    # Order attributes according to their ascending degree\n",
    "    # This allows to add first attributes that will generate bigger subgraphs\n",
    "    sort_index = np.argsort(freq_attribute)\n",
    "    sorted_degs = freq_attribute[sort_index]\n",
    "    filt_biadjacency = X[:, sort_index]\n",
    "    sorted_names_col = words[sort_index]\n",
    "    print(sorted_names_col)\n",
    "    \n",
    "    with open(f'logs/{out_name}.txt', 'w') as f:\n",
    "        with redirect_stdout(f):\n",
    "            result = in_close(G, filt_biadjacency, extents, intents, unexs, unexs_g, r=0, y=0, \n",
    "                              degs=sorted_degs, gain=gain_unex, support_obj=n_objects_min, names_col=sorted_names_col, verbose=True)\n",
    "            print()\n",
    "            \n",
    "    return result, sorted_names_col"
   ]
  },
  {
   "cell_type": "code",
   "execution_count": 84,
   "id": "4eac3271-cdce-4659-b598-d8900743dc11",
   "metadata": {},
   "outputs": [],
   "source": [
    "def run_algorithm_comeg(G, X, names_col, n_objects_min, n_objects_max, out_name):\n",
    "    # In-close initialization\n",
    "    V = np.arange(0, X.shape[0])\n",
    "\n",
    "    extents, intents, unexs, unexs_g = [], [], [], []\n",
    "    extents_init = V\n",
    "    intents_init = []\n",
    "    unexs.append(0)\n",
    "    unexs_g.append(0)\n",
    "    extents.append(extents_init)\n",
    "    intents.append(intents_init)\n",
    "    \n",
    "    global r_new\n",
    "    r_new = 0\n",
    "    global gain_unex\n",
    "    gain_unex = []\n",
    "    gain_unex.append(0)\n",
    "    \n",
    "    # Degree of attribute = # articles in which it appears\n",
    "    freq_attribute = get_degrees(X.astype(bool), transpose=True)\n",
    "    index = np.flatnonzero((freq_attribute <= n_objects_max) & (freq_attribute >= n_objects_min))\n",
    "    \n",
    "    # Filter data with index\n",
    "    biadjacency = X[:, index]\n",
    "    words = names_col[index]\n",
    "    freq_attribute = freq_attribute[index]\n",
    "    \n",
    "    # Order attributes according to their ascending degree\n",
    "    # This allows to add first attributes that will generate bigger subgraphs\n",
    "    sort_index = np.argsort(freq_attribute)\n",
    "    sorted_degs = freq_attribute[sort_index]\n",
    "    filt_biadjacency = X[:, sort_index]\n",
    "    sorted_names_col = words[sort_index]\n",
    "    \n",
    "    with open(f'logs/{out_name}.txt', 'w') as f:\n",
    "        with redirect_stdout(f):\n",
    "            result = comeg(G, filt_biadjacency, extents, intents, unexs, unexs_g, r=0, y=0, \n",
    "                              degs=sorted_degs, gain=gain_unex, support_obj=n_objects_min, names_col=sorted_names_col, verbose=True)\n",
    "            print()\n",
    "    return result, sorted_names_col"
   ]
  },
  {
   "cell_type": "markdown",
   "id": "b56fabf8-5920-45f7-8df5-7169d9ccd2d7",
   "metadata": {},
   "source": [
    "## Custom graphs"
   ]
  },
  {
   "cell_type": "code",
   "execution_count": 8,
   "id": "6601f704-6240-45e4-b555-d47f038dea78",
   "metadata": {},
   "outputs": [
    {
     "name": "stdout",
     "output_type": "stream",
     "text": [
      "CPU times: user 13.7 ms, sys: 2.04 ms, total: 15.7 ms\n",
      "Wall time: 14.3 ms\n"
     ]
    }
   ],
   "source": [
    "%%time\n",
    "complexity_gen_graphs = defaultdict(list)\n",
    "\n",
    "for num_n in range(10 + 1)[1:15]:\n",
    "    cpt = 0\n",
    "    while cpt < 10:\n",
    "        random_g = sparse.random(num_n, num_n, density=0.5).astype(bool).tocsr()\n",
    "        if random_g is not None and random_g.shape[0] == num_n:\n",
    "            mdl = mdl_graph(random_g)\n",
    "            if num_n != 1:\n",
    "                complexity_gen_graphs[num_n].append(mdl)\n",
    "            else:\n",
    "                # MDL of a graph of 1 node, is the MDL to describe this node\n",
    "                complexity_gen_graphs[num_n].append(1)\n",
    "            cpt += 1"
   ]
  },
  {
   "cell_type": "markdown",
   "id": "2b884f24-f92a-4873-bace-56d72a82f6be",
   "metadata": {},
   "source": [
    "### Custom1"
   ]
  },
  {
   "cell_type": "code",
   "execution_count": 13,
   "id": "ec36fc0c-9976-48d6-b796-07fe8200f439",
   "metadata": {},
   "outputs": [],
   "source": [
    "G1 = sparse.csr_matrix(np.array([\n",
    "    [0, 1, 1, 0, 0, 0],\n",
    "    [1, 0, 1, 0, 0, 0],\n",
    "    [1, 1, 0, 1, 0, 0],\n",
    "    [0, 0, 1, 0, 1, 1],\n",
    "    [0, 0, 0, 1, 0, 1],\n",
    "    [0, 0, 0, 1, 1, 0],\n",
    "]))\n",
    "X1 = sparse.csr_matrix(np.array([\n",
    "    [1, 0],\n",
    "    [1, 0],\n",
    "    [1, 0],\n",
    "    [0, 1],\n",
    "    [0, 1],\n",
    "    [0, 1],\n",
    "]))\n",
    "names1 = np.array(['0', '1', '2', '3', '4', '5'])\n",
    "names_col1 = np.array(['a', 'b'])"
   ]
  },
  {
   "cell_type": "code",
   "execution_count": 14,
   "id": "8e8c5fee-4abe-4535-af25-f67ac4f19136",
   "metadata": {},
   "outputs": [
    {
     "data": {
      "image/svg+xml": [
       "<svg xmlns=\"http://www.w3.org/2000/svg\" width=\"452.0\" height=\"340\">\n",
       "<path stroke-width=\"1\" stroke=\"gray\" d=\"M 108 320 20 275\"/>\n",
       "<path stroke-width=\"1\" stroke=\"gray\" d=\"M 108 320 153 224\"/>\n",
       "<path stroke-width=\"1\" stroke=\"gray\" d=\"M 20 275 108 320\"/>\n",
       "<path stroke-width=\"1\" stroke=\"gray\" d=\"M 20 275 153 224\"/>\n",
       "<path stroke-width=\"1\" stroke=\"gray\" d=\"M 153 224 108 320\"/>\n",
       "<path stroke-width=\"1\" stroke=\"gray\" d=\"M 153 224 20 275\"/>\n",
       "<path stroke-width=\"1\" stroke=\"gray\" d=\"M 153 224 287 115\"/>\n",
       "<path stroke-width=\"1\" stroke=\"gray\" d=\"M 287 115 153 224\"/>\n",
       "<path stroke-width=\"1\" stroke=\"gray\" d=\"M 287 115 331 20\"/>\n",
       "<path stroke-width=\"1\" stroke=\"gray\" d=\"M 287 115 420 65\"/>\n",
       "<path stroke-width=\"1\" stroke=\"gray\" d=\"M 331 20 287 115\"/>\n",
       "<path stroke-width=\"1\" stroke=\"gray\" d=\"M 331 20 420 65\"/>\n",
       "<path stroke-width=\"1\" stroke=\"gray\" d=\"M 420 65 287 115\"/>\n",
       "<path stroke-width=\"1\" stroke=\"gray\" d=\"M 420 65 331 20\"/>\n",
       "<circle cx=\"108\" cy=\"320\" r=\"7.0\" style=\"fill:gray;stroke:black;stroke-width:1.0\"/>\n",
       "<circle cx=\"20\" cy=\"275\" r=\"7.0\" style=\"fill:gray;stroke:black;stroke-width:1.0\"/>\n",
       "<circle cx=\"153\" cy=\"224\" r=\"7.0\" style=\"fill:gray;stroke:black;stroke-width:1.0\"/>\n",
       "<circle cx=\"287\" cy=\"115\" r=\"7.0\" style=\"fill:gray;stroke:black;stroke-width:1.0\"/>\n",
       "<circle cx=\"331\" cy=\"20\" r=\"7.0\" style=\"fill:gray;stroke:black;stroke-width:1.0\"/>\n",
       "<circle cx=\"420\" cy=\"65\" r=\"7.0\" style=\"fill:gray;stroke:black;stroke-width:1.0\"/>\n",
       "<text text-anchor=\"start\" x=\"118\" y=\"320\" font-size=\"12\">0</text><text text-anchor=\"start\" x=\"30\" y=\"275\" font-size=\"12\">1</text><text text-anchor=\"start\" x=\"163\" y=\"224\" font-size=\"12\">2</text><text text-anchor=\"start\" x=\"297\" y=\"115\" font-size=\"12\">3</text><text text-anchor=\"start\" x=\"341\" y=\"20\" font-size=\"12\">4</text><text text-anchor=\"start\" x=\"430\" y=\"65\" font-size=\"12\">5</text></svg>"
      ],
      "text/plain": [
       "<IPython.core.display.SVG object>"
      ]
     },
     "execution_count": 14,
     "metadata": {},
     "output_type": "execute_result"
    }
   ],
   "source": [
    "SVG(svg_graph(G1, names=names1))"
   ]
  },
  {
   "cell_type": "code",
   "execution_count": 15,
   "id": "1f17c1b7-05f2-4caf-88eb-37fb9c0294c6",
   "metadata": {},
   "outputs": [
    {
     "name": "stdout",
     "output_type": "stream",
     "text": [
      "['a' 'b']\n",
      "CPU times: user 1.82 ms, sys: 1.37 ms, total: 3.19 ms\n",
      "Wall time: 3.07 ms\n"
     ]
    }
   ],
   "source": [
    "%%time\n",
    "result, sorted_names_col = run_algorithm(G1, X1, names_col1, 1, 1000, 'log_custom1')"
   ]
  },
  {
   "cell_type": "code",
   "execution_count": 16,
   "id": "90c3ef53-c4d7-4dfa-8cb2-fb646aa27bfb",
   "metadata": {},
   "outputs": [
    {
     "name": "stdout",
     "output_type": "stream",
     "text": [
      "[0 1 2 3 4 5] []\n",
      "[0 1 2] ['a']\n",
      "[3 4 5] ['b']\n"
     ]
    }
   ],
   "source": [
    "for c in result:\n",
    "    print(c[0], sorted_names_col[c[1]])"
   ]
  },
  {
   "cell_type": "markdown",
   "id": "f35e2a10-68fc-4b93-bd72-166f63975ff5",
   "metadata": {},
   "source": [
    "### Custom2"
   ]
  },
  {
   "cell_type": "code",
   "execution_count": 17,
   "id": "c8a33a32-85d3-4dcc-aac0-190d8d93ccd6",
   "metadata": {},
   "outputs": [],
   "source": [
    "G2 = sparse.identity(6).tocsr()\n",
    "X2 = sparse.identity(6).tocsr()\n",
    "names2 = np.array(['0', '1', '2', '3', '4', '5'])\n",
    "names_col2 = np.array(['a', 'b', 'c', 'd', 'e', 'f'])"
   ]
  },
  {
   "cell_type": "code",
   "execution_count": 18,
   "id": "aaa80916-f2fe-4832-bab6-ce5fcf1444eb",
   "metadata": {},
   "outputs": [
    {
     "data": {
      "image/svg+xml": [
       "<svg xmlns=\"http://www.w3.org/2000/svg\" width=\"452.0\" height=\"340\">\n",
       "<path stroke-width=\"1.0\" stroke=\"gray\" d=\"M 204 320 204 320\"/>\n",
       "<path stroke-width=\"1.0\" stroke=\"gray\" d=\"M 420 159 420 159\"/>\n",
       "<path stroke-width=\"1.0\" stroke=\"gray\" d=\"M 20 201 20 201\"/>\n",
       "<path stroke-width=\"1.0\" stroke=\"gray\" d=\"M 234 191 234 191\"/>\n",
       "<path stroke-width=\"1.0\" stroke=\"gray\" d=\"M 121 20 121 20\"/>\n",
       "<path stroke-width=\"1.0\" stroke=\"gray\" d=\"M 341 23 341 23\"/>\n",
       "<circle cx=\"204\" cy=\"320\" r=\"7.0\" style=\"fill:gray;stroke:black;stroke-width:1.0\"/>\n",
       "<circle cx=\"420\" cy=\"159\" r=\"7.0\" style=\"fill:gray;stroke:black;stroke-width:1.0\"/>\n",
       "<circle cx=\"20\" cy=\"201\" r=\"7.0\" style=\"fill:gray;stroke:black;stroke-width:1.0\"/>\n",
       "<circle cx=\"234\" cy=\"191\" r=\"7.0\" style=\"fill:gray;stroke:black;stroke-width:1.0\"/>\n",
       "<circle cx=\"121\" cy=\"20\" r=\"7.0\" style=\"fill:gray;stroke:black;stroke-width:1.0\"/>\n",
       "<circle cx=\"341\" cy=\"23\" r=\"7.0\" style=\"fill:gray;stroke:black;stroke-width:1.0\"/>\n",
       "<text text-anchor=\"start\" x=\"214\" y=\"320\" font-size=\"12\">0</text><text text-anchor=\"start\" x=\"430\" y=\"159\" font-size=\"12\">1</text><text text-anchor=\"start\" x=\"30\" y=\"201\" font-size=\"12\">2</text><text text-anchor=\"start\" x=\"244\" y=\"191\" font-size=\"12\">3</text><text text-anchor=\"start\" x=\"131\" y=\"20\" font-size=\"12\">4</text><text text-anchor=\"start\" x=\"351\" y=\"23\" font-size=\"12\">5</text></svg>"
      ],
      "text/plain": [
       "<IPython.core.display.SVG object>"
      ]
     },
     "execution_count": 18,
     "metadata": {},
     "output_type": "execute_result"
    }
   ],
   "source": [
    "SVG(svg_graph(G2, names=names2))"
   ]
  },
  {
   "cell_type": "code",
   "execution_count": 19,
   "id": "0ad32bf6-5c59-4b98-8887-5f23dfc3a6e3",
   "metadata": {},
   "outputs": [
    {
     "name": "stdout",
     "output_type": "stream",
     "text": [
      "['a' 'b' 'c' 'd' 'e' 'f']\n",
      "CPU times: user 3.45 ms, sys: 1.23 ms, total: 4.68 ms\n",
      "Wall time: 3.97 ms\n"
     ]
    }
   ],
   "source": [
    "%%time\n",
    "result, sorted_names_col = run_algorithm(G2, X2, names_col2, 1, 1000, 'log_custom2')"
   ]
  },
  {
   "cell_type": "code",
   "execution_count": 20,
   "id": "eb7d5fdb-0ccf-4d91-b6fd-ad56b4e1112b",
   "metadata": {},
   "outputs": [
    {
     "name": "stdout",
     "output_type": "stream",
     "text": [
      "[0 1 2 3 4 5] []\n",
      "[0] ['a']\n",
      "[1] ['b']\n",
      "[2] ['c']\n",
      "[3] ['d']\n",
      "[4] ['e']\n",
      "[5] ['f']\n"
     ]
    }
   ],
   "source": [
    "for c in result:\n",
    "    print(c[0], sorted_names_col[c[1]])"
   ]
  },
  {
   "cell_type": "markdown",
   "id": "08cacc37-d696-44f1-b5ab-f7ba9d111d67",
   "metadata": {
    "tags": []
   },
   "source": [
    "### Custom3"
   ]
  },
  {
   "cell_type": "code",
   "execution_count": 21,
   "id": "7c7b2026-ce10-4ace-a09b-c462c2561672",
   "metadata": {},
   "outputs": [],
   "source": [
    "G3 = sparse.csr_matrix(np.array([\n",
    "    [0, 1, 1, 0, 0, 0],\n",
    "    [1, 0, 1, 0, 0, 0],\n",
    "    [1, 1, 0, 1, 0, 0],\n",
    "    [0, 0, 1, 0, 1, 1],\n",
    "    [0, 0, 0, 1, 0, 1],\n",
    "    [0, 0, 0, 1, 1, 0],\n",
    "]))\n",
    "X3 = sparse.csr_matrix(np.array([\n",
    "    [1, 0, 1, 0, 0],\n",
    "    [1, 0, 0, 1, 0],\n",
    "    [1, 0, 0, 0, 1],\n",
    "    [0, 1, 0, 0, 0],\n",
    "    [0, 1, 0, 0, 0],\n",
    "    [0, 1, 0, 0, 0],\n",
    "]))\n",
    "names3 = np.array(['0', '1', '2', '3', '4', '5'])\n",
    "names_col3 = np.array(['a', 'b', 'c', 'd', 'e'])"
   ]
  },
  {
   "cell_type": "code",
   "execution_count": 22,
   "id": "e578d4ee-ab0f-46b5-ae4a-30c1ec0f34be",
   "metadata": {},
   "outputs": [
    {
     "data": {
      "image/svg+xml": [
       "<svg xmlns=\"http://www.w3.org/2000/svg\" width=\"572.0\" height=\"340\">\n",
       "<path stroke-width=\"1\" stroke=\"gray\" d=\"M 353 20 420 79\"/>\n",
       "<path stroke-width=\"1\" stroke=\"gray\" d=\"M 353 20 286 118\"/>\n",
       "<path stroke-width=\"1\" stroke=\"gray\" d=\"M 420 79 353 20\"/>\n",
       "<path stroke-width=\"1\" stroke=\"gray\" d=\"M 420 79 286 118\"/>\n",
       "<path stroke-width=\"1\" stroke=\"gray\" d=\"M 286 118 353 20\"/>\n",
       "<path stroke-width=\"1\" stroke=\"gray\" d=\"M 286 118 420 79\"/>\n",
       "<path stroke-width=\"1\" stroke=\"gray\" d=\"M 286 118 153 222\"/>\n",
       "<path stroke-width=\"1\" stroke=\"gray\" d=\"M 153 222 286 118\"/>\n",
       "<path stroke-width=\"1\" stroke=\"gray\" d=\"M 153 222 20 260\"/>\n",
       "<path stroke-width=\"1\" stroke=\"gray\" d=\"M 153 222 86 320\"/>\n",
       "<path stroke-width=\"1\" stroke=\"gray\" d=\"M 20 260 153 222\"/>\n",
       "<path stroke-width=\"1\" stroke=\"gray\" d=\"M 20 260 86 320\"/>\n",
       "<path stroke-width=\"1\" stroke=\"gray\" d=\"M 86 320 153 222\"/>\n",
       "<path stroke-width=\"1\" stroke=\"gray\" d=\"M 86 320 20 260\"/>\n",
       "<circle cx=\"353\" cy=\"20\" r=\"7.0\" style=\"fill:gray;stroke:black;stroke-width:1.0\"/>\n",
       "<circle cx=\"420\" cy=\"79\" r=\"7.0\" style=\"fill:gray;stroke:black;stroke-width:1.0\"/>\n",
       "<circle cx=\"286\" cy=\"118\" r=\"7.0\" style=\"fill:gray;stroke:black;stroke-width:1.0\"/>\n",
       "<circle cx=\"153\" cy=\"222\" r=\"7.0\" style=\"fill:gray;stroke:black;stroke-width:1.0\"/>\n",
       "<circle cx=\"20\" cy=\"260\" r=\"7.0\" style=\"fill:gray;stroke:black;stroke-width:1.0\"/>\n",
       "<circle cx=\"86\" cy=\"320\" r=\"7.0\" style=\"fill:gray;stroke:black;stroke-width:1.0\"/>\n",
       "<text text-anchor=\"start\" x=\"363\" y=\"20\" font-size=\"12\">0-['a' 'c']</text><text text-anchor=\"start\" x=\"430\" y=\"79\" font-size=\"12\">1-['a' 'd']</text><text text-anchor=\"start\" x=\"296\" y=\"118\" font-size=\"12\">2-['a' 'e']</text><text text-anchor=\"start\" x=\"163\" y=\"222\" font-size=\"12\">3-['b']</text><text text-anchor=\"start\" x=\"30\" y=\"260\" font-size=\"12\">4-['b']</text><text text-anchor=\"start\" x=\"96\" y=\"320\" font-size=\"12\">5-['b']</text></svg>"
      ],
      "text/plain": [
       "<IPython.core.display.SVG object>"
      ]
     },
     "execution_count": 22,
     "metadata": {},
     "output_type": "execute_result"
    }
   ],
   "source": [
    "SVG(svg_graph(G3, names=[n + '-' + str(names_col3[x.indices]) for n, x in zip(names3, X3)]))"
   ]
  },
  {
   "cell_type": "code",
   "execution_count": 23,
   "id": "36e9270c-f408-45c8-b7b1-21395688fcbb",
   "metadata": {},
   "outputs": [
    {
     "name": "stdout",
     "output_type": "stream",
     "text": [
      "['c' 'd' 'e' 'a' 'b']\n",
      "CPU times: user 3.69 ms, sys: 1.49 ms, total: 5.18 ms\n",
      "Wall time: 4.73 ms\n"
     ]
    }
   ],
   "source": [
    "%%time\n",
    "result, sorted_names_col = run_algorithm(G3, X3, names_col3, 1, 1000, 'log_custom3')"
   ]
  },
  {
   "cell_type": "code",
   "execution_count": 24,
   "id": "e27eacca-7042-46dd-b591-aa0f943572cf",
   "metadata": {},
   "outputs": [
    {
     "name": "stdout",
     "output_type": "stream",
     "text": [
      "[0 1 2 3 4 5] []\n",
      "[0] ['c']\n",
      "[1] ['d']\n",
      "[2] ['e']\n",
      "[0 1 2] ['a']\n",
      "[3 4 5] ['b']\n"
     ]
    }
   ],
   "source": [
    "for c in result:\n",
    "    print(c[0], sorted_names_col[c[1]])"
   ]
  },
  {
   "cell_type": "markdown",
   "id": "49aa6781-d64a-4156-a89e-a406fae976e8",
   "metadata": {},
   "source": [
    "Exemple d'itération de l'algo:\n",
    "- `'c'` est l'attribut candidat $\\rightarrow$ le sous-graphe $G_c$ = {0} est filtré $\\rightarrow$ ce graphe est inattendu (comparé à l'ensemble vide) $\\rightarrow$ on continue la récursion\n",
    "- `'a'` est attribut candidat $\\rightarrow$ le sous-graphe $G_{[c,a]}$ = {0} est filtré (inchangé) $\\rightarrow$ ce graphe est moins inattendu que le précédent $\\rightarrow$ l'attribut candidat n'est pas ajouté et on arrête la récursion **En effet, `'a'` est partagé par 3 noeuds et n'apporte pas de assez surprise par rapport à l'itération précédente**"
   ]
  },
  {
   "cell_type": "markdown",
   "id": "77600b3c-b33d-47a2-9309-7e4be7f2457f",
   "metadata": {
    "tags": []
   },
   "source": [
    "### Custom4  \n",
    "\n",
    "1 article which is the concatenation of 2 articles from different communities, citing other articles"
   ]
  },
  {
   "cell_type": "code",
   "execution_count": 25,
   "id": "7f38e970-de4f-456a-a1d7-4e03c082d082",
   "metadata": {},
   "outputs": [],
   "source": [
    "G4 = sparse.csr_matrix(np.array([\n",
    "    [0, 1, 1, 0, 0, 0, 0],\n",
    "    [1, 0, 1, 0, 0, 0, 0],\n",
    "    [1, 1, 0, 0, 0, 0, 0],\n",
    "    [0, 0, 1, 0, 1, 0, 0],\n",
    "    [0, 0, 0, 0, 0, 1, 1],\n",
    "    [0, 0, 0, 0, 1, 0, 1],\n",
    "    [0, 0, 0, 0, 1, 1, 0]\n",
    "]))\n",
    "X4 = sparse.csr_matrix(np.array([\n",
    "    [1, 1, 0, 0, 0, 0, 0, 0],\n",
    "    [1, 0, 1, 0, 0, 0, 0, 0],\n",
    "    [1, 0, 0, 1, 0, 0, 0, 0],\n",
    "    [1, 0, 0, 1, 1, 1, 0, 0],\n",
    "    [0, 0, 0, 0, 1, 1, 0, 0],\n",
    "    [0, 0, 0, 0, 1, 0, 1, 0],\n",
    "    [0, 0, 0, 0, 1, 0, 0, 1],\n",
    "]))\n",
    "names4 = np.array(range(G4.shape[0])).astype(str)\n",
    "names_col4 = np.array(['a', 'b', 'c', 'd', 'e', 'f', 'g', 'h'])"
   ]
  },
  {
   "cell_type": "code",
   "execution_count": 26,
   "id": "c88ba501-09a8-49e2-9622-dc87d1210a9f",
   "metadata": {},
   "outputs": [
    {
     "data": {
      "image/svg+xml": [
       "<svg xmlns=\"http://www.w3.org/2000/svg\" width=\"572.0\" height=\"340\">\n",
       "<defs><marker id=\"arrow-gray\" markerWidth=\"10\" markerHeight=\"10\" refX=\"9\" refY=\"3\" orient=\"auto\">\n",
       "<path d=\"M0,0 L0,6 L9,3 z\" fill=\"gray\"/></marker></defs>\n",
       "<path stroke-width=\"1\" stroke=\"gray\" d=\"M 420 243 402 314\" marker-end=\"url(#arrow-gray)\"/>\n",
       "<path stroke-width=\"1\" stroke=\"gray\" d=\"M 420 243 351 246\" marker-end=\"url(#arrow-gray)\"/>\n",
       "<path stroke-width=\"1\" stroke=\"gray\" d=\"M 401 320 419 249\" marker-end=\"url(#arrow-gray)\"/>\n",
       "<path stroke-width=\"1\" stroke=\"gray\" d=\"M 401 320 349 251\" marker-end=\"url(#arrow-gray)\"/>\n",
       "<path stroke-width=\"1\" stroke=\"gray\" d=\"M 345 246 414 243\" marker-end=\"url(#arrow-gray)\"/>\n",
       "<path stroke-width=\"1\" stroke=\"gray\" d=\"M 345 246 397 315\" marker-end=\"url(#arrow-gray)\"/>\n",
       "<path stroke-width=\"1\" stroke=\"gray\" d=\"M 220 173 339 243\" marker-end=\"url(#arrow-gray)\"/>\n",
       "<path stroke-width=\"1\" stroke=\"gray\" d=\"M 220 173 102 107\" marker-end=\"url(#arrow-gray)\"/>\n",
       "<path stroke-width=\"1\" stroke=\"gray\" d=\"M 96 104 47 25\" marker-end=\"url(#arrow-gray)\"/>\n",
       "<path stroke-width=\"1\" stroke=\"gray\" d=\"M 96 104 26 99\" marker-end=\"url(#arrow-gray)\"/>\n",
       "<path stroke-width=\"1\" stroke=\"gray\" d=\"M 44 20 93 99\" marker-end=\"url(#arrow-gray)\"/>\n",
       "<path stroke-width=\"1\" stroke=\"gray\" d=\"M 44 20 22 93\" marker-end=\"url(#arrow-gray)\"/>\n",
       "<path stroke-width=\"1\" stroke=\"gray\" d=\"M 20 99 90 104\" marker-end=\"url(#arrow-gray)\"/>\n",
       "<path stroke-width=\"1\" stroke=\"gray\" d=\"M 20 99 42 26\" marker-end=\"url(#arrow-gray)\"/>\n",
       "<circle cx=\"420\" cy=\"243\" r=\"7.0\" style=\"fill:gray;stroke:black;stroke-width:1.0\"/>\n",
       "<circle cx=\"401\" cy=\"320\" r=\"7.0\" style=\"fill:gray;stroke:black;stroke-width:1.0\"/>\n",
       "<circle cx=\"345\" cy=\"246\" r=\"7.0\" style=\"fill:gray;stroke:black;stroke-width:1.0\"/>\n",
       "<circle cx=\"220\" cy=\"173\" r=\"7.0\" style=\"fill:gray;stroke:black;stroke-width:1.0\"/>\n",
       "<circle cx=\"96\" cy=\"104\" r=\"7.0\" style=\"fill:gray;stroke:black;stroke-width:1.0\"/>\n",
       "<circle cx=\"44\" cy=\"20\" r=\"7.0\" style=\"fill:gray;stroke:black;stroke-width:1.0\"/>\n",
       "<circle cx=\"20\" cy=\"99\" r=\"7.0\" style=\"fill:gray;stroke:black;stroke-width:1.0\"/>\n",
       "<text text-anchor=\"start\" x=\"430\" y=\"243\" font-size=\"12\">0-['a' 'b']</text><text text-anchor=\"start\" x=\"411\" y=\"320\" font-size=\"12\">1-['a' 'c']</text><text text-anchor=\"start\" x=\"355\" y=\"246\" font-size=\"12\">2-['a' 'd']</text><text text-anchor=\"start\" x=\"230\" y=\"173\" font-size=\"12\">3-['a' 'd' 'e' 'f']</text><text text-anchor=\"start\" x=\"106\" y=\"104\" font-size=\"12\">4-['e' 'f']</text><text text-anchor=\"start\" x=\"54\" y=\"20\" font-size=\"12\">5-['e' 'g']</text><text text-anchor=\"start\" x=\"30\" y=\"99\" font-size=\"12\">6-['e' 'h']</text></svg>"
      ],
      "text/plain": [
       "<IPython.core.display.SVG object>"
      ]
     },
     "execution_count": 26,
     "metadata": {},
     "output_type": "execute_result"
    }
   ],
   "source": [
    "SVG(svg_graph(G4, names=[n + '-' + str(names_col4[x.indices]) for n, x in zip(names4, X4)]))"
   ]
  },
  {
   "cell_type": "code",
   "execution_count": 27,
   "id": "99ad58b0-e142-4294-ae87-8377da6f0424",
   "metadata": {},
   "outputs": [
    {
     "name": "stdout",
     "output_type": "stream",
     "text": [
      "['b' 'c' 'g' 'h' 'd' 'f' 'a' 'e']\n",
      "CPU times: user 5.85 ms, sys: 1.18 ms, total: 7.03 ms\n",
      "Wall time: 8.17 ms\n"
     ]
    }
   ],
   "source": [
    "%%time\n",
    "result, sorted_names_col = run_algorithm(G4, X4, names_col4, 1, 1000, 'log_custom4')"
   ]
  },
  {
   "cell_type": "code",
   "execution_count": 28,
   "id": "bd349a82-3275-42e2-838d-9f16f536ce29",
   "metadata": {},
   "outputs": [
    {
     "name": "stdout",
     "output_type": "stream",
     "text": [
      "[0 1 2 3 4 5 6] []\n",
      "[0] ['b']\n",
      "[1] ['c']\n",
      "[5] ['g']\n",
      "[6] ['h']\n",
      "[2 3] ['d']\n",
      "[3 4] ['f']\n",
      "[0 1 2 3] ['a']\n",
      "[3 4 5 6] ['e']\n"
     ]
    }
   ],
   "source": [
    "for c in result:\n",
    "    print(c[0], sorted_names_col[c[1]])"
   ]
  },
  {
   "cell_type": "markdown",
   "id": "f4b7b434-eb6d-4855-bef5-45a4ca1b5dd4",
   "metadata": {},
   "source": [
    "* pros : \n",
    "     - les noeuds `5` et `6`, et `0` et `1` ne sont décrits que par leurs attributs discriminants\n",
    "     - idem pour les concepts `[2, 3]` et `[3, 4]`\n",
    "     - pas de concept avec un seul noeud si ce noeud est déjà dans d'autres concepts plus gr-ands\n",
    "* cons: \n",
    "    - pas de concepts avec les noeuds `[2, 3, 4]` $\\rightarrow$ on pourrait voir un concept inattendu qui regroupe ces noeuds ? mais comment prendre en compte la clôture vide ?\n",
    "    - concept avec le noeud `3` et les attributs `['d', 'f']`, i.e discriminants ?"
   ]
  },
  {
   "cell_type": "markdown",
   "id": "79c88ec2-fcdd-44ef-b45c-5beb0d961055",
   "metadata": {
    "tags": []
   },
   "source": [
    "### Custom5  \n",
    "\n",
    "1 article which is the concatenation of 2 articles from different communities, without citing other articles"
   ]
  },
  {
   "cell_type": "code",
   "execution_count": 29,
   "id": "a6d0112a-fbde-4a88-8a76-237dffe2e6e9",
   "metadata": {},
   "outputs": [],
   "source": [
    "G5 = sparse.csr_matrix(np.array([\n",
    "    [0, 1, 1, 0, 0, 0, 0],\n",
    "    [1, 0, 1, 0, 0, 0, 0],\n",
    "    [1, 1, 0, 0, 0, 0, 0],\n",
    "    [0, 0, 0, 1, 0, 0, 0],\n",
    "    [0, 0, 0, 0, 0, 1, 1],\n",
    "    [0, 0, 0, 0, 1, 0, 1],\n",
    "    [0, 0, 0, 0, 1, 1, 0]\n",
    "]))\n",
    "X5 = sparse.csr_matrix(np.array([\n",
    "    [1, 1, 0, 0, 0, 0, 0, 0],\n",
    "    [1, 0, 1, 0, 0, 0, 0, 0],\n",
    "    [1, 0, 0, 1, 0, 0, 0, 0],\n",
    "    [1, 0, 0, 1, 1, 1, 0, 0],\n",
    "    [0, 0, 0, 0, 1, 1, 0, 0],\n",
    "    [0, 0, 0, 0, 1, 0, 1, 0],\n",
    "    [0, 0, 0, 0, 1, 0, 0, 1],\n",
    "]))\n",
    "names5 = np.array(range(G5.shape[0])).astype(str)\n",
    "names_col5 = np.array(['a', 'b', 'c', 'd', 'e', 'f', 'g', 'h'])"
   ]
  },
  {
   "cell_type": "code",
   "execution_count": 30,
   "id": "82095bcd-a4c4-47cb-9182-244cdbfc1366",
   "metadata": {},
   "outputs": [
    {
     "data": {
      "image/svg+xml": [
       "<svg xmlns=\"http://www.w3.org/2000/svg\" width=\"572.0\" height=\"340\">\n",
       "<path stroke-width=\"1\" stroke=\"gray\" d=\"M 26 298 20 320\"/>\n",
       "<path stroke-width=\"1\" stroke=\"gray\" d=\"M 26 298 59 312\"/>\n",
       "<path stroke-width=\"1\" stroke=\"gray\" d=\"M 20 320 26 298\"/>\n",
       "<path stroke-width=\"1\" stroke=\"gray\" d=\"M 20 320 59 312\"/>\n",
       "<path stroke-width=\"1\" stroke=\"gray\" d=\"M 59 312 26 298\"/>\n",
       "<path stroke-width=\"1\" stroke=\"gray\" d=\"M 59 312 20 320\"/>\n",
       "<path stroke-width=\"1\" stroke=\"gray\" d=\"M 21 20 21 20\"/>\n",
       "<path stroke-width=\"1\" stroke=\"gray\" d=\"M 391 175 378 154\"/>\n",
       "<path stroke-width=\"1\" stroke=\"gray\" d=\"M 391 175 420 159\"/>\n",
       "<path stroke-width=\"1\" stroke=\"gray\" d=\"M 378 154 391 175\"/>\n",
       "<path stroke-width=\"1\" stroke=\"gray\" d=\"M 378 154 420 159\"/>\n",
       "<path stroke-width=\"1\" stroke=\"gray\" d=\"M 420 159 391 175\"/>\n",
       "<path stroke-width=\"1\" stroke=\"gray\" d=\"M 420 159 378 154\"/>\n",
       "<circle cx=\"26\" cy=\"298\" r=\"7.0\" style=\"fill:gray;stroke:black;stroke-width:1.0\"/>\n",
       "<circle cx=\"20\" cy=\"320\" r=\"7.0\" style=\"fill:gray;stroke:black;stroke-width:1.0\"/>\n",
       "<circle cx=\"59\" cy=\"312\" r=\"7.0\" style=\"fill:gray;stroke:black;stroke-width:1.0\"/>\n",
       "<circle cx=\"21\" cy=\"20\" r=\"7.0\" style=\"fill:gray;stroke:black;stroke-width:1.0\"/>\n",
       "<circle cx=\"391\" cy=\"175\" r=\"7.0\" style=\"fill:gray;stroke:black;stroke-width:1.0\"/>\n",
       "<circle cx=\"378\" cy=\"154\" r=\"7.0\" style=\"fill:gray;stroke:black;stroke-width:1.0\"/>\n",
       "<circle cx=\"420\" cy=\"159\" r=\"7.0\" style=\"fill:gray;stroke:black;stroke-width:1.0\"/>\n",
       "<text text-anchor=\"start\" x=\"36\" y=\"298\" font-size=\"12\">0-['a' 'b']</text><text text-anchor=\"start\" x=\"30\" y=\"320\" font-size=\"12\">1-['a' 'c']</text><text text-anchor=\"start\" x=\"69\" y=\"312\" font-size=\"12\">2-['a' 'd']</text><text text-anchor=\"start\" x=\"31\" y=\"20\" font-size=\"12\">3-['a' 'd' 'e' 'f']</text><text text-anchor=\"start\" x=\"401\" y=\"175\" font-size=\"12\">4-['e' 'f']</text><text text-anchor=\"start\" x=\"388\" y=\"154\" font-size=\"12\">5-['e' 'g']</text><text text-anchor=\"start\" x=\"430\" y=\"159\" font-size=\"12\">6-['e' 'h']</text></svg>"
      ],
      "text/plain": [
       "<IPython.core.display.SVG object>"
      ]
     },
     "execution_count": 30,
     "metadata": {},
     "output_type": "execute_result"
    }
   ],
   "source": [
    "SVG(svg_graph(G5, names=[n + '-' + str(names_col5[x.indices]) for n, x in zip(names5, X5)]))"
   ]
  },
  {
   "cell_type": "code",
   "execution_count": 31,
   "id": "380e5bd9-8072-4044-a8fb-3ed2b06777f6",
   "metadata": {},
   "outputs": [
    {
     "name": "stdout",
     "output_type": "stream",
     "text": [
      "['b' 'c' 'g' 'h' 'd' 'f' 'a' 'e']\n",
      "CPU times: user 5.98 ms, sys: 1.45 ms, total: 7.44 ms\n",
      "Wall time: 6.3 ms\n"
     ]
    }
   ],
   "source": [
    "%%time\n",
    "result, sorted_names_col = run_algorithm(G5, X5, names_col5, 1, 1000, 'log_custom5')"
   ]
  },
  {
   "cell_type": "code",
   "execution_count": 32,
   "id": "8295fcdc-f884-47d4-83f0-720800636006",
   "metadata": {},
   "outputs": [
    {
     "name": "stdout",
     "output_type": "stream",
     "text": [
      "[0 1 2 3 4 5 6] []\n",
      "[0] ['b']\n",
      "[1] ['c']\n",
      "[5] ['g']\n",
      "[6] ['h']\n",
      "[2 3] ['d']\n",
      "[3 4] ['f']\n",
      "[0 1 2 3] ['a']\n",
      "[3 4 5 6] ['e']\n"
     ]
    }
   ],
   "source": [
    "for c in result:\n",
    "    print(c[0], sorted_names_col[c[1]])"
   ]
  },
  {
   "cell_type": "markdown",
   "id": "04fa6a72-98e6-4f8b-b431-5b9dfb943a56",
   "metadata": {},
   "source": [
    "* pros:\n",
    "    - pas de concept avec un seul noeud si ce noeud est déjà dans d'autres concepts plus gr-ands\n",
    "* cons: \n",
    "    - pas de concept avec les noeuds `[2, 3, 4]` (intersection vide) ?\n",
    "    - pas de concept avec le noeud `3` uniquement ?"
   ]
  },
  {
   "cell_type": "markdown",
   "id": "515c5035-b2cc-40eb-acb8-d714b98d6667",
   "metadata": {
    "tags": []
   },
   "source": [
    "### Custom6  \n",
    "\n",
    "Connected nodes without anything in common."
   ]
  },
  {
   "cell_type": "code",
   "execution_count": 36,
   "id": "a6b65072-40e2-4bb3-af72-a7f1cc821748",
   "metadata": {},
   "outputs": [],
   "source": [
    "G6 = sparse.csr_matrix(np.array([\n",
    "    [0, 1, 1, 1, 1, 1, 1],\n",
    "    [1, 0, 1, 1, 1, 1, 1],\n",
    "    [1, 1, 0, 1, 1, 1, 1],\n",
    "    [1, 1, 1, 0, 1, 1, 1],\n",
    "    [1, 1, 1, 1, 0, 1, 1],\n",
    "    [1, 1, 1, 1, 1, 0, 1],\n",
    "    [1, 1, 1, 1, 1, 1, 0]\n",
    "]))\n",
    "X6 = sparse.csr_matrix(np.array([\n",
    "    [1, 0, 0, 0, 0, 0, 0],\n",
    "    [1, 1, 0, 0, 0, 0, 0],\n",
    "    [1, 0, 1, 0, 0, 0, 0],\n",
    "    [1, 0, 0, 1, 0, 0, 0],\n",
    "    [1, 0, 0, 0, 1, 0, 0],\n",
    "    [1, 0, 0, 0, 0, 1, 0],\n",
    "    [1, 0, 0, 0, 0, 0, 1],\n",
    "]))\n",
    "names6 = np.array(range(G6.shape[0])).astype(str)\n",
    "names_col6 = np.array(['a', 'b', 'c', 'd', 'e', 'f', 'g'])"
   ]
  },
  {
   "cell_type": "code",
   "execution_count": 33,
   "id": "67686059-6628-4e73-baba-aded03b89c70",
   "metadata": {},
   "outputs": [],
   "source": [
    "G6 = sparse.csr_matrix(np.array([\n",
    "    [0, 1, 1, 1, 1, 1, 1],\n",
    "    [1, 0, 1, 1, 1, 1, 1],\n",
    "    [1, 1, 0, 1, 1, 1, 1],\n",
    "    [1, 1, 1, 0, 1, 1, 1],\n",
    "    [1, 1, 1, 1, 0, 1, 1],\n",
    "    [1, 1, 1, 1, 1, 0, 1],\n",
    "    [1, 1, 1, 1, 1, 1, 0]\n",
    "]))\n",
    "X6 = sparse.csr_matrix(np.array([\n",
    "    [1, 0, 0, 0, 0, 0, 0],\n",
    "    [0, 1, 0, 0, 0, 0, 0],\n",
    "    [0, 0, 1, 0, 0, 0, 0],\n",
    "    [0, 0, 0, 1, 0, 0, 0],\n",
    "    [0, 0, 0, 0, 1, 0, 0],\n",
    "    [0, 0, 0, 0, 0, 1, 0],\n",
    "    [0, 0, 0, 0, 0, 0, 1],\n",
    "]))\n",
    "names6 = np.array(range(G6.shape[0])).astype(str)\n",
    "names_col6 = np.array(['a', 'b', 'c', 'd', 'e', 'f', 'g'])"
   ]
  },
  {
   "cell_type": "code",
   "execution_count": 37,
   "id": "9727e820-f882-4709-9abc-e7d99c9aa979",
   "metadata": {},
   "outputs": [
    {
     "data": {
      "image/svg+xml": [
       "<svg xmlns=\"http://www.w3.org/2000/svg\" width=\"572.0\" height=\"340\">\n",
       "<path stroke-width=\"1\" stroke=\"gray\" d=\"M 312 320 20 162\"/>\n",
       "<path stroke-width=\"1\" stroke=\"gray\" d=\"M 127 20 327 27\"/>\n",
       "<path stroke-width=\"1\" stroke=\"gray\" d=\"M 219 170 312 320\"/>\n",
       "<path stroke-width=\"1\" stroke=\"gray\" d=\"M 219 170 20 162\"/>\n",
       "<path stroke-width=\"1\" stroke=\"gray\" d=\"M 219 170 112 313\"/>\n",
       "<path stroke-width=\"1\" stroke=\"gray\" d=\"M 219 170 127 20\"/>\n",
       "<path stroke-width=\"1\" stroke=\"gray\" d=\"M 219 170 420 177\"/>\n",
       "<path stroke-width=\"1\" stroke=\"gray\" d=\"M 219 170 327 27\"/>\n",
       "<path stroke-width=\"1\" stroke=\"gray\" d=\"M 420 177 312 320\"/>\n",
       "<path stroke-width=\"1\" stroke=\"gray\" d=\"M 420 177 20 162\"/>\n",
       "<path stroke-width=\"1\" stroke=\"gray\" d=\"M 420 177 112 313\"/>\n",
       "<path stroke-width=\"1\" stroke=\"gray\" d=\"M 420 177 127 20\"/>\n",
       "<path stroke-width=\"1\" stroke=\"gray\" d=\"M 420 177 219 170\"/>\n",
       "<path stroke-width=\"1\" stroke=\"gray\" d=\"M 420 177 327 27\"/>\n",
       "<path stroke-width=\"1\" stroke=\"gray\" d=\"M 327 27 312 320\"/>\n",
       "<path stroke-width=\"1\" stroke=\"gray\" d=\"M 327 27 20 162\"/>\n",
       "<path stroke-width=\"1\" stroke=\"gray\" d=\"M 327 27 112 313\"/>\n",
       "<path stroke-width=\"1\" stroke=\"gray\" d=\"M 327 27 127 20\"/>\n",
       "<path stroke-width=\"1\" stroke=\"gray\" d=\"M 127 20 420 177\"/>\n",
       "<path stroke-width=\"1\" stroke=\"gray\" d=\"M 127 20 219 170\"/>\n",
       "<path stroke-width=\"1\" stroke=\"gray\" d=\"M 127 20 112 313\"/>\n",
       "<path stroke-width=\"1\" stroke=\"gray\" d=\"M 127 20 20 162\"/>\n",
       "<path stroke-width=\"1\" stroke=\"gray\" d=\"M 312 320 112 313\"/>\n",
       "<path stroke-width=\"1\" stroke=\"gray\" d=\"M 312 320 127 20\"/>\n",
       "<path stroke-width=\"1\" stroke=\"gray\" d=\"M 312 320 219 170\"/>\n",
       "<path stroke-width=\"1\" stroke=\"gray\" d=\"M 312 320 420 177\"/>\n",
       "<path stroke-width=\"1\" stroke=\"gray\" d=\"M 312 320 327 27\"/>\n",
       "<path stroke-width=\"1\" stroke=\"gray\" d=\"M 20 162 312 320\"/>\n",
       "<path stroke-width=\"1\" stroke=\"gray\" d=\"M 20 162 112 313\"/>\n",
       "<path stroke-width=\"1\" stroke=\"gray\" d=\"M 20 162 127 20\"/>\n",
       "<path stroke-width=\"1\" stroke=\"gray\" d=\"M 327 27 219 170\"/>\n",
       "<path stroke-width=\"1\" stroke=\"gray\" d=\"M 20 162 219 170\"/>\n",
       "<path stroke-width=\"1\" stroke=\"gray\" d=\"M 20 162 327 27\"/>\n",
       "<path stroke-width=\"1\" stroke=\"gray\" d=\"M 112 313 312 320\"/>\n",
       "<path stroke-width=\"1\" stroke=\"gray\" d=\"M 112 313 20 162\"/>\n",
       "<path stroke-width=\"1\" stroke=\"gray\" d=\"M 112 313 127 20\"/>\n",
       "<path stroke-width=\"1\" stroke=\"gray\" d=\"M 112 313 219 170\"/>\n",
       "<path stroke-width=\"1\" stroke=\"gray\" d=\"M 112 313 420 177\"/>\n",
       "<path stroke-width=\"1\" stroke=\"gray\" d=\"M 112 313 327 27\"/>\n",
       "<path stroke-width=\"1\" stroke=\"gray\" d=\"M 127 20 312 320\"/>\n",
       "<path stroke-width=\"1\" stroke=\"gray\" d=\"M 20 162 420 177\"/>\n",
       "<path stroke-width=\"1\" stroke=\"gray\" d=\"M 327 27 420 177\"/>\n",
       "<circle cx=\"312\" cy=\"320\" r=\"7.0\" style=\"fill:gray;stroke:black;stroke-width:1.0\"/>\n",
       "<circle cx=\"20\" cy=\"162\" r=\"7.0\" style=\"fill:gray;stroke:black;stroke-width:1.0\"/>\n",
       "<circle cx=\"112\" cy=\"313\" r=\"7.0\" style=\"fill:gray;stroke:black;stroke-width:1.0\"/>\n",
       "<circle cx=\"127\" cy=\"20\" r=\"7.0\" style=\"fill:gray;stroke:black;stroke-width:1.0\"/>\n",
       "<circle cx=\"219\" cy=\"170\" r=\"7.0\" style=\"fill:gray;stroke:black;stroke-width:1.0\"/>\n",
       "<circle cx=\"420\" cy=\"177\" r=\"7.0\" style=\"fill:gray;stroke:black;stroke-width:1.0\"/>\n",
       "<circle cx=\"327\" cy=\"27\" r=\"7.0\" style=\"fill:gray;stroke:black;stroke-width:1.0\"/>\n",
       "<text text-anchor=\"start\" x=\"322\" y=\"320\" font-size=\"12\">0-['a']</text><text text-anchor=\"start\" x=\"30\" y=\"162\" font-size=\"12\">1-['a' 'b']</text><text text-anchor=\"start\" x=\"122\" y=\"313\" font-size=\"12\">2-['a' 'c']</text><text text-anchor=\"start\" x=\"137\" y=\"20\" font-size=\"12\">3-['a' 'd']</text><text text-anchor=\"start\" x=\"229\" y=\"170\" font-size=\"12\">4-['a' 'e']</text><text text-anchor=\"start\" x=\"430\" y=\"177\" font-size=\"12\">5-['a' 'f']</text><text text-anchor=\"start\" x=\"337\" y=\"27\" font-size=\"12\">6-['a' 'g']</text></svg>"
      ],
      "text/plain": [
       "<IPython.core.display.SVG object>"
      ]
     },
     "execution_count": 37,
     "metadata": {},
     "output_type": "execute_result"
    }
   ],
   "source": [
    "SVG(svg_graph(G6, names=[n + '-' + str(names_col6[x.indices]) for n, x in zip(names6, X6)]))"
   ]
  },
  {
   "cell_type": "code",
   "execution_count": 38,
   "id": "94defd08-eed7-4333-9d99-cef71dbc8fc4",
   "metadata": {},
   "outputs": [
    {
     "name": "stdout",
     "output_type": "stream",
     "text": [
      "['b' 'c' 'd' 'e' 'f' 'g' 'a']\n",
      "CPU times: user 5.28 ms, sys: 1.75 ms, total: 7.03 ms\n",
      "Wall time: 5.9 ms\n"
     ]
    }
   ],
   "source": [
    "%%time\n",
    "result, sorted_names_col = run_algorithm(G6, X6, names_col6, 1, 1000, 'log_custom6_bis')"
   ]
  },
  {
   "cell_type": "code",
   "execution_count": 39,
   "id": "7b18254d-12f1-46fa-b2a4-5f1a4df228de",
   "metadata": {},
   "outputs": [
    {
     "name": "stdout",
     "output_type": "stream",
     "text": [
      "[0 1 2 3 4 5 6] ['a']\n",
      "[1] ['b']\n",
      "[2] ['c']\n",
      "[3] ['d']\n",
      "[4] ['e']\n",
      "[5] ['f']\n",
      "[6] ['g']\n"
     ]
    }
   ],
   "source": [
    "for c in result:\n",
    "    print(c[0], sorted_names_col[c[1]])"
   ]
  },
  {
   "cell_type": "markdown",
   "id": "d3fd7d8b-c920-4dd6-a00c-e9e0c3999ddd",
   "metadata": {},
   "source": [
    "* pros:\n",
    "    - pas de concept avec tous les noeuds malgré la densité  \n",
    "* cons:\n",
    "    - perte d'information sur la structure du graphe initial ? "
   ]
  },
  {
   "cell_type": "markdown",
   "id": "658911f6-b9f0-4a7a-9bbe-93cdb4d7716b",
   "metadata": {
    "tags": []
   },
   "source": [
    "### Custom7  \n",
    "\n",
    "1 article between 1 strong community and one diverse community"
   ]
  },
  {
   "cell_type": "code",
   "execution_count": 147,
   "id": "010e4b6d-e1c5-46d8-8e9c-0f20e93e8c15",
   "metadata": {},
   "outputs": [],
   "source": [
    "G7 = sparse.csr_matrix(np.array([\n",
    "    [0, 1, 1, 1, 0, 0, 0, 0, 0],\n",
    "    [1, 0, 1, 1, 0, 0, 0, 0, 0],\n",
    "    [1, 1, 0, 1, 0, 0, 0, 0, 0],\n",
    "    [1, 1, 1, 0, 1, 0, 0, 0, 0],\n",
    "    [0, 0, 0, 1, 0, 1, 0, 0, 0],\n",
    "    [0, 0, 0, 0, 1, 0, 1, 1, 1],\n",
    "    [0, 0, 0, 0, 0, 1, 0, 1, 1],\n",
    "    [0, 0, 0, 0, 0, 1, 1, 0, 1],\n",
    "    [0, 0, 0, 0, 0, 1, 1, 1, 0]\n",
    "]))\n",
    "X7 = sparse.csr_matrix(np.array([\n",
    "    [1, 1, 0, 0, 0, 0],\n",
    "    [1, 0, 1, 0, 0, 0],\n",
    "    [1, 0, 0, 1, 0, 0],\n",
    "    [0, 1, 1, 0, 0, 0],\n",
    "    [0, 1, 1, 0, 1, 1],\n",
    "    [0, 0, 0, 0, 0, 1],\n",
    "    [0, 0, 0, 0, 0, 1],\n",
    "    [0, 0, 0, 0, 0, 1],\n",
    "    [0, 0, 0, 0, 0, 1]\n",
    "]))\n",
    "names7 = np.array(range(G7.shape[0])).astype(str)\n",
    "names_col7 = np.array(['a', 'b', 'c', 'd', 'e', 'f'])"
   ]
  },
  {
   "cell_type": "code",
   "execution_count": 148,
   "id": "7777a37d-79ef-4376-bec4-0140ed21f456",
   "metadata": {},
   "outputs": [
    {
     "data": {
      "image/svg+xml": [
       "<svg xmlns=\"http://www.w3.org/2000/svg\" width=\"524.0\" height=\"340\">\n",
       "<path stroke-width=\"1\" stroke=\"gray\" d=\"M 90 42 20 65\"/>\n",
       "<path stroke-width=\"1\" stroke=\"gray\" d=\"M 410 320 332 253\"/>\n",
       "<path stroke-width=\"1\" stroke=\"gray\" d=\"M 420 278 410 320\"/>\n",
       "<path stroke-width=\"1\" stroke=\"gray\" d=\"M 420 278 349 315\"/>\n",
       "<path stroke-width=\"1\" stroke=\"gray\" d=\"M 420 278 332 253\"/>\n",
       "<path stroke-width=\"1\" stroke=\"gray\" d=\"M 349 315 410 320\"/>\n",
       "<path stroke-width=\"1\" stroke=\"gray\" d=\"M 349 315 420 278\"/>\n",
       "<path stroke-width=\"1\" stroke=\"gray\" d=\"M 349 315 332 253\"/>\n",
       "<path stroke-width=\"1\" stroke=\"gray\" d=\"M 332 253 410 320\"/>\n",
       "<path stroke-width=\"1\" stroke=\"gray\" d=\"M 332 253 420 278\"/>\n",
       "<path stroke-width=\"1\" stroke=\"gray\" d=\"M 332 253 349 315\"/>\n",
       "<path stroke-width=\"1\" stroke=\"gray\" d=\"M 332 253 225 173\"/>\n",
       "<path stroke-width=\"1\" stroke=\"gray\" d=\"M 225 173 332 253\"/>\n",
       "<path stroke-width=\"1\" stroke=\"gray\" d=\"M 225 173 117 91\"/>\n",
       "<path stroke-width=\"1\" stroke=\"gray\" d=\"M 117 91 225 173\"/>\n",
       "<path stroke-width=\"1\" stroke=\"gray\" d=\"M 117 91 48 20\"/>\n",
       "<path stroke-width=\"1\" stroke=\"gray\" d=\"M 117 91 20 65\"/>\n",
       "<path stroke-width=\"1\" stroke=\"gray\" d=\"M 117 91 90 42\"/>\n",
       "<path stroke-width=\"1\" stroke=\"gray\" d=\"M 48 20 117 91\"/>\n",
       "<path stroke-width=\"1\" stroke=\"gray\" d=\"M 48 20 20 65\"/>\n",
       "<path stroke-width=\"1\" stroke=\"gray\" d=\"M 48 20 90 42\"/>\n",
       "<path stroke-width=\"1\" stroke=\"gray\" d=\"M 20 65 117 91\"/>\n",
       "<path stroke-width=\"1\" stroke=\"gray\" d=\"M 20 65 48 20\"/>\n",
       "<path stroke-width=\"1\" stroke=\"gray\" d=\"M 20 65 90 42\"/>\n",
       "<path stroke-width=\"1\" stroke=\"gray\" d=\"M 90 42 117 91\"/>\n",
       "<path stroke-width=\"1\" stroke=\"gray\" d=\"M 90 42 48 20\"/>\n",
       "<path stroke-width=\"1\" stroke=\"gray\" d=\"M 410 320 349 315\"/>\n",
       "<path stroke-width=\"1\" stroke=\"gray\" d=\"M 410 320 420 278\"/>\n",
       "<circle cx=\"90\" cy=\"42\" r=\"7.0\" style=\"fill:gray;stroke:black;stroke-width:1.0\"/>\n",
       "<circle cx=\"20\" cy=\"65\" r=\"7.0\" style=\"fill:gray;stroke:black;stroke-width:1.0\"/>\n",
       "<circle cx=\"48\" cy=\"20\" r=\"7.0\" style=\"fill:gray;stroke:black;stroke-width:1.0\"/>\n",
       "<circle cx=\"117\" cy=\"91\" r=\"7.0\" style=\"fill:gray;stroke:black;stroke-width:1.0\"/>\n",
       "<circle cx=\"225\" cy=\"173\" r=\"7.0\" style=\"fill:gray;stroke:black;stroke-width:1.0\"/>\n",
       "<circle cx=\"332\" cy=\"253\" r=\"7.0\" style=\"fill:gray;stroke:black;stroke-width:1.0\"/>\n",
       "<circle cx=\"349\" cy=\"315\" r=\"7.0\" style=\"fill:gray;stroke:black;stroke-width:1.0\"/>\n",
       "<circle cx=\"420\" cy=\"278\" r=\"7.0\" style=\"fill:gray;stroke:black;stroke-width:1.0\"/>\n",
       "<circle cx=\"410\" cy=\"320\" r=\"7.0\" style=\"fill:gray;stroke:black;stroke-width:1.0\"/>\n",
       "<text text-anchor=\"start\" x=\"100\" y=\"42\" font-size=\"12\">0-['a' 'b']</text><text text-anchor=\"start\" x=\"30\" y=\"65\" font-size=\"12\">1-['a' 'c']</text><text text-anchor=\"start\" x=\"58\" y=\"20\" font-size=\"12\">2-['a' 'd']</text><text text-anchor=\"start\" x=\"127\" y=\"91\" font-size=\"12\">3-['b' 'c']</text><text text-anchor=\"start\" x=\"235\" y=\"173\" font-size=\"12\">4-['b' 'c' 'e' 'f']</text><text text-anchor=\"start\" x=\"342\" y=\"253\" font-size=\"12\">5-['f']</text><text text-anchor=\"start\" x=\"359\" y=\"315\" font-size=\"12\">6-['f']</text><text text-anchor=\"start\" x=\"430\" y=\"278\" font-size=\"12\">7-['f']</text><text text-anchor=\"start\" x=\"420\" y=\"320\" font-size=\"12\">8-['f']</text></svg>"
      ],
      "text/plain": [
       "<IPython.core.display.SVG object>"
      ]
     },
     "execution_count": 148,
     "metadata": {},
     "output_type": "execute_result"
    }
   ],
   "source": [
    "SVG(svg_graph(G7, names=[n + '-' + str(names_col7[x.indices]) for n, x in zip(names7, X7)]))"
   ]
  },
  {
   "cell_type": "code",
   "execution_count": 149,
   "id": "3994c30f-6d25-4ac7-94ba-193817f368d0",
   "metadata": {},
   "outputs": [
    {
     "name": "stdout",
     "output_type": "stream",
     "text": [
      "CPU times: user 14.3 ms, sys: 3.13 ms, total: 17.5 ms\n",
      "Wall time: 15.3 ms\n"
     ]
    }
   ],
   "source": [
    "%%time\n",
    "result, sorted_names_col = run_algorithm(G7, X7, names_col7, 1, 1000, 'log_custom7')"
   ]
  },
  {
   "cell_type": "code",
   "execution_count": 150,
   "id": "5cf06403-8c89-4692-b623-7ecef91a70fc",
   "metadata": {},
   "outputs": [
    {
     "name": "stdout",
     "output_type": "stream",
     "text": [
      "[0 1 2 3 4 5 6 7 8] []\n",
      "[2] ['d']\n",
      "[4] ['e']\n",
      "[0 1 2] ['a']\n",
      "[0] ['a' 'b']\n",
      "[1] ['a' 'c']\n",
      "[0 3 4] ['b']\n",
      "[3 4] ['b' 'c']\n",
      "[1 3 4] ['c']\n",
      "[4 5 6 7 8] ['f']\n"
     ]
    }
   ],
   "source": [
    "for c in result:\n",
    "    print(c[0], sorted_names_col[c[1]])"
   ]
  },
  {
   "cell_type": "markdown",
   "id": "22a3d175-a06a-474e-9c9b-93c3794098c7",
   "metadata": {},
   "source": [
    "* pros:\n",
    "    - `4` n'est pas isolé de `[5, 6, 7, 8]`\n",
    "    - `2` isolé (seul qui contient `'d'`)\n",
    "    - `4` isolé (seul qui contient `'e'`)\n",
    "* cons: \n",
    "    - `[3, 4]` n'est pas nécessaire si on a `[1, 3, 4]` et `[0, 3, 4]` ?\n",
    "    - "
   ]
  },
  {
   "cell_type": "code",
   "execution_count": 190,
   "id": "630decd8-eec1-4d35-9df5-ee691252c17a",
   "metadata": {},
   "outputs": [],
   "source": [
    "def get_summarized_graph(adjacency, concepts):\n",
    "    \"\"\"Get summarized graph given concepts and original adjacency matrix.\"\"\"\n",
    "    \n",
    "    rows, cols = [], []\n",
    "\n",
    "    for c in concepts:\n",
    "\n",
    "        # exclude first element of lattice \n",
    "        if len(c[1]) > 0:\n",
    "            nodes = sorted(c[0])\n",
    "            idx = 0\n",
    "            idx_nodes = np.array([-1] * len(nodes)) # number of unique nodes from concepts\n",
    "            # reindex nodes\n",
    "            for n in nodes:\n",
    "                if n not in idx_nodes:\n",
    "                    idx_nodes[idx] = n\n",
    "                    idx += 1\n",
    "            \n",
    "            # Record edges from subgraph related to concept\n",
    "            adj_concept = adjacency[nodes, :][:, nodes].tocoo()\n",
    "            reindex_rows = [int(idx_nodes[src]) for src in adj_concept.row]\n",
    "            reindex_cols = [int(idx_nodes[dst]) for dst in adj_concept.col]\n",
    "            rows += reindex_rows\n",
    "            cols += reindex_cols\n",
    "            \n",
    "    return sparse.coo_matrix((np.ones(len(rows)), (rows, cols)), shape=adjacency.shape).tocsr()"
   ]
  },
  {
   "cell_type": "code",
   "execution_count": 191,
   "id": "acd17fc1-e876-4381-8b17-424a6b20a019",
   "metadata": {},
   "outputs": [
    {
     "data": {
      "text/plain": [
       "<9x9 sparse matrix of type '<class 'numpy.float64'>'\n",
       "\twith 26 stored elements in Compressed Sparse Row format>"
      ]
     },
     "execution_count": 191,
     "metadata": {},
     "output_type": "execute_result"
    }
   ],
   "source": [
    "get_summarized_graph(G7, result)"
   ]
  },
  {
   "cell_type": "code",
   "execution_count": 192,
   "id": "38a7a2af-2022-4c5f-8606-c85758f1e6f4",
   "metadata": {},
   "outputs": [
    {
     "data": {
      "image/svg+xml": [
       "<svg xmlns=\"http://www.w3.org/2000/svg\" width=\"524.0\" height=\"340\">\n",
       "<path stroke-width=\"0.5\" stroke=\"gray\" d=\"M 98 315 76 260\"/>\n",
       "<path stroke-width=\"0.5\" stroke=\"gray\" d=\"M 419 81 343 98\"/>\n",
       "<path stroke-width=\"0.5\" stroke=\"gray\" d=\"M 371 20 419 81\"/>\n",
       "<path stroke-width=\"0.5\" stroke=\"gray\" d=\"M 371 20 420 23\"/>\n",
       "<path stroke-width=\"0.5\" stroke=\"gray\" d=\"M 371 20 343 98\"/>\n",
       "<path stroke-width=\"0.5\" stroke=\"gray\" d=\"M 420 23 419 81\"/>\n",
       "<path stroke-width=\"0.5\" stroke=\"gray\" d=\"M 420 23 371 20\"/>\n",
       "<path stroke-width=\"0.5\" stroke=\"gray\" d=\"M 420 23 343 98\"/>\n",
       "<path stroke-width=\"0.5\" stroke=\"gray\" d=\"M 343 98 419 81\"/>\n",
       "<path stroke-width=\"0.5\" stroke=\"gray\" d=\"M 343 98 371 20\"/>\n",
       "<path stroke-width=\"0.5\" stroke=\"gray\" d=\"M 343 98 420 23\"/>\n",
       "<path stroke-width=\"0.5\" stroke=\"gray\" d=\"M 343 98 237 188\"/>\n",
       "<path stroke-width=\"0.5\" stroke=\"gray\" d=\"M 237 188 343 98\"/>\n",
       "<path stroke-width=\"20.0\" stroke=\"gray\" d=\"M 237 188 171 236\"/>\n",
       "<path stroke-width=\"20.0\" stroke=\"gray\" d=\"M 171 236 237 188\"/>\n",
       "<path stroke-width=\"0.5\" stroke=\"gray\" d=\"M 171 236 76 260\"/>\n",
       "<path stroke-width=\"0.5\" stroke=\"gray\" d=\"M 171 236 98 315\"/>\n",
       "<path stroke-width=\"0.5\" stroke=\"gray\" d=\"M 20 320 76 260\"/>\n",
       "<path stroke-width=\"0.5\" stroke=\"gray\" d=\"M 20 320 98 315\"/>\n",
       "<path stroke-width=\"0.5\" stroke=\"gray\" d=\"M 76 260 171 236\"/>\n",
       "<path stroke-width=\"0.5\" stroke=\"gray\" d=\"M 76 260 20 320\"/>\n",
       "<path stroke-width=\"0.5\" stroke=\"gray\" d=\"M 76 260 98 315\"/>\n",
       "<path stroke-width=\"0.5\" stroke=\"gray\" d=\"M 98 315 171 236\"/>\n",
       "<path stroke-width=\"0.5\" stroke=\"gray\" d=\"M 98 315 20 320\"/>\n",
       "<path stroke-width=\"0.5\" stroke=\"gray\" d=\"M 419 81 420 23\"/>\n",
       "<path stroke-width=\"0.5\" stroke=\"gray\" d=\"M 419 81 371 20\"/>\n",
       "<circle cx=\"98\" cy=\"315\" r=\"7.0\" style=\"fill:gray;stroke:black;stroke-width:1.0\"/>\n",
       "<circle cx=\"76\" cy=\"260\" r=\"7.0\" style=\"fill:gray;stroke:black;stroke-width:1.0\"/>\n",
       "<circle cx=\"20\" cy=\"320\" r=\"7.0\" style=\"fill:gray;stroke:black;stroke-width:1.0\"/>\n",
       "<circle cx=\"171\" cy=\"236\" r=\"7.0\" style=\"fill:gray;stroke:black;stroke-width:1.0\"/>\n",
       "<circle cx=\"237\" cy=\"188\" r=\"7.0\" style=\"fill:gray;stroke:black;stroke-width:1.0\"/>\n",
       "<circle cx=\"343\" cy=\"98\" r=\"7.0\" style=\"fill:gray;stroke:black;stroke-width:1.0\"/>\n",
       "<circle cx=\"420\" cy=\"23\" r=\"7.0\" style=\"fill:gray;stroke:black;stroke-width:1.0\"/>\n",
       "<circle cx=\"371\" cy=\"20\" r=\"7.0\" style=\"fill:gray;stroke:black;stroke-width:1.0\"/>\n",
       "<circle cx=\"419\" cy=\"81\" r=\"7.0\" style=\"fill:gray;stroke:black;stroke-width:1.0\"/>\n",
       "<text text-anchor=\"start\" x=\"108\" y=\"315\" font-size=\"12\">0-['a' 'b']</text><text text-anchor=\"start\" x=\"86\" y=\"260\" font-size=\"12\">1-['a' 'c']</text><text text-anchor=\"start\" x=\"30\" y=\"320\" font-size=\"12\">2-['a' 'd']</text><text text-anchor=\"start\" x=\"181\" y=\"236\" font-size=\"12\">3-['b' 'c']</text><text text-anchor=\"start\" x=\"247\" y=\"188\" font-size=\"12\">4-['b' 'c' 'e' 'f']</text><text text-anchor=\"start\" x=\"353\" y=\"98\" font-size=\"12\">5-['f']</text><text text-anchor=\"start\" x=\"430\" y=\"23\" font-size=\"12\">6-['f']</text><text text-anchor=\"start\" x=\"381\" y=\"20\" font-size=\"12\">7-['f']</text><text text-anchor=\"start\" x=\"429\" y=\"81\" font-size=\"12\">8-['f']</text></svg>"
      ],
      "text/plain": [
       "<IPython.core.display.SVG object>"
      ]
     },
     "execution_count": 192,
     "metadata": {},
     "output_type": "execute_result"
    }
   ],
   "source": [
    "# Summarized graph\n",
    "SVG(svg_graph(get_summarized_graph(G7, result), names=[n + '-' + str(names_col7[x.indices]) for n, x in zip(names7, X7)]))"
   ]
  },
  {
   "cell_type": "markdown",
   "id": "16b895a6-3735-4b11-bbd3-f59a2634b68f",
   "metadata": {
    "tags": []
   },
   "source": [
    "### Custom8  \n",
    "\n",
    "Connected common nodes one different node."
   ]
  },
  {
   "cell_type": "code",
   "execution_count": 185,
   "id": "d37d7114-b185-4ce6-ae16-ca5ce2ebcbed",
   "metadata": {},
   "outputs": [],
   "source": [
    "G8 = sparse.csr_matrix(np.array([\n",
    "    [0, 1, 1, 1, 1, 1, 1],\n",
    "    [1, 0, 1, 1, 1, 1, 1],\n",
    "    [1, 1, 0, 1, 1, 1, 1],\n",
    "    [1, 1, 1, 0, 1, 1, 1],\n",
    "    [1, 1, 1, 1, 0, 1, 1],\n",
    "    [1, 1, 1, 1, 1, 0, 1],\n",
    "    [1, 1, 1, 1, 1, 1, 0]\n",
    "]))\n",
    "X8 = sparse.csr_matrix(np.array([\n",
    "    [1, 1, 1, 1, 0, 0, 0],\n",
    "    [1, 1, 1, 1, 0, 0, 0],\n",
    "    [1, 1, 1, 1, 0, 0, 0],\n",
    "    [1, 1, 1, 1, 0, 0, 0],\n",
    "    [1, 1, 1, 1, 0, 0, 0],\n",
    "    [1, 1, 1, 1, 0, 0, 0],\n",
    "    [1, 1, 0, 0, 1, 1, 1],\n",
    "]))\n",
    "names8 = np.array(range(G8.shape[0])).astype(str)\n",
    "names_col8 = np.array(['a', 'b', 'c', 'd', 'e', 'f', 'g'])"
   ]
  },
  {
   "cell_type": "code",
   "execution_count": 186,
   "id": "30f6f3e6-cd35-4e6d-b5ac-6d6c67dce7f5",
   "metadata": {},
   "outputs": [
    {
     "data": {
      "image/svg+xml": [
       "<svg xmlns=\"http://www.w3.org/2000/svg\" width=\"668.0\" height=\"340\">\n",
       "<path stroke-width=\"1\" stroke=\"gray\" d=\"M 420 96 417 246\"/>\n",
       "<path stroke-width=\"1\" stroke=\"gray\" d=\"M 217 320 222 20\"/>\n",
       "<path stroke-width=\"1\" stroke=\"gray\" d=\"M 220 169 420 96\"/>\n",
       "<path stroke-width=\"1\" stroke=\"gray\" d=\"M 220 169 417 246\"/>\n",
       "<path stroke-width=\"1\" stroke=\"gray\" d=\"M 220 169 20 243\"/>\n",
       "<path stroke-width=\"1\" stroke=\"gray\" d=\"M 220 169 217 320\"/>\n",
       "<path stroke-width=\"1\" stroke=\"gray\" d=\"M 220 169 22 93\"/>\n",
       "<path stroke-width=\"1\" stroke=\"gray\" d=\"M 220 169 222 20\"/>\n",
       "<path stroke-width=\"1\" stroke=\"gray\" d=\"M 22 93 420 96\"/>\n",
       "<path stroke-width=\"1\" stroke=\"gray\" d=\"M 22 93 417 246\"/>\n",
       "<path stroke-width=\"1\" stroke=\"gray\" d=\"M 22 93 20 243\"/>\n",
       "<path stroke-width=\"1\" stroke=\"gray\" d=\"M 22 93 217 320\"/>\n",
       "<path stroke-width=\"1\" stroke=\"gray\" d=\"M 22 93 220 169\"/>\n",
       "<path stroke-width=\"1\" stroke=\"gray\" d=\"M 22 93 222 20\"/>\n",
       "<path stroke-width=\"1\" stroke=\"gray\" d=\"M 222 20 420 96\"/>\n",
       "<path stroke-width=\"1\" stroke=\"gray\" d=\"M 222 20 417 246\"/>\n",
       "<path stroke-width=\"1\" stroke=\"gray\" d=\"M 222 20 20 243\"/>\n",
       "<path stroke-width=\"1\" stroke=\"gray\" d=\"M 222 20 217 320\"/>\n",
       "<path stroke-width=\"1\" stroke=\"gray\" d=\"M 217 320 22 93\"/>\n",
       "<path stroke-width=\"1\" stroke=\"gray\" d=\"M 217 320 220 169\"/>\n",
       "<path stroke-width=\"1\" stroke=\"gray\" d=\"M 217 320 20 243\"/>\n",
       "<path stroke-width=\"1\" stroke=\"gray\" d=\"M 217 320 417 246\"/>\n",
       "<path stroke-width=\"1\" stroke=\"gray\" d=\"M 420 96 20 243\"/>\n",
       "<path stroke-width=\"1\" stroke=\"gray\" d=\"M 420 96 217 320\"/>\n",
       "<path stroke-width=\"1\" stroke=\"gray\" d=\"M 420 96 220 169\"/>\n",
       "<path stroke-width=\"1\" stroke=\"gray\" d=\"M 420 96 22 93\"/>\n",
       "<path stroke-width=\"1\" stroke=\"gray\" d=\"M 420 96 222 20\"/>\n",
       "<path stroke-width=\"1\" stroke=\"gray\" d=\"M 417 246 420 96\"/>\n",
       "<path stroke-width=\"1\" stroke=\"gray\" d=\"M 417 246 20 243\"/>\n",
       "<path stroke-width=\"1\" stroke=\"gray\" d=\"M 417 246 217 320\"/>\n",
       "<path stroke-width=\"1\" stroke=\"gray\" d=\"M 222 20 220 169\"/>\n",
       "<path stroke-width=\"1\" stroke=\"gray\" d=\"M 417 246 220 169\"/>\n",
       "<path stroke-width=\"1\" stroke=\"gray\" d=\"M 417 246 222 20\"/>\n",
       "<path stroke-width=\"1\" stroke=\"gray\" d=\"M 20 243 420 96\"/>\n",
       "<path stroke-width=\"1\" stroke=\"gray\" d=\"M 20 243 417 246\"/>\n",
       "<path stroke-width=\"1\" stroke=\"gray\" d=\"M 20 243 217 320\"/>\n",
       "<path stroke-width=\"1\" stroke=\"gray\" d=\"M 20 243 220 169\"/>\n",
       "<path stroke-width=\"1\" stroke=\"gray\" d=\"M 20 243 22 93\"/>\n",
       "<path stroke-width=\"1\" stroke=\"gray\" d=\"M 20 243 222 20\"/>\n",
       "<path stroke-width=\"1\" stroke=\"gray\" d=\"M 217 320 420 96\"/>\n",
       "<path stroke-width=\"1\" stroke=\"gray\" d=\"M 417 246 22 93\"/>\n",
       "<path stroke-width=\"1\" stroke=\"gray\" d=\"M 222 20 22 93\"/>\n",
       "<circle cx=\"420\" cy=\"96\" r=\"7.0\" style=\"fill:gray;stroke:black;stroke-width:1.0\"/>\n",
       "<circle cx=\"417\" cy=\"246\" r=\"7.0\" style=\"fill:gray;stroke:black;stroke-width:1.0\"/>\n",
       "<circle cx=\"20\" cy=\"243\" r=\"7.0\" style=\"fill:gray;stroke:black;stroke-width:1.0\"/>\n",
       "<circle cx=\"217\" cy=\"320\" r=\"7.0\" style=\"fill:gray;stroke:black;stroke-width:1.0\"/>\n",
       "<circle cx=\"220\" cy=\"169\" r=\"7.0\" style=\"fill:gray;stroke:black;stroke-width:1.0\"/>\n",
       "<circle cx=\"22\" cy=\"93\" r=\"7.0\" style=\"fill:gray;stroke:black;stroke-width:1.0\"/>\n",
       "<circle cx=\"222\" cy=\"20\" r=\"7.0\" style=\"fill:gray;stroke:black;stroke-width:1.0\"/>\n",
       "<text text-anchor=\"start\" x=\"430\" y=\"96\" font-size=\"12\">0-['a' 'b' 'c' 'd']</text><text text-anchor=\"start\" x=\"427\" y=\"246\" font-size=\"12\">1-['a' 'b' 'c' 'd']</text><text text-anchor=\"start\" x=\"30\" y=\"243\" font-size=\"12\">2-['a' 'b' 'c' 'd']</text><text text-anchor=\"start\" x=\"227\" y=\"320\" font-size=\"12\">3-['a' 'b' 'c' 'd']</text><text text-anchor=\"start\" x=\"230\" y=\"169\" font-size=\"12\">4-['a' 'b' 'c' 'd']</text><text text-anchor=\"start\" x=\"32\" y=\"93\" font-size=\"12\">5-['a' 'b' 'c' 'd']</text><text text-anchor=\"start\" x=\"232\" y=\"20\" font-size=\"12\">6-['a' 'b' 'e' 'f' 'g']</text></svg>"
      ],
      "text/plain": [
       "<IPython.core.display.SVG object>"
      ]
     },
     "execution_count": 186,
     "metadata": {},
     "output_type": "execute_result"
    }
   ],
   "source": [
    "SVG(svg_graph(G8, names=[n + '-' + str(names_col8[x.indices]) for n, x in zip(names8, X8)]))"
   ]
  },
  {
   "cell_type": "code",
   "execution_count": 187,
   "id": "72980a10-7e54-4f37-a92e-9de522e2e312",
   "metadata": {},
   "outputs": [
    {
     "name": "stdout",
     "output_type": "stream",
     "text": [
      "['e' 'f' 'g' 'c' 'd' 'a' 'b']\n",
      "CPU times: user 12.7 ms, sys: 5.99 ms, total: 18.7 ms\n",
      "Wall time: 32 ms\n"
     ]
    }
   ],
   "source": [
    "%%time\n",
    "result, sorted_names_col = run_algorithm(G8, X8, names_col8, 1, 1000, 'log_custom8')"
   ]
  },
  {
   "cell_type": "code",
   "execution_count": 188,
   "id": "e4755bed-9d98-424d-ace1-aeb15f75e71b",
   "metadata": {},
   "outputs": [
    {
     "name": "stdout",
     "output_type": "stream",
     "text": [
      "[0 1 2 3 4 5 6] ['a' 'b']\n",
      "[6] ['e' 'f' 'g' 'a' 'b']\n",
      "[6] ['f' 'g' 'a' 'b']\n",
      "[6] ['g' 'a' 'b']\n",
      "[0 1 2 3 4 5] ['c' 'd' 'a' 'b']\n",
      "[0 1 2 3 4 5] ['d' 'a' 'b']\n"
     ]
    }
   ],
   "source": [
    "for c in result:\n",
    "    print(c[0], sorted_names_col[c[1]])"
   ]
  },
  {
   "cell_type": "markdown",
   "id": "dba97d61-b13c-48b0-b897-1cbccf23831f",
   "metadata": {},
   "source": [
    "* pros:\n",
    "    - concept `6` avec attributs `['e', 'f', 'g']` $\\rightarrow$ le graphe ne change pas mais on continue d'ajouter des attributs qui rendent le concept un peu plus intéressant, vu le faible nombre d'occurence de ces attributs dans le graphe initial. En revanche les attributs `'a'` et `'b'` n'apportent rien d'intéressant\n",
    "    - pour le concept `[0, 1, 2, 3, 4, 5]`, l'attribut `'d'` n'apporte rien à `'c'` et inversement. Encore moins les attributs `['a', 'b']` qui sont trop fréquents\n",
    "* cons:\n",
    "    - le concept `[0, 1, 2, 3, 4, 5]` est divisé en 2\n",
    "    - le concept `6` est divisé en 3"
   ]
  },
  {
   "cell_type": "markdown",
   "id": "a6ac5efd-5934-4d32-ab55-6bc8c512e36a",
   "metadata": {},
   "source": [
    "## Annexes"
   ]
  },
  {
   "cell_type": "code",
   "execution_count": 103,
   "id": "582a36f2-f0fd-48d0-8221-4922c267cb24",
   "metadata": {},
   "outputs": [],
   "source": [
    "def init_inclose(context):\n",
    "    extents, intents = [], []\n",
    "    extents_init = np.arange(context.shape[0])\n",
    "    intents_init = []\n",
    "    extents.append(extents_init) # Initalize extents with all objects from context\n",
    "    intents.append(intents_init) # Initialize intents with empty set attributes\n",
    "    return extents, intents\n",
    "\n",
    "def in_close_new(adjacency, context, extents, intents, r=0, y=0, min_support=0, max_support=np.inf, degs=[], unexs_g=[], \n",
    "                 unexs_a=[], unexs=[], names_col=[]):\n",
    "    global r_new\n",
    "    r_new = r_new + 1\n",
    "    var = False\n",
    "    \n",
    "    print(f'NEW ITERATION \\n --------')\n",
    "    \n",
    "    for j in np.arange(context.shape[1])[y:]:\n",
    "        try:\n",
    "            extents[r_new] = []\n",
    "            unexs_g[r_new] = 0\n",
    "            unexs_a[r_new] = 0\n",
    "            unexs[r_new] = 0\n",
    "        except IndexError:\n",
    "            extents.append([])\n",
    "            unexs_g.append(0)\n",
    "            unexs_a.append(0)\n",
    "            unexs.append(0)\n",
    "            \n",
    "        # Form a new extent by adding extension of attribute j to current concept extent\n",
    "        ext_j = set(extension([j], context))\n",
    "        extents[r_new] = list(sorted(set(extents[r]).intersection(ext_j)))\n",
    "        len_new_extent = len(extents[r_new])\n",
    "        \n",
    "        print(f'extents: {extents[r]} - intents: {names_col[intents[r]]}')\n",
    "        print(f'  Candidate attr: {names_col[j]}')\n",
    "        print(f'  new extent: {extents[r_new]}')\n",
    "        \n",
    "        if (len_new_extent > min_support) and (len_new_extent < max_support):\n",
    "                       \n",
    "            if len_new_extent == len(extents[r]):\n",
    "                print(f'  Extent size did not change -> attribute {names_col[j]} is added to intent.')\n",
    "                intents[r] = list(sorted(set(intents[r]).union(set([j]))))\n",
    "                var = True\n",
    "            else:\n",
    "                print(f'  Extent size DID change. IsCannonical: {is_cannonical(context, extents, intents, r, j - 1)}')\n",
    "                \n",
    "                if is_cannonical(context, extents, intents, r, j - 1):\n",
    "                    print(f'   New branch will be created, compute U of current concept.')\n",
    "                    try:\n",
    "                        intents[r_new] = []\n",
    "                    except IndexError:\n",
    "                        intents.append([])\n",
    "                    \n",
    "                    intents[r_new] = list(sorted(set(intents[r]).union(set([j]))))\n",
    "                    len_new_intent = len(intents[r_new])\n",
    "                    print(f'  Intent: {names_col[intents[r_new]]}')\n",
    "                    print(f'  --> Enter recursion...')\n",
    "\n",
    "                    # ------------------------------------------------\n",
    "                    # Compute difference between concepts unexpectedness\n",
    "                    u_diff = unexs[r_new-1] - unexs[r-1]\n",
    "                    print(f'  U difference; {u_diff}')\n",
    "                    if r > 0 and r_new > 1 and u_diff < 0:\n",
    "                        break\n",
    "                    # ------------------------------------------------\n",
    "                    \n",
    "                    print(f'      **Unexpectedness: {unexs}')\n",
    "                    in_close_new(adjacency, context, extents, intents, r=r_new, y=j+1, degs=degs, unexs_g=unexs_g, \n",
    "                                 unexs_a=unexs_a, unexs=unexs, names_col=names_col)\n",
    "\n",
    "    \n",
    "    \n",
    "        if (unexs[r] == 0 and r != 0 and len(extents[r_new])>0) or var:\n",
    "            print(f'ELSE r: {r} - r_new: {r_new}')\n",
    "            print(f'Unexs: {unexs}')\n",
    "            # ------------------------------------------------\n",
    "            print(extents, intents)\n",
    "            print(f'extents[r_new]: {extents[r_new]} - intents[r]: {names_col[intents[r]]}')\n",
    "            # Graph unexpectedness \n",
    "            g_r = adjacency[extents[r_new]][:, extents[r_new]]\n",
    "            complexity_desc_g = mdl_graph(g_r)\n",
    "            complexity_gen_g = np.mean(complexity_gen_graphs.get(len(extents[r_new])))\n",
    "            unex_g = complexity_gen_g - complexity_desc_g\n",
    "            unexs_g[r] = unex_g\n",
    "            print(f'  U(G): {unex_g}')\n",
    "\n",
    "            # Attributes unexpectedness\n",
    "            complexity_gen_a = np.log2(special.comb(context.shape[1], len(intents[r])))\n",
    "            complexity_desc_a = 0\n",
    "            for a in intents[r]:\n",
    "                complexity_desc_a += np.log2(degs[a])\n",
    "\n",
    "            unex_a = complexity_gen_a - complexity_desc_a\n",
    "            unexs_a[r] = unex_a\n",
    "            print(f'  U(A): {unex_a}')\n",
    "\n",
    "            # Total unexpectedness\n",
    "            unex = unex_g + unex_a\n",
    "            unexs[r] = unex\n",
    "            print(f'  U: {unex}')\n",
    "            print(f'Unexs: {unexs}')\n",
    "            # ------------------------------------------------\n",
    "        var=False\n",
    "        u_diff = unexs[r] - unexs[r-1]\n",
    "        print(f'r: {r} - r_new: {r_new}')\n",
    "        print(f'  U difference; {u_diff}')\n",
    "        if r > 0 and r_new > 1 and u_diff < 0:\n",
    "            extents[r] = []\n",
    "            intents[r] = []\n",
    "            break\n",
    "    \n",
    "    if (unexs[r] == 0 and r != 0 and len(extents[r])>0) or var:\n",
    "        print(f'ELSE r: {r} - r_new: {r_new}')\n",
    "        print(f'Unexs: {unexs}')\n",
    "        # ------------------------------------------------\n",
    "        print(extents, intents)\n",
    "        print(f'extents[r_new]: {extents[r]} - intents[r]: {names_col[intents[r]]}')\n",
    "        # Graph unexpectedness \n",
    "        g_r = adjacency[extents[r]][:, extents[r]]\n",
    "        complexity_desc_g = mdl_graph(g_r)\n",
    "        complexity_gen_g = np.mean(complexity_gen_graphs.get(len(extents[r])))\n",
    "        unex_g = complexity_gen_g - complexity_desc_g\n",
    "        unexs_g[r] = unex_g\n",
    "        print(f'  U(G): {unex_g}')\n",
    "\n",
    "        # Attributes unexpectedness\n",
    "        complexity_gen_a = np.log2(special.comb(context.shape[1], len(intents[r])))\n",
    "        complexity_desc_a = 0\n",
    "        for a in intents[r]:\n",
    "            complexity_desc_a += np.log2(degs[a])\n",
    "\n",
    "        unex_a = complexity_gen_a - complexity_desc_a\n",
    "        unexs_a[r] = unex_a\n",
    "        print(f'  U(A): {unex_a}')\n",
    "\n",
    "        # Total unexpectedness\n",
    "        unex = unex_g + unex_a\n",
    "        unexs[r] = unex\n",
    "        print(f'  U: {unex}')\n",
    "        print(f'Unexs: {unexs}')\n",
    "        # ------------------------------------------------\n",
    "    \n",
    "    \n",
    "    print(f'**END FUNCTION')\n",
    "    print(f'**concept: ({[*zip(extents, intents)]})')\n",
    "    \n",
    "    return [*zip(extents, intents)]"
   ]
  },
  {
   "cell_type": "code",
   "execution_count": null,
   "id": "0c52855f-cffb-493c-8cc9-6282a5262c17",
   "metadata": {},
   "outputs": [],
   "source": [
    "def init_inclose(context):\n",
    "    extents, intents = [], []\n",
    "    extents_init = np.arange(context.shape[0])\n",
    "    intents_init = []\n",
    "    extents.append(extents_init) # Initalize extents with all objects from context\n",
    "    intents.append(intents_init) # Initialize intents with empty set attributes\n",
    "    return extents, intents\n",
    "\n",
    "def in_close_new(adjacency, context, extents, intents, r=0, y=0, min_support=0, max_support=np.inf, degs=[], unexs_g=[], unexs_a=[], unexs=[], names_col=[]):\n",
    "    global r_new\n",
    "    r_new = r_new + 1\n",
    "    \n",
    "    print(f'NEW ITERATION \\n --------')\n",
    "    print(f'r: {r} - r_new: {r_new}')\n",
    "    # ------------------------------------------------\n",
    "    print(f'|extents[r]|: {len(extents[r])} - intents[r]: {names_col[intents[r]]}')\n",
    "    \n",
    "    if len(extents[r]) < 1000:\n",
    "        # Graph unexpectedness \n",
    "        unex_g = graph_unexpectedness(adjacency[extents[r], :][:, extents[r]], complexity_gen_graphs)\n",
    "        unexs_g[r] = unex_g\n",
    "        # Attributes unexpectedness\n",
    "        unex_a = attr_unexpectedness(context, intents[r], degs)\n",
    "        unexs_a[r] = unex_a\n",
    "        # Total unexpectedness\n",
    "        unex = unex_g + unex_a\n",
    "        unexs[r] = unex\n",
    "        print(f'  U(G): {unex_g}')\n",
    "        print(f'  U(A): {unex_a}')\n",
    "        print(f'  U: {unex}')\n",
    "        # ------------------------------------------------\n",
    "    \n",
    "    for j in np.arange(context.shape[1])[y:]:\n",
    "        try:\n",
    "            extents[r_new] = []\n",
    "            unexs_g[r_new] = 0\n",
    "            unexs_a[r_new] = 0\n",
    "            unexs[r_new] = 0\n",
    "        except IndexError:\n",
    "            extents.append([])\n",
    "            unexs_g.append(0)\n",
    "            unexs_a.append(0)\n",
    "            unexs.append(0)\n",
    "            \n",
    "        # Form a new extent by adding extension of attribute j to current concept extent\n",
    "        ext_j = set(extension([j], context))\n",
    "        extents[r_new] = list(sorted(set(extents[r]).intersection(ext_j)))\n",
    "        len_new_extent = len(extents[r_new])\n",
    "        \n",
    "        print(f'|extents|: {len(extents[r])} - intents: {names_col[intents[r]]}')\n",
    "        print(f'  Candidate attr: {names_col[j]} - ({j})')\n",
    "        print(f'  new extent: {extents[r_new]}')\n",
    "        \n",
    "        if (len_new_extent > min_support) and (len_new_extent < max_support):\n",
    "                        \n",
    "            unex_g = graph_unexpectedness(adjacency[extents[r_new], :][:, extents[r_new]], complexity_gen_graphs)\n",
    "            unexs_g[r_new] = unex_g\n",
    "            # Attributes unexpectedness\n",
    "            unex_a = attr_unexpectedness(context, intents[r_new], degs)\n",
    "            unexs_a[r_new] = unex_a\n",
    "            # Total unexpectedness\n",
    "            unex = unex_g + unex_a\n",
    "            unexs[r_new] = unex\n",
    "            print(f'  U(G): {unex_g}')\n",
    "            print(f'  U(A): {unex_a}')\n",
    "            print(f'  U: {unex}')\n",
    "            print(f'unexs: {unexs} r_new: {r_new} - r: {r}')\n",
    "            if (unexs[r_new] - unexs[r_new-1] > 0):\n",
    "                       \n",
    "                if len_new_extent == len(extents[r]):\n",
    "                    print(f'  Extent size did not change -> attribute {names_col[j]} is added to intent.')\n",
    "                    intents[r] = list(sorted(set(intents[r]).union(set([j]))))\n",
    "                else:\n",
    "                    print(f'  Extent size DID change. IsCannonical: {is_cannonical(context, extents, intents, r, j - 1)}')\n",
    "                    if is_cannonical(context, extents, intents, r, j - 1):\n",
    "                        try:\n",
    "                            intents[r_new] = []\n",
    "                        except IndexError:\n",
    "                            intents.append([])\n",
    "\n",
    "                        intents[r_new] = list(sorted(set(intents[r]).union(set([j]))))\n",
    "                        len_new_intent = len(intents[r_new])\n",
    "                        print(f'  --> Enter recursion with Intent: {names_col[intents[r_new]]}...')\n",
    "                        in_close_new(adjacency, context, extents, intents, r=r_new, y=j+1, min_support=min_support, max_support=max_support, \n",
    "                                     degs=degs, unexs_g=unexs_g, unexs_a=unexs_a, unexs=unexs, names_col=names_col)\n",
    "\n",
    "    print(f'**END FUNCTION')\n",
    "    print(f'**concept: ({[*zip(extents, intents)]})')\n",
    "    \n",
    "    return [*zip(extents, intents)]"
   ]
  }
 ],
 "metadata": {
  "kernelspec": {
   "display_name": "COMEG",
   "language": "python",
   "name": "comeg"
  },
  "language_info": {
   "codemirror_mode": {
    "name": "ipython",
    "version": 3
   },
   "file_extension": ".py",
   "mimetype": "text/x-python",
   "name": "python",
   "nbconvert_exporter": "python",
   "pygments_lexer": "ipython3",
   "version": "3.9.15"
  }
 },
 "nbformat": 4,
 "nbformat_minor": 5
}
