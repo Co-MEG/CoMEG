{
 "cells": [
  {
   "cell_type": "markdown",
   "id": "3e466124-a6fe-4976-8244-77ce0685a853",
   "metadata": {},
   "source": [
    "# Unexpected subgraphs\n",
    "---"
   ]
  },
  {
   "cell_type": "markdown",
   "id": "bdc71b89-6221-4528-8dd8-eea366fd2276",
   "metadata": {},
   "source": [
    "Given an attributed graph $\\mathcal{G}=(\\mathcal{V, E, A})$, use **unexpectedness** $U=C_w - C$ to filter out attributed subgraphs $G_i=(V_i, E_i, A_i)$.\n",
    "\n",
    "The unexpectedness of an attributed subgraph $G = (V, E, A)$ is defined as the sum of the unexpectedness of its structure $g$ and the unexpectedness of the set of attributes its nodes are sharing $A$\n",
    "$$\n",
    "U(G) = U(g) + U(A)\n",
    "$$\n",
    "\n",
    "**Subgraph structure** $g$   \n",
    "* $U(g)=C_w(g) - C(g)$\n",
    "* description complexity $C(g)$ is the number of bits to describe vertices and edges in graph  \n",
    "$C(g) = \\log(|V|) + \\sum_{v \\in V}\\log{(b+1)} + \\log(\\binom{|V|}{k_v})$, with $b=\\max_{v \\in V}(\\text{deg}(v))$ and $k$ is the number of non zero elements in a row  \n",
    "* generation complexity $C_w(g)$ is the number of bits to describe a random graph sampled in original graph $\\mathcal{G}$, with a given number of nodes and density\n",
    "\n",
    "**Attributes** $A$\n",
    "* $U(A)=C_w(A)-C(A)$\n",
    "* description complexity $C(A)$ is the minimum description length for identifying the subgraph sharing characteristics $A \\in \\mathcal{A}$. It is defined using the number of occurences of each attribute $a \\in A$, $\\#a$. With this approach, a very common attribute such as '$\\texttt{the}$' will yield a large complexity, whereas a non-common attribute will be considered as less complex.  \n",
    "$C(A)=\\sum_{a \\in A}\\log(\\#a)$ \n",
    "* generation complexity $C_w(A)$ is the minimum description length to describe a set of $|A|$ elements from a vocabulary of size $\\mathcal{A}$  \n",
    "$C_w(A)=\\log(\\binom{|\\mathcal{A}|}{|A|})$"
   ]
  },
  {
   "cell_type": "code",
   "execution_count": 603,
   "id": "c527bf61-6499-46dc-8745-2c9472a85e27",
   "metadata": {},
   "outputs": [],
   "source": [
    "from collections import defaultdict, Counter\n",
    "from contextlib import redirect_stdout\n",
    "from IPython.display import SVG\n",
    "import matplotlib.pyplot as plt\n",
    "import numpy as np\n",
    "import pickle\n",
    "from random import random\n",
    "import seaborn as sns\n",
    "from scipy import sparse, special\n",
    "\n",
    "from sknetwork.clustering import get_modularity, KMeans, Louvain\n",
    "from sknetwork.data import load_netset, from_edge_list\n",
    "from sknetwork.embedding import Spectral, SVD\n",
    "from sknetwork.gnn import GNNClassifier\n",
    "from sknetwork.ranking import top_k\n",
    "from sknetwork.topology import Triangles, Cliques, get_connected_components\n",
    "from sknetwork.utils import get_degrees, get_membership, get_neighbors\n",
    "from sknetwork.utils.kmeans import KMeansDense\n",
    "from sknetwork.utils.check import get_probs\n",
    "from sknetwork.visualization import svg_graph\n",
    "\n",
    "from tfidf import TfIdf"
   ]
  },
  {
   "cell_type": "code",
   "execution_count": 604,
   "id": "cf69c5b9-460c-4cd1-a030-844d5dc7deb0",
   "metadata": {},
   "outputs": [
    {
     "name": "stdout",
     "output_type": "stream",
     "text": [
      "Parsing files...\n",
      "Done.\n"
     ]
    }
   ],
   "source": [
    "wikivitals = load_netset('wikischools')"
   ]
  },
  {
   "cell_type": "code",
   "execution_count": 605,
   "id": "bc754a98-7042-41a9-be73-94fc7291d8d3",
   "metadata": {},
   "outputs": [
    {
     "name": "stdout",
     "output_type": "stream",
     "text": [
      "Parsing files...\n",
      "Done.\n"
     ]
    }
   ],
   "source": [
    "wikivitals = load_netset('wikischools')\n",
    "adjacency = wikivitals.adjacency\n",
    "biadjacency = wikivitals.biadjacency\n",
    "names = wikivitals.names\n",
    "words = wikivitals.names_col\n",
    "labels = wikivitals.labels"
   ]
  },
  {
   "cell_type": "code",
   "execution_count": 606,
   "id": "d0a2d1f4-c786-4366-80a2-a14af59ad3a8",
   "metadata": {},
   "outputs": [
    {
     "name": "stdout",
     "output_type": "stream",
     "text": [
      "(4403, 4403) 112834\n",
      "(4403, 20527) 474138\n"
     ]
    }
   ],
   "source": [
    "print(adjacency.shape, adjacency.nnz)\n",
    "print(biadjacency.shape, biadjacency.nnz)"
   ]
  },
  {
   "cell_type": "code",
   "execution_count": null,
   "id": "03d7c445-672e-47c0-aa7d-c4f4bfe48c68",
   "metadata": {},
   "outputs": [],
   "source": [
    "def extension(attrs, context):\n",
    "    ext = set()\n",
    "    if len(attrs) == 0:\n",
    "        return np.arange(0, context.shape[0])\n",
    "    for a in attrs:\n",
    "        nodes = set(get_neighbors(context, node=a, transpose=True))\n",
    "        if len(ext) == 0:\n",
    "            ext.update(nodes)\n",
    "        else:\n",
    "            ext &= nodes\n",
    "        if len(ext) == 0:\n",
    "            break\n",
    "    return np.asarray(list(ext))\n",
    "\n",
    "def intention(nodes, context):\n",
    "    intent = set()\n",
    "    if len(nodes) == 0:\n",
    "        return np.arange(0, context.shape[1])\n",
    "    for n in nodes:\n",
    "        attrs = set(get_neighbors(context, node=n))\n",
    "        if len(intent) == 0:\n",
    "            intent.update(attrs)\n",
    "        else:\n",
    "            intent &= attrs\n",
    "        if len(attrs) == 0:\n",
    "            break\n",
    "    return np.asarray(list(intent))"
   ]
  },
  {
   "cell_type": "code",
   "execution_count": 6,
   "id": "a2caee12-d8e5-4fcd-ab37-0c27c57b0623",
   "metadata": {},
   "outputs": [],
   "source": [
    "def plot_distrib(values, ax, xlabel='degree', log=True, title=None, color='blue', alpha=1, label='Degree distribution'):\n",
    "    counter = Counter(values)\n",
    "    x, y = zip(*counter.items())\n",
    "    ax.scatter(x, y, marker='+', color=color, alpha=alpha, label=label)\n",
    "    ax.legend()\n",
    "    ax.set_title(title)\n",
    "    if log:\n",
    "        ax.set_xscale('log')\n",
    "        ax.set_xlabel(xlabel + ' (log)')\n",
    "    else:\n",
    "        ax.set_xlabel(xlabel)\n",
    "    ax.set_ylabel('Frequency' + ' (log)')\n",
    "    ax.set_yscale('log')\n",
    "    \n",
    "def mdl_graph(adjacency):\n",
    "    n = adjacency.shape[0]\n",
    "\n",
    "    # density\n",
    "    #d = np.sum(adjacency) / (n * (n - 1))\n",
    "    \n",
    "    # nodes\n",
    "    nodes_mdl = np.log2(n)\n",
    "    \n",
    "    # edges\n",
    "    degrees = adjacency.dot(np.ones(n))\n",
    "    max_degree = np.max(degrees)\n",
    "    edges_mdl = (n + 1) * np.log2(max_degree + 1) + np.sum([np.log2(special.comb(n, deg)) for deg in degrees])\n",
    "\n",
    "    if n == 1:\n",
    "        return 1\n",
    "    else:\n",
    "        return (nodes_mdl + edges_mdl)\n",
    "\n",
    "def entropy(prob):\n",
    "    return prob * -np.log2(prob)\n",
    "\n",
    "def desc_complexity(attrs):\n",
    "    if isinstance(attrs, int):\n",
    "        attrs = [attrs]\n",
    "    prob = 1\n",
    "    for attr in attrs:\n",
    "        prob *= degrees[attr] / np.sum(degrees)\n",
    "    entr = entropy(prob)\n",
    "    return generation_complexity(biadjacency.shape[1], len(attrs)) * entr\n",
    "\n",
    "def expand_list(l, idx, item):\n",
    "    \"\"\"If l[idx] does not exists, expand l with item.\"\"\"\n",
    "    try:\n",
    "        l[idx] = item\n",
    "    except IndexError:\n",
    "        extents.append(item)    "
   ]
  },
  {
   "cell_type": "code",
   "execution_count": 13,
   "id": "4d5928da-de2d-4d00-a1de-c087d9d70719",
   "metadata": {},
   "outputs": [
    {
     "name": "stdout",
     "output_type": "stream",
     "text": [
      "CPU times: user 22.1 ms, sys: 4.69 ms, total: 26.8 ms\n",
      "Wall time: 26.3 ms\n"
     ]
    }
   ],
   "source": [
    "%%time\n",
    "complexity_gen_graphs = defaultdict(list)\n",
    "\n",
    "for num_n in range(10 + 1)[1:15]:\n",
    "    cpt = 0\n",
    "    while cpt < 10:\n",
    "        random_g = sparse.random(num_n, num_n, density=0.5).astype(bool).tocsr()\n",
    "        if random_g is not None and random_g.shape[0] == num_n:\n",
    "            mdl = mdl_graph(random_g)\n",
    "            if num_n != 1:\n",
    "                complexity_gen_graphs[num_n].append(mdl)\n",
    "            else:\n",
    "                # MDL of a graph of 1 node, is the MDL to describe this node\n",
    "                complexity_gen_graphs[num_n].append(1)\n",
    "            cpt += 1"
   ]
  },
  {
   "cell_type": "code",
   "execution_count": null,
   "id": "c4dc0719-476e-4dab-a3ec-19e87fe2171c",
   "metadata": {},
   "outputs": [],
   "source": []
  },
  {
   "cell_type": "code",
   "execution_count": 8,
   "id": "a06bd6ec-05b1-44dc-a561-c54b2963f214",
   "metadata": {},
   "outputs": [],
   "source": [
    "G9 = sparse.csr_matrix(np.array([\n",
    "    [0, 1, 1, 1, 1, 1, 0, 0],\n",
    "    [1, 0, 1, 1, 1, 1, 0, 0],\n",
    "    [1, 1, 0, 1, 1, 1, 0, 0],\n",
    "    [1, 1, 1, 0, 1, 1, 0, 0],\n",
    "    [1, 1, 1, 1, 0, 1, 1, 0],\n",
    "    [1, 1, 1, 1, 1, 0, 1, 0],\n",
    "    [0, 0, 0, 0, 1, 1, 0, 1],\n",
    "    [0, 0, 0, 0, 0, 0, 1, 0]\n",
    "]))\n",
    "X9 = sparse.csr_matrix(np.array([\n",
    "    [1, 1, 1, 1, 0, 0, 0],\n",
    "    [1, 1, 1, 1, 0, 0, 0],\n",
    "    [1, 1, 1, 1, 0, 0, 0],\n",
    "    [1, 1, 1, 1, 0, 0, 0],\n",
    "    [1, 1, 1, 1, 0, 0, 0],\n",
    "    [1, 1, 1, 1, 0, 0, 0],\n",
    "    [1, 1, 0, 0, 1, 1, 1],\n",
    "    [0, 0, 0, 0, 0, 0, 1],\n",
    "]))\n",
    "names9 = np.array(range(G9.shape[0])).astype(str)\n",
    "names_col9 = np.array(['a', 'b', 'c', 'd', 'e', 'f', 'g'])"
   ]
  },
  {
   "cell_type": "code",
   "execution_count": 9,
   "id": "4591a279-bfdf-42b3-b136-a160b70eccec",
   "metadata": {},
   "outputs": [
    {
     "data": {
      "image/svg+xml": [
       "<svg xmlns=\"http://www.w3.org/2000/svg\" width=\"668.0\" height=\"340\">\n",
       "<path stroke-width=\"1\" stroke=\"gray\" d=\"M 396 307 337 320\"/>\n",
       "<path stroke-width=\"1\" stroke=\"gray\" d=\"M 282 236 396 307\"/>\n",
       "<path stroke-width=\"1\" stroke=\"gray\" d=\"M 282 236 337 320\"/>\n",
       "<path stroke-width=\"1\" stroke=\"gray\" d=\"M 282 236 420 218\"/>\n",
       "<path stroke-width=\"1\" stroke=\"gray\" d=\"M 282 236 380 149\"/>\n",
       "<path stroke-width=\"1\" stroke=\"gray\" d=\"M 282 236 303 153\"/>\n",
       "<path stroke-width=\"1\" stroke=\"gray\" d=\"M 282 236 159 106\"/>\n",
       "<path stroke-width=\"1\" stroke=\"gray\" d=\"M 380 149 303 153\"/>\n",
       "<path stroke-width=\"1\" stroke=\"gray\" d=\"M 303 153 396 307\"/>\n",
       "<path stroke-width=\"1\" stroke=\"gray\" d=\"M 303 153 420 218\"/>\n",
       "<path stroke-width=\"1\" stroke=\"gray\" d=\"M 303 153 380 149\"/>\n",
       "<path stroke-width=\"1\" stroke=\"gray\" d=\"M 303 153 282 236\"/>\n",
       "<path stroke-width=\"1\" stroke=\"gray\" d=\"M 303 153 159 106\"/>\n",
       "<path stroke-width=\"1\" stroke=\"gray\" d=\"M 159 106 282 236\"/>\n",
       "<path stroke-width=\"1\" stroke=\"gray\" d=\"M 159 106 303 153\"/>\n",
       "<path stroke-width=\"1\" stroke=\"gray\" d=\"M 303 153 337 320\"/>\n",
       "<path stroke-width=\"1\" stroke=\"gray\" d=\"M 380 149 282 236\"/>\n",
       "<path stroke-width=\"1\" stroke=\"gray\" d=\"M 380 149 420 218\"/>\n",
       "<path stroke-width=\"1\" stroke=\"gray\" d=\"M 380 149 337 320\"/>\n",
       "<path stroke-width=\"1\" stroke=\"gray\" d=\"M 396 307 420 218\"/>\n",
       "<path stroke-width=\"1\" stroke=\"gray\" d=\"M 396 307 380 149\"/>\n",
       "<path stroke-width=\"1\" stroke=\"gray\" d=\"M 396 307 282 236\"/>\n",
       "<path stroke-width=\"1\" stroke=\"gray\" d=\"M 396 307 303 153\"/>\n",
       "<path stroke-width=\"1\" stroke=\"gray\" d=\"M 337 320 396 307\"/>\n",
       "<path stroke-width=\"1\" stroke=\"gray\" d=\"M 337 320 420 218\"/>\n",
       "<path stroke-width=\"1\" stroke=\"gray\" d=\"M 337 320 380 149\"/>\n",
       "<path stroke-width=\"1\" stroke=\"gray\" d=\"M 337 320 282 236\"/>\n",
       "<path stroke-width=\"1\" stroke=\"gray\" d=\"M 337 320 303 153\"/>\n",
       "<path stroke-width=\"1\" stroke=\"gray\" d=\"M 420 218 396 307\"/>\n",
       "<path stroke-width=\"1\" stroke=\"gray\" d=\"M 420 218 337 320\"/>\n",
       "<path stroke-width=\"1\" stroke=\"gray\" d=\"M 420 218 380 149\"/>\n",
       "<path stroke-width=\"1\" stroke=\"gray\" d=\"M 420 218 282 236\"/>\n",
       "<path stroke-width=\"1\" stroke=\"gray\" d=\"M 420 218 303 153\"/>\n",
       "<path stroke-width=\"1\" stroke=\"gray\" d=\"M 380 149 396 307\"/>\n",
       "<path stroke-width=\"1\" stroke=\"gray\" d=\"M 159 106 20 20\"/>\n",
       "<path stroke-width=\"1\" stroke=\"gray\" d=\"M 20 20 159 106\"/>\n",
       "<circle cx=\"396\" cy=\"307\" r=\"7.0\" style=\"fill:gray;stroke:black;stroke-width:1.0\"/>\n",
       "<circle cx=\"337\" cy=\"320\" r=\"7.0\" style=\"fill:gray;stroke:black;stroke-width:1.0\"/>\n",
       "<circle cx=\"420\" cy=\"218\" r=\"7.0\" style=\"fill:gray;stroke:black;stroke-width:1.0\"/>\n",
       "<circle cx=\"380\" cy=\"149\" r=\"7.0\" style=\"fill:gray;stroke:black;stroke-width:1.0\"/>\n",
       "<circle cx=\"282\" cy=\"236\" r=\"7.0\" style=\"fill:gray;stroke:black;stroke-width:1.0\"/>\n",
       "<circle cx=\"303\" cy=\"153\" r=\"7.0\" style=\"fill:gray;stroke:black;stroke-width:1.0\"/>\n",
       "<circle cx=\"159\" cy=\"106\" r=\"7.0\" style=\"fill:gray;stroke:black;stroke-width:1.0\"/>\n",
       "<circle cx=\"20\" cy=\"20\" r=\"7.0\" style=\"fill:gray;stroke:black;stroke-width:1.0\"/>\n",
       "<text text-anchor=\"start\" x=\"406\" y=\"307\" font-size=\"12\">0-['a' 'b' 'c' 'd']</text><text text-anchor=\"start\" x=\"347\" y=\"320\" font-size=\"12\">1-['a' 'b' 'c' 'd']</text><text text-anchor=\"start\" x=\"430\" y=\"218\" font-size=\"12\">2-['a' 'b' 'c' 'd']</text><text text-anchor=\"start\" x=\"390\" y=\"149\" font-size=\"12\">3-['a' 'b' 'c' 'd']</text><text text-anchor=\"start\" x=\"292\" y=\"236\" font-size=\"12\">4-['a' 'b' 'c' 'd']</text><text text-anchor=\"start\" x=\"313\" y=\"153\" font-size=\"12\">5-['a' 'b' 'c' 'd']</text><text text-anchor=\"start\" x=\"169\" y=\"106\" font-size=\"12\">6-['a' 'b' 'e' 'f' 'g']</text><text text-anchor=\"start\" x=\"30\" y=\"20\" font-size=\"12\">7-['g']</text></svg>"
      ],
      "text/plain": [
       "<IPython.core.display.SVG object>"
      ]
     },
     "execution_count": 9,
     "metadata": {},
     "output_type": "execute_result"
    }
   ],
   "source": [
    "SVG(svg_graph(G9, names=[n + '-' + str(names_col9[x.indices]) for n, x in zip(names9, X9)]))"
   ]
  },
  {
   "cell_type": "code",
   "execution_count": 7,
   "id": "9d55ec6c-f8d1-4129-aafb-2db602a57cb1",
   "metadata": {},
   "outputs": [],
   "source": [
    "def is_cannonical(context, extents, intents, r, y):\n",
    "    global r_new\n",
    "\n",
    "    for k in range(len(intents[r])-1, -1, -1):\n",
    "        for j in range(y, intents[r][k], -1):            \n",
    "            for h in range(len(extents[r_new])):\n",
    "                if context[extents[r_new][h], j] == 0:\n",
    "                    h -= 1 # Necessary for next test in case last interaction of h for-loop returns False\n",
    "                    break\n",
    "            if h == len(extents[r_new]) - 1:\n",
    "                return False\n",
    "        y = intents[r][k] - 1\n",
    "\n",
    "    for j in reversed(range(y, -1, -1)):\n",
    "        for h in range(len(extents[r_new])):\n",
    "            if context[extents[r_new][h], j] == 0:\n",
    "                h -= 1 # Necessary for next test in case last interaction of h for-loop returns False\n",
    "                break\n",
    "        if h == len(extents[r_new]) - 1:\n",
    "            return False\n",
    "    \n",
    "    return True\n",
    "\n",
    "def extension(attrs, context):\n",
    "    ext = set()\n",
    "    if len(attrs) == 0:\n",
    "        return np.arange(0, context.shape[0])\n",
    "    for a in attrs:\n",
    "        nodes = set(get_neighbors(context, node=a, transpose=True))\n",
    "        if len(ext) == 0:\n",
    "            ext.update(nodes)\n",
    "        else:\n",
    "            ext &= nodes\n",
    "        if len(ext) == 0:\n",
    "            break\n",
    "    return np.asarray(list(ext))\n",
    "\n",
    "def intention(nodes, context):\n",
    "    intent = set()\n",
    "    if len(nodes) == 0:\n",
    "        return np.arange(0, context.shape[1])\n",
    "    for n in nodes:\n",
    "        attrs = set(get_neighbors(context, node=n))\n",
    "        if len(intent) == 0:\n",
    "            intent.update(attrs)\n",
    "        else:\n",
    "            intent &= attrs\n",
    "        if len(attrs) == 0:\n",
    "            break\n",
    "    return np.asarray(list(intent))\n",
    "\n",
    "def graph_unexpectedness(adjacency, gen_complexities):\n",
    "    n = adjacency.shape[0]\n",
    "    complexity_desc_g = mdl_graph(adjacency)\n",
    "    complexity_gen_g = np.mean(gen_complexities.get(n))\n",
    "    return complexity_gen_g - complexity_desc_g\n",
    "\n",
    "def attr_unexpectedness(biadjacency, attributes, degrees):\n",
    "    complexity_gen_a = np.log2(special.comb(biadjacency.shape[1], len(attributes)))\n",
    "    complexity_desc_a = 0\n",
    "    for a in attributes:\n",
    "        complexity_desc_a += np.log2(degrees[a])\n",
    "    return complexity_gen_a - complexity_desc_a\n",
    "\n",
    "def pattern_unexpectedness(adjacency, biadjacency, gen_complexities, attributes, degrees):\n",
    "    u_g = graph_unexpectedness(adjacency, gen_complexities)\n",
    "    u_a = attr_unexpectedness(biadjacency, attributes, degrees)\n",
    "    return u_g + u_a"
   ]
  },
  {
   "cell_type": "code",
   "execution_count": 8,
   "id": "4763a2b1-7e6c-41ed-8eed-ead340760825",
   "metadata": {},
   "outputs": [],
   "source": [
    "class Pattern:\n",
    "    def __init__(self, nodes, attrs):\n",
    "        self.nodes = set(nodes)\n",
    "        self.attrs = attrs\n",
    "        \n",
    "    def intent(self, nodes, context):\n",
    "        intent = set()\n",
    "        if len(self.nodes) == 0:\n",
    "            return np.arange(0, context.shape[1])\n",
    "        for n in self.nodes:\n",
    "            attrs = set(get_neighbors(context, node=n))\n",
    "            if len(intent) == 0:\n",
    "                intent.update(attrs)\n",
    "            else:\n",
    "                intent &= attrs\n",
    "            if len(intent) == 0:\n",
    "                break\n",
    "        return np.asarray(list(intent))\n",
    "    \n",
    "    def extent(self, attributes, context, adjacency):\n",
    "        ext = set()\n",
    "        if len(attributes) == 0:\n",
    "            return np.arange(0, context.shape[0])\n",
    "        for a in attributes:\n",
    "            nodes = set(get_neighbors(context, node=a, transpose=True))\n",
    "            if len(ext) == 0:\n",
    "                ext.update(nodes)\n",
    "            else:\n",
    "                ext &= nodes\n",
    "            if len(ext) == 0:\n",
    "                break\n",
    "        return np.asarray(list(ext))\n",
    "\n",
    "    def minus(self, I):\n",
    "        return list(set(I).difference(self.attrs))\n",
    "    \n",
    "    def copy(self):\n",
    "        return Pattern(self.nodes.copy(), self.attrs.copy())\n",
    "    \n",
    "    def add(self, x):\n",
    "        self.attrs.add(x)"
   ]
  },
  {
   "cell_type": "code",
   "execution_count": 506,
   "id": "c53c708e-307f-47a4-b6e9-843e032405f6",
   "metadata": {},
   "outputs": [],
   "source": [
    "import copy\n",
    "\n",
    "def graph_enum(graph, context, degs, pattern, candidates=[], s=5, EL=set(), pattern_list=[], unexs=[], verbose=True):\n",
    "    global depth\n",
    "    \n",
    "    if verbose:\n",
    "        print(f'EL: {EL}, depth: {depth}')\n",
    "    else:\n",
    "        if len(EL) % 10 == 0:\n",
    "            print(len(EL))\n",
    "    q = pattern.attrs\n",
    "    if verbose:\n",
    "        print(f'Candidate pattern: ({len(pattern.nodes), pattern.attrs})')\n",
    "    \n",
    "    # Add pattern to list of valid patterns\n",
    "    pattern_list.append(pattern)\n",
    "    \n",
    "    if verbose:\n",
    "        print(f'Patterns: {[(len(x.nodes), x.attrs) for x in pattern_list]} - unexs: {unexs} - depth: {depth}')\n",
    "    \n",
    "    candidates = [x for x in pattern.minus(candidates) if not x in EL]\n",
    "    \n",
    "    pattern_bak = pattern.copy()\n",
    "    for x in candidates:\n",
    "        if verbose:\n",
    "            print(f'Candidate: {x}')\n",
    "        \n",
    "        pattern_x = Pattern(pattern_bak.nodes.copy(), copy.deepcopy(pattern_bak.attrs))\n",
    "        S = pattern_x.nodes.copy()\n",
    "        \n",
    "        # Add candidate to pattern\n",
    "        pattern_x.add(x)\n",
    "        \n",
    "        # Support set (extent) of q_x\n",
    "        subs = pattern_x.extent(pattern_x.attrs, context, adjacency)\n",
    "        \n",
    "        p_x = Pattern(subs, pattern_x.attrs)\n",
    "        \n",
    "        print(f'new extent: {p_x.nodes}')\n",
    "        if len(p_x.nodes) >= s:\n",
    "            \n",
    "            # Get new intent\n",
    "            p_x.attrs = set(p_x.intent(p_x.nodes, context))\n",
    "            print(p_x.attrs)\n",
    "            langs = p_x.attrs.intersection(EL)\n",
    "            \n",
    "            # reduce list of potential candidates to improve efficiency\n",
    "            cands = list(set.union(*([set(get_neighbors(context, node=s)) for s in subs])))\n",
    "            print(cands)\n",
    "            \n",
    "            if len(langs) == 0 and p_x.attrs != q:\n",
    "                \n",
    "                if len(unexs) == 0:\n",
    "                    #unex = 0\n",
    "                    unexs.append(0)\n",
    "                #else:\n",
    "                unex_g = graph_unexpectedness(adjacency[np.array(list(p_x.nodes)), :][:, np.array(list(p_x.nodes))], complexity_gen_graphs)\n",
    "                unex_a = attr_unexpectedness(context, np.array(list(p_x.attrs)), degs)\n",
    "                unex = unex_g + unex_a\n",
    "                \n",
    "                if verbose:\n",
    "                    print(f'u-g {unex_g} - u-a:{unex_a} -u:{unex}')\n",
    "                \n",
    "                if verbose:\n",
    "                    print(f'unexs: {unexs} - depth: {depth}')\n",
    "                    print(f'compare unex={unex} and unexs[{depth}]={unexs[depth]}')\n",
    "                if unex - unexs[depth] > 0:\n",
    "                    if verbose:\n",
    "                        print(f'  --> Pattern added to list')    \n",
    "                    depth += 1\n",
    "                    unexs.append(unex)\n",
    "                    graph_enum(subs, context, degs, p_x, cands, s, EL.copy(), pattern_list, unexs, verbose)\n",
    "                EL.add(x) \n",
    "\n",
    "    depth -= 1       \n",
    "    #if depth >= 1:        \n",
    "    #    del unexs[-(depth):]\n",
    "    #else:\n",
    "    #    del unexs[1:]\n",
    "    unexs.pop(-1)\n",
    "    if verbose:\n",
    "        print(f'END FUNCTION')        \n",
    "    return pattern_list"
   ]
  },
  {
   "cell_type": "markdown",
   "id": "8967da02-f12d-41be-924e-4dbe045b56c9",
   "metadata": {},
   "source": [
    "### Tf-Idf"
   ]
  },
  {
   "cell_type": "code",
   "execution_count": 548,
   "id": "8cb1050f-99ea-4875-801f-9216c57ec26c",
   "metadata": {},
   "outputs": [
    {
     "name": "stdout",
     "output_type": "stream",
     "text": [
      "Parsing files...\n",
      "Done.\n"
     ]
    },
    {
     "data": {
      "text/plain": [
       "<10011x37845 sparse matrix of type '<class 'numpy.int64'>'\n",
       "\twith 1363301 stored elements in Compressed Sparse Row format>"
      ]
     },
     "execution_count": 548,
     "metadata": {},
     "output_type": "execute_result"
    }
   ],
   "source": [
    "dataset = load_netset('wikivitals')\n",
    "\n",
    "adjacency = dataset.adjacency\n",
    "orig_biadjacency = dataset.biadjacency\n",
    "names = dataset.names\n",
    "orig_words = dataset.names_col\n",
    "labels = dataset.labels\n",
    "\n",
    "orig_biadjacency"
   ]
  },
  {
   "cell_type": "code",
   "execution_count": 599,
   "id": "a99379b8-6855-478e-ab81-c88f3f2a48de",
   "metadata": {},
   "outputs": [
    {
     "name": "stdout",
     "output_type": "stream",
     "text": [
      "Number of attributes after tfidf: 18310\n"
     ]
    }
   ],
   "source": [
    "# tfidf\n",
    "biadjacency = orig_biadjacency.copy()\n",
    "tfidf_biadjacency = TfIdf().fit_transform(biadjacency)\n",
    "tau = 0.01\n",
    "for i, val in enumerate(tfidf_biadjacency.data):\n",
    "    if val < tau:\n",
    "        biadjacency.data[i] = 0\n",
    "biadjacency.eliminate_zeros()\n",
    "\n",
    "global depth\n",
    "depth = 0\n",
    "\n",
    "# Initialization\n",
    "degs = get_degrees(biadjacency, transpose=True)\n",
    "\n",
    "# Degree of attribute = # articles in which it appears\n",
    "freq_attribute = get_degrees(biadjacency.astype(bool), transpose=True)\n",
    "index = np.flatnonzero((freq_attribute <= 10000) & (freq_attribute >= 5))\n",
    "\n",
    "# Filter data with index\n",
    "biadjacency = biadjacency[:, index]\n",
    "words = orig_words[index]\n",
    "freq_attribute = freq_attribute[index]\n",
    "degs = degs[index]\n",
    "print(f'Number of attributes after tfidf: {biadjacency.shape[1]}')\n",
    "\n",
    "# Order attributes according to their ascending degree\n",
    "# This allows to add first attributes that will generate bigger subgraphs\n",
    "sort_index = np.argsort(freq_attribute)\n",
    "sorted_degs = freq_attribute[sort_index]\n",
    "filt_biadjacency = biadjacency[:, sort_index]\n",
    "sorted_names_col = words[sort_index]\n",
    "\n",
    "g = list(range(adjacency.shape[0]))\n",
    "p = Pattern(g, set())\n",
    "p.attrs = set(p.intent(p.nodes, filt_biadjacency))\n",
    "candidates = list(range(filt_biadjacency.shape[1]))"
   ]
  },
  {
   "cell_type": "code",
   "execution_count": 600,
   "id": "3efdcfcf-e4d9-4463-8169-1ca4217b71cc",
   "metadata": {},
   "outputs": [
    {
     "data": {
      "image/png": "[encoded data removed]",
      "text/plain": [
       "<Figure size 864x504 with 1 Axes>"
      ]
     },
     "metadata": {
      "needs_background": "light"
     },
     "output_type": "display_data"
    }
   ],
   "source": [
    "fig, ax = plt.subplots(1, 1, figsize=(12, 7))\n",
    "plot_distrib(get_degrees(orig_biadjacency, transpose=True), ax=ax, log=True, label='attribute degree')\n",
    "plot_distrib(degs, ax=ax, log=True, label='arttribute degree tfidf', color='g')"
   ]
  },
  {
   "cell_type": "code",
   "execution_count": 601,
   "id": "4c8ecf35-b8da-40c9-a0cd-63b929fcf146",
   "metadata": {},
   "outputs": [
    {
     "name": "stdout",
     "output_type": "stream",
     "text": [
      "{14916: 'cmyk', 37430: 'RGB'}\n",
      "{7294: 'cmyk', 18105: 'RGB'}\n"
     ]
    }
   ],
   "source": [
    "print({i:n for i, n in enumerate(orig_words) if n in ['cmyk', 'RGB']})\n",
    "print({i:n for i, n in enumerate(words) if n in ['cmyk', 'RGB']})"
   ]
  },
  {
   "cell_type": "code",
   "execution_count": null,
   "id": "39c34cf9-6c39-4022-932a-c992b98b6db9",
   "metadata": {},
   "outputs": [],
   "source": [
    "%%time\n",
    "\n",
    "\"\"\"with open('logs/log_wikischools_viard_u_tfidf.txt', 'w') as f:\n",
    "    with redirect_stdout(f):\n",
    "        pattern_list = graph_enum(g, filt_biadjacency, sorted_degs, p, candidates, s=5, EL=set(), pattern_list=[], unexs=[], verbose=True)\"\"\"\n",
    "with open('logs/log_wikischools_viard_u_tfidf.txt', 'w') as f:\n",
    "    with redirect_stdout(f):\n",
    "        pattern_list = graph_enum(g, biadjacency, degs, p, candidates, s=5, EL=set(), pattern_list=[], unexs=[], verbose=True)"
   ]
  },
  {
   "cell_type": "code",
   "execution_count": 529,
   "id": "a23bc02e-2582-403e-92ce-974caba8c745",
   "metadata": {},
   "outputs": [
    {
     "name": "stdout",
     "output_type": "stream",
     "text": [
      "1444\n"
     ]
    }
   ],
   "source": [
    "print(len(pattern_list))"
   ]
  },
  {
   "cell_type": "code",
   "execution_count": 530,
   "id": "a2644883-6af4-4633-96e9-e03b2bafe37e",
   "metadata": {},
   "outputs": [
    {
     "data": {
      "image/png": "[encoded data removed]",
      "text/plain": [
       "<Figure size 864x504 with 1 Axes>"
      ]
     },
     "metadata": {
      "needs_background": "light"
     },
     "output_type": "display_data"
    }
   ],
   "source": [
    "fig, ax = plt.subplots(1, 1, figsize=(12, 7))\n",
    "plot_distrib([len(x.attrs) for x in pattern_list], ax=ax, log=True, label='# attributes / concept')"
   ]
  },
  {
   "cell_type": "code",
   "execution_count": null,
   "id": "dbacb629-fe10-4a7b-86f0-48d9e37e7084",
   "metadata": {},
   "outputs": [],
   "source": []
  },
  {
   "cell_type": "code",
   "execution_count": null,
   "id": "b9889540-f0da-40d0-b333-6a406be71394",
   "metadata": {},
   "outputs": [],
   "source": []
  },
  {
   "cell_type": "code",
   "execution_count": 479,
   "id": "ce203ef4-8141-42be-8bad-35757da86f12",
   "metadata": {},
   "outputs": [
    {
     "data": {
      "text/plain": [
       "'Church'"
      ]
     },
     "execution_count": 479,
     "metadata": {},
     "output_type": "execute_result"
    }
   ],
   "source": [
    "idx = np.random.choice(biadjacency.shape[1])\n",
    "name = words[idx]\n",
    "name"
   ]
  },
  {
   "cell_type": "code",
   "execution_count": 480,
   "id": "b2ae6ecc-8dce-4784-bd0e-9661d6ee1c21",
   "metadata": {},
   "outputs": [
    {
     "name": "stdout",
     "output_type": "stream",
     "text": [
      "First attribute: Church - 26234\n",
      "Appears in articles: ['A. C. Bhaktivedanta Swami Prabhupada' 'Age of Enlightenment'\n",
      " 'Aleksandr Solzhenitsyn' 'Alexander Nevsky' 'Alexandria'\n",
      " 'Alexis of Russia' 'Algorithm' 'Ambrose' 'Anglicanism' 'Angola'\n",
      " 'Anselm of Canterbury' 'Antigua and Barbuda'\n",
      " 'António de Oliveira Salazar' 'Aphrodite' 'Aramaic' 'Aretha Franklin'\n",
      " 'Aristotle' 'Arius' 'Armenia' 'Arminianism' 'Assyria'\n",
      " 'Athanasius of Alexandria' 'Augustine of Hippo' 'Averroes' 'Baroque'\n",
      " 'Baroque architecture' 'Baruch Spinoza' 'Basil of Caesarea' 'Bede'\n",
      " 'Belgrade' 'Benedict of Nursia' 'Benito Juárez' 'Bible' 'Billy Graham'\n",
      " 'Bonaventure' 'Boris I of Bulgaria' 'C. S. Lewis' 'Calvinism' 'Canberra'\n",
      " 'Capetian dynasty' 'Cardinal Richelieu' 'Carnival' 'Catholic Church'\n",
      " 'Catholicity' 'Charlemagne' 'Charles I of England' 'Christianity'\n",
      " 'Circumcision' 'Classical music' 'Clement of Alexandria' 'Clovis I'\n",
      " 'Cnut the Great' 'Colosseum' 'Columbia University' 'Computable function'\n",
      " 'Confucianism' 'Constantine the Great' 'Constantinople' 'Copenhagen'\n",
      " 'Coptic Orthodox Church of Alexandria' 'Corazon Aquino'\n",
      " 'Corpus Juris Civilis' 'Counter-Reformation' 'Crimean War' 'Crusades'\n",
      " 'Cyril of Alexandria' 'Cyrillic script' 'Córdoba, Argentina'\n",
      " 'David Lloyd George' 'Denis Diderot' 'Dietrich Bonhoeffer'\n",
      " 'Divine Comedy' 'Dmitry Donskoy' 'Early modern period'\n",
      " 'Eastern Catholic Churches' 'Eastern Christianity'\n",
      " 'Eastern Orthodox Church' 'East–West Schism' 'Ecumenism' 'Edinburgh'\n",
      " 'Edmund Burke' 'Egyptian language' 'Elizabeth I' 'England'\n",
      " 'English Civil War' 'Erasmus' 'Ethiopia'\n",
      " 'Ethiopian Orthodox Tewahedo Church' 'Eusebius' 'First Bulgarian Empire'\n",
      " 'Francis Bacon' 'Franks' 'François Rabelais' 'French Revolution'\n",
      " 'Galileo Galilei' 'George Berkeley' 'George Washington'\n",
      " 'Georges Clemenceau' 'Georgia (country)' 'Girolamo Savonarola'\n",
      " 'Gnosticism' 'Grace in Christianity' 'Great Moravia' 'Greece'\n",
      " 'Greek Orthodox Church' 'Gregorian calendar' 'Gregorian chant'\n",
      " 'Gregory of Nazianzus' 'Grigori Rasputin'\n",
      " \"Gödel's incompleteness theorems\" 'HIV/AIDS' 'Hagia Sophia'\n",
      " 'Haitian Vodou' 'Halloween' 'Hans Holbein the Younger'\n",
      " 'Henry II of England' 'Henry IV, Holy Roman Emperor' 'Henry VIII'\n",
      " 'Heraclius' 'Hildegard of Bingen' 'History of Christianity'\n",
      " 'History of Germany' 'History of astronomy' 'Holy See' 'House of Medici'\n",
      " 'Huguenots' 'Huldrych Zwingli' 'Hussite Wars' 'Indigenous peoples'\n",
      " 'Inquisition' 'Irenaeus' 'Isaac Newton' 'Isabella I of Castile'\n",
      " 'Italian language' 'Ivan Asen II' 'Jan Hus' 'Jerome' 'Jerusalem' 'Jesus'\n",
      " 'John Calvin' 'John Chrysostom' 'John D. Rockefeller' 'John Donne'\n",
      " 'John Knox' 'John Wesley' 'John of Damascus' 'John of the Cross'\n",
      " 'John the Apostle' 'Joseph Smith' 'José Saramago' 'Judas Iscariot'\n",
      " 'Julian calendar' 'Justinian I' 'Karl Barth' 'King James Version'\n",
      " 'Kingdom of England' 'Knight' 'Kosovo' 'Kraków' 'La Paz' 'Latin'\n",
      " 'Lebanon' 'Lewis Carroll' 'London' 'Louis XIV' 'Lutheranism'\n",
      " 'Manichaeism' 'Maracaibo' 'Margaret I of Denmark' 'Marshall Islands'\n",
      " 'Martin Luther' 'Mary Baker Eddy' 'Mary Magdalene'\n",
      " 'Mary, mother of Jesus' 'Methodism' 'Mexico' 'Middle Ages' 'Moldavia'\n",
      " 'Molière' 'Mormonism' 'Moscow State University' 'Mosul' 'Mother Teresa'\n",
      " 'Musical notation' 'Nicholas II of Russia' 'Nontrinitarianism'\n",
      " 'Old Church Slavonic' 'On the Origin of Species'\n",
      " 'Oriental Orthodox Churches' 'Origen' 'Orthodoxy' 'Oscar Niemeyer'\n",
      " 'Otto I, Holy Roman Emperor' 'Otto von Bismarck' 'Papal States'\n",
      " 'Patriarch Nikon of Moscow' 'Pentecost' 'Pentecostalism'\n",
      " 'Philip Melanchthon' 'Philippine–American War' 'Plato' 'Pope'\n",
      " 'Pope Alexander VI' 'Pope Boniface VIII' 'Pope Clement I'\n",
      " 'Pope Gregory I' 'Pope Gregory VII' 'Pope Innocent III'\n",
      " 'Pope John Paul II' 'Pope John XXIII' 'Pope Julius II' 'Pope Leo I'\n",
      " 'Pope Pius IX' 'Pope Urban II' 'Poznań' 'Protestantism' 'Purgatory'\n",
      " 'Puritans' 'Quakers' 'Quebec' 'Reformation' 'Robert Peel'\n",
      " 'Russian Orthodox Church' 'Saint' 'Saint George' 'Saint Nicholas'\n",
      " 'Saint Peter' 'Saints Cyril and Methodius' 'Septuagint'\n",
      " 'Seventh-day Adventist Church' 'Slavic paganism' 'Slavs' 'Sofia'\n",
      " 'Songs of Innocence and of Experience' \"St. Peter's Basilica\"\n",
      " 'State religion' 'Stefan Dušan' 'Stephen I of Hungary'\n",
      " 'Stephen the Great' 'Summa Theologica' 'Svatopluk I of Moravia'\n",
      " 'Søren Kierkegaard' 'Teresa of Ávila' 'Tertullian' 'The Canterbury Tales'\n",
      " 'The History of the Decline and Fall of the Roman Empire'\n",
      " 'Theodora (wife of Justinian I)' 'Theory of computation' 'Thomas Aquinas'\n",
      " 'Thomas Cranmer' 'Thomas More' 'Thomas Müntzer' 'Thomism'\n",
      " 'Tomás de Torquemada' 'Trinity' 'Troy' 'Ukrainian language'\n",
      " 'Unitarianism' 'University' 'University of Toronto' 'Vatican City'\n",
      " 'Vatican Museums' 'Veneration of the dead' 'Vietnam War' 'Villa'\n",
      " 'Visigothic Kingdom' 'Voltaire' 'Vulgate' 'William Blake'\n",
      " 'William Ewart Gladstone' 'William Murray, 1st Earl of Mansfield'\n",
      " 'William Wilberforce' 'William of Ockham' 'Yerevan']\n",
      "['also' 'by' 'Europe' 'to' 'with' 'such' 'include' 'other' 'know' 'an'\n",
      " 'on' 'or' 'be' 'it' 'death' 'central' 'book' 'the' 'at' 'work' 'through'\n",
      " 'religious' 'of' 'world' 'that' 'as' 'movement' 'literary' 'emerge' 'and'\n",
      " 'for' 'in' 'a' 'Church']\n"
     ]
    }
   ],
   "source": [
    "idx_orig = np.where(orig_words==name)[0][0]\n",
    "print(f'First attribute: {orig_words[idx_orig]} - {idx_orig}')\n",
    "\n",
    "neighbors_0 = get_neighbors(orig_biadjacency, node=idx_orig, transpose=True)\n",
    "print(f'Appears in articles: {names[neighbors_0]}')\n",
    "\n",
    "attr_neighbors = set(get_neighbors(orig_biadjacency, node=neighbors_0[0]))\n",
    "for n in neighbors_0[1:2]:\n",
    "    attrs_neighbor = get_neighbors(orig_biadjacency, node=n)\n",
    "    attr_neighbors &= set(attrs_neighbor)\n",
    "    \n",
    "print(orig_words[list(attr_neighbors)])"
   ]
  },
  {
   "cell_type": "code",
   "execution_count": 481,
   "id": "40bb7d2f-9097-42cb-9acf-565f9bfdb8d2",
   "metadata": {},
   "outputs": [
    {
     "name": "stdout",
     "output_type": "stream",
     "text": [
      "First attribute: Church - 970\n",
      "Appears in articles: ['Alexis of Russia' 'Ambrose' 'Anglicanism' 'Athanasius of Alexandria'\n",
      " 'Augustine of Hippo' 'Basil of Caesarea' 'Catholic Church' 'Catholicity'\n",
      " 'Coptic Orthodox Church of Alexandria' 'Eastern Catholic Churches'\n",
      " 'Eastern Christianity' 'Eastern Orthodox Church' 'Ecumenism'\n",
      " 'Ethiopian Orthodox Tewahedo Church' 'Greek Orthodox Church'\n",
      " 'Gregory of Nazianzus' 'Holy See' 'Jerome' 'John Chrysostom'\n",
      " 'John of the Cross' 'Nontrinitarianism' 'Old Church Slavonic'\n",
      " 'Oriental Orthodox Churches' 'Patriarch Nikon of Moscow'\n",
      " 'Pope Gregory VII' 'Protestantism' 'Purgatory' 'Puritans' 'Reformation'\n",
      " 'Russian Orthodox Church' 'Saints Cyril and Methodius'\n",
      " 'Theodora (wife of Justinian I)' 'Thomas Cranmer' 'Thomas More' 'Thomism'\n",
      " 'Vulgate']\n",
      "['Church']\n"
     ]
    }
   ],
   "source": [
    "print(f'First attribute: {words[idx]} - {idx}')\n",
    "\n",
    "neighbors_0 = get_neighbors(biadjacency, node=idx, transpose=True)\n",
    "print(f'Appears in articles: {names[neighbors_0]}')\n",
    "\n",
    "attr_neighbors = set(get_neighbors(biadjacency, node=neighbors_0[0]))\n",
    "for n in neighbors_0[1:]:\n",
    "    attrs_neighbor = get_neighbors(biadjacency, node=n)\n",
    "    attr_neighbors &= set(attrs_neighbor)\n",
    "    \n",
    "print(words[list(attr_neighbors)])"
   ]
  },
  {
   "cell_type": "code",
   "execution_count": 356,
   "id": "972b0e20-bd64-40b2-ad2f-f10433294c50",
   "metadata": {},
   "outputs": [
    {
     "data": {
      "text/plain": [
       "{492: 'Ankara', 1184: 'Bosporus'}"
      ]
     },
     "execution_count": 356,
     "metadata": {},
     "output_type": "execute_result"
    }
   ],
   "source": [
    "{i:n for i, n in enumerate(names) if n in ['Ankara', 'Bosporus']}"
   ]
  },
  {
   "cell_type": "code",
   "execution_count": 357,
   "id": "f95ad125-cd85-4cb1-a76b-370810b13857",
   "metadata": {},
   "outputs": [
    {
     "data": {
      "text/plain": [
       "array([   6,   99,  958, 1488, 2393, 3390, 3407, 3716, 4174, 5124, 5332],\n",
       "      dtype=int32)"
      ]
     },
     "execution_count": 357,
     "metadata": {},
     "output_type": "execute_result"
    }
   ],
   "source": [
    "biadjacency[492, :].indices"
   ]
  },
  {
   "cell_type": "code",
   "execution_count": 358,
   "id": "80899149-8899-43df-8895-d6f1596723b5",
   "metadata": {},
   "outputs": [
    {
     "data": {
      "text/plain": [
       "array([ 128,  136,  194,  199,  493,  726,  958, 1086, 1584, 2001, 2248,\n",
       "       2393, 2454, 2787, 2826, 2919, 3390, 3670, 3716, 3878, 4038, 4174,\n",
       "       4419, 4433, 4656, 4815, 4956, 5022, 5036, 5128, 5302, 5472],\n",
       "      dtype=int32)"
      ]
     },
     "execution_count": 358,
     "metadata": {},
     "output_type": "execute_result"
    }
   ],
   "source": [
    "biadjacency[1184, :].indices"
   ]
  },
  {
   "cell_type": "code",
   "execution_count": 359,
   "id": "1bfaea8e-e8af-4bb9-b405-2eafce78105a",
   "metadata": {},
   "outputs": [
    {
     "data": {
      "text/plain": [
       "{958, 2393, 3390, 3716, 4174}"
      ]
     },
     "execution_count": 359,
     "metadata": {},
     "output_type": "execute_result"
    }
   ],
   "source": [
    "set(biadjacency[492, :].indices).intersection(set(biadjacency[1184, :].indices))"
   ]
  },
  {
   "cell_type": "code",
   "execution_count": null,
   "id": "47bfe160-b93b-4a28-b723-ad8160b5d76a",
   "metadata": {},
   "outputs": [],
   "source": []
  },
  {
   "cell_type": "code",
   "execution_count": null,
   "id": "3a3559a4-fafd-415f-bc37-b51d7e3cc042",
   "metadata": {},
   "outputs": [],
   "source": []
  },
  {
   "cell_type": "code",
   "execution_count": null,
   "id": "7488c16c-8431-4680-a957-089ebdddafe6",
   "metadata": {},
   "outputs": [],
   "source": []
  },
  {
   "cell_type": "code",
   "execution_count": null,
   "id": "c322a06e-bedf-46ee-aae8-454919dc9b5d",
   "metadata": {},
   "outputs": [],
   "source": []
  },
  {
   "cell_type": "code",
   "execution_count": 227,
   "id": "85241517-1dd8-47b6-8207-046c38174464",
   "metadata": {},
   "outputs": [],
   "source": [
    "G9 = sparse.csr_matrix(np.array([\n",
    "    [0, 1, 1, 1, 1, 1, 0, 0],\n",
    "    [1, 0, 1, 1, 1, 1, 0, 0],\n",
    "    [1, 1, 0, 1, 1, 1, 0, 0],\n",
    "    [1, 1, 1, 0, 1, 1, 0, 0],\n",
    "    [1, 1, 1, 1, 0, 1, 1, 0],\n",
    "    [1, 1, 1, 1, 1, 0, 1, 0],\n",
    "    [0, 0, 0, 0, 1, 1, 0, 1],\n",
    "    [0, 0, 0, 0, 0, 0, 1, 0]\n",
    "]))\n",
    "X9 = sparse.csr_matrix(np.array([\n",
    "    [1, 1, 1, 1, 0, 0, 0],\n",
    "    [1, 1, 1, 1, 0, 0, 0],\n",
    "    [1, 1, 1, 1, 0, 0, 0],\n",
    "    [1, 1, 1, 1, 0, 0, 0],\n",
    "    [1, 1, 1, 1, 0, 0, 0],\n",
    "    [1, 1, 1, 1, 0, 0, 0],\n",
    "    [1, 1, 0, 0, 1, 1, 1],\n",
    "    [0, 0, 0, 0, 0, 0, 1],\n",
    "]))\n",
    "names9 = np.array(range(G9.shape[0])).astype(str)\n",
    "names_col9 = np.array(['a', 'b', 'c', 'd', 'e', 'f', 'g'])"
   ]
  },
  {
   "cell_type": "code",
   "execution_count": 228,
   "id": "c3c60912-8988-4d27-bf71-3072c74e5584",
   "metadata": {},
   "outputs": [
    {
     "name": "stdout",
     "output_type": "stream",
     "text": [
      "EL: set(), depth: 0\n",
      "Candidate pattern: ((8, set()))\n",
      "Patterns: [(8, set())] - unexs: [] - depth: 0\n",
      "u-g 3.2820063402681185 - u-a:-1.2223924213364477 -u:2.059613918931671\n",
      "unexs: [0] - depth: 0\n",
      "compare unex=2.059613918931671 and unexs[0]=0\n",
      "  --> Pattern added to list\n",
      "EL: set(), depth: 1\n",
      "Candidate pattern: ((7, {0, 1}))\n",
      "Patterns: [(8, set()), (7, {0, 1})] - unexs: [0, 2.059613918931671] - depth: 1\n",
      "u-g 6.785526874129822 - u-a:-5.655351828612555 -u:1.1301750455172668\n",
      "unexs: [0, 2.059613918931671] - depth: 1\n",
      "compare unex=1.1301750455172668 and unexs[1]=2.059613918931671\n",
      "u-g 0.0 - u-a:-2.2223924213364477 -u:-2.2223924213364477\n",
      "unexs: [0, 2.059613918931671] - depth: 1\n",
      "compare unex=-2.2223924213364477 and unexs[1]=2.059613918931671\n",
      "END FUNCTION\n",
      "u-g -0.08170416594551 - u-a:1.8073549220576042 -u:1.7256507561120942\n",
      "unexs: [0] - depth: 0\n",
      "compare unex=1.7256507561120942 and unexs[0]=0\n",
      "  --> Pattern added to list\n",
      "EL: {0}, depth: 1\n",
      "Candidate pattern: ((2, {6}))\n",
      "Patterns: [(8, set()), (7, {0, 1}), (2, {6})] - unexs: [0, 1.7256507561120942] - depth: 1\n",
      "END FUNCTION\n",
      "END FUNCTION\n"
     ]
    }
   ],
   "source": [
    "global depth\n",
    "depth = 0\n",
    "\n",
    "# Initialization\n",
    "adjacency = G9\n",
    "biadjacency = X9 \n",
    "degs = get_degrees(X9, transpose=True)\n",
    "\n",
    "# Degree of attribute = # articles in which it appears\n",
    "freq_attribute = get_degrees(X9.astype(bool), transpose=True)\n",
    "index = np.flatnonzero((freq_attribute <= 1000) & (freq_attribute >= 0))\n",
    "\n",
    "# Filter data with index\n",
    "biadjacency = X9[:, index]\n",
    "words = names_col9[index]\n",
    "freq_attribute = freq_attribute[index]\n",
    "\n",
    "g = list(range(G9.shape[0]))\n",
    "p = Pattern(g, set())\n",
    "p.attrs = set(p.intent(p.nodes, X9))\n",
    "pattern_list = graph_enum(g, X9, p, s=1, EL=set(), pattern_list=[], unexs=[])"
   ]
  },
  {
   "cell_type": "code",
   "execution_count": 229,
   "id": "21f4ad14-7409-420b-9e1a-ea3d74c0ebfc",
   "metadata": {},
   "outputs": [
    {
     "name": "stdout",
     "output_type": "stream",
     "text": [
      "{0, 1, 2, 3, 4, 5, 6, 7} []\n",
      "{0, 1, 2, 3, 4, 5, 6} ['a' 'b']\n",
      "{6, 7} ['g']\n"
     ]
    }
   ],
   "source": [
    "for c in pattern_list:\n",
    "    print((c.nodes), names_col9[list(c.attrs)])"
   ]
  },
  {
   "cell_type": "code",
   "execution_count": null,
   "id": "e8b78da1-3b1e-493d-92dc-bcfc7c4bcaff",
   "metadata": {},
   "outputs": [],
   "source": []
  },
  {
   "cell_type": "code",
   "execution_count": null,
   "id": "3ba5b1f8-f126-4593-8eb9-f4086ba3c160",
   "metadata": {},
   "outputs": [],
   "source": []
  },
  {
   "cell_type": "code",
   "execution_count": null,
   "id": "27e6adce-ee26-49dd-911f-f88ff719d185",
   "metadata": {},
   "outputs": [],
   "source": []
  },
  {
   "cell_type": "code",
   "execution_count": null,
   "id": "ccffc750-77b9-4d5b-a2fb-7f0c92e78350",
   "metadata": {},
   "outputs": [],
   "source": []
  },
  {
   "cell_type": "code",
   "execution_count": null,
   "id": "00fbe523-499f-410b-9609-6a51babfcc7f",
   "metadata": {},
   "outputs": [],
   "source": []
  },
  {
   "cell_type": "code",
   "execution_count": 9,
   "id": "9a73e9ba-05e7-41bd-b8e7-f00de78a4243",
   "metadata": {},
   "outputs": [
    {
     "name": "stdout",
     "output_type": "stream",
     "text": [
      "CPU times: user 1min 40s, sys: 3.87 s, total: 1min 44s\n",
      "Wall time: 1min 44s\n"
     ]
    }
   ],
   "source": [
    "%%time\n",
    "complexity_gen_graphs = defaultdict(list)\n",
    "\n",
    "for num_n in range(adjacency.shape[0] + 1)[1:1000]:\n",
    "    cpt = 0\n",
    "    while cpt < 3:\n",
    "        random_g = sparse.random(num_n, num_n, density=0.5).astype(bool).tocsr()\n",
    "        if random_g is not None and random_g.shape[0] == num_n:\n",
    "            mdl = mdl_graph(random_g)\n",
    "            complexity_gen_graphs[num_n].append(mdl)\n",
    "            cpt += 1"
   ]
  },
  {
   "cell_type": "code",
   "execution_count": 150,
   "id": "38df3b89-273b-4bbe-88fd-e1babaeee9b1",
   "metadata": {},
   "outputs": [
    {
     "name": "stdout",
     "output_type": "stream",
     "text": [
      "simpl\n"
     ]
    },
    {
     "data": {
      "image/svg+xml": [
       "<svg xmlns=\"http://www.w3.org/2000/svg\" width=\"880.0\" height=\"640\">\n",
       "<defs><marker id=\"arrow-gray\" markerWidth=\"10\" markerHeight=\"10\" refX=\"9\" refY=\"3\" orient=\"auto\">\n",
       "<path d=\"M0,0 L0,6 L9,3 z\" fill=\"gray\"/></marker></defs>\n",
       "<path stroke-width=\"1\" stroke=\"gray\" d=\"M 389 320 397 324\" marker-end=\"url(#arrow-gray)\"/>\n",
       "<path stroke-width=\"1\" stroke=\"gray\" d=\"M 233 349 238 346\" marker-end=\"url(#arrow-gray)\"/>\n",
       "<path stroke-width=\"1\" stroke=\"gray\" d=\"M 233 349 262 353\" marker-end=\"url(#arrow-gray)\"/>\n",
       "<path stroke-width=\"1\" stroke=\"gray\" d=\"M 233 349 210 350\" marker-end=\"url(#arrow-gray)\"/>\n",
       "<path stroke-width=\"1\" stroke=\"gray\" d=\"M 228 397 230 388\" marker-end=\"url(#arrow-gray)\"/>\n",
       "<path stroke-width=\"1\" stroke=\"gray\" d=\"M 400 308 394 330\" marker-end=\"url(#arrow-gray)\"/>\n",
       "<path stroke-width=\"1\" stroke=\"gray\" d=\"M 400 308 401 295\" marker-end=\"url(#arrow-gray)\"/>\n",
       "<path stroke-width=\"1\" stroke=\"gray\" d=\"M 230 382 235 368\" marker-end=\"url(#arrow-gray)\"/>\n",
       "<path stroke-width=\"1\" stroke=\"gray\" d=\"M 400 308 402 322\" marker-end=\"url(#arrow-gray)\"/>\n",
       "<path stroke-width=\"1\" stroke=\"gray\" d=\"M 435 341 443 332\" marker-end=\"url(#arrow-gray)\"/>\n",
       "<path stroke-width=\"1\" stroke=\"gray\" d=\"M 435 341 408 330\" marker-end=\"url(#arrow-gray)\"/>\n",
       "<path stroke-width=\"1\" stroke=\"gray\" d=\"M 401 289 400 302\" marker-end=\"url(#arrow-gray)\"/>\n",
       "<path stroke-width=\"1\" stroke=\"gray\" d=\"M 478 221 482 224\" marker-end=\"url(#arrow-gray)\"/>\n",
       "<path stroke-width=\"1\" stroke=\"gray\" d=\"M 441 226 437 221\" marker-end=\"url(#arrow-gray)\"/>\n",
       "<path stroke-width=\"1\" stroke=\"gray\" d=\"M 244 343 239 346\" marker-end=\"url(#arrow-gray)\"/>\n",
       "<path stroke-width=\"1\" stroke=\"gray\" d=\"M 263 178 262 184\" marker-end=\"url(#arrow-gray)\"/>\n",
       "<path stroke-width=\"1\" stroke=\"gray\" d=\"M 230 382 228 391\" marker-end=\"url(#arrow-gray)\"/>\n",
       "<path stroke-width=\"1\" stroke=\"gray\" d=\"M 218 345 232 358\" marker-end=\"url(#arrow-gray)\"/>\n",
       "<path stroke-width=\"1\" stroke=\"gray\" d=\"M 295 341 292 358\" marker-end=\"url(#arrow-gray)\"/>\n",
       "<path stroke-width=\"1\" stroke=\"gray\" d=\"M 295 341 293 342\" marker-end=\"url(#arrow-gray)\"/>\n",
       "<path stroke-width=\"1\" stroke=\"gray\" d=\"M 295 341 279 339\" marker-end=\"url(#arrow-gray)\"/>\n",
       "<path stroke-width=\"1\" stroke=\"gray\" d=\"M 387 305 399 323\" marker-end=\"url(#arrow-gray)\"/>\n",
       "<path stroke-width=\"1\" stroke=\"gray\" d=\"M 275 482 280 466\" marker-end=\"url(#arrow-gray)\"/>\n",
       "<path stroke-width=\"1\" stroke=\"gray\" d=\"M 118 204 114 210\" marker-end=\"url(#arrow-gray)\"/>\n",
       "<path stroke-width=\"1\" stroke=\"gray\" d=\"M 459 317 452 323\" marker-end=\"url(#arrow-gray)\"/>\n",
       "<path stroke-width=\"1\" stroke=\"gray\" d=\"M 291 364 288 351\" marker-end=\"url(#arrow-gray)\"/>\n",
       "<path stroke-width=\"1\" stroke=\"gray\" d=\"M 291 364 284 356\" marker-end=\"url(#arrow-gray)\"/>\n",
       "<path stroke-width=\"1\" stroke=\"gray\" d=\"M 291 364 287 342\" marker-end=\"url(#arrow-gray)\"/>\n",
       "<path stroke-width=\"1\" stroke=\"gray\" d=\"M 291 364 291 401\" marker-end=\"url(#arrow-gray)\"/>\n",
       "<path stroke-width=\"1\" stroke=\"gray\" d=\"M 412 316 406 323\" marker-end=\"url(#arrow-gray)\"/>\n",
       "<path stroke-width=\"1\" stroke=\"gray\" d=\"M 421 380 415 364\" marker-end=\"url(#arrow-gray)\"/>\n",
       "<path stroke-width=\"1\" stroke=\"gray\" d=\"M 447 363 438 347\" marker-end=\"url(#arrow-gray)\"/>\n",
       "<path stroke-width=\"1\" stroke=\"gray\" d=\"M 486 228 482 225\" marker-end=\"url(#arrow-gray)\"/>\n",
       "<path stroke-width=\"1\" stroke=\"gray\" d=\"M 244 343 239 356\" marker-end=\"url(#arrow-gray)\"/>\n",
       "<path stroke-width=\"1\" stroke=\"gray\" d=\"M 391 359 393 342\" marker-end=\"url(#arrow-gray)\"/>\n",
       "<path stroke-width=\"1\" stroke=\"gray\" d=\"M 287 431 282 454\" marker-end=\"url(#arrow-gray)\"/>\n",
       "<path stroke-width=\"1\" stroke=\"gray\" d=\"M 287 431 290 430\" marker-end=\"url(#arrow-gray)\"/>\n",
       "<path stroke-width=\"1\" stroke=\"gray\" d=\"M 402 328 408 321\" marker-end=\"url(#arrow-gray)\"/>\n",
       "<path stroke-width=\"1\" stroke=\"gray\" d=\"M 402 328 425 323\" marker-end=\"url(#arrow-gray)\"/>\n",
       "<path stroke-width=\"1\" stroke=\"gray\" d=\"M 402 328 372 334\" marker-end=\"url(#arrow-gray)\"/>\n",
       "<path stroke-width=\"1\" stroke=\"gray\" d=\"M 402 328 411 352\" marker-end=\"url(#arrow-gray)\"/>\n",
       "<path stroke-width=\"1\" stroke=\"gray\" d=\"M 402 328 416 333\" marker-end=\"url(#arrow-gray)\"/>\n",
       "<path stroke-width=\"1\" stroke=\"gray\" d=\"M 402 328 394 324\" marker-end=\"url(#arrow-gray)\"/>\n",
       "<path stroke-width=\"1\" stroke=\"gray\" d=\"M 237 362 232 376\" marker-end=\"url(#arrow-gray)\"/>\n",
       "<path stroke-width=\"1\" stroke=\"gray\" d=\"M 291 407 288 425\" marker-end=\"url(#arrow-gray)\"/>\n",
       "<path stroke-width=\"1\" stroke=\"gray\" d=\"M 296 427 292 413\" marker-end=\"url(#arrow-gray)\"/>\n",
       "<path stroke-width=\"1\" stroke=\"gray\" d=\"M 268 354 263 347\" marker-end=\"url(#arrow-gray)\"/>\n",
       "<path stroke-width=\"1\" stroke=\"gray\" d=\"M 268 354 273 353\" marker-end=\"url(#arrow-gray)\"/>\n",
       "<path stroke-width=\"1\" stroke=\"gray\" d=\"M 268 354 271 370\" marker-end=\"url(#arrow-gray)\"/>\n",
       "<path stroke-width=\"1\" stroke=\"gray\" d=\"M 268 354 243 361\" marker-end=\"url(#arrow-gray)\"/>\n",
       "<path stroke-width=\"1\" stroke=\"gray\" d=\"M 268 354 313 345\" marker-end=\"url(#arrow-gray)\"/>\n",
       "<path stroke-width=\"1\" stroke=\"gray\" d=\"M 296 427 293 428\" marker-end=\"url(#arrow-gray)\"/>\n",
       "<path stroke-width=\"1\" stroke=\"gray\" d=\"M 287 336 287 339\" marker-end=\"url(#arrow-gray)\"/>\n",
       "<path stroke-width=\"1\" stroke=\"gray\" d=\"M 273 338 281 336\" marker-end=\"url(#arrow-gray)\"/>\n",
       "<path stroke-width=\"1\" stroke=\"gray\" d=\"M 273 338 277 346\" marker-end=\"url(#arrow-gray)\"/>\n",
       "<path stroke-width=\"1\" stroke=\"gray\" d=\"M 431 322 441 326\" marker-end=\"url(#arrow-gray)\"/>\n",
       "<path stroke-width=\"1\" stroke=\"gray\" d=\"M 447 327 454 321\" marker-end=\"url(#arrow-gray)\"/>\n",
       "<path stroke-width=\"1\" stroke=\"gray\" d=\"M 447 327 439 336\" marker-end=\"url(#arrow-gray)\"/>\n",
       "<path stroke-width=\"1\" stroke=\"gray\" d=\"M 447 327 437 323\" marker-end=\"url(#arrow-gray)\"/>\n",
       "<path stroke-width=\"1\" stroke=\"gray\" d=\"M 366 335 396 329\" marker-end=\"url(#arrow-gray)\"/>\n",
       "<path stroke-width=\"1\" stroke=\"gray\" d=\"M 366 335 325 343\" marker-end=\"url(#arrow-gray)\"/>\n",
       "<path stroke-width=\"1\" stroke=\"gray\" d=\"M 260 342 265 349\" marker-end=\"url(#arrow-gray)\"/>\n",
       "<path stroke-width=\"1\" stroke=\"gray\" d=\"M 287 345 289 344\" marker-end=\"url(#arrow-gray)\"/>\n",
       "<path stroke-width=\"1\" stroke=\"gray\" d=\"M 287 345 290 358\" marker-end=\"url(#arrow-gray)\"/>\n",
       "<path stroke-width=\"1\" stroke=\"gray\" d=\"M 287 345 279 341\" marker-end=\"url(#arrow-gray)\"/>\n",
       "<path stroke-width=\"1\" stroke=\"gray\" d=\"M 287 345 287 342\" marker-end=\"url(#arrow-gray)\"/>\n",
       "<path stroke-width=\"1\" stroke=\"gray\" d=\"M 273 338 250 342\" marker-end=\"url(#arrow-gray)\"/>\n",
       "<path stroke-width=\"1\" stroke=\"gray\" d=\"M 273 338 266 340\" marker-end=\"url(#arrow-gray)\"/>\n",
       "<path stroke-width=\"1\" stroke=\"gray\" d=\"M 273 338 281 342\" marker-end=\"url(#arrow-gray)\"/>\n",
       "<path stroke-width=\"1\" stroke=\"gray\" d=\"M 287 431 290 413\" marker-end=\"url(#arrow-gray)\"/>\n",
       "<circle cx=\"204\" cy=\"350\" r=\"7.0\" style=\"fill:yellow;stroke:black;stroke-width:1.0\"/>\n",
       "<circle cx=\"389\" cy=\"320\" r=\"7.0\" style=\"fill:purple;stroke:black;stroke-width:1.0\"/>\n",
       "<circle cx=\"369\" cy=\"503\" r=\"7.0\" style=\"fill:green;stroke:black;stroke-width:1.0\"/>\n",
       "<circle cx=\"268\" cy=\"354\" r=\"7.0\" style=\"fill:orange;stroke:black;stroke-width:1.0\"/>\n",
       "<circle cx=\"296\" cy=\"427\" r=\"7.0\" style=\"fill:orange;stroke:black;stroke-width:1.0\"/>\n",
       "<circle cx=\"620\" cy=\"266\" r=\"7.0\" style=\"fill:olive;stroke:black;stroke-width:1.0\"/>\n",
       "<circle cx=\"319\" cy=\"344\" r=\"7.0\" style=\"fill:orange;stroke:black;stroke-width:1.0\"/>\n",
       "<circle cx=\"422\" cy=\"334\" r=\"7.0\" style=\"fill:purple;stroke:black;stroke-width:1.0\"/>\n",
       "<circle cx=\"291\" cy=\"407\" r=\"7.0\" style=\"fill:orange;stroke:black;stroke-width:1.0\"/>\n",
       "<circle cx=\"402\" cy=\"328\" r=\"7.0\" style=\"fill:aqua;stroke:black;stroke-width:1.0\"/>\n",
       "<circle cx=\"398\" cy=\"620\" r=\"7.0\" style=\"fill:yellow;stroke:black;stroke-width:1.0\"/>\n",
       "<circle cx=\"237\" cy=\"362\" r=\"7.0\" style=\"fill:red;stroke:black;stroke-width:1.0\"/>\n",
       "<circle cx=\"20\" cy=\"221\" r=\"7.0\" style=\"fill:yellow;stroke:black;stroke-width:1.0\"/>\n",
       "<circle cx=\"433\" cy=\"216\" r=\"7.0\" style=\"fill:olive;stroke:black;stroke-width:1.0\"/>\n",
       "<circle cx=\"203\" cy=\"246\" r=\"7.0\" style=\"fill:fuchsia;stroke:black;stroke-width:1.0\"/>\n",
       "<circle cx=\"112\" cy=\"216\" r=\"7.0\" style=\"fill:red;stroke:black;stroke-width:1.0\"/>\n",
       "<circle cx=\"271\" cy=\"376\" r=\"7.0\" style=\"fill:yellow;stroke:black;stroke-width:1.0\"/>\n",
       "<circle cx=\"281\" cy=\"460\" r=\"7.0\" style=\"fill:orange;stroke:black;stroke-width:1.0\"/>\n",
       "<circle cx=\"287\" cy=\"336\" r=\"7.0\" style=\"fill:orange;stroke:black;stroke-width:1.0\"/>\n",
       "<circle cx=\"279\" cy=\"352\" r=\"7.0\" style=\"fill:orange;stroke:black;stroke-width:1.0\"/>\n",
       "<circle cx=\"273\" cy=\"338\" r=\"7.0\" style=\"fill:orange;stroke:black;stroke-width:1.0\"/>\n",
       "<circle cx=\"413\" cy=\"358\" r=\"7.0\" style=\"fill:aqua;stroke:black;stroke-width:1.0\"/>\n",
       "<circle cx=\"287\" cy=\"345\" r=\"7.0\" style=\"fill:orange;stroke:black;stroke-width:1.0\"/>\n",
       "<circle cx=\"260\" cy=\"342\" r=\"7.0\" style=\"fill:orange;stroke:black;stroke-width:1.0\"/>\n",
       "<circle cx=\"310\" cy=\"74\" r=\"7.0\" style=\"fill:aqua;stroke:black;stroke-width:1.0\"/>\n",
       "<circle cx=\"261\" cy=\"190\" r=\"7.0\" style=\"fill:purple;stroke:black;stroke-width:1.0\"/>\n",
       "<circle cx=\"366\" cy=\"335\" r=\"7.0\" style=\"fill:purple;stroke:black;stroke-width:1.0\"/>\n",
       "<circle cx=\"117\" cy=\"464\" r=\"7.0\" style=\"fill:red;stroke:black;stroke-width:1.0\"/>\n",
       "<circle cx=\"447\" cy=\"327\" r=\"7.0\" style=\"fill:blue;stroke:black;stroke-width:1.0\"/>\n",
       "<circle cx=\"431\" cy=\"322\" r=\"7.0\" style=\"fill:blue;stroke:black;stroke-width:1.0\"/>\n",
       "<circle cx=\"287\" cy=\"431\" r=\"7.0\" style=\"fill:orange;stroke:black;stroke-width:1.0\"/>\n",
       "<circle cx=\"352\" cy=\"403\" r=\"7.0\" style=\"fill:red;stroke:black;stroke-width:1.0\"/>\n",
       "<circle cx=\"244\" cy=\"343\" r=\"7.0\" style=\"fill:yellow;stroke:black;stroke-width:1.0\"/>\n",
       "<circle cx=\"191\" cy=\"441\" r=\"7.0\" style=\"fill:yellow;stroke:black;stroke-width:1.0\"/>\n",
       "<circle cx=\"441\" cy=\"226\" r=\"7.0\" style=\"fill:green;stroke:black;stroke-width:1.0\"/>\n",
       "<circle cx=\"478\" cy=\"221\" r=\"7.0\" style=\"fill:yellow;stroke:black;stroke-width:1.0\"/>\n",
       "<circle cx=\"176\" cy=\"513\" r=\"7.0\" style=\"fill:aqua;stroke:black;stroke-width:1.0\"/>\n",
       "<circle cx=\"401\" cy=\"289\" r=\"7.0\" style=\"fill:purple;stroke:black;stroke-width:1.0\"/>\n",
       "<circle cx=\"279\" cy=\"258\" r=\"7.0\" style=\"fill:red;stroke:black;stroke-width:1.0\"/>\n",
       "<circle cx=\"435\" cy=\"341\" r=\"7.0\" style=\"fill:blue;stroke:black;stroke-width:1.0\"/>\n",
       "<circle cx=\"171\" cy=\"283\" r=\"7.0\" style=\"fill:blue;stroke:black;stroke-width:1.0\"/>\n",
       "<circle cx=\"263\" cy=\"178\" r=\"7.0\" style=\"fill:brown;stroke:black;stroke-width:1.0\"/>\n",
       "<circle cx=\"516\" cy=\"433\" r=\"7.0\" style=\"fill:red;stroke:black;stroke-width:1.0\"/>\n",
       "<circle cx=\"400\" cy=\"308\" r=\"7.0\" style=\"fill:purple;stroke:black;stroke-width:1.0\"/>\n",
       "<circle cx=\"493\" cy=\"488\" r=\"7.0\" style=\"fill:fuchsia;stroke:black;stroke-width:1.0\"/>\n",
       "<circle cx=\"228\" cy=\"397\" r=\"7.0\" style=\"fill:fuchsia;stroke:black;stroke-width:1.0\"/>\n",
       "<circle cx=\"233\" cy=\"349\" r=\"7.0\" style=\"fill:purple;stroke:black;stroke-width:1.0\"/>\n",
       "<circle cx=\"230\" cy=\"382\" r=\"7.0\" style=\"fill:red;stroke:black;stroke-width:1.0\"/>\n",
       "<circle cx=\"218\" cy=\"345\" r=\"7.0\" style=\"fill:red;stroke:black;stroke-width:1.0\"/>\n",
       "<circle cx=\"486\" cy=\"228\" r=\"7.0\" style=\"fill:yellow;stroke:black;stroke-width:1.0\"/>\n",
       "<circle cx=\"447\" cy=\"363\" r=\"7.0\" style=\"fill:blue;stroke:black;stroke-width:1.0\"/>\n",
       "<circle cx=\"393\" cy=\"336\" r=\"7.0\" style=\"fill:orange;stroke:black;stroke-width:1.0\"/>\n",
       "<circle cx=\"236\" cy=\"141\" r=\"7.0\" style=\"fill:red;stroke:black;stroke-width:1.0\"/>\n",
       "<circle cx=\"421\" cy=\"380\" r=\"7.0\" style=\"fill:aqua;stroke:black;stroke-width:1.0\"/>\n",
       "<circle cx=\"251\" cy=\"20\" r=\"7.0\" style=\"fill:purple;stroke:black;stroke-width:1.0\"/>\n",
       "<circle cx=\"412\" cy=\"316\" r=\"7.0\" style=\"fill:aqua;stroke:black;stroke-width:1.0\"/>\n",
       "<circle cx=\"211\" cy=\"205\" r=\"7.0\" style=\"fill:yellow;stroke:black;stroke-width:1.0\"/>\n",
       "<circle cx=\"355\" cy=\"537\" r=\"7.0\" style=\"fill:red;stroke:black;stroke-width:1.0\"/>\n",
       "<circle cx=\"515\" cy=\"383\" r=\"7.0\" style=\"fill:brown;stroke:black;stroke-width:1.0\"/>\n",
       "<circle cx=\"291\" cy=\"364\" r=\"7.0\" style=\"fill:orange;stroke:black;stroke-width:1.0\"/>\n",
       "<circle cx=\"459\" cy=\"317\" r=\"7.0\" style=\"fill:blue;stroke:black;stroke-width:1.0\"/>\n",
       "<circle cx=\"147\" cy=\"225\" r=\"7.0\" style=\"fill:red;stroke:black;stroke-width:1.0\"/>\n",
       "<circle cx=\"118\" cy=\"204\" r=\"7.0\" style=\"fill:red;stroke:black;stroke-width:1.0\"/>\n",
       "<circle cx=\"527\" cy=\"282\" r=\"7.0\" style=\"fill:purple;stroke:black;stroke-width:1.0\"/>\n",
       "<circle cx=\"275\" cy=\"482\" r=\"7.0\" style=\"fill:orange;stroke:black;stroke-width:1.0\"/>\n",
       "<circle cx=\"387\" cy=\"305\" r=\"7.0\" style=\"fill:yellow;stroke:black;stroke-width:1.0\"/>\n",
       "<circle cx=\"136\" cy=\"90\" r=\"7.0\" style=\"fill:purple;stroke:black;stroke-width:1.0\"/>\n",
       "<circle cx=\"295\" cy=\"341\" r=\"7.0\" style=\"fill:orange;stroke:black;stroke-width:1.0\"/>\n",
       "<circle cx=\"391\" cy=\"359\" r=\"7.0\" style=\"fill:orange;stroke:black;stroke-width:1.0\"/>\n",
       "<circle cx=\"105\" cy=\"391\" r=\"7.0\" style=\"fill:brown;stroke:black;stroke-width:1.0\"/>\n",
       "<text text-anchor=\"start\" x=\"214\" y=\"350\" font-size=\"12\">Rice</text><text text-anchor=\"start\" x=\"399\" y=\"320\" font-size=\"12\">Watch</text><text text-anchor=\"start\" x=\"379\" y=\"503\" font-size=\"12\">Baruch Spinoza</text><text text-anchor=\"start\" x=\"278\" y=\"354\" font-size=\"12\">Ethanol</text><text text-anchor=\"start\" x=\"306\" y=\"427\" font-size=\"12\">Wave</text><text text-anchor=\"start\" x=\"630\" y=\"266\" font-size=\"12\">Florence Nightingale</text><text text-anchor=\"start\" x=\"329\" y=\"344\" font-size=\"12\">Michael Faraday</text><text text-anchor=\"start\" x=\"432\" y=\"334\" font-size=\"12\">Telephone</text><text text-anchor=\"start\" x=\"301\" y=\"407\" font-size=\"12\">Ultraviolet</text><text text-anchor=\"start\" x=\"412\" y=\"328\" font-size=\"12\">Computer</text><text text-anchor=\"start\" x=\"408\" y=\"620\" font-size=\"12\">Jaws (film)</text><text text-anchor=\"start\" x=\"247\" y=\"362\" font-size=\"12\">Virus</text><text text-anchor=\"start\" x=\"30\" y=\"221\" font-size=\"12\">Animation</text><text text-anchor=\"start\" x=\"443\" y=\"216\" font-size=\"12\">Mahatma Gandhi</text><text text-anchor=\"start\" x=\"213\" y=\"246\" font-size=\"12\">Amish</text><text text-anchor=\"start\" x=\"122\" y=\"216\" font-size=\"12\">Musical instrument</text><text text-anchor=\"start\" x=\"281\" y=\"376\" font-size=\"12\">Sugar</text><text text-anchor=\"start\" x=\"291\" y=\"460\" font-size=\"12\">Special relativity</text><text text-anchor=\"start\" x=\"297\" y=\"336\" font-size=\"12\">Chemical element</text><text text-anchor=\"start\" x=\"289\" y=\"352\" font-size=\"12\">Phase (matter)</text><text text-anchor=\"start\" x=\"283\" y=\"338\" font-size=\"12\">Bromine</text><text text-anchor=\"start\" x=\"423\" y=\"358\" font-size=\"12\">Unix</text><text text-anchor=\"start\" x=\"297\" y=\"345\" font-size=\"12\">Periodic table</text><text text-anchor=\"start\" x=\"270\" y=\"342\" font-size=\"12\">Alcohol</text><text text-anchor=\"start\" x=\"320\" y=\"74\" font-size=\"12\">RSS (file format)</text><text text-anchor=\"start\" x=\"271\" y=\"190\" font-size=\"12\">Crime</text><text text-anchor=\"start\" x=\"376\" y=\"335\" font-size=\"12\">Electrical engineering</text><text text-anchor=\"start\" x=\"127\" y=\"464\" font-size=\"12\">Color blindness</text><text text-anchor=\"start\" x=\"457\" y=\"327\" font-size=\"12\">Group (mathematics)</text><text text-anchor=\"start\" x=\"441\" y=\"322\" font-size=\"12\">Matrix (mathematics)</text><text text-anchor=\"start\" x=\"297\" y=\"431\" font-size=\"12\">Electromagnetic radiation</text><text text-anchor=\"start\" x=\"362\" y=\"403\" font-size=\"12\">Moss</text><text text-anchor=\"start\" x=\"254\" y=\"343\" font-size=\"12\">Water purification</text><text text-anchor=\"start\" x=\"201\" y=\"441\" font-size=\"12\">Ice hockey</text><text text-anchor=\"start\" x=\"451\" y=\"226\" font-size=\"12\">Henry David Thoreau</text><text text-anchor=\"start\" x=\"488\" y=\"221\" font-size=\"12\">Board game</text><text text-anchor=\"start\" x=\"186\" y=\"513\" font-size=\"12\">Architecture of Windows NT</text><text text-anchor=\"start\" x=\"411\" y=\"289\" font-size=\"12\">Axe</text><text text-anchor=\"start\" x=\"289\" y=\"258\" font-size=\"12\">Tern</text><text text-anchor=\"start\" x=\"445\" y=\"341\" font-size=\"12\">Prime number</text><text text-anchor=\"start\" x=\"181\" y=\"283\" font-size=\"12\">Arts and crafts</text><text text-anchor=\"start\" x=\"273\" y=\"178\" font-size=\"12\">Robinson Crusoe</text><text text-anchor=\"start\" x=\"526\" y=\"433\" font-size=\"12\">Jackdaw</text><text text-anchor=\"start\" x=\"410\" y=\"308\" font-size=\"12\">Weapon</text><text text-anchor=\"start\" x=\"503\" y=\"488\" font-size=\"12\">Azerbaijani people</text><text text-anchor=\"start\" x=\"238\" y=\"397\" font-size=\"12\">Biosphere</text><text text-anchor=\"start\" x=\"243\" y=\"349\" font-size=\"12\">Biofuel</text><text text-anchor=\"start\" x=\"240\" y=\"382\" font-size=\"12\">Life</text><text text-anchor=\"start\" x=\"228\" y=\"345\" font-size=\"12\">Genetic code</text><text text-anchor=\"start\" x=\"496\" y=\"228\" font-size=\"12\">Go (board game)</text><text text-anchor=\"start\" x=\"457\" y=\"363\" font-size=\"12\">Venn diagram</text><text text-anchor=\"start\" x=\"403\" y=\"336\" font-size=\"12\">Force</text><text text-anchor=\"start\" x=\"246\" y=\"141\" font-size=\"12\">Nuthatch</text><text text-anchor=\"start\" x=\"431\" y=\"380\" font-size=\"12\">ROT13</text><text text-anchor=\"start\" x=\"261\" y=\"20\" font-size=\"12\">Canadian House of Commons</text><text text-anchor=\"start\" x=\"422\" y=\"316\" font-size=\"12\">History of computing hardware</text><text text-anchor=\"start\" x=\"221\" y=\"205\" font-size=\"12\">PONG</text><text text-anchor=\"start\" x=\"365\" y=\"537\" font-size=\"12\">Rook (bird)</text><text text-anchor=\"start\" x=\"525\" y=\"383\" font-size=\"12\">Matsuo Bashō</text><text text-anchor=\"start\" x=\"301\" y=\"364\" font-size=\"12\">Erbium</text><text text-anchor=\"start\" x=\"469\" y=\"317\" font-size=\"12\">Elementary group theory</text><text text-anchor=\"start\" x=\"157\" y=\"225\" font-size=\"12\">Fieldfare</text><text text-anchor=\"start\" x=\"128\" y=\"204\" font-size=\"12\">Tin whistle</text><text text-anchor=\"start\" x=\"537\" y=\"282\" font-size=\"12\">Refrigerator car</text><text text-anchor=\"start\" x=\"285\" y=\"482\" font-size=\"12\">Introduction to special relativity</text><text text-anchor=\"start\" x=\"397\" y=\"305\" font-size=\"12\">Mahjong</text><text text-anchor=\"start\" x=\"146\" y=\"90\" font-size=\"12\">Optical microscope</text><text text-anchor=\"start\" x=\"305\" y=\"341\" font-size=\"12\">Periodic table (large version)</text><text text-anchor=\"start\" x=\"401\" y=\"359\" font-size=\"12\">Spacecraft propulsion</text><text text-anchor=\"start\" x=\"115\" y=\"391\" font-size=\"12\">The Famous Five (characters)</text></svg>"
      ],
      "text/plain": [
       "<IPython.core.display.SVG object>"
      ]
     },
     "execution_count": 150,
     "metadata": {},
     "output_type": "execute_result"
    }
   ],
   "source": [
    "nodes = np.array([93, 301, 323, 440, 495, 532, 559, 586, 617, 750, 807, 952, 990, 1007, 1010, 1014, 1182, 1214, 1224, 1236, 1245, 1275, 1285, 1353, 1574, 1629, 1706, 1740, 1820, 1823, 1894, 1900, 1927, 2037, 2067, 2076, 2192, 2197, 2215, 2246, 2295, 2394, 2460, 2466, 2477, 2752, 2756, 2761, 2769, 2852, 2885, 2956, 3007, 3038, 3046, 3282, 3305, 3348, 3484, 3494, 3555, 3660, 3684, 3809, 3954, 4088, 4115, 4207, 4243, 4336])\n",
    "print(words[0])\n",
    "SVG(svg_graph(adjacency[nodes, :][:, nodes], labels=labels[nodes], names=names[nodes], width=600, height=600))"
   ]
  },
  {
   "cell_type": "code",
   "execution_count": 156,
   "id": "ae7dc9ea-499e-45f3-bccc-1e0b8f73f635",
   "metadata": {},
   "outputs": [],
   "source": [
    "# Initialization\n",
    "extents, intents = init_inclose(biadjacency)\n",
    "degs = get_degrees(biadjacency, transpose=True)\n",
    "global r_new\n",
    "r_new = 0\n",
    "\n",
    "# Degree of attribute = # articles in which it appears\n",
    "freq_attribute = get_degrees(biadjacency.astype(bool), transpose=True)\n",
    "index = np.flatnonzero((freq_attribute <= 1000) & (freq_attribute >= 10))\n",
    "\n",
    "# Filter data with index\n",
    "biadjacency = biadjacency[:, index]\n",
    "words = words[index]\n",
    "freq_attribute = freq_attribute[index]\n",
    "\n",
    "# Order attributes according to their ascending degree\n",
    "# This allows to add first attributes that will generate bigger subgraphs\n",
    "sort_index = np.argsort(freq_attribute)\n",
    "sorted_degs = freq_attribute[sort_index]\n",
    "filt_biadjacency = biadjacency[:, sort_index]\n",
    "sorted_names_col = words[sort_index]"
   ]
  },
  {
   "cell_type": "code",
   "execution_count": 157,
   "id": "cd310d9e-5d25-4631-b265-081fda57bddc",
   "metadata": {},
   "outputs": [
    {
     "ename": "KeyboardInterrupt",
     "evalue": "",
     "output_type": "error",
     "traceback": [
      "\u001b[0;31m---------------------------------------------------------------------------\u001b[0m",
      "\u001b[0;31mKeyboardInterrupt\u001b[0m                         Traceback (most recent call last)",
      "Input \u001b[0;32mIn [157]\u001b[0m, in \u001b[0;36m<cell line: 2>\u001b[0;34m()\u001b[0m\n\u001b[1;32m      2\u001b[0m \u001b[38;5;28;01mwith\u001b[39;00m \u001b[38;5;28mopen\u001b[39m(\u001b[38;5;124m'\u001b[39m\u001b[38;5;124mlogs/log_wikivitals_closed_concepts_test.txt\u001b[39m\u001b[38;5;124m'\u001b[39m, \u001b[38;5;124m'\u001b[39m\u001b[38;5;124mw\u001b[39m\u001b[38;5;124m'\u001b[39m) \u001b[38;5;28;01mas\u001b[39;00m f:\n\u001b[1;32m      3\u001b[0m     \u001b[38;5;28;01mwith\u001b[39;00m redirect_stdout(f):\n\u001b[0;32m----> 4\u001b[0m         concepts \u001b[38;5;241m=\u001b[39m \u001b[43min_close_new\u001b[49m\u001b[43m(\u001b[49m\u001b[43madjacency\u001b[49m\u001b[43m,\u001b[49m\u001b[43m \u001b[49m\u001b[43mfilt_biadjacency\u001b[49m\u001b[43m,\u001b[49m\u001b[43m \u001b[49m\u001b[43mextents\u001b[49m\u001b[43m,\u001b[49m\u001b[43m \u001b[49m\u001b[43mintents\u001b[49m\u001b[43m,\u001b[49m\u001b[43m \u001b[49m\u001b[43mr\u001b[49m\u001b[38;5;241;43m=\u001b[39;49m\u001b[38;5;241;43m0\u001b[39;49m\u001b[43m,\u001b[49m\u001b[43m \u001b[49m\u001b[43my\u001b[49m\u001b[38;5;241;43m=\u001b[39;49m\u001b[38;5;241;43m0\u001b[39;49m\u001b[43m,\u001b[49m\u001b[43m \u001b[49m\n\u001b[1;32m      5\u001b[0m \u001b[43m                                \u001b[49m\u001b[43mmin_support\u001b[49m\u001b[38;5;241;43m=\u001b[39;49m\u001b[38;5;241;43m5\u001b[39;49m\u001b[43m,\u001b[49m\u001b[43m \u001b[49m\u001b[43mmax_support\u001b[49m\u001b[38;5;241;43m=\u001b[39;49m\u001b[38;5;241;43m1000\u001b[39;49m\u001b[43m,\u001b[49m\n\u001b[1;32m      6\u001b[0m \u001b[43m                                \u001b[49m\u001b[43mdegs\u001b[49m\u001b[38;5;241;43m=\u001b[39;49m\u001b[43msorted_degs\u001b[49m\u001b[43m,\u001b[49m\u001b[43m \u001b[49m\u001b[43munexs_g\u001b[49m\u001b[38;5;241;43m=\u001b[39;49m\u001b[43m[\u001b[49m\u001b[38;5;241;43m0\u001b[39;49m\u001b[43m]\u001b[49m\u001b[43m,\u001b[49m\u001b[43m \u001b[49m\u001b[43munexs_a\u001b[49m\u001b[38;5;241;43m=\u001b[39;49m\u001b[43m[\u001b[49m\u001b[38;5;241;43m0\u001b[39;49m\u001b[43m]\u001b[49m\u001b[43m,\u001b[49m\u001b[43m \u001b[49m\u001b[43munexs\u001b[49m\u001b[38;5;241;43m=\u001b[39;49m\u001b[43m[\u001b[49m\u001b[38;5;241;43m0\u001b[39;49m\u001b[43m]\u001b[49m\u001b[43m,\u001b[49m\u001b[43m \u001b[49m\u001b[43mnames_col\u001b[49m\u001b[38;5;241;43m=\u001b[39;49m\u001b[43msorted_names_col\u001b[49m\u001b[43m)\u001b[49m\n\u001b[1;32m      7\u001b[0m         \u001b[38;5;28mprint\u001b[39m()\n\u001b[1;32m      9\u001b[0m \u001b[38;5;28mprint\u001b[39m(\u001b[38;5;28mlen\u001b[39m(concepts))\n",
      "Input \u001b[0;32mIn [155]\u001b[0m, in \u001b[0;36min_close_new\u001b[0;34m(adjacency, context, extents, intents, r, y, min_support, max_support, degs, unexs_g, unexs_a, unexs, names_col)\u001b[0m\n\u001b[1;32m     82\u001b[0m                     len_new_intent \u001b[38;5;241m=\u001b[39m \u001b[38;5;28mlen\u001b[39m(intents[r_new])\n\u001b[1;32m     83\u001b[0m                     \u001b[38;5;28mprint\u001b[39m(\u001b[38;5;124mf\u001b[39m\u001b[38;5;124m'\u001b[39m\u001b[38;5;124m  --> Enter recursion with Intent: \u001b[39m\u001b[38;5;132;01m{\u001b[39;00mnames_col[intents[r_new]]\u001b[38;5;132;01m}\u001b[39;00m\u001b[38;5;124m...\u001b[39m\u001b[38;5;124m'\u001b[39m)\n\u001b[0;32m---> 84\u001b[0m                     \u001b[43min_close_new\u001b[49m\u001b[43m(\u001b[49m\u001b[43madjacency\u001b[49m\u001b[43m,\u001b[49m\u001b[43m \u001b[49m\u001b[43mcontext\u001b[49m\u001b[43m,\u001b[49m\u001b[43m \u001b[49m\u001b[43mextents\u001b[49m\u001b[43m,\u001b[49m\u001b[43m \u001b[49m\u001b[43mintents\u001b[49m\u001b[43m,\u001b[49m\u001b[43m \u001b[49m\u001b[43mr\u001b[49m\u001b[38;5;241;43m=\u001b[39;49m\u001b[43mr_new\u001b[49m\u001b[43m,\u001b[49m\u001b[43m \u001b[49m\u001b[43my\u001b[49m\u001b[38;5;241;43m=\u001b[39;49m\u001b[43mj\u001b[49m\u001b[38;5;241;43m+\u001b[39;49m\u001b[38;5;241;43m1\u001b[39;49m\u001b[43m,\u001b[49m\u001b[43m \u001b[49m\u001b[43mmin_support\u001b[49m\u001b[38;5;241;43m=\u001b[39;49m\u001b[43mmin_support\u001b[49m\u001b[43m,\u001b[49m\u001b[43m \u001b[49m\u001b[43mmax_support\u001b[49m\u001b[38;5;241;43m=\u001b[39;49m\u001b[43mmax_support\u001b[49m\u001b[43m,\u001b[49m\u001b[43m \u001b[49m\n\u001b[1;32m     85\u001b[0m \u001b[43m                                 \u001b[49m\u001b[43mdegs\u001b[49m\u001b[38;5;241;43m=\u001b[39;49m\u001b[43mdegs\u001b[49m\u001b[43m,\u001b[49m\u001b[43m \u001b[49m\u001b[43munexs_g\u001b[49m\u001b[38;5;241;43m=\u001b[39;49m\u001b[43munexs_g\u001b[49m\u001b[43m,\u001b[49m\u001b[43m \u001b[49m\u001b[43munexs_a\u001b[49m\u001b[38;5;241;43m=\u001b[39;49m\u001b[43munexs_a\u001b[49m\u001b[43m,\u001b[49m\u001b[43m \u001b[49m\u001b[43munexs\u001b[49m\u001b[38;5;241;43m=\u001b[39;49m\u001b[43munexs\u001b[49m\u001b[43m,\u001b[49m\u001b[43m \u001b[49m\u001b[43mnames_col\u001b[49m\u001b[38;5;241;43m=\u001b[39;49m\u001b[43mnames_col\u001b[49m\u001b[43m)\u001b[49m\n\u001b[1;32m     87\u001b[0m \u001b[38;5;28mprint\u001b[39m(\u001b[38;5;124mf\u001b[39m\u001b[38;5;124m'\u001b[39m\u001b[38;5;124m**END FUNCTION\u001b[39m\u001b[38;5;124m'\u001b[39m)\n\u001b[1;32m     88\u001b[0m \u001b[38;5;28mprint\u001b[39m(\u001b[38;5;124mf\u001b[39m\u001b[38;5;124m'\u001b[39m\u001b[38;5;124m**concept: (\u001b[39m\u001b[38;5;132;01m{\u001b[39;00m[\u001b[38;5;241m*\u001b[39m\u001b[38;5;28mzip\u001b[39m(extents, intents)]\u001b[38;5;132;01m}\u001b[39;00m\u001b[38;5;124m)\u001b[39m\u001b[38;5;124m'\u001b[39m)\n",
      "Input \u001b[0;32mIn [155]\u001b[0m, in \u001b[0;36min_close_new\u001b[0;34m(adjacency, context, extents, intents, r, y, min_support, max_support, degs, unexs_g, unexs_a, unexs, names_col)\u001b[0m\n\u001b[1;32m     43\u001b[0m     unexs\u001b[38;5;241m.\u001b[39mappend(\u001b[38;5;241m0\u001b[39m)\n\u001b[1;32m     45\u001b[0m \u001b[38;5;66;03m# Form a new extent by adding extension of attribute j to current concept extent\u001b[39;00m\n\u001b[0;32m---> 46\u001b[0m ext_j \u001b[38;5;241m=\u001b[39m \u001b[38;5;28mset\u001b[39m(\u001b[43mextension\u001b[49m\u001b[43m(\u001b[49m\u001b[43m[\u001b[49m\u001b[43mj\u001b[49m\u001b[43m]\u001b[49m\u001b[43m,\u001b[49m\u001b[43m \u001b[49m\u001b[43mcontext\u001b[49m\u001b[43m)\u001b[49m)\n\u001b[1;32m     47\u001b[0m extents[r_new] \u001b[38;5;241m=\u001b[39m \u001b[38;5;28mlist\u001b[39m(\u001b[38;5;28msorted\u001b[39m(\u001b[38;5;28mset\u001b[39m(extents[r])\u001b[38;5;241m.\u001b[39mintersection(ext_j)))\n\u001b[1;32m     48\u001b[0m len_new_extent \u001b[38;5;241m=\u001b[39m \u001b[38;5;28mlen\u001b[39m(extents[r_new])\n",
      "Input \u001b[0;32mIn [114]\u001b[0m, in \u001b[0;36mextension\u001b[0;34m(attrs, context)\u001b[0m\n\u001b[1;32m     27\u001b[0m     \u001b[38;5;28;01mreturn\u001b[39;00m np\u001b[38;5;241m.\u001b[39marange(\u001b[38;5;241m0\u001b[39m, context\u001b[38;5;241m.\u001b[39mshape[\u001b[38;5;241m0\u001b[39m])\n\u001b[1;32m     28\u001b[0m \u001b[38;5;28;01mfor\u001b[39;00m a \u001b[38;5;129;01min\u001b[39;00m attrs:\n\u001b[0;32m---> 29\u001b[0m     nodes \u001b[38;5;241m=\u001b[39m \u001b[38;5;28;43mset\u001b[39;49m\u001b[43m(\u001b[49m\u001b[43mget_neighbors\u001b[49m\u001b[43m(\u001b[49m\u001b[43mcontext\u001b[49m\u001b[43m,\u001b[49m\u001b[43m \u001b[49m\u001b[43mnode\u001b[49m\u001b[38;5;241;43m=\u001b[39;49m\u001b[43ma\u001b[49m\u001b[43m,\u001b[49m\u001b[43m \u001b[49m\u001b[43mtranspose\u001b[49m\u001b[38;5;241;43m=\u001b[39;49m\u001b[38;5;28;43;01mTrue\u001b[39;49;00m\u001b[43m)\u001b[49m\u001b[43m)\u001b[49m\n\u001b[1;32m     30\u001b[0m     \u001b[38;5;28;01mif\u001b[39;00m \u001b[38;5;28mlen\u001b[39m(ext) \u001b[38;5;241m==\u001b[39m \u001b[38;5;241m0\u001b[39m:\n\u001b[1;32m     31\u001b[0m         ext\u001b[38;5;241m.\u001b[39mupdate(nodes)\n",
      "\u001b[0;31mKeyboardInterrupt\u001b[0m: "
     ]
    }
   ],
   "source": [
    "# Algorithm\n",
    "with open('logs/log_wikivitals_closed_concepts_test.txt', 'w') as f:\n",
    "    with redirect_stdout(f):\n",
    "        concepts = in_close_new(adjacency, filt_biadjacency, extents, intents, r=0, y=0, \n",
    "                                min_support=5, max_support=1000,\n",
    "                                degs=sorted_degs, unexs_g=[0], unexs_a=[0], unexs=[0], names_col=sorted_names_col)\n",
    "        print()\n",
    "\n",
    "print(len(concepts))"
   ]
  },
  {
   "cell_type": "code",
   "execution_count": 80,
   "id": "0a298870-edf9-4f54-82f3-4bd8a1729d98",
   "metadata": {},
   "outputs": [
    {
     "name": "stdout",
     "output_type": "stream",
     "text": [
      "[0 1 2 3 4 5 6 7] []\n",
      "[0, 1, 2, 3, 4, 5, 6] ['a' 'b']\n",
      "[] []\n",
      "[6, 7] ['g']\n"
     ]
    }
   ],
   "source": [
    "for c in concepts:\n",
    "    print(c[0], words[c[1]])"
   ]
  },
  {
   "cell_type": "code",
   "execution_count": null,
   "id": "1c912f31-d574-4baf-90fe-83ceaa94ee84",
   "metadata": {},
   "outputs": [],
   "source": []
  },
  {
   "cell_type": "code",
   "execution_count": null,
   "id": "6892d0ad-3c56-47f0-b77e-b6f2a6e3dea5",
   "metadata": {},
   "outputs": [],
   "source": []
  },
  {
   "cell_type": "code",
   "execution_count": null,
   "id": "25a1ad96-38a9-4190-af74-7d97a942e920",
   "metadata": {},
   "outputs": [],
   "source": []
  },
  {
   "cell_type": "code",
   "execution_count": 77,
   "id": "b78e5a28-fbae-4ed3-805a-2b744c68774d",
   "metadata": {},
   "outputs": [
    {
     "name": "stdout",
     "output_type": "stream",
     "text": [
      "NEW ITERATION \n",
      " --------\n",
      "extents: [0 1 2 3 4 5 6 7] - intents: []\n",
      "  Candidate attr: a\n",
      "  new extent: [0, 1, 2, 3, 4, 5, 6]\n",
      "  Extent size DID change. IsCannonical: True\n",
      "   New branch will be created, compute U of current concept.\n",
      "  Intent: ['a']\n",
      "  --> Enter recursion...\n",
      "  U difference; 0\n",
      "      **Unexpectedness: [0, 0]\n",
      "NEW ITERATION \n",
      " --------\n",
      "extents: [0, 1, 2, 3, 4, 5, 6] - intents: ['a']\n",
      "  Candidate attr: b\n",
      "  new extent: [0, 1, 2, 3, 4, 5, 6]\n",
      "  Extent size did not change -> attribute b is added to intent.\n",
      "ELSE r: 1 - r_new: 2\n",
      "Unexs: [0, 0, 0]\n",
      "[array([0, 1, 2, 3, 4, 5, 6, 7]), [0, 1, 2, 3, 4, 5, 6], [0, 1, 2, 3, 4, 5, 6]] [[], [0, 1]]\n",
      "extents[r_new]: [0, 1, 2, 3, 4, 5, 6] - intents[r]: ['a' 'b']\n",
      "  U(G): 3.754601512360047\n",
      "  U(A): -1.2223924213364477\n",
      "  U: 2.5322090910235993\n",
      "Unexs: [0, 2.5322090910235993, 0]\n",
      "r: 1 - r_new: 2\n",
      "  U difference; 2.5322090910235993\n",
      "extents: [0, 1, 2, 3, 4, 5, 6] - intents: ['a' 'b']\n",
      "  Candidate attr: c\n",
      "  new extent: [0, 1, 2, 3, 4, 5]\n",
      "  Extent size DID change. IsCannonical: True\n",
      "   New branch will be created, compute U of current concept.\n",
      "  Intent: ['a' 'b' 'c']\n",
      "  --> Enter recursion...\n",
      "  U difference; 2.5322090910235993\n",
      "      **Unexpectedness: [0, 2.5322090910235993, 0]\n",
      "NEW ITERATION \n",
      " --------\n",
      "extents: [0, 1, 2, 3, 4, 5] - intents: ['a' 'b' 'c']\n",
      "  Candidate attr: d\n",
      "  new extent: [0, 1, 2, 3, 4, 5]\n",
      "  Extent size did not change -> attribute d is added to intent.\n",
      "ELSE r: 2 - r_new: 3\n",
      "Unexs: [0, 2.5322090910235993, 0, 0]\n",
      "[array([0, 1, 2, 3, 4, 5, 6, 7]), [0, 1, 2, 3, 4, 5, 6], [0, 1, 2, 3, 4, 5], [0, 1, 2, 3, 4, 5]] [[], [0, 1], [0, 1, 2, 3]]\n",
      "extents[r_new]: [0, 1, 2, 3, 4, 5] - intents[r]: ['a' 'b' 'c' 'd']\n",
      "  U(G): 5.758571982788595\n",
      "  U(A): -5.655351828612555\n",
      "  U: 0.10322015417604025\n",
      "Unexs: [0, 2.5322090910235993, 0.10322015417604025, 0]\n",
      "r: 2 - r_new: 3\n",
      "  U difference; -2.428988936847559\n",
      "**END FUNCTION\n",
      "**concept: ([(array([0, 1, 2, 3, 4, 5, 6, 7]), []), ([0, 1, 2, 3, 4, 5, 6], [0, 1]), ([], [])])\n",
      "r: 1 - r_new: 3\n",
      "  U difference; 2.5322090910235993\n",
      "extents: [0, 1, 2, 3, 4, 5, 6] - intents: ['a' 'b']\n",
      "  Candidate attr: d\n",
      "  new extent: [0, 1, 2, 3, 4, 5]\n",
      "  Extent size DID change. IsCannonical: False\n",
      "r: 1 - r_new: 3\n",
      "  U difference; 2.5322090910235993\n",
      "extents: [0, 1, 2, 3, 4, 5, 6] - intents: ['a' 'b']\n",
      "  Candidate attr: e\n",
      "  new extent: [6]\n",
      "  Extent size DID change. IsCannonical: True\n",
      "   New branch will be created, compute U of current concept.\n",
      "  Intent: ['a' 'b' 'e']\n",
      "  --> Enter recursion...\n",
      "  U difference; 0.10322015417604025\n",
      "      **Unexpectedness: [0, 2.5322090910235993, 0.10322015417604025, 0]\n",
      "NEW ITERATION \n",
      " --------\n",
      "extents: [6] - intents: ['a' 'b' 'e']\n",
      "  Candidate attr: f\n",
      "  new extent: [6]\n",
      "  Extent size did not change -> attribute f is added to intent.\n",
      "ELSE r: 3 - r_new: 4\n",
      "Unexs: [0, 2.5322090910235993, 0.10322015417604025, 0, 0]\n",
      "[array([0, 1, 2, 3, 4, 5, 6, 7]), [0, 1, 2, 3, 4, 5, 6], [], [6], [6]] [[], [0, 1], [], [0, 1, 4, 5]]\n",
      "extents[r_new]: [6] - intents[r]: ['a' 'b' 'e' 'f']\n",
      "  U(G): 0.0\n",
      "  U(A): -0.485426827170242\n",
      "  U: -0.485426827170242\n",
      "Unexs: [0, 2.5322090910235993, 0.10322015417604025, -0.485426827170242, 0]\n",
      "r: 3 - r_new: 4\n",
      "  U difference; -0.5886469813462822\n",
      "**END FUNCTION\n",
      "**concept: ([(array([0, 1, 2, 3, 4, 5, 6, 7]), []), ([0, 1, 2, 3, 4, 5, 6], [0, 1]), ([], []), ([], [])])\n",
      "r: 1 - r_new: 4\n",
      "  U difference; 2.5322090910235993\n",
      "extents: [0, 1, 2, 3, 4, 5, 6] - intents: ['a' 'b']\n",
      "  Candidate attr: f\n",
      "  new extent: [6]\n",
      "  Extent size DID change. IsCannonical: False\n",
      "r: 1 - r_new: 4\n",
      "  U difference; 2.5322090910235993\n",
      "extents: [0, 1, 2, 3, 4, 5, 6] - intents: ['a' 'b']\n",
      "  Candidate attr: g\n",
      "  new extent: [6]\n",
      "  Extent size DID change. IsCannonical: False\n",
      "r: 1 - r_new: 4\n",
      "  U difference; 2.5322090910235993\n",
      "**END FUNCTION\n",
      "**concept: ([(array([0, 1, 2, 3, 4, 5, 6, 7]), []), ([0, 1, 2, 3, 4, 5, 6], [0, 1]), ([], []), ([], [])])\n",
      "r: 0 - r_new: 4\n",
      "  U difference; 0\n",
      "extents: [0 1 2 3 4 5 6 7] - intents: []\n",
      "  Candidate attr: b\n",
      "  new extent: [0, 1, 2, 3, 4, 5, 6]\n",
      "  Extent size DID change. IsCannonical: False\n",
      "r: 0 - r_new: 4\n",
      "  U difference; 0\n",
      "extents: [0 1 2 3 4 5 6 7] - intents: []\n",
      "  Candidate attr: c\n",
      "  new extent: [0, 1, 2, 3, 4, 5]\n",
      "  Extent size DID change. IsCannonical: False\n",
      "r: 0 - r_new: 4\n",
      "  U difference; 0\n",
      "extents: [0 1 2 3 4 5 6 7] - intents: []\n",
      "  Candidate attr: d\n",
      "  new extent: [0, 1, 2, 3, 4, 5]\n",
      "  Extent size DID change. IsCannonical: False\n",
      "r: 0 - r_new: 4\n",
      "  U difference; 0\n",
      "extents: [0 1 2 3 4 5 6 7] - intents: []\n",
      "  Candidate attr: e\n",
      "  new extent: [6]\n",
      "  Extent size DID change. IsCannonical: False\n",
      "r: 0 - r_new: 4\n",
      "  U difference; 0\n",
      "extents: [0 1 2 3 4 5 6 7] - intents: []\n",
      "  Candidate attr: f\n",
      "  new extent: [6]\n",
      "  Extent size DID change. IsCannonical: False\n",
      "r: 0 - r_new: 4\n",
      "  U difference; 0\n",
      "extents: [0 1 2 3 4 5 6 7] - intents: []\n",
      "  Candidate attr: g\n",
      "  new extent: [6, 7]\n",
      "  Extent size DID change. IsCannonical: True\n",
      "   New branch will be created, compute U of current concept.\n",
      "  Intent: ['g']\n",
      "  --> Enter recursion...\n",
      "  U difference; -0.485426827170242\n",
      "      **Unexpectedness: [0, 2.5322090910235993, 0.10322015417604025, -0.485426827170242, 0]\n",
      "NEW ITERATION \n",
      " --------\n",
      "ELSE r: 4 - r_new: 5\n",
      "Unexs: [0, 2.5322090910235993, 0.10322015417604025, -0.485426827170242, 0]\n",
      "[array([0, 1, 2, 3, 4, 5, 6, 7]), [0, 1, 2, 3, 4, 5, 6], [], [], [6, 7]] [[], [0, 1], [], [], [6]]\n",
      "extents[r_new]: [6, 7] - intents[r]: ['g']\n",
      "  U(G): -0.049022499567305644\n",
      "  U(A): 1.8073549220576042\n",
      "  U: 1.7583324224902985\n",
      "Unexs: [0, 2.5322090910235993, 0.10322015417604025, -0.485426827170242, 1.7583324224902985]\n",
      "**END FUNCTION\n",
      "**concept: ([(array([0, 1, 2, 3, 4, 5, 6, 7]), []), ([0, 1, 2, 3, 4, 5, 6], [0, 1]), ([], []), ([], []), ([6, 7], [6])])\n",
      "r: 0 - r_new: 5\n",
      "  U difference; -1.7583324224902985\n",
      "**END FUNCTION\n",
      "**concept: ([(array([0, 1, 2, 3, 4, 5, 6, 7]), []), ([0, 1, 2, 3, 4, 5, 6], [0, 1]), ([], []), ([], []), ([6, 7], [6])])\n",
      "[0 1 2 3 4 5 6 7] []\n",
      "[0, 1, 2, 3, 4, 5, 6] ['a' 'b']\n",
      "[] []\n",
      "[] []\n",
      "[6, 7] ['g']\n"
     ]
    }
   ],
   "source": [
    "# Initialization\n",
    "extents, intents = init_inclose(X9)\n",
    "degs = get_degrees(X9, transpose=True)\n",
    "global r_new\n",
    "r_new = 0\n",
    "\n",
    "# Degree of attribute = # articles in which it appears\n",
    "freq_attribute = get_degrees(X9.astype(bool), transpose=True)\n",
    "index = np.flatnonzero((freq_attribute <= 1000) & (freq_attribute >= 0))\n",
    "\n",
    "# Filter data with index\n",
    "biadjacency = X9[:, index]\n",
    "words = names_col9[index]\n",
    "freq_attribute = freq_attribute[index]\n",
    "\n",
    "# Order attributes according to their ascending degree\n",
    "# This allows to add first attributes that will generate bigger subgraphs\n",
    "sort_index = np.argsort(freq_attribute)\n",
    "sorted_degs = freq_attribute[sort_index]\n",
    "filt_biadjacency = X9[:, sort_index]\n",
    "sorted_names_col = words[sort_index]\n",
    "\n",
    "# Algorithm\n",
    "#concepts = in_close_new(G9, filt_biadjacency, extents, intents, r=0, y=0, degs=sorted_degs, unexs_g=[0], unexs_a=[0], unexs=[0], names_col=sorted_names_col)\n",
    "concepts = in_close_new(G9, biadjacency, extents, intents, r=0, y=0, degs=degs, unexs_g=[0], unexs_a=[0], unexs=[0], names_col=names_col9)\n",
    "for c in concepts:\n",
    "    print(c[0], names_col9[c[1]])"
   ]
  },
  {
   "cell_type": "code",
   "execution_count": 37,
   "id": "4e52e220-5540-438b-a733-b078ef4fee14",
   "metadata": {},
   "outputs": [
    {
     "name": "stdout",
     "output_type": "stream",
     "text": [
      "[0 1 2 3 4 5 6 7] []\n",
      "[0, 1, 2, 3, 4, 5, 6] ['e' 'f']\n",
      "[0, 1, 2, 3, 4, 5] ['e' 'f' 'g' 'c']\n",
      "[6] ['e' 'f' 'd' 'a' 'b']\n",
      "[6, 7] ['b']\n"
     ]
    }
   ],
   "source": [
    "for c in concepts:\n",
    "    print(c[0], sorted_names_col[c[1]])"
   ]
  },
  {
   "cell_type": "code",
   "execution_count": 36,
   "id": "16113d77-f2a6-40cc-ada0-bcae75929b35",
   "metadata": {},
   "outputs": [
    {
     "name": "stdout",
     "output_type": "stream",
     "text": [
      "[0 1 2 3 4 5 6 7] []\n",
      "[0, 1, 2, 3, 4, 5, 6] ['a' 'b']\n",
      "[0, 1, 2, 3, 4, 5] ['a' 'b' 'c' 'd']\n",
      "[6] ['a' 'b' 'e' 'f' 'g']\n",
      "[6, 7] ['g']\n"
     ]
    }
   ],
   "source": [
    "for c in concepts:\n",
    "    print(c[0], names_col9[c[1]])"
   ]
  },
  {
   "cell_type": "code",
   "execution_count": null,
   "id": "7b0799a7-3438-47ae-a836-e782894a74cf",
   "metadata": {},
   "outputs": [],
   "source": []
  },
  {
   "cell_type": "code",
   "execution_count": null,
   "id": "e675f2f0-1383-4104-843f-a358ffe9ea55",
   "metadata": {},
   "outputs": [],
   "source": []
  },
  {
   "cell_type": "code",
   "execution_count": 183,
   "id": "6ffff420-8fbd-4022-a1ec-5a23845d9757",
   "metadata": {},
   "outputs": [],
   "source": [
    "def in_close(adjacency, context, extents, intents, unexs, unexs_g, r, y, degs, gain, support_obj, names_col, verbose):\n",
    "    \n",
    "    #support_obj = support_obj\n",
    "\n",
    "    support_attr = 15\n",
    "    support_common_remaining_attr = 1\n",
    "    delta = 0\n",
    "    \n",
    "    global gain_unex\n",
    "    # --------------------\n",
    "    \n",
    "    global r_new\n",
    "    r_new = r_new + 1\n",
    "    attributes = np.arange(0, context.shape[1])\n",
    "    \n",
    "    for n_iter, j in enumerate(attributes[y:]):\n",
    "        \n",
    "        try:\n",
    "            extents[r_new] = []\n",
    "            unexs[r_new] = 0\n",
    "            unexs_g[r_new] = 0\n",
    "        except IndexError:\n",
    "            extents.append([])\n",
    "            unexs.append(0)\n",
    "            unexs_g.append(0)\n",
    "\n",
    "        # Form a new extent by adding extension of attribute j to current concept extent\n",
    "        extension_j = get_neighbors(context, node=j, transpose=True)\n",
    "        new_extent = np.array(list(set(extents[r]).intersection(set(extension_j))))\n",
    "        extents[r_new] = new_extent\n",
    "        new_extent_size = len(new_extent)\n",
    "        \n",
    "        # Verify that intention: prune recursion if the current none of the current extent neighbor have common attribute anymore\n",
    "        len_closure = 0\n",
    "        if len(new_extent > 0):\n",
    "            all_neighbs = set(get_neighbors(context, node=new_extent[0]))\n",
    "            for o in new_extent[1:]:\n",
    "                neighbs = get_neighbors(context, node=o)\n",
    "                all_neighbs &= set(neighbs)\n",
    "            len_closure = len(all_neighbs)\n",
    "        \n",
    "        if len_closure >= support_common_remaining_attr:\n",
    "            #if verbose:\n",
    "            #    print(f'closure of {new_extent} --> size of closure = {len_closure}>{support_obj}')\n",
    "            \n",
    "            \n",
    "            if new_extent_size >= support_obj:\n",
    "                if verbose:\n",
    "                    print(f'n_iter:{n_iter} - extents: {extents[r]} - intents: {intents[r]}')\n",
    "                    print(f'  Candidate attr: {j} {names_col[j]}')\n",
    "                    print(f'  new extent: {new_extent}')\n",
    "\n",
    "                #if new_extent_size < len(extents[r]):\n",
    "                # Graph unexpectedness\n",
    "                g_r_new = adjacency[new_extent][:, new_extent]\n",
    "                complexity_desc_g = mdl_graph(g_r_new)\n",
    "                complexity_gen_g = np.mean(complexity_gen_graphs.get(new_extent_size))\n",
    "                unex_g = complexity_gen_g - complexity_desc_g\n",
    "                unexs_g.append(unex_g)\n",
    "                if verbose:\n",
    "                    print(f'  U(G)={unex_g} (cw={complexity_gen_g} - c={complexity_desc_g})')\n",
    "\n",
    "                new_intent = np.array(list(sorted(set(intents[r]).union(set([j])))))\n",
    "                new_intent_size = len(new_intent)            \n",
    "\n",
    "                if new_intent_size <= support_attr:\n",
    "\n",
    "                    # Attributes unexpectedness\n",
    "                    complexity_gen_a = np.log2(special.comb(context.shape[1], new_intent_size))\n",
    "                    complexity_desc_a = 0\n",
    "                    for a in new_intent:\n",
    "                        complexity_desc_a += np.log2(degs[a])\n",
    "                    unex_a = complexity_gen_a - complexity_desc_a\n",
    "                    if verbose:\n",
    "                        print(f'  U(A)={unex_a} (cw={complexity_gen_a} - c={complexity_desc_a})')\n",
    "\n",
    "                    # Total Unexpectedness\n",
    "                    unex = unex_g + unex_a\n",
    "                    if verbose:\n",
    "                        print(f'  U: {unex}')\n",
    "                    unexs[r_new] = unex\n",
    "\n",
    "                    if verbose:\n",
    "                        print(f'  U[r_new]={unex} - U[r]={unexs[r]}  = {unex - unexs[r]}')\n",
    "\n",
    "                    gain_unex.append(unex - unexs[r])\n",
    "                    if verbose:\n",
    "                        print(f'  gain unex: {gain_unex}')\n",
    "                        print(f'  Gain unex diff: {np.abs(gain_unex[-2]-gain_unex[-1])}')\n",
    "\n",
    "                    if new_extent_size == len(extents[r]):\n",
    "\n",
    "                        #if unex - unexs[r] > 4 and r >=0 and np.abs(gain_unex[-2]-gain_unex[-1])>1:\n",
    "                        #if (len(intents[r]) == 0) or ((unex - unexs[r] > 0) and (np.abs(gain_unex[-2] - gain_unex[-1])) > delta):\n",
    "                        intents[r] = np.array(list(sorted(set(intents[r]).union(set([j])))))\n",
    "                        extents[r] = extents[r_new]\n",
    "                        unexs_g[r] = unex_g\n",
    "                        unexs[r] = unex\n",
    "                        if verbose:\n",
    "                            print(f'  Attribute {j}-{sorted_names_col[j]} added')\n",
    "                        #else:\n",
    "                        #    if verbose:\n",
    "                        #        print(f'  unex - unexs[r] > 0 : {(unex - unexs[r] > 0)}')\n",
    "                        #        print(f'  (gain_unex[-2] - gain_unex[-1]) > delta : {(gain_unex[-2] - gain_unex[-1]) > delta}')\n",
    "                        #        print(f'  len(intents[r]) == 0 : {len(intents[r]) == 0}')\n",
    "                        #        print(f'  --> Stop branch recursion. ')\n",
    "                        #       print('\\n')\n",
    "\n",
    "                            #del gain_unex[(r_new-r):]\n",
    "                        #        if len(intents[r]) > 1:\n",
    "                        #            del gain_unex[-(len(intents[r]))+1:]\n",
    "                        #        else:\n",
    "                        #            del gain_unex[-(len(intents[r])):]\n",
    "\n",
    "                        #    return [*zip(extents, intents)]\n",
    "\n",
    "                    else:\n",
    "                        #if unex - unexs[r] > 4 and r >=0 and np.abs(gain_unex[-2]-gain_unex[-1])>1:\n",
    "                        if (len(intents[r]) == 0) or (unex - unexs[r] > 0):\n",
    "\n",
    "                            try:\n",
    "                                intents[r_new] = []\n",
    "                            except IndexError:\n",
    "                                intents.append([])\n",
    "\n",
    "                            intents[r_new] = np.array(list(sorted(set(intents[r]).union(set([j])))))\n",
    "                            if verbose:\n",
    "                                print('  recursive call')\n",
    "                            in_close(adjacency, context, extents, intents, unexs, unexs_g, r=r_new, y=j+1, degs=degs, gain=gain_unex, \n",
    "                                     support_obj=support_obj, names_col=names_col, verbose=verbose)\n",
    "                        else:\n",
    "                            if verbose:\n",
    "                                print(f'  Do not go into recursion. Try next candidate attribute. ')\n",
    "                                print()\n",
    "                            gain_unex.pop(-1)\n",
    "                else:\n",
    "                    if verbose:\n",
    "                        print(f'Max number of attributes reached.')\n",
    "                        print('\\n')\n",
    "                    return [*zip(extents, intents)]\n",
    "\n",
    "            #else:\n",
    "            #    if verbose:\n",
    "            #        print(f'  New extent size >= support? : {new_extent_size >= support_obj}')\n",
    "            \n",
    "        #else:\n",
    "            #if verbose:\n",
    "                #    print(f'closure of {new_extent} --> no need to verify all attributes')\n",
    "    if verbose:\n",
    "        print('\\n')\n",
    "        \n",
    "\n",
    "    if len(intents[r]) > 1:\n",
    "        del gain_unex[-(len(intents[r]))+1:]\n",
    "    else:\n",
    "        del gain_unex[-(len(intents[r])):]\n",
    "    return [*zip(extents, intents)]"
   ]
  },
  {
   "cell_type": "code",
   "execution_count": 184,
   "id": "0a79f9a7-6001-4293-b7c6-b2f74e22f658",
   "metadata": {},
   "outputs": [],
   "source": [
    "def run_algorithm(G, X, names_col, n_objects_min, n_objects_max, out_name):\n",
    "    # In-close initialization\n",
    "    V = np.arange(0, X.shape[0])\n",
    "\n",
    "    extents, intents, unexs, unexs_g = [], [], [], []\n",
    "    extents_init = V\n",
    "    intents_init = []\n",
    "    unexs.append(0)\n",
    "    unexs_g.append(0)\n",
    "    extents.append(extents_init)\n",
    "    intents.append(intents_init)\n",
    "    \n",
    "    global r_new\n",
    "    r_new = 0\n",
    "    global gain_unex\n",
    "    gain_unex = []\n",
    "    gain_unex.append(0)\n",
    "    \n",
    "    # Degree of attribute = # articles in which it appears\n",
    "    freq_attribute = get_degrees(X.astype(bool), transpose=True)\n",
    "    index = np.flatnonzero((freq_attribute <= n_objects_max) & (freq_attribute >= n_objects_min))\n",
    "    \n",
    "    # Filter data with index\n",
    "    biadjacency = X[:, index]\n",
    "    words = names_col[index]\n",
    "    freq_attribute = freq_attribute[index]\n",
    "    \n",
    "    # Order attributes according to their ascending degree\n",
    "    # This allows to add first attributes that will generate bigger subgraphs\n",
    "    sort_index = np.argsort(freq_attribute)\n",
    "    sorted_degs = freq_attribute[sort_index]\n",
    "    filt_biadjacency = X[:, sort_index]\n",
    "    sorted_names_col = words[sort_index]\n",
    "    print(sorted_names_col)\n",
    "    \n",
    "    with open(f'logs/{out_name}.txt', 'w') as f:\n",
    "        with redirect_stdout(f):\n",
    "            result = in_close(G, filt_biadjacency, extents, intents, unexs, unexs_g, r=0, y=0, \n",
    "                              degs=sorted_degs, gain=gain_unex, support_obj=n_objects_min, names_col=sorted_names_col, verbose=True)\n",
    "            print()\n",
    "            \n",
    "    return result, sorted_names_col"
   ]
  },
  {
   "cell_type": "code",
   "execution_count": 84,
   "id": "4eac3271-cdce-4659-b598-d8900743dc11",
   "metadata": {},
   "outputs": [],
   "source": [
    "def run_algorithm_comeg(G, X, names_col, n_objects_min, n_objects_max, out_name):\n",
    "    # In-close initialization\n",
    "    V = np.arange(0, X.shape[0])\n",
    "\n",
    "    extents, intents, unexs, unexs_g = [], [], [], []\n",
    "    extents_init = V\n",
    "    intents_init = []\n",
    "    unexs.append(0)\n",
    "    unexs_g.append(0)\n",
    "    extents.append(extents_init)\n",
    "    intents.append(intents_init)\n",
    "    \n",
    "    global r_new\n",
    "    r_new = 0\n",
    "    global gain_unex\n",
    "    gain_unex = []\n",
    "    gain_unex.append(0)\n",
    "    \n",
    "    # Degree of attribute = # articles in which it appears\n",
    "    freq_attribute = get_degrees(X.astype(bool), transpose=True)\n",
    "    index = np.flatnonzero((freq_attribute <= n_objects_max) & (freq_attribute >= n_objects_min))\n",
    "    \n",
    "    # Filter data with index\n",
    "    biadjacency = X[:, index]\n",
    "    words = names_col[index]\n",
    "    freq_attribute = freq_attribute[index]\n",
    "    \n",
    "    # Order attributes according to their ascending degree\n",
    "    # This allows to add first attributes that will generate bigger subgraphs\n",
    "    sort_index = np.argsort(freq_attribute)\n",
    "    sorted_degs = freq_attribute[sort_index]\n",
    "    filt_biadjacency = X[:, sort_index]\n",
    "    sorted_names_col = words[sort_index]\n",
    "    \n",
    "    with open(f'logs/{out_name}.txt', 'w') as f:\n",
    "        with redirect_stdout(f):\n",
    "            result = comeg(G, filt_biadjacency, extents, intents, unexs, unexs_g, r=0, y=0, \n",
    "                              degs=sorted_degs, gain=gain_unex, support_obj=n_objects_min, names_col=sorted_names_col, verbose=True)\n",
    "            print()\n",
    "    return result, sorted_names_col"
   ]
  },
  {
   "cell_type": "markdown",
   "id": "b56fabf8-5920-45f7-8df5-7169d9ccd2d7",
   "metadata": {},
   "source": [
    "## Custom graphs"
   ]
  },
  {
   "cell_type": "code",
   "execution_count": 8,
   "id": "6601f704-6240-45e4-b555-d47f038dea78",
   "metadata": {},
   "outputs": [
    {
     "name": "stdout",
     "output_type": "stream",
     "text": [
      "CPU times: user 13.7 ms, sys: 2.04 ms, total: 15.7 ms\n",
      "Wall time: 14.3 ms\n"
     ]
    }
   ],
   "source": [
    "%%time\n",
    "complexity_gen_graphs = defaultdict(list)\n",
    "\n",
    "for num_n in range(10 + 1)[1:15]:\n",
    "    cpt = 0\n",
    "    while cpt < 10:\n",
    "        random_g = sparse.random(num_n, num_n, density=0.5).astype(bool).tocsr()\n",
    "        if random_g is not None and random_g.shape[0] == num_n:\n",
    "            mdl = mdl_graph(random_g)\n",
    "            if num_n != 1:\n",
    "                complexity_gen_graphs[num_n].append(mdl)\n",
    "            else:\n",
    "                # MDL of a graph of 1 node, is the MDL to describe this node\n",
    "                complexity_gen_graphs[num_n].append(1)\n",
    "            cpt += 1"
   ]
  },
  {
   "cell_type": "markdown",
   "id": "2b884f24-f92a-4873-bace-56d72a82f6be",
   "metadata": {},
   "source": [
    "### Custom1"
   ]
  },
  {
   "cell_type": "code",
   "execution_count": 13,
   "id": "ec36fc0c-9976-48d6-b796-07fe8200f439",
   "metadata": {},
   "outputs": [],
   "source": [
    "G1 = sparse.csr_matrix(np.array([\n",
    "    [0, 1, 1, 0, 0, 0],\n",
    "    [1, 0, 1, 0, 0, 0],\n",
    "    [1, 1, 0, 1, 0, 0],\n",
    "    [0, 0, 1, 0, 1, 1],\n",
    "    [0, 0, 0, 1, 0, 1],\n",
    "    [0, 0, 0, 1, 1, 0],\n",
    "]))\n",
    "X1 = sparse.csr_matrix(np.array([\n",
    "    [1, 0],\n",
    "    [1, 0],\n",
    "    [1, 0],\n",
    "    [0, 1],\n",
    "    [0, 1],\n",
    "    [0, 1],\n",
    "]))\n",
    "names1 = np.array(['0', '1', '2', '3', '4', '5'])\n",
    "names_col1 = np.array(['a', 'b'])"
   ]
  },
  {
   "cell_type": "code",
   "execution_count": 14,
   "id": "8e8c5fee-4abe-4535-af25-f67ac4f19136",
   "metadata": {},
   "outputs": [
    {
     "data": {
      "image/svg+xml": [
       "<svg xmlns=\"http://www.w3.org/2000/svg\" width=\"452.0\" height=\"340\">\n",
       "<path stroke-width=\"1\" stroke=\"gray\" d=\"M 108 320 20 275\"/>\n",
       "<path stroke-width=\"1\" stroke=\"gray\" d=\"M 108 320 153 224\"/>\n",
       "<path stroke-width=\"1\" stroke=\"gray\" d=\"M 20 275 108 320\"/>\n",
       "<path stroke-width=\"1\" stroke=\"gray\" d=\"M 20 275 153 224\"/>\n",
       "<path stroke-width=\"1\" stroke=\"gray\" d=\"M 153 224 108 320\"/>\n",
       "<path stroke-width=\"1\" stroke=\"gray\" d=\"M 153 224 20 275\"/>\n",
       "<path stroke-width=\"1\" stroke=\"gray\" d=\"M 153 224 287 115\"/>\n",
       "<path stroke-width=\"1\" stroke=\"gray\" d=\"M 287 115 153 224\"/>\n",
       "<path stroke-width=\"1\" stroke=\"gray\" d=\"M 287 115 331 20\"/>\n",
       "<path stroke-width=\"1\" stroke=\"gray\" d=\"M 287 115 420 65\"/>\n",
       "<path stroke-width=\"1\" stroke=\"gray\" d=\"M 331 20 287 115\"/>\n",
       "<path stroke-width=\"1\" stroke=\"gray\" d=\"M 331 20 420 65\"/>\n",
       "<path stroke-width=\"1\" stroke=\"gray\" d=\"M 420 65 287 115\"/>\n",
       "<path stroke-width=\"1\" stroke=\"gray\" d=\"M 420 65 331 20\"/>\n",
       "<circle cx=\"108\" cy=\"320\" r=\"7.0\" style=\"fill:gray;stroke:black;stroke-width:1.0\"/>\n",
       "<circle cx=\"20\" cy=\"275\" r=\"7.0\" style=\"fill:gray;stroke:black;stroke-width:1.0\"/>\n",
       "<circle cx=\"153\" cy=\"224\" r=\"7.0\" style=\"fill:gray;stroke:black;stroke-width:1.0\"/>\n",
       "<circle cx=\"287\" cy=\"115\" r=\"7.0\" style=\"fill:gray;stroke:black;stroke-width:1.0\"/>\n",
       "<circle cx=\"331\" cy=\"20\" r=\"7.0\" style=\"fill:gray;stroke:black;stroke-width:1.0\"/>\n",
       "<circle cx=\"420\" cy=\"65\" r=\"7.0\" style=\"fill:gray;stroke:black;stroke-width:1.0\"/>\n",
       "<text text-anchor=\"start\" x=\"118\" y=\"320\" font-size=\"12\">0</text><text text-anchor=\"start\" x=\"30\" y=\"275\" font-size=\"12\">1</text><text text-anchor=\"start\" x=\"163\" y=\"224\" font-size=\"12\">2</text><text text-anchor=\"start\" x=\"297\" y=\"115\" font-size=\"12\">3</text><text text-anchor=\"start\" x=\"341\" y=\"20\" font-size=\"12\">4</text><text text-anchor=\"start\" x=\"430\" y=\"65\" font-size=\"12\">5</text></svg>"
      ],
      "text/plain": [
       "<IPython.core.display.SVG object>"
      ]
     },
     "execution_count": 14,
     "metadata": {},
     "output_type": "execute_result"
    }
   ],
   "source": [
    "SVG(svg_graph(G1, names=names1))"
   ]
  },
  {
   "cell_type": "code",
   "execution_count": 15,
   "id": "1f17c1b7-05f2-4caf-88eb-37fb9c0294c6",
   "metadata": {},
   "outputs": [
    {
     "name": "stdout",
     "output_type": "stream",
     "text": [
      "['a' 'b']\n",
      "CPU times: user 1.82 ms, sys: 1.37 ms, total: 3.19 ms\n",
      "Wall time: 3.07 ms\n"
     ]
    }
   ],
   "source": [
    "%%time\n",
    "result, sorted_names_col = run_algorithm(G1, X1, names_col1, 1, 1000, 'log_custom1')"
   ]
  },
  {
   "cell_type": "code",
   "execution_count": 16,
   "id": "90c3ef53-c4d7-4dfa-8cb2-fb646aa27bfb",
   "metadata": {},
   "outputs": [
    {
     "name": "stdout",
     "output_type": "stream",
     "text": [
      "[0 1 2 3 4 5] []\n",
      "[0 1 2] ['a']\n",
      "[3 4 5] ['b']\n"
     ]
    }
   ],
   "source": [
    "for c in result:\n",
    "    print(c[0], sorted_names_col[c[1]])"
   ]
  },
  {
   "cell_type": "markdown",
   "id": "f35e2a10-68fc-4b93-bd72-166f63975ff5",
   "metadata": {},
   "source": [
    "### Custom2"
   ]
  },
  {
   "cell_type": "code",
   "execution_count": 17,
   "id": "c8a33a32-85d3-4dcc-aac0-190d8d93ccd6",
   "metadata": {},
   "outputs": [],
   "source": [
    "G2 = sparse.identity(6).tocsr()\n",
    "X2 = sparse.identity(6).tocsr()\n",
    "names2 = np.array(['0', '1', '2', '3', '4', '5'])\n",
    "names_col2 = np.array(['a', 'b', 'c', 'd', 'e', 'f'])"
   ]
  },
  {
   "cell_type": "code",
   "execution_count": 18,
   "id": "aaa80916-f2fe-4832-bab6-ce5fcf1444eb",
   "metadata": {},
   "outputs": [
    {
     "data": {
      "image/svg+xml": [
       "<svg xmlns=\"http://www.w3.org/2000/svg\" width=\"452.0\" height=\"340\">\n",
       "<path stroke-width=\"1.0\" stroke=\"gray\" d=\"M 204 320 204 320\"/>\n",
       "<path stroke-width=\"1.0\" stroke=\"gray\" d=\"M 420 159 420 159\"/>\n",
       "<path stroke-width=\"1.0\" stroke=\"gray\" d=\"M 20 201 20 201\"/>\n",
       "<path stroke-width=\"1.0\" stroke=\"gray\" d=\"M 234 191 234 191\"/>\n",
       "<path stroke-width=\"1.0\" stroke=\"gray\" d=\"M 121 20 121 20\"/>\n",
       "<path stroke-width=\"1.0\" stroke=\"gray\" d=\"M 341 23 341 23\"/>\n",
       "<circle cx=\"204\" cy=\"320\" r=\"7.0\" style=\"fill:gray;stroke:black;stroke-width:1.0\"/>\n",
       "<circle cx=\"420\" cy=\"159\" r=\"7.0\" style=\"fill:gray;stroke:black;stroke-width:1.0\"/>\n",
       "<circle cx=\"20\" cy=\"201\" r=\"7.0\" style=\"fill:gray;stroke:black;stroke-width:1.0\"/>\n",
       "<circle cx=\"234\" cy=\"191\" r=\"7.0\" style=\"fill:gray;stroke:black;stroke-width:1.0\"/>\n",
       "<circle cx=\"121\" cy=\"20\" r=\"7.0\" style=\"fill:gray;stroke:black;stroke-width:1.0\"/>\n",
       "<circle cx=\"341\" cy=\"23\" r=\"7.0\" style=\"fill:gray;stroke:black;stroke-width:1.0\"/>\n",
       "<text text-anchor=\"start\" x=\"214\" y=\"320\" font-size=\"12\">0</text><text text-anchor=\"start\" x=\"430\" y=\"159\" font-size=\"12\">1</text><text text-anchor=\"start\" x=\"30\" y=\"201\" font-size=\"12\">2</text><text text-anchor=\"start\" x=\"244\" y=\"191\" font-size=\"12\">3</text><text text-anchor=\"start\" x=\"131\" y=\"20\" font-size=\"12\">4</text><text text-anchor=\"start\" x=\"351\" y=\"23\" font-size=\"12\">5</text></svg>"
      ],
      "text/plain": [
       "<IPython.core.display.SVG object>"
      ]
     },
     "execution_count": 18,
     "metadata": {},
     "output_type": "execute_result"
    }
   ],
   "source": [
    "SVG(svg_graph(G2, names=names2))"
   ]
  },
  {
   "cell_type": "code",
   "execution_count": 19,
   "id": "0ad32bf6-5c59-4b98-8887-5f23dfc3a6e3",
   "metadata": {},
   "outputs": [
    {
     "name": "stdout",
     "output_type": "stream",
     "text": [
      "['a' 'b' 'c' 'd' 'e' 'f']\n",
      "CPU times: user 3.45 ms, sys: 1.23 ms, total: 4.68 ms\n",
      "Wall time: 3.97 ms\n"
     ]
    }
   ],
   "source": [
    "%%time\n",
    "result, sorted_names_col = run_algorithm(G2, X2, names_col2, 1, 1000, 'log_custom2')"
   ]
  },
  {
   "cell_type": "code",
   "execution_count": 20,
   "id": "eb7d5fdb-0ccf-4d91-b6fd-ad56b4e1112b",
   "metadata": {},
   "outputs": [
    {
     "name": "stdout",
     "output_type": "stream",
     "text": [
      "[0 1 2 3 4 5] []\n",
      "[0] ['a']\n",
      "[1] ['b']\n",
      "[2] ['c']\n",
      "[3] ['d']\n",
      "[4] ['e']\n",
      "[5] ['f']\n"
     ]
    }
   ],
   "source": [
    "for c in result:\n",
    "    print(c[0], sorted_names_col[c[1]])"
   ]
  },
  {
   "cell_type": "markdown",
   "id": "08cacc37-d696-44f1-b5ab-f7ba9d111d67",
   "metadata": {
    "tags": []
   },
   "source": [
    "### Custom3"
   ]
  },
  {
   "cell_type": "code",
   "execution_count": 21,
   "id": "7c7b2026-ce10-4ace-a09b-c462c2561672",
   "metadata": {},
   "outputs": [],
   "source": [
    "G3 = sparse.csr_matrix(np.array([\n",
    "    [0, 1, 1, 0, 0, 0],\n",
    "    [1, 0, 1, 0, 0, 0],\n",
    "    [1, 1, 0, 1, 0, 0],\n",
    "    [0, 0, 1, 0, 1, 1],\n",
    "    [0, 0, 0, 1, 0, 1],\n",
    "    [0, 0, 0, 1, 1, 0],\n",
    "]))\n",
    "X3 = sparse.csr_matrix(np.array([\n",
    "    [1, 0, 1, 0, 0],\n",
    "    [1, 0, 0, 1, 0],\n",
    "    [1, 0, 0, 0, 1],\n",
    "    [0, 1, 0, 0, 0],\n",
    "    [0, 1, 0, 0, 0],\n",
    "    [0, 1, 0, 0, 0],\n",
    "]))\n",
    "names3 = np.array(['0', '1', '2', '3', '4', '5'])\n",
    "names_col3 = np.array(['a', 'b', 'c', 'd', 'e'])"
   ]
  },
  {
   "cell_type": "code",
   "execution_count": 22,
   "id": "e578d4ee-ab0f-46b5-ae4a-30c1ec0f34be",
   "metadata": {},
   "outputs": [
    {
     "data": {
      "image/svg+xml": [
       "<svg xmlns=\"http://www.w3.org/2000/svg\" width=\"572.0\" height=\"340\">\n",
       "<path stroke-width=\"1\" stroke=\"gray\" d=\"M 353 20 420 79\"/>\n",
       "<path stroke-width=\"1\" stroke=\"gray\" d=\"M 353 20 286 118\"/>\n",
       "<path stroke-width=\"1\" stroke=\"gray\" d=\"M 420 79 353 20\"/>\n",
       "<path stroke-width=\"1\" stroke=\"gray\" d=\"M 420 79 286 118\"/>\n",
       "<path stroke-width=\"1\" stroke=\"gray\" d=\"M 286 118 353 20\"/>\n",
       "<path stroke-width=\"1\" stroke=\"gray\" d=\"M 286 118 420 79\"/>\n",
       "<path stroke-width=\"1\" stroke=\"gray\" d=\"M 286 118 153 222\"/>\n",
       "<path stroke-width=\"1\" stroke=\"gray\" d=\"M 153 222 286 118\"/>\n",
       "<path stroke-width=\"1\" stroke=\"gray\" d=\"M 153 222 20 260\"/>\n",
       "<path stroke-width=\"1\" stroke=\"gray\" d=\"M 153 222 86 320\"/>\n",
       "<path stroke-width=\"1\" stroke=\"gray\" d=\"M 20 260 153 222\"/>\n",
       "<path stroke-width=\"1\" stroke=\"gray\" d=\"M 20 260 86 320\"/>\n",
       "<path stroke-width=\"1\" stroke=\"gray\" d=\"M 86 320 153 222\"/>\n",
       "<path stroke-width=\"1\" stroke=\"gray\" d=\"M 86 320 20 260\"/>\n",
       "<circle cx=\"353\" cy=\"20\" r=\"7.0\" style=\"fill:gray;stroke:black;stroke-width:1.0\"/>\n",
       "<circle cx=\"420\" cy=\"79\" r=\"7.0\" style=\"fill:gray;stroke:black;stroke-width:1.0\"/>\n",
       "<circle cx=\"286\" cy=\"118\" r=\"7.0\" style=\"fill:gray;stroke:black;stroke-width:1.0\"/>\n",
       "<circle cx=\"153\" cy=\"222\" r=\"7.0\" style=\"fill:gray;stroke:black;stroke-width:1.0\"/>\n",
       "<circle cx=\"20\" cy=\"260\" r=\"7.0\" style=\"fill:gray;stroke:black;stroke-width:1.0\"/>\n",
       "<circle cx=\"86\" cy=\"320\" r=\"7.0\" style=\"fill:gray;stroke:black;stroke-width:1.0\"/>\n",
       "<text text-anchor=\"start\" x=\"363\" y=\"20\" font-size=\"12\">0-['a' 'c']</text><text text-anchor=\"start\" x=\"430\" y=\"79\" font-size=\"12\">1-['a' 'd']</text><text text-anchor=\"start\" x=\"296\" y=\"118\" font-size=\"12\">2-['a' 'e']</text><text text-anchor=\"start\" x=\"163\" y=\"222\" font-size=\"12\">3-['b']</text><text text-anchor=\"start\" x=\"30\" y=\"260\" font-size=\"12\">4-['b']</text><text text-anchor=\"start\" x=\"96\" y=\"320\" font-size=\"12\">5-['b']</text></svg>"
      ],
      "text/plain": [
       "<IPython.core.display.SVG object>"
      ]
     },
     "execution_count": 22,
     "metadata": {},
     "output_type": "execute_result"
    }
   ],
   "source": [
    "SVG(svg_graph(G3, names=[n + '-' + str(names_col3[x.indices]) for n, x in zip(names3, X3)]))"
   ]
  },
  {
   "cell_type": "code",
   "execution_count": 23,
   "id": "36e9270c-f408-45c8-b7b1-21395688fcbb",
   "metadata": {},
   "outputs": [
    {
     "name": "stdout",
     "output_type": "stream",
     "text": [
      "['c' 'd' 'e' 'a' 'b']\n",
      "CPU times: user 3.69 ms, sys: 1.49 ms, total: 5.18 ms\n",
      "Wall time: 4.73 ms\n"
     ]
    }
   ],
   "source": [
    "%%time\n",
    "result, sorted_names_col = run_algorithm(G3, X3, names_col3, 1, 1000, 'log_custom3')"
   ]
  },
  {
   "cell_type": "code",
   "execution_count": 24,
   "id": "e27eacca-7042-46dd-b591-aa0f943572cf",
   "metadata": {},
   "outputs": [
    {
     "name": "stdout",
     "output_type": "stream",
     "text": [
      "[0 1 2 3 4 5] []\n",
      "[0] ['c']\n",
      "[1] ['d']\n",
      "[2] ['e']\n",
      "[0 1 2] ['a']\n",
      "[3 4 5] ['b']\n"
     ]
    }
   ],
   "source": [
    "for c in result:\n",
    "    print(c[0], sorted_names_col[c[1]])"
   ]
  },
  {
   "cell_type": "markdown",
   "id": "49aa6781-d64a-4156-a89e-a406fae976e8",
   "metadata": {},
   "source": [
    "Exemple d'itération de l'algo:\n",
    "- `'c'` est l'attribut candidat $\\rightarrow$ le sous-graphe $G_c$ = {0} est filtré $\\rightarrow$ ce graphe est inattendu (comparé à l'ensemble vide) $\\rightarrow$ on continue la récursion\n",
    "- `'a'` est attribut candidat $\\rightarrow$ le sous-graphe $G_{[c,a]}$ = {0} est filtré (inchangé) $\\rightarrow$ ce graphe est moins inattendu que le précédent $\\rightarrow$ l'attribut candidat n'est pas ajouté et on arrête la récursion **En effet, `'a'` est partagé par 3 noeuds et n'apporte pas de assez surprise par rapport à l'itération précédente**"
   ]
  },
  {
   "cell_type": "markdown",
   "id": "77600b3c-b33d-47a2-9309-7e4be7f2457f",
   "metadata": {
    "tags": []
   },
   "source": [
    "### Custom4  \n",
    "\n",
    "1 article which is the concatenation of 2 articles from different communities, citing other articles"
   ]
  },
  {
   "cell_type": "code",
   "execution_count": 25,
   "id": "7f38e970-de4f-456a-a1d7-4e03c082d082",
   "metadata": {},
   "outputs": [],
   "source": [
    "G4 = sparse.csr_matrix(np.array([\n",
    "    [0, 1, 1, 0, 0, 0, 0],\n",
    "    [1, 0, 1, 0, 0, 0, 0],\n",
    "    [1, 1, 0, 0, 0, 0, 0],\n",
    "    [0, 0, 1, 0, 1, 0, 0],\n",
    "    [0, 0, 0, 0, 0, 1, 1],\n",
    "    [0, 0, 0, 0, 1, 0, 1],\n",
    "    [0, 0, 0, 0, 1, 1, 0]\n",
    "]))\n",
    "X4 = sparse.csr_matrix(np.array([\n",
    "    [1, 1, 0, 0, 0, 0, 0, 0],\n",
    "    [1, 0, 1, 0, 0, 0, 0, 0],\n",
    "    [1, 0, 0, 1, 0, 0, 0, 0],\n",
    "    [1, 0, 0, 1, 1, 1, 0, 0],\n",
    "    [0, 0, 0, 0, 1, 1, 0, 0],\n",
    "    [0, 0, 0, 0, 1, 0, 1, 0],\n",
    "    [0, 0, 0, 0, 1, 0, 0, 1],\n",
    "]))\n",
    "names4 = np.array(range(G4.shape[0])).astype(str)\n",
    "names_col4 = np.array(['a', 'b', 'c', 'd', 'e', 'f', 'g', 'h'])"
   ]
  },
  {
   "cell_type": "code",
   "execution_count": 26,
   "id": "c88ba501-09a8-49e2-9622-dc87d1210a9f",
   "metadata": {},
   "outputs": [
    {
     "data": {
      "image/svg+xml": [
       "<svg xmlns=\"http://www.w3.org/2000/svg\" width=\"572.0\" height=\"340\">\n",
       "<defs><marker id=\"arrow-gray\" markerWidth=\"10\" markerHeight=\"10\" refX=\"9\" refY=\"3\" orient=\"auto\">\n",
       "<path d=\"M0,0 L0,6 L9,3 z\" fill=\"gray\"/></marker></defs>\n",
       "<path stroke-width=\"1\" stroke=\"gray\" d=\"M 420 243 402 314\" marker-end=\"url(#arrow-gray)\"/>\n",
       "<path stroke-width=\"1\" stroke=\"gray\" d=\"M 420 243 351 246\" marker-end=\"url(#arrow-gray)\"/>\n",
       "<path stroke-width=\"1\" stroke=\"gray\" d=\"M 401 320 419 249\" marker-end=\"url(#arrow-gray)\"/>\n",
       "<path stroke-width=\"1\" stroke=\"gray\" d=\"M 401 320 349 251\" marker-end=\"url(#arrow-gray)\"/>\n",
       "<path stroke-width=\"1\" stroke=\"gray\" d=\"M 345 246 414 243\" marker-end=\"url(#arrow-gray)\"/>\n",
       "<path stroke-width=\"1\" stroke=\"gray\" d=\"M 345 246 397 315\" marker-end=\"url(#arrow-gray)\"/>\n",
       "<path stroke-width=\"1\" stroke=\"gray\" d=\"M 220 173 339 243\" marker-end=\"url(#arrow-gray)\"/>\n",
       "<path stroke-width=\"1\" stroke=\"gray\" d=\"M 220 173 102 107\" marker-end=\"url(#arrow-gray)\"/>\n",
       "<path stroke-width=\"1\" stroke=\"gray\" d=\"M 96 104 47 25\" marker-end=\"url(#arrow-gray)\"/>\n",
       "<path stroke-width=\"1\" stroke=\"gray\" d=\"M 96 104 26 99\" marker-end=\"url(#arrow-gray)\"/>\n",
       "<path stroke-width=\"1\" stroke=\"gray\" d=\"M 44 20 93 99\" marker-end=\"url(#arrow-gray)\"/>\n",
       "<path stroke-width=\"1\" stroke=\"gray\" d=\"M 44 20 22 93\" marker-end=\"url(#arrow-gray)\"/>\n",
       "<path stroke-width=\"1\" stroke=\"gray\" d=\"M 20 99 90 104\" marker-end=\"url(#arrow-gray)\"/>\n",
       "<path stroke-width=\"1\" stroke=\"gray\" d=\"M 20 99 42 26\" marker-end=\"url(#arrow-gray)\"/>\n",
       "<circle cx=\"420\" cy=\"243\" r=\"7.0\" style=\"fill:gray;stroke:black;stroke-width:1.0\"/>\n",
       "<circle cx=\"401\" cy=\"320\" r=\"7.0\" style=\"fill:gray;stroke:black;stroke-width:1.0\"/>\n",
       "<circle cx=\"345\" cy=\"246\" r=\"7.0\" style=\"fill:gray;stroke:black;stroke-width:1.0\"/>\n",
       "<circle cx=\"220\" cy=\"173\" r=\"7.0\" style=\"fill:gray;stroke:black;stroke-width:1.0\"/>\n",
       "<circle cx=\"96\" cy=\"104\" r=\"7.0\" style=\"fill:gray;stroke:black;stroke-width:1.0\"/>\n",
       "<circle cx=\"44\" cy=\"20\" r=\"7.0\" style=\"fill:gray;stroke:black;stroke-width:1.0\"/>\n",
       "<circle cx=\"20\" cy=\"99\" r=\"7.0\" style=\"fill:gray;stroke:black;stroke-width:1.0\"/>\n",
       "<text text-anchor=\"start\" x=\"430\" y=\"243\" font-size=\"12\">0-['a' 'b']</text><text text-anchor=\"start\" x=\"411\" y=\"320\" font-size=\"12\">1-['a' 'c']</text><text text-anchor=\"start\" x=\"355\" y=\"246\" font-size=\"12\">2-['a' 'd']</text><text text-anchor=\"start\" x=\"230\" y=\"173\" font-size=\"12\">3-['a' 'd' 'e' 'f']</text><text text-anchor=\"start\" x=\"106\" y=\"104\" font-size=\"12\">4-['e' 'f']</text><text text-anchor=\"start\" x=\"54\" y=\"20\" font-size=\"12\">5-['e' 'g']</text><text text-anchor=\"start\" x=\"30\" y=\"99\" font-size=\"12\">6-['e' 'h']</text></svg>"
      ],
      "text/plain": [
       "<IPython.core.display.SVG object>"
      ]
     },
     "execution_count": 26,
     "metadata": {},
     "output_type": "execute_result"
    }
   ],
   "source": [
    "SVG(svg_graph(G4, names=[n + '-' + str(names_col4[x.indices]) for n, x in zip(names4, X4)]))"
   ]
  },
  {
   "cell_type": "code",
   "execution_count": 27,
   "id": "99ad58b0-e142-4294-ae87-8377da6f0424",
   "metadata": {},
   "outputs": [
    {
     "name": "stdout",
     "output_type": "stream",
     "text": [
      "['b' 'c' 'g' 'h' 'd' 'f' 'a' 'e']\n",
      "CPU times: user 5.85 ms, sys: 1.18 ms, total: 7.03 ms\n",
      "Wall time: 8.17 ms\n"
     ]
    }
   ],
   "source": [
    "%%time\n",
    "result, sorted_names_col = run_algorithm(G4, X4, names_col4, 1, 1000, 'log_custom4')"
   ]
  },
  {
   "cell_type": "code",
   "execution_count": 28,
   "id": "bd349a82-3275-42e2-838d-9f16f536ce29",
   "metadata": {},
   "outputs": [
    {
     "name": "stdout",
     "output_type": "stream",
     "text": [
      "[0 1 2 3 4 5 6] []\n",
      "[0] ['b']\n",
      "[1] ['c']\n",
      "[5] ['g']\n",
      "[6] ['h']\n",
      "[2 3] ['d']\n",
      "[3 4] ['f']\n",
      "[0 1 2 3] ['a']\n",
      "[3 4 5 6] ['e']\n"
     ]
    }
   ],
   "source": [
    "for c in result:\n",
    "    print(c[0], sorted_names_col[c[1]])"
   ]
  },
  {
   "cell_type": "markdown",
   "id": "f4b7b434-eb6d-4855-bef5-45a4ca1b5dd4",
   "metadata": {},
   "source": [
    "* pros : \n",
    "     - les noeuds `5` et `6`, et `0` et `1` ne sont décrits que par leurs attributs discriminants\n",
    "     - idem pour les concepts `[2, 3]` et `[3, 4]`\n",
    "     - pas de concept avec un seul noeud si ce noeud est déjà dans d'autres concepts plus gr-ands\n",
    "* cons: \n",
    "    - pas de concepts avec les noeuds `[2, 3, 4]` $\\rightarrow$ on pourrait voir un concept inattendu qui regroupe ces noeuds ? mais comment prendre en compte la clôture vide ?\n",
    "    - concept avec le noeud `3` et les attributs `['d', 'f']`, i.e discriminants ?"
   ]
  },
  {
   "cell_type": "markdown",
   "id": "79c88ec2-fcdd-44ef-b45c-5beb0d961055",
   "metadata": {
    "tags": []
   },
   "source": [
    "### Custom5  \n",
    "\n",
    "1 article which is the concatenation of 2 articles from different communities, without citing other articles"
   ]
  },
  {
   "cell_type": "code",
   "execution_count": 29,
   "id": "a6d0112a-fbde-4a88-8a76-237dffe2e6e9",
   "metadata": {},
   "outputs": [],
   "source": [
    "G5 = sparse.csr_matrix(np.array([\n",
    "    [0, 1, 1, 0, 0, 0, 0],\n",
    "    [1, 0, 1, 0, 0, 0, 0],\n",
    "    [1, 1, 0, 0, 0, 0, 0],\n",
    "    [0, 0, 0, 1, 0, 0, 0],\n",
    "    [0, 0, 0, 0, 0, 1, 1],\n",
    "    [0, 0, 0, 0, 1, 0, 1],\n",
    "    [0, 0, 0, 0, 1, 1, 0]\n",
    "]))\n",
    "X5 = sparse.csr_matrix(np.array([\n",
    "    [1, 1, 0, 0, 0, 0, 0, 0],\n",
    "    [1, 0, 1, 0, 0, 0, 0, 0],\n",
    "    [1, 0, 0, 1, 0, 0, 0, 0],\n",
    "    [1, 0, 0, 1, 1, 1, 0, 0],\n",
    "    [0, 0, 0, 0, 1, 1, 0, 0],\n",
    "    [0, 0, 0, 0, 1, 0, 1, 0],\n",
    "    [0, 0, 0, 0, 1, 0, 0, 1],\n",
    "]))\n",
    "names5 = np.array(range(G5.shape[0])).astype(str)\n",
    "names_col5 = np.array(['a', 'b', 'c', 'd', 'e', 'f', 'g', 'h'])"
   ]
  },
  {
   "cell_type": "code",
   "execution_count": 30,
   "id": "82095bcd-a4c4-47cb-9182-244cdbfc1366",
   "metadata": {},
   "outputs": [
    {
     "data": {
      "image/svg+xml": [
       "<svg xmlns=\"http://www.w3.org/2000/svg\" width=\"572.0\" height=\"340\">\n",
       "<path stroke-width=\"1\" stroke=\"gray\" d=\"M 26 298 20 320\"/>\n",
       "<path stroke-width=\"1\" stroke=\"gray\" d=\"M 26 298 59 312\"/>\n",
       "<path stroke-width=\"1\" stroke=\"gray\" d=\"M 20 320 26 298\"/>\n",
       "<path stroke-width=\"1\" stroke=\"gray\" d=\"M 20 320 59 312\"/>\n",
       "<path stroke-width=\"1\" stroke=\"gray\" d=\"M 59 312 26 298\"/>\n",
       "<path stroke-width=\"1\" stroke=\"gray\" d=\"M 59 312 20 320\"/>\n",
       "<path stroke-width=\"1\" stroke=\"gray\" d=\"M 21 20 21 20\"/>\n",
       "<path stroke-width=\"1\" stroke=\"gray\" d=\"M 391 175 378 154\"/>\n",
       "<path stroke-width=\"1\" stroke=\"gray\" d=\"M 391 175 420 159\"/>\n",
       "<path stroke-width=\"1\" stroke=\"gray\" d=\"M 378 154 391 175\"/>\n",
       "<path stroke-width=\"1\" stroke=\"gray\" d=\"M 378 154 420 159\"/>\n",
       "<path stroke-width=\"1\" stroke=\"gray\" d=\"M 420 159 391 175\"/>\n",
       "<path stroke-width=\"1\" stroke=\"gray\" d=\"M 420 159 378 154\"/>\n",
       "<circle cx=\"26\" cy=\"298\" r=\"7.0\" style=\"fill:gray;stroke:black;stroke-width:1.0\"/>\n",
       "<circle cx=\"20\" cy=\"320\" r=\"7.0\" style=\"fill:gray;stroke:black;stroke-width:1.0\"/>\n",
       "<circle cx=\"59\" cy=\"312\" r=\"7.0\" style=\"fill:gray;stroke:black;stroke-width:1.0\"/>\n",
       "<circle cx=\"21\" cy=\"20\" r=\"7.0\" style=\"fill:gray;stroke:black;stroke-width:1.0\"/>\n",
       "<circle cx=\"391\" cy=\"175\" r=\"7.0\" style=\"fill:gray;stroke:black;stroke-width:1.0\"/>\n",
       "<circle cx=\"378\" cy=\"154\" r=\"7.0\" style=\"fill:gray;stroke:black;stroke-width:1.0\"/>\n",
       "<circle cx=\"420\" cy=\"159\" r=\"7.0\" style=\"fill:gray;stroke:black;stroke-width:1.0\"/>\n",
       "<text text-anchor=\"start\" x=\"36\" y=\"298\" font-size=\"12\">0-['a' 'b']</text><text text-anchor=\"start\" x=\"30\" y=\"320\" font-size=\"12\">1-['a' 'c']</text><text text-anchor=\"start\" x=\"69\" y=\"312\" font-size=\"12\">2-['a' 'd']</text><text text-anchor=\"start\" x=\"31\" y=\"20\" font-size=\"12\">3-['a' 'd' 'e' 'f']</text><text text-anchor=\"start\" x=\"401\" y=\"175\" font-size=\"12\">4-['e' 'f']</text><text text-anchor=\"start\" x=\"388\" y=\"154\" font-size=\"12\">5-['e' 'g']</text><text text-anchor=\"start\" x=\"430\" y=\"159\" font-size=\"12\">6-['e' 'h']</text></svg>"
      ],
      "text/plain": [
       "<IPython.core.display.SVG object>"
      ]
     },
     "execution_count": 30,
     "metadata": {},
     "output_type": "execute_result"
    }
   ],
   "source": [
    "SVG(svg_graph(G5, names=[n + '-' + str(names_col5[x.indices]) for n, x in zip(names5, X5)]))"
   ]
  },
  {
   "cell_type": "code",
   "execution_count": 31,
   "id": "380e5bd9-8072-4044-a8fb-3ed2b06777f6",
   "metadata": {},
   "outputs": [
    {
     "name": "stdout",
     "output_type": "stream",
     "text": [
      "['b' 'c' 'g' 'h' 'd' 'f' 'a' 'e']\n",
      "CPU times: user 5.98 ms, sys: 1.45 ms, total: 7.44 ms\n",
      "Wall time: 6.3 ms\n"
     ]
    }
   ],
   "source": [
    "%%time\n",
    "result, sorted_names_col = run_algorithm(G5, X5, names_col5, 1, 1000, 'log_custom5')"
   ]
  },
  {
   "cell_type": "code",
   "execution_count": 32,
   "id": "8295fcdc-f884-47d4-83f0-720800636006",
   "metadata": {},
   "outputs": [
    {
     "name": "stdout",
     "output_type": "stream",
     "text": [
      "[0 1 2 3 4 5 6] []\n",
      "[0] ['b']\n",
      "[1] ['c']\n",
      "[5] ['g']\n",
      "[6] ['h']\n",
      "[2 3] ['d']\n",
      "[3 4] ['f']\n",
      "[0 1 2 3] ['a']\n",
      "[3 4 5 6] ['e']\n"
     ]
    }
   ],
   "source": [
    "for c in result:\n",
    "    print(c[0], sorted_names_col[c[1]])"
   ]
  },
  {
   "cell_type": "markdown",
   "id": "04fa6a72-98e6-4f8b-b431-5b9dfb943a56",
   "metadata": {},
   "source": [
    "* pros:\n",
    "    - pas de concept avec un seul noeud si ce noeud est déjà dans d'autres concepts plus gr-ands\n",
    "* cons: \n",
    "    - pas de concept avec les noeuds `[2, 3, 4]` (intersection vide) ?\n",
    "    - pas de concept avec le noeud `3` uniquement ?"
   ]
  },
  {
   "cell_type": "markdown",
   "id": "515c5035-b2cc-40eb-acb8-d714b98d6667",
   "metadata": {
    "tags": []
   },
   "source": [
    "### Custom6  \n",
    "\n",
    "Connected nodes without anything in common."
   ]
  },
  {
   "cell_type": "code",
   "execution_count": 36,
   "id": "a6b65072-40e2-4bb3-af72-a7f1cc821748",
   "metadata": {},
   "outputs": [],
   "source": [
    "G6 = sparse.csr_matrix(np.array([\n",
    "    [0, 1, 1, 1, 1, 1, 1],\n",
    "    [1, 0, 1, 1, 1, 1, 1],\n",
    "    [1, 1, 0, 1, 1, 1, 1],\n",
    "    [1, 1, 1, 0, 1, 1, 1],\n",
    "    [1, 1, 1, 1, 0, 1, 1],\n",
    "    [1, 1, 1, 1, 1, 0, 1],\n",
    "    [1, 1, 1, 1, 1, 1, 0]\n",
    "]))\n",
    "X6 = sparse.csr_matrix(np.array([\n",
    "    [1, 0, 0, 0, 0, 0, 0],\n",
    "    [1, 1, 0, 0, 0, 0, 0],\n",
    "    [1, 0, 1, 0, 0, 0, 0],\n",
    "    [1, 0, 0, 1, 0, 0, 0],\n",
    "    [1, 0, 0, 0, 1, 0, 0],\n",
    "    [1, 0, 0, 0, 0, 1, 0],\n",
    "    [1, 0, 0, 0, 0, 0, 1],\n",
    "]))\n",
    "names6 = np.array(range(G6.shape[0])).astype(str)\n",
    "names_col6 = np.array(['a', 'b', 'c', 'd', 'e', 'f', 'g'])"
   ]
  },
  {
   "cell_type": "code",
   "execution_count": 33,
   "id": "67686059-6628-4e73-baba-aded03b89c70",
   "metadata": {},
   "outputs": [],
   "source": [
    "G6 = sparse.csr_matrix(np.array([\n",
    "    [0, 1, 1, 1, 1, 1, 1],\n",
    "    [1, 0, 1, 1, 1, 1, 1],\n",
    "    [1, 1, 0, 1, 1, 1, 1],\n",
    "    [1, 1, 1, 0, 1, 1, 1],\n",
    "    [1, 1, 1, 1, 0, 1, 1],\n",
    "    [1, 1, 1, 1, 1, 0, 1],\n",
    "    [1, 1, 1, 1, 1, 1, 0]\n",
    "]))\n",
    "X6 = sparse.csr_matrix(np.array([\n",
    "    [1, 0, 0, 0, 0, 0, 0],\n",
    "    [0, 1, 0, 0, 0, 0, 0],\n",
    "    [0, 0, 1, 0, 0, 0, 0],\n",
    "    [0, 0, 0, 1, 0, 0, 0],\n",
    "    [0, 0, 0, 0, 1, 0, 0],\n",
    "    [0, 0, 0, 0, 0, 1, 0],\n",
    "    [0, 0, 0, 0, 0, 0, 1],\n",
    "]))\n",
    "names6 = np.array(range(G6.shape[0])).astype(str)\n",
    "names_col6 = np.array(['a', 'b', 'c', 'd', 'e', 'f', 'g'])"
   ]
  },
  {
   "cell_type": "code",
   "execution_count": 37,
   "id": "9727e820-f882-4709-9abc-e7d99c9aa979",
   "metadata": {},
   "outputs": [
    {
     "data": {
      "image/svg+xml": [
       "<svg xmlns=\"http://www.w3.org/2000/svg\" width=\"572.0\" height=\"340\">\n",
       "<path stroke-width=\"1\" stroke=\"gray\" d=\"M 312 320 20 162\"/>\n",
       "<path stroke-width=\"1\" stroke=\"gray\" d=\"M 127 20 327 27\"/>\n",
       "<path stroke-width=\"1\" stroke=\"gray\" d=\"M 219 170 312 320\"/>\n",
       "<path stroke-width=\"1\" stroke=\"gray\" d=\"M 219 170 20 162\"/>\n",
       "<path stroke-width=\"1\" stroke=\"gray\" d=\"M 219 170 112 313\"/>\n",
       "<path stroke-width=\"1\" stroke=\"gray\" d=\"M 219 170 127 20\"/>\n",
       "<path stroke-width=\"1\" stroke=\"gray\" d=\"M 219 170 420 177\"/>\n",
       "<path stroke-width=\"1\" stroke=\"gray\" d=\"M 219 170 327 27\"/>\n",
       "<path stroke-width=\"1\" stroke=\"gray\" d=\"M 420 177 312 320\"/>\n",
       "<path stroke-width=\"1\" stroke=\"gray\" d=\"M 420 177 20 162\"/>\n",
       "<path stroke-width=\"1\" stroke=\"gray\" d=\"M 420 177 112 313\"/>\n",
       "<path stroke-width=\"1\" stroke=\"gray\" d=\"M 420 177 127 20\"/>\n",
       "<path stroke-width=\"1\" stroke=\"gray\" d=\"M 420 177 219 170\"/>\n",
       "<path stroke-width=\"1\" stroke=\"gray\" d=\"M 420 177 327 27\"/>\n",
       "<path stroke-width=\"1\" stroke=\"gray\" d=\"M 327 27 312 320\"/>\n",
       "<path stroke-width=\"1\" stroke=\"gray\" d=\"M 327 27 20 162\"/>\n",
       "<path stroke-width=\"1\" stroke=\"gray\" d=\"M 327 27 112 313\"/>\n",
       "<path stroke-width=\"1\" stroke=\"gray\" d=\"M 327 27 127 20\"/>\n",
       "<path stroke-width=\"1\" stroke=\"gray\" d=\"M 127 20 420 177\"/>\n",
       "<path stroke-width=\"1\" stroke=\"gray\" d=\"M 127 20 219 170\"/>\n",
       "<path stroke-width=\"1\" stroke=\"gray\" d=\"M 127 20 112 313\"/>\n",
       "<path stroke-width=\"1\" stroke=\"gray\" d=\"M 127 20 20 162\"/>\n",
       "<path stroke-width=\"1\" stroke=\"gray\" d=\"M 312 320 112 313\"/>\n",
       "<path stroke-width=\"1\" stroke=\"gray\" d=\"M 312 320 127 20\"/>\n",
       "<path stroke-width=\"1\" stroke=\"gray\" d=\"M 312 320 219 170\"/>\n",
       "<path stroke-width=\"1\" stroke=\"gray\" d=\"M 312 320 420 177\"/>\n",
       "<path stroke-width=\"1\" stroke=\"gray\" d=\"M 312 320 327 27\"/>\n",
       "<path stroke-width=\"1\" stroke=\"gray\" d=\"M 20 162 312 320\"/>\n",
       "<path stroke-width=\"1\" stroke=\"gray\" d=\"M 20 162 112 313\"/>\n",
       "<path stroke-width=\"1\" stroke=\"gray\" d=\"M 20 162 127 20\"/>\n",
       "<path stroke-width=\"1\" stroke=\"gray\" d=\"M 327 27 219 170\"/>\n",
       "<path stroke-width=\"1\" stroke=\"gray\" d=\"M 20 162 219 170\"/>\n",
       "<path stroke-width=\"1\" stroke=\"gray\" d=\"M 20 162 327 27\"/>\n",
       "<path stroke-width=\"1\" stroke=\"gray\" d=\"M 112 313 312 320\"/>\n",
       "<path stroke-width=\"1\" stroke=\"gray\" d=\"M 112 313 20 162\"/>\n",
       "<path stroke-width=\"1\" stroke=\"gray\" d=\"M 112 313 127 20\"/>\n",
       "<path stroke-width=\"1\" stroke=\"gray\" d=\"M 112 313 219 170\"/>\n",
       "<path stroke-width=\"1\" stroke=\"gray\" d=\"M 112 313 420 177\"/>\n",
       "<path stroke-width=\"1\" stroke=\"gray\" d=\"M 112 313 327 27\"/>\n",
       "<path stroke-width=\"1\" stroke=\"gray\" d=\"M 127 20 312 320\"/>\n",
       "<path stroke-width=\"1\" stroke=\"gray\" d=\"M 20 162 420 177\"/>\n",
       "<path stroke-width=\"1\" stroke=\"gray\" d=\"M 327 27 420 177\"/>\n",
       "<circle cx=\"312\" cy=\"320\" r=\"7.0\" style=\"fill:gray;stroke:black;stroke-width:1.0\"/>\n",
       "<circle cx=\"20\" cy=\"162\" r=\"7.0\" style=\"fill:gray;stroke:black;stroke-width:1.0\"/>\n",
       "<circle cx=\"112\" cy=\"313\" r=\"7.0\" style=\"fill:gray;stroke:black;stroke-width:1.0\"/>\n",
       "<circle cx=\"127\" cy=\"20\" r=\"7.0\" style=\"fill:gray;stroke:black;stroke-width:1.0\"/>\n",
       "<circle cx=\"219\" cy=\"170\" r=\"7.0\" style=\"fill:gray;stroke:black;stroke-width:1.0\"/>\n",
       "<circle cx=\"420\" cy=\"177\" r=\"7.0\" style=\"fill:gray;stroke:black;stroke-width:1.0\"/>\n",
       "<circle cx=\"327\" cy=\"27\" r=\"7.0\" style=\"fill:gray;stroke:black;stroke-width:1.0\"/>\n",
       "<text text-anchor=\"start\" x=\"322\" y=\"320\" font-size=\"12\">0-['a']</text><text text-anchor=\"start\" x=\"30\" y=\"162\" font-size=\"12\">1-['a' 'b']</text><text text-anchor=\"start\" x=\"122\" y=\"313\" font-size=\"12\">2-['a' 'c']</text><text text-anchor=\"start\" x=\"137\" y=\"20\" font-size=\"12\">3-['a' 'd']</text><text text-anchor=\"start\" x=\"229\" y=\"170\" font-size=\"12\">4-['a' 'e']</text><text text-anchor=\"start\" x=\"430\" y=\"177\" font-size=\"12\">5-['a' 'f']</text><text text-anchor=\"start\" x=\"337\" y=\"27\" font-size=\"12\">6-['a' 'g']</text></svg>"
      ],
      "text/plain": [
       "<IPython.core.display.SVG object>"
      ]
     },
     "execution_count": 37,
     "metadata": {},
     "output_type": "execute_result"
    }
   ],
   "source": [
    "SVG(svg_graph(G6, names=[n + '-' + str(names_col6[x.indices]) for n, x in zip(names6, X6)]))"
   ]
  },
  {
   "cell_type": "code",
   "execution_count": 38,
   "id": "94defd08-eed7-4333-9d99-cef71dbc8fc4",
   "metadata": {},
   "outputs": [
    {
     "name": "stdout",
     "output_type": "stream",
     "text": [
      "['b' 'c' 'd' 'e' 'f' 'g' 'a']\n",
      "CPU times: user 5.28 ms, sys: 1.75 ms, total: 7.03 ms\n",
      "Wall time: 5.9 ms\n"
     ]
    }
   ],
   "source": [
    "%%time\n",
    "result, sorted_names_col = run_algorithm(G6, X6, names_col6, 1, 1000, 'log_custom6_bis')"
   ]
  },
  {
   "cell_type": "code",
   "execution_count": 39,
   "id": "7b18254d-12f1-46fa-b2a4-5f1a4df228de",
   "metadata": {},
   "outputs": [
    {
     "name": "stdout",
     "output_type": "stream",
     "text": [
      "[0 1 2 3 4 5 6] ['a']\n",
      "[1] ['b']\n",
      "[2] ['c']\n",
      "[3] ['d']\n",
      "[4] ['e']\n",
      "[5] ['f']\n",
      "[6] ['g']\n"
     ]
    }
   ],
   "source": [
    "for c in result:\n",
    "    print(c[0], sorted_names_col[c[1]])"
   ]
  },
  {
   "cell_type": "markdown",
   "id": "d3fd7d8b-c920-4dd6-a00c-e9e0c3999ddd",
   "metadata": {},
   "source": [
    "* pros:\n",
    "    - pas de concept avec tous les noeuds malgré la densité  \n",
    "* cons:\n",
    "    - perte d'information sur la structure du graphe initial ? "
   ]
  },
  {
   "cell_type": "markdown",
   "id": "658911f6-b9f0-4a7a-9bbe-93cdb4d7716b",
   "metadata": {
    "tags": []
   },
   "source": [
    "### Custom7  \n",
    "\n",
    "1 article between 1 strong community and one diverse community"
   ]
  },
  {
   "cell_type": "code",
   "execution_count": 147,
   "id": "010e4b6d-e1c5-46d8-8e9c-0f20e93e8c15",
   "metadata": {},
   "outputs": [],
   "source": [
    "G7 = sparse.csr_matrix(np.array([\n",
    "    [0, 1, 1, 1, 0, 0, 0, 0, 0],\n",
    "    [1, 0, 1, 1, 0, 0, 0, 0, 0],\n",
    "    [1, 1, 0, 1, 0, 0, 0, 0, 0],\n",
    "    [1, 1, 1, 0, 1, 0, 0, 0, 0],\n",
    "    [0, 0, 0, 1, 0, 1, 0, 0, 0],\n",
    "    [0, 0, 0, 0, 1, 0, 1, 1, 1],\n",
    "    [0, 0, 0, 0, 0, 1, 0, 1, 1],\n",
    "    [0, 0, 0, 0, 0, 1, 1, 0, 1],\n",
    "    [0, 0, 0, 0, 0, 1, 1, 1, 0]\n",
    "]))\n",
    "X7 = sparse.csr_matrix(np.array([\n",
    "    [1, 1, 0, 0, 0, 0],\n",
    "    [1, 0, 1, 0, 0, 0],\n",
    "    [1, 0, 0, 1, 0, 0],\n",
    "    [0, 1, 1, 0, 0, 0],\n",
    "    [0, 1, 1, 0, 1, 1],\n",
    "    [0, 0, 0, 0, 0, 1],\n",
    "    [0, 0, 0, 0, 0, 1],\n",
    "    [0, 0, 0, 0, 0, 1],\n",
    "    [0, 0, 0, 0, 0, 1]\n",
    "]))\n",
    "names7 = np.array(range(G7.shape[0])).astype(str)\n",
    "names_col7 = np.array(['a', 'b', 'c', 'd', 'e', 'f'])"
   ]
  },
  {
   "cell_type": "code",
   "execution_count": 148,
   "id": "7777a37d-79ef-4376-bec4-0140ed21f456",
   "metadata": {},
   "outputs": [
    {
     "data": {
      "image/svg+xml": [
       "<svg xmlns=\"http://www.w3.org/2000/svg\" width=\"524.0\" height=\"340\">\n",
       "<path stroke-width=\"1\" stroke=\"gray\" d=\"M 90 42 20 65\"/>\n",
       "<path stroke-width=\"1\" stroke=\"gray\" d=\"M 410 320 332 253\"/>\n",
       "<path stroke-width=\"1\" stroke=\"gray\" d=\"M 420 278 410 320\"/>\n",
       "<path stroke-width=\"1\" stroke=\"gray\" d=\"M 420 278 349 315\"/>\n",
       "<path stroke-width=\"1\" stroke=\"gray\" d=\"M 420 278 332 253\"/>\n",
       "<path stroke-width=\"1\" stroke=\"gray\" d=\"M 349 315 410 320\"/>\n",
       "<path stroke-width=\"1\" stroke=\"gray\" d=\"M 349 315 420 278\"/>\n",
       "<path stroke-width=\"1\" stroke=\"gray\" d=\"M 349 315 332 253\"/>\n",
       "<path stroke-width=\"1\" stroke=\"gray\" d=\"M 332 253 410 320\"/>\n",
       "<path stroke-width=\"1\" stroke=\"gray\" d=\"M 332 253 420 278\"/>\n",
       "<path stroke-width=\"1\" stroke=\"gray\" d=\"M 332 253 349 315\"/>\n",
       "<path stroke-width=\"1\" stroke=\"gray\" d=\"M 332 253 225 173\"/>\n",
       "<path stroke-width=\"1\" stroke=\"gray\" d=\"M 225 173 332 253\"/>\n",
       "<path stroke-width=\"1\" stroke=\"gray\" d=\"M 225 173 117 91\"/>\n",
       "<path stroke-width=\"1\" stroke=\"gray\" d=\"M 117 91 225 173\"/>\n",
       "<path stroke-width=\"1\" stroke=\"gray\" d=\"M 117 91 48 20\"/>\n",
       "<path stroke-width=\"1\" stroke=\"gray\" d=\"M 117 91 20 65\"/>\n",
       "<path stroke-width=\"1\" stroke=\"gray\" d=\"M 117 91 90 42\"/>\n",
       "<path stroke-width=\"1\" stroke=\"gray\" d=\"M 48 20 117 91\"/>\n",
       "<path stroke-width=\"1\" stroke=\"gray\" d=\"M 48 20 20 65\"/>\n",
       "<path stroke-width=\"1\" stroke=\"gray\" d=\"M 48 20 90 42\"/>\n",
       "<path stroke-width=\"1\" stroke=\"gray\" d=\"M 20 65 117 91\"/>\n",
       "<path stroke-width=\"1\" stroke=\"gray\" d=\"M 20 65 48 20\"/>\n",
       "<path stroke-width=\"1\" stroke=\"gray\" d=\"M 20 65 90 42\"/>\n",
       "<path stroke-width=\"1\" stroke=\"gray\" d=\"M 90 42 117 91\"/>\n",
       "<path stroke-width=\"1\" stroke=\"gray\" d=\"M 90 42 48 20\"/>\n",
       "<path stroke-width=\"1\" stroke=\"gray\" d=\"M 410 320 349 315\"/>\n",
       "<path stroke-width=\"1\" stroke=\"gray\" d=\"M 410 320 420 278\"/>\n",
       "<circle cx=\"90\" cy=\"42\" r=\"7.0\" style=\"fill:gray;stroke:black;stroke-width:1.0\"/>\n",
       "<circle cx=\"20\" cy=\"65\" r=\"7.0\" style=\"fill:gray;stroke:black;stroke-width:1.0\"/>\n",
       "<circle cx=\"48\" cy=\"20\" r=\"7.0\" style=\"fill:gray;stroke:black;stroke-width:1.0\"/>\n",
       "<circle cx=\"117\" cy=\"91\" r=\"7.0\" style=\"fill:gray;stroke:black;stroke-width:1.0\"/>\n",
       "<circle cx=\"225\" cy=\"173\" r=\"7.0\" style=\"fill:gray;stroke:black;stroke-width:1.0\"/>\n",
       "<circle cx=\"332\" cy=\"253\" r=\"7.0\" style=\"fill:gray;stroke:black;stroke-width:1.0\"/>\n",
       "<circle cx=\"349\" cy=\"315\" r=\"7.0\" style=\"fill:gray;stroke:black;stroke-width:1.0\"/>\n",
       "<circle cx=\"420\" cy=\"278\" r=\"7.0\" style=\"fill:gray;stroke:black;stroke-width:1.0\"/>\n",
       "<circle cx=\"410\" cy=\"320\" r=\"7.0\" style=\"fill:gray;stroke:black;stroke-width:1.0\"/>\n",
       "<text text-anchor=\"start\" x=\"100\" y=\"42\" font-size=\"12\">0-['a' 'b']</text><text text-anchor=\"start\" x=\"30\" y=\"65\" font-size=\"12\">1-['a' 'c']</text><text text-anchor=\"start\" x=\"58\" y=\"20\" font-size=\"12\">2-['a' 'd']</text><text text-anchor=\"start\" x=\"127\" y=\"91\" font-size=\"12\">3-['b' 'c']</text><text text-anchor=\"start\" x=\"235\" y=\"173\" font-size=\"12\">4-['b' 'c' 'e' 'f']</text><text text-anchor=\"start\" x=\"342\" y=\"253\" font-size=\"12\">5-['f']</text><text text-anchor=\"start\" x=\"359\" y=\"315\" font-size=\"12\">6-['f']</text><text text-anchor=\"start\" x=\"430\" y=\"278\" font-size=\"12\">7-['f']</text><text text-anchor=\"start\" x=\"420\" y=\"320\" font-size=\"12\">8-['f']</text></svg>"
      ],
      "text/plain": [
       "<IPython.core.display.SVG object>"
      ]
     },
     "execution_count": 148,
     "metadata": {},
     "output_type": "execute_result"
    }
   ],
   "source": [
    "SVG(svg_graph(G7, names=[n + '-' + str(names_col7[x.indices]) for n, x in zip(names7, X7)]))"
   ]
  },
  {
   "cell_type": "code",
   "execution_count": 149,
   "id": "3994c30f-6d25-4ac7-94ba-193817f368d0",
   "metadata": {},
   "outputs": [
    {
     "name": "stdout",
     "output_type": "stream",
     "text": [
      "CPU times: user 14.3 ms, sys: 3.13 ms, total: 17.5 ms\n",
      "Wall time: 15.3 ms\n"
     ]
    }
   ],
   "source": [
    "%%time\n",
    "result, sorted_names_col = run_algorithm(G7, X7, names_col7, 1, 1000, 'log_custom7')"
   ]
  },
  {
   "cell_type": "code",
   "execution_count": 150,
   "id": "5cf06403-8c89-4692-b623-7ecef91a70fc",
   "metadata": {},
   "outputs": [
    {
     "name": "stdout",
     "output_type": "stream",
     "text": [
      "[0 1 2 3 4 5 6 7 8] []\n",
      "[2] ['d']\n",
      "[4] ['e']\n",
      "[0 1 2] ['a']\n",
      "[0] ['a' 'b']\n",
      "[1] ['a' 'c']\n",
      "[0 3 4] ['b']\n",
      "[3 4] ['b' 'c']\n",
      "[1 3 4] ['c']\n",
      "[4 5 6 7 8] ['f']\n"
     ]
    }
   ],
   "source": [
    "for c in result:\n",
    "    print(c[0], sorted_names_col[c[1]])"
   ]
  },
  {
   "cell_type": "markdown",
   "id": "22a3d175-a06a-474e-9c9b-93c3794098c7",
   "metadata": {},
   "source": [
    "* pros:\n",
    "    - `4` n'est pas isolé de `[5, 6, 7, 8]`\n",
    "    - `2` isolé (seul qui contient `'d'`)\n",
    "    - `4` isolé (seul qui contient `'e'`)\n",
    "* cons: \n",
    "    - `[3, 4]` n'est pas nécessaire si on a `[1, 3, 4]` et `[0, 3, 4]` ?\n",
    "    - "
   ]
  },
  {
   "cell_type": "code",
   "execution_count": 190,
   "id": "630decd8-eec1-4d35-9df5-ee691252c17a",
   "metadata": {},
   "outputs": [],
   "source": [
    "def get_summarized_graph(adjacency, concepts):\n",
    "    \"\"\"Get summarized graph given concepts and original adjacency matrix.\"\"\"\n",
    "    \n",
    "    rows, cols = [], []\n",
    "\n",
    "    for c in concepts:\n",
    "\n",
    "        # exclude first element of lattice \n",
    "        if len(c[1]) > 0:\n",
    "            nodes = sorted(c[0])\n",
    "            idx = 0\n",
    "            idx_nodes = np.array([-1] * len(nodes)) # number of unique nodes from concepts\n",
    "            # reindex nodes\n",
    "            for n in nodes:\n",
    "                if n not in idx_nodes:\n",
    "                    idx_nodes[idx] = n\n",
    "                    idx += 1\n",
    "            \n",
    "            # Record edges from subgraph related to concept\n",
    "            adj_concept = adjacency[nodes, :][:, nodes].tocoo()\n",
    "            reindex_rows = [int(idx_nodes[src]) for src in adj_concept.row]\n",
    "            reindex_cols = [int(idx_nodes[dst]) for dst in adj_concept.col]\n",
    "            rows += reindex_rows\n",
    "            cols += reindex_cols\n",
    "            \n",
    "    return sparse.coo_matrix((np.ones(len(rows)), (rows, cols)), shape=adjacency.shape).tocsr()"
   ]
  },
  {
   "cell_type": "code",
   "execution_count": 191,
   "id": "acd17fc1-e876-4381-8b17-424a6b20a019",
   "metadata": {},
   "outputs": [
    {
     "data": {
      "text/plain": [
       "<9x9 sparse matrix of type '<class 'numpy.float64'>'\n",
       "\twith 26 stored elements in Compressed Sparse Row format>"
      ]
     },
     "execution_count": 191,
     "metadata": {},
     "output_type": "execute_result"
    }
   ],
   "source": [
    "get_summarized_graph(G7, result)"
   ]
  },
  {
   "cell_type": "code",
   "execution_count": 192,
   "id": "38a7a2af-2022-4c5f-8606-c85758f1e6f4",
   "metadata": {},
   "outputs": [
    {
     "data": {
      "image/svg+xml": [
       "<svg xmlns=\"http://www.w3.org/2000/svg\" width=\"524.0\" height=\"340\">\n",
       "<path stroke-width=\"0.5\" stroke=\"gray\" d=\"M 98 315 76 260\"/>\n",
       "<path stroke-width=\"0.5\" stroke=\"gray\" d=\"M 419 81 343 98\"/>\n",
       "<path stroke-width=\"0.5\" stroke=\"gray\" d=\"M 371 20 419 81\"/>\n",
       "<path stroke-width=\"0.5\" stroke=\"gray\" d=\"M 371 20 420 23\"/>\n",
       "<path stroke-width=\"0.5\" stroke=\"gray\" d=\"M 371 20 343 98\"/>\n",
       "<path stroke-width=\"0.5\" stroke=\"gray\" d=\"M 420 23 419 81\"/>\n",
       "<path stroke-width=\"0.5\" stroke=\"gray\" d=\"M 420 23 371 20\"/>\n",
       "<path stroke-width=\"0.5\" stroke=\"gray\" d=\"M 420 23 343 98\"/>\n",
       "<path stroke-width=\"0.5\" stroke=\"gray\" d=\"M 343 98 419 81\"/>\n",
       "<path stroke-width=\"0.5\" stroke=\"gray\" d=\"M 343 98 371 20\"/>\n",
       "<path stroke-width=\"0.5\" stroke=\"gray\" d=\"M 343 98 420 23\"/>\n",
       "<path stroke-width=\"0.5\" stroke=\"gray\" d=\"M 343 98 237 188\"/>\n",
       "<path stroke-width=\"0.5\" stroke=\"gray\" d=\"M 237 188 343 98\"/>\n",
       "<path stroke-width=\"20.0\" stroke=\"gray\" d=\"M 237 188 171 236\"/>\n",
       "<path stroke-width=\"20.0\" stroke=\"gray\" d=\"M 171 236 237 188\"/>\n",
       "<path stroke-width=\"0.5\" stroke=\"gray\" d=\"M 171 236 76 260\"/>\n",
       "<path stroke-width=\"0.5\" stroke=\"gray\" d=\"M 171 236 98 315\"/>\n",
       "<path stroke-width=\"0.5\" stroke=\"gray\" d=\"M 20 320 76 260\"/>\n",
       "<path stroke-width=\"0.5\" stroke=\"gray\" d=\"M 20 320 98 315\"/>\n",
       "<path stroke-width=\"0.5\" stroke=\"gray\" d=\"M 76 260 171 236\"/>\n",
       "<path stroke-width=\"0.5\" stroke=\"gray\" d=\"M 76 260 20 320\"/>\n",
       "<path stroke-width=\"0.5\" stroke=\"gray\" d=\"M 76 260 98 315\"/>\n",
       "<path stroke-width=\"0.5\" stroke=\"gray\" d=\"M 98 315 171 236\"/>\n",
       "<path stroke-width=\"0.5\" stroke=\"gray\" d=\"M 98 315 20 320\"/>\n",
       "<path stroke-width=\"0.5\" stroke=\"gray\" d=\"M 419 81 420 23\"/>\n",
       "<path stroke-width=\"0.5\" stroke=\"gray\" d=\"M 419 81 371 20\"/>\n",
       "<circle cx=\"98\" cy=\"315\" r=\"7.0\" style=\"fill:gray;stroke:black;stroke-width:1.0\"/>\n",
       "<circle cx=\"76\" cy=\"260\" r=\"7.0\" style=\"fill:gray;stroke:black;stroke-width:1.0\"/>\n",
       "<circle cx=\"20\" cy=\"320\" r=\"7.0\" style=\"fill:gray;stroke:black;stroke-width:1.0\"/>\n",
       "<circle cx=\"171\" cy=\"236\" r=\"7.0\" style=\"fill:gray;stroke:black;stroke-width:1.0\"/>\n",
       "<circle cx=\"237\" cy=\"188\" r=\"7.0\" style=\"fill:gray;stroke:black;stroke-width:1.0\"/>\n",
       "<circle cx=\"343\" cy=\"98\" r=\"7.0\" style=\"fill:gray;stroke:black;stroke-width:1.0\"/>\n",
       "<circle cx=\"420\" cy=\"23\" r=\"7.0\" style=\"fill:gray;stroke:black;stroke-width:1.0\"/>\n",
       "<circle cx=\"371\" cy=\"20\" r=\"7.0\" style=\"fill:gray;stroke:black;stroke-width:1.0\"/>\n",
       "<circle cx=\"419\" cy=\"81\" r=\"7.0\" style=\"fill:gray;stroke:black;stroke-width:1.0\"/>\n",
       "<text text-anchor=\"start\" x=\"108\" y=\"315\" font-size=\"12\">0-['a' 'b']</text><text text-anchor=\"start\" x=\"86\" y=\"260\" font-size=\"12\">1-['a' 'c']</text><text text-anchor=\"start\" x=\"30\" y=\"320\" font-size=\"12\">2-['a' 'd']</text><text text-anchor=\"start\" x=\"181\" y=\"236\" font-size=\"12\">3-['b' 'c']</text><text text-anchor=\"start\" x=\"247\" y=\"188\" font-size=\"12\">4-['b' 'c' 'e' 'f']</text><text text-anchor=\"start\" x=\"353\" y=\"98\" font-size=\"12\">5-['f']</text><text text-anchor=\"start\" x=\"430\" y=\"23\" font-size=\"12\">6-['f']</text><text text-anchor=\"start\" x=\"381\" y=\"20\" font-size=\"12\">7-['f']</text><text text-anchor=\"start\" x=\"429\" y=\"81\" font-size=\"12\">8-['f']</text></svg>"
      ],
      "text/plain": [
       "<IPython.core.display.SVG object>"
      ]
     },
     "execution_count": 192,
     "metadata": {},
     "output_type": "execute_result"
    }
   ],
   "source": [
    "# Summarized graph\n",
    "SVG(svg_graph(get_summarized_graph(G7, result), names=[n + '-' + str(names_col7[x.indices]) for n, x in zip(names7, X7)]))"
   ]
  },
  {
   "cell_type": "markdown",
   "id": "16b895a6-3735-4b11-bbd3-f59a2634b68f",
   "metadata": {
    "tags": []
   },
   "source": [
    "### Custom8  \n",
    "\n",
    "Connected common nodes one different node."
   ]
  },
  {
   "cell_type": "code",
   "execution_count": 185,
   "id": "d37d7114-b185-4ce6-ae16-ca5ce2ebcbed",
   "metadata": {},
   "outputs": [],
   "source": [
    "G8 = sparse.csr_matrix(np.array([\n",
    "    [0, 1, 1, 1, 1, 1, 1],\n",
    "    [1, 0, 1, 1, 1, 1, 1],\n",
    "    [1, 1, 0, 1, 1, 1, 1],\n",
    "    [1, 1, 1, 0, 1, 1, 1],\n",
    "    [1, 1, 1, 1, 0, 1, 1],\n",
    "    [1, 1, 1, 1, 1, 0, 1],\n",
    "    [1, 1, 1, 1, 1, 1, 0]\n",
    "]))\n",
    "X8 = sparse.csr_matrix(np.array([\n",
    "    [1, 1, 1, 1, 0, 0, 0],\n",
    "    [1, 1, 1, 1, 0, 0, 0],\n",
    "    [1, 1, 1, 1, 0, 0, 0],\n",
    "    [1, 1, 1, 1, 0, 0, 0],\n",
    "    [1, 1, 1, 1, 0, 0, 0],\n",
    "    [1, 1, 1, 1, 0, 0, 0],\n",
    "    [1, 1, 0, 0, 1, 1, 1],\n",
    "]))\n",
    "names8 = np.array(range(G8.shape[0])).astype(str)\n",
    "names_col8 = np.array(['a', 'b', 'c', 'd', 'e', 'f', 'g'])"
   ]
  },
  {
   "cell_type": "code",
   "execution_count": 186,
   "id": "30f6f3e6-cd35-4e6d-b5ac-6d6c67dce7f5",
   "metadata": {},
   "outputs": [
    {
     "data": {
      "image/svg+xml": [
       "<svg xmlns=\"http://www.w3.org/2000/svg\" width=\"668.0\" height=\"340\">\n",
       "<path stroke-width=\"1\" stroke=\"gray\" d=\"M 420 96 417 246\"/>\n",
       "<path stroke-width=\"1\" stroke=\"gray\" d=\"M 217 320 222 20\"/>\n",
       "<path stroke-width=\"1\" stroke=\"gray\" d=\"M 220 169 420 96\"/>\n",
       "<path stroke-width=\"1\" stroke=\"gray\" d=\"M 220 169 417 246\"/>\n",
       "<path stroke-width=\"1\" stroke=\"gray\" d=\"M 220 169 20 243\"/>\n",
       "<path stroke-width=\"1\" stroke=\"gray\" d=\"M 220 169 217 320\"/>\n",
       "<path stroke-width=\"1\" stroke=\"gray\" d=\"M 220 169 22 93\"/>\n",
       "<path stroke-width=\"1\" stroke=\"gray\" d=\"M 220 169 222 20\"/>\n",
       "<path stroke-width=\"1\" stroke=\"gray\" d=\"M 22 93 420 96\"/>\n",
       "<path stroke-width=\"1\" stroke=\"gray\" d=\"M 22 93 417 246\"/>\n",
       "<path stroke-width=\"1\" stroke=\"gray\" d=\"M 22 93 20 243\"/>\n",
       "<path stroke-width=\"1\" stroke=\"gray\" d=\"M 22 93 217 320\"/>\n",
       "<path stroke-width=\"1\" stroke=\"gray\" d=\"M 22 93 220 169\"/>\n",
       "<path stroke-width=\"1\" stroke=\"gray\" d=\"M 22 93 222 20\"/>\n",
       "<path stroke-width=\"1\" stroke=\"gray\" d=\"M 222 20 420 96\"/>\n",
       "<path stroke-width=\"1\" stroke=\"gray\" d=\"M 222 20 417 246\"/>\n",
       "<path stroke-width=\"1\" stroke=\"gray\" d=\"M 222 20 20 243\"/>\n",
       "<path stroke-width=\"1\" stroke=\"gray\" d=\"M 222 20 217 320\"/>\n",
       "<path stroke-width=\"1\" stroke=\"gray\" d=\"M 217 320 22 93\"/>\n",
       "<path stroke-width=\"1\" stroke=\"gray\" d=\"M 217 320 220 169\"/>\n",
       "<path stroke-width=\"1\" stroke=\"gray\" d=\"M 217 320 20 243\"/>\n",
       "<path stroke-width=\"1\" stroke=\"gray\" d=\"M 217 320 417 246\"/>\n",
       "<path stroke-width=\"1\" stroke=\"gray\" d=\"M 420 96 20 243\"/>\n",
       "<path stroke-width=\"1\" stroke=\"gray\" d=\"M 420 96 217 320\"/>\n",
       "<path stroke-width=\"1\" stroke=\"gray\" d=\"M 420 96 220 169\"/>\n",
       "<path stroke-width=\"1\" stroke=\"gray\" d=\"M 420 96 22 93\"/>\n",
       "<path stroke-width=\"1\" stroke=\"gray\" d=\"M 420 96 222 20\"/>\n",
       "<path stroke-width=\"1\" stroke=\"gray\" d=\"M 417 246 420 96\"/>\n",
       "<path stroke-width=\"1\" stroke=\"gray\" d=\"M 417 246 20 243\"/>\n",
       "<path stroke-width=\"1\" stroke=\"gray\" d=\"M 417 246 217 320\"/>\n",
       "<path stroke-width=\"1\" stroke=\"gray\" d=\"M 222 20 220 169\"/>\n",
       "<path stroke-width=\"1\" stroke=\"gray\" d=\"M 417 246 220 169\"/>\n",
       "<path stroke-width=\"1\" stroke=\"gray\" d=\"M 417 246 222 20\"/>\n",
       "<path stroke-width=\"1\" stroke=\"gray\" d=\"M 20 243 420 96\"/>\n",
       "<path stroke-width=\"1\" stroke=\"gray\" d=\"M 20 243 417 246\"/>\n",
       "<path stroke-width=\"1\" stroke=\"gray\" d=\"M 20 243 217 320\"/>\n",
       "<path stroke-width=\"1\" stroke=\"gray\" d=\"M 20 243 220 169\"/>\n",
       "<path stroke-width=\"1\" stroke=\"gray\" d=\"M 20 243 22 93\"/>\n",
       "<path stroke-width=\"1\" stroke=\"gray\" d=\"M 20 243 222 20\"/>\n",
       "<path stroke-width=\"1\" stroke=\"gray\" d=\"M 217 320 420 96\"/>\n",
       "<path stroke-width=\"1\" stroke=\"gray\" d=\"M 417 246 22 93\"/>\n",
       "<path stroke-width=\"1\" stroke=\"gray\" d=\"M 222 20 22 93\"/>\n",
       "<circle cx=\"420\" cy=\"96\" r=\"7.0\" style=\"fill:gray;stroke:black;stroke-width:1.0\"/>\n",
       "<circle cx=\"417\" cy=\"246\" r=\"7.0\" style=\"fill:gray;stroke:black;stroke-width:1.0\"/>\n",
       "<circle cx=\"20\" cy=\"243\" r=\"7.0\" style=\"fill:gray;stroke:black;stroke-width:1.0\"/>\n",
       "<circle cx=\"217\" cy=\"320\" r=\"7.0\" style=\"fill:gray;stroke:black;stroke-width:1.0\"/>\n",
       "<circle cx=\"220\" cy=\"169\" r=\"7.0\" style=\"fill:gray;stroke:black;stroke-width:1.0\"/>\n",
       "<circle cx=\"22\" cy=\"93\" r=\"7.0\" style=\"fill:gray;stroke:black;stroke-width:1.0\"/>\n",
       "<circle cx=\"222\" cy=\"20\" r=\"7.0\" style=\"fill:gray;stroke:black;stroke-width:1.0\"/>\n",
       "<text text-anchor=\"start\" x=\"430\" y=\"96\" font-size=\"12\">0-['a' 'b' 'c' 'd']</text><text text-anchor=\"start\" x=\"427\" y=\"246\" font-size=\"12\">1-['a' 'b' 'c' 'd']</text><text text-anchor=\"start\" x=\"30\" y=\"243\" font-size=\"12\">2-['a' 'b' 'c' 'd']</text><text text-anchor=\"start\" x=\"227\" y=\"320\" font-size=\"12\">3-['a' 'b' 'c' 'd']</text><text text-anchor=\"start\" x=\"230\" y=\"169\" font-size=\"12\">4-['a' 'b' 'c' 'd']</text><text text-anchor=\"start\" x=\"32\" y=\"93\" font-size=\"12\">5-['a' 'b' 'c' 'd']</text><text text-anchor=\"start\" x=\"232\" y=\"20\" font-size=\"12\">6-['a' 'b' 'e' 'f' 'g']</text></svg>"
      ],
      "text/plain": [
       "<IPython.core.display.SVG object>"
      ]
     },
     "execution_count": 186,
     "metadata": {},
     "output_type": "execute_result"
    }
   ],
   "source": [
    "SVG(svg_graph(G8, names=[n + '-' + str(names_col8[x.indices]) for n, x in zip(names8, X8)]))"
   ]
  },
  {
   "cell_type": "code",
   "execution_count": 187,
   "id": "72980a10-7e54-4f37-a92e-9de522e2e312",
   "metadata": {},
   "outputs": [
    {
     "name": "stdout",
     "output_type": "stream",
     "text": [
      "['e' 'f' 'g' 'c' 'd' 'a' 'b']\n",
      "CPU times: user 12.7 ms, sys: 5.99 ms, total: 18.7 ms\n",
      "Wall time: 32 ms\n"
     ]
    }
   ],
   "source": [
    "%%time\n",
    "result, sorted_names_col = run_algorithm(G8, X8, names_col8, 1, 1000, 'log_custom8')"
   ]
  },
  {
   "cell_type": "code",
   "execution_count": 188,
   "id": "e4755bed-9d98-424d-ace1-aeb15f75e71b",
   "metadata": {},
   "outputs": [
    {
     "name": "stdout",
     "output_type": "stream",
     "text": [
      "[0 1 2 3 4 5 6] ['a' 'b']\n",
      "[6] ['e' 'f' 'g' 'a' 'b']\n",
      "[6] ['f' 'g' 'a' 'b']\n",
      "[6] ['g' 'a' 'b']\n",
      "[0 1 2 3 4 5] ['c' 'd' 'a' 'b']\n",
      "[0 1 2 3 4 5] ['d' 'a' 'b']\n"
     ]
    }
   ],
   "source": [
    "for c in result:\n",
    "    print(c[0], sorted_names_col[c[1]])"
   ]
  },
  {
   "cell_type": "markdown",
   "id": "dba97d61-b13c-48b0-b897-1cbccf23831f",
   "metadata": {},
   "source": [
    "* pros:\n",
    "    - concept `6` avec attributs `['e', 'f', 'g']` $\\rightarrow$ le graphe ne change pas mais on continue d'ajouter des attributs qui rendent le concept un peu plus intéressant, vu le faible nombre d'occurence de ces attributs dans le graphe initial. En revanche les attributs `'a'` et `'b'` n'apportent rien d'intéressant\n",
    "    - pour le concept `[0, 1, 2, 3, 4, 5]`, l'attribut `'d'` n'apporte rien à `'c'` et inversement. Encore moins les attributs `['a', 'b']` qui sont trop fréquents\n",
    "* cons:\n",
    "    - le concept `[0, 1, 2, 3, 4, 5]` est divisé en 2\n",
    "    - le concept `6` est divisé en 3"
   ]
  },
  {
   "cell_type": "markdown",
   "id": "a6ac5efd-5934-4d32-ab55-6bc8c512e36a",
   "metadata": {},
   "source": [
    "## Annexes"
   ]
  },
  {
   "cell_type": "code",
   "execution_count": 103,
   "id": "582a36f2-f0fd-48d0-8221-4922c267cb24",
   "metadata": {},
   "outputs": [],
   "source": [
    "def init_inclose(context):\n",
    "    extents, intents = [], []\n",
    "    extents_init = np.arange(context.shape[0])\n",
    "    intents_init = []\n",
    "    extents.append(extents_init) # Initalize extents with all objects from context\n",
    "    intents.append(intents_init) # Initialize intents with empty set attributes\n",
    "    return extents, intents\n",
    "\n",
    "def in_close_new(adjacency, context, extents, intents, r=0, y=0, min_support=0, max_support=np.inf, degs=[], unexs_g=[], \n",
    "                 unexs_a=[], unexs=[], names_col=[]):\n",
    "    global r_new\n",
    "    r_new = r_new + 1\n",
    "    var = False\n",
    "    \n",
    "    print(f'NEW ITERATION \\n --------')\n",
    "    \n",
    "    for j in np.arange(context.shape[1])[y:]:\n",
    "        try:\n",
    "            extents[r_new] = []\n",
    "            unexs_g[r_new] = 0\n",
    "            unexs_a[r_new] = 0\n",
    "            unexs[r_new] = 0\n",
    "        except IndexError:\n",
    "            extents.append([])\n",
    "            unexs_g.append(0)\n",
    "            unexs_a.append(0)\n",
    "            unexs.append(0)\n",
    "            \n",
    "        # Form a new extent by adding extension of attribute j to current concept extent\n",
    "        ext_j = set(extension([j], context))\n",
    "        extents[r_new] = list(sorted(set(extents[r]).intersection(ext_j)))\n",
    "        len_new_extent = len(extents[r_new])\n",
    "        \n",
    "        print(f'extents: {extents[r]} - intents: {names_col[intents[r]]}')\n",
    "        print(f'  Candidate attr: {names_col[j]}')\n",
    "        print(f'  new extent: {extents[r_new]}')\n",
    "        \n",
    "        if (len_new_extent > min_support) and (len_new_extent < max_support):\n",
    "                       \n",
    "            if len_new_extent == len(extents[r]):\n",
    "                print(f'  Extent size did not change -> attribute {names_col[j]} is added to intent.')\n",
    "                intents[r] = list(sorted(set(intents[r]).union(set([j]))))\n",
    "                var = True\n",
    "            else:\n",
    "                print(f'  Extent size DID change. IsCannonical: {is_cannonical(context, extents, intents, r, j - 1)}')\n",
    "                \n",
    "                if is_cannonical(context, extents, intents, r, j - 1):\n",
    "                    print(f'   New branch will be created, compute U of current concept.')\n",
    "                    try:\n",
    "                        intents[r_new] = []\n",
    "                    except IndexError:\n",
    "                        intents.append([])\n",
    "                    \n",
    "                    intents[r_new] = list(sorted(set(intents[r]).union(set([j]))))\n",
    "                    len_new_intent = len(intents[r_new])\n",
    "                    print(f'  Intent: {names_col[intents[r_new]]}')\n",
    "                    print(f'  --> Enter recursion...')\n",
    "\n",
    "                    # ------------------------------------------------\n",
    "                    # Compute difference between concepts unexpectedness\n",
    "                    u_diff = unexs[r_new-1] - unexs[r-1]\n",
    "                    print(f'  U difference; {u_diff}')\n",
    "                    if r > 0 and r_new > 1 and u_diff < 0:\n",
    "                        break\n",
    "                    # ------------------------------------------------\n",
    "                    \n",
    "                    print(f'      **Unexpectedness: {unexs}')\n",
    "                    in_close_new(adjacency, context, extents, intents, r=r_new, y=j+1, degs=degs, unexs_g=unexs_g, \n",
    "                                 unexs_a=unexs_a, unexs=unexs, names_col=names_col)\n",
    "\n",
    "    \n",
    "    \n",
    "        if (unexs[r] == 0 and r != 0 and len(extents[r_new])>0) or var:\n",
    "            print(f'ELSE r: {r} - r_new: {r_new}')\n",
    "            print(f'Unexs: {unexs}')\n",
    "            # ------------------------------------------------\n",
    "            print(extents, intents)\n",
    "            print(f'extents[r_new]: {extents[r_new]} - intents[r]: {names_col[intents[r]]}')\n",
    "            # Graph unexpectedness \n",
    "            g_r = adjacency[extents[r_new]][:, extents[r_new]]\n",
    "            complexity_desc_g = mdl_graph(g_r)\n",
    "            complexity_gen_g = np.mean(complexity_gen_graphs.get(len(extents[r_new])))\n",
    "            unex_g = complexity_gen_g - complexity_desc_g\n",
    "            unexs_g[r] = unex_g\n",
    "            print(f'  U(G): {unex_g}')\n",
    "\n",
    "            # Attributes unexpectedness\n",
    "            complexity_gen_a = np.log2(special.comb(context.shape[1], len(intents[r])))\n",
    "            complexity_desc_a = 0\n",
    "            for a in intents[r]:\n",
    "                complexity_desc_a += np.log2(degs[a])\n",
    "\n",
    "            unex_a = complexity_gen_a - complexity_desc_a\n",
    "            unexs_a[r] = unex_a\n",
    "            print(f'  U(A): {unex_a}')\n",
    "\n",
    "            # Total unexpectedness\n",
    "            unex = unex_g + unex_a\n",
    "            unexs[r] = unex\n",
    "            print(f'  U: {unex}')\n",
    "            print(f'Unexs: {unexs}')\n",
    "            # ------------------------------------------------\n",
    "        var=False\n",
    "        u_diff = unexs[r] - unexs[r-1]\n",
    "        print(f'r: {r} - r_new: {r_new}')\n",
    "        print(f'  U difference; {u_diff}')\n",
    "        if r > 0 and r_new > 1 and u_diff < 0:\n",
    "            extents[r] = []\n",
    "            intents[r] = []\n",
    "            break\n",
    "    \n",
    "    if (unexs[r] == 0 and r != 0 and len(extents[r])>0) or var:\n",
    "        print(f'ELSE r: {r} - r_new: {r_new}')\n",
    "        print(f'Unexs: {unexs}')\n",
    "        # ------------------------------------------------\n",
    "        print(extents, intents)\n",
    "        print(f'extents[r_new]: {extents[r]} - intents[r]: {names_col[intents[r]]}')\n",
    "        # Graph unexpectedness \n",
    "        g_r = adjacency[extents[r]][:, extents[r]]\n",
    "        complexity_desc_g = mdl_graph(g_r)\n",
    "        complexity_gen_g = np.mean(complexity_gen_graphs.get(len(extents[r])))\n",
    "        unex_g = complexity_gen_g - complexity_desc_g\n",
    "        unexs_g[r] = unex_g\n",
    "        print(f'  U(G): {unex_g}')\n",
    "\n",
    "        # Attributes unexpectedness\n",
    "        complexity_gen_a = np.log2(special.comb(context.shape[1], len(intents[r])))\n",
    "        complexity_desc_a = 0\n",
    "        for a in intents[r]:\n",
    "            complexity_desc_a += np.log2(degs[a])\n",
    "\n",
    "        unex_a = complexity_gen_a - complexity_desc_a\n",
    "        unexs_a[r] = unex_a\n",
    "        print(f'  U(A): {unex_a}')\n",
    "\n",
    "        # Total unexpectedness\n",
    "        unex = unex_g + unex_a\n",
    "        unexs[r] = unex\n",
    "        print(f'  U: {unex}')\n",
    "        print(f'Unexs: {unexs}')\n",
    "        # ------------------------------------------------\n",
    "    \n",
    "    \n",
    "    print(f'**END FUNCTION')\n",
    "    print(f'**concept: ({[*zip(extents, intents)]})')\n",
    "    \n",
    "    return [*zip(extents, intents)]"
   ]
  },
  {
   "cell_type": "code",
   "execution_count": null,
   "id": "0c52855f-cffb-493c-8cc9-6282a5262c17",
   "metadata": {},
   "outputs": [],
   "source": [
    "def init_inclose(context):\n",
    "    extents, intents = [], []\n",
    "    extents_init = np.arange(context.shape[0])\n",
    "    intents_init = []\n",
    "    extents.append(extents_init) # Initalize extents with all objects from context\n",
    "    intents.append(intents_init) # Initialize intents with empty set attributes\n",
    "    return extents, intents\n",
    "\n",
    "def in_close_new(adjacency, context, extents, intents, r=0, y=0, min_support=0, max_support=np.inf, degs=[], unexs_g=[], unexs_a=[], unexs=[], names_col=[]):\n",
    "    global r_new\n",
    "    r_new = r_new + 1\n",
    "    \n",
    "    print(f'NEW ITERATION \\n --------')\n",
    "    print(f'r: {r} - r_new: {r_new}')\n",
    "    # ------------------------------------------------\n",
    "    print(f'|extents[r]|: {len(extents[r])} - intents[r]: {names_col[intents[r]]}')\n",
    "    \n",
    "    if len(extents[r]) < 1000:\n",
    "        # Graph unexpectedness \n",
    "        unex_g = graph_unexpectedness(adjacency[extents[r], :][:, extents[r]], complexity_gen_graphs)\n",
    "        unexs_g[r] = unex_g\n",
    "        # Attributes unexpectedness\n",
    "        unex_a = attr_unexpectedness(context, intents[r], degs)\n",
    "        unexs_a[r] = unex_a\n",
    "        # Total unexpectedness\n",
    "        unex = unex_g + unex_a\n",
    "        unexs[r] = unex\n",
    "        print(f'  U(G): {unex_g}')\n",
    "        print(f'  U(A): {unex_a}')\n",
    "        print(f'  U: {unex}')\n",
    "        # ------------------------------------------------\n",
    "    \n",
    "    for j in np.arange(context.shape[1])[y:]:\n",
    "        try:\n",
    "            extents[r_new] = []\n",
    "            unexs_g[r_new] = 0\n",
    "            unexs_a[r_new] = 0\n",
    "            unexs[r_new] = 0\n",
    "        except IndexError:\n",
    "            extents.append([])\n",
    "            unexs_g.append(0)\n",
    "            unexs_a.append(0)\n",
    "            unexs.append(0)\n",
    "            \n",
    "        # Form a new extent by adding extension of attribute j to current concept extent\n",
    "        ext_j = set(extension([j], context))\n",
    "        extents[r_new] = list(sorted(set(extents[r]).intersection(ext_j)))\n",
    "        len_new_extent = len(extents[r_new])\n",
    "        \n",
    "        print(f'|extents|: {len(extents[r])} - intents: {names_col[intents[r]]}')\n",
    "        print(f'  Candidate attr: {names_col[j]} - ({j})')\n",
    "        print(f'  new extent: {extents[r_new]}')\n",
    "        \n",
    "        if (len_new_extent > min_support) and (len_new_extent < max_support):\n",
    "                        \n",
    "            unex_g = graph_unexpectedness(adjacency[extents[r_new], :][:, extents[r_new]], complexity_gen_graphs)\n",
    "            unexs_g[r_new] = unex_g\n",
    "            # Attributes unexpectedness\n",
    "            unex_a = attr_unexpectedness(context, intents[r_new], degs)\n",
    "            unexs_a[r_new] = unex_a\n",
    "            # Total unexpectedness\n",
    "            unex = unex_g + unex_a\n",
    "            unexs[r_new] = unex\n",
    "            print(f'  U(G): {unex_g}')\n",
    "            print(f'  U(A): {unex_a}')\n",
    "            print(f'  U: {unex}')\n",
    "            print(f'unexs: {unexs} r_new: {r_new} - r: {r}')\n",
    "            if (unexs[r_new] - unexs[r_new-1] > 0):\n",
    "                       \n",
    "                if len_new_extent == len(extents[r]):\n",
    "                    print(f'  Extent size did not change -> attribute {names_col[j]} is added to intent.')\n",
    "                    intents[r] = list(sorted(set(intents[r]).union(set([j]))))\n",
    "                else:\n",
    "                    print(f'  Extent size DID change. IsCannonical: {is_cannonical(context, extents, intents, r, j - 1)}')\n",
    "                    if is_cannonical(context, extents, intents, r, j - 1):\n",
    "                        try:\n",
    "                            intents[r_new] = []\n",
    "                        except IndexError:\n",
    "                            intents.append([])\n",
    "\n",
    "                        intents[r_new] = list(sorted(set(intents[r]).union(set([j]))))\n",
    "                        len_new_intent = len(intents[r_new])\n",
    "                        print(f'  --> Enter recursion with Intent: {names_col[intents[r_new]]}...')\n",
    "                        in_close_new(adjacency, context, extents, intents, r=r_new, y=j+1, min_support=min_support, max_support=max_support, \n",
    "                                     degs=degs, unexs_g=unexs_g, unexs_a=unexs_a, unexs=unexs, names_col=names_col)\n",
    "\n",
    "    print(f'**END FUNCTION')\n",
    "    print(f'**concept: ({[*zip(extents, intents)]})')\n",
    "    \n",
    "    return [*zip(extents, intents)]"
   ]
  },
  {
   "cell_type": "markdown",
   "id": "8d7c3203-1900-4e5f-bb67-4b820f4b713d",
   "metadata": {},
   "source": [
    "## Work on algorithm  \n",
    "\n",
    "1. **InClose** without **IsCannonical** and with modified version of graph compressor (using only number of nodes)  \n",
    "2. **InClose** with **IsCannonical** and with modified version of graph compressor (using only number of nodes)"
   ]
  },
  {
   "cell_type": "code",
   "execution_count": 641,
   "id": "d7412540-7c54-4241-8431-3e068af36e41",
   "metadata": {},
   "outputs": [],
   "source": [
    "def plot_distrib(values, ax, xlabel='degree', log=True, title=None, color='blue', alpha=1, label='Degree distribution'):\n",
    "    counter = Counter(values)\n",
    "    x, y = zip(*counter.items())\n",
    "    ax.scatter(x, y, marker='+', color=color, alpha=alpha, label=label)\n",
    "    ax.legend()\n",
    "    ax.set_title(title)\n",
    "    if log:\n",
    "        ax.set_xscale('log')\n",
    "        ax.set_xlabel(xlabel + ' (log)')\n",
    "    else:\n",
    "        ax.set_xlabel(xlabel)\n",
    "    ax.set_ylabel('Frequency' + ' (log)')\n",
    "    ax.set_yscale('log')\n",
    "    \n",
    "def mdl_graph(adjacency):\n",
    "    n = adjacency.shape[0]\n",
    "\n",
    "    # density\n",
    "    #d = np.sum(adjacency) / (n * (n - 1))\n",
    "    \n",
    "    # nodes\n",
    "    nodes_mdl = np.log2(n)\n",
    "    \n",
    "    # edges\n",
    "    degrees = adjacency.dot(np.ones(n))\n",
    "    max_degree = np.max(degrees)\n",
    "    edges_mdl = (n + 1) * np.log2(max_degree + 1) + np.sum([np.log2(special.comb(n, deg)) for deg in degrees])\n",
    "\n",
    "    if n == 1:\n",
    "        return 1\n",
    "    else:\n",
    "        return nodes_mdl #+ edges_mdl\n",
    "\n",
    "def entropy(prob):\n",
    "    return prob * -np.log2(prob)\n",
    "\n",
    "def desc_complexity(attrs):\n",
    "    if isinstance(attrs, int):\n",
    "        attrs = [attrs]\n",
    "    prob = 1\n",
    "    for attr in attrs:\n",
    "        prob *= degrees[attr] / np.sum(degrees)\n",
    "    entr = entropy(prob)\n",
    "    return generation_complexity(biadjacency.shape[1], len(attrs)) * entr\n",
    "\n",
    "def expand_list(l, idx, item):\n",
    "    \"\"\"If l[idx] does not exists, expand l with item.\"\"\"\n",
    "    try:\n",
    "        l[idx] = item\n",
    "    except IndexError:\n",
    "        extents.append(item)    \n",
    "        \n",
    "def is_cannonical(context, extents, intents, r, y):\n",
    "    global r_new\n",
    "\n",
    "    for k in range(len(intents[r])-1, -1, -1):\n",
    "        for j in range(y, intents[r][k], -1):            \n",
    "            for h in range(len(extents[r_new])):\n",
    "                if context[extents[r_new][h], j] == 0:\n",
    "                    h -= 1 # Necessary for next test in case last interaction of h for-loop returns False\n",
    "                    break\n",
    "            if h == len(extents[r_new]) - 1:\n",
    "                return False\n",
    "        y = intents[r][k] - 1\n",
    "\n",
    "    for j in reversed(range(y, -1, -1)):\n",
    "        for h in range(len(extents[r_new])):\n",
    "            if context[extents[r_new][h], j] == 0:\n",
    "                h -= 1 # Necessary for next test in case last interaction of h for-loop returns False\n",
    "                break\n",
    "        if h == len(extents[r_new]) - 1:\n",
    "            return False\n",
    "    \n",
    "    return True\n",
    "\n",
    "def intention(nodes, context):\n",
    "    if len(nodes) == 0:\n",
    "        return np.arange(0, context.shape[1])\n",
    "    else:\n",
    "        return context[nodes, :].indices\n",
    "    \n",
    "def extension(attributes, context):\n",
    "    if len(attributes) == 0:\n",
    "        return np.arange(0, context.shape[0])\n",
    "    else:\n",
    "        return context.tocsc()[:, attributes].indices\n",
    "\n",
    "def graph_unexpectedness(adjacency, gen_complexities):\n",
    "    n = adjacency.shape[0]\n",
    "    complexity_desc_g = mdl_graph(adjacency)\n",
    "    complexity_gen_g = np.mean(gen_complexities.get(n))\n",
    "    return complexity_gen_g - complexity_desc_g\n",
    "\n",
    "def attr_unexpectedness(biadjacency, attributes, degrees):\n",
    "    complexity_gen_a = np.log2(special.comb(biadjacency.shape[1], len(attributes)))\n",
    "    complexity_desc_a = 0\n",
    "    for a in attributes:\n",
    "        complexity_desc_a += np.log2(degrees[a])\n",
    "    return complexity_gen_a - complexity_desc_a\n",
    "\n",
    "def pattern_unexpectedness(adjacency, biadjacency, gen_complexities, attributes, degrees):\n",
    "    u_g = graph_unexpectedness(adjacency, gen_complexities)\n",
    "    u_a = attr_unexpectedness(biadjacency, attributes, degrees)\n",
    "    return u_g + u_a"
   ]
  },
  {
   "cell_type": "code",
   "execution_count": 642,
   "id": "c25df7e7-3ec8-4b90-aada-f802f9147035",
   "metadata": {},
   "outputs": [
    {
     "name": "stdout",
     "output_type": "stream",
     "text": [
      "CPU times: user 4.43 s, sys: 116 ms, total: 4.55 s\n",
      "Wall time: 4.57 s\n"
     ]
    }
   ],
   "source": [
    "%%time\n",
    "\n",
    "attrs_degrees = get_degrees(biadjacency, transpose=True) / sum(get_degrees(biadjacency, transpose=True))\n",
    "attrs_indexes = np.arange(0, biadjacency.shape[1])\n",
    "\n",
    "complexity_gen_graphs = defaultdict(list)\n",
    "\n",
    "for num_n in range(1, 1000):\n",
    "    for j in range(10):\n",
    "        sel_attrs = np.random.choice(attrs_indexes, size=num_n, replace=False, p=attrs_degrees)\n",
    "        sel_nodes = biadjacency.tocsc()[:, sel_attrs].indices\n",
    "        \n",
    "        #sel_g = adjacency[sel_nodes, :][:, sel_nodes]\n",
    "        #mdl = mdl_graph(sel_g)\n",
    "        \n",
    "        # mdl is just the complexity of the number of nodes\n",
    "        mdl = np.log2(len(sel_nodes))\n",
    "        complexity_gen_graphs[num_n].append(mdl)"
   ]
  },
  {
   "cell_type": "markdown",
   "id": "9cf72b20-96a7-47e2-9776-8539c969b714",
   "metadata": {},
   "source": [
    "### 1. version **without** $\\texttt{IsCannonical}$"
   ]
  },
  {
   "cell_type": "code",
   "execution_count": 701,
   "id": "8bf91656-7672-4582-8ebb-52711515f9a7",
   "metadata": {},
   "outputs": [],
   "source": [
    "def init_inclose(context):\n",
    "    extents, intents = [], []\n",
    "    extents_init = np.arange(context.shape[0])\n",
    "    intents_init = []\n",
    "    extents.append(extents_init) # Initalize extents with all objects from context\n",
    "    intents.append(intents_init) # Initialize intents with empty set attributes\n",
    "    return extents, intents\n",
    "\n",
    "def in_close_new(adjacency, context, extents, intents, r=0, y=0, min_support=0, max_support=np.inf, degs=[], unexs_g=[], unexs_a=[], unexs=[], names_col=[]):\n",
    "    global r_new\n",
    "    global ptr\n",
    "    r_new = r_new + 1\n",
    "    \n",
    "    print(f'NEW ITERATION \\n --------')\n",
    "    print(f'r: {r} - r_new: {r_new}')\n",
    "    # ------------------------------------------------\n",
    "    print(f'|extents[r]|: {len(extents[r])} - intents[r]: {names_col[intents[r]]}')\n",
    "    \n",
    "    for j in np.arange(context.shape[1])[y:]:\n",
    "        try:\n",
    "            extents[r_new] = []\n",
    "            unexs_g[r_new] = 0\n",
    "            unexs_a[r_new] = 0\n",
    "        except IndexError:\n",
    "            extents.append([])\n",
    "            unexs_g.append(0)\n",
    "            unexs_a.append(0)\n",
    "\n",
    "            # Form a new extent by adding extension of attribute j to current concept extent\n",
    "        ext_j = set(extension([j], context))\n",
    "        extents[r_new] = list(sorted(set(extents[r]).intersection(ext_j)))\n",
    "        len_new_extent = len(extents[r_new])\n",
    "        \n",
    "        #print(f'|extents|: {len(extents[r])} - intents: {names_col[intents[r]]}')\n",
    "        #print(f'  Candidate attr: {names_col[j]} - ({j})')\n",
    "        #print(f'  new extent: {extents[r_new]}')\n",
    "        \n",
    "        if (len_new_extent >= min_support) and (len_new_extent <= max_support):\n",
    "                       \n",
    "            new_intent = list(sorted(set(intents[r]).union(set([j]))))\n",
    "            \n",
    "            #try:\n",
    "            #    unexs[r_new] = 0\n",
    "            #except IndexError:\n",
    "            #    unexs.append(0)\n",
    "            # ------------------------------------------------------------------------------------------------------------\n",
    "            print(f'  Extent size {len(extents[r_new])} - intent {new_intent}')\n",
    "            unex_g = graph_unexpectedness(adjacency[extents[r_new], :][:, extents[r_new]], complexity_gen_graphs)\n",
    "            unexs_g[r_new] = unex_g\n",
    "            # Attributes unexpectedness\n",
    "            unex_a = attr_unexpectedness(context, new_intent, degs)\n",
    "            unexs_a[r_new] = unex_a\n",
    "            # Total unexpectedness\n",
    "            unex = unex_g + unex_a\n",
    "            #unexs[r_new] = unex\n",
    "            print(f'  U(G): {unex_g}')\n",
    "            print(f'  U(A): {unex_a}')\n",
    "            print(f'  U: {unex}')\n",
    "            print(f'unexs: {unexs} r_new: {r_new} - r: {r} - ptr: {ptr}')\n",
    "            # ------------------------------------------------------------------------------------------------------------\n",
    "            \n",
    "            if len_new_extent - len(extents[r]) == 0:\n",
    "                #print(f' == comparing unex={unex} and unexs[{r_new-1}]={unexs[r_new-1]}')\n",
    "                print(f' == comparing unex={unex} and unexs[{ptr}]={unexs[ptr]}')\n",
    "                #if unexs[r_new] - unexs[r_new-1] >= 0:\n",
    "                #if unex - unexs[r_new-1] >= 0:\n",
    "                if unex - unexs[ptr] >= 0:\n",
    "                    print(f'  Extent size did not change -> attribute {names_col[j]} is added to intent.')\n",
    "                    intents[r] = new_intent\n",
    "                    unexs[-1] = unex\n",
    "                else:\n",
    "                    #print(f'STOP rec, unexpectedness difference is {unexs[r_new] - unexs[r_new-1]}')\n",
    "                    print(f'STOP rec, unexpectedness difference is {unex - unexs[ptr]}')\n",
    "                    #del unexs[-(len(intents[r])+1):]\n",
    "                    extents.pop(-1)\n",
    "                    intents.pop(-1)\n",
    "                    #r_new -= 1\n",
    "                    break\n",
    "                \n",
    "            else:\n",
    "                print(f'  Extent size DID change. IsCannonical: {is_cannonical(context, extents, intents, r, j - 1)}')\n",
    "                #if is_cannonical(context, extents, intents, r, j - 1):\n",
    "                try:\n",
    "                    intents[r_new] = []\n",
    "                    #unexs[r_new] = 0\n",
    "                except IndexError:\n",
    "                    intents.append([])\n",
    "                    #unexs.append(0)\n",
    "\n",
    "                intents[r_new] = new_intent \n",
    "                len_new_intent = len(intents[r_new])\n",
    "\n",
    "                print(f'r:{r} rnew:{r_new}')\n",
    "                #print(f' ISCANNO comparing unex={unex} and unexs[{r}]=={unexs[r]}')\n",
    "                print(f' ISCANNO comparing unex={unex} and unexs[{ptr}]=={unexs[ptr]}')\n",
    "                if unex - unexs[ptr] >= 0 or r == 0:   \n",
    "                    #unexs[r_new] = unex\n",
    "                    unexs.append(unex)\n",
    "                    ptr += 1\n",
    "                    print(f'  --> Enter recursion with Intent: {names_col[intents[r_new]]}...')\n",
    "                    in_close_new(adjacency, context, extents, intents, r=r_new, y=j+1, min_support=min_support, max_support=max_support, \n",
    "                                 degs=degs, unexs_g=unexs_g, unexs_a=unexs_a, unexs=unexs, names_col=names_col)\n",
    "                    \n",
    "    print(f'inexs: {unexs}')        \n",
    "    print(f'r:{r} - r_new:{r_new}')\n",
    "    unexs.pop(-1)\n",
    "    ptr -= 1\n",
    "    print(f'inexs after pop: {unexs}')        \n",
    "    print(f'**END FUNCTION')\n",
    "    print(f'**concept: ({[*zip(extents, intents)]})')\n",
    "    \n",
    "    return [*zip(extents, intents)]"
   ]
  },
  {
   "cell_type": "code",
   "execution_count": 702,
   "id": "7cf49c4b-03ee-4f27-be65-d44d30b940d3",
   "metadata": {},
   "outputs": [],
   "source": [
    "adjacency = wikivitals.adjacency\n",
    "biadjacency = wikivitals.biadjacency\n",
    "names = wikivitals.names\n",
    "words = wikivitals.names_col\n",
    "labels = wikivitals.labels\n",
    "\n",
    "# Initialization\n",
    "extents, intents = init_inclose(biadjacency)\n",
    "degs = get_degrees(biadjacency, transpose=True)\n",
    "global r_new\n",
    "r_new = 0\n",
    "global ptr \n",
    "ptr = 0\n",
    "\n",
    "# Degree of attribute = # articles in which it appears\n",
    "freq_attribute = get_degrees(biadjacency.astype(bool), transpose=True)\n",
    "index = np.flatnonzero((freq_attribute <= 50) & (freq_attribute >= 10))\n",
    "\n",
    "# Filter data with index\n",
    "biadjacency = biadjacency[:, index]\n",
    "words = words[index]\n",
    "freq_attribute = freq_attribute[index]\n",
    "\n",
    "# Order attributes according to their ascending degree\n",
    "# This allows to add first attributes that will generate bigger subgraphs\n",
    "sort_index = np.argsort(freq_attribute)\n",
    "sorted_degs = freq_attribute[sort_index]\n",
    "filt_biadjacency = biadjacency[:, sort_index]\n",
    "sorted_names_col = words[sort_index]"
   ]
  },
  {
   "cell_type": "code",
   "execution_count": 703,
   "id": "057ea044-829a-478b-a846-068aa5aace39",
   "metadata": {},
   "outputs": [
    {
     "data": {
      "text/plain": [
       "<4403x3811 sparse matrix of type '<class 'numpy.int64'>'\n",
       "\twith 81990 stored elements in Compressed Sparse Row format>"
      ]
     },
     "execution_count": 703,
     "metadata": {},
     "output_type": "execute_result"
    }
   ],
   "source": [
    "filt_biadjacency"
   ]
  },
  {
   "cell_type": "code",
   "execution_count": 704,
   "id": "6356aeb1-0f16-4d51-a265-f79aa5900365",
   "metadata": {},
   "outputs": [
    {
     "name": "stdout",
     "output_type": "stream",
     "text": [
      "10810\n",
      "CPU times: user 49min 47s, sys: 50.3 s, total: 50min 37s\n",
      "Wall time: 50min 48s\n"
     ]
    }
   ],
   "source": [
    "%%time\n",
    "\n",
    "# Algorithm\n",
    "with open('logs/log_new_algo', 'w') as f:\n",
    "    with redirect_stdout(f):\n",
    "        concepts = in_close_new(adjacency, filt_biadjacency, extents, intents, r=0, y=0, \n",
    "                                min_support=5, max_support=800,\n",
    "                                degs=sorted_degs, unexs_g=[0], unexs_a=[0], unexs=[0], names_col=sorted_names_col)\n",
    "        print()\n",
    "\n",
    "# Save result\n",
    "with open(\"result/result_new_algo.bin\", \"wb\") as output:\n",
    "    pickle.dump(result, output)\n",
    "    \n",
    "print(len(concepts))"
   ]
  },
  {
   "cell_type": "code",
   "execution_count": 705,
   "id": "46a2e5bc-2258-4567-a083-c53d2783b476",
   "metadata": {},
   "outputs": [
    {
     "name": "stdout",
     "output_type": "stream",
     "text": [
      "Number of results : 10810\n"
     ]
    }
   ],
   "source": [
    "print(f'Number of results : {len(concepts)}')"
   ]
  },
  {
   "cell_type": "code",
   "execution_count": 706,
   "id": "7a617557-94f7-4111-899f-29cfd5ca11ae",
   "metadata": {},
   "outputs": [
    {
     "data": {
      "image/png": "[encoded data removed]",
      "text/plain": [
       "<Figure size 864x504 with 1 Axes>"
      ]
     },
     "metadata": {
      "needs_background": "light"
     },
     "output_type": "display_data"
    }
   ],
   "source": [
    "fig, ax = plt.subplots(1, 1, figsize=(12, 7))\n",
    "plot_distrib([len(x[1]) for x in concepts], ax=ax, log=True, label='# attributes / concept')"
   ]
  },
  {
   "cell_type": "code",
   "execution_count": 748,
   "id": "f0a90240-a797-4ce8-8deb-a03778560f83",
   "metadata": {},
   "outputs": [],
   "source": [
    "concepts_5size = [x for x in concepts if len(x[1]) > 5]"
   ]
  },
  {
   "cell_type": "code",
   "execution_count": 749,
   "id": "8dc7f48b-d5c9-4a49-91db-aadddee741a2",
   "metadata": {},
   "outputs": [
    {
     "name": "stdout",
     "output_type": "stream",
     "text": [
      "[428, 642, 644, 660, 2516] [187, 1184, 1569, 2333, 2848, 3436]\n",
      "['taíno' 'hispaniola' 'haiti' 'dominican' 'columbu' 'cuba']\n"
     ]
    },
    {
     "data": {
      "image/svg+xml": [
       "<svg xmlns=\"http://www.w3.org/2000/svg\" width=\"539.0226270732129\" height=\"340\">\n",
       "<defs><marker id=\"arrow-gray\" markerWidth=\"10\" markerHeight=\"10\" refX=\"9\" refY=\"3\" orient=\"auto\">\n",
       "<path d=\"M0,0 L0,6 L9,3 z\" fill=\"gray\"/></marker></defs>\n",
       "<path stroke-width=\"1\" stroke=\"gray\" d=\"M 387 320 263 210\" marker-end=\"url(#arrow-gray)\"/>\n",
       "<path stroke-width=\"1\" stroke=\"gray\" d=\"M 387 320 419 128\" marker-end=\"url(#arrow-gray)\"/>\n",
       "<path stroke-width=\"1\" stroke=\"gray\" d=\"M 387 320 26 197\" marker-end=\"url(#arrow-gray)\"/>\n",
       "<path stroke-width=\"1\" stroke=\"gray\" d=\"M 258 206 382 316\" marker-end=\"url(#arrow-gray)\"/>\n",
       "<path stroke-width=\"1\" stroke=\"gray\" d=\"M 258 206 414 125\" marker-end=\"url(#arrow-gray)\"/>\n",
       "<path stroke-width=\"1\" stroke=\"gray\" d=\"M 258 206 26 195\" marker-end=\"url(#arrow-gray)\"/>\n",
       "<path stroke-width=\"1\" stroke=\"gray\" d=\"M 420 122 264 203\" marker-end=\"url(#arrow-gray)\"/>\n",
       "<path stroke-width=\"1\" stroke=\"gray\" d=\"M 20 195 252 206\" marker-end=\"url(#arrow-gray)\"/>\n",
       "<path stroke-width=\"1\" stroke=\"gray\" d=\"M 20 195 414 123\" marker-end=\"url(#arrow-gray)\"/>\n",
       "<path stroke-width=\"1\" stroke=\"gray\" d=\"M 99 20 254 201\" marker-end=\"url(#arrow-gray)\"/>\n",
       "<path stroke-width=\"1\" stroke=\"gray\" d=\"M 99 20 414 120\" marker-end=\"url(#arrow-gray)\"/>\n",
       "<path stroke-width=\"1\" stroke=\"gray\" d=\"M 99 20 22 189\" marker-end=\"url(#arrow-gray)\"/>\n",
       "<circle cx=\"387\" cy=\"320\" r=\"7.0\" style=\"fill:fuchsia;stroke:black;stroke-width:1.0\"/>\n",
       "<circle cx=\"258\" cy=\"206\" r=\"7.0\" style=\"fill:fuchsia;stroke:black;stroke-width:1.0\"/>\n",
       "<circle cx=\"420\" cy=\"122\" r=\"7.0\" style=\"fill:fuchsia;stroke:black;stroke-width:1.0\"/>\n",
       "<circle cx=\"20\" cy=\"195\" r=\"7.0\" style=\"fill:fuchsia;stroke:black;stroke-width:1.0\"/>\n",
       "<circle cx=\"99\" cy=\"20\" r=\"7.0\" style=\"fill:fuchsia;stroke:black;stroke-width:1.0\"/>\n",
       "<text text-anchor=\"start\" x=\"397\" y=\"320\" font-size=\"12\">The Bahamas</text><text text-anchor=\"start\" x=\"268\" y=\"206\" font-size=\"12\">Dominican Republic</text><text text-anchor=\"start\" x=\"430\" y=\"122\" font-size=\"12\">Haiti</text><text text-anchor=\"start\" x=\"30\" y=\"195\" font-size=\"12\">Jamaica</text><text text-anchor=\"start\" x=\"109\" y=\"20\" font-size=\"12\">Bahamas</text></svg>"
      ],
      "text/plain": [
       "<IPython.core.display.SVG object>"
      ]
     },
     "execution_count": 749,
     "metadata": {},
     "output_type": "execute_result"
    }
   ],
   "source": [
    "rand_idx = np.random.choice(len(concepts_5size), 1)\n",
    "concept = concepts_5size[rand_idx[0]]\n",
    "objs, attrs = concept\n",
    "\n",
    "print(objs, attrs)\n",
    "print(sorted_names_col[attrs])\n",
    "\n",
    "image_adj = adjacency[objs, :][:, objs]\n",
    "if image_adj.nnz == 0:\n",
    "    image_adj += sparse.diags(np.ones(len(objs)))\n",
    "image = svg_graph(image_adj, names=names[objs], labels=labels[objs])\n",
    "\n",
    "SVG(image)"
   ]
  },
  {
   "cell_type": "code",
   "execution_count": 736,
   "id": "bbbd71a7-187e-4c9c-866e-db5e148c928a",
   "metadata": {},
   "outputs": [
    {
     "name": "stdout",
     "output_type": "stream",
     "text": [
      "[171, 195, 341, 494, 516, 528, 551, 598, 740, 882, 908, 1013, 1079, 1144, 1315, 1331, 1415, 1445, 1629, 1734, 1767, 2071, 2072, 2149, 2572, 3266, 3336, 3487, 3565, 3687, 3741, 4251] [3094]\n",
      "['adher']\n"
     ]
    },
    {
     "data": {
      "image/svg+xml": [
       "<svg xmlns=\"http://www.w3.org/2000/svg\" width=\"554.7226628705073\" height=\"340\">\n",
       "<defs><marker id=\"arrow-gray\" markerWidth=\"10\" markerHeight=\"10\" refX=\"9\" refY=\"3\" orient=\"auto\">\n",
       "<path d=\"M0,0 L0,6 L9,3 z\" fill=\"gray\"/></marker></defs>\n",
       "<path stroke-width=\"1\" stroke=\"gray\" d=\"M 141 277 114 264\" marker-end=\"url(#arrow-gray)\"/>\n",
       "<path stroke-width=\"1\" stroke=\"gray\" d=\"M 130 285 136 280\" marker-end=\"url(#arrow-gray)\"/>\n",
       "<path stroke-width=\"1\" stroke=\"gray\" d=\"M 130 285 112 266\" marker-end=\"url(#arrow-gray)\"/>\n",
       "<path stroke-width=\"1\" stroke=\"gray\" d=\"M 130 285 117 282\" marker-end=\"url(#arrow-gray)\"/>\n",
       "<path stroke-width=\"1\" stroke=\"gray\" d=\"M 130 285 128 284\" marker-end=\"url(#arrow-gray)\"/>\n",
       "<path stroke-width=\"1\" stroke=\"gray\" d=\"M 130 285 154 294\" marker-end=\"url(#arrow-gray)\"/>\n",
       "<path stroke-width=\"1\" stroke=\"gray\" d=\"M 130 285 121 279\" marker-end=\"url(#arrow-gray)\"/>\n",
       "<path stroke-width=\"1\" stroke=\"gray\" d=\"M 116 275 111 266\" marker-end=\"url(#arrow-gray)\"/>\n",
       "<path stroke-width=\"1\" stroke=\"gray\" d=\"M 116 275 115 276\" marker-end=\"url(#arrow-gray)\"/>\n",
       "<path stroke-width=\"1\" stroke=\"gray\" d=\"M 116 275 118 277\" marker-end=\"url(#arrow-gray)\"/>\n",
       "<path stroke-width=\"1\" stroke=\"gray\" d=\"M 116 275 125 281\" marker-end=\"url(#arrow-gray)\"/>\n",
       "<path stroke-width=\"1\" stroke=\"gray\" d=\"M 111 214 105 234\" marker-end=\"url(#arrow-gray)\"/>\n",
       "<path stroke-width=\"1\" stroke=\"gray\" d=\"M 49 316 57 319\" marker-end=\"url(#arrow-gray)\"/>\n",
       "<path stroke-width=\"1\" stroke=\"gray\" d=\"M 104 240 131 265\" marker-end=\"url(#arrow-gray)\"/>\n",
       "<path stroke-width=\"1\" stroke=\"gray\" d=\"M 158 237 114 258\" marker-end=\"url(#arrow-gray)\"/>\n",
       "<path stroke-width=\"1\" stroke=\"gray\" d=\"M 158 237 178 227\" marker-end=\"url(#arrow-gray)\"/>\n",
       "<path stroke-width=\"1\" stroke=\"gray\" d=\"M 136 269 138 272\" marker-end=\"url(#arrow-gray)\"/>\n",
       "<path stroke-width=\"1\" stroke=\"gray\" d=\"M 136 269 117 278\" marker-end=\"url(#arrow-gray)\"/>\n",
       "<path stroke-width=\"1\" stroke=\"gray\" d=\"M 136 269 156 291\" marker-end=\"url(#arrow-gray)\"/>\n",
       "<path stroke-width=\"1\" stroke=\"gray\" d=\"M 136 269 122 274\" marker-end=\"url(#arrow-gray)\"/>\n",
       "<path stroke-width=\"1\" stroke=\"gray\" d=\"M 74 296 104 266\" marker-end=\"url(#arrow-gray)\"/>\n",
       "<path stroke-width=\"1\" stroke=\"gray\" d=\"M 74 296 65 314\" marker-end=\"url(#arrow-gray)\"/>\n",
       "<path stroke-width=\"1\" stroke=\"gray\" d=\"M 178 138 188 141\" marker-end=\"url(#arrow-gray)\"/>\n",
       "<path stroke-width=\"1\" stroke=\"gray\" d=\"M 20 241 61 244\" marker-end=\"url(#arrow-gray)\"/>\n",
       "<path stroke-width=\"1\" stroke=\"gray\" d=\"M 194 142 184 139\" marker-end=\"url(#arrow-gray)\"/>\n",
       "<path stroke-width=\"1\" stroke=\"gray\" d=\"M 49 316 69 300\" marker-end=\"url(#arrow-gray)\"/>\n",
       "<path stroke-width=\"1\" stroke=\"gray\" d=\"M 104 240 114 245\" marker-end=\"url(#arrow-gray)\"/>\n",
       "<path stroke-width=\"1\" stroke=\"gray\" d=\"M 104 240 81 229\" marker-end=\"url(#arrow-gray)\"/>\n",
       "<path stroke-width=\"1\" stroke=\"gray\" d=\"M 141 277 130 280\" marker-end=\"url(#arrow-gray)\"/>\n",
       "<path stroke-width=\"1\" stroke=\"gray\" d=\"M 141 277 135 282\" marker-end=\"url(#arrow-gray)\"/>\n",
       "<path stroke-width=\"1\" stroke=\"gray\" d=\"M 108 261 73 246\" marker-end=\"url(#arrow-gray)\"/>\n",
       "<path stroke-width=\"1\" stroke=\"gray\" d=\"M 108 261 116 252\" marker-end=\"url(#arrow-gray)\"/>\n",
       "<path stroke-width=\"1\" stroke=\"gray\" d=\"M 75 226 69 238\" marker-end=\"url(#arrow-gray)\"/>\n",
       "<path stroke-width=\"1\" stroke=\"gray\" d=\"M 65 257 102 261\" marker-end=\"url(#arrow-gray)\"/>\n",
       "<path stroke-width=\"1\" stroke=\"gray\" d=\"M 65 257 66 250\" marker-end=\"url(#arrow-gray)\"/>\n",
       "<path stroke-width=\"1\" stroke=\"gray\" d=\"M 111 281 109 267\" marker-end=\"url(#arrow-gray)\"/>\n",
       "<path stroke-width=\"1\" stroke=\"gray\" d=\"M 111 281 118 280\" marker-end=\"url(#arrow-gray)\"/>\n",
       "<path stroke-width=\"1\" stroke=\"gray\" d=\"M 111 281 124 284\" marker-end=\"url(#arrow-gray)\"/>\n",
       "<path stroke-width=\"1\" stroke=\"gray\" d=\"M 111 281 112 280\" marker-end=\"url(#arrow-gray)\"/>\n",
       "<path stroke-width=\"1\" stroke=\"gray\" d=\"M 63 320 55 317\" marker-end=\"url(#arrow-gray)\"/>\n",
       "<path stroke-width=\"1\" stroke=\"gray\" d=\"M 104 240 73 244\" marker-end=\"url(#arrow-gray)\"/>\n",
       "<path stroke-width=\"1\" stroke=\"gray\" d=\"M 41 233 61 242\" marker-end=\"url(#arrow-gray)\"/>\n",
       "<path stroke-width=\"1\" stroke=\"gray\" d=\"M 124 280 112 266\" marker-end=\"url(#arrow-gray)\"/>\n",
       "<path stroke-width=\"1\" stroke=\"gray\" d=\"M 124 280 117 281\" marker-end=\"url(#arrow-gray)\"/>\n",
       "<path stroke-width=\"1\" stroke=\"gray\" d=\"M 124 280 126 281\" marker-end=\"url(#arrow-gray)\"/>\n",
       "<path stroke-width=\"1\" stroke=\"gray\" d=\"M 124 280 122 278\" marker-end=\"url(#arrow-gray)\"/>\n",
       "<path stroke-width=\"1\" stroke=\"gray\" d=\"M 184 225 164 235\" marker-end=\"url(#arrow-gray)\"/>\n",
       "<path stroke-width=\"1\" stroke=\"gray\" d=\"M 84 251 102 259\" marker-end=\"url(#arrow-gray)\"/>\n",
       "<path stroke-width=\"1\" stroke=\"gray\" d=\"M 67 244 102 259\" marker-end=\"url(#arrow-gray)\"/>\n",
       "<path stroke-width=\"1\" stroke=\"gray\" d=\"M 67 244 66 251\" marker-end=\"url(#arrow-gray)\"/>\n",
       "<path stroke-width=\"1\" stroke=\"gray\" d=\"M 67 244 47 235\" marker-end=\"url(#arrow-gray)\"/>\n",
       "<path stroke-width=\"1\" stroke=\"gray\" d=\"M 120 247 112 256\" marker-end=\"url(#arrow-gray)\"/>\n",
       "<path stroke-width=\"1\" stroke=\"gray\" d=\"M 182 318 165 300\" marker-end=\"url(#arrow-gray)\"/>\n",
       "<path stroke-width=\"1\" stroke=\"gray\" d=\"M 104 240 107 255\" marker-end=\"url(#arrow-gray)\"/>\n",
       "<path stroke-width=\"1\" stroke=\"gray\" d=\"M 124 280 135 277\" marker-end=\"url(#arrow-gray)\"/>\n",
       "<path stroke-width=\"1\" stroke=\"gray\" d=\"M 150 252 114 260\" marker-end=\"url(#arrow-gray)\"/>\n",
       "<circle cx=\"141\" cy=\"277\" r=\"7.0\" style=\"fill:fuchsia;stroke:black;stroke-width:1.0\"/>\n",
       "<circle cx=\"108\" cy=\"261\" r=\"7.0\" style=\"fill:yellow;stroke:black;stroke-width:1.0\"/>\n",
       "<circle cx=\"75\" cy=\"226\" r=\"7.0\" style=\"fill:olive;stroke:black;stroke-width:1.0\"/>\n",
       "<circle cx=\"331\" cy=\"179\" r=\"7.0\" style=\"fill:fuchsia;stroke:black;stroke-width:1.0\"/>\n",
       "<circle cx=\"65\" cy=\"257\" r=\"7.0\" style=\"fill:yellow;stroke:black;stroke-width:1.0\"/>\n",
       "<circle cx=\"111\" cy=\"281\" r=\"7.0\" style=\"fill:fuchsia;stroke:black;stroke-width:1.0\"/>\n",
       "<circle cx=\"63\" cy=\"320\" r=\"7.0\" style=\"fill:brown;stroke:black;stroke-width:1.0\"/>\n",
       "<circle cx=\"41\" cy=\"233\" r=\"7.0\" style=\"fill:olive;stroke:black;stroke-width:1.0\"/>\n",
       "<circle cx=\"124\" cy=\"280\" r=\"7.0\" style=\"fill:fuchsia;stroke:black;stroke-width:1.0\"/>\n",
       "<circle cx=\"184\" cy=\"225\" r=\"7.0\" style=\"fill:yellow;stroke:black;stroke-width:1.0\"/>\n",
       "<circle cx=\"84\" cy=\"251\" r=\"7.0\" style=\"fill:green;stroke:black;stroke-width:1.0\"/>\n",
       "<circle cx=\"67\" cy=\"244\" r=\"7.0\" style=\"fill:yellow;stroke:black;stroke-width:1.0\"/>\n",
       "<circle cx=\"120\" cy=\"247\" r=\"7.0\" style=\"fill:yellow;stroke:black;stroke-width:1.0\"/>\n",
       "<circle cx=\"182\" cy=\"318\" r=\"7.0\" style=\"fill:olive;stroke:black;stroke-width:1.0\"/>\n",
       "<circle cx=\"104\" cy=\"240\" r=\"7.0\" style=\"fill:purple;stroke:black;stroke-width:1.0\"/>\n",
       "<circle cx=\"130\" cy=\"285\" r=\"7.0\" style=\"fill:fuchsia;stroke:black;stroke-width:1.0\"/>\n",
       "<circle cx=\"160\" cy=\"296\" r=\"7.0\" style=\"fill:fuchsia;stroke:black;stroke-width:1.0\"/>\n",
       "<circle cx=\"116\" cy=\"275\" r=\"7.0\" style=\"fill:fuchsia;stroke:black;stroke-width:1.0\"/>\n",
       "<circle cx=\"111\" cy=\"214\" r=\"7.0\" style=\"fill:purple;stroke:black;stroke-width:1.0\"/>\n",
       "<circle cx=\"306\" cy=\"20\" r=\"7.0\" style=\"fill:olive;stroke:black;stroke-width:1.0\"/>\n",
       "<circle cx=\"49\" cy=\"316\" r=\"7.0\" style=\"fill:brown;stroke:black;stroke-width:1.0\"/>\n",
       "<circle cx=\"158\" cy=\"237\" r=\"7.0\" style=\"fill:green;stroke:black;stroke-width:1.0\"/>\n",
       "<circle cx=\"136\" cy=\"269\" r=\"7.0\" style=\"fill:green;stroke:black;stroke-width:1.0\"/>\n",
       "<circle cx=\"74\" cy=\"296\" r=\"7.0\" style=\"fill:yellow;stroke:black;stroke-width:1.0\"/>\n",
       "<circle cx=\"178\" cy=\"138\" r=\"7.0\" style=\"fill:green;stroke:black;stroke-width:1.0\"/>\n",
       "<circle cx=\"420\" cy=\"140\" r=\"7.0\" style=\"fill:yellow;stroke:black;stroke-width:1.0\"/>\n",
       "<circle cx=\"20\" cy=\"241\" r=\"7.0\" style=\"fill:fuchsia;stroke:black;stroke-width:1.0\"/>\n",
       "<circle cx=\"194\" cy=\"142\" r=\"7.0\" style=\"fill:green;stroke:black;stroke-width:1.0\"/>\n",
       "<circle cx=\"342\" cy=\"287\" r=\"7.0\" style=\"fill:yellow;stroke:black;stroke-width:1.0\"/>\n",
       "<circle cx=\"289\" cy=\"96\" r=\"7.0\" style=\"fill:yellow;stroke:black;stroke-width:1.0\"/>\n",
       "<circle cx=\"150\" cy=\"252\" r=\"7.0\" style=\"fill:purple;stroke:black;stroke-width:1.0\"/>\n",
       "<circle cx=\"68\" cy=\"153\" r=\"7.0\" style=\"fill:yellow;stroke:black;stroke-width:1.0\"/>\n",
       "<text text-anchor=\"start\" x=\"151\" y=\"277\" font-size=\"12\">Serbia</text><text text-anchor=\"start\" x=\"118\" y=\"261\" font-size=\"12\">Christianity</text><text text-anchor=\"start\" x=\"85\" y=\"226\" font-size=\"12\">Louis XIV of France</text><text text-anchor=\"start\" x=\"341\" y=\"179\" font-size=\"12\">Volcano</text><text text-anchor=\"start\" x=\"75\" y=\"257\" font-size=\"12\">Bahá'í Faith</text><text text-anchor=\"start\" x=\"121\" y=\"281\" font-size=\"12\">Ethiopia</text><text text-anchor=\"start\" x=\"73\" y=\"320\" font-size=\"12\">Literature</text><text text-anchor=\"start\" x=\"51\" y=\"233\" font-size=\"12\">Zionism</text><text text-anchor=\"start\" x=\"134\" y=\"280\" font-size=\"12\">Madagascar</text><text text-anchor=\"start\" x=\"194\" y=\"225\" font-size=\"12\">Augustine of Hippo</text><text text-anchor=\"start\" x=\"94\" y=\"251\" font-size=\"12\">Taoism</text><text text-anchor=\"start\" x=\"77\" y=\"244\" font-size=\"12\">Judaism</text><text text-anchor=\"start\" x=\"130\" y=\"247\" font-size=\"12\">Anglican Communion</text><text text-anchor=\"start\" x=\"192\" y=\"318\" font-size=\"12\">Mikhail Gorbachev</text><text text-anchor=\"start\" x=\"114\" y=\"240\" font-size=\"12\">Law</text><text text-anchor=\"start\" x=\"140\" y=\"285\" font-size=\"12\">Djibouti</text><text text-anchor=\"start\" x=\"170\" y=\"296\" font-size=\"12\">Uzbekistan</text><text text-anchor=\"start\" x=\"126\" y=\"275\" font-size=\"12\">Eritrea</text><text text-anchor=\"start\" x=\"121\" y=\"214\" font-size=\"12\">Crime</text><text text-anchor=\"start\" x=\"316\" y=\"20\" font-size=\"12\">Albigensian Crusade</text><text text-anchor=\"start\" x=\"59\" y=\"316\" font-size=\"12\">Mythology</text><text text-anchor=\"start\" x=\"168\" y=\"237\" font-size=\"12\">Stoicism</text><text text-anchor=\"start\" x=\"146\" y=\"269\" font-size=\"12\">World Trade Organization</text><text text-anchor=\"start\" x=\"84\" y=\"296\" font-size=\"12\">Norse mythology</text><text text-anchor=\"start\" x=\"188\" y=\"138\" font-size=\"12\">Philosophy of mind</text><text text-anchor=\"start\" x=\"430\" y=\"140\" font-size=\"12\">The Dandy</text><text text-anchor=\"start\" x=\"30\" y=\"241\" font-size=\"12\">Crimean Karaites</text><text text-anchor=\"start\" x=\"204\" y=\"142\" font-size=\"12\">Jerry Fodor</text><text text-anchor=\"start\" x=\"352\" y=\"287\" font-size=\"12\">Muhammad Ali</text><text text-anchor=\"start\" x=\"299\" y=\"96\" font-size=\"12\">Monaco Grand Prix</text><text text-anchor=\"start\" x=\"160\" y=\"252\" font-size=\"12\">Georg Forster</text><text text-anchor=\"start\" x=\"78\" y=\"153\" font-size=\"12\">Revised Standard Version</text></svg>"
      ],
      "text/plain": [
       "<IPython.core.display.SVG object>"
      ]
     },
     "execution_count": 736,
     "metadata": {},
     "output_type": "execute_result"
    }
   ],
   "source": [
    "rand_idx = np.random.choice(len(concepts), 1)\n",
    "concept = concepts[rand_idx[0]]\n",
    "objs, attrs = concept\n",
    "\n",
    "print(objs, attrs)\n",
    "print(sorted_names_col[attrs])\n",
    "\n",
    "image_adj = adjacency[objs, :][:, objs]\n",
    "if image_adj.nnz == 0:\n",
    "    image_adj += sparse.diags(np.ones(len(objs)))\n",
    "image = svg_graph(image_adj, names=names[objs], labels=labels[objs])\n",
    "\n",
    "SVG(image)"
   ]
  },
  {
   "cell_type": "code",
   "execution_count": 737,
   "id": "bb4a9484-b10b-4d0f-b59f-4126052ff57a",
   "metadata": {},
   "outputs": [],
   "source": [
    "def get_summarized_graph(adjacency, concepts):\n",
    "    \"\"\"Get summarized graph given concepts and original adjacency matrix.\"\"\"\n",
    "    \n",
    "    rows, cols = [], []\n",
    "\n",
    "    for c in concepts:\n",
    "\n",
    "        # exclude first element of lattice \n",
    "        if len(c[1]) > 0:\n",
    "            nodes = sorted(c[0])\n",
    "            idx = 0\n",
    "            idx_nodes = np.array([-1] * len(nodes)) # number of unique nodes from concepts\n",
    "            # reindex nodes\n",
    "            for n in nodes:\n",
    "                if n not in idx_nodes:\n",
    "                    idx_nodes[idx] = n\n",
    "                    idx += 1\n",
    "            \n",
    "            # Record edges from subgraph related to concept\n",
    "            adj_concept = adjacency[nodes, :][:, nodes].tocoo()\n",
    "            reindex_rows = [int(idx_nodes[src]) for src in adj_concept.row]\n",
    "            reindex_cols = [int(idx_nodes[dst]) for dst in adj_concept.col]\n",
    "            rows += reindex_rows\n",
    "            cols += reindex_cols\n",
    "            \n",
    "    return sparse.coo_matrix((np.ones(len(rows)), (rows, cols)), shape=adjacency.shape).tocsr()"
   ]
  },
  {
   "cell_type": "code",
   "execution_count": 741,
   "id": "bb105d85-8aca-476d-958a-d1889c992ab9",
   "metadata": {},
   "outputs": [
    {
     "data": {
      "text/plain": [
       "<4403x4403 sparse matrix of type '<class 'numpy.float64'>'\n",
       "\twith 46782 stored elements in Compressed Sparse Row format>"
      ]
     },
     "execution_count": 741,
     "metadata": {},
     "output_type": "execute_result"
    }
   ],
   "source": [
    "summarized_adj = get_summarized_graph(adjacency, concepts)\n",
    "summarized_adj"
   ]
  },
  {
   "cell_type": "code",
   "execution_count": 744,
   "id": "9ab7122d-08a6-4293-96fc-1c8e4767ccbb",
   "metadata": {},
   "outputs": [
    {
     "data": {
      "text/plain": [
       "1"
      ]
     },
     "execution_count": 744,
     "metadata": {},
     "output_type": "execute_result"
    }
   ],
   "source": [
    "len(Counter(get_connected_components(adjacency)))"
   ]
  },
  {
   "cell_type": "code",
   "execution_count": 739,
   "id": "33a19852-2435-47b7-a7e6-b06e0cdb7359",
   "metadata": {},
   "outputs": [
    {
     "data": {
      "text/plain": [
       "139"
      ]
     },
     "execution_count": 739,
     "metadata": {},
     "output_type": "execute_result"
    }
   ],
   "source": [
    "labels_cc_summarized = get_connected_components(summarized_adj)\n",
    "len(Counter(labels_cc_summarized))"
   ]
  },
  {
   "cell_type": "code",
   "execution_count": 747,
   "id": "7acc1079-3ba3-45c1-a051-ecab5a2a9045",
   "metadata": {},
   "outputs": [
    {
     "data": {
      "text/plain": [
       "4265"
      ]
     },
     "execution_count": 747,
     "metadata": {},
     "output_type": "execute_result"
    }
   ],
   "source": [
    "# Number of nodes in the largest connected component of summarized graph\n",
    "Counter(labels_cc_summarized)[0]"
   ]
  },
  {
   "cell_type": "markdown",
   "id": "fe2bc9cf-0f98-4d85-a384-2506849d8d52",
   "metadata": {},
   "source": [
    "$\\rightarrow$ problem: Only one big connecected component out of 139  \n",
    "\n",
    "\n",
    "We can try to merge concepts with at least $k$ attributes."
   ]
  },
  {
   "cell_type": "code",
   "execution_count": 771,
   "id": "3358f4f4-12c6-4f31-ba5c-fa3682bb7e7b",
   "metadata": {},
   "outputs": [
    {
     "data": {
      "text/plain": [
       "<4403x4403 sparse matrix of type '<class 'numpy.float64'>'\n",
       "\twith 4619 stored elements in Compressed Sparse Row format>"
      ]
     },
     "execution_count": 771,
     "metadata": {},
     "output_type": "execute_result"
    }
   ],
   "source": [
    "# Summarized graph with concepts containing at least k attributes\n",
    "k = 3\n",
    "summarized_adj = get_summarized_graph(adjacency, [x for x in concepts if len(x[1]) >= k])\n",
    "summarized_adj"
   ]
  },
  {
   "cell_type": "code",
   "execution_count": 772,
   "id": "97227463-10f2-4043-8caa-9471378a2280",
   "metadata": {},
   "outputs": [
    {
     "name": "stdout",
     "output_type": "stream",
     "text": [
      "3180\n",
      "(7, 821)\n"
     ]
    }
   ],
   "source": [
    "labels_cc_summarized = get_connected_components(summarized_adj)\n",
    "print(len(Counter(labels_cc_summarized)))\n",
    "print(sorted(dict(Counter(labels_cc_summarized)).items(), key=lambda x: x[1], reverse=True)[0])"
   ]
  },
  {
   "cell_type": "code",
   "execution_count": 773,
   "id": "b7b67f86-c0b6-4e24-a0df-ef274876247f",
   "metadata": {},
   "outputs": [
    {
     "data": {
      "text/plain": [
       "56"
      ]
     },
     "execution_count": 773,
     "metadata": {},
     "output_type": "execute_result"
    }
   ],
   "source": [
    "# Number of cc with more than 1 node in it\n",
    "len([x for x in sorted(dict(Counter(labels_cc_summarized)).items(), key=lambda x: x[1], reverse=True) if x[1] > 1])"
   ]
  },
  {
   "cell_type": "code",
   "execution_count": 775,
   "id": "65282ae1-26bf-4b15-b2cd-7717de60d5f9",
   "metadata": {},
   "outputs": [
    {
     "ename": "NameError",
     "evalue": "name 'mask' is not defined",
     "output_type": "error",
     "traceback": [
      "\u001b[0;31m---------------------------------------------------------------------------\u001b[0m",
      "\u001b[0;31mNameError\u001b[0m                                 Traceback (most recent call last)",
      "Input \u001b[0;32mIn [775]\u001b[0m, in \u001b[0;36m<cell line: 13>\u001b[0;34m()\u001b[0m\n\u001b[1;32m     11\u001b[0m \u001b[38;5;66;03m# Related concepts\u001b[39;00m\n\u001b[1;32m     12\u001b[0m concepts \u001b[38;5;241m=\u001b[39m []\n\u001b[0;32m---> 13\u001b[0m g_cc_nodes \u001b[38;5;241m=\u001b[39m \u001b[43mmask\u001b[49m[mask_cc]\n\u001b[1;32m     15\u001b[0m \u001b[38;5;28;01mfor\u001b[39;00m c \u001b[38;5;129;01min\u001b[39;00m result:\n\u001b[1;32m     16\u001b[0m     \u001b[38;5;28;01mif\u001b[39;00m \u001b[38;5;28mlen\u001b[39m(c[\u001b[38;5;241m1\u001b[39m]) \u001b[38;5;241m>\u001b[39m \u001b[38;5;241m0\u001b[39m:\n",
      "\u001b[0;31mNameError\u001b[0m: name 'mask' is not defined"
     ]
    }
   ],
   "source": [
    "mask = get_degrees(summarized_adj) > 1\n",
    "\n",
    "# Find random connected component in summarized graph\n",
    "idx = np.random.choice(labels_cc_summarized[mask])\n",
    "mask_cc = labels_cc_summarized == idx\n",
    "g_cc = summarized_adj[mask_cc, :][:, mask_cc]\n",
    "\n",
    "# Related concepts\n",
    "concepts = []\n",
    "g_cc_nodes = mask[mask_cc]\n",
    "\n",
    "for c in concepts:\n",
    "    if len(c[1]) > 1:\n",
    "        for x in c[0]:\n",
    "            if x in g_cc_nodes:\n",
    "                concepts.append(c)\n",
    "                break\n",
    "                \n",
    "print(f'Number of concepts related to connected component: {len(concepts)}')\n",
    "print()\n",
    "\n",
    "# Print related concepts\n",
    "for c in concepts[:10]:\n",
    "    print(f'{(str(names[c[0]]))} - {(str(sorted_names_col[c[1]]))}')\n",
    "    print()\n",
    "    \n",
    "image = svg_graph(g_cc, names=names[mask_cc], labels=labels[mask_cc], edge_width_min=0.5, edge_width_max=0.5, width=400, height=400)\n",
    "SVG(image)"
   ]
  },
  {
   "cell_type": "markdown",
   "id": "ea27d097-80d6-4526-b7a4-a4219de7b9b7",
   "metadata": {},
   "source": [
    "### 1. version **with** $\\texttt{IsCannonical}$"
   ]
  },
  {
   "cell_type": "code",
   "execution_count": null,
   "id": "ae3628c8-5dca-43d0-8c5d-3578befbc5e1",
   "metadata": {},
   "outputs": [],
   "source": []
  }
 ],
 "metadata": {
  "kernelspec": {
   "display_name": "COMEG",
   "language": "python",
   "name": "comeg"
  },
  "language_info": {
   "codemirror_mode": {
    "name": "ipython",
    "version": 3
   },
   "file_extension": ".py",
   "mimetype": "text/x-python",
   "name": "python",
   "nbconvert_exporter": "python",
   "pygments_lexer": "ipython3",
   "version": "3.9.15"
  }
 },
 "nbformat": 4,
 "nbformat_minor": 5
}
