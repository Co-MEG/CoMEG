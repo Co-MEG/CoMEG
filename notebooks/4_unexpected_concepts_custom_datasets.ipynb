{
 "cells": [
  {
   "cell_type": "markdown",
   "id": "3e466124-a6fe-4976-8244-77ce0685a853",
   "metadata": {},
   "source": [
    "# Unexpected subgraphs\n",
    "---"
   ]
  },
  {
   "cell_type": "markdown",
   "id": "bdc71b89-6221-4528-8dd8-eea366fd2276",
   "metadata": {},
   "source": [
    "Given an attributed graph $\\mathcal{G}=(\\mathcal{V, E, A})$, use **unexpectedness** $U=C_w - C$ to filter out attributed subgraphs $G_i=(V_i, E_i, A_i)$.\n",
    "\n",
    "The unexpectedness of an attributed subgraph $G = (V, E, A)$ is defined as the sum of the unexpectedness of its structure $g$ and the unexpectedness of the set of attributes its nodes are sharing $A$\n",
    "$$\n",
    "U(G) = U(g) + U(A)\n",
    "$$\n",
    "\n",
    "**Subgraph structure** $g$   \n",
    "* $U(g)=C_w(g) - C(g)$\n",
    "* description complexity $C(g)$ is the number of bits to describe vertices and edges in graph  \n",
    "$C(g) = \\log(|V|) + \\sum_{v \\in V}\\log{(b+1)} + \\log(\\binom{|V|}{k_v})$, with $b=\\max_{v \\in V}(\\text{deg}(v))$ and $k$ is the number of non zero elements in a row  \n",
    "* generation complexity $C_w(g)$ is the number of bits to describe a random graph sampled in original graph $\\mathcal{G}$, with a given number of nodes and density\n",
    "\n",
    "**Attributes** $A$\n",
    "* $U(A)=C_w(A)-C(A)$\n",
    "* description complexity $C(A)$ is the minimum description length for identifying the subgraph sharing characteristics $A \\in \\mathcal{A}$. It is defined using the number of occurences of each attribute $a \\in A$, $\\#a$. With this approach, a very common attribute such as '$\\texttt{the}$' will yield a large complexity, whereas a non-common attribute will be considered as less complex.  \n",
    "$C(A)=\\sum_{a \\in A}\\log(\\#a)$ \n",
    "* generation complexity $C_w(A)$ is the minimum description length to describe a set of $|A|$ elements from a vocabulary of size $\\mathcal{A}$  \n",
    "$C_w(A)=\\log(\\binom{|\\mathcal{A}|}{|A|})$"
   ]
  },
  {
   "cell_type": "code",
   "execution_count": 2,
   "id": "c527bf61-6499-46dc-8745-2c9472a85e27",
   "metadata": {},
   "outputs": [],
   "source": [
    "from collections import defaultdict, Counter\n",
    "from contextlib import redirect_stdout\n",
    "from IPython.display import SVG\n",
    "import matplotlib.pyplot as plt\n",
    "import numpy as np\n",
    "import pickle\n",
    "from random import random\n",
    "import seaborn as sns\n",
    "from scipy import sparse, special\n",
    "\n",
    "from sknetwork.clustering import get_modularity, KMeans, Louvain\n",
    "from sknetwork.data import load_netset, from_edge_list\n",
    "from sknetwork.embedding import Spectral, SVD\n",
    "from sknetwork.gnn import GNNClassifier\n",
    "from sknetwork.ranking import top_k\n",
    "from sknetwork.topology import Triangles, Cliques, get_connected_components\n",
    "from sknetwork.utils import get_degrees, get_membership, get_neighbors\n",
    "from sknetwork.utils.kmeans import KMeansDense\n",
    "from sknetwork.utils.check import get_probs\n",
    "from sknetwork.visualization import svg_graph\n",
    "\n",
    "from tfidf import TfIdf"
   ]
  },
  {
   "cell_type": "code",
   "execution_count": 3,
   "id": "cf69c5b9-460c-4cd1-a030-844d5dc7deb0",
   "metadata": {},
   "outputs": [
    {
     "name": "stdout",
     "output_type": "stream",
     "text": [
      "Parsing files...\n",
      "Done.\n"
     ]
    }
   ],
   "source": [
    "wikivitals = load_netset('wikivitals')"
   ]
  },
  {
   "cell_type": "code",
   "execution_count": 4,
   "id": "bc754a98-7042-41a9-be73-94fc7291d8d3",
   "metadata": {},
   "outputs": [],
   "source": [
    "adjacency = wikivitals.adjacency\n",
    "biadjacency = wikivitals.biadjacency\n",
    "names = wikivitals.names\n",
    "words = wikivitals.names_col\n",
    "labels = wikivitals.labels"
   ]
  },
  {
   "cell_type": "code",
   "execution_count": 40,
   "id": "a2caee12-d8e5-4fcd-ab37-0c27c57b0623",
   "metadata": {},
   "outputs": [],
   "source": [
    "def plot_distrib(values, ax, xlabel='degree', log=True, title=None, color='blue', alpha=1, label='Degree distribution'):\n",
    "    counter = Counter(values)\n",
    "    x, y = zip(*counter.items())\n",
    "    ax.scatter(x, y, marker='+', color=color, alpha=alpha, label=label)\n",
    "    ax.legend()\n",
    "    ax.set_title(title)\n",
    "    if log:\n",
    "        ax.set_xscale('log')\n",
    "        ax.set_xlabel(xlabel + ' (log)')\n",
    "    else:\n",
    "        ax.set_xlabel(xlabel)\n",
    "    ax.set_ylabel('Frequency' + ' (log)')\n",
    "    ax.set_yscale('log')\n",
    "    \n",
    "def mdl_graph(adjacency):\n",
    "    n = adjacency.shape[0]\n",
    "\n",
    "    # density\n",
    "    #d = np.sum(adjacency) / (n * (n - 1))\n",
    "    \n",
    "    # nodes\n",
    "    nodes_mdl = np.log2(n)\n",
    "    \n",
    "    # edges\n",
    "    degrees = adjacency.dot(np.ones(n))\n",
    "    max_degree = np.max(degrees)\n",
    "    edges_mdl = (n + 1) * np.log2(max_degree + 1) + np.sum([np.log2(special.comb(n, deg)) for deg in degrees])\n",
    "\n",
    "    if n == 1:\n",
    "        return 1\n",
    "    else:\n",
    "        return (nodes_mdl + edges_mdl)\n",
    "\n",
    "def entropy(prob):\n",
    "    return prob * -np.log2(prob)\n",
    "\n",
    "def desc_complexity(attrs):\n",
    "    if isinstance(attrs, int):\n",
    "        attrs = [attrs]\n",
    "    prob = 1\n",
    "    for attr in attrs:\n",
    "        prob *= degrees[attr] / np.sum(degrees)\n",
    "    entr = entropy(prob)\n",
    "    return generation_complexity(biadjacency.shape[1], len(attrs)) * entr\n",
    "\n",
    "def expand_list(l, idx, item):\n",
    "    \"\"\"If l[idx] does not exists, expand l with item.\"\"\"\n",
    "    try:\n",
    "        l[idx] = item\n",
    "    except IndexError:\n",
    "        extents.append(item)    "
   ]
  },
  {
   "cell_type": "code",
   "execution_count": 153,
   "id": "4591a279-bfdf-42b3-b136-a160b70eccec",
   "metadata": {},
   "outputs": [
    {
     "data": {
      "image/svg+xml": [
       "<svg xmlns=\"http://www.w3.org/2000/svg\" width=\"695.2089853932816\" height=\"340\">\n",
       "<path stroke-width=\"1\" stroke=\"gray\" d=\"M 114 306 295 320\"/>\n",
       "<path stroke-width=\"1\" stroke=\"gray\" d=\"M 74 65 399 89\"/>\n",
       "<path stroke-width=\"1\" stroke=\"gray\" d=\"M 244 20 114 306\"/>\n",
       "<path stroke-width=\"1\" stroke=\"gray\" d=\"M 244 20 295 320\"/>\n",
       "<path stroke-width=\"1\" stroke=\"gray\" d=\"M 244 20 420 223\"/>\n",
       "<path stroke-width=\"1\" stroke=\"gray\" d=\"M 244 20 74 65\"/>\n",
       "<path stroke-width=\"1\" stroke=\"gray\" d=\"M 244 20 20 193\"/>\n",
       "<path stroke-width=\"1\" stroke=\"gray\" d=\"M 244 20 399 89\"/>\n",
       "<path stroke-width=\"1\" stroke=\"gray\" d=\"M 20 193 114 306\"/>\n",
       "<path stroke-width=\"1\" stroke=\"gray\" d=\"M 20 193 295 320\"/>\n",
       "<path stroke-width=\"1\" stroke=\"gray\" d=\"M 20 193 420 223\"/>\n",
       "<path stroke-width=\"1\" stroke=\"gray\" d=\"M 20 193 74 65\"/>\n",
       "<path stroke-width=\"1\" stroke=\"gray\" d=\"M 20 193 244 20\"/>\n",
       "<path stroke-width=\"1\" stroke=\"gray\" d=\"M 20 193 399 89\"/>\n",
       "<path stroke-width=\"1\" stroke=\"gray\" d=\"M 399 89 114 306\"/>\n",
       "<path stroke-width=\"1\" stroke=\"gray\" d=\"M 399 89 295 320\"/>\n",
       "<path stroke-width=\"1\" stroke=\"gray\" d=\"M 399 89 420 223\"/>\n",
       "<path stroke-width=\"1\" stroke=\"gray\" d=\"M 399 89 74 65\"/>\n",
       "<path stroke-width=\"1\" stroke=\"gray\" d=\"M 74 65 20 193\"/>\n",
       "<path stroke-width=\"1\" stroke=\"gray\" d=\"M 74 65 244 20\"/>\n",
       "<path stroke-width=\"1\" stroke=\"gray\" d=\"M 74 65 420 223\"/>\n",
       "<path stroke-width=\"1\" stroke=\"gray\" d=\"M 74 65 295 320\"/>\n",
       "<path stroke-width=\"1\" stroke=\"gray\" d=\"M 114 306 420 223\"/>\n",
       "<path stroke-width=\"1\" stroke=\"gray\" d=\"M 114 306 74 65\"/>\n",
       "<path stroke-width=\"1\" stroke=\"gray\" d=\"M 114 306 244 20\"/>\n",
       "<path stroke-width=\"1\" stroke=\"gray\" d=\"M 114 306 20 193\"/>\n",
       "<path stroke-width=\"1\" stroke=\"gray\" d=\"M 114 306 399 89\"/>\n",
       "<path stroke-width=\"1\" stroke=\"gray\" d=\"M 295 320 114 306\"/>\n",
       "<path stroke-width=\"1\" stroke=\"gray\" d=\"M 295 320 420 223\"/>\n",
       "<path stroke-width=\"1\" stroke=\"gray\" d=\"M 295 320 74 65\"/>\n",
       "<path stroke-width=\"1\" stroke=\"gray\" d=\"M 399 89 244 20\"/>\n",
       "<path stroke-width=\"1\" stroke=\"gray\" d=\"M 295 320 244 20\"/>\n",
       "<path stroke-width=\"1\" stroke=\"gray\" d=\"M 295 320 399 89\"/>\n",
       "<path stroke-width=\"1\" stroke=\"gray\" d=\"M 420 223 114 306\"/>\n",
       "<path stroke-width=\"1\" stroke=\"gray\" d=\"M 420 223 295 320\"/>\n",
       "<path stroke-width=\"1\" stroke=\"gray\" d=\"M 420 223 74 65\"/>\n",
       "<path stroke-width=\"1\" stroke=\"gray\" d=\"M 420 223 244 20\"/>\n",
       "<path stroke-width=\"1\" stroke=\"gray\" d=\"M 420 223 20 193\"/>\n",
       "<path stroke-width=\"1\" stroke=\"gray\" d=\"M 420 223 399 89\"/>\n",
       "<path stroke-width=\"1\" stroke=\"gray\" d=\"M 74 65 114 306\"/>\n",
       "<path stroke-width=\"1\" stroke=\"gray\" d=\"M 295 320 20 193\"/>\n",
       "<path stroke-width=\"1\" stroke=\"gray\" d=\"M 399 89 20 193\"/>\n",
       "<circle cx=\"114\" cy=\"306\" r=\"7.0\" style=\"fill:gray;stroke:black;stroke-width:1.0\"/>\n",
       "<circle cx=\"295\" cy=\"320\" r=\"7.0\" style=\"fill:gray;stroke:black;stroke-width:1.0\"/>\n",
       "<circle cx=\"420\" cy=\"223\" r=\"7.0\" style=\"fill:gray;stroke:black;stroke-width:1.0\"/>\n",
       "<circle cx=\"74\" cy=\"65\" r=\"7.0\" style=\"fill:gray;stroke:black;stroke-width:1.0\"/>\n",
       "<circle cx=\"244\" cy=\"20\" r=\"7.0\" style=\"fill:gray;stroke:black;stroke-width:1.0\"/>\n",
       "<circle cx=\"20\" cy=\"193\" r=\"7.0\" style=\"fill:gray;stroke:black;stroke-width:1.0\"/>\n",
       "<circle cx=\"399\" cy=\"89\" r=\"7.0\" style=\"fill:gray;stroke:black;stroke-width:1.0\"/>\n",
       "<text text-anchor=\"start\" x=\"124\" y=\"306\" font-size=\"12\">0-['a' 'b' 'c' 'd']</text><text text-anchor=\"start\" x=\"305\" y=\"320\" font-size=\"12\">1-['a' 'b' 'c' 'd']</text><text text-anchor=\"start\" x=\"430\" y=\"223\" font-size=\"12\">2-['a' 'b' 'c' 'd']</text><text text-anchor=\"start\" x=\"84\" y=\"65\" font-size=\"12\">3-['a' 'b' 'c' 'd']</text><text text-anchor=\"start\" x=\"254\" y=\"20\" font-size=\"12\">4-['a' 'b' 'c' 'd']</text><text text-anchor=\"start\" x=\"30\" y=\"193\" font-size=\"12\">5-['a' 'b' 'c' 'd']</text><text text-anchor=\"start\" x=\"409\" y=\"89\" font-size=\"12\">6-['a' 'b' 'e' 'f' 'g']</text></svg>"
      ],
      "text/plain": [
       "<IPython.core.display.SVG object>"
      ]
     },
     "execution_count": 153,
     "metadata": {},
     "output_type": "execute_result"
    }
   ],
   "source": [
    "SVG(svg_graph(G8, names=[n + '-' + str(names_col8[x.indices]) for n, x in zip(names8, X8)]))"
   ]
  },
  {
   "cell_type": "code",
   "execution_count": 179,
   "id": "66b31ffc-6042-4bbe-8259-894ddc8a36e6",
   "metadata": {},
   "outputs": [
    {
     "data": {
      "text/plain": [
       "0"
      ]
     },
     "execution_count": 179,
     "metadata": {},
     "output_type": "execute_result"
    }
   ],
   "source": [
    "def graph_enum(g, p, s, EL, graph_obj):\n",
    "    q = # pattern language\n",
    "    return 0\n",
    "\n",
    "g_pattern_list = []\n",
    "G = G8.copy()\n",
    "p = (set(), np.arange(G.shape[0]))\n",
    "#p_lang = p.intent()\n",
    "graph_enum(G, p, s=2, EL=set(), graph_obj=G)"
   ]
  },
  {
   "cell_type": "code",
   "execution_count": 182,
   "id": "555b3201-b881-4a31-9ba9-af2f72495ad9",
   "metadata": {},
   "outputs": [
    {
     "name": "stdout",
     "output_type": "stream",
     "text": [
      "[0 1 2 3 4 5 6]\n"
     ]
    },
    {
     "data": {
      "text/plain": [
       "array([0, 1], dtype=int32)"
      ]
     },
     "execution_count": 182,
     "metadata": {},
     "output_type": "execute_result"
    }
   ],
   "source": [
    "extent = extension(np.array([]), X8)\n",
    "print(extent)\n",
    "intent = intention(extent, X8)\n",
    "intent"
   ]
  },
  {
   "cell_type": "code",
   "execution_count": 199,
   "id": "9d55ec6c-f8d1-4129-aafb-2db602a57cb1",
   "metadata": {},
   "outputs": [],
   "source": [
    "def is_cannonical(context, extents, intents, r, y):\n",
    "    global r_new\n",
    "\n",
    "    for k in range(len(intents[r])-1, -1, -1):\n",
    "        for j in range(y, intents[r][k], -1):            \n",
    "            for h in range(len(extents[r_new])):\n",
    "                if context[extents[r_new][h], j] == 0:\n",
    "                    h -= 1 # Necessary for next test in case last interaction of h for-loop returns False\n",
    "                    break\n",
    "            if h == len(extents[r_new]) - 1:\n",
    "                return False\n",
    "        y = intents[r][k] - 1\n",
    "\n",
    "    for j in reversed(range(y, -1, -1)):\n",
    "        for h in range(len(extents[r_new])):\n",
    "            if context[extents[r_new][h], j] == 0:\n",
    "                h -= 1 # Necessary for next test in case last interaction of h for-loop returns False\n",
    "                break\n",
    "        if h == len(extents[r_new]) - 1:\n",
    "            return False\n",
    "    \n",
    "    return True\n",
    "\n",
    "def extension(attrs, context):\n",
    "    ext = set()\n",
    "    if len(attrs) == 0:\n",
    "        return np.arange(0, context.shape[0])\n",
    "    for a in attrs:\n",
    "        nodes = set(get_neighbors(context, node=a, transpose=True))\n",
    "        if len(ext) == 0:\n",
    "            ext.update(nodes)\n",
    "        else:\n",
    "            ext &= nodes\n",
    "        if len(ext) == 0:\n",
    "            break\n",
    "    return np.asarray(list(ext))\n",
    "\n",
    "def intention(nodes, context):\n",
    "    intent = set()\n",
    "    if len(nodes) == 0:\n",
    "        return np.arange(0, context.shape[1])\n",
    "    for n in nodes:\n",
    "        attrs = set(get_neighbors(context, node=n))\n",
    "        if len(intent) == 0:\n",
    "            intent.update(attrs)\n",
    "        else:\n",
    "            intent &= attrs\n",
    "        if len(attrs) == 0:\n",
    "            break\n",
    "    return np.asarray(list(intent))"
   ]
  },
  {
   "cell_type": "code",
   "execution_count": 330,
   "id": "ebf0a5e0-1e0f-49ed-9668-41d0b3c9f531",
   "metadata": {},
   "outputs": [],
   "source": [
    "def init_inclose(context):\n",
    "    extents, intents = [], []\n",
    "    extents_init = np.arange(context.shape[0])\n",
    "    intents_init = []\n",
    "    extents.append(extents_init) # Initalize extents with all objects from context\n",
    "    intents.append(intents_init) # Initialize intents with empty set attributes\n",
    "    return extents, intents\n",
    "\n",
    "def in_close_new(adjacency, context, extents, intents, r=0, y=0, min_support=0, max_support=np.inf, degs=[], unexs_g=[], unexs_a=[], unexs=[]):\n",
    "    global r_new\n",
    "    r_new = r_new + 1\n",
    "    \n",
    "    for j in np.arange(context.shape[1])[y:]:\n",
    "        try:\n",
    "            extents[r_new] = []\n",
    "            unexs_g[r_new] = 0\n",
    "            unexs_a[r_new] = 0\n",
    "            unexs[r_new] = 0\n",
    "        except IndexError:\n",
    "            extents.append([])\n",
    "            unexs_g.append(0)\n",
    "            unexs_a.append(0)\n",
    "            unexs.append(0)\n",
    "            \n",
    "        # ------------------------------------------------\n",
    "        # Graph unexpectedness \n",
    "        g_r = adjacency[extents[r_new-1]][:, extents[r_new-1]]\n",
    "        complexity_desc_g = mdl_graph(g_r)\n",
    "        complexity_gen_g = np.mean(complexity_gen_graphs.get(len(extents[r_new-1])))\n",
    "        unex_g = complexity_gen_g - complexity_desc_g\n",
    "        #unexs_g.append(unex_g)\n",
    "        unexs_g[r_new] = unex_g\n",
    "        print(f'  U(G): {unex_g}')\n",
    "\n",
    "        # Attributes unexpectedness\n",
    "        complexity_gen_a = np.log2(special.comb(context.shape[1], len(intents[r_new-1])))\n",
    "        complexity_desc_a = 0\n",
    "        for a in intents[r_new-1]:\n",
    "            complexity_desc_a += np.log2(degs[a])\n",
    "        unex_a = complexity_gen_a - complexity_desc_a\n",
    "        unexs_a[r_new] = unex_a\n",
    "        print(f'  U(A): {unex_a}')\n",
    "\n",
    "        # Total unexpectedness\n",
    "        unex = unex_g + unex_a\n",
    "        unexs[r_new] = unex\n",
    "        print(f'  U: {unex}')\n",
    "        # ------------------------------------------------\n",
    "            \n",
    "        # Form a new extent by adding extension of attribute j to current concept extent\n",
    "        ext_j = set(extension([j], context))\n",
    "        extents[r_new] = list(sorted(set(extents[r]).intersection(ext_j)))\n",
    "        len_new_extent = len(extents[r_new])\n",
    "        \n",
    "        print(f'extents: {extents[r]} - intents: {intents[r]}')\n",
    "        print(f'  Candidate attr: {j}')\n",
    "        print(f'  new extent: {extents[r_new]}')\n",
    "        \n",
    "        if (len_new_extent > min_support) and (len_new_extent < max_support):\n",
    "                       \n",
    "            if len_new_extent == len(extents[r]):\n",
    "                print(f'  Extent size did not change -> attribute {j} is added to intent.')\n",
    "                intents[r] = list(sorted(set(intents[r]).union(set([j]))))\n",
    "            else:\n",
    "                print(f'  Extent size DID change. IsCannonical: {is_cannonical(context, extents, intents, r, j - 1)}')\n",
    "                if is_cannonical(context, extents, intents, r, j - 1):\n",
    "                    print(f'   New branch will be created, compute U of current concept.')\n",
    "                    \n",
    "                    try:\n",
    "                        intents[r_new] = []\n",
    "                        #unexs_g[r_new] = 0\n",
    "                        #unexs_a[r_new] = 0\n",
    "                        #unexs[r_new] = 0\n",
    "                    except IndexError:\n",
    "                        intents.append([])\n",
    "                        #unexs_g.append(0)\n",
    "                        #unexs_a.append(0)\n",
    "                        #unexs.append(0)\n",
    "                    \n",
    "                    intents[r_new] = list(sorted(set(intents[r]).union(set([j]))))\n",
    "                    len_new_intent = len(intents[r_new])\n",
    "                    print(f'  Intent: {intents[r_new]}')\n",
    "                    print(f'  --> Enter recursion...')\n",
    "                    \n",
    "                    print(f'      **Unexpectedness: {unexs}')\n",
    "                    in_close_new(adjacency, context, extents, intents, r=r_new, y=j+1, degs=degs, unexs_g=unexs_g, unexs_a=unexs_a, unexs=unexs)\n",
    "\n",
    "    print(unexs_g, unexs_a)\n",
    "    print(f'**concept: ({[*zip(extents, intents)]})')\n",
    "    \n",
    "    return [*zip(extents, intents)]"
   ]
  },
  {
   "cell_type": "code",
   "execution_count": 331,
   "id": "b78e5a28-fbae-4ed3-805a-2b744c68774d",
   "metadata": {},
   "outputs": [
    {
     "name": "stdout",
     "output_type": "stream",
     "text": [
      "  U(G): 10.089684590105549\n",
      "  U(A): 0.0\n",
      "  U: 10.089684590105549\n",
      "extents: [0 1 2 3 4 5 6] - intents: []\n",
      "  Candidate attr: 0\n",
      "  new extent: [0, 1, 2, 3, 4, 5, 6]\n",
      "  Extent size did not change -> attribute 0 is added to intent.\n",
      "  U(G): 10.089684590105549\n",
      "  U(A): 0.0\n",
      "  U: 10.089684590105549\n",
      "extents: [0 1 2 3 4 5 6] - intents: [0]\n",
      "  Candidate attr: 1\n",
      "  new extent: [0, 1, 2, 3, 4, 5, 6]\n",
      "  Extent size did not change -> attribute 1 is added to intent.\n",
      "  U(G): 10.089684590105549\n",
      "  U(A): -1.2223924213364477\n",
      "  U: 8.8672921687691\n",
      "extents: [0 1 2 3 4 5 6] - intents: [0, 1]\n",
      "  Candidate attr: 2\n",
      "  new extent: [0, 1, 2, 3, 4, 5]\n",
      "  Extent size DID change. IsCannonical: True\n",
      "   New branch will be created, compute U of current concept.\n",
      "  Intent: [0, 1, 2]\n",
      "  --> Enter recursion...\n",
      "      **Unexpectedness: [0, 8.8672921687691]\n",
      "  U(G): 7.001220597119904\n",
      "  U(A): -3.070389327891399\n",
      "  U: 3.930831269228505\n",
      "extents: [0, 1, 2, 3, 4, 5] - intents: [0, 1, 2]\n",
      "  Candidate attr: 3\n",
      "  new extent: [0, 1, 2, 3, 4, 5]\n",
      "  Extent size did not change -> attribute 3 is added to intent.\n",
      "  U(G): 7.001220597119904\n",
      "  U(A): -5.655351828612555\n",
      "  U: 1.3458687685073487\n",
      "extents: [0, 1, 2, 3, 4, 5] - intents: [0, 1, 2, 3]\n",
      "  Candidate attr: 4\n",
      "  new extent: []\n",
      "  U(G): 7.001220597119904\n",
      "  U(A): -5.655351828612555\n",
      "  U: 1.3458687685073487\n",
      "extents: [0, 1, 2, 3, 4, 5] - intents: [0, 1, 2, 3]\n",
      "  Candidate attr: 5\n",
      "  new extent: []\n",
      "  U(G): 7.001220597119904\n",
      "  U(A): -5.655351828612555\n",
      "  U: 1.3458687685073487\n",
      "extents: [0, 1, 2, 3, 4, 5] - intents: [0, 1, 2, 3]\n",
      "  Candidate attr: 6\n",
      "  new extent: []\n",
      "[0, 10.089684590105549, 7.001220597119904] [0, -1.2223924213364477, -5.655351828612555]\n",
      "**concept: ([(array([0, 1, 2, 3, 4, 5, 6]), [0, 1]), ([0, 1, 2, 3, 4, 5], [0, 1, 2, 3])])\n",
      "  U(G): 7.001220597119904\n",
      "  U(A): -5.655351828612555\n",
      "  U: 1.3458687685073487\n",
      "extents: [0 1 2 3 4 5 6] - intents: [0, 1]\n",
      "  Candidate attr: 3\n",
      "  new extent: [0, 1, 2, 3, 4, 5]\n",
      "  Extent size DID change. IsCannonical: False\n",
      "  U(G): 7.001220597119904\n",
      "  U(A): -5.655351828612555\n",
      "  U: 1.3458687685073487\n",
      "extents: [0 1 2 3 4 5 6] - intents: [0, 1]\n",
      "  Candidate attr: 4\n",
      "  new extent: [6]\n",
      "  Extent size DID change. IsCannonical: True\n",
      "   New branch will be created, compute U of current concept.\n",
      "  Intent: [0, 1, 4]\n",
      "  --> Enter recursion...\n",
      "      **Unexpectedness: [0, 8.8672921687691, 1.3458687685073487]\n",
      "  U(G): 0.0\n",
      "  U(A): -0.485426827170242\n",
      "  U: -0.485426827170242\n",
      "extents: [6] - intents: [0, 1, 4]\n",
      "  Candidate attr: 5\n",
      "  new extent: [6]\n",
      "  Extent size did not change -> attribute 5 is added to intent.\n",
      "  U(G): 0.0\n",
      "  U(A): -0.485426827170242\n",
      "  U: -0.485426827170242\n",
      "extents: [6] - intents: [0, 1, 4, 5]\n",
      "  Candidate attr: 6\n",
      "  new extent: [6]\n",
      "  Extent size did not change -> attribute 6 is added to intent.\n",
      "[0, 10.089684590105549, 7.001220597119904, 0.0] [0, -1.2223924213364477, -5.655351828612555, -0.485426827170242]\n",
      "**concept: ([(array([0, 1, 2, 3, 4, 5, 6]), [0, 1]), ([0, 1, 2, 3, 4, 5], [0, 1, 2, 3]), ([6], [0, 1, 4, 5, 6])])\n",
      "  U(G): 0.0\n",
      "  U(A): -1.2223924213364477\n",
      "  U: -1.2223924213364477\n",
      "extents: [0 1 2 3 4 5 6] - intents: [0, 1]\n",
      "  Candidate attr: 5\n",
      "  new extent: [6]\n",
      "  Extent size DID change. IsCannonical: False\n",
      "  U(G): 0.0\n",
      "  U(A): -1.2223924213364477\n",
      "  U: -1.2223924213364477\n",
      "extents: [0 1 2 3 4 5 6] - intents: [0, 1]\n",
      "  Candidate attr: 6\n",
      "  new extent: [6]\n",
      "  Extent size DID change. IsCannonical: False\n",
      "[0, 10.089684590105549, 7.001220597119904, 0.0] [0, -1.2223924213364477, -5.655351828612555, -1.2223924213364477]\n",
      "**concept: ([(array([0, 1, 2, 3, 4, 5, 6]), [0, 1]), ([0, 1, 2, 3, 4, 5], [0, 1, 2, 3]), ([6], [0, 1, 4, 5, 6])])\n",
      "[0 1 2 3 4 5 6] ['a' 'b']\n",
      "[0, 1, 2, 3, 4, 5] ['a' 'b' 'c' 'd']\n",
      "[6] ['a' 'b' 'e' 'f' 'g']\n"
     ]
    }
   ],
   "source": [
    "extents, intents = init_inclose(X8)\n",
    "degs = get_degrees(X8, transpose=True)\n",
    "global r_new\n",
    "r_new = 0\n",
    "concepts = in_close_new(G8, X8, extents, intents, r=0, y=0, degs=degs, unexs_g=[0], unexs_a=[0], unexs=[0])\n",
    "for c in concepts:\n",
    "    print(c[0], names_col8[c[1]])"
   ]
  },
  {
   "cell_type": "code",
   "execution_count": null,
   "id": "5e765cd5-faad-4a02-a930-966714c215fc",
   "metadata": {},
   "outputs": [],
   "source": []
  },
  {
   "cell_type": "code",
   "execution_count": 105,
   "id": "281f4916-c9e4-45d3-b3be-859eb4eefada",
   "metadata": {},
   "outputs": [],
   "source": [
    "def comeg(adjacency, context, extents, intents, unexs, unexs_g, r, y, degs, gain, support_obj, names_col, verbose):\n",
    "    \n",
    "    #support_obj = support_obj\n",
    "\n",
    "    support_attr = 15\n",
    "    support_common_remaining_attr = 1\n",
    "    delta = 0\n",
    "    \n",
    "    global gain_unex\n",
    "    # --------------------\n",
    "    \n",
    "    global r_new\n",
    "    r_new = r_new + 1\n",
    "    attributes = np.arange(0, context.shape[1])\n",
    "    \n",
    "    for n_iter, j in enumerate(attributes[y:]):\n",
    "        \n",
    "        try:\n",
    "            extents[r_new] = []\n",
    "            unexs[r_new] = 0\n",
    "            unexs_g[r_new] = 0\n",
    "        except IndexError:\n",
    "            extents.append([])\n",
    "            unexs.append(0)\n",
    "            unexs_g.append(0)\n",
    "\n",
    "        # Form a new extent by adding extension of attribute j to current concept extent\n",
    "        extension_j = extension([j], context)\n",
    "        new_extent = np.array(list(set(extents[r]).intersection(set(extension_j))))\n",
    "        extents[r_new] = new_extent\n",
    "        new_extent_size = len(new_extent)\n",
    "\n",
    "        if new_extent_size >= support_obj:\n",
    "            if verbose:\n",
    "                print(f'n_iter:{n_iter} - extents: {extents[r]} - intents: {intents[r]}')\n",
    "                print(f'  Candidate attr: {j} {names_col[j]}')\n",
    "                print(f'  new extent: {new_extent}')\n",
    "\n",
    "            #if new_extent_size < len(extents[r]):\n",
    "            # Graph unexpectedness\n",
    "            g_r_new = adjacency[new_extent][:, new_extent]\n",
    "            complexity_desc_g = mdl_graph(g_r_new)\n",
    "            complexity_gen_g = np.mean(complexity_gen_graphs.get(new_extent_size))\n",
    "            unex_g = complexity_gen_g - complexity_desc_g\n",
    "            unexs_g.append(unex_g)\n",
    "            if verbose:\n",
    "                print(f'  U(G)={unex_g} (cw={complexity_gen_g} - c={complexity_desc_g})')\n",
    "\n",
    "            new_intent = intention(new_extent, context)\n",
    "            #new_intent = np.array(list(sorted(set(intents[r]).union(set([j])))))\n",
    "            new_intent_size = len(new_intent)            \n",
    "\n",
    "            if new_intent_size <= support_attr:\n",
    "\n",
    "                # Attributes unexpectedness\n",
    "                complexity_gen_a = np.log2(special.comb(context.shape[1], new_intent_size))\n",
    "                complexity_desc_a = 0\n",
    "                for a in new_intent:\n",
    "                    complexity_desc_a += np.log2(degs[a])\n",
    "                unex_a = complexity_gen_a - complexity_desc_a\n",
    "                if verbose:\n",
    "                    print(f'  U(A)={unex_a} (cw={complexity_gen_a} - c={complexity_desc_a})')\n",
    "\n",
    "                # Total Unexpectedness\n",
    "                unex = unex_g + unex_a\n",
    "                if verbose:\n",
    "                    print(f'  U: {unex}')\n",
    "                unexs[r_new] = unex\n",
    "\n",
    "                if verbose:\n",
    "                    print(f'  U[r_new]={unex} - U[r]={unexs[r]}  = {unex - unexs[r]}')\n",
    "\n",
    "                gain_unex.append(unex - unexs[r])\n",
    "                if verbose:\n",
    "                    print(f'  gain unex: {gain_unex}')\n",
    "                    print(f'  Gain unex diff: {np.abs(gain_unex[-2] - gain_unex[-1])}')\n",
    "\n",
    "                if new_extent_size == len(extents[r]):\n",
    "\n",
    "                    #if unex - unexs[r] > 4 and r >=0 and np.abs(gain_unex[-2]-gain_unex[-1])>1:\n",
    "                    if (len(intents[r]) == 0) or ((unex - unexs[r] > 0) and (np.abs(gain_unex[-2] - gain_unex[-1])) > delta):\n",
    "                        #intents[r] = np.array(list(sorted(set(intents[r]).union(set([j])))))\n",
    "                        intents[r] = np.array(new_intent)\n",
    "                        extents[r] = extents[r_new]\n",
    "                        unexs_g[r] = unex_g\n",
    "                        unexs[r] = unex\n",
    "                        if verbose:\n",
    "                            print(f'  Attribute {j}-{names_col[j]} added')\n",
    "                    else:\n",
    "                        if verbose:\n",
    "                            print(f'  unex - unexs[r] > 0 : {(unex - unexs[r] > 0)}')\n",
    "                            print(f'  (gain_unex[-2] - gain_unex[-1]) > delta : {(gain_unex[-2] - gain_unex[-1]) > delta}')\n",
    "                            print(f'  len(intents[r]) == 0 : {len(intents[r]) == 0}')\n",
    "                            print(f'  --> Stop branch recursion. ')\n",
    "                            print('\\n')\n",
    "\n",
    "                        #del gain_unex[(r_new-r):]\n",
    "                            if len(intents[r]) > 1:\n",
    "                                del gain_unex[-(len(intents[r]))+1:]\n",
    "                            else:\n",
    "                                del gain_unex[-(len(intents[r])):]\n",
    "\n",
    "                        return [*zip(extents, intents)]\n",
    "\n",
    "                else:\n",
    "                    #if unex - unexs[r] > 4 and r >=0 and np.abs(gain_unex[-2]-gain_unex[-1])>1:\n",
    "                    if (len(intents[r]) == 0) or (unex - unexs[r] > 0):\n",
    "\n",
    "                        try:\n",
    "                            intents[r_new] = []\n",
    "                        except IndexError:\n",
    "                            intents.append([])\n",
    "\n",
    "                        intents[r_new] = np.array(list(sorted(set(intents[r]).union(set([j])))))\n",
    "                        if verbose:\n",
    "                            print('  recursive call')\n",
    "                        \n",
    "                        intersection = set(intents[r_new]).intersection(set(intents[r_new-1]))\n",
    "                        print(intersection)\n",
    "                        if len(intersection) == 0:\n",
    "                            in_close(adjacency, context, extents, intents, unexs, unexs_g, r=r_new, y=j+1, degs=degs, gain=gain_unex, \n",
    "                                     support_obj=support_obj, names_col=names_col, verbose=verbose)\n",
    "                    else:\n",
    "                        if verbose:\n",
    "                            print(f'  Do not go into recursion. Try next candidate attribute. ')\n",
    "                            print()\n",
    "                        gain_unex.pop(-1)\n",
    "            else:\n",
    "                if verbose:\n",
    "                    print(f'Max number of attributes reached.')\n",
    "                    print('\\n')\n",
    "                return [*zip(extents, intents)]\n",
    "\n",
    "            #else:\n",
    "            #    if verbose:\n",
    "            #        print(f'  New extent size >= support? : {new_extent_size >= support_obj}')\n",
    "            \n",
    "        #else:\n",
    "            #if verbose:\n",
    "                #    print(f'closure of {new_extent} --> no need to verify all attributes')\n",
    "    if verbose:\n",
    "        print('\\n')\n",
    "        \n",
    "\n",
    "    if len(intents[r]) > 1:\n",
    "        del gain_unex[-(len(intents[r]))+1:]\n",
    "    else:\n",
    "        del gain_unex[-(len(intents[r])):]\n",
    "    return [*zip(extents, intents)]"
   ]
  },
  {
   "cell_type": "code",
   "execution_count": 106,
   "id": "a301cf0c-5394-4ab5-af1e-cce1adc4fd32",
   "metadata": {},
   "outputs": [
    {
     "name": "stdout",
     "output_type": "stream",
     "text": [
      "[0 1 2 3 4 5 6] ['a' 'b']\n",
      "[6] ['e' 'f' 'g']\n",
      "[0 1 2 3 4 5] ['c' 'd']\n",
      "[0 1 2 3 4 5 6] ['d']\n"
     ]
    }
   ],
   "source": [
    "result, sorted_names_col = run_algorithm_comeg(G8, X8, names_col8, 1, 1000, 'log_custom11')\n",
    "for c in result:\n",
    "    print(c[0], sorted_names_col[c[1]])"
   ]
  },
  {
   "cell_type": "code",
   "execution_count": 183,
   "id": "6ffff420-8fbd-4022-a1ec-5a23845d9757",
   "metadata": {},
   "outputs": [],
   "source": [
    "def in_close(adjacency, context, extents, intents, unexs, unexs_g, r, y, degs, gain, support_obj, names_col, verbose):\n",
    "    \n",
    "    #support_obj = support_obj\n",
    "\n",
    "    support_attr = 15\n",
    "    support_common_remaining_attr = 1\n",
    "    delta = 0\n",
    "    \n",
    "    global gain_unex\n",
    "    # --------------------\n",
    "    \n",
    "    global r_new\n",
    "    r_new = r_new + 1\n",
    "    attributes = np.arange(0, context.shape[1])\n",
    "    \n",
    "    for n_iter, j in enumerate(attributes[y:]):\n",
    "        \n",
    "        try:\n",
    "            extents[r_new] = []\n",
    "            unexs[r_new] = 0\n",
    "            unexs_g[r_new] = 0\n",
    "        except IndexError:\n",
    "            extents.append([])\n",
    "            unexs.append(0)\n",
    "            unexs_g.append(0)\n",
    "\n",
    "        # Form a new extent by adding extension of attribute j to current concept extent\n",
    "        extension_j = get_neighbors(context, node=j, transpose=True)\n",
    "        new_extent = np.array(list(set(extents[r]).intersection(set(extension_j))))\n",
    "        extents[r_new] = new_extent\n",
    "        new_extent_size = len(new_extent)\n",
    "        \n",
    "        # Verify that intention: prune recursion if the current none of the current extent neighbor have common attribute anymore\n",
    "        len_closure = 0\n",
    "        if len(new_extent > 0):\n",
    "            all_neighbs = set(get_neighbors(context, node=new_extent[0]))\n",
    "            for o in new_extent[1:]:\n",
    "                neighbs = get_neighbors(context, node=o)\n",
    "                all_neighbs &= set(neighbs)\n",
    "            len_closure = len(all_neighbs)\n",
    "        \n",
    "        if len_closure >= support_common_remaining_attr:\n",
    "            #if verbose:\n",
    "            #    print(f'closure of {new_extent} --> size of closure = {len_closure}>{support_obj}')\n",
    "            \n",
    "            \n",
    "            if new_extent_size >= support_obj:\n",
    "                if verbose:\n",
    "                    print(f'n_iter:{n_iter} - extents: {extents[r]} - intents: {intents[r]}')\n",
    "                    print(f'  Candidate attr: {j} {names_col[j]}')\n",
    "                    print(f'  new extent: {new_extent}')\n",
    "\n",
    "                #if new_extent_size < len(extents[r]):\n",
    "                # Graph unexpectedness\n",
    "                g_r_new = adjacency[new_extent][:, new_extent]\n",
    "                complexity_desc_g = mdl_graph(g_r_new)\n",
    "                complexity_gen_g = np.mean(complexity_gen_graphs.get(new_extent_size))\n",
    "                unex_g = complexity_gen_g - complexity_desc_g\n",
    "                unexs_g.append(unex_g)\n",
    "                if verbose:\n",
    "                    print(f'  U(G)={unex_g} (cw={complexity_gen_g} - c={complexity_desc_g})')\n",
    "\n",
    "                new_intent = np.array(list(sorted(set(intents[r]).union(set([j])))))\n",
    "                new_intent_size = len(new_intent)            \n",
    "\n",
    "                if new_intent_size <= support_attr:\n",
    "\n",
    "                    # Attributes unexpectedness\n",
    "                    complexity_gen_a = np.log2(special.comb(context.shape[1], new_intent_size))\n",
    "                    complexity_desc_a = 0\n",
    "                    for a in new_intent:\n",
    "                        complexity_desc_a += np.log2(degs[a])\n",
    "                    unex_a = complexity_gen_a - complexity_desc_a\n",
    "                    if verbose:\n",
    "                        print(f'  U(A)={unex_a} (cw={complexity_gen_a} - c={complexity_desc_a})')\n",
    "\n",
    "                    # Total Unexpectedness\n",
    "                    unex = unex_g + unex_a\n",
    "                    if verbose:\n",
    "                        print(f'  U: {unex}')\n",
    "                    unexs[r_new] = unex\n",
    "\n",
    "                    if verbose:\n",
    "                        print(f'  U[r_new]={unex} - U[r]={unexs[r]}  = {unex - unexs[r]}')\n",
    "\n",
    "                    gain_unex.append(unex - unexs[r])\n",
    "                    if verbose:\n",
    "                        print(f'  gain unex: {gain_unex}')\n",
    "                        print(f'  Gain unex diff: {np.abs(gain_unex[-2]-gain_unex[-1])}')\n",
    "\n",
    "                    if new_extent_size == len(extents[r]):\n",
    "\n",
    "                        #if unex - unexs[r] > 4 and r >=0 and np.abs(gain_unex[-2]-gain_unex[-1])>1:\n",
    "                        #if (len(intents[r]) == 0) or ((unex - unexs[r] > 0) and (np.abs(gain_unex[-2] - gain_unex[-1])) > delta):\n",
    "                        intents[r] = np.array(list(sorted(set(intents[r]).union(set([j])))))\n",
    "                        extents[r] = extents[r_new]\n",
    "                        unexs_g[r] = unex_g\n",
    "                        unexs[r] = unex\n",
    "                        if verbose:\n",
    "                            print(f'  Attribute {j}-{sorted_names_col[j]} added')\n",
    "                        #else:\n",
    "                        #    if verbose:\n",
    "                        #        print(f'  unex - unexs[r] > 0 : {(unex - unexs[r] > 0)}')\n",
    "                        #        print(f'  (gain_unex[-2] - gain_unex[-1]) > delta : {(gain_unex[-2] - gain_unex[-1]) > delta}')\n",
    "                        #        print(f'  len(intents[r]) == 0 : {len(intents[r]) == 0}')\n",
    "                        #        print(f'  --> Stop branch recursion. ')\n",
    "                        #       print('\\n')\n",
    "\n",
    "                            #del gain_unex[(r_new-r):]\n",
    "                        #        if len(intents[r]) > 1:\n",
    "                        #            del gain_unex[-(len(intents[r]))+1:]\n",
    "                        #        else:\n",
    "                        #            del gain_unex[-(len(intents[r])):]\n",
    "\n",
    "                        #    return [*zip(extents, intents)]\n",
    "\n",
    "                    else:\n",
    "                        #if unex - unexs[r] > 4 and r >=0 and np.abs(gain_unex[-2]-gain_unex[-1])>1:\n",
    "                        if (len(intents[r]) == 0) or (unex - unexs[r] > 0):\n",
    "\n",
    "                            try:\n",
    "                                intents[r_new] = []\n",
    "                            except IndexError:\n",
    "                                intents.append([])\n",
    "\n",
    "                            intents[r_new] = np.array(list(sorted(set(intents[r]).union(set([j])))))\n",
    "                            if verbose:\n",
    "                                print('  recursive call')\n",
    "                            in_close(adjacency, context, extents, intents, unexs, unexs_g, r=r_new, y=j+1, degs=degs, gain=gain_unex, \n",
    "                                     support_obj=support_obj, names_col=names_col, verbose=verbose)\n",
    "                        else:\n",
    "                            if verbose:\n",
    "                                print(f'  Do not go into recursion. Try next candidate attribute. ')\n",
    "                                print()\n",
    "                            gain_unex.pop(-1)\n",
    "                else:\n",
    "                    if verbose:\n",
    "                        print(f'Max number of attributes reached.')\n",
    "                        print('\\n')\n",
    "                    return [*zip(extents, intents)]\n",
    "\n",
    "            #else:\n",
    "            #    if verbose:\n",
    "            #        print(f'  New extent size >= support? : {new_extent_size >= support_obj}')\n",
    "            \n",
    "        #else:\n",
    "            #if verbose:\n",
    "                #    print(f'closure of {new_extent} --> no need to verify all attributes')\n",
    "    if verbose:\n",
    "        print('\\n')\n",
    "        \n",
    "\n",
    "    if len(intents[r]) > 1:\n",
    "        del gain_unex[-(len(intents[r]))+1:]\n",
    "    else:\n",
    "        del gain_unex[-(len(intents[r])):]\n",
    "    return [*zip(extents, intents)]"
   ]
  },
  {
   "cell_type": "code",
   "execution_count": 184,
   "id": "0a79f9a7-6001-4293-b7c6-b2f74e22f658",
   "metadata": {},
   "outputs": [],
   "source": [
    "def run_algorithm(G, X, names_col, n_objects_min, n_objects_max, out_name):\n",
    "    # In-close initialization\n",
    "    V = np.arange(0, X.shape[0])\n",
    "\n",
    "    extents, intents, unexs, unexs_g = [], [], [], []\n",
    "    extents_init = V\n",
    "    intents_init = []\n",
    "    unexs.append(0)\n",
    "    unexs_g.append(0)\n",
    "    extents.append(extents_init)\n",
    "    intents.append(intents_init)\n",
    "    \n",
    "    global r_new\n",
    "    r_new = 0\n",
    "    global gain_unex\n",
    "    gain_unex = []\n",
    "    gain_unex.append(0)\n",
    "    \n",
    "    # Degree of attribute = # articles in which it appears\n",
    "    freq_attribute = get_degrees(X.astype(bool), transpose=True)\n",
    "    index = np.flatnonzero((freq_attribute <= n_objects_max) & (freq_attribute >= n_objects_min))\n",
    "    \n",
    "    # Filter data with index\n",
    "    biadjacency = X[:, index]\n",
    "    words = names_col[index]\n",
    "    freq_attribute = freq_attribute[index]\n",
    "    \n",
    "    # Order attributes according to their ascending degree\n",
    "    # This allows to add first attributes that will generate bigger subgraphs\n",
    "    sort_index = np.argsort(freq_attribute)\n",
    "    sorted_degs = freq_attribute[sort_index]\n",
    "    filt_biadjacency = X[:, sort_index]\n",
    "    sorted_names_col = words[sort_index]\n",
    "    print(sorted_names_col)\n",
    "    \n",
    "    with open(f'logs/{out_name}.txt', 'w') as f:\n",
    "        with redirect_stdout(f):\n",
    "            result = in_close(G, filt_biadjacency, extents, intents, unexs, unexs_g, r=0, y=0, \n",
    "                              degs=sorted_degs, gain=gain_unex, support_obj=n_objects_min, names_col=sorted_names_col, verbose=True)\n",
    "            print()\n",
    "            \n",
    "    return result, sorted_names_col"
   ]
  },
  {
   "cell_type": "code",
   "execution_count": 84,
   "id": "4eac3271-cdce-4659-b598-d8900743dc11",
   "metadata": {},
   "outputs": [],
   "source": [
    "def run_algorithm_comeg(G, X, names_col, n_objects_min, n_objects_max, out_name):\n",
    "    # In-close initialization\n",
    "    V = np.arange(0, X.shape[0])\n",
    "\n",
    "    extents, intents, unexs, unexs_g = [], [], [], []\n",
    "    extents_init = V\n",
    "    intents_init = []\n",
    "    unexs.append(0)\n",
    "    unexs_g.append(0)\n",
    "    extents.append(extents_init)\n",
    "    intents.append(intents_init)\n",
    "    \n",
    "    global r_new\n",
    "    r_new = 0\n",
    "    global gain_unex\n",
    "    gain_unex = []\n",
    "    gain_unex.append(0)\n",
    "    \n",
    "    # Degree of attribute = # articles in which it appears\n",
    "    freq_attribute = get_degrees(X.astype(bool), transpose=True)\n",
    "    index = np.flatnonzero((freq_attribute <= n_objects_max) & (freq_attribute >= n_objects_min))\n",
    "    \n",
    "    # Filter data with index\n",
    "    biadjacency = X[:, index]\n",
    "    words = names_col[index]\n",
    "    freq_attribute = freq_attribute[index]\n",
    "    \n",
    "    # Order attributes according to their ascending degree\n",
    "    # This allows to add first attributes that will generate bigger subgraphs\n",
    "    sort_index = np.argsort(freq_attribute)\n",
    "    sorted_degs = freq_attribute[sort_index]\n",
    "    filt_biadjacency = X[:, sort_index]\n",
    "    sorted_names_col = words[sort_index]\n",
    "    \n",
    "    with open(f'logs/{out_name}.txt', 'w') as f:\n",
    "        with redirect_stdout(f):\n",
    "            result = comeg(G, filt_biadjacency, extents, intents, unexs, unexs_g, r=0, y=0, \n",
    "                              degs=sorted_degs, gain=gain_unex, support_obj=n_objects_min, names_col=sorted_names_col, verbose=True)\n",
    "            print()\n",
    "    return result, sorted_names_col"
   ]
  },
  {
   "cell_type": "markdown",
   "id": "b56fabf8-5920-45f7-8df5-7169d9ccd2d7",
   "metadata": {},
   "source": [
    "## Custom graphs"
   ]
  },
  {
   "cell_type": "code",
   "execution_count": 8,
   "id": "6601f704-6240-45e4-b555-d47f038dea78",
   "metadata": {},
   "outputs": [
    {
     "name": "stdout",
     "output_type": "stream",
     "text": [
      "CPU times: user 13.7 ms, sys: 2.04 ms, total: 15.7 ms\n",
      "Wall time: 14.3 ms\n"
     ]
    }
   ],
   "source": [
    "%%time\n",
    "complexity_gen_graphs = defaultdict(list)\n",
    "\n",
    "for num_n in range(10 + 1)[1:15]:\n",
    "    cpt = 0\n",
    "    while cpt < 10:\n",
    "        random_g = sparse.random(num_n, num_n, density=0.5).astype(bool).tocsr()\n",
    "        if random_g is not None and random_g.shape[0] == num_n:\n",
    "            mdl = mdl_graph(random_g)\n",
    "            if num_n != 1:\n",
    "                complexity_gen_graphs[num_n].append(mdl)\n",
    "            else:\n",
    "                # MDL of a graph of 1 node, is the MDL to describe this node\n",
    "                complexity_gen_graphs[num_n].append(1)\n",
    "            cpt += 1"
   ]
  },
  {
   "cell_type": "markdown",
   "id": "2b884f24-f92a-4873-bace-56d72a82f6be",
   "metadata": {},
   "source": [
    "### Custom1"
   ]
  },
  {
   "cell_type": "code",
   "execution_count": 13,
   "id": "ec36fc0c-9976-48d6-b796-07fe8200f439",
   "metadata": {},
   "outputs": [],
   "source": [
    "G1 = sparse.csr_matrix(np.array([\n",
    "    [0, 1, 1, 0, 0, 0],\n",
    "    [1, 0, 1, 0, 0, 0],\n",
    "    [1, 1, 0, 1, 0, 0],\n",
    "    [0, 0, 1, 0, 1, 1],\n",
    "    [0, 0, 0, 1, 0, 1],\n",
    "    [0, 0, 0, 1, 1, 0],\n",
    "]))\n",
    "X1 = sparse.csr_matrix(np.array([\n",
    "    [1, 0],\n",
    "    [1, 0],\n",
    "    [1, 0],\n",
    "    [0, 1],\n",
    "    [0, 1],\n",
    "    [0, 1],\n",
    "]))\n",
    "names1 = np.array(['0', '1', '2', '3', '4', '5'])\n",
    "names_col1 = np.array(['a', 'b'])"
   ]
  },
  {
   "cell_type": "code",
   "execution_count": 14,
   "id": "8e8c5fee-4abe-4535-af25-f67ac4f19136",
   "metadata": {},
   "outputs": [
    {
     "data": {
      "image/svg+xml": [
       "<svg xmlns=\"http://www.w3.org/2000/svg\" width=\"452.0\" height=\"340\">\n",
       "<path stroke-width=\"1\" stroke=\"gray\" d=\"M 108 320 20 275\"/>\n",
       "<path stroke-width=\"1\" stroke=\"gray\" d=\"M 108 320 153 224\"/>\n",
       "<path stroke-width=\"1\" stroke=\"gray\" d=\"M 20 275 108 320\"/>\n",
       "<path stroke-width=\"1\" stroke=\"gray\" d=\"M 20 275 153 224\"/>\n",
       "<path stroke-width=\"1\" stroke=\"gray\" d=\"M 153 224 108 320\"/>\n",
       "<path stroke-width=\"1\" stroke=\"gray\" d=\"M 153 224 20 275\"/>\n",
       "<path stroke-width=\"1\" stroke=\"gray\" d=\"M 153 224 287 115\"/>\n",
       "<path stroke-width=\"1\" stroke=\"gray\" d=\"M 287 115 153 224\"/>\n",
       "<path stroke-width=\"1\" stroke=\"gray\" d=\"M 287 115 331 20\"/>\n",
       "<path stroke-width=\"1\" stroke=\"gray\" d=\"M 287 115 420 65\"/>\n",
       "<path stroke-width=\"1\" stroke=\"gray\" d=\"M 331 20 287 115\"/>\n",
       "<path stroke-width=\"1\" stroke=\"gray\" d=\"M 331 20 420 65\"/>\n",
       "<path stroke-width=\"1\" stroke=\"gray\" d=\"M 420 65 287 115\"/>\n",
       "<path stroke-width=\"1\" stroke=\"gray\" d=\"M 420 65 331 20\"/>\n",
       "<circle cx=\"108\" cy=\"320\" r=\"7.0\" style=\"fill:gray;stroke:black;stroke-width:1.0\"/>\n",
       "<circle cx=\"20\" cy=\"275\" r=\"7.0\" style=\"fill:gray;stroke:black;stroke-width:1.0\"/>\n",
       "<circle cx=\"153\" cy=\"224\" r=\"7.0\" style=\"fill:gray;stroke:black;stroke-width:1.0\"/>\n",
       "<circle cx=\"287\" cy=\"115\" r=\"7.0\" style=\"fill:gray;stroke:black;stroke-width:1.0\"/>\n",
       "<circle cx=\"331\" cy=\"20\" r=\"7.0\" style=\"fill:gray;stroke:black;stroke-width:1.0\"/>\n",
       "<circle cx=\"420\" cy=\"65\" r=\"7.0\" style=\"fill:gray;stroke:black;stroke-width:1.0\"/>\n",
       "<text text-anchor=\"start\" x=\"118\" y=\"320\" font-size=\"12\">0</text><text text-anchor=\"start\" x=\"30\" y=\"275\" font-size=\"12\">1</text><text text-anchor=\"start\" x=\"163\" y=\"224\" font-size=\"12\">2</text><text text-anchor=\"start\" x=\"297\" y=\"115\" font-size=\"12\">3</text><text text-anchor=\"start\" x=\"341\" y=\"20\" font-size=\"12\">4</text><text text-anchor=\"start\" x=\"430\" y=\"65\" font-size=\"12\">5</text></svg>"
      ],
      "text/plain": [
       "<IPython.core.display.SVG object>"
      ]
     },
     "execution_count": 14,
     "metadata": {},
     "output_type": "execute_result"
    }
   ],
   "source": [
    "SVG(svg_graph(G1, names=names1))"
   ]
  },
  {
   "cell_type": "code",
   "execution_count": 15,
   "id": "1f17c1b7-05f2-4caf-88eb-37fb9c0294c6",
   "metadata": {},
   "outputs": [
    {
     "name": "stdout",
     "output_type": "stream",
     "text": [
      "['a' 'b']\n",
      "CPU times: user 1.82 ms, sys: 1.37 ms, total: 3.19 ms\n",
      "Wall time: 3.07 ms\n"
     ]
    }
   ],
   "source": [
    "%%time\n",
    "result, sorted_names_col = run_algorithm(G1, X1, names_col1, 1, 1000, 'log_custom1')"
   ]
  },
  {
   "cell_type": "code",
   "execution_count": 16,
   "id": "90c3ef53-c4d7-4dfa-8cb2-fb646aa27bfb",
   "metadata": {},
   "outputs": [
    {
     "name": "stdout",
     "output_type": "stream",
     "text": [
      "[0 1 2 3 4 5] []\n",
      "[0 1 2] ['a']\n",
      "[3 4 5] ['b']\n"
     ]
    }
   ],
   "source": [
    "for c in result:\n",
    "    print(c[0], sorted_names_col[c[1]])"
   ]
  },
  {
   "cell_type": "markdown",
   "id": "f35e2a10-68fc-4b93-bd72-166f63975ff5",
   "metadata": {},
   "source": [
    "### Custom2"
   ]
  },
  {
   "cell_type": "code",
   "execution_count": 17,
   "id": "c8a33a32-85d3-4dcc-aac0-190d8d93ccd6",
   "metadata": {},
   "outputs": [],
   "source": [
    "G2 = sparse.identity(6).tocsr()\n",
    "X2 = sparse.identity(6).tocsr()\n",
    "names2 = np.array(['0', '1', '2', '3', '4', '5'])\n",
    "names_col2 = np.array(['a', 'b', 'c', 'd', 'e', 'f'])"
   ]
  },
  {
   "cell_type": "code",
   "execution_count": 18,
   "id": "aaa80916-f2fe-4832-bab6-ce5fcf1444eb",
   "metadata": {},
   "outputs": [
    {
     "data": {
      "image/svg+xml": [
       "<svg xmlns=\"http://www.w3.org/2000/svg\" width=\"452.0\" height=\"340\">\n",
       "<path stroke-width=\"1.0\" stroke=\"gray\" d=\"M 204 320 204 320\"/>\n",
       "<path stroke-width=\"1.0\" stroke=\"gray\" d=\"M 420 159 420 159\"/>\n",
       "<path stroke-width=\"1.0\" stroke=\"gray\" d=\"M 20 201 20 201\"/>\n",
       "<path stroke-width=\"1.0\" stroke=\"gray\" d=\"M 234 191 234 191\"/>\n",
       "<path stroke-width=\"1.0\" stroke=\"gray\" d=\"M 121 20 121 20\"/>\n",
       "<path stroke-width=\"1.0\" stroke=\"gray\" d=\"M 341 23 341 23\"/>\n",
       "<circle cx=\"204\" cy=\"320\" r=\"7.0\" style=\"fill:gray;stroke:black;stroke-width:1.0\"/>\n",
       "<circle cx=\"420\" cy=\"159\" r=\"7.0\" style=\"fill:gray;stroke:black;stroke-width:1.0\"/>\n",
       "<circle cx=\"20\" cy=\"201\" r=\"7.0\" style=\"fill:gray;stroke:black;stroke-width:1.0\"/>\n",
       "<circle cx=\"234\" cy=\"191\" r=\"7.0\" style=\"fill:gray;stroke:black;stroke-width:1.0\"/>\n",
       "<circle cx=\"121\" cy=\"20\" r=\"7.0\" style=\"fill:gray;stroke:black;stroke-width:1.0\"/>\n",
       "<circle cx=\"341\" cy=\"23\" r=\"7.0\" style=\"fill:gray;stroke:black;stroke-width:1.0\"/>\n",
       "<text text-anchor=\"start\" x=\"214\" y=\"320\" font-size=\"12\">0</text><text text-anchor=\"start\" x=\"430\" y=\"159\" font-size=\"12\">1</text><text text-anchor=\"start\" x=\"30\" y=\"201\" font-size=\"12\">2</text><text text-anchor=\"start\" x=\"244\" y=\"191\" font-size=\"12\">3</text><text text-anchor=\"start\" x=\"131\" y=\"20\" font-size=\"12\">4</text><text text-anchor=\"start\" x=\"351\" y=\"23\" font-size=\"12\">5</text></svg>"
      ],
      "text/plain": [
       "<IPython.core.display.SVG object>"
      ]
     },
     "execution_count": 18,
     "metadata": {},
     "output_type": "execute_result"
    }
   ],
   "source": [
    "SVG(svg_graph(G2, names=names2))"
   ]
  },
  {
   "cell_type": "code",
   "execution_count": 19,
   "id": "0ad32bf6-5c59-4b98-8887-5f23dfc3a6e3",
   "metadata": {},
   "outputs": [
    {
     "name": "stdout",
     "output_type": "stream",
     "text": [
      "['a' 'b' 'c' 'd' 'e' 'f']\n",
      "CPU times: user 3.45 ms, sys: 1.23 ms, total: 4.68 ms\n",
      "Wall time: 3.97 ms\n"
     ]
    }
   ],
   "source": [
    "%%time\n",
    "result, sorted_names_col = run_algorithm(G2, X2, names_col2, 1, 1000, 'log_custom2')"
   ]
  },
  {
   "cell_type": "code",
   "execution_count": 20,
   "id": "eb7d5fdb-0ccf-4d91-b6fd-ad56b4e1112b",
   "metadata": {},
   "outputs": [
    {
     "name": "stdout",
     "output_type": "stream",
     "text": [
      "[0 1 2 3 4 5] []\n",
      "[0] ['a']\n",
      "[1] ['b']\n",
      "[2] ['c']\n",
      "[3] ['d']\n",
      "[4] ['e']\n",
      "[5] ['f']\n"
     ]
    }
   ],
   "source": [
    "for c in result:\n",
    "    print(c[0], sorted_names_col[c[1]])"
   ]
  },
  {
   "cell_type": "markdown",
   "id": "08cacc37-d696-44f1-b5ab-f7ba9d111d67",
   "metadata": {
    "tags": []
   },
   "source": [
    "### Custom3"
   ]
  },
  {
   "cell_type": "code",
   "execution_count": 21,
   "id": "7c7b2026-ce10-4ace-a09b-c462c2561672",
   "metadata": {},
   "outputs": [],
   "source": [
    "G3 = sparse.csr_matrix(np.array([\n",
    "    [0, 1, 1, 0, 0, 0],\n",
    "    [1, 0, 1, 0, 0, 0],\n",
    "    [1, 1, 0, 1, 0, 0],\n",
    "    [0, 0, 1, 0, 1, 1],\n",
    "    [0, 0, 0, 1, 0, 1],\n",
    "    [0, 0, 0, 1, 1, 0],\n",
    "]))\n",
    "X3 = sparse.csr_matrix(np.array([\n",
    "    [1, 0, 1, 0, 0],\n",
    "    [1, 0, 0, 1, 0],\n",
    "    [1, 0, 0, 0, 1],\n",
    "    [0, 1, 0, 0, 0],\n",
    "    [0, 1, 0, 0, 0],\n",
    "    [0, 1, 0, 0, 0],\n",
    "]))\n",
    "names3 = np.array(['0', '1', '2', '3', '4', '5'])\n",
    "names_col3 = np.array(['a', 'b', 'c', 'd', 'e'])"
   ]
  },
  {
   "cell_type": "code",
   "execution_count": 22,
   "id": "e578d4ee-ab0f-46b5-ae4a-30c1ec0f34be",
   "metadata": {},
   "outputs": [
    {
     "data": {
      "image/svg+xml": [
       "<svg xmlns=\"http://www.w3.org/2000/svg\" width=\"572.0\" height=\"340\">\n",
       "<path stroke-width=\"1\" stroke=\"gray\" d=\"M 353 20 420 79\"/>\n",
       "<path stroke-width=\"1\" stroke=\"gray\" d=\"M 353 20 286 118\"/>\n",
       "<path stroke-width=\"1\" stroke=\"gray\" d=\"M 420 79 353 20\"/>\n",
       "<path stroke-width=\"1\" stroke=\"gray\" d=\"M 420 79 286 118\"/>\n",
       "<path stroke-width=\"1\" stroke=\"gray\" d=\"M 286 118 353 20\"/>\n",
       "<path stroke-width=\"1\" stroke=\"gray\" d=\"M 286 118 420 79\"/>\n",
       "<path stroke-width=\"1\" stroke=\"gray\" d=\"M 286 118 153 222\"/>\n",
       "<path stroke-width=\"1\" stroke=\"gray\" d=\"M 153 222 286 118\"/>\n",
       "<path stroke-width=\"1\" stroke=\"gray\" d=\"M 153 222 20 260\"/>\n",
       "<path stroke-width=\"1\" stroke=\"gray\" d=\"M 153 222 86 320\"/>\n",
       "<path stroke-width=\"1\" stroke=\"gray\" d=\"M 20 260 153 222\"/>\n",
       "<path stroke-width=\"1\" stroke=\"gray\" d=\"M 20 260 86 320\"/>\n",
       "<path stroke-width=\"1\" stroke=\"gray\" d=\"M 86 320 153 222\"/>\n",
       "<path stroke-width=\"1\" stroke=\"gray\" d=\"M 86 320 20 260\"/>\n",
       "<circle cx=\"353\" cy=\"20\" r=\"7.0\" style=\"fill:gray;stroke:black;stroke-width:1.0\"/>\n",
       "<circle cx=\"420\" cy=\"79\" r=\"7.0\" style=\"fill:gray;stroke:black;stroke-width:1.0\"/>\n",
       "<circle cx=\"286\" cy=\"118\" r=\"7.0\" style=\"fill:gray;stroke:black;stroke-width:1.0\"/>\n",
       "<circle cx=\"153\" cy=\"222\" r=\"7.0\" style=\"fill:gray;stroke:black;stroke-width:1.0\"/>\n",
       "<circle cx=\"20\" cy=\"260\" r=\"7.0\" style=\"fill:gray;stroke:black;stroke-width:1.0\"/>\n",
       "<circle cx=\"86\" cy=\"320\" r=\"7.0\" style=\"fill:gray;stroke:black;stroke-width:1.0\"/>\n",
       "<text text-anchor=\"start\" x=\"363\" y=\"20\" font-size=\"12\">0-['a' 'c']</text><text text-anchor=\"start\" x=\"430\" y=\"79\" font-size=\"12\">1-['a' 'd']</text><text text-anchor=\"start\" x=\"296\" y=\"118\" font-size=\"12\">2-['a' 'e']</text><text text-anchor=\"start\" x=\"163\" y=\"222\" font-size=\"12\">3-['b']</text><text text-anchor=\"start\" x=\"30\" y=\"260\" font-size=\"12\">4-['b']</text><text text-anchor=\"start\" x=\"96\" y=\"320\" font-size=\"12\">5-['b']</text></svg>"
      ],
      "text/plain": [
       "<IPython.core.display.SVG object>"
      ]
     },
     "execution_count": 22,
     "metadata": {},
     "output_type": "execute_result"
    }
   ],
   "source": [
    "SVG(svg_graph(G3, names=[n + '-' + str(names_col3[x.indices]) for n, x in zip(names3, X3)]))"
   ]
  },
  {
   "cell_type": "code",
   "execution_count": 23,
   "id": "36e9270c-f408-45c8-b7b1-21395688fcbb",
   "metadata": {},
   "outputs": [
    {
     "name": "stdout",
     "output_type": "stream",
     "text": [
      "['c' 'd' 'e' 'a' 'b']\n",
      "CPU times: user 3.69 ms, sys: 1.49 ms, total: 5.18 ms\n",
      "Wall time: 4.73 ms\n"
     ]
    }
   ],
   "source": [
    "%%time\n",
    "result, sorted_names_col = run_algorithm(G3, X3, names_col3, 1, 1000, 'log_custom3')"
   ]
  },
  {
   "cell_type": "code",
   "execution_count": 24,
   "id": "e27eacca-7042-46dd-b591-aa0f943572cf",
   "metadata": {},
   "outputs": [
    {
     "name": "stdout",
     "output_type": "stream",
     "text": [
      "[0 1 2 3 4 5] []\n",
      "[0] ['c']\n",
      "[1] ['d']\n",
      "[2] ['e']\n",
      "[0 1 2] ['a']\n",
      "[3 4 5] ['b']\n"
     ]
    }
   ],
   "source": [
    "for c in result:\n",
    "    print(c[0], sorted_names_col[c[1]])"
   ]
  },
  {
   "cell_type": "markdown",
   "id": "49aa6781-d64a-4156-a89e-a406fae976e8",
   "metadata": {},
   "source": [
    "Exemple d'itération de l'algo:\n",
    "- `'c'` est l'attribut candidat $\\rightarrow$ le sous-graphe $G_c$ = {0} est filtré $\\rightarrow$ ce graphe est inattendu (comparé à l'ensemble vide) $\\rightarrow$ on continue la récursion\n",
    "- `'a'` est attribut candidat $\\rightarrow$ le sous-graphe $G_{[c,a]}$ = {0} est filtré (inchangé) $\\rightarrow$ ce graphe est moins inattendu que le précédent $\\rightarrow$ l'attribut candidat n'est pas ajouté et on arrête la récursion **En effet, `'a'` est partagé par 3 noeuds et n'apporte pas de assez surprise par rapport à l'itération précédente**"
   ]
  },
  {
   "cell_type": "markdown",
   "id": "77600b3c-b33d-47a2-9309-7e4be7f2457f",
   "metadata": {
    "tags": []
   },
   "source": [
    "### Custom4  \n",
    "\n",
    "1 article which is the concatenation of 2 articles from different communities, citing other articles"
   ]
  },
  {
   "cell_type": "code",
   "execution_count": 25,
   "id": "7f38e970-de4f-456a-a1d7-4e03c082d082",
   "metadata": {},
   "outputs": [],
   "source": [
    "G4 = sparse.csr_matrix(np.array([\n",
    "    [0, 1, 1, 0, 0, 0, 0],\n",
    "    [1, 0, 1, 0, 0, 0, 0],\n",
    "    [1, 1, 0, 0, 0, 0, 0],\n",
    "    [0, 0, 1, 0, 1, 0, 0],\n",
    "    [0, 0, 0, 0, 0, 1, 1],\n",
    "    [0, 0, 0, 0, 1, 0, 1],\n",
    "    [0, 0, 0, 0, 1, 1, 0]\n",
    "]))\n",
    "X4 = sparse.csr_matrix(np.array([\n",
    "    [1, 1, 0, 0, 0, 0, 0, 0],\n",
    "    [1, 0, 1, 0, 0, 0, 0, 0],\n",
    "    [1, 0, 0, 1, 0, 0, 0, 0],\n",
    "    [1, 0, 0, 1, 1, 1, 0, 0],\n",
    "    [0, 0, 0, 0, 1, 1, 0, 0],\n",
    "    [0, 0, 0, 0, 1, 0, 1, 0],\n",
    "    [0, 0, 0, 0, 1, 0, 0, 1],\n",
    "]))\n",
    "names4 = np.array(range(G4.shape[0])).astype(str)\n",
    "names_col4 = np.array(['a', 'b', 'c', 'd', 'e', 'f', 'g', 'h'])"
   ]
  },
  {
   "cell_type": "code",
   "execution_count": 26,
   "id": "c88ba501-09a8-49e2-9622-dc87d1210a9f",
   "metadata": {},
   "outputs": [
    {
     "data": {
      "image/svg+xml": [
       "<svg xmlns=\"http://www.w3.org/2000/svg\" width=\"572.0\" height=\"340\">\n",
       "<defs><marker id=\"arrow-gray\" markerWidth=\"10\" markerHeight=\"10\" refX=\"9\" refY=\"3\" orient=\"auto\">\n",
       "<path d=\"M0,0 L0,6 L9,3 z\" fill=\"gray\"/></marker></defs>\n",
       "<path stroke-width=\"1\" stroke=\"gray\" d=\"M 420 243 402 314\" marker-end=\"url(#arrow-gray)\"/>\n",
       "<path stroke-width=\"1\" stroke=\"gray\" d=\"M 420 243 351 246\" marker-end=\"url(#arrow-gray)\"/>\n",
       "<path stroke-width=\"1\" stroke=\"gray\" d=\"M 401 320 419 249\" marker-end=\"url(#arrow-gray)\"/>\n",
       "<path stroke-width=\"1\" stroke=\"gray\" d=\"M 401 320 349 251\" marker-end=\"url(#arrow-gray)\"/>\n",
       "<path stroke-width=\"1\" stroke=\"gray\" d=\"M 345 246 414 243\" marker-end=\"url(#arrow-gray)\"/>\n",
       "<path stroke-width=\"1\" stroke=\"gray\" d=\"M 345 246 397 315\" marker-end=\"url(#arrow-gray)\"/>\n",
       "<path stroke-width=\"1\" stroke=\"gray\" d=\"M 220 173 339 243\" marker-end=\"url(#arrow-gray)\"/>\n",
       "<path stroke-width=\"1\" stroke=\"gray\" d=\"M 220 173 102 107\" marker-end=\"url(#arrow-gray)\"/>\n",
       "<path stroke-width=\"1\" stroke=\"gray\" d=\"M 96 104 47 25\" marker-end=\"url(#arrow-gray)\"/>\n",
       "<path stroke-width=\"1\" stroke=\"gray\" d=\"M 96 104 26 99\" marker-end=\"url(#arrow-gray)\"/>\n",
       "<path stroke-width=\"1\" stroke=\"gray\" d=\"M 44 20 93 99\" marker-end=\"url(#arrow-gray)\"/>\n",
       "<path stroke-width=\"1\" stroke=\"gray\" d=\"M 44 20 22 93\" marker-end=\"url(#arrow-gray)\"/>\n",
       "<path stroke-width=\"1\" stroke=\"gray\" d=\"M 20 99 90 104\" marker-end=\"url(#arrow-gray)\"/>\n",
       "<path stroke-width=\"1\" stroke=\"gray\" d=\"M 20 99 42 26\" marker-end=\"url(#arrow-gray)\"/>\n",
       "<circle cx=\"420\" cy=\"243\" r=\"7.0\" style=\"fill:gray;stroke:black;stroke-width:1.0\"/>\n",
       "<circle cx=\"401\" cy=\"320\" r=\"7.0\" style=\"fill:gray;stroke:black;stroke-width:1.0\"/>\n",
       "<circle cx=\"345\" cy=\"246\" r=\"7.0\" style=\"fill:gray;stroke:black;stroke-width:1.0\"/>\n",
       "<circle cx=\"220\" cy=\"173\" r=\"7.0\" style=\"fill:gray;stroke:black;stroke-width:1.0\"/>\n",
       "<circle cx=\"96\" cy=\"104\" r=\"7.0\" style=\"fill:gray;stroke:black;stroke-width:1.0\"/>\n",
       "<circle cx=\"44\" cy=\"20\" r=\"7.0\" style=\"fill:gray;stroke:black;stroke-width:1.0\"/>\n",
       "<circle cx=\"20\" cy=\"99\" r=\"7.0\" style=\"fill:gray;stroke:black;stroke-width:1.0\"/>\n",
       "<text text-anchor=\"start\" x=\"430\" y=\"243\" font-size=\"12\">0-['a' 'b']</text><text text-anchor=\"start\" x=\"411\" y=\"320\" font-size=\"12\">1-['a' 'c']</text><text text-anchor=\"start\" x=\"355\" y=\"246\" font-size=\"12\">2-['a' 'd']</text><text text-anchor=\"start\" x=\"230\" y=\"173\" font-size=\"12\">3-['a' 'd' 'e' 'f']</text><text text-anchor=\"start\" x=\"106\" y=\"104\" font-size=\"12\">4-['e' 'f']</text><text text-anchor=\"start\" x=\"54\" y=\"20\" font-size=\"12\">5-['e' 'g']</text><text text-anchor=\"start\" x=\"30\" y=\"99\" font-size=\"12\">6-['e' 'h']</text></svg>"
      ],
      "text/plain": [
       "<IPython.core.display.SVG object>"
      ]
     },
     "execution_count": 26,
     "metadata": {},
     "output_type": "execute_result"
    }
   ],
   "source": [
    "SVG(svg_graph(G4, names=[n + '-' + str(names_col4[x.indices]) for n, x in zip(names4, X4)]))"
   ]
  },
  {
   "cell_type": "code",
   "execution_count": 27,
   "id": "99ad58b0-e142-4294-ae87-8377da6f0424",
   "metadata": {},
   "outputs": [
    {
     "name": "stdout",
     "output_type": "stream",
     "text": [
      "['b' 'c' 'g' 'h' 'd' 'f' 'a' 'e']\n",
      "CPU times: user 5.85 ms, sys: 1.18 ms, total: 7.03 ms\n",
      "Wall time: 8.17 ms\n"
     ]
    }
   ],
   "source": [
    "%%time\n",
    "result, sorted_names_col = run_algorithm(G4, X4, names_col4, 1, 1000, 'log_custom4')"
   ]
  },
  {
   "cell_type": "code",
   "execution_count": 28,
   "id": "bd349a82-3275-42e2-838d-9f16f536ce29",
   "metadata": {},
   "outputs": [
    {
     "name": "stdout",
     "output_type": "stream",
     "text": [
      "[0 1 2 3 4 5 6] []\n",
      "[0] ['b']\n",
      "[1] ['c']\n",
      "[5] ['g']\n",
      "[6] ['h']\n",
      "[2 3] ['d']\n",
      "[3 4] ['f']\n",
      "[0 1 2 3] ['a']\n",
      "[3 4 5 6] ['e']\n"
     ]
    }
   ],
   "source": [
    "for c in result:\n",
    "    print(c[0], sorted_names_col[c[1]])"
   ]
  },
  {
   "cell_type": "markdown",
   "id": "f4b7b434-eb6d-4855-bef5-45a4ca1b5dd4",
   "metadata": {},
   "source": [
    "* pros : \n",
    "     - les noeuds `5` et `6`, et `0` et `1` ne sont décrits que par leurs attributs discriminants\n",
    "     - idem pour les concepts `[2, 3]` et `[3, 4]`\n",
    "     - pas de concept avec un seul noeud si ce noeud est déjà dans d'autres concepts plus gr-ands\n",
    "* cons: \n",
    "    - pas de concepts avec les noeuds `[2, 3, 4]` $\\rightarrow$ on pourrait voir un concept inattendu qui regroupe ces noeuds ? mais comment prendre en compte la clôture vide ?\n",
    "    - concept avec le noeud `3` et les attributs `['d', 'f']`, i.e discriminants ?"
   ]
  },
  {
   "cell_type": "markdown",
   "id": "79c88ec2-fcdd-44ef-b45c-5beb0d961055",
   "metadata": {
    "tags": []
   },
   "source": [
    "### Custom5  \n",
    "\n",
    "1 article which is the concatenation of 2 articles from different communities, without citing other articles"
   ]
  },
  {
   "cell_type": "code",
   "execution_count": 29,
   "id": "a6d0112a-fbde-4a88-8a76-237dffe2e6e9",
   "metadata": {},
   "outputs": [],
   "source": [
    "G5 = sparse.csr_matrix(np.array([\n",
    "    [0, 1, 1, 0, 0, 0, 0],\n",
    "    [1, 0, 1, 0, 0, 0, 0],\n",
    "    [1, 1, 0, 0, 0, 0, 0],\n",
    "    [0, 0, 0, 1, 0, 0, 0],\n",
    "    [0, 0, 0, 0, 0, 1, 1],\n",
    "    [0, 0, 0, 0, 1, 0, 1],\n",
    "    [0, 0, 0, 0, 1, 1, 0]\n",
    "]))\n",
    "X5 = sparse.csr_matrix(np.array([\n",
    "    [1, 1, 0, 0, 0, 0, 0, 0],\n",
    "    [1, 0, 1, 0, 0, 0, 0, 0],\n",
    "    [1, 0, 0, 1, 0, 0, 0, 0],\n",
    "    [1, 0, 0, 1, 1, 1, 0, 0],\n",
    "    [0, 0, 0, 0, 1, 1, 0, 0],\n",
    "    [0, 0, 0, 0, 1, 0, 1, 0],\n",
    "    [0, 0, 0, 0, 1, 0, 0, 1],\n",
    "]))\n",
    "names5 = np.array(range(G5.shape[0])).astype(str)\n",
    "names_col5 = np.array(['a', 'b', 'c', 'd', 'e', 'f', 'g', 'h'])"
   ]
  },
  {
   "cell_type": "code",
   "execution_count": 30,
   "id": "82095bcd-a4c4-47cb-9182-244cdbfc1366",
   "metadata": {},
   "outputs": [
    {
     "data": {
      "image/svg+xml": [
       "<svg xmlns=\"http://www.w3.org/2000/svg\" width=\"572.0\" height=\"340\">\n",
       "<path stroke-width=\"1\" stroke=\"gray\" d=\"M 26 298 20 320\"/>\n",
       "<path stroke-width=\"1\" stroke=\"gray\" d=\"M 26 298 59 312\"/>\n",
       "<path stroke-width=\"1\" stroke=\"gray\" d=\"M 20 320 26 298\"/>\n",
       "<path stroke-width=\"1\" stroke=\"gray\" d=\"M 20 320 59 312\"/>\n",
       "<path stroke-width=\"1\" stroke=\"gray\" d=\"M 59 312 26 298\"/>\n",
       "<path stroke-width=\"1\" stroke=\"gray\" d=\"M 59 312 20 320\"/>\n",
       "<path stroke-width=\"1\" stroke=\"gray\" d=\"M 21 20 21 20\"/>\n",
       "<path stroke-width=\"1\" stroke=\"gray\" d=\"M 391 175 378 154\"/>\n",
       "<path stroke-width=\"1\" stroke=\"gray\" d=\"M 391 175 420 159\"/>\n",
       "<path stroke-width=\"1\" stroke=\"gray\" d=\"M 378 154 391 175\"/>\n",
       "<path stroke-width=\"1\" stroke=\"gray\" d=\"M 378 154 420 159\"/>\n",
       "<path stroke-width=\"1\" stroke=\"gray\" d=\"M 420 159 391 175\"/>\n",
       "<path stroke-width=\"1\" stroke=\"gray\" d=\"M 420 159 378 154\"/>\n",
       "<circle cx=\"26\" cy=\"298\" r=\"7.0\" style=\"fill:gray;stroke:black;stroke-width:1.0\"/>\n",
       "<circle cx=\"20\" cy=\"320\" r=\"7.0\" style=\"fill:gray;stroke:black;stroke-width:1.0\"/>\n",
       "<circle cx=\"59\" cy=\"312\" r=\"7.0\" style=\"fill:gray;stroke:black;stroke-width:1.0\"/>\n",
       "<circle cx=\"21\" cy=\"20\" r=\"7.0\" style=\"fill:gray;stroke:black;stroke-width:1.0\"/>\n",
       "<circle cx=\"391\" cy=\"175\" r=\"7.0\" style=\"fill:gray;stroke:black;stroke-width:1.0\"/>\n",
       "<circle cx=\"378\" cy=\"154\" r=\"7.0\" style=\"fill:gray;stroke:black;stroke-width:1.0\"/>\n",
       "<circle cx=\"420\" cy=\"159\" r=\"7.0\" style=\"fill:gray;stroke:black;stroke-width:1.0\"/>\n",
       "<text text-anchor=\"start\" x=\"36\" y=\"298\" font-size=\"12\">0-['a' 'b']</text><text text-anchor=\"start\" x=\"30\" y=\"320\" font-size=\"12\">1-['a' 'c']</text><text text-anchor=\"start\" x=\"69\" y=\"312\" font-size=\"12\">2-['a' 'd']</text><text text-anchor=\"start\" x=\"31\" y=\"20\" font-size=\"12\">3-['a' 'd' 'e' 'f']</text><text text-anchor=\"start\" x=\"401\" y=\"175\" font-size=\"12\">4-['e' 'f']</text><text text-anchor=\"start\" x=\"388\" y=\"154\" font-size=\"12\">5-['e' 'g']</text><text text-anchor=\"start\" x=\"430\" y=\"159\" font-size=\"12\">6-['e' 'h']</text></svg>"
      ],
      "text/plain": [
       "<IPython.core.display.SVG object>"
      ]
     },
     "execution_count": 30,
     "metadata": {},
     "output_type": "execute_result"
    }
   ],
   "source": [
    "SVG(svg_graph(G5, names=[n + '-' + str(names_col5[x.indices]) for n, x in zip(names5, X5)]))"
   ]
  },
  {
   "cell_type": "code",
   "execution_count": 31,
   "id": "380e5bd9-8072-4044-a8fb-3ed2b06777f6",
   "metadata": {},
   "outputs": [
    {
     "name": "stdout",
     "output_type": "stream",
     "text": [
      "['b' 'c' 'g' 'h' 'd' 'f' 'a' 'e']\n",
      "CPU times: user 5.98 ms, sys: 1.45 ms, total: 7.44 ms\n",
      "Wall time: 6.3 ms\n"
     ]
    }
   ],
   "source": [
    "%%time\n",
    "result, sorted_names_col = run_algorithm(G5, X5, names_col5, 1, 1000, 'log_custom5')"
   ]
  },
  {
   "cell_type": "code",
   "execution_count": 32,
   "id": "8295fcdc-f884-47d4-83f0-720800636006",
   "metadata": {},
   "outputs": [
    {
     "name": "stdout",
     "output_type": "stream",
     "text": [
      "[0 1 2 3 4 5 6] []\n",
      "[0] ['b']\n",
      "[1] ['c']\n",
      "[5] ['g']\n",
      "[6] ['h']\n",
      "[2 3] ['d']\n",
      "[3 4] ['f']\n",
      "[0 1 2 3] ['a']\n",
      "[3 4 5 6] ['e']\n"
     ]
    }
   ],
   "source": [
    "for c in result:\n",
    "    print(c[0], sorted_names_col[c[1]])"
   ]
  },
  {
   "cell_type": "markdown",
   "id": "04fa6a72-98e6-4f8b-b431-5b9dfb943a56",
   "metadata": {},
   "source": [
    "* pros:\n",
    "    - pas de concept avec un seul noeud si ce noeud est déjà dans d'autres concepts plus gr-ands\n",
    "* cons: \n",
    "    - pas de concept avec les noeuds `[2, 3, 4]` (intersection vide) ?\n",
    "    - pas de concept avec le noeud `3` uniquement ?"
   ]
  },
  {
   "cell_type": "markdown",
   "id": "515c5035-b2cc-40eb-acb8-d714b98d6667",
   "metadata": {
    "tags": []
   },
   "source": [
    "### Custom6  \n",
    "\n",
    "Connected nodes without anything in common."
   ]
  },
  {
   "cell_type": "code",
   "execution_count": 36,
   "id": "a6b65072-40e2-4bb3-af72-a7f1cc821748",
   "metadata": {},
   "outputs": [],
   "source": [
    "G6 = sparse.csr_matrix(np.array([\n",
    "    [0, 1, 1, 1, 1, 1, 1],\n",
    "    [1, 0, 1, 1, 1, 1, 1],\n",
    "    [1, 1, 0, 1, 1, 1, 1],\n",
    "    [1, 1, 1, 0, 1, 1, 1],\n",
    "    [1, 1, 1, 1, 0, 1, 1],\n",
    "    [1, 1, 1, 1, 1, 0, 1],\n",
    "    [1, 1, 1, 1, 1, 1, 0]\n",
    "]))\n",
    "X6 = sparse.csr_matrix(np.array([\n",
    "    [1, 0, 0, 0, 0, 0, 0],\n",
    "    [1, 1, 0, 0, 0, 0, 0],\n",
    "    [1, 0, 1, 0, 0, 0, 0],\n",
    "    [1, 0, 0, 1, 0, 0, 0],\n",
    "    [1, 0, 0, 0, 1, 0, 0],\n",
    "    [1, 0, 0, 0, 0, 1, 0],\n",
    "    [1, 0, 0, 0, 0, 0, 1],\n",
    "]))\n",
    "names6 = np.array(range(G6.shape[0])).astype(str)\n",
    "names_col6 = np.array(['a', 'b', 'c', 'd', 'e', 'f', 'g'])"
   ]
  },
  {
   "cell_type": "code",
   "execution_count": 33,
   "id": "67686059-6628-4e73-baba-aded03b89c70",
   "metadata": {},
   "outputs": [],
   "source": [
    "G6 = sparse.csr_matrix(np.array([\n",
    "    [0, 1, 1, 1, 1, 1, 1],\n",
    "    [1, 0, 1, 1, 1, 1, 1],\n",
    "    [1, 1, 0, 1, 1, 1, 1],\n",
    "    [1, 1, 1, 0, 1, 1, 1],\n",
    "    [1, 1, 1, 1, 0, 1, 1],\n",
    "    [1, 1, 1, 1, 1, 0, 1],\n",
    "    [1, 1, 1, 1, 1, 1, 0]\n",
    "]))\n",
    "X6 = sparse.csr_matrix(np.array([\n",
    "    [1, 0, 0, 0, 0, 0, 0],\n",
    "    [0, 1, 0, 0, 0, 0, 0],\n",
    "    [0, 0, 1, 0, 0, 0, 0],\n",
    "    [0, 0, 0, 1, 0, 0, 0],\n",
    "    [0, 0, 0, 0, 1, 0, 0],\n",
    "    [0, 0, 0, 0, 0, 1, 0],\n",
    "    [0, 0, 0, 0, 0, 0, 1],\n",
    "]))\n",
    "names6 = np.array(range(G6.shape[0])).astype(str)\n",
    "names_col6 = np.array(['a', 'b', 'c', 'd', 'e', 'f', 'g'])"
   ]
  },
  {
   "cell_type": "code",
   "execution_count": 37,
   "id": "9727e820-f882-4709-9abc-e7d99c9aa979",
   "metadata": {},
   "outputs": [
    {
     "data": {
      "image/svg+xml": [
       "<svg xmlns=\"http://www.w3.org/2000/svg\" width=\"572.0\" height=\"340\">\n",
       "<path stroke-width=\"1\" stroke=\"gray\" d=\"M 312 320 20 162\"/>\n",
       "<path stroke-width=\"1\" stroke=\"gray\" d=\"M 127 20 327 27\"/>\n",
       "<path stroke-width=\"1\" stroke=\"gray\" d=\"M 219 170 312 320\"/>\n",
       "<path stroke-width=\"1\" stroke=\"gray\" d=\"M 219 170 20 162\"/>\n",
       "<path stroke-width=\"1\" stroke=\"gray\" d=\"M 219 170 112 313\"/>\n",
       "<path stroke-width=\"1\" stroke=\"gray\" d=\"M 219 170 127 20\"/>\n",
       "<path stroke-width=\"1\" stroke=\"gray\" d=\"M 219 170 420 177\"/>\n",
       "<path stroke-width=\"1\" stroke=\"gray\" d=\"M 219 170 327 27\"/>\n",
       "<path stroke-width=\"1\" stroke=\"gray\" d=\"M 420 177 312 320\"/>\n",
       "<path stroke-width=\"1\" stroke=\"gray\" d=\"M 420 177 20 162\"/>\n",
       "<path stroke-width=\"1\" stroke=\"gray\" d=\"M 420 177 112 313\"/>\n",
       "<path stroke-width=\"1\" stroke=\"gray\" d=\"M 420 177 127 20\"/>\n",
       "<path stroke-width=\"1\" stroke=\"gray\" d=\"M 420 177 219 170\"/>\n",
       "<path stroke-width=\"1\" stroke=\"gray\" d=\"M 420 177 327 27\"/>\n",
       "<path stroke-width=\"1\" stroke=\"gray\" d=\"M 327 27 312 320\"/>\n",
       "<path stroke-width=\"1\" stroke=\"gray\" d=\"M 327 27 20 162\"/>\n",
       "<path stroke-width=\"1\" stroke=\"gray\" d=\"M 327 27 112 313\"/>\n",
       "<path stroke-width=\"1\" stroke=\"gray\" d=\"M 327 27 127 20\"/>\n",
       "<path stroke-width=\"1\" stroke=\"gray\" d=\"M 127 20 420 177\"/>\n",
       "<path stroke-width=\"1\" stroke=\"gray\" d=\"M 127 20 219 170\"/>\n",
       "<path stroke-width=\"1\" stroke=\"gray\" d=\"M 127 20 112 313\"/>\n",
       "<path stroke-width=\"1\" stroke=\"gray\" d=\"M 127 20 20 162\"/>\n",
       "<path stroke-width=\"1\" stroke=\"gray\" d=\"M 312 320 112 313\"/>\n",
       "<path stroke-width=\"1\" stroke=\"gray\" d=\"M 312 320 127 20\"/>\n",
       "<path stroke-width=\"1\" stroke=\"gray\" d=\"M 312 320 219 170\"/>\n",
       "<path stroke-width=\"1\" stroke=\"gray\" d=\"M 312 320 420 177\"/>\n",
       "<path stroke-width=\"1\" stroke=\"gray\" d=\"M 312 320 327 27\"/>\n",
       "<path stroke-width=\"1\" stroke=\"gray\" d=\"M 20 162 312 320\"/>\n",
       "<path stroke-width=\"1\" stroke=\"gray\" d=\"M 20 162 112 313\"/>\n",
       "<path stroke-width=\"1\" stroke=\"gray\" d=\"M 20 162 127 20\"/>\n",
       "<path stroke-width=\"1\" stroke=\"gray\" d=\"M 327 27 219 170\"/>\n",
       "<path stroke-width=\"1\" stroke=\"gray\" d=\"M 20 162 219 170\"/>\n",
       "<path stroke-width=\"1\" stroke=\"gray\" d=\"M 20 162 327 27\"/>\n",
       "<path stroke-width=\"1\" stroke=\"gray\" d=\"M 112 313 312 320\"/>\n",
       "<path stroke-width=\"1\" stroke=\"gray\" d=\"M 112 313 20 162\"/>\n",
       "<path stroke-width=\"1\" stroke=\"gray\" d=\"M 112 313 127 20\"/>\n",
       "<path stroke-width=\"1\" stroke=\"gray\" d=\"M 112 313 219 170\"/>\n",
       "<path stroke-width=\"1\" stroke=\"gray\" d=\"M 112 313 420 177\"/>\n",
       "<path stroke-width=\"1\" stroke=\"gray\" d=\"M 112 313 327 27\"/>\n",
       "<path stroke-width=\"1\" stroke=\"gray\" d=\"M 127 20 312 320\"/>\n",
       "<path stroke-width=\"1\" stroke=\"gray\" d=\"M 20 162 420 177\"/>\n",
       "<path stroke-width=\"1\" stroke=\"gray\" d=\"M 327 27 420 177\"/>\n",
       "<circle cx=\"312\" cy=\"320\" r=\"7.0\" style=\"fill:gray;stroke:black;stroke-width:1.0\"/>\n",
       "<circle cx=\"20\" cy=\"162\" r=\"7.0\" style=\"fill:gray;stroke:black;stroke-width:1.0\"/>\n",
       "<circle cx=\"112\" cy=\"313\" r=\"7.0\" style=\"fill:gray;stroke:black;stroke-width:1.0\"/>\n",
       "<circle cx=\"127\" cy=\"20\" r=\"7.0\" style=\"fill:gray;stroke:black;stroke-width:1.0\"/>\n",
       "<circle cx=\"219\" cy=\"170\" r=\"7.0\" style=\"fill:gray;stroke:black;stroke-width:1.0\"/>\n",
       "<circle cx=\"420\" cy=\"177\" r=\"7.0\" style=\"fill:gray;stroke:black;stroke-width:1.0\"/>\n",
       "<circle cx=\"327\" cy=\"27\" r=\"7.0\" style=\"fill:gray;stroke:black;stroke-width:1.0\"/>\n",
       "<text text-anchor=\"start\" x=\"322\" y=\"320\" font-size=\"12\">0-['a']</text><text text-anchor=\"start\" x=\"30\" y=\"162\" font-size=\"12\">1-['a' 'b']</text><text text-anchor=\"start\" x=\"122\" y=\"313\" font-size=\"12\">2-['a' 'c']</text><text text-anchor=\"start\" x=\"137\" y=\"20\" font-size=\"12\">3-['a' 'd']</text><text text-anchor=\"start\" x=\"229\" y=\"170\" font-size=\"12\">4-['a' 'e']</text><text text-anchor=\"start\" x=\"430\" y=\"177\" font-size=\"12\">5-['a' 'f']</text><text text-anchor=\"start\" x=\"337\" y=\"27\" font-size=\"12\">6-['a' 'g']</text></svg>"
      ],
      "text/plain": [
       "<IPython.core.display.SVG object>"
      ]
     },
     "execution_count": 37,
     "metadata": {},
     "output_type": "execute_result"
    }
   ],
   "source": [
    "SVG(svg_graph(G6, names=[n + '-' + str(names_col6[x.indices]) for n, x in zip(names6, X6)]))"
   ]
  },
  {
   "cell_type": "code",
   "execution_count": 38,
   "id": "94defd08-eed7-4333-9d99-cef71dbc8fc4",
   "metadata": {},
   "outputs": [
    {
     "name": "stdout",
     "output_type": "stream",
     "text": [
      "['b' 'c' 'd' 'e' 'f' 'g' 'a']\n",
      "CPU times: user 5.28 ms, sys: 1.75 ms, total: 7.03 ms\n",
      "Wall time: 5.9 ms\n"
     ]
    }
   ],
   "source": [
    "%%time\n",
    "result, sorted_names_col = run_algorithm(G6, X6, names_col6, 1, 1000, 'log_custom6_bis')"
   ]
  },
  {
   "cell_type": "code",
   "execution_count": 39,
   "id": "7b18254d-12f1-46fa-b2a4-5f1a4df228de",
   "metadata": {},
   "outputs": [
    {
     "name": "stdout",
     "output_type": "stream",
     "text": [
      "[0 1 2 3 4 5 6] ['a']\n",
      "[1] ['b']\n",
      "[2] ['c']\n",
      "[3] ['d']\n",
      "[4] ['e']\n",
      "[5] ['f']\n",
      "[6] ['g']\n"
     ]
    }
   ],
   "source": [
    "for c in result:\n",
    "    print(c[0], sorted_names_col[c[1]])"
   ]
  },
  {
   "cell_type": "markdown",
   "id": "d3fd7d8b-c920-4dd6-a00c-e9e0c3999ddd",
   "metadata": {},
   "source": [
    "* pros:\n",
    "    - pas de concept avec tous les noeuds malgré la densité  \n",
    "* cons:\n",
    "    - perte d'information sur la structure du graphe initial ? "
   ]
  },
  {
   "cell_type": "markdown",
   "id": "658911f6-b9f0-4a7a-9bbe-93cdb4d7716b",
   "metadata": {
    "tags": []
   },
   "source": [
    "### Custom7  \n",
    "\n",
    "1 article between 1 strong community and one diverse community"
   ]
  },
  {
   "cell_type": "code",
   "execution_count": 147,
   "id": "010e4b6d-e1c5-46d8-8e9c-0f20e93e8c15",
   "metadata": {},
   "outputs": [],
   "source": [
    "G7 = sparse.csr_matrix(np.array([\n",
    "    [0, 1, 1, 1, 0, 0, 0, 0, 0],\n",
    "    [1, 0, 1, 1, 0, 0, 0, 0, 0],\n",
    "    [1, 1, 0, 1, 0, 0, 0, 0, 0],\n",
    "    [1, 1, 1, 0, 1, 0, 0, 0, 0],\n",
    "    [0, 0, 0, 1, 0, 1, 0, 0, 0],\n",
    "    [0, 0, 0, 0, 1, 0, 1, 1, 1],\n",
    "    [0, 0, 0, 0, 0, 1, 0, 1, 1],\n",
    "    [0, 0, 0, 0, 0, 1, 1, 0, 1],\n",
    "    [0, 0, 0, 0, 0, 1, 1, 1, 0]\n",
    "]))\n",
    "X7 = sparse.csr_matrix(np.array([\n",
    "    [1, 1, 0, 0, 0, 0],\n",
    "    [1, 0, 1, 0, 0, 0],\n",
    "    [1, 0, 0, 1, 0, 0],\n",
    "    [0, 1, 1, 0, 0, 0],\n",
    "    [0, 1, 1, 0, 1, 1],\n",
    "    [0, 0, 0, 0, 0, 1],\n",
    "    [0, 0, 0, 0, 0, 1],\n",
    "    [0, 0, 0, 0, 0, 1],\n",
    "    [0, 0, 0, 0, 0, 1]\n",
    "]))\n",
    "names7 = np.array(range(G7.shape[0])).astype(str)\n",
    "names_col7 = np.array(['a', 'b', 'c', 'd', 'e', 'f'])"
   ]
  },
  {
   "cell_type": "code",
   "execution_count": 148,
   "id": "7777a37d-79ef-4376-bec4-0140ed21f456",
   "metadata": {},
   "outputs": [
    {
     "data": {
      "image/svg+xml": [
       "<svg xmlns=\"http://www.w3.org/2000/svg\" width=\"524.0\" height=\"340\">\n",
       "<path stroke-width=\"1\" stroke=\"gray\" d=\"M 90 42 20 65\"/>\n",
       "<path stroke-width=\"1\" stroke=\"gray\" d=\"M 410 320 332 253\"/>\n",
       "<path stroke-width=\"1\" stroke=\"gray\" d=\"M 420 278 410 320\"/>\n",
       "<path stroke-width=\"1\" stroke=\"gray\" d=\"M 420 278 349 315\"/>\n",
       "<path stroke-width=\"1\" stroke=\"gray\" d=\"M 420 278 332 253\"/>\n",
       "<path stroke-width=\"1\" stroke=\"gray\" d=\"M 349 315 410 320\"/>\n",
       "<path stroke-width=\"1\" stroke=\"gray\" d=\"M 349 315 420 278\"/>\n",
       "<path stroke-width=\"1\" stroke=\"gray\" d=\"M 349 315 332 253\"/>\n",
       "<path stroke-width=\"1\" stroke=\"gray\" d=\"M 332 253 410 320\"/>\n",
       "<path stroke-width=\"1\" stroke=\"gray\" d=\"M 332 253 420 278\"/>\n",
       "<path stroke-width=\"1\" stroke=\"gray\" d=\"M 332 253 349 315\"/>\n",
       "<path stroke-width=\"1\" stroke=\"gray\" d=\"M 332 253 225 173\"/>\n",
       "<path stroke-width=\"1\" stroke=\"gray\" d=\"M 225 173 332 253\"/>\n",
       "<path stroke-width=\"1\" stroke=\"gray\" d=\"M 225 173 117 91\"/>\n",
       "<path stroke-width=\"1\" stroke=\"gray\" d=\"M 117 91 225 173\"/>\n",
       "<path stroke-width=\"1\" stroke=\"gray\" d=\"M 117 91 48 20\"/>\n",
       "<path stroke-width=\"1\" stroke=\"gray\" d=\"M 117 91 20 65\"/>\n",
       "<path stroke-width=\"1\" stroke=\"gray\" d=\"M 117 91 90 42\"/>\n",
       "<path stroke-width=\"1\" stroke=\"gray\" d=\"M 48 20 117 91\"/>\n",
       "<path stroke-width=\"1\" stroke=\"gray\" d=\"M 48 20 20 65\"/>\n",
       "<path stroke-width=\"1\" stroke=\"gray\" d=\"M 48 20 90 42\"/>\n",
       "<path stroke-width=\"1\" stroke=\"gray\" d=\"M 20 65 117 91\"/>\n",
       "<path stroke-width=\"1\" stroke=\"gray\" d=\"M 20 65 48 20\"/>\n",
       "<path stroke-width=\"1\" stroke=\"gray\" d=\"M 20 65 90 42\"/>\n",
       "<path stroke-width=\"1\" stroke=\"gray\" d=\"M 90 42 117 91\"/>\n",
       "<path stroke-width=\"1\" stroke=\"gray\" d=\"M 90 42 48 20\"/>\n",
       "<path stroke-width=\"1\" stroke=\"gray\" d=\"M 410 320 349 315\"/>\n",
       "<path stroke-width=\"1\" stroke=\"gray\" d=\"M 410 320 420 278\"/>\n",
       "<circle cx=\"90\" cy=\"42\" r=\"7.0\" style=\"fill:gray;stroke:black;stroke-width:1.0\"/>\n",
       "<circle cx=\"20\" cy=\"65\" r=\"7.0\" style=\"fill:gray;stroke:black;stroke-width:1.0\"/>\n",
       "<circle cx=\"48\" cy=\"20\" r=\"7.0\" style=\"fill:gray;stroke:black;stroke-width:1.0\"/>\n",
       "<circle cx=\"117\" cy=\"91\" r=\"7.0\" style=\"fill:gray;stroke:black;stroke-width:1.0\"/>\n",
       "<circle cx=\"225\" cy=\"173\" r=\"7.0\" style=\"fill:gray;stroke:black;stroke-width:1.0\"/>\n",
       "<circle cx=\"332\" cy=\"253\" r=\"7.0\" style=\"fill:gray;stroke:black;stroke-width:1.0\"/>\n",
       "<circle cx=\"349\" cy=\"315\" r=\"7.0\" style=\"fill:gray;stroke:black;stroke-width:1.0\"/>\n",
       "<circle cx=\"420\" cy=\"278\" r=\"7.0\" style=\"fill:gray;stroke:black;stroke-width:1.0\"/>\n",
       "<circle cx=\"410\" cy=\"320\" r=\"7.0\" style=\"fill:gray;stroke:black;stroke-width:1.0\"/>\n",
       "<text text-anchor=\"start\" x=\"100\" y=\"42\" font-size=\"12\">0-['a' 'b']</text><text text-anchor=\"start\" x=\"30\" y=\"65\" font-size=\"12\">1-['a' 'c']</text><text text-anchor=\"start\" x=\"58\" y=\"20\" font-size=\"12\">2-['a' 'd']</text><text text-anchor=\"start\" x=\"127\" y=\"91\" font-size=\"12\">3-['b' 'c']</text><text text-anchor=\"start\" x=\"235\" y=\"173\" font-size=\"12\">4-['b' 'c' 'e' 'f']</text><text text-anchor=\"start\" x=\"342\" y=\"253\" font-size=\"12\">5-['f']</text><text text-anchor=\"start\" x=\"359\" y=\"315\" font-size=\"12\">6-['f']</text><text text-anchor=\"start\" x=\"430\" y=\"278\" font-size=\"12\">7-['f']</text><text text-anchor=\"start\" x=\"420\" y=\"320\" font-size=\"12\">8-['f']</text></svg>"
      ],
      "text/plain": [
       "<IPython.core.display.SVG object>"
      ]
     },
     "execution_count": 148,
     "metadata": {},
     "output_type": "execute_result"
    }
   ],
   "source": [
    "SVG(svg_graph(G7, names=[n + '-' + str(names_col7[x.indices]) for n, x in zip(names7, X7)]))"
   ]
  },
  {
   "cell_type": "code",
   "execution_count": 149,
   "id": "3994c30f-6d25-4ac7-94ba-193817f368d0",
   "metadata": {},
   "outputs": [
    {
     "name": "stdout",
     "output_type": "stream",
     "text": [
      "CPU times: user 14.3 ms, sys: 3.13 ms, total: 17.5 ms\n",
      "Wall time: 15.3 ms\n"
     ]
    }
   ],
   "source": [
    "%%time\n",
    "result, sorted_names_col = run_algorithm(G7, X7, names_col7, 1, 1000, 'log_custom7')"
   ]
  },
  {
   "cell_type": "code",
   "execution_count": 150,
   "id": "5cf06403-8c89-4692-b623-7ecef91a70fc",
   "metadata": {},
   "outputs": [
    {
     "name": "stdout",
     "output_type": "stream",
     "text": [
      "[0 1 2 3 4 5 6 7 8] []\n",
      "[2] ['d']\n",
      "[4] ['e']\n",
      "[0 1 2] ['a']\n",
      "[0] ['a' 'b']\n",
      "[1] ['a' 'c']\n",
      "[0 3 4] ['b']\n",
      "[3 4] ['b' 'c']\n",
      "[1 3 4] ['c']\n",
      "[4 5 6 7 8] ['f']\n"
     ]
    }
   ],
   "source": [
    "for c in result:\n",
    "    print(c[0], sorted_names_col[c[1]])"
   ]
  },
  {
   "cell_type": "markdown",
   "id": "22a3d175-a06a-474e-9c9b-93c3794098c7",
   "metadata": {},
   "source": [
    "* pros:\n",
    "    - `4` n'est pas isolé de `[5, 6, 7, 8]`\n",
    "    - `2` isolé (seul qui contient `'d'`)\n",
    "    - `4` isolé (seul qui contient `'e'`)\n",
    "* cons: \n",
    "    - `[3, 4]` n'est pas nécessaire si on a `[1, 3, 4]` et `[0, 3, 4]` ?\n",
    "    - "
   ]
  },
  {
   "cell_type": "code",
   "execution_count": 190,
   "id": "630decd8-eec1-4d35-9df5-ee691252c17a",
   "metadata": {},
   "outputs": [],
   "source": [
    "def get_summarized_graph(adjacency, concepts):\n",
    "    \"\"\"Get summarized graph given concepts and original adjacency matrix.\"\"\"\n",
    "    \n",
    "    rows, cols = [], []\n",
    "\n",
    "    for c in concepts:\n",
    "\n",
    "        # exclude first element of lattice \n",
    "        if len(c[1]) > 0:\n",
    "            nodes = sorted(c[0])\n",
    "            idx = 0\n",
    "            idx_nodes = np.array([-1] * len(nodes)) # number of unique nodes from concepts\n",
    "            # reindex nodes\n",
    "            for n in nodes:\n",
    "                if n not in idx_nodes:\n",
    "                    idx_nodes[idx] = n\n",
    "                    idx += 1\n",
    "            \n",
    "            # Record edges from subgraph related to concept\n",
    "            adj_concept = adjacency[nodes, :][:, nodes].tocoo()\n",
    "            reindex_rows = [int(idx_nodes[src]) for src in adj_concept.row]\n",
    "            reindex_cols = [int(idx_nodes[dst]) for dst in adj_concept.col]\n",
    "            rows += reindex_rows\n",
    "            cols += reindex_cols\n",
    "            \n",
    "    return sparse.coo_matrix((np.ones(len(rows)), (rows, cols)), shape=adjacency.shape).tocsr()"
   ]
  },
  {
   "cell_type": "code",
   "execution_count": 191,
   "id": "acd17fc1-e876-4381-8b17-424a6b20a019",
   "metadata": {},
   "outputs": [
    {
     "data": {
      "text/plain": [
       "<9x9 sparse matrix of type '<class 'numpy.float64'>'\n",
       "\twith 26 stored elements in Compressed Sparse Row format>"
      ]
     },
     "execution_count": 191,
     "metadata": {},
     "output_type": "execute_result"
    }
   ],
   "source": [
    "get_summarized_graph(G7, result)"
   ]
  },
  {
   "cell_type": "code",
   "execution_count": 192,
   "id": "38a7a2af-2022-4c5f-8606-c85758f1e6f4",
   "metadata": {},
   "outputs": [
    {
     "data": {
      "image/svg+xml": [
       "<svg xmlns=\"http://www.w3.org/2000/svg\" width=\"524.0\" height=\"340\">\n",
       "<path stroke-width=\"0.5\" stroke=\"gray\" d=\"M 98 315 76 260\"/>\n",
       "<path stroke-width=\"0.5\" stroke=\"gray\" d=\"M 419 81 343 98\"/>\n",
       "<path stroke-width=\"0.5\" stroke=\"gray\" d=\"M 371 20 419 81\"/>\n",
       "<path stroke-width=\"0.5\" stroke=\"gray\" d=\"M 371 20 420 23\"/>\n",
       "<path stroke-width=\"0.5\" stroke=\"gray\" d=\"M 371 20 343 98\"/>\n",
       "<path stroke-width=\"0.5\" stroke=\"gray\" d=\"M 420 23 419 81\"/>\n",
       "<path stroke-width=\"0.5\" stroke=\"gray\" d=\"M 420 23 371 20\"/>\n",
       "<path stroke-width=\"0.5\" stroke=\"gray\" d=\"M 420 23 343 98\"/>\n",
       "<path stroke-width=\"0.5\" stroke=\"gray\" d=\"M 343 98 419 81\"/>\n",
       "<path stroke-width=\"0.5\" stroke=\"gray\" d=\"M 343 98 371 20\"/>\n",
       "<path stroke-width=\"0.5\" stroke=\"gray\" d=\"M 343 98 420 23\"/>\n",
       "<path stroke-width=\"0.5\" stroke=\"gray\" d=\"M 343 98 237 188\"/>\n",
       "<path stroke-width=\"0.5\" stroke=\"gray\" d=\"M 237 188 343 98\"/>\n",
       "<path stroke-width=\"20.0\" stroke=\"gray\" d=\"M 237 188 171 236\"/>\n",
       "<path stroke-width=\"20.0\" stroke=\"gray\" d=\"M 171 236 237 188\"/>\n",
       "<path stroke-width=\"0.5\" stroke=\"gray\" d=\"M 171 236 76 260\"/>\n",
       "<path stroke-width=\"0.5\" stroke=\"gray\" d=\"M 171 236 98 315\"/>\n",
       "<path stroke-width=\"0.5\" stroke=\"gray\" d=\"M 20 320 76 260\"/>\n",
       "<path stroke-width=\"0.5\" stroke=\"gray\" d=\"M 20 320 98 315\"/>\n",
       "<path stroke-width=\"0.5\" stroke=\"gray\" d=\"M 76 260 171 236\"/>\n",
       "<path stroke-width=\"0.5\" stroke=\"gray\" d=\"M 76 260 20 320\"/>\n",
       "<path stroke-width=\"0.5\" stroke=\"gray\" d=\"M 76 260 98 315\"/>\n",
       "<path stroke-width=\"0.5\" stroke=\"gray\" d=\"M 98 315 171 236\"/>\n",
       "<path stroke-width=\"0.5\" stroke=\"gray\" d=\"M 98 315 20 320\"/>\n",
       "<path stroke-width=\"0.5\" stroke=\"gray\" d=\"M 419 81 420 23\"/>\n",
       "<path stroke-width=\"0.5\" stroke=\"gray\" d=\"M 419 81 371 20\"/>\n",
       "<circle cx=\"98\" cy=\"315\" r=\"7.0\" style=\"fill:gray;stroke:black;stroke-width:1.0\"/>\n",
       "<circle cx=\"76\" cy=\"260\" r=\"7.0\" style=\"fill:gray;stroke:black;stroke-width:1.0\"/>\n",
       "<circle cx=\"20\" cy=\"320\" r=\"7.0\" style=\"fill:gray;stroke:black;stroke-width:1.0\"/>\n",
       "<circle cx=\"171\" cy=\"236\" r=\"7.0\" style=\"fill:gray;stroke:black;stroke-width:1.0\"/>\n",
       "<circle cx=\"237\" cy=\"188\" r=\"7.0\" style=\"fill:gray;stroke:black;stroke-width:1.0\"/>\n",
       "<circle cx=\"343\" cy=\"98\" r=\"7.0\" style=\"fill:gray;stroke:black;stroke-width:1.0\"/>\n",
       "<circle cx=\"420\" cy=\"23\" r=\"7.0\" style=\"fill:gray;stroke:black;stroke-width:1.0\"/>\n",
       "<circle cx=\"371\" cy=\"20\" r=\"7.0\" style=\"fill:gray;stroke:black;stroke-width:1.0\"/>\n",
       "<circle cx=\"419\" cy=\"81\" r=\"7.0\" style=\"fill:gray;stroke:black;stroke-width:1.0\"/>\n",
       "<text text-anchor=\"start\" x=\"108\" y=\"315\" font-size=\"12\">0-['a' 'b']</text><text text-anchor=\"start\" x=\"86\" y=\"260\" font-size=\"12\">1-['a' 'c']</text><text text-anchor=\"start\" x=\"30\" y=\"320\" font-size=\"12\">2-['a' 'd']</text><text text-anchor=\"start\" x=\"181\" y=\"236\" font-size=\"12\">3-['b' 'c']</text><text text-anchor=\"start\" x=\"247\" y=\"188\" font-size=\"12\">4-['b' 'c' 'e' 'f']</text><text text-anchor=\"start\" x=\"353\" y=\"98\" font-size=\"12\">5-['f']</text><text text-anchor=\"start\" x=\"430\" y=\"23\" font-size=\"12\">6-['f']</text><text text-anchor=\"start\" x=\"381\" y=\"20\" font-size=\"12\">7-['f']</text><text text-anchor=\"start\" x=\"429\" y=\"81\" font-size=\"12\">8-['f']</text></svg>"
      ],
      "text/plain": [
       "<IPython.core.display.SVG object>"
      ]
     },
     "execution_count": 192,
     "metadata": {},
     "output_type": "execute_result"
    }
   ],
   "source": [
    "# Summarized graph\n",
    "SVG(svg_graph(get_summarized_graph(G7, result), names=[n + '-' + str(names_col7[x.indices]) for n, x in zip(names7, X7)]))"
   ]
  },
  {
   "cell_type": "markdown",
   "id": "16b895a6-3735-4b11-bbd3-f59a2634b68f",
   "metadata": {
    "tags": []
   },
   "source": [
    "### Custom8  \n",
    "\n",
    "Connected common nodes one different node."
   ]
  },
  {
   "cell_type": "code",
   "execution_count": 185,
   "id": "d37d7114-b185-4ce6-ae16-ca5ce2ebcbed",
   "metadata": {},
   "outputs": [],
   "source": [
    "G8 = sparse.csr_matrix(np.array([\n",
    "    [0, 1, 1, 1, 1, 1, 1],\n",
    "    [1, 0, 1, 1, 1, 1, 1],\n",
    "    [1, 1, 0, 1, 1, 1, 1],\n",
    "    [1, 1, 1, 0, 1, 1, 1],\n",
    "    [1, 1, 1, 1, 0, 1, 1],\n",
    "    [1, 1, 1, 1, 1, 0, 1],\n",
    "    [1, 1, 1, 1, 1, 1, 0]\n",
    "]))\n",
    "X8 = sparse.csr_matrix(np.array([\n",
    "    [1, 1, 1, 1, 0, 0, 0],\n",
    "    [1, 1, 1, 1, 0, 0, 0],\n",
    "    [1, 1, 1, 1, 0, 0, 0],\n",
    "    [1, 1, 1, 1, 0, 0, 0],\n",
    "    [1, 1, 1, 1, 0, 0, 0],\n",
    "    [1, 1, 1, 1, 0, 0, 0],\n",
    "    [1, 1, 0, 0, 1, 1, 1],\n",
    "]))\n",
    "names8 = np.array(range(G8.shape[0])).astype(str)\n",
    "names_col8 = np.array(['a', 'b', 'c', 'd', 'e', 'f', 'g'])"
   ]
  },
  {
   "cell_type": "code",
   "execution_count": 186,
   "id": "30f6f3e6-cd35-4e6d-b5ac-6d6c67dce7f5",
   "metadata": {},
   "outputs": [
    {
     "data": {
      "image/svg+xml": [
       "<svg xmlns=\"http://www.w3.org/2000/svg\" width=\"668.0\" height=\"340\">\n",
       "<path stroke-width=\"1\" stroke=\"gray\" d=\"M 420 96 417 246\"/>\n",
       "<path stroke-width=\"1\" stroke=\"gray\" d=\"M 217 320 222 20\"/>\n",
       "<path stroke-width=\"1\" stroke=\"gray\" d=\"M 220 169 420 96\"/>\n",
       "<path stroke-width=\"1\" stroke=\"gray\" d=\"M 220 169 417 246\"/>\n",
       "<path stroke-width=\"1\" stroke=\"gray\" d=\"M 220 169 20 243\"/>\n",
       "<path stroke-width=\"1\" stroke=\"gray\" d=\"M 220 169 217 320\"/>\n",
       "<path stroke-width=\"1\" stroke=\"gray\" d=\"M 220 169 22 93\"/>\n",
       "<path stroke-width=\"1\" stroke=\"gray\" d=\"M 220 169 222 20\"/>\n",
       "<path stroke-width=\"1\" stroke=\"gray\" d=\"M 22 93 420 96\"/>\n",
       "<path stroke-width=\"1\" stroke=\"gray\" d=\"M 22 93 417 246\"/>\n",
       "<path stroke-width=\"1\" stroke=\"gray\" d=\"M 22 93 20 243\"/>\n",
       "<path stroke-width=\"1\" stroke=\"gray\" d=\"M 22 93 217 320\"/>\n",
       "<path stroke-width=\"1\" stroke=\"gray\" d=\"M 22 93 220 169\"/>\n",
       "<path stroke-width=\"1\" stroke=\"gray\" d=\"M 22 93 222 20\"/>\n",
       "<path stroke-width=\"1\" stroke=\"gray\" d=\"M 222 20 420 96\"/>\n",
       "<path stroke-width=\"1\" stroke=\"gray\" d=\"M 222 20 417 246\"/>\n",
       "<path stroke-width=\"1\" stroke=\"gray\" d=\"M 222 20 20 243\"/>\n",
       "<path stroke-width=\"1\" stroke=\"gray\" d=\"M 222 20 217 320\"/>\n",
       "<path stroke-width=\"1\" stroke=\"gray\" d=\"M 217 320 22 93\"/>\n",
       "<path stroke-width=\"1\" stroke=\"gray\" d=\"M 217 320 220 169\"/>\n",
       "<path stroke-width=\"1\" stroke=\"gray\" d=\"M 217 320 20 243\"/>\n",
       "<path stroke-width=\"1\" stroke=\"gray\" d=\"M 217 320 417 246\"/>\n",
       "<path stroke-width=\"1\" stroke=\"gray\" d=\"M 420 96 20 243\"/>\n",
       "<path stroke-width=\"1\" stroke=\"gray\" d=\"M 420 96 217 320\"/>\n",
       "<path stroke-width=\"1\" stroke=\"gray\" d=\"M 420 96 220 169\"/>\n",
       "<path stroke-width=\"1\" stroke=\"gray\" d=\"M 420 96 22 93\"/>\n",
       "<path stroke-width=\"1\" stroke=\"gray\" d=\"M 420 96 222 20\"/>\n",
       "<path stroke-width=\"1\" stroke=\"gray\" d=\"M 417 246 420 96\"/>\n",
       "<path stroke-width=\"1\" stroke=\"gray\" d=\"M 417 246 20 243\"/>\n",
       "<path stroke-width=\"1\" stroke=\"gray\" d=\"M 417 246 217 320\"/>\n",
       "<path stroke-width=\"1\" stroke=\"gray\" d=\"M 222 20 220 169\"/>\n",
       "<path stroke-width=\"1\" stroke=\"gray\" d=\"M 417 246 220 169\"/>\n",
       "<path stroke-width=\"1\" stroke=\"gray\" d=\"M 417 246 222 20\"/>\n",
       "<path stroke-width=\"1\" stroke=\"gray\" d=\"M 20 243 420 96\"/>\n",
       "<path stroke-width=\"1\" stroke=\"gray\" d=\"M 20 243 417 246\"/>\n",
       "<path stroke-width=\"1\" stroke=\"gray\" d=\"M 20 243 217 320\"/>\n",
       "<path stroke-width=\"1\" stroke=\"gray\" d=\"M 20 243 220 169\"/>\n",
       "<path stroke-width=\"1\" stroke=\"gray\" d=\"M 20 243 22 93\"/>\n",
       "<path stroke-width=\"1\" stroke=\"gray\" d=\"M 20 243 222 20\"/>\n",
       "<path stroke-width=\"1\" stroke=\"gray\" d=\"M 217 320 420 96\"/>\n",
       "<path stroke-width=\"1\" stroke=\"gray\" d=\"M 417 246 22 93\"/>\n",
       "<path stroke-width=\"1\" stroke=\"gray\" d=\"M 222 20 22 93\"/>\n",
       "<circle cx=\"420\" cy=\"96\" r=\"7.0\" style=\"fill:gray;stroke:black;stroke-width:1.0\"/>\n",
       "<circle cx=\"417\" cy=\"246\" r=\"7.0\" style=\"fill:gray;stroke:black;stroke-width:1.0\"/>\n",
       "<circle cx=\"20\" cy=\"243\" r=\"7.0\" style=\"fill:gray;stroke:black;stroke-width:1.0\"/>\n",
       "<circle cx=\"217\" cy=\"320\" r=\"7.0\" style=\"fill:gray;stroke:black;stroke-width:1.0\"/>\n",
       "<circle cx=\"220\" cy=\"169\" r=\"7.0\" style=\"fill:gray;stroke:black;stroke-width:1.0\"/>\n",
       "<circle cx=\"22\" cy=\"93\" r=\"7.0\" style=\"fill:gray;stroke:black;stroke-width:1.0\"/>\n",
       "<circle cx=\"222\" cy=\"20\" r=\"7.0\" style=\"fill:gray;stroke:black;stroke-width:1.0\"/>\n",
       "<text text-anchor=\"start\" x=\"430\" y=\"96\" font-size=\"12\">0-['a' 'b' 'c' 'd']</text><text text-anchor=\"start\" x=\"427\" y=\"246\" font-size=\"12\">1-['a' 'b' 'c' 'd']</text><text text-anchor=\"start\" x=\"30\" y=\"243\" font-size=\"12\">2-['a' 'b' 'c' 'd']</text><text text-anchor=\"start\" x=\"227\" y=\"320\" font-size=\"12\">3-['a' 'b' 'c' 'd']</text><text text-anchor=\"start\" x=\"230\" y=\"169\" font-size=\"12\">4-['a' 'b' 'c' 'd']</text><text text-anchor=\"start\" x=\"32\" y=\"93\" font-size=\"12\">5-['a' 'b' 'c' 'd']</text><text text-anchor=\"start\" x=\"232\" y=\"20\" font-size=\"12\">6-['a' 'b' 'e' 'f' 'g']</text></svg>"
      ],
      "text/plain": [
       "<IPython.core.display.SVG object>"
      ]
     },
     "execution_count": 186,
     "metadata": {},
     "output_type": "execute_result"
    }
   ],
   "source": [
    "SVG(svg_graph(G8, names=[n + '-' + str(names_col8[x.indices]) for n, x in zip(names8, X8)]))"
   ]
  },
  {
   "cell_type": "code",
   "execution_count": 187,
   "id": "72980a10-7e54-4f37-a92e-9de522e2e312",
   "metadata": {},
   "outputs": [
    {
     "name": "stdout",
     "output_type": "stream",
     "text": [
      "['e' 'f' 'g' 'c' 'd' 'a' 'b']\n",
      "CPU times: user 12.7 ms, sys: 5.99 ms, total: 18.7 ms\n",
      "Wall time: 32 ms\n"
     ]
    }
   ],
   "source": [
    "%%time\n",
    "result, sorted_names_col = run_algorithm(G8, X8, names_col8, 1, 1000, 'log_custom8')"
   ]
  },
  {
   "cell_type": "code",
   "execution_count": 188,
   "id": "e4755bed-9d98-424d-ace1-aeb15f75e71b",
   "metadata": {},
   "outputs": [
    {
     "name": "stdout",
     "output_type": "stream",
     "text": [
      "[0 1 2 3 4 5 6] ['a' 'b']\n",
      "[6] ['e' 'f' 'g' 'a' 'b']\n",
      "[6] ['f' 'g' 'a' 'b']\n",
      "[6] ['g' 'a' 'b']\n",
      "[0 1 2 3 4 5] ['c' 'd' 'a' 'b']\n",
      "[0 1 2 3 4 5] ['d' 'a' 'b']\n"
     ]
    }
   ],
   "source": [
    "for c in result:\n",
    "    print(c[0], sorted_names_col[c[1]])"
   ]
  },
  {
   "cell_type": "markdown",
   "id": "dba97d61-b13c-48b0-b897-1cbccf23831f",
   "metadata": {},
   "source": [
    "* pros:\n",
    "    - concept `6` avec attributs `['e', 'f', 'g']` $\\rightarrow$ le graphe ne change pas mais on continue d'ajouter des attributs qui rendent le concept un peu plus intéressant, vu le faible nombre d'occurence de ces attributs dans le graphe initial. En revanche les attributs `'a'` et `'b'` n'apportent rien d'intéressant\n",
    "    - pour le concept `[0, 1, 2, 3, 4, 5]`, l'attribut `'d'` n'apporte rien à `'c'` et inversement. Encore moins les attributs `['a', 'b']` qui sont trop fréquents\n",
    "* cons:\n",
    "    - le concept `[0, 1, 2, 3, 4, 5]` est divisé en 2\n",
    "    - le concept `6` est divisé en 3"
   ]
  },
  {
   "cell_type": "code",
   "execution_count": null,
   "id": "098919cd-c83f-43ee-9a24-09c410b0e2f6",
   "metadata": {},
   "outputs": [],
   "source": []
  }
 ],
 "metadata": {
  "kernelspec": {
   "display_name": "COMEG",
   "language": "python",
   "name": "comeg"
  },
  "language_info": {
   "codemirror_mode": {
    "name": "ipython",
    "version": 3
   },
   "file_extension": ".py",
   "mimetype": "text/x-python",
   "name": "python",
   "nbconvert_exporter": "python",
   "pygments_lexer": "ipython3",
   "version": "3.9.15"
  }
 },
 "nbformat": 4,
 "nbformat_minor": 5
}
