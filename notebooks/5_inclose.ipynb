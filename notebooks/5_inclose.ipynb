{
 "cells": [
  {
   "cell_type": "markdown",
   "id": "3e466124-a6fe-4976-8244-77ce0685a853",
   "metadata": {},
   "source": [
    "# InClose\n",
    "---"
   ]
  },
  {
   "cell_type": "code",
   "execution_count": 1,
   "id": "c527bf61-6499-46dc-8745-2c9472a85e27",
   "metadata": {},
   "outputs": [],
   "source": [
    "from collections import defaultdict, Counter\n",
    "from contextlib import redirect_stdout\n",
    "from IPython.display import SVG\n",
    "import matplotlib.pyplot as plt\n",
    "import numpy as np\n",
    "import pickle\n",
    "from random import random\n",
    "import seaborn as sns\n",
    "from scipy import sparse, special\n",
    "\n",
    "from sknetwork.clustering import get_modularity, KMeans, Louvain\n",
    "from sknetwork.data import load_netset, from_edge_list\n",
    "from sknetwork.embedding import Spectral, SVD\n",
    "from sknetwork.gnn import GNNClassifier\n",
    "from sknetwork.ranking import top_k\n",
    "from sknetwork.topology import Triangles, Cliques, get_connected_components\n",
    "from sknetwork.utils import get_degrees, get_membership, get_neighbors\n",
    "from sknetwork.utils.kmeans import KMeansDense\n",
    "from sknetwork.utils.check import get_probs\n",
    "from sknetwork.visualization import svg_graph\n",
    "\n",
    "from tfidf import TfIdf"
   ]
  },
  {
   "cell_type": "code",
   "execution_count": 2,
   "id": "cf69c5b9-460c-4cd1-a030-844d5dc7deb0",
   "metadata": {},
   "outputs": [
    {
     "name": "stdout",
     "output_type": "stream",
     "text": [
      "Parsing files...\n",
      "Done.\n"
     ]
    }
   ],
   "source": [
    "wikivitals = load_netset('wikivitals')"
   ]
  },
  {
   "cell_type": "code",
   "execution_count": 3,
   "id": "bc754a98-7042-41a9-be73-94fc7291d8d3",
   "metadata": {},
   "outputs": [],
   "source": [
    "adjacency = wikivitals.adjacency\n",
    "biadjacency = wikivitals.biadjacency\n",
    "names = wikivitals.names\n",
    "words = wikivitals.names_col\n",
    "labels = wikivitals.labels"
   ]
  },
  {
   "cell_type": "code",
   "execution_count": 4,
   "id": "d0a2d1f4-c786-4366-80a2-a14af59ad3a8",
   "metadata": {},
   "outputs": [
    {
     "name": "stdout",
     "output_type": "stream",
     "text": [
      "(10011, 10011) 824999\n",
      "(10011, 37845) 1363301\n"
     ]
    }
   ],
   "source": [
    "print(adjacency.shape, adjacency.nnz)\n",
    "print(biadjacency.shape, biadjacency.nnz)"
   ]
  },
  {
   "cell_type": "code",
   "execution_count": 5,
   "id": "a2caee12-d8e5-4fcd-ab37-0c27c57b0623",
   "metadata": {},
   "outputs": [],
   "source": [
    "def plot_distrib(values, ax, xlabel='degree', log=True, title=None, color='blue', alpha=1, label='Degree distribution'):\n",
    "    counter = Counter(values)\n",
    "    x, y = zip(*counter.items())\n",
    "    ax.scatter(x, y, marker='+', color=color, alpha=alpha, label=label)\n",
    "    ax.legend()\n",
    "    ax.set_title(title)\n",
    "    if log:\n",
    "        ax.set_xscale('log')\n",
    "        ax.set_xlabel(xlabel + ' (log)')\n",
    "    else:\n",
    "        ax.set_xlabel(xlabel)\n",
    "    ax.set_ylabel('Frequency' + ' (log)')\n",
    "    ax.set_yscale('log')"
   ]
  },
  {
   "cell_type": "code",
   "execution_count": 6,
   "id": "9d55ec6c-f8d1-4129-aafb-2db602a57cb1",
   "metadata": {},
   "outputs": [],
   "source": [
    "def is_cannonical(context, extents, intents, r, y):\n",
    "    global r_new\n",
    "\n",
    "    for k in range(len(intents[r])-1, -1, -1):\n",
    "        for j in range(y, intents[r][k], -1):            \n",
    "            for h in range(len(extents[r_new])):\n",
    "                if context[extents[r_new][h], j] == 0:\n",
    "                    h -= 1 # Necessary for next test in case last interaction of h for-loop returns False\n",
    "                    break\n",
    "            if h == len(extents[r_new]) - 1:\n",
    "                return False\n",
    "        y = intents[r][k] - 1\n",
    "\n",
    "    for j in reversed(range(y, -1, -1)):\n",
    "        for h in range(len(extents[r_new])):\n",
    "            if context[extents[r_new][h], j] == 0:\n",
    "                h -= 1 # Necessary for next test in case last interaction of h for-loop returns False\n",
    "                break\n",
    "        if h == len(extents[r_new]) - 1:\n",
    "            return False\n",
    "    \n",
    "    return True\n",
    "\n",
    "def extension(attrs, context):\n",
    "    ext = set()\n",
    "    if len(attrs) == 0:\n",
    "        return np.arange(0, context.shape[0])\n",
    "    for a in attrs:\n",
    "        nodes = set(get_neighbors(context, node=a, transpose=True))\n",
    "        if len(ext) == 0:\n",
    "            ext.update(nodes)\n",
    "        else:\n",
    "            ext &= nodes\n",
    "        if len(ext) == 0:\n",
    "            break\n",
    "    return np.asarray(list(ext))\n",
    "\n",
    "def intention(nodes, context):\n",
    "    intent = set()\n",
    "    if len(nodes) == 0:\n",
    "        return np.arange(0, context.shape[1])\n",
    "    for n in nodes:\n",
    "        attrs = set(get_neighbors(context, node=n))\n",
    "        if len(intent) == 0:\n",
    "            intent.update(attrs)\n",
    "        else:\n",
    "            intent &= attrs\n",
    "        if len(attrs) == 0:\n",
    "            break\n",
    "    return np.asarray(list(intent))"
   ]
  },
  {
   "cell_type": "code",
   "execution_count": 9,
   "id": "091d51d7-36db-4054-b8c0-0d413124f2b1",
   "metadata": {},
   "outputs": [],
   "source": [
    "def init_inclose(context):\n",
    "    extents, intents = [], []\n",
    "    extents_init = np.arange(context.shape[0])\n",
    "    intents_init = []\n",
    "    extents.append(extents_init) # Initalize extents with all objects from context\n",
    "    intents.append(intents_init) # Initialize intents with empty set attributes\n",
    "    return extents, intents\n",
    "\n",
    "def in_close(adjacency, context, extents, intents, r=0, y=0, min_support=0, max_support=np.inf, names_col=[]):\n",
    "    global r_new\n",
    "    r_new = r_new + 1\n",
    "    \n",
    "    print(f'NEW ITERATION \\n --------')\n",
    "    print(f'r: {r} - r_new: {r_new}')\n",
    "    # ------------------------------------------------\n",
    "    print(f'|extents[r]|: {len(extents[r])} - intents[r]: {names_col[intents[r]]}')\n",
    "    \n",
    "    for j in np.arange(context.shape[1])[y:]:\n",
    "\n",
    "        try:\n",
    "            extents[r_new] = []\n",
    "        except IndexError:\n",
    "            extents.append([])\n",
    "\n",
    "        # Form a new extent by adding extension of attribute j to current concept extent\n",
    "        ext_j = set(extension([j], context))\n",
    "        extents[r_new] = list(sorted(set(extents[r]).intersection(ext_j)))\n",
    "        len_new_extent = len(extents[r_new])\n",
    "        \n",
    "        print(f'|extents|: {len(extents[r])} - intents: {names_col[intents[r]]}')\n",
    "        print(f'  Candidate attr: {names_col[j]} - ({j})')\n",
    "        print(f'  new extent: {extents[r_new]}')\n",
    "        \n",
    "        if (len_new_extent >= min_support) and (len_new_extent <= max_support):\n",
    "                       \n",
    "            if len_new_extent - len(extents[r]) == 0:\n",
    "                print(f'  Extent size did not change -> attribute {names_col[j]} is added to intent.')\n",
    "                intents[r] = list(sorted(set(intents[r]).union(set([j]))))                \n",
    "            else:\n",
    "                print(f'  Extent size DID change. IsCannonical: {is_cannonical(context, extents, intents, r, j - 1)}')\n",
    "                if is_cannonical(context, extents, intents, r, j - 1):\n",
    "                    try:\n",
    "                        intents[r_new] = []\n",
    "                    except IndexError:\n",
    "                        intents.append([])\n",
    "\n",
    "                    intents[r_new] = list(sorted(set(intents[r]).union(set([j]))))\n",
    "                    \n",
    "                    print(f'  --> Enter recursion with Intent: {names_col[intents[r_new]]}...')\n",
    "                    in_close(adjacency, context, extents, intents, r=r_new, y=j+1, min_support=min_support, max_support=max_support, \n",
    "                                     names_col=names_col)\n",
    "\n",
    "    print(f'**END FUNCTION')\n",
    "    print(f'**concept: ({[*zip(extents, intents)]})')\n",
    "    \n",
    "    return [*zip(extents, intents)]"
   ]
  },
  {
   "cell_type": "code",
   "execution_count": 12,
   "id": "ae7dc9ea-499e-45f3-bccc-1e0b8f73f635",
   "metadata": {},
   "outputs": [],
   "source": [
    "adjacency = wikivitals.adjacency\n",
    "biadjacency = wikivitals.biadjacency\n",
    "names = wikivitals.names\n",
    "words = wikivitals.names_col\n",
    "labels = wikivitals.labels\n",
    "\n",
    "# Initialization\n",
    "extents, intents = init_inclose(biadjacency)\n",
    "degs = get_degrees(biadjacency, transpose=True)\n",
    "global r_new\n",
    "r_new = 0\n",
    "\n",
    "# Degree of attribute = # articles in which it appears\n",
    "freq_attribute = get_degrees(biadjacency.astype(bool), transpose=True)\n",
    "index = np.flatnonzero((freq_attribute <= 500000) & (freq_attribute >= 0))\n",
    "\n",
    "# Filter data with index\n",
    "biadjacency = biadjacency[:, index]\n",
    "words = words[index]\n",
    "freq_attribute = freq_attribute[index]"
   ]
  },
  {
   "cell_type": "code",
   "execution_count": 13,
   "id": "6f0737d7-0063-4fe3-ac89-310cf179d17e",
   "metadata": {},
   "outputs": [
    {
     "ename": "UnboundLocalError",
     "evalue": "local variable 'new_intent' referenced before assignment",
     "output_type": "error",
     "traceback": [
      "\u001b[0;31m---------------------------------------------------------------------------\u001b[0m",
      "\u001b[0;31mUnboundLocalError\u001b[0m                         Traceback (most recent call last)",
      "File \u001b[0;32m<timed exec>:4\u001b[0m, in \u001b[0;36m<module>\u001b[0;34m\u001b[0m\n",
      "Input \u001b[0;32mIn [9]\u001b[0m, in \u001b[0;36min_close\u001b[0;34m(adjacency, context, extents, intents, r, y, min_support, max_support, names_col)\u001b[0m\n\u001b[1;32m     48\u001b[0m \u001b[38;5;28;01mexcept\u001b[39;00m \u001b[38;5;167;01mIndexError\u001b[39;00m:\n\u001b[1;32m     49\u001b[0m     intents\u001b[38;5;241m.\u001b[39mappend([])\n\u001b[0;32m---> 51\u001b[0m intents[r_new] \u001b[38;5;241m=\u001b[39m \u001b[43mnew_intent\u001b[49m \n\u001b[1;32m     52\u001b[0m len_new_intent \u001b[38;5;241m=\u001b[39m \u001b[38;5;28mlen\u001b[39m(intents[r_new])\n\u001b[1;32m     54\u001b[0m \u001b[38;5;28mprint\u001b[39m(\u001b[38;5;124mf\u001b[39m\u001b[38;5;124m'\u001b[39m\u001b[38;5;124m  --> Enter recursion with Intent: \u001b[39m\u001b[38;5;132;01m{\u001b[39;00mnames_col[intents[r_new]]\u001b[38;5;132;01m}\u001b[39;00m\u001b[38;5;124m...\u001b[39m\u001b[38;5;124m'\u001b[39m)\n",
      "\u001b[0;31mUnboundLocalError\u001b[0m: local variable 'new_intent' referenced before assignment"
     ]
    }
   ],
   "source": [
    "%%time\n",
    "\n",
    "# Algorithm\n",
    "with open('logs/inclose_wikivitals.txt', 'w') as f:\n",
    "    with redirect_stdout(f):\n",
    "        concepts = in_close(adjacency, biadjacency, extents, intents, r=0, y=0, \n",
    "                                min_support=0, max_support=np.inf,\n",
    "                                names_col=words)\n",
    "        print()\n",
    "\n",
    "print(len(concepts))"
   ]
  },
  {
   "cell_type": "code",
   "execution_count": null,
   "id": "917d1c54-ea29-40fb-b8d5-4f0caeae0508",
   "metadata": {},
   "outputs": [],
   "source": []
  }
 ],
 "metadata": {
  "kernelspec": {
   "display_name": "COMEG",
   "language": "python",
   "name": "comeg"
  },
  "language_info": {
   "codemirror_mode": {
    "name": "ipython",
    "version": 3
   },
   "file_extension": ".py",
   "mimetype": "text/x-python",
   "name": "python",
   "nbconvert_exporter": "python",
   "pygments_lexer": "ipython3",
   "version": "3.9.15"
  }
 },
 "nbformat": 4,
 "nbformat_minor": 5
}
