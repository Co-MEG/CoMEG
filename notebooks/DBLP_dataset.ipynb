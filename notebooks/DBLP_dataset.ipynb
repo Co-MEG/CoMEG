{
 "cells": [
  {
   "cell_type": "markdown",
   "id": "c61ea0df-52e3-485c-9872-bfb98eb3f2cc",
   "metadata": {},
   "source": [
    "# DBLP dataset\n",
    "---\n",
    "\n",
    "*Source: https://www.aminer.org/citation*\n",
    "\n",
    "We use the `V13` dataset. \n",
    "> The citation data is extracted from DBLP, ACM, MAG (Microsoft Academic Graph), and other sources.\n",
    "\n",
    "We build the graph of citations, where each node represents a paper, a directed link between nodes represents a citation between papers. Moreover, we use words in the abstract of each paper as a vector of binary attributes for the corresponding nodes."
   ]
  },
  {
   "cell_type": "markdown",
   "id": "b5eeaf92-24c1-4310-9dc2-a5e656c98376",
   "metadata": {},
   "source": [
    "**Libraries**"
   ]
  },
  {
   "cell_type": "code",
   "execution_count": 4,
   "id": "d0d34359-b325-4fdd-9b86-671db29df00c",
   "metadata": {},
   "outputs": [],
   "source": [
    "from IPython.display import SVG\n",
    "\n",
    "from collections import defaultdict, Counter\n",
    "import ijson\n",
    "import json\n",
    "import numpy as np\n",
    "import pickle\n",
    "from scipy import sparse\n",
    "from tqdm import tqdm\n",
    "\n",
    "import nltk\n",
    "\n",
    "from sknetwork.data import from_edge_list, Bunch, save\n",
    "from sknetwork.topology import get_connected_components\n",
    "from sknetwork.visualization import svg_graph"
   ]
  },
  {
   "cell_type": "markdown",
   "id": "4205cd02-d557-439c-8b47-2c8d1ef08455",
   "metadata": {},
   "source": [
    "## 1. Load data"
   ]
  },
  {
   "cell_type": "markdown",
   "id": "cdef7cf1-d0c2-4618-ae53-9023565d025f",
   "metadata": {},
   "source": [
    "* `dblpv13.json` needs treatment before getting parsed. We use `sed s/NumberInt([0-9]*)/\"ok\"/g dblpv13.json >> dblpv14.json` in order to replace badly parsed Integers."
   ]
  },
  {
   "cell_type": "code",
   "execution_count": 2,
   "id": "54db19f6-3ca3-49c9-b65d-492b7a2f2b66",
   "metadata": {},
   "outputs": [],
   "source": [
    "path = '/Users/simondelarue/Downloads/dblpv14.json'"
   ]
  },
  {
   "cell_type": "code",
   "execution_count": 5,
   "id": "8195fa2e-d312-4ef8-94c0-6c550ce17183",
   "metadata": {},
   "outputs": [
    {
     "name": "stderr",
     "output_type": "stream",
     "text": [
      "5354309it [20:39, 4318.03it/s] "
     ]
    },
    {
     "name": "stdout",
     "output_type": "stream",
     "text": [
      "CPU times: user 20min 11s, sys: 25 s, total: 20min 36s\n",
      "Wall time: 20min 40s\n"
     ]
    },
    {
     "name": "stderr",
     "output_type": "stream",
     "text": [
      "\n"
     ]
    }
   ],
   "source": [
    "%%time\n",
    "\n",
    "categories = ['computer science']#, 'pattern recognition']\n",
    "articles = {}\n",
    "cpt = 0\n",
    "\n",
    "with open(path, 'rb') as f:\n",
    "    for record in tqdm(ijson.items(f, 'item')):\n",
    "        # Add articles only if they have abstract + title + belong to defined category\n",
    "        if 'fos' in record.keys() and 'abstract' in record.keys() and 'title' in record.keys() and 'references' in record.keys() and len(record.get('title')) > 0 and len(record.get('abstract')) > 0:\n",
    "            for cat in record['fos']:\n",
    "                if cat.lower() in categories:\n",
    "                    articles[record['_id']] = {'name': record['title'],\n",
    "                                      'abstract': record['abstract'],\n",
    "                                      'categories': record['fos'],\n",
    "                                      'references': record['references']}\n",
    "                    cpt += 1\n",
    "                    break"
   ]
  },
  {
   "cell_type": "code",
   "execution_count": 6,
   "id": "6754151d-6d1c-41d6-bdd5-359a40bfdf38",
   "metadata": {},
   "outputs": [
    {
     "name": "stdout",
     "output_type": "stream",
     "text": [
      "CPU times: user 26.8 s, sys: 4.28 s, total: 31.1 s\n",
      "Wall time: 32.2 s\n"
     ]
    }
   ],
   "source": [
    "%%time\n",
    "with open('data/dblpv13_raw.json', 'w') as f:\n",
    "    json.dump(articles, f)"
   ]
  },
  {
   "cell_type": "code",
   "execution_count": 7,
   "id": "af665e4a-8218-44c5-b573-dce6948a19cc",
   "metadata": {},
   "outputs": [
    {
     "name": "stdout",
     "output_type": "stream",
     "text": [
      "Number of raw articles: 2121958\n"
     ]
    }
   ],
   "source": [
    "print(f'Number of raw articles: {len(articles)}')"
   ]
  },
  {
   "cell_type": "markdown",
   "id": "06bd62d1-38f8-4449-b6dd-8242fa2fc5c8",
   "metadata": {},
   "source": [
    "For each article, we go through its references and verify the validity of each of them, i.e if they belongs to the registered articles. If some references are not valid (meaning they do not belong to 'Computer Science' field, or their title and abstract are empty), we delete them from the list of references. We end with a dictionary of articles with:\n",
    "* belong to `Computer Science` field\n",
    "* non empty title\n",
    "* non empty abstract\n",
    "* references respecting the three previous criteria"
   ]
  },
  {
   "cell_type": "code",
   "execution_count": 67,
   "id": "14ba94a1-adc1-4fd9-a817-c418d2152936",
   "metadata": {},
   "outputs": [
    {
     "name": "stderr",
     "output_type": "stream",
     "text": [
      "100%|███████████████████████████████████████████████████████| 2121958/2121958 [00:13<00:00, 152128.46it/s]"
     ]
    },
    {
     "name": "stdout",
     "output_type": "stream",
     "text": [
      "CPU times: user 10.9 s, sys: 2.39 s, total: 13.3 s\n",
      "Wall time: 14 s\n"
     ]
    },
    {
     "name": "stderr",
     "output_type": "stream",
     "text": [
      "\n"
     ]
    }
   ],
   "source": [
    "%%time\n",
    "\n",
    "# Remove non-valid articles from references\n",
    "for article, values in tqdm(articles.items()):\n",
    "    new_references = values.get('references').copy()\n",
    "    for ref in values.get('references'):\n",
    "        if ref not in articles:\n",
    "            new_references.remove(ref)\n",
    "    articles[article]['references'] = new_references"
   ]
  },
  {
   "cell_type": "code",
   "execution_count": null,
   "id": "a287ca13-7015-4a82-bf7d-1681ee472feb",
   "metadata": {},
   "outputs": [],
   "source": [
    "%%time\n",
    "with open('data/dblpv13.json', 'w') as f:\n",
    "    json.dump(articles, f)"
   ]
  },
  {
   "cell_type": "code",
   "execution_count": 9,
   "id": "78fe399d-968b-4c74-b3e6-ff73292aeec0",
   "metadata": {},
   "outputs": [],
   "source": [
    "with open('data/dblpv13.json', 'r') as f:\n",
    "    data = json.load(f)\n",
    "\n",
    "#mydict = json.load('data/dblpv13.json')\n",
    "#mydict"
   ]
  },
  {
   "cell_type": "markdown",
   "id": "ee8650ff-755e-4441-a2f8-654356dc6e3f",
   "metadata": {},
   "source": [
    "## Build graph dataset  \n",
    "\n",
    "For each article, go through its references, if reference is registered in *valid* articles, i.e. articles with abstract + title + belongs to defined categories $\\rightarrow$ saves corresponding edge in graph."
   ]
  },
  {
   "cell_type": "code",
   "execution_count": 35,
   "id": "30f9c39e-7870-412f-a600-1866b91ebc5a",
   "metadata": {},
   "outputs": [
    {
     "name": "stdout",
     "output_type": "stream",
     "text": [
      "CPU times: user 32.5 s, sys: 20.9 s, total: 53.4 s\n",
      "Wall time: 1min 14s\n"
     ]
    }
   ],
   "source": [
    "%%time\n",
    "\n",
    "edges = []\n",
    "id2idx = {}\n",
    "idx = 0\n",
    "\n",
    "for article, values in articles.items():\n",
    "    if article not in id2idx:\n",
    "        id2idx[article] = idx\n",
    "        idx += 1\n",
    "    for ref in values.get('references'):\n",
    "        if ref not in id2idx:\n",
    "            id2idx[ref] = idx\n",
    "            idx += 1\n",
    "        edges.append((id2idx.get(article), id2idx.get(ref)))"
   ]
  },
  {
   "cell_type": "code",
   "execution_count": 36,
   "id": "914abc42-0167-46da-8a3b-c5a48951403a",
   "metadata": {},
   "outputs": [],
   "source": [
    "adjacency = from_edge_list(edges)"
   ]
  },
  {
   "cell_type": "code",
   "execution_count": 37,
   "id": "526d79d3-1db6-450c-a1dd-4a5f6a1a8986",
   "metadata": {},
   "outputs": [
    {
     "name": "stdout",
     "output_type": "stream",
     "text": [
      "(4177769, 4177769)\n"
     ]
    }
   ],
   "source": [
    "print(adjacency.shape)"
   ]
  },
  {
   "cell_type": "markdown",
   "id": "1462b61e-af0c-42df-9d9f-b1522baab949",
   "metadata": {},
   "source": [
    "### Title as names"
   ]
  },
  {
   "cell_type": "code",
   "execution_count": 109,
   "id": "d72a2967-6dfe-490d-a4bf-731e7fe2ba7a",
   "metadata": {},
   "outputs": [
    {
     "name": "stdout",
     "output_type": "stream",
     "text": [
      "CPU times: user 3.17 s, sys: 7.06 s, total: 10.2 s\n",
      "Wall time: 25.8 s\n"
     ]
    }
   ],
   "source": [
    "%%time\n",
    "\n",
    "idx2titles = {}\n",
    "\n",
    "for article, values in articles.items():\n",
    "    idx2titles[id2idx.get(article)] = values.get('name')"
   ]
  },
  {
   "cell_type": "code",
   "execution_count": 112,
   "id": "3d3335de-d0f7-480b-b5fb-e6b57c33405e",
   "metadata": {},
   "outputs": [],
   "source": [
    "names = np.array(list(dict(sorted(idx2titles.items(), key=lambda x: x[0])).values()))"
   ]
  },
  {
   "cell_type": "code",
   "execution_count": 113,
   "id": "11f78cab-1c4f-4ccb-b965-4c2a500ac0e0",
   "metadata": {},
   "outputs": [
    {
     "data": {
      "text/plain": [
       "array(['A solution to the problem of touching and broken characters.',\n",
       "       'Reading cursive handwriting by alignment of letter prototypes',\n",
       "       'Direct gray-scale extraction of features for character recognition',\n",
       "       'The relative neighbourhood graph of a finite planar set',\n",
       "       'The Relative Neighborhood Graph, with an Application to Minimum Spanning Trees',\n",
       "       'A shape analysis model with applications to a character recognition system',\n",
       "       'Timing yield estimation using statistical static timing analysis',\n",
       "       'Statistical Timing Analysis Considering Spatial Correlations using a Single Pert-Like Traversal',\n",
       "       'A new statistical approach to timing analysis of VLSI circuits',\n",
       "       'Computation and Refinement of Statistical Bounds on Circuit Delay'],\n",
       "      dtype='<U1926')"
      ]
     },
     "execution_count": 113,
     "metadata": {},
     "output_type": "execute_result"
    }
   ],
   "source": [
    "names[:10]"
   ]
  },
  {
   "cell_type": "code",
   "execution_count": 116,
   "id": "d982735b-09e4-4137-a754-2634b4f7a6c4",
   "metadata": {},
   "outputs": [
    {
     "data": {
      "text/plain": [
       "3727418"
      ]
     },
     "execution_count": 116,
     "metadata": {},
     "output_type": "execute_result"
    }
   ],
   "source": [
    "len(names)"
   ]
  },
  {
   "cell_type": "code",
   "execution_count": 117,
   "id": "4a688f66-a41d-4742-8b0b-99012cc33f33",
   "metadata": {},
   "outputs": [
    {
     "data": {
      "text/plain": [
       "4177769"
      ]
     },
     "execution_count": 117,
     "metadata": {},
     "output_type": "execute_result"
    }
   ],
   "source": [
    "len(id2idx)"
   ]
  },
  {
   "cell_type": "code",
   "execution_count": 115,
   "id": "d5b966e3-6847-46bb-a391-6b8d004073b9",
   "metadata": {},
   "outputs": [
    {
     "name": "stdout",
     "output_type": "stream",
     "text": [
      "0 A solution to the problem of touching and broken characters.\n",
      "1 Reading cursive handwriting by alignment of letter prototypes\n",
      "2 Direct gray-scale extraction of features for character recognition\n",
      "3 The relative neighbourhood graph of a finite planar set\n",
      "4 The Relative Neighborhood Graph, with an Application to Minimum Spanning Trees\n",
      "5 A shape analysis model with applications to a character recognition system\n",
      "6 Timing yield estimation using statistical static timing analysis\n",
      "7 Statistical Timing Analysis Considering Spatial Correlations using a Single Pert-Like Traversal\n",
      "8 None\n",
      "9 A new statistical approach to timing analysis of VLSI circuits\n"
     ]
    }
   ],
   "source": [
    "for i in range(10):\n",
    "    print(i, idx2titles.get(i))"
   ]
  },
  {
   "cell_type": "markdown",
   "id": "f37e8a45-16eb-481f-b92a-dfe4700cde8d",
   "metadata": {},
   "source": [
    "### Biadjacency"
   ]
  },
  {
   "cell_type": "code",
   "execution_count": 57,
   "id": "f7df38e9-b990-47e8-8a82-c886607fae13",
   "metadata": {},
   "outputs": [],
   "source": [
    "import re"
   ]
  },
  {
   "cell_type": "code",
   "execution_count": 59,
   "id": "6f09d808-51db-42da-b586-4abfce4f1dc9",
   "metadata": {},
   "outputs": [
    {
     "data": {
      "text/plain": [
       "'We describe a new approach to the visual recognition of cursive handwriting. An effort is made to attain human- like performance by using a method based on pictorial alignment and on a model of the process of handwriting. The alignment approach permits recognition of character instances that appear embedded in connected strings. A system embodying this approach has been implemented and tested on five different word sets. The performance was stable both across words and across writers. The system exhibited a substantial ability to interpret cursive connected strings without recourse to lexical knowledge. The interpretation of cursive connected handwriting is considerably more difficult than the reading of printed text. This difficulty may be the reason for the relative lack of attention to the problem of reading cursive script within the field of computational vision. The present article describes progress made toward understanding and solving this problem. We identify and discuss two main causes of the diffi- culties associated with handwriting recognition: uncer- tainty of segmentation of words into characters and var- iability of character shapes. We then extend a method that has been recently proposed for general object rec- ognition, the alignment of pictorial descriptions, to handwriting recognition. A system based on the align- ment of letter prototypes has been implemented and tested. Our results may indicate that the achievement of human-like performance in reading cursive hand- writing is within the reach of the state of the art in com- puter vision.'"
      ]
     },
     "execution_count": 59,
     "metadata": {},
     "output_type": "execute_result"
    }
   ],
   "source": [
    "articles.get('53e99cf5b7602d97025ace63').get('abstract')"
   ]
  },
  {
   "cell_type": "code",
   "execution_count": 70,
   "id": "4c3f6207-5fd1-431a-9078-ee3e73932b34",
   "metadata": {},
   "outputs": [],
   "source": [
    "def tokenize_text(text):\n",
    "    \"\"\" Merge words that have been cut + remove punctuation + tokenize \"\"\"\n",
    "    res = re.sub(r'- ', '', text)\n",
    "    res_without_punc = re.sub(r'[^\\w\\s]', '', res)\n",
    "    tokens = nltk.word_tokenize(res_without_punc)\n",
    "    return tokens"
   ]
  },
  {
   "cell_type": "code",
   "execution_count": 91,
   "id": "aa556c5a-b193-4d45-89b6-5975f3817594",
   "metadata": {},
   "outputs": [
    {
     "name": "stdout",
     "output_type": "stream",
     "text": [
      "CPU times: user 15min 41s, sys: 13.3 s, total: 15min 55s\n",
      "Wall time: 16min 17s\n"
     ]
    }
   ],
   "source": [
    "%%time\n",
    "\n",
    "# Create indexed list of words from abstracts\n",
    "words2idx = {}\n",
    "idx = 0\n",
    "\n",
    "for article, values in articles.items():\n",
    "    abstract = values.get('abstract')\n",
    "    tokens = tokenize_text(abstract)\n",
    "    for tk in tokens:\n",
    "        if tk not in words2idx:\n",
    "            words2idx[tk] = idx\n",
    "            idx += 1"
   ]
  },
  {
   "cell_type": "code",
   "execution_count": 92,
   "id": "a4eae891-b565-43de-a342-af6d26a00360",
   "metadata": {},
   "outputs": [
    {
     "name": "stdout",
     "output_type": "stream",
     "text": [
      "2890817\n"
     ]
    }
   ],
   "source": [
    "print(len(words2idx))"
   ]
  },
  {
   "cell_type": "code",
   "execution_count": 93,
   "id": "c0564d28-f90c-49ec-83a1-da269f2baad7",
   "metadata": {},
   "outputs": [
    {
     "name": "stdout",
     "output_type": "stream",
     "text": [
      "CPU times: user 119 ms, sys: 141 ms, total: 260 ms\n",
      "Wall time: 360 ms\n"
     ]
    }
   ],
   "source": [
    "%%time\n",
    "idx2words = {v: k for k, v in words2idx.items()}"
   ]
  },
  {
   "cell_type": "code",
   "execution_count": 98,
   "id": "a0fbd3dd-f125-46ab-b25d-091f022186e2",
   "metadata": {},
   "outputs": [],
   "source": [
    "biadjacency = sparse.csr_matrix((len(id2idx), len(words2idx)))"
   ]
  },
  {
   "cell_type": "code",
   "execution_count": 102,
   "id": "03971674-7c28-4cc6-becb-4dcc32c1ca21",
   "metadata": {},
   "outputs": [
    {
     "data": {
      "text/plain": [
       "<4177769x2890817 sparse matrix of type '<class 'numpy.float64'>'\n",
       "\twith 2413138 stored elements in Compressed Sparse Row format>"
      ]
     },
     "execution_count": 102,
     "metadata": {},
     "output_type": "execute_result"
    }
   ],
   "source": [
    "biadjacency"
   ]
  },
  {
   "cell_type": "code",
   "execution_count": null,
   "id": "5dc11d3c-7b12-4a41-8a93-416159986aaf",
   "metadata": {},
   "outputs": [],
   "source": [
    "%%time\n",
    "\n",
    "# Fill biadjacency matrix\n",
    "for article, values in articles.items():\n",
    "    abstract = values.get('abstract')\n",
    "    tokens = tokenize_text(abstract)\n",
    "    for tk in tokens:\n",
    "        biadjacency[id2idx.get(article), words2idx.get(tk)] += 1"
   ]
  },
  {
   "cell_type": "code",
   "execution_count": null,
   "id": "2ccf89eb-a1c3-4677-9352-5b40f35a1ec1",
   "metadata": {},
   "outputs": [],
   "source": []
  },
  {
   "cell_type": "code",
   "execution_count": 38,
   "id": "784acda6-1dd1-4ea2-a0a4-d9f5dd3b9a30",
   "metadata": {},
   "outputs": [
    {
     "data": {
      "text/plain": [
       "89221038"
      ]
     },
     "execution_count": 38,
     "metadata": {},
     "output_type": "execute_result"
    }
   ],
   "source": [
    "adjacency.nnz"
   ]
  },
  {
   "cell_type": "code",
   "execution_count": 41,
   "id": "921ad344-64ba-4917-b774-1da4896cb6f8",
   "metadata": {},
   "outputs": [],
   "source": [
    "labels_cc = get_connected_components(adjacency)"
   ]
  },
  {
   "cell_type": "code",
   "execution_count": 42,
   "id": "18ee50fc-308a-4336-b6df-84dc241f7f7e",
   "metadata": {},
   "outputs": [
    {
     "data": {
      "text/plain": [
       "10251"
      ]
     },
     "execution_count": 42,
     "metadata": {},
     "output_type": "execute_result"
    }
   ],
   "source": [
    "len(np.unique(labels_cc))"
   ]
  },
  {
   "cell_type": "code",
   "execution_count": 48,
   "id": "9da76bb4-fe1c-4fb6-a939-01add3644c78",
   "metadata": {},
   "outputs": [
    {
     "data": {
      "text/plain": [
       "[(0, 4153176),\n",
       " (623, 29),\n",
       " (342, 19),\n",
       " (1772, 17),\n",
       " (1000, 15),\n",
       " (5109, 15),\n",
       " (496, 12),\n",
       " (527, 12),\n",
       " (773, 12),\n",
       " (2433, 12)]"
      ]
     },
     "execution_count": 48,
     "metadata": {},
     "output_type": "execute_result"
    }
   ],
   "source": [
    "sorted(Counter(labels_cc).items(), key=lambda x: x[1], reverse=True)[:10]"
   ]
  },
  {
   "cell_type": "code",
   "execution_count": 34,
   "id": "de4526a0-9a8d-4c62-bff0-3e88c0949586",
   "metadata": {},
   "outputs": [
    {
     "data": {
      "image/svg+xml": [
       "<svg xmlns=\"http://www.w3.org/2000/svg\" width=\"440\" height=\"340\">\n",
       "<path stroke-width=\"1\" stroke=\"black\" d=\"M 189 52 161 76\"/>\n",
       "<path stroke-width=\"1\" stroke=\"black\" d=\"M 191 177 243 189\"/>\n",
       "<path stroke-width=\"1\" stroke=\"black\" d=\"M 217 137 243 189\"/>\n",
       "<path stroke-width=\"1\" stroke=\"black\" d=\"M 323 193 243 189\"/>\n",
       "<path stroke-width=\"1\" stroke=\"black\" d=\"M 179 173 243 189\"/>\n",
       "<path stroke-width=\"1\" stroke=\"black\" d=\"M 265 143 243 189\"/>\n",
       "<path stroke-width=\"1\" stroke=\"black\" d=\"M 214 130 243 189\"/>\n",
       "<path stroke-width=\"1\" stroke=\"black\" d=\"M 322 135 295 97\"/>\n",
       "<path stroke-width=\"1\" stroke=\"black\" d=\"M 322 135 285 106\"/>\n",
       "<path stroke-width=\"1\" stroke=\"black\" d=\"M 322 135 302 121\"/>\n",
       "<path stroke-width=\"1\" stroke=\"black\" d=\"M 322 135 386 164\"/>\n",
       "<path stroke-width=\"1\" stroke=\"black\" d=\"M 318 212 243 189\"/>\n",
       "<path stroke-width=\"1\" stroke=\"black\" d=\"M 322 135 269 101\"/>\n",
       "<path stroke-width=\"1\" stroke=\"black\" d=\"M 295 97 322 135\"/>\n",
       "<path stroke-width=\"1\" stroke=\"black\" d=\"M 285 106 322 135\"/>\n",
       "<path stroke-width=\"1\" stroke=\"black\" d=\"M 302 121 322 135\"/>\n",
       "<path stroke-width=\"1\" stroke=\"black\" d=\"M 386 164 322 135\"/>\n",
       "<path stroke-width=\"1\" stroke=\"black\" d=\"M 269 101 322 135\"/>\n",
       "<path stroke-width=\"1\" stroke=\"black\" d=\"M 349 188 322 135\"/>\n",
       "<path stroke-width=\"1\" stroke=\"black\" d=\"M 247 78 225 52\"/>\n",
       "<path stroke-width=\"1\" stroke=\"black\" d=\"M 247 78 294 85\"/>\n",
       "<path stroke-width=\"1\" stroke=\"black\" d=\"M 225 52 247 78\"/>\n",
       "<path stroke-width=\"1\" stroke=\"black\" d=\"M 294 85 247 78\"/>\n",
       "<path stroke-width=\"1\" stroke=\"black\" d=\"M 322 135 349 188\"/>\n",
       "<path stroke-width=\"1\" stroke=\"black\" d=\"M 344 87 390 113\"/>\n",
       "<path stroke-width=\"1\" stroke=\"black\" d=\"M 249 153 243 189\"/>\n",
       "<path stroke-width=\"1\" stroke=\"black\" d=\"M 211 160 243 189\"/>\n",
       "<path stroke-width=\"1\" stroke=\"black\" d=\"M 212 181 243 189\"/>\n",
       "<path stroke-width=\"1\" stroke=\"black\" d=\"M 186 216 243 189\"/>\n",
       "<path stroke-width=\"1\" stroke=\"black\" d=\"M 279 235 243 189\"/>\n",
       "<path stroke-width=\"1\" stroke=\"black\" d=\"M 266 245 243 189\"/>\n",
       "<path stroke-width=\"1\" stroke=\"black\" d=\"M 192 152 243 189\"/>\n",
       "<path stroke-width=\"1\" stroke=\"black\" d=\"M 174 194 243 189\"/>\n",
       "<path stroke-width=\"1\" stroke=\"black\" d=\"M 278 244 243 189\"/>\n",
       "<path stroke-width=\"1\" stroke=\"black\" d=\"M 237 248 243 189\"/>\n",
       "<path stroke-width=\"1\" stroke=\"black\" d=\"M 316 175 243 189\"/>\n",
       "<path stroke-width=\"1\" stroke=\"black\" d=\"M 227 142 243 189\"/>\n",
       "<path stroke-width=\"1\" stroke=\"black\" d=\"M 164 197 243 189\"/>\n",
       "<path stroke-width=\"1\" stroke=\"black\" d=\"M 292 232 243 189\"/>\n",
       "<path stroke-width=\"1\" stroke=\"black\" d=\"M 296 149 243 189\"/>\n",
       "<path stroke-width=\"1\" stroke=\"black\" d=\"M 206 215 243 189\"/>\n",
       "<path stroke-width=\"1\" stroke=\"black\" d=\"M 298 185 243 189\"/>\n",
       "<path stroke-width=\"1\" stroke=\"black\" d=\"M 176 160 243 189\"/>\n",
       "<path stroke-width=\"1\" stroke=\"black\" d=\"M 311 224 243 189\"/>\n",
       "<path stroke-width=\"1\" stroke=\"black\" d=\"M 315 184 243 189\"/>\n",
       "<path stroke-width=\"1\" stroke=\"black\" d=\"M 244 132 243 189\"/>\n",
       "<path stroke-width=\"1\" stroke=\"black\" d=\"M 253 129 243 189\"/>\n",
       "<path stroke-width=\"1\" stroke=\"black\" d=\"M 217 239 243 189\"/>\n",
       "<path stroke-width=\"1\" stroke=\"black\" d=\"M 179 205 243 189\"/>\n",
       "<path stroke-width=\"1\" stroke=\"black\" d=\"M 314 199 243 189\"/>\n",
       "<path stroke-width=\"1\" stroke=\"black\" d=\"M 194 160 243 189\"/>\n",
       "<path stroke-width=\"1\" stroke=\"black\" d=\"M 344 87 372 125\"/>\n",
       "<path stroke-width=\"1\" stroke=\"black\" d=\"M 344 87 365 41\"/>\n",
       "<path stroke-width=\"1\" stroke=\"black\" d=\"M 161 146 196 194\"/>\n",
       "<path stroke-width=\"1\" stroke=\"black\" d=\"M 266 216 196 194\"/>\n",
       "<path stroke-width=\"1\" stroke=\"black\" d=\"M 213 249 196 194\"/>\n",
       "<path stroke-width=\"1\" stroke=\"black\" d=\"M 187 142 196 194\"/>\n",
       "<path stroke-width=\"1\" stroke=\"black\" d=\"M 190 243 196 194\"/>\n",
       "<path stroke-width=\"1\" stroke=\"black\" d=\"M 170 240 196 194\"/>\n",
       "<path stroke-width=\"1\" stroke=\"black\" d=\"M 258 212 196 194\"/>\n",
       "<path stroke-width=\"1\" stroke=\"black\" d=\"M 224 230 196 194\"/>\n",
       "<path stroke-width=\"1\" stroke=\"black\" d=\"M 244 184 196 194\"/>\n",
       "<path stroke-width=\"1\" stroke=\"black\" d=\"M 268 168 196 194\"/>\n",
       "<path stroke-width=\"1\" stroke=\"black\" d=\"M 136 218 196 194\"/>\n",
       "<path stroke-width=\"1\" stroke=\"black\" d=\"M 121 183 196 194\"/>\n",
       "<path stroke-width=\"1\" stroke=\"black\" d=\"M 133 262 187 295\"/>\n",
       "<path stroke-width=\"1\" stroke=\"black\" d=\"M 133 262 82 226\"/>\n",
       "<path stroke-width=\"1\" stroke=\"black\" d=\"M 187 295 133 262\"/>\n",
       "<path stroke-width=\"1\" stroke=\"black\" d=\"M 82 226 133 262\"/>\n",
       "<path stroke-width=\"1\" stroke=\"black\" d=\"M 385 177 420 181\"/>\n",
       "<path stroke-width=\"1\" stroke=\"black\" d=\"M 420 181 385 177\"/>\n",
       "<path stroke-width=\"1\" stroke=\"black\" d=\"M 80 281 143 288\"/>\n",
       "<path stroke-width=\"1\" stroke=\"black\" d=\"M 80 281 20 253\"/>\n",
       "<path stroke-width=\"1\" stroke=\"black\" d=\"M 80 281 91 320\"/>\n",
       "<path stroke-width=\"1\" stroke=\"black\" d=\"M 143 288 80 281\"/>\n",
       "<path stroke-width=\"1\" stroke=\"black\" d=\"M 137 161 196 194\"/>\n",
       "<path stroke-width=\"1\" stroke=\"black\" d=\"M 344 87 335 49\"/>\n",
       "<path stroke-width=\"1\" stroke=\"black\" d=\"M 228 167 196 194\"/>\n",
       "<path stroke-width=\"1\" stroke=\"black\" d=\"M 196 194 137 161\"/>\n",
       "<path stroke-width=\"1\" stroke=\"black\" d=\"M 344 87 347 135\"/>\n",
       "<path stroke-width=\"1\" stroke=\"black\" d=\"M 344 87 273 68\"/>\n",
       "<path stroke-width=\"1\" stroke=\"black\" d=\"M 390 113 344 87\"/>\n",
       "<path stroke-width=\"1\" stroke=\"black\" d=\"M 372 125 344 87\"/>\n",
       "<path stroke-width=\"1\" stroke=\"black\" d=\"M 335 49 344 87\"/>\n",
       "<path stroke-width=\"1\" stroke=\"black\" d=\"M 365 41 344 87\"/>\n",
       "<path stroke-width=\"1\" stroke=\"black\" d=\"M 347 135 344 87\"/>\n",
       "<path stroke-width=\"1\" stroke=\"black\" d=\"M 273 68 344 87\"/>\n",
       "<path stroke-width=\"1\" stroke=\"black\" d=\"M 196 194 143 151\"/>\n",
       "<path stroke-width=\"1\" stroke=\"black\" d=\"M 196 194 228 167\"/>\n",
       "<path stroke-width=\"1\" stroke=\"black\" d=\"M 143 151 196 194\"/>\n",
       "<path stroke-width=\"1\" stroke=\"black\" d=\"M 196 194 136 218\"/>\n",
       "<path stroke-width=\"1\" stroke=\"black\" d=\"M 196 194 266 216\"/>\n",
       "<path stroke-width=\"1\" stroke=\"black\" d=\"M 196 194 213 249\"/>\n",
       "<path stroke-width=\"1\" stroke=\"black\" d=\"M 196 194 187 142\"/>\n",
       "<path stroke-width=\"1\" stroke=\"black\" d=\"M 196 194 190 243\"/>\n",
       "<path stroke-width=\"1\" stroke=\"black\" d=\"M 196 194 170 240\"/>\n",
       "<path stroke-width=\"1\" stroke=\"black\" d=\"M 196 194 258 212\"/>\n",
       "<path stroke-width=\"1\" stroke=\"black\" d=\"M 196 194 224 230\"/>\n",
       "<path stroke-width=\"1\" stroke=\"black\" d=\"M 196 194 244 184\"/>\n",
       "<path stroke-width=\"1\" stroke=\"black\" d=\"M 196 194 268 168\"/>\n",
       "<path stroke-width=\"1\" stroke=\"black\" d=\"M 196 194 121 183\"/>\n",
       "<path stroke-width=\"1\" stroke=\"black\" d=\"M 196 194 161 146\"/>\n",
       "<path stroke-width=\"1\" stroke=\"black\" d=\"M 170 184 243 189\"/>\n",
       "<path stroke-width=\"1\" stroke=\"black\" d=\"M 239 198 243 189\"/>\n",
       "<path stroke-width=\"1\" stroke=\"black\" d=\"M 240 237 243 189\"/>\n",
       "<path stroke-width=\"1\" stroke=\"black\" d=\"M 359 302 344 253\"/>\n",
       "<path stroke-width=\"1\" stroke=\"black\" d=\"M 81 155 127 125\"/>\n",
       "<path stroke-width=\"1\" stroke=\"black\" d=\"M 81 155 146 174\"/>\n",
       "<path stroke-width=\"1\" stroke=\"black\" d=\"M 81 155 63 123\"/>\n",
       "<path stroke-width=\"1\" stroke=\"black\" d=\"M 81 155 35 127\"/>\n",
       "<path stroke-width=\"1\" stroke=\"black\" d=\"M 81 155 20 149\"/>\n",
       "<path stroke-width=\"1\" stroke=\"black\" d=\"M 81 155 77 147\"/>\n",
       "<path stroke-width=\"1\" stroke=\"black\" d=\"M 81 155 97 183\"/>\n",
       "<path stroke-width=\"1\" stroke=\"black\" d=\"M 81 155 66 209\"/>\n",
       "<path stroke-width=\"1\" stroke=\"black\" d=\"M 81 155 97 122\"/>\n",
       "<path stroke-width=\"1\" stroke=\"black\" d=\"M 376 209 344 253\"/>\n",
       "<path stroke-width=\"1\" stroke=\"black\" d=\"M 127 125 81 155\"/>\n",
       "<path stroke-width=\"1\" stroke=\"black\" d=\"M 63 123 81 155\"/>\n",
       "<path stroke-width=\"1\" stroke=\"black\" d=\"M 35 127 81 155\"/>\n",
       "<path stroke-width=\"1\" stroke=\"black\" d=\"M 20 149 81 155\"/>\n",
       "<path stroke-width=\"1\" stroke=\"black\" d=\"M 77 147 81 155\"/>\n",
       "<path stroke-width=\"1\" stroke=\"black\" d=\"M 97 183 81 155\"/>\n",
       "<path stroke-width=\"1\" stroke=\"black\" d=\"M 66 209 81 155\"/>\n",
       "<path stroke-width=\"1\" stroke=\"black\" d=\"M 97 122 81 155\"/>\n",
       "<path stroke-width=\"1\" stroke=\"black\" d=\"M 345 98 377 78\"/>\n",
       "<path stroke-width=\"1\" stroke=\"black\" d=\"M 345 98 322 107\"/>\n",
       "<path stroke-width=\"1\" stroke=\"black\" d=\"M 345 98 402 96\"/>\n",
       "<path stroke-width=\"1\" stroke=\"black\" d=\"M 146 174 81 155\"/>\n",
       "<path stroke-width=\"1\" stroke=\"black\" d=\"M 345 98 332 66\"/>\n",
       "<path stroke-width=\"1\" stroke=\"black\" d=\"M 401 271 344 253\"/>\n",
       "<path stroke-width=\"1\" stroke=\"black\" d=\"M 297 216 344 253\"/>\n",
       "<path stroke-width=\"1\" stroke=\"black\" d=\"M 189 52 247 20\"/>\n",
       "<path stroke-width=\"1\" stroke=\"black\" d=\"M 189 52 239 23\"/>\n",
       "<path stroke-width=\"1\" stroke=\"black\" d=\"M 189 52 146 80\"/>\n",
       "<path stroke-width=\"1\" stroke=\"black\" d=\"M 189 52 131 80\"/>\n",
       "<path stroke-width=\"1\" stroke=\"black\" d=\"M 161 76 189 52\"/>\n",
       "<path stroke-width=\"1\" stroke=\"black\" d=\"M 247 20 189 52\"/>\n",
       "<path stroke-width=\"1\" stroke=\"black\" d=\"M 239 23 189 52\"/>\n",
       "<path stroke-width=\"1\" stroke=\"black\" d=\"M 146 80 189 52\"/>\n",
       "<path stroke-width=\"1\" stroke=\"black\" d=\"M 131 80 189 52\"/>\n",
       "<path stroke-width=\"1\" stroke=\"black\" d=\"M 344 253 286 282\"/>\n",
       "<path stroke-width=\"1\" stroke=\"black\" d=\"M 272 277 344 253\"/>\n",
       "<path stroke-width=\"1\" stroke=\"black\" d=\"M 344 253 396 282\"/>\n",
       "<path stroke-width=\"1\" stroke=\"black\" d=\"M 344 253 385 227\"/>\n",
       "<path stroke-width=\"1\" stroke=\"black\" d=\"M 344 253 297 216\"/>\n",
       "<path stroke-width=\"1\" stroke=\"black\" d=\"M 344 253 272 277\"/>\n",
       "<path stroke-width=\"1\" stroke=\"black\" d=\"M 344 253 401 271\"/>\n",
       "<path stroke-width=\"1\" stroke=\"black\" d=\"M 344 253 376 209\"/>\n",
       "<path stroke-width=\"1\" stroke=\"black\" d=\"M 344 253 359 302\"/>\n",
       "<path stroke-width=\"1\" stroke=\"black\" d=\"M 286 282 344 253\"/>\n",
       "<path stroke-width=\"1\" stroke=\"black\" d=\"M 396 282 344 253\"/>\n",
       "<path stroke-width=\"1\" stroke=\"black\" d=\"M 357 199 344 253\"/>\n",
       "<path stroke-width=\"1\" stroke=\"black\" d=\"M 385 227 344 253\"/>\n",
       "<path stroke-width=\"1\" stroke=\"black\" d=\"M 344 253 357 199\"/>\n",
       "<path stroke-width=\"1\" stroke=\"black\" d=\"M 345 98 296 60\"/>\n",
       "<path stroke-width=\"1\" stroke=\"black\" d=\"M 345 98 316 58\"/>\n",
       "<path stroke-width=\"1\" stroke=\"black\" d=\"M 345 98 316 154\"/>\n",
       "<path stroke-width=\"1\" stroke=\"black\" d=\"M 243 189 296 149\"/>\n",
       "<path stroke-width=\"1\" stroke=\"black\" d=\"M 243 189 206 215\"/>\n",
       "<path stroke-width=\"1\" stroke=\"black\" d=\"M 243 189 298 185\"/>\n",
       "<path stroke-width=\"1\" stroke=\"black\" d=\"M 243 189 176 160\"/>\n",
       "<path stroke-width=\"1\" stroke=\"black\" d=\"M 243 189 311 224\"/>\n",
       "<path stroke-width=\"1\" stroke=\"black\" d=\"M 243 189 315 184\"/>\n",
       "<path stroke-width=\"1\" stroke=\"black\" d=\"M 243 189 244 132\"/>\n",
       "<path stroke-width=\"1\" stroke=\"black\" d=\"M 243 189 253 129\"/>\n",
       "<path stroke-width=\"1\" stroke=\"black\" d=\"M 243 189 217 239\"/>\n",
       "<path stroke-width=\"1\" stroke=\"black\" d=\"M 243 189 179 205\"/>\n",
       "<path stroke-width=\"1\" stroke=\"black\" d=\"M 243 189 314 199\"/>\n",
       "<path stroke-width=\"1\" stroke=\"black\" d=\"M 243 189 211 160\"/>\n",
       "<path stroke-width=\"1\" stroke=\"black\" d=\"M 243 189 249 153\"/>\n",
       "<path stroke-width=\"1\" stroke=\"black\" d=\"M 243 189 318 212\"/>\n",
       "<path stroke-width=\"1\" stroke=\"black\" d=\"M 243 189 191 177\"/>\n",
       "<path stroke-width=\"1\" stroke=\"black\" d=\"M 243 189 217 137\"/>\n",
       "<path stroke-width=\"1\" stroke=\"black\" d=\"M 243 189 323 193\"/>\n",
       "<path stroke-width=\"1\" stroke=\"black\" d=\"M 243 189 179 173\"/>\n",
       "<path stroke-width=\"1\" stroke=\"black\" d=\"M 243 189 265 143\"/>\n",
       "<path stroke-width=\"1\" stroke=\"black\" d=\"M 243 189 214 130\"/>\n",
       "<path stroke-width=\"1\" stroke=\"black\" d=\"M 193 191 243 189\"/>\n",
       "<path stroke-width=\"1\" stroke=\"black\" d=\"M 307 216 243 189\"/>\n",
       "<path stroke-width=\"1\" stroke=\"black\" d=\"M 243 189 164 197\"/>\n",
       "<path stroke-width=\"1\" stroke=\"black\" d=\"M 243 189 292 232\"/>\n",
       "<path stroke-width=\"1\" stroke=\"black\" d=\"M 243 189 227 142\"/>\n",
       "<path stroke-width=\"1\" stroke=\"black\" d=\"M 243 189 316 175\"/>\n",
       "<path stroke-width=\"1\" stroke=\"black\" d=\"M 345 98 396 131\"/>\n",
       "<path stroke-width=\"1\" stroke=\"black\" d=\"M 377 78 345 98\"/>\n",
       "<path stroke-width=\"1\" stroke=\"black\" d=\"M 322 107 345 98\"/>\n",
       "<path stroke-width=\"1\" stroke=\"black\" d=\"M 402 96 345 98\"/>\n",
       "<path stroke-width=\"1\" stroke=\"black\" d=\"M 332 66 345 98\"/>\n",
       "<path stroke-width=\"1\" stroke=\"black\" d=\"M 296 60 345 98\"/>\n",
       "<path stroke-width=\"1\" stroke=\"black\" d=\"M 316 58 345 98\"/>\n",
       "<path stroke-width=\"1\" stroke=\"black\" d=\"M 316 154 345 98\"/>\n",
       "<path stroke-width=\"1\" stroke=\"black\" d=\"M 396 131 345 98\"/>\n",
       "<path stroke-width=\"1\" stroke=\"black\" d=\"M 243 189 193 191\"/>\n",
       "<path stroke-width=\"1\" stroke=\"black\" d=\"M 243 189 307 216\"/>\n",
       "<path stroke-width=\"1\" stroke=\"black\" d=\"M 243 189 240 237\"/>\n",
       "<path stroke-width=\"1\" stroke=\"black\" d=\"M 243 189 239 198\"/>\n",
       "<path stroke-width=\"1\" stroke=\"black\" d=\"M 243 189 170 184\"/>\n",
       "<path stroke-width=\"1\" stroke=\"black\" d=\"M 243 189 194 160\"/>\n",
       "<path stroke-width=\"1\" stroke=\"black\" d=\"M 243 189 212 181\"/>\n",
       "<path stroke-width=\"1\" stroke=\"black\" d=\"M 243 189 186 216\"/>\n",
       "<path stroke-width=\"1\" stroke=\"black\" d=\"M 243 189 279 235\"/>\n",
       "<path stroke-width=\"1\" stroke=\"black\" d=\"M 243 189 266 245\"/>\n",
       "<path stroke-width=\"1\" stroke=\"black\" d=\"M 243 189 192 152\"/>\n",
       "<path stroke-width=\"1\" stroke=\"black\" d=\"M 243 189 174 194\"/>\n",
       "<path stroke-width=\"1\" stroke=\"black\" d=\"M 243 189 278 244\"/>\n",
       "<path stroke-width=\"1\" stroke=\"black\" d=\"M 243 189 237 248\"/>\n",
       "<path stroke-width=\"1\" stroke=\"black\" d=\"M 20 253 80 281\"/>\n",
       "<path stroke-width=\"1\" stroke=\"black\" d=\"M 91 320 80 281\"/>\n",
       "<circle cx=\"189\" cy=\"52\" r=\"7.0\" style=\"fill:gray;stroke:black;stroke-width:1.0\"/>\n",
       "<circle cx=\"161\" cy=\"76\" r=\"7.0\" style=\"fill:gray;stroke:black;stroke-width:1.0\"/>\n",
       "<circle cx=\"247\" cy=\"20\" r=\"7.0\" style=\"fill:gray;stroke:black;stroke-width:1.0\"/>\n",
       "<circle cx=\"239\" cy=\"23\" r=\"7.0\" style=\"fill:gray;stroke:black;stroke-width:1.0\"/>\n",
       "<circle cx=\"146\" cy=\"80\" r=\"7.0\" style=\"fill:gray;stroke:black;stroke-width:1.0\"/>\n",
       "<circle cx=\"131\" cy=\"80\" r=\"7.0\" style=\"fill:gray;stroke:black;stroke-width:1.0\"/>\n",
       "<circle cx=\"344\" cy=\"253\" r=\"7.0\" style=\"fill:gray;stroke:black;stroke-width:1.0\"/>\n",
       "<circle cx=\"286\" cy=\"282\" r=\"7.0\" style=\"fill:gray;stroke:black;stroke-width:1.0\"/>\n",
       "<circle cx=\"396\" cy=\"282\" r=\"7.0\" style=\"fill:gray;stroke:black;stroke-width:1.0\"/>\n",
       "<circle cx=\"357\" cy=\"199\" r=\"7.0\" style=\"fill:gray;stroke:black;stroke-width:1.0\"/>\n",
       "<circle cx=\"385\" cy=\"227\" r=\"7.0\" style=\"fill:gray;stroke:black;stroke-width:1.0\"/>\n",
       "<circle cx=\"297\" cy=\"216\" r=\"7.0\" style=\"fill:gray;stroke:black;stroke-width:1.0\"/>\n",
       "<circle cx=\"272\" cy=\"277\" r=\"7.0\" style=\"fill:gray;stroke:black;stroke-width:1.0\"/>\n",
       "<circle cx=\"401\" cy=\"271\" r=\"7.0\" style=\"fill:gray;stroke:black;stroke-width:1.0\"/>\n",
       "<circle cx=\"376\" cy=\"209\" r=\"7.0\" style=\"fill:gray;stroke:black;stroke-width:1.0\"/>\n",
       "<circle cx=\"359\" cy=\"302\" r=\"7.0\" style=\"fill:gray;stroke:black;stroke-width:1.0\"/>\n",
       "<circle cx=\"81\" cy=\"155\" r=\"7.0\" style=\"fill:gray;stroke:black;stroke-width:1.0\"/>\n",
       "<circle cx=\"127\" cy=\"125\" r=\"7.0\" style=\"fill:gray;stroke:black;stroke-width:1.0\"/>\n",
       "<circle cx=\"146\" cy=\"174\" r=\"7.0\" style=\"fill:gray;stroke:black;stroke-width:1.0\"/>\n",
       "<circle cx=\"63\" cy=\"123\" r=\"7.0\" style=\"fill:gray;stroke:black;stroke-width:1.0\"/>\n",
       "<circle cx=\"35\" cy=\"127\" r=\"7.0\" style=\"fill:gray;stroke:black;stroke-width:1.0\"/>\n",
       "<circle cx=\"20\" cy=\"149\" r=\"7.0\" style=\"fill:gray;stroke:black;stroke-width:1.0\"/>\n",
       "<circle cx=\"77\" cy=\"147\" r=\"7.0\" style=\"fill:gray;stroke:black;stroke-width:1.0\"/>\n",
       "<circle cx=\"97\" cy=\"183\" r=\"7.0\" style=\"fill:gray;stroke:black;stroke-width:1.0\"/>\n",
       "<circle cx=\"66\" cy=\"209\" r=\"7.0\" style=\"fill:gray;stroke:black;stroke-width:1.0\"/>\n",
       "<circle cx=\"97\" cy=\"122\" r=\"7.0\" style=\"fill:gray;stroke:black;stroke-width:1.0\"/>\n",
       "<circle cx=\"345\" cy=\"98\" r=\"7.0\" style=\"fill:gray;stroke:black;stroke-width:1.0\"/>\n",
       "<circle cx=\"377\" cy=\"78\" r=\"7.0\" style=\"fill:gray;stroke:black;stroke-width:1.0\"/>\n",
       "<circle cx=\"322\" cy=\"107\" r=\"7.0\" style=\"fill:gray;stroke:black;stroke-width:1.0\"/>\n",
       "<circle cx=\"402\" cy=\"96\" r=\"7.0\" style=\"fill:gray;stroke:black;stroke-width:1.0\"/>\n",
       "<circle cx=\"332\" cy=\"66\" r=\"7.0\" style=\"fill:gray;stroke:black;stroke-width:1.0\"/>\n",
       "<circle cx=\"296\" cy=\"60\" r=\"7.0\" style=\"fill:gray;stroke:black;stroke-width:1.0\"/>\n",
       "<circle cx=\"316\" cy=\"58\" r=\"7.0\" style=\"fill:gray;stroke:black;stroke-width:1.0\"/>\n",
       "<circle cx=\"316\" cy=\"154\" r=\"7.0\" style=\"fill:gray;stroke:black;stroke-width:1.0\"/>\n",
       "<circle cx=\"396\" cy=\"131\" r=\"7.0\" style=\"fill:gray;stroke:black;stroke-width:1.0\"/>\n",
       "<circle cx=\"243\" cy=\"189\" r=\"7.0\" style=\"fill:gray;stroke:black;stroke-width:1.0\"/>\n",
       "<circle cx=\"193\" cy=\"191\" r=\"7.0\" style=\"fill:gray;stroke:black;stroke-width:1.0\"/>\n",
       "<circle cx=\"307\" cy=\"216\" r=\"7.0\" style=\"fill:gray;stroke:black;stroke-width:1.0\"/>\n",
       "<circle cx=\"240\" cy=\"237\" r=\"7.0\" style=\"fill:gray;stroke:black;stroke-width:1.0\"/>\n",
       "<circle cx=\"239\" cy=\"198\" r=\"7.0\" style=\"fill:gray;stroke:black;stroke-width:1.0\"/>\n",
       "<circle cx=\"170\" cy=\"184\" r=\"7.0\" style=\"fill:gray;stroke:black;stroke-width:1.0\"/>\n",
       "<circle cx=\"194\" cy=\"160\" r=\"7.0\" style=\"fill:gray;stroke:black;stroke-width:1.0\"/>\n",
       "<circle cx=\"212\" cy=\"181\" r=\"7.0\" style=\"fill:gray;stroke:black;stroke-width:1.0\"/>\n",
       "<circle cx=\"186\" cy=\"216\" r=\"7.0\" style=\"fill:gray;stroke:black;stroke-width:1.0\"/>\n",
       "<circle cx=\"279\" cy=\"235\" r=\"7.0\" style=\"fill:gray;stroke:black;stroke-width:1.0\"/>\n",
       "<circle cx=\"266\" cy=\"245\" r=\"7.0\" style=\"fill:gray;stroke:black;stroke-width:1.0\"/>\n",
       "<circle cx=\"192\" cy=\"152\" r=\"7.0\" style=\"fill:gray;stroke:black;stroke-width:1.0\"/>\n",
       "<circle cx=\"174\" cy=\"194\" r=\"7.0\" style=\"fill:gray;stroke:black;stroke-width:1.0\"/>\n",
       "<circle cx=\"278\" cy=\"244\" r=\"7.0\" style=\"fill:gray;stroke:black;stroke-width:1.0\"/>\n",
       "<circle cx=\"237\" cy=\"248\" r=\"7.0\" style=\"fill:gray;stroke:black;stroke-width:1.0\"/>\n",
       "<circle cx=\"316\" cy=\"175\" r=\"7.0\" style=\"fill:gray;stroke:black;stroke-width:1.0\"/>\n",
       "<circle cx=\"227\" cy=\"142\" r=\"7.0\" style=\"fill:gray;stroke:black;stroke-width:1.0\"/>\n",
       "<circle cx=\"292\" cy=\"232\" r=\"7.0\" style=\"fill:gray;stroke:black;stroke-width:1.0\"/>\n",
       "<circle cx=\"314\" cy=\"199\" r=\"7.0\" style=\"fill:gray;stroke:black;stroke-width:1.0\"/>\n",
       "<circle cx=\"296\" cy=\"149\" r=\"7.0\" style=\"fill:gray;stroke:black;stroke-width:1.0\"/>\n",
       "<circle cx=\"206\" cy=\"215\" r=\"7.0\" style=\"fill:gray;stroke:black;stroke-width:1.0\"/>\n",
       "<circle cx=\"298\" cy=\"185\" r=\"7.0\" style=\"fill:gray;stroke:black;stroke-width:1.0\"/>\n",
       "<circle cx=\"176\" cy=\"160\" r=\"7.0\" style=\"fill:gray;stroke:black;stroke-width:1.0\"/>\n",
       "<circle cx=\"311\" cy=\"224\" r=\"7.0\" style=\"fill:gray;stroke:black;stroke-width:1.0\"/>\n",
       "<circle cx=\"315\" cy=\"184\" r=\"7.0\" style=\"fill:gray;stroke:black;stroke-width:1.0\"/>\n",
       "<circle cx=\"244\" cy=\"132\" r=\"7.0\" style=\"fill:gray;stroke:black;stroke-width:1.0\"/>\n",
       "<circle cx=\"253\" cy=\"129\" r=\"7.0\" style=\"fill:gray;stroke:black;stroke-width:1.0\"/>\n",
       "<circle cx=\"217\" cy=\"239\" r=\"7.0\" style=\"fill:gray;stroke:black;stroke-width:1.0\"/>\n",
       "<circle cx=\"179\" cy=\"205\" r=\"7.0\" style=\"fill:gray;stroke:black;stroke-width:1.0\"/>\n",
       "<circle cx=\"211\" cy=\"160\" r=\"7.0\" style=\"fill:gray;stroke:black;stroke-width:1.0\"/>\n",
       "<circle cx=\"164\" cy=\"197\" r=\"7.0\" style=\"fill:gray;stroke:black;stroke-width:1.0\"/>\n",
       "<circle cx=\"249\" cy=\"153\" r=\"7.0\" style=\"fill:gray;stroke:black;stroke-width:1.0\"/>\n",
       "<circle cx=\"318\" cy=\"212\" r=\"7.0\" style=\"fill:gray;stroke:black;stroke-width:1.0\"/>\n",
       "<circle cx=\"191\" cy=\"177\" r=\"7.0\" style=\"fill:gray;stroke:black;stroke-width:1.0\"/>\n",
       "<circle cx=\"217\" cy=\"137\" r=\"7.0\" style=\"fill:gray;stroke:black;stroke-width:1.0\"/>\n",
       "<circle cx=\"323\" cy=\"193\" r=\"7.0\" style=\"fill:gray;stroke:black;stroke-width:1.0\"/>\n",
       "<circle cx=\"179\" cy=\"173\" r=\"7.0\" style=\"fill:gray;stroke:black;stroke-width:1.0\"/>\n",
       "<circle cx=\"265\" cy=\"143\" r=\"7.0\" style=\"fill:gray;stroke:black;stroke-width:1.0\"/>\n",
       "<circle cx=\"214\" cy=\"130\" r=\"7.0\" style=\"fill:gray;stroke:black;stroke-width:1.0\"/>\n",
       "<circle cx=\"322\" cy=\"135\" r=\"7.0\" style=\"fill:gray;stroke:black;stroke-width:1.0\"/>\n",
       "<circle cx=\"295\" cy=\"97\" r=\"7.0\" style=\"fill:gray;stroke:black;stroke-width:1.0\"/>\n",
       "<circle cx=\"285\" cy=\"106\" r=\"7.0\" style=\"fill:gray;stroke:black;stroke-width:1.0\"/>\n",
       "<circle cx=\"302\" cy=\"121\" r=\"7.0\" style=\"fill:gray;stroke:black;stroke-width:1.0\"/>\n",
       "<circle cx=\"386\" cy=\"164\" r=\"7.0\" style=\"fill:gray;stroke:black;stroke-width:1.0\"/>\n",
       "<circle cx=\"269\" cy=\"101\" r=\"7.0\" style=\"fill:gray;stroke:black;stroke-width:1.0\"/>\n",
       "<circle cx=\"349\" cy=\"188\" r=\"7.0\" style=\"fill:gray;stroke:black;stroke-width:1.0\"/>\n",
       "<circle cx=\"247\" cy=\"78\" r=\"7.0\" style=\"fill:gray;stroke:black;stroke-width:1.0\"/>\n",
       "<circle cx=\"225\" cy=\"52\" r=\"7.0\" style=\"fill:gray;stroke:black;stroke-width:1.0\"/>\n",
       "<circle cx=\"294\" cy=\"85\" r=\"7.0\" style=\"fill:gray;stroke:black;stroke-width:1.0\"/>\n",
       "<circle cx=\"344\" cy=\"87\" r=\"7.0\" style=\"fill:gray;stroke:black;stroke-width:1.0\"/>\n",
       "<circle cx=\"390\" cy=\"113\" r=\"7.0\" style=\"fill:gray;stroke:black;stroke-width:1.0\"/>\n",
       "<circle cx=\"372\" cy=\"125\" r=\"7.0\" style=\"fill:gray;stroke:black;stroke-width:1.0\"/>\n",
       "<circle cx=\"335\" cy=\"49\" r=\"7.0\" style=\"fill:gray;stroke:black;stroke-width:1.0\"/>\n",
       "<circle cx=\"365\" cy=\"41\" r=\"7.0\" style=\"fill:gray;stroke:black;stroke-width:1.0\"/>\n",
       "<circle cx=\"347\" cy=\"135\" r=\"7.0\" style=\"fill:gray;stroke:black;stroke-width:1.0\"/>\n",
       "<circle cx=\"273\" cy=\"68\" r=\"7.0\" style=\"fill:gray;stroke:black;stroke-width:1.0\"/>\n",
       "<circle cx=\"196\" cy=\"194\" r=\"7.0\" style=\"fill:gray;stroke:black;stroke-width:1.0\"/>\n",
       "<circle cx=\"143\" cy=\"151\" r=\"7.0\" style=\"fill:gray;stroke:black;stroke-width:1.0\"/>\n",
       "<circle cx=\"228\" cy=\"167\" r=\"7.0\" style=\"fill:gray;stroke:black;stroke-width:1.0\"/>\n",
       "<circle cx=\"136\" cy=\"218\" r=\"7.0\" style=\"fill:gray;stroke:black;stroke-width:1.0\"/>\n",
       "<circle cx=\"161\" cy=\"146\" r=\"7.0\" style=\"fill:gray;stroke:black;stroke-width:1.0\"/>\n",
       "<circle cx=\"266\" cy=\"216\" r=\"7.0\" style=\"fill:gray;stroke:black;stroke-width:1.0\"/>\n",
       "<circle cx=\"213\" cy=\"249\" r=\"7.0\" style=\"fill:gray;stroke:black;stroke-width:1.0\"/>\n",
       "<circle cx=\"187\" cy=\"142\" r=\"7.0\" style=\"fill:gray;stroke:black;stroke-width:1.0\"/>\n",
       "<circle cx=\"190\" cy=\"243\" r=\"7.0\" style=\"fill:gray;stroke:black;stroke-width:1.0\"/>\n",
       "<circle cx=\"170\" cy=\"240\" r=\"7.0\" style=\"fill:gray;stroke:black;stroke-width:1.0\"/>\n",
       "<circle cx=\"258\" cy=\"212\" r=\"7.0\" style=\"fill:gray;stroke:black;stroke-width:1.0\"/>\n",
       "<circle cx=\"224\" cy=\"230\" r=\"7.0\" style=\"fill:gray;stroke:black;stroke-width:1.0\"/>\n",
       "<circle cx=\"244\" cy=\"184\" r=\"7.0\" style=\"fill:gray;stroke:black;stroke-width:1.0\"/>\n",
       "<circle cx=\"268\" cy=\"168\" r=\"7.0\" style=\"fill:gray;stroke:black;stroke-width:1.0\"/>\n",
       "<circle cx=\"121\" cy=\"183\" r=\"7.0\" style=\"fill:gray;stroke:black;stroke-width:1.0\"/>\n",
       "<circle cx=\"137\" cy=\"161\" r=\"7.0\" style=\"fill:gray;stroke:black;stroke-width:1.0\"/>\n",
       "<circle cx=\"133\" cy=\"262\" r=\"7.0\" style=\"fill:gray;stroke:black;stroke-width:1.0\"/>\n",
       "<circle cx=\"187\" cy=\"295\" r=\"7.0\" style=\"fill:gray;stroke:black;stroke-width:1.0\"/>\n",
       "<circle cx=\"82\" cy=\"226\" r=\"7.0\" style=\"fill:gray;stroke:black;stroke-width:1.0\"/>\n",
       "<circle cx=\"385\" cy=\"177\" r=\"7.0\" style=\"fill:gray;stroke:black;stroke-width:1.0\"/>\n",
       "<circle cx=\"420\" cy=\"181\" r=\"7.0\" style=\"fill:gray;stroke:black;stroke-width:1.0\"/>\n",
       "<circle cx=\"80\" cy=\"281\" r=\"7.0\" style=\"fill:gray;stroke:black;stroke-width:1.0\"/>\n",
       "<circle cx=\"143\" cy=\"288\" r=\"7.0\" style=\"fill:gray;stroke:black;stroke-width:1.0\"/>\n",
       "<circle cx=\"20\" cy=\"253\" r=\"7.0\" style=\"fill:gray;stroke:black;stroke-width:1.0\"/>\n",
       "<circle cx=\"91\" cy=\"320\" r=\"7.0\" style=\"fill:gray;stroke:black;stroke-width:1.0\"/>\n",
       "</svg>"
      ],
      "text/plain": [
       "<IPython.core.display.SVG object>"
      ]
     },
     "execution_count": 34,
     "metadata": {},
     "output_type": "execute_result"
    }
   ],
   "source": [
    "SVG(svg_graph(graph))"
   ]
  },
  {
   "cell_type": "markdown",
   "id": "53356c30-c90c-474b-9578-c1c1c07b5aa3",
   "metadata": {},
   "source": [
    "## Save data"
   ]
  },
  {
   "cell_type": "code",
   "execution_count": 106,
   "id": "458ec2e0-f899-4b30-bff1-7217073db622",
   "metadata": {},
   "outputs": [
    {
     "data": {
      "text/plain": [
       "array(['As', 'process', 'variations', 'become', 'a', 'significant',\n",
       "       'problem', 'in', 'deep', 'submicron'], dtype='<U3992')"
      ]
     },
     "execution_count": 106,
     "metadata": {},
     "output_type": "execute_result"
    }
   ],
   "source": [
    "names_col = np.array(list(words2idx.keys()))\n",
    "names = "
   ]
  },
  {
   "cell_type": "code",
   "execution_count": null,
   "id": "c49eaf4b-4781-429c-b8a5-1df380d0b28e",
   "metadata": {},
   "outputs": [],
   "source": [
    "dataset = Bunch()\n",
    "dataset.adjacency = adjacency\n",
    "dataset.biadjacency = biadjacency\n",
    "dataset.names = names\n",
    "dataset.names_col = names_col\n",
    "\n",
    "meta = Bunch()\n",
    "meta.name = \"Baboon\\'s interactions on 13/06/2019.\"\n",
    "meta.description = 'Links connecting baboons between each other if they interacted at least once on 13/06/2019.'\n",
    "meta.source = 'http://www.sociopatterns.org/datasets/baboons-interactions/'\n",
    "meta.date = 'October 2022'\n",
    "dataset.meta = meta"
   ]
  }
 ],
 "metadata": {
  "kernelspec": {
   "display_name": "COMEG",
   "language": "python",
   "name": "comeg"
  },
  "language_info": {
   "codemirror_mode": {
    "name": "ipython",
    "version": 3
   },
   "file_extension": ".py",
   "mimetype": "text/x-python",
   "name": "python",
   "nbconvert_exporter": "python",
   "pygments_lexer": "ipython3",
   "version": "3.9.13"
  }
 },
 "nbformat": 4,
 "nbformat_minor": 5
}
