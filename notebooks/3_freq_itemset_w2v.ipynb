{
 "cells": [
  {
   "cell_type": "markdown",
   "metadata": {
    "colab_type": "text",
    "id": "EVF3pGa35Az-"
   },
   "source": [
    "# Formal concept analysis"
   ]
  },
  {
   "cell_type": "markdown",
   "metadata": {},
   "source": [
    "We apply FCA to Wikivitals to find relevant set of words (= concepts) shared by groups of articles."
   ]
  },
  {
   "cell_type": "markdown",
   "metadata": {},
   "source": [
    "## Import"
   ]
  },
  {
   "cell_type": "code",
   "execution_count": 1,
   "metadata": {
    "colab": {
     "base_uri": "https://localhost:8080/",
     "height": 51
    },
    "colab_type": "code",
    "executionInfo": {
     "elapsed": 1863,
     "status": "ok",
     "timestamp": 1576524912882,
     "user": {
      "displayName": "Pascal Bianchi",
      "photoUrl": "",
      "userId": "14431080439002320783"
     },
     "user_tz": -60
    },
    "id": "mi5Map_q5Az_",
    "outputId": "0434e570-719b-4e48-ac1d-611659e0b7c5"
   },
   "outputs": [],
   "source": [
    "from collections import Counter\n",
    "import matplotlib.pyplot as plt\n",
    "import numpy as np\n",
    "from pulp import *\n",
    "from scipy import sparse"
   ]
  },
  {
   "cell_type": "code",
   "execution_count": 2,
   "metadata": {},
   "outputs": [],
   "source": [
    "from sknetwork.data import load_netset\n",
    "from sknetwork.utils import get_degrees, get_membership\n",
    "from sknetwork.ranking import top_k"
   ]
  },
  {
   "cell_type": "code",
   "execution_count": 75,
   "metadata": {},
   "outputs": [],
   "source": [
    "# Plot degree distribution\n",
    "def plot_distrib(dict_values, ax, xlabel='degree', log=True, title=None, color='blue', alpha=1, label='Degree distribution'):\n",
    "    #values = [v for k, v in dict_values.items()]\n",
    "    #counter = Counter(values)\n",
    "    x, y = zip(*dict_values.items())\n",
    "    ax.scatter(x, y, marker='+', color=color, alpha=alpha, label=label)\n",
    "    ax.legend()\n",
    "    ax.set_title(title)\n",
    "    if log and len(y) > 100:\n",
    "        ax.set_xscale('log')\n",
    "        ax.set_xlabel(xlabel + ' (log)')\n",
    "    else:\n",
    "        ax.set_xlabel(xlabel)\n",
    "    ax.set_ylabel('Frequency' + ' (log)')\n",
    "    ax.set_yscale('log')"
   ]
  },
  {
   "cell_type": "markdown",
   "metadata": {
    "colab_type": "text",
    "id": "EVF3pGa35Az-"
   },
   "source": [
    "## Data\n"
   ]
  },
  {
   "cell_type": "code",
   "execution_count": 3,
   "metadata": {},
   "outputs": [
    {
     "name": "stdout",
     "output_type": "stream",
     "text": [
      "Parsing files...\n",
      "Done.\n"
     ]
    }
   ],
   "source": [
    "wikivitals = load_netset('wikivitals')"
   ]
  },
  {
   "cell_type": "code",
   "execution_count": 4,
   "metadata": {},
   "outputs": [],
   "source": [
    "biadjacency = wikivitals.biadjacency\n",
    "names = wikivitals.names\n",
    "words = wikivitals.names_col\n",
    "labels = wikivitals.labels"
   ]
  },
  {
   "cell_type": "code",
   "execution_count": 5,
   "metadata": {},
   "outputs": [
    {
     "data": {
      "text/plain": [
       "<10011x37845 sparse matrix of type '<class 'numpy.int64'>'\n",
       "\twith 1363301 stored elements in Compressed Sparse Row format>"
      ]
     },
     "execution_count": 5,
     "metadata": {},
     "output_type": "execute_result"
    }
   ],
   "source": [
    "biadjacency"
   ]
  },
  {
   "cell_type": "code",
   "execution_count": 6,
   "metadata": {},
   "outputs": [
    {
     "name": "stdout",
     "output_type": "stream",
     "text": [
      "0\n",
      "['from' 'historically' 'identity' 'system' 'zero' 'for' 'be' 'slang'\n",
      " 'naught' 'integer' 'or' 'the' 'a' 'many' 'fulfill' 'in' 'numerical' 'to'\n",
      " 'algebraic' 'use' 'least' 'well' 'role' 'context' 'and' 'that' 'where'\n",
      " 'central' 'place' 'adjacent' 'informal' 'digit' 'term' 'US' 'UK' 'also'\n",
      " 'of' 'as' 'o' 'name' 'represent' 'English' 'zip' 'placeholder' 'one'\n",
      " 'letter' 'value' 'mathematic' 'additive' 'structure' 'cipher' 'have'\n",
      " 'include' 'it' 'ought' 'at' 'real' 'number' 'numeral' 'distinguish'\n",
      " 'other']\n"
     ]
    }
   ],
   "source": [
    "print(names[0])\n",
    "print(words[biadjacency[0].indices])"
   ]
  },
  {
   "cell_type": "markdown",
   "metadata": {},
   "source": [
    "## FCA"
   ]
  },
  {
   "cell_type": "code",
   "execution_count": 7,
   "metadata": {},
   "outputs": [],
   "source": [
    "context = biadjacency > 0"
   ]
  },
  {
   "cell_type": "code",
   "execution_count": 8,
   "metadata": {},
   "outputs": [
    {
     "data": {
      "text/plain": [
       "<10011x37845 sparse matrix of type '<class 'numpy.bool_'>'\n",
       "\twith 1363301 stored elements in Compressed Sparse Row format>"
      ]
     },
     "execution_count": 8,
     "metadata": {},
     "output_type": "execute_result"
    }
   ],
   "source": [
    "context"
   ]
  },
  {
   "cell_type": "code",
   "execution_count": 9,
   "metadata": {},
   "outputs": [],
   "source": [
    "def get_concepts(context, n_concepts = 5000, n_objects_max = 1000, n_objects_min = 10, depth = 5):\n",
    "    \"\"\"Get concepts by FCA.\n",
    "    \n",
    "    Parameters\n",
    "    ----------\n",
    "    context : sparse matrix\n",
    "        Matrix object x attribute.\n",
    "    n_concepts : int\n",
    "        Maximum number of concepts per level (except top level).\n",
    "    n_objects_max : int\n",
    "        Maximum number of objects per attribute (frequent attributes are discarded).\n",
    "    n_objects_min : int\n",
    "        Minimum number of objects per attribute (rare attributes are discarded).\n",
    "    depth : int\n",
    "        Depth of the hierarchy\n",
    "        \n",
    "    Returns\n",
    "    -------\n",
    "    index_attribute : np.ndarray\n",
    "        Index of attributes.\n",
    "    concept_attribute : sparse matrix\n",
    "        Matrix concept x attributes.\n",
    "    concept_object : sparse matrix\n",
    "        Matrix concept x object.\n",
    "    \"\"\"\n",
    "    n_objects, n_attributes = context.shape\n",
    "\n",
    "    # select attributes\n",
    "    freq_attribute = get_degrees(context, transpose=True)\n",
    "    index = np.flatnonzero((freq_attribute <= n_objects_max) & (freq_attribute >= n_objects_min))\n",
    "    attribute = sparse.identity(n_attributes).tocsr()[index]\n",
    "    n_attributes = len(index)\n",
    "    concept_attribute = sparse.identity(n_attributes).tocsr()\n",
    "    concept_object = context.T.tocsr()[index]\n",
    "    freq_attribute = freq_attribute[index]\n",
    "    index_attribute = index.copy()\n",
    "    \n",
    "    # simple concepts (= single attribute)\n",
    "    simple_concept_attribute = concept_attribute.copy()\n",
    "    simple_concept_object = concept_object.copy()\n",
    "    simple_concept_freq = freq_attribute.copy()\n",
    "\n",
    "    # current concepts (= simple concepts to start)\n",
    "    current_concept_attribute = concept_attribute.copy()\n",
    "    current_concept_object = concept_object.copy()\n",
    "    current_concept_freq = freq_attribute.copy()\n",
    "\n",
    "    for t in range(1, depth):\n",
    "\n",
    "        # add attribute\n",
    "        concept_count = current_concept_object.astype(int).dot(simple_concept_object.T).tocoo()\n",
    "        row = concept_count.row\n",
    "        col = concept_count.col\n",
    "        count = concept_count.data\n",
    "\n",
    "        # score concepts\n",
    "        scores = np.minimum(current_concept_freq[row] - count, simple_concept_freq[col] - count)\n",
    "        scores = np.minimum(scores, count)\n",
    "        scores = scores * (scores >= n_objects_min)\n",
    "\n",
    "        # select concepts\n",
    "        index = top_k(scores, n_concepts)\n",
    "        concept_attribute_ = sparse.lil_matrix((n_concepts, n_attributes), dtype=bool)\n",
    "        concept_ids = current_concept_attribute[row[index]].indices\n",
    "        attribute_ids = simple_concept_attribute[col[index]].indices\n",
    "        row_ = np.repeat(np.arange(len(index)), t + 1)\n",
    "        col_ = np.hstack((concept_ids.reshape(-1, t), attribute_ids.reshape(-1, 1))).ravel()\n",
    "        concept_attribute_[row_, col_] = 1\n",
    "        concept_attribute_ = concept_attribute_.tocsr()\n",
    "\n",
    "        # remove duplicates\n",
    "        _, index_ = np.unique(concept_attribute_.indices.reshape(-1, t + 1), axis=0, return_index=True)\n",
    "        concept_attribute_ = concept_attribute_[index_]\n",
    "        index = index[index_]\n",
    "\n",
    "        # count objects\n",
    "        concept_object_ = current_concept_object[row[index]].minimum(simple_concept_object[col[index]])\n",
    "        concept_object_.eliminate_zeros()\n",
    "        concept_freq_ = get_degrees(concept_object_)\n",
    "\n",
    "        # update \n",
    "        concept_attribute = sparse.vstack((concept_attribute, concept_attribute_))\n",
    "        concept_object = sparse.vstack((concept_object, concept_object_))\n",
    "\n",
    "        current_concept_attribute = concept_attribute_.copy()\n",
    "        current_concept_object = concept_object_.copy()\n",
    "        current_concept_freq = concept_freq_.copy()\n",
    "    \n",
    "    return index_attribute, concept_attribute, concept_object"
   ]
  },
  {
   "cell_type": "code",
   "execution_count": 10,
   "metadata": {},
   "outputs": [
    {
     "name": "stdout",
     "output_type": "stream",
     "text": [
      "CPU times: user 2.06 s, sys: 532 ms, total: 2.6 s\n",
      "Wall time: 2.64 s\n"
     ]
    }
   ],
   "source": [
    "%%time\n",
    "index_attribute, concept_attribute, concept_object = get_concepts(context)"
   ]
  },
  {
   "cell_type": "code",
   "execution_count": 11,
   "metadata": {},
   "outputs": [],
   "source": [
    "names_attribute = words[index_attribute]"
   ]
  },
  {
   "cell_type": "code",
   "execution_count": 12,
   "metadata": {
    "scrolled": true
   },
   "outputs": [
    {
     "data": {
      "text/plain": [
       "<24348x10011 sparse matrix of type '<class 'numpy.bool_'>'\n",
       "\twith 1810724 stored elements in Compressed Sparse Row format>"
      ]
     },
     "execution_count": 12,
     "metadata": {},
     "output_type": "execute_result"
    }
   ],
   "source": [
    "concept_object"
   ]
  },
  {
   "cell_type": "code",
   "execution_count": 13,
   "metadata": {},
   "outputs": [
    {
     "data": {
      "text/plain": [
       "<24348x11250 sparse matrix of type '<class 'numpy.float64'>'\n",
       "\twith 60418 stored elements in Compressed Sparse Row format>"
      ]
     },
     "execution_count": 13,
     "metadata": {},
     "output_type": "execute_result"
    }
   ],
   "source": [
    "concept_attribute"
   ]
  },
  {
   "cell_type": "markdown",
   "metadata": {},
   "source": [
    "## Freq count"
   ]
  },
  {
   "cell_type": "code",
   "execution_count": 14,
   "metadata": {},
   "outputs": [],
   "source": [
    "concept_freq = get_degrees(concept_object)"
   ]
  },
  {
   "cell_type": "code",
   "execution_count": 15,
   "metadata": {},
   "outputs": [],
   "source": [
    "length_concept = get_degrees(concept_attribute)"
   ]
  },
  {
   "cell_type": "code",
   "execution_count": 16,
   "metadata": {},
   "outputs": [],
   "source": [
    "lengths, counts = np.unique(length_concept, return_counts=True)"
   ]
  },
  {
   "cell_type": "code",
   "execution_count": 17,
   "metadata": {},
   "outputs": [
    {
     "name": "stdout",
     "output_type": "stream",
     "text": [
      "[11250  2525  2540  3667  4366]\n"
     ]
    }
   ],
   "source": [
    "print(counts)"
   ]
  },
  {
   "cell_type": "code",
   "execution_count": 18,
   "metadata": {},
   "outputs": [],
   "source": [
    "depth = max(lengths)"
   ]
  },
  {
   "cell_type": "code",
   "execution_count": 19,
   "metadata": {},
   "outputs": [
    {
     "data": {
      "text/plain": [
       "<24348x11250 sparse matrix of type '<class 'numpy.float64'>'\n",
       "\twith 60418 stored elements in Compressed Sparse Row format>"
      ]
     },
     "execution_count": 19,
     "metadata": {},
     "output_type": "execute_result"
    }
   ],
   "source": [
    "concept_attribute"
   ]
  },
  {
   "cell_type": "markdown",
   "metadata": {},
   "source": [
    "## Word2Vec method  \n",
    "\n",
    "**Objective**: Take into account the semantic meaning of attributes in order to select interesting concepts; we want to filter concepts that have close semantic meanings, as they do not bring additional interesting information for the considered object.  \n",
    "\n",
    "**Procedure**:  \n",
    "1. Filter concepts that have size 1 exactly (to reduce memory usage for the next steps). These concepts are not specific enough  \n",
    "2. Apply **w2v** model to compute **word embeddings**. We compute embedding in $\\mathbb{R}^{100}$  \n",
    "3. Compute **concept embeddings** by averageing word embeddings in concept intent  \n",
    "4. Compute **pairwise distance matrix** between concept embeddings (e.g using cosine similarity)\n",
    "5. Use concept distance matrix as input to a linear solver, which goal is to select top-$k$ concepts that have the greatest distance between each others\n",
    "    - each concept $c(o, a)$ is weighted by the size of its intent over the maximum size of intent (i.e `depth` variable used above), $\\dfrac{|a|}{|a|^{*}}$  \n",
    "    \n",
    "**Results**: for $k$=1000 interesting concepts\n",
    "- similar concepts are indeed filtered which is good\n",
    "- Average number of object/concept: 55.257 $\\rightarrow$ each **interesting** concept explains 55 articles in average\n",
    "- However, the vast majority of articles (objects) are not explained by any interesting concept: Ratio of objects without interesting concept explaining them = 0.962  \n",
    "- Thus the number of interesting concepts filtered are only restricted to some specific topics: music, films, etc."
   ]
  },
  {
   "cell_type": "markdown",
   "metadata": {},
   "source": [
    "### 1. Filter concepts with intent size > 1"
   ]
  },
  {
   "cell_type": "code",
   "execution_count": 39,
   "metadata": {},
   "outputs": [],
   "source": [
    "# Filter concept that have > 1 attribute inside their intent\n",
    "concept_size = get_degrees(concept_attribute)\n",
    "mask = concept_size > 1\n",
    "big_concept_attribute = concept_attribute[mask]"
   ]
  },
  {
   "cell_type": "code",
   "execution_count": 40,
   "metadata": {},
   "outputs": [
    {
     "data": {
      "text/plain": [
       "<12038x24282 sparse matrix of type '<class 'numpy.float64'>'\n",
       "\twith 43866 stored elements in Compressed Sparse Row format>"
      ]
     },
     "execution_count": 40,
     "metadata": {},
     "output_type": "execute_result"
    }
   ],
   "source": [
    "big_concept_attribute"
   ]
  },
  {
   "cell_type": "code",
   "execution_count": 41,
   "metadata": {},
   "outputs": [],
   "source": [
    "big_concept_object = concept_object[mask]"
   ]
  },
  {
   "cell_type": "code",
   "execution_count": 42,
   "metadata": {},
   "outputs": [
    {
     "data": {
      "text/plain": [
       "<12038x45179 sparse matrix of type '<class 'numpy.bool_'>'\n",
       "\twith 746323 stored elements in Compressed Sparse Row format>"
      ]
     },
     "execution_count": 42,
     "metadata": {},
     "output_type": "execute_result"
    }
   ],
   "source": [
    "big_concept_object"
   ]
  },
  {
   "cell_type": "markdown",
   "metadata": {},
   "source": [
    "### 2. Word2Vec model for word embeddings"
   ]
  },
  {
   "cell_type": "markdown",
   "metadata": {},
   "source": [
    "Build corpus made of concepts, i.e each concept intent is considered to be a sentence in the Word2Vec model.  \n",
    "Train a Word2Vec model to get embedding for each word in the corpus."
   ]
  },
  {
   "cell_type": "code",
   "execution_count": 43,
   "metadata": {},
   "outputs": [
    {
     "name": "stdout",
     "output_type": "stream",
     "text": [
      "['victim', 'crime'] ['leadership', 'victory']\n"
     ]
    }
   ],
   "source": [
    "# Build corpus for w2v\n",
    "n_rows = big_concept_attribute.shape[0]\n",
    "corpus = []\n",
    "for row in range(n_rows):\n",
    "    corpus.append(names_attribute[big_concept_attribute[row].indices].tolist())\n",
    "print(corpus[0], corpus[10])"
   ]
  },
  {
   "cell_type": "code",
   "execution_count": 44,
   "metadata": {},
   "outputs": [],
   "source": [
    "# Word2Vec\n",
    "from gensim.models import Word2Vec\n",
    "model = Word2Vec(sentences=corpus, min_count=1, window=2, vector_size=100)"
   ]
  },
  {
   "cell_type": "markdown",
   "metadata": {},
   "source": [
    "### 3. Concept embedding"
   ]
  },
  {
   "cell_type": "markdown",
   "metadata": {},
   "source": [
    "Embedd each concept by computing the average word embedding it contains."
   ]
  },
  {
   "cell_type": "code",
   "execution_count": 45,
   "metadata": {},
   "outputs": [],
   "source": [
    "# Concept embedding as average of their intent word embeddings\n",
    "concept_embs = np.zeros((n_rows, 100))\n",
    "\n",
    "for idx, row in enumerate(big_concept_attribute):\n",
    "    names_attrs = names_attribute[row.indices]\n",
    "    concept_embs[idx, :] = np.mean(model.wv[names_attrs], axis=0)"
   ]
  },
  {
   "cell_type": "code",
   "execution_count": 46,
   "metadata": {},
   "outputs": [
    {
     "data": {
      "text/plain": [
       "(12038, 100)"
      ]
     },
     "execution_count": 46,
     "metadata": {},
     "output_type": "execute_result"
    }
   ],
   "source": [
    "concept_embs.shape"
   ]
  },
  {
   "cell_type": "markdown",
   "metadata": {},
   "source": [
    "### 4. Pairwise distance matrix between concept embeddings"
   ]
  },
  {
   "cell_type": "markdown",
   "metadata": {},
   "source": [
    "Compute the cosine similarity between concept embeddings.  \n",
    "\n",
    "The goal is to create a matrix of distances between concepts, which will be used in a solver to select top-$k$ concepts that have the greater pairwise distance."
   ]
  },
  {
   "cell_type": "code",
   "execution_count": 47,
   "metadata": {},
   "outputs": [
    {
     "name": "stdout",
     "output_type": "stream",
     "text": [
      "CPU times: user 4.52 s, sys: 67.3 ms, total: 4.58 s\n",
      "Wall time: 4.59 s\n"
     ]
    }
   ],
   "source": [
    "%%time\n",
    "\n",
    "import random\n",
    "from scipy.spatial.distance import pdist, squareform\n",
    "\n",
    "cosine_sim_scipy = pdist(concept_embs, 'cosine')"
   ]
  },
  {
   "cell_type": "code",
   "execution_count": 48,
   "metadata": {},
   "outputs": [
    {
     "name": "stdout",
     "output_type": "stream",
     "text": [
      "CPU times: user 219 ms, sys: 205 ms, total: 423 ms\n",
      "Wall time: 505 ms\n"
     ]
    }
   ],
   "source": [
    "%%time\n",
    "\n",
    "square_dists = squareform(cosine_sim_scipy)"
   ]
  },
  {
   "cell_type": "code",
   "execution_count": 49,
   "metadata": {},
   "outputs": [
    {
     "data": {
      "text/plain": [
       "array([[0.        , 0.01416759, 0.01079784, 0.01232688, 0.0123734 ],\n",
       "       [0.01416759, 0.        , 0.00400229, 0.00386772, 0.0043273 ],\n",
       "       [0.01079784, 0.00400229, 0.        , 0.00074708, 0.00137606],\n",
       "       [0.01232688, 0.00386772, 0.00074708, 0.        , 0.00112843],\n",
       "       [0.0123734 , 0.0043273 , 0.00137606, 0.00112843, 0.        ]])"
      ]
     },
     "execution_count": 49,
     "metadata": {},
     "output_type": "execute_result"
    }
   ],
   "source": [
    "square_dists[:5, :5]"
   ]
  },
  {
   "cell_type": "code",
   "execution_count": 139,
   "metadata": {},
   "outputs": [
    {
     "name": "stdout",
     "output_type": "stream",
     "text": [
      "CPU times: user 185 ms, sys: 122 ms, total: 307 ms\n",
      "Wall time: 429 ms\n"
     ]
    }
   ],
   "source": [
    "%%time\n",
    "\n",
    "row, col = np.triu_indices(concept_embs.shape[0], k=1)"
   ]
  },
  {
   "cell_type": "code",
   "execution_count": 140,
   "metadata": {},
   "outputs": [
    {
     "name": "stdout",
     "output_type": "stream",
     "text": [
      "CPU times: user 82.1 ms, sys: 259 ms, total: 341 ms\n",
      "Wall time: 454 ms\n"
     ]
    }
   ],
   "source": [
    "%%time\n",
    "n = concept_embs.shape[0]\n",
    "sparse_dists = sparse.coo_matrix((cosine_sim_scipy, (row, col)), shape=(n, n))"
   ]
  },
  {
   "cell_type": "code",
   "execution_count": 141,
   "metadata": {},
   "outputs": [
    {
     "name": "stdout",
     "output_type": "stream",
     "text": [
      "CPU times: user 373 ms, sys: 246 ms, total: 618 ms\n",
      "Wall time: 815 ms\n"
     ]
    }
   ],
   "source": [
    "%%time\n",
    "csr_sparse_dists = sparse_dists.tocsr()"
   ]
  },
  {
   "cell_type": "code",
   "execution_count": 142,
   "metadata": {},
   "outputs": [
    {
     "name": "stdout",
     "output_type": "stream",
     "text": [
      "CPU times: user 66.5 ms, sys: 67.7 ms, total: 134 ms\n",
      "Wall time: 156 ms\n"
     ]
    }
   ],
   "source": [
    "%%time\n",
    "dense_dists = sparse_dists.todense()"
   ]
  },
  {
   "cell_type": "code",
   "execution_count": 143,
   "metadata": {},
   "outputs": [
    {
     "data": {
      "text/plain": [
       "(12038, 12038)"
      ]
     },
     "execution_count": 143,
     "metadata": {},
     "output_type": "execute_result"
    }
   ],
   "source": [
    "dense_dists.shape"
   ]
  },
  {
   "cell_type": "code",
   "execution_count": 144,
   "metadata": {},
   "outputs": [
    {
     "data": {
      "text/plain": [
       "matrix([[0.        , 0.01314337, 0.01136182, 0.01087863, 0.0120954 ],\n",
       "        [0.        , 0.        , 0.00371603, 0.00358535, 0.00413979],\n",
       "        [0.        , 0.        , 0.        , 0.00071358, 0.00134886],\n",
       "        [0.        , 0.        , 0.        , 0.        , 0.0011948 ],\n",
       "        [0.        , 0.        , 0.        , 0.        , 0.        ]])"
      ]
     },
     "execution_count": 144,
     "metadata": {},
     "output_type": "execute_result"
    }
   ],
   "source": [
    "dense_dists[:5, :5]"
   ]
  },
  {
   "cell_type": "code",
   "execution_count": 44,
   "metadata": {},
   "outputs": [
    {
     "name": "stdout",
     "output_type": "stream",
     "text": [
      "['guitarist' 'Roll']\n",
      "['guitarist' 'Rock']\n",
      "Cosine sim of average embeddings:  0.9812906\n",
      "cosine scipy distance:  0.01870948703907327\n",
      "['guitarist' 'Roll']\n",
      "['tour' 'you']\n",
      "Cosine sim of average embeddings:  0.95490575\n",
      "cosine scipy distance:  0.04509436693487745\n",
      "['optical']\n",
      "['guitarist' 'Roll']\n",
      "Cosine sim of average embeddings:  0.07595989\n",
      "cosine scipy distance:  0.9240401075130381\n"
     ]
    }
   ],
   "source": [
    "# Verification of distance between concept embeddings\n",
    "# 2 concept embedding should be distant in the embedding space if they contain words that are semantically differents\n",
    "# We see that the embedding space respects this criterion\n",
    "\n",
    "print(names_attribute[concept_attribute[24586, :].indices])\n",
    "print(names_attribute[concept_attribute[24588, :].indices])\n",
    "\n",
    "a = np.mean([model.wv['guitarist'], model.wv['Rock']], axis=0)\n",
    "b = np.mean([model.wv['guitarist'], model.wv['Roll']], axis=0)\n",
    "print('Cosine sim of average embeddings: ', cosine_similarity(a, b))\n",
    "\n",
    "#print('old cosine: ', cosine_sim[24586, 24588])\n",
    "print('cosine scipy distance: ', dense_dists[24586, 24588])\n",
    "\n",
    "\n",
    "print(names_attribute[concept_attribute[24586, :].indices])\n",
    "print(names_attribute[concept_attribute[26561, :].indices]) # ['tour' 'you']\n",
    "\n",
    "a = np.mean([model.wv['guitarist'], model.wv['Roll']], axis=0)\n",
    "b = np.mean([model.wv['tour'], model.wv['you']], axis=0)\n",
    "print('Cosine sim of average embeddings: ', cosine_similarity(a, b))\n",
    "\n",
    "print('cosine scipy distance: ', dense_dists[24586, 26561])\n",
    "\n",
    "\n",
    "print(names_attribute[concept_attribute[100, :].indices])\n",
    "print(names_attribute[concept_attribute[24586, :].indices]) # ['tour' 'you']\n",
    "\n",
    "a = model.wv['optical']\n",
    "b = np.mean([model.wv['guitarist'], model.wv['Roll']], axis=0)\n",
    "print('Cosine sim of average embeddings: ', cosine_similarity(a, b))\n",
    "\n",
    "print('cosine scipy distance: ', dense_dists[100, 24586])"
   ]
  },
  {
   "cell_type": "markdown",
   "metadata": {},
   "source": [
    "### 5. Linear solver to select top-$k$ most distant concepts"
   ]
  },
  {
   "cell_type": "markdown",
   "metadata": {},
   "source": [
    "Optimize a solver to find the top-$k$ concepts that maximize their pairwise distances."
   ]
  },
  {
   "cell_type": "code",
   "execution_count": 98,
   "metadata": {},
   "outputs": [
    {
     "name": "stdout",
     "output_type": "stream",
     "text": [
      "Welcome to the CBC MILP Solver \n",
      "Version: 2.10.3 \n",
      "Build Date: Dec 15 2019 \n",
      "\n",
      "command line - /Users/simondelarue/Documents/PhD/Research/Envs/COMEG/lib/python3.9/site-packages/pulp/apis/../solverdir/cbc/osx/64/cbc /var/folders/hb/p2nvp7cj1dg6y96zlm9vqb2c0000gn/T/c42231d570b94d038b7c9f2179c235a0-pulp.mps max timeMode elapsed branch printingOptions all solution /var/folders/hb/p2nvp7cj1dg6y96zlm9vqb2c0000gn/T/c42231d570b94d038b7c9f2179c235a0-pulp.sol (default strategy 1)\n",
      "At line 2 NAME          MODEL\n",
      "At line 3 ROWS\n",
      "At line 6 COLUMNS\n",
      "At line 48159 RHS\n",
      "At line 48161 BOUNDS\n",
      "At line 60200 ENDATA\n",
      "Problem MODEL has 1 rows, 12038 columns and 12038 elements\n",
      "Coin0008I MODEL read with 0 errors\n",
      "Option for timeMode changed from cpu to elapsed\n",
      "9038 slacks added\n",
      "using 1 columns not 3000\n",
      "12037 slacks added\n",
      "Continuous objective value is 7.21195e+06 - 0.23 seconds\n",
      "Cgl0004I processed model has 1 rows, 12038 columns (12038 integer (12038 of which binary)) and 12038 elements\n",
      "Cbc0038I Initial state - 0 integers unsatisfied sum - 0\n",
      "Cbc0038I Solution found of -7.21195e+06\n",
      "Cbc0038I Before mini branch and bound, 12038 integers at bound fixed and 0 continuous\n",
      "Cbc0038I Mini branch and bound did not improve solution (1.54 seconds)\n",
      "Cbc0038I After 1.54 seconds - Feasibility pump exiting with objective of -7.21195e+06 - took 0.01 seconds\n",
      "Cbc0012I Integer solution of -7211946.2 found by feasibility pump after 0 iterations and 0 nodes (1.54 seconds)\n",
      "Cbc0001I Search completed - best objective -7211946.179680428, took 0 iterations and 0 nodes (1.54 seconds)\n",
      "Cbc0035I Maximum depth 0, 0 variables fixed on reduced cost\n",
      "Cuts at root node changed objective from -7.21195e+06 to -7.21195e+06\n",
      "Probing was tried 0 times and created 0 cuts of which 0 were active after adding rounds of cuts (0.000 seconds)\n",
      "Gomory was tried 0 times and created 0 cuts of which 0 were active after adding rounds of cuts (0.000 seconds)\n",
      "Knapsack was tried 0 times and created 0 cuts of which 0 were active after adding rounds of cuts (0.000 seconds)\n",
      "Clique was tried 0 times and created 0 cuts of which 0 were active after adding rounds of cuts (0.000 seconds)\n",
      "MixedIntegerRounding2 was tried 0 times and created 0 cuts of which 0 were active after adding rounds of cuts (0.000 seconds)\n",
      "FlowCover was tried 0 times and created 0 cuts of which 0 were active after adding rounds of cuts (0.000 seconds)\n",
      "TwoMirCuts was tried 0 times and created 0 cuts of which 0 were active after adding rounds of cuts (0.000 seconds)\n",
      "ZeroHalf was tried 0 times and created 0 cuts of which 0 were active after adding rounds of cuts (0.000 seconds)\n",
      "\n",
      "Result - Optimal solution found\n",
      "\n",
      "Objective value:                7211946.17968043\n",
      "Enumerated nodes:               0\n",
      "Total iterations:               0\n",
      "Time (CPU seconds):             1.52\n",
      "Time (Wallclock seconds):       1.55\n",
      "\n",
      "Option for printingOptions changed from normal to all\n",
      "Total time (CPU seconds):       1.54   (Wallclock seconds):       1.58\n",
      "\n"
     ]
    }
   ],
   "source": [
    "# Optimization solver\n",
    "#import pulp\n",
    "\n",
    "def solver(matrix, concept_attribute, k, solver_obj=PULP_CBC_CMD, msg=True):\n",
    "    idx = np.arange(0, matrix.shape[0])\n",
    "    x = pulp.LpVariable.dicts(\"x\", \n",
    "                        indices = idx, \n",
    "                        lowBound=0, upBound=1, \n",
    "                        cat='Integer', indexStart=[])\n",
    "\n",
    "    prob = pulp.LpProblem(\"clustering\", LpMaximize)\n",
    "    prob += pulp.lpSum([x[i] * matrix[i].sum() * len(concept_attribute[i].indices / 5) for i in x])\n",
    "    #prob += pulp.lpSum([x[i] * matrix[i].sum()  for i in x])\n",
    "    prob += pulp.lpSum([x[i] for i in idx]) <= k    \n",
    "    prob.solve(solver_obj(msg=msg))\n",
    "    return prob\n",
    "    \n",
    "#prob = solver(cosine_dist, 10000)\n",
    "#prob = solver(dense_dists, concept_attribute, 5000)\n",
    "prob = solver(square_dists, concept_attribute, 1000)\n",
    "\n",
    "useful_concepts = np.array([int(v.name.split('_')[1]) for v in prob.variables() if v.varValue > 0])"
   ]
  },
  {
   "cell_type": "code",
   "execution_count": 51,
   "metadata": {},
   "outputs": [],
   "source": [
    "#i = 34069 - red hot chili peppers"
   ]
  },
  {
   "cell_type": "code",
   "execution_count": 86,
   "metadata": {},
   "outputs": [
    {
     "name": "stdout",
     "output_type": "stream",
     "text": [
      "Ratio of objects without interesting concept explaining them: 0.962\n"
     ]
    },
    {
     "data": {
      "image/png": "[encoded data removed]",
      "text/plain": [
       "<Figure size 504x360 with 1 Axes>"
      ]
     },
     "metadata": {
      "needs_background": "light"
     },
     "output_type": "display_data"
    }
   ],
   "source": [
    "# Distrib plot: number of interesting concepts / object\n",
    "counts_1 = Counter(big_concept_object[useful_concepts].T.dot(np.ones(len(useful_concepts))))\n",
    "\n",
    "fig, ax = plt.subplots(1, 1, figsize=(7, 5))\n",
    "plot_distrib(counts_1, ax, log=False, xlabel='# concepts/object', label='count')\n",
    "\n",
    "print(f'Ratio of objects without interesting concept explaining them: {counts_1.get(0) / concept_object.shape[1]:.3f}')"
   ]
  },
  {
   "cell_type": "code",
   "execution_count": 87,
   "metadata": {},
   "outputs": [
    {
     "name": "stdout",
     "output_type": "stream",
     "text": [
      "Average number of object/concept: 55.257\n"
     ]
    },
    {
     "data": {
      "image/png": "[encoded data removed]",
      "text/plain": [
       "<Figure size 504x360 with 1 Axes>"
      ]
     },
     "metadata": {
      "needs_background": "light"
     },
     "output_type": "display_data"
    }
   ],
   "source": [
    "# Distrib plot: number of object per interesting concept \n",
    "counts = Counter(big_concept_object[useful_concepts].dot(np.ones(big_concept_object.shape[1])))\n",
    "\n",
    "fig, ax = plt.subplots(1, 1, figsize=(7, 5))\n",
    "plot_distrib(counts, ax, log=False, xlabel='# object/concept', label='count')\n",
    "\n",
    "print(f'Average number of object/concept: {np.mean(big_concept_object[useful_concepts].dot(np.ones(big_concept_object.shape[1]))):.3f}')"
   ]
  },
  {
   "cell_type": "markdown",
   "metadata": {},
   "source": [
    "**Varying $k$ and verify different ratio evolutions**"
   ]
  },
  {
   "cell_type": "code",
   "execution_count": 163,
   "metadata": {},
   "outputs": [],
   "source": [
    "x = np.arange(1000, 20000, 500)\n",
    "ratios_res = []\n",
    "avg_res = []\n",
    "cumul_concepts = []\n",
    "avg_intent_size = []\n",
    "\n",
    "for k in x:\n",
    "    # Solver for k\n",
    "    prob = solver(square_dists, concept_attribute, k, msg=False)\n",
    "    useful_concepts = np.array([int(v.name.split('_')[1]) for v in prob.variables() if v.varValue > 0])\n",
    "    \n",
    "    # Count metrics\n",
    "    counts_concept_per_object = Counter(big_concept_object[useful_concepts].T.dot(np.ones(len(useful_concepts))))    \n",
    "    counts_object_per_concept = np.mean(big_concept_object[useful_concepts].dot(np.ones(big_concept_object.shape[1])))\n",
    "    ratio = counts_concept_per_object.get(0) / concept_object.shape[1]\n",
    "    ratios_res.append(ratio)\n",
    "    avg_res.append(counts_object_per_concept)\n",
    "    \n",
    "    # store cumulated concepts at k\n",
    "    cumul_concepts.append(tuple(useful_concepts))\n",
    "    \n",
    "    # Average size of intent at step k\n",
    "    avg_intent_size.append(np.sum(concept_attribute[useful_concepts].dot(np.ones(concept_attribute.shape[1]))) / concept_attribute.shape[0])"
   ]
  },
  {
   "cell_type": "code",
   "execution_count": 195,
   "metadata": {},
   "outputs": [
    {
     "data": {
      "image/png": "[encoded data removed]",
      "text/plain": [
       "<Figure size 1080x360 with 2 Axes>"
      ]
     },
     "metadata": {
      "needs_background": "light"
     },
     "output_type": "display_data"
    }
   ],
   "source": [
    "\"\"\"ax[2].plot(x, avg_intent_size, label='avg intent size', marker='o')\n",
    "ax[2].set_xlabel('# of selected concepts $k$')\n",
    "ax[2].set_ylabel('#Average intent size');\"\"\"\n",
    "\n",
    "# Plot ratio of objects without interesting concept explaining them according to value of k\n",
    "fig, ax = plt.subplots(1, 2, figsize=(15, 5))\n",
    "ax[0].plot(x, ratios_res, label='ratio', marker='o')\n",
    "ax[0].set_xlabel('# of selected concepts $k$')\n",
    "ax[0].set_ylabel('# objects without interst concept / Total # objects')\n",
    "ax[1].plot(x, avg_res, label='avg', marker='o')\n",
    "ax[1].set_xlabel('# of selected concepts $k$')\n",
    "ax[1].set_ylabel('#Average # object/concept');\n"
   ]
  },
  {
   "cell_type": "markdown",
   "metadata": {},
   "source": [
    "Let's have a look at the concepts that, when included, make the ratio of concept/object drop."
   ]
  },
  {
   "cell_type": "code",
   "execution_count": 175,
   "metadata": {},
   "outputs": [
    {
     "data": {
      "text/plain": [
       "(10000, 8500)"
      ]
     },
     "execution_count": 175,
     "metadata": {},
     "output_type": "execute_result"
    }
   ],
   "source": [
    "x[18], x[15]"
   ]
  },
  {
   "cell_type": "code",
   "execution_count": 192,
   "metadata": {},
   "outputs": [
    {
     "name": "stdout",
     "output_type": "stream",
     "text": [
      "Concept | # of objects depending on concept\n",
      "['middle'] 990.0\n",
      "['suggest'] 944.0\n",
      "['directly'] 960.0\n",
      "['connect'] 986.0\n",
      "['kingdom'] 911.0\n",
      "['drama'] 893.0\n",
      "['Association'] 908.0\n",
      "['dominate'] 881.0\n",
      "['League'] 847.0\n",
      "['rich'] 812.0\n"
     ]
    }
   ],
   "source": [
    "end_concepts = set(cumul_concepts[18])\n",
    "start_concepts = set(cumul_concepts[15])\n",
    "\n",
    "diff_concepts = end_concepts.difference(start_concepts)\n",
    "\n",
    "max_idxs = top_k(concept_object[list(diff_concepts)].dot(np.ones(concept_object.shape[1])), 10)\n",
    "freqs = concept_object[list(diff_concepts)].dot(np.ones(concept_object.shape[1]))[max_idxs]\n",
    "print('Concept | # of objects depending on concept')\n",
    "for i, f in zip(concept_attribute[list(diff_concepts)][max_idxs], freqs):\n",
    "    print(names_attribute[i.indices], f)    "
   ]
  },
  {
   "cell_type": "markdown",
   "metadata": {},
   "source": [
    "**Qualitative analysis of results**"
   ]
  },
  {
   "cell_type": "code",
   "execution_count": 196,
   "metadata": {},
   "outputs": [],
   "source": [
    "k = 9000\n",
    "\n",
    "prob = solver(square_dists, concept_attribute, k, msg=False)\n",
    "useful_concepts = np.array([int(v.name.split('_')[1]) for v in prob.variables() if v.varValue > 0])"
   ]
  },
  {
   "cell_type": "code",
   "execution_count": 228,
   "metadata": {},
   "outputs": [
    {
     "name": "stdout",
     "output_type": "stream",
     "text": [
      "Manu Ginóbili 25875\n",
      "\n",
      "New method\n",
      "['gold' 'olympic'] 2182\n",
      "['gold' 'medal'] 2184\n",
      "['gold' 'championship'] 2187\n",
      "['olympic' 'champion'] 2459\n",
      "['olympic' 'medal'] 2461\n",
      "['olympic' 'championship'] 2463\n",
      "['champion' 'medal'] 2486\n",
      "['champion' 'championship'] 2488\n",
      "['medal' 'championship'] 2501\n",
      "['overall' 'gold' 'medal'] 3739\n",
      "['gold' 'olympic' 'champion'] 4123\n",
      "['gold' 'olympic' 'medal'] 4125\n",
      "['gold' 'olympic' 'championship'] 4128\n",
      "['gold' 'champion' 'medal'] 4130\n",
      "['gold' 'medal' 'championship'] 4135\n",
      "['olympic' 'champion' 'medal'] 4539\n",
      "['olympic' 'medal' 'championship'] 4542\n",
      "['overall' 'gold' 'olympic' 'medal'] 6956\n",
      "['Year' 'gold' 'olympic' 'medal'] 7265\n",
      "['gold' 'olympic' 'champion' 'medal'] 7306\n",
      "['gold' 'olympic' 'medal' 'championship'] 7313\n",
      "\n",
      "old method\n",
      "['club' 'League'] 171 24388\n",
      "['League' 'Year'] 97 24624\n",
      "['League' 'All'] 100 24625\n",
      "['League' 'champion'] 87 24638\n",
      "['League' 'championship'] 148 24643\n",
      "['retirement' 'announce'] 100 24724\n",
      "['Spanish' 'San'] 105 25240\n",
      "['All' 'Star'] 118 25821\n",
      "['gold' 'olympic'] 232 25922\n",
      "['gold' 'medal'] 316 25924\n",
      "['gold' 'championship'] 92 25927\n",
      "['olympic' 'champion'] 121 26667\n",
      "['olympic' 'medal'] 248 26669\n",
      "['olympic' 'championship'] 93 26671\n",
      "['champion' 'medal'] 85 26718\n",
      "['champion' 'championship'] 113 26720\n",
      "['medal' 'championship'] 115 26757\n",
      "['club' 'League' 'championship'] 58 26955\n",
      "['overall' 'gold' 'medal'] 58 28462\n",
      "['Team' 'All' 'Star'] 53 28463\n",
      "['All' 'Star' 'championship'] 52 28967\n",
      "['gold' 'olympic' 'champion'] 60 29038\n",
      "['gold' 'olympic' 'medal'] 208 29040\n",
      "['gold' 'olympic' 'championship'] 63 29042\n",
      "['gold' 'champion' 'medal'] 61 29044\n",
      "['gold' 'medal' 'championship'] 87 29049\n",
      "['olympic' 'champion' 'medal'] 70 29553\n",
      "['olympic' 'medal' 'championship'] 74 29556\n",
      "['overall' 'gold' 'olympic' 'medal'] 39 32108\n",
      "['Year' 'gold' 'olympic' 'medal'] 37 32441\n",
      "['gold' 'olympic' 'champion' 'medal'] 55 32510\n",
      "['gold' 'olympic' 'medal' 'championship'] 60 32516\n"
     ]
    }
   ],
   "source": [
    "# an object and its concepts\n",
    "i = np.random.choice(big_concept_object.shape[1])\n",
    "#i = 34069\n",
    "print(names[i], i)\n",
    "print()\n",
    "print('New method')\n",
    "concepts = np.flatnonzero(big_concept_object[useful_concepts][:, i].toarray().ravel() * (length_concept[useful_concepts] >= 1))\n",
    "#if len(concepts) > 10:\n",
    "#    concepts = np.random.choice(concepts, size=20, replace=False)\n",
    "for j in concepts:\n",
    "    print(names_attribute[big_concept_attribute[useful_concepts][j].indices], j)\n",
    "    \n",
    "print()\n",
    "print(f'old method')\n",
    "concepts = np.flatnonzero(concept_object[:, i].toarray().ravel() * (length_concept > 1))\n",
    "\n",
    "for j in concepts:\n",
    "    print(names_attribute[concept_attribute[j].indices], concept_freq[j], j)"
   ]
  },
  {
   "cell_type": "code",
   "execution_count": 365,
   "metadata": {},
   "outputs": [
    {
     "data": {
      "text/plain": [
       "2304"
      ]
     },
     "execution_count": 365,
     "metadata": {},
     "output_type": "execute_result"
    }
   ],
   "source": [
    "# Number of objects explained by 1 ore more concepts\n",
    "len(np.flatnonzero(big_concept_object[useful_concepts].T.dot(np.ones(1000))))"
   ]
  },
  {
   "cell_type": "code",
   "execution_count": 379,
   "metadata": {},
   "outputs": [
    {
     "name": "stdout",
     "output_type": "stream",
     "text": [
      "Eric Heiden 12682\n",
      "\n",
      "New method\n",
      "['Olympic' 'Games' 'athlete'] 237\n",
      "['Olympic' 'Games'] 622\n",
      "['Olympic' 'athlete'] 623\n",
      "['Games' 'athlete'] 919\n",
      "\n",
      "old method\n",
      "['Olympics' 'Olympic'] 180 24330\n",
      "['Olympics' 'Games'] 177 24331\n",
      "['Olympics' 'gold'] 223 24333\n",
      "['Olympics' 'athlete'] 141 24336\n",
      "['Olympics' 'olympic'] 208 24337\n",
      "['Olympics' 'medal'] 250 24340\n",
      "['Olympics' 'Winter'] 119 24341\n",
      "['Olympics' 'competition'] 112 24344\n",
      "['Olympic' 'Games'] 244 24928\n",
      "['Olympic' 'gold'] 147 24929\n",
      "['Olympic' 'athlete'] 124 24930\n",
      "['Olympic' 'olympic'] 157 24931\n",
      "['Olympic' 'medal'] 159 24934\n",
      "['Olympic' 'competition'] 102 24936\n",
      "['Games' 'gold'] 136 25196\n",
      "['Games' 'athlete'] 106 25197\n",
      "['Games' 'olympic'] 134 25198\n",
      "['Games' 'medal'] 152 25200\n",
      "['Games' 'competition'] 103 25202\n",
      "['gold' 'athlete'] 115 25921\n",
      "['gold' 'olympic'] 232 25922\n",
      "['gold' 'medal'] 316 25924\n",
      "['speed' 'distance'] 111 26409\n",
      "['athlete' 'olympic'] 149 26438\n",
      "['athlete' 'medal'] 136 26440\n",
      "['athlete' 'competition'] 85 26442\n",
      "['olympic' 'medal'] 248 26669\n",
      "['olympic' 'competition'] 97 26672\n",
      "['Olympics' 'Olympic' 'Games'] 127 26818\n",
      "['Olympics' 'Olympic' 'gold'] 105 26819\n",
      "['Olympics' 'Olympic' 'athlete'] 78 26820\n",
      "['Olympics' 'Olympic' 'olympic'] 105 26821\n",
      "['Olympics' 'Olympic' 'medal'] 114 26824\n",
      "['Olympics' 'Olympic' 'Winter'] 60 26825\n",
      "['Olympics' 'Olympic' 'competition'] 55 26828\n",
      "['Olympics' 'Games' 'gold'] 94 26829\n",
      "['Olympics' 'Games' 'athlete'] 70 26830\n",
      "['Olympics' 'Games' 'olympic'] 91 26831\n",
      "['Olympics' 'Games' 'medal'] 107 26833\n",
      "['Olympics' 'Games' 'Winter'] 59 26834\n",
      "['Olympics' 'Games' 'competition'] 59 26837\n",
      "['Olympics' 'gold' 'athlete'] 88 26845\n",
      "['Olympics' 'gold' 'olympic'] 146 26846\n",
      "['Olympics' 'gold' 'medal'] 206 26849\n",
      "['Olympics' 'gold' 'Winter'] 57 26850\n",
      "['Olympics' 'gold' 'competition'] 57 26853\n",
      "['Olympics' 'athlete' 'olympic'] 98 26860\n",
      "['Olympics' 'athlete' 'medal'] 105 26862\n",
      "['Olympics' 'athlete' 'competition'] 50 26864\n",
      "['Olympics' 'olympic' 'medal'] 160 26867\n",
      "['Olympics' 'olympic' 'Winter'] 53 26868\n",
      "['Olympics' 'olympic' 'competition'] 66 26870\n",
      "['Olympics' 'medal' 'Winter'] 60 26876\n",
      "['Olympics' 'medal' 'competition'] 65 26880\n",
      "['Olympic' 'Games' 'gold'] 104 27642\n",
      "['Olympic' 'Games' 'athlete'] 91 27643\n",
      "['Olympic' 'Games' 'olympic'] 108 27644\n",
      "['Olympic' 'Games' 'medal'] 117 27647\n",
      "['Olympic' 'Games' 'Winter'] 66 27648\n",
      "['Olympic' 'Games' 'competition'] 74 27651\n",
      "['Olympic' 'gold' 'athlete'] 69 27654\n",
      "['Olympic' 'gold' 'olympic'] 99 27655\n",
      "['Olympic' 'gold' 'medal'] 133 27657\n",
      "['Olympic' 'athlete' 'olympic'] 73 27659\n",
      "['Olympic' 'athlete' 'medal'] 78 27661\n",
      "['Olympic' 'olympic' 'medal'] 102 27664\n",
      "['Olympic' 'olympic' 'competition'] 52 27665\n",
      "['Games' 'gold' 'athlete'] 60 28305\n",
      "['Games' 'gold' 'olympic'] 83 28306\n",
      "['Games' 'gold' 'medal'] 126 28308\n",
      "['Games' 'athlete' 'olympic'] 65 28310\n",
      "['Games' 'athlete' 'medal'] 69 28312\n",
      "['Games' 'athlete' 'competition'] 51 28313\n",
      "['Games' 'olympic' 'medal'] 93 28315\n",
      "['Games' 'olympic' 'competition'] 51 28316\n",
      "['Games' 'medal' 'competition'] 52 28320\n",
      "['overall' 'gold' 'medal'] 58 28462\n",
      "['gold' 'athlete' 'olympic'] 89 29035\n",
      "['gold' 'athlete' 'medal'] 110 29037\n",
      "['gold' 'olympic' 'medal'] 208 29040\n",
      "['gold' 'olympic' 'competition'] 54 29043\n",
      "['gold' 'medal' 'Winter'] 61 29046\n",
      "['gold' 'medal' 'competition'] 62 29050\n",
      "['athlete' 'olympic' 'medal'] 104 29420\n",
      "['olympic' 'medal' 'competition'] 59 29557\n",
      "['Olympics' 'Olympic' 'Games' 'gold'] 71 29590\n",
      "['Olympics' 'Olympic' 'Games' 'athlete'] 61 29591\n",
      "['Olympics' 'Olympic' 'Games' 'olympic'] 73 29592\n",
      "['Olympics' 'Olympic' 'Games' 'medal'] 80 29595\n",
      "['Olympics' 'Olympic' 'Games' 'Winter'] 49 29596\n",
      "['Olympics' 'Olympic' 'Games' 'competition'] 45 29599\n",
      "['Olympics' 'Olympic' 'gold' 'athlete'] 54 29601\n",
      "['Olympics' 'Olympic' 'gold' 'olympic'] 78 29602\n",
      "['Olympics' 'Olympic' 'gold' 'medal'] 99 29604\n",
      "['Olympics' 'Olympic' 'athlete' 'olympic'] 56 29607\n",
      "['Olympics' 'Olympic' 'athlete' 'medal'] 61 29609\n",
      "['Olympics' 'Olympic' 'olympic' 'medal'] 82 29612\n",
      "['Olympics' 'Olympic' 'olympic' 'competition'] 40 29613\n",
      "['Olympics' 'Olympic' 'medal' 'Winter'] 36 29618\n",
      "['Olympics' 'Games' 'gold' 'athlete'] 47 29621\n",
      "['Olympics' 'Games' 'gold' 'olympic'] 65 29622\n",
      "['Olympics' 'Games' 'gold' 'medal'] 90 29624\n",
      "['Olympics' 'Games' 'gold' 'competition'] 36 29625\n",
      "['Olympics' 'Games' 'athlete' 'olympic'] 51 29628\n",
      "['Olympics' 'Games' 'athlete' 'medal'] 53 29630\n",
      "['Olympics' 'Games' 'olympic' 'medal'] 73 29632\n",
      "['Olympics' 'Games' 'olympic' 'competition'] 41 29634\n",
      "['Olympics' 'Games' 'medal' 'competition'] 41 29640\n",
      "['Olympics' 'overall' 'gold' 'medal'] 46 29641\n",
      "['Olympics' 'gold' 'athlete' 'olympic'] 69 29659\n",
      "['Olympics' 'gold' 'athlete' 'medal'] 85 29661\n",
      "['Olympics' 'gold' 'olympic' 'medal'] 137 29664\n",
      "['Olympics' 'gold' 'olympic' 'Winter'] 38 29665\n",
      "['Olympics' 'gold' 'olympic' 'competition'] 47 29667\n",
      "['Olympics' 'gold' 'medal' 'Winter'] 55 29671\n",
      "['Olympics' 'gold' 'medal' 'competition'] 53 29675\n",
      "['Olympics' 'athlete' 'olympic' 'medal'] 82 29686\n",
      "['Olympics' 'athlete' 'olympic' 'competition'] 38 29688\n",
      "['Olympics' 'athlete' 'medal' 'competition'] 36 29691\n",
      "['Olympics' 'olympic' 'medal' 'Winter'] 40 29697\n",
      "['Olympics' 'olympic' 'medal' 'competition'] 51 29700\n",
      "['Olympic' 'Games' 'gold' 'athlete'] 52 30653\n",
      "['Olympic' 'Games' 'gold' 'olympic'] 67 30654\n",
      "['Olympic' 'Games' 'athlete' 'olympic'] 55 30658\n",
      "['Olympic' 'Games' 'athlete' 'medal'] 61 30660\n",
      "['Olympic' 'Games' 'athlete' 'competition'] 42 30662\n",
      "['Olympic' 'Games' 'olympic' 'medal'] 75 30664\n",
      "['Olympic' 'Games' 'olympic' 'competition'] 42 30666\n",
      "['Olympic' 'Games' 'medal' 'competition'] 39 30672\n",
      "['Olympic' 'gold' 'athlete' 'olympic'] 53 30676\n",
      "['Olympic' 'gold' 'athlete' 'medal'] 66 30678\n",
      "['Olympic' 'gold' 'olympic' 'medal'] 90 30680\n",
      "['Olympic' 'gold' 'medal' 'Winter'] 37 30682\n",
      "['Olympic' 'athlete' 'olympic' 'medal'] 57 30686\n",
      "['Games' 'gold' 'athlete' 'olympic'] 46 32020\n",
      "['Games' 'gold' 'athlete' 'medal'] 58 32021\n",
      "['Games' 'gold' 'olympic' 'medal'] 79 32023\n",
      "['Games' 'gold' 'medal' 'competition'] 41 32026\n",
      "['Games' 'athlete' 'olympic' 'medal'] 51 32028\n",
      "['Games' 'olympic' 'medal' 'competition'] 38 32032\n",
      "['overall' 'gold' 'olympic' 'medal'] 39 32108\n",
      "['gold' 'athlete' 'olympic' 'medal'] 85 32507\n",
      "['gold' 'olympic' 'medal' 'Winter'] 41 32513\n",
      "['gold' 'olympic' 'medal' 'competition'] 49 32517\n",
      "['athlete' 'olympic' 'medal' 'competition'] 36 32722\n",
      "['Olympics' 'Olympic' 'Games' 'overall' 'gold'] 27 32789\n",
      "['Olympics' 'Olympic' 'Games' 'overall' 'medal'] 27 32791\n",
      "['Olympics' 'Olympic' 'Games' 'gold' 'athlete'] 40 32793\n",
      "['Olympics' 'Olympic' 'Games' 'gold' 'medal'] 68 32795\n",
      "['Olympics' 'Olympic' 'Games' 'athlete' 'olympic'] 44 32801\n",
      "['Olympics' 'Olympic' 'Games' 'athlete' 'medal'] 46 32803\n",
      "['Olympics' 'Olympic' 'Games' 'athlete' 'competition'] 30 32806\n",
      "['Olympics' 'Olympic' 'Games' 'olympic' 'competition'] 33 32810\n",
      "['Olympics' 'Olympic' 'Games' 'medal' 'Winter'] 27 32817\n",
      "['Olympics' 'Olympic' 'Games' 'medal' 'competition'] 29 32820\n",
      "['Olympics' 'Olympic' 'overall' 'gold' 'medal'] 29 32821\n",
      "['Olympics' 'Olympic' 'gold' 'athlete' 'olympic'] 44 32827\n",
      "['Olympics' 'Olympic' 'gold' 'athlete' 'medal'] 52 32829\n",
      "['Olympics' 'Olympic' 'gold' 'olympic' 'medal'] 73 32832\n",
      "['Olympics' 'Olympic' 'gold' 'olympic' 'competition'] 28 32834\n",
      "['Olympics' 'Olympic' 'gold' 'medal' 'Winter'] 33 32840\n",
      "['Olympics' 'Olympic' 'gold' 'medal' 'competition'] 29 32843\n",
      "['Olympics' 'Olympic' 'athlete' 'olympic' 'medal'] 49 32848\n",
      "['Olympics' 'Olympic' 'olympic' 'medal' 'competition'] 30 32854\n",
      "['Olympics' 'Games' 'overall' 'gold' 'medal'] 31 32860\n",
      "['Olympics' 'Games' 'gold' 'athlete' 'olympic'] 39 32866\n",
      "['Olympics' 'Games' 'gold' 'athlete' 'medal'] 45 32868\n",
      "['Olympics' 'Games' 'gold' 'olympic' 'medal'] 62 32870\n",
      "['Olympics' 'Games' 'gold' 'olympic' 'competition'] 29 32872\n",
      "['Olympics' 'Games' 'gold' 'medal' 'Winter'] 28 32876\n",
      "['Olympics' 'Games' 'gold' 'medal' 'competition'] 34 32879\n",
      "['Olympics' 'Games' 'athlete' 'olympic' 'medal'] 44 32884\n",
      "['Olympics' 'Games' 'olympic' 'medal' 'competition'] 33 32891\n",
      "['Olympics' 'track' 'gold' 'athlete' 'medal'] 28 32895\n",
      "['Olympics' 'track' 'gold' 'olympic' 'medal'] 26 32896\n",
      "['Olympics' 'overall' 'gold' 'olympic' 'medal'] 27 32897\n",
      "['Olympics' 'gold' 'victory' 'olympic' 'medal'] 26 32908\n",
      "['Olympics' 'gold' 'athlete' 'olympic' 'medal'] 66 32922\n",
      "['Olympics' 'gold' 'athlete' 'olympic' 'competition'] 27 32924\n",
      "['Olympics' 'gold' 'athlete' 'medal' 'competition'] 28 32927\n",
      "['Olympics' 'gold' 'olympic' 'medal' 'Winter'] 38 32934\n",
      "['Olympics' 'gold' 'olympic' 'medal' 'competition'] 43 32939\n",
      "['Olympics' 'athlete' 'olympic' 'medal' 'competition'] 32 32953\n",
      "['Olympic' 'Games' 'gold' 'athlete' 'olympic'] 39 33940\n",
      "['Olympic' 'Games' 'gold' 'olympic' 'medal'] 63 33942\n",
      "['Olympic' 'Games' 'athlete' 'olympic' 'medal'] 44 33949\n",
      "['Olympic' 'Games' 'athlete' 'medal' 'competition'] 29 33952\n",
      "['Olympic' 'Games' 'olympic' 'medal' 'competition'] 30 33956\n",
      "['Olympic' 'gold' 'athlete' 'olympic' 'medal'] 50 33966\n",
      "['Olympic' 'gold' 'olympic' 'medal' 'competition'] 29 33971\n",
      "['Games' 'gold' 'athlete' 'olympic' 'medal'] 44 35956\n",
      "['Games' 'gold' 'athlete' 'medal' 'competition'] 26 35958\n",
      "['Games' 'gold' 'olympic' 'medal' 'competition'] 31 35961\n",
      "['track' 'gold' 'athlete' 'olympic' 'medal'] 28 35999\n",
      "['gold' 'athlete' 'olympic' 'medal' 'competition'] 29 36192\n"
     ]
    }
   ],
   "source": [
    "objects_idx_with_concepts = np.flatnonzero(big_concept_object[useful_concepts].T.dot(np.ones(1000)))\n",
    "i = np.random.choice(objects_idx_with_concepts)\n",
    "\n",
    "print(names[i], i)\n",
    "print()\n",
    "print('New method')\n",
    "concepts = np.flatnonzero(big_concept_object[useful_concepts][:, i].toarray().ravel() * (length_concept[useful_concepts] >= 1))\n",
    "#if len(concepts) > 10:\n",
    "#    concepts = np.random.choice(concepts, size=20, replace=False)\n",
    "for j in concepts:\n",
    "    print(names_attribute[big_concept_attribute[useful_concepts][j].indices], j)\n",
    "    \n",
    "print()\n",
    "print(f'old method')\n",
    "concepts = np.flatnonzero(concept_object[:, i].toarray().ravel() * (length_concept > 1))\n",
    "\n",
    "for j in concepts:\n",
    "    print(names_attribute[concept_attribute[j].indices], concept_freq[j], j)"
   ]
  }
 ],
 "metadata": {
  "colab": {
   "name": "Implicit_recommandation-solutions.ipynb",
   "provenance": []
  },
  "kernelspec": {
   "display_name": "COMEG",
   "language": "python",
   "name": "comeg"
  },
  "language_info": {
   "codemirror_mode": {
    "name": "ipython",
    "version": 3
   },
   "file_extension": ".py",
   "mimetype": "text/x-python",
   "name": "python",
   "nbconvert_exporter": "python",
   "pygments_lexer": "ipython3",
   "version": "3.9.13"
  }
 },
 "nbformat": 4,
 "nbformat_minor": 4
}
