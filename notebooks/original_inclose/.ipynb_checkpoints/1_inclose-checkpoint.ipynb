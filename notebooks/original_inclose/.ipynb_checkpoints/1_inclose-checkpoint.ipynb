{
 "cells": [
  {
   "cell_type": "markdown",
   "id": "3e466124-a6fe-4976-8244-77ce0685a853",
   "metadata": {},
   "source": [
    "# InClose\n",
    "---"
   ]
  },
  {
   "cell_type": "code",
   "execution_count": 2,
   "id": "c527bf61-6499-46dc-8745-2c9472a85e27",
   "metadata": {},
   "outputs": [],
   "source": [
    "from collections import defaultdict, Counter\n",
    "from contextlib import redirect_stdout\n",
    "from IPython.display import SVG\n",
    "import matplotlib.pyplot as plt\n",
    "import numpy as np\n",
    "import pickle\n",
    "from random import random\n",
    "import seaborn as sns\n",
    "from scipy import sparse, special\n",
    "\n",
    "from sknetwork.clustering import get_modularity, KMeans, Louvain\n",
    "from sknetwork.data import load_netset, from_edge_list\n",
    "from sknetwork.embedding import Spectral, SVD\n",
    "from sknetwork.gnn import GNNClassifier\n",
    "from sknetwork.ranking import top_k\n",
    "from sknetwork.topology import Triangles, Cliques, get_connected_components\n",
    "from sknetwork.utils import get_degrees, get_membership, get_neighbors\n",
    "from sknetwork.utils.kmeans import KMeansDense\n",
    "from sknetwork.utils.check import get_probs\n",
    "from sknetwork.visualization import svg_graph"
   ]
  },
  {
   "cell_type": "code",
   "execution_count": 6,
   "id": "a2caee12-d8e5-4fcd-ab37-0c27c57b0623",
   "metadata": {},
   "outputs": [],
   "source": [
    "def plot_distrib(values, ax, xlabel='degree', log=True, title=None, color='blue', alpha=1, label='Degree distribution'):\n",
    "    counter = Counter(values)\n",
    "    x, y = zip(*counter.items())\n",
    "    ax.scatter(x, y, marker='+', color=color, alpha=alpha, label=label)\n",
    "    ax.legend()\n",
    "    ax.set_title(title)\n",
    "    if log:\n",
    "        ax.set_xscale('log')\n",
    "        ax.set_xlabel(xlabel + ' (log)')\n",
    "    else:\n",
    "        ax.set_xlabel(xlabel)\n",
    "    ax.set_ylabel('Frequency' + ' (log)')\n",
    "    ax.set_yscale('log')"
   ]
  },
  {
   "cell_type": "code",
   "execution_count": 7,
   "id": "9d55ec6c-f8d1-4129-aafb-2db602a57cb1",
   "metadata": {},
   "outputs": [],
   "source": [
    "def is_cannonical(context, extents, intents, r, y):\n",
    "    global r_new\n",
    "\n",
    "    for k in range(len(intents[r])-1, -1, -1):\n",
    "        for j in range(y, intents[r][k], -1):            \n",
    "            for h in range(len(extents[r_new])):\n",
    "                if context[extents[r_new][h], j] == 0:\n",
    "                    h -= 1 # Necessary for next test in case last interaction of h for-loop returns False\n",
    "                    break\n",
    "            if h == len(extents[r_new]) - 1:\n",
    "                return False\n",
    "        y = intents[r][k] - 1\n",
    "\n",
    "    for j in reversed(range(y, -1, -1)):\n",
    "        for h in range(len(extents[r_new])):\n",
    "            if context[extents[r_new][h], j] == 0:\n",
    "                h -= 1 # Necessary for next test in case last interaction of h for-loop returns False\n",
    "                break\n",
    "        if h == len(extents[r_new]) - 1:\n",
    "            return False\n",
    "    \n",
    "    return True\n",
    "\n",
    "def intention(nodes, context):\n",
    "    if len(nodes) == 0:\n",
    "        return np.arange(0, context.shape[1])\n",
    "    else:\n",
    "        return context[nodes, :].indices\n",
    "    \n",
    "def extension(attributes, context):\n",
    "    if len(attributes) == 0:\n",
    "        return np.arange(0, context.shape[0])\n",
    "    else:\n",
    "        return context.tocsc()[:, attributes].indices"
   ]
  },
  {
   "cell_type": "code",
   "execution_count": 134,
   "id": "091d51d7-36db-4054-b8c0-0d413124f2b1",
   "metadata": {},
   "outputs": [],
   "source": [
    "def init_inclose(context):\n",
    "    extents, intents = [], []\n",
    "    extents_init = np.arange(context.shape[0])\n",
    "    intents_init = []\n",
    "    extents.append(extents_init) # Initalize extents with all objects from context\n",
    "    intents.append(intents_init) # Initialize intents with empty set attributes\n",
    "    return extents, intents\n",
    "\n",
    "def in_close(adjacency, context, extents, intents, r=0, y=0, min_support=0, max_support=np.inf, names_col=[], \n",
    "             verbose=True):\n",
    "    global r_new\n",
    "    r_new = r_new + 1\n",
    "    \n",
    "    if verbose:\n",
    "        print(f'NEW ITERATION \\n --------')\n",
    "        print(f'r: {r} - r_new: {r_new}')\n",
    "        # ------------------------------------------------\n",
    "        print(f'|extents[r]|: {len(extents[r])} - intents[r]: {names_col[intents[r]]}')\n",
    "    \n",
    "    for j in np.arange(context.shape[1])[y:]:\n",
    "\n",
    "        try:\n",
    "            extents[r_new] = []\n",
    "        except IndexError:\n",
    "            extents.append([])\n",
    "\n",
    "        # Form a new extent by adding extension of attribute j to current concept extent\n",
    "        ext_j = set(extension([j], context))\n",
    "        extents[r_new] = list(sorted(set(extents[r]).intersection(ext_j)))\n",
    "        len_new_extent = len(extents[r_new])\n",
    "        \n",
    "        if verbose:\n",
    "            print(f'|extents|: {len(extents[r])} - intents: {names_col[intents[r]]}')\n",
    "            print(f'  Candidate attr: {names_col[j]} - ({j})')\n",
    "            print(f'  new extent: {extents[r_new]}')\n",
    "        \n",
    "        if (len_new_extent > min_support) and (len_new_extent < max_support):\n",
    "                       \n",
    "            if len_new_extent - len(extents[r]) == 0:\n",
    "                if verbose:\n",
    "                    print(f'  Extent size did not change -> attribute {names_col[j]} is added to intent.')\n",
    "                intents[r] = list(sorted(set(intents[r]).union(set([j]))))                \n",
    "            else:\n",
    "                if verbose:\n",
    "                    print(f'  Extent size DID change. IsCannonical: {is_cannonical(context, extents, intents, r, j - 1)}')\n",
    "                if is_cannonical(context, extents, intents, r, j - 1):\n",
    "                    try:\n",
    "                        intents[r_new] = []\n",
    "                    except IndexError:\n",
    "                        intents.append([])\n",
    "\n",
    "                    intents[r_new] = list(sorted(set(intents[r]).union(set([j]))))\n",
    "                    \n",
    "                    if verbose:\n",
    "                        print(f'  --> Enter recursion with Intent: {names_col[intents[r_new]]}...')\n",
    "                    in_close(adjacency, context, extents, intents, r=r_new, y=j+1, min_support=min_support, max_support=max_support, \n",
    "                                     names_col=names_col, verbose=verbose)\n",
    "\n",
    "    if verbose:\n",
    "        print(f'**END FUNCTION')\n",
    "        #print(f'**concept: ({[*zip(extents, intents)]})')\n",
    "    \n",
    "    return [*zip(extents, intents)]"
   ]
  },
  {
   "cell_type": "markdown",
   "id": "01dcbcb0-f378-468a-ab68-8a47adde7242",
   "metadata": {},
   "source": [
    "### Verif on small dataset"
   ]
  },
  {
   "cell_type": "code",
   "execution_count": 9,
   "id": "6ba4435c-dc12-4ddd-a2bb-55f1a3c77502",
   "metadata": {},
   "outputs": [
    {
     "data": {
      "image/svg+xml": [
       "<svg xmlns=\"http://www.w3.org/2000/svg\" width=\"893.2117722483616\" height=\"340\">\n",
       "<path stroke-width=\"1\" stroke=\"gray\" d=\"M 369 20 20 21\"/>\n",
       "<path stroke-width=\"1\" stroke=\"gray\" d=\"M 369 20 199 81\"/>\n",
       "<path stroke-width=\"1\" stroke=\"gray\" d=\"M 20 21 369 20\"/>\n",
       "<path stroke-width=\"1\" stroke=\"gray\" d=\"M 20 21 199 81\"/>\n",
       "<path stroke-width=\"1\" stroke=\"gray\" d=\"M 199 81 369 20\"/>\n",
       "<path stroke-width=\"1\" stroke=\"gray\" d=\"M 199 81 20 21\"/>\n",
       "<path stroke-width=\"1\" stroke=\"gray\" d=\"M 199 81 225 170\"/>\n",
       "<path stroke-width=\"1\" stroke=\"gray\" d=\"M 225 170 199 81\"/>\n",
       "<path stroke-width=\"1\" stroke=\"gray\" d=\"M 225 170 241 256\"/>\n",
       "<path stroke-width=\"1\" stroke=\"gray\" d=\"M 241 256 225 170\"/>\n",
       "<path stroke-width=\"1\" stroke=\"gray\" d=\"M 241 256 85 320\"/>\n",
       "<path stroke-width=\"1\" stroke=\"gray\" d=\"M 241 256 420 318\"/>\n",
       "<path stroke-width=\"1\" stroke=\"gray\" d=\"M 85 320 241 256\"/>\n",
       "<path stroke-width=\"1\" stroke=\"gray\" d=\"M 85 320 420 318\"/>\n",
       "<path stroke-width=\"1\" stroke=\"gray\" d=\"M 420 318 241 256\"/>\n",
       "<path stroke-width=\"1\" stroke=\"gray\" d=\"M 420 318 85 320\"/>\n",
       "<circle cx=\"369\" cy=\"20\" r=\"7.0\" style=\"fill:gray;stroke:black;stroke-width:1.0\"/>\n",
       "<circle cx=\"20\" cy=\"21\" r=\"7.0\" style=\"fill:gray;stroke:black;stroke-width:1.0\"/>\n",
       "<circle cx=\"199\" cy=\"81\" r=\"7.0\" style=\"fill:gray;stroke:black;stroke-width:1.0\"/>\n",
       "<circle cx=\"225\" cy=\"170\" r=\"7.0\" style=\"fill:gray;stroke:black;stroke-width:1.0\"/>\n",
       "<circle cx=\"241\" cy=\"256\" r=\"7.0\" style=\"fill:gray;stroke:black;stroke-width:1.0\"/>\n",
       "<circle cx=\"85\" cy=\"320\" r=\"7.0\" style=\"fill:gray;stroke:black;stroke-width:1.0\"/>\n",
       "<circle cx=\"420\" cy=\"318\" r=\"7.0\" style=\"fill:gray;stroke:black;stroke-width:1.0\"/>\n",
       "<text text-anchor=\"start\" x=\"379\" y=\"20\" font-size=\"12\">0-['Chess' 'Kasparov' 'be' 'to']</text><text text-anchor=\"start\" x=\"30\" y=\"21\" font-size=\"12\">1-['Chess' 'Kasparov' 'be' 'to']</text><text text-anchor=\"start\" x=\"209\" y=\"81\" font-size=\"12\">2-['Chess' 'Kasparov' 'be' 'to']</text><text text-anchor=\"start\" x=\"235\" y=\"170\" font-size=\"12\">3-['Chess' 'Kasparov' 'be' 'to' 'my' 'Boxing' 'match']</text><text text-anchor=\"start\" x=\"251\" y=\"256\" font-size=\"12\">4-['be' 'to' 'my' 'Boxing' 'match']</text><text text-anchor=\"start\" x=\"95\" y=\"320\" font-size=\"12\">5-['be' 'to' 'my' 'Boxing' 'match']</text><text text-anchor=\"start\" x=\"430\" y=\"318\" font-size=\"12\">6-['be' 'to' 'my' 'Boxing' 'match']</text></svg>"
      ],
      "text/plain": [
       "<IPython.core.display.SVG object>"
      ]
     },
     "execution_count": 9,
     "metadata": {},
     "output_type": "execute_result"
    }
   ],
   "source": [
    "G10 = sparse.csr_matrix(np.array([\n",
    "    [0, 1, 1, 0, 0, 0, 0],\n",
    "    [1, 0, 1, 0, 0, 0, 0],\n",
    "    [1, 1, 0, 1, 0, 0, 0],\n",
    "    [0, 0, 1, 0, 1, 0, 0],\n",
    "    [0, 0, 0, 1, 0, 1, 1],\n",
    "    [0, 0, 0, 0, 1, 0, 1],\n",
    "    [0, 0, 0, 0, 1, 1, 0]\n",
    "]))\n",
    "X10 = sparse.csr_matrix(np.array([\n",
    "    [2, 1, 4, 5, 0, 0, 0],\n",
    "    [2, 1, 5, 4, 0, 0, 0],\n",
    "    [1, 2, 6, 3, 0, 0, 0],\n",
    "    [1, 1, 4, 3, 1, 1, 1],\n",
    "    [0, 0, 2, 5, 1, 2, 1],\n",
    "    [0, 0, 3, 5, 1, 1, 2],\n",
    "    [0, 0, 4, 4, 2, 1, 1]\n",
    "]))\n",
    "names10 = np.array(range(G10.shape[0])).astype(str)\n",
    "names_col10 = np.array(['Chess', 'Kasparov', 'be', 'to', 'my', 'Boxing', 'match'])\n",
    "SVG(svg_graph(G10, names=[n + '-' + str(names_col10[x.indices]) for n, x in zip(names10, X10)]))"
   ]
  },
  {
   "cell_type": "code",
   "execution_count": 26,
   "id": "ae7dc9ea-499e-45f3-bccc-1e0b8f73f635",
   "metadata": {},
   "outputs": [
    {
     "name": "stdout",
     "output_type": "stream",
     "text": [
      "NEW ITERATION \n",
      " --------\n",
      "r: 0 - r_new: 1\n",
      "|extents[r]|: 7 - intents[r]: []\n",
      "  Extent size DID change. IsCannonical: True\n",
      "  --> Enter recursion with Intent: ['Chess']...\n",
      "NEW ITERATION \n",
      " --------\n",
      "r: 1 - r_new: 2\n",
      "|extents[r]|: 4 - intents[r]: ['Chess']\n",
      "  Extent size did not change -> attribute Kasparov is added to intent.\n",
      "  Extent size DID change. IsCannonical: True\n",
      "  --> Enter recursion with Intent: ['Chess' 'Kasparov' 'my']...\n",
      "NEW ITERATION \n",
      " --------\n",
      "r: 2 - r_new: 3\n",
      "|extents[r]|: 1 - intents[r]: ['Chess' 'Kasparov' 'my']\n",
      "  Extent size did not change -> attribute Boxing is added to intent.\n",
      "  Extent size did not change -> attribute match is added to intent.\n",
      "  Extent size did not change -> attribute be is added to intent.\n",
      "  Extent size did not change -> attribute to is added to intent.\n",
      "**END FUNCTION\n",
      "**concept: ([(array([0, 1, 2, 3, 4, 5, 6]), []), ([0, 1, 2, 3], [0, 1]), ([3], [0, 1, 2, 3, 4, 5, 6])])\n",
      "  Extent size DID change. IsCannonical: False\n",
      "  Extent size DID change. IsCannonical: False\n",
      "  Extent size did not change -> attribute be is added to intent.\n",
      "  Extent size did not change -> attribute to is added to intent.\n",
      "**END FUNCTION\n",
      "**concept: ([(array([0, 1, 2, 3, 4, 5, 6]), []), ([0, 1, 2, 3], [0, 1, 5, 6]), ([3], [0, 1, 2, 3, 4, 5, 6])])\n",
      "  Extent size DID change. IsCannonical: False\n",
      "  Extent size DID change. IsCannonical: True\n",
      "  --> Enter recursion with Intent: ['my']...\n",
      "NEW ITERATION \n",
      " --------\n",
      "r: 3 - r_new: 4\n",
      "|extents[r]|: 4 - intents[r]: ['my']\n",
      "  Extent size did not change -> attribute Boxing is added to intent.\n",
      "  Extent size did not change -> attribute match is added to intent.\n",
      "  Extent size did not change -> attribute be is added to intent.\n",
      "  Extent size did not change -> attribute to is added to intent.\n",
      "**END FUNCTION\n",
      "**concept: ([(array([0, 1, 2, 3, 4, 5, 6]), []), ([0, 1, 2, 3], [0, 1, 5, 6]), ([3], [0, 1, 2, 3, 4, 5, 6]), ([3, 4, 5, 6], [2, 3, 4, 5, 6])])\n",
      "  Extent size DID change. IsCannonical: False\n",
      "  Extent size DID change. IsCannonical: False\n",
      "  Extent size did not change -> attribute be is added to intent.\n",
      "  Extent size did not change -> attribute to is added to intent.\n",
      "**END FUNCTION\n",
      "**concept: ([(array([0, 1, 2, 3, 4, 5, 6]), [5, 6]), ([0, 1, 2, 3], [0, 1, 5, 6]), ([3], [0, 1, 2, 3, 4, 5, 6]), ([3, 4, 5, 6], [2, 3, 4, 5, 6])])\n"
     ]
    }
   ],
   "source": [
    "# Initialization\n",
    "extents, intents = init_inclose(X10)\n",
    "degs = get_degrees(X10, transpose=True)\n",
    "global r_new\n",
    "r_new = 0\n",
    "\n",
    "# Degree of attribute = # articles in which it appears\n",
    "freq_attribute = get_degrees(X10.astype(bool), transpose=True)\n",
    "index = np.flatnonzero((freq_attribute <= 1000) & (freq_attribute >= 0))\n",
    "\n",
    "# Filter data with index\n",
    "biadjacency = X10[:, index]\n",
    "words = names_col10[index]\n",
    "freq_attribute = freq_attribute[index]\n",
    "\n",
    "# Order attributes according to their ascending degree\n",
    "# This allows to add first attributes that will generate bigger subgraphs\n",
    "sort_index = np.argsort(freq_attribute)\n",
    "sorted_degs = freq_attribute[sort_index]\n",
    "filt_biadjacency = biadjacency[:, sort_index]\n",
    "sorted_names_col = words[sort_index]\n",
    "\n",
    "# Run algorithm\n",
    "concepts = in_close(G10, filt_biadjacency, extents, intents, r=0, y=0, \n",
    "                                min_support=0, max_support=1000,\n",
    "                                names_col=sorted_names_col)"
   ]
  },
  {
   "cell_type": "code",
   "execution_count": 27,
   "id": "917d1c54-ea29-40fb-b8d5-4f0caeae0508",
   "metadata": {},
   "outputs": [
    {
     "name": "stdout",
     "output_type": "stream",
     "text": [
      "[0 1 2 3 4 5 6] ['be' 'to']\n",
      "[0, 1, 2, 3] ['Chess' 'Kasparov' 'be' 'to']\n",
      "[3] ['Chess' 'Kasparov' 'my' 'Boxing' 'match' 'be' 'to']\n",
      "[3, 4, 5, 6] ['my' 'Boxing' 'match' 'be' 'to']\n"
     ]
    }
   ],
   "source": [
    "\"\"\"for c in concepts:\n",
    "    print(c[0], names_col10[c[1]])\"\"\"\n",
    "for c in concepts:\n",
    "    print(c[0], sorted_names_col[c[1]])"
   ]
  },
  {
   "cell_type": "code",
   "execution_count": 25,
   "id": "9b13535f-0989-4109-9a16-3a09854cb9d7",
   "metadata": {},
   "outputs": [
    {
     "data": {
      "image/svg+xml": [
       "<svg xmlns=\"http://www.w3.org/2000/svg\" width=\"884.1089823207324\" height=\"340\">\n",
       "<path stroke-width=\"1\" stroke=\"gray\" d=\"M 257 320 20 315\"/>\n",
       "<path stroke-width=\"1\" stroke=\"gray\" d=\"M 257 320 169 257\"/>\n",
       "<path stroke-width=\"1\" stroke=\"gray\" d=\"M 20 315 257 320\"/>\n",
       "<path stroke-width=\"1\" stroke=\"gray\" d=\"M 20 315 169 257\"/>\n",
       "<path stroke-width=\"1\" stroke=\"gray\" d=\"M 169 257 257 320\"/>\n",
       "<path stroke-width=\"1\" stroke=\"gray\" d=\"M 169 257 20 315\"/>\n",
       "<path stroke-width=\"1\" stroke=\"gray\" d=\"M 169 257 216 170\"/>\n",
       "<path stroke-width=\"1\" stroke=\"gray\" d=\"M 216 170 169 257\"/>\n",
       "<path stroke-width=\"1\" stroke=\"gray\" d=\"M 216 170 265 84\"/>\n",
       "<path stroke-width=\"1\" stroke=\"gray\" d=\"M 265 84 216 170\"/>\n",
       "<path stroke-width=\"1\" stroke=\"gray\" d=\"M 265 84 420 25\"/>\n",
       "<path stroke-width=\"1\" stroke=\"gray\" d=\"M 265 84 182 20\"/>\n",
       "<path stroke-width=\"1\" stroke=\"gray\" d=\"M 420 25 265 84\"/>\n",
       "<path stroke-width=\"1\" stroke=\"gray\" d=\"M 420 25 182 20\"/>\n",
       "<path stroke-width=\"1\" stroke=\"gray\" d=\"M 182 20 265 84\"/>\n",
       "<path stroke-width=\"1\" stroke=\"gray\" d=\"M 182 20 420 25\"/>\n",
       "<circle cx=\"257\" cy=\"320\" r=\"7.0\" style=\"fill:gray;stroke:black;stroke-width:1.0\"/>\n",
       "<circle cx=\"20\" cy=\"315\" r=\"7.0\" style=\"fill:gray;stroke:black;stroke-width:1.0\"/>\n",
       "<circle cx=\"169\" cy=\"257\" r=\"7.0\" style=\"fill:gray;stroke:black;stroke-width:1.0\"/>\n",
       "<circle cx=\"216\" cy=\"170\" r=\"7.0\" style=\"fill:gray;stroke:black;stroke-width:1.0\"/>\n",
       "<circle cx=\"265\" cy=\"84\" r=\"7.0\" style=\"fill:gray;stroke:black;stroke-width:1.0\"/>\n",
       "<circle cx=\"420\" cy=\"25\" r=\"7.0\" style=\"fill:gray;stroke:black;stroke-width:1.0\"/>\n",
       "<circle cx=\"182\" cy=\"20\" r=\"7.0\" style=\"fill:gray;stroke:black;stroke-width:1.0\"/>\n",
       "<text text-anchor=\"start\" x=\"267\" y=\"320\" font-size=\"12\">0-['Chess' 'Kasparov' 'be' 'to']</text><text text-anchor=\"start\" x=\"30\" y=\"315\" font-size=\"12\">1-['Chess' 'Kasparov' 'be' 'to']</text><text text-anchor=\"start\" x=\"179\" y=\"257\" font-size=\"12\">2-['Chess' 'Kasparov' 'be' 'to']</text><text text-anchor=\"start\" x=\"226\" y=\"170\" font-size=\"12\">3-['Chess' 'Kasparov' 'be' 'to' 'my' 'Boxing' 'match']</text><text text-anchor=\"start\" x=\"275\" y=\"84\" font-size=\"12\">4-['be' 'to' 'my' 'Boxing' 'match']</text><text text-anchor=\"start\" x=\"430\" y=\"25\" font-size=\"12\">5-['be' 'to' 'my' 'Boxing' 'match']</text><text text-anchor=\"start\" x=\"192\" y=\"20\" font-size=\"12\">6-['be' 'to' 'my' 'Boxing' 'match']</text></svg>"
      ],
      "text/plain": [
       "<IPython.core.display.SVG object>"
      ]
     },
     "execution_count": 25,
     "metadata": {},
     "output_type": "execute_result"
    }
   ],
   "source": [
    "SVG(svg_graph(G10, names=[n + '-' + str(names_col10[x.indices]) for n, x in zip(names10, X10)]))"
   ]
  },
  {
   "cell_type": "markdown",
   "id": "82c03ad7-3dcf-4398-bf92-d69d4642ed86",
   "metadata": {},
   "source": [
    "$\\rightarrow$ OK on small dataset"
   ]
  },
  {
   "cell_type": "markdown",
   "id": "a54e899d-5721-49e2-a6b6-7cb33e59f1b3",
   "metadata": {},
   "source": [
    "### Large dataset"
   ]
  },
  {
   "cell_type": "code",
   "execution_count": 160,
   "id": "cb6f3b7b-c0e4-4b1a-a840-ab8c2872dee8",
   "metadata": {},
   "outputs": [
    {
     "name": "stdout",
     "output_type": "stream",
     "text": [
      "Parsing files...\n",
      "Done.\n"
     ]
    }
   ],
   "source": [
    "wikivitals = load_netset('wikivitals')\n",
    "adjacency = wikivitals.adjacency\n",
    "biadjacency = wikivitals.biadjacency\n",
    "names = wikivitals.names\n",
    "words = wikivitals.names_col\n",
    "labels = wikivitals.labels"
   ]
  },
  {
   "cell_type": "code",
   "execution_count": 161,
   "id": "bc8e91a0-0ea0-45cb-85da-a624a0fd9559",
   "metadata": {},
   "outputs": [],
   "source": [
    "# Initialization\n",
    "extents, intents = init_inclose(biadjacency)\n",
    "degs = get_degrees(biadjacency, transpose=True)\n",
    "global r_new\n",
    "r_new = 0\n",
    "\n",
    "# Degree of attribute = # articles in which it appears\n",
    "freq_attribute = get_degrees(biadjacency.astype(bool), transpose=True)\n",
    "index = np.flatnonzero((freq_attribute <= 1000) & (freq_attribute >= 100))\n",
    "\n",
    "# Filter data with index\n",
    "biadjacency = biadjacency[:, index]\n",
    "words = words[index]\n",
    "freq_attribute = freq_attribute[index]\n",
    "\n",
    "# Order attributes according to their ascending degree\n",
    "# This allows to add first attributes that will generate bigger subgraphs\n",
    "#sort_index = np.argsort(freq_attribute)\n",
    "#sorted_degs = freq_attribute[sort_index]\n",
    "#filt_biadjacency = biadjacency[:, sort_index]\n",
    "#sorted_names_col = words[sort_index]"
   ]
  },
  {
   "cell_type": "code",
   "execution_count": 162,
   "id": "0e250030-24f9-4a4f-a094-f8889d56551b",
   "metadata": {},
   "outputs": [
    {
     "data": {
      "text/plain": [
       "(10011, 2020)"
      ]
     },
     "execution_count": 162,
     "metadata": {},
     "output_type": "execute_result"
    }
   ],
   "source": [
    "biadjacency.shape"
   ]
  },
  {
   "cell_type": "code",
   "execution_count": null,
   "id": "dadfd4f0-d19f-4ca9-a7fd-5c5ceb38c3ce",
   "metadata": {},
   "outputs": [],
   "source": [
    "%%time\n",
    "\n",
    "# Run algorithm\n",
    "with open('logs/log_wikivitals.txt', 'w') as f:\n",
    "    with redirect_stdout(f):\n",
    "        concepts = in_close(adjacency, biadjacency, extents, intents, r=0, y=0, \n",
    "                                min_support=20, max_support=1000,\n",
    "                                names_col=words, verbose=True)"
   ]
  },
  {
   "cell_type": "code",
   "execution_count": null,
   "id": "1b839d20-aa01-42c2-84b9-e61befb49046",
   "metadata": {},
   "outputs": [],
   "source": [
    "print(f'# concepts: {len(concepts)}')"
   ]
  },
  {
   "cell_type": "code",
   "execution_count": null,
   "id": "d84db1c7-5a4a-4df1-9508-3983fd974a4c",
   "metadata": {},
   "outputs": [],
   "source": [
    "concepts"
   ]
  },
  {
   "cell_type": "code",
   "execution_count": null,
   "id": "26c7632f-153c-4a24-bacc-741c23076d17",
   "metadata": {},
   "outputs": [],
   "source": []
  }
 ],
 "metadata": {
  "kernelspec": {
   "display_name": "COMEG",
   "language": "python",
   "name": "comeg"
  },
  "language_info": {
   "codemirror_mode": {
    "name": "ipython",
    "version": 3
   },
   "file_extension": ".py",
   "mimetype": "text/x-python",
   "name": "python",
   "nbconvert_exporter": "python",
   "pygments_lexer": "ipython3",
   "version": "3.9.15"
  }
 },
 "nbformat": 4,
 "nbformat_minor": 5
}
